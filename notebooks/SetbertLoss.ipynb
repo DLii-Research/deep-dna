{
 "cells": [
  {
   "cell_type": "code",
   "execution_count": 4,
   "metadata": {},
   "outputs": [],
   "source": [
    "import numpy as np\n",
    "import tensorflow as tf\n",
    "from scipy.spatial.distance import cdist"
   ]
  },
  {
   "cell_type": "code",
   "execution_count": 51,
   "metadata": {},
   "outputs": [
    {
     "data": {
      "text/plain": [
       "(<tf.Tensor: shape=(2, 5, 5), dtype=float32, numpy=\n",
       " array([[[3., 1., 9., 8., 0.],\n",
       "         [9., 4., 8., 1., 6.],\n",
       "         [3., 2., 0., 3., 5.],\n",
       "         [7., 4., 3., 8., 3.],\n",
       "         [2., 9., 7., 2., 5.]],\n",
       " \n",
       "        [[5., 1., 3., 7., 4.],\n",
       "         [5., 9., 8., 7., 7.],\n",
       "         [7., 0., 1., 9., 4.],\n",
       "         [4., 7., 6., 8., 6.],\n",
       "         [0., 4., 1., 6., 3.]]], dtype=float32)>,\n",
       " <tf.Tensor: shape=(2, 5, 5), dtype=float32, numpy=\n",
       " array([[[3., 4., 3., 9., 8.],\n",
       "         [2., 0., 3., 9., 2.],\n",
       "         [6., 6., 9., 5., 2.],\n",
       "         [7., 3., 9., 3., 9.],\n",
       "         [4., 3., 3., 1., 6.]],\n",
       " \n",
       "        [[3., 8., 2., 8., 2.],\n",
       "         [8., 7., 6., 5., 0.],\n",
       "         [5., 2., 6., 9., 2.],\n",
       "         [3., 9., 3., 2., 9.],\n",
       "         [3., 3., 4., 9., 5.]]], dtype=float32)>)"
      ]
     },
     "execution_count": 51,
     "metadata": {},
     "output_type": "execute_result"
    }
   ],
   "source": [
    "a = tf.cast(tf.random.uniform((2, 5, 5), 0, 10, dtype=tf.int32), dtype=tf.float32)\n",
    "b = tf.cast(tf.random.uniform((2, 5, 5), 0, 10, dtype=tf.int32), dtype=tf.float32)\n",
    "a, b"
   ]
  },
  {
   "cell_type": "code",
   "execution_count": 52,
   "metadata": {},
   "outputs": [],
   "source": [
    "def pairwise_dist (A, B):  \n",
    "    \"\"\"\n",
    "    Computes pairwise distances between each elements of A and each elements of B.\n",
    "    Args:\n",
    "        A,    [b,m,d] matrix\n",
    "        B,    [b,n,d] matrix\n",
    "    Returns:\n",
    "        D,    [b,m,n] matrix of pairwise distances\n",
    "    \"\"\"\n",
    "    # squared norms of each row in A and B\n",
    "    na = tf.reduce_sum(tf.square(A), 2)\n",
    "    nb = tf.reduce_sum(tf.square(B), 2)\n",
    "\n",
    "    # na as a row and nb as a co\"lumn vectors\n",
    "    na = tf.reshape(na, (tf.shape(na)[0], -1, 1))\n",
    "    nb = tf.reshape(nb, (tf.shape(nb)[0], 1, -1))\n",
    "\n",
    "    # return pairwise euclidead difference matrix\n",
    "    D = tf.sqrt(tf.maximum(na - 2*tf.matmul(A, B, False, True) + nb, 0.0))\n",
    "    return D"
   ]
  },
  {
   "cell_type": "code",
   "execution_count": 53,
   "metadata": {},
   "outputs": [
    {
     "data": {
      "text/plain": [
       "(<tf.Tensor: shape=(1, 5, 5), dtype=float32, numpy=\n",
       " array([[[0., 0., 0., 0., 0.],\n",
       "         [1., 1., 1., 1., 1.],\n",
       "         [2., 2., 2., 2., 2.],\n",
       "         [3., 3., 3., 3., 3.],\n",
       "         [4., 4., 4., 4., 4.]]], dtype=float32)>,\n",
       " <tf.Tensor: shape=(1, 5, 5), dtype=float32, numpy=\n",
       " array([[[0., 1., 2., 3., 4.],\n",
       "         [0., 1., 2., 3., 4.],\n",
       "         [0., 1., 2., 3., 4.],\n",
       "         [0., 1., 2., 3., 4.],\n",
       "         [0., 1., 2., 3., 4.]]], dtype=float32)>)"
      ]
     },
     "execution_count": 53,
     "metadata": {},
     "output_type": "execute_result"
    }
   ],
   "source": [
    "distances = pairwise_dist(a, b)\n",
    "x = tf.cast(tf.tile(tf.reshape(tf.range(5), (1, 5, 1)), (1, 1, 5)), dtype=tf.float32)\n",
    "y = tf.transpose(x, (0, 2, 1))\n",
    "x, y"
   ]
  },
  {
   "cell_type": "code",
   "execution_count": 55,
   "metadata": {},
   "outputs": [
    {
     "data": {
      "text/plain": [
       "<tf.Tensor: shape=(2, 25, 3), dtype=float32, numpy=\n",
       "array([[[10.488088 ,  0.       ,  0.       ],\n",
       "        [ 6.5574384,  0.       ,  1.       ],\n",
       "        [ 6.8556542,  0.       ,  2.       ],\n",
       "        [11.224972 ,  0.       ,  3.       ],\n",
       "        [11.224972 ,  0.       ,  4.       ],\n",
       "        [11.357817 ,  1.       ,  0.       ],\n",
       "        [13.038404 ,  1.       ,  1.       ],\n",
       "        [ 6.7823296,  1.       ,  2.       ],\n",
       "        [ 4.3588986,  1.       ,  3.       ],\n",
       "        [ 7.1414285,  1.       ,  4.       ],\n",
       "        [ 7.6157727,  2.       ,  0.       ],\n",
       "        [ 7.6811457,  2.       ,  1.       ],\n",
       "        [10.908711 ,  2.       ,  2.       ],\n",
       "        [10.677078 ,  2.       ,  3.       ],\n",
       "        [ 4.       ,  2.       ,  4.       ],\n",
       "        [ 6.4807405,  3.       ,  0.       ],\n",
       "        [ 6.5574384,  3.       ,  1.       ],\n",
       "        [ 7.1414285,  3.       ,  2.       ],\n",
       "        [ 9.899494 ,  3.       ,  3.       ],\n",
       "        [ 8.246211 ,  3.       ,  4.       ],\n",
       "        [10.       ,  4.       ,  0.       ],\n",
       "        [12.4499   ,  4.       ,  1.       ],\n",
       "        [ 6.8556542,  4.       ,  2.       ],\n",
       "        [ 9.055385 ,  4.       ,  3.       ],\n",
       "        [ 7.6157727,  4.       ,  4.       ]],\n",
       "\n",
       "       [[ 7.6811457,  0.       ,  0.       ],\n",
       "        [ 8.6023245,  0.       ,  1.       ],\n",
       "        [ 4.2426405,  0.       ,  2.       ],\n",
       "        [10.862781 ,  0.       ,  3.       ],\n",
       "        [ 3.7416573,  0.       ,  4.       ],\n",
       "        [ 8.185352 ,  1.       ,  0.       ],\n",
       "        [ 8.3666   ,  1.       ,  1.       ],\n",
       "        [ 9.055385 ,  1.       ,  2.       ],\n",
       "        [ 7.6157727,  1.       ,  3.       ],\n",
       "        [ 8.       ,  1.       ,  4.       ],\n",
       "        [ 9.273618 ,  2.       ,  0.       ],\n",
       "        [10.34408  ,  2.       ,  1.       ],\n",
       "        [ 6.0827622,  2.       ,  2.       ],\n",
       "        [13.228757 ,  2.       ,  3.       ],\n",
       "        [ 5.9160795,  2.       ,  4.       ],\n",
       "        [ 5.8309517,  3.       ,  0.       ],\n",
       "        [ 7.8102493,  3.       ,  1.       ],\n",
       "        [ 6.5574384,  3.       ,  2.       ],\n",
       "        [ 7.6811457,  3.       ,  3.       ],\n",
       "        [ 4.795831 ,  3.       ,  4.       ],\n",
       "        [ 5.5677643,  4.       ,  0.       ],\n",
       "        [10.392304 ,  4.       ,  1.       ],\n",
       "        [ 8.       ,  4.       ,  2.       ],\n",
       "        [ 9.486833 ,  4.       ,  3.       ],\n",
       "        [ 5.656854 ,  4.       ,  4.       ]]], dtype=float32)>"
      ]
     },
     "execution_count": 55,
     "metadata": {},
     "output_type": "execute_result"
    }
   ],
   "source": [
    "distance_tuples = tf.reshape(tf.concat((\n",
    "    tf.expand_dims(distances, axis=3),\n",
    "    tf.repeat(tf.expand_dims(x, axis=3), len(distances), axis=0),\n",
    "    tf.repeat(tf.expand_dims(tf.transpose(x, (0, 2, 1)), axis=3), len(distances), axis=0)\n",
    "), axis=3), (len(distances), -1, 3))\n",
    "distance_tuples"
   ]
  },
  {
   "cell_type": "code",
   "execution_count": 56,
   "metadata": {},
   "outputs": [
    {
     "data": {
      "text/plain": [
       "<tf.Tensor: shape=(2, 25), dtype=int32, numpy=\n",
       "array([[14,  8, 15,  1, 16,  7,  2, 22,  9, 17, 10, 24, 11, 19, 23, 18,\n",
       "        20,  0, 13, 12,  3,  4,  5, 21,  6],\n",
       "       [ 4,  2, 19, 20, 24, 15, 14, 12, 17,  8,  0, 18, 16,  9, 22,  5,\n",
       "         6,  1,  7, 10, 23, 11, 21,  3, 13]], dtype=int32)>"
      ]
     },
     "execution_count": 56,
     "metadata": {},
     "output_type": "execute_result"
    }
   ],
   "source": [
    "tf.argsort(distance_tuples[:,:,0], axis=1)"
   ]
  },
  {
   "cell_type": "code",
   "execution_count": 64,
   "metadata": {},
   "outputs": [
    {
     "data": {
      "text/plain": [
       "<tf.Tensor: shape=(2, 25, 3), dtype=float32, numpy=\n",
       "array([[[ 4.       ,  2.       ,  4.       ],\n",
       "        [ 4.3588986,  1.       ,  3.       ],\n",
       "        [ 6.4807405,  3.       ,  0.       ],\n",
       "        [ 6.5574384,  0.       ,  1.       ],\n",
       "        [ 6.5574384,  3.       ,  1.       ],\n",
       "        [ 6.7823296,  1.       ,  2.       ],\n",
       "        [ 6.8556542,  0.       ,  2.       ],\n",
       "        [ 6.8556542,  4.       ,  2.       ],\n",
       "        [ 7.1414285,  1.       ,  4.       ],\n",
       "        [ 7.1414285,  3.       ,  2.       ],\n",
       "        [ 7.6157727,  2.       ,  0.       ],\n",
       "        [ 7.6157727,  4.       ,  4.       ],\n",
       "        [ 7.6811457,  2.       ,  1.       ],\n",
       "        [ 8.246211 ,  3.       ,  4.       ],\n",
       "        [ 9.055385 ,  4.       ,  3.       ],\n",
       "        [ 9.899494 ,  3.       ,  3.       ],\n",
       "        [10.       ,  4.       ,  0.       ],\n",
       "        [10.488088 ,  0.       ,  0.       ],\n",
       "        [10.677078 ,  2.       ,  3.       ],\n",
       "        [10.908711 ,  2.       ,  2.       ],\n",
       "        [11.224972 ,  0.       ,  3.       ],\n",
       "        [11.224972 ,  0.       ,  4.       ],\n",
       "        [11.357817 ,  1.       ,  0.       ],\n",
       "        [12.4499   ,  4.       ,  1.       ],\n",
       "        [13.038404 ,  1.       ,  1.       ]],\n",
       "\n",
       "       [[ 3.7416573,  0.       ,  4.       ],\n",
       "        [ 4.2426405,  0.       ,  2.       ],\n",
       "        [ 4.795831 ,  3.       ,  4.       ],\n",
       "        [ 5.5677643,  4.       ,  0.       ],\n",
       "        [ 5.656854 ,  4.       ,  4.       ],\n",
       "        [ 5.8309517,  3.       ,  0.       ],\n",
       "        [ 5.9160795,  2.       ,  4.       ],\n",
       "        [ 6.0827622,  2.       ,  2.       ],\n",
       "        [ 6.5574384,  3.       ,  2.       ],\n",
       "        [ 7.6157727,  1.       ,  3.       ],\n",
       "        [ 7.6811457,  0.       ,  0.       ],\n",
       "        [ 7.6811457,  3.       ,  3.       ],\n",
       "        [ 7.8102493,  3.       ,  1.       ],\n",
       "        [ 8.       ,  1.       ,  4.       ],\n",
       "        [ 8.       ,  4.       ,  2.       ],\n",
       "        [ 8.185352 ,  1.       ,  0.       ],\n",
       "        [ 8.3666   ,  1.       ,  1.       ],\n",
       "        [ 8.6023245,  0.       ,  1.       ],\n",
       "        [ 9.055385 ,  1.       ,  2.       ],\n",
       "        [ 9.273618 ,  2.       ,  0.       ],\n",
       "        [ 9.486833 ,  4.       ,  3.       ],\n",
       "        [10.34408  ,  2.       ,  1.       ],\n",
       "        [10.392304 ,  4.       ,  1.       ],\n",
       "        [10.862781 ,  0.       ,  3.       ],\n",
       "        [13.228757 ,  2.       ,  3.       ]]], dtype=float32)>"
      ]
     },
     "execution_count": 64,
     "metadata": {},
     "output_type": "execute_result"
    }
   ],
   "source": [
    "distance_tuples = tf.gather(distance_tuples, tf.argsort(distance_tuples[:,:,0], stable=True, axis=1), batch_dims=1)\n",
    "distance_tuples"
   ]
  },
  {
   "cell_type": "code",
   "execution_count": null,
   "metadata": {},
   "outputs": [],
   "source": []
  },
  {
   "cell_type": "code",
   "execution_count": 34,
   "metadata": {},
   "outputs": [
    {
     "data": {
      "text/plain": [
       "<tf.Tensor: shape=(1, 25, 25, 3), dtype=float32, numpy=\n",
       "array([[[[0., 0., 0.],\n",
       "         [0., 0., 0.],\n",
       "         [0., 0., 0.],\n",
       "         ...,\n",
       "         [0., 0., 0.],\n",
       "         [0., 0., 0.],\n",
       "         [0., 0., 0.]],\n",
       "\n",
       "        [[0., 0., 0.],\n",
       "         [0., 0., 0.],\n",
       "         [0., 0., 0.],\n",
       "         ...,\n",
       "         [0., 0., 0.],\n",
       "         [0., 0., 0.],\n",
       "         [0., 0., 0.]],\n",
       "\n",
       "        [[0., 0., 0.],\n",
       "         [0., 0., 0.],\n",
       "         [0., 0., 0.],\n",
       "         ...,\n",
       "         [0., 0., 0.],\n",
       "         [0., 0., 0.],\n",
       "         [0., 0., 0.]],\n",
       "\n",
       "        ...,\n",
       "\n",
       "        [[0., 0., 0.],\n",
       "         [0., 0., 0.],\n",
       "         [0., 0., 0.],\n",
       "         ...,\n",
       "         [0., 0., 0.],\n",
       "         [0., 0., 0.],\n",
       "         [0., 0., 0.]],\n",
       "\n",
       "        [[0., 0., 0.],\n",
       "         [0., 0., 0.],\n",
       "         [0., 0., 0.],\n",
       "         ...,\n",
       "         [0., 0., 0.],\n",
       "         [0., 0., 0.],\n",
       "         [0., 0., 0.]],\n",
       "\n",
       "        [[0., 0., 0.],\n",
       "         [0., 0., 0.],\n",
       "         [0., 0., 0.],\n",
       "         ...,\n",
       "         [0., 0., 0.],\n",
       "         [0., 0., 0.],\n",
       "         [0., 0., 0.]]]], dtype=float32)>"
      ]
     },
     "execution_count": 34,
     "metadata": {},
     "output_type": "execute_result"
    }
   ],
   "source": [
    "tf.gather(distance_tuples, tf.argsort(distance_tuples[:,:,0], axis=1))"
   ]
  },
  {
   "cell_type": "code",
   "execution_count": null,
   "metadata": {},
   "outputs": [],
   "source": [
    "def emd():\n",
    "def pairwise_dist(A, B):  \n",
    "\"\"\"\n",
    "Computes pairwise distances between each elements of A and each elements of B.\n",
    "Args:\n",
    "    A,    [b,m,d] matrix\n",
    "    B,    [b,n,d] matrix\n",
    "Returns:\n",
    "    D,    [b,m,n] matrix of pairwise distances\n",
    "\"\"\"\n",
    "# squared norms of each row in A and B\n",
    "na = tf.reduce_sum(tf.square(A), 2)\n",
    "nb = tf.reduce_sum(tf.square(B), 2)\n",
    "\n",
    "# na as a row and nb as a co\"lumn vectors\n",
    "na = tf.reshape(na, [tf.shape(na)[0], -1, 1])\n",
    "nb = tf.reshape(nb, [tf.shape(nb)[0], 1, -1])\n",
    "\n",
    "# return pairwise euclidead difference matrix\n",
    "D = tf.sqrt(tf.maximum(na - 2*tf.matmul(A, B, False, True) + nb, 0.0))\n",
    "return D"
   ]
  },
  {
   "cell_type": "code",
   "execution_count": 67,
   "metadata": {},
   "outputs": [
    {
     "data": {
      "text/plain": [
       "<tf.Tensor: shape=(2, 5, 5), dtype=float32, numpy=\n",
       "array([[[0., 0., 0., 0., 0.],\n",
       "        [1., 1., 1., 1., 1.],\n",
       "        [2., 2., 2., 2., 2.],\n",
       "        [3., 3., 3., 3., 3.],\n",
       "        [4., 4., 4., 4., 4.]],\n",
       "\n",
       "       [[0., 0., 0., 0., 0.],\n",
       "        [1., 1., 1., 1., 1.],\n",
       "        [2., 2., 2., 2., 2.],\n",
       "        [3., 3., 3., 3., 3.],\n",
       "        [4., 4., 4., 4., 4.]]], dtype=float32)>"
      ]
     },
     "execution_count": 67,
     "metadata": {},
     "output_type": "execute_result"
    }
   ],
   "source": [
    "x = tf.cast(tf.tile(tf.reshape(tf.range(5), (1, 5, 1)), (2, 1, 5)), dtype=tf.float32)\n",
    "# tf.transpose(x, (0, 2, 1))\n",
    "x"
   ]
  },
  {
   "cell_type": "code",
   "execution_count": 51,
   "metadata": {},
   "outputs": [
    {
     "data": {
      "text/plain": [
       "<tf.Tensor: shape=(2, 5, 5), dtype=float32, numpy=\n",
       "array([[[0., 1., 2., 3., 4.],\n",
       "        [0., 1., 2., 3., 4.],\n",
       "        [0., 1., 2., 3., 4.],\n",
       "        [0., 1., 2., 3., 4.],\n",
       "        [0., 1., 2., 3., 4.]],\n",
       "\n",
       "       [[0., 1., 2., 3., 4.],\n",
       "        [0., 1., 2., 3., 4.],\n",
       "        [0., 1., 2., 3., 4.],\n",
       "        [0., 1., 2., 3., 4.],\n",
       "        [0., 1., 2., 3., 4.]]], dtype=float32)>"
      ]
     },
     "execution_count": 51,
     "metadata": {},
     "output_type": "execute_result"
    }
   ],
   "source": [
    "tf.transpose(x, (0, 2, 1))"
   ]
  },
  {
   "cell_type": "code",
   "execution_count": null,
   "metadata": {},
   "outputs": [],
   "source": [
    "x = tf.cast(tf.tile(tf.reshape(tf.range(5), (1, 5, 1)), (2, 1, 5)), dtype=tf.float32)"
   ]
  },
  {
   "cell_type": "code",
   "execution_count": 54,
   "metadata": {},
   "outputs": [
    {
     "data": {
      "text/plain": [
       "<tf.Tensor: shape=(2, 25, 3), dtype=float32, numpy=\n",
       "array([[[1.5659201 , 0.        , 0.        ],\n",
       "        [8.760424  , 0.        , 1.        ],\n",
       "        [2.3126996 , 0.        , 2.        ],\n",
       "        [3.5797644 , 0.        , 3.        ],\n",
       "        [5.9270597 , 0.        , 4.        ],\n",
       "        [2.0533168 , 1.        , 0.        ],\n",
       "        [2.8767252 , 1.        , 1.        ],\n",
       "        [4.6224523 , 1.        , 2.        ],\n",
       "        [6.0320663 , 1.        , 3.        ],\n",
       "        [9.790033  , 1.        , 4.        ],\n",
       "        [0.8180368 , 2.        , 0.        ],\n",
       "        [0.84044576, 2.        , 1.        ],\n",
       "        [7.638676  , 2.        , 2.        ],\n",
       "        [1.2282348 , 2.        , 3.        ],\n",
       "        [0.8541298 , 2.        , 4.        ],\n",
       "        [4.454981  , 3.        , 0.        ],\n",
       "        [2.3922575 , 3.        , 1.        ],\n",
       "        [6.586767  , 3.        , 2.        ],\n",
       "        [2.5384295 , 3.        , 3.        ],\n",
       "        [3.2339394 , 3.        , 4.        ],\n",
       "        [2.776121  , 4.        , 0.        ],\n",
       "        [7.5811157 , 4.        , 1.        ],\n",
       "        [8.117103  , 4.        , 2.        ],\n",
       "        [3.3676255 , 4.        , 3.        ],\n",
       "        [9.353437  , 4.        , 4.        ]],\n",
       "\n",
       "       [[7.214814  , 0.        , 0.        ],\n",
       "        [3.0998492 , 0.        , 1.        ],\n",
       "        [7.2483277 , 0.        , 2.        ],\n",
       "        [7.400048  , 0.        , 3.        ],\n",
       "        [4.1683474 , 0.        , 4.        ],\n",
       "        [7.1679854 , 1.        , 0.        ],\n",
       "        [9.7769375 , 1.        , 1.        ],\n",
       "        [7.8106666 , 1.        , 2.        ],\n",
       "        [8.87495   , 1.        , 3.        ],\n",
       "        [5.14091   , 1.        , 4.        ],\n",
       "        [0.6763029 , 2.        , 0.        ],\n",
       "        [8.847975  , 2.        , 1.        ],\n",
       "        [3.1562352 , 2.        , 2.        ],\n",
       "        [8.453194  , 2.        , 3.        ],\n",
       "        [9.174715  , 2.        , 4.        ],\n",
       "        [7.4059033 , 3.        , 0.        ],\n",
       "        [3.546238  , 3.        , 1.        ],\n",
       "        [4.6474314 , 3.        , 2.        ],\n",
       "        [3.1776404 , 3.        , 3.        ],\n",
       "        [2.4947488 , 3.        , 4.        ],\n",
       "        [6.0943375 , 4.        , 0.        ],\n",
       "        [7.231641  , 4.        , 1.        ],\n",
       "        [2.616793  , 4.        , 2.        ],\n",
       "        [2.5612962 , 4.        , 3.        ],\n",
       "        [1.7351174 , 4.        , 4.        ]]], dtype=float32)>"
      ]
     },
     "execution_count": 54,
     "metadata": {},
     "output_type": "execute_result"
    }
   ],
   "source": [
    "pairs = tf.reshape(tf.concat((\n",
    "    tf.expand_dims(distances, -1),\n",
    "    tf.expand_dims(x, -1),\n",
    "    tf.expand_dims(tf.transpose(x, (0, 2, 1)), -1),\n",
    "), -1), (2, -1, 3))\n",
    "pairs"
   ]
  },
  {
   "cell_type": "code",
   "execution_count": 78,
   "metadata": {},
   "outputs": [
    {
     "ename": "ValueError",
     "evalue": "XA must be a 2-dimensional array.",
     "output_type": "error",
     "traceback": [
      "\u001b[0;31m---------------------------------------------------------------------------\u001b[0m",
      "\u001b[0;31mValueError\u001b[0m                                Traceback (most recent call last)",
      "\u001b[1;32m/home/dwl2x/work/deep-dna/notebooks/SetbertLoss.ipynb Cell 7\u001b[0m in \u001b[0;36m3\n\u001b[1;32m      <a href='vscode-notebook-cell://ssh-remote%2Braziel/home/dwl2x/work/deep-dna/notebooks/SetbertLoss.ipynb#X32sdnNjb2RlLXJlbW90ZQ%3D%3D?line=0'>1</a>\u001b[0m a \u001b[39m=\u001b[39m np\u001b[39m.\u001b[39mrandom\u001b[39m.\u001b[39mnormal((\u001b[39m2\u001b[39m, \u001b[39m5\u001b[39m, \u001b[39m5\u001b[39m))\n\u001b[1;32m      <a href='vscode-notebook-cell://ssh-remote%2Braziel/home/dwl2x/work/deep-dna/notebooks/SetbertLoss.ipynb#X32sdnNjb2RlLXJlbW90ZQ%3D%3D?line=1'>2</a>\u001b[0m b \u001b[39m=\u001b[39m np\u001b[39m.\u001b[39mrandom\u001b[39m.\u001b[39mnormal((\u001b[39m2\u001b[39m, \u001b[39m5\u001b[39m, \u001b[39m5\u001b[39m))\n\u001b[0;32m----> <a href='vscode-notebook-cell://ssh-remote%2Braziel/home/dwl2x/work/deep-dna/notebooks/SetbertLoss.ipynb#X32sdnNjb2RlLXJlbW90ZQ%3D%3D?line=2'>3</a>\u001b[0m cdist(a, b)\n",
      "File \u001b[0;32m/opt/conda/lib/python3.10/site-packages/scipy/spatial/distance.py:2906\u001b[0m, in \u001b[0;36mcdist\u001b[0;34m(XA, XB, metric, out, **kwargs)\u001b[0m\n\u001b[1;32m   2903\u001b[0m sB \u001b[39m=\u001b[39m XB\u001b[39m.\u001b[39mshape\n\u001b[1;32m   2905\u001b[0m \u001b[39mif\u001b[39;00m \u001b[39mlen\u001b[39m(s) \u001b[39m!=\u001b[39m \u001b[39m2\u001b[39m:\n\u001b[0;32m-> 2906\u001b[0m     \u001b[39mraise\u001b[39;00m \u001b[39mValueError\u001b[39;00m(\u001b[39m'\u001b[39m\u001b[39mXA must be a 2-dimensional array.\u001b[39m\u001b[39m'\u001b[39m)\n\u001b[1;32m   2907\u001b[0m \u001b[39mif\u001b[39;00m \u001b[39mlen\u001b[39m(sB) \u001b[39m!=\u001b[39m \u001b[39m2\u001b[39m:\n\u001b[1;32m   2908\u001b[0m     \u001b[39mraise\u001b[39;00m \u001b[39mValueError\u001b[39;00m(\u001b[39m'\u001b[39m\u001b[39mXB must be a 2-dimensional array.\u001b[39m\u001b[39m'\u001b[39m)\n",
      "\u001b[0;31mValueError\u001b[0m: XA must be a 2-dimensional array."
     ]
    }
   ],
   "source": [
    "a = np.random.normal((2, 5, 5))\n",
    "b = np.random.normal((2, 5, 5))\n",
    "cdist(a, b)"
   ]
  },
  {
   "cell_type": "code",
   "execution_count": 81,
   "metadata": {},
   "outputs": [
    {
     "data": {
      "text/plain": [
       "<tf.Tensor: shape=(100,), dtype=int32, numpy=\n",
       "array([0, 0, 0, 0, 0, 0, 0, 0, 0, 0, 1, 1, 1, 1, 1, 1, 1, 1, 1, 1, 2, 2,\n",
       "       2, 2, 2, 2, 2, 2, 2, 2, 3, 3, 3, 3, 3, 3, 3, 3, 3, 3, 4, 4, 4, 4,\n",
       "       4, 4, 4, 4, 4, 4, 5, 5, 5, 5, 5, 5, 5, 5, 5, 5, 6, 6, 6, 6, 6, 6,\n",
       "       6, 6, 6, 6, 7, 7, 7, 7, 7, 7, 7, 7, 7, 7, 8, 8, 8, 8, 8, 8, 8, 8,\n",
       "       8, 8, 9, 9, 9, 9, 9, 9, 9, 9, 9, 9], dtype=int32)>"
      ]
     },
     "execution_count": 81,
     "metadata": {},
     "output_type": "execute_result"
    }
   ],
   "source": [
    "tf.repeat(tf.range(10), 10)"
   ]
  },
  {
   "cell_type": "code",
   "execution_count": 122,
   "metadata": {},
   "outputs": [],
   "source": [
    "class FastEmd(tf.keras.losses.Loss):\n",
    "    def __init__(self, loss_fn=tf.keras.losses.mean_squared_error, **kwargs):\n",
    "        super().__init__(**kwargs)\n",
    "        self.loss_fn = loss_fn\n",
    "    \n",
    "    def _loss_np(self, y_true, y_pred):\n",
    "        # num_batches = y_true.shape[0]\n",
    "        sorted_indices = np.zeros(tf.shape(y_true)[:2])\n",
    "        for batch_index, (a, b) in enumerate(zip(y_pred, y_true)):\n",
    "            visited_a, visited_b = set(), set()\n",
    "            distance = cdist(a, b).flatten()\n",
    "            indices = np.argsort(distance)\n",
    "            for i in indices:\n",
    "                from_index, to_index = i // 5, i % 5\n",
    "                if from_index in visited_a or to_index in visited_b:\n",
    "                    continue\n",
    "                sorted_indices[batch_index][len(visited_a)] += from_index\n",
    "                visited_a.add(from_index)\n",
    "                visited_b.add(to_index)\n",
    "        return sorted_indices\n",
    "    \n",
    "    def call(self, y_true, y_pred, sample_weight=None):\n",
    "        indices = tf.py_function(self._loss_np, (y_true, y_pred), tf.int32)\n",
    "        y_pred = tf.gather(y_pred, indices, batch_dims=1)\n",
    "        try:\n",
    "            return self.loss_fn(y_true, y_pred, sample_weight)\n",
    "        except:\n",
    "            return self.loss_fn(y_true, y_pred)\n",
    "        "
   ]
  },
  {
   "cell_type": "code",
   "execution_count": 123,
   "metadata": {},
   "outputs": [
    {
     "name": "stdout",
     "output_type": "stream",
     "text": [
      "[ 2 19 17 23 15  0 21 16  4 24  1 10 20  3 18  9  8 14 22  5 12  7  6 11\n",
      " 13]\n"
     ]
    },
    {
     "data": {
      "text/plain": [
       "<tf.Tensor: shape=(), dtype=float32, numpy=1.9545559>"
      ]
     },
     "execution_count": 123,
     "metadata": {},
     "output_type": "execute_result"
    }
   ],
   "source": [
    "loss_fn = FastEmd()\n",
    "loss_fn(tf.random.normal((1, 5, 5)), tf.random.normal((1, 5, 5)))"
   ]
  },
  {
   "cell_type": "code",
   "execution_count": 86,
   "metadata": {},
   "outputs": [],
   "source": [
    "def earth_mover_np(distance_tuples):\n",
    "    num_batches = distance_tuples.shape[0]\n",
    "    indices = np.argsort(distance_tuples[:, :, 0], axis=1)\n",
    "    total_distance = np.zeros(num_batches)\n",
    "    for i, group in enumerate(indices):\n",
    "        visited_from = set()\n",
    "        visited_to = set()\n",
    "        for j in group:\n",
    "            distance, from_index, to_index = pairs[i,j].numpy()\n",
    "            if from_index in visited_from or from_index in visited_to:\n",
    "                continue\n",
    "            visited_from.add(from_index)\n",
    "            visited_from.add(to_index)\n",
    "            total_distance[i] += distance\n",
    "    return total_distance"
   ]
  },
  {
   "cell_type": "code",
   "execution_count": 71,
   "metadata": {},
   "outputs": [],
   "source": [
    "import string\n",
    "\n",
    "def pdist(a, b):\n",
    "    \"\"\"Pairwise Euclidean distances between vectors contained at the back of tensors.\n",
    "\n",
    "    Uses expansion: (x - y)^T (x - y) = x^Tx - 2x^Ty + y^Ty \n",
    "\n",
    "    :param arr: (..., N, d) tensor\n",
    "    :returns: (..., N, N) tensor of pairwise distances between vectors in the second-to-last dim.\n",
    "    :rtype: tf.Tensor\n",
    "\n",
    "    \"\"\"\n",
    "    shape = tuple(a.get_shape().as_list())\n",
    "    rank_ = len(shape)\n",
    "    N, d = shape[-2:]\n",
    "\n",
    "    # Build a prefix from the array without the indices we'll use later.\n",
    "    pref = string.ascii_lowercase[:rank_ - 2]\n",
    "\n",
    "    # Outer product of points (..., N, N)\n",
    "    xxT = tf.einsum('{0}ni,{0}mi->{0}nm'.format(pref), a, b)\n",
    "\n",
    "    # Inner product of points. (..., N)\n",
    "    xTx = tf.einsum('{0}ni,{0}ni->{0}n'.format(pref), a, b)\n",
    "\n",
    "    # (..., N, N) inner products tiled.\n",
    "    xTx_tile = tf.tile(xTx[..., None], (1,) * (rank_ - 1) + (N,))\n",
    "\n",
    "    # Build the permuter. (sigh, no tf.swapaxes yet)\n",
    "    permute = list(range(rank_))\n",
    "    permute[-2], permute[-1] = permute[-1], permute[-2]\n",
    "\n",
    "    # dists = (x^Tx - 2x^Ty + y^Tx)^(1/2). Note the axis swapping is necessary to 'pair' x^Tx and y^Ty\n",
    "    return tf.sqrt(xTx_tile - 2 * xxT + tf.transpose(xTx_tile, permute))"
   ]
  },
  {
   "cell_type": "code",
   "execution_count": 73,
   "metadata": {},
   "outputs": [
    {
     "data": {
      "text/plain": [
       "<tf.Tensor: shape=(2, 5, 5), dtype=float32, numpy=\n",
       "array([[[0.0000000e+00,           nan,           nan, 3.4305346e+00,\n",
       "                   nan],\n",
       "        [1.6163690e+00, 0.0000000e+00,           nan, 4.4081535e+00,\n",
       "                   nan],\n",
       "        [          nan, 8.1776357e-01,           nan, 1.0487121e+00,\n",
       "                   nan],\n",
       "        [          nan,           nan, 3.0535650e+00, 0.0000000e+00,\n",
       "         2.7163122e+00],\n",
       "        [          nan,           nan,           nan,           nan,\n",
       "         0.0000000e+00]],\n",
       "\n",
       "       [[0.0000000e+00, 2.4481874e+00, 1.8555861e+00,           nan,\n",
       "         2.9149864e+00],\n",
       "        [          nan,           nan, 1.7503656e+00,           nan,\n",
       "                   nan],\n",
       "        [          nan, 2.5983584e+00, 6.9053395e-04, 2.0450380e+00,\n",
       "         2.9445617e+00],\n",
       "        [          nan,           nan, 1.3463805e+00,           nan,\n",
       "         1.2723845e+00],\n",
       "        [          nan, 1.1409109e+00, 2.5396392e+00,           nan,\n",
       "         4.8828125e-04]]], dtype=float32)>"
      ]
     },
     "execution_count": 73,
     "metadata": {},
     "output_type": "execute_result"
    }
   ],
   "source": [
    "a = tf.random.normal((2, 5, 5))\n",
    "b = tf.random.normal((2, 5, 5))\n",
    "pdist(a, b)"
   ]
  },
  {
   "cell_type": "code",
   "execution_count": 65,
   "metadata": {},
   "outputs": [
    {
     "data": {
      "text/plain": [
       "<tf.Tensor: shape=(2,), dtype=float64, numpy=array([ 8.03973198, 10.04707932])>"
      ]
     },
     "execution_count": 65,
     "metadata": {},
     "output_type": "execute_result"
    }
   ],
   "source": [
    "def loss_fn(y_true, y_pred):\n",
    "    batch_size = tf.shape(y_true)[0]\n",
    "    set_size = tf.shape(y_true)[1]\n",
    "    embed_dim = tf.shape(y_true)[2]\n",
    "    # compute distance\n",
    "    y = tf.cast(tf.tile(tf.reshape(tf.range(set_size), (1, set_size, 1)), (batch_size, 1, set_size)), dtype=tf.float32)\n",
    "    x = tf.transpose(y, (0, 2, 1))\n",
    "    pairs = tf.reshape(tf.concat((\n",
    "        tf.expand_dims(distances, -1),\n",
    "        tf.expand_dims(tf.transpose(x, (0, 2, 1)), -1),\n",
    "        tf.expand_dims(x, -1)\n",
    "    ), -1), (2, -1, 3))\n",
    "    return tf.numpy_function(earth_mover_np, [pairs], tf.float32)"
   ]
  },
  {
   "cell_type": "code",
   "execution_count": 64,
   "metadata": {},
   "outputs": [
    {
     "data": {
      "text/plain": [
       "array([ 8.03973198, 10.04707932])"
      ]
     },
     "execution_count": 64,
     "metadata": {},
     "output_type": "execute_result"
    }
   ],
   "source": [
    "earth_mover_np(pairs.numpy())"
   ]
  },
  {
   "cell_type": "code",
   "execution_count": 56,
   "metadata": {},
   "outputs": [
    {
     "data": {
      "text/plain": [
       "array([[10, 11, 14, 13,  0,  5,  2, 16, 18, 20,  6, 19, 23,  3, 15,  7,\n",
       "         4,  8, 17, 21, 12, 22,  1, 24,  9],\n",
       "       [10, 24, 19, 23, 22,  1, 12, 18, 16,  4, 17,  9, 20,  5,  0, 21,\n",
       "         2,  3, 15,  7, 13, 11,  8, 14,  6]])"
      ]
     },
     "execution_count": 56,
     "metadata": {},
     "output_type": "execute_result"
    }
   ],
   "source": [
    "indices = np.argsort(pairs[:,:,0], axis=1)\n",
    "indices"
   ]
  },
  {
   "cell_type": "code",
   "execution_count": 59,
   "metadata": {},
   "outputs": [],
   "source": [
    "total_distance = np.zeros((len(indices)))\n",
    "for i, group in enumerate(indices):\n",
    "    visited = set()\n",
    "    for j in group:\n",
    "        distance, from_index, to_index = pairs[i,j].numpy()\n",
    "        if from_index in visited:\n",
    "            continue\n",
    "        visited.add(from_index)\n",
    "        total_distance[i] += distance"
   ]
  },
  {
   "cell_type": "code",
   "execution_count": 61,
   "metadata": {},
   "outputs": [
    {
     "data": {
      "text/plain": [
       "array([ 9.60565209, 13.14692855])"
      ]
     },
     "execution_count": 61,
     "metadata": {},
     "output_type": "execute_result"
    }
   ],
   "source": [
    "total_distance"
   ]
  },
  {
   "cell_type": "code",
   "execution_count": 60,
   "metadata": {},
   "outputs": [
    {
     "data": {
      "text/plain": [
       "<tf.Tensor: shape=(1, 5, 5), dtype=int32, numpy=\n",
       "array([[[0, 1, 2, 3, 4],\n",
       "        [0, 1, 2, 3, 4],\n",
       "        [0, 1, 2, 3, 4],\n",
       "        [0, 1, 2, 3, 4],\n",
       "        [0, 1, 2, 3, 4]]], dtype=int32)>"
      ]
     },
     "execution_count": 60,
     "metadata": {},
     "output_type": "execute_result"
    }
   ],
   "source": [
    "x = tf.tile(tf.reshape(tf.range(5), (1, 1, 5)), (1, 5, 1))\n",
    "x"
   ]
  },
  {
   "cell_type": "code",
   "execution_count": 8,
   "metadata": {},
   "outputs": [
    {
     "data": {
      "text/plain": [
       "<tf.Tensor: shape=(5, 5, 1), dtype=float32, numpy=\n",
       "array([[[9.010284  ],\n",
       "        [8.313045  ],\n",
       "        [7.7843547 ],\n",
       "        [3.760599  ],\n",
       "        [8.943699  ]],\n",
       "\n",
       "       [[4.1826525 ],\n",
       "        [7.7477193 ],\n",
       "        [6.540223  ],\n",
       "        [1.439954  ],\n",
       "        [8.184491  ]],\n",
       "\n",
       "       [[3.7914038 ],\n",
       "        [9.168671  ],\n",
       "        [4.7567797 ],\n",
       "        [8.745359  ],\n",
       "        [6.7313995 ]],\n",
       "\n",
       "       [[0.3000903 ],\n",
       "        [1.6757405 ],\n",
       "        [0.25322914],\n",
       "        [2.5159967 ],\n",
       "        [3.6392224 ]],\n",
       "\n",
       "       [[1.4888036 ],\n",
       "        [1.345042  ],\n",
       "        [2.8000808 ],\n",
       "        [0.6844461 ],\n",
       "        [7.1058025 ]]], dtype=float32)>"
      ]
     },
     "execution_count": 8,
     "metadata": {},
     "output_type": "execute_result"
    }
   ],
   "source": [
    "tf.expand_dims(distances, -1)"
   ]
  },
  {
   "cell_type": "code",
   "execution_count": 5,
   "metadata": {},
   "outputs": [
    {
     "data": {
      "text/plain": [
       "22500"
      ]
     },
     "execution_count": 5,
     "metadata": {},
     "output_type": "execute_result"
    }
   ],
   "source": [
    "150*150"
   ]
  },
  {
   "cell_type": "code",
   "execution_count": null,
   "metadata": {},
   "outputs": [],
   "source": []
  }
 ],
 "metadata": {
  "kernelspec": {
   "display_name": "base",
   "language": "python",
   "name": "python3"
  },
  "language_info": {
   "codemirror_mode": {
    "name": "ipython",
    "version": 3
   },
   "file_extension": ".py",
   "mimetype": "text/x-python",
   "name": "python",
   "nbconvert_exporter": "python",
   "pygments_lexer": "ipython3",
   "version": "3.10.6"
  },
  "orig_nbformat": 4
 },
 "nbformat": 4,
 "nbformat_minor": 2
}
