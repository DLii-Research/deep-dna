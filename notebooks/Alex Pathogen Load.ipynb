{
 "cells": [
  {
   "cell_type": "code",
   "execution_count": 1,
   "id": "92d4a256-63f1-45d6-8ff2-cd4be9722465",
   "metadata": {},
   "outputs": [],
   "source": [
    "from dataclasses import replace\n",
    "from dnadb import dna, fasta, sample, taxonomy\n",
    "from lmdbm import Lmdb\n",
    "import matplotlib.pyplot as plt\n",
    "import numpy as np\n",
    "import numpy.typing as npt\n",
    "import pandas as pd\n",
    "from pathlib import Path\n",
    "import re\n",
    "import seaborn as sns\n",
    "import sys\n",
    "import tensorflow as tf\n",
    "import tf_utilities as tfu\n",
    "from tqdm.auto import tqdm\n",
    "from typing import Iterable, Optional\n",
    "import wandb"
   ]
  },
  {
   "cell_type": "code",
   "execution_count": 2,
   "id": "e31b0644-c5d7-48b5-8954-afa9c82e0e66",
   "metadata": {},
   "outputs": [],
   "source": [
    "sys.path.append(\"../src\")\n",
    "from deepdna.nn.data_generators import SampleGenerator, _encode_sequences\n",
    "from deepdna.nn.models import load_model, setbert"
   ]
  },
  {
   "cell_type": "code",
   "execution_count": 3,
   "id": "43e31d05-4f82-4acd-91f5-00393a253d0c",
   "metadata": {},
   "outputs": [
    {
     "name": "stderr",
     "output_type": "stream",
     "text": [
      "2023-06-10 12:33:36.366310: I tensorflow/stream_executor/cuda/cuda_gpu_executor.cc:975] successful NUMA node read from SysFS had negative value (-1), but there must be at least one NUMA node, so returning NUMA node zero\n",
      "2023-06-10 12:33:36.366543: I tensorflow/stream_executor/cuda/cuda_gpu_executor.cc:975] successful NUMA node read from SysFS had negative value (-1), but there must be at least one NUMA node, so returning NUMA node zero\n",
      "2023-06-10 12:33:36.372051: I tensorflow/stream_executor/cuda/cuda_gpu_executor.cc:975] successful NUMA node read from SysFS had negative value (-1), but there must be at least one NUMA node, so returning NUMA node zero\n",
      "2023-06-10 12:33:36.372275: I tensorflow/stream_executor/cuda/cuda_gpu_executor.cc:975] successful NUMA node read from SysFS had negative value (-1), but there must be at least one NUMA node, so returning NUMA node zero\n",
      "2023-06-10 12:33:36.372454: I tensorflow/stream_executor/cuda/cuda_gpu_executor.cc:975] successful NUMA node read from SysFS had negative value (-1), but there must be at least one NUMA node, so returning NUMA node zero\n",
      "2023-06-10 12:33:36.372627: I tensorflow/stream_executor/cuda/cuda_gpu_executor.cc:975] successful NUMA node read from SysFS had negative value (-1), but there must be at least one NUMA node, so returning NUMA node zero\n"
     ]
    },
    {
     "data": {
      "text/plain": [
       "([PhysicalDevice(name='/physical_device:CPU:0', device_type='CPU')],\n",
       " [PhysicalDevice(name='/physical_device:GPU:1', device_type='GPU')])"
      ]
     },
     "execution_count": 3,
     "metadata": {},
     "output_type": "execute_result"
    }
   ],
   "source": [
    "# tfu.devices.select_cpu()\n",
    "tfu.devices.select_gpu(1)"
   ]
  },
  {
   "cell_type": "code",
   "execution_count": 4,
   "id": "d0d620f0-b68a-4299-9483-20ae261a31cf",
   "metadata": {},
   "outputs": [],
   "source": [
    "output_path = Path(\"/home/dwl2x/work/Datasets/Walker_Alex\")\n",
    "output_path.mkdir(exist_ok=True)"
   ]
  },
  {
   "cell_type": "code",
   "execution_count": 5,
   "id": "73ccc70a-310f-4fbf-a4ae-16a761ca3bee",
   "metadata": {},
   "outputs": [],
   "source": [
    "fasta_path = Path(\"/home/shared/walker_lab/alex/P_A_221205_cmfp.trim.contigs.pcr.good.unique.good.filter.unique.precluster.denovo.vsearch.pick.opti_mcc.0.03.pick.0.03.abund.0.03.pick.fasta\")\n",
    "otu_list_path = Path(\"/home/shared/walker_lab/digitalocean/Alex_SFD/shared_list/221205_cmfp.trim.contigs.pcr.good.unique.good.filter.unique.precluster.denovo.vsearch.asv.list\")\n",
    "otu_shared_path = Path(\"/home/shared/walker_lab/digitalocean/Alex_SFD/shared_list/221205_cmfp.trim.contigs.pcr.good.unique.good.filter.unique.precluster.denovo.vsearch.asv.shared\")\n",
    "metadata_path = Path(\"/home/shared/walker_lab/alex/230320_sfdspatial_meta_clean.csv\")"
   ]
  },
  {
   "cell_type": "markdown",
   "id": "8f2f25f1-6555-4487-a501-de8c15b27363",
   "metadata": {},
   "source": [
    "## FASTA DB"
   ]
  },
  {
   "cell_type": "code",
   "execution_count": 6,
   "id": "c0609fa5-8d04-4109-87cc-3d82711643dd",
   "metadata": {},
   "outputs": [],
   "source": [
    "def clean_entry(entry: fasta.FastaEntry):\n",
    "    sequence = re.sub(r\"[^\" + dna.ALL_BASES + r\"]\", \"\", entry.sequence)\n",
    "    return replace(entry, sequence=sequence)"
   ]
  },
  {
   "cell_type": "code",
   "execution_count": 7,
   "id": "de1fc9a3-e712-478d-9bc3-4c681131337f",
   "metadata": {},
   "outputs": [],
   "source": [
    "# factory = fasta.FastaDbFactory(output_path / \"alex.fasta.db\")\n",
    "# for entry in tqdm(map(clean_entry, fasta.entries(fasta_path))):\n",
    "#     if len(entry) < 250:\n",
    "#         continue\n",
    "#     factory.write_entry(entry)\n",
    "# factory.close()"
   ]
  },
  {
   "cell_type": "code",
   "execution_count": 8,
   "id": "b571682f-0f23-427f-8e28-86fdfdbe1700",
   "metadata": {},
   "outputs": [],
   "source": [
    "fasta_db = fasta.FastaDb(output_path / \"alex.fasta.db\")"
   ]
  },
  {
   "cell_type": "markdown",
   "id": "6bdce798-9c33-4d2e-80f6-3d54b586e9a7",
   "metadata": {},
   "source": [
    "---\n",
    "\n",
    "## Sample OTU Index"
   ]
  },
  {
   "cell_type": "code",
   "execution_count": 9,
   "id": "073dfd49-0cb1-4376-8461-7f94c6c1e5de",
   "metadata": {},
   "outputs": [],
   "source": [
    "# with open(otu_list_path) as f:\n",
    "#     keys = f.readline().strip().split('\\t')\n",
    "#     values = f.readline().strip().split('\\t')\n",
    "# otu_index = dict(zip(keys[2:], values[2:]))"
   ]
  },
  {
   "cell_type": "code",
   "execution_count": 10,
   "id": "b943586e-ba93-4a88-abb3-11a57143f0c9",
   "metadata": {},
   "outputs": [],
   "source": [
    "# list(otu_index.values())[:5]"
   ]
  },
  {
   "cell_type": "code",
   "execution_count": 11,
   "id": "32288237-e0f5-4e1c-9750-eabc60131469",
   "metadata": {},
   "outputs": [],
   "source": [
    "# factory = fasta.FastaIndexDbFactory(output_path / \"alex.fasta.index.db\")\n",
    "# for i, asv in enumerate(tqdm(otu_index)):\n",
    "#     fasta_id = otu_index[asv]\n",
    "#     if fasta_id not in fasta_db:\n",
    "#         continue\n",
    "#     factory.write_entry(fasta_db[fasta_id], key=asv)\n",
    "# factory.close()"
   ]
  },
  {
   "cell_type": "code",
   "execution_count": 12,
   "id": "521ed485-a58f-4135-96bd-cc25dc8687e5",
   "metadata": {},
   "outputs": [],
   "source": [
    "index_db = fasta.FastaIndexDb(output_path / \"alex.fasta.index.db\")"
   ]
  },
  {
   "cell_type": "markdown",
   "id": "8d8c8856-f09f-48b2-8fb9-4a6e687e3492",
   "metadata": {},
   "source": [
    "---\n",
    "\n",
    "## Load Metadata"
   ]
  },
  {
   "cell_type": "code",
   "execution_count": 13,
   "id": "868e1cc2-7379-4d47-96d2-c8cb8f1146db",
   "metadata": {},
   "outputs": [
    {
     "data": {
      "text/html": [
       "<div>\n",
       "<style scoped>\n",
       "    .dataframe tbody tr th:only-of-type {\n",
       "        vertical-align: middle;\n",
       "    }\n",
       "\n",
       "    .dataframe tbody tr th {\n",
       "        vertical-align: top;\n",
       "    }\n",
       "\n",
       "    .dataframe thead th {\n",
       "        text-align: right;\n",
       "    }\n",
       "</style>\n",
       "<table border=\"1\" class=\"dataframe\">\n",
       "  <thead>\n",
       "    <tr style=\"text-align: right;\">\n",
       "      <th></th>\n",
       "      <th>taxon</th>\n",
       "      <th>ecomode</th>\n",
       "      <th>oo_present</th>\n",
       "      <th>date</th>\n",
       "      <th>county</th>\n",
       "      <th>site</th>\n",
       "      <th>clinical_signs</th>\n",
       "      <th>log_copy_number</th>\n",
       "      <th>gpsn</th>\n",
       "      <th>gpsw</th>\n",
       "      <th>...</th>\n",
       "      <th>swab_col</th>\n",
       "      <th>DNA_con</th>\n",
       "      <th>swab_plate_n</th>\n",
       "      <th>notes</th>\n",
       "      <th>richness</th>\n",
       "      <th>shannon</th>\n",
       "      <th>evenness</th>\n",
       "      <th>simpson</th>\n",
       "      <th>invsimpson</th>\n",
       "      <th>dis.sev</th>\n",
       "    </tr>\n",
       "    <tr>\n",
       "      <th>swab_label</th>\n",
       "      <th></th>\n",
       "      <th></th>\n",
       "      <th></th>\n",
       "      <th></th>\n",
       "      <th></th>\n",
       "      <th></th>\n",
       "      <th></th>\n",
       "      <th></th>\n",
       "      <th></th>\n",
       "      <th></th>\n",
       "      <th></th>\n",
       "      <th></th>\n",
       "      <th></th>\n",
       "      <th></th>\n",
       "      <th></th>\n",
       "      <th></th>\n",
       "      <th></th>\n",
       "      <th></th>\n",
       "      <th></th>\n",
       "      <th></th>\n",
       "      <th></th>\n",
       "    </tr>\n",
       "  </thead>\n",
       "  <tbody>\n",
       "    <tr>\n",
       "      <th>STP582C</th>\n",
       "      <td>Agkistrodon piscivorus</td>\n",
       "      <td>Aquatic</td>\n",
       "      <td>0</td>\n",
       "      <td>6/7/2015</td>\n",
       "      <td>Polk</td>\n",
       "      <td>Ouachita National Forest</td>\n",
       "      <td>NaN</td>\n",
       "      <td>0.00000</td>\n",
       "      <td>34.46294</td>\n",
       "      <td>-93.99638</td>\n",
       "      <td>...</td>\n",
       "      <td>1.0</td>\n",
       "      <td>3.06</td>\n",
       "      <td>1.0</td>\n",
       "      <td>Walker et al. ISME</td>\n",
       "      <td>618</td>\n",
       "      <td>4.804865</td>\n",
       "      <td>0.197578</td>\n",
       "      <td>0.974111</td>\n",
       "      <td>38.627160</td>\n",
       "      <td>Neg</td>\n",
       "    </tr>\n",
       "    <tr>\n",
       "      <th>STP633C</th>\n",
       "      <td>Crotalus horridus</td>\n",
       "      <td>Terrestrial</td>\n",
       "      <td>0</td>\n",
       "      <td>6/8/2015</td>\n",
       "      <td>Polk</td>\n",
       "      <td>Ouachita National Forest</td>\n",
       "      <td>NaN</td>\n",
       "      <td>0.00000</td>\n",
       "      <td>34.46262</td>\n",
       "      <td>-93.99853</td>\n",
       "      <td>...</td>\n",
       "      <td>1.0</td>\n",
       "      <td>2.18</td>\n",
       "      <td>1.0</td>\n",
       "      <td>Walker et al. ISME</td>\n",
       "      <td>486</td>\n",
       "      <td>4.505452</td>\n",
       "      <td>0.186233</td>\n",
       "      <td>0.962531</td>\n",
       "      <td>26.688501</td>\n",
       "      <td>Neg</td>\n",
       "    </tr>\n",
       "    <tr>\n",
       "      <th>STP634C</th>\n",
       "      <td>Agkistrodon piscivorus</td>\n",
       "      <td>Aquatic</td>\n",
       "      <td>0</td>\n",
       "      <td>6/8/2015</td>\n",
       "      <td>Polk</td>\n",
       "      <td>Ouachita National Forest</td>\n",
       "      <td>NaN</td>\n",
       "      <td>0.00000</td>\n",
       "      <td>34.57593</td>\n",
       "      <td>-94.03164</td>\n",
       "      <td>...</td>\n",
       "      <td>1.0</td>\n",
       "      <td>40.80</td>\n",
       "      <td>1.0</td>\n",
       "      <td>Walker et al. ISME</td>\n",
       "      <td>456</td>\n",
       "      <td>2.743417</td>\n",
       "      <td>0.034079</td>\n",
       "      <td>0.723965</td>\n",
       "      <td>3.622725</td>\n",
       "      <td>Neg</td>\n",
       "    </tr>\n",
       "    <tr>\n",
       "      <th>STP639C</th>\n",
       "      <td>Agkistrodon piscivorus</td>\n",
       "      <td>Aquatic</td>\n",
       "      <td>0</td>\n",
       "      <td>6/8/2015</td>\n",
       "      <td>Montgomery</td>\n",
       "      <td>Ouachita National Forest</td>\n",
       "      <td>NaN</td>\n",
       "      <td>0.00000</td>\n",
       "      <td>34.43632</td>\n",
       "      <td>-93.78750</td>\n",
       "      <td>...</td>\n",
       "      <td>1.0</td>\n",
       "      <td>3.90</td>\n",
       "      <td>1.0</td>\n",
       "      <td>Walker et al. ISME</td>\n",
       "      <td>659</td>\n",
       "      <td>4.919205</td>\n",
       "      <td>0.207730</td>\n",
       "      <td>0.975840</td>\n",
       "      <td>41.391414</td>\n",
       "      <td>Neg</td>\n",
       "    </tr>\n",
       "    <tr>\n",
       "      <th>STP640C</th>\n",
       "      <td>Agkistrodon piscivorus</td>\n",
       "      <td>Aquatic</td>\n",
       "      <td>0</td>\n",
       "      <td>6/8/2015</td>\n",
       "      <td>Montgomery</td>\n",
       "      <td>Ouachita National Forest</td>\n",
       "      <td>NaN</td>\n",
       "      <td>0.00000</td>\n",
       "      <td>34.43632</td>\n",
       "      <td>-93.78750</td>\n",
       "      <td>...</td>\n",
       "      <td>1.0</td>\n",
       "      <td>6.14</td>\n",
       "      <td>1.0</td>\n",
       "      <td>Walker et al. ISME</td>\n",
       "      <td>384</td>\n",
       "      <td>4.312839</td>\n",
       "      <td>0.194407</td>\n",
       "      <td>0.963434</td>\n",
       "      <td>27.347450</td>\n",
       "      <td>Neg</td>\n",
       "    </tr>\n",
       "    <tr>\n",
       "      <th>...</th>\n",
       "      <td>...</td>\n",
       "      <td>...</td>\n",
       "      <td>...</td>\n",
       "      <td>...</td>\n",
       "      <td>...</td>\n",
       "      <td>...</td>\n",
       "      <td>...</td>\n",
       "      <td>...</td>\n",
       "      <td>...</td>\n",
       "      <td>...</td>\n",
       "      <td>...</td>\n",
       "      <td>...</td>\n",
       "      <td>...</td>\n",
       "      <td>...</td>\n",
       "      <td>...</td>\n",
       "      <td>...</td>\n",
       "      <td>...</td>\n",
       "      <td>...</td>\n",
       "      <td>...</td>\n",
       "      <td>...</td>\n",
       "      <td>...</td>\n",
       "    </tr>\n",
       "    <tr>\n",
       "      <th>STP1502C</th>\n",
       "      <td>Nerodia sipedon</td>\n",
       "      <td>Aquatic</td>\n",
       "      <td>1</td>\n",
       "      <td>NaN</td>\n",
       "      <td>Overton</td>\n",
       "      <td>Waterloo Falls</td>\n",
       "      <td>NaN</td>\n",
       "      <td>0.30103</td>\n",
       "      <td>NaN</td>\n",
       "      <td>NaN</td>\n",
       "      <td>...</td>\n",
       "      <td>11.0</td>\n",
       "      <td>22.60</td>\n",
       "      <td>2.0</td>\n",
       "      <td>Walker et al. ISME</td>\n",
       "      <td>692</td>\n",
       "      <td>4.422581</td>\n",
       "      <td>0.120392</td>\n",
       "      <td>0.959926</td>\n",
       "      <td>24.954109</td>\n",
       "      <td>Low</td>\n",
       "    </tr>\n",
       "    <tr>\n",
       "      <th>STP1503C</th>\n",
       "      <td>Nerodia sipedon</td>\n",
       "      <td>Aquatic</td>\n",
       "      <td>1</td>\n",
       "      <td>NaN</td>\n",
       "      <td>Overton</td>\n",
       "      <td>Waterloo Falls</td>\n",
       "      <td>NaN</td>\n",
       "      <td>0.30103</td>\n",
       "      <td>NaN</td>\n",
       "      <td>NaN</td>\n",
       "      <td>...</td>\n",
       "      <td>11.0</td>\n",
       "      <td>22.60</td>\n",
       "      <td>2.0</td>\n",
       "      <td>Walker et al. ISME</td>\n",
       "      <td>823</td>\n",
       "      <td>5.162691</td>\n",
       "      <td>0.212192</td>\n",
       "      <td>0.980217</td>\n",
       "      <td>50.549217</td>\n",
       "      <td>Low</td>\n",
       "    </tr>\n",
       "    <tr>\n",
       "      <th>STP762C</th>\n",
       "      <td>Thamnophis sirtalis</td>\n",
       "      <td>Terrestrial</td>\n",
       "      <td>1</td>\n",
       "      <td>NaN</td>\n",
       "      <td>Cumberland</td>\n",
       "      <td>Catoosa WMA</td>\n",
       "      <td>NaN</td>\n",
       "      <td>1.00000</td>\n",
       "      <td>NaN</td>\n",
       "      <td>NaN</td>\n",
       "      <td>...</td>\n",
       "      <td>2.0</td>\n",
       "      <td>23.20</td>\n",
       "      <td>1.0</td>\n",
       "      <td>Walker et al. ISME - Austin Property-Crossville</td>\n",
       "      <td>739</td>\n",
       "      <td>4.925323</td>\n",
       "      <td>0.186379</td>\n",
       "      <td>0.979888</td>\n",
       "      <td>49.721213</td>\n",
       "      <td>Low</td>\n",
       "    </tr>\n",
       "    <tr>\n",
       "      <th>STP763C</th>\n",
       "      <td>Coluber constrictor</td>\n",
       "      <td>Terrestrial</td>\n",
       "      <td>0</td>\n",
       "      <td>NaN</td>\n",
       "      <td>Cumberland</td>\n",
       "      <td>Catoosa WMA</td>\n",
       "      <td>NaN</td>\n",
       "      <td>0.00000</td>\n",
       "      <td>NaN</td>\n",
       "      <td>NaN</td>\n",
       "      <td>...</td>\n",
       "      <td>2.0</td>\n",
       "      <td>102.00</td>\n",
       "      <td>1.0</td>\n",
       "      <td>Walker et al. ISME - Austin Property-Crossville</td>\n",
       "      <td>123</td>\n",
       "      <td>3.016996</td>\n",
       "      <td>0.166096</td>\n",
       "      <td>0.916935</td>\n",
       "      <td>12.038762</td>\n",
       "      <td>Neg</td>\n",
       "    </tr>\n",
       "    <tr>\n",
       "      <th>TST1</th>\n",
       "      <td>Crotalus horridus</td>\n",
       "      <td>Terrestrial</td>\n",
       "      <td>0</td>\n",
       "      <td>NaN</td>\n",
       "      <td>Morgan</td>\n",
       "      <td>Catoosa WMA</td>\n",
       "      <td>NaN</td>\n",
       "      <td>0.00000</td>\n",
       "      <td>36.04593</td>\n",
       "      <td>-84.76528</td>\n",
       "      <td>...</td>\n",
       "      <td>11.0</td>\n",
       "      <td>6.02</td>\n",
       "      <td>2.0</td>\n",
       "      <td>Walker et al. ISME</td>\n",
       "      <td>626</td>\n",
       "      <td>5.009543</td>\n",
       "      <td>0.239355</td>\n",
       "      <td>0.974569</td>\n",
       "      <td>39.321592</td>\n",
       "      <td>Neg</td>\n",
       "    </tr>\n",
       "  </tbody>\n",
       "</table>\n",
       "<p>738 rows × 48 columns</p>\n",
       "</div>"
      ],
      "text/plain": [
       "                             taxon      ecomode  oo_present      date  \\\n",
       "swab_label                                                              \n",
       "STP582C     Agkistrodon piscivorus      Aquatic           0  6/7/2015   \n",
       "STP633C          Crotalus horridus  Terrestrial           0  6/8/2015   \n",
       "STP634C     Agkistrodon piscivorus      Aquatic           0  6/8/2015   \n",
       "STP639C     Agkistrodon piscivorus      Aquatic           0  6/8/2015   \n",
       "STP640C     Agkistrodon piscivorus      Aquatic           0  6/8/2015   \n",
       "...                            ...          ...         ...       ...   \n",
       "STP1502C           Nerodia sipedon      Aquatic           1       NaN   \n",
       "STP1503C           Nerodia sipedon      Aquatic           1       NaN   \n",
       "STP762C        Thamnophis sirtalis  Terrestrial           1       NaN   \n",
       "STP763C        Coluber constrictor  Terrestrial           0       NaN   \n",
       "TST1             Crotalus horridus  Terrestrial           0       NaN   \n",
       "\n",
       "                county                      site  clinical_signs  \\\n",
       "swab_label                                                         \n",
       "STP582C           Polk  Ouachita National Forest             NaN   \n",
       "STP633C           Polk  Ouachita National Forest             NaN   \n",
       "STP634C           Polk  Ouachita National Forest             NaN   \n",
       "STP639C     Montgomery  Ouachita National Forest             NaN   \n",
       "STP640C     Montgomery  Ouachita National Forest             NaN   \n",
       "...                ...                       ...             ...   \n",
       "STP1502C       Overton            Waterloo Falls             NaN   \n",
       "STP1503C       Overton            Waterloo Falls             NaN   \n",
       "STP762C     Cumberland               Catoosa WMA             NaN   \n",
       "STP763C     Cumberland               Catoosa WMA             NaN   \n",
       "TST1            Morgan               Catoosa WMA             NaN   \n",
       "\n",
       "            log_copy_number      gpsn      gpsw  ... swab_col  DNA_con  \\\n",
       "swab_label                                       ...                     \n",
       "STP582C             0.00000  34.46294 -93.99638  ...      1.0     3.06   \n",
       "STP633C             0.00000  34.46262 -93.99853  ...      1.0     2.18   \n",
       "STP634C             0.00000  34.57593 -94.03164  ...      1.0    40.80   \n",
       "STP639C             0.00000  34.43632 -93.78750  ...      1.0     3.90   \n",
       "STP640C             0.00000  34.43632 -93.78750  ...      1.0     6.14   \n",
       "...                     ...       ...       ...  ...      ...      ...   \n",
       "STP1502C            0.30103       NaN       NaN  ...     11.0    22.60   \n",
       "STP1503C            0.30103       NaN       NaN  ...     11.0    22.60   \n",
       "STP762C             1.00000       NaN       NaN  ...      2.0    23.20   \n",
       "STP763C             0.00000       NaN       NaN  ...      2.0   102.00   \n",
       "TST1                0.00000  36.04593 -84.76528  ...     11.0     6.02   \n",
       "\n",
       "            swab_plate_n                                            notes  \\\n",
       "swab_label                                                                  \n",
       "STP582C              1.0                               Walker et al. ISME   \n",
       "STP633C              1.0                               Walker et al. ISME   \n",
       "STP634C              1.0                               Walker et al. ISME   \n",
       "STP639C              1.0                               Walker et al. ISME   \n",
       "STP640C              1.0                               Walker et al. ISME   \n",
       "...                  ...                                              ...   \n",
       "STP1502C             2.0                               Walker et al. ISME   \n",
       "STP1503C             2.0                               Walker et al. ISME   \n",
       "STP762C              1.0  Walker et al. ISME - Austin Property-Crossville   \n",
       "STP763C              1.0  Walker et al. ISME - Austin Property-Crossville   \n",
       "TST1                 2.0                               Walker et al. ISME   \n",
       "\n",
       "            richness   shannon  evenness   simpson invsimpson dis.sev  \n",
       "swab_label                                                             \n",
       "STP582C          618  4.804865  0.197578  0.974111  38.627160     Neg  \n",
       "STP633C          486  4.505452  0.186233  0.962531  26.688501     Neg  \n",
       "STP634C          456  2.743417  0.034079  0.723965   3.622725     Neg  \n",
       "STP639C          659  4.919205  0.207730  0.975840  41.391414     Neg  \n",
       "STP640C          384  4.312839  0.194407  0.963434  27.347450     Neg  \n",
       "...              ...       ...       ...       ...        ...     ...  \n",
       "STP1502C         692  4.422581  0.120392  0.959926  24.954109     Low  \n",
       "STP1503C         823  5.162691  0.212192  0.980217  50.549217     Low  \n",
       "STP762C          739  4.925323  0.186379  0.979888  49.721213     Low  \n",
       "STP763C          123  3.016996  0.166096  0.916935  12.038762     Neg  \n",
       "TST1             626  5.009543  0.239355  0.974569  39.321592     Neg  \n",
       "\n",
       "[738 rows x 48 columns]"
      ]
     },
     "execution_count": 13,
     "metadata": {},
     "output_type": "execute_result"
    }
   ],
   "source": [
    "metadata = pd.read_csv(metadata_path, index_col=0)\n",
    "metadata"
   ]
  },
  {
   "cell_type": "code",
   "execution_count": 14,
   "id": "b6a06365-ebb3-485c-890e-23c06eda091a",
   "metadata": {},
   "outputs": [],
   "source": [
    "# metadata_sample_names = set(metadata.index.to_list())"
   ]
  },
  {
   "cell_type": "markdown",
   "id": "91c13b8a-a99a-41a6-bb53-073cdbfeb481",
   "metadata": {},
   "source": [
    "---\n",
    "\n",
    "## Sample Mapping"
   ]
  },
  {
   "cell_type": "code",
   "execution_count": 15,
   "id": "9fd89776-df67-47c5-a259-ebd43fa3e8a5",
   "metadata": {},
   "outputs": [],
   "source": [
    "# with open(otu_shared_path) as f:\n",
    "#     header = f.readline().strip().split('\\t')\n",
    "#     lines = [line.strip().split('\\t') for line in tqdm(f)]\n",
    "# len(lines)"
   ]
  },
  {
   "cell_type": "code",
   "execution_count": 16,
   "id": "8c1ccbdf-952a-4492-aaa3-db0b5c737863",
   "metadata": {},
   "outputs": [],
   "source": [
    "# cols = [i for i in range(3, len(header)) if index_db.contains_key(header[i])]"
   ]
  },
  {
   "cell_type": "code",
   "execution_count": 17,
   "id": "caf5b38d-f78d-4c72-94c2-e0316d6bd02a",
   "metadata": {},
   "outputs": [],
   "source": [
    "# header[:5]"
   ]
  },
  {
   "cell_type": "code",
   "execution_count": 18,
   "id": "6c347b95-de2a-4117-b30f-53d34af461e9",
   "metadata": {},
   "outputs": [],
   "source": [
    "# index_db.key_to_fasta_id(\"ASV0000004\")"
   ]
  },
  {
   "cell_type": "code",
   "execution_count": 19,
   "id": "88ae1d08-2a7a-4726-8c69-c263d021525c",
   "metadata": {},
   "outputs": [],
   "source": [
    "# indices = [i for i in tqdm(range(3, len(header))) if index_db.contains_key(header[i])]"
   ]
  },
  {
   "cell_type": "code",
   "execution_count": 20,
   "id": "b783d1e2-f001-4fa7-a7e9-3fc339bece0a",
   "metadata": {},
   "outputs": [],
   "source": [
    "# fasta_ids = {i: index_db.key_to_fasta_id(header[i]) for i in tqdm(indices)}"
   ]
  },
  {
   "cell_type": "code",
   "execution_count": 21,
   "id": "ea296535-786c-4fb8-a0bb-85f54a2308f9",
   "metadata": {},
   "outputs": [],
   "source": [
    "# factory = sample.SampleMappingDbFactory(output_path / \"alex.fasta.mapping.db\")\n",
    "# for row in tqdm(lines):\n",
    "#     sample_name = row[1]\n",
    "#     if sample_name not in metadata_sample_names:\n",
    "#         continue\n",
    "#     sample_factory = sample.SampleMappingEntryFactory(sample_name, index_db)\n",
    "#     for i in indices:\n",
    "#         if (count := int(row[i])) == 0:\n",
    "#             continue\n",
    "#         fasta_id = fasta_ids[i]\n",
    "#         sample_factory.add_entry(fasta_db[fasta_id], count)\n",
    "#     factory.write_entry(sample_factory.build())\n",
    "# factory.close()"
   ]
  },
  {
   "cell_type": "code",
   "execution_count": 22,
   "id": "380c4a4c-6c68-49fa-b81f-415dca54120a",
   "metadata": {},
   "outputs": [],
   "source": [
    "mapping = sample.SampleMappingDb(output_path / \"alex.fasta.mapping.db\", index_db)"
   ]
  },
  {
   "cell_type": "code",
   "execution_count": 23,
   "id": "51b5779b-3324-42e6-845b-4e5a20ca0e14",
   "metadata": {},
   "outputs": [
    {
     "data": {
      "text/plain": [
       "737"
      ]
     },
     "execution_count": 23,
     "metadata": {},
     "output_type": "execute_result"
    }
   ],
   "source": [
    "sample_names = set([sample.name for sample in mapping])\n",
    "len(sample_names)"
   ]
  },
  {
   "cell_type": "markdown",
   "id": "a4bad4c6-0cd6-416c-80a5-6e0c93b3179c",
   "metadata": {},
   "source": [
    "## Taxonomy"
   ]
  },
  {
   "cell_type": "code",
   "execution_count": 24,
   "id": "b19a23b9-e406-4b99-ba33-caebb070452d",
   "metadata": {},
   "outputs": [
    {
     "data": {
      "text/html": [
       "<div>\n",
       "<style scoped>\n",
       "    .dataframe tbody tr th:only-of-type {\n",
       "        vertical-align: middle;\n",
       "    }\n",
       "\n",
       "    .dataframe tbody tr th {\n",
       "        vertical-align: top;\n",
       "    }\n",
       "\n",
       "    .dataframe thead th {\n",
       "        text-align: right;\n",
       "    }\n",
       "</style>\n",
       "<table border=\"1\" class=\"dataframe\">\n",
       "  <thead>\n",
       "    <tr style=\"text-align: right;\">\n",
       "      <th></th>\n",
       "      <th>otu</th>\n",
       "      <th>kingdom</th>\n",
       "      <th>phylum</th>\n",
       "      <th>class</th>\n",
       "      <th>order</th>\n",
       "      <th>family</th>\n",
       "      <th>genus</th>\n",
       "    </tr>\n",
       "  </thead>\n",
       "  <tbody>\n",
       "    <tr>\n",
       "      <th>0</th>\n",
       "      <td>Otu000002</td>\n",
       "      <td>Bacteria</td>\n",
       "      <td>Actinobacteria</td>\n",
       "      <td>Actinobacteria</td>\n",
       "      <td>Micrococcales</td>\n",
       "      <td>Intrasporangiaceae</td>\n",
       "      <td>Janibacter</td>\n",
       "    </tr>\n",
       "    <tr>\n",
       "      <th>1</th>\n",
       "      <td>Otu000003</td>\n",
       "      <td>Bacteria</td>\n",
       "      <td>Deinococcus-Thermus</td>\n",
       "      <td>Deinococci</td>\n",
       "      <td>Deinococcales</td>\n",
       "      <td>Deinococcaceae</td>\n",
       "      <td>Deinococcus</td>\n",
       "    </tr>\n",
       "    <tr>\n",
       "      <th>2</th>\n",
       "      <td>Otu000004</td>\n",
       "      <td>Bacteria</td>\n",
       "      <td>Proteobacteria</td>\n",
       "      <td>Gammaproteobacteria</td>\n",
       "      <td>Betaproteobacteriales</td>\n",
       "      <td>Burkholderiaceae</td>\n",
       "      <td>Burkholderiaceae_unclassified</td>\n",
       "    </tr>\n",
       "    <tr>\n",
       "      <th>3</th>\n",
       "      <td>Otu000005</td>\n",
       "      <td>Bacteria</td>\n",
       "      <td>Proteobacteria</td>\n",
       "      <td>Gammaproteobacteria</td>\n",
       "      <td>Pseudomonadales</td>\n",
       "      <td>Moraxellaceae</td>\n",
       "      <td>Acinetobacter</td>\n",
       "    </tr>\n",
       "    <tr>\n",
       "      <th>4</th>\n",
       "      <td>Otu000006</td>\n",
       "      <td>Bacteria</td>\n",
       "      <td>Proteobacteria</td>\n",
       "      <td>Gammaproteobacteria</td>\n",
       "      <td>Betaproteobacteriales</td>\n",
       "      <td>Burkholderiaceae</td>\n",
       "      <td>Burkholderiaceae_unclassified</td>\n",
       "    </tr>\n",
       "    <tr>\n",
       "      <th>...</th>\n",
       "      <td>...</td>\n",
       "      <td>...</td>\n",
       "      <td>...</td>\n",
       "      <td>...</td>\n",
       "      <td>...</td>\n",
       "      <td>...</td>\n",
       "      <td>...</td>\n",
       "    </tr>\n",
       "    <tr>\n",
       "      <th>25047</th>\n",
       "      <td>Otu069105</td>\n",
       "      <td>Bacteria</td>\n",
       "      <td>Proteobacteria</td>\n",
       "      <td>Gammaproteobacteria</td>\n",
       "      <td>Gammaproteobacteria_unclassified</td>\n",
       "      <td>Gammaproteobacteria_unclassified</td>\n",
       "      <td>Gammaproteobacteria_unclassified</td>\n",
       "    </tr>\n",
       "    <tr>\n",
       "      <th>25048</th>\n",
       "      <td>Otu069123</td>\n",
       "      <td>Bacteria</td>\n",
       "      <td>Proteobacteria</td>\n",
       "      <td>Gammaproteobacteria</td>\n",
       "      <td>Enterobacteriales</td>\n",
       "      <td>Enterobacteriaceae</td>\n",
       "      <td>Enterobacteriaceae_unclassified</td>\n",
       "    </tr>\n",
       "    <tr>\n",
       "      <th>25049</th>\n",
       "      <td>Otu069172</td>\n",
       "      <td>Bacteria</td>\n",
       "      <td>Actinobacteria</td>\n",
       "      <td>Actinobacteria</td>\n",
       "      <td>Micrococcales</td>\n",
       "      <td>Microbacteriaceae</td>\n",
       "      <td>Microbacteriaceae_unclassified</td>\n",
       "    </tr>\n",
       "    <tr>\n",
       "      <th>25050</th>\n",
       "      <td>Otu069191</td>\n",
       "      <td>Bacteria</td>\n",
       "      <td>Proteobacteria</td>\n",
       "      <td>Gammaproteobacteria</td>\n",
       "      <td>Betaproteobacteriales</td>\n",
       "      <td>Betaproteobacteriales_unclassified</td>\n",
       "      <td>Betaproteobacteriales_unclassified</td>\n",
       "    </tr>\n",
       "    <tr>\n",
       "      <th>25051</th>\n",
       "      <td>Otu069197</td>\n",
       "      <td>Bacteria</td>\n",
       "      <td>Proteobacteria</td>\n",
       "      <td>Gammaproteobacteria</td>\n",
       "      <td>Gammaproteobacteria_unclassified</td>\n",
       "      <td>Gammaproteobacteria_unclassified</td>\n",
       "      <td>Gammaproteobacteria_unclassified</td>\n",
       "    </tr>\n",
       "  </tbody>\n",
       "</table>\n",
       "<p>25052 rows × 7 columns</p>\n",
       "</div>"
      ],
      "text/plain": [
       "             otu   kingdom               phylum                class  \\\n",
       "0      Otu000002  Bacteria       Actinobacteria       Actinobacteria   \n",
       "1      Otu000003  Bacteria  Deinococcus-Thermus           Deinococci   \n",
       "2      Otu000004  Bacteria       Proteobacteria  Gammaproteobacteria   \n",
       "3      Otu000005  Bacteria       Proteobacteria  Gammaproteobacteria   \n",
       "4      Otu000006  Bacteria       Proteobacteria  Gammaproteobacteria   \n",
       "...          ...       ...                  ...                  ...   \n",
       "25047  Otu069105  Bacteria       Proteobacteria  Gammaproteobacteria   \n",
       "25048  Otu069123  Bacteria       Proteobacteria  Gammaproteobacteria   \n",
       "25049  Otu069172  Bacteria       Actinobacteria       Actinobacteria   \n",
       "25050  Otu069191  Bacteria       Proteobacteria  Gammaproteobacteria   \n",
       "25051  Otu069197  Bacteria       Proteobacteria  Gammaproteobacteria   \n",
       "\n",
       "                                  order                              family  \\\n",
       "0                         Micrococcales                  Intrasporangiaceae   \n",
       "1                         Deinococcales                      Deinococcaceae   \n",
       "2                 Betaproteobacteriales                    Burkholderiaceae   \n",
       "3                       Pseudomonadales                       Moraxellaceae   \n",
       "4                 Betaproteobacteriales                    Burkholderiaceae   \n",
       "...                                 ...                                 ...   \n",
       "25047  Gammaproteobacteria_unclassified    Gammaproteobacteria_unclassified   \n",
       "25048                 Enterobacteriales                  Enterobacteriaceae   \n",
       "25049                     Micrococcales                   Microbacteriaceae   \n",
       "25050             Betaproteobacteriales  Betaproteobacteriales_unclassified   \n",
       "25051  Gammaproteobacteria_unclassified    Gammaproteobacteria_unclassified   \n",
       "\n",
       "                                    genus  \n",
       "0                              Janibacter  \n",
       "1                             Deinococcus  \n",
       "2           Burkholderiaceae_unclassified  \n",
       "3                           Acinetobacter  \n",
       "4           Burkholderiaceae_unclassified  \n",
       "...                                   ...  \n",
       "25047    Gammaproteobacteria_unclassified  \n",
       "25048     Enterobacteriaceae_unclassified  \n",
       "25049      Microbacteriaceae_unclassified  \n",
       "25050  Betaproteobacteriales_unclassified  \n",
       "25051    Gammaproteobacteria_unclassified  \n",
       "\n",
       "[25052 rows x 7 columns]"
      ]
     },
     "execution_count": 24,
     "metadata": {},
     "output_type": "execute_result"
    }
   ],
   "source": [
    "tax_data = pd.read_csv(\"/home/shared/walker_lab/alex/230428_SFDtaxfinal_engineer.csv\")\n",
    "tax_data"
   ]
  },
  {
   "cell_type": "code",
   "execution_count": 25,
   "id": "bf2651e0-9c39-483e-91d8-f5e0d7a5d48f",
   "metadata": {},
   "outputs": [],
   "source": [
    "tax_dict = {}\n",
    "for _, row in tax_data.iterrows():\n",
    "    otu, taxons = row[0], taxonomy.join_taxonomy(tuple(row.values[1:]))\n",
    "    tax_dict[otu] = taxons"
   ]
  },
  {
   "cell_type": "code",
   "execution_count": 26,
   "id": "b50b57cf-b26c-4900-afb8-c0a0b6a3e8bc",
   "metadata": {},
   "outputs": [
    {
     "data": {
      "text/plain": [
       "'k__Bacteria; p__Actinobacteria; c__Actinobacteria; o__Micrococcales; f__Intrasporangiaceae; g__Janibacter; s__'"
      ]
     },
     "execution_count": 26,
     "metadata": {},
     "output_type": "execute_result"
    }
   ],
   "source": [
    "tax_dict[\"Otu000002\"]"
   ]
  },
  {
   "cell_type": "code",
   "execution_count": 27,
   "id": "da202b7b-ffc5-44b5-9b73-e7ab2afec86d",
   "metadata": {},
   "outputs": [
    {
     "data": {
      "text/plain": [
       "1883435"
      ]
     },
     "execution_count": 27,
     "metadata": {},
     "output_type": "execute_result"
    }
   ],
   "source": [
    "asv_to_otu = {}\n",
    "for entry in fasta_db:\n",
    "    otu_id = entry.extra.split()[1]\n",
    "    assert otu_id.startswith(\"Otu\")\n",
    "    asv_to_otu[entry.identifier] = otu_id\n",
    "len(asv_to_otu)"
   ]
  },
  {
   "cell_type": "markdown",
   "id": "89d5cb7e-0fdb-45af-b1f9-39e4d679f4c1",
   "metadata": {},
   "source": [
    "---\n",
    "\n",
    "## Pathogen Load TSVs"
   ]
  },
  {
   "cell_type": "code",
   "execution_count": 53,
   "id": "0e9a6d67-5562-4bdd-bc35-88e7cea32b11",
   "metadata": {},
   "outputs": [],
   "source": [
    "disease_severity = {}\n",
    "disease_ids = {\"Neg\": 0, \"Low\": 1, \"Moderate\": 2, \"Severe\": 3}\n",
    "for index, row in metadata.iterrows():\n",
    "    if index not in sample_names:\n",
    "        continue\n",
    "    disease_severity[index] = disease_ids[row[\"dis.sev\"]]"
   ]
  },
  {
   "cell_type": "code",
   "execution_count": 60,
   "id": "2ba06e3d-fd8f-4304-95b7-a77d73849c7b",
   "metadata": {},
   "outputs": [],
   "source": [
    "pathogen_loads = pd.read_csv(output_path / \"alex.pathogen_load.tsv\", sep=\"\\t\", index_col=0)[\"pathogen_load\"].astype(np.float32).to_dict()"
   ]
  },
  {
   "cell_type": "code",
   "execution_count": 280,
   "id": "fb38e015-29aa-4d87-bf3e-6b24fb7883b3",
   "metadata": {},
   "outputs": [],
   "source": [
    "# with open(output_path / \"alex.pathogen_load.tsv\", \"w\") as f:\n",
    "#     f.write(f\"label\\tpathogen_load\\n\")\n",
    "#     for index, row in metadata.iterrows():\n",
    "#         if index not in sample_names:\n",
    "#             continue\n",
    "#         f.write(f\"{index}\\t{row['log_copy_number']}\\n\")"
   ]
  },
  {
   "cell_type": "markdown",
   "id": "4206b6e5-01b6-40fb-a9f0-388747352cbc",
   "metadata": {},
   "source": [
    "---\n",
    "\n",
    "## Data Generator"
   ]
  },
  {
   "cell_type": "code",
   "execution_count": 281,
   "id": "c6c0a494-1b77-4611-9409-33117a202513",
   "metadata": {},
   "outputs": [],
   "source": [
    "# p = pd.read_csv(output_path / \"alex.pathogen_load.tsv\", sep=\"\\t\", index_col=0)\n",
    "# p"
   ]
  },
  {
   "cell_type": "code",
   "execution_count": 282,
   "id": "bc808904-be22-4f56-a49d-097e97cea347",
   "metadata": {},
   "outputs": [],
   "source": [
    "from typing import Generic, TypeVar\n",
    "\n",
    "_T = TypeVar(\"_T\")\n",
    "\n",
    "class SampleTargetGenerator(SampleGenerator, Generic[_T]):\n",
    "    def __init__(\n",
    "        self,\n",
    "        samples: Iterable[sample.SampleInterface],\n",
    "        targets: Iterable[dict[str, _T]],\n",
    "        sequence_length: int,\n",
    "        kmer: int = 1,\n",
    "        subsample_size: int|None = None,\n",
    "        augment_slide: bool = True,\n",
    "        augment_ambiguous_bases: bool = True,\n",
    "        batch_size: int = 32,\n",
    "        batches_per_epoch: int = 100,\n",
    "        class_weights: Optional[npt.ArrayLike] = None,\n",
    "        shuffle: bool = True,\n",
    "        balance: bool = False,\n",
    "        rng: np.random.Generator = np.random.default_rng()\n",
    "    ):\n",
    "        super().__init__(\n",
    "            samples=samples,\n",
    "            sequence_length=sequence_length,\n",
    "            kmer=kmer,\n",
    "            subsample_size=subsample_size,\n",
    "            augment_slide=augment_slide,\n",
    "            augment_ambiguous_bases=augment_ambiguous_bases,\n",
    "            batch_size=batch_size,\n",
    "            batches_per_epoch=batches_per_epoch,\n",
    "            class_weights=class_weights,\n",
    "            shuffle=shuffle,\n",
    "            balance=balance,\n",
    "            rng=rng\n",
    "        )\n",
    "        self.targets = tuple(targets)\n",
    "\n",
    "    def generate_batch(self, rng: np.random.Generator):\n",
    "        subsample_size = self.subsample_size or 1\n",
    "        sequence_ids = [None] * self.batch_size\n",
    "        sequences = np.empty((self.batch_size, subsample_size), dtype=f\"<U{self.sequence_length}\")\n",
    "        targets = tuple([] for _ in self.targets)\n",
    "        sample_names = []\n",
    "        samples = self.sample_sampler.sample(self.batch_size, self.balance, rng)\n",
    "        for i, sample in enumerate(samples):\n",
    "            sample_names.append(sample.name)\n",
    "            sequence_ids[i], sequences[i] = zip(*self.sequence_sampler.sample_with_ids(sample, subsample_size, rng))\n",
    "            for j, target in enumerate(self.targets):\n",
    "                targets[j].append(target[sample.name])\n",
    "        sequences = _encode_sequences(sequences, self.augment_ambiguous_bases, self.rng)\n",
    "        if self.subsample_size is None:\n",
    "            sequences = np.squeeze(sequences, axis=1) # type: ignore\n",
    "        if self.kmer > 1:\n",
    "            sequences = dna.encode_kmers(sequences, self.kmer, not self.augment_ambiguous_bases)\n",
    "        x, y = sequences.astype(np.int32), tuple(map(np.array, targets))\n",
    "        if len(y) == 1:\n",
    "            y = y[0]\n",
    "        return sample_names, sequence_ids, x, y\n",
    "\n",
    "    def reduce_batch(self, batch):\n",
    "        return batch[2:]"
   ]
  },
  {
   "cell_type": "markdown",
   "id": "2c0b7883-da43-4b05-b679-67d4b7d836ad",
   "metadata": {},
   "source": [
    "## Construct Training/Validation Sets"
   ]
  },
  {
   "cell_type": "code",
   "execution_count": 283,
   "id": "d84ff9e6-d6cc-4544-b47c-d682fc48ec42",
   "metadata": {},
   "outputs": [],
   "source": [
    "rng = np.random.default_rng(0)"
   ]
  },
  {
   "cell_type": "code",
   "execution_count": 284,
   "id": "6f102aba-4860-4555-9b13-f63d3faa1a7d",
   "metadata": {},
   "outputs": [],
   "source": [
    "samples = [sample.DemultiplexedFastaSample(fasta_db, entry) for entry in mapping]"
   ]
  },
  {
   "cell_type": "code",
   "execution_count": 285,
   "id": "2ea8457b-4709-45af-8bb7-4f7b3ec1a26e",
   "metadata": {},
   "outputs": [
    {
     "data": {
      "text/plain": [
       "(590, 147, 590, 147)"
      ]
     },
     "execution_count": 285,
     "metadata": {},
     "output_type": "execute_result"
    }
   ],
   "source": [
    "rng.shuffle(samples)\n",
    "split_index = int(0.2*len(samples))\n",
    "train_samples = samples[split_index:]\n",
    "val_samples = samples[:split_index]\n",
    "\n",
    "train_pathogen_loads = {sample.name: pathogen_loads[sample.name] for sample in train_samples}\n",
    "val_pathogen_loads = {sample.name: pathogen_loads[sample.name] for sample in val_samples}\n",
    "\n",
    "train_disease_severity = {sample.name: disease_severity[sample.name] for sample in train_samples}\n",
    "val_disease_severity = {sample.name: disease_severity[sample.name] for sample in val_samples}\n",
    "len(train_pathogen_loads), len(val_pathogen_loads), len(train_disease_severity), len(val_disease_severity)"
   ]
  },
  {
   "cell_type": "code",
   "execution_count": 288,
   "id": "99769f89-bbd6-4b97-9212-9c433e1789e7",
   "metadata": {},
   "outputs": [],
   "source": [
    "def compute_class_weights(samples, targets):\n",
    "    classes, counts = np.unique(list(targets.values()), return_counts=True)\n",
    "    return 1.0/len(classes)/counts[np.array([targets[s.name] for s in samples])]"
   ]
  },
  {
   "cell_type": "code",
   "execution_count": 289,
   "id": "6eff6431-f3fb-4e32-92a5-1dcdc9b8deb7",
   "metadata": {},
   "outputs": [
    {
     "name": "stderr",
     "output_type": "stream",
     "text": [
      "/tmp/ipykernel_457341/3605520578.py:4: VisibleDeprecationWarning: Creating an ndarray from ragged nested sequences (which is a list-or-tuple of lists-or-tuples-or ndarrays with different lengths or shapes) is deprecated. If you meant to do this, you must specify 'dtype=object' when creating the ndarray.\n",
      "  for s in rng.choice(train_samples, 1000, p=compute_class_weights(train_samples, train_disease_severity))\n"
     ]
    },
    {
     "data": {
      "text/plain": [
       "(array([0, 1, 2, 3]), array([231, 264, 273, 232]))"
      ]
     },
     "execution_count": 289,
     "metadata": {},
     "output_type": "execute_result"
    }
   ],
   "source": [
    "# Test (should be ~= 250 each)\n",
    "np.unique([\n",
    "    train_disease_severity[s.name] \\\n",
    "    for s in rng.choice(train_samples, 1000, p=compute_class_weights(train_samples, train_disease_severity))\n",
    "], return_counts=True)"
   ]
  },
  {
   "cell_type": "code",
   "execution_count": 290,
   "id": "80765a43-eda2-44ec-bb00-ad2c893b75df",
   "metadata": {},
   "outputs": [],
   "source": [
    "train_targets = [train_pathogen_loads, train_disease_severity]\n",
    "val_targets = [val_pathogen_loads, val_disease_severity]"
   ]
  },
  {
   "cell_type": "code",
   "execution_count": 326,
   "id": "36d594e1-03a9-4542-93f3-f6dcfff90305",
   "metadata": {},
   "outputs": [],
   "source": [
    "common_args = dict(\n",
    "    sequence_length = 250,\n",
    "    kmer = 3,\n",
    "    subsample_size = 1000,\n",
    "    batch_size=16\n",
    ")\n",
    "\n",
    "train_dataset = SampleTargetGenerator(\n",
    "    train_samples,\n",
    "    train_targets,\n",
    "    class_weights=compute_class_weights(train_samples, train_disease_severity),\n",
    "    batches_per_epoch=20,\n",
    "    **common_args\n",
    ")\n",
    "\n",
    "val_dataset = SampleTargetGenerator(\n",
    "    val_samples,\n",
    "    val_targets,\n",
    "    class_weights=compute_class_weights(val_samples, val_disease_severity),\n",
    "    batches_per_epoch=16,\n",
    "    **common_args\n",
    ")"
   ]
  },
  {
   "cell_type": "code",
   "execution_count": 327,
   "id": "01ad28ad-3f8b-491e-ad01-035d0ce31657",
   "metadata": {},
   "outputs": [
    {
     "data": {
      "text/plain": [
       "(array([3.91797781, 0.        , 3.73575854, 0.90309   , 1.46239805,\n",
       "        3.11693954, 2.52504492, 1.59106457, 0.69897002, 0.        ,\n",
       "        3.55059528, 1.        , 0.30103001, 0.        , 1.25527251,\n",
       "        1.81954396]),\n",
       " array([3, 0, 3, 1, 2, 3, 3, 2, 1, 0, 3, 1, 1, 0, 2, 2]))"
      ]
     },
     "execution_count": 327,
     "metadata": {},
     "output_type": "execute_result"
    }
   ],
   "source": [
    "train_dataset[0][1]"
   ]
  },
  {
   "cell_type": "markdown",
   "id": "933719d3-c2b9-4859-be0b-20ac01538083",
   "metadata": {},
   "source": [
    "## Model Training"
   ]
  },
  {
   "cell_type": "code",
   "execution_count": 322,
   "id": "4fff08d2-656e-4c06-9a68-cfd10fa25bb0",
   "metadata": {},
   "outputs": [
    {
     "data": {
      "text/html": [
       "Finishing last run (ID:5f6l27kk) before initializing another..."
      ],
      "text/plain": [
       "<IPython.core.display.HTML object>"
      ]
     },
     "metadata": {},
     "output_type": "display_data"
    },
    {
     "data": {
      "text/html": [
       "Waiting for W&B process to finish... <strong style=\"color:green\">(success).</strong>"
      ],
      "text/plain": [
       "<IPython.core.display.HTML object>"
      ]
     },
     "metadata": {},
     "output_type": "display_data"
    },
    {
     "data": {
      "application/vnd.jupyter.widget-view+json": {
       "model_id": "be78575137d54d5290a59da027ce1f27",
       "version_major": 2,
       "version_minor": 0
      },
      "text/plain": [
       "VBox(children=(Label(value='0.008 MB of 0.008 MB uploaded (0.000 MB deduped)\\r'), FloatProgress(value=1.0, max…"
      ]
     },
     "metadata": {},
     "output_type": "display_data"
    },
    {
     "data": {
      "text/html": [
       " View run <strong style=\"color:#cdcd00\">severity-classification</strong> at: <a href='https://wandb.ai/sirdavidludwig/setbert-pathogen-load/runs/5f6l27kk' target=\"_blank\">https://wandb.ai/sirdavidludwig/setbert-pathogen-load/runs/5f6l27kk</a><br/>Synced 6 W&B file(s), 1 media file(s), 0 artifact file(s) and 0 other file(s)"
      ],
      "text/plain": [
       "<IPython.core.display.HTML object>"
      ]
     },
     "metadata": {},
     "output_type": "display_data"
    },
    {
     "data": {
      "text/html": [
       "Find logs at: <code>./wandb/run-20230610_142656-5f6l27kk/logs</code>"
      ],
      "text/plain": [
       "<IPython.core.display.HTML object>"
      ]
     },
     "metadata": {},
     "output_type": "display_data"
    },
    {
     "data": {
      "text/html": [
       "Successfully finished last run (ID:5f6l27kk). Initializing new run:<br/>"
      ],
      "text/plain": [
       "<IPython.core.display.HTML object>"
      ]
     },
     "metadata": {},
     "output_type": "display_data"
    },
    {
     "data": {
      "application/vnd.jupyter.widget-view+json": {
       "model_id": "4b5d348071fc4c72b1d8d96548e7097f",
       "version_major": 2,
       "version_minor": 0
      },
      "text/plain": [
       "VBox(children=(Label(value='Waiting for wandb.init()...\\r'), FloatProgress(value=0.01666882071682873, max=1.0)…"
      ]
     },
     "metadata": {},
     "output_type": "display_data"
    },
    {
     "data": {
      "text/html": [
       "wandb version 0.15.4 is available!  To upgrade, please run:\n",
       " $ pip install wandb --upgrade"
      ],
      "text/plain": [
       "<IPython.core.display.HTML object>"
      ]
     },
     "metadata": {},
     "output_type": "display_data"
    },
    {
     "data": {
      "text/html": [
       "Tracking run with wandb version 0.15.3"
      ],
      "text/plain": [
       "<IPython.core.display.HTML object>"
      ]
     },
     "metadata": {},
     "output_type": "display_data"
    },
    {
     "data": {
      "text/html": [
       "Run data is saved locally in <code>/home/dwl2x/work/deep-dna/notebooks/wandb/run-20230610_142947-q8bsmj87</code>"
      ],
      "text/plain": [
       "<IPython.core.display.HTML object>"
      ]
     },
     "metadata": {},
     "output_type": "display_data"
    },
    {
     "data": {
      "text/html": [
       "Syncing run <strong><a href='https://wandb.ai/sirdavidludwig/setbert-pathogen-load/runs/q8bsmj87' target=\"_blank\">severity-classification</a></strong> to <a href='https://wandb.ai/sirdavidludwig/setbert-pathogen-load' target=\"_blank\">Weights & Biases</a> (<a href='https://wandb.me/run' target=\"_blank\">docs</a>)<br/>"
      ],
      "text/plain": [
       "<IPython.core.display.HTML object>"
      ]
     },
     "metadata": {},
     "output_type": "display_data"
    },
    {
     "data": {
      "text/html": [
       " View project at <a href='https://wandb.ai/sirdavidludwig/setbert-pathogen-load' target=\"_blank\">https://wandb.ai/sirdavidludwig/setbert-pathogen-load</a>"
      ],
      "text/plain": [
       "<IPython.core.display.HTML object>"
      ]
     },
     "metadata": {},
     "output_type": "display_data"
    },
    {
     "data": {
      "text/html": [
       " View run at <a href='https://wandb.ai/sirdavidludwig/setbert-pathogen-load/runs/q8bsmj87' target=\"_blank\">https://wandb.ai/sirdavidludwig/setbert-pathogen-load/runs/q8bsmj87</a>"
      ],
      "text/plain": [
       "<IPython.core.display.HTML object>"
      ]
     },
     "metadata": {},
     "output_type": "display_data"
    }
   ],
   "source": [
    "# api = wandb.Api()\n",
    "run = wandb.init(project=\"setbert-pathogen-load\", name=\"severity-classification\")"
   ]
  },
  {
   "cell_type": "code",
   "execution_count": 323,
   "id": "bc3cb187-7014-48c5-95da-240602f2aea4",
   "metadata": {},
   "outputs": [
    {
     "name": "stderr",
     "output_type": "stream",
     "text": [
      "\u001b[34m\u001b[1mwandb\u001b[0m: Downloading large artifact setbert-pretrain-walker-abund-128d-250l:v2, 91.05MB. 4 files... \n",
      "\u001b[34m\u001b[1mwandb\u001b[0m:   4 of 4 files downloaded.  \n",
      "Done. 0:0:0.1\n"
     ]
    }
   ],
   "source": [
    "# path = api.artifact(\"sirdavidludwig/setbert-pretrain/setbert-pretrain-walker-abund-128d-250l:v0\").download()\n",
    "path = run.use_artifact(\"sirdavidludwig/setbert-pretrain/setbert-pretrain-walker-abund-128d-250l:v2\").download()\n",
    "setbert_encoder = setbert.SetBertEncoderModel(\n",
    "    load_model(path, setbert.SetBertPretrainModel).base\n",
    ")\n",
    "setbert_encoder.base.dnabert_encoder.chunk_size = 256"
   ]
  },
  {
   "cell_type": "code",
   "execution_count": 324,
   "id": "7c40c65a-e2da-4e19-a427-6294b9915735",
   "metadata": {},
   "outputs": [],
   "source": [
    "# setbert_encoder(train_dataset[0][0])"
   ]
  },
  {
   "cell_type": "code",
   "execution_count": 325,
   "id": "09308f10-9da5-4d1a-92d4-9ef92d6538d8",
   "metadata": {},
   "outputs": [
    {
     "data": {
      "text/plain": [
       "4"
      ]
     },
     "execution_count": 325,
     "metadata": {},
     "output_type": "execute_result"
    }
   ],
   "source": [
    "num_classes = len(set(disease_severity.values()))\n",
    "num_classes"
   ]
  },
  {
   "cell_type": "code",
   "execution_count": 328,
   "id": "2c0f071c-e003-4260-b118-f8a4a30612a3",
   "metadata": {},
   "outputs": [
    {
     "name": "stdout",
     "output_type": "stream",
     "text": [
      "Model: \"model_36\"\n",
      "__________________________________________________________________________________________________\n",
      " Layer (type)                   Output Shape         Param #     Connected to                     \n",
      "==================================================================================================\n",
      " input_38 (InputLayer)          [(None, 1000, 248)]  0           []                               \n",
      "                                                                                                  \n",
      " set_bert_encoder_model_3 (SetB  ((None, 128),       9240192     ['input_38[0][0]']               \n",
      " ertEncoderModel)                [(None, 8, 1001, 1                                               \n",
      "                                001),                                                             \n",
      "                                 (None, 8, 1001, 10                                               \n",
      "                                01),                                                              \n",
      "                                 (None, 8, 1001, 10                                               \n",
      "                                01),                                                              \n",
      "                                 (None, 8, 1001, 10                                               \n",
      "                                01),                                                              \n",
      "                                 (None, 8, 1001, 10                                               \n",
      "                                01),                                                              \n",
      "                                 (None, 8, 1001, 10                                               \n",
      "                                01),                                                              \n",
      "                                 (None, 8, 1001, 10                                               \n",
      "                                01),                                                              \n",
      "                                 (None, 8, 1001, 10                                               \n",
      "                                01)])                                                             \n",
      "                                                                                                  \n",
      " pathogen_load (Dense)          (None, 1)            129         ['set_bert_encoder_model_3[0][0]'\n",
      "                                                                 ]                                \n",
      "                                                                                                  \n",
      " disease_severity (Dense)       (None, 4)            516         ['set_bert_encoder_model_3[0][0]'\n",
      "                                                                 ]                                \n",
      "                                                                                                  \n",
      "==================================================================================================\n",
      "Total params: 9,240,837\n",
      "Trainable params: 4,489,221\n",
      "Non-trainable params: 4,751,616\n",
      "__________________________________________________________________________________________________\n"
     ]
    }
   ],
   "source": [
    "y = x = tf.keras.layers.Input((1000, 248))\n",
    "y = setbert_encoder(y)\n",
    "y_pathogen_load = tf.keras.layers.Dense(1, activation=\"softplus\", name=\"pathogen_load\")(y)\n",
    "y_disease_severity = tf.keras.layers.Dense(num_classes, activation=\"softmax\", name=\"disease_severity\")(y)\n",
    "model = tf.keras.Model(x, (y_pathogen_load, y_disease_severity))\n",
    "model.compile(\n",
    "    loss={\n",
    "        \"pathogen_load\": tf.keras.losses.MeanSquaredError(name=\"pathogen_load_loss\"),\n",
    "        \"disease_severity\": tf.keras.losses.SparseCategoricalCrossentropy(name=\"disease_severity_loss\", from_logits=False)\n",
    "    },\n",
    "    metrics={\n",
    "        \"disease_severity\": tf.keras.metrics.SparseCategoricalAccuracy(name=\"disease_severity_accuracy\")\n",
    "    },\n",
    "    optimizer=tf.keras.optimizers.Adam(1e-4)\n",
    ")\n",
    "model.summary()"
   ]
  },
  {
   "cell_type": "code",
   "execution_count": 329,
   "id": "b9a9cc15-f14f-49f0-97af-a6728905faff",
   "metadata": {},
   "outputs": [],
   "source": [
    "wandb_callback = wandb.keras.WandbCallback(save_model=False)\n",
    "wandb_callback.save_model_as_artifact = False"
   ]
  },
  {
   "cell_type": "code",
   "execution_count": 330,
   "id": "75d05d5e-c719-425e-b7e7-ef848f500dbf",
   "metadata": {},
   "outputs": [],
   "source": [
    "checkpoint = tf.keras.callbacks.ModelCheckpoint(\"./alex_severity\", save_best_only=True)"
   ]
  },
  {
   "cell_type": "code",
   "execution_count": 331,
   "id": "2ce48abd-3be5-4f95-957d-8630baddf377",
   "metadata": {},
   "outputs": [
    {
     "name": "stdout",
     "output_type": "stream",
     "text": [
      "Epoch 1/100\n",
      "20/20 [==============================] - ETA: 0s - loss: 13.7367 - pathogen_load_loss: 9.1432 - disease_severity_loss: 4.5934 - disease_severity_disease_severity_accuracy: 0.2625 WARNING:tensorflow:5 out of the last 5 calls to <function Model.make_test_function.<locals>.test_function at 0x7f0807dff400> triggered tf.function retracing. Tracing is expensive and the excessive number of tracings could be due to (1) creating @tf.function repeatedly in a loop, (2) passing tensors with different shapes, (3) passing Python objects instead of tensors. For (1), please define your @tf.function outside of the loop. For (2), @tf.function has reduce_retracing=True option that can avoid unnecessary retracing. For (3), please refer to https://www.tensorflow.org/guide/function#controlling_retracing and https://www.tensorflow.org/api_docs/python/tf/function for  more details.\n"
     ]
    },
    {
     "name": "stderr",
     "output_type": "stream",
     "text": [
      "WARNING:absl:Found untraced functions such as multi_head_attention_24_layer_call_fn, multi_head_attention_24_layer_call_and_return_conditional_losses, layer_normalization_layer_call_fn, layer_normalization_layer_call_and_return_conditional_losses, layer_normalization_1_layer_call_fn while saving (showing 5 of 324). These functions will not be directly callable after loading.\n"
     ]
    },
    {
     "name": "stdout",
     "output_type": "stream",
     "text": [
      "INFO:tensorflow:Assets written to: ./alex_severity/assets\n"
     ]
    },
    {
     "name": "stderr",
     "output_type": "stream",
     "text": [
      "INFO:tensorflow:Assets written to: ./alex_severity/assets\n",
      "/opt/conda/lib/python3.10/site-packages/keras/engine/functional.py:1384: CustomMaskWarning: Custom mask layers require a config and must override get_config. When loading, the custom mask layer must be passed to the custom_objects argument.\n",
      "  layer_config = serialize_layer_fn(layer)\n"
     ]
    },
    {
     "name": "stdout",
     "output_type": "stream",
     "text": [
      "20/20 [==============================] - 561s 28s/step - loss: 13.7367 - pathogen_load_loss: 9.1432 - disease_severity_loss: 4.5934 - disease_severity_disease_severity_accuracy: 0.2625 - val_loss: 8.0196 - val_pathogen_load_loss: 3.1977 - val_disease_severity_loss: 4.8218 - val_disease_severity_disease_severity_accuracy: 0.2148\n",
      "Epoch 2/100\n"
     ]
    },
    {
     "name": "stderr",
     "output_type": "stream",
     "text": [
      "/opt/conda/lib/python3.10/site-packages/keras/saving/saved_model/layer_serialization.py:112: CustomMaskWarning: Custom mask layers require a config and must override get_config. When loading, the custom mask layer must be passed to the custom_objects argument.\n",
      "  return generic_utils.serialize_keras_object(obj)\n"
     ]
    },
    {
     "name": "stdout",
     "output_type": "stream",
     "text": [
      "20/20 [==============================] - ETA: 0s - loss: 5.7267 - pathogen_load_loss: 3.8387 - disease_severity_loss: 1.8880 - disease_severity_disease_severity_accuracy: 0.3125 "
     ]
    },
    {
     "name": "stderr",
     "output_type": "stream",
     "text": [
      "WARNING:absl:Found untraced functions such as multi_head_attention_24_layer_call_fn, multi_head_attention_24_layer_call_and_return_conditional_losses, layer_normalization_layer_call_fn, layer_normalization_layer_call_and_return_conditional_losses, layer_normalization_1_layer_call_fn while saving (showing 5 of 324). These functions will not be directly callable after loading.\n"
     ]
    },
    {
     "name": "stdout",
     "output_type": "stream",
     "text": [
      "INFO:tensorflow:Assets written to: ./alex_severity/assets\n"
     ]
    },
    {
     "name": "stderr",
     "output_type": "stream",
     "text": [
      "INFO:tensorflow:Assets written to: ./alex_severity/assets\n"
     ]
    },
    {
     "name": "stdout",
     "output_type": "stream",
     "text": [
      "20/20 [==============================] - 553s 28s/step - loss: 5.7267 - pathogen_load_loss: 3.8387 - disease_severity_loss: 1.8880 - disease_severity_disease_severity_accuracy: 0.3125 - val_loss: 7.2585 - val_pathogen_load_loss: 3.7373 - val_disease_severity_loss: 3.5212 - val_disease_severity_disease_severity_accuracy: 0.2656\n"
     ]
    },
    {
     "name": "stderr",
     "output_type": "stream",
     "text": [
      "/opt/conda/lib/python3.10/site-packages/keras/engine/functional.py:1384: CustomMaskWarning: Custom mask layers require a config and must override get_config. When loading, the custom mask layer must be passed to the custom_objects argument.\n",
      "  layer_config = serialize_layer_fn(layer)\n",
      "/opt/conda/lib/python3.10/site-packages/keras/saving/saved_model/layer_serialization.py:112: CustomMaskWarning: Custom mask layers require a config and must override get_config. When loading, the custom mask layer must be passed to the custom_objects argument.\n",
      "  return generic_utils.serialize_keras_object(obj)\n"
     ]
    },
    {
     "name": "stdout",
     "output_type": "stream",
     "text": [
      "Epoch 3/100\n",
      "20/20 [==============================] - ETA: 0s - loss: 5.4442 - pathogen_load_loss: 3.9230 - disease_severity_loss: 1.5212 - disease_severity_disease_severity_accuracy: 0.3406 "
     ]
    },
    {
     "name": "stderr",
     "output_type": "stream",
     "text": [
      "WARNING:absl:Found untraced functions such as multi_head_attention_24_layer_call_fn, multi_head_attention_24_layer_call_and_return_conditional_losses, layer_normalization_layer_call_fn, layer_normalization_layer_call_and_return_conditional_losses, layer_normalization_1_layer_call_fn while saving (showing 5 of 324). These functions will not be directly callable after loading.\n"
     ]
    },
    {
     "name": "stdout",
     "output_type": "stream",
     "text": [
      "INFO:tensorflow:Assets written to: ./alex_severity/assets\n"
     ]
    },
    {
     "name": "stderr",
     "output_type": "stream",
     "text": [
      "INFO:tensorflow:Assets written to: ./alex_severity/assets\n",
      "/opt/conda/lib/python3.10/site-packages/keras/engine/functional.py:1384: CustomMaskWarning: Custom mask layers require a config and must override get_config. When loading, the custom mask layer must be passed to the custom_objects argument.\n",
      "  layer_config = serialize_layer_fn(layer)\n",
      "/opt/conda/lib/python3.10/site-packages/keras/saving/saved_model/layer_serialization.py:112: CustomMaskWarning: Custom mask layers require a config and must override get_config. When loading, the custom mask layer must be passed to the custom_objects argument.\n",
      "  return generic_utils.serialize_keras_object(obj)\n"
     ]
    },
    {
     "name": "stdout",
     "output_type": "stream",
     "text": [
      "20/20 [==============================] - 554s 28s/step - loss: 5.4442 - pathogen_load_loss: 3.9230 - disease_severity_loss: 1.5212 - disease_severity_disease_severity_accuracy: 0.3406 - val_loss: 5.8321 - val_pathogen_load_loss: 3.1573 - val_disease_severity_loss: 2.6747 - val_disease_severity_disease_severity_accuracy: 0.2031\n",
      "Epoch 4/100\n",
      "20/20 [==============================] - 515s 26s/step - loss: 5.0488 - pathogen_load_loss: 3.7089 - disease_severity_loss: 1.3399 - disease_severity_disease_severity_accuracy: 0.4437 - val_loss: 5.9657 - val_pathogen_load_loss: 3.4986 - val_disease_severity_loss: 2.4670 - val_disease_severity_disease_severity_accuracy: 0.1523\n",
      "Epoch 5/100\n",
      "20/20 [==============================] - 515s 26s/step - loss: 4.3046 - pathogen_load_loss: 3.1441 - disease_severity_loss: 1.1605 - disease_severity_disease_severity_accuracy: 0.4812 - val_loss: 6.5922 - val_pathogen_load_loss: 4.0111 - val_disease_severity_loss: 2.5810 - val_disease_severity_disease_severity_accuracy: 0.2305\n",
      "Epoch 6/100\n",
      "20/20 [==============================] - 515s 26s/step - loss: 4.8967 - pathogen_load_loss: 3.7606 - disease_severity_loss: 1.1361 - disease_severity_disease_severity_accuracy: 0.4688 - val_loss: 6.2016 - val_pathogen_load_loss: 3.6116 - val_disease_severity_loss: 2.5901 - val_disease_severity_disease_severity_accuracy: 0.2266\n",
      "Epoch 7/100\n",
      "20/20 [==============================] - 515s 26s/step - loss: 4.9608 - pathogen_load_loss: 3.7677 - disease_severity_loss: 1.1931 - disease_severity_disease_severity_accuracy: 0.4844 - val_loss: 6.1110 - val_pathogen_load_loss: 3.2930 - val_disease_severity_loss: 2.8180 - val_disease_severity_disease_severity_accuracy: 0.2227\n",
      "Epoch 8/100\n",
      "20/20 [==============================] - 515s 26s/step - loss: 4.7263 - pathogen_load_loss: 3.6907 - disease_severity_loss: 1.0356 - disease_severity_disease_severity_accuracy: 0.5562 - val_loss: 6.5969 - val_pathogen_load_loss: 3.9199 - val_disease_severity_loss: 2.6770 - val_disease_severity_disease_severity_accuracy: 0.2188\n",
      "Epoch 9/100\n",
      "20/20 [==============================] - 515s 26s/step - loss: 4.7773 - pathogen_load_loss: 3.6451 - disease_severity_loss: 1.1322 - disease_severity_disease_severity_accuracy: 0.4781 - val_loss: 5.9754 - val_pathogen_load_loss: 3.5638 - val_disease_severity_loss: 2.4116 - val_disease_severity_disease_severity_accuracy: 0.2461\n",
      "Epoch 10/100\n",
      "20/20 [==============================] - ETA: 0s - loss: 4.9760 - pathogen_load_loss: 3.7914 - disease_severity_loss: 1.1846 - disease_severity_disease_severity_accuracy: 0.4688 "
     ]
    },
    {
     "name": "stderr",
     "output_type": "stream",
     "text": [
      "WARNING:absl:Found untraced functions such as multi_head_attention_24_layer_call_fn, multi_head_attention_24_layer_call_and_return_conditional_losses, layer_normalization_layer_call_fn, layer_normalization_layer_call_and_return_conditional_losses, layer_normalization_1_layer_call_fn while saving (showing 5 of 324). These functions will not be directly callable after loading.\n"
     ]
    },
    {
     "name": "stdout",
     "output_type": "stream",
     "text": [
      "INFO:tensorflow:Assets written to: ./alex_severity/assets\n"
     ]
    },
    {
     "name": "stderr",
     "output_type": "stream",
     "text": [
      "INFO:tensorflow:Assets written to: ./alex_severity/assets\n"
     ]
    },
    {
     "name": "stdout",
     "output_type": "stream",
     "text": [
      "20/20 [==============================] - 553s 28s/step - loss: 4.9760 - pathogen_load_loss: 3.7914 - disease_severity_loss: 1.1846 - disease_severity_disease_severity_accuracy: 0.4688 - val_loss: 5.7959 - val_pathogen_load_loss: 3.1913 - val_disease_severity_loss: 2.6045 - val_disease_severity_disease_severity_accuracy: 0.1758\n"
     ]
    },
    {
     "name": "stderr",
     "output_type": "stream",
     "text": [
      "/opt/conda/lib/python3.10/site-packages/keras/engine/functional.py:1384: CustomMaskWarning: Custom mask layers require a config and must override get_config. When loading, the custom mask layer must be passed to the custom_objects argument.\n",
      "  layer_config = serialize_layer_fn(layer)\n",
      "/opt/conda/lib/python3.10/site-packages/keras/saving/saved_model/layer_serialization.py:112: CustomMaskWarning: Custom mask layers require a config and must override get_config. When loading, the custom mask layer must be passed to the custom_objects argument.\n",
      "  return generic_utils.serialize_keras_object(obj)\n"
     ]
    },
    {
     "name": "stdout",
     "output_type": "stream",
     "text": [
      "Epoch 11/100\n",
      "20/20 [==============================] - 515s 26s/step - loss: 4.7350 - pathogen_load_loss: 3.7023 - disease_severity_loss: 1.0327 - disease_severity_disease_severity_accuracy: 0.5500 - val_loss: 6.0809 - val_pathogen_load_loss: 3.5684 - val_disease_severity_loss: 2.5125 - val_disease_severity_disease_severity_accuracy: 0.2227\n",
      "Epoch 12/100\n",
      "20/20 [==============================] - 515s 26s/step - loss: 4.8323 - pathogen_load_loss: 3.8335 - disease_severity_loss: 0.9988 - disease_severity_disease_severity_accuracy: 0.5500 - val_loss: 6.0564 - val_pathogen_load_loss: 3.1679 - val_disease_severity_loss: 2.8885 - val_disease_severity_disease_severity_accuracy: 0.2188\n",
      "Epoch 13/100\n",
      "20/20 [==============================] - 515s 26s/step - loss: 4.5677 - pathogen_load_loss: 3.6006 - disease_severity_loss: 0.9671 - disease_severity_disease_severity_accuracy: 0.5625 - val_loss: 6.4038 - val_pathogen_load_loss: 3.8558 - val_disease_severity_loss: 2.5480 - val_disease_severity_disease_severity_accuracy: 0.1992\n",
      "Epoch 14/100\n",
      "20/20 [==============================] - 515s 26s/step - loss: 4.7084 - pathogen_load_loss: 3.7010 - disease_severity_loss: 1.0074 - disease_severity_disease_severity_accuracy: 0.5750 - val_loss: 6.6030 - val_pathogen_load_loss: 3.6626 - val_disease_severity_loss: 2.9403 - val_disease_severity_disease_severity_accuracy: 0.2070\n",
      "Epoch 15/100\n",
      "20/20 [==============================] - 515s 26s/step - loss: 4.8913 - pathogen_load_loss: 3.8269 - disease_severity_loss: 1.0644 - disease_severity_disease_severity_accuracy: 0.5156 - val_loss: 5.8599 - val_pathogen_load_loss: 3.0635 - val_disease_severity_loss: 2.7964 - val_disease_severity_disease_severity_accuracy: 0.2031\n",
      "Epoch 16/100\n",
      "20/20 [==============================] - 515s 26s/step - loss: 4.8034 - pathogen_load_loss: 3.8123 - disease_severity_loss: 0.9911 - disease_severity_disease_severity_accuracy: 0.5625 - val_loss: 6.0490 - val_pathogen_load_loss: 3.2693 - val_disease_severity_loss: 2.7797 - val_disease_severity_disease_severity_accuracy: 0.1758\n",
      "Epoch 17/100\n",
      "20/20 [==============================] - 515s 26s/step - loss: 4.6056 - pathogen_load_loss: 3.6839 - disease_severity_loss: 0.9217 - disease_severity_disease_severity_accuracy: 0.5813 - val_loss: 6.0737 - val_pathogen_load_loss: 3.4481 - val_disease_severity_loss: 2.6256 - val_disease_severity_disease_severity_accuracy: 0.2031\n",
      "Epoch 18/100\n",
      "20/20 [==============================] - 515s 26s/step - loss: 4.5421 - pathogen_load_loss: 3.6193 - disease_severity_loss: 0.9228 - disease_severity_disease_severity_accuracy: 0.6156 - val_loss: 6.1500 - val_pathogen_load_loss: 3.2342 - val_disease_severity_loss: 2.9158 - val_disease_severity_disease_severity_accuracy: 0.2188\n",
      "Epoch 19/100\n",
      "20/20 [==============================] - 515s 26s/step - loss: 4.5346 - pathogen_load_loss: 3.6504 - disease_severity_loss: 0.8841 - disease_severity_disease_severity_accuracy: 0.6313 - val_loss: 5.7964 - val_pathogen_load_loss: 3.2877 - val_disease_severity_loss: 2.5087 - val_disease_severity_disease_severity_accuracy: 0.2891\n",
      "Epoch 20/100\n",
      "20/20 [==============================] - 515s 26s/step - loss: 4.2699 - pathogen_load_loss: 3.2730 - disease_severity_loss: 0.9969 - disease_severity_disease_severity_accuracy: 0.5656 - val_loss: 6.3270 - val_pathogen_load_loss: 3.8384 - val_disease_severity_loss: 2.4886 - val_disease_severity_disease_severity_accuracy: 0.2148\n",
      "Epoch 21/100\n",
      "20/20 [==============================] - 515s 26s/step - loss: 4.7173 - pathogen_load_loss: 3.8043 - disease_severity_loss: 0.9130 - disease_severity_disease_severity_accuracy: 0.6125 - val_loss: 6.0319 - val_pathogen_load_loss: 3.2007 - val_disease_severity_loss: 2.8313 - val_disease_severity_disease_severity_accuracy: 0.2031\n",
      "Epoch 22/100\n",
      "20/20 [==============================] - 515s 26s/step - loss: 4.3995 - pathogen_load_loss: 3.5116 - disease_severity_loss: 0.8878 - disease_severity_disease_severity_accuracy: 0.6031 - val_loss: 6.1868 - val_pathogen_load_loss: 3.7002 - val_disease_severity_loss: 2.4866 - val_disease_severity_disease_severity_accuracy: 0.2383\n",
      "Epoch 23/100\n",
      "20/20 [==============================] - 515s 26s/step - loss: 4.7364 - pathogen_load_loss: 3.9199 - disease_severity_loss: 0.8165 - disease_severity_disease_severity_accuracy: 0.6594 - val_loss: 6.1340 - val_pathogen_load_loss: 3.4444 - val_disease_severity_loss: 2.6896 - val_disease_severity_disease_severity_accuracy: 0.1953\n",
      "Epoch 24/100\n",
      "20/20 [==============================] - 515s 26s/step - loss: 4.6846 - pathogen_load_loss: 3.8376 - disease_severity_loss: 0.8469 - disease_severity_disease_severity_accuracy: 0.6531 - val_loss: 6.2253 - val_pathogen_load_loss: 3.5137 - val_disease_severity_loss: 2.7116 - val_disease_severity_disease_severity_accuracy: 0.1836\n",
      "Epoch 25/100\n",
      "20/20 [==============================] - 515s 26s/step - loss: 4.0728 - pathogen_load_loss: 3.2798 - disease_severity_loss: 0.7929 - disease_severity_disease_severity_accuracy: 0.6781 - val_loss: 6.4736 - val_pathogen_load_loss: 3.5082 - val_disease_severity_loss: 2.9654 - val_disease_severity_disease_severity_accuracy: 0.2344\n",
      "Epoch 26/100\n",
      "20/20 [==============================] - 515s 26s/step - loss: 4.5050 - pathogen_load_loss: 3.6627 - disease_severity_loss: 0.8423 - disease_severity_disease_severity_accuracy: 0.6656 - val_loss: 5.8450 - val_pathogen_load_loss: 3.2299 - val_disease_severity_loss: 2.6151 - val_disease_severity_disease_severity_accuracy: 0.2969\n",
      "Epoch 27/100\n",
      "20/20 [==============================] - 515s 26s/step - loss: 4.3587 - pathogen_load_loss: 3.5702 - disease_severity_loss: 0.7885 - disease_severity_disease_severity_accuracy: 0.6906 - val_loss: 6.0149 - val_pathogen_load_loss: 3.1544 - val_disease_severity_loss: 2.8605 - val_disease_severity_disease_severity_accuracy: 0.2656\n",
      "Epoch 28/100\n",
      "20/20 [==============================] - 515s 26s/step - loss: 3.9879 - pathogen_load_loss: 3.1763 - disease_severity_loss: 0.8116 - disease_severity_disease_severity_accuracy: 0.6594 - val_loss: 6.3777 - val_pathogen_load_loss: 3.4214 - val_disease_severity_loss: 2.9563 - val_disease_severity_disease_severity_accuracy: 0.2109\n",
      "Epoch 29/100\n",
      "20/20 [==============================] - 515s 26s/step - loss: 4.5397 - pathogen_load_loss: 3.7417 - disease_severity_loss: 0.7979 - disease_severity_disease_severity_accuracy: 0.6562 - val_loss: 6.3698 - val_pathogen_load_loss: 3.4885 - val_disease_severity_loss: 2.8813 - val_disease_severity_disease_severity_accuracy: 0.2812\n",
      "Epoch 30/100\n",
      "20/20 [==============================] - 515s 26s/step - loss: 4.3119 - pathogen_load_loss: 3.4508 - disease_severity_loss: 0.8611 - disease_severity_disease_severity_accuracy: 0.6469 - val_loss: 6.7528 - val_pathogen_load_loss: 3.6394 - val_disease_severity_loss: 3.1134 - val_disease_severity_disease_severity_accuracy: 0.2305\n",
      "Epoch 31/100\n",
      "20/20 [==============================] - 515s 26s/step - loss: 4.2889 - pathogen_load_loss: 3.5050 - disease_severity_loss: 0.7840 - disease_severity_disease_severity_accuracy: 0.6906 - val_loss: 6.3019 - val_pathogen_load_loss: 3.0350 - val_disease_severity_loss: 3.2668 - val_disease_severity_disease_severity_accuracy: 0.2227\n",
      "Epoch 32/100\n",
      "20/20 [==============================] - 515s 26s/step - loss: 4.1291 - pathogen_load_loss: 3.3273 - disease_severity_loss: 0.8019 - disease_severity_disease_severity_accuracy: 0.6875 - val_loss: 6.9224 - val_pathogen_load_loss: 3.7591 - val_disease_severity_loss: 3.1633 - val_disease_severity_disease_severity_accuracy: 0.2695\n",
      "Epoch 33/100\n",
      "20/20 [==============================] - 515s 26s/step - loss: 4.1346 - pathogen_load_loss: 3.3406 - disease_severity_loss: 0.7940 - disease_severity_disease_severity_accuracy: 0.7031 - val_loss: 7.0502 - val_pathogen_load_loss: 3.8313 - val_disease_severity_loss: 3.2190 - val_disease_severity_disease_severity_accuracy: 0.2461\n",
      "Epoch 34/100\n",
      "20/20 [==============================] - 515s 26s/step - loss: 4.5333 - pathogen_load_loss: 3.7673 - disease_severity_loss: 0.7660 - disease_severity_disease_severity_accuracy: 0.6750 - val_loss: 7.4157 - val_pathogen_load_loss: 3.7976 - val_disease_severity_loss: 3.6181 - val_disease_severity_disease_severity_accuracy: 0.2578\n",
      "Epoch 35/100\n",
      "20/20 [==============================] - 515s 26s/step - loss: 4.1356 - pathogen_load_loss: 3.3144 - disease_severity_loss: 0.8212 - disease_severity_disease_severity_accuracy: 0.6750 - val_loss: 6.9582 - val_pathogen_load_loss: 3.2489 - val_disease_severity_loss: 3.7093 - val_disease_severity_disease_severity_accuracy: 0.1914\n",
      "Epoch 36/100\n",
      "20/20 [==============================] - 515s 26s/step - loss: 4.3231 - pathogen_load_loss: 3.5911 - disease_severity_loss: 0.7321 - disease_severity_disease_severity_accuracy: 0.6719 - val_loss: 7.5515 - val_pathogen_load_loss: 3.7364 - val_disease_severity_loss: 3.8152 - val_disease_severity_disease_severity_accuracy: 0.1719\n",
      "Epoch 37/100\n",
      "20/20 [==============================] - 515s 26s/step - loss: 4.5468 - pathogen_load_loss: 3.8190 - disease_severity_loss: 0.7279 - disease_severity_disease_severity_accuracy: 0.7125 - val_loss: 6.8947 - val_pathogen_load_loss: 3.3049 - val_disease_severity_loss: 3.5898 - val_disease_severity_disease_severity_accuracy: 0.2578\n",
      "Epoch 38/100\n",
      "20/20 [==============================] - 515s 26s/step - loss: 4.0355 - pathogen_load_loss: 3.3638 - disease_severity_loss: 0.6717 - disease_severity_disease_severity_accuracy: 0.7125 - val_loss: 7.3671 - val_pathogen_load_loss: 3.5032 - val_disease_severity_loss: 3.8638 - val_disease_severity_disease_severity_accuracy: 0.1836\n",
      "Epoch 39/100\n",
      "20/20 [==============================] - 515s 26s/step - loss: 4.4467 - pathogen_load_loss: 3.6996 - disease_severity_loss: 0.7471 - disease_severity_disease_severity_accuracy: 0.6938 - val_loss: 7.4257 - val_pathogen_load_loss: 3.6175 - val_disease_severity_loss: 3.8082 - val_disease_severity_disease_severity_accuracy: 0.2188\n",
      "Epoch 40/100\n",
      "20/20 [==============================] - 515s 26s/step - loss: 3.5625 - pathogen_load_loss: 2.7812 - disease_severity_loss: 0.7813 - disease_severity_disease_severity_accuracy: 0.6750 - val_loss: 7.3699 - val_pathogen_load_loss: 3.3726 - val_disease_severity_loss: 3.9973 - val_disease_severity_disease_severity_accuracy: 0.2500\n",
      "Epoch 41/100\n",
      "20/20 [==============================] - 515s 26s/step - loss: 4.2298 - pathogen_load_loss: 3.6202 - disease_severity_loss: 0.6095 - disease_severity_disease_severity_accuracy: 0.7531 - val_loss: 6.8257 - val_pathogen_load_loss: 3.1897 - val_disease_severity_loss: 3.6361 - val_disease_severity_disease_severity_accuracy: 0.2656\n",
      "Epoch 42/100\n",
      "20/20 [==============================] - 515s 26s/step - loss: 4.2391 - pathogen_load_loss: 3.6033 - disease_severity_loss: 0.6358 - disease_severity_disease_severity_accuracy: 0.7344 - val_loss: 7.0531 - val_pathogen_load_loss: 2.6960 - val_disease_severity_loss: 4.3571 - val_disease_severity_disease_severity_accuracy: 0.2266\n",
      "Epoch 43/100\n",
      "20/20 [==============================] - 515s 26s/step - loss: 2.6584 - pathogen_load_loss: 1.8190 - disease_severity_loss: 0.8394 - disease_severity_disease_severity_accuracy: 0.6625 - val_loss: 6.4380 - val_pathogen_load_loss: 3.0117 - val_disease_severity_loss: 3.4262 - val_disease_severity_disease_severity_accuracy: 0.2656\n",
      "Epoch 44/100\n",
      "20/20 [==============================] - 515s 26s/step - loss: 2.1088 - pathogen_load_loss: 1.2451 - disease_severity_loss: 0.8637 - disease_severity_disease_severity_accuracy: 0.6625 - val_loss: 8.2627 - val_pathogen_load_loss: 4.5809 - val_disease_severity_loss: 3.6818 - val_disease_severity_disease_severity_accuracy: 0.2656\n",
      "Epoch 45/100\n",
      "20/20 [==============================] - 515s 26s/step - loss: 1.5698 - pathogen_load_loss: 0.8630 - disease_severity_loss: 0.7068 - disease_severity_disease_severity_accuracy: 0.7156 - val_loss: 7.9005 - val_pathogen_load_loss: 4.3118 - val_disease_severity_loss: 3.5887 - val_disease_severity_disease_severity_accuracy: 0.1953\n",
      "Epoch 46/100\n",
      "20/20 [==============================] - 515s 26s/step - loss: 1.7025 - pathogen_load_loss: 0.9722 - disease_severity_loss: 0.7303 - disease_severity_disease_severity_accuracy: 0.7156 - val_loss: 8.8270 - val_pathogen_load_loss: 4.7288 - val_disease_severity_loss: 4.0982 - val_disease_severity_disease_severity_accuracy: 0.2266\n",
      "Epoch 47/100\n",
      "20/20 [==============================] - 515s 26s/step - loss: 1.4718 - pathogen_load_loss: 0.8155 - disease_severity_loss: 0.6562 - disease_severity_disease_severity_accuracy: 0.7531 - val_loss: 7.0709 - val_pathogen_load_loss: 3.6319 - val_disease_severity_loss: 3.4390 - val_disease_severity_disease_severity_accuracy: 0.2500\n",
      "Epoch 48/100\n",
      "20/20 [==============================] - 515s 26s/step - loss: 1.2688 - pathogen_load_loss: 0.6675 - disease_severity_loss: 0.6013 - disease_severity_disease_severity_accuracy: 0.7781 - val_loss: 9.3529 - val_pathogen_load_loss: 5.2976 - val_disease_severity_loss: 4.0553 - val_disease_severity_disease_severity_accuracy: 0.2266\n",
      "Epoch 49/100\n",
      "20/20 [==============================] - 515s 26s/step - loss: 1.2116 - pathogen_load_loss: 0.6424 - disease_severity_loss: 0.5692 - disease_severity_disease_severity_accuracy: 0.7781 - val_loss: 8.0594 - val_pathogen_load_loss: 3.9682 - val_disease_severity_loss: 4.0912 - val_disease_severity_disease_severity_accuracy: 0.2266\n",
      "Epoch 50/100\n",
      "20/20 [==============================] - 515s 26s/step - loss: 1.3588 - pathogen_load_loss: 0.7152 - disease_severity_loss: 0.6436 - disease_severity_disease_severity_accuracy: 0.7281 - val_loss: 7.8075 - val_pathogen_load_loss: 3.7595 - val_disease_severity_loss: 4.0480 - val_disease_severity_disease_severity_accuracy: 0.2539\n",
      "Epoch 51/100\n",
      "20/20 [==============================] - 515s 26s/step - loss: 1.2297 - pathogen_load_loss: 0.6182 - disease_severity_loss: 0.6115 - disease_severity_disease_severity_accuracy: 0.7688 - val_loss: 10.0678 - val_pathogen_load_loss: 5.6030 - val_disease_severity_loss: 4.4648 - val_disease_severity_disease_severity_accuracy: 0.2109\n",
      "Epoch 52/100\n",
      "20/20 [==============================] - 515s 26s/step - loss: 1.4107 - pathogen_load_loss: 0.7999 - disease_severity_loss: 0.6107 - disease_severity_disease_severity_accuracy: 0.7656 - val_loss: 13.4573 - val_pathogen_load_loss: 8.2670 - val_disease_severity_loss: 5.1903 - val_disease_severity_disease_severity_accuracy: 0.2031\n",
      "Epoch 53/100\n",
      "20/20 [==============================] - 515s 26s/step - loss: 1.3522 - pathogen_load_loss: 0.7212 - disease_severity_loss: 0.6311 - disease_severity_disease_severity_accuracy: 0.7375 - val_loss: 8.3525 - val_pathogen_load_loss: 4.0772 - val_disease_severity_loss: 4.2753 - val_disease_severity_disease_severity_accuracy: 0.2891\n",
      "Epoch 54/100\n",
      "20/20 [==============================] - 515s 26s/step - loss: 1.1255 - pathogen_load_loss: 0.5428 - disease_severity_loss: 0.5828 - disease_severity_disease_severity_accuracy: 0.7531 - val_loss: 8.2059 - val_pathogen_load_loss: 3.9547 - val_disease_severity_loss: 4.2512 - val_disease_severity_disease_severity_accuracy: 0.2812\n",
      "Epoch 55/100\n",
      "20/20 [==============================] - 515s 26s/step - loss: 1.0113 - pathogen_load_loss: 0.4836 - disease_severity_loss: 0.5277 - disease_severity_disease_severity_accuracy: 0.7937 - val_loss: 9.5479 - val_pathogen_load_loss: 4.7368 - val_disease_severity_loss: 4.8112 - val_disease_severity_disease_severity_accuracy: 0.2109\n",
      "Epoch 56/100\n",
      "20/20 [==============================] - 515s 26s/step - loss: 1.1065 - pathogen_load_loss: 0.5647 - disease_severity_loss: 0.5419 - disease_severity_disease_severity_accuracy: 0.7781 - val_loss: 9.9850 - val_pathogen_load_loss: 4.8260 - val_disease_severity_loss: 5.1590 - val_disease_severity_disease_severity_accuracy: 0.1445\n",
      "Epoch 57/100\n",
      "20/20 [==============================] - 515s 26s/step - loss: 1.2327 - pathogen_load_loss: 0.6424 - disease_severity_loss: 0.5904 - disease_severity_disease_severity_accuracy: 0.7781 - val_loss: 10.8477 - val_pathogen_load_loss: 6.2919 - val_disease_severity_loss: 4.5558 - val_disease_severity_disease_severity_accuracy: 0.2383\n",
      "Epoch 58/100\n",
      "20/20 [==============================] - 515s 26s/step - loss: 1.2233 - pathogen_load_loss: 0.6321 - disease_severity_loss: 0.5913 - disease_severity_disease_severity_accuracy: 0.7437 - val_loss: 7.7876 - val_pathogen_load_loss: 3.7737 - val_disease_severity_loss: 4.0138 - val_disease_severity_disease_severity_accuracy: 0.2383\n",
      "Epoch 59/100\n",
      "20/20 [==============================] - 515s 26s/step - loss: 1.1153 - pathogen_load_loss: 0.5745 - disease_severity_loss: 0.5408 - disease_severity_disease_severity_accuracy: 0.8031 - val_loss: 9.1672 - val_pathogen_load_loss: 4.9083 - val_disease_severity_loss: 4.2589 - val_disease_severity_disease_severity_accuracy: 0.2891\n",
      "Epoch 60/100\n",
      "20/20 [==============================] - 515s 26s/step - loss: 1.2960 - pathogen_load_loss: 0.7078 - disease_severity_loss: 0.5882 - disease_severity_disease_severity_accuracy: 0.7563 - val_loss: 7.5843 - val_pathogen_load_loss: 3.3508 - val_disease_severity_loss: 4.2335 - val_disease_severity_disease_severity_accuracy: 0.2266\n",
      "Epoch 61/100\n",
      "20/20 [==============================] - 515s 26s/step - loss: 1.1738 - pathogen_load_loss: 0.6191 - disease_severity_loss: 0.5547 - disease_severity_disease_severity_accuracy: 0.7906 - val_loss: 7.3545 - val_pathogen_load_loss: 3.0767 - val_disease_severity_loss: 4.2778 - val_disease_severity_disease_severity_accuracy: 0.2344\n",
      "Epoch 62/100\n",
      "20/20 [==============================] - 515s 26s/step - loss: 1.0876 - pathogen_load_loss: 0.5755 - disease_severity_loss: 0.5121 - disease_severity_disease_severity_accuracy: 0.8125 - val_loss: 8.2753 - val_pathogen_load_loss: 4.0668 - val_disease_severity_loss: 4.2085 - val_disease_severity_disease_severity_accuracy: 0.2578\n",
      "Epoch 63/100\n",
      "20/20 [==============================] - 515s 26s/step - loss: 1.0498 - pathogen_load_loss: 0.5880 - disease_severity_loss: 0.4618 - disease_severity_disease_severity_accuracy: 0.8219 - val_loss: 8.1329 - val_pathogen_load_loss: 3.5158 - val_disease_severity_loss: 4.6172 - val_disease_severity_disease_severity_accuracy: 0.1992\n",
      "Epoch 64/100\n",
      "20/20 [==============================] - 515s 26s/step - loss: 1.2348 - pathogen_load_loss: 0.6746 - disease_severity_loss: 0.5601 - disease_severity_disease_severity_accuracy: 0.8000 - val_loss: 8.3759 - val_pathogen_load_loss: 3.7440 - val_disease_severity_loss: 4.6319 - val_disease_severity_disease_severity_accuracy: 0.2695\n",
      "Epoch 65/100\n",
      "20/20 [==============================] - 515s 26s/step - loss: 1.0505 - pathogen_load_loss: 0.5141 - disease_severity_loss: 0.5363 - disease_severity_disease_severity_accuracy: 0.7812 - val_loss: 8.2077 - val_pathogen_load_loss: 3.5698 - val_disease_severity_loss: 4.6379 - val_disease_severity_disease_severity_accuracy: 0.2383\n",
      "Epoch 66/100\n",
      "20/20 [==============================] - 515s 26s/step - loss: 0.9318 - pathogen_load_loss: 0.4581 - disease_severity_loss: 0.4737 - disease_severity_disease_severity_accuracy: 0.8188 - val_loss: 8.6930 - val_pathogen_load_loss: 3.9533 - val_disease_severity_loss: 4.7397 - val_disease_severity_disease_severity_accuracy: 0.1953\n",
      "Epoch 67/100\n",
      "20/20 [==============================] - 515s 26s/step - loss: 1.0495 - pathogen_load_loss: 0.5593 - disease_severity_loss: 0.4901 - disease_severity_disease_severity_accuracy: 0.8031 - val_loss: 8.9024 - val_pathogen_load_loss: 4.0899 - val_disease_severity_loss: 4.8126 - val_disease_severity_disease_severity_accuracy: 0.2188\n",
      "Epoch 68/100\n",
      "20/20 [==============================] - 515s 26s/step - loss: 1.0539 - pathogen_load_loss: 0.5807 - disease_severity_loss: 0.4732 - disease_severity_disease_severity_accuracy: 0.8125 - val_loss: 8.8466 - val_pathogen_load_loss: 4.1208 - val_disease_severity_loss: 4.7258 - val_disease_severity_disease_severity_accuracy: 0.2500\n",
      "Epoch 69/100\n",
      "20/20 [==============================] - 515s 26s/step - loss: 1.0616 - pathogen_load_loss: 0.5936 - disease_severity_loss: 0.4680 - disease_severity_disease_severity_accuracy: 0.8219 - val_loss: 9.2252 - val_pathogen_load_loss: 3.9951 - val_disease_severity_loss: 5.2302 - val_disease_severity_disease_severity_accuracy: 0.2461\n",
      "Epoch 70/100\n",
      "20/20 [==============================] - 515s 26s/step - loss: 0.9037 - pathogen_load_loss: 0.4918 - disease_severity_loss: 0.4119 - disease_severity_disease_severity_accuracy: 0.8469 - val_loss: 8.2217 - val_pathogen_load_loss: 3.1346 - val_disease_severity_loss: 5.0871 - val_disease_severity_disease_severity_accuracy: 0.2227\n",
      "Epoch 71/100\n",
      "20/20 [==============================] - 515s 26s/step - loss: 0.9932 - pathogen_load_loss: 0.4912 - disease_severity_loss: 0.5020 - disease_severity_disease_severity_accuracy: 0.8062 - val_loss: 8.4349 - val_pathogen_load_loss: 3.8918 - val_disease_severity_loss: 4.5432 - val_disease_severity_disease_severity_accuracy: 0.2617\n",
      "Epoch 72/100\n",
      "20/20 [==============================] - 515s 26s/step - loss: 0.9081 - pathogen_load_loss: 0.4524 - disease_severity_loss: 0.4556 - disease_severity_disease_severity_accuracy: 0.8219 - val_loss: 9.1845 - val_pathogen_load_loss: 4.0289 - val_disease_severity_loss: 5.1555 - val_disease_severity_disease_severity_accuracy: 0.2148\n",
      "Epoch 73/100\n",
      "20/20 [==============================] - 515s 26s/step - loss: 0.8031 - pathogen_load_loss: 0.3660 - disease_severity_loss: 0.4371 - disease_severity_disease_severity_accuracy: 0.8406 - val_loss: 7.9121 - val_pathogen_load_loss: 3.3477 - val_disease_severity_loss: 4.5644 - val_disease_severity_disease_severity_accuracy: 0.2109\n",
      "Epoch 74/100\n",
      "20/20 [==============================] - 515s 26s/step - loss: 0.8916 - pathogen_load_loss: 0.4182 - disease_severity_loss: 0.4734 - disease_severity_disease_severity_accuracy: 0.8031 - val_loss: 8.5798 - val_pathogen_load_loss: 3.4408 - val_disease_severity_loss: 5.1389 - val_disease_severity_disease_severity_accuracy: 0.2812\n",
      "Epoch 75/100\n",
      "20/20 [==============================] - 515s 26s/step - loss: 0.9336 - pathogen_load_loss: 0.4885 - disease_severity_loss: 0.4450 - disease_severity_disease_severity_accuracy: 0.8375 - val_loss: 8.5373 - val_pathogen_load_loss: 3.4058 - val_disease_severity_loss: 5.1315 - val_disease_severity_disease_severity_accuracy: 0.2383\n",
      "Epoch 76/100\n",
      "20/20 [==============================] - 515s 26s/step - loss: 1.1178 - pathogen_load_loss: 0.5456 - disease_severity_loss: 0.5722 - disease_severity_disease_severity_accuracy: 0.7625 - val_loss: 8.2706 - val_pathogen_load_loss: 3.1590 - val_disease_severity_loss: 5.1116 - val_disease_severity_disease_severity_accuracy: 0.2617\n",
      "Epoch 77/100\n",
      "20/20 [==============================] - 515s 26s/step - loss: 0.9203 - pathogen_load_loss: 0.4521 - disease_severity_loss: 0.4682 - disease_severity_disease_severity_accuracy: 0.8281 - val_loss: 8.7311 - val_pathogen_load_loss: 3.8120 - val_disease_severity_loss: 4.9191 - val_disease_severity_disease_severity_accuracy: 0.2383\n",
      "Epoch 78/100\n",
      "20/20 [==============================] - 515s 26s/step - loss: 0.7320 - pathogen_load_loss: 0.3615 - disease_severity_loss: 0.3706 - disease_severity_disease_severity_accuracy: 0.8813 - val_loss: 8.1035 - val_pathogen_load_loss: 3.3768 - val_disease_severity_loss: 4.7267 - val_disease_severity_disease_severity_accuracy: 0.2852\n",
      "Epoch 79/100\n",
      "20/20 [==============================] - 515s 26s/step - loss: 0.7653 - pathogen_load_loss: 0.4117 - disease_severity_loss: 0.3536 - disease_severity_disease_severity_accuracy: 0.8562 - val_loss: 9.7524 - val_pathogen_load_loss: 4.2608 - val_disease_severity_loss: 5.4916 - val_disease_severity_disease_severity_accuracy: 0.2383\n",
      "Epoch 80/100\n",
      "20/20 [==============================] - 515s 26s/step - loss: 0.9806 - pathogen_load_loss: 0.4495 - disease_severity_loss: 0.5310 - disease_severity_disease_severity_accuracy: 0.7781 - val_loss: 8.7747 - val_pathogen_load_loss: 3.5636 - val_disease_severity_loss: 5.2111 - val_disease_severity_disease_severity_accuracy: 0.2305\n",
      "Epoch 81/100\n",
      "20/20 [==============================] - 515s 26s/step - loss: 0.8779 - pathogen_load_loss: 0.3983 - disease_severity_loss: 0.4796 - disease_severity_disease_severity_accuracy: 0.7937 - val_loss: 9.6207 - val_pathogen_load_loss: 4.0342 - val_disease_severity_loss: 5.5865 - val_disease_severity_disease_severity_accuracy: 0.1914\n",
      "Epoch 82/100\n",
      "20/20 [==============================] - 515s 26s/step - loss: 0.7841 - pathogen_load_loss: 0.3847 - disease_severity_loss: 0.3994 - disease_severity_disease_severity_accuracy: 0.8531 - val_loss: 7.5408 - val_pathogen_load_loss: 3.0553 - val_disease_severity_loss: 4.4855 - val_disease_severity_disease_severity_accuracy: 0.2539\n",
      "Epoch 83/100\n",
      "20/20 [==============================] - 515s 26s/step - loss: 0.8146 - pathogen_load_loss: 0.4298 - disease_severity_loss: 0.3848 - disease_severity_disease_severity_accuracy: 0.8562 - val_loss: 8.4211 - val_pathogen_load_loss: 3.1013 - val_disease_severity_loss: 5.3197 - val_disease_severity_disease_severity_accuracy: 0.2070\n",
      "Epoch 84/100\n",
      "20/20 [==============================] - 515s 26s/step - loss: 0.7756 - pathogen_load_loss: 0.3648 - disease_severity_loss: 0.4108 - disease_severity_disease_severity_accuracy: 0.8438 - val_loss: 8.2096 - val_pathogen_load_loss: 2.7452 - val_disease_severity_loss: 5.4644 - val_disease_severity_disease_severity_accuracy: 0.2617\n",
      "Epoch 85/100\n",
      "20/20 [==============================] - 515s 26s/step - loss: 0.7123 - pathogen_load_loss: 0.3452 - disease_severity_loss: 0.3671 - disease_severity_disease_severity_accuracy: 0.8625 - val_loss: 9.7364 - val_pathogen_load_loss: 4.3097 - val_disease_severity_loss: 5.4267 - val_disease_severity_disease_severity_accuracy: 0.2891\n",
      "Epoch 86/100\n",
      "20/20 [==============================] - 515s 26s/step - loss: 0.6173 - pathogen_load_loss: 0.2786 - disease_severity_loss: 0.3387 - disease_severity_disease_severity_accuracy: 0.8594 - val_loss: 9.5167 - val_pathogen_load_loss: 3.9088 - val_disease_severity_loss: 5.6079 - val_disease_severity_disease_severity_accuracy: 0.2695\n",
      "Epoch 87/100\n",
      "20/20 [==============================] - 515s 26s/step - loss: 0.6892 - pathogen_load_loss: 0.3442 - disease_severity_loss: 0.3450 - disease_severity_disease_severity_accuracy: 0.8781 - val_loss: 9.1475 - val_pathogen_load_loss: 3.5546 - val_disease_severity_loss: 5.5929 - val_disease_severity_disease_severity_accuracy: 0.2461\n",
      "Epoch 88/100\n",
      "20/20 [==============================] - 515s 26s/step - loss: 0.7712 - pathogen_load_loss: 0.3903 - disease_severity_loss: 0.3809 - disease_severity_disease_severity_accuracy: 0.8375 - val_loss: 8.9112 - val_pathogen_load_loss: 3.3221 - val_disease_severity_loss: 5.5891 - val_disease_severity_disease_severity_accuracy: 0.2539\n",
      "Epoch 89/100\n",
      "20/20 [==============================] - 515s 26s/step - loss: 0.9983 - pathogen_load_loss: 0.5909 - disease_severity_loss: 0.4074 - disease_severity_disease_severity_accuracy: 0.8219 - val_loss: 8.6337 - val_pathogen_load_loss: 3.1946 - val_disease_severity_loss: 5.4391 - val_disease_severity_disease_severity_accuracy: 0.2070\n",
      "Epoch 90/100\n",
      "20/20 [==============================] - 515s 26s/step - loss: 1.0101 - pathogen_load_loss: 0.5423 - disease_severity_loss: 0.4678 - disease_severity_disease_severity_accuracy: 0.7812 - val_loss: 8.6826 - val_pathogen_load_loss: 3.3588 - val_disease_severity_loss: 5.3238 - val_disease_severity_disease_severity_accuracy: 0.2695\n",
      "Epoch 91/100\n",
      "20/20 [==============================] - 515s 26s/step - loss: 0.8068 - pathogen_load_loss: 0.4185 - disease_severity_loss: 0.3884 - disease_severity_disease_severity_accuracy: 0.8438 - val_loss: 7.8283 - val_pathogen_load_loss: 2.6300 - val_disease_severity_loss: 5.1983 - val_disease_severity_disease_severity_accuracy: 0.2539\n",
      "Epoch 92/100\n",
      "20/20 [==============================] - 515s 26s/step - loss: 0.7863 - pathogen_load_loss: 0.4059 - disease_severity_loss: 0.3804 - disease_severity_disease_severity_accuracy: 0.8531 - val_loss: 10.6966 - val_pathogen_load_loss: 4.8351 - val_disease_severity_loss: 5.8616 - val_disease_severity_disease_severity_accuracy: 0.2383\n",
      "Epoch 93/100\n",
      "20/20 [==============================] - 515s 26s/step - loss: 0.7315 - pathogen_load_loss: 0.3931 - disease_severity_loss: 0.3384 - disease_severity_disease_severity_accuracy: 0.8813 - val_loss: 7.9234 - val_pathogen_load_loss: 2.4085 - val_disease_severity_loss: 5.5149 - val_disease_severity_disease_severity_accuracy: 0.2539\n",
      "Epoch 94/100\n",
      "20/20 [==============================] - 515s 26s/step - loss: 0.6578 - pathogen_load_loss: 0.3485 - disease_severity_loss: 0.3094 - disease_severity_disease_severity_accuracy: 0.8687 - val_loss: 8.8095 - val_pathogen_load_loss: 2.8776 - val_disease_severity_loss: 5.9319 - val_disease_severity_disease_severity_accuracy: 0.2148\n",
      "Epoch 95/100\n",
      "20/20 [==============================] - 515s 26s/step - loss: 0.6731 - pathogen_load_loss: 0.3210 - disease_severity_loss: 0.3521 - disease_severity_disease_severity_accuracy: 0.8719 - val_loss: 8.4148 - val_pathogen_load_loss: 2.3496 - val_disease_severity_loss: 6.0651 - val_disease_severity_disease_severity_accuracy: 0.2812\n",
      "Epoch 96/100\n",
      "20/20 [==============================] - 515s 26s/step - loss: 0.8005 - pathogen_load_loss: 0.4232 - disease_severity_loss: 0.3774 - disease_severity_disease_severity_accuracy: 0.8625 - val_loss: 9.5743 - val_pathogen_load_loss: 3.5336 - val_disease_severity_loss: 6.0407 - val_disease_severity_disease_severity_accuracy: 0.2578\n",
      "Epoch 97/100\n",
      "20/20 [==============================] - 515s 26s/step - loss: 0.7247 - pathogen_load_loss: 0.3614 - disease_severity_loss: 0.3633 - disease_severity_disease_severity_accuracy: 0.8469 - val_loss: 9.2713 - val_pathogen_load_loss: 3.1728 - val_disease_severity_loss: 6.0985 - val_disease_severity_disease_severity_accuracy: 0.2227\n",
      "Epoch 98/100\n",
      "20/20 [==============================] - 515s 26s/step - loss: 0.7228 - pathogen_load_loss: 0.3610 - disease_severity_loss: 0.3618 - disease_severity_disease_severity_accuracy: 0.8469 - val_loss: 8.4815 - val_pathogen_load_loss: 3.4074 - val_disease_severity_loss: 5.0741 - val_disease_severity_disease_severity_accuracy: 0.2422\n",
      "Epoch 99/100\n",
      "20/20 [==============================] - 515s 26s/step - loss: 0.6573 - pathogen_load_loss: 0.3324 - disease_severity_loss: 0.3249 - disease_severity_disease_severity_accuracy: 0.8625 - val_loss: 10.0600 - val_pathogen_load_loss: 3.7934 - val_disease_severity_loss: 6.2666 - val_disease_severity_disease_severity_accuracy: 0.2031\n",
      "Epoch 100/100\n",
      "20/20 [==============================] - 515s 26s/step - loss: 0.6828 - pathogen_load_loss: 0.3383 - disease_severity_loss: 0.3445 - disease_severity_disease_severity_accuracy: 0.8750 - val_loss: 8.3024 - val_pathogen_load_loss: 2.9309 - val_disease_severity_loss: 5.3715 - val_disease_severity_disease_severity_accuracy: 0.2422\n"
     ]
    },
    {
     "data": {
      "text/plain": [
       "<keras.callbacks.History at 0x7f069add7610>"
      ]
     },
     "execution_count": 331,
     "metadata": {},
     "output_type": "execute_result"
    }
   ],
   "source": [
    "model.fit(train_dataset, validation_data=val_dataset, epochs=100, callbacks=[wandb_callback, checkpoint])"
   ]
  },
  {
   "cell_type": "code",
   "execution_count": null,
   "id": "505f16a3-17da-4f10-990a-babe956272a3",
   "metadata": {},
   "outputs": [],
   "source": []
  }
 ],
 "metadata": {
  "kernelspec": {
   "display_name": "Python 3 (ipykernel)",
   "language": "python",
   "name": "python3"
  },
  "language_info": {
   "codemirror_mode": {
    "name": "ipython",
    "version": 3
   },
   "file_extension": ".py",
   "mimetype": "text/x-python",
   "name": "python",
   "nbconvert_exporter": "python",
   "pygments_lexer": "ipython3",
   "version": "3.10.6"
  }
 },
 "nbformat": 4,
 "nbformat_minor": 5
}
