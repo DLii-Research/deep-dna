{
 "cells": [
  {
   "cell_type": "code",
   "execution_count": 3,
   "metadata": {},
   "outputs": [],
   "source": [
    "import os\n",
    "os.environ[\"TF_CPP_MIN_LOG_LEVEL\"] = '2'\n",
    "\n",
    "import sys\n",
    "sys.path.append(\"../src\")\n",
    "\n",
    "from dnadb import dna, fastq, sample\n",
    "import matplotlib.pyplot as plt\n",
    "import numpy as np\n",
    "from pathlib import Path\n",
    "import tensorflow as tf\n",
    "import tf_utilities as tfu\n",
    "from sklearn.cluster import AgglomerativeClustering, KMeans\n",
    "from sklearn.metrics import normalized_mutual_info_score\n",
    "from scipy.cluster.hierarchy import dendrogram\n",
    "from scipy.spatial.distance import cdist\n",
    "import wandb\n",
    "\n",
    "from deepdna.data.dataset import Dataset\n",
    "from deepdna.data import metrics\n",
    "from deepdna.nn.data_generators import SequenceGenerator\n",
    "from deepdna.nn.losses import SortedLoss\n",
    "from deepdna.nn.models import load_model, dnabert, setbert\n",
    "from deepdna.nn import layers"
   ]
  },
  {
   "cell_type": "code",
   "execution_count": 4,
   "metadata": {},
   "outputs": [],
   "source": [
    "SEED = 0"
   ]
  },
  {
   "cell_type": "code",
   "execution_count": 5,
   "metadata": {},
   "outputs": [
    {
     "data": {
      "text/plain": [
       "([PhysicalDevice(name='/physical_device:CPU:0', device_type='CPU')],\n",
       " [PhysicalDevice(name='/physical_device:GPU:1', device_type='GPU')])"
      ]
     },
     "execution_count": 5,
     "metadata": {},
     "output_type": "execute_result"
    }
   ],
   "source": [
    "tfu.devices.select_gpu(1)"
   ]
  },
  {
   "cell_type": "code",
   "execution_count": 6,
   "metadata": {},
   "outputs": [],
   "source": [
    "api = wandb.Api()"
   ]
  },
  {
   "cell_type": "markdown",
   "metadata": {},
   "source": [
    "## Models"
   ]
  },
  {
   "cell_type": "code",
   "execution_count": 7,
   "metadata": {},
   "outputs": [
    {
     "name": "stderr",
     "output_type": "stream",
     "text": [
      "\u001b[34m\u001b[1mwandb\u001b[0m:   4 of 4 files downloaded.  \n"
     ]
    }
   ],
   "source": [
    "path = api.artifact(\"sirdavidludwig/dnabert-pretrain/dnabert-pretrain-silva-64:v3\").download()\n",
    "dnabert_encoder = dnabert.DnaBertEncoderModel(\n",
    "    load_model(path, dnabert.DnaBertPretrainModel).base,\n",
    "    chunk_size=256\n",
    ")"
   ]
  },
  {
   "cell_type": "code",
   "execution_count": 8,
   "metadata": {},
   "outputs": [
    {
     "data": {
      "text/plain": [
       "<keras.saving.saved_model.load.SetBertPretrainModel at 0x7f066d2ae980>"
      ]
     },
     "execution_count": 8,
     "metadata": {},
     "output_type": "execute_result"
    }
   ],
   "source": [
    "# path = api.artifact(\"sirdavidludwig/setbert-pretrain/setbert-pretrain-hopl-64:latest\").download()\n",
    "path = Path(\"~/.cache/wandb/wandb/run-20230502_161947-83qte62b/files/model\").expanduser()\n",
    "pretrained_model = tf.keras.models.load_model(path, custom_objects={\"SortedLoss\": SortedLoss})\n",
    "pretrained_model"
   ]
  },
  {
   "cell_type": "code",
   "execution_count": 9,
   "metadata": {},
   "outputs": [
    {
     "name": "stdout",
     "output_type": "stream",
     "text": [
      "Number of outputs: 8\n"
     ]
    }
   ],
   "source": [
    "setbert_model = setbert.SetBertModel(\n",
    "    dnabert_encoder,\n",
    "    embed_dim=64,\n",
    "    max_set_len=1000,\n",
    "    stack=8,\n",
    "    num_heads=8)\n",
    "setbert_model.layers[1].set_weights(pretrained_model.base.model.get_weights())"
   ]
  },
  {
   "cell_type": "code",
   "execution_count": 10,
   "metadata": {},
   "outputs": [],
   "source": [
    "setbert_encoder = setbert.SetBertEncoderModel(setbert_model)"
   ]
  },
  {
   "cell_type": "markdown",
   "metadata": {},
   "source": [
    "---\n",
    "\n",
    "## Data"
   ]
  },
  {
   "cell_type": "code",
   "execution_count": 11,
   "metadata": {},
   "outputs": [],
   "source": [
    "dataset_path = Path(f\"/home/dwl2x/work/Datasets/hopland/\")"
   ]
  },
  {
   "cell_type": "markdown",
   "metadata": {},
   "source": [
    "Find all FASTQ DB sample files to choose from across all of the datasets and shuffle them."
   ]
  },
  {
   "cell_type": "code",
   "execution_count": 12,
   "metadata": {},
   "outputs": [
    {
     "data": {
      "text/plain": [
       "128"
      ]
     },
     "execution_count": 12,
     "metadata": {},
     "output_type": "execute_result"
    }
   ],
   "source": [
    "sample_paths = [path for path in dataset_path.iterdir()]\n",
    "sample_paths.sort()\n",
    "len(sample_paths)"
   ]
  },
  {
   "cell_type": "markdown",
   "metadata": {},
   "source": [
    "Pick some samples."
   ]
  },
  {
   "cell_type": "code",
   "execution_count": 13,
   "metadata": {},
   "outputs": [
    {
     "data": {
      "text/plain": [
       "[PosixPath('/home/dwl2x/work/Datasets/hopland/Ur1-B-16S_S197_L001_R1_001.fastq.db'),\n",
       " PosixPath('/home/dwl2x/work/Datasets/hopland/Ur10-B-16S_S207_L001_R1_001.fastq.db'),\n",
       " PosixPath('/home/dwl2x/work/Datasets/hopland/Ur11-B-16S_S216_L001_R1_001.fastq.db'),\n",
       " PosixPath('/home/dwl2x/work/Datasets/hopland/Ur12-B-16S_S225_L001_R1_001.fastq.db'),\n",
       " PosixPath('/home/dwl2x/work/Datasets/hopland/Ur13-B-16S_S234_L001_R1_001.fastq.db'),\n",
       " PosixPath('/home/dwl2x/work/Datasets/hopland/Ur14-B-16S_S242_L001_R1_001.fastq.db'),\n",
       " PosixPath('/home/dwl2x/work/Datasets/hopland/Ur15-B-16S_S250_L001_R1_001.fastq.db'),\n",
       " PosixPath('/home/dwl2x/work/Datasets/hopland/Ur16-B-16S_S258_L001_R1_001.fastq.db'),\n",
       " PosixPath('/home/dwl2x/work/Datasets/hopland/Ur17-B-16S_S199_L001_R1_001.fastq.db'),\n",
       " PosixPath('/home/dwl2x/work/Datasets/hopland/Ur18-B-16S_S208_L001_R1_001.fastq.db'),\n",
       " PosixPath('/home/dwl2x/work/Datasets/hopland/Ur19-B-16S_S217_L001_R1_001.fastq.db'),\n",
       " PosixPath('/home/dwl2x/work/Datasets/hopland/Ur2-B-16S_S206_L001_R1_001.fastq.db'),\n",
       " PosixPath('/home/dwl2x/work/Datasets/hopland/Ur20-B-16S_S226_L001_R1_001.fastq.db'),\n",
       " PosixPath('/home/dwl2x/work/Datasets/hopland/Ur21-B-16S_S235_L001_R1_001.fastq.db'),\n",
       " PosixPath('/home/dwl2x/work/Datasets/hopland/Ur22-B-16S_S243_L001_R1_001.fastq.db'),\n",
       " PosixPath('/home/dwl2x/work/Datasets/hopland/Ur23-B-16S_S251_L001_R1_001.fastq.db'),\n",
       " PosixPath('/home/dwl2x/work/Datasets/hopland/Ur24-B-16S_S259_L001_R1_001.fastq.db'),\n",
       " PosixPath('/home/dwl2x/work/Datasets/hopland/Ur25-B-16S_S200_L001_R1_001.fastq.db'),\n",
       " PosixPath('/home/dwl2x/work/Datasets/hopland/Ur26-B-16S_S209_L001_R1_001.fastq.db'),\n",
       " PosixPath('/home/dwl2x/work/Datasets/hopland/Ur27-B-16S_S218_L001_R1_001.fastq.db'),\n",
       " PosixPath('/home/dwl2x/work/Datasets/hopland/Ur28-B-16S_S227_L001_R1_001.fastq.db'),\n",
       " PosixPath('/home/dwl2x/work/Datasets/hopland/Ur29-B-16S_S236_L001_R1_001.fastq.db'),\n",
       " PosixPath('/home/dwl2x/work/Datasets/hopland/Ur3-B-16S_S215_L001_R1_001.fastq.db'),\n",
       " PosixPath('/home/dwl2x/work/Datasets/hopland/Ur30-B-16S_S244_L001_R1_001.fastq.db'),\n",
       " PosixPath('/home/dwl2x/work/Datasets/hopland/Ur31-B-16S_S252_L001_R1_001.fastq.db'),\n",
       " PosixPath('/home/dwl2x/work/Datasets/hopland/Ur32-B-16S_S260_L001_R1_001.fastq.db'),\n",
       " PosixPath('/home/dwl2x/work/Datasets/hopland/Ur33-B-16S_S201_L001_R1_001.fastq.db'),\n",
       " PosixPath('/home/dwl2x/work/Datasets/hopland/Ur34-B-16S_S210_L001_R1_001.fastq.db'),\n",
       " PosixPath('/home/dwl2x/work/Datasets/hopland/Ur35-B-16S_S219_L001_R1_001.fastq.db'),\n",
       " PosixPath('/home/dwl2x/work/Datasets/hopland/Ur36-B-16S_S228_L001_R1_001.fastq.db'),\n",
       " PosixPath('/home/dwl2x/work/Datasets/hopland/Ur37-B-16S_S237_L001_R1_001.fastq.db'),\n",
       " PosixPath('/home/dwl2x/work/Datasets/hopland/Ur38-B-16S_S245_L001_R1_001.fastq.db'),\n",
       " PosixPath('/home/dwl2x/work/Datasets/hopland/Ur39-B-16S_S253_L001_R1_001.fastq.db'),\n",
       " PosixPath('/home/dwl2x/work/Datasets/hopland/Ur4-B-16S_S224_L001_R1_001.fastq.db'),\n",
       " PosixPath('/home/dwl2x/work/Datasets/hopland/Ur40-B-16S_S261_L001_R1_001.fastq.db'),\n",
       " PosixPath('/home/dwl2x/work/Datasets/hopland/Ur41-B-16S_S202_L001_R1_001.fastq.db'),\n",
       " PosixPath('/home/dwl2x/work/Datasets/hopland/Ur42-B-16S_S211_L001_R1_001.fastq.db'),\n",
       " PosixPath('/home/dwl2x/work/Datasets/hopland/Ur43-B-16S_S220_L001_R1_001.fastq.db'),\n",
       " PosixPath('/home/dwl2x/work/Datasets/hopland/Ur44-B-16S_S229_L001_R1_001.fastq.db'),\n",
       " PosixPath('/home/dwl2x/work/Datasets/hopland/Ur45-B-16S_S238_L001_R1_001.fastq.db'),\n",
       " PosixPath('/home/dwl2x/work/Datasets/hopland/Ur46-B-16S_S246_L001_R1_001.fastq.db'),\n",
       " PosixPath('/home/dwl2x/work/Datasets/hopland/Ur47-B-16S_S254_L001_R1_001.fastq.db'),\n",
       " PosixPath('/home/dwl2x/work/Datasets/hopland/Ur48-B-16S_S262_L001_R1_001.fastq.db'),\n",
       " PosixPath('/home/dwl2x/work/Datasets/hopland/Ur49-B-16S_S203_L001_R1_001.fastq.db'),\n",
       " PosixPath('/home/dwl2x/work/Datasets/hopland/Ur5-B-16S_S233_L001_R1_001.fastq.db'),\n",
       " PosixPath('/home/dwl2x/work/Datasets/hopland/Ur50-B-16S_S212_L001_R1_001.fastq.db'),\n",
       " PosixPath('/home/dwl2x/work/Datasets/hopland/Ur51-B-16S_S221_L001_R1_001.fastq.db'),\n",
       " PosixPath('/home/dwl2x/work/Datasets/hopland/Ur52-B-16S_S230_L001_R1_001.fastq.db'),\n",
       " PosixPath('/home/dwl2x/work/Datasets/hopland/Ur53-B-16S_S239_L001_R1_001.fastq.db'),\n",
       " PosixPath('/home/dwl2x/work/Datasets/hopland/Ur54-B-16S_S247_L001_R1_001.fastq.db'),\n",
       " PosixPath('/home/dwl2x/work/Datasets/hopland/Ur55-B-16S_S255_L001_R1_001.fastq.db'),\n",
       " PosixPath('/home/dwl2x/work/Datasets/hopland/Ur56-B-16S_S263_L001_R1_001.fastq.db'),\n",
       " PosixPath('/home/dwl2x/work/Datasets/hopland/Ur57-B-16S_S204_L001_R1_001.fastq.db'),\n",
       " PosixPath('/home/dwl2x/work/Datasets/hopland/Ur58-B-16S_S213_L001_R1_001.fastq.db'),\n",
       " PosixPath('/home/dwl2x/work/Datasets/hopland/Ur59-B-16S_S222_L001_R1_001.fastq.db'),\n",
       " PosixPath('/home/dwl2x/work/Datasets/hopland/Ur6-B-16S_S241_L001_R1_001.fastq.db'),\n",
       " PosixPath('/home/dwl2x/work/Datasets/hopland/Ur60-B-16S_S231_L001_R1_001.fastq.db'),\n",
       " PosixPath('/home/dwl2x/work/Datasets/hopland/Ur61-B-16S_S240_L001_R1_001.fastq.db'),\n",
       " PosixPath('/home/dwl2x/work/Datasets/hopland/Ur62-B-16S_S248_L001_R1_001.fastq.db'),\n",
       " PosixPath('/home/dwl2x/work/Datasets/hopland/Ur63-B-16S_S256_L001_R1_001.fastq.db'),\n",
       " PosixPath('/home/dwl2x/work/Datasets/hopland/Ur64-B-16S_S264_L001_R1_001.fastq.db'),\n",
       " PosixPath('/home/dwl2x/work/Datasets/hopland/Ur7-B-16S_S249_L001_R1_001.fastq.db'),\n",
       " PosixPath('/home/dwl2x/work/Datasets/hopland/Ur8-B-16S_S257_L001_R1_001.fastq.db'),\n",
       " PosixPath('/home/dwl2x/work/Datasets/hopland/Ur9-B-16S_S198_L001_R1_001.fastq.db'),\n",
       " PosixPath('/home/dwl2x/work/Datasets/hopland/Ur1-R-16S_S133_L001_R1_001.fastq.db'),\n",
       " PosixPath('/home/dwl2x/work/Datasets/hopland/Ur10-R-16S_S142_L001_R1_001.fastq.db'),\n",
       " PosixPath('/home/dwl2x/work/Datasets/hopland/Ur11-R-16S_S150_L001_R1_001.fastq.db'),\n",
       " PosixPath('/home/dwl2x/work/Datasets/hopland/Ur12-R-16S_S158_L001_R1_001.fastq.db'),\n",
       " PosixPath('/home/dwl2x/work/Datasets/hopland/Ur13-R-16S_S166_L001_R1_001.fastq.db'),\n",
       " PosixPath('/home/dwl2x/work/Datasets/hopland/Ur14-R-16S_S174_L001_R1_001.fastq.db'),\n",
       " PosixPath('/home/dwl2x/work/Datasets/hopland/Ur15-R-16S_S182_L001_R1_001.fastq.db'),\n",
       " PosixPath('/home/dwl2x/work/Datasets/hopland/Ur16-R-16S_S190_L001_R1_001.fastq.db'),\n",
       " PosixPath('/home/dwl2x/work/Datasets/hopland/Ur17-R-16S_S135_L001_R1_001.fastq.db'),\n",
       " PosixPath('/home/dwl2x/work/Datasets/hopland/Ur18-R-16S_S143_L001_R1_001.fastq.db'),\n",
       " PosixPath('/home/dwl2x/work/Datasets/hopland/Ur19-R-16S_S151_L001_R1_001.fastq.db'),\n",
       " PosixPath('/home/dwl2x/work/Datasets/hopland/Ur2-R-16S_S141_L001_R1_001.fastq.db'),\n",
       " PosixPath('/home/dwl2x/work/Datasets/hopland/Ur20-R-16S_S159_L001_R1_001.fastq.db'),\n",
       " PosixPath('/home/dwl2x/work/Datasets/hopland/Ur21-R-16S_S167_L001_R1_001.fastq.db'),\n",
       " PosixPath('/home/dwl2x/work/Datasets/hopland/Ur22-R-16S_S175_L001_R1_001.fastq.db'),\n",
       " PosixPath('/home/dwl2x/work/Datasets/hopland/Ur23-R-16S_S183_L001_R1_001.fastq.db'),\n",
       " PosixPath('/home/dwl2x/work/Datasets/hopland/Ur24-R-16S_S191_L001_R1_001.fastq.db'),\n",
       " PosixPath('/home/dwl2x/work/Datasets/hopland/Ur25-R-16S_S136_L001_R1_001.fastq.db'),\n",
       " PosixPath('/home/dwl2x/work/Datasets/hopland/Ur26-R-16S_S144_L001_R1_001.fastq.db'),\n",
       " PosixPath('/home/dwl2x/work/Datasets/hopland/Ur27-R-16S_S152_L001_R1_001.fastq.db'),\n",
       " PosixPath('/home/dwl2x/work/Datasets/hopland/Ur28-R-16S_S160_L001_R1_001.fastq.db'),\n",
       " PosixPath('/home/dwl2x/work/Datasets/hopland/Ur29-R-16S_S168_L001_R1_001.fastq.db'),\n",
       " PosixPath('/home/dwl2x/work/Datasets/hopland/Ur3-R-16S_S149_L001_R1_001.fastq.db'),\n",
       " PosixPath('/home/dwl2x/work/Datasets/hopland/Ur30-R-16S_S176_L001_R1_001.fastq.db'),\n",
       " PosixPath('/home/dwl2x/work/Datasets/hopland/Ur31-R-16S_S184_L001_R1_001.fastq.db'),\n",
       " PosixPath('/home/dwl2x/work/Datasets/hopland/Ur32-R-16S_S192_L001_R1_001.fastq.db'),\n",
       " PosixPath('/home/dwl2x/work/Datasets/hopland/Ur33-R-16S_S137_L001_R1_001.fastq.db'),\n",
       " PosixPath('/home/dwl2x/work/Datasets/hopland/Ur34-R-16S_S145_L001_R1_001.fastq.db'),\n",
       " PosixPath('/home/dwl2x/work/Datasets/hopland/Ur35-R-16S_S153_L001_R1_001.fastq.db'),\n",
       " PosixPath('/home/dwl2x/work/Datasets/hopland/Ur36-R-16S_S161_L001_R1_001.fastq.db'),\n",
       " PosixPath('/home/dwl2x/work/Datasets/hopland/Ur37-R-16S_S169_L001_R1_001.fastq.db'),\n",
       " PosixPath('/home/dwl2x/work/Datasets/hopland/Ur38-R-16S_S177_L001_R1_001.fastq.db'),\n",
       " PosixPath('/home/dwl2x/work/Datasets/hopland/Ur39-R-16S_S185_L001_R1_001.fastq.db'),\n",
       " PosixPath('/home/dwl2x/work/Datasets/hopland/Ur4-R-16S_S157_L001_R1_001.fastq.db'),\n",
       " PosixPath('/home/dwl2x/work/Datasets/hopland/Ur40-R-16S_S193_L001_R1_001.fastq.db'),\n",
       " PosixPath('/home/dwl2x/work/Datasets/hopland/Ur41-R-16S_S138_L001_R1_001.fastq.db'),\n",
       " PosixPath('/home/dwl2x/work/Datasets/hopland/Ur42-R-16S_S146_L001_R1_001.fastq.db'),\n",
       " PosixPath('/home/dwl2x/work/Datasets/hopland/Ur43-R-16S_S154_L001_R1_001.fastq.db'),\n",
       " PosixPath('/home/dwl2x/work/Datasets/hopland/Ur44-R-16S_S162_L001_R1_001.fastq.db'),\n",
       " PosixPath('/home/dwl2x/work/Datasets/hopland/Ur45-R-16S_S170_L001_R1_001.fastq.db'),\n",
       " PosixPath('/home/dwl2x/work/Datasets/hopland/Ur46-R-16S_S178_L001_R1_001.fastq.db'),\n",
       " PosixPath('/home/dwl2x/work/Datasets/hopland/Ur47-R-16S_S186_L001_R1_001.fastq.db'),\n",
       " PosixPath('/home/dwl2x/work/Datasets/hopland/Ur48-R-16S_S194_L001_R1_001.fastq.db'),\n",
       " PosixPath('/home/dwl2x/work/Datasets/hopland/Ur49-R-16S_S139_L001_R1_001.fastq.db'),\n",
       " PosixPath('/home/dwl2x/work/Datasets/hopland/Ur5-R-16S_S165_L001_R1_001.fastq.db'),\n",
       " PosixPath('/home/dwl2x/work/Datasets/hopland/Ur50-R-16S_S147_L001_R1_001.fastq.db'),\n",
       " PosixPath('/home/dwl2x/work/Datasets/hopland/Ur51-R-16S_S155_L001_R1_001.fastq.db'),\n",
       " PosixPath('/home/dwl2x/work/Datasets/hopland/Ur52-R-16S_S163_L001_R1_001.fastq.db'),\n",
       " PosixPath('/home/dwl2x/work/Datasets/hopland/Ur53-R-16S_S171_L001_R1_001.fastq.db'),\n",
       " PosixPath('/home/dwl2x/work/Datasets/hopland/Ur54-R-16S_S179_L001_R1_001.fastq.db'),\n",
       " PosixPath('/home/dwl2x/work/Datasets/hopland/Ur55-R-16S_S187_L001_R1_001.fastq.db'),\n",
       " PosixPath('/home/dwl2x/work/Datasets/hopland/Ur56-R-16S_S195_L001_R1_001.fastq.db'),\n",
       " PosixPath('/home/dwl2x/work/Datasets/hopland/Ur57-R-16S_S140_L001_R1_001.fastq.db'),\n",
       " PosixPath('/home/dwl2x/work/Datasets/hopland/Ur58-R-16S_S148_L001_R1_001.fastq.db'),\n",
       " PosixPath('/home/dwl2x/work/Datasets/hopland/Ur59-R-16S_S156_L001_R1_001.fastq.db'),\n",
       " PosixPath('/home/dwl2x/work/Datasets/hopland/Ur6-R-16S_S173_L001_R1_001.fastq.db'),\n",
       " PosixPath('/home/dwl2x/work/Datasets/hopland/Ur60-R-16S_S164_L001_R1_001.fastq.db'),\n",
       " PosixPath('/home/dwl2x/work/Datasets/hopland/Ur61-R-16S_S172_L001_R1_001.fastq.db'),\n",
       " PosixPath('/home/dwl2x/work/Datasets/hopland/Ur62-R-16S_S180_L001_R1_001.fastq.db'),\n",
       " PosixPath('/home/dwl2x/work/Datasets/hopland/Ur63-R-16S_S188_L001_R1_001.fastq.db'),\n",
       " PosixPath('/home/dwl2x/work/Datasets/hopland/Ur64-R-16S_S196_L001_R1_001.fastq.db'),\n",
       " PosixPath('/home/dwl2x/work/Datasets/hopland/Ur7-R-16S_S181_L001_R1_001.fastq.db'),\n",
       " PosixPath('/home/dwl2x/work/Datasets/hopland/Ur8-R-16S_S189_L001_R1_001.fastq.db'),\n",
       " PosixPath('/home/dwl2x/work/Datasets/hopland/Ur9-R-16S_S134_L001_R1_001.fastq.db')]"
      ]
     },
     "execution_count": 13,
     "metadata": {},
     "output_type": "execute_result"
    }
   ],
   "source": [
    "chosen_sample_paths = sample_paths[::2] + sample_paths[1::2]\n",
    "chosen_sample_paths"
   ]
  },
  {
   "cell_type": "markdown",
   "metadata": {},
   "source": [
    "Open the samples"
   ]
  },
  {
   "cell_type": "code",
   "execution_count": 14,
   "metadata": {},
   "outputs": [
    {
     "data": {
      "text/plain": [
       "['Ur1-B',\n",
       " 'Ur10-B',\n",
       " 'Ur11-B',\n",
       " 'Ur12-B',\n",
       " 'Ur13-B',\n",
       " 'Ur14-B',\n",
       " 'Ur15-B',\n",
       " 'Ur16-B',\n",
       " 'Ur17-B',\n",
       " 'Ur18-B',\n",
       " 'Ur19-B',\n",
       " 'Ur2-B',\n",
       " 'Ur20-B',\n",
       " 'Ur21-B',\n",
       " 'Ur22-B',\n",
       " 'Ur23-B',\n",
       " 'Ur24-B',\n",
       " 'Ur25-B',\n",
       " 'Ur26-B',\n",
       " 'Ur27-B',\n",
       " 'Ur28-B',\n",
       " 'Ur29-B',\n",
       " 'Ur3-B',\n",
       " 'Ur30-B',\n",
       " 'Ur31-B',\n",
       " 'Ur32-B',\n",
       " 'Ur33-B',\n",
       " 'Ur34-B',\n",
       " 'Ur35-B',\n",
       " 'Ur36-B',\n",
       " 'Ur37-B',\n",
       " 'Ur38-B',\n",
       " 'Ur39-B',\n",
       " 'Ur4-B',\n",
       " 'Ur40-B',\n",
       " 'Ur41-B',\n",
       " 'Ur42-B',\n",
       " 'Ur43-B',\n",
       " 'Ur44-B',\n",
       " 'Ur45-B',\n",
       " 'Ur46-B',\n",
       " 'Ur47-B',\n",
       " 'Ur48-B',\n",
       " 'Ur49-B',\n",
       " 'Ur5-B',\n",
       " 'Ur50-B',\n",
       " 'Ur51-B',\n",
       " 'Ur52-B',\n",
       " 'Ur53-B',\n",
       " 'Ur54-B',\n",
       " 'Ur55-B',\n",
       " 'Ur56-B',\n",
       " 'Ur57-B',\n",
       " 'Ur58-B',\n",
       " 'Ur59-B',\n",
       " 'Ur6-B',\n",
       " 'Ur60-B',\n",
       " 'Ur61-B',\n",
       " 'Ur62-B',\n",
       " 'Ur63-B',\n",
       " 'Ur64-B',\n",
       " 'Ur7-B',\n",
       " 'Ur8-B',\n",
       " 'Ur9-B',\n",
       " 'Ur1-R',\n",
       " 'Ur10-R',\n",
       " 'Ur11-R',\n",
       " 'Ur12-R',\n",
       " 'Ur13-R',\n",
       " 'Ur14-R',\n",
       " 'Ur15-R',\n",
       " 'Ur16-R',\n",
       " 'Ur17-R',\n",
       " 'Ur18-R',\n",
       " 'Ur19-R',\n",
       " 'Ur2-R',\n",
       " 'Ur20-R',\n",
       " 'Ur21-R',\n",
       " 'Ur22-R',\n",
       " 'Ur23-R',\n",
       " 'Ur24-R',\n",
       " 'Ur25-R',\n",
       " 'Ur26-R',\n",
       " 'Ur27-R',\n",
       " 'Ur28-R',\n",
       " 'Ur29-R',\n",
       " 'Ur3-R',\n",
       " 'Ur30-R',\n",
       " 'Ur31-R',\n",
       " 'Ur32-R',\n",
       " 'Ur33-R',\n",
       " 'Ur34-R',\n",
       " 'Ur35-R',\n",
       " 'Ur36-R',\n",
       " 'Ur37-R',\n",
       " 'Ur38-R',\n",
       " 'Ur39-R',\n",
       " 'Ur4-R',\n",
       " 'Ur40-R',\n",
       " 'Ur41-R',\n",
       " 'Ur42-R',\n",
       " 'Ur43-R',\n",
       " 'Ur44-R',\n",
       " 'Ur45-R',\n",
       " 'Ur46-R',\n",
       " 'Ur47-R',\n",
       " 'Ur48-R',\n",
       " 'Ur49-R',\n",
       " 'Ur5-R',\n",
       " 'Ur50-R',\n",
       " 'Ur51-R',\n",
       " 'Ur52-R',\n",
       " 'Ur53-R',\n",
       " 'Ur54-R',\n",
       " 'Ur55-R',\n",
       " 'Ur56-R',\n",
       " 'Ur57-R',\n",
       " 'Ur58-R',\n",
       " 'Ur59-R',\n",
       " 'Ur6-R',\n",
       " 'Ur60-R',\n",
       " 'Ur61-R',\n",
       " 'Ur62-R',\n",
       " 'Ur63-R',\n",
       " 'Ur64-R',\n",
       " 'Ur7-R',\n",
       " 'Ur8-R',\n",
       " 'Ur9-R']"
      ]
     },
     "execution_count": 14,
     "metadata": {},
     "output_type": "execute_result"
    }
   ],
   "source": [
    "samples = [\n",
    "    sample.load_fastq(path, name=path.name.split('-16S_')[0])\n",
    "    for path in chosen_sample_paths\n",
    "]\n",
    "sample_names = [s.name for s in samples]\n",
    "sample_names"
   ]
  },
  {
   "cell_type": "markdown",
   "metadata": {},
   "source": [
    "Ensure the Rs and Bs are partitioned."
   ]
  },
  {
   "cell_type": "code",
   "execution_count": 15,
   "metadata": {},
   "outputs": [],
   "source": [
    "for name in sample_names[:len(sample_names) // 2]:\n",
    "    assert name.endswith(\"-B\")\n",
    "for name in sample_names[len(sample_names) // 2:]:\n",
    "    assert name.endswith(\"-R\")"
   ]
  },
  {
   "cell_type": "markdown",
   "metadata": {},
   "source": [
    "Draw random subsamples using the SequenceSampler."
   ]
  },
  {
   "cell_type": "code",
   "execution_count": 16,
   "metadata": {},
   "outputs": [
    {
     "name": "stdout",
     "output_type": "stream",
     "text": [
      "128/128"
     ]
    },
    {
     "data": {
      "text/plain": [
       "(128, 10, 64)"
      ]
     },
     "execution_count": 16,
     "metadata": {},
     "output_type": "execute_result"
    }
   ],
   "source": [
    "rng = np.random.default_rng(SEED + 1)\n",
    "subsamples_list = []\n",
    "for i, s in enumerate(samples):\n",
    "    print(f\"\\r{i+1}/{len(samples)}\", end=\"\")\n",
    "    sequences, _ = SequenceGenerator(\n",
    "        [s],\n",
    "        sequence_length=150,\n",
    "        kmer=3,\n",
    "        subsample_size=1000,\n",
    "        batch_size=10,\n",
    "        batches_per_epoch=1,\n",
    "        rng=rng)[0]\n",
    "    subsamples_list.append(setbert_encoder.predict(sequences, verbose=0))\n",
    "subsamples = np.array(subsamples_list)\n",
    "subsamples.shape"
   ]
  },
  {
   "cell_type": "markdown",
   "metadata": {},
   "source": [
    "## MDS Projections"
   ]
  },
  {
   "cell_type": "code",
   "execution_count": 18,
   "metadata": {},
   "outputs": [],
   "source": [
    "distance_measure = \"cityblock\"\n",
    "metric = True"
   ]
  },
  {
   "cell_type": "code",
   "execution_count": 20,
   "metadata": {},
   "outputs": [
    {
     "data": {
      "text/plain": [
       "(1280, 1280)"
      ]
     },
     "execution_count": 20,
     "metadata": {},
     "output_type": "execute_result"
    }
   ],
   "source": [
    "flat: np.ndarray = subsamples.reshape((-1, subsamples.shape[-1]))\n",
    "distance_matrix = cdist(flat, flat, distance_measure)\n",
    "distance_matrix.shape"
   ]
  },
  {
   "cell_type": "code",
   "execution_count": 24,
   "metadata": {},
   "outputs": [
    {
     "data": {
      "text/plain": [
       "(1280, 2)"
      ]
     },
     "execution_count": 24,
     "metadata": {},
     "output_type": "execute_result"
    }
   ],
   "source": [
    "mds, _ = metrics.mds(distance_matrix, ndim=2, metric=metric, seed=SEED)\n",
    "# mds = mds.reshape(len(samples), -1, 2)\n",
    "mds.shape"
   ]
  },
  {
   "cell_type": "code",
   "execution_count": 45,
   "metadata": {},
   "outputs": [
    {
     "name": "stdout",
     "output_type": "stream",
     "text": [
      "Ur19-B\n",
      "Ur57-R\n"
     ]
    }
   ],
   "source": [
    "samples_to_remove = [10, 116]\n",
    "for i in samples_to_remove:\n",
    "    print(sample_names[i])"
   ]
  },
  {
   "cell_type": "code",
   "execution_count": 46,
   "metadata": {},
   "outputs": [
    {
     "data": {
      "text/plain": [
       "(1260, 2)"
      ]
     },
     "execution_count": 46,
     "metadata": {},
     "output_type": "execute_result"
    }
   ],
   "source": [
    "mod_mds = mds\n",
    "for i in sorted(samples_to_remove, reverse=True):\n",
    "    mod_mds = np.concatenate((mod_mds[:i*10], mod_mds[(i+1)*10:]))\n",
    "mod_mds.shape"
   ]
  },
  {
   "cell_type": "code",
   "execution_count": 47,
   "metadata": {},
   "outputs": [
    {
     "data": {
      "text/plain": [
       "(array([], dtype=int64),)"
      ]
     },
     "execution_count": 47,
     "metadata": {},
     "output_type": "execute_result"
    }
   ],
   "source": [
    "np.where(mod_mds[:,1] < -6)"
   ]
  },
  {
   "cell_type": "code",
   "execution_count": 48,
   "metadata": {},
   "outputs": [],
   "source": [
    "def mds_stress_analysis(dist_mat, dims, metric=True, seed=None, workers=1, **kwargs):\n",
    "    \"\"\"\n",
    "    Compute the MDS stress value for the given possible range of components.\n",
    "    \"\"\"\n",
    "    import multiprocessing\n",
    "    if isinstance(dims, int):\n",
    "        dims = range(1, dims+1)\n",
    "    dims = list(dims)\n",
    "    with multiprocessing.Pool(workers) as pool:\n",
    "        stresses = pool.map(metrics.MdsStressAnalysisProcess(\n",
    "            dist_mat, metric=metric, random_state=seed, **kwargs\n",
    "        ), dims)\n",
    "    print(stresses)\n",
    "    return dims, stresses #(1 - np.cumsum(stresses) / np.sum(stresses))"
   ]
  },
  {
   "cell_type": "code",
   "execution_count": 49,
   "metadata": {},
   "outputs": [],
   "source": [
    "# mds_stress = metrics.mds_stress_analysis(distance_matrix, 64, metric=metric, seed=SEED, workers=1)"
   ]
  },
  {
   "cell_type": "code",
   "execution_count": 50,
   "metadata": {},
   "outputs": [
    {
     "data": {
      "image/png": "[encoded data removed]",
      "text/plain": [
       "<Figure size 600x400 with 1 Axes>"
      ]
     },
     "metadata": {},
     "output_type": "display_data"
    }
   ],
   "source": [
    "plt.figure(figsize=(6, 4))\n",
    "# plt.subplot(1, 2, 1)\n",
    "plt.title(f\"Metric MDS Plot of {len(samples)} Samples\")\n",
    "x, y = mod_mds.T\n",
    "plt.scatter(x[:len(mod_mds)//2], y[:len(mod_mds)//2], label=\"B\", s=7)\n",
    "plt.scatter(x[len(mod_mds)//2:], y[len(mod_mds)//2:], label=\"R\", s=7)\n",
    "plt.xlim((np.min(mod_mds) - 1, np.max(mod_mds) + 1))\n",
    "plt.ylim((np.min(mod_mds) - 1, np.max(mod_mds) + 1))\n",
    "plt.legend(loc='center left', bbox_to_anchor=(1, 0.5),\n",
    "          fancybox=True, shadow=True, ncol=1)\n",
    "\n",
    "# plt.subplot(1, 2, 2)\n",
    "# plt.title(\"MDS Stress Scree Plot\")\n",
    "# plt.plot(*mds_stress)\n",
    "# plt.xlabel(\"Number of Components\")\n",
    "# plt.ylabel(\"1 - Cumulative Stress\")\n",
    "# plt.tight_layout()\n",
    "# plt.savefig(\"mds_scree_plot.png\")\n",
    "plt.tight_layout()\n",
    "plt.show()"
   ]
  },
  {
   "cell_type": "code",
   "execution_count": 25,
   "metadata": {},
   "outputs": [
    {
     "data": {
      "image/png": "[encoded data removed]",
      "text/plain": [
       "<Figure size 640x480 with 1 Axes>"
      ]
     },
     "metadata": {},
     "output_type": "display_data"
    }
   ],
   "source": [
    "plt.title(\"MDS Stress Scree Plot\")\n",
    "plt.plot(*mds_stress)\n",
    "plt.xlabel(\"Number of Components\")\n",
    "plt.ylabel(\"1 - Cumulative Stress\")\n",
    "plt.tight_layout()\n",
    "plt.show()"
   ]
  },
  {
   "cell_type": "markdown",
   "metadata": {},
   "source": [
    "## Clustering"
   ]
  },
  {
   "cell_type": "code",
   "execution_count": 26,
   "metadata": {},
   "outputs": [
    {
     "data": {
      "text/plain": [
       "(10, 10, 64)"
      ]
     },
     "execution_count": 26,
     "metadata": {},
     "output_type": "execute_result"
    }
   ],
   "source": [
    "encoded_subsamples.shape"
   ]
  },
  {
   "cell_type": "code",
   "execution_count": 27,
   "metadata": {},
   "outputs": [],
   "source": [
    "flat_encoded_samples = encoded_subsamples.reshape((-1, encoded_subsamples.shape[-1]))"
   ]
  },
  {
   "cell_type": "code",
   "execution_count": 28,
   "metadata": {},
   "outputs": [
    {
     "data": {
      "text/plain": [
       "array([1, 1, 1, 1, 1, 1, 3, 1, 1, 1, 6, 6, 6, 6, 6, 6, 6, 1, 6, 6, 8, 5,\n",
       "       8, 2, 2, 8, 2, 8, 2, 2, 4, 4, 4, 4, 6, 4, 6, 4, 6, 4, 1, 9, 0, 0,\n",
       "       0, 0, 0, 1, 0, 2, 3, 3, 3, 3, 3, 3, 3, 3, 3, 3, 1, 1, 9, 9, 1, 1,\n",
       "       1, 1, 0, 1, 7, 7, 7, 7, 7, 7, 7, 7, 7, 7, 9, 9, 9, 9, 9, 9, 9, 2,\n",
       "       9, 9, 8, 5, 5, 5, 5, 5, 5, 5, 8, 5], dtype=int32)"
      ]
     },
     "execution_count": 28,
     "metadata": {},
     "output_type": "execute_result"
    }
   ],
   "source": [
    "kmeans = KMeans(n_clusters=len(encoded_subsamples))\n",
    "labels = kmeans.fit_predict(flat_encoded_samples)\n",
    "labels"
   ]
  },
  {
   "cell_type": "code",
   "execution_count": 29,
   "metadata": {},
   "outputs": [
    {
     "data": {
      "text/plain": [
       "0.7699661232343326"
      ]
     },
     "execution_count": 29,
     "metadata": {},
     "output_type": "execute_result"
    }
   ],
   "source": [
    "normalized_mutual_info_score(\n",
    "    np.repeat(np.arange(len(encoded_subsamples)), encoded_subsamples.shape[1]),\n",
    "    labels)"
   ]
  },
  {
   "cell_type": "markdown",
   "metadata": {},
   "source": [
    "### Agglomerative Clustering"
   ]
  },
  {
   "cell_type": "code",
   "execution_count": 30,
   "metadata": {},
   "outputs": [],
   "source": [
    "model = AgglomerativeClustering(None, distance_threshold=0).fit(flat_encoded_samples)\n",
    "# model = AgglomerativeClustering(len(encoded_subsamples)).fit(flat_encoded_samples)"
   ]
  },
  {
   "cell_type": "code",
   "execution_count": 31,
   "metadata": {},
   "outputs": [],
   "source": [
    "def plot_dendrogram(model, **kwargs):\n",
    "    # Create linkage matrix and then plot the dendrogram\n",
    "\n",
    "    # create the counts of samples under each node\n",
    "    counts = np.zeros(model.children_.shape[0])\n",
    "    n_samples = len(model.labels_)\n",
    "    for i, merge in enumerate(model.children_):\n",
    "        current_count = 0\n",
    "        for child_idx in merge:\n",
    "            if child_idx < n_samples:\n",
    "                current_count += 1  # leaf node\n",
    "            else:\n",
    "                current_count += counts[child_idx - n_samples]\n",
    "        counts[i] = current_count\n",
    "\n",
    "    linkage_matrix = np.column_stack(\n",
    "        [model.children_, model.distances_, counts]\n",
    "    ).astype(float)\n",
    "\n",
    "    # Plot the corresponding dendrogram\n",
    "    dendrogram(linkage_matrix, **kwargs)"
   ]
  },
  {
   "cell_type": "code",
   "execution_count": 32,
   "metadata": {},
   "outputs": [
    {
     "data": {
      "text/plain": [
       "array([56, 93, 89, 81, 60, 92, 95, 71, 69, 86, 99, 88, 55, 65, 90, 76, 50,\n",
       "       75, 59, 49, 79, 72, 73, 85, 29, 97, 44, 51, 87, 27, 91, 45, 77, 74,\n",
       "       96, 94, 42, 36, 61, 64, 43, 63, 98, 78, 58, 57, 54, 80, 35, 21, 46,\n",
       "       47, 68, 82, 83, 24, 67, 84, 40, 62, 66, 28, 39, 52, 41, 37, 38, 18,\n",
       "       30, 53, 33, 17, 26, 20, 70, 31, 22, 19, 10, 32, 15, 34, 25, 16, 48,\n",
       "       12,  9, 23, 13,  7, 14,  8,  4, 11,  5,  6,  3,  1,  2,  0])"
      ]
     },
     "execution_count": 32,
     "metadata": {},
     "output_type": "execute_result"
    }
   ],
   "source": [
    "model.labels_"
   ]
  },
  {
   "cell_type": "code",
   "execution_count": 37,
   "metadata": {},
   "outputs": [
    {
     "data": {
      "image/png": "[encoded data removed]",
      "text/plain": [
       "<Figure size 640x480 with 1 Axes>"
      ]
     },
     "metadata": {},
     "output_type": "display_data"
    }
   ],
   "source": [
    "plt.title(\"Hierarchical Clustering Dendrogram\")\n",
    "# plot the top three levels of the dendrogram\n",
    "plot_dendrogram(model, truncate_mode=\"level\", p=4)\n",
    "plt.xlabel(\"Number of points in node (or index of point if no parenthesis).\")\n",
    "plt.show()"
   ]
  }
 ],
 "metadata": {
  "kernelspec": {
   "display_name": "Python 3 (ipykernel)",
   "language": "python",
   "name": "python3"
  },
  "language_info": {
   "codemirror_mode": {
    "name": "ipython",
    "version": 3
   },
   "file_extension": ".py",
   "mimetype": "text/x-python",
   "name": "python",
   "nbconvert_exporter": "python",
   "pygments_lexer": "ipython3",
   "version": "3.10.6"
  }
 },
 "nbformat": 4,
 "nbformat_minor": 4
}
