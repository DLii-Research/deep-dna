{
 "cells": [
  {
   "cell_type": "code",
   "execution_count": 1,
   "id": "11b8e246-e328-4ed2-ac81-76b668b70106",
   "metadata": {},
   "outputs": [],
   "source": [
    "from dnadb import fasta, taxonomy\n",
    "import deepctx as dcs\n",
    "import matplotlib.pyplot as plt\n",
    "import numpy as np\n",
    "import tensorflow as tf\n",
    "import wandb\n",
    "\n",
    "from deepdna.nn import data_generators as dg\n",
    "from deepdna.nn.models import load_model"
   ]
  },
  {
   "cell_type": "code",
   "execution_count": 2,
   "id": "1a437c02-68ca-4e48-99da-f4683cfa72aa",
   "metadata": {},
   "outputs": [
    {
     "name": "stderr",
     "output_type": "stream",
     "text": [
      "2023-11-29 17:01:22.682764: I tensorflow/stream_executor/cuda/cuda_gpu_executor.cc:975] successful NUMA node read from SysFS had negative value (-1), but there must be at least one NUMA node, so returning NUMA node zero\n",
      "2023-11-29 17:01:22.683032: I tensorflow/stream_executor/cuda/cuda_gpu_executor.cc:975] successful NUMA node read from SysFS had negative value (-1), but there must be at least one NUMA node, so returning NUMA node zero\n",
      "2023-11-29 17:01:22.690670: I tensorflow/stream_executor/cuda/cuda_gpu_executor.cc:975] successful NUMA node read from SysFS had negative value (-1), but there must be at least one NUMA node, so returning NUMA node zero\n",
      "2023-11-29 17:01:22.690886: I tensorflow/stream_executor/cuda/cuda_gpu_executor.cc:975] successful NUMA node read from SysFS had negative value (-1), but there must be at least one NUMA node, so returning NUMA node zero\n",
      "2023-11-29 17:01:22.691053: I tensorflow/stream_executor/cuda/cuda_gpu_executor.cc:975] successful NUMA node read from SysFS had negative value (-1), but there must be at least one NUMA node, so returning NUMA node zero\n",
      "2023-11-29 17:01:22.691219: I tensorflow/stream_executor/cuda/cuda_gpu_executor.cc:975] successful NUMA node read from SysFS had negative value (-1), but there must be at least one NUMA node, so returning NUMA node zero\n"
     ]
    },
    {
     "data": {
      "text/plain": [
       "[PhysicalDevice(name='/physical_device:CPU:0', device_type='CPU'),\n",
       " PhysicalDevice(name='/physical_device:GPU:0', device_type='GPU')]"
      ]
     },
     "execution_count": 2,
     "metadata": {},
     "output_type": "execute_result"
    }
   ],
   "source": [
    "# Only use GPU 0\n",
    "dcs.tf.devices.use(gpus=[0])"
   ]
  },
  {
   "cell_type": "markdown",
   "id": "044c698a-b39d-41d7-8dc9-a1334832a398",
   "metadata": {},
   "source": [
    "## Converting Sequences and Taxonomies to DB Format"
   ]
  },
  {
   "cell_type": "markdown",
   "id": "b0eee095-86d4-4dcc-8855-4725e7a0382b",
   "metadata": {},
   "source": [
    "### SILVA"
   ]
  },
  {
   "cell_type": "code",
   "execution_count": 43,
   "id": "3d752c53-a5bd-4ecc-8b7f-5e697da6f44b",
   "metadata": {},
   "outputs": [
    {
     "name": "stdout",
     "output_type": "stream",
     "text": [
      "Importing FASTA...\n",
      "573111it [00:04, 118177.34it/s]\n",
      "Done. Imported 573,111 sequences. Skipped 0 sequences.\n"
     ]
    }
   ],
   "source": [
    "# 515f/806 sequences\n",
    "!dnadb fasta import \\\n",
    "    /home/data2/deepdna/data/silva/silva-138-seqs-515f-806r-derep-uniq.fasta \\\n",
    "    ./silva-515f-806r.fasta.db"
   ]
  },
  {
   "cell_type": "code",
   "execution_count": 53,
   "id": "cc27fcba-f2d4-4dbf-9af1-5375cb4956ce",
   "metadata": {},
   "outputs": [
    {
     "name": "stdout",
     "output_type": "stream",
     "text": [
      "Importing taxonomy TSV...\n",
      "573111it [00:07, 73399.27it/s]\n",
      "Writing labels disk...: 100%|██████████████| 8434/8434 [00:09<00:00, 907.70it/s]\n",
      "Done. Imported 573,111 sequences. Skipped 0 sequences.\n"
     ]
    }
   ],
   "source": [
    "!dnadb taxonomy import \\\n",
    "    --depth 6 \\\n",
    "    --fasta-db ./silva-515f-806r.fasta.db \\\n",
    "    /home/data2/deepdna/data/silva/silva-138-tax-515f-806r-derep-uniq.tsv \\\n",
    "    ./silva-515f-806r.tax.fasta.db"
   ]
  },
  {
   "cell_type": "markdown",
   "id": "f2c5ae9f-4f4a-43d6-a863-b6df387de347",
   "metadata": {},
   "source": [
    "### Hopland"
   ]
  },
  {
   "cell_type": "markdown",
   "id": "137182e7-d71a-43f1-9b57-09a678430b94",
   "metadata": {},
   "source": [
    "The following imports multpile FASTQs into a multiplexed FASTA file with sample mappings."
   ]
  },
  {
   "cell_type": "code",
   "execution_count": 39,
   "id": "0ae93a82-3450-4eb7-a57d-7d62f6e11817",
   "metadata": {},
   "outputs": [
    {
     "name": "stdout",
     "output_type": "stream",
     "text": [
      "Importing FASTA...\n",
      "Gathering Sequences from 128 file(s)...\n",
      "128it [00:05, 21.93it/s]\n",
      "Creating FASTA DB...\n",
      "100%|█████████████████████████████| 4792854/4792854 [00:09<00:00, 512917.82it/s]\n",
      "Creating FASTA Mapping DB...\n",
      "Writing Sample Mappings...\n",
      "100%|█████████████████████████████| 4792854/4792854 [00:24<00:00, 191807.80it/s]\n",
      "Done. Imported 4,792,854 sequences. Skipped 0 sequences.\n"
     ]
    }
   ],
   "source": [
    "# Import forward reads from FASTQs\n",
    "!dnadb fasta import-multiplexed \\\n",
    "    --output-sequences-path ./hopland.fasta.db \\\n",
    "    --output-mapping-path ./hopland.fasta.mapping.db \\\n",
    "    /home/shared/hopland/fastq/Ur*_R1_001.fastq"
   ]
  },
  {
   "cell_type": "markdown",
   "id": "ee11ee84-78eb-4cd1-8c73-e6647df9ce7e",
   "metadata": {},
   "source": [
    "## Loading Sequences and Taxonomies"
   ]
  },
  {
   "cell_type": "markdown",
   "id": "e5f3538d-e225-4bfb-b5a9-273ec0fe038a",
   "metadata": {},
   "source": [
    "### SILVA"
   ]
  },
  {
   "cell_type": "code",
   "execution_count": 3,
   "id": "0cc8da2a-ddf0-49c1-848d-f479dd29a614",
   "metadata": {},
   "outputs": [],
   "source": [
    "silva_sequences = fasta.FastaDb(\"./silva-515f-806r.fasta.db\")\n",
    "silva_taxonomies = taxonomy.TaxonomyDb(\"./silva-515f-806r.tax.fasta.db\")"
   ]
  },
  {
   "cell_type": "code",
   "execution_count": 4,
   "id": "bfdc21d5-1d8d-4e29-b315-b414574aca48",
   "metadata": {},
   "outputs": [
    {
     "name": "stdout",
     "output_type": "stream",
     "text": [
      "Total sequences: 573,111\n"
     ]
    }
   ],
   "source": [
    "print(f\"Total sequences: {len(silva_sequences):,}\")"
   ]
  },
  {
   "cell_type": "code",
   "execution_count": 5,
   "id": "95873563-8c93-417e-9bc4-5017305a6d36",
   "metadata": {},
   "outputs": [
    {
     "name": "stdout",
     "output_type": "stream",
     "text": [
      "Total taxonomy sequences: 573,111\n"
     ]
    }
   ],
   "source": [
    "print(f\"Total taxonomy sequences: {silva_taxonomies.num_sequences:,}\")"
   ]
  },
  {
   "cell_type": "code",
   "execution_count": 6,
   "id": "a42918a3-6f58-4111-aa73-564172c0974d",
   "metadata": {},
   "outputs": [
    {
     "name": "stdout",
     "output_type": "stream",
     "text": [
      "Total taxonomy labels: 8,434\n"
     ]
    }
   ],
   "source": [
    "print(f\"Total taxonomy labels: {silva_taxonomies.num_labels:,}\")"
   ]
  },
  {
   "cell_type": "markdown",
   "id": "f72c071c-7344-4db5-9d50-eca3dcb0624b",
   "metadata": {},
   "source": [
    "### Hopland"
   ]
  },
  {
   "cell_type": "code",
   "execution_count": 7,
   "id": "e205e62b-41fe-4e1c-b9a8-298f0b128b8d",
   "metadata": {},
   "outputs": [],
   "source": [
    "# Load samples\n",
    "hopland_sequences = fasta.FastaDb(\"./hopland.fasta.db\")\n",
    "hopland_samples = hopland_sequences.mappings(\"./hopland.fasta.mapping.db\")"
   ]
  },
  {
   "cell_type": "code",
   "execution_count": 8,
   "id": "6bedb56d-0e83-4b69-9a3b-f585bbb70e4b",
   "metadata": {},
   "outputs": [
    {
     "name": "stdout",
     "output_type": "stream",
     "text": [
      "Total sequences: 1,027,593\n"
     ]
    }
   ],
   "source": [
    "print(f\"Total sequences: {len(hopland_sequences):,}\")"
   ]
  },
  {
   "cell_type": "code",
   "execution_count": 9,
   "id": "6c3f75d3-c0d5-486b-982a-e7c7e9147062",
   "metadata": {},
   "outputs": [
    {
     "data": {
      "text/plain": [
       "128"
      ]
     },
     "execution_count": 9,
     "metadata": {},
     "output_type": "execute_result"
    }
   ],
   "source": [
    "# Number of samples loaded.\n",
    "len(hopland_samples)"
   ]
  },
  {
   "cell_type": "markdown",
   "id": "c62628cd-3922-4021-9dd1-9faefea65c4e",
   "metadata": {},
   "source": [
    "## Getting Sequences and Taxonomies"
   ]
  },
  {
   "cell_type": "code",
   "execution_count": 68,
   "id": "7d782a3d-f485-4a94-bfbd-68fa165c41fb",
   "metadata": {},
   "outputs": [
    {
     "data": {
      "text/plain": [
       "FastaEntry(sequence='TACGGAGGGGGCTAGCGTTGTTCGGAATTACTGGGCGTAAAGCGCACGTAGGCGGCGATTTAAGTCAGAGGTGAAAGCCCGGGGCTCAACCCCGGAATAGCCTTTGAGACTGGATTGCTTGAATCCGGGAGAGGTGAGTGGAATTCCGAGTGTAGAGGTGAAATTCGTAGATATTCGGAAGAACACCAGTGGCGAAGGCGGATCACTGGACCGGCATTGACGCTGAGGTGCGAAAGCGTGGGGAGCAAACAGG', identifier='AB000106.1.1343', extra='Bacteria;Proteobacteria;Alphaproteobacteria;Sphingomonadales;Sphingomonadaceae;Sphingobium;Sphingomonas sp.')"
      ]
     },
     "execution_count": 68,
     "metadata": {},
     "output_type": "execute_result"
    }
   ],
   "source": [
    "# Index using numeric indices\n",
    "silva_sequences[0]"
   ]
  },
  {
   "cell_type": "code",
   "execution_count": 70,
   "id": "145f460c-e4f0-45b7-a4fc-93f256908b6f",
   "metadata": {},
   "outputs": [
    {
     "data": {
      "text/plain": [
       "TaxonomyDbEntry(sequence_id='AB000106.1.1343', label='d__Bacteria; p__Proteobacteria; c__Alphaproteobacteria; o__Sphingomonadales; f__Sphingomonadaceae; g__Sphingobium')"
      ]
     },
     "execution_count": 70,
     "metadata": {},
     "output_type": "execute_result"
    }
   ],
   "source": [
    "# FASTA indices correspond to taxonomy indices\n",
    "silva_taxonomies[0]"
   ]
  },
  {
   "cell_type": "code",
   "execution_count": 72,
   "id": "3cd934e0-9145-47fb-9fe4-335b00389b3d",
   "metadata": {},
   "outputs": [
    {
     "name": "stdout",
     "output_type": "stream",
     "text": [
      "Sequence IDs are the same\n"
     ]
    }
   ],
   "source": [
    "# FASTA indices correspond to taxonomy indices\n",
    "assert silva_sequences[0].identifier == silva_taxonomies[0].sequence_id\n",
    "print(\"Sequence IDs are the same\")"
   ]
  },
  {
   "cell_type": "markdown",
   "id": "75ef04aa-d7e2-46e7-b227-299d4b33d0ba",
   "metadata": {},
   "source": [
    "## Generating Samples for the Model"
   ]
  },
  {
   "cell_type": "markdown",
   "id": "25463c84-72d1-4341-b806-20e870373c24",
   "metadata": {},
   "source": [
    "The following creates a data generator pipeline to encode sequences for the model, while also returning useful metadata for us to view."
   ]
  },
  {
   "cell_type": "markdown",
   "id": "0533e5a0-770b-4201-a558-3608f43d190e",
   "metadata": {},
   "source": [
    "### SILVA"
   ]
  },
  {
   "cell_type": "code",
   "execution_count": 14,
   "id": "c4bf3422-f623-400d-9cab-551bf33f6164",
   "metadata": {},
   "outputs": [],
   "source": [
    "silva = dg.BatchGenerator(batch_size=1, batches_per_epoch=1, pipeline=[\n",
    "    dg.random_samples(silva_sequences), # The samples to choose from (uniformly)\n",
    "    dg.random_sequence_entries(1000),   # Sample random FASTA entries from chosen samples\n",
    "    dg.sequences(150),                  # Get the sequences from the FASTA entries and trim to length\n",
    "    dg.encode_sequences(),              # Encode to integers,\n",
    "    dg.encode_kmers(3),                 # Encode kmer integers\n",
    "    dg.taxonomy_entries(silva_taxonomies),            # Get the corresponding taxonomy entries\n",
    "    lambda encoded_kmer_sequences, taxonomy_entries: (encoded_kmer_sequences, taxonomy_entries)\n",
    "])"
   ]
  },
  {
   "cell_type": "code",
   "execution_count": 15,
   "id": "5622d8b2-3831-4a83-b1e1-ac15758bc4bf",
   "metadata": {},
   "outputs": [],
   "source": [
    "# Grab a batch: (encoded_kmer_sequence, ground-truth taxonomies)\n",
    "encoded_kmer_sequences, taxonomies = silva[0]"
   ]
  },
  {
   "cell_type": "code",
   "execution_count": 16,
   "id": "771d9867-a82e-425f-b335-12744b707ce6",
   "metadata": {},
   "outputs": [
    {
     "data": {
      "text/plain": [
       "(1, 1000, 148)"
      ]
     },
     "execution_count": 16,
     "metadata": {},
     "output_type": "execute_result"
    }
   ],
   "source": [
    "encoded_kmer_sequences.shape"
   ]
  },
  {
   "cell_type": "code",
   "execution_count": 17,
   "id": "bc4895c2-4463-42e7-beae-05b10a9e6d81",
   "metadata": {},
   "outputs": [
    {
     "data": {
      "text/plain": [
       "TaxonomyDbEntry(sequence_id='JQ226360.1.1605', label='d__Eukaryota; p__Protalveolata; c__Syndiniales; o__Syndiniales; f__Syndiniales_Group_II; g__Syndiniales_Group_II')"
      ]
     },
     "execution_count": 17,
     "metadata": {},
     "output_type": "execute_result"
    }
   ],
   "source": [
    "taxonomies[0][0]"
   ]
  },
  {
   "cell_type": "markdown",
   "id": "5d4d16e6-e38d-44f2-8bb5-30665aa84bbb",
   "metadata": {},
   "source": [
    "### Hopland"
   ]
  },
  {
   "cell_type": "code",
   "execution_count": 18,
   "id": "c29144ea-9d75-443c-b4d7-34d565f15d32",
   "metadata": {},
   "outputs": [],
   "source": [
    "hopland = dg.BatchGenerator(batch_size=8, batches_per_epoch=1, pipeline=[\n",
    "    dg.random_samples(hopland_samples), # The samples to choose from (uniformly)\n",
    "    dg.random_sequence_entries(1000),   # Sample random FASTA entries from chosen samples\n",
    "    dg.sequences(150),                  # Get the sequences from the FASTA entries and trim to length\n",
    "    dg.encode_sequences(),              # Encode to integers,\n",
    "    dg.encode_kmers(3),                 # Encode kmer integers\n",
    "    lambda samples, encoded_kmer_sequences: (samples, encoded_kmer_sequences)\n",
    "])"
   ]
  },
  {
   "cell_type": "code",
   "execution_count": 19,
   "id": "f951816e-d767-4ad3-8dd3-4adc919b80e3",
   "metadata": {},
   "outputs": [],
   "source": [
    "samples, encoded_kmer_sequences = hopland[0]"
   ]
  },
  {
   "cell_type": "code",
   "execution_count": 20,
   "id": "6d1923ab-c1cd-47d6-b673-9650bc309473",
   "metadata": {},
   "outputs": [
    {
     "data": {
      "text/plain": [
       "(8, 1000, 148)"
      ]
     },
     "execution_count": 20,
     "metadata": {},
     "output_type": "execute_result"
    }
   ],
   "source": [
    "encoded_kmer_sequences.shape"
   ]
  },
  {
   "cell_type": "code",
   "execution_count": 21,
   "id": "8c896c00-a7cd-4444-84e8-4de8e2be2dae",
   "metadata": {},
   "outputs": [
    {
     "data": {
      "text/plain": [
       "8"
      ]
     },
     "execution_count": 21,
     "metadata": {},
     "output_type": "execute_result"
    }
   ],
   "source": [
    "len(samples)"
   ]
  },
  {
   "cell_type": "code",
   "execution_count": 22,
   "id": "2a80f897-a03f-4ce7-9104-220d09cfd2d0",
   "metadata": {},
   "outputs": [
    {
     "name": "stdout",
     "output_type": "stream",
     "text": [
      "Ur61-B-16S_S240_L001_R1_001\n",
      "Ur64-R-16S_S196_L001_R1_001\n",
      "Ur2-B-16S_S206_L001_R1_001\n",
      "Ur64-R-16S_S196_L001_R1_001\n",
      "Ur5-B-16S_S233_L001_R1_001\n",
      "Ur25-R-16S_S136_L001_R1_001\n",
      "Ur9-R-16S_S134_L001_R1_001\n",
      "Ur7-B-16S_S249_L001_R1_001\n"
     ]
    }
   ],
   "source": [
    "# Print the corresponding samples\n",
    "for sample in samples:\n",
    "    print(sample.name)"
   ]
  },
  {
   "cell_type": "code",
   "execution_count": 10,
   "id": "8ffcda9a-8065-4eb3-98a0-2cfb42dde04d",
   "metadata": {},
   "outputs": [],
   "source": [
    "api = wandb.Api()"
   ]
  },
  {
   "cell_type": "code",
   "execution_count": 11,
   "id": "6ea99f4d-7126-46d4-86eb-10c83ce9fad0",
   "metadata": {},
   "outputs": [
    {
     "name": "stderr",
     "output_type": "stream",
     "text": [
      "\u001b[34m\u001b[1mwandb\u001b[0m:   4 of 4 files downloaded.  \n",
      "2023-11-29 17:01:29.127399: I tensorflow/core/platform/cpu_feature_guard.cc:193] This TensorFlow binary is optimized with oneAPI Deep Neural Network Library (oneDNN) to use the following CPU instructions in performance-critical operations:  SSE4.1 SSE4.2 AVX AVX2 FMA\n",
      "To enable them in other operations, rebuild TensorFlow with the appropriate compiler flags.\n",
      "2023-11-29 17:01:29.129998: I tensorflow/stream_executor/cuda/cuda_gpu_executor.cc:975] successful NUMA node read from SysFS had negative value (-1), but there must be at least one NUMA node, so returning NUMA node zero\n",
      "2023-11-29 17:01:29.130243: I tensorflow/stream_executor/cuda/cuda_gpu_executor.cc:975] successful NUMA node read from SysFS had negative value (-1), but there must be at least one NUMA node, so returning NUMA node zero\n",
      "2023-11-29 17:01:29.130413: I tensorflow/stream_executor/cuda/cuda_gpu_executor.cc:975] successful NUMA node read from SysFS had negative value (-1), but there must be at least one NUMA node, so returning NUMA node zero\n",
      "2023-11-29 17:01:29.578369: I tensorflow/stream_executor/cuda/cuda_gpu_executor.cc:975] successful NUMA node read from SysFS had negative value (-1), but there must be at least one NUMA node, so returning NUMA node zero\n",
      "2023-11-29 17:01:29.578575: I tensorflow/stream_executor/cuda/cuda_gpu_executor.cc:975] successful NUMA node read from SysFS had negative value (-1), but there must be at least one NUMA node, so returning NUMA node zero\n",
      "2023-11-29 17:01:29.578745: I tensorflow/stream_executor/cuda/cuda_gpu_executor.cc:975] successful NUMA node read from SysFS had negative value (-1), but there must be at least one NUMA node, so returning NUMA node zero\n",
      "2023-11-29 17:01:29.578883: I tensorflow/core/common_runtime/gpu/gpu_device.cc:1532] Created device /job:localhost/replica:0/task:0/device:GPU:0 with 21779 MB memory:  -> device: 0, name: NVIDIA GeForce RTX 3090, pci bus id: 0000:01:00.0, compute capability: 8.6\n"
     ]
    }
   ],
   "source": [
    "path = api.artifact(\"sirdavidludwig/dnabert-taxonomy/dnabert-taxonomy-topdown-64d-150l:v0\").download()\n",
    "dnabert_tax_model = load_model(path)"
   ]
  },
  {
   "cell_type": "code",
   "execution_count": 12,
   "id": "a0f2840a-d29b-484d-9c74-e72f5d1018c3",
   "metadata": {},
   "outputs": [
    {
     "name": "stderr",
     "output_type": "stream",
     "text": [
      "\u001b[34m\u001b[1mwandb\u001b[0m: Downloading large artifact setbert-taxonomy-topdown-64d-150l:v0, 90.01MB. 4 files... \n",
      "\u001b[34m\u001b[1mwandb\u001b[0m:   4 of 4 files downloaded.  \n",
      "Done. 0:0:0.3\n"
     ]
    }
   ],
   "source": [
    "path = api.artifact(\"sirdavidludwig/model-registry/setbert-taxonomy-topdown-64d-150l:v0\").download()\n",
    "setbert_tax_model = load_model(path)\n",
    "setbert_tax_model.base.chunk_size = 256 # sequence encoding chunk size"
   ]
  },
  {
   "cell_type": "markdown",
   "id": "7376dd40-0a4e-4a6e-a649-e577139fa6a2",
   "metadata": {},
   "source": [
    "## DNABERT Top-down SILVA Classification"
   ]
  },
  {
   "cell_type": "code",
   "execution_count": 165,
   "id": "107bc35f-624d-449b-9ec1-220e6135b10b",
   "metadata": {},
   "outputs": [],
   "source": [
    "sequences, taxonomies = silva[0]"
   ]
  },
  {
   "cell_type": "code",
   "execution_count": 166,
   "id": "34006dac-f383-447e-96bf-4c86d35408df",
   "metadata": {},
   "outputs": [
    {
     "name": "stdout",
     "output_type": "stream",
     "text": [
      "32/32 [==============================] - 1s 16ms/step\n"
     ]
    }
   ],
   "source": [
    "predicted_labels = dnabert_tax_model.classify(sequences[0])"
   ]
  },
  {
   "cell_type": "code",
   "execution_count": 167,
   "id": "857a7a57-bf23-4bc1-b0c2-68a8ce118039",
   "metadata": {},
   "outputs": [
    {
     "data": {
      "text/plain": [
       "array(['d__Bacteria; p__Actinobacteriota; c__Coriobacteriia; o__Coriobacteriales; f__Coriobacteriaceae; g__Collinsella',\n",
       "       'd__Eukaryota; p__Arthropoda; c__Insecta; o__Coleoptera; f__Coleoptera; g__Coleoptera',\n",
       "       'd__Bacteria; p__Planctomycetota; c__Phycisphaerae; o__Phycisphaerales; f__AKAU3564_sediment_group; g__AKAU3564_sediment_group',\n",
       "       'd__Archaea; p__Crenarchaeota; c__Nitrososphaeria; o__Nitrosopumilales; f__Nitrosopumilaceae; g__Nitrosarchaeum',\n",
       "       'd__Bacteria; p__Proteobacteria; c__Gammaproteobacteria; o__Pseudomonadales; f__Endozoicomonadaceae; g__Endozoicomonas'],\n",
       "      dtype='<U181')"
      ]
     },
     "execution_count": 167,
     "metadata": {},
     "output_type": "execute_result"
    }
   ],
   "source": [
    "predicted_labels[:5]"
   ]
  },
  {
   "cell_type": "code",
   "execution_count": 170,
   "id": "7a7e0660-fd6c-4dd8-97fd-49d925801e08",
   "metadata": {},
   "outputs": [
    {
     "name": "stdout",
     "output_type": "stream",
     "text": [
      "d__Bacteria; p__Actinobacteriota; c__Coriobacteriia; o__Coriobacteriales; f__Coriobacteriaceae; g__Collinsella\n",
      "d__Eukaryota; p__Arthropoda; c__Insecta; o__Coleoptera; f__Coleoptera; g__Coleoptera\n",
      "d__Bacteria; p__Planctomycetota; c__Phycisphaerae; o__Phycisphaerales; f__AKAU3564_sediment_group; g__AKAU3564_sediment_group\n",
      "d__Archaea; p__Crenarchaeota; c__Nitrososphaeria; o__Nitrosopumilales; f__Nitrosopumilaceae; g__Nitrosarchaeum\n",
      "d__Bacteria; p__Proteobacteria; c__Gammaproteobacteria; o__Oceanospirillales; f__Endozoicomonadaceae; g__Endozoicomonas\n"
     ]
    }
   ],
   "source": [
    "for tax in taxonomies[0][:5]:\n",
    "    print(tax.label)"
   ]
  },
  {
   "cell_type": "markdown",
   "id": "81843313-340e-4f15-a297-2c36474243d7",
   "metadata": {},
   "source": [
    "## SetBERT Hopland Classification"
   ]
  },
  {
   "cell_type": "code",
   "execution_count": 23,
   "id": "94a7fcab-249e-4f8b-818d-c36b0aa2c59d",
   "metadata": {},
   "outputs": [],
   "source": [
    "samples, sequences = hopland[0]"
   ]
  },
  {
   "cell_type": "code",
   "execution_count": 25,
   "id": "73cbdaf5-610b-4b4c-8b94-de82053e50b2",
   "metadata": {},
   "outputs": [
    {
     "name": "stderr",
     "output_type": "stream",
     "text": [
      "2023-11-29 17:02:34.306140: I tensorflow/stream_executor/cuda/cuda_blas.cc:1786] TensorFloat-32 will be used for the matrix multiplication. This will only be logged once.\n"
     ]
    },
    {
     "name": "stdout",
     "output_type": "stream",
     "text": [
      "1/1 [==============================] - 5s 5s/step\n"
     ]
    }
   ],
   "source": [
    "predicted_labels = setbert_tax_model.classify(sequences)"
   ]
  },
  {
   "cell_type": "code",
   "execution_count": 26,
   "id": "78c50627-99f0-4365-aa23-7e30b7b80843",
   "metadata": {},
   "outputs": [
    {
     "data": {
      "text/plain": [
       "array([['d__Bacteria; p__Verrucomicrobiota; c__Verrucomicrobiae; o__Chthoniobacterales; f__Chthoniobacteraceae; g__Candidatus_Udaeobacter',\n",
       "        'd__Bacteria; p__Actinobacteriota; c__Thermoleophilia; o__Solirubrobacterales; f__67-14; g__67-14',\n",
       "        'd__Bacteria; p__Bacteroidota; c__Bacteroidia; o__Chitinophagales; f__Chitinophagaceae; g__Flavisolibacter',\n",
       "        ...,\n",
       "        'd__Bacteria; p__Acidobacteriota; c__Vicinamibacteria; o__Vicinamibacterales; f__; g__',\n",
       "        'd__Bacteria; p__Actinobacteriota; c__Actinobacteria; o__Streptomycetales; f__Streptomycetaceae; g__Streptomyces',\n",
       "        'd__Bacteria; p__Actinobacteriota; c__Thermoleophilia; o__Solirubrobacterales; f__Solirubrobacteraceae; g__Conexibacter'],\n",
       "       ['d__Bacteria; p__Chloroflexi; c__Dehalococcoidia; o__SAR202_clade; f__SAR202_clade; g__SAR202_clade',\n",
       "        'd__Bacteria; p__Firmicutes; c__Bacilli; o__Bacillales; f__Bacillaceae; g__Bacillus',\n",
       "        'd__Bacteria; p__Proteobacteria; c__Alphaproteobacteria; o__Azospirillales; f__Azospirillaceae; g__Skermanella',\n",
       "        ...,\n",
       "        'd__Archaea; p__Crenarchaeota; c__Nitrososphaeria; o__Nitrososphaerales; f__Nitrososphaeraceae; g__Nitrososphaeraceae',\n",
       "        'd__Bacteria; p__Actinobacteriota; c__Thermoleophilia; o__Gaiellales; f__; g__',\n",
       "        'd__Bacteria; p__Firmicutes; c__Bacilli; o__Paenibacillales; f__Paenibacillaceae; g__Paenibacillus'],\n",
       "       ['d__Bacteria; p__Proteobacteria; c__Gammaproteobacteria; o__Acidiferrobacterales; f__Acidiferrobacteraceae; g__Sulfurifustis',\n",
       "        'd__Bacteria; p__Chloroflexi; c__TK10; o__TK10; f__TK10; g__TK10',\n",
       "        'd__Bacteria; p__Firmicutes; c__Bacilli; o__Bacillales; f__Planococcaceae; g__Psychrobacillus',\n",
       "        ...,\n",
       "        'd__Bacteria; p__Acidobacteriota; c__Blastocatellia; o__11-24; f__11-24; g__11-24',\n",
       "        'd__Bacteria; p__Verrucomicrobiota; c__Verrucomicrobiae; o__Chthoniobacterales; f__Chthoniobacteraceae; g__Candidatus_Udaeobacter',\n",
       "        'd__Bacteria; p__Firmicutes; c__Bacilli; o__Bacillales; f__Planococcaceae; g__Psychrobacillus'],\n",
       "       ...,\n",
       "       ['d__Bacteria; p__Firmicutes; c__Bacilli; o__Bacillales; f__Bacillaceae; g__Bacillus',\n",
       "        'd__Bacteria; p__Verrucomicrobiota; c__Verrucomicrobiae; o__Chthoniobacterales; f__Chthoniobacteraceae; g__Candidatus_Udaeobacter',\n",
       "        'd__Bacteria; p__Chloroflexi; c__KD4-96; o__KD4-96; f__KD4-96; g__KD4-96',\n",
       "        ...,\n",
       "        'd__Bacteria; p__Proteobacteria; c__Alphaproteobacteria; o__Rhizobiales; f__Rhizobiales_Incertae_Sedis; g__',\n",
       "        'd__Bacteria; p__Acidobacteriota; c__Blastocatellia; o__Pyrinomonadales; f__Pyrinomonadaceae; g__RB41',\n",
       "        'd__Bacteria; p__Proteobacteria; c__Alphaproteobacteria; o__Sphingomonadales; f__Sphingomonadaceae; g__Sphingomonas'],\n",
       "       ['d__Bacteria; p__Chloroflexi; c__Chloroflexia; o__Thermomicrobiales; f__JG30-KF-CM45; g__JG30-KF-CM45',\n",
       "        'd__Bacteria; p__Acidobacteriota; c__Vicinamibacteria; o__Vicinamibacterales; f__; g__',\n",
       "        'd__Bacteria; p__Firmicutes; c__Bacilli; o__Bacillales; f__Bacillaceae; g__Bacillus',\n",
       "        ...,\n",
       "        'd__Bacteria; p__Actinobacteriota; c__Actinobacteria; o__Streptomycetales; f__Streptomycetaceae; g__Streptomyces',\n",
       "        'd__Bacteria; p__Gemmatimonadota; c__Gemmatimonadetes; o__Gemmatimonadales; f__Gemmatimonadaceae; g__Gemmatimonas',\n",
       "        'd__Bacteria; p__Proteobacteria; c__Gammaproteobacteria; o__Gammaproteobacteria_Incertae_Sedis; f__Unknown_Family; g__Acidibacter'],\n",
       "       ['d__Bacteria; p__Bacteroidota; c__Bacteroidia; o__Chitinophagales; f__Chitinophagaceae; g__Edaphobaculum',\n",
       "        'd__Bacteria; p__Verrucomicrobiota; c__Verrucomicrobiae; o__Chthoniobacterales; f__Chthoniobacteraceae; g__Candidatus_Udaeobacter',\n",
       "        'd__Bacteria; p__Firmicutes; c__Bacilli; o__Bacillales; f__Bacillaceae; g__Bacillus',\n",
       "        ...,\n",
       "        'd__Bacteria; p__Proteobacteria; c__Alphaproteobacteria; o__Azospirillales; f__Azospirillaceae; g__Skermanella',\n",
       "        'd__Bacteria; p__Proteobacteria; c__Alphaproteobacteria; o__Rickettsiales; f__Mitochondria; g__Mitochondria',\n",
       "        'd__Bacteria; p__Bacteroidota; c__Bacteroidia; o__Flavobacteriales; f__Flavobacteriaceae; g__Flavobacterium']],\n",
       "      dtype='<U181')"
      ]
     },
     "execution_count": 26,
     "metadata": {},
     "output_type": "execute_result"
    }
   ],
   "source": [
    "predicted_labels"
   ]
  },
  {
   "cell_type": "code",
   "execution_count": null,
   "id": "6e582289-780d-41ba-a254-c8dabc730a42",
   "metadata": {},
   "outputs": [],
   "source": []
  }
 ],
 "metadata": {
  "kernelspec": {
   "display_name": "Python 3 (ipykernel)",
   "language": "python",
   "name": "python3"
  },
  "language_info": {
   "codemirror_mode": {
    "name": "ipython",
    "version": 3
   },
   "file_extension": ".py",
   "mimetype": "text/x-python",
   "name": "python",
   "nbconvert_exporter": "python",
   "pygments_lexer": "ipython3",
   "version": "3.10.6"
  }
 },
 "nbformat": 4,
 "nbformat_minor": 5
}
