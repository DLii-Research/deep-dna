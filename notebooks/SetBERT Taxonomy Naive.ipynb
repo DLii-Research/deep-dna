{
 "cells": [
  {
   "cell_type": "code",
   "execution_count": 1,
   "id": "9b9d66e2-36cb-47ad-a405-f8130d3ff2ad",
   "metadata": {},
   "outputs": [],
   "source": [
    "import os\n",
    "os.environ[\"TF_CPP_MIN_LOG_LEVEL\"] = \"1\""
   ]
  },
  {
   "cell_type": "code",
   "execution_count": 2,
   "id": "0217f1e5-d006-4349-b510-aa1aaf2f0324",
   "metadata": {},
   "outputs": [],
   "source": [
    "import abc\n",
    "from collections import defaultdict\n",
    "import json\n",
    "from itertools import chain, repeat\n",
    "import matplotlib.pyplot as plt\n",
    "import numpy as np\n",
    "import numpy.typing as npt\n",
    "from pathlib import Path\n",
    "import tensorflow as tf\n",
    "import tf_utilities as tfu\n",
    "from tqdm.auto import tqdm\n",
    "from typing import Iterable, Generator, Optional\n",
    "import time\n",
    "import wandb\n",
    "\n",
    "from dnadb.datasets import Greengenes, Silva\n",
    "from dnadb import dna, fasta, sample, taxonomy\n",
    "\n",
    "from deepdna.data.dataset import Dataset\n",
    "from deepdna.nn.data_generators import SequenceGenerator\n",
    "from deepdna.nn.models import custom_model, dnabert, load_model, setbert, taxonomy as tax_models\n",
    "from deepdna.nn.utils import encapsulate_model\n",
    "from deepdna.nn import layers, functional, utils\n"
   ]
  },
  {
   "cell_type": "code",
   "execution_count": 3,
   "id": "adbdd12e-425e-4f05-86a1-3f2349186ebe",
   "metadata": {},
   "outputs": [
    {
     "data": {
      "text/plain": [
       "([PhysicalDevice(name='/physical_device:CPU:0', device_type='CPU')],\n",
       " [PhysicalDevice(name='/physical_device:GPU:0', device_type='GPU')])"
      ]
     },
     "execution_count": 3,
     "metadata": {},
     "output_type": "execute_result"
    }
   ],
   "source": [
    "tfu.devices.select_gpu(0)"
   ]
  },
  {
   "cell_type": "markdown",
   "id": "9a507324-98a6-4e64-9a7e-41e8b23341b0",
   "metadata": {},
   "source": [
    "## Dataset"
   ]
  },
  {
   "cell_type": "code",
   "execution_count": 4,
   "id": "05f341b7-adf1-4ff3-8002-1e20a2ff5a91",
   "metadata": {},
   "outputs": [
    {
     "data": {
      "text/plain": [
       "210"
      ]
     },
     "execution_count": 4,
     "metadata": {},
     "output_type": "execute_result"
    }
   ],
   "source": [
    "dataset = Dataset(\"/home/dwl2x/work/Datasets/synthetic\")\n",
    "tax_db_path = list(dataset.taxonomy_dbs(Dataset.Split.Train))[0]\n",
    "tax_db = taxonomy.TaxonomyDb(tax_db_path)\n",
    "\n",
    "fasta_path = next(dataset.fasta_dbs(Dataset.Split.Train))\n",
    "fasta_mapping_path = fasta_path.with_suffix(\".mapping.db\")\n",
    "samples = tuple(sample.load_multiplexed_fasta(fasta_path, fasta_mapping_path))\n",
    "len(samples)"
   ]
  },
  {
   "cell_type": "code",
   "execution_count": 5,
   "id": "056c2553-c63f-49cf-bb93-263766e53856",
   "metadata": {},
   "outputs": [
    {
     "data": {
      "text/plain": [
       "<dnadb.taxonomy.TaxonomyDb at 0x7f7ff504e6c0>"
      ]
     },
     "execution_count": 5,
     "metadata": {},
     "output_type": "execute_result"
    }
   ],
   "source": [
    "tax_db"
   ]
  },
  {
   "cell_type": "code",
   "execution_count": 6,
   "id": "fe71b991-ecec-46ff-9cc2-9e63e5b27584",
   "metadata": {},
   "outputs": [],
   "source": [
    "sample_tax_pairs = list(zip(samples, repeat(tax_db)))"
   ]
  },
  {
   "cell_type": "code",
   "execution_count": 7,
   "id": "8e6d1698-6c9a-450a-aaab-6610f58be13b",
   "metadata": {},
   "outputs": [],
   "source": [
    "from deepdna.data.samplers import SampleSampler, SequenceSampler\n",
    "from deepdna.nn.data_generators import _encode_sequences, BatchGenerator\n",
    "from typing import Any, cast\n",
    "\n",
    "class SequenceTaxonomyGenerator(BatchGenerator):\n",
    "    def __init__(\n",
    "        self,\n",
    "        fasta_taxonomy_pairs: Iterable[tuple[sample.FastaSample, taxonomy.TaxonomyDb]],\n",
    "        sequence_length: int,\n",
    "        taxonomy_id_map: dict[str, int],\n",
    "        kmer: int = 1,\n",
    "        subsample_size: int|None = None,\n",
    "        batch_size: int = 32,\n",
    "        batches_per_epoch: int = 100,\n",
    "        augment_slide: bool = True,\n",
    "        augment_ambiguous_bases: bool = True,\n",
    "        balance: bool = False,\n",
    "        shuffle: bool = True,\n",
    "        rng: np.random.Generator = np.random.default_rng()\n",
    "    ):\n",
    "        super().__init__(\n",
    "            batch_size=batch_size,\n",
    "            batches_per_epoch=batches_per_epoch,\n",
    "            shuffle=shuffle,\n",
    "            rng=rng\n",
    "        )\n",
    "        fasta_samples, taxonomy_dbs = zip(*fasta_taxonomy_pairs)\n",
    "        self.sample_sampler = SampleSampler(cast(tuple[sample.FastaSample, ...], fasta_samples))\n",
    "        self.sequence_sampler = SequenceSampler(sequence_length, augment_slide)\n",
    "        self.taxonomy_dbs: tuple[taxonomy.TaxonomyDb, ...] = cast(Any, taxonomy_dbs)\n",
    "        self.kmer = kmer\n",
    "        self.taxonomy_id_map = taxonomy_id_map\n",
    "        self.subsample_size = subsample_size\n",
    "        self.augment_ambiguous_bases = augment_ambiguous_bases\n",
    "        self.balance = balance\n",
    "\n",
    "    @property\n",
    "    def sequence_length(self) -> int:\n",
    "        return self.sequence_sampler.sequence_length\n",
    "\n",
    "    def generate_batch(\n",
    "        self,\n",
    "        rng: np.random.Generator\n",
    "    ) -> tuple[npt.NDArray[np.int32], npt.NDArray[np.int32]]:\n",
    "        subsample_size = self.subsample_size or 1\n",
    "        sequences = np.empty((self.batch_size, subsample_size), dtype=f\"<U{self.sequence_length}\")\n",
    "        sample_ids = np.empty(self.batch_size, dtype=np.int32)\n",
    "        sequence_ids = [None] * self.batch_size\n",
    "        label_ids = np.empty((self.batch_size, subsample_size), dtype=np.int32)\n",
    "        samples = self.sample_sampler.sample_with_ids(self.batch_size, self.balance, rng)\n",
    "        for i, (sample_id, sample) in enumerate(samples):\n",
    "            tax_db = self.taxonomy_dbs[sample_id]\n",
    "            sequence_info = tuple(self.sequence_sampler.sample_with_ids(sample, subsample_size, rng))\n",
    "            sequence_ids[i], sequences[i] = zip(*sequence_info)\n",
    "            sample_ids[i] = sample_id\n",
    "            label_ids[i] = [self.taxonomy_id_map[tax_db.fasta_id_to_label(fasta_id)] for fasta_id in sequence_ids[i]]\n",
    "        sequences = _encode_sequences(sequences, self.augment_ambiguous_bases, self.rng)\n",
    "        if self.subsample_size is None:\n",
    "            sequences = np.squeeze(sequences, axis=1)\n",
    "        sequences = sequences.astype(np.int32)\n",
    "        if self.kmer > 1:\n",
    "            sequences = dna.encode_kmers(sequences, self.kmer, not self.augment_ambiguous_bases).astype(np.int32) # type: ignore\n",
    "        return sample_ids, sequence_ids, sequences, label_ids\n",
    "\n",
    "    def reduce_batch(self, batch):\n",
    "        # remove sample IDs and sequence IDs\n",
    "        return batch[2:]"
   ]
  },
  {
   "cell_type": "markdown",
   "id": "a0be0fe5-be19-4329-a04f-baf13a24eed2",
   "metadata": {},
   "source": [
    "## Model"
   ]
  },
  {
   "cell_type": "code",
   "execution_count": 8,
   "id": "cc66d20f-4d77-459a-a838-3367d852ea2e",
   "metadata": {},
   "outputs": [
    {
     "name": "stderr",
     "output_type": "stream",
     "text": [
      "Failed to detect the name of this notebook, you can set it manually with the WANDB_NOTEBOOK_NAME environment variable to enable code saving.\n",
      "\u001b[34m\u001b[1mwandb\u001b[0m: Currently logged in as: \u001b[33msirdavidludwig\u001b[0m. Use \u001b[1m`wandb login --relogin`\u001b[0m to force relogin\n"
     ]
    },
    {
     "data": {
      "text/html": [
       "wandb version 0.15.8 is available!  To upgrade, please run:\n",
       " $ pip install wandb --upgrade"
      ],
      "text/plain": [
       "<IPython.core.display.HTML object>"
      ]
     },
     "metadata": {},
     "output_type": "display_data"
    },
    {
     "data": {
      "text/html": [
       "Tracking run with wandb version 0.15.5"
      ],
      "text/plain": [
       "<IPython.core.display.HTML object>"
      ]
     },
     "metadata": {},
     "output_type": "display_data"
    },
    {
     "data": {
      "text/html": [
       "Run data is saved locally in <code>/home/dwl2x/work/deep-dna/notebooks/wandb/run-20230814_190546-dq93akxl</code>"
      ],
      "text/plain": [
       "<IPython.core.display.HTML object>"
      ]
     },
     "metadata": {},
     "output_type": "display_data"
    },
    {
     "data": {
      "text/html": [
       "Syncing run <strong><a href='https://wandb.ai/sirdavidludwig/setbert-taxonomy-naive/runs/dq93akxl' target=\"_blank\">64d-150l</a></strong> to <a href='https://wandb.ai/sirdavidludwig/setbert-taxonomy-naive' target=\"_blank\">Weights & Biases</a> (<a href='https://wandb.me/run' target=\"_blank\">docs</a>)<br/>"
      ],
      "text/plain": [
       "<IPython.core.display.HTML object>"
      ]
     },
     "metadata": {},
     "output_type": "display_data"
    },
    {
     "data": {
      "text/html": [
       " View project at <a href='https://wandb.ai/sirdavidludwig/setbert-taxonomy-naive' target=\"_blank\">https://wandb.ai/sirdavidludwig/setbert-taxonomy-naive</a>"
      ],
      "text/plain": [
       "<IPython.core.display.HTML object>"
      ]
     },
     "metadata": {},
     "output_type": "display_data"
    },
    {
     "data": {
      "text/html": [
       " View run at <a href='https://wandb.ai/sirdavidludwig/setbert-taxonomy-naive/runs/dq93akxl' target=\"_blank\">https://wandb.ai/sirdavidludwig/setbert-taxonomy-naive/runs/dq93akxl</a>"
      ],
      "text/plain": [
       "<IPython.core.display.HTML object>"
      ]
     },
     "metadata": {},
     "output_type": "display_data"
    }
   ],
   "source": [
    "# api = wandb.Api()\n",
    "run = wandb.init(project=\"setbert-taxonomy-naive\", name=\"64d-150l\")"
   ]
  },
  {
   "cell_type": "code",
   "execution_count": 9,
   "id": "e7cba1f3-9b72-4d69-8771-2e892441fe23",
   "metadata": {},
   "outputs": [
    {
     "name": "stdout",
     "output_type": "stream",
     "text": [
      "WARNING:tensorflow:Compiled the loaded model, but the compiled metrics have yet to be built. `model.compile_metrics` will be empty until you train or evaluate the model.\n"
     ]
    }
   ],
   "source": [
    "# path = api.artifact(\"sirdavidludwig/dnabert-pretrain/dnabert-pretrain-silva-64:v3\").download()\n",
    "path = \"/home/dwl2x/.cache/wandb/wandb/run-20230812_235347-en0l0i7m/files/model\"\n",
    "setbert_model = load_model(path, setbert.SetBertPretrainModel).base"
   ]
  },
  {
   "cell_type": "code",
   "execution_count": 10,
   "id": "6acb9a69-9dcd-444f-a192-7aefbafde59e",
   "metadata": {},
   "outputs": [],
   "source": [
    "# class NaiveTaxonomyClassificationModel(custom_model.ModelWrapper, custom_model.CustomModel[tf.Tensor, tuple[tf.Tensor, ...]]):\n",
    "#     def __init__(\n",
    "#         self,\n",
    "#         base: tf.keras.Model,\n",
    "#         taxonomies: Iterable[str],\n",
    "#         input_shape: Optional[tuple[int, ...]] = None,\n",
    "#         **kwargs\n",
    "#     ):\n",
    "#         super().__init__(**kwargs)\n",
    "#         self.base = base\n",
    "#         self.taxonomy_id_map = {}\n",
    "#         self._model_input_shape = input_shape\n",
    "#         for tax in taxonomies:\n",
    "#             if tax not in self.taxonomy_id_map:\n",
    "#                 assert isinstance(tax, str), \"Taxonomy label must be a string.\"\n",
    "#                 self.taxonomy_id_map[tax] = len(self.taxonomy_id_map)\n",
    "#         self.model = self.build_model()\n",
    "\n",
    "#     def default_loss(self):\n",
    "#         return tf.keras.losses.SparseCategoricalCrossentropy(from_logits=True)\n",
    "\n",
    "#     def default_metrics(self):\n",
    "#         return [\n",
    "#             tf.keras.metrics.SparseCategoricalAccuracy()\n",
    "#         ]\n",
    "\n",
    "#     def build_model(self):\n",
    "#         if self._model_input_shape is not None:\n",
    "#             x = tf.keras.layers.Input(self._model_input_shape)\n",
    "#             y = self.base(x)\n",
    "#         else:\n",
    "#             x, y = encapsulate_model(self.base)\n",
    "#         y = tf.keras.layers.Dense(len(self.taxonomy_id_map))(y)\n",
    "#         model = tf.keras.Model(x, y)\n",
    "#         return model\n",
    "\n",
    "#     def get_config(self):\n",
    "#         return super().get_config() | {\n",
    "#             \"base\": self.base,\n",
    "#             \"taxonomies\": list(self.taxonomy_id_map.keys()),\n",
    "#             \"input_shape\": self._model_input_shape\n",
    "#         }"
   ]
  },
  {
   "cell_type": "code",
   "execution_count": null,
   "id": "a4a65671-ac18-4192-908b-f0d22219fb3c",
   "metadata": {},
   "outputs": [],
   "source": []
  },
  {
   "cell_type": "code",
   "execution_count": 11,
   "id": "baca7f3e-ca77-4814-b8e7-6b5b8ac41173",
   "metadata": {},
   "outputs": [],
   "source": [
    "encoder = setbert.SetBertEncoderModel(setbert_model, compute_sequence_embeddings=True, output_class=False, output_sequences=True)\n",
    "model = tax_models.NaiveTaxonomyClassificationModel(encoder, tax_db)\n",
    "model.compile(optimizer=tf.keras.optimizers.Adam(1e-4))"
   ]
  },
  {
   "cell_type": "code",
   "execution_count": 12,
   "id": "fb30fe2d-964b-4cac-a5d8-7740e26da7cb",
   "metadata": {},
   "outputs": [
    {
     "name": "stdout",
     "output_type": "stream",
     "text": [
      "Model: \"model_6\"\n",
      "_________________________________________________________________\n",
      " Layer (type)                Output Shape              Param #   \n",
      "=================================================================\n",
      " input_7 (InputLayer)        [(None, 1000, 148)]       0         \n",
      "                                                                 \n",
      " set_bert_encoder_model (Set  ((None, 1000, 64),       2340672   \n",
      " BertEncoderModel)            [[(None, 8, 1001, 1001)            \n",
      "                             , (None, 8, 1001, 1001),            \n",
      "                              (None, 8, 1001, 1001),             \n",
      "                              (None, 8, 1001, 1001),             \n",
      "                              (None, 8, 1001, 1001),             \n",
      "                              (None, 8, 1001, 1001),             \n",
      "                              (None, 8, 1001, 1001),             \n",
      "                              (None, 8, 1001, 1001)]]            \n",
      "                             )                                   \n",
      "                                                                 \n",
      " dense_33 (Dense)            (None, 1000, 11070)       719550    \n",
      "                                                                 \n",
      "=================================================================\n",
      "Total params: 3,060,222\n",
      "Trainable params: 1,849,726\n",
      "Non-trainable params: 1,210,496\n",
      "_________________________________________________________________\n"
     ]
    }
   ],
   "source": [
    "model.summary()"
   ]
  },
  {
   "cell_type": "code",
   "execution_count": 13,
   "id": "c6be2284-4824-46c3-b91e-84978433c3cd",
   "metadata": {},
   "outputs": [],
   "source": [
    "common_args = dict(\n",
    "    sequence_length = 150,\n",
    "    kmer = 3,\n",
    "    taxonomy_id_map = model.taxonomy_id_map,\n",
    "    batch_size = 16,\n",
    "    subsample_size=1000,\n",
    ")\n",
    "\n",
    "train_data = SequenceTaxonomyGenerator(\n",
    "    sample_tax_pairs,\n",
    "    batches_per_epoch=100,\n",
    "    **common_args)\n",
    "test_data = SequenceTaxonomyGenerator(\n",
    "    sample_tax_pairs,\n",
    "    batches_per_epoch=20,\n",
    "    shuffle=False,\n",
    "    **common_args)"
   ]
  },
  {
   "cell_type": "code",
   "execution_count": 14,
   "id": "65e5f08a-e067-4d37-b2b9-1b1d625ba227",
   "metadata": {},
   "outputs": [],
   "source": [
    "batch = train_data[0]"
   ]
  },
  {
   "cell_type": "code",
   "execution_count": 15,
   "id": "605fdf84-d31c-4821-9622-3afef0c86de4",
   "metadata": {},
   "outputs": [],
   "source": [
    "wandb_callback = wandb.keras.WandbCallback(save_model=False)\n",
    "wandb_callback.save_model_as_artifact = False\n",
    "checkpoint = tf.keras.callbacks.ModelCheckpoint(\"logs/models/dnabert_taxonomy_naive\", save_best=True)"
   ]
  },
  {
   "cell_type": "code",
   "execution_count": null,
   "id": "73899004-8c5d-429b-b7ed-7b6c66606dad",
   "metadata": {},
   "outputs": [
    {
     "name": "stdout",
     "output_type": "stream",
     "text": [
      "Epoch 201/300\n",
      "100/100 [==============================] - ETA: 0s - loss: 4.9329 - sparse_categorical_accuracy: 0.1001"
     ]
    },
    {
     "name": "stderr",
     "output_type": "stream",
     "text": [
      "WARNING:absl:Found untraced functions such as keras_multi_head_attention_layer_call_fn, keras_multi_head_attention_layer_call_and_return_conditional_losses, layer_normalization_layer_call_fn, layer_normalization_layer_call_and_return_conditional_losses, layer_normalization_1_layer_call_fn while saving (showing 5 of 324). These functions will not be directly callable after loading.\n"
     ]
    },
    {
     "name": "stdout",
     "output_type": "stream",
     "text": [
      "INFO:tensorflow:Assets written to: logs/models/dnabert_taxonomy_naive/assets\n"
     ]
    },
    {
     "name": "stderr",
     "output_type": "stream",
     "text": [
      "INFO:tensorflow:Assets written to: logs/models/dnabert_taxonomy_naive/assets\n"
     ]
    },
    {
     "name": "stdout",
     "output_type": "stream",
     "text": [
      "100/100 [==============================] - 659s 7s/step - loss: 4.9329 - sparse_categorical_accuracy: 0.1001 - val_loss: 4.7945 - val_sparse_categorical_accuracy: 0.1139\n"
     ]
    },
    {
     "name": "stderr",
     "output_type": "stream",
     "text": [
      "/opt/conda/lib/python3.10/site-packages/keras/engine/functional.py:1384: CustomMaskWarning: Custom mask layers require a config and must override get_config. When loading, the custom mask layer must be passed to the custom_objects argument.\n",
      "  layer_config = serialize_layer_fn(layer)\n",
      "/opt/conda/lib/python3.10/site-packages/keras/saving/saved_model/layer_serialization.py:112: CustomMaskWarning: Custom mask layers require a config and must override get_config. When loading, the custom mask layer must be passed to the custom_objects argument.\n",
      "  return generic_utils.serialize_keras_object(obj)\n"
     ]
    },
    {
     "name": "stdout",
     "output_type": "stream",
     "text": [
      "Epoch 202/300\n",
      "100/100 [==============================] - ETA: 0s - loss: 4.9386 - sparse_categorical_accuracy: 0.0993"
     ]
    },
    {
     "name": "stderr",
     "output_type": "stream",
     "text": [
      "WARNING:absl:Found untraced functions such as keras_multi_head_attention_layer_call_fn, keras_multi_head_attention_layer_call_and_return_conditional_losses, layer_normalization_layer_call_fn, layer_normalization_layer_call_and_return_conditional_losses, layer_normalization_1_layer_call_fn while saving (showing 5 of 324). These functions will not be directly callable after loading.\n"
     ]
    },
    {
     "name": "stdout",
     "output_type": "stream",
     "text": [
      "INFO:tensorflow:Assets written to: logs/models/dnabert_taxonomy_naive/assets\n"
     ]
    },
    {
     "name": "stderr",
     "output_type": "stream",
     "text": [
      "INFO:tensorflow:Assets written to: logs/models/dnabert_taxonomy_naive/assets\n"
     ]
    },
    {
     "name": "stdout",
     "output_type": "stream",
     "text": [
      "100/100 [==============================] - 655s 7s/step - loss: 4.9386 - sparse_categorical_accuracy: 0.0993 - val_loss: 4.7821 - val_sparse_categorical_accuracy: 0.1151\n"
     ]
    },
    {
     "name": "stderr",
     "output_type": "stream",
     "text": [
      "/opt/conda/lib/python3.10/site-packages/keras/engine/functional.py:1384: CustomMaskWarning: Custom mask layers require a config and must override get_config. When loading, the custom mask layer must be passed to the custom_objects argument.\n",
      "  layer_config = serialize_layer_fn(layer)\n",
      "/opt/conda/lib/python3.10/site-packages/keras/saving/saved_model/layer_serialization.py:112: CustomMaskWarning: Custom mask layers require a config and must override get_config. When loading, the custom mask layer must be passed to the custom_objects argument.\n",
      "  return generic_utils.serialize_keras_object(obj)\n"
     ]
    },
    {
     "name": "stdout",
     "output_type": "stream",
     "text": [
      "Epoch 203/300\n",
      "100/100 [==============================] - ETA: 0s - loss: 4.9357 - sparse_categorical_accuracy: 0.0996"
     ]
    },
    {
     "name": "stderr",
     "output_type": "stream",
     "text": [
      "WARNING:absl:Found untraced functions such as keras_multi_head_attention_layer_call_fn, keras_multi_head_attention_layer_call_and_return_conditional_losses, layer_normalization_layer_call_fn, layer_normalization_layer_call_and_return_conditional_losses, layer_normalization_1_layer_call_fn while saving (showing 5 of 324). These functions will not be directly callable after loading.\n"
     ]
    },
    {
     "name": "stdout",
     "output_type": "stream",
     "text": [
      "INFO:tensorflow:Assets written to: logs/models/dnabert_taxonomy_naive/assets\n"
     ]
    },
    {
     "name": "stderr",
     "output_type": "stream",
     "text": [
      "INFO:tensorflow:Assets written to: logs/models/dnabert_taxonomy_naive/assets\n"
     ]
    },
    {
     "name": "stdout",
     "output_type": "stream",
     "text": [
      "100/100 [==============================] - 656s 7s/step - loss: 4.9357 - sparse_categorical_accuracy: 0.0996 - val_loss: 4.8021 - val_sparse_categorical_accuracy: 0.1116\n"
     ]
    },
    {
     "name": "stderr",
     "output_type": "stream",
     "text": [
      "/opt/conda/lib/python3.10/site-packages/keras/engine/functional.py:1384: CustomMaskWarning: Custom mask layers require a config and must override get_config. When loading, the custom mask layer must be passed to the custom_objects argument.\n",
      "  layer_config = serialize_layer_fn(layer)\n",
      "/opt/conda/lib/python3.10/site-packages/keras/saving/saved_model/layer_serialization.py:112: CustomMaskWarning: Custom mask layers require a config and must override get_config. When loading, the custom mask layer must be passed to the custom_objects argument.\n",
      "  return generic_utils.serialize_keras_object(obj)\n"
     ]
    },
    {
     "name": "stdout",
     "output_type": "stream",
     "text": [
      "Epoch 204/300\n",
      "100/100 [==============================] - ETA: 0s - loss: 4.9348 - sparse_categorical_accuracy: 0.0998"
     ]
    },
    {
     "name": "stderr",
     "output_type": "stream",
     "text": [
      "WARNING:absl:Found untraced functions such as keras_multi_head_attention_layer_call_fn, keras_multi_head_attention_layer_call_and_return_conditional_losses, layer_normalization_layer_call_fn, layer_normalization_layer_call_and_return_conditional_losses, layer_normalization_1_layer_call_fn while saving (showing 5 of 324). These functions will not be directly callable after loading.\n"
     ]
    },
    {
     "name": "stdout",
     "output_type": "stream",
     "text": [
      "INFO:tensorflow:Assets written to: logs/models/dnabert_taxonomy_naive/assets\n"
     ]
    },
    {
     "name": "stderr",
     "output_type": "stream",
     "text": [
      "INFO:tensorflow:Assets written to: logs/models/dnabert_taxonomy_naive/assets\n"
     ]
    },
    {
     "name": "stdout",
     "output_type": "stream",
     "text": [
      "100/100 [==============================] - 657s 7s/step - loss: 4.9348 - sparse_categorical_accuracy: 0.0998 - val_loss: 4.7866 - val_sparse_categorical_accuracy: 0.1148\n"
     ]
    },
    {
     "name": "stderr",
     "output_type": "stream",
     "text": [
      "/opt/conda/lib/python3.10/site-packages/keras/engine/functional.py:1384: CustomMaskWarning: Custom mask layers require a config and must override get_config. When loading, the custom mask layer must be passed to the custom_objects argument.\n",
      "  layer_config = serialize_layer_fn(layer)\n",
      "/opt/conda/lib/python3.10/site-packages/keras/saving/saved_model/layer_serialization.py:112: CustomMaskWarning: Custom mask layers require a config and must override get_config. When loading, the custom mask layer must be passed to the custom_objects argument.\n",
      "  return generic_utils.serialize_keras_object(obj)\n"
     ]
    },
    {
     "name": "stdout",
     "output_type": "stream",
     "text": [
      "Epoch 205/300\n",
      "100/100 [==============================] - ETA: 0s - loss: 4.9309 - sparse_categorical_accuracy: 0.0993"
     ]
    },
    {
     "name": "stderr",
     "output_type": "stream",
     "text": [
      "WARNING:absl:Found untraced functions such as keras_multi_head_attention_layer_call_fn, keras_multi_head_attention_layer_call_and_return_conditional_losses, layer_normalization_layer_call_fn, layer_normalization_layer_call_and_return_conditional_losses, layer_normalization_1_layer_call_fn while saving (showing 5 of 324). These functions will not be directly callable after loading.\n"
     ]
    },
    {
     "name": "stdout",
     "output_type": "stream",
     "text": [
      "INFO:tensorflow:Assets written to: logs/models/dnabert_taxonomy_naive/assets\n"
     ]
    },
    {
     "name": "stderr",
     "output_type": "stream",
     "text": [
      "INFO:tensorflow:Assets written to: logs/models/dnabert_taxonomy_naive/assets\n"
     ]
    },
    {
     "name": "stdout",
     "output_type": "stream",
     "text": [
      "100/100 [==============================] - 656s 7s/step - loss: 4.9309 - sparse_categorical_accuracy: 0.0993 - val_loss: 4.7739 - val_sparse_categorical_accuracy: 0.1184\n"
     ]
    },
    {
     "name": "stderr",
     "output_type": "stream",
     "text": [
      "/opt/conda/lib/python3.10/site-packages/keras/engine/functional.py:1384: CustomMaskWarning: Custom mask layers require a config and must override get_config. When loading, the custom mask layer must be passed to the custom_objects argument.\n",
      "  layer_config = serialize_layer_fn(layer)\n",
      "/opt/conda/lib/python3.10/site-packages/keras/saving/saved_model/layer_serialization.py:112: CustomMaskWarning: Custom mask layers require a config and must override get_config. When loading, the custom mask layer must be passed to the custom_objects argument.\n",
      "  return generic_utils.serialize_keras_object(obj)\n"
     ]
    },
    {
     "name": "stdout",
     "output_type": "stream",
     "text": [
      "Epoch 206/300\n",
      "100/100 [==============================] - ETA: 0s - loss: 4.9315 - sparse_categorical_accuracy: 0.0986"
     ]
    },
    {
     "name": "stderr",
     "output_type": "stream",
     "text": [
      "WARNING:absl:Found untraced functions such as keras_multi_head_attention_layer_call_fn, keras_multi_head_attention_layer_call_and_return_conditional_losses, layer_normalization_layer_call_fn, layer_normalization_layer_call_and_return_conditional_losses, layer_normalization_1_layer_call_fn while saving (showing 5 of 324). These functions will not be directly callable after loading.\n"
     ]
    },
    {
     "name": "stdout",
     "output_type": "stream",
     "text": [
      "INFO:tensorflow:Assets written to: logs/models/dnabert_taxonomy_naive/assets\n"
     ]
    },
    {
     "name": "stderr",
     "output_type": "stream",
     "text": [
      "INFO:tensorflow:Assets written to: logs/models/dnabert_taxonomy_naive/assets\n"
     ]
    },
    {
     "name": "stdout",
     "output_type": "stream",
     "text": [
      "100/100 [==============================] - 656s 7s/step - loss: 4.9315 - sparse_categorical_accuracy: 0.0986 - val_loss: 4.7914 - val_sparse_categorical_accuracy: 0.1161\n"
     ]
    },
    {
     "name": "stderr",
     "output_type": "stream",
     "text": [
      "/opt/conda/lib/python3.10/site-packages/keras/engine/functional.py:1384: CustomMaskWarning: Custom mask layers require a config and must override get_config. When loading, the custom mask layer must be passed to the custom_objects argument.\n",
      "  layer_config = serialize_layer_fn(layer)\n",
      "/opt/conda/lib/python3.10/site-packages/keras/saving/saved_model/layer_serialization.py:112: CustomMaskWarning: Custom mask layers require a config and must override get_config. When loading, the custom mask layer must be passed to the custom_objects argument.\n",
      "  return generic_utils.serialize_keras_object(obj)\n"
     ]
    },
    {
     "name": "stdout",
     "output_type": "stream",
     "text": [
      "Epoch 207/300\n",
      "100/100 [==============================] - ETA: 0s - loss: 4.9322 - sparse_categorical_accuracy: 0.0990"
     ]
    },
    {
     "name": "stderr",
     "output_type": "stream",
     "text": [
      "WARNING:absl:Found untraced functions such as keras_multi_head_attention_layer_call_fn, keras_multi_head_attention_layer_call_and_return_conditional_losses, layer_normalization_layer_call_fn, layer_normalization_layer_call_and_return_conditional_losses, layer_normalization_1_layer_call_fn while saving (showing 5 of 324). These functions will not be directly callable after loading.\n"
     ]
    },
    {
     "name": "stdout",
     "output_type": "stream",
     "text": [
      "INFO:tensorflow:Assets written to: logs/models/dnabert_taxonomy_naive/assets\n"
     ]
    },
    {
     "name": "stderr",
     "output_type": "stream",
     "text": [
      "INFO:tensorflow:Assets written to: logs/models/dnabert_taxonomy_naive/assets\n"
     ]
    },
    {
     "name": "stdout",
     "output_type": "stream",
     "text": [
      "100/100 [==============================] - 656s 7s/step - loss: 4.9322 - sparse_categorical_accuracy: 0.0990 - val_loss: 4.8018 - val_sparse_categorical_accuracy: 0.1124\n"
     ]
    },
    {
     "name": "stderr",
     "output_type": "stream",
     "text": [
      "/opt/conda/lib/python3.10/site-packages/keras/engine/functional.py:1384: CustomMaskWarning: Custom mask layers require a config and must override get_config. When loading, the custom mask layer must be passed to the custom_objects argument.\n",
      "  layer_config = serialize_layer_fn(layer)\n",
      "/opt/conda/lib/python3.10/site-packages/keras/saving/saved_model/layer_serialization.py:112: CustomMaskWarning: Custom mask layers require a config and must override get_config. When loading, the custom mask layer must be passed to the custom_objects argument.\n",
      "  return generic_utils.serialize_keras_object(obj)\n"
     ]
    },
    {
     "name": "stdout",
     "output_type": "stream",
     "text": [
      "Epoch 208/300\n",
      "100/100 [==============================] - ETA: 0s - loss: 4.9364 - sparse_categorical_accuracy: 0.0984"
     ]
    },
    {
     "name": "stderr",
     "output_type": "stream",
     "text": [
      "WARNING:absl:Found untraced functions such as keras_multi_head_attention_layer_call_fn, keras_multi_head_attention_layer_call_and_return_conditional_losses, layer_normalization_layer_call_fn, layer_normalization_layer_call_and_return_conditional_losses, layer_normalization_1_layer_call_fn while saving (showing 5 of 324). These functions will not be directly callable after loading.\n"
     ]
    },
    {
     "name": "stdout",
     "output_type": "stream",
     "text": [
      "INFO:tensorflow:Assets written to: logs/models/dnabert_taxonomy_naive/assets\n"
     ]
    },
    {
     "name": "stderr",
     "output_type": "stream",
     "text": [
      "INFO:tensorflow:Assets written to: logs/models/dnabert_taxonomy_naive/assets\n"
     ]
    },
    {
     "name": "stdout",
     "output_type": "stream",
     "text": [
      "100/100 [==============================] - 654s 7s/step - loss: 4.9364 - sparse_categorical_accuracy: 0.0984 - val_loss: 4.7856 - val_sparse_categorical_accuracy: 0.1141\n"
     ]
    },
    {
     "name": "stderr",
     "output_type": "stream",
     "text": [
      "/opt/conda/lib/python3.10/site-packages/keras/engine/functional.py:1384: CustomMaskWarning: Custom mask layers require a config and must override get_config. When loading, the custom mask layer must be passed to the custom_objects argument.\n",
      "  layer_config = serialize_layer_fn(layer)\n",
      "/opt/conda/lib/python3.10/site-packages/keras/saving/saved_model/layer_serialization.py:112: CustomMaskWarning: Custom mask layers require a config and must override get_config. When loading, the custom mask layer must be passed to the custom_objects argument.\n",
      "  return generic_utils.serialize_keras_object(obj)\n"
     ]
    },
    {
     "name": "stdout",
     "output_type": "stream",
     "text": [
      "Epoch 209/300\n",
      "100/100 [==============================] - ETA: 0s - loss: 4.9296 - sparse_categorical_accuracy: 0.0998"
     ]
    },
    {
     "name": "stderr",
     "output_type": "stream",
     "text": [
      "WARNING:absl:Found untraced functions such as keras_multi_head_attention_layer_call_fn, keras_multi_head_attention_layer_call_and_return_conditional_losses, layer_normalization_layer_call_fn, layer_normalization_layer_call_and_return_conditional_losses, layer_normalization_1_layer_call_fn while saving (showing 5 of 324). These functions will not be directly callable after loading.\n"
     ]
    },
    {
     "name": "stdout",
     "output_type": "stream",
     "text": [
      "INFO:tensorflow:Assets written to: logs/models/dnabert_taxonomy_naive/assets\n"
     ]
    },
    {
     "name": "stderr",
     "output_type": "stream",
     "text": [
      "INFO:tensorflow:Assets written to: logs/models/dnabert_taxonomy_naive/assets\n"
     ]
    },
    {
     "name": "stdout",
     "output_type": "stream",
     "text": [
      "100/100 [==============================] - 654s 7s/step - loss: 4.9296 - sparse_categorical_accuracy: 0.0998 - val_loss: 4.7783 - val_sparse_categorical_accuracy: 0.1159\n"
     ]
    },
    {
     "name": "stderr",
     "output_type": "stream",
     "text": [
      "/opt/conda/lib/python3.10/site-packages/keras/engine/functional.py:1384: CustomMaskWarning: Custom mask layers require a config and must override get_config. When loading, the custom mask layer must be passed to the custom_objects argument.\n",
      "  layer_config = serialize_layer_fn(layer)\n",
      "/opt/conda/lib/python3.10/site-packages/keras/saving/saved_model/layer_serialization.py:112: CustomMaskWarning: Custom mask layers require a config and must override get_config. When loading, the custom mask layer must be passed to the custom_objects argument.\n",
      "  return generic_utils.serialize_keras_object(obj)\n"
     ]
    },
    {
     "name": "stdout",
     "output_type": "stream",
     "text": [
      "Epoch 210/300\n",
      "100/100 [==============================] - ETA: 0s - loss: 4.9366 - sparse_categorical_accuracy: 0.0984"
     ]
    },
    {
     "name": "stderr",
     "output_type": "stream",
     "text": [
      "WARNING:absl:Found untraced functions such as keras_multi_head_attention_layer_call_fn, keras_multi_head_attention_layer_call_and_return_conditional_losses, layer_normalization_layer_call_fn, layer_normalization_layer_call_and_return_conditional_losses, layer_normalization_1_layer_call_fn while saving (showing 5 of 324). These functions will not be directly callable after loading.\n"
     ]
    },
    {
     "name": "stdout",
     "output_type": "stream",
     "text": [
      "INFO:tensorflow:Assets written to: logs/models/dnabert_taxonomy_naive/assets\n"
     ]
    },
    {
     "name": "stderr",
     "output_type": "stream",
     "text": [
      "INFO:tensorflow:Assets written to: logs/models/dnabert_taxonomy_naive/assets\n"
     ]
    },
    {
     "name": "stdout",
     "output_type": "stream",
     "text": [
      "100/100 [==============================] - 657s 7s/step - loss: 4.9366 - sparse_categorical_accuracy: 0.0984 - val_loss: 4.7936 - val_sparse_categorical_accuracy: 0.1129\n"
     ]
    },
    {
     "name": "stderr",
     "output_type": "stream",
     "text": [
      "/opt/conda/lib/python3.10/site-packages/keras/engine/functional.py:1384: CustomMaskWarning: Custom mask layers require a config and must override get_config. When loading, the custom mask layer must be passed to the custom_objects argument.\n",
      "  layer_config = serialize_layer_fn(layer)\n",
      "/opt/conda/lib/python3.10/site-packages/keras/saving/saved_model/layer_serialization.py:112: CustomMaskWarning: Custom mask layers require a config and must override get_config. When loading, the custom mask layer must be passed to the custom_objects argument.\n",
      "  return generic_utils.serialize_keras_object(obj)\n"
     ]
    },
    {
     "name": "stdout",
     "output_type": "stream",
     "text": [
      "Epoch 211/300\n",
      "100/100 [==============================] - ETA: 0s - loss: 4.9382 - sparse_categorical_accuracy: 0.0975"
     ]
    },
    {
     "name": "stderr",
     "output_type": "stream",
     "text": [
      "WARNING:absl:Found untraced functions such as keras_multi_head_attention_layer_call_fn, keras_multi_head_attention_layer_call_and_return_conditional_losses, layer_normalization_layer_call_fn, layer_normalization_layer_call_and_return_conditional_losses, layer_normalization_1_layer_call_fn while saving (showing 5 of 324). These functions will not be directly callable after loading.\n"
     ]
    },
    {
     "name": "stdout",
     "output_type": "stream",
     "text": [
      "INFO:tensorflow:Assets written to: logs/models/dnabert_taxonomy_naive/assets\n"
     ]
    },
    {
     "name": "stderr",
     "output_type": "stream",
     "text": [
      "INFO:tensorflow:Assets written to: logs/models/dnabert_taxonomy_naive/assets\n"
     ]
    },
    {
     "name": "stdout",
     "output_type": "stream",
     "text": [
      "100/100 [==============================] - 654s 7s/step - loss: 4.9382 - sparse_categorical_accuracy: 0.0975 - val_loss: 4.7848 - val_sparse_categorical_accuracy: 0.1130\n"
     ]
    },
    {
     "name": "stderr",
     "output_type": "stream",
     "text": [
      "/opt/conda/lib/python3.10/site-packages/keras/engine/functional.py:1384: CustomMaskWarning: Custom mask layers require a config and must override get_config. When loading, the custom mask layer must be passed to the custom_objects argument.\n",
      "  layer_config = serialize_layer_fn(layer)\n",
      "/opt/conda/lib/python3.10/site-packages/keras/saving/saved_model/layer_serialization.py:112: CustomMaskWarning: Custom mask layers require a config and must override get_config. When loading, the custom mask layer must be passed to the custom_objects argument.\n",
      "  return generic_utils.serialize_keras_object(obj)\n"
     ]
    },
    {
     "name": "stdout",
     "output_type": "stream",
     "text": [
      "Epoch 212/300\n",
      "100/100 [==============================] - ETA: 0s - loss: 4.9301 - sparse_categorical_accuracy: 0.1001"
     ]
    },
    {
     "name": "stderr",
     "output_type": "stream",
     "text": [
      "WARNING:absl:Found untraced functions such as keras_multi_head_attention_layer_call_fn, keras_multi_head_attention_layer_call_and_return_conditional_losses, layer_normalization_layer_call_fn, layer_normalization_layer_call_and_return_conditional_losses, layer_normalization_1_layer_call_fn while saving (showing 5 of 324). These functions will not be directly callable after loading.\n"
     ]
    },
    {
     "name": "stdout",
     "output_type": "stream",
     "text": [
      "INFO:tensorflow:Assets written to: logs/models/dnabert_taxonomy_naive/assets\n"
     ]
    },
    {
     "name": "stderr",
     "output_type": "stream",
     "text": [
      "INFO:tensorflow:Assets written to: logs/models/dnabert_taxonomy_naive/assets\n"
     ]
    },
    {
     "name": "stdout",
     "output_type": "stream",
     "text": [
      "100/100 [==============================] - 657s 7s/step - loss: 4.9301 - sparse_categorical_accuracy: 0.1001 - val_loss: 4.7822 - val_sparse_categorical_accuracy: 0.1158\n"
     ]
    },
    {
     "name": "stderr",
     "output_type": "stream",
     "text": [
      "/opt/conda/lib/python3.10/site-packages/keras/engine/functional.py:1384: CustomMaskWarning: Custom mask layers require a config and must override get_config. When loading, the custom mask layer must be passed to the custom_objects argument.\n",
      "  layer_config = serialize_layer_fn(layer)\n",
      "/opt/conda/lib/python3.10/site-packages/keras/saving/saved_model/layer_serialization.py:112: CustomMaskWarning: Custom mask layers require a config and must override get_config. When loading, the custom mask layer must be passed to the custom_objects argument.\n",
      "  return generic_utils.serialize_keras_object(obj)\n"
     ]
    },
    {
     "name": "stdout",
     "output_type": "stream",
     "text": [
      "Epoch 213/300\n",
      "100/100 [==============================] - ETA: 0s - loss: 4.9152 - sparse_categorical_accuracy: 0.1018"
     ]
    },
    {
     "name": "stderr",
     "output_type": "stream",
     "text": [
      "WARNING:absl:Found untraced functions such as keras_multi_head_attention_layer_call_fn, keras_multi_head_attention_layer_call_and_return_conditional_losses, layer_normalization_layer_call_fn, layer_normalization_layer_call_and_return_conditional_losses, layer_normalization_1_layer_call_fn while saving (showing 5 of 324). These functions will not be directly callable after loading.\n"
     ]
    },
    {
     "name": "stdout",
     "output_type": "stream",
     "text": [
      "INFO:tensorflow:Assets written to: logs/models/dnabert_taxonomy_naive/assets\n"
     ]
    },
    {
     "name": "stderr",
     "output_type": "stream",
     "text": [
      "INFO:tensorflow:Assets written to: logs/models/dnabert_taxonomy_naive/assets\n"
     ]
    },
    {
     "name": "stdout",
     "output_type": "stream",
     "text": [
      "100/100 [==============================] - 656s 7s/step - loss: 4.9152 - sparse_categorical_accuracy: 0.1018 - val_loss: 4.7862 - val_sparse_categorical_accuracy: 0.1133\n"
     ]
    },
    {
     "name": "stderr",
     "output_type": "stream",
     "text": [
      "/opt/conda/lib/python3.10/site-packages/keras/engine/functional.py:1384: CustomMaskWarning: Custom mask layers require a config and must override get_config. When loading, the custom mask layer must be passed to the custom_objects argument.\n",
      "  layer_config = serialize_layer_fn(layer)\n",
      "/opt/conda/lib/python3.10/site-packages/keras/saving/saved_model/layer_serialization.py:112: CustomMaskWarning: Custom mask layers require a config and must override get_config. When loading, the custom mask layer must be passed to the custom_objects argument.\n",
      "  return generic_utils.serialize_keras_object(obj)\n"
     ]
    },
    {
     "name": "stdout",
     "output_type": "stream",
     "text": [
      "Epoch 214/300\n",
      "100/100 [==============================] - ETA: 0s - loss: 4.9313 - sparse_categorical_accuracy: 0.0997"
     ]
    },
    {
     "name": "stderr",
     "output_type": "stream",
     "text": [
      "WARNING:absl:Found untraced functions such as keras_multi_head_attention_layer_call_fn, keras_multi_head_attention_layer_call_and_return_conditional_losses, layer_normalization_layer_call_fn, layer_normalization_layer_call_and_return_conditional_losses, layer_normalization_1_layer_call_fn while saving (showing 5 of 324). These functions will not be directly callable after loading.\n"
     ]
    },
    {
     "name": "stdout",
     "output_type": "stream",
     "text": [
      "INFO:tensorflow:Assets written to: logs/models/dnabert_taxonomy_naive/assets\n"
     ]
    },
    {
     "name": "stderr",
     "output_type": "stream",
     "text": [
      "INFO:tensorflow:Assets written to: logs/models/dnabert_taxonomy_naive/assets\n"
     ]
    },
    {
     "name": "stdout",
     "output_type": "stream",
     "text": [
      "100/100 [==============================] - 657s 7s/step - loss: 4.9313 - sparse_categorical_accuracy: 0.0997 - val_loss: 4.7917 - val_sparse_categorical_accuracy: 0.1151\n"
     ]
    },
    {
     "name": "stderr",
     "output_type": "stream",
     "text": [
      "/opt/conda/lib/python3.10/site-packages/keras/engine/functional.py:1384: CustomMaskWarning: Custom mask layers require a config and must override get_config. When loading, the custom mask layer must be passed to the custom_objects argument.\n",
      "  layer_config = serialize_layer_fn(layer)\n",
      "/opt/conda/lib/python3.10/site-packages/keras/saving/saved_model/layer_serialization.py:112: CustomMaskWarning: Custom mask layers require a config and must override get_config. When loading, the custom mask layer must be passed to the custom_objects argument.\n",
      "  return generic_utils.serialize_keras_object(obj)\n"
     ]
    },
    {
     "name": "stdout",
     "output_type": "stream",
     "text": [
      "Epoch 215/300\n",
      "100/100 [==============================] - ETA: 0s - loss: 4.9237 - sparse_categorical_accuracy: 0.1010"
     ]
    },
    {
     "name": "stderr",
     "output_type": "stream",
     "text": [
      "WARNING:absl:Found untraced functions such as keras_multi_head_attention_layer_call_fn, keras_multi_head_attention_layer_call_and_return_conditional_losses, layer_normalization_layer_call_fn, layer_normalization_layer_call_and_return_conditional_losses, layer_normalization_1_layer_call_fn while saving (showing 5 of 324). These functions will not be directly callable after loading.\n"
     ]
    },
    {
     "name": "stdout",
     "output_type": "stream",
     "text": [
      "INFO:tensorflow:Assets written to: logs/models/dnabert_taxonomy_naive/assets\n"
     ]
    },
    {
     "name": "stderr",
     "output_type": "stream",
     "text": [
      "INFO:tensorflow:Assets written to: logs/models/dnabert_taxonomy_naive/assets\n"
     ]
    },
    {
     "name": "stdout",
     "output_type": "stream",
     "text": [
      "100/100 [==============================] - 656s 7s/step - loss: 4.9237 - sparse_categorical_accuracy: 0.1010 - val_loss: 4.7911 - val_sparse_categorical_accuracy: 0.1127\n"
     ]
    },
    {
     "name": "stderr",
     "output_type": "stream",
     "text": [
      "/opt/conda/lib/python3.10/site-packages/keras/engine/functional.py:1384: CustomMaskWarning: Custom mask layers require a config and must override get_config. When loading, the custom mask layer must be passed to the custom_objects argument.\n",
      "  layer_config = serialize_layer_fn(layer)\n",
      "/opt/conda/lib/python3.10/site-packages/keras/saving/saved_model/layer_serialization.py:112: CustomMaskWarning: Custom mask layers require a config and must override get_config. When loading, the custom mask layer must be passed to the custom_objects argument.\n",
      "  return generic_utils.serialize_keras_object(obj)\n"
     ]
    },
    {
     "name": "stdout",
     "output_type": "stream",
     "text": [
      "Epoch 216/300\n",
      "100/100 [==============================] - ETA: 0s - loss: 4.9321 - sparse_categorical_accuracy: 0.0993"
     ]
    },
    {
     "name": "stderr",
     "output_type": "stream",
     "text": [
      "WARNING:absl:Found untraced functions such as keras_multi_head_attention_layer_call_fn, keras_multi_head_attention_layer_call_and_return_conditional_losses, layer_normalization_layer_call_fn, layer_normalization_layer_call_and_return_conditional_losses, layer_normalization_1_layer_call_fn while saving (showing 5 of 324). These functions will not be directly callable after loading.\n"
     ]
    },
    {
     "name": "stdout",
     "output_type": "stream",
     "text": [
      "INFO:tensorflow:Assets written to: logs/models/dnabert_taxonomy_naive/assets\n"
     ]
    },
    {
     "name": "stderr",
     "output_type": "stream",
     "text": [
      "INFO:tensorflow:Assets written to: logs/models/dnabert_taxonomy_naive/assets\n"
     ]
    },
    {
     "name": "stdout",
     "output_type": "stream",
     "text": [
      "100/100 [==============================] - 657s 7s/step - loss: 4.9321 - sparse_categorical_accuracy: 0.0993 - val_loss: 4.8052 - val_sparse_categorical_accuracy: 0.1132\n"
     ]
    },
    {
     "name": "stderr",
     "output_type": "stream",
     "text": [
      "/opt/conda/lib/python3.10/site-packages/keras/engine/functional.py:1384: CustomMaskWarning: Custom mask layers require a config and must override get_config. When loading, the custom mask layer must be passed to the custom_objects argument.\n",
      "  layer_config = serialize_layer_fn(layer)\n",
      "/opt/conda/lib/python3.10/site-packages/keras/saving/saved_model/layer_serialization.py:112: CustomMaskWarning: Custom mask layers require a config and must override get_config. When loading, the custom mask layer must be passed to the custom_objects argument.\n",
      "  return generic_utils.serialize_keras_object(obj)\n"
     ]
    },
    {
     "name": "stdout",
     "output_type": "stream",
     "text": [
      "Epoch 217/300\n",
      "100/100 [==============================] - ETA: 0s - loss: 4.9228 - sparse_categorical_accuracy: 0.1010"
     ]
    },
    {
     "name": "stderr",
     "output_type": "stream",
     "text": [
      "WARNING:absl:Found untraced functions such as keras_multi_head_attention_layer_call_fn, keras_multi_head_attention_layer_call_and_return_conditional_losses, layer_normalization_layer_call_fn, layer_normalization_layer_call_and_return_conditional_losses, layer_normalization_1_layer_call_fn while saving (showing 5 of 324). These functions will not be directly callable after loading.\n"
     ]
    },
    {
     "name": "stdout",
     "output_type": "stream",
     "text": [
      "INFO:tensorflow:Assets written to: logs/models/dnabert_taxonomy_naive/assets\n"
     ]
    },
    {
     "name": "stderr",
     "output_type": "stream",
     "text": [
      "INFO:tensorflow:Assets written to: logs/models/dnabert_taxonomy_naive/assets\n"
     ]
    },
    {
     "name": "stdout",
     "output_type": "stream",
     "text": [
      "100/100 [==============================] - 656s 7s/step - loss: 4.9228 - sparse_categorical_accuracy: 0.1010 - val_loss: 4.8011 - val_sparse_categorical_accuracy: 0.1118\n"
     ]
    },
    {
     "name": "stderr",
     "output_type": "stream",
     "text": [
      "/opt/conda/lib/python3.10/site-packages/keras/engine/functional.py:1384: CustomMaskWarning: Custom mask layers require a config and must override get_config. When loading, the custom mask layer must be passed to the custom_objects argument.\n",
      "  layer_config = serialize_layer_fn(layer)\n",
      "/opt/conda/lib/python3.10/site-packages/keras/saving/saved_model/layer_serialization.py:112: CustomMaskWarning: Custom mask layers require a config and must override get_config. When loading, the custom mask layer must be passed to the custom_objects argument.\n",
      "  return generic_utils.serialize_keras_object(obj)\n"
     ]
    },
    {
     "name": "stdout",
     "output_type": "stream",
     "text": [
      "Epoch 218/300\n",
      " 64/100 [==================>...........] - ETA: 3:04 - loss: 4.9268 - sparse_categorical_accuracy: 0.0995"
     ]
    }
   ],
   "source": [
    "model.fit(train_data, validation_data=test_data, epochs=300, initial_epoch=200, callbacks=[wandb_callback, checkpoint])"
   ]
  },
  {
   "cell_type": "code",
   "execution_count": 23,
   "id": "0bce5b28-5d6e-4b40-93fc-09458219f874",
   "metadata": {},
   "outputs": [
    {
     "name": "stderr",
     "output_type": "stream",
     "text": [
      "WARNING:absl:Found untraced functions such as embedding_layer_call_fn, embedding_layer_call_and_return_conditional_losses, layer_normalization_layer_call_fn, layer_normalization_layer_call_and_return_conditional_losses, layer_normalization_1_layer_call_fn while saving (showing 5 of 178). These functions will not be directly callable after loading.\n"
     ]
    },
    {
     "name": "stdout",
     "output_type": "stream",
     "text": [
      "INFO:tensorflow:Assets written to: logs/models/dnabert_taxonomy_naive/assets\n"
     ]
    },
    {
     "name": "stderr",
     "output_type": "stream",
     "text": [
      "INFO:tensorflow:Assets written to: logs/models/dnabert_taxonomy_naive/assets\n",
      "/opt/conda/lib/python3.10/site-packages/keras/engine/functional.py:1384: CustomMaskWarning: Custom mask layers require a config and must override get_config. When loading, the custom mask layer must be passed to the custom_objects argument.\n",
      "  layer_config = serialize_layer_fn(layer)\n",
      "/opt/conda/lib/python3.10/site-packages/keras/saving/saved_model/layer_serialization.py:112: CustomMaskWarning: Custom mask layers require a config and must override get_config. When loading, the custom mask layer must be passed to the custom_objects argument.\n",
      "  return generic_utils.serialize_keras_object(obj)\n"
     ]
    }
   ],
   "source": [
    "model.save(\"logs/models/dnabert_taxonomy_naive\")"
   ]
  },
  {
   "cell_type": "code",
   "execution_count": 17,
   "id": "e4500eed-a749-4459-9ad0-b3e1dbc94f5e",
   "metadata": {},
   "outputs": [
    {
     "data": {
      "text/plain": [
       "1"
      ]
     },
     "execution_count": 17,
     "metadata": {},
     "output_type": "execute_result"
    }
   ],
   "source": [
    "1"
   ]
  },
  {
   "cell_type": "code",
   "execution_count": null,
   "id": "adad6664-4c3e-4e0c-bbb4-32efb3581daa",
   "metadata": {},
   "outputs": [],
   "source": []
  }
 ],
 "metadata": {
  "kernelspec": {
   "display_name": "Python 3 (ipykernel)",
   "language": "python",
   "name": "python3"
  },
  "language_info": {
   "codemirror_mode": {
    "name": "ipython",
    "version": 3
   },
   "file_extension": ".py",
   "mimetype": "text/x-python",
   "name": "python",
   "nbconvert_exporter": "python",
   "pygments_lexer": "ipython3",
   "version": "3.10.6"
  }
 },
 "nbformat": 4,
 "nbformat_minor": 5
}
