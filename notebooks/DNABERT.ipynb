{
 "cells": [
  {
   "cell_type": "markdown",
   "id": "6c470e32-dff2-4963-af28-986c6306419e",
   "metadata": {},
   "source": [
    "# DNABERT"
   ]
  },
  {
   "cell_type": "markdown",
   "id": "14f0f6a8-07ce-4d87-903f-5bdfda969e3b",
   "metadata": {},
   "source": [
    "## Dependencies\n",
    "\n",
    "First, it's important to bootstrap the notebook in order for local imports to work correctly."
   ]
  },
  {
   "cell_type": "code",
   "execution_count": 18,
   "id": "4b386df6-572e-4d53-8777-fc35fb85a1ab",
   "metadata": {},
   "outputs": [],
   "source": [
    "import bootstrap"
   ]
  },
  {
   "cell_type": "markdown",
   "id": "4a6c822a-33e1-4b64-8a7e-cbfe773f8909",
   "metadata": {},
   "source": [
    "Installed dependencies"
   ]
  },
  {
   "cell_type": "code",
   "execution_count": 19,
   "id": "1f4a22e6-670e-422e-9d53-7a7ab1baca36",
   "metadata": {},
   "outputs": [],
   "source": [
    "import tensorflow as tf\n",
    "import tensorflow.keras as keras\n",
    "import numpy as np\n",
    "import os\n",
    "import shelve\n",
    "import time\n",
    "import tf_utils as tfu\n",
    "import wandb"
   ]
  },
  {
   "cell_type": "markdown",
   "id": "3635a9ed-87a9-474e-afdb-7daf99ffe6a0",
   "metadata": {},
   "source": [
    "Local dependencies"
   ]
  },
  {
   "cell_type": "code",
   "execution_count": 20,
   "id": "563092c7-f2e0-4be7-85c1-75f8c345dc63",
   "metadata": {},
   "outputs": [],
   "source": [
    "from common.data import find_shelves, DnaSequenceGenerator\n",
    "from common.models.dnabert import DnaBertBase, DnaBertPretrainModel, create_dnabert_pretrain_model"
   ]
  },
  {
   "cell_type": "markdown",
   "id": "6efbe230-7c9d-481f-84f9-a1fdf24030cf",
   "metadata": {},
   "source": [
    "---\n",
    "## Strategy"
   ]
  },
  {
   "cell_type": "code",
   "execution_count": 21,
   "id": "5209bbf1-0b13-4684-9ed5-195f554534e5",
   "metadata": {},
   "outputs": [],
   "source": [
    "strategy = tfu.strategy.gpu(0)"
   ]
  },
  {
   "cell_type": "markdown",
   "id": "77df2f5b-c066-4323-ae36-a7faff570fb2",
   "metadata": {},
   "source": [
    "## Wandb API"
   ]
  },
  {
   "cell_type": "code",
   "execution_count": 22,
   "id": "5ddec31d-40b5-4bff-89dd-5539617cecee",
   "metadata": {},
   "outputs": [],
   "source": [
    "api = wandb.Api()"
   ]
  },
  {
   "cell_type": "markdown",
   "id": "92c99564-db52-4d3e-abe4-1083517e703c",
   "metadata": {},
   "source": [
    "Here, we connect to the latest run of pretraining DNABERT on W&B that we're interested in analyzing."
   ]
  },
  {
   "cell_type": "code",
   "execution_count": 23,
   "id": "5603ab7c-9545-44c8-94ed-43bd36e9f54b",
   "metadata": {},
   "outputs": [
    {
     "data": {
      "text/plain": [
       "'dnabert-1651388268'"
      ]
     },
     "execution_count": 23,
     "metadata": {},
     "output_type": "execute_result"
    }
   ],
   "source": [
    "run = api.runs(\n",
    "    path=\"sirdavidludwig/deep-learning-dna\",\n",
    "    filters={\"group\": {\"$regex\": \"dnabert:pretrain\"}})[0]\n",
    "run.name"
   ]
  },
  {
   "cell_type": "markdown",
   "id": "99f2a3d7-f443-40a6-8cdb-b25c267fcfc6",
   "metadata": {},
   "source": [
    "## Dataset\n",
    "\n",
    "Next we can fetch the dataset artifact."
   ]
  },
  {
   "cell_type": "code",
   "execution_count": 24,
   "id": "39425081-b3e1-412c-99c5-19c74ee03b25",
   "metadata": {},
   "outputs": [],
   "source": [
    "temp_path = \"./tmp\"\n",
    "os.makedirs(temp_path, exist_ok=True)"
   ]
  },
  {
   "cell_type": "markdown",
   "id": "c6480e85-e7a2-44bb-86ed-cdbc07dabd7e",
   "metadata": {},
   "source": [
    "### Fetch from Artifact"
   ]
  },
  {
   "cell_type": "code",
   "execution_count": 25,
   "id": "e6cf5425-00f1-485b-a336-e66bb9d26782",
   "metadata": {},
   "outputs": [
    {
     "data": {
      "text/plain": [
       "'dnasamples:v5'"
      ]
     },
     "execution_count": 25,
     "metadata": {},
     "output_type": "execute_result"
    }
   ],
   "source": [
    "dataset_artifact = run.used_artifacts()[0]\n",
    "dataset_artifact.name"
   ]
  },
  {
   "cell_type": "code",
   "execution_count": 26,
   "id": "85cba7e5-12d4-4a84-b587-3de3c9b9ad9a",
   "metadata": {},
   "outputs": [
    {
     "name": "stderr",
     "output_type": "stream",
     "text": [
      "\u001b[34m\u001b[1mwandb\u001b[0m: Downloading large artifact dnasamples:v5, 328.84MB. 63 files... Done. 0:0:0\n"
     ]
    },
    {
     "data": {
      "text/plain": [
       "'./tmp'"
      ]
     },
     "execution_count": 26,
     "metadata": {},
     "output_type": "execute_result"
    }
   ],
   "source": [
    "dataset_dir = dataset_artifact.download(temp_path)\n",
    "dataset_dir"
   ]
  },
  {
   "cell_type": "markdown",
   "id": "616f782d-5378-45d3-8745-03cb462200fe",
   "metadata": {},
   "source": [
    "### Data Generator"
   ]
  },
  {
   "cell_type": "code",
   "execution_count": 27,
   "id": "12248b1d-50a1-464d-a8a9-9e676af1e2cb",
   "metadata": {},
   "outputs": [
    {
     "data": {
      "text/plain": [
       "['./tmp/test/fall_2016-10-07',\n",
       " './tmp/test/fall_2017-10-13',\n",
       " './tmp/test/spring_2016-04-22',\n",
       " './tmp/test/spring_2017-05-02',\n",
       " './tmp/test/spring_2018-04-23',\n",
       " './tmp/test/spring_2019-05-14',\n",
       " './tmp/test/spring_2020-05-11']"
      ]
     },
     "execution_count": 27,
     "metadata": {},
     "output_type": "execute_result"
    }
   ],
   "source": [
    "sample_files = find_shelves(os.path.join(dataset_dir, \"test\"), prepend_path=True)\n",
    "sample_files"
   ]
  },
  {
   "cell_type": "code",
   "execution_count": 28,
   "id": "61a2a628-acb5-4aaa-acc9-e3d5efb5e1a2",
   "metadata": {},
   "outputs": [],
   "source": [
    "dataset = DnaSequenceGenerator(\n",
    "    sample_files,\n",
    "    length=run.config[\"length\"],\n",
    "    kmer=run.config[\"kmer\"],\n",
    "    batch_size=run.config[\"batch_size\"],\n",
    "    batches_per_epoch=run.config[\"val_batches_per_epoch\"],\n",
    "    augment=run.config[\"data_augment\"],\n",
    "    balance=run.config[\"data_balance\"]\n",
    ")"
   ]
  },
  {
   "cell_type": "code",
   "execution_count": 29,
   "id": "c03dddb2-9d3e-4fd5-9935-7704b7e9ef4f",
   "metadata": {},
   "outputs": [
    {
     "data": {
      "text/plain": [
       "array([[76,  7, 37, ..., 32, 35, 52],\n",
       "       [30, 27, 11, ..., 10, 52, 12],\n",
       "       [67, 86, 56, ..., 62, 60, 52],\n",
       "       ...,\n",
       "       [67, 86, 56, ..., 63, 65, 77],\n",
       "       [27, 12, 61, ..., 35, 50,  2],\n",
       "       [86, 56, 30, ..., 55, 27, 10]], dtype=int32)"
      ]
     },
     "execution_count": 29,
     "metadata": {},
     "output_type": "execute_result"
    }
   ],
   "source": [
    "dataset[0]"
   ]
  },
  {
   "cell_type": "code",
   "execution_count": 13,
   "id": "9756c938-f1e6-4c47-a4d9-93671db6f662",
   "metadata": {},
   "outputs": [
    {
     "data": {
      "text/plain": [
       "(512, 148)"
      ]
     },
     "execution_count": 13,
     "metadata": {},
     "output_type": "execute_result"
    }
   ],
   "source": [
    "dataset[0].shape"
   ]
  },
  {
   "cell_type": "markdown",
   "id": "260b6eca-4e68-42a5-ad27-36efb11a9537",
   "metadata": {},
   "source": [
    "## Model"
   ]
  },
  {
   "cell_type": "code",
   "execution_count": 14,
   "id": "c7076210-0239-4503-aad3-ec3a074d897b",
   "metadata": {},
   "outputs": [],
   "source": [
    "model_path = run.file(\"model.h5\").download(temp_path, replace=True)"
   ]
  },
  {
   "cell_type": "code",
   "execution_count": 15,
   "id": "ca8caff8-969c-427f-8c4a-b9675ea34f53",
   "metadata": {},
   "outputs": [
    {
     "name": "stdout",
     "output_type": "stream",
     "text": [
      "WARNING:tensorflow:No training configuration found in the save file, so the model was *not* compiled. Compile it manually.\n"
     ]
    }
   ],
   "source": [
    "model = DnaBertPretrainModel.load(os.path.join(temp_path, \"model.h5\"))"
   ]
  },
  {
   "cell_type": "code",
   "execution_count": 16,
   "id": "de0235e1-259e-4f52-815a-0127868464bb",
   "metadata": {},
   "outputs": [
    {
     "name": "stdout",
     "output_type": "stream",
     "text": [
      "Model: \"DNABERT_pretrain\"\n",
      "_________________________________________________________________\n",
      "Layer (type)                 Output Shape              Param #   \n",
      "=================================================================\n",
      "input_2 (InputLayer)         [(None, 148)]             0         \n",
      "_________________________________________________________________\n",
      "dna_bert_base (DnaBertBase)  (None, 149, 128)          2547584   \n",
      "_________________________________________________________________\n",
      "lambda_1 (Lambda)            (None, 148, 128)          0         \n",
      "_________________________________________________________________\n",
      "dense_16 (Dense)             (None, 148, 125)          16125     \n",
      "=================================================================\n",
      "Total params: 2,563,709\n",
      "Trainable params: 2,563,709\n",
      "Non-trainable params: 0\n",
      "_________________________________________________________________\n"
     ]
    }
   ],
   "source": [
    "model.summary()"
   ]
  }
 ],
 "metadata": {
  "kernelspec": {
   "display_name": "Python 3 (ipykernel)",
   "language": "python",
   "name": "python3"
  },
  "language_info": {
   "codemirror_mode": {
    "name": "ipython",
    "version": 3
   },
   "file_extension": ".py",
   "mimetype": "text/x-python",
   "name": "python",
   "nbconvert_exporter": "python",
   "pygments_lexer": "ipython3",
   "version": "3.9.7"
  }
 },
 "nbformat": 4,
 "nbformat_minor": 5
}
