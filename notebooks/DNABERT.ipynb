{
 "cells": [
  {
   "cell_type": "markdown",
   "id": "6c470e32-dff2-4963-af28-986c6306419e",
   "metadata": {},
   "source": [
    "# DNABERT"
   ]
  },
  {
   "cell_type": "markdown",
   "id": "14f0f6a8-07ce-4d87-903f-5bdfda969e3b",
   "metadata": {},
   "source": [
    "## Dependencies\n",
    "\n",
    "First, it's important to bootstrap the notebook in order for local imports to work correctly."
   ]
  },
  {
   "cell_type": "code",
   "execution_count": 1,
   "id": "4b386df6-572e-4d53-8777-fc35fb85a1ab",
   "metadata": {},
   "outputs": [],
   "source": [
    "import bootstrap"
   ]
  },
  {
   "cell_type": "markdown",
   "id": "4a6c822a-33e1-4b64-8a7e-cbfe773f8909",
   "metadata": {},
   "source": [
    "Installed dependencies"
   ]
  },
  {
   "cell_type": "code",
   "execution_count": 2,
   "id": "1f4a22e6-670e-422e-9d53-7a7ab1baca36",
   "metadata": {},
   "outputs": [],
   "source": [
    "import tensorflow as tf\n",
    "import tensorflow.keras as keras\n",
    "import numpy as np\n",
    "import os\n",
    "import shelve\n",
    "import time\n",
    "import tf_utils as tfu\n",
    "import wandb"
   ]
  },
  {
   "cell_type": "markdown",
   "id": "3635a9ed-87a9-474e-afdb-7daf99ffe6a0",
   "metadata": {},
   "source": [
    "Local dependencies"
   ]
  },
  {
   "cell_type": "code",
   "execution_count": 3,
   "id": "563092c7-f2e0-4be7-85c1-75f8c345dc63",
   "metadata": {},
   "outputs": [],
   "source": [
    "from common.data import find_shelves, DnaKmerSequenceGenerator\n",
    "from common.models import dnabert\n",
    "from common.utils import load_model"
   ]
  },
  {
   "cell_type": "markdown",
   "id": "6efbe230-7c9d-481f-84f9-a1fdf24030cf",
   "metadata": {},
   "source": [
    "---\n",
    "## Strategy"
   ]
  },
  {
   "cell_type": "code",
   "execution_count": 4,
   "id": "5209bbf1-0b13-4684-9ed5-195f554534e5",
   "metadata": {},
   "outputs": [
    {
     "name": "stderr",
     "output_type": "stream",
     "text": [
      "2022-05-02 04:03:48.673930: I tensorflow/stream_executor/cuda/cuda_gpu_executor.cc:939] successful NUMA node read from SysFS had negative value (-1), but there must be at least one NUMA node, so returning NUMA node zero\n",
      "2022-05-02 04:03:48.674145: I tensorflow/stream_executor/cuda/cuda_gpu_executor.cc:939] successful NUMA node read from SysFS had negative value (-1), but there must be at least one NUMA node, so returning NUMA node zero\n",
      "2022-05-02 04:03:48.679567: I tensorflow/stream_executor/cuda/cuda_gpu_executor.cc:939] successful NUMA node read from SysFS had negative value (-1), but there must be at least one NUMA node, so returning NUMA node zero\n",
      "2022-05-02 04:03:48.679767: I tensorflow/stream_executor/cuda/cuda_gpu_executor.cc:939] successful NUMA node read from SysFS had negative value (-1), but there must be at least one NUMA node, so returning NUMA node zero\n",
      "2022-05-02 04:03:48.679931: I tensorflow/stream_executor/cuda/cuda_gpu_executor.cc:939] successful NUMA node read from SysFS had negative value (-1), but there must be at least one NUMA node, so returning NUMA node zero\n",
      "2022-05-02 04:03:48.680090: I tensorflow/stream_executor/cuda/cuda_gpu_executor.cc:939] successful NUMA node read from SysFS had negative value (-1), but there must be at least one NUMA node, so returning NUMA node zero\n",
      "2022-05-02 04:03:48.680770: I tensorflow/core/platform/cpu_feature_guard.cc:151] This TensorFlow binary is optimized with oneAPI Deep Neural Network Library (oneDNN) to use the following CPU instructions in performance-critical operations:  SSE4.1 SSE4.2 AVX AVX2 FMA\n",
      "To enable them in other operations, rebuild TensorFlow with the appropriate compiler flags.\n",
      "2022-05-02 04:03:48.683002: I tensorflow/stream_executor/cuda/cuda_gpu_executor.cc:939] successful NUMA node read from SysFS had negative value (-1), but there must be at least one NUMA node, so returning NUMA node zero\n",
      "2022-05-02 04:03:48.683179: I tensorflow/stream_executor/cuda/cuda_gpu_executor.cc:939] successful NUMA node read from SysFS had negative value (-1), but there must be at least one NUMA node, so returning NUMA node zero\n",
      "2022-05-02 04:03:48.683338: I tensorflow/stream_executor/cuda/cuda_gpu_executor.cc:939] successful NUMA node read from SysFS had negative value (-1), but there must be at least one NUMA node, so returning NUMA node zero\n",
      "2022-05-02 04:03:49.041112: I tensorflow/stream_executor/cuda/cuda_gpu_executor.cc:939] successful NUMA node read from SysFS had negative value (-1), but there must be at least one NUMA node, so returning NUMA node zero\n",
      "2022-05-02 04:03:49.041316: I tensorflow/stream_executor/cuda/cuda_gpu_executor.cc:939] successful NUMA node read from SysFS had negative value (-1), but there must be at least one NUMA node, so returning NUMA node zero\n",
      "2022-05-02 04:03:49.041480: I tensorflow/stream_executor/cuda/cuda_gpu_executor.cc:939] successful NUMA node read from SysFS had negative value (-1), but there must be at least one NUMA node, so returning NUMA node zero\n",
      "2022-05-02 04:03:49.041627: I tensorflow/core/common_runtime/gpu/gpu_device.cc:1525] Created device /job:localhost/replica:0/task:0/device:GPU:0 with 22285 MB memory:  -> device: 0, name: NVIDIA GeForce RTX 3090, pci bus id: 0000:01:00.0, compute capability: 8.6\n"
     ]
    }
   ],
   "source": [
    "strategy = tfu.strategy.gpu(0)"
   ]
  },
  {
   "cell_type": "markdown",
   "id": "77df2f5b-c066-4323-ae36-a7faff570fb2",
   "metadata": {},
   "source": [
    "## Wandb API"
   ]
  },
  {
   "cell_type": "code",
   "execution_count": 5,
   "id": "5ddec31d-40b5-4bff-89dd-5539617cecee",
   "metadata": {},
   "outputs": [],
   "source": [
    "api = wandb.Api()"
   ]
  },
  {
   "cell_type": "markdown",
   "id": "92c99564-db52-4d3e-abe4-1083517e703c",
   "metadata": {},
   "source": [
    "Here, we connect to the latest run of pretraining DNABERT on W&B that we're interested in analyzing."
   ]
  },
  {
   "cell_type": "code",
   "execution_count": 6,
   "id": "5603ab7c-9545-44c8-94ed-43bd36e9f54b",
   "metadata": {},
   "outputs": [],
   "source": [
    "# run = api.runs(\n",
    "#     path=\"sirdavidludwig/deep-learning-dna\",\n",
    "#     filters={\"group\": {\"$regex\": \"dnabert:pretrain\"}})[0]\n",
    "# run.name"
   ]
  },
  {
   "cell_type": "code",
   "execution_count": 7,
   "id": "4c60ef18-78fc-4ee4-a020-489bec2722fd",
   "metadata": {},
   "outputs": [
    {
     "data": {
      "text/plain": [
       "'dnabert-1651398131'"
      ]
     },
     "execution_count": 7,
     "metadata": {},
     "output_type": "execute_result"
    }
   ],
   "source": [
    "run = api.run(path=\"sirdavidludwig/deep-learning-dna/3tllv9ep\")\n",
    "run.name"
   ]
  },
  {
   "cell_type": "markdown",
   "id": "99f2a3d7-f443-40a6-8cdb-b25c267fcfc6",
   "metadata": {},
   "source": [
    "## Dataset\n",
    "\n",
    "Next we can fetch the dataset artifact."
   ]
  },
  {
   "cell_type": "code",
   "execution_count": 8,
   "id": "39425081-b3e1-412c-99c5-19c74ee03b25",
   "metadata": {},
   "outputs": [],
   "source": [
    "temp_path = \"./tmp\"\n",
    "os.makedirs(temp_path, exist_ok=True)"
   ]
  },
  {
   "cell_type": "markdown",
   "id": "c6480e85-e7a2-44bb-86ed-cdbc07dabd7e",
   "metadata": {},
   "source": [
    "### Fetch from Artifact"
   ]
  },
  {
   "cell_type": "code",
   "execution_count": 9,
   "id": "e6cf5425-00f1-485b-a336-e66bb9d26782",
   "metadata": {},
   "outputs": [
    {
     "data": {
      "text/plain": [
       "'dnasamples:v5'"
      ]
     },
     "execution_count": 9,
     "metadata": {},
     "output_type": "execute_result"
    }
   ],
   "source": [
    "dataset_artifact = run.used_artifacts()[0]\n",
    "dataset_artifact.name"
   ]
  },
  {
   "cell_type": "code",
   "execution_count": 10,
   "id": "85cba7e5-12d4-4a84-b587-3de3c9b9ad9a",
   "metadata": {},
   "outputs": [
    {
     "name": "stderr",
     "output_type": "stream",
     "text": [
      "\u001b[34m\u001b[1mwandb\u001b[0m: Downloading large artifact dnasamples:v5, 328.84MB. 63 files... Done. 0:0:0\n"
     ]
    },
    {
     "data": {
      "text/plain": [
       "'./tmp'"
      ]
     },
     "execution_count": 10,
     "metadata": {},
     "output_type": "execute_result"
    }
   ],
   "source": [
    "dataset_dir = dataset_artifact.download(temp_path)\n",
    "dataset_dir"
   ]
  },
  {
   "cell_type": "markdown",
   "id": "616f782d-5378-45d3-8745-03cb462200fe",
   "metadata": {},
   "source": [
    "### Data Generator"
   ]
  },
  {
   "cell_type": "code",
   "execution_count": 11,
   "id": "12248b1d-50a1-464d-a8a9-9e676af1e2cb",
   "metadata": {},
   "outputs": [
    {
     "data": {
      "text/plain": [
       "['./tmp/test/fall_2016-10-07',\n",
       " './tmp/test/fall_2017-10-13',\n",
       " './tmp/test/spring_2016-04-22',\n",
       " './tmp/test/spring_2017-05-02',\n",
       " './tmp/test/spring_2018-04-23',\n",
       " './tmp/test/spring_2019-05-14',\n",
       " './tmp/test/spring_2020-05-11']"
      ]
     },
     "execution_count": 11,
     "metadata": {},
     "output_type": "execute_result"
    }
   ],
   "source": [
    "sample_files = find_shelves(os.path.join(dataset_dir, \"test\"), prepend_path=True)\n",
    "sample_files"
   ]
  },
  {
   "cell_type": "code",
   "execution_count": 12,
   "id": "61a2a628-acb5-4aaa-acc9-e3d5efb5e1a2",
   "metadata": {},
   "outputs": [],
   "source": [
    "dataset = DnaKmerSequenceGenerator(\n",
    "    sample_files,\n",
    "    length=run.config[\"length\"],\n",
    "    kmer=run.config[\"kmer\"],\n",
    "    batch_size=run.config[\"batch_size\"],\n",
    "    batches_per_epoch=run.config[\"val_batches_per_epoch\"],\n",
    "    augment=run.config[\"data_augment\"],\n",
    "    balance=run.config[\"data_balance\"]\n",
    ")"
   ]
  },
  {
   "cell_type": "code",
   "execution_count": 13,
   "id": "c03dddb2-9d3e-4fd5-9935-7704b7e9ef4f",
   "metadata": {},
   "outputs": [
    {
     "data": {
      "text/plain": [
       "array([[67, 86, 56, ..., 37, 63, 65],\n",
       "       [67, 86, 56, ..., 13, 65, 77],\n",
       "       [51,  5, 27, ..., 27, 10, 52],\n",
       "       ...,\n",
       "       [12, 62, 62, ..., 88, 65, 77],\n",
       "       [56, 30, 27, ..., 77, 10, 52],\n",
       "       [30, 27, 11, ..., 10, 52, 12]], dtype=int32)"
      ]
     },
     "execution_count": 13,
     "metadata": {},
     "output_type": "execute_result"
    }
   ],
   "source": [
    "dataset[0]"
   ]
  },
  {
   "cell_type": "code",
   "execution_count": 14,
   "id": "9756c938-f1e6-4c47-a4d9-93671db6f662",
   "metadata": {},
   "outputs": [
    {
     "data": {
      "text/plain": [
       "(512, 148)"
      ]
     },
     "execution_count": 14,
     "metadata": {},
     "output_type": "execute_result"
    }
   ],
   "source": [
    "dataset[0].shape"
   ]
  },
  {
   "cell_type": "markdown",
   "id": "260b6eca-4e68-42a5-ad27-36efb11a9537",
   "metadata": {},
   "source": [
    "## Model"
   ]
  },
  {
   "cell_type": "code",
   "execution_count": 22,
   "id": "c7076210-0239-4503-aad3-ec3a074d897b",
   "metadata": {},
   "outputs": [],
   "source": [
    "model_path = run.file(\"model.h5\").download(temp_path, replace=True)"
   ]
  },
  {
   "cell_type": "code",
   "execution_count": 23,
   "id": "7426738c-47d8-4d08-a203-54d3c98b69bf",
   "metadata": {},
   "outputs": [
    {
     "data": {
      "text/plain": [
       "<_io.TextIOWrapper name='./tmp/model.h5' mode='r' encoding='UTF-8'>"
      ]
     },
     "execution_count": 23,
     "metadata": {},
     "output_type": "execute_result"
    }
   ],
   "source": [
    "model_path"
   ]
  },
  {
   "cell_type": "code",
   "execution_count": 28,
   "id": "ca8caff8-969c-427f-8c4a-b9675ea34f53",
   "metadata": {},
   "outputs": [
    {
     "name": "stderr",
     "output_type": "stream",
     "text": [
      "2022-05-02 03:10:15.135301: I tensorflow/stream_executor/cuda/cuda_gpu_executor.cc:937] successful NUMA node read from SysFS had negative value (-1), but there must be at least one NUMA node, so returning NUMA node zero\n",
      "2022-05-02 03:10:15.135513: I tensorflow/stream_executor/cuda/cuda_gpu_executor.cc:937] successful NUMA node read from SysFS had negative value (-1), but there must be at least one NUMA node, so returning NUMA node zero\n",
      "2022-05-02 03:10:15.140374: I tensorflow/stream_executor/cuda/cuda_gpu_executor.cc:937] successful NUMA node read from SysFS had negative value (-1), but there must be at least one NUMA node, so returning NUMA node zero\n",
      "2022-05-02 03:10:15.140578: I tensorflow/stream_executor/cuda/cuda_gpu_executor.cc:937] successful NUMA node read from SysFS had negative value (-1), but there must be at least one NUMA node, so returning NUMA node zero\n",
      "2022-05-02 03:10:15.140738: I tensorflow/stream_executor/cuda/cuda_gpu_executor.cc:937] successful NUMA node read from SysFS had negative value (-1), but there must be at least one NUMA node, so returning NUMA node zero\n",
      "2022-05-02 03:10:15.140892: I tensorflow/stream_executor/cuda/cuda_gpu_executor.cc:937] successful NUMA node read from SysFS had negative value (-1), but there must be at least one NUMA node, so returning NUMA node zero\n",
      "2022-05-02 03:10:15.141384: I tensorflow/core/platform/cpu_feature_guard.cc:142] This TensorFlow binary is optimized with oneAPI Deep Neural Network Library (oneDNN) to use the following CPU instructions in performance-critical operations:  SSE4.1 SSE4.2 AVX AVX2 FMA\n",
      "To enable them in other operations, rebuild TensorFlow with the appropriate compiler flags.\n",
      "2022-05-02 03:10:15.301155: I tensorflow/stream_executor/cuda/cuda_gpu_executor.cc:937] successful NUMA node read from SysFS had negative value (-1), but there must be at least one NUMA node, so returning NUMA node zero\n",
      "2022-05-02 03:10:15.301443: I tensorflow/stream_executor/cuda/cuda_gpu_executor.cc:937] successful NUMA node read from SysFS had negative value (-1), but there must be at least one NUMA node, so returning NUMA node zero\n",
      "2022-05-02 03:10:15.301681: I tensorflow/stream_executor/cuda/cuda_gpu_executor.cc:937] successful NUMA node read from SysFS had negative value (-1), but there must be at least one NUMA node, so returning NUMA node zero\n",
      "2022-05-02 03:10:15.301903: I tensorflow/stream_executor/cuda/cuda_gpu_executor.cc:937] successful NUMA node read from SysFS had negative value (-1), but there must be at least one NUMA node, so returning NUMA node zero\n",
      "2022-05-02 03:10:15.302126: I tensorflow/stream_executor/cuda/cuda_gpu_executor.cc:937] successful NUMA node read from SysFS had negative value (-1), but there must be at least one NUMA node, so returning NUMA node zero\n",
      "2022-05-02 03:10:15.302358: I tensorflow/stream_executor/cuda/cuda_gpu_executor.cc:937] successful NUMA node read from SysFS had negative value (-1), but there must be at least one NUMA node, so returning NUMA node zero\n",
      "2022-05-02 03:10:15.836703: I tensorflow/stream_executor/cuda/cuda_gpu_executor.cc:937] successful NUMA node read from SysFS had negative value (-1), but there must be at least one NUMA node, so returning NUMA node zero\n",
      "2022-05-02 03:10:15.836917: I tensorflow/stream_executor/cuda/cuda_gpu_executor.cc:937] successful NUMA node read from SysFS had negative value (-1), but there must be at least one NUMA node, so returning NUMA node zero\n",
      "2022-05-02 03:10:15.837080: I tensorflow/stream_executor/cuda/cuda_gpu_executor.cc:937] successful NUMA node read from SysFS had negative value (-1), but there must be at least one NUMA node, so returning NUMA node zero\n",
      "2022-05-02 03:10:15.837232: I tensorflow/stream_executor/cuda/cuda_gpu_executor.cc:937] successful NUMA node read from SysFS had negative value (-1), but there must be at least one NUMA node, so returning NUMA node zero\n",
      "2022-05-02 03:10:15.837383: I tensorflow/stream_executor/cuda/cuda_gpu_executor.cc:937] successful NUMA node read from SysFS had negative value (-1), but there must be at least one NUMA node, so returning NUMA node zero\n",
      "2022-05-02 03:10:15.837518: I tensorflow/core/common_runtime/gpu/gpu_device.cc:1510] Created device /job:localhost/replica:0/task:0/device:GPU:0 with 22299 MB memory:  -> device: 0, name: NVIDIA GeForce RTX 3090, pci bus id: 0000:01:00.0, compute capability: 8.6\n",
      "2022-05-02 03:10:15.837807: I tensorflow/stream_executor/cuda/cuda_gpu_executor.cc:937] successful NUMA node read from SysFS had negative value (-1), but there must be at least one NUMA node, so returning NUMA node zero\n",
      "2022-05-02 03:10:15.837939: I tensorflow/core/common_runtime/gpu/gpu_device.cc:1510] Created device /job:localhost/replica:0/task:0/device:GPU:1 with 22301 MB memory:  -> device: 1, name: NVIDIA GeForce RTX 3090, pci bus id: 0000:21:00.0, compute capability: 8.6\n"
     ]
    },
    {
     "name": "stdout",
     "output_type": "stream",
     "text": [
      "WARNING:tensorflow:No training configuration found in the save file, so the model was *not* compiled. Compile it manually.\n"
     ]
    }
   ],
   "source": [
    "model = dnabert.DnaBertPretrainModel.load(os.path.join(temp_path, \"model.h5\"))"
   ]
  },
  {
   "cell_type": "code",
   "execution_count": 33,
   "id": "1a316e4e-d6e3-4de3-aceb-86449790328a",
   "metadata": {},
   "outputs": [],
   "source": [
    "model.compile(optimizer=keras.optimizers.Adam(1e-4), loss=keras.losses.SparseCategoricalCrossentropy())"
   ]
  },
  {
   "cell_type": "code",
   "execution_count": 37,
   "id": "1b1ee6e1-b06b-44d0-9663-7c915074bb6d",
   "metadata": {},
   "outputs": [
    {
     "data": {
      "text/plain": [
       "<bound method BaseResourceVariable.assign of <tf.Variable 'learning_rate:0' shape=() dtype=float32, numpy=1e-04>>"
      ]
     },
     "execution_count": 37,
     "metadata": {},
     "output_type": "execute_result"
    }
   ],
   "source": [
    "model.optimizer.learning_rate.assign"
   ]
  },
  {
   "cell_type": "code",
   "execution_count": 16,
   "id": "de0235e1-259e-4f52-815a-0127868464bb",
   "metadata": {},
   "outputs": [
    {
     "name": "stdout",
     "output_type": "stream",
     "text": [
      "Model: \"DNABERT_pretrain\"\n",
      "_________________________________________________________________\n",
      "Layer (type)                 Output Shape              Param #   \n",
      "=================================================================\n",
      "input_2 (InputLayer)         [(None, 148)]             0         \n",
      "_________________________________________________________________\n",
      "dna_bert_base (DnaBertBase)  (None, 149, 128)          2547584   \n",
      "_________________________________________________________________\n",
      "lambda_1 (Lambda)            (None, 148, 128)          0         \n",
      "_________________________________________________________________\n",
      "dense_16 (Dense)             (None, 148, 125)          16125     \n",
      "=================================================================\n",
      "Total params: 2,563,709\n",
      "Trainable params: 2,563,709\n",
      "Non-trainable params: 0\n",
      "_________________________________________________________________\n"
     ]
    }
   ],
   "source": [
    "model.summary()"
   ]
  }
 ],
 "metadata": {
  "kernelspec": {
   "display_name": "Python 3 (ipykernel)",
   "language": "python",
   "name": "python3"
  },
  "language_info": {
   "codemirror_mode": {
    "name": "ipython",
    "version": 3
   },
   "file_extension": ".py",
   "mimetype": "text/x-python",
   "name": "python",
   "nbconvert_exporter": "python",
   "pygments_lexer": "ipython3",
   "version": "3.9.10"
  }
 },
 "nbformat": 4,
 "nbformat_minor": 5
}
