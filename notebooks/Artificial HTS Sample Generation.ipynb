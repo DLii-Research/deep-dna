{
 "cells": [
  {
   "cell_type": "markdown",
   "id": "749bb209-d90f-46fb-847d-aa67e42cd21b",
   "metadata": {},
   "source": [
    "# Artificial HTS\n",
    "\n",
    "A notebook to construct artificial HTS samples based on the abundance information extracted from real HTS samples.\n",
    "\n",
    "Dependencies:\n",
    "- [lmdbm](https://pypi.org/project/lmdbm/)\n",
    "- [NCBI Command Line Tools](https://www.ncbi.nlm.nih.gov/datasets/docs/v1/download-and-install/)"
   ]
  },
  {
   "cell_type": "code",
   "execution_count": 185,
   "id": "849ddc97-943a-4958-a547-571bd001a305",
   "metadata": {},
   "outputs": [],
   "source": [
    "from collections import defaultdict\n",
    "import json\n",
    "from lmdbm import Lmdb\n",
    "import matplotlib.pyplot as plt\n",
    "import multiprocessing as mp\n",
    "import numpy as np\n",
    "import os\n",
    "import re\n",
    "import subprocess\n",
    "import zipfile"
   ]
  },
  {
   "cell_type": "code",
   "execution_count": 2,
   "id": "07af33ee-fc99-4d70-afd9-304cd50cd029",
   "metadata": {},
   "outputs": [],
   "source": [
    "SEQ_LEN = 150"
   ]
  },
  {
   "cell_type": "markdown",
   "id": "5ed08960-0e2c-48b5-8a3b-ef7883073181",
   "metadata": {},
   "source": [
    "## Reading and Parsing\n",
    "\n",
    "The following section reads the abundance information and constructs taxonomy trees for each sample. Each sample tree gives us an idea of what microorganisms are present and how we need to distribute the genomes."
   ]
  },
  {
   "cell_type": "code",
   "execution_count": 3,
   "id": "c27b4fd7-a36f-4adb-8a3d-f3de5d971951",
   "metadata": {},
   "outputs": [],
   "source": [
    "CLASSES = \"kpcofgs\"\n",
    "\n",
    "class TaxonomyNode:\n",
    "    def __init__(self, name, level, abundance=0, parent=None):\n",
    "        self.name = name\n",
    "        self.abundance = abundance\n",
    "        self.level = level\n",
    "        self.parent = parent\n",
    "        self.children = {}\n",
    "        self.accession = None\n",
    "        self.key = f\"{CLASSES[self.level]}__{self.name}\"\n",
    "        self.full_name = self.__build_full_name()\n",
    "\n",
    "    def path(self):\n",
    "        path = [self.name]\n",
    "        node = self.parent\n",
    "        while node is not None:\n",
    "            path.append(node.name)\n",
    "            node = node.parent\n",
    "        return list(reversed(path))\n",
    "\n",
    "    def __build_full_name(self):\n",
    "        prefix = \"\"\n",
    "        if self.parent is not None:\n",
    "            prefix += self.parent.full_name + ';'\n",
    "        return f\"{prefix}{self.key}\"\n",
    "\n",
    "    def __contains__(self, key):\n",
    "        return key in self.children\n",
    "\n",
    "    def __getitem__(self, key):\n",
    "        return self.children[key]\n",
    "\n",
    "    def __setitem__(self, key, value):\n",
    "        self.children[key] = value\n",
    "        return self\n",
    "\n",
    "    def __str__(self):\n",
    "        return self.full_name + f\"({self.abundance})\"\n",
    "\n",
    "    def __repr__(self):\n",
    "        return str(self)"
   ]
  },
  {
   "cell_type": "code",
   "execution_count": 4,
   "id": "66326be4-cd45-4cde-a620-eabdfe232033",
   "metadata": {},
   "outputs": [],
   "source": [
    "class SampleTaxonomy:\n",
    "    def __init__(self):\n",
    "        self.children = {}\n",
    "        self.abundance = 0\n",
    "\n",
    "    def add(self, tax_classes, abundance=0):\n",
    "        node = self\n",
    "        parent = None\n",
    "        for level, c in enumerate(tax_classes):\n",
    "            if c not in node:\n",
    "                node[c] = TaxonomyNode(c, level, parent=parent)\n",
    "            parent = node[c]\n",
    "            node = node[c]\n",
    "        node.abundance += abundance\n",
    "        return node\n",
    "\n",
    "    def __contains__(self, key):\n",
    "        return key in self.children\n",
    "\n",
    "    def __getitem__(self, key):\n",
    "        return self.children[key]\n",
    "\n",
    "    def __setitem__(self, key, value):\n",
    "        self.children[key] = value\n",
    "        return self\n",
    "\n",
    "    def __str__(self):\n",
    "        for c in self.children.values():\n",
    "            stack = [(c, 0)]\n",
    "            while len(stack) > 0:\n",
    "                node, depth = stack.pop()\n",
    "                print(\"\\t\"*depth, node.key, sep=\"\")\n",
    "                for c in node.children.values():\n",
    "                    stack.append((c, depth + 1))\n",
    "\n",
    "    def __repr__(self):\n",
    "        return str(self)"
   ]
  },
  {
   "cell_type": "code",
   "execution_count": 5,
   "id": "9a69efd4-44b4-444c-88f7-df4c93913fa1",
   "metadata": {},
   "outputs": [],
   "source": [
    "def parse_taxonomy_string(taxonomy):\n",
    "    return re.findall(rf\"(?<=[{CLASSES}]__)\\[?([a-z\\-0-9]+)\\]?(?=;|$)\", taxonomy.lower())\n",
    "\n",
    "def read_abundances(path):\n",
    "    abundances = []\n",
    "    samples = []\n",
    "    with open(path) as f:\n",
    "        taxonomy = f.readline().split(',')[1:]\n",
    "        for line in f:\n",
    "            sample, *abundance = line.split(',')\n",
    "            samples.append(sample)\n",
    "            abundances.append(list(map(float, abundance)))\n",
    "    samples = np.array(samples)\n",
    "    abundances = np.array(abundances).astype(int)\n",
    "    return samples, taxonomy, abundances\n",
    "\n",
    "def create_sample_tree(sample, taxonomy, abundance):\n",
    "    tree = SampleTaxonomy()\n",
    "    for j in range(len(abundance)):\n",
    "        if abundance[j] == 0.0:\n",
    "            continue\n",
    "        tax = parse_taxonomy_string(taxonomy[j])\n",
    "        tree.add(tax, abundance[j])\n",
    "    return tree"
   ]
  },
  {
   "cell_type": "code",
   "execution_count": 200,
   "id": "a9f08ca3-bf88-4119-9ea0-e5ce5fbbea13",
   "metadata": {},
   "outputs": [],
   "source": [
    "samples, taxonomy, abundances = read_abundances(\"/home/data2/dna/exported/level-7.csv\")"
   ]
  },
  {
   "cell_type": "code",
   "execution_count": 171,
   "id": "8ee27d2f-59c5-41b7-9939-d1ef65720a83",
   "metadata": {},
   "outputs": [],
   "source": [
    "sample_trees = [create_sample_tree(s, taxonomy, a) for s, a in zip(samples, abundances)]"
   ]
  },
  {
   "cell_type": "markdown",
   "id": "99955937-0720-4de3-ba9c-df08c7966b4c",
   "metadata": {},
   "source": [
    "---\n",
    "## Data Fetching\n",
    "\n",
    "Now that we have the microorganisms to search for, we can pull the genomic data from NCBI."
   ]
  },
  {
   "cell_type": "code",
   "execution_count": 8,
   "id": "02e8dc90-3038-448e-abcc-0240638b8dc1",
   "metadata": {},
   "outputs": [],
   "source": [
    "# 0 = kingdom\n",
    "# 1 = phylum\n",
    "# 2 = order\n",
    "# 3 = class\n",
    "# 4 = family\n",
    "# 5 = genus\n",
    "# 6 = species\n",
    "MIN_LEVEL = 4"
   ]
  },
  {
   "cell_type": "code",
   "execution_count": 170,
   "id": "dbee6718-5c39-46f3-91e1-a5964b121401",
   "metadata": {},
   "outputs": [],
   "source": [
    "SUMMARY_CACHE_PATH = \"/home/data2/dna/cache/summary\"\n",
    "DATA_CACHE_PATH = \"/home/data2/dna/cache/data\"\n",
    "OUTPUT_PATH = \"/home/data2/dna/synthetic_nachusa\""
   ]
  },
  {
   "cell_type": "code",
   "execution_count": 132,
   "id": "084c9b4f-4d2c-463f-ba62-dee8b65710a4",
   "metadata": {},
   "outputs": [],
   "source": [
    "summary_cache = set([os.path.splitext(f)[0] for f in os.listdir(SUMMARY_CACHE_PATH)])\n",
    "data_cache = set([os.path.splitext(f)[0] for f in os.listdir(DATA_CACHE_PATH) if f.endswith(\".zip\")])"
   ]
  },
  {
   "cell_type": "code",
   "execution_count": 133,
   "id": "a673474e-4d54-41f5-b87f-29a48bbdcde9",
   "metadata": {},
   "outputs": [],
   "source": [
    "def run(cmd):\n",
    "    result = subprocess.run(cmd, capture_output=True)\n",
    "    return result.returncode, result.stdout.decode()"
   ]
  },
  {
   "cell_type": "code",
   "execution_count": 143,
   "id": "3077f611-ceca-4a84-9d4c-3c2f2552e227",
   "metadata": {},
   "outputs": [],
   "source": [
    "def fetch_summary(taxonomy, force=False):\n",
    "    if taxonomy in summary_cache and not force:\n",
    "        return taxonomy\n",
    "    path = os.path.join(SUMMARY_CACHE_PATH, taxonomy + \".json\")\n",
    "    # summary_cache.add(taxonomy)\n",
    "    exitcode, output = run([\"datasets\", \"summary\", \"genome\", \"taxon\", taxonomy])\n",
    "    with open(path, 'w') as f:\n",
    "        f.write(output)\n",
    "    return taxonomy\n",
    "\n",
    "def fetch_summaries(taxonomy, min_level=MIN_LEVEL, num_workers=5):\n",
    "    tax_to_fetch = set()\n",
    "    for tax in taxonomy:\n",
    "        tax_classes = parse_taxonomy_string(tax)\n",
    "        if len(tax_classes) - 1 < MIN_LEVEL:\n",
    "            continue\n",
    "        tax_to_fetch.add(tax_classes[:6][-1])\n",
    "    with mp.Pool(num_workers) as p:\n",
    "        taxons = p.map(fetch_summary, list(tax_to_fetch))\n",
    "    for tax in taxons:\n",
    "        if tax is None:\n",
    "            continue\n",
    "        summary_cache.add(tax)"
   ]
  },
  {
   "cell_type": "markdown",
   "id": "17eaf693-33cf-42af-b56d-c9ccf61493b9",
   "metadata": {},
   "source": [
    "## Fetch Summaries\n",
    "\n",
    "Here, we attempt fetch the summary information of each known organism from NCBI. These summaries are cached on the system for future use."
   ]
  },
  {
   "cell_type": "code",
   "execution_count": 135,
   "id": "a32bd0b6-38db-41d4-be79-1fc6841b3945",
   "metadata": {},
   "outputs": [],
   "source": [
    "fetch_summaries(taxonomy)"
   ]
  },
  {
   "cell_type": "markdown",
   "id": "d16baefe-f1e1-4ec7-afee-4ad78941dc4f",
   "metadata": {},
   "source": [
    "## Load Genome References from Summaries\n",
    "\n",
    "Since the summaries are quite large, we can extract the genome references to obtain much smaller summaries that we can store in memory."
   ]
  },
  {
   "cell_type": "code",
   "execution_count": 14,
   "id": "472fe74a-2fd4-460a-8e96-181239a5f788",
   "metadata": {},
   "outputs": [
    {
     "name": "stdout",
     "output_type": "stream",
     "text": [
      "655/655"
     ]
    }
   ],
   "source": [
    "genome_lookup = {}\n",
    "for i, tax in enumerate(summary_cache):\n",
    "    print(f\"\\r{i+1}/{len(summary_cache)}\", end=\"\")\n",
    "    with open(os.path.join(SUMMARY_CACHE_PATH, tax + \".json\")) as in_f:\n",
    "        summary = json.load(in_f)\n",
    "    genome_lookup[tax] =  []\n",
    "    if summary[\"total_count\"] == 0:\n",
    "        continue\n",
    "    for a in summary[\"assemblies\"]:\n",
    "        assembly = a[\"assembly\"]\n",
    "        if \"biosample\" not in assembly:\n",
    "            continue\n",
    "        # if assembly[\"assembly_accession\"] == accession:\n",
    "        #     test_assembly = assembly\n",
    "        genome_lookup[tax].append({\n",
    "            \"accession\": assembly[\"assembly_accession\"],\n",
    "            \"organism\": assembly[\"biosample\"][\"description\"][\"organism\"][\"organism_name\"].lower()\n",
    "        })"
   ]
  },
  {
   "cell_type": "markdown",
   "id": "c6cf42f4-e8b9-4e78-b208-f639ecf88c0d",
   "metadata": {},
   "source": [
    "## Find Genome Accessions\n",
    "\n",
    "Here we will locate genome accessions for the species we've found in the samples."
   ]
  },
  {
   "cell_type": "code",
   "execution_count": 15,
   "id": "4422244c-c48d-4c2e-8fa2-dd0a0a132f35",
   "metadata": {},
   "outputs": [],
   "source": [
    "def inject_accessions(tree, rng):\n",
    "    for c in tree.children.values():\n",
    "        stack = [(c, 0)]\n",
    "        while len(stack) > 0:\n",
    "            node, depth = stack.pop()\n",
    "            for c in node.children.values():\n",
    "                stack.append((c, depth + 1))\n",
    "            if depth < 6:\n",
    "                continue\n",
    "            if node.accession is not None:\n",
    "                continue\n",
    "            genomes = genome_lookup[node.parent.name]\n",
    "            choices = [g for g in genomes if node.name in g[\"organism\"]]\n",
    "            if len(choices) == 0:\n",
    "                continue\n",
    "            node.accession = rng.choice(choices)[\"accession\"]"
   ]
  },
  {
   "cell_type": "code",
   "execution_count": 16,
   "id": "2353b22b-4e9e-4dba-9d1b-389a891f3710",
   "metadata": {},
   "outputs": [],
   "source": [
    "rng = np.random.default_rng(0)\n",
    "for tree in sample_trees:\n",
    "    inject_accessions(tree, rng)"
   ]
  },
  {
   "cell_type": "markdown",
   "id": "dcecc816-d753-43ab-bc3e-7fb11bd948fc",
   "metadata": {},
   "source": [
    "## Populate Samples with Random Species\n",
    "\n",
    "When we have classified down to a particular family/genus, but did not obtain any specific species, we draw a species at random from the same family/genus to use."
   ]
  },
  {
   "cell_type": "code",
   "execution_count": 17,
   "id": "2d7fa23a-96b2-4a47-af90-51ac1c13e551",
   "metadata": {},
   "outputs": [],
   "source": [
    "def populate_random_species(tree, rng):\n",
    "    to_add = []\n",
    "    for c in tree.children.values():\n",
    "        stack = [(c, 0)]\n",
    "        while len(stack) > 0:\n",
    "            node, depth = stack.pop()\n",
    "            for c in node.children.values():\n",
    "                stack.append((c, depth + 1))\n",
    "            if depth < MIN_LEVEL or depth == 6 or len(node.children) > 0:\n",
    "                continue\n",
    "            # Family/genus that doesn't have specific species.\n",
    "            # Select randomly from the summary\n",
    "            if len(genome_lookup[node.name]) == 0:\n",
    "                continue\n",
    "            tax = rng.choice(genome_lookup[node.name])\n",
    "            try:\n",
    "                tax_class = re.findall(r\"([^\\s]+)\\s(.*)\", tax[\"organism\"])[0]\n",
    "            except Exception as e:\n",
    "                continue\n",
    "            tax_group = node.path() + list(tax_class[depth == 5:])\n",
    "            assert len(tax_group) == 7\n",
    "\n",
    "            to_add.append((tax_group, tax[\"accession\"]))\n",
    "    for tax, accession in to_add:\n",
    "        node = tree.add(tax)\n",
    "        node.accession = accession"
   ]
  },
  {
   "cell_type": "code",
   "execution_count": 18,
   "id": "4ff43e92-cc27-451e-a815-4ea4bee7a4e9",
   "metadata": {},
   "outputs": [],
   "source": [
    "rng = np.random.default_rng(1)\n",
    "for tree in sample_trees:\n",
    "    populate_random_species(tree, rng)"
   ]
  },
  {
   "cell_type": "markdown",
   "id": "979910a6-c1d7-4de4-901d-5a211b75013e",
   "metadata": {},
   "source": [
    "## Tree Pruning\n",
    "\n",
    "Since there are some genomes that we may not be able to access, we need to prune the trees."
   ]
  },
  {
   "cell_type": "code",
   "execution_count": 19,
   "id": "4c364036-b9ce-4a2d-84f5-744afd33c435",
   "metadata": {},
   "outputs": [],
   "source": [
    "def prune_tree(node, depth=-1):\n",
    "    if depth == 6:\n",
    "        return node.accession is None\n",
    "    prune = True\n",
    "    to_prune = []\n",
    "    for child in node.children.values():\n",
    "        should_prune = prune_tree(child, depth + 1)\n",
    "        prune &= should_prune\n",
    "        if should_prune:\n",
    "            to_prune.append(child.name)\n",
    "    for key in to_prune:\n",
    "        del node.children[key]\n",
    "    if depth == -1:\n",
    "        return\n",
    "    return prune"
   ]
  },
  {
   "cell_type": "code",
   "execution_count": 20,
   "id": "1c344b13-c033-40ab-82a5-3eeccfd0ad4d",
   "metadata": {},
   "outputs": [],
   "source": [
    "for tree in sample_trees:\n",
    "    prune_tree(tree)"
   ]
  },
  {
   "cell_type": "markdown",
   "id": "bde1bbad-f08a-4238-9628-2958cb15c269",
   "metadata": {},
   "source": [
    "## Download Genomes"
   ]
  },
  {
   "cell_type": "code",
   "execution_count": 152,
   "id": "2552e0ee-5cbd-4070-b5b6-e4357b1600ee",
   "metadata": {},
   "outputs": [],
   "source": [
    "def fetch_genome(accession, force=False):\n",
    "    path = os.path.join(DATA_CACHE_PATH, accession + \".zip\")\n",
    "    if accession in data_cache and not force:\n",
    "        return True\n",
    "    exitcode, output = run([\"datasets\", \"download\", \"genome\", \"accession\", accession, \"--filename\", path])\n",
    "    data_cache.add(accession)\n",
    "    return exitcode == 0\n",
    "\n",
    "def fetch_genomes(trees, num_workers=5):\n",
    "    accessions = set()\n",
    "    for tree in trees:\n",
    "        for c in tree.children.values():\n",
    "            stack = [(c, 0)]\n",
    "            while len(stack) > 0:\n",
    "                node, depth = stack.pop()\n",
    "                for c in node.children.values():\n",
    "                    stack.append((c, depth + 1))\n",
    "                if depth < 6:\n",
    "                    continue\n",
    "                accessions.add(node.accession)\n",
    "    with mp.Pool(num_workers) as p:\n",
    "        p.map(fetch_genome, accessions)"
   ]
  },
  {
   "cell_type": "code",
   "execution_count": 137,
   "id": "24392705-877c-4b70-9823-95c8a799bd52",
   "metadata": {},
   "outputs": [],
   "source": [
    "fetch_genomes(sample_trees)"
   ]
  },
  {
   "cell_type": "markdown",
   "id": "f0f05fe8-b041-476b-8d78-e9e5eb5835cc",
   "metadata": {},
   "source": [
    "## Abundance Adjustment\n",
    "\n",
    "Now we need to propogate the abundance values down to the chidlren to obtain the correct number of genomes to use for each species."
   ]
  },
  {
   "cell_type": "code",
   "execution_count": 23,
   "id": "bb71bfc8-1e14-4f88-b9be-ea54b85ce36a",
   "metadata": {},
   "outputs": [],
   "source": [
    "def count_species(root):\n",
    "    root.num_species = root.abundance\n",
    "    for node in root.children.values():\n",
    "        root.num_species += count_species(node)\n",
    "    return root.num_species\n",
    "\n",
    "def adjust_abundance(root):\n",
    "    for node in root.children.values():\n",
    "        if node.num_species == 0:\n",
    "            assert len(root.children) == 1\n",
    "            node.abundance += root.abundance\n",
    "        else:\n",
    "            node.abundance += int(np.round(node.abundance / node.num_species * root.abundance))\n",
    "        adjust_abundance(node)\n",
    "    if len(root.children) > 0:\n",
    "        root.abundance = 0"
   ]
  },
  {
   "cell_type": "code",
   "execution_count": 24,
   "id": "4c702a37-10c5-4762-8b1a-11ec2a180b9c",
   "metadata": {
    "collapsed": true,
    "jupyter": {
     "outputs_hidden": true
    },
    "tags": []
   },
   "outputs": [
    {
     "name": "stdout",
     "output_type": "stream",
     "text": [
      "85899 164399\n",
      "43640 64290\n",
      "41860 53858\n",
      "64390 101839\n",
      "65946 96236\n",
      "34750 55859\n",
      "96388 159692\n",
      "39343 57541\n",
      "60271 94600\n",
      "90508 184125\n",
      "66244 107941\n",
      "76184 160292\n",
      "48280 61117\n",
      "40989 62868\n",
      "34295 51217\n",
      "32 32\n",
      "73061 126381\n",
      "55789 99972\n",
      "18278 20675\n",
      "50925 87597\n",
      "49519 69330\n",
      "83634 159806\n",
      "35498 44984\n",
      "66456 129596\n",
      "59382 102748\n",
      "73942 120808\n",
      "88422 181506\n",
      "60235 94675\n",
      "82221 148157\n",
      "70299 126645\n",
      "78878 153075\n",
      "61831 131700\n",
      "53959 88964\n",
      "62226 108008\n",
      "57445 121401\n",
      "47500 66623\n",
      "113937 257361\n",
      "631 560\n",
      "93844 136253\n",
      "51758 85646\n",
      "34951 42288\n",
      "44592 69531\n",
      "41688 69850\n",
      "66258 113410\n",
      "42722 62611\n",
      "110638 203968\n",
      "85285 131484\n",
      "55603 79713\n",
      "80525 172684\n",
      "57975 107856\n",
      "154 154\n",
      "44909 66182\n",
      "55879 97126\n",
      "7873 7216\n",
      "9586 7712\n",
      "8615 9083\n",
      "5724 4862\n",
      "8441 10598\n",
      "8475 8570\n",
      "8438 9604\n",
      "10217 13444\n",
      "8391 7874\n",
      "10685 10604\n",
      "11006 10300\n",
      "6910 5859\n",
      "9114 9964\n",
      "9253 8564\n",
      "9140 8654\n",
      "9226 10274\n",
      "8735 9764\n",
      "9726 10158\n",
      "13212 13026\n",
      "10079 10410\n",
      "9209 11448\n",
      "8732 8920\n",
      "6723 7292\n",
      "9424 9252\n",
      "5998 5963\n",
      "7274 6561\n",
      "8914 8358\n",
      "7087 8215\n",
      "7772 7772\n",
      "9884 10269\n",
      "9127 9502\n",
      "8450 9579\n",
      "8784 9387\n",
      "9506 9569\n",
      "7523 6042\n",
      "7554 7064\n",
      "6181 5766\n",
      "7327 8478\n",
      "7807 6884\n",
      "6588 6962\n",
      "6842 6794\n",
      "6272 6216\n",
      "7049 7067\n",
      "7171 8005\n",
      "6379 6103\n",
      "6741 5655\n",
      "5308 4102\n",
      "6334 6807\n",
      "1189 1189\n",
      "8684 8862\n",
      "7430 8087\n",
      "6506 6085\n",
      "7928 7425\n",
      "7406 7411\n",
      "7749 7860\n",
      "1573 1573\n",
      "38840 61704\n",
      "41330 34142\n",
      "48093 61235\n",
      "38746 48273\n",
      "37423 55340\n",
      "35239 41693\n",
      "34785 51845\n",
      "45629 54260\n",
      "33835 45558\n",
      "45839 32710\n",
      "36391 53344\n",
      "40902 49100\n",
      "37276 50527\n",
      "37102 48458\n",
      "35972 62078\n",
      "35957 51455\n",
      "39955 67020\n",
      "37541 52234\n",
      "36224 53496\n",
      "31445 36694\n",
      "35512 45418\n",
      "32699 40774\n",
      "31746 38669\n",
      "35515 42361\n",
      "48688 70600\n",
      "34542 56335\n",
      "42917 53340\n",
      "36311 48250\n",
      "39598 56528\n",
      "41423 38026\n",
      "39323 62529\n",
      "39620 36287\n",
      "33569 39142\n",
      "40460 55390\n",
      "38053 60194\n",
      "39376 40390\n",
      "35771 59071\n",
      "42077 55698\n",
      "41706 55753\n",
      "42455 50030\n",
      "33189 46840\n",
      "35332 45492\n",
      "34480 62749\n",
      "37022 44759\n",
      "39969 56733\n",
      "44747 39503\n",
      "34310 54544\n",
      "51409 23250\n",
      "35126 49139\n",
      "34870 60915\n",
      "37898 42348\n",
      "39017 69903\n",
      "34302 40175\n",
      "43430 36624\n",
      "35614 58087\n",
      "40911 49872\n",
      "36854 57114\n",
      "45666 86785\n",
      "41804 58445\n",
      "40195 46244\n",
      "41512 57778\n",
      "35993 51253\n",
      "34811 46216\n",
      "30846 57358\n",
      "31820 56008\n",
      "37456 43850\n",
      "41379 64773\n",
      "39792 41773\n",
      "36405 45086\n",
      "31551 57630\n",
      "30846 40045\n",
      "36309 50001\n",
      "40043 68626\n",
      "36875 57203\n",
      "32303 53877\n",
      "31640 45469\n",
      "30722 35877\n",
      "37215 42473\n",
      "35905 58038\n",
      "38925 37355\n",
      "38548 32924\n",
      "32198 44622\n",
      "36965 34914\n",
      "47926 60098\n",
      "34438 44241\n",
      "35705 44510\n",
      "35090 55354\n",
      "29774 39910\n",
      "40589 37710\n",
      "41586 85094\n",
      "37050 40746\n",
      "39941 60349\n",
      "39726 64651\n",
      "39709 51732\n",
      "40482 51169\n",
      "38282 56076\n",
      "39482 47198\n",
      "34183 48570\n",
      "33722 59691\n",
      "32682 41749\n",
      "37754 40294\n"
     ]
    }
   ],
   "source": [
    "for tree in sample_trees:\n",
    "    count = count_species(tree)\n",
    "    adjust_abundance(tree)\n",
    "    # print(count, count_species(tree))"
   ]
  },
  {
   "cell_type": "markdown",
   "id": "233610ba-05c1-40a9-811a-3fccdb718eed",
   "metadata": {},
   "source": [
    "## Synthetic HTS Construction\n",
    "\n",
    "With the polished trees, we can now pull from the downloaded genome data and construct synthetic HTS samples."
   ]
  },
  {
   "cell_type": "code",
   "execution_count": 25,
   "id": "024c4182-312e-4a49-b9d3-d54ae63eecec",
   "metadata": {},
   "outputs": [],
   "source": [
    "def extract_species_from_tree(tree):\n",
    "    result = []\n",
    "    for c in tree.children.values():\n",
    "        stack = [c]\n",
    "        while len(stack) > 0:\n",
    "            node = stack.pop()\n",
    "            if node.level == 6:\n",
    "                result.append(node)\n",
    "                continue\n",
    "            for c in node.children.values():\n",
    "                stack.append(c)\n",
    "    return result"
   ]
  },
  {
   "cell_type": "code",
   "execution_count": 112,
   "id": "bd9dbae7-57b3-4822-8ce7-dc97ce925e64",
   "metadata": {},
   "outputs": [],
   "source": [
    "genome_cache = {}"
   ]
  },
  {
   "cell_type": "code",
   "execution_count": 154,
   "id": "067e2f52-666c-45d6-b8cd-3efb2ebe049d",
   "metadata": {},
   "outputs": [],
   "source": [
    "def read_genome(accession):\n",
    "    if accession in genome_cache:\n",
    "        return genome_cache[accession]\n",
    "    try:\n",
    "        archive = zipfile.ZipFile(os.path.join(DATA_CACHE_PATH, accession + \".zip\"))\n",
    "    except (FileNotFoundError, zipfile.BadZipFile) as e:\n",
    "        print(\"Redownloading accession:\", accession)\n",
    "        fetch_genome(accession, force=True)\n",
    "        archive = zipfile.ZipFile(os.path.join(DATA_CACHE_PATH, accession + \".zip\"))\n",
    "    for filename in archive.namelist():\n",
    "        if os.path.basename(filename).startswith(accession) and filename.endswith(\".fna\"):\n",
    "            break\n",
    "    raw_genome = archive.read(filename).decode()\n",
    "    archive.close()\n",
    "    parts = re.split(r\"\\>.*\\n\", raw_genome)[1:]\n",
    "    parts = [part.replace('\\n', '') for part in parts]\n",
    "    valid_parts = []\n",
    "    for i, part in enumerate(parts):\n",
    "        match = re.match(r\"^[ACTGN]*$\", part)\n",
    "        if match is None or len(part) < SEQ_LEN:\n",
    "            # chars = set([c for c in part])\n",
    "            # print(f\"Error {i+1}/{len(parts)}\", chars)\n",
    "            continue\n",
    "        valid_parts.append(sequence_to_bytes(part))\n",
    "    genome_cache[accession] = valid_parts\n",
    "    if len(valid_parts) == 0:\n",
    "        print(f\"Warning: Invalid genome {accession}... This genome will be ignored.\")\n",
    "    return valid_parts"
   ]
  },
  {
   "cell_type": "code",
   "execution_count": 161,
   "id": "05229208-fbcb-4eab-91be-56e137ba2405",
   "metadata": {},
   "outputs": [],
   "source": [
    "def build_hts_sample(tree, rng):\n",
    "    sequences = []\n",
    "    labels = []\n",
    "    species = extract_species_from_tree(tree)\n",
    "    for i, organism in enumerate(species):\n",
    "        # print(f\"\\r{i+1}/{len(species)}\", end=\"\")\n",
    "        genomes = read_genome(organism.accession)\n",
    "        if len(genomes) == 0:\n",
    "            continue\n",
    "        for j in range(organism.abundance):\n",
    "            # print(f\"\\r{i+1}/{len(species)}; {j+1:04d}/{organism.abundance:04d}\", end=\"\")\n",
    "            genome = genomes[rng.integers(len(genomes))]\n",
    "            pos = rng.integers(len(genome) - SEQ_LEN + 1)\n",
    "            sequences.append(genome[pos:pos+SEQ_LEN])\n",
    "            labels.append(organism.accession)\n",
    "    permutation = rng.permutation(len(sequences))\n",
    "    return np.array(sequences)[permutation], np.array(labels)[permutation]"
   ]
  },
  {
   "cell_type": "code",
   "execution_count": 156,
   "id": "9cdd540a-8a6d-45f6-b340-e04fd62b900c",
   "metadata": {},
   "outputs": [],
   "source": [
    "BASE_TO_I = {b: i for i, b in enumerate(\"ACTGN\")}\n",
    "def sequence_to_bytes(sequence):\n",
    "    return np.array([BASE_TO_I[c] for c in sequence], dtype=np.uint8).tobytes()"
   ]
  },
  {
   "cell_type": "code",
   "execution_count": 163,
   "id": "c6bd07bc-21dd-4ca4-8ad0-e2001b4c6271",
   "metadata": {},
   "outputs": [
    {
     "name": "stdout",
     "output_type": "stream",
     "text": [
      "206/210Warning: Invalid genome GCA_014844415.1... This genome will be ignored.\n",
      "209/210Warning: Invalid genome GCA_002356755.1... This genome will be ignored.\n",
      "210/210"
     ]
    }
   ],
   "source": [
    "rng = np.random.default_rng(2)\n",
    "synthetic_samples = []\n",
    "for i, tree in enumerate(sample_trees):\n",
    "    print(f\"\\r{i+1}/{len(sample_trees)}\", end=\"\")\n",
    "    synthetic_samples.append(build_hts_sample(tree, rng))"
   ]
  },
  {
   "cell_type": "markdown",
   "id": "c16d16a4-be7f-4615-8c3e-6eef15978e7f",
   "metadata": {},
   "source": [
    "Lastly, we need to convert the accessions to an integer identifier."
   ]
  },
  {
   "cell_type": "code",
   "execution_count": 164,
   "id": "8365d5eb-6206-4e51-ba4d-8614af90fa7e",
   "metadata": {},
   "outputs": [],
   "source": [
    "genome_id_map = {}\n",
    "for (_, labels) in synthetic_samples:\n",
    "    for accession in labels:\n",
    "        if accession not in genome_id_map:\n",
    "            genome_id_map[accession] = len(genome_id_map)"
   ]
  },
  {
   "cell_type": "code",
   "execution_count": 168,
   "id": "99e90cba-5673-4658-9355-ba7883f5aada",
   "metadata": {},
   "outputs": [],
   "source": [
    "final_synthetic_samples = []\n",
    "for (sample, labels) in synthetic_samples:\n",
    "    labels = [genome_id_map[key] for key in labels]\n",
    "    final_synthetic_samples.append((sample, labels))"
   ]
  },
  {
   "cell_type": "markdown",
   "id": "592f5626-5d24-41a3-83ec-b0a41d278d68",
   "metadata": {},
   "source": [
    "## Write to LMDB Dictionaries"
   ]
  },
  {
   "cell_type": "code",
   "execution_count": 199,
   "id": "878773a1-d8e2-4a65-9e9f-4918a684af73",
   "metadata": {},
   "outputs": [
    {
     "name": "stdout",
     "output_type": "stream",
     "text": [
      "210/210"
     ]
    }
   ],
   "source": [
    "for i, (sample_name, (sample, labels)) in enumerate(zip(samples, final_synthetic_samples)):\n",
    "    print(f\"\\r{i+1}/{len(samples)}\", end=\"\")\n",
    "    to_write = {}\n",
    "    for i in range(len(sample)):\n",
    "        to_write[str(f\"{i}_s\").encode()] = sample[i]\n",
    "        to_write[str(f\"{i}_l\").encode()] = bytes(labels[i])\n",
    "    with Lmdb.open(os.path.join(OUTPUT_PATH, sample_name + \".db\"), 'c') as store:\n",
    "        store.update(to_write)"
   ]
  },
  {
   "cell_type": "code",
   "execution_count": null,
   "id": "93a88c38-7033-4a4f-a561-fd584899fb27",
   "metadata": {},
   "outputs": [],
   "source": []
  }
 ],
 "metadata": {
  "kernelspec": {
   "display_name": "Python 3 (Qiime2)",
   "language": "python",
   "name": "qiime2-2022.2"
  },
  "language_info": {
   "codemirror_mode": {
    "name": "ipython",
    "version": 3
   },
   "file_extension": ".py",
   "mimetype": "text/x-python",
   "name": "python",
   "nbconvert_exporter": "python",
   "pygments_lexer": "ipython3",
   "version": "3.8.13"
  }
 },
 "nbformat": 4,
 "nbformat_minor": 5
}
