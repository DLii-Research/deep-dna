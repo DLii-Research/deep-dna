{
 "cells": [
  {
   "cell_type": "code",
   "execution_count": 14,
   "id": "9b9d66e2-36cb-47ad-a405-f8130d3ff2ad",
   "metadata": {},
   "outputs": [],
   "source": [
    "import os\n",
    "os.environ[\"TF_CPP_MIN_LOG_LEVEL\"] = \"1\""
   ]
  },
  {
   "cell_type": "code",
   "execution_count": 25,
   "id": "0217f1e5-d006-4349-b510-aa1aaf2f0324",
   "metadata": {},
   "outputs": [],
   "source": [
    "import abc\n",
    "from collections import defaultdict\n",
    "import json\n",
    "from IPython.display import clear_output\n",
    "from itertools import chain\n",
    "import matplotlib.pyplot as plt\n",
    "import numpy as np\n",
    "import numpy.typing as npt\n",
    "from pathlib import Path\n",
    "import pickle\n",
    "import tensorflow as tf\n",
    "import tf_utilities as tfu\n",
    "from tqdm.auto import tqdm\n",
    "from typing import Iterable, Generator, Optional\n",
    "import time\n",
    "import wandb\n",
    "\n",
    "from dnadb.datasets import Greengenes, Silva\n",
    "from dnadb import dna, fasta, sample, taxonomy\n",
    "\n",
    "from deepdna.data.dataset import Dataset\n",
    "from deepdna.data.tokenizers import AbstractTaxonomyTokenizer, TopDownTaxonomyTokenizer\n",
    "from deepdna.nn.models import custom_model, dnabert, load_model, taxonomy as tax_models\n",
    "from deepdna.nn.utils import encapsulate_model\n",
    "from deepdna.nn import layers, functional, utils"
   ]
  },
  {
   "cell_type": "code",
   "execution_count": 16,
   "id": "adbdd12e-425e-4f05-86a1-3f2349186ebe",
   "metadata": {},
   "outputs": [
    {
     "data": {
      "text/plain": [
       "([PhysicalDevice(name='/physical_device:CPU:0', device_type='CPU')],\n",
       " [PhysicalDevice(name='/physical_device:GPU:0', device_type='GPU')])"
      ]
     },
     "execution_count": 16,
     "metadata": {},
     "output_type": "execute_result"
    }
   ],
   "source": [
    "tfu.devices.select_gpu(0)"
   ]
  },
  {
   "cell_type": "markdown",
   "id": "9a507324-98a6-4e64-9a7e-41e8b23341b0",
   "metadata": {},
   "source": [
    "## Dataset"
   ]
  },
  {
   "cell_type": "code",
   "execution_count": 4,
   "id": "05f341b7-adf1-4ff3-8002-1e20a2ff5a91",
   "metadata": {},
   "outputs": [],
   "source": [
    "dataset = Dataset(\"/home/dwl2x/work/Datasets/Silva2/0\")\n",
    "train_fastas = tuple(map(sample.load_fasta, dataset.fasta_dbs(Dataset.Split.Train)))\n",
    "train_tax = tuple(map(taxonomy.TaxonomyDb, dataset.taxonomy_dbs(Dataset.Split.Train)))\n",
    "test_fastas = tuple(map(sample.load_fasta, dataset.fasta_dbs(Dataset.Split.Test)))\n",
    "test_tax = tuple(map(taxonomy.TaxonomyDb, dataset.taxonomy_dbs(Dataset.Split.Test)))"
   ]
  },
  {
   "cell_type": "code",
   "execution_count": 5,
   "id": "caee8e83-27e4-48d3-8970-fd14bc186748",
   "metadata": {},
   "outputs": [],
   "source": [
    "for label in test_tax[0]:\n",
    "    assert train_tax[0].contains_label(label)"
   ]
  },
  {
   "cell_type": "code",
   "execution_count": 6,
   "id": "95906939-7cf1-452a-9d70-41c7276c83d6",
   "metadata": {},
   "outputs": [],
   "source": [
    "tokenizer = TopDownTaxonomyTokenizer(depth=6)\n",
    "for db in train_tax:\n",
    "    tokenizer.add_labels(db)\n",
    "tokenizer.build()"
   ]
  },
  {
   "cell_type": "code",
   "execution_count": 5,
   "id": "8e6d1698-6c9a-450a-aaab-6610f58be13b",
   "metadata": {},
   "outputs": [],
   "source": [
    "from deepdna.data.samplers import SampleSampler, SequenceSampler\n",
    "from deepdna.nn.data_generators import _encode_sequences, BatchGenerator\n",
    "from typing import Any, cast\n",
    "\n",
    "class SequenceTaxonomyGenerator(BatchGenerator):\n",
    "    def __init__(\n",
    "        self,\n",
    "        fasta_taxonomy_pairs: Iterable[tuple[sample.FastaSample, taxonomy.TaxonomyDb]],\n",
    "        sequence_length: int,\n",
    "        taxonomy_tokenizer: AbstractTaxonomyTokenizer,\n",
    "        kmer: int = 1,\n",
    "        subsample_size: int|None = None,\n",
    "        batch_size: int = 32,\n",
    "        batches_per_epoch: int = 100,\n",
    "        augment_slide: bool = True,\n",
    "        augment_ambiguous_bases: bool = True,\n",
    "        balance: bool = False,\n",
    "        shuffle: bool = True,\n",
    "        rng: np.random.Generator = np.random.default_rng()\n",
    "    ):\n",
    "        super().__init__(\n",
    "            batch_size=batch_size,\n",
    "            batches_per_epoch=batches_per_epoch,\n",
    "            shuffle=shuffle,\n",
    "            rng=rng\n",
    "        )\n",
    "        fasta_samples, taxonomy_dbs = zip(*fasta_taxonomy_pairs)\n",
    "        self.sample_sampler = SampleSampler(cast(tuple[sample.FastaSample, ...], fasta_samples))\n",
    "        self.sequence_sampler = SequenceSampler(sequence_length, augment_slide)\n",
    "        self.taxonomy_dbs: tuple[taxonomy.TaxonomyDb, ...] = cast(Any, taxonomy_dbs)\n",
    "        self.kmer = kmer\n",
    "        self.taxonomy_tokenizer = taxonomy_tokenizer\n",
    "        self.subsample_size = subsample_size\n",
    "        self.augment_ambiguous_bases = augment_ambiguous_bases\n",
    "        self.balance = balance\n",
    "\n",
    "    @property\n",
    "    def sequence_length(self) -> int:\n",
    "        return self.sequence_sampler.sequence_length\n",
    "\n",
    "    def generate_batch(\n",
    "        self,\n",
    "        rng: np.random.Generator\n",
    "    ) -> tuple[npt.NDArray[np.int32], npt.NDArray[np.int32]]:\n",
    "        subsample_size = self.subsample_size or 1\n",
    "        sequences = np.empty((self.batch_size, subsample_size), dtype=f\"<U{self.sequence_length}\")\n",
    "        sample_ids = np.empty(self.batch_size, dtype=np.int32)\n",
    "        sequence_ids = [None] * self.batch_size\n",
    "        label_ids = np.empty((self.batch_size, subsample_size, self.taxonomy_tokenizer.depth), dtype=np.int32)\n",
    "        samples = self.sample_sampler.sample_with_ids(self.batch_size, self.balance, rng)\n",
    "        for i, (sample_id, sample) in enumerate(samples):\n",
    "            tax_db = self.taxonomy_dbs[sample_id]\n",
    "            sequence_info = tuple(self.sequence_sampler.sample_with_ids(sample, subsample_size, rng))\n",
    "            sequence_ids[i], sequences[i] = zip(*sequence_info)\n",
    "            sample_ids[i] = sample_id\n",
    "            label_ids[i] = [self.taxonomy_tokenizer.tokenize_label(tax_db.fasta_id_to_label(fasta_id)) for fasta_id in sequence_ids[i]]\n",
    "        sequences = _encode_sequences(sequences, self.augment_ambiguous_bases, self.rng)\n",
    "        if self.subsample_size is None:\n",
    "            sequences = np.squeeze(sequences, axis=1)\n",
    "            label_ids = np.squeeze(label_ids, axis=1)\n",
    "        sequences = sequences.astype(np.int32)\n",
    "        if self.kmer > 1:\n",
    "            sequences = dna.encode_kmers(sequences, self.kmer, not self.augment_ambiguous_bases).astype(np.int32) # type: ignore\n",
    "        return sample_ids, sequence_ids, sequences, tuple(label_ids.T)[-1]\n",
    "\n",
    "    def reduce_batch(self, batch):\n",
    "        # remove sample IDs and sequence IDs\n",
    "        return batch[2:]"
   ]
  },
  {
   "cell_type": "markdown",
   "id": "a0be0fe5-be19-4329-a04f-baf13a24eed2",
   "metadata": {},
   "source": [
    "## Model"
   ]
  },
  {
   "cell_type": "code",
   "execution_count": 23,
   "id": "cc66d20f-4d77-459a-a838-3367d852ea2e",
   "metadata": {},
   "outputs": [
    {
     "name": "stderr",
     "output_type": "stream",
     "text": [
      "Failed to detect the name of this notebook, you can set it manually with the WANDB_NOTEBOOK_NAME environment variable to enable code saving.\n",
      "\u001b[34m\u001b[1mwandb\u001b[0m: Currently logged in as: \u001b[33msirdavidludwig\u001b[0m. Use \u001b[1m`wandb login --relogin`\u001b[0m to force relogin\n"
     ]
    },
    {
     "data": {
      "text/html": [
       "wandb version 0.15.10 is available!  To upgrade, please run:\n",
       " $ pip install wandb --upgrade"
      ],
      "text/plain": [
       "<IPython.core.display.HTML object>"
      ]
     },
     "metadata": {},
     "output_type": "display_data"
    },
    {
     "data": {
      "text/html": [
       "Tracking run with wandb version 0.15.8"
      ],
      "text/plain": [
       "<IPython.core.display.HTML object>"
      ]
     },
     "metadata": {},
     "output_type": "display_data"
    },
    {
     "data": {
      "text/html": [
       "Run data is saved locally in <code>/home/dwl2x/work/deep-dna/notebooks/wandb/run-20230908_234313-9hk5aorr</code>"
      ],
      "text/plain": [
       "<IPython.core.display.HTML object>"
      ]
     },
     "metadata": {},
     "output_type": "display_data"
    },
    {
     "data": {
      "text/html": [
       "Syncing run <strong><a href='https://wandb.ai/sirdavidludwig/dnabert-taxonomy/runs/9hk5aorr' target=\"_blank\">topdown 64d-150l</a></strong> to <a href='https://wandb.ai/sirdavidludwig/dnabert-taxonomy' target=\"_blank\">Weights & Biases</a> (<a href='https://wandb.me/run' target=\"_blank\">docs</a>)<br/>"
      ],
      "text/plain": [
       "<IPython.core.display.HTML object>"
      ]
     },
     "metadata": {},
     "output_type": "display_data"
    },
    {
     "data": {
      "text/html": [
       " View project at <a href='https://wandb.ai/sirdavidludwig/dnabert-taxonomy' target=\"_blank\">https://wandb.ai/sirdavidludwig/dnabert-taxonomy</a>"
      ],
      "text/plain": [
       "<IPython.core.display.HTML object>"
      ]
     },
     "metadata": {},
     "output_type": "display_data"
    },
    {
     "data": {
      "text/html": [
       " View run at <a href='https://wandb.ai/sirdavidludwig/dnabert-taxonomy/runs/9hk5aorr' target=\"_blank\">https://wandb.ai/sirdavidludwig/dnabert-taxonomy/runs/9hk5aorr</a>"
      ],
      "text/plain": [
       "<IPython.core.display.HTML object>"
      ]
     },
     "metadata": {},
     "output_type": "display_data"
    }
   ],
   "source": [
    "# api = wandb.Api()\n",
    "run = wandb.init(project=\"dnabert-taxonomy\", name=\"topdown 64d-150l\")"
   ]
  },
  {
   "cell_type": "code",
   "execution_count": 24,
   "id": "e7cba1f3-9b72-4d69-8771-2e892441fe23",
   "metadata": {},
   "outputs": [
    {
     "name": "stderr",
     "output_type": "stream",
     "text": [
      "\u001b[34m\u001b[1mwandb\u001b[0m:   4 of 4 files downloaded.  \n"
     ]
    }
   ],
   "source": [
    "# path = api.artifact(\"sirdavidludwig/dnabert-pretrain/dnabert-pretrain-silva-64:v3\").download()\n",
    "path = run.use_artifact(\"sirdavidludwig/setbert-pretrain/setbert-pretrain-walker-abund-128d-250l:v3\").download()\n",
    "dnabert_model = load_model(path).base"
   ]
  },
  {
   "cell_type": "code",
   "execution_count": 25,
   "id": "baca7f3e-ca77-4814-b8e7-6b5b8ac41173",
   "metadata": {},
   "outputs": [],
   "source": [
    "encoder = dnabert.DnaBertEncoderModel(dnabert_model, 256)\n",
    "model = tax_models.TopDownTaxonomyClassificationModel(encoder, tokenizer)\n",
    "model.compile(optimizer=tf.keras.optimizers.Adam(1e-4))"
   ]
  },
  {
   "cell_type": "code",
   "execution_count": 7,
   "id": "c6be2284-4824-46c3-b91e-84978433c3cd",
   "metadata": {},
   "outputs": [],
   "source": [
    "common_args = dict(\n",
    "    sequence_length = 150,\n",
    "    kmer = 3,\n",
    "    taxonomy_tokenizer = model.taxonomy_tokenizer,\n",
    "    subsample_size=None,\n",
    "    batch_size = 256,\n",
    ")\n",
    "\n",
    "train_data = SequenceTaxonomyGenerator(\n",
    "    zip(train_fastas, train_tax),\n",
    "    batches_per_epoch=100,\n",
    "    **common_args)\n",
    "test_data = SequenceTaxonomyGenerator(\n",
    "    zip(test_fastas, test_tax),\n",
    "    batches_per_epoch=20,\n",
    "    shuffle=False,\n",
    "    **common_args)"
   ]
  },
  {
   "cell_type": "code",
   "execution_count": null,
   "id": "f50557cc-4038-465b-a960-aaed409bbe25",
   "metadata": {},
   "outputs": [],
   "source": [
    "model.tax"
   ]
  },
  {
   "cell_type": "code",
   "execution_count": 27,
   "id": "605fdf84-d31c-4821-9622-3afef0c86de4",
   "metadata": {},
   "outputs": [],
   "source": [
    "wandb_callback = wandb.keras.WandbCallback(save_model=False)\n",
    "wandb_callback.save_model_as_artifact = False\n",
    "checkpoint = tf.keras.callbacks.ModelCheckpoint(\"logs/models/dnabert_taxonomy_topdown\", save_best=False)"
   ]
  },
  {
   "cell_type": "code",
   "execution_count": null,
   "id": "73899004-8c5d-429b-b7ed-7b6c66606dad",
   "metadata": {
    "tags": []
   },
   "outputs": [
    {
     "name": "stdout",
     "output_type": "stream",
     "text": [
      "Epoch 3501/4000\n",
      "100/100 [==============================] - ETA: 0s - loss: 0.9723 - sparse_categorical_accuracy: 0.7764"
     ]
    },
    {
     "name": "stderr",
     "output_type": "stream",
     "text": [
      "WARNING:absl:Found untraced functions such as embedding_2_layer_call_fn, embedding_2_layer_call_and_return_conditional_losses, layer_normalization_32_layer_call_fn, layer_normalization_32_layer_call_and_return_conditional_losses, layer_normalization_33_layer_call_fn while saving (showing 5 of 178). These functions will not be directly callable after loading.\n"
     ]
    },
    {
     "name": "stdout",
     "output_type": "stream",
     "text": [
      "INFO:tensorflow:Assets written to: logs/models/dnabert_taxonomy_topdown/assets\n"
     ]
    },
    {
     "name": "stderr",
     "output_type": "stream",
     "text": [
      "INFO:tensorflow:Assets written to: logs/models/dnabert_taxonomy_topdown/assets\n"
     ]
    },
    {
     "name": "stdout",
     "output_type": "stream",
     "text": [
      "100/100 [==============================] - 46s 459ms/step - loss: 0.9723 - sparse_categorical_accuracy: 0.7764 - val_loss: 0.7770 - val_sparse_categorical_accuracy: 0.8207\n",
      "Epoch 3502/4000\n"
     ]
    },
    {
     "name": "stderr",
     "output_type": "stream",
     "text": [
      "/opt/conda/lib/python3.10/site-packages/keras/engine/functional.py:1384: CustomMaskWarning: Custom mask layers require a config and must override get_config. When loading, the custom mask layer must be passed to the custom_objects argument.\n",
      "  layer_config = serialize_layer_fn(layer)\n",
      "/opt/conda/lib/python3.10/site-packages/keras/saving/saved_model/layer_serialization.py:112: CustomMaskWarning: Custom mask layers require a config and must override get_config. When loading, the custom mask layer must be passed to the custom_objects argument.\n",
      "  return generic_utils.serialize_keras_object(obj)\n"
     ]
    },
    {
     "name": "stdout",
     "output_type": "stream",
     "text": [
      " 80/100 [=======================>......] - ETA: 6s - loss: 0.9537 - sparse_categorical_accuracy: 0.7813"
     ]
    }
   ],
   "source": [
    "model.fit(train_data, validation_data=test_data, epochs=4000, initial_epoch=3500, callbacks=[wandb_callback, checkpoint])"
   ]
  },
  {
   "cell_type": "code",
   "execution_count": 41,
   "id": "bc83aca8-a7c1-4ff4-bd0c-ea17f59ae8cd",
   "metadata": {},
   "outputs": [
    {
     "name": "stderr",
     "output_type": "stream",
     "text": [
      "WARNING:absl:Found untraced functions such as embedding_2_layer_call_fn, embedding_2_layer_call_and_return_conditional_losses, layer_normalization_32_layer_call_fn, layer_normalization_32_layer_call_and_return_conditional_losses, layer_normalization_33_layer_call_fn while saving (showing 5 of 178). These functions will not be directly callable after loading.\n"
     ]
    },
    {
     "name": "stdout",
     "output_type": "stream",
     "text": [
      "INFO:tensorflow:Assets written to: logs/models/dnabert_taxonomy_topdown/assets\n"
     ]
    },
    {
     "name": "stderr",
     "output_type": "stream",
     "text": [
      "INFO:tensorflow:Assets written to: logs/models/dnabert_taxonomy_topdown/assets\n",
      "/opt/conda/lib/python3.10/site-packages/keras/engine/functional.py:1384: CustomMaskWarning: Custom mask layers require a config and must override get_config. When loading, the custom mask layer must be passed to the custom_objects argument.\n",
      "  layer_config = serialize_layer_fn(layer)\n",
      "/opt/conda/lib/python3.10/site-packages/keras/saving/saved_model/layer_serialization.py:112: CustomMaskWarning: Custom mask layers require a config and must override get_config. When loading, the custom mask layer must be passed to the custom_objects argument.\n",
      "  return generic_utils.serialize_keras_object(obj)\n"
     ]
    }
   ],
   "source": [
    "model.save(\"logs/models/dnabert_taxonomy_topdown\")"
   ]
  },
  {
   "cell_type": "code",
   "execution_count": 42,
   "id": "e4500eed-a749-4459-9ad0-b3e1dbc94f5e",
   "metadata": {},
   "outputs": [],
   "source": [
    "a = wandb.Artifact(name=\"dnabert-taxonomy-topdown-64d-150l\", type=\"model\")"
   ]
  },
  {
   "cell_type": "code",
   "execution_count": 43,
   "id": "567113a8-5853-4a4f-942d-7985a922c2ab",
   "metadata": {},
   "outputs": [
    {
     "name": "stderr",
     "output_type": "stream",
     "text": [
      "\u001b[34m\u001b[1mwandb\u001b[0m: Adding directory to artifact (./logs/models/dnabert_taxonomy_topdown)... Done. 0.1s\n"
     ]
    }
   ],
   "source": [
    "a.add_dir(\"logs/models/dnabert_taxonomy_topdown\")"
   ]
  },
  {
   "cell_type": "code",
   "execution_count": 44,
   "id": "e2054e2e-f842-4fd5-9e76-683c38cdb101",
   "metadata": {},
   "outputs": [
    {
     "data": {
      "text/plain": [
       "<Artifact dnabert-taxonomy-topdown-64d-150l>"
      ]
     },
     "execution_count": 44,
     "metadata": {},
     "output_type": "execute_result"
    }
   ],
   "source": [
    "run.log_artifact(a)"
   ]
  },
  {
   "cell_type": "code",
   "execution_count": 45,
   "id": "dcd5f589-bebc-4848-98ae-17576ef6ccff",
   "metadata": {},
   "outputs": [
    {
     "data": {
      "text/html": [
       "Waiting for W&B process to finish... <strong style=\"color:green\">(success).</strong>"
      ],
      "text/plain": [
       "<IPython.core.display.HTML object>"
      ]
     },
     "metadata": {},
     "output_type": "display_data"
    },
    {
     "data": {
      "application/vnd.jupyter.widget-view+json": {
       "model_id": "af97f86f773341e58396c5e6cf0cd50f",
       "version_major": 2,
       "version_minor": 0
      },
      "text/plain": [
       "VBox(children=(Label(value='37.560 MB of 37.560 MB uploaded (0.000 MB deduped)\\r'), FloatProgress(value=1.0, m…"
      ]
     },
     "metadata": {},
     "output_type": "display_data"
    },
    {
     "name": "stderr",
     "output_type": "stream",
     "text": [
      "wandb: WARNING Source type is set to 'repo' but some required information is missing from the environment. A job will not be created from this run. See https://docs.wandb.ai/guides/launch/create-job\n"
     ]
    },
    {
     "data": {
      "text/html": [
       "<style>\n",
       "    table.wandb td:nth-child(1) { padding: 0 10px; text-align: left ; width: auto;} td:nth-child(2) {text-align: left ; width: 100%}\n",
       "    .wandb-row { display: flex; flex-direction: row; flex-wrap: wrap; justify-content: flex-start; width: 100% }\n",
       "    .wandb-col { display: flex; flex-direction: column; flex-basis: 100%; flex: 1; padding: 10px; }\n",
       "    </style>\n",
       "<div class=\"wandb-row\"><div class=\"wandb-col\"><h3>Run history:</h3><br/><table class=\"wandb\"><tr><td>epoch</td><td>▁▁▁▂▂▂▂▂▂▃▃▃▃▃▄▄▄▄▄▄▅▅▅▅▅▅▆▆▆▆▆▇▇▇▇▇▇███</td></tr><tr><td>loss</td><td>█▅▄▃▃▃▃▂▂▂▂▂▂▂▂▂▂▂▂▂▂▁▁▁▁▁▁▁▁▁▁▁▁▁▁▁▁▁▁▁</td></tr><tr><td>sparse_categorical_accuracy</td><td>▁▄▅▅▆▆▆▆▇▇▇▇▇▇▇▇▇▇▇▇▇▇▇█████████████████</td></tr><tr><td>val_loss</td><td>█▅▄▃▃▃▂▂▂▂▂▂▂▂▂▂▁▁▁▁▁▁▁▁▁▁▁▁▁▁▁▁▁▁▁▁▁▁▁▁</td></tr><tr><td>val_sparse_categorical_accuracy</td><td>▁▄▅▅▆▆▆▆▇▇▇▇▇▇▇▇▇▇▇▇▇▇▇█████████████████</td></tr></table><br/></div><div class=\"wandb-col\"><h3>Run summary:</h3><br/><table class=\"wandb\"><tr><td>best_epoch</td><td>3996</td></tr><tr><td>best_val_loss</td><td>0.69509</td></tr><tr><td>epoch</td><td>3999</td></tr><tr><td>loss</td><td>0.93143</td></tr><tr><td>sparse_categorical_accuracy</td><td>0.78461</td></tr><tr><td>val_loss</td><td>0.82545</td></tr><tr><td>val_sparse_categorical_accuracy</td><td>0.81738</td></tr></table><br/></div></div>"
      ],
      "text/plain": [
       "<IPython.core.display.HTML object>"
      ]
     },
     "metadata": {},
     "output_type": "display_data"
    },
    {
     "data": {
      "text/html": [
       " View run <strong style=\"color:#cdcd00\">topdown 64d-150l</strong> at: <a href='https://wandb.ai/sirdavidludwig/dnabert-taxonomy/runs/9hk5aorr' target=\"_blank\">https://wandb.ai/sirdavidludwig/dnabert-taxonomy/runs/9hk5aorr</a><br/>Synced 6 W&B file(s), 1 media file(s), 4 artifact file(s) and 0 other file(s)"
      ],
      "text/plain": [
       "<IPython.core.display.HTML object>"
      ]
     },
     "metadata": {},
     "output_type": "display_data"
    },
    {
     "data": {
      "text/html": [
       "Find logs at: <code>./wandb/run-20230908_234313-9hk5aorr/logs</code>"
      ],
      "text/plain": [
       "<IPython.core.display.HTML object>"
      ]
     },
     "metadata": {},
     "output_type": "display_data"
    }
   ],
   "source": [
    "run.finish()"
   ]
  },
  {
   "cell_type": "code",
   "execution_count": 8,
   "id": "9decb771-7f72-4d24-afd6-871689e4c50f",
   "metadata": {},
   "outputs": [
    {
     "name": "stdout",
     "output_type": "stream",
     "text": [
      "20/20 [==============================] - 3s 79ms/step\n"
     ]
    },
    {
     "name": "stderr",
     "output_type": "stream",
     "text": [
      "2023-09-13 19:14:34.000933: W tensorflow/core/framework/cpu_allocator_impl.cc:82] Allocation of 226713600 exceeds 10% of free system memory.\n"
     ]
    }
   ],
   "source": [
    "y_pred = model.predictive_model.predict(test_data)"
   ]
  },
  {
   "cell_type": "markdown",
   "id": "5eb99d88-b10d-4b0e-9008-734ae59a2781",
   "metadata": {},
   "source": [
    "### Direct Mapping to Taxons"
   ]
  },
  {
   "cell_type": "code",
   "execution_count": 9,
   "id": "1248219e-05ee-49b1-9162-3edd3ca35ab0",
   "metadata": {},
   "outputs": [
    {
     "data": {
      "text/plain": [
       "(5120, 6)"
      ]
     },
     "execution_count": 9,
     "metadata": {},
     "output_type": "execute_result"
    }
   ],
   "source": [
    "label_ids = []\n",
    "for rank in y_pred:\n",
    "    label_ids.append(np.argmax(rank, axis=1))\n",
    "label_ids = np.array(label_ids).T\n",
    "label_ids.shape"
   ]
  },
  {
   "cell_type": "code",
   "execution_count": 10,
   "id": "d94a635b-8aec-476c-b36c-5c7185a04a0c",
   "metadata": {},
   "outputs": [
    {
     "data": {
      "text/plain": [
       "'k__Bacteria; p__Proteobacteria; c__Gammaproteobacteria; o__Enterobacterales; f__Pasteurellaceae; g__Haemophilus'"
      ]
     },
     "execution_count": 10,
     "metadata": {},
     "output_type": "execute_result"
    }
   ],
   "source": [
    "taxonomy.join_taxonomy(model.taxonomy_tokenizer.id_to_taxons_map[-1][test_data[0][1][0]])"
   ]
  },
  {
   "cell_type": "code",
   "execution_count": 11,
   "id": "3a389bea-23e7-4f0a-a784-2f1817100d50",
   "metadata": {},
   "outputs": [
    {
     "data": {
      "text/plain": [
       "5120"
      ]
     },
     "execution_count": 11,
     "metadata": {},
     "output_type": "execute_result"
    }
   ],
   "source": [
    "labels_true = []\n",
    "for token in np.concatenate([np.array(batch[1]).T for batch in test_data], axis=0):\n",
    "    labels_true.append(taxonomy.join_taxonomy(tuple(model.taxonomy_tokenizer.id_to_taxons_map[-1][token])))\n",
    "len(labels_true)"
   ]
  },
  {
   "cell_type": "code",
   "execution_count": 110,
   "id": "ace2ab45-359f-4e11-9ede-fdc40367f010",
   "metadata": {},
   "outputs": [],
   "source": [
    "labels_pred = model.predictions_to_labels(y_pred[-1])"
   ]
  },
  {
   "cell_type": "code",
   "execution_count": 111,
   "id": "4c51ca1c-4520-4aa9-9fd5-04ddfdfffe4a",
   "metadata": {},
   "outputs": [
    {
     "data": {
      "text/plain": [
       "4182"
      ]
     },
     "execution_count": 111,
     "metadata": {},
     "output_type": "execute_result"
    }
   ],
   "source": [
    "correct = 0\n",
    "for y_p, y_t in zip(labels_true, labels_pred):\n",
    "    correct += y_p == y_t\n",
    "correct"
   ]
  },
  {
   "cell_type": "code",
   "execution_count": 112,
   "id": "b376fa75-9830-4f35-9b7e-72b46ce7c89c",
   "metadata": {},
   "outputs": [
    {
     "data": {
      "text/plain": [
       "0.816796875"
      ]
     },
     "execution_count": 112,
     "metadata": {},
     "output_type": "execute_result"
    }
   ],
   "source": [
    "correct/len(labels_true)"
   ]
  },
  {
   "cell_type": "markdown",
   "id": "131188b6-3165-45e1-a416-08aa62bcbc50",
   "metadata": {},
   "source": [
    "### Constrain Taxon Selection using Tree"
   ]
  },
  {
   "cell_type": "code",
   "execution_count": 79,
   "id": "3301fe9d-a61a-414c-8e89-5581bb2e7d3d",
   "metadata": {},
   "outputs": [
    {
     "data": {
      "text/plain": [
       "5120"
      ]
     },
     "execution_count": 79,
     "metadata": {},
     "output_type": "execute_result"
    }
   ],
   "source": [
    "labels_true = []\n",
    "for token in np.concatenate([np.array(batch[1]).T for batch in test_data], axis=0):\n",
    "    labels_true.append(taxonomy.join_taxonomy(tuple(model.taxonomy_tokenizer.id_to_taxons_map[-1][token])))\n",
    "len(labels_true)"
   ]
  },
  {
   "cell_type": "code",
   "execution_count": 80,
   "id": "d0967dc9-6da0-486f-a568-5c262db4159a",
   "metadata": {},
   "outputs": [
    {
     "data": {
      "text/plain": [
       "5120"
      ]
     },
     "execution_count": 80,
     "metadata": {},
     "output_type": "execute_result"
    }
   ],
   "source": [
    "n = len(y_pred[0])\n",
    "labels_pred = []\n",
    "for i in range(n):\n",
    "    head = model.taxonomy_tokenizer.tree\n",
    "    taxons = ()\n",
    "    constrained_indices = np.array([model.taxonomy_tokenizer.taxons_to_id_map[taxons + (k,)] for k in head.keys()])\n",
    "    for rank, rank_pred in enumerate(y_pred):\n",
    "        taxon_id = (constrained_indices[np.argmax(rank_pred[i][constrained_indices])])\n",
    "        taxon = model.taxonomy_tokenizer.id_to_taxons_map[rank][taxon_id][-1]\n",
    "        taxons += (taxon,)\n",
    "        if rank < model.taxonomy_tokenizer.depth:\n",
    "            head = head[taxon]\n",
    "            constrained_indices = np.array([model.taxonomy_tokenizer.taxons_to_id_map[taxons + (k,)] for k in head.keys()])\n",
    "    labels_pred.append(taxonomy.join_taxonomy(taxons))\n",
    "len(labels_pred)"
   ]
  },
  {
   "cell_type": "code",
   "execution_count": 81,
   "id": "497b3ec1-5973-48e3-ae7c-3dacd32ce8cf",
   "metadata": {},
   "outputs": [
    {
     "data": {
      "text/plain": [
       "587"
      ]
     },
     "execution_count": 81,
     "metadata": {},
     "output_type": "execute_result"
    }
   ],
   "source": [
    "correct = 0\n",
    "for y_p, y_t in zip(labels_true, labels_pred):\n",
    "    correct += y_p == y_t\n",
    "correct"
   ]
  },
  {
   "cell_type": "code",
   "execution_count": 38,
   "id": "17395675-f566-454d-a8a0-156a9cf5106b",
   "metadata": {},
   "outputs": [
    {
     "data": {
      "text/plain": [
       "0.7498046875"
      ]
     },
     "execution_count": 38,
     "metadata": {},
     "output_type": "execute_result"
    }
   ],
   "source": [
    "correct/len(labels_true)"
   ]
  },
  {
   "cell_type": "markdown",
   "id": "1b474a07-d5c9-4dff-8f83-cd3c7970b497",
   "metadata": {},
   "source": [
    "## Synthetic Sample Evaluation"
   ]
  },
  {
   "cell_type": "code",
   "execution_count": 7,
   "id": "986da5d3-ddba-4318-875d-82c423a8445f",
   "metadata": {},
   "outputs": [],
   "source": [
    "def taxons_to_label(tokenizer, y_pred):\n",
    "    n = len(y_pred[0])\n",
    "    labels_pred = []\n",
    "    for i in range(n):\n",
    "        head = tokenizer.tree\n",
    "        constrained_indices = np.array([tokenizer.taxon_to_id_map[0][k] for k in head.keys()])\n",
    "        taxons = []\n",
    "        for rank, rank_pred in enumerate(y_pred):\n",
    "            taxon_id = (constrained_indices[np.argmax(rank_pred[i][constrained_indices])])\n",
    "            taxon = tokenizer.id_to_taxon_map[rank][taxon_id]\n",
    "            taxons.append(taxon)\n",
    "            if rank < tokenizer.depth:\n",
    "                head = head[taxon]\n",
    "                constrained_indices = np.array([tokenizer.taxon_to_id_map[rank+1][k] for k in head.keys()])\n",
    "        labels_pred.append(taxonomy.join_taxonomy(taxons))\n",
    "    return labels_pred"
   ]
  },
  {
   "cell_type": "code",
   "execution_count": 8,
   "id": "18848a9c-5683-48e6-bd06-233a0fcc8b6e",
   "metadata": {},
   "outputs": [
    {
     "name": "stderr",
     "output_type": "stream",
     "text": [
      "\u001b[34m\u001b[1mwandb\u001b[0m:   4 of 4 files downloaded.  \n"
     ]
    }
   ],
   "source": [
    "api = wandb.Api()\n",
    "path = api.artifact(\"sirdavidludwig/dnabert-taxonomy/dnabert-taxonomy-topdown-64d-150l:latest\").download()\n",
    "model = load_model(path)"
   ]
  },
  {
   "cell_type": "code",
   "execution_count": 8,
   "id": "aa9aa844-5799-4b9a-8007-a37036e4d19d",
   "metadata": {},
   "outputs": [
    {
     "name": "stdout",
     "output_type": "stream",
     "text": [
      "20/20 [==============================] - 3s 79ms/step\n"
     ]
    },
    {
     "name": "stderr",
     "output_type": "stream",
     "text": [
      "2023-09-13 19:13:01.859482: W tensorflow/core/framework/cpu_allocator_impl.cc:82] Allocation of 226713600 exceeds 10% of free system memory.\n"
     ]
    },
    {
     "data": {
      "text/plain": [
       "array(['k__Bacteria; p__Proteobacteria; c__Gammaproteobacteria; o__Pseudomonadales; f__Moraxellaceae; g__Enhydrobacter',\n",
       "       'k__Bacteria; p__Firmicutes; c__Bacilli; o__Staphylococcales; f__Staphylococcaceae; g__Staphylococcus',\n",
       "       'k__Bacteria; p__Bacteroidota; c__Bacteroidia; o__Bacteroidales; f__SB-5; g__SB-5',\n",
       "       ...,\n",
       "       'k__Bacteria; p__Verrucomicrobiota; c__Verrucomicrobiae; o__Chthoniobacterales; f__01D2Z36; g__01D2Z36',\n",
       "       'k__Bacteria; p__Proteobacteria; c__Gammaproteobacteria; o__Pseudomonadales; f__Marinobacteraceae; g__Marinobacter',\n",
       "       'k__Bacteria; p__Verrucomicrobiota; c__Chlamydiae; o__Chlamydiales; f__Chlamydiaceae; g__Chlamydia'],\n",
       "      dtype='<U190')"
      ]
     },
     "execution_count": 8,
     "metadata": {},
     "output_type": "execute_result"
    }
   ],
   "source": [
    "model.classify(test_data)"
   ]
  },
  {
   "cell_type": "code",
   "execution_count": 39,
   "id": "b204bf92-7d25-4bd1-b6cf-a3ce73facc6b",
   "metadata": {},
   "outputs": [],
   "source": [
    "model_type = \"Naive\""
   ]
  },
  {
   "cell_type": "code",
   "execution_count": 40,
   "id": "5fae6613-fa3d-4194-9038-a3057e232bd6",
   "metadata": {},
   "outputs": [],
   "source": [
    "datasets = {\n",
    "    \"Nachusa\": Dataset(f\"/home/dwl2x/work/Datasets/Synthetic/Nachusa/{model_type}/test\"),\n",
    "    # \"Hopland\": Dataset(f\"/home/dwl2x/work/Datasets/Synthetic/Hopland/{model_type}/test\"),\n",
    "    # \"Wetland\": Dataset(f\"/home/dwl2x/work/Datasets/Synthetic/Wetland/{model_type}/test\"),\n",
    "    # \"SFD\": Dataset(f\"/home/dwl2x/work/Datasets/Synthetic/SFD/{model_type}/test\")\n",
    "}"
   ]
  },
  {
   "cell_type": "code",
   "execution_count": 41,
   "id": "15407a21-1d62-4c0d-b88b-d9081747a766",
   "metadata": {},
   "outputs": [
    {
     "name": "stdout",
     "output_type": "stream",
     "text": [
      "Nachusa\n",
      "2100 ; Accuracy: 76.49%"
     ]
    }
   ],
   "source": [
    "dataset_accuracies = {}\n",
    "for dataset_name, dataset in datasets.items():\n",
    "    clear_output()\n",
    "    print(dataset_name)\n",
    "    accuracies = []\n",
    "    for i, (sample_file, tax_file) in enumerate(zip(\n",
    "        dataset.fastas(Dataset.Split.Train),\n",
    "        dataset.taxonomies(Dataset.Split.Train)\n",
    "    )):\n",
    "        print(f\"\\r{i+1:<5}; Accuracy: {np.mean(accuracies):.2%}\", end=\"\")\n",
    "        sequences = []\n",
    "        taxonomies = []\n",
    "        for sequence, tax in fasta.entries_with_taxonomy(fasta.entries(sample_file), taxonomy.entries(tax_file)):\n",
    "            sequences.append(dna.encode_sequence(sequence.sequence))\n",
    "            taxonomies.append(model.taxonomy_tokenizer.tokenize_label(tax.label)[-1])\n",
    "        sequences = np.array(sequences)\n",
    "        sequences = dna.encode_kmers(sequences, 3)\n",
    "        taxonomies = np.array(taxonomies)\n",
    "        _, accuracy = model.evaluate(sequences, taxonomies, batch_size=256, verbose=False)\n",
    "        accuracies.append(accuracy)\n",
    "    dataset_accuracies[dataset_name] = accuracies"
   ]
  },
  {
   "cell_type": "code",
   "execution_count": 42,
   "id": "3d69ec47-1eed-4d72-8e11-82a61c43fd56",
   "metadata": {},
   "outputs": [
    {
     "name": "stdout",
     "output_type": "stream",
     "text": [
      "test\n"
     ]
    }
   ],
   "source": [
    "def decorator(f):\n",
    "    print(f.__name__)\n",
    "    return f\n",
    "\n",
    "@decorator\n",
    "def test():\n",
    "    print(\"Hello\")\n",
    "\n"
   ]
  },
  {
   "cell_type": "markdown",
   "id": "7bc0d908-8fcb-4b0e-87a0-28e0884f469c",
   "metadata": {},
   "source": [
    "DNABERT TopDown Accuracy"
   ]
  },
  {
   "cell_type": "code",
   "execution_count": 18,
   "id": "31d2d188-6be0-4840-978c-6eb2064ae755",
   "metadata": {},
   "outputs": [
    {
     "name": "stdout",
     "output_type": "stream",
     "text": [
      "DNABERT Topdown [Naive Samples]:\n",
      "\n",
      "Evaluated across 210 Samples (10 subsamples of 1,000 sequences each):\n",
      "Metrics are computed across 2,100 subsamples.\n",
      "Min: 70.300001%\n",
      "Mean: 76.512286%\n",
      "Max: 91.000003%\n",
      "STD: 2.323298%\n",
      "\n",
      "Evaluated across 210 Samples (10 subsamples of 1,000 sequences each):\n",
      "Metrics are computed across 2,100 subsamples.\n",
      "Min: 73.299998%\n",
      "Mean: 78.947422%\n",
      "Max: 83.999997%\n",
      "STD: 1.712398%\n",
      "\n",
      "Evaluated across 210 Samples (10 subsamples of 1,000 sequences each):\n",
      "Metrics are computed across 2,100 subsamples.\n",
      "Min: 33.399999%\n",
      "Mean: 74.054922%\n",
      "Max: 81.500000%\n",
      "STD: 6.523788%\n",
      "\n",
      "Evaluated across 210 Samples (10 subsamples of 1,000 sequences each):\n",
      "Metrics are computed across 2,100 subsamples.\n",
      "Min: 13.699999%\n",
      "Mean: 79.166201%\n",
      "Max: 97.299999%\n",
      "STD: 8.211418%\n",
      "\n"
     ]
    }
   ],
   "source": [
    "print(\"DNABERT Topdown [Naive Samples]:\")\n",
    "print()\n",
    "for dataset_name, accuracies in dataset_accuracies.items():\n",
    "    print(\"Evaluated across 210 Samples (10 subsamples of 1,000 sequences each):\")\n",
    "    print(\"Metrics are computed across 2,100 subsamples.\")\n",
    "    print(f\"Min: {np.min(accuracies):%}\")\n",
    "    print(f\"Mean: {np.mean(accuracies):%}\")\n",
    "    print(f\"Max: {np.max(accuracies):%}\")\n",
    "    print(f\"STD: {np.std(accuracies):%}\")\n",
    "    print()"
   ]
  },
  {
   "cell_type": "code",
   "execution_count": 22,
   "id": "d4cef077-84e6-4a68-a915-6999bd099dee",
   "metadata": {},
   "outputs": [
    {
     "name": "stdout",
     "output_type": "stream",
     "text": [
      "DNABERT Topdown Overall [Naive Samples]:\n",
      "Evaluated across 1,993 Samples (10 subsamples of 1,000 sequences each):\n",
      "Metrics are computed across 19,930 subsamples.\n",
      "Min: 13.699999%\n",
      "Mean: 76.902885%\n",
      "Max: 97.299999%\n",
      "STD: 7.270244%\n",
      "\n"
     ]
    }
   ],
   "source": [
    "n = sum(len(a) for a in dataset_accuracies.values())\n",
    "print(\"DNABERT Topdown Overall [Naive Samples]:\")\n",
    "print(f\"Evaluated across {n//10:,} Samples (10 subsamples of 1,000 sequences each):\")\n",
    "print(f\"Metrics are computed across {n:,} subsamples.\")\n",
    "print(f\"Min: {np.min(np.concatenate(list(dataset_accuracies.values()))):%}\")\n",
    "print(f\"Mean: {np.mean(np.concatenate(list(dataset_accuracies.values()))):%}\")\n",
    "print(f\"Max: {np.max(np.concatenate(list(dataset_accuracies.values()))):%}\")\n",
    "print(f\"STD: {np.std(np.concatenate(list(dataset_accuracies.values()))):%}\")\n",
    "print()"
   ]
  },
  {
   "cell_type": "code",
   "execution_count": 38,
   "id": "1f229ffb-e924-486d-8645-ab70f25cc11b",
   "metadata": {},
   "outputs": [],
   "source": [
    "with open(f\"./logs/dnabert_taxonomy_{model_type.lower()}_topdown_accuracies.txt\", 'wb') as f:\n",
    "    pickle.dump(dataset_accuracies, f)"
   ]
  },
  {
   "cell_type": "code",
   "execution_count": 34,
   "id": "86f8c3a4-8ce0-4d88-b641-6ffc61298f5e",
   "metadata": {},
   "outputs": [
    {
     "data": {
      "image/png": "[encoded data removed]",
      "text/plain": [
       "<Figure size 640x480 with 1 Axes>"
      ]
     },
     "metadata": {},
     "output_type": "display_data"
    }
   ],
   "source": [
    "labels = list(dataset_accuracies.keys())\n",
    "accuracies = list(dataset_accuracies.values())\n",
    "plt.title(f\"DNABERT Topdown Accuracy [DNABERT {model_type} Samples]\")\n",
    "plt.boxplot(accuracies, labels=labels, notch=True)\n",
    "plt.show()"
   ]
  },
  {
   "cell_type": "code",
   "execution_count": 111,
   "id": "84d1c917-85c9-4b3b-a68d-a66d3836ae0d",
   "metadata": {},
   "outputs": [
    {
     "name": "stdout",
     "output_type": "stream",
     "text": [
      "DNABERT (TopDown Predictions):\n",
      "Evaluated across 210 Samples (10 subsamples of 1,000 sequences each):\n",
      "Metrics are computed across 2,100 subsamples.\n",
      "Min: 70.800000%\n",
      "Mean: 76.501286%\n",
      "Max: 91.700000%\n",
      "STD: 2.289634%\n"
     ]
    }
   ],
   "source": [
    "print(\"DNABERT (TopDown Predictions):\")\n",
    "print(\"Evaluated across 210 Samples (10 subsamples of 1,000 sequences each):\")\n",
    "print(\"Metrics are computed across 2,100 subsamples.\")\n",
    "print(f\"Min: {np.min(accuracies):%}\")\n",
    "print(f\"Mean: {np.mean(accuracies):%}\")\n",
    "print(f\"Max: {np.max(accuracies):%}\")\n",
    "print(f\"STD: {np.std(accuracies):%}\")"
   ]
  },
  {
   "cell_type": "code",
   "execution_count": 112,
   "id": "0f3513c3-a43c-4f31-b408-6833809cf7de",
   "metadata": {},
   "outputs": [
    {
     "data": {
      "image/png": "[encoded data removed]",
      "text/plain": [
       "<Figure size 640x480 with 1 Axes>"
      ]
     },
     "metadata": {},
     "output_type": "display_data"
    }
   ],
   "source": [
    "plt.boxplot(accuracies, notch=True)\n",
    "plt.title(\"DNABERT (TopDown) Accuracy across 2,100 Subsamples\")\n",
    "plt.grid()"
   ]
  },
  {
   "cell_type": "code",
   "execution_count": 113,
   "id": "cb051fc2-cfe0-4535-ad80-bdab1a85a9ce",
   "metadata": {},
   "outputs": [],
   "source": [
    "np.savetxt(\"./logs/dnabert_taxonomy_topdown_accuracy.txt\", accuracies)"
   ]
  },
  {
   "cell_type": "code",
   "execution_count": null,
   "id": "7fb197d7-cb50-4f38-93cf-2edd07fb9f81",
   "metadata": {},
   "outputs": [],
   "source": []
  }
 ],
 "metadata": {
  "kernelspec": {
   "display_name": "Python 3 (ipykernel)",
   "language": "python",
   "name": "python3"
  },
  "language_info": {
   "codemirror_mode": {
    "name": "ipython",
    "version": 3
   },
   "file_extension": ".py",
   "mimetype": "text/x-python",
   "name": "python",
   "nbconvert_exporter": "python",
   "pygments_lexer": "ipython3",
   "version": "3.10.6"
  }
 },
 "nbformat": 4,
 "nbformat_minor": 5
}
