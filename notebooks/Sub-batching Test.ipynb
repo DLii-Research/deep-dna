{
 "cells": [
  {
   "cell_type": "code",
   "execution_count": 1,
   "id": "f060084b-0fd2-4820-9b21-ca3545c75ba3",
   "metadata": {},
   "outputs": [],
   "source": [
    "import matplotlib.pyplot as plt\n",
    "import bootstrap\n",
    "import numpy as np\n",
    "import tensorflow as tf\n",
    "import tensorflow.keras as keras\n",
    "import tensorflow_probability as tfp\n",
    "import tf_utils as tfu\n",
    "import time\n",
    "import os\n",
    "import wandb"
   ]
  },
  {
   "cell_type": "code",
   "execution_count": 2,
   "id": "78215126-b994-4bfc-bcff-4146aeca2720",
   "metadata": {},
   "outputs": [],
   "source": [
    "from common.data import find_dbs, DnaSequenceGenerator, DnaLabelType\n",
    "from common.models import dnabert\n",
    "from common.utils import subbatch_train_step"
   ]
  },
  {
   "cell_type": "code",
   "execution_count": 3,
   "id": "ff092ace-939e-4ac6-9cc1-36d64afaf3e3",
   "metadata": {},
   "outputs": [
    {
     "name": "stderr",
     "output_type": "stream",
     "text": [
      "2022-07-03 08:13:51.409639: I tensorflow/stream_executor/cuda/cuda_gpu_executor.cc:936] successful NUMA node read from SysFS had negative value (-1), but there must be at least one NUMA node, so returning NUMA node zero\n",
      "2022-07-03 08:13:51.409963: I tensorflow/stream_executor/cuda/cuda_gpu_executor.cc:936] successful NUMA node read from SysFS had negative value (-1), but there must be at least one NUMA node, so returning NUMA node zero\n",
      "2022-07-03 08:13:51.417105: I tensorflow/stream_executor/cuda/cuda_gpu_executor.cc:936] successful NUMA node read from SysFS had negative value (-1), but there must be at least one NUMA node, so returning NUMA node zero\n",
      "2022-07-03 08:13:51.417326: I tensorflow/stream_executor/cuda/cuda_gpu_executor.cc:936] successful NUMA node read from SysFS had negative value (-1), but there must be at least one NUMA node, so returning NUMA node zero\n",
      "2022-07-03 08:13:51.417498: I tensorflow/stream_executor/cuda/cuda_gpu_executor.cc:936] successful NUMA node read from SysFS had negative value (-1), but there must be at least one NUMA node, so returning NUMA node zero\n",
      "2022-07-03 08:13:51.417668: I tensorflow/stream_executor/cuda/cuda_gpu_executor.cc:936] successful NUMA node read from SysFS had negative value (-1), but there must be at least one NUMA node, so returning NUMA node zero\n",
      "2022-07-03 08:13:51.418771: I tensorflow/core/platform/cpu_feature_guard.cc:151] This TensorFlow binary is optimized with oneAPI Deep Neural Network Library (oneDNN) to use the following CPU instructions in performance-critical operations:  SSE4.1 SSE4.2 AVX AVX2 FMA\n",
      "To enable them in other operations, rebuild TensorFlow with the appropriate compiler flags.\n",
      "2022-07-03 08:13:51.421139: I tensorflow/stream_executor/cuda/cuda_gpu_executor.cc:936] successful NUMA node read from SysFS had negative value (-1), but there must be at least one NUMA node, so returning NUMA node zero\n",
      "2022-07-03 08:13:51.421325: I tensorflow/stream_executor/cuda/cuda_gpu_executor.cc:936] successful NUMA node read from SysFS had negative value (-1), but there must be at least one NUMA node, so returning NUMA node zero\n",
      "2022-07-03 08:13:51.421492: I tensorflow/stream_executor/cuda/cuda_gpu_executor.cc:936] successful NUMA node read from SysFS had negative value (-1), but there must be at least one NUMA node, so returning NUMA node zero\n",
      "2022-07-03 08:13:51.860926: I tensorflow/stream_executor/cuda/cuda_gpu_executor.cc:936] successful NUMA node read from SysFS had negative value (-1), but there must be at least one NUMA node, so returning NUMA node zero\n",
      "2022-07-03 08:13:51.861143: I tensorflow/stream_executor/cuda/cuda_gpu_executor.cc:936] successful NUMA node read from SysFS had negative value (-1), but there must be at least one NUMA node, so returning NUMA node zero\n",
      "2022-07-03 08:13:51.861315: I tensorflow/stream_executor/cuda/cuda_gpu_executor.cc:936] successful NUMA node read from SysFS had negative value (-1), but there must be at least one NUMA node, so returning NUMA node zero\n",
      "2022-07-03 08:13:51.861466: I tensorflow/core/common_runtime/gpu/gpu_device.cc:1525] Created device /job:localhost/replica:0/task:0/device:GPU:0 with 20977 MB memory:  -> device: 0, name: NVIDIA GeForce RTX 3090, pci bus id: 0000:01:00.0, compute capability: 8.6\n"
     ]
    }
   ],
   "source": [
    "strategy = tfu.strategy.gpu(0)"
   ]
  },
  {
   "cell_type": "code",
   "execution_count": 4,
   "id": "851e84f3-7ef6-47b0-a29b-2279856a398f",
   "metadata": {},
   "outputs": [
    {
     "name": "stderr",
     "output_type": "stream",
     "text": [
      "\u001b[34m\u001b[1mwandb\u001b[0m: Downloading large artifact dnasamples:latest, 12237.27MB. 1260 files... Done. 0:0:0.1\n"
     ]
    }
   ],
   "source": [
    "api = wandb.Api()\n",
    "\n",
    "dataset_path = api.artifact(\"nachusa-dna/dnasamples:latest\").download()\n",
    "dataset_path\n",
    "\n",
    "samples = find_dbs(os.path.join(dataset_path, \"train\"))\n",
    "len(samples)\n",
    "\n",
    "def create_model(seed=0):\n",
    "    keras.utils.set_random_seed(seed)\n",
    "    dataset = DnaSequenceGenerator(\n",
    "        samples=samples,\n",
    "        sequence_length=150,\n",
    "        batch_size=512,\n",
    "        kmer=3,\n",
    "        labels=DnaLabelType.KMer,\n",
    "        rng=np.random.default_rng(seed)\n",
    "    )\n",
    "    \n",
    "    base = dnabert.DnaBertModel(\n",
    "        length=150,\n",
    "        kmer=3,\n",
    "        embed_dim=8,\n",
    "        stack=8,\n",
    "        num_heads=12,\n",
    "        pre_layernorm=True)\n",
    "\n",
    "    pretrain = dnabert.DnaBertPretrainModel(base)\n",
    "    pretrain.compile(\n",
    "        loss=keras.losses.SparseCategoricalCrossentropy(from_logits=True),\n",
    "        optimizer=keras.optimizers.Adam(1e-4),\n",
    "        metrics=keras.metrics.SparseCategoricalAccuracy()\n",
    "    )\n",
    "    return dataset, pretrain"
   ]
  },
  {
   "cell_type": "code",
   "execution_count": 19,
   "id": "de539b9a-491f-4efd-93ae-28acf4377cef",
   "metadata": {},
   "outputs": [
    {
     "name": "stdout",
     "output_type": "stream",
     "text": [
      "128/128 [==============================] - 44s 312ms/step - loss: 0.7156 - sparse_categorical_accuracy: 0.0190\n"
     ]
    },
    {
     "data": {
      "text/plain": [
       "<keras.callbacks.History at 0x7fcf7c05aa10>"
      ]
     },
     "execution_count": 19,
     "metadata": {},
     "output_type": "execute_result"
    }
   ],
   "source": [
    "dataset, pretrain = create_model(0)\n",
    "pretrain.subbatching = False\n",
    "pretrain.fit(dataset)"
   ]
  },
  {
   "cell_type": "code",
   "execution_count": 5,
   "id": "2d67e721-0a8c-40ad-964f-3d890f03406e",
   "metadata": {},
   "outputs": [
    {
     "name": "stderr",
     "output_type": "stream",
     "text": [
      "2022-07-03 08:13:54.301412: I tensorflow/stream_executor/cuda/cuda_blas.cc:1786] TensorFloat-32 will be used for the matrix multiplication. This will only be logged once.\n"
     ]
    },
    {
     "name": "stdout",
     "output_type": "stream",
     "text": [
      "128/128 [==============================] - 49s 317ms/step - loss: 0.7156 - sparse_categorical_accuracy: 0.0190\n"
     ]
    },
    {
     "data": {
      "text/plain": [
       "<keras.callbacks.History at 0x7f784c24e1d0>"
      ]
     },
     "execution_count": 5,
     "metadata": {},
     "output_type": "execute_result"
    }
   ],
   "source": [
    "dataset, pretrain = create_model(0)\n",
    "pretrain.subbatching = True\n",
    "pretrain.fit(dataset)"
   ]
  },
  {
   "cell_type": "code",
   "execution_count": 6,
   "id": "d65a0288-59cc-4e24-b04d-07aeb6c3dc35",
   "metadata": {},
   "outputs": [
    {
     "name": "stdout",
     "output_type": "stream",
     "text": [
      "128/128 [==============================] - 50s 317ms/step - loss: 0.7156 - sparse_categorical_accuracy: 0.0190\n"
     ]
    },
    {
     "data": {
      "text/plain": [
       "<keras.callbacks.History at 0x7f75d80da290>"
      ]
     },
     "execution_count": 6,
     "metadata": {},
     "output_type": "execute_result"
    }
   ],
   "source": [
    "dataset, pretrain = create_model(0)\n",
    "pretrain.subbatching = True\n",
    "pretrain.fit(dataset, subbatch_size=512)"
   ]
  },
  {
   "cell_type": "code",
   "execution_count": 7,
   "id": "924b9088-54ee-4a2a-a9e8-a54847a912df",
   "metadata": {},
   "outputs": [
    {
     "name": "stdout",
     "output_type": "stream",
     "text": [
      "128/128 [==============================] - 51s 326ms/step - loss: 0.7157 - sparse_categorical_accuracy: 0.0191\n"
     ]
    },
    {
     "data": {
      "text/plain": [
       "<keras.callbacks.History at 0x7f6df81fd9f0>"
      ]
     },
     "execution_count": 7,
     "metadata": {},
     "output_type": "execute_result"
    }
   ],
   "source": [
    "dataset, pretrain = create_model(0)\n",
    "pretrain.subbatching = True\n",
    "pretrain.fit(dataset, subbatch_size=256)"
   ]
  },
  {
   "cell_type": "code",
   "execution_count": 8,
   "id": "353ccff7-2e0a-4ceb-bd29-b6ba5cbe1ec1",
   "metadata": {},
   "outputs": [
    {
     "name": "stdout",
     "output_type": "stream",
     "text": [
      "128/128 [==============================] - 53s 343ms/step - loss: 0.7159 - sparse_categorical_accuracy: 0.0193\n"
     ]
    },
    {
     "data": {
      "text/plain": [
       "<keras.callbacks.History at 0x7f6b17076650>"
      ]
     },
     "execution_count": 8,
     "metadata": {},
     "output_type": "execute_result"
    }
   ],
   "source": [
    "dataset, pretrain = create_model(0)\n",
    "pretrain.subbatching = True\n",
    "pretrain.fit(dataset, subbatch_size=128)"
   ]
  },
  {
   "cell_type": "code",
   "execution_count": 9,
   "id": "96aef0da-81a8-47e8-880d-80a13db433b9",
   "metadata": {},
   "outputs": [
    {
     "name": "stdout",
     "output_type": "stream",
     "text": [
      "128/128 [==============================] - 57s 379ms/step - loss: 0.7161 - sparse_categorical_accuracy: 0.0191\n"
     ]
    },
    {
     "data": {
      "text/plain": [
       "<keras.callbacks.History at 0x7f6a15a8e710>"
      ]
     },
     "execution_count": 9,
     "metadata": {},
     "output_type": "execute_result"
    }
   ],
   "source": [
    "dataset, pretrain = create_model(0)\n",
    "pretrain.subbatching = True\n",
    "pretrain.fit(dataset, subbatch_size=64)"
   ]
  },
  {
   "cell_type": "code",
   "execution_count": 10,
   "id": "6b1ed136-072a-4331-be68-1dc946902e9a",
   "metadata": {},
   "outputs": [
    {
     "name": "stdout",
     "output_type": "stream",
     "text": [
      "128/128 [==============================] - 68s 463ms/step - loss: 0.7158 - sparse_categorical_accuracy: 0.0196\n"
     ]
    },
    {
     "data": {
      "text/plain": [
       "<keras.callbacks.History at 0x7f6914377190>"
      ]
     },
     "execution_count": 10,
     "metadata": {},
     "output_type": "execute_result"
    }
   ],
   "source": [
    "dataset, pretrain = create_model(0)\n",
    "pretrain.subbatching = True\n",
    "pretrain.fit(dataset, subbatch_size=32)"
   ]
  },
  {
   "cell_type": "code",
   "execution_count": 11,
   "id": "993d5d76-b1d0-4d46-96a2-47487f62c844",
   "metadata": {},
   "outputs": [],
   "source": [
    "x = [32, 64, 128, 256, 512]\n",
    "y = [463, 379, 343, 326, 317]"
   ]
  },
  {
   "cell_type": "code",
   "execution_count": 19,
   "id": "a5d67427-e6fe-42c3-afae-a82e49835587",
   "metadata": {},
   "outputs": [
    {
     "data": {
      "image/png": "[encoded data removed]",
      "text/plain": [
       "<Figure size 432x288 with 1 Axes>"
      ]
     },
     "metadata": {
      "needs_background": "light"
     },
     "output_type": "display_data"
    }
   ],
   "source": [
    "plt.plot(x, y)\n",
    "plt.xticks(x)\n",
    "plt.yticks(y)\n",
    "plt.show()"
   ]
  },
  {
   "cell_type": "code",
   "execution_count": 12,
   "id": "56bee110-7041-4b89-a9b0-dd9bf4eda248",
   "metadata": {},
   "outputs": [],
   "source": [
    "logx = np.log(x)\n",
    "logy = np.log(y)\n",
    "coeffs = np.polyfit(logx, logy, deg=1)\n",
    "poly = np.poly1d(coeffs)"
   ]
  },
  {
   "cell_type": "code",
   "execution_count": 13,
   "id": "aebb3335-57dd-48b0-83f8-644087f6d864",
   "metadata": {},
   "outputs": [],
   "source": [
    "yfit = lambda x: np.exp(poly(np.log(x)))"
   ]
  },
  {
   "cell_type": "code",
   "execution_count": 27,
   "id": "de4fa648-8bcc-4c64-a57a-c47213693f43",
   "metadata": {},
   "outputs": [
    {
     "data": {
      "text/plain": [
       "<matplotlib.legend.Legend at 0x7f690ab23250>"
      ]
     },
     "execution_count": 27,
     "metadata": {},
     "output_type": "execute_result"
    },
    {
     "data": {
      "image/png": "[encoded data removed]",
      "text/plain": [
       "<Figure size 432x288 with 1 Axes>"
      ]
     },
     "metadata": {
      "needs_background": "light"
     },
     "output_type": "display_data"
    }
   ],
   "source": [
    "plt.loglog(x, y)\n",
    "plt.loglog(x, yfit(x))\n",
    "plt.xticks(x)\n",
    "plt.yticks(y)\n",
    "plt.legend([\"data\", f\"regression line: slope={coeffs[0]:.3f}\"])"
   ]
  },
  {
   "cell_type": "code",
   "execution_count": null,
   "id": "1a5228bc-30d9-434d-a2cc-e101a7e59359",
   "metadata": {},
   "outputs": [],
   "source": []
  }
 ],
 "metadata": {
  "kernelspec": {
   "display_name": "Python 3 (ipykernel)",
   "language": "python",
   "name": "python3"
  },
  "language_info": {
   "codemirror_mode": {
    "name": "ipython",
    "version": 3
   },
   "file_extension": ".py",
   "mimetype": "text/x-python",
   "name": "python",
   "nbconvert_exporter": "python",
   "pygments_lexer": "ipython3",
   "version": "3.10.4"
  }
 },
 "nbformat": 4,
 "nbformat_minor": 5
}
