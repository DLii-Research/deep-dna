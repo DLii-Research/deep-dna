{
 "cells": [
  {
   "cell_type": "code",
   "execution_count": 1,
   "metadata": {},
   "outputs": [],
   "source": [
    "import os\n",
    "os.environ[\"TF_CPP_MIN_LOG_LEVEL\"] = '2'\n",
    "\n",
    "import sys\n",
    "sys.path.append(\"../src\")\n",
    "\n",
    "from dnadb import dna, fastq\n",
    "import matplotlib.pyplot as plt\n",
    "import numpy as np\n",
    "import tensorflow as tf\n",
    "from sklearn.cluster import KMeans\n",
    "from sklearn.metrics import normalized_mutual_info_score\n",
    "from scipy.spatial.distance import cdist\n",
    "import wandb\n",
    "\n",
    "from deepdna import metrics\n",
    "from deepdna.data.dataset import Dataset\n",
    "from deepdna.nn.data_generators import SequenceSampler\n",
    "from deepdna.nn.models import load_model, dnabert, setbert\n",
    "from deepdna.nn import layers"
   ]
  },
  {
   "cell_type": "code",
   "execution_count": 2,
   "metadata": {},
   "outputs": [],
   "source": [
    "SEED = 0"
   ]
  },
  {
   "cell_type": "code",
   "execution_count": 3,
   "metadata": {},
   "outputs": [],
   "source": [
    "api = wandb.Api()"
   ]
  },
  {
   "attachments": {},
   "cell_type": "markdown",
   "metadata": {},
   "source": [
    "## Models"
   ]
  },
  {
   "cell_type": "code",
   "execution_count": 4,
   "metadata": {},
   "outputs": [
    {
     "name": "stderr",
     "output_type": "stream",
     "text": [
      "\u001b[34m\u001b[1mwandb\u001b[0m:   4 of 4 files downloaded.  \n"
     ]
    }
   ],
   "source": [
    "path = api.artifact(\"sirdavidludwig/dnabert-pretrain/dnabert-pretrain-silva-64:v3\").download()\n",
    "dnabert_encoder = dnabert.DnaBertEncoderModel(\n",
    "    load_model(path, dnabert.DnaBertPretrainModel).base,\n",
    "    subsamples=True\n",
    ")"
   ]
  },
  {
   "cell_type": "code",
   "execution_count": 5,
   "metadata": {},
   "outputs": [
    {
     "name": "stderr",
     "output_type": "stream",
     "text": [
      "\u001b[34m\u001b[1mwandb\u001b[0m:   4 of 4 files downloaded.  \n"
     ]
    },
    {
     "name": "stdout",
     "output_type": "stream",
     "text": [
      "WARNING:tensorflow:No training configuration found in save file, so the model was *not* compiled. Compile it manually.\n"
     ]
    }
   ],
   "source": [
    "path = api.artifact(\"sirdavidludwig/setbert-pretrain/setbert-pretrain-nachusa-64:latest\").download()\n",
    "base = load_model(path, setbert.SetBertModel)"
   ]
  },
  {
   "cell_type": "code",
   "execution_count": 6,
   "metadata": {},
   "outputs": [],
   "source": [
    "setbert_encoder = setbert.SetBertEncoderModel(base)"
   ]
  },
  {
   "attachments": {},
   "cell_type": "markdown",
   "metadata": {},
   "source": [
    "---\n",
    "\n",
    "## Data"
   ]
  },
  {
   "attachments": {},
   "cell_type": "markdown",
   "metadata": {},
   "source": [
    "Datasets to choose samples from."
   ]
  },
  {
   "cell_type": "code",
   "execution_count": 7,
   "metadata": {},
   "outputs": [],
   "source": [
    "dataset_names = [\n",
    "    \"Nachusa-2015\",\n",
    "    \"Nachusa-2016\",\n",
    "    \"Nachusa-2017\",\n",
    "    \"Nachusa-2020\"\n",
    "]"
   ]
  },
  {
   "attachments": {},
   "cell_type": "markdown",
   "metadata": {},
   "source": [
    "Create dataset instances."
   ]
  },
  {
   "cell_type": "code",
   "execution_count": 8,
   "metadata": {},
   "outputs": [],
   "source": [
    "datasets = [Dataset(f\"/home/dwl2x/Datasets/{name}/0\") for name in dataset_names]"
   ]
  },
  {
   "attachments": {},
   "cell_type": "markdown",
   "metadata": {},
   "source": [
    "Find all FASTQ DB sample files to choose from across all of the datasets and shuffle them."
   ]
  },
  {
   "cell_type": "code",
   "execution_count": 12,
   "metadata": {},
   "outputs": [
    {
     "data": {
      "text/plain": [
       "210"
      ]
     },
     "execution_count": 12,
     "metadata": {},
     "output_type": "execute_result"
    }
   ],
   "source": [
    "sample_paths = [path for dataset in datasets for path in dataset.fastq_dbs(Dataset.Split.Test)]\n",
    "np.random.default_rng(SEED).shuffle(sample_paths) # type: ignore\n",
    "len(sample_paths)"
   ]
  },
  {
   "attachments": {},
   "cell_type": "markdown",
   "metadata": {},
   "source": [
    "Pick some samples."
   ]
  },
  {
   "cell_type": "code",
   "execution_count": 13,
   "metadata": {},
   "outputs": [
    {
     "data": {
      "text/plain": [
       "[PosixPath('/home/dwl2x/Datasets/Nachusa-2015/0/test/WS-CCW-Jul2015_S82_L001_R1_001.fastq.db'),\n",
       " PosixPath('/home/dwl2x/Datasets/Nachusa-2017/0/test/Wes52-10-TC_S53_L001_R1_001.fastq.db'),\n",
       " PosixPath('/home/dwl2x/Datasets/Nachusa-2016/0/test/WS-TCR-Oct2016_S80_L001_R1_001.fastq.db'),\n",
       " PosixPath('/home/dwl2x/Datasets/Nachusa-2017/0/test/Wes41-10-HN_S42_L001_R1_001.fastq.db'),\n",
       " PosixPath('/home/dwl2x/Datasets/Nachusa-2020/0/test/Wesley026-Ag-072820_S165_L001_R1_001.fastq.db'),\n",
       " PosixPath('/home/dwl2x/Datasets/Nachusa-2016/0/test/WS-FC-Jul2016_S94_L001_R1_001.fastq.db'),\n",
       " PosixPath('/home/dwl2x/Datasets/Nachusa-2017/0/test/Wes5-5-CCE_S6_L001_R1_001.fastq.db'),\n",
       " PosixPath('/home/dwl2x/Datasets/Nachusa-2016/0/test/WS-CCE-Jul2016_S47_L001_R1_001.fastq.db'),\n",
       " PosixPath('/home/dwl2x/Datasets/Nachusa-2016/0/test/WS-HLP-Apr2016_S77_L001_R1_001.fastq.db'),\n",
       " PosixPath('/home/dwl2x/Datasets/Nachusa-2020/0/test/Wesley012-HN-051120_S151_L001_R1_001.fastq.db')]"
      ]
     },
     "execution_count": 13,
     "metadata": {},
     "output_type": "execute_result"
    }
   ],
   "source": [
    "chosen_sample_paths = sample_paths[:10]\n",
    "chosen_sample_paths"
   ]
  },
  {
   "attachments": {},
   "cell_type": "markdown",
   "metadata": {},
   "source": [
    "Open the samples"
   ]
  },
  {
   "cell_type": "code",
   "execution_count": 14,
   "metadata": {},
   "outputs": [
    {
     "data": {
      "text/plain": [
       "['WS-CCW-Jul2015_S82_L001_R1_001',\n",
       " 'Wes52-10-TC_S53_L001_R1_001',\n",
       " 'WS-TCR-Oct2016_S80_L001_R1_001',\n",
       " 'Wes41-10-HN_S42_L001_R1_001',\n",
       " 'Wesley026-Ag-072820_S165_L001_R1_001',\n",
       " 'WS-FC-Jul2016_S94_L001_R1_001',\n",
       " 'Wes5-5-CCE_S6_L001_R1_001',\n",
       " 'WS-CCE-Jul2016_S47_L001_R1_001',\n",
       " 'WS-HLP-Apr2016_S77_L001_R1_001',\n",
       " 'Wesley012-HN-051120_S151_L001_R1_001']"
      ]
     },
     "execution_count": 14,
     "metadata": {},
     "output_type": "execute_result"
    }
   ],
   "source": [
    "samples = [fastq.FastqDb(path) for path in chosen_sample_paths]\n",
    "sample_names = [sample.path.name.rstrip(\".fastq.db\") for sample in samples]\n",
    "sample_names"
   ]
  },
  {
   "attachments": {},
   "cell_type": "markdown",
   "metadata": {},
   "source": [
    "Draw random subsamples using the SequenceSampler."
   ]
  },
  {
   "cell_type": "code",
   "execution_count": 15,
   "metadata": {},
   "outputs": [
    {
     "name": "stdout",
     "output_type": "stream",
     "text": [
      "10/10 [==============================] - 4s 279ms/step\n",
      "10/10 [==============================] - 3s 282ms/step\n",
      "10/10 [==============================] - 3s 283ms/step\n",
      "10/10 [==============================] - 3s 283ms/step\n",
      "10/10 [==============================] - 3s 283ms/step\n",
      "10/10 [==============================] - 3s 283ms/step\n",
      "10/10 [==============================] - 3s 284ms/step\n",
      "10/10 [==============================] - 3s 284ms/step\n",
      "10/10 [==============================] - 3s 284ms/step\n",
      "10/10 [==============================] - 3s 284ms/step\n"
     ]
    },
    {
     "data": {
      "text/plain": [
       "(10, 10, 1000, 64)"
      ]
     },
     "execution_count": 15,
     "metadata": {},
     "output_type": "execute_result"
    }
   ],
   "source": [
    "rng = np.random.default_rng(SEED + 1)\n",
    "subsamples_list = []\n",
    "for sample in samples:\n",
    "    sampler = SequenceSampler([sample], 150)\n",
    "    sequences = sampler.sequences(sampler.random_entries(10, 1000, rng)[1], rng)\n",
    "    sequences = dna.encode_kmers(sequences, dnabert_encoder.base.kmer) # type: ignore\n",
    "    sequences = dnabert_encoder.predict(sequences, batch_size=1)\n",
    "    subsamples_list.append(sequences)\n",
    "subsamples = np.array(subsamples_list)\n",
    "subsamples.shape"
   ]
  },
  {
   "attachments": {},
   "cell_type": "markdown",
   "metadata": {},
   "source": [
    "Encoder the subsamples using SetBERT"
   ]
  },
  {
   "cell_type": "code",
   "execution_count": 16,
   "metadata": {},
   "outputs": [
    {
     "name": "stdout",
     "output_type": "stream",
     "text": [
      "100/100 [==============================] - 1s 5ms/step\n"
     ]
    }
   ],
   "source": [
    "shape = subsamples.shape\n",
    "encoded_subsamples = setbert_encoder.predict(\n",
    "    tf.reshape(subsamples, (-1, *shape[2:])), batch_size=1).reshape((*shape[:2], shape[-1]))"
   ]
  },
  {
   "attachments": {},
   "cell_type": "markdown",
   "metadata": {},
   "source": [
    "## MDS Projections"
   ]
  },
  {
   "cell_type": "code",
   "execution_count": 17,
   "metadata": {},
   "outputs": [],
   "source": [
    "distance_measure = \"cityblock\"\n",
    "metric = True"
   ]
  },
  {
   "cell_type": "code",
   "execution_count": 18,
   "metadata": {},
   "outputs": [
    {
     "data": {
      "text/plain": [
       "(100, 100)"
      ]
     },
     "execution_count": 18,
     "metadata": {},
     "output_type": "execute_result"
    }
   ],
   "source": [
    "flat: np.ndarray = encoded_subsamples.reshape((-1, encoded_subsamples.shape[-1]))\n",
    "distance_matrix = cdist(flat, flat, distance_measure)\n",
    "distance_matrix.shape"
   ]
  },
  {
   "cell_type": "code",
   "execution_count": 19,
   "metadata": {},
   "outputs": [
    {
     "data": {
      "text/plain": [
       "(10, 10, 2)"
      ]
     },
     "execution_count": 19,
     "metadata": {},
     "output_type": "execute_result"
    }
   ],
   "source": [
    "mds, _ = metrics.mds(distance_matrix, ndim=2, metric=metric, seed=SEED)\n",
    "mds = mds.reshape(len(samples), -1, 2)\n",
    "mds.shape"
   ]
  },
  {
   "cell_type": "code",
   "execution_count": 20,
   "metadata": {},
   "outputs": [],
   "source": [
    "def mds_stress_analysis(dist_mat, dims, metric=True, seed=None, workers=1, **kwargs):\n",
    "    \"\"\"\n",
    "    Compute the MDS stress value for the given possible range of components.\n",
    "    \"\"\"\n",
    "    import multiprocessing\n",
    "    if isinstance(dims, int):\n",
    "        dims = range(1, dims+1)\n",
    "    dims = list(dims)\n",
    "    with multiprocessing.Pool(workers) as pool:\n",
    "        stresses = pool.map(metrics.MdsStressAnalysisProcess(\n",
    "            dist_mat, metric=metric, random_state=seed, **kwargs\n",
    "        ), dims)\n",
    "    print(stresses)\n",
    "    return dims, stresses #(1 - np.cumsum(stresses) / np.sum(stresses))"
   ]
  },
  {
   "cell_type": "code",
   "execution_count": 21,
   "metadata": {},
   "outputs": [],
   "source": [
    "mds_stress = metrics.mds_stress_analysis(distance_matrix, 64, metric=metric, seed=SEED, workers=1)"
   ]
  },
  {
   "cell_type": "code",
   "execution_count": 28,
   "metadata": {},
   "outputs": [
    {
     "name": "stderr",
     "output_type": "stream",
     "text": [
      "/tmp/ipykernel_509133/3517188825.py:18: UserWarning: Tight layout not applied. The left and right margins cannot be made large enough to accommodate all axes decorations.\n",
      "  plt.tight_layout()\n"
     ]
    },
    {
     "data": {
      "image/png": "[encoded data removed]",
      "text/plain": [
       "<Figure size 400x400 with 1 Axes>"
      ]
     },
     "metadata": {},
     "output_type": "display_data"
    }
   ],
   "source": [
    "plt.figure(figsize=(4, 4))\n",
    "# plt.subplot(1, 2, 1)\n",
    "plt.title(f\"Metric MDS Plot of {len(samples)} Samples\")\n",
    "for sample, points in zip(sample_names, mds):\n",
    "    plt.scatter(points[:,0], points[:,1], label=sample, s=7)\n",
    "plt.xlim((np.min(mds) - 1, np.max(mds) + 1))\n",
    "plt.ylim((np.min(mds) - 1, np.max(mds) + 1))\n",
    "plt.legend(loc='center left', bbox_to_anchor=(1, 0.5),\n",
    "          fancybox=True, shadow=True, ncol=1)\n",
    "\n",
    "# plt.subplot(1, 2, 2)\n",
    "# plt.title(\"MDS Stress Scree Plot\")\n",
    "# plt.plot(*mds_stress)\n",
    "# plt.xlabel(\"Number of Components\")\n",
    "# plt.ylabel(\"1 - Cumulative Stress\")\n",
    "# plt.tight_layout()\n",
    "# plt.savefig(\"mds_scree_plot.png\")\n",
    "plt.tight_layout()\n",
    "plt.show()"
   ]
  },
  {
   "cell_type": "code",
   "execution_count": 29,
   "metadata": {},
   "outputs": [
    {
     "data": {
      "image/png": "[encoded data removed]",
      "text/plain": [
       "<Figure size 640x480 with 1 Axes>"
      ]
     },
     "metadata": {},
     "output_type": "display_data"
    }
   ],
   "source": [
    "plt.title(\"MDS Stress Scree Plot\")\n",
    "plt.plot(*mds_stress)\n",
    "plt.xlabel(\"Number of Components\")\n",
    "plt.ylabel(\"1 - Cumulative Stress\")\n",
    "plt.tight_layout()\n",
    "plt.show()"
   ]
  },
  {
   "cell_type": "code",
   "execution_count": 23,
   "metadata": {},
   "outputs": [
    {
     "data": {
      "text/plain": [
       "(10, 10, 64)"
      ]
     },
     "execution_count": 23,
     "metadata": {},
     "output_type": "execute_result"
    }
   ],
   "source": [
    "encoded_subsamples.shape"
   ]
  },
  {
   "cell_type": "code",
   "execution_count": 24,
   "metadata": {},
   "outputs": [
    {
     "data": {
      "text/plain": [
       "array([4, 4, 3, 4, 4, 4, 4, 4, 4, 4, 6, 6, 6, 6, 6, 6, 6, 6, 6, 6, 3, 3,\n",
       "       3, 3, 3, 3, 3, 3, 3, 3, 7, 7, 7, 7, 7, 7, 7, 7, 7, 7, 0, 0, 0, 0,\n",
       "       0, 0, 0, 0, 0, 0, 1, 1, 1, 1, 1, 1, 1, 1, 1, 1, 2, 2, 2, 2, 2, 2,\n",
       "       2, 7, 2, 2, 8, 8, 8, 8, 8, 8, 8, 8, 8, 8, 9, 9, 9, 9, 9, 9, 9, 9,\n",
       "       9, 9, 5, 5, 5, 5, 5, 5, 5, 5, 5, 5], dtype=int32)"
      ]
     },
     "execution_count": 24,
     "metadata": {},
     "output_type": "execute_result"
    }
   ],
   "source": [
    "kmeans = KMeans(n_clusters=10)\n",
    "labels = kmeans.fit_predict(encoded_subsamples.reshape((-1, encoded_subsamples.shape[-1])))\n",
    "labels"
   ]
  },
  {
   "cell_type": "code",
   "execution_count": 25,
   "metadata": {},
   "outputs": [
    {
     "data": {
      "text/plain": [
       "array([[4, 4, 3, 4, 4, 4, 4, 4, 4, 4],\n",
       "       [6, 6, 6, 6, 6, 6, 6, 6, 6, 6],\n",
       "       [3, 3, 3, 3, 3, 3, 3, 3, 3, 3],\n",
       "       [7, 7, 7, 7, 7, 7, 7, 7, 7, 7],\n",
       "       [0, 0, 0, 0, 0, 0, 0, 0, 0, 0],\n",
       "       [1, 1, 1, 1, 1, 1, 1, 1, 1, 1],\n",
       "       [2, 2, 2, 2, 2, 2, 2, 7, 2, 2],\n",
       "       [8, 8, 8, 8, 8, 8, 8, 8, 8, 8],\n",
       "       [9, 9, 9, 9, 9, 9, 9, 9, 9, 9],\n",
       "       [5, 5, 5, 5, 5, 5, 5, 5, 5, 5]], dtype=int32)"
      ]
     },
     "execution_count": 25,
     "metadata": {},
     "output_type": "execute_result"
    }
   ],
   "source": [
    "labels.reshape(10, 10)"
   ]
  },
  {
   "cell_type": "code",
   "execution_count": 26,
   "metadata": {},
   "outputs": [
    {
     "data": {
      "text/plain": [
       "array([0, 1, 2, 3, 4, 5, 6, 7, 8, 9], dtype=int32)"
      ]
     },
     "execution_count": 26,
     "metadata": {},
     "output_type": "execute_result"
    }
   ],
   "source": [
    "unique_labels = np.unique(labels)\n",
    "unique_labels"
   ]
  },
  {
   "cell_type": "code",
   "execution_count": 27,
   "metadata": {},
   "outputs": [
    {
     "data": {
      "text/plain": [
       "0.9713161523998449"
      ]
     },
     "execution_count": 27,
     "metadata": {},
     "output_type": "execute_result"
    }
   ],
   "source": [
    "normalized_mutual_info_score(np.repeat(np.arange(len(encoded_subsamples)), 10), labels)"
   ]
  },
  {
   "cell_type": "code",
   "execution_count": null,
   "metadata": {},
   "outputs": [],
   "source": []
  }
 ],
 "metadata": {
  "kernelspec": {
   "display_name": "base",
   "language": "python",
   "name": "python3"
  },
  "language_info": {
   "codemirror_mode": {
    "name": "ipython",
    "version": 3
   },
   "file_extension": ".py",
   "mimetype": "text/x-python",
   "name": "python",
   "nbconvert_exporter": "python",
   "pygments_lexer": "ipython3",
   "version": "3.10.6"
  },
  "orig_nbformat": 4
 },
 "nbformat": 4,
 "nbformat_minor": 2
}
