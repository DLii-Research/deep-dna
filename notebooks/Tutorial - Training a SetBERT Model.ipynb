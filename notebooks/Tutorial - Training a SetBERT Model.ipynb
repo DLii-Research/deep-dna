{
 "cells": [
  {
   "cell_type": "code",
   "execution_count": 1,
   "id": "b7d4ca8d-f48f-49ea-b3b4-7657bc4ffae9",
   "metadata": {},
   "outputs": [],
   "source": [
    "from dnadb import dna, fasta, sample, taxonomy\n",
    "import matplotlib.pyplot as plt\n",
    "import numpy as np\n",
    "import numpy.typing as npt\n",
    "import pandas as pd\n",
    "from pathlib import Path\n",
    "import tensorflow as tf\n",
    "import tf_utilities as tfu\n",
    "import wandb"
   ]
  },
  {
   "cell_type": "code",
   "execution_count": 2,
   "id": "80f90ce7-fdd0-42c4-b37a-0904b47af30b",
   "metadata": {},
   "outputs": [],
   "source": [
    "from deepdna.nn.models import load_model, setbert\n",
    "from deepdna.nn.data_generators import SampleValueTargetGenerator"
   ]
  },
  {
   "cell_type": "code",
   "execution_count": 3,
   "id": "a58a4c07-98e3-441b-9fa4-5b2067cf1aaf",
   "metadata": {},
   "outputs": [
    {
     "name": "stderr",
     "output_type": "stream",
     "text": [
      "2023-09-08 03:03:12.081764: I tensorflow/stream_executor/cuda/cuda_gpu_executor.cc:975] successful NUMA node read from SysFS had negative value (-1), but there must be at least one NUMA node, so returning NUMA node zero\n",
      "2023-09-08 03:03:12.081976: I tensorflow/stream_executor/cuda/cuda_gpu_executor.cc:975] successful NUMA node read from SysFS had negative value (-1), but there must be at least one NUMA node, so returning NUMA node zero\n",
      "2023-09-08 03:03:12.087434: I tensorflow/stream_executor/cuda/cuda_gpu_executor.cc:975] successful NUMA node read from SysFS had negative value (-1), but there must be at least one NUMA node, so returning NUMA node zero\n",
      "2023-09-08 03:03:12.087646: I tensorflow/stream_executor/cuda/cuda_gpu_executor.cc:975] successful NUMA node read from SysFS had negative value (-1), but there must be at least one NUMA node, so returning NUMA node zero\n",
      "2023-09-08 03:03:12.087814: I tensorflow/stream_executor/cuda/cuda_gpu_executor.cc:975] successful NUMA node read from SysFS had negative value (-1), but there must be at least one NUMA node, so returning NUMA node zero\n",
      "2023-09-08 03:03:12.087976: I tensorflow/stream_executor/cuda/cuda_gpu_executor.cc:975] successful NUMA node read from SysFS had negative value (-1), but there must be at least one NUMA node, so returning NUMA node zero\n"
     ]
    },
    {
     "data": {
      "text/plain": [
       "([PhysicalDevice(name='/physical_device:CPU:0', device_type='CPU')],\n",
       " [PhysicalDevice(name='/physical_device:GPU:0', device_type='GPU')])"
      ]
     },
     "execution_count": 3,
     "metadata": {},
     "output_type": "execute_result"
    }
   ],
   "source": [
    "# tfu.devices.select_cpu()\n",
    "tfu.devices.select_gpu(0)"
   ]
  },
  {
   "cell_type": "markdown",
   "id": "f5dffc47-7634-465f-9410-c2eb8ff4efe0",
   "metadata": {},
   "source": [
    "---\n",
    "## Dataset and Data Generators"
   ]
  },
  {
   "cell_type": "markdown",
   "id": "2d3ffc43-8adb-4203-88c5-d78379fb191a",
   "metadata": {},
   "source": [
    "First we need to load the metadata. We're interested in the oo_present field as we're detecting the presence of the fungus in the snake."
   ]
  },
  {
   "cell_type": "code",
   "execution_count": 4,
   "id": "1ef62046-b917-47f2-b36b-89cc91f9523b",
   "metadata": {},
   "outputs": [
    {
     "data": {
      "text/html": [
       "<div>\n",
       "<style scoped>\n",
       "    .dataframe tbody tr th:only-of-type {\n",
       "        vertical-align: middle;\n",
       "    }\n",
       "\n",
       "    .dataframe tbody tr th {\n",
       "        vertical-align: top;\n",
       "    }\n",
       "\n",
       "    .dataframe thead th {\n",
       "        text-align: right;\n",
       "    }\n",
       "</style>\n",
       "<table border=\"1\" class=\"dataframe\">\n",
       "  <thead>\n",
       "    <tr style=\"text-align: right;\">\n",
       "      <th></th>\n",
       "      <th>taxon</th>\n",
       "      <th>ecomode</th>\n",
       "      <th>oo_present</th>\n",
       "      <th>date</th>\n",
       "      <th>county</th>\n",
       "      <th>site</th>\n",
       "      <th>clinical_signs</th>\n",
       "      <th>log_copy_number</th>\n",
       "      <th>gpsn</th>\n",
       "      <th>gpsw</th>\n",
       "      <th>...</th>\n",
       "      <th>swab_col</th>\n",
       "      <th>DNA_con</th>\n",
       "      <th>swab_plate_n</th>\n",
       "      <th>notes</th>\n",
       "      <th>richness</th>\n",
       "      <th>shannon</th>\n",
       "      <th>evenness</th>\n",
       "      <th>simpson</th>\n",
       "      <th>invsimpson</th>\n",
       "      <th>dis.sev</th>\n",
       "    </tr>\n",
       "    <tr>\n",
       "      <th>swab_label</th>\n",
       "      <th></th>\n",
       "      <th></th>\n",
       "      <th></th>\n",
       "      <th></th>\n",
       "      <th></th>\n",
       "      <th></th>\n",
       "      <th></th>\n",
       "      <th></th>\n",
       "      <th></th>\n",
       "      <th></th>\n",
       "      <th></th>\n",
       "      <th></th>\n",
       "      <th></th>\n",
       "      <th></th>\n",
       "      <th></th>\n",
       "      <th></th>\n",
       "      <th></th>\n",
       "      <th></th>\n",
       "      <th></th>\n",
       "      <th></th>\n",
       "      <th></th>\n",
       "    </tr>\n",
       "  </thead>\n",
       "  <tbody>\n",
       "    <tr>\n",
       "      <th>STP582C</th>\n",
       "      <td>Agkistrodon piscivorus</td>\n",
       "      <td>Aquatic</td>\n",
       "      <td>0</td>\n",
       "      <td>6/7/2015</td>\n",
       "      <td>Polk</td>\n",
       "      <td>Ouachita National Forest</td>\n",
       "      <td>NaN</td>\n",
       "      <td>0.00000</td>\n",
       "      <td>34.46294</td>\n",
       "      <td>-93.99638</td>\n",
       "      <td>...</td>\n",
       "      <td>1.0</td>\n",
       "      <td>3.06</td>\n",
       "      <td>1.0</td>\n",
       "      <td>Walker et al. ISME</td>\n",
       "      <td>618</td>\n",
       "      <td>4.804865</td>\n",
       "      <td>0.197578</td>\n",
       "      <td>0.974111</td>\n",
       "      <td>38.627160</td>\n",
       "      <td>Neg</td>\n",
       "    </tr>\n",
       "    <tr>\n",
       "      <th>STP633C</th>\n",
       "      <td>Crotalus horridus</td>\n",
       "      <td>Terrestrial</td>\n",
       "      <td>0</td>\n",
       "      <td>6/8/2015</td>\n",
       "      <td>Polk</td>\n",
       "      <td>Ouachita National Forest</td>\n",
       "      <td>NaN</td>\n",
       "      <td>0.00000</td>\n",
       "      <td>34.46262</td>\n",
       "      <td>-93.99853</td>\n",
       "      <td>...</td>\n",
       "      <td>1.0</td>\n",
       "      <td>2.18</td>\n",
       "      <td>1.0</td>\n",
       "      <td>Walker et al. ISME</td>\n",
       "      <td>486</td>\n",
       "      <td>4.505452</td>\n",
       "      <td>0.186233</td>\n",
       "      <td>0.962531</td>\n",
       "      <td>26.688501</td>\n",
       "      <td>Neg</td>\n",
       "    </tr>\n",
       "    <tr>\n",
       "      <th>STP634C</th>\n",
       "      <td>Agkistrodon piscivorus</td>\n",
       "      <td>Aquatic</td>\n",
       "      <td>0</td>\n",
       "      <td>6/8/2015</td>\n",
       "      <td>Polk</td>\n",
       "      <td>Ouachita National Forest</td>\n",
       "      <td>NaN</td>\n",
       "      <td>0.00000</td>\n",
       "      <td>34.57593</td>\n",
       "      <td>-94.03164</td>\n",
       "      <td>...</td>\n",
       "      <td>1.0</td>\n",
       "      <td>40.80</td>\n",
       "      <td>1.0</td>\n",
       "      <td>Walker et al. ISME</td>\n",
       "      <td>456</td>\n",
       "      <td>2.743417</td>\n",
       "      <td>0.034079</td>\n",
       "      <td>0.723965</td>\n",
       "      <td>3.622725</td>\n",
       "      <td>Neg</td>\n",
       "    </tr>\n",
       "    <tr>\n",
       "      <th>STP639C</th>\n",
       "      <td>Agkistrodon piscivorus</td>\n",
       "      <td>Aquatic</td>\n",
       "      <td>0</td>\n",
       "      <td>6/8/2015</td>\n",
       "      <td>Montgomery</td>\n",
       "      <td>Ouachita National Forest</td>\n",
       "      <td>NaN</td>\n",
       "      <td>0.00000</td>\n",
       "      <td>34.43632</td>\n",
       "      <td>-93.78750</td>\n",
       "      <td>...</td>\n",
       "      <td>1.0</td>\n",
       "      <td>3.90</td>\n",
       "      <td>1.0</td>\n",
       "      <td>Walker et al. ISME</td>\n",
       "      <td>659</td>\n",
       "      <td>4.919205</td>\n",
       "      <td>0.207730</td>\n",
       "      <td>0.975840</td>\n",
       "      <td>41.391414</td>\n",
       "      <td>Neg</td>\n",
       "    </tr>\n",
       "    <tr>\n",
       "      <th>STP640C</th>\n",
       "      <td>Agkistrodon piscivorus</td>\n",
       "      <td>Aquatic</td>\n",
       "      <td>0</td>\n",
       "      <td>6/8/2015</td>\n",
       "      <td>Montgomery</td>\n",
       "      <td>Ouachita National Forest</td>\n",
       "      <td>NaN</td>\n",
       "      <td>0.00000</td>\n",
       "      <td>34.43632</td>\n",
       "      <td>-93.78750</td>\n",
       "      <td>...</td>\n",
       "      <td>1.0</td>\n",
       "      <td>6.14</td>\n",
       "      <td>1.0</td>\n",
       "      <td>Walker et al. ISME</td>\n",
       "      <td>384</td>\n",
       "      <td>4.312839</td>\n",
       "      <td>0.194407</td>\n",
       "      <td>0.963434</td>\n",
       "      <td>27.347450</td>\n",
       "      <td>Neg</td>\n",
       "    </tr>\n",
       "    <tr>\n",
       "      <th>...</th>\n",
       "      <td>...</td>\n",
       "      <td>...</td>\n",
       "      <td>...</td>\n",
       "      <td>...</td>\n",
       "      <td>...</td>\n",
       "      <td>...</td>\n",
       "      <td>...</td>\n",
       "      <td>...</td>\n",
       "      <td>...</td>\n",
       "      <td>...</td>\n",
       "      <td>...</td>\n",
       "      <td>...</td>\n",
       "      <td>...</td>\n",
       "      <td>...</td>\n",
       "      <td>...</td>\n",
       "      <td>...</td>\n",
       "      <td>...</td>\n",
       "      <td>...</td>\n",
       "      <td>...</td>\n",
       "      <td>...</td>\n",
       "      <td>...</td>\n",
       "    </tr>\n",
       "    <tr>\n",
       "      <th>STP1502C</th>\n",
       "      <td>Nerodia sipedon</td>\n",
       "      <td>Aquatic</td>\n",
       "      <td>1</td>\n",
       "      <td>NaN</td>\n",
       "      <td>Overton</td>\n",
       "      <td>Waterloo Falls</td>\n",
       "      <td>NaN</td>\n",
       "      <td>0.30103</td>\n",
       "      <td>NaN</td>\n",
       "      <td>NaN</td>\n",
       "      <td>...</td>\n",
       "      <td>11.0</td>\n",
       "      <td>22.60</td>\n",
       "      <td>2.0</td>\n",
       "      <td>Walker et al. ISME</td>\n",
       "      <td>692</td>\n",
       "      <td>4.422581</td>\n",
       "      <td>0.120392</td>\n",
       "      <td>0.959926</td>\n",
       "      <td>24.954109</td>\n",
       "      <td>Low</td>\n",
       "    </tr>\n",
       "    <tr>\n",
       "      <th>STP1503C</th>\n",
       "      <td>Nerodia sipedon</td>\n",
       "      <td>Aquatic</td>\n",
       "      <td>1</td>\n",
       "      <td>NaN</td>\n",
       "      <td>Overton</td>\n",
       "      <td>Waterloo Falls</td>\n",
       "      <td>NaN</td>\n",
       "      <td>0.30103</td>\n",
       "      <td>NaN</td>\n",
       "      <td>NaN</td>\n",
       "      <td>...</td>\n",
       "      <td>11.0</td>\n",
       "      <td>22.60</td>\n",
       "      <td>2.0</td>\n",
       "      <td>Walker et al. ISME</td>\n",
       "      <td>823</td>\n",
       "      <td>5.162691</td>\n",
       "      <td>0.212192</td>\n",
       "      <td>0.980217</td>\n",
       "      <td>50.549217</td>\n",
       "      <td>Low</td>\n",
       "    </tr>\n",
       "    <tr>\n",
       "      <th>STP762C</th>\n",
       "      <td>Thamnophis sirtalis</td>\n",
       "      <td>Terrestrial</td>\n",
       "      <td>1</td>\n",
       "      <td>NaN</td>\n",
       "      <td>Cumberland</td>\n",
       "      <td>Catoosa WMA</td>\n",
       "      <td>NaN</td>\n",
       "      <td>1.00000</td>\n",
       "      <td>NaN</td>\n",
       "      <td>NaN</td>\n",
       "      <td>...</td>\n",
       "      <td>2.0</td>\n",
       "      <td>23.20</td>\n",
       "      <td>1.0</td>\n",
       "      <td>Walker et al. ISME - Austin Property-Crossville</td>\n",
       "      <td>739</td>\n",
       "      <td>4.925323</td>\n",
       "      <td>0.186379</td>\n",
       "      <td>0.979888</td>\n",
       "      <td>49.721213</td>\n",
       "      <td>Low</td>\n",
       "    </tr>\n",
       "    <tr>\n",
       "      <th>STP763C</th>\n",
       "      <td>Coluber constrictor</td>\n",
       "      <td>Terrestrial</td>\n",
       "      <td>0</td>\n",
       "      <td>NaN</td>\n",
       "      <td>Cumberland</td>\n",
       "      <td>Catoosa WMA</td>\n",
       "      <td>NaN</td>\n",
       "      <td>0.00000</td>\n",
       "      <td>NaN</td>\n",
       "      <td>NaN</td>\n",
       "      <td>...</td>\n",
       "      <td>2.0</td>\n",
       "      <td>102.00</td>\n",
       "      <td>1.0</td>\n",
       "      <td>Walker et al. ISME - Austin Property-Crossville</td>\n",
       "      <td>123</td>\n",
       "      <td>3.016996</td>\n",
       "      <td>0.166096</td>\n",
       "      <td>0.916935</td>\n",
       "      <td>12.038762</td>\n",
       "      <td>Neg</td>\n",
       "    </tr>\n",
       "    <tr>\n",
       "      <th>TST1</th>\n",
       "      <td>Crotalus horridus</td>\n",
       "      <td>Terrestrial</td>\n",
       "      <td>0</td>\n",
       "      <td>NaN</td>\n",
       "      <td>Morgan</td>\n",
       "      <td>Catoosa WMA</td>\n",
       "      <td>NaN</td>\n",
       "      <td>0.00000</td>\n",
       "      <td>36.04593</td>\n",
       "      <td>-84.76528</td>\n",
       "      <td>...</td>\n",
       "      <td>11.0</td>\n",
       "      <td>6.02</td>\n",
       "      <td>2.0</td>\n",
       "      <td>Walker et al. ISME</td>\n",
       "      <td>626</td>\n",
       "      <td>5.009543</td>\n",
       "      <td>0.239355</td>\n",
       "      <td>0.974569</td>\n",
       "      <td>39.321592</td>\n",
       "      <td>Neg</td>\n",
       "    </tr>\n",
       "  </tbody>\n",
       "</table>\n",
       "<p>738 rows × 48 columns</p>\n",
       "</div>"
      ],
      "text/plain": [
       "                             taxon      ecomode  oo_present      date  \\\n",
       "swab_label                                                              \n",
       "STP582C     Agkistrodon piscivorus      Aquatic           0  6/7/2015   \n",
       "STP633C          Crotalus horridus  Terrestrial           0  6/8/2015   \n",
       "STP634C     Agkistrodon piscivorus      Aquatic           0  6/8/2015   \n",
       "STP639C     Agkistrodon piscivorus      Aquatic           0  6/8/2015   \n",
       "STP640C     Agkistrodon piscivorus      Aquatic           0  6/8/2015   \n",
       "...                            ...          ...         ...       ...   \n",
       "STP1502C           Nerodia sipedon      Aquatic           1       NaN   \n",
       "STP1503C           Nerodia sipedon      Aquatic           1       NaN   \n",
       "STP762C        Thamnophis sirtalis  Terrestrial           1       NaN   \n",
       "STP763C        Coluber constrictor  Terrestrial           0       NaN   \n",
       "TST1             Crotalus horridus  Terrestrial           0       NaN   \n",
       "\n",
       "                county                      site  clinical_signs  \\\n",
       "swab_label                                                         \n",
       "STP582C           Polk  Ouachita National Forest             NaN   \n",
       "STP633C           Polk  Ouachita National Forest             NaN   \n",
       "STP634C           Polk  Ouachita National Forest             NaN   \n",
       "STP639C     Montgomery  Ouachita National Forest             NaN   \n",
       "STP640C     Montgomery  Ouachita National Forest             NaN   \n",
       "...                ...                       ...             ...   \n",
       "STP1502C       Overton            Waterloo Falls             NaN   \n",
       "STP1503C       Overton            Waterloo Falls             NaN   \n",
       "STP762C     Cumberland               Catoosa WMA             NaN   \n",
       "STP763C     Cumberland               Catoosa WMA             NaN   \n",
       "TST1            Morgan               Catoosa WMA             NaN   \n",
       "\n",
       "            log_copy_number      gpsn      gpsw  ... swab_col  DNA_con  \\\n",
       "swab_label                                       ...                     \n",
       "STP582C             0.00000  34.46294 -93.99638  ...      1.0     3.06   \n",
       "STP633C             0.00000  34.46262 -93.99853  ...      1.0     2.18   \n",
       "STP634C             0.00000  34.57593 -94.03164  ...      1.0    40.80   \n",
       "STP639C             0.00000  34.43632 -93.78750  ...      1.0     3.90   \n",
       "STP640C             0.00000  34.43632 -93.78750  ...      1.0     6.14   \n",
       "...                     ...       ...       ...  ...      ...      ...   \n",
       "STP1502C            0.30103       NaN       NaN  ...     11.0    22.60   \n",
       "STP1503C            0.30103       NaN       NaN  ...     11.0    22.60   \n",
       "STP762C             1.00000       NaN       NaN  ...      2.0    23.20   \n",
       "STP763C             0.00000       NaN       NaN  ...      2.0   102.00   \n",
       "TST1                0.00000  36.04593 -84.76528  ...     11.0     6.02   \n",
       "\n",
       "            swab_plate_n                                            notes  \\\n",
       "swab_label                                                                  \n",
       "STP582C              1.0                               Walker et al. ISME   \n",
       "STP633C              1.0                               Walker et al. ISME   \n",
       "STP634C              1.0                               Walker et al. ISME   \n",
       "STP639C              1.0                               Walker et al. ISME   \n",
       "STP640C              1.0                               Walker et al. ISME   \n",
       "...                  ...                                              ...   \n",
       "STP1502C             2.0                               Walker et al. ISME   \n",
       "STP1503C             2.0                               Walker et al. ISME   \n",
       "STP762C              1.0  Walker et al. ISME - Austin Property-Crossville   \n",
       "STP763C              1.0  Walker et al. ISME - Austin Property-Crossville   \n",
       "TST1                 2.0                               Walker et al. ISME   \n",
       "\n",
       "            richness   shannon  evenness   simpson invsimpson dis.sev  \n",
       "swab_label                                                             \n",
       "STP582C          618  4.804865  0.197578  0.974111  38.627160     Neg  \n",
       "STP633C          486  4.505452  0.186233  0.962531  26.688501     Neg  \n",
       "STP634C          456  2.743417  0.034079  0.723965   3.622725     Neg  \n",
       "STP639C          659  4.919205  0.207730  0.975840  41.391414     Neg  \n",
       "STP640C          384  4.312839  0.194407  0.963434  27.347450     Neg  \n",
       "...              ...       ...       ...       ...        ...     ...  \n",
       "STP1502C         692  4.422581  0.120392  0.959926  24.954109     Low  \n",
       "STP1503C         823  5.162691  0.212192  0.980217  50.549217     Low  \n",
       "STP762C          739  4.925323  0.186379  0.979888  49.721213     Low  \n",
       "STP763C          123  3.016996  0.166096  0.916935  12.038762     Neg  \n",
       "TST1             626  5.009543  0.239355  0.974569  39.321592     Neg  \n",
       "\n",
       "[738 rows x 48 columns]"
      ]
     },
     "execution_count": 4,
     "metadata": {},
     "output_type": "execute_result"
    }
   ],
   "source": [
    "metadata = pd.read_csv(\"/home/shared/walker_lab/alex/230320_sfdspatial_meta_clean.csv\", index_col=0)\n",
    "metadata"
   ]
  },
  {
   "cell_type": "markdown",
   "id": "c2fdce5c-ba14-4d65-ba30-b9d8427b7d2c",
   "metadata": {},
   "source": [
    "Next we'll load all of the samples, removing any where metadata is not present."
   ]
  },
  {
   "cell_type": "code",
   "execution_count": 5,
   "id": "77d6d2fc-ea09-459a-8606-ba594012503c",
   "metadata": {},
   "outputs": [
    {
     "data": {
      "text/plain": [
       "737"
      ]
     },
     "execution_count": 5,
     "metadata": {},
     "output_type": "execute_result"
    }
   ],
   "source": [
    "samples = sample.load_multiplexed_fasta(\"/tmp/sfd.fasta.db\", \"/tmp/sfd.fasta.mapping.db\")\n",
    "samples = [s for s in samples if s.name in metadata.index] # remove samples without metadata\n",
    "len(samples)"
   ]
  },
  {
   "cell_type": "markdown",
   "id": "5fdd54be-4a15-4ed1-b087-b9187f464067",
   "metadata": {},
   "source": [
    "Then we'll create a dictionary mapping each sample's name with its corresponding oo_present flag"
   ]
  },
  {
   "cell_type": "code",
   "execution_count": 6,
   "id": "de477352-c154-42dc-847c-d8bd8df7b44a",
   "metadata": {},
   "outputs": [],
   "source": [
    "targets = {sample_name: row[\"oo_present\"] for sample_name, row in metadata.iterrows()}"
   ]
  },
  {
   "cell_type": "markdown",
   "id": "34a82394-45d2-4665-a051-e3dda611396f",
   "metadata": {},
   "source": [
    "Finally we create data generators for the model."
   ]
  },
  {
   "cell_type": "code",
   "execution_count": 7,
   "id": "19645b7b-c1fc-46e2-abf8-65e952fe489e",
   "metadata": {},
   "outputs": [],
   "source": [
    "train_data = SampleValueTargetGenerator(\n",
    "    samples=samples,\n",
    "    sample_values=targets,\n",
    "    sequence_length=150,\n",
    "    kmer=3,\n",
    "    subsample_size=1000,\n",
    "    batch_size=4,\n",
    "    batches_per_epoch=100\n",
    ")\n",
    "\n",
    "validation_data = SampleValueTargetGenerator(\n",
    "    samples=samples,\n",
    "    sample_values=targets,\n",
    "    sequence_length=150,\n",
    "    kmer=3,\n",
    "    subsample_size=1000,\n",
    "    batch_size=4,\n",
    "    batches_per_epoch=20\n",
    ")"
   ]
  },
  {
   "cell_type": "markdown",
   "id": "b005a2e8-d4ab-4b25-8a0e-63893d9236d2",
   "metadata": {},
   "source": [
    "Grab a batch from the training data generator"
   ]
  },
  {
   "cell_type": "code",
   "execution_count": 8,
   "id": "b5fdd700-660c-464a-9794-c986960af2e5",
   "metadata": {},
   "outputs": [],
   "source": [
    "sequences, labels = train_data[0]"
   ]
  },
  {
   "cell_type": "code",
   "execution_count": 9,
   "id": "8cbff3a7-cb48-45f0-99ea-d80361af0468",
   "metadata": {},
   "outputs": [
    {
     "data": {
      "text/plain": [
       "(4, 1000, 148)"
      ]
     },
     "execution_count": 9,
     "metadata": {},
     "output_type": "execute_result"
    }
   ],
   "source": [
    "sequences.shape"
   ]
  },
  {
   "cell_type": "code",
   "execution_count": 10,
   "id": "d44a163e-717e-479d-8af5-cced4864fb9b",
   "metadata": {},
   "outputs": [
    {
     "data": {
      "text/plain": [
       "array([[[58, 42, 41, ..., 40, 34, 10],\n",
       "        [15, 60, 51, ..., 51, 13, 52],\n",
       "        [33,  7, 31, ..., 42, 42, 40],\n",
       "        ...,\n",
       "        [30, 56, 33, ..., 14, 58, 42],\n",
       "        [45, 55, 30, ..., 43, 44, 50],\n",
       "        [31, 62, 59, ..., 58, 41, 38]],\n",
       "\n",
       "       [[27, 47, 63, ..., 37, 20, 16],\n",
       "        [10, 41, 38, ...,  2, 10, 41],\n",
       "        [48,  2, 11, ..., 30, 58, 40],\n",
       "        ...,\n",
       "        [ 8, 34, 10, ..., 43, 46, 59],\n",
       "        [16,  2,  9, ..., 11, 46, 56],\n",
       "        [26, 40, 35, ..., 50,  8, 34]],\n",
       "\n",
       "       [[46, 59, 44, ..., 41, 38, 24],\n",
       "        [ 0,  2,  8, ..., 33,  6, 25],\n",
       "        [48,  0,  2, ..., 56, 33,  6],\n",
       "        ...,\n",
       "        [39, 29, 52, ..., 17,  6, 24],\n",
       "        [15, 62, 58, ..., 49,  7, 31],\n",
       "        [ 6, 27, 44, ..., 41, 38, 24]],\n",
       "\n",
       "       [[62, 59, 44, ..., 41, 38, 24],\n",
       "        [63, 62, 59, ..., 43, 45, 55],\n",
       "        [25, 38, 27, ..., 30, 58, 42],\n",
       "        ...,\n",
       "        [40, 32,  3, ...,  8, 35, 12],\n",
       "        [47, 63, 62, ..., 41, 37, 21],\n",
       "        [60, 48,  3, ..., 14, 57, 38]]], dtype=int32)"
      ]
     },
     "execution_count": 10,
     "metadata": {},
     "output_type": "execute_result"
    }
   ],
   "source": [
    "sequences"
   ]
  },
  {
   "cell_type": "code",
   "execution_count": 11,
   "id": "95f9148e-b1e5-4656-ac40-d5ed7186bd82",
   "metadata": {},
   "outputs": [
    {
     "data": {
      "text/plain": [
       "(4,)"
      ]
     },
     "execution_count": 11,
     "metadata": {},
     "output_type": "execute_result"
    }
   ],
   "source": [
    "labels.shape"
   ]
  },
  {
   "cell_type": "code",
   "execution_count": 12,
   "id": "3809417b-6d2c-4f65-a32d-bfb2ed924eee",
   "metadata": {},
   "outputs": [
    {
     "data": {
      "text/plain": [
       "array([1., 0., 1., 0.], dtype=float32)"
      ]
     },
     "execution_count": 12,
     "metadata": {},
     "output_type": "execute_result"
    }
   ],
   "source": [
    "labels"
   ]
  },
  {
   "cell_type": "markdown",
   "id": "60f21f24-8247-4af7-80ca-b8ddcca527fe",
   "metadata": {},
   "source": [
    "## Load a Pre-trained Model"
   ]
  },
  {
   "cell_type": "code",
   "execution_count": 13,
   "id": "7214aa61-3e0f-450a-ac8e-0c426996d700",
   "metadata": {},
   "outputs": [],
   "source": [
    "api = wandb.Api()"
   ]
  },
  {
   "cell_type": "code",
   "execution_count": 14,
   "id": "bc2cd4ee-f1f8-4174-a5d5-1a11547f1407",
   "metadata": {},
   "outputs": [
    {
     "name": "stderr",
     "output_type": "stream",
     "text": [
      "2023-09-08 03:03:16.603859: I tensorflow/core/platform/cpu_feature_guard.cc:193] This TensorFlow binary is optimized with oneAPI Deep Neural Network Library (oneDNN) to use the following CPU instructions in performance-critical operations:  SSE4.1 SSE4.2 AVX AVX2 FMA\n",
      "To enable them in other operations, rebuild TensorFlow with the appropriate compiler flags.\n",
      "2023-09-08 03:03:16.606173: I tensorflow/stream_executor/cuda/cuda_gpu_executor.cc:975] successful NUMA node read from SysFS had negative value (-1), but there must be at least one NUMA node, so returning NUMA node zero\n",
      "2023-09-08 03:03:16.606403: I tensorflow/stream_executor/cuda/cuda_gpu_executor.cc:975] successful NUMA node read from SysFS had negative value (-1), but there must be at least one NUMA node, so returning NUMA node zero\n",
      "2023-09-08 03:03:16.606568: I tensorflow/stream_executor/cuda/cuda_gpu_executor.cc:975] successful NUMA node read from SysFS had negative value (-1), but there must be at least one NUMA node, so returning NUMA node zero\n",
      "2023-09-08 03:03:17.054238: I tensorflow/stream_executor/cuda/cuda_gpu_executor.cc:975] successful NUMA node read from SysFS had negative value (-1), but there must be at least one NUMA node, so returning NUMA node zero\n",
      "2023-09-08 03:03:17.054440: I tensorflow/stream_executor/cuda/cuda_gpu_executor.cc:975] successful NUMA node read from SysFS had negative value (-1), but there must be at least one NUMA node, so returning NUMA node zero\n",
      "2023-09-08 03:03:17.054610: I tensorflow/stream_executor/cuda/cuda_gpu_executor.cc:975] successful NUMA node read from SysFS had negative value (-1), but there must be at least one NUMA node, so returning NUMA node zero\n",
      "2023-09-08 03:03:17.054744: I tensorflow/core/common_runtime/gpu/gpu_device.cc:1532] Created device /job:localhost/replica:0/task:0/device:GPU:0 with 22277 MB memory:  -> device: 0, name: NVIDIA GeForce RTX 3090, pci bus id: 0000:01:00.0, compute capability: 8.6\n"
     ]
    }
   ],
   "source": [
    "# path = api.artifact(\"sirdavidludwig/setbert-pretrain/setbert-pretrain-walker-abund-128d-250l:v3\").download()\n",
    "# pretrained_setbert = load_model(path).base\n",
    "\n",
    "path = \"./logs/models/setbert_taxonomy_naive\"\n",
    "pretrained_setbert = load_model(path).base.base"
   ]
  },
  {
   "cell_type": "code",
   "execution_count": 15,
   "id": "20113aa6-d53f-4ec8-bb28-fcba5ce8276f",
   "metadata": {},
   "outputs": [
    {
     "data": {
      "text/plain": [
       "<deepdna.nn.models.setbert.SetBertModel at 0x7feffd313880>"
      ]
     },
     "execution_count": 15,
     "metadata": {},
     "output_type": "execute_result"
    }
   ],
   "source": [
    "pretrained_setbert"
   ]
  },
  {
   "cell_type": "markdown",
   "id": "8bee4c00-89c1-4a47-89d9-4b4eeb5c3101",
   "metadata": {},
   "source": [
    "## Create a Predictor Model"
   ]
  },
  {
   "cell_type": "markdown",
   "id": "70f0da26-7b58-45ad-b3b7-85e35bab03fe",
   "metadata": {},
   "source": [
    "Since the base SetBERT model is just a stack of transformers, we need to fetch only the class token from the output so that we have a single output summarizing the entire sample. This is achieved by wrapping the pretrained base SetBERT model with `SetBertEncoderModel`."
   ]
  },
  {
   "cell_type": "code",
   "execution_count": 16,
   "id": "549af75c-719b-42fe-ba66-dddcf0b77b70",
   "metadata": {},
   "outputs": [],
   "source": [
    "encoder = setbert.SetBertEncoderModel(pretrained_setbert, compute_sequence_embeddings=True)"
   ]
  },
  {
   "cell_type": "markdown",
   "id": "8b26f051-8c5e-4a4f-8b0d-3c2040dbd4b8",
   "metadata": {},
   "source": [
    "Because the encoder will need to embed all of the sequences, we need to make sure we specify a chunk size so that it only processes a certain number of sequences at a time so that we do not run out of memory."
   ]
  },
  {
   "cell_type": "code",
   "execution_count": 17,
   "id": "db7847b8-dcfe-49d0-91eb-c230a5cd04c5",
   "metadata": {},
   "outputs": [],
   "source": [
    "encoder.chunk_size = 256"
   ]
  },
  {
   "cell_type": "code",
   "execution_count": 18,
   "id": "b6ecd173-406f-4250-936d-2fa9aa7cbfbc",
   "metadata": {},
   "outputs": [
    {
     "name": "stderr",
     "output_type": "stream",
     "text": [
      "2023-09-08 03:03:54.577933: I tensorflow/stream_executor/cuda/cuda_blas.cc:1786] TensorFloat-32 will be used for the matrix multiplication. This will only be logged once.\n"
     ]
    },
    {
     "data": {
      "text/plain": [
       "<tf.Tensor: shape=(4, 64), dtype=float32, numpy=\n",
       "array([[-18.81169   , -25.19563   ,  -0.15179968,  -2.2167826 ,\n",
       "          3.0202935 ,  -3.1814103 , -11.886603  ,  -2.2135344 ,\n",
       "         26.29296   ,   4.587865  ,   7.240786  , -20.821342  ,\n",
       "         12.450818  , -20.292656  ,  -1.7710929 ,  18.343336  ,\n",
       "        -14.949516  ,   4.2376156 ,  19.629473  , -12.796109  ,\n",
       "         10.95548   ,  -5.643384  ,   8.280922  ,   9.098734  ,\n",
       "         -3.4624014 ,  13.562147  , -33.110153  ,   2.254669  ,\n",
       "        -10.180323  ,  -1.6492329 ,  14.835     ,  -7.359783  ,\n",
       "         19.017002  ,  13.291755  , -14.175228  ,  23.225056  ,\n",
       "         12.748436  ,  -7.688333  , -11.956315  ,  23.17669   ,\n",
       "          8.95434   , -18.61464   ,  24.316778  , -16.623415  ,\n",
       "          9.457305  ,  -6.365667  , -12.421804  , -10.01412   ,\n",
       "          7.4583526 ,  20.190289  ,   8.348947  , -28.172504  ,\n",
       "          0.84661293, -17.361956  , -27.311045  ,   7.061784  ,\n",
       "         12.881136  ,  10.030384  ,  10.945988  ,  -6.6854734 ,\n",
       "        -29.867369  ,  10.85949   ,  25.676079  , -15.80109   ],\n",
       "       [  9.987783  ,  -2.3104472 , -15.42864   ,  12.099241  ,\n",
       "         19.994713  ,   4.2052097 ,   0.07377124,  12.673702  ,\n",
       "         12.463357  ,  -3.6373243 ,  -7.799565  ,  -4.7881393 ,\n",
       "          6.904962  , -25.44987   ,  -0.81735706,  -3.3270988 ,\n",
       "        -31.272856  , -10.220308  ,  -6.8828764 ,   5.190892  ,\n",
       "          6.932331  , -11.99386   , -17.177252  ,   2.7697492 ,\n",
       "          8.182385  ,   1.0605145 , -44.649635  ,  14.827551  ,\n",
       "         -8.819707  , -18.124495  ,   6.646173  , -20.898281  ,\n",
       "          3.49118   ,  -2.7806382 ,   8.500104  ,  15.516868  ,\n",
       "         -0.8666682 ,  -8.874493  ,  -4.893059  ,  13.868459  ,\n",
       "          8.815912  , -25.970282  ,  51.51349   , -27.209322  ,\n",
       "         14.543357  ,   7.504016  ,   2.8457074 ,  11.06987   ,\n",
       "         -7.6712933 ,   0.43846726, -19.716122  ,   9.333547  ,\n",
       "         -0.91877556,   2.469002  ,  -8.437656  ,  -0.64660215,\n",
       "         10.825879  ,   1.1532269 ,  -7.6578336 , -23.268974  ,\n",
       "          1.0887315 ,  28.977621  ,  35.19081   ,   3.4252195 ],\n",
       "       [  2.6576138 ,  -5.387253  , -14.028138  ,  12.48745   ,\n",
       "         26.93236   ,   4.5159945 ,  13.798836  ,   7.290068  ,\n",
       "         14.00588   ,  14.549465  ,   3.068431  , -13.961175  ,\n",
       "          1.5516057 , -22.569033  , -12.142295  ,  -1.8634305 ,\n",
       "        -21.919489  , -20.473745  , -13.422934  ,  -9.911787  ,\n",
       "          9.178022  ,  -8.58256   ,  -2.909061  ,  12.031243  ,\n",
       "         14.535819  ,   5.7763515 , -36.69914   ,   0.8285415 ,\n",
       "         -3.1304927 , -13.689011  ,  11.465559  , -22.920252  ,\n",
       "         14.895533  ,  -1.6655567 ,   5.0758677 ,  16.30992   ,\n",
       "         -2.5381038 ,  -3.2751913 ,  -1.7115538 ,  13.879522  ,\n",
       "         12.23357   , -38.918865  ,  56.273468  , -16.262419  ,\n",
       "          6.5019474 ,  14.413032  ,  11.22403   ,  14.476029  ,\n",
       "        -11.691113  ,  -1.7634363 , -26.63338   , -12.809477  ,\n",
       "         -6.447863  , -13.52688   ,   0.07822087,  -2.4300413 ,\n",
       "          9.693092  ,   3.374587  ,  -3.419005  , -16.810959  ,\n",
       "         -4.9224224 ,  20.792889  ,  34.62101   , -16.34798   ],\n",
       "       [ -2.4029956 , -22.845137  ,  -1.9207147 ,   2.9882364 ,\n",
       "         24.4501    ,   9.858697  ,  11.126751  ,  12.573475  ,\n",
       "         10.308466  ,  16.144224  ,  15.587786  , -20.704365  ,\n",
       "         22.14538   , -25.099207  , -25.3383    ,   1.1510421 ,\n",
       "        -21.70433   , -26.128174  ,  -5.6421323 ,  -2.2825828 ,\n",
       "          0.996274  , -11.79113   ,  -5.8270307 ,   4.553357  ,\n",
       "         -6.431953  ,   9.494139  , -27.429356  ,  -9.293678  ,\n",
       "         -6.6766195 ,  -2.919189  ,  21.913683  , -16.051361  ,\n",
       "         21.545282  ,   9.425006  ,  -6.129052  ,  13.99501   ,\n",
       "         -5.5475464 ,  -4.6957626 , -11.415878  ,  21.135647  ,\n",
       "         21.53979   ,  -9.526701  ,  35.030327  , -17.141548  ,\n",
       "         18.442066  ,   1.5208312 ,  18.296425  ,  -5.402071  ,\n",
       "          3.4498856 ,  10.951641  , -12.471334  , -10.744796  ,\n",
       "        -19.98333   , -22.74555   , -13.7974415 ,  -5.9802885 ,\n",
       "        -21.167572  ,  19.899548  ,  16.277222  , -17.344051  ,\n",
       "         -9.50653   ,  41.02166   ,  23.996397  , -20.080185  ]],\n",
       "      dtype=float32)>"
      ]
     },
     "execution_count": 18,
     "metadata": {},
     "output_type": "execute_result"
    }
   ],
   "source": [
    "encoder(sequences)"
   ]
  },
  {
   "cell_type": "code",
   "execution_count": 19,
   "id": "875f55f2-281b-4b27-9b6b-97893b2f6462",
   "metadata": {},
   "outputs": [],
   "source": [
    "x = encoder.input\n",
    "y = encoder.output\n",
    "y = tf.keras.layers.Dense(1, activation=\"sigmoid\", name=\"OO_Present\")(y)\n",
    "model = tf.keras.Model(x, y)\n",
    "model.compile(\n",
    "    optimizer=tf.keras.optimizers.Adam(1e-4),\n",
    "    loss=tf.keras.losses.BinaryCrossentropy(from_logits=False),\n",
    "    metrics=tf.keras.metrics.BinaryAccuracy()\n",
    ")"
   ]
  },
  {
   "cell_type": "code",
   "execution_count": 20,
   "id": "1d8b5e6b-bb1c-4640-869a-98d2f581bff8",
   "metadata": {},
   "outputs": [
    {
     "name": "stdout",
     "output_type": "stream",
     "text": [
      "Model: \"model_8\"\n",
      "_________________________________________________________________\n",
      " Layer (type)                Output Shape              Param #   \n",
      "=================================================================\n",
      " input_8 (InputLayer)        [(None, 1000, 148)]       0         \n",
      "                                                                 \n",
      " chunked_embedding_layer_1 (  (None, 1000, None)       1210496   \n",
      " ChunkedEmbeddingLayer)                                          \n",
      "                                                                 \n",
      " set_bert_model (SetBertMode  (None, 1001, 64)         2340672   \n",
      " l)                                                              \n",
      "                                                                 \n",
      " split_class_token_2 (SplitC  ((None, 64),             0         \n",
      " lassToken)                   (None, 1000, 64))                  \n",
      "                                                                 \n",
      " OO_Present (Dense)          (None, 1)                 65        \n",
      "                                                                 \n",
      "=================================================================\n",
      "Total params: 2,340,737\n",
      "Trainable params: 1,130,241\n",
      "Non-trainable params: 1,210,496\n",
      "_________________________________________________________________\n"
     ]
    }
   ],
   "source": [
    "model.summary()"
   ]
  },
  {
   "cell_type": "code",
   "execution_count": 21,
   "id": "1f36098d-5c90-4b21-8333-daed9d5a098e",
   "metadata": {},
   "outputs": [
    {
     "data": {
      "image/png": "[encoded data removed]",
      "text/plain": [
       "<IPython.core.display.Image object>"
      ]
     },
     "execution_count": 21,
     "metadata": {},
     "output_type": "execute_result"
    }
   ],
   "source": [
    "tf.keras.utils.plot_model(model, to_file=\"/tmp/model.png\")"
   ]
  },
  {
   "cell_type": "markdown",
   "id": "8645e4d6-f6da-4e3e-8209-a51a59324e6c",
   "metadata": {},
   "source": [
    "## Training the Model"
   ]
  },
  {
   "cell_type": "code",
   "execution_count": null,
   "id": "f0ddccca-c804-4c80-a770-0296271e61ac",
   "metadata": {},
   "outputs": [],
   "source": [
    "history = model.fit(train_data, validation_data=validation_data)"
   ]
  }
 ],
 "metadata": {
  "kernelspec": {
   "display_name": "Python 3 (ipykernel)",
   "language": "python",
   "name": "python3"
  },
  "language_info": {
   "codemirror_mode": {
    "name": "ipython",
    "version": 3
   },
   "file_extension": ".py",
   "mimetype": "text/x-python",
   "name": "python",
   "nbconvert_exporter": "python",
   "pygments_lexer": "ipython3",
   "version": "3.10.6"
  }
 },
 "nbformat": 4,
 "nbformat_minor": 5
}
