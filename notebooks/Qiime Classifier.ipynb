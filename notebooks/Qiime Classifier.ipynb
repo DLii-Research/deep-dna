{
 "cells": [
  {
   "cell_type": "code",
   "execution_count": 13,
   "id": "865c7c4c",
   "metadata": {},
   "outputs": [],
   "source": [
    "import sys\n",
    "sys.path.append(\"../\")"
   ]
  },
  {
   "cell_type": "code",
   "execution_count": 14,
   "id": "fdf9b80d-2039-45e1-ba40-324898ece2df",
   "metadata": {},
   "outputs": [],
   "source": [
    "from collections import defaultdict\n",
    "import gzip\n",
    "import itertools\n",
    "import joblib\n",
    "import numpy as np\n",
    "import os\n",
    "from pathlib import Path\n",
    "import subprocess\n",
    "from typing import Iterable, Union"
   ]
  },
  {
   "cell_type": "code",
   "execution_count": 15,
   "id": "d5045dd2",
   "metadata": {},
   "outputs": [],
   "source": [
    "def qiime(*args: Union[str, Path]):\n",
    "    return subprocess.check_output([\"qiime\", *args])"
   ]
  },
  {
   "cell_type": "markdown",
   "id": "bab78059",
   "metadata": {},
   "source": [
    "## Find the Data Files"
   ]
  },
  {
   "cell_type": "code",
   "execution_count": 16,
   "id": "5f52fbb4",
   "metadata": {},
   "outputs": [],
   "source": [
    "data_path = Path(\"/tmp/GreengenesSilva/\")\n",
    "train_path = data_path / \"train\"\n",
    "test_path = data_path / \"test\""
   ]
  },
  {
   "cell_type": "code",
   "execution_count": 17,
   "id": "8a94f949",
   "metadata": {},
   "outputs": [
    {
     "data": {
      "text/plain": [
       "[PosixPath('/tmp/GreengenesSilva/train/0.fasta'),\n",
       " PosixPath('/tmp/GreengenesSilva/train/0.fasta.db'),\n",
       " PosixPath('/tmp/GreengenesSilva/train/0.sequences.qza'),\n",
       " PosixPath('/tmp/GreengenesSilva/train/0.taxonomy.qza'),\n",
       " PosixPath('/tmp/GreengenesSilva/train/0_taxonomy.tsv'),\n",
       " PosixPath('/tmp/GreengenesSilva/train/0_taxonomy.tsv.db')]"
      ]
     },
     "execution_count": 17,
     "metadata": {},
     "output_type": "execute_result"
    }
   ],
   "source": [
    "files = sorted(list(train_path.iterdir()))\n",
    "files"
   ]
  },
  {
   "cell_type": "code",
   "execution_count": 18,
   "id": "c556ccc4",
   "metadata": {},
   "outputs": [
    {
     "data": {
      "text/plain": [
       "[PosixPath('/tmp/GreengenesSilva/train/0.fasta')]"
      ]
     },
     "execution_count": 18,
     "metadata": {},
     "output_type": "execute_result"
    }
   ],
   "source": [
    "fasta_files = list(filter(lambda f: f.name.endswith(\".fasta\"), files))\n",
    "fasta_files"
   ]
  },
  {
   "cell_type": "code",
   "execution_count": 19,
   "id": "851be6ec",
   "metadata": {},
   "outputs": [
    {
     "data": {
      "text/plain": [
       "[PosixPath('/tmp/GreengenesSilva/train/0_taxonomy.tsv')]"
      ]
     },
     "execution_count": 19,
     "metadata": {},
     "output_type": "execute_result"
    }
   ],
   "source": [
    "taxonomy_files = list(filter(lambda f: f.name.endswith(\"_taxonomy.tsv\"), files))\n",
    "taxonomy_files"
   ]
  },
  {
   "cell_type": "markdown",
   "id": "74a1ee81",
   "metadata": {},
   "source": [
    "## Create the Qiime Artifacts"
   ]
  },
  {
   "cell_type": "markdown",
   "id": "340744c7",
   "metadata": {},
   "source": [
    "### Sequences Artifact"
   ]
  },
  {
   "cell_type": "code",
   "execution_count": 20,
   "id": "29d09d03",
   "metadata": {},
   "outputs": [],
   "source": [
    "fasta_file = fasta_files[0]\n",
    "sequences_artifact = train_path / \"0.sequences.qza\""
   ]
  },
  {
   "cell_type": "code",
   "execution_count": 21,
   "id": "3b72996c",
   "metadata": {},
   "outputs": [
    {
     "data": {
      "text/plain": [
       "b'Imported /tmp/GreengenesSilva/train/0.fasta as DNASequencesDirectoryFormat to /tmp/GreengenesSilva/train/0.sequences.qza\\n'"
      ]
     },
     "execution_count": 21,
     "metadata": {},
     "output_type": "execute_result"
    }
   ],
   "source": [
    "qiime(\"tools\", \"import\",\n",
    "      \"--input-path\", fasta_file,\n",
    "      \"--output-path\", sequences_artifact,\n",
    "      \"--type\", \"FeatureData[Sequence]\"\n",
    ")"
   ]
  },
  {
   "cell_type": "markdown",
   "id": "c0170d85",
   "metadata": {},
   "source": [
    "### Taxonomy Artifact"
   ]
  },
  {
   "cell_type": "code",
   "execution_count": 22,
   "id": "98a5c478",
   "metadata": {},
   "outputs": [],
   "source": [
    "taxonomy_file = taxonomy_files[0]\n",
    "taxonomy_artifact = train_path / \"0.taxonomy.qza\""
   ]
  },
  {
   "cell_type": "code",
   "execution_count": 23,
   "id": "fc4425f3",
   "metadata": {},
   "outputs": [
    {
     "data": {
      "text/plain": [
       "b'Imported /tmp/GreengenesSilva/train/0_taxonomy.tsv as HeaderlessTSVTaxonomyFormat to /tmp/GreengenesSilva/train/0.taxonomy.qza\\n'"
      ]
     },
     "execution_count": 23,
     "metadata": {},
     "output_type": "execute_result"
    }
   ],
   "source": [
    "qiime(\"tools\", \"import\",\n",
    "    \"--input-path\", taxonomy_file,\n",
    "    \"--output-path\", taxonomy_artifact,\n",
    "    \"--input-format\", \"HeaderlessTSVTaxonomyFormat\",\n",
    "    \"--type\", \"FeatureData[Taxonomy]\"\n",
    ")"
   ]
  },
  {
   "cell_type": "code",
   "execution_count": 4,
   "id": "646a7cd1-df09-4722-9d22-eb3ad4ec0614",
   "metadata": {},
   "outputs": [
    {
     "name": "stdout",
     "output_type": "stream",
     "text": [
      "\u001b[32mSaved TaxonomicClassifier to: /tmp/qiime-artifacts/classifier.qza\u001b[0m\n",
      "\u001b[0m"
     ]
    }
   ],
   "source": [
    "!qiime feature-classifier fit-classifier-naive-bayes \\\n",
    "    --i-reference-reads /tmp/qiime-artifacts/train.0.qza \\\n",
    "    --i-reference-taxonomy /tmp/qiime-artifacts/train.0.taxonomy.qza \\\n",
    "    --o-classifier /tmp/qiime-artifacts/classifier.qza"
   ]
  },
  {
   "cell_type": "code",
   "execution_count": 1,
   "id": "3ef36e43-0317-42f7-ae01-e74c3cacdf14",
   "metadata": {},
   "outputs": [
    {
     "name": "stdout",
     "output_type": "stream",
     "text": [
      "\u001b[32mExported /tmp/qiime-artifacts/classifier.qza as TaxonomicClassiferTemporaryPickleDirFmt to directory /tmp/qiime-artifactsclassifier\u001b[0m\n",
      "\u001b[0m"
     ]
    }
   ],
   "source": [
    "!qiime tools export \\\n",
    "    --input-path /tmp/qiime-artifacts/classifier.qza \\\n",
    "    --output-path /tmp/qiime-artifacts/classifier"
   ]
  },
  {
   "cell_type": "code",
   "execution_count": 193,
   "id": "0f361147-ad69-4bf8-a634-6f56ae65b0c0",
   "metadata": {},
   "outputs": [
    {
     "data": {
      "text/plain": [
       "15"
      ]
     },
     "execution_count": 193,
     "metadata": {},
     "output_type": "execute_result"
    }
   ],
   "source": [
    "len(BASES + INCOMPLETE_BASES)"
   ]
  },
  {
   "cell_type": "markdown",
   "id": "37b00769",
   "metadata": {},
   "source": [
    "---"
   ]
  },
  {
   "cell_type": "code",
   "execution_count": 45,
   "id": "7e1aa730-dd34-43e6-b034-824e5c1cafa7",
   "metadata": {},
   "outputs": [],
   "source": [
    "BASES = \"ACGT\"\n",
    "INCOMPLETE_BASES = \"MRWSYKVHDBN\" # https://iubmb.qmul.ac.uk/misc/naseq.html\n",
    "\n",
    "BASE_MAP = {c: i for i, c in enumerate(BASES + INCOMPLETE_BASES)}\n",
    "BASE_MAP_REV = {i: c for c, i in BASE_MAP.items()}\n",
    "INCOMPLETE_BASE_MAP = {b: c for b, c in zip(INCOMPLETE_BASES, [c for n in range(2, 5) for c in itertools.combinations(BASES, n)])}\n",
    "ENC_INCOMPLETE_BASE_MAP = {BASE_MAP[b]: tuple(BASE_MAP[c] for c in cs) for b, cs in INCOMPLETE_BASE_MAP.items()}"
   ]
  },
  {
   "cell_type": "code",
   "execution_count": 185,
   "id": "f8e2fe60-0e69-4895-ad37-36715d95ffa5",
   "metadata": {},
   "outputs": [],
   "source": [
    "class GreengenesFasta:\n",
    "    def __init__(self, path, id_to_label_map, expanded_label_map, tax_map):\n",
    "        self.id_to_label_map = id_to_label_map\n",
    "        self.expanded_label_map = expanded_label_map\n",
    "        self.tax_map = tax_map\n",
    "        self.sequences: dict = None\n",
    "        self.augmentable_indices: dict = None\n",
    "        self.label_groups: dict = None\n",
    "        self.__load(path)\n",
    "\n",
    "    def __load(self, path):\n",
    "        self.sequences = {}\n",
    "        self.augmentable_indices = {}\n",
    "        label_groups = {}\n",
    "        open_method = gzip.open if path.endswith(\".gz\") else open\n",
    "        with open_method(path, 'rb') as f:\n",
    "            identifier = f.readline().decode()\n",
    "            while identifier:\n",
    "                identifier = int(identifier[1:])\n",
    "                self.sequences[identifier] = np.array([BASE_MAP[c] for c in f.readline().decode().rstrip()], dtype=np.uint8)\n",
    "                self.augmentable_indices[identifier] = np.where(self.sequences[identifier] >= 4)[0]\n",
    "\n",
    "                label = self.id_to_label_map[self.tax_map[identifier]]\n",
    "                if label not in label_groups:\n",
    "                    label_groups[label] = []\n",
    "                label_groups[label].append(identifier)\n",
    "\n",
    "                identifier = f.readline().decode()\n",
    "        self.label_groups = list(label_groups.values())\n",
    "\n",
    "    def num_labels(self):\n",
    "        return np.max(self.expanded_label_map, axis=0) + 1\n",
    "\n",
    "    def random_sequence(self, rng):\n",
    "        label = rng.integers(len(self.label_groups))\n",
    "        sequence_id = rng.choice(self.label_groups[label])\n",
    "        sequence = self.sequences[sequence_id]\n",
    "        indices = self.augmentable_indices[sequence_id]\n",
    "        label = self.expanded_label_map[self.id_to_label_map[sequence_id]]\n",
    "        return sequence, indices, label"
   ]
  },
  {
   "cell_type": "code",
   "execution_count": 2,
   "id": "a385b5cc-192e-49f4-85ad-43c91d803d87",
   "metadata": {},
   "outputs": [],
   "source": [
    "DATA_PATH = \"/tmp/qiime-artifacts\""
   ]
  },
  {
   "cell_type": "markdown",
   "id": "3a7757a6-6aad-4244-8df7-d013b14caed2",
   "metadata": {},
   "source": [
    "### Load label data"
   ]
  },
  {
   "cell_type": "code",
   "execution_count": 206,
   "id": "e3dfeab9-9988-4b00-b594-231f627570e1",
   "metadata": {},
   "outputs": [],
   "source": [
    "def parse_taxonomy_file(taxonomy_file):\n",
    "    label_to_id_map = {}\n",
    "    id_to_label_map = []\n",
    "    tax_map = {}\n",
    "    tax_groups = defaultdict(set)\n",
    "    with gzip.open(taxonomy_file) as f:\n",
    "        for line in f:\n",
    "            identifier, label = line.decode().rstrip().split('\\t')\n",
    "            if label not in label_to_id_map:\n",
    "                id_to_label_map.append(label)\n",
    "                label_to_id_map[label] = len(label_to_id_map)\n",
    "            tax_map[int(identifier)] = label_to_id_map[label]\n",
    "            tax_groups[label_to_id_map[label]].add(int(identifier))\n",
    "    return label_to_id_map, id_to_label_map, tax_map, tax_groups"
   ]
  },
  {
   "cell_type": "code",
   "execution_count": 207,
   "id": "284ff44d-9a7a-47dc-8f24-b8d592485afd",
   "metadata": {},
   "outputs": [],
   "source": [
    "label_to_id_map, id_to_label_map, tax_map, tax_groups = parse_taxonomy_file(os.path.join(DATA_PATH, \"../../gg_13_5_taxonomy.txt.gz\"))"
   ]
  },
  {
   "cell_type": "markdown",
   "id": "3cbaf56b-d565-4193-9e4d-c065ba4d60f6",
   "metadata": {},
   "source": [
    "### Load Sequences into Memory"
   ]
  },
  {
   "cell_type": "code",
   "execution_count": 208,
   "id": "3f9f74f9-7d38-4216-8c60-6739489ddc3e",
   "metadata": {},
   "outputs": [],
   "source": [
    "val_data = GreengenesFasta(os.path.join(DATA_PATH, \"val.fasta\"), id_to_label_map, expanded_label_map, tax_map)"
   ]
  },
  {
   "cell_type": "markdown",
   "id": "9c47d450-e09b-4e95-a1b7-f3f8980b2467",
   "metadata": {},
   "source": [
    "### Load Model"
   ]
  },
  {
   "cell_type": "code",
   "execution_count": 7,
   "id": "1a95af88-b1fd-4d45-8e59-80646f87ce1b",
   "metadata": {},
   "outputs": [],
   "source": [
    "# Extract the tar first...\n",
    "model = joblib.load(os.path.join(DATA_PATH, \"classifier/sklearn_pipeline.pkl\"))"
   ]
  },
  {
   "cell_type": "code",
   "execution_count": 15,
   "id": "5e61e745",
   "metadata": {},
   "outputs": [],
   "source": [
    "label_map = {}\n",
    "with open(\"/tmp/silva-splits/test.0.tsv\") as f:\n",
    "    for line in f:\n",
    "        identifier, label = line.rstrip().split('\\t')\n",
    "        label_map[identifier] = label"
   ]
  },
  {
   "cell_type": "code",
   "execution_count": null,
   "id": "f1e02a82",
   "metadata": {},
   "outputs": [],
   "source": [
    "open(\"/tmp/silva-splits/test.0.fasta\")\n",
    "open(\"/tmp/silva-splits/test.0.fasta\")\n",
    "from common.datasets import fasta_with_taxonomy_iterator"
   ]
  },
  {
   "cell_type": "code",
   "execution_count": 210,
   "id": "222bd6be-6765-4494-94f8-2010175b5ce2",
   "metadata": {},
   "outputs": [],
   "source": [
    "level_maps = [{'': -1} for _ in range(6)]\n",
    "label_map = {}\n",
    "expanded_labels = []\n",
    "for label in model.classes_:\n",
    "    label_map[label] = len(label_map)\n",
    "    expanded_label = np.empty(len(level_maps), dtype=int)\n",
    "    for i, (level_map, part) in enumerate(zip(level_maps, label.split('; '))):\n",
    "        part = part[3:]\n",
    "        if part not in level_map:\n",
    "            level_map[part] = len(level_map) - 1\n",
    "        expanded_label[i] = level_map[part]\n",
    "    expanded_labels.append(expanded_label)\n",
    "expanded_labels = np.array(expanded_labels)"
   ]
  },
  {
   "cell_type": "code",
   "execution_count": 211,
   "id": "67f911ab-3052-4dad-b4fc-97d864c5c33c",
   "metadata": {},
   "outputs": [],
   "source": [
    "val_expanded_labels = []\n",
    "for identifier in val_data.sequences:\n",
    "    label = id_to_label_map[tax_map[identifier]]\n",
    "    expanded_label = np.empty(len(level_maps), dtype=int)\n",
    "    for i, (level_map, part) in enumerate(zip(level_maps, label.split('; '))):\n",
    "        part = part[3:]\n",
    "        expanded_label[i] = level_map[part] if part in level_map else -1\n",
    "    val_expanded_labels.append(expanded_label)\n",
    "val_expanded_labels = np.array(val_expanded_labels)"
   ]
  },
  {
   "cell_type": "code",
   "execution_count": 212,
   "id": "fdf15798-6d81-4094-93a5-d7fc16c280ca",
   "metadata": {},
   "outputs": [],
   "source": [
    "import bisect"
   ]
  },
  {
   "cell_type": "code",
   "execution_count": 213,
   "id": "827c1993-81eb-4294-b5e4-03b10945802f",
   "metadata": {
    "tags": []
   },
   "outputs": [],
   "source": [
    "rng = np.random.default_rng(1)\n",
    "\n",
    "sequences = []\n",
    "y_true = []\n",
    "for identifier, sequence in val_data.sequences.items():\n",
    "    indices = val_data.augmentable_indices[identifier]\n",
    "    offset = rng.integers(len(sequence) - 150 + 1)\n",
    "    i = bisect.bisect_left(indices, offset)\n",
    "    augmented_sequence = sequence[offset:offset+150].copy() # allow write\n",
    "    while i < len(indices) and indices[i] - offset < len(augmented_sequence):\n",
    "        bases = ENC_INCOMPLETE_BASE_MAP[augmented_sequence[indices[i] - offset]]\n",
    "        augmented_sequence[indices[i] - offset] = rng.choice(bases)\n",
    "        i += 1\n",
    "    # label\n",
    "    label = id_to_label_map[tax_map[identifier]]\n",
    "    expanded_label = np.empty(len(level_maps), dtype=int)\n",
    "    for i, (level_map, part) in enumerate(zip(level_maps, label.split('; '))):\n",
    "        part = part[3:]\n",
    "        expanded_label[i] = level_map[part] if part in level_map else -1\n",
    "    sequences.append(\"\".join([BASE_MAP_REV[c] for c in augmented_sequence]))\n",
    "    y_true.append(expanded_label)\n",
    "sequences = np.array(sequences)\n",
    "y_true = np.array(y_true).T"
   ]
  },
  {
   "cell_type": "code",
   "execution_count": 214,
   "id": "8563e888-35ed-41ae-9077-ed125ea19ee8",
   "metadata": {},
   "outputs": [],
   "source": [
    "model.predict(sequences[:1])"
   ]
  },
  {
   "cell_type": "code",
   "execution_count": 215,
   "id": "57314ff7-57d0-4a02-9af3-f56da38c6f95",
   "metadata": {},
   "outputs": [],
   "source": [
    "predictions = np.argmax(model.predict_proba(sequences), axis=1)"
   ]
  },
  {
   "cell_type": "code",
   "execution_count": 216,
   "id": "db3b4877-c252-4764-8fd3-769e3bb92811",
   "metadata": {},
   "outputs": [
    {
     "data": {
      "text/plain": [
       "array([[  1,  20, 108, 148,  -1,  -1],\n",
       "       [  1,  29, 119, 166, 231, 409],\n",
       "       [  1,   6,  34,  37,  -1,  -1],\n",
       "       ...,\n",
       "       [  1,  13,  67,  71, 126, 201],\n",
       "       [  1,  29, 120, 169, 245, 467],\n",
       "       [  1,  -1,  -1,  -1,  -1,  -1]])"
      ]
     },
     "execution_count": 216,
     "metadata": {},
     "output_type": "execute_result"
    }
   ],
   "source": [
    "expanded_labels[predictions]"
   ]
  },
  {
   "cell_type": "code",
   "execution_count": 217,
   "id": "b9cf3aac-bce4-4c6b-abf1-82e908ae87df",
   "metadata": {},
   "outputs": [],
   "source": [
    "accuracies = []\n",
    "for level_true, level_pred in zip(y_true, expanded_labels[predictions].T):\n",
    "    indices = np.where(level_true != -1)\n",
    "    accuracies.append(np.mean(level_true[indices] == level_pred[indices]))"
   ]
  },
  {
   "cell_type": "code",
   "execution_count": 220,
   "id": "564429df-3397-47b3-a4be-9a68c9da678a",
   "metadata": {},
   "outputs": [
    {
     "name": "stdout",
     "output_type": "stream",
     "text": [
      "Qiime Classifier Seed 0\n"
     ]
    },
    {
     "data": {
      "text/plain": [
       "[0.9995722806155991,\n",
       " 0.952974899594413,\n",
       " 0.9302736381039162,\n",
       " 0.8948988348681388,\n",
       " 0.795334428494946,\n",
       " 0.7338880718893873]"
      ]
     },
     "execution_count": 220,
     "metadata": {},
     "output_type": "execute_result"
    }
   ],
   "source": [
    "print(\"Qiime Classifier Seed 0\")\n",
    "accuracies"
   ]
  },
  {
   "cell_type": "code",
   "execution_count": null,
   "id": "338ed92d-b102-4de7-8469-d5d57f1e9c91",
   "metadata": {},
   "outputs": [],
   "source": []
  }
 ],
 "metadata": {
  "kernelspec": {
   "display_name": "Python 3 (ipykernel)",
   "language": "python",
   "name": "python3"
  },
  "language_info": {
   "codemirror_mode": {
    "name": "ipython",
    "version": 3
   },
   "file_extension": ".py",
   "mimetype": "text/x-python",
   "name": "python",
   "nbconvert_exporter": "python",
   "pygments_lexer": "ipython3",
   "version": "3.8.13"
  }
 },
 "nbformat": 4,
 "nbformat_minor": 5
}
