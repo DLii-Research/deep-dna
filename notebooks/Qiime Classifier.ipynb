{
 "cells": [
  {
   "cell_type": "code",
   "execution_count": 1,
   "id": "865c7c4c",
   "metadata": {},
   "outputs": [],
   "source": [
    "import sys\n",
    "sys.path.append(\"../src\")"
   ]
  },
  {
   "cell_type": "code",
   "execution_count": 25,
   "id": "fdf9b80d-2039-45e1-ba40-324898ece2df",
   "metadata": {},
   "outputs": [],
   "source": [
    "from collections import defaultdict\n",
    "import gzip\n",
    "import itertools\n",
    "import joblib\n",
    "import matplotlib.pyplot as plt\n",
    "import numpy as np\n",
    "import os\n",
    "from pathlib import Path\n",
    "import subprocess\n",
    "from typing import Iterable, Union"
   ]
  },
  {
   "cell_type": "code",
   "execution_count": 3,
   "id": "d5045dd2",
   "metadata": {},
   "outputs": [],
   "source": [
    "def qiime(*args: Union[str, Path]):\n",
    "    return subprocess.check_output([\"/opt/conda/envs/qiime2-2022.8/bin/qiime\", *args])"
   ]
  },
  {
   "cell_type": "markdown",
   "id": "bab78059",
   "metadata": {},
   "source": [
    "## Find the Data Files"
   ]
  },
  {
   "cell_type": "code",
   "execution_count": 4,
   "id": "5f52fbb4",
   "metadata": {},
   "outputs": [],
   "source": [
    "train_path = Path(\"/home/dwl2x/work/qiime-classifier\")\n",
    "train_path.mkdir(exist_ok=True)"
   ]
  },
  {
   "cell_type": "code",
   "execution_count": 13,
   "id": "c556ccc4",
   "metadata": {},
   "outputs": [
    {
     "data": {
      "text/plain": [
       "[PosixPath('/home/dwl2x/work/Datasets/Silva/Silva_138.1.fasta')]"
      ]
     },
     "execution_count": 13,
     "metadata": {},
     "output_type": "execute_result"
    }
   ],
   "source": [
    "fasta_files = [Path(\"/home/dwl2x/work/Datasets/Silva/Silva_138.1.fasta\")]\n",
    "fasta_files"
   ]
  },
  {
   "cell_type": "code",
   "execution_count": 14,
   "id": "851be6ec",
   "metadata": {},
   "outputs": [
    {
     "data": {
      "text/plain": [
       "[PosixPath('/home/dwl2x/work/Datasets/Silva/Silva_138.1.tax.tsv')]"
      ]
     },
     "execution_count": 14,
     "metadata": {},
     "output_type": "execute_result"
    }
   ],
   "source": [
    "taxonomy_files = [Path(\"/home/dwl2x/work/Datasets/Silva/Silva_138.1.tax.tsv\")]\n",
    "taxonomy_files"
   ]
  },
  {
   "cell_type": "markdown",
   "id": "74a1ee81",
   "metadata": {},
   "source": [
    "## Create the Qiime Artifacts"
   ]
  },
  {
   "cell_type": "markdown",
   "id": "340744c7",
   "metadata": {},
   "source": [
    "### Sequences Artifact"
   ]
  },
  {
   "cell_type": "code",
   "execution_count": 15,
   "id": "29d09d03",
   "metadata": {},
   "outputs": [],
   "source": [
    "fasta_file = fasta_files[0]\n",
    "sequences_artifact = train_path / \"0.sequences.qza\""
   ]
  },
  {
   "cell_type": "code",
   "execution_count": 16,
   "id": "3b72996c",
   "metadata": {},
   "outputs": [
    {
     "data": {
      "text/plain": [
       "b'Imported /home/dwl2x/work/Datasets/Silva/Silva_138.1.fasta as DNASequencesDirectoryFormat to /home/dwl2x/work/qiime-classifier/0.sequences.qza\\n'"
      ]
     },
     "execution_count": 16,
     "metadata": {},
     "output_type": "execute_result"
    }
   ],
   "source": [
    "qiime(\"tools\", \"import\",\n",
    "      \"--input-path\", fasta_file,\n",
    "      \"--output-path\", sequences_artifact,\n",
    "      \"--type\", \"FeatureData[Sequence]\"\n",
    ")"
   ]
  },
  {
   "cell_type": "markdown",
   "id": "c0170d85",
   "metadata": {},
   "source": [
    "### Taxonomy Artifact"
   ]
  },
  {
   "cell_type": "code",
   "execution_count": 17,
   "id": "98a5c478",
   "metadata": {},
   "outputs": [],
   "source": [
    "taxonomy_file = taxonomy_files[0]\n",
    "taxonomy_artifact = train_path / \"0.taxonomy.qza\""
   ]
  },
  {
   "cell_type": "code",
   "execution_count": 18,
   "id": "fc4425f3",
   "metadata": {},
   "outputs": [
    {
     "data": {
      "text/plain": [
       "b'Imported /home/dwl2x/work/Datasets/Silva/Silva_138.1.tax.tsv as HeaderlessTSVTaxonomyFormat to /home/dwl2x/work/qiime-classifier/0.taxonomy.qza\\n'"
      ]
     },
     "execution_count": 18,
     "metadata": {},
     "output_type": "execute_result"
    }
   ],
   "source": [
    "qiime(\"tools\", \"import\",\n",
    "    \"--input-path\", taxonomy_file,\n",
    "    \"--output-path\", taxonomy_artifact,\n",
    "    \"--input-format\", \"HeaderlessTSVTaxonomyFormat\",\n",
    "    \"--type\", \"FeatureData[Taxonomy]\"\n",
    ")"
   ]
  },
  {
   "cell_type": "code",
   "execution_count": null,
   "id": "cc26ef21-265c-41c1-a33d-3e19a2d6c6e2",
   "metadata": {},
   "outputs": [],
   "source": [
    "qiime(\"feature-classifier\", \"fit-classifier-naive-bayes\",\n",
    "    \"--i-reference-reads\", train_path / \"0.sequences.qza\",\n",
    "    \"--i-reference-taxonomy\", train_path / \"0.taxonomy.qza\",\n",
    "    \"--o-classifier\", train_path / \"classifier.qza\"\n",
    ")"
   ]
  },
  {
   "cell_type": "code",
   "execution_count": 27,
   "id": "5dc82da7-4702-4069-8051-c2afdb9014d9",
   "metadata": {},
   "outputs": [
    {
     "data": {
      "text/plain": [
       "b'Exported /home/dwl2x/work/qiime-classifier/classifier.qza as TaxonomicClassiferTemporaryPickleDirFmt to directory /home/dwl2x/work/qiime-classifier/classifier\\n'"
      ]
     },
     "execution_count": 27,
     "metadata": {},
     "output_type": "execute_result"
    }
   ],
   "source": [
    "qiime(\"tools\", \"export\",\n",
    "    \"--input-path\", train_path / \"classifier.qza\",\n",
    "    \"--output-path\", train_path / \"classifier\"\n",
    ")"
   ]
  },
  {
   "cell_type": "code",
   "execution_count": 1,
   "id": "3ef36e43-0317-42f7-ae01-e74c3cacdf14",
   "metadata": {},
   "outputs": [
    {
     "name": "stdout",
     "output_type": "stream",
     "text": [
      "\u001b[32mExported /tmp/qiime-artifacts/classifier.qza as TaxonomicClassiferTemporaryPickleDirFmt to directory /tmp/qiime-artifactsclassifier\u001b[0m\n",
      "\u001b[0m"
     ]
    }
   ],
   "source": [
    "!qiime tools export \\\n",
    "    --input-path /tmp/qiime-artifacts/classifier.qza \\\n",
    "    --output-path /tmp/qiime-artifacts/classifier"
   ]
  },
  {
   "cell_type": "code",
   "execution_count": 193,
   "id": "0f361147-ad69-4bf8-a634-6f56ae65b0c0",
   "metadata": {},
   "outputs": [
    {
     "data": {
      "text/plain": [
       "15"
      ]
     },
     "execution_count": 193,
     "metadata": {},
     "output_type": "execute_result"
    }
   ],
   "source": [
    "len(BASES + INCOMPLETE_BASES)"
   ]
  },
  {
   "cell_type": "markdown",
   "id": "37b00769",
   "metadata": {},
   "source": [
    "---"
   ]
  },
  {
   "cell_type": "code",
   "execution_count": 5,
   "id": "ffd6d4f9-ebcb-49ba-a7ed-116fcbd92b53",
   "metadata": {},
   "outputs": [],
   "source": [
    "# from deepdna.data import dataset\n",
    "from tqdm.contrib.concurrent import process_map\n",
    "from tqdm.auto import tqdm\n",
    "import time"
   ]
  },
  {
   "cell_type": "markdown",
   "id": "9c47d450-e09b-4e95-a1b7-f3f8980b2467",
   "metadata": {},
   "source": [
    "### Load Model"
   ]
  },
  {
   "cell_type": "code",
   "execution_count": 6,
   "id": "5f609427-7017-411e-b205-ba7a198c4585",
   "metadata": {},
   "outputs": [],
   "source": [
    "def find_fastas_and_taxonomies(path: str):\n",
    "    path = Path(path)\n",
    "    fastas = []\n",
    "    taxas = []\n",
    "    for f in path.iterdir():\n",
    "        if str(f).endswith(\".fasta\"):\n",
    "            fastas.append(f)\n",
    "        elif str(f).endswith(\".tax.tsv\"):\n",
    "            taxas.append(f)\n",
    "    fastas.sort()\n",
    "    taxas.sort()\n",
    "    return zip(fastas, taxas)"
   ]
  },
  {
   "cell_type": "code",
   "execution_count": 7,
   "id": "1f6c9521-fc2f-47fa-bd01-e052a5badfdb",
   "metadata": {},
   "outputs": [],
   "source": [
    "def read_fasta_and_taxonomies(fasta_path, tax_path):\n",
    "    fasta_file = open(fasta_path)\n",
    "    tax_file = open(tax_path)\n",
    "    tax_map = {}\n",
    "    for line in tax_file:\n",
    "        identifier, label = line.strip().split('\\t')\n",
    "        tax_map[identifier] = label\n",
    "    sequences = []\n",
    "    labels = []\n",
    "    header = fasta_file.readline().strip()\n",
    "    while header:\n",
    "        identifier = header[1:].split(' ')[0]\n",
    "        sequence = fasta_file.readline().strip()\n",
    "        sequences.append(sequence)\n",
    "        labels.append(tax_map[identifier])\n",
    "        header = fasta_file.readline().strip()\n",
    "    fasta_file.close()\n",
    "    tax_file.close()\n",
    "    return sequences, labels"
   ]
  },
  {
   "cell_type": "code",
   "execution_count": 8,
   "id": "1a95af88-b1fd-4d45-8e59-80646f87ce1b",
   "metadata": {},
   "outputs": [],
   "source": [
    "# Extract the tar first...\n",
    "model = joblib.load(os.path.join(train_path, \"classifier/sklearn_pipeline.pkl\"))"
   ]
  },
  {
   "cell_type": "code",
   "execution_count": 9,
   "id": "d7bc78c4-c92e-4163-af37-a37fa3b682c3",
   "metadata": {},
   "outputs": [
    {
     "data": {
      "text/plain": [
       "2100"
      ]
     },
     "execution_count": 9,
     "metadata": {},
     "output_type": "execute_result"
    }
   ],
   "source": [
    "files = list(find_fastas_and_taxonomies(\"/home/dwl2x/work/Datasets/Synthetic/Nachusa/test\"))\n",
    "len(files)"
   ]
  },
  {
   "cell_type": "code",
   "execution_count": 15,
   "id": "2fe6283f-f6de-458a-9386-9e693085ea9e",
   "metadata": {
    "tags": []
   },
   "outputs": [
    {
     "name": "stdout",
     "output_type": "stream",
     "text": [
      "2100/2100"
     ]
    },
    {
     "data": {
      "application/json": {
       "ascii": false,
       "bar_format": null,
       "colour": null,
       "elapsed": 0.011015176773071289,
       "initial": 0,
       "n": 0,
       "ncols": null,
       "nrows": null,
       "postfix": null,
       "prefix": "",
       "rate": null,
       "total": 0,
       "unit": "it",
       "unit_divisor": 1000,
       "unit_scale": false
      },
      "application/vnd.jupyter.widget-view+json": {
       "model_id": "5247053b56b948b885347533c2917b21",
       "version_major": 2,
       "version_minor": 0
      },
      "text/plain": [
       "0it [00:00, ?it/s]"
      ]
     },
     "metadata": {},
     "output_type": "display_data"
    },
    {
     "name": "stdout",
     "output_type": "stream",
     "text": [
      "654.5265138149261\n"
     ]
    }
   ],
   "source": [
    "t = time.time()\n",
    "def run(args):\n",
    "    fasta_file, tax_file = args\n",
    "    sequences, labels = read_fasta_and_taxonomies(fasta_file, tax_file)\n",
    "    pred = model.predict(sequences)\n",
    "    return np.sum(pred == labels) / len(labels)\n",
    "accuracies = process_map(run, files, max_workers=64)\n",
    "print(time.time() - t)\n",
    "accuracies = np.array(accuracies)"
   ]
  },
  {
   "cell_type": "code",
   "execution_count": 19,
   "id": "143194d2-d428-4c65-a107-1cd6d4bb749f",
   "metadata": {},
   "outputs": [
    {
     "data": {
      "text/plain": [
       "2100"
      ]
     },
     "execution_count": 19,
     "metadata": {},
     "output_type": "execute_result"
    }
   ],
   "source": [
    "len(accuracies)"
   ]
  },
  {
   "cell_type": "code",
   "execution_count": 20,
   "id": "4c187d69-d3f6-41ad-87ad-5507f7b88256",
   "metadata": {},
   "outputs": [
    {
     "name": "stdout",
     "output_type": "stream",
     "text": [
      "Qiime (Naive Predictions):\n",
      "Evaluated across 210 Samples (10 subsamples of 1,000 sequences each):\n",
      "Metrics are computed across 2,100 subsamples.\n",
      "Min: 48.000000%\n",
      "Mean: 80.838476%\n",
      "Max: 86.700000%\n",
      "STD: 3.859346%\n"
     ]
    }
   ],
   "source": [
    "print(\"Qiime:\")\n",
    "print(\"Evaluated across 210 Samples (10 subsamples of 1,000 sequences each):\")\n",
    "print(\"Metrics are computed across 2,100 subsamples.\")\n",
    "print(f\"Min: {np.min(accuracies):%}\")\n",
    "print(f\"Mean: {np.mean(accuracies):%}\")\n",
    "print(f\"Max: {np.max(accuracies):%}\")\n",
    "print(f\"STD: {np.std(accuracies):%}\")"
   ]
  },
  {
   "cell_type": "code",
   "execution_count": 23,
   "id": "e25d1be2-ea33-4775-b0cb-01d77bc1ae8e",
   "metadata": {},
   "outputs": [],
   "source": [
    "np.savetxt(\"./logs/qiime_taxonomy_accuracy.txt\", accuracies)"
   ]
  },
  {
   "cell_type": "code",
   "execution_count": 21,
   "id": "4738da03-473a-4f23-8822-872acab88073",
   "metadata": {},
   "outputs": [],
   "source": [
    "accuracies_dnabert = np.loadtxt(\"./logs/dnabert_taxonomy_naive_accuracy.txt\")\n",
    "accuracies_setbert = np.loadtxt(\"./logs/setbert_taxonomy_naive_full_accuracy.txt\")"
   ]
  },
  {
   "cell_type": "code",
   "execution_count": 28,
   "id": "d0e286d5-745d-4a98-8040-b381cccf2083",
   "metadata": {},
   "outputs": [
    {
     "data": {
      "image/png": "[encoded data removed]",
      "text/plain": [
       "<Figure size 640x480 with 1 Axes>"
      ]
     },
     "metadata": {},
     "output_type": "display_data"
    }
   ],
   "source": [
    "plt.title(\"Naive Taxonomic Classification Comparison\")\n",
    "plt.boxplot([accuracies, accuracies_dnabert, accuracies_setbert], notch=True, labels=[\"Qiime\", \"DNABERT\", \"SetBERT (w/ Backprop)\"])\n",
    "plt.show()"
   ]
  }
 ],
 "metadata": {
  "kernelspec": {
   "display_name": "Python 3 (Qiime2)",
   "language": "python",
   "name": "qiime2-2022.8"
  },
  "language_info": {
   "codemirror_mode": {
    "name": "ipython",
    "version": 3
   },
   "file_extension": ".py",
   "mimetype": "text/x-python",
   "name": "python",
   "nbconvert_exporter": "python",
   "pygments_lexer": "ipython3",
   "version": "3.8.13"
  }
 },
 "nbformat": 4,
 "nbformat_minor": 5
}
