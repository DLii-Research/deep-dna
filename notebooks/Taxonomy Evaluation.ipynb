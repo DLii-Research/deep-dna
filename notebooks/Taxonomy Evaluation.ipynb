{
 "cells": [
  {
   "cell_type": "markdown",
   "id": "103d0a0f-1c4d-4645-81d6-2061cc9fea5d",
   "metadata": {},
   "source": [
    "# Taxonomy Evaluation\n",
    "\n",
    "This notebook evaluates all of the trained taxonomy models, producing the plots for the manuscript."
   ]
  },
  {
   "cell_type": "code",
   "execution_count": 1,
   "id": "1190205e-64d8-4fb8-aa52-e7e41304387b",
   "metadata": {},
   "outputs": [],
   "source": [
    "from dnadb import fasta, sample, taxonomy\n",
    "from pathlib import Path\n",
    "import subprocess\n",
    "import wandb"
   ]
  },
  {
   "cell_type": "code",
   "execution_count": 2,
   "id": "8a5cab86-78fd-4f3f-bfeb-a88cf0a3bfc8",
   "metadata": {},
   "outputs": [],
   "source": [
    "HOME = Path.home()"
   ]
  },
  {
   "cell_type": "code",
   "execution_count": 3,
   "id": "fd6ab49c-b413-40b3-a4c7-e6f8aca9bc37",
   "metadata": {},
   "outputs": [],
   "source": [
    "# The path to the synthetic datasets\n",
    "synthetic_root = HOME / \"work/Datasets/Synthetic\""
   ]
  },
  {
   "cell_type": "code",
   "execution_count": 4,
   "id": "ffc9c427-f854-4f19-89ea-9c3f4da06f42",
   "metadata": {},
   "outputs": [],
   "source": [
    "output_root = Path(\"../logs/taxonomy_classification\")\n",
    "output_root.mkdir(exist_ok=True, parents=True)"
   ]
  },
  {
   "cell_type": "code",
   "execution_count": 5,
   "id": "4addb47c-2047-4f37-b6bf-bb2e2a8eef76",
   "metadata": {},
   "outputs": [],
   "source": [
    "# The synthetic datasets to use\n",
    "datasets = [\"Nachusa\", \"Hopland\", \"Wetland\", \"SFD\"]"
   ]
  },
  {
   "cell_type": "code",
   "execution_count": 6,
   "id": "b88fa60d-b638-45fa-a1da-4b8675c20da6",
   "metadata": {},
   "outputs": [],
   "source": [
    "synthetic_classifiers = [\"Naive\", \"Bertax\", \"Topdown\"]"
   ]
  },
  {
   "cell_type": "markdown",
   "id": "3a3b693a-7047-4d99-97ea-9b59f228effc",
   "metadata": {},
   "source": [
    "---\n",
    "\n",
    "## Predictions"
   ]
  },
  {
   "cell_type": "code",
   "execution_count": 27,
   "id": "5b7ce70d-0015-450d-91e1-10362d6d0a04",
   "metadata": {},
   "outputs": [],
   "source": [
    "# Used to enable/disable evalutation cells in this notebook.\n",
    "# This is primarily used as a safety precaution to prevent\n",
    "# overwriting data.\n",
    "COMPUTE_PREDICTIONS = True\n",
    "SKIP_EXISTING = True"
   ]
  },
  {
   "cell_type": "code",
   "execution_count": 8,
   "id": "6213527a-8c9b-45ad-a583-3ef93cdb121c",
   "metadata": {},
   "outputs": [],
   "source": [
    "tf_arguments = [\n",
    "    \"--gpu-ids\", 0\n",
    "]"
   ]
  },
  {
   "cell_type": "code",
   "execution_count": 9,
   "id": "29dbb0d2-5c41-44ea-9665-4abc1dcae10e",
   "metadata": {},
   "outputs": [],
   "source": [
    "def fastas_to_process(input_path, output_path, skip_existing):\n",
    "    \"\"\"\n",
    "    Find FASTA files to process\n",
    "    \"\"\"\n",
    "    existing_tax_files = set()\n",
    "    if skip_existing:\n",
    "        existing_tax_files.update([f.name for f in output_path.iterdir()])\n",
    "    for f in input_path.iterdir():\n",
    "        if f.suffix != \".fasta\":\n",
    "            continue\n",
    "        if skip_existing and f.with_suffix(\".tax.tsv\").name in existing_tax_files:\n",
    "            continue\n",
    "        yield f"
   ]
  },
  {
   "cell_type": "code",
   "execution_count": 33,
   "id": "b715c4da-bf70-433e-8b60-25721264858b",
   "metadata": {},
   "outputs": [],
   "source": [
    "def evaluate(name, script, datasets, synthetic_classifiers, python_path=\"python3\", args=None):\n",
    "    assert COMPUTE_PREDICTIONS, \"Evaluation disabled.\"\n",
    "    assert output_root.is_dir(), \"Output directory does not exist.\"\n",
    "    args = args or []\n",
    "    for dataset in datasets:\n",
    "        for synthetic_type in synthetic_classifiers:\n",
    "            path = synthetic_root / dataset / synthetic_type / \"test\"\n",
    "            output_path = output_root / name / dataset / synthetic_type\n",
    "            output_path.mkdir(exist_ok=True, parents=True)\n",
    "            fastas = list(fastas_to_process(path, output_path, SKIP_EXISTING))\n",
    "            if len(fastas) == 0:\n",
    "                print(\"Skipping:\", dataset, synthetic_type)\n",
    "                continue\n",
    "            subprocess.run(\n",
    "                map(str, [python_path, script, output_path, *args]),\n",
    "                universal_newlines=True,\n",
    "                input='\\n'.join(map(str, fastas))\n",
    "            )"
   ]
  },
  {
   "cell_type": "markdown",
   "id": "fe7fb702-dd97-4492-a09a-cfd2b4c42663",
   "metadata": {},
   "source": [
    "### Qiime2"
   ]
  },
  {
   "cell_type": "code",
   "execution_count": 11,
   "id": "ffef7b9c-91f3-4bda-a5a1-48f759acc58e",
   "metadata": {},
   "outputs": [],
   "source": [
    "q2_classifier_path = HOME / \"work/qiime-classifier/classifier\""
   ]
  },
  {
   "cell_type": "code",
   "execution_count": 12,
   "id": "e343e94c-e8e4-4080-812a-dec146e34f18",
   "metadata": {},
   "outputs": [],
   "source": [
    "max_workers = 48"
   ]
  },
  {
   "cell_type": "code",
   "execution_count": 13,
   "id": "c4a284ac-4071-4c4e-b537-8feef300f5b2",
   "metadata": {},
   "outputs": [
    {
     "name": "stdout",
     "output_type": "stream",
     "text": [
      "Writing to: ../logs/taxonomy_classification/q2_naive_bayes/Nachusa/Naive\n"
     ]
    },
    {
     "name": "stderr",
     "output_type": "stream",
     "text": [
      "100%|██████████| 2100/2100 [11:35<00:00,  3.02it/s]\n"
     ]
    },
    {
     "name": "stdout",
     "output_type": "stream",
     "text": [
      "Writing to: ../logs/taxonomy_classification/q2_naive_bayes/Nachusa/Bertax\n"
     ]
    },
    {
     "name": "stderr",
     "output_type": "stream",
     "text": [
      "100%|██████████| 2100/2100 [11:31<00:00,  3.04it/s]\n"
     ]
    },
    {
     "name": "stdout",
     "output_type": "stream",
     "text": [
      "Writing to: ../logs/taxonomy_classification/q2_naive_bayes/Nachusa/Topdown\n"
     ]
    },
    {
     "name": "stderr",
     "output_type": "stream",
     "text": [
      "100%|██████████| 2100/2100 [11:31<00:00,  3.04it/s]\n"
     ]
    },
    {
     "name": "stdout",
     "output_type": "stream",
     "text": [
      "Writing to: ../logs/taxonomy_classification/q2_naive_bayes/Hopland/Naive\n"
     ]
    },
    {
     "name": "stderr",
     "output_type": "stream",
     "text": [
      "100%|██████████| 1280/1280 [07:08<00:00,  2.99it/s]\n"
     ]
    },
    {
     "name": "stdout",
     "output_type": "stream",
     "text": [
      "Writing to: ../logs/taxonomy_classification/q2_naive_bayes/Hopland/Bertax\n"
     ]
    },
    {
     "name": "stderr",
     "output_type": "stream",
     "text": [
      "100%|██████████| 1280/1280 [07:07<00:00,  2.99it/s]\n"
     ]
    },
    {
     "name": "stdout",
     "output_type": "stream",
     "text": [
      "Writing to: ../logs/taxonomy_classification/q2_naive_bayes/Hopland/Topdown\n"
     ]
    },
    {
     "name": "stderr",
     "output_type": "stream",
     "text": [
      "100%|██████████| 1280/1280 [07:07<00:00,  2.99it/s]\n"
     ]
    },
    {
     "name": "stdout",
     "output_type": "stream",
     "text": [
      "Writing to: ../logs/taxonomy_classification/q2_naive_bayes/Wetland/Naive\n"
     ]
    },
    {
     "name": "stderr",
     "output_type": "stream",
     "text": [
      "100%|██████████| 7680/7680 [41:42<00:00,  3.07it/s]  \n"
     ]
    },
    {
     "name": "stdout",
     "output_type": "stream",
     "text": [
      "Writing to: ../logs/taxonomy_classification/q2_naive_bayes/Wetland/Bertax\n"
     ]
    },
    {
     "name": "stderr",
     "output_type": "stream",
     "text": [
      "100%|██████████| 7680/7680 [41:37<00:00,  3.07it/s]  \n"
     ]
    },
    {
     "name": "stdout",
     "output_type": "stream",
     "text": [
      "Writing to: ../logs/taxonomy_classification/q2_naive_bayes/Wetland/Topdown\n"
     ]
    },
    {
     "name": "stderr",
     "output_type": "stream",
     "text": [
      "100%|██████████| 7680/7680 [41:38<00:00,  3.07it/s]  \n"
     ]
    },
    {
     "name": "stdout",
     "output_type": "stream",
     "text": [
      "Writing to: ../logs/taxonomy_classification/q2_naive_bayes/SFD/Naive\n"
     ]
    },
    {
     "name": "stderr",
     "output_type": "stream",
     "text": [
      "100%|██████████| 8870/8870 [48:04<00:00,  3.08it/s]  \n"
     ]
    },
    {
     "name": "stdout",
     "output_type": "stream",
     "text": [
      "Writing to: ../logs/taxonomy_classification/q2_naive_bayes/SFD/Bertax\n"
     ]
    },
    {
     "name": "stderr",
     "output_type": "stream",
     "text": [
      "100%|██████████| 8870/8870 [48:06<00:00,  3.07it/s]  \n"
     ]
    },
    {
     "name": "stdout",
     "output_type": "stream",
     "text": [
      "Writing to: ../logs/taxonomy_classification/q2_naive_bayes/SFD/Topdown\n"
     ]
    },
    {
     "name": "stderr",
     "output_type": "stream",
     "text": [
      "100%|██████████| 8870/8870 [47:59<00:00,  3.08it/s]  \n"
     ]
    }
   ],
   "source": [
    "evaluate(\n",
    "    \"q2_naive_bayes\",\n",
    "    \"../scripts/taxonomy_eval_qiime.py\",\n",
    "    datasets,\n",
    "    synthetic_classifiers,\n",
    "    python_path=\"/opt/conda/envs/qiime2-2022.8/bin/python3\",\n",
    "    args=[\n",
    "        \"--qiime-classifier-path\", q2_classifier_path,\n",
    "        \"--workers\", max_workers\n",
    "    ]\n",
    ")"
   ]
  },
  {
   "cell_type": "markdown",
   "id": "c40230e9-8475-4995-acb7-eea5d6a4b1ca",
   "metadata": {},
   "source": [
    "### DNABERT (Naive)"
   ]
  },
  {
   "cell_type": "code",
   "execution_count": 23,
   "id": "79041b04-ee5b-48d5-8aa1-44ab28bc61b2",
   "metadata": {},
   "outputs": [],
   "source": [
    "model_artifact = \"sirdavidludwig/dnabert-taxonomy-naive/dnabert-taxonomy-naive-64d-150l:v0\""
   ]
  },
  {
   "cell_type": "code",
   "execution_count": 24,
   "id": "73e1372c-3598-44d2-855c-683d63744011",
   "metadata": {},
   "outputs": [
    {
     "name": "stderr",
     "output_type": "stream",
     "text": [
      "wandb:   4 of 4 files downloaded.  \n"
     ]
    },
    {
     "name": "stdout",
     "output_type": "stream",
     "text": [
      "Loading model...\n"
     ]
    },
    {
     "name": "stderr",
     "output_type": "stream",
     "text": [
      "0it [00:00, ?it/s]\n",
      "wandb:   4 of 4 files downloaded.  \n"
     ]
    },
    {
     "name": "stdout",
     "output_type": "stream",
     "text": [
      "Loading model...\n"
     ]
    },
    {
     "name": "stderr",
     "output_type": "stream",
     "text": [
      "0it [00:00, ?it/s]\n",
      "wandb:   4 of 4 files downloaded.  \n"
     ]
    },
    {
     "name": "stdout",
     "output_type": "stream",
     "text": [
      "Loading model...\n"
     ]
    },
    {
     "name": "stderr",
     "output_type": "stream",
     "text": [
      "0it [00:00, ?it/s]\n",
      "wandb:   4 of 4 files downloaded.  \n"
     ]
    },
    {
     "name": "stdout",
     "output_type": "stream",
     "text": [
      "Loading model...\n"
     ]
    },
    {
     "name": "stderr",
     "output_type": "stream",
     "text": [
      "0it [00:00, ?it/s]\n",
      "wandb:   4 of 4 files downloaded.  \n"
     ]
    },
    {
     "name": "stdout",
     "output_type": "stream",
     "text": [
      "Loading model...\n"
     ]
    },
    {
     "name": "stderr",
     "output_type": "stream",
     "text": [
      "0it [00:00, ?it/s]\n",
      "wandb:   4 of 4 files downloaded.  \n"
     ]
    },
    {
     "name": "stdout",
     "output_type": "stream",
     "text": [
      "Loading model...\n"
     ]
    },
    {
     "name": "stderr",
     "output_type": "stream",
     "text": [
      "0it [00:00, ?it/s]\n",
      "wandb:   4 of 4 files downloaded.  \n"
     ]
    },
    {
     "name": "stdout",
     "output_type": "stream",
     "text": [
      "Loading model...\n"
     ]
    },
    {
     "name": "stderr",
     "output_type": "stream",
     "text": [
      "0it [00:00, ?it/s]\n",
      "wandb:   4 of 4 files downloaded.  \n"
     ]
    },
    {
     "name": "stdout",
     "output_type": "stream",
     "text": [
      "Loading model...\n"
     ]
    },
    {
     "name": "stderr",
     "output_type": "stream",
     "text": [
      "0it [00:00, ?it/s]\n",
      "wandb:   4 of 4 files downloaded.  \n"
     ]
    },
    {
     "name": "stdout",
     "output_type": "stream",
     "text": [
      "Loading model...\n"
     ]
    },
    {
     "name": "stderr",
     "output_type": "stream",
     "text": [
      "0it [00:00, ?it/s]\n",
      "wandb:   4 of 4 files downloaded.  \n"
     ]
    },
    {
     "name": "stdout",
     "output_type": "stream",
     "text": [
      "Loading model...\n"
     ]
    },
    {
     "name": "stderr",
     "output_type": "stream",
     "text": [
      "0it [00:00, ?it/s]\n",
      "wandb:   4 of 4 files downloaded.  \n"
     ]
    },
    {
     "name": "stdout",
     "output_type": "stream",
     "text": [
      "Loading model...\n"
     ]
    },
    {
     "name": "stderr",
     "output_type": "stream",
     "text": [
      "0it [00:00, ?it/s]\n",
      "wandb:   4 of 4 files downloaded.  \n"
     ]
    },
    {
     "name": "stdout",
     "output_type": "stream",
     "text": [
      "Loading model...\n"
     ]
    },
    {
     "name": "stderr",
     "output_type": "stream",
     "text": [
      "100%|██████████| 3926/3926 [25:06<00:00,  2.61it/s]\n"
     ]
    }
   ],
   "source": [
    "evaluate(\n",
    "    \"dnabert_naive\",\n",
    "    \"../scripts/taxonomy_eval_dnabert.py\",\n",
    "    datasets,\n",
    "    synthetic_classifiers,\n",
    "    args=[\n",
    "        \"--model-artifact\", model_artifact,\n",
    "    ] + tf_arguments\n",
    ")"
   ]
  },
  {
   "cell_type": "markdown",
   "id": "e4eebb2f-838b-4cce-bea5-33633c68b080",
   "metadata": {},
   "source": [
    "### DNABERT (BERTax)"
   ]
  },
  {
   "cell_type": "code",
   "execution_count": 20,
   "id": "25a45f46-bb96-4c65-92c2-2b22a6071bbd",
   "metadata": {},
   "outputs": [],
   "source": [
    "model_artifact = \"sirdavidludwig/dnabert-taxonomy/dnabert-taxonomy-bertax-64d-150l:v0\""
   ]
  },
  {
   "cell_type": "code",
   "execution_count": 21,
   "id": "2fb4c44f-c8c8-4aaa-b7e3-0d2161762b08",
   "metadata": {},
   "outputs": [
    {
     "name": "stderr",
     "output_type": "stream",
     "text": [
      "wandb: Downloading large artifact dnabert-taxonomy-bertax-64d-150l:v0, 1232.67MB. 4 files... \n",
      "wandb:   4 of 4 files downloaded.  \n",
      "Done. 0:0:1.9\n"
     ]
    },
    {
     "name": "stdout",
     "output_type": "stream",
     "text": [
      "Loading model...\n"
     ]
    },
    {
     "name": "stderr",
     "output_type": "stream",
     "text": [
      "100%|██████████| 2100/2100 [15:45<00:00,  2.22it/s]\n",
      "wandb: Downloading large artifact dnabert-taxonomy-bertax-64d-150l:v0, 1232.67MB. 4 files... \n",
      "wandb:   4 of 4 files downloaded.  \n",
      "Done. 0:0:1.8\n"
     ]
    },
    {
     "name": "stdout",
     "output_type": "stream",
     "text": [
      "Loading model...\n"
     ]
    },
    {
     "name": "stderr",
     "output_type": "stream",
     "text": [
      "100%|██████████| 2100/2100 [15:48<00:00,  2.21it/s]\n",
      "wandb: Downloading large artifact dnabert-taxonomy-bertax-64d-150l:v0, 1232.67MB. 4 files... \n",
      "wandb:   4 of 4 files downloaded.  \n",
      "Done. 0:0:2.0\n"
     ]
    },
    {
     "name": "stdout",
     "output_type": "stream",
     "text": [
      "Loading model...\n"
     ]
    },
    {
     "name": "stderr",
     "output_type": "stream",
     "text": [
      "100%|██████████| 2100/2100 [15:46<00:00,  2.22it/s]\n",
      "wandb: Downloading large artifact dnabert-taxonomy-bertax-64d-150l:v0, 1232.67MB. 4 files... \n",
      "wandb:   4 of 4 files downloaded.  \n",
      "Done. 0:0:1.8\n"
     ]
    },
    {
     "name": "stdout",
     "output_type": "stream",
     "text": [
      "Loading model...\n"
     ]
    },
    {
     "name": "stderr",
     "output_type": "stream",
     "text": [
      "100%|██████████| 1280/1280 [09:37<00:00,  2.22it/s]\n",
      "wandb: Downloading large artifact dnabert-taxonomy-bertax-64d-150l:v0, 1232.67MB. 4 files... \n",
      "wandb:   4 of 4 files downloaded.  \n",
      "Done. 0:0:1.9\n"
     ]
    },
    {
     "name": "stdout",
     "output_type": "stream",
     "text": [
      "Loading model...\n"
     ]
    },
    {
     "name": "stderr",
     "output_type": "stream",
     "text": [
      "100%|██████████| 1280/1280 [09:38<00:00,  2.21it/s]\n",
      "wandb: Downloading large artifact dnabert-taxonomy-bertax-64d-150l:v0, 1232.67MB. 4 files... \n",
      "wandb:   4 of 4 files downloaded.  \n",
      "Done. 0:0:1.8\n"
     ]
    },
    {
     "name": "stdout",
     "output_type": "stream",
     "text": [
      "Loading model...\n"
     ]
    },
    {
     "name": "stderr",
     "output_type": "stream",
     "text": [
      "100%|██████████| 1280/1280 [09:41<00:00,  2.20it/s]\n",
      "wandb: Downloading large artifact dnabert-taxonomy-bertax-64d-150l:v0, 1232.67MB. 4 files... \n",
      "wandb:   4 of 4 files downloaded.  \n",
      "Done. 0:0:1.8\n"
     ]
    },
    {
     "name": "stdout",
     "output_type": "stream",
     "text": [
      "Loading model...\n"
     ]
    },
    {
     "name": "stderr",
     "output_type": "stream",
     "text": [
      "100%|██████████| 7680/7680 [57:42<00:00,  2.22it/s] \n",
      "wandb: Downloading large artifact dnabert-taxonomy-bertax-64d-150l:v0, 1232.67MB. 4 files... \n",
      "wandb:   4 of 4 files downloaded.  \n",
      "Done. 0:0:1.8\n"
     ]
    },
    {
     "name": "stdout",
     "output_type": "stream",
     "text": [
      "Loading model...\n"
     ]
    },
    {
     "name": "stderr",
     "output_type": "stream",
     "text": [
      "100%|██████████| 7680/7680 [57:53<00:00,  2.21it/s] \n",
      "wandb: Downloading large artifact dnabert-taxonomy-bertax-64d-150l:v0, 1232.67MB. 4 files... \n",
      "wandb:   4 of 4 files downloaded.  \n",
      "Done. 0:0:1.8\n"
     ]
    },
    {
     "name": "stdout",
     "output_type": "stream",
     "text": [
      "Loading model...\n"
     ]
    },
    {
     "name": "stderr",
     "output_type": "stream",
     "text": [
      "100%|██████████| 7680/7680 [57:38<00:00,  2.22it/s] \n",
      "wandb: Downloading large artifact dnabert-taxonomy-bertax-64d-150l:v0, 1232.67MB. 4 files... \n",
      "wandb:   4 of 4 files downloaded.  \n",
      "Done. 0:0:1.8\n"
     ]
    },
    {
     "name": "stdout",
     "output_type": "stream",
     "text": [
      "Loading model...\n"
     ]
    },
    {
     "name": "stderr",
     "output_type": "stream",
     "text": [
      "100%|██████████| 8870/8870 [1:07:17<00:00,  2.20it/s]\n",
      "wandb: Downloading large artifact dnabert-taxonomy-bertax-64d-150l:v0, 1232.67MB. 4 files... \n",
      "wandb:   4 of 4 files downloaded.  \n",
      "Done. 0:0:1.8\n"
     ]
    },
    {
     "name": "stdout",
     "output_type": "stream",
     "text": [
      "Loading model...\n"
     ]
    },
    {
     "name": "stderr",
     "output_type": "stream",
     "text": [
      "100%|██████████| 8870/8870 [1:07:03<00:00,  2.20it/s]\n",
      "wandb: Downloading large artifact dnabert-taxonomy-bertax-64d-150l:v0, 1232.67MB. 4 files... \n",
      "wandb:   4 of 4 files downloaded.  \n",
      "Done. 0:0:1.9\n"
     ]
    },
    {
     "name": "stdout",
     "output_type": "stream",
     "text": [
      "Loading model...\n"
     ]
    },
    {
     "name": "stderr",
     "output_type": "stream",
     "text": [
      "100%|██████████| 8870/8870 [1:07:10<00:00,  2.20it/s]\n"
     ]
    }
   ],
   "source": [
    "evaluate(\n",
    "    \"dnabert_bertax\",\n",
    "    \"../scripts/taxonomy_eval_dnabert.py\",\n",
    "    datasets,\n",
    "    synthetic_classifiers,\n",
    "    args=[\n",
    "        \"--model-artifact\", model_artifact,\n",
    "    ] + tf_arguments\n",
    ")"
   ]
  },
  {
   "cell_type": "markdown",
   "id": "d6cd835d-91be-46aa-a365-295647124d43",
   "metadata": {},
   "source": [
    "### DNABERT (Top-down)"
   ]
  },
  {
   "cell_type": "code",
   "execution_count": 34,
   "id": "599ef737-49a3-4cc3-9e3a-436128838dc8",
   "metadata": {},
   "outputs": [],
   "source": [
    "model_artifact = \"sirdavidludwig/dnabert-taxonomy/dnabert-taxonomy-topdown-64d-150l:v0\""
   ]
  },
  {
   "cell_type": "code",
   "execution_count": null,
   "id": "e31abaf0-bbc8-424e-8301-9d9fd3c452c5",
   "metadata": {},
   "outputs": [
    {
     "name": "stdout",
     "output_type": "stream",
     "text": [
      "Skipping: Nachusa Naive\n",
      "Skipping: Nachusa Bertax\n",
      "Skipping: Nachusa Topdown\n",
      "Skipping: Hopland Naive\n",
      "Skipping: Hopland Bertax\n",
      "Skipping: Hopland Topdown\n",
      "Skipping: Wetland Naive\n",
      "Skipping: Wetland Bertax\n",
      "Skipping: Wetland Topdown\n",
      "Skipping: SFD Naive\n"
     ]
    },
    {
     "name": "stderr",
     "output_type": "stream",
     "text": [
      "wandb:   4 of 4 files downloaded.  \n"
     ]
    },
    {
     "name": "stdout",
     "output_type": "stream",
     "text": [
      "Loading model...\n"
     ]
    },
    {
     "name": "stderr",
     "output_type": "stream",
     "text": [
      "100%|██████████| 2237/2237 [14:22<00:00,  2.59it/s]\n",
      "wandb:   4 of 4 files downloaded.  \n"
     ]
    },
    {
     "name": "stdout",
     "output_type": "stream",
     "text": [
      "Loading model...\n"
     ]
    },
    {
     "name": "stderr",
     "output_type": "stream",
     "text": [
      " 20%|█▉        | 1739/8870 [11:10<45:34,  2.61it/s]"
     ]
    }
   ],
   "source": [
    "evaluate(\n",
    "    \"dnabert_topdown\",\n",
    "    \"../scripts/taxonomy_eval_dnabert.py\",\n",
    "    datasets,\n",
    "    synthetic_classifiers,\n",
    "    args=[\n",
    "        \"--model-artifact\", model_artifact,\n",
    "    ] + tf_arguments\n",
    ")"
   ]
  },
  {
   "cell_type": "markdown",
   "id": "40cd5c37-44b5-4b65-a49a-110fa153ee6a",
   "metadata": {},
   "source": [
    "### DNABERT (Deep Top-down)"
   ]
  },
  {
   "cell_type": "code",
   "execution_count": 18,
   "id": "d695a8eb-343c-4d1f-8127-e1ba4f68d0bd",
   "metadata": {},
   "outputs": [],
   "source": [
    "model_artifact = \"sirdavidludwig/dnabert-taxonomy/dnabert-taxonomy-topdown-deep-64d-150l:v0\""
   ]
  },
  {
   "cell_type": "code",
   "execution_count": 19,
   "id": "c7853acf-44d4-446f-82c0-9e002c2a080c",
   "metadata": {},
   "outputs": [
    {
     "name": "stderr",
     "output_type": "stream",
     "text": [
      "wandb: Downloading large artifact dnabert-taxonomy-topdown-deep-64d-150l:v0, 56.39MB. 4 files... \n",
      "wandb:   4 of 4 files downloaded.  \n",
      "Done. 0:0:0.2\n"
     ]
    },
    {
     "name": "stdout",
     "output_type": "stream",
     "text": [
      "Loading model...\n"
     ]
    },
    {
     "name": "stderr",
     "output_type": "stream",
     "text": [
      "100%|██████████| 2100/2100 [23:00<00:00,  1.52it/s]\n",
      "wandb: Downloading large artifact dnabert-taxonomy-topdown-deep-64d-150l:v0, 56.39MB. 4 files... \n",
      "wandb:   4 of 4 files downloaded.  \n",
      "Done. 0:0:0.2\n"
     ]
    },
    {
     "name": "stdout",
     "output_type": "stream",
     "text": [
      "Loading model...\n"
     ]
    },
    {
     "name": "stderr",
     "output_type": "stream",
     "text": [
      "100%|██████████| 2100/2100 [23:00<00:00,  1.52it/s]\n",
      "wandb: Downloading large artifact dnabert-taxonomy-topdown-deep-64d-150l:v0, 56.39MB. 4 files... \n",
      "wandb:   4 of 4 files downloaded.  \n",
      "Done. 0:0:0.3\n"
     ]
    },
    {
     "name": "stdout",
     "output_type": "stream",
     "text": [
      "Loading model...\n"
     ]
    },
    {
     "name": "stderr",
     "output_type": "stream",
     "text": [
      "100%|██████████| 2100/2100 [22:59<00:00,  1.52it/s]\n",
      "wandb: Downloading large artifact dnabert-taxonomy-topdown-deep-64d-150l:v0, 56.39MB. 4 files... \n",
      "wandb:   4 of 4 files downloaded.  \n",
      "Done. 0:0:0.2\n"
     ]
    },
    {
     "name": "stdout",
     "output_type": "stream",
     "text": [
      "Loading model...\n"
     ]
    },
    {
     "name": "stderr",
     "output_type": "stream",
     "text": [
      "100%|██████████| 1280/1280 [14:02<00:00,  1.52it/s]\n",
      "wandb: Downloading large artifact dnabert-taxonomy-topdown-deep-64d-150l:v0, 56.39MB. 4 files... \n",
      "wandb:   4 of 4 files downloaded.  \n",
      "Done. 0:0:0.2\n"
     ]
    },
    {
     "name": "stdout",
     "output_type": "stream",
     "text": [
      "Loading model...\n"
     ]
    },
    {
     "name": "stderr",
     "output_type": "stream",
     "text": [
      "100%|██████████| 1280/1280 [13:59<00:00,  1.53it/s]\n",
      "wandb: Downloading large artifact dnabert-taxonomy-topdown-deep-64d-150l:v0, 56.39MB. 4 files... \n",
      "wandb:   4 of 4 files downloaded.  \n",
      "Done. 0:0:0.2\n"
     ]
    },
    {
     "name": "stdout",
     "output_type": "stream",
     "text": [
      "Loading model...\n"
     ]
    },
    {
     "name": "stderr",
     "output_type": "stream",
     "text": [
      "100%|██████████| 1280/1280 [14:04<00:00,  1.52it/s]\n",
      "wandb: Downloading large artifact dnabert-taxonomy-topdown-deep-64d-150l:v0, 56.39MB. 4 files... \n",
      "wandb:   4 of 4 files downloaded.  \n",
      "Done. 0:0:0.2\n"
     ]
    },
    {
     "name": "stdout",
     "output_type": "stream",
     "text": [
      "Loading model...\n"
     ]
    },
    {
     "name": "stderr",
     "output_type": "stream",
     "text": [
      "100%|██████████| 7680/7680 [1:25:45<00:00,  1.49it/s]\n",
      "wandb: Downloading large artifact dnabert-taxonomy-topdown-deep-64d-150l:v0, 56.39MB. 4 files... \n",
      "wandb:   4 of 4 files downloaded.  \n",
      "Done. 0:0:0.2\n"
     ]
    },
    {
     "name": "stdout",
     "output_type": "stream",
     "text": [
      "Loading model...\n"
     ]
    },
    {
     "name": "stderr",
     "output_type": "stream",
     "text": [
      "100%|██████████| 7680/7680 [1:25:41<00:00,  1.49it/s]\n",
      "wandb: Downloading large artifact dnabert-taxonomy-topdown-deep-64d-150l:v0, 56.39MB. 4 files... \n",
      "wandb:   4 of 4 files downloaded.  \n",
      "Done. 0:0:0.2\n"
     ]
    },
    {
     "name": "stdout",
     "output_type": "stream",
     "text": [
      "Loading model...\n"
     ]
    },
    {
     "name": "stderr",
     "output_type": "stream",
     "text": [
      "100%|██████████| 7680/7680 [1:25:38<00:00,  1.49it/s]\n",
      "wandb: Downloading large artifact dnabert-taxonomy-topdown-deep-64d-150l:v0, 56.39MB. 4 files... \n",
      "wandb:   4 of 4 files downloaded.  \n",
      "Done. 0:0:0.2\n"
     ]
    },
    {
     "name": "stdout",
     "output_type": "stream",
     "text": [
      "Loading model...\n"
     ]
    },
    {
     "name": "stderr",
     "output_type": "stream",
     "text": [
      "100%|██████████| 8870/8870 [1:39:44<00:00,  1.48it/s]\n",
      "wandb: Downloading large artifact dnabert-taxonomy-topdown-deep-64d-150l:v0, 56.39MB. 4 files... \n",
      "wandb:   4 of 4 files downloaded.  \n",
      "Done. 0:0:0.2\n"
     ]
    },
    {
     "name": "stdout",
     "output_type": "stream",
     "text": [
      "Loading model...\n"
     ]
    },
    {
     "name": "stderr",
     "output_type": "stream",
     "text": [
      "100%|██████████| 8870/8870 [1:39:02<00:00,  1.49it/s]\n",
      "wandb: Downloading large artifact dnabert-taxonomy-topdown-deep-64d-150l:v0, 56.39MB. 4 files... \n",
      "wandb:   4 of 4 files downloaded.  \n",
      "Done. 0:0:0.2\n"
     ]
    },
    {
     "name": "stdout",
     "output_type": "stream",
     "text": [
      "Loading model...\n"
     ]
    },
    {
     "name": "stderr",
     "output_type": "stream",
     "text": [
      "100%|██████████| 8870/8870 [1:39:15<00:00,  1.49it/s]\n"
     ]
    }
   ],
   "source": [
    "evaluate(\n",
    "    \"dnabert_topdown_deep\",\n",
    "    \"../scripts/taxonomy_eval_dnabert.py\",\n",
    "    datasets,\n",
    "    synthetic_classifiers,\n",
    "    args=[\n",
    "        \"--model-artifact\", model_artifact,\n",
    "    ] + tf_arguments\n",
    ")"
   ]
  },
  {
   "cell_type": "markdown",
   "id": "6c935089-e362-4f83-9492-1b2371ff81fa",
   "metadata": {},
   "source": [
    "### SetBERT Top-down (Single-sequence)"
   ]
  },
  {
   "cell_type": "code",
   "execution_count": 16,
   "id": "b7e29ea1-7cd2-4e68-bd73-9fa31f1e3248",
   "metadata": {},
   "outputs": [],
   "source": [
    "model_artifact = \"sirdavidludwig/setbert-taxonomy/setbert-taxonomy-topdown-all-64d-150l:v0\""
   ]
  },
  {
   "cell_type": "code",
   "execution_count": 17,
   "id": "0f492385-22c9-465f-b4be-2edd0bd3db76",
   "metadata": {},
   "outputs": [
    {
     "name": "stderr",
     "output_type": "stream",
     "text": [
      "wandb: Downloading large artifact setbert-taxonomy-topdown-all-64d-150l:v0, 90.01MB. 4 files... \n",
      "wandb:   4 of 4 files downloaded.  \n",
      "Done. 0:0:0.3\n"
     ]
    },
    {
     "name": "stdout",
     "output_type": "stream",
     "text": [
      "Loading model...\n"
     ]
    },
    {
     "name": "stderr",
     "output_type": "stream",
     "text": [
      "100%|██████████| 2100/2100 [12:34<00:00,  2.78it/s]\n",
      "wandb: Downloading large artifact setbert-taxonomy-topdown-all-64d-150l:v0, 90.01MB. 4 files... \n",
      "wandb:   4 of 4 files downloaded.  \n",
      "Done. 0:0:0.2\n"
     ]
    },
    {
     "name": "stdout",
     "output_type": "stream",
     "text": [
      "Loading model...\n"
     ]
    },
    {
     "name": "stderr",
     "output_type": "stream",
     "text": [
      "100%|██████████| 2100/2100 [12:32<00:00,  2.79it/s]\n",
      "wandb: Downloading large artifact setbert-taxonomy-topdown-all-64d-150l:v0, 90.01MB. 4 files... \n",
      "wandb:   4 of 4 files downloaded.  \n",
      "Done. 0:0:0.2\n"
     ]
    },
    {
     "name": "stdout",
     "output_type": "stream",
     "text": [
      "Loading model...\n"
     ]
    },
    {
     "name": "stderr",
     "output_type": "stream",
     "text": [
      "100%|██████████| 2100/2100 [12:32<00:00,  2.79it/s]\n",
      "wandb: Downloading large artifact setbert-taxonomy-topdown-all-64d-150l:v0, 90.01MB. 4 files... \n",
      "wandb:   4 of 4 files downloaded.  \n",
      "Done. 0:0:0.3\n"
     ]
    },
    {
     "name": "stdout",
     "output_type": "stream",
     "text": [
      "Loading model...\n"
     ]
    },
    {
     "name": "stderr",
     "output_type": "stream",
     "text": [
      "100%|██████████| 1280/1280 [07:39<00:00,  2.78it/s]\n",
      "wandb: Downloading large artifact setbert-taxonomy-topdown-all-64d-150l:v0, 90.01MB. 4 files... \n",
      "wandb:   4 of 4 files downloaded.  \n",
      "Done. 0:0:0.2\n"
     ]
    },
    {
     "name": "stdout",
     "output_type": "stream",
     "text": [
      "Loading model...\n"
     ]
    },
    {
     "name": "stderr",
     "output_type": "stream",
     "text": [
      "100%|██████████| 1280/1280 [07:39<00:00,  2.78it/s]\n",
      "wandb: Downloading large artifact setbert-taxonomy-topdown-all-64d-150l:v0, 90.01MB. 4 files... \n",
      "wandb:   4 of 4 files downloaded.  \n",
      "Done. 0:0:0.2\n"
     ]
    },
    {
     "name": "stdout",
     "output_type": "stream",
     "text": [
      "Loading model...\n"
     ]
    },
    {
     "name": "stderr",
     "output_type": "stream",
     "text": [
      "100%|██████████| 1280/1280 [07:39<00:00,  2.78it/s]\n",
      "wandb: Downloading large artifact setbert-taxonomy-topdown-all-64d-150l:v0, 90.01MB. 4 files... \n",
      "wandb:   4 of 4 files downloaded.  \n",
      "Done. 0:0:0.2\n"
     ]
    },
    {
     "name": "stdout",
     "output_type": "stream",
     "text": [
      "Loading model...\n"
     ]
    },
    {
     "name": "stderr",
     "output_type": "stream",
     "text": [
      "100%|██████████| 7680/7680 [45:54<00:00,  2.79it/s]  \n",
      "wandb: Downloading large artifact setbert-taxonomy-topdown-all-64d-150l:v0, 90.01MB. 4 files... \n",
      "wandb:   4 of 4 files downloaded.  \n",
      "Done. 0:0:0.2\n"
     ]
    },
    {
     "name": "stdout",
     "output_type": "stream",
     "text": [
      "Loading model...\n"
     ]
    },
    {
     "name": "stderr",
     "output_type": "stream",
     "text": [
      "100%|██████████| 7680/7680 [46:05<00:00,  2.78it/s]  \n",
      "wandb: Downloading large artifact setbert-taxonomy-topdown-all-64d-150l:v0, 90.01MB. 4 files... \n",
      "wandb:   4 of 4 files downloaded.  \n",
      "Done. 0:0:0.2\n"
     ]
    },
    {
     "name": "stdout",
     "output_type": "stream",
     "text": [
      "Loading model...\n"
     ]
    },
    {
     "name": "stderr",
     "output_type": "stream",
     "text": [
      "100%|██████████| 7680/7680 [45:56<00:00,  2.79it/s]  \n",
      "wandb: Downloading large artifact setbert-taxonomy-topdown-all-64d-150l:v0, 90.01MB. 4 files... \n",
      "wandb:   4 of 4 files downloaded.  \n",
      "Done. 0:0:0.3\n"
     ]
    },
    {
     "name": "stdout",
     "output_type": "stream",
     "text": [
      "Loading model...\n"
     ]
    },
    {
     "name": "stderr",
     "output_type": "stream",
     "text": [
      "100%|██████████| 8870/8870 [53:13<00:00,  2.78it/s]  \n",
      "wandb: Downloading large artifact setbert-taxonomy-topdown-all-64d-150l:v0, 90.01MB. 4 files... \n",
      "wandb:   4 of 4 files downloaded.  \n",
      "Done. 0:0:0.2\n"
     ]
    },
    {
     "name": "stdout",
     "output_type": "stream",
     "text": [
      "Loading model...\n"
     ]
    },
    {
     "name": "stderr",
     "output_type": "stream",
     "text": [
      "100%|██████████| 8870/8870 [53:06<00:00,  2.78it/s]  \n",
      "wandb: Downloading large artifact setbert-taxonomy-topdown-all-64d-150l:v0, 90.01MB. 4 files... \n",
      "wandb:   4 of 4 files downloaded.  \n",
      "Done. 0:0:0.3\n"
     ]
    },
    {
     "name": "stdout",
     "output_type": "stream",
     "text": [
      "Loading model...\n"
     ]
    },
    {
     "name": "stderr",
     "output_type": "stream",
     "text": [
      "100%|██████████| 8870/8870 [53:05<00:00,  2.78it/s]  \n"
     ]
    }
   ],
   "source": [
    "evaluate(\n",
    "    \"setbert_topdown_uniform\",\n",
    "    \"../scripts/taxonomy_eval_setbert.py\",\n",
    "    datasets,\n",
    "    synthetic_classifiers,\n",
    "    args=[\n",
    "        \"--model-artifact\", model_artifact,\n",
    "        \"--single-sequence\"\n",
    "    ] + tf_arguments\n",
    ")"
   ]
  },
  {
   "cell_type": "markdown",
   "id": "35dd3910-ccd2-47c6-a85f-ce9e8273d7eb",
   "metadata": {},
   "source": [
    "### SetBERT (Naive)"
   ]
  },
  {
   "cell_type": "markdown",
   "id": "5dc0d44a-8bd8-4883-a052-4aa6c2f19f38",
   "metadata": {},
   "source": [
    "### SetBERT (BERTax)"
   ]
  },
  {
   "cell_type": "markdown",
   "id": "2987c7e4-a8dc-4990-bacc-056d0fb84676",
   "metadata": {},
   "source": [
    "N/A"
   ]
  },
  {
   "cell_type": "markdown",
   "id": "aad2d2b1-0c4d-4be5-99fb-8e65905d609d",
   "metadata": {},
   "source": [
    "### SetBERT (Top-down)"
   ]
  },
  {
   "cell_type": "code",
   "execution_count": 14,
   "id": "5728a18e-4c71-417c-9329-99ec7a9825a9",
   "metadata": {},
   "outputs": [],
   "source": [
    "# The fine-tuned SetBERT top-down taxonomy model\n",
    "model_artifact = \"sirdavidludwig/setbert-taxonomy/setbert-taxonomy-topdown-all-64d-150l:v0\""
   ]
  },
  {
   "cell_type": "code",
   "execution_count": 15,
   "id": "6bdb3a56-d840-4d6e-8037-b75286f45c7b",
   "metadata": {},
   "outputs": [
    {
     "name": "stderr",
     "output_type": "stream",
     "text": [
      "wandb: Downloading large artifact setbert-taxonomy-topdown-all-64d-150l:v0, 90.01MB. 4 files... \n",
      "wandb:   4 of 4 files downloaded.  \n",
      "Done. 0:0:0.3\n"
     ]
    },
    {
     "name": "stdout",
     "output_type": "stream",
     "text": [
      "Loading model...\n"
     ]
    },
    {
     "name": "stderr",
     "output_type": "stream",
     "text": [
      "100%|██████████| 2100/2100 [12:35<00:00,  2.78it/s]\n",
      "wandb: Downloading large artifact setbert-taxonomy-topdown-all-64d-150l:v0, 90.01MB. 4 files... \n",
      "wandb:   4 of 4 files downloaded.  \n",
      "Done. 0:0:0.5\n"
     ]
    },
    {
     "name": "stdout",
     "output_type": "stream",
     "text": [
      "Loading model...\n"
     ]
    },
    {
     "name": "stderr",
     "output_type": "stream",
     "text": [
      "100%|██████████| 2100/2100 [12:30<00:00,  2.80it/s]\n",
      "wandb: Downloading large artifact setbert-taxonomy-topdown-all-64d-150l:v0, 90.01MB. 4 files... \n",
      "wandb:   4 of 4 files downloaded.  \n",
      "Done. 0:0:0.2\n"
     ]
    },
    {
     "name": "stdout",
     "output_type": "stream",
     "text": [
      "Loading model...\n"
     ]
    },
    {
     "name": "stderr",
     "output_type": "stream",
     "text": [
      "100%|██████████| 2100/2100 [12:29<00:00,  2.80it/s]\n",
      "wandb: Downloading large artifact setbert-taxonomy-topdown-all-64d-150l:v0, 90.01MB. 4 files... \n",
      "wandb:   4 of 4 files downloaded.  \n",
      "Done. 0:0:0.2\n"
     ]
    },
    {
     "name": "stdout",
     "output_type": "stream",
     "text": [
      "Loading model...\n"
     ]
    },
    {
     "name": "stderr",
     "output_type": "stream",
     "text": [
      "100%|██████████| 1280/1280 [07:42<00:00,  2.77it/s]\n",
      "wandb: Downloading large artifact setbert-taxonomy-topdown-all-64d-150l:v0, 90.01MB. 4 files... \n",
      "wandb:   4 of 4 files downloaded.  \n",
      "Done. 0:0:0.2\n"
     ]
    },
    {
     "name": "stdout",
     "output_type": "stream",
     "text": [
      "Loading model...\n"
     ]
    },
    {
     "name": "stderr",
     "output_type": "stream",
     "text": [
      "100%|██████████| 1280/1280 [07:38<00:00,  2.79it/s]\n",
      "wandb: Downloading large artifact setbert-taxonomy-topdown-all-64d-150l:v0, 90.01MB. 4 files... \n",
      "wandb:   4 of 4 files downloaded.  \n",
      "Done. 0:0:0.3\n"
     ]
    },
    {
     "name": "stdout",
     "output_type": "stream",
     "text": [
      "Loading model...\n"
     ]
    },
    {
     "name": "stderr",
     "output_type": "stream",
     "text": [
      "100%|██████████| 1280/1280 [07:39<00:00,  2.79it/s]\n",
      "wandb: Downloading large artifact setbert-taxonomy-topdown-all-64d-150l:v0, 90.01MB. 4 files... \n",
      "wandb:   4 of 4 files downloaded.  \n",
      "Done. 0:0:0.2\n"
     ]
    },
    {
     "name": "stdout",
     "output_type": "stream",
     "text": [
      "Loading model...\n"
     ]
    },
    {
     "name": "stderr",
     "output_type": "stream",
     "text": [
      "100%|██████████| 7680/7680 [45:48<00:00,  2.79it/s]  \n",
      "wandb: Downloading large artifact setbert-taxonomy-topdown-all-64d-150l:v0, 90.01MB. 4 files... \n",
      "wandb:   4 of 4 files downloaded.  \n",
      "Done. 0:0:0.3\n"
     ]
    },
    {
     "name": "stdout",
     "output_type": "stream",
     "text": [
      "Loading model...\n"
     ]
    },
    {
     "name": "stderr",
     "output_type": "stream",
     "text": [
      "100%|██████████| 7680/7680 [45:50<00:00,  2.79it/s]  \n",
      "wandb: Downloading large artifact setbert-taxonomy-topdown-all-64d-150l:v0, 90.01MB. 4 files... \n",
      "wandb:   4 of 4 files downloaded.  \n",
      "Done. 0:0:0.3\n"
     ]
    },
    {
     "name": "stdout",
     "output_type": "stream",
     "text": [
      "Loading model...\n"
     ]
    },
    {
     "name": "stderr",
     "output_type": "stream",
     "text": [
      "100%|██████████| 7680/7680 [45:44<00:00,  2.80it/s]\n",
      "wandb: Downloading large artifact setbert-taxonomy-topdown-all-64d-150l:v0, 90.01MB. 4 files... \n",
      "wandb:   4 of 4 files downloaded.  \n",
      "Done. 0:0:0.2\n"
     ]
    },
    {
     "name": "stdout",
     "output_type": "stream",
     "text": [
      "Loading model...\n"
     ]
    },
    {
     "name": "stderr",
     "output_type": "stream",
     "text": [
      "100%|██████████| 8870/8870 [52:44<00:00,  2.80it/s]  \n",
      "wandb: Downloading large artifact setbert-taxonomy-topdown-all-64d-150l:v0, 90.01MB. 4 files... \n",
      "wandb:   4 of 4 files downloaded.  \n",
      "Done. 0:0:0.4\n"
     ]
    },
    {
     "name": "stdout",
     "output_type": "stream",
     "text": [
      "Loading model...\n"
     ]
    },
    {
     "name": "stderr",
     "output_type": "stream",
     "text": [
      "100%|██████████| 8870/8870 [53:03<00:00,  2.79it/s]  \n",
      "wandb: Downloading large artifact setbert-taxonomy-topdown-all-64d-150l:v0, 90.01MB. 4 files... \n",
      "wandb:   4 of 4 files downloaded.  \n",
      "Done. 0:0:0.3\n"
     ]
    },
    {
     "name": "stdout",
     "output_type": "stream",
     "text": [
      "Loading model...\n"
     ]
    },
    {
     "name": "stderr",
     "output_type": "stream",
     "text": [
      "100%|██████████| 8870/8870 [52:46<00:00,  2.80it/s]  \n"
     ]
    }
   ],
   "source": [
    "evaluate(\n",
    "    \"setbert_topdown\",\n",
    "    \"../scripts/taxonomy_eval_setbert.py\",\n",
    "    datasets,\n",
    "    synthetic_classifiers,\n",
    "    args=[\n",
    "        \"--model-artifact\", model_artifact,\n",
    "    ] + tf_arguments\n",
    ")"
   ]
  },
  {
   "cell_type": "code",
   "execution_count": null,
   "id": "9de4ca23-7ce1-4d61-9ade-084840b2a5af",
   "metadata": {},
   "outputs": [],
   "source": []
  }
 ],
 "metadata": {
  "kernelspec": {
   "display_name": "Python 3 (ipykernel)",
   "language": "python",
   "name": "python3"
  },
  "language_info": {
   "codemirror_mode": {
    "name": "ipython",
    "version": 3
   },
   "file_extension": ".py",
   "mimetype": "text/x-python",
   "name": "python",
   "nbconvert_exporter": "python",
   "pygments_lexer": "ipython3",
   "version": "3.10.6"
  }
 },
 "nbformat": 4,
 "nbformat_minor": 5
}
