{
 "cells": [
  {
   "cell_type": "markdown",
   "id": "103d0a0f-1c4d-4645-81d6-2061cc9fea5d",
   "metadata": {},
   "source": [
    "# Taxonomy Evaluation\n",
    "\n",
    "This notebook evaluates all of the trained taxonomy models, producing the plots for the manuscript."
   ]
  },
  {
   "cell_type": "code",
   "execution_count": 1,
   "id": "1190205e-64d8-4fb8-aa52-e7e41304387b",
   "metadata": {},
   "outputs": [
    {
     "ename": "ModuleNotFoundError",
     "evalue": "No module named 'dnadb'",
     "output_type": "error",
     "traceback": [
      "\u001b[0;31m---------------------------------------------------------------------------\u001b[0m",
      "\u001b[0;31mModuleNotFoundError\u001b[0m                       Traceback (most recent call last)",
      "Cell \u001b[0;32mIn [1], line 1\u001b[0m\n\u001b[0;32m----> 1\u001b[0m \u001b[38;5;28;01mfrom\u001b[39;00m \u001b[38;5;21;01mdnadb\u001b[39;00m \u001b[38;5;28;01mimport\u001b[39;00m fasta, sample, taxonomy\n\u001b[1;32m      2\u001b[0m \u001b[38;5;28;01mimport\u001b[39;00m \u001b[38;5;21;01mjoblib\u001b[39;00m\n\u001b[1;32m      3\u001b[0m \u001b[38;5;28;01mfrom\u001b[39;00m \u001b[38;5;21;01mpathlib\u001b[39;00m \u001b[38;5;28;01mimport\u001b[39;00m Path\n",
      "\u001b[0;31mModuleNotFoundError\u001b[0m: No module named 'dnadb'"
     ]
    }
   ],
   "source": [
    "from dnadb import fasta, sample, taxonomy\n",
    "import joblib\n",
    "from pathlib import Path\n",
    "import wandb"
   ]
  },
  {
   "cell_type": "code",
   "execution_count": 25,
   "id": "8a5cab86-78fd-4f3f-bfeb-a88cf0a3bfc8",
   "metadata": {},
   "outputs": [],
   "source": [
    "HOME = Path.home()"
   ]
  },
  {
   "cell_type": "code",
   "execution_count": 26,
   "id": "fd6ab49c-b413-40b3-a4c7-e6f8aca9bc37",
   "metadata": {},
   "outputs": [],
   "source": [
    "# The path to the synthetic datasets\n",
    "synthetic_root = Path(HOME / \"Datasets/Synthetic\")"
   ]
  },
  {
   "cell_type": "code",
   "execution_count": 29,
   "id": "4addb47c-2047-4f37-b6bf-bb2e2a8eef76",
   "metadata": {},
   "outputs": [],
   "source": [
    "# The synthetic datasets to use\n",
    "datasets = [\"Nachusa\", \"Hopland\", \"Wetland\", \"SFD\"]"
   ]
  },
  {
   "cell_type": "markdown",
   "id": "fe7fb702-dd97-4492-a09a-cfd2b4c42663",
   "metadata": {},
   "source": [
    "## Qiime Evaluation"
   ]
  },
  {
   "cell_type": "code",
   "execution_count": 3,
   "id": "8e74679b-1c26-4814-9581-2e3e786b5d93",
   "metadata": {},
   "outputs": [],
   "source": [
    "# The fine-tuned SetBERT top-down taxonomy model\n",
    "model_artifact = \"sirdavidludwig/setbert-taxonomy/setbert-taxonomy-topdown-all-64d-150l:v0\""
   ]
  },
  {
   "cell_type": "markdown",
   "id": "0c1cf660-296a-45d7-8222-cacd29950ecb",
   "metadata": {},
   "source": [
    "## Leave-one-out Controls"
   ]
  },
  {
   "cell_type": "code",
   "execution_count": null,
   "id": "ec2d41a5-6c4d-4bfa-a502-1c778b8f42c8",
   "metadata": {},
   "outputs": [],
   "source": [
    "model_artifacts = {\n",
    "    \"SetBERT [All Data]\": \"sirdavidludwig/setbert-taxonomy/setbert-taxonomy-topdown-all-64d-150l:v0\",\n",
    "    # \"SetBERT [-Nachusa]\": \"sirdavidludwig/setbert-taxonomy/setbert-taxonomy-topdown-nhs-64d-150l:v0\",\n",
    "    # \"SetBERT [-Hopland]\": \"sirdavidludwig/setbert-taxonomy/setbert-taxonomy-topdown-nhs-64d-150l:v0\",\n",
    "    # \"SetBERT [-SFD]\":     \"sirdavidludwig/setbert-taxonomy/setbert-taxonomy-topdown-nhs-64d-150l:v0\",\n",
    "    \"SetBERT [-Wetland]\": \"sirdavidludwig/setbert-taxonomy/setbert-taxonomy-topdown-nhs-64d-150l:v0\"\n",
    "}"
   ]
  },
  {
   "cell_type": "code",
   "execution_count": null,
   "id": "f896fde9-3313-4058-ad11-c72c919501dd",
   "metadata": {},
   "outputs": [],
   "source": []
  }
 ],
 "metadata": {
  "kernelspec": {
   "display_name": "Python 3 (ipykernel)",
   "language": "python",
   "name": "python3"
  },
  "language_info": {
   "codemirror_mode": {
    "name": "ipython",
    "version": 3
   },
   "file_extension": ".py",
   "mimetype": "text/x-python",
   "name": "python",
   "nbconvert_exporter": "python",
   "pygments_lexer": "ipython3",
   "version": "3.10.6"
  }
 },
 "nbformat": 4,
 "nbformat_minor": 5
}
