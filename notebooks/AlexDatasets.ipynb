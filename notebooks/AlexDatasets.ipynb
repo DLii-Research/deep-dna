{
 "cells": [
  {
   "cell_type": "code",
   "execution_count": 4,
   "metadata": {},
   "outputs": [],
   "source": [
    "from collections import defaultdict\n",
    "from dataclasses import replace\n",
    "from dnadb import dna, fasta, sample, taxonomy\n",
    "from graphviz import Digraph\n",
    "from lmdbm import Lmdb\n",
    "import matplotlib.pyplot as plt\n",
    "import numpy as np\n",
    "import numpy.typing as npt\n",
    "import pandas as pd\n",
    "from pathlib import Path\n",
    "import pickle\n",
    "import re\n",
    "import seaborn as sns\n",
    "from sklearn.metrics import precision_recall_curve, roc_curve, precision_recall_fscore_support\n",
    "import sys\n",
    "import tensorflow as tf\n",
    "import tf_utilities as tfu\n",
    "from tqdm.auto import tqdm\n",
    "from typing import Iterable, Optional\n",
    "import wandb"
   ]
  },
  {
   "cell_type": "code",
   "execution_count": 5,
   "metadata": {},
   "outputs": [],
   "source": [
    "sys.path.append(\"../src\")\n",
    "from deepdna.nn.data_generators import SampleGenerator, _encode_sequences\n",
    "from deepdna.nn.metrics import f1_score, positive_predictive_value, negative_predictive_value\n",
    "from deepdna.nn.models import load_model, setbert"
   ]
  },
  {
   "cell_type": "code",
   "execution_count": 6,
   "metadata": {},
   "outputs": [
    {
     "name": "stderr",
     "output_type": "stream",
     "text": [
      "2023-07-12 07:04:38.503782: I tensorflow/stream_executor/cuda/cuda_gpu_executor.cc:975] successful NUMA node read from SysFS had negative value (-1), but there must be at least one NUMA node, so returning NUMA node zero\n",
      "2023-07-12 07:04:38.504018: I tensorflow/stream_executor/cuda/cuda_gpu_executor.cc:975] successful NUMA node read from SysFS had negative value (-1), but there must be at least one NUMA node, so returning NUMA node zero\n",
      "2023-07-12 07:04:38.650655: I tensorflow/stream_executor/cuda/cuda_gpu_executor.cc:975] successful NUMA node read from SysFS had negative value (-1), but there must be at least one NUMA node, so returning NUMA node zero\n",
      "2023-07-12 07:04:38.650996: I tensorflow/stream_executor/cuda/cuda_gpu_executor.cc:975] successful NUMA node read from SysFS had negative value (-1), but there must be at least one NUMA node, so returning NUMA node zero\n",
      "2023-07-12 07:04:38.651275: I tensorflow/stream_executor/cuda/cuda_gpu_executor.cc:975] successful NUMA node read from SysFS had negative value (-1), but there must be at least one NUMA node, so returning NUMA node zero\n",
      "2023-07-12 07:04:38.651550: I tensorflow/stream_executor/cuda/cuda_gpu_executor.cc:975] successful NUMA node read from SysFS had negative value (-1), but there must be at least one NUMA node, so returning NUMA node zero\n"
     ]
    },
    {
     "data": {
      "text/plain": [
       "([PhysicalDevice(name='/physical_device:CPU:0', device_type='CPU')],\n",
       " [PhysicalDevice(name='/physical_device:GPU:1', device_type='GPU')])"
      ]
     },
     "execution_count": 6,
     "metadata": {},
     "output_type": "execute_result"
    }
   ],
   "source": [
    "# tfu.devices.select_cpu()\n",
    "tfu.devices.select_gpu(1)"
   ]
  },
  {
   "cell_type": "code",
   "execution_count": 7,
   "metadata": {},
   "outputs": [],
   "source": [
    "output_path = Path(\"/home/dwl2x/work/Datasets/Walker_Alex\")\n",
    "output_path.mkdir(exist_ok=True)"
   ]
  },
  {
   "cell_type": "code",
   "execution_count": 8,
   "metadata": {},
   "outputs": [],
   "source": [
    "fasta_path = Path(\"/home/shared/walker_lab/alex/P_A_221205_cmfp.trim.contigs.pcr.good.unique.good.filter.unique.precluster.denovo.vsearch.pick.opti_mcc.0.03.pick.0.03.abund.0.03.pick.fasta\")\n",
    "otu_list_path = Path(\"/home/shared/walker_lab/digitalocean/Alex_SFD/shared_list/221205_cmfp.trim.contigs.pcr.good.unique.good.filter.unique.precluster.denovo.vsearch.asv.list\")\n",
    "otu_shared_path = Path(\"/home/shared/walker_lab/digitalocean/Alex_SFD/shared_list/221205_cmfp.trim.contigs.pcr.good.unique.good.filter.unique.precluster.denovo.vsearch.asv.shared\")\n",
    "metadata_path = Path(\"/home/shared/walker_lab/alex/230320_sfdspatial_meta_clean.csv\")"
   ]
  },
  {
   "cell_type": "markdown",
   "metadata": {},
   "source": [
    "## FASTA DB"
   ]
  },
  {
   "cell_type": "code",
   "execution_count": 9,
   "metadata": {},
   "outputs": [],
   "source": [
    "def clean_entry(entry: fasta.FastaEntry):\n",
    "    sequence = re.sub(r\"[^\" + dna.ALL_BASES + r\"]\", \"\", entry.sequence)\n",
    "    return replace(entry, sequence=sequence)"
   ]
  },
  {
   "cell_type": "code",
   "execution_count": 10,
   "metadata": {},
   "outputs": [],
   "source": [
    "# factory = fasta.FastaDbFactory(output_path / \"alex.fasta.db\")\n",
    "# for entry in tqdm(map(clean_entry, fasta.entries(fasta_path))):\n",
    "#     if len(entry) < 250:\n",
    "#         continue\n",
    "#     factory.write_entry(entry)\n",
    "# factory.close()"
   ]
  },
  {
   "cell_type": "code",
   "execution_count": 11,
   "metadata": {},
   "outputs": [],
   "source": [
    "fasta_db = fasta.FastaDb(output_path / \"alex.fasta.db\")"
   ]
  },
  {
   "cell_type": "markdown",
   "metadata": {},
   "source": [
    "---\n",
    "\n",
    "## Sample OTU Index"
   ]
  },
  {
   "cell_type": "code",
   "execution_count": 12,
   "metadata": {},
   "outputs": [],
   "source": [
    "# with open(otu_list_path) as f:\n",
    "#     keys = f.readline().strip().split('\\t')\n",
    "#     values = f.readline().strip().split('\\t')\n",
    "# otu_index = dict(zip(keys[2:], values[2:]))"
   ]
  },
  {
   "cell_type": "code",
   "execution_count": 13,
   "metadata": {},
   "outputs": [],
   "source": [
    "# list(otu_index.values())[:5]"
   ]
  },
  {
   "cell_type": "code",
   "execution_count": 14,
   "metadata": {},
   "outputs": [],
   "source": [
    "# factory = fasta.FastaIndexDbFactory(output_path / \"alex.fasta.index.db\")\n",
    "# for i, asv in enumerate(tqdm(otu_index)):\n",
    "#     fasta_id = otu_index[asv]\n",
    "#     if fasta_id not in fasta_db:\n",
    "#         continue\n",
    "#     factory.write_entry(fasta_db[fasta_id], key=asv)\n",
    "# factory.close()"
   ]
  },
  {
   "cell_type": "code",
   "execution_count": 15,
   "metadata": {},
   "outputs": [],
   "source": [
    "index_db = fasta.FastaIndexDb(output_path / \"alex.fasta.index.db\")"
   ]
  },
  {
   "cell_type": "markdown",
   "metadata": {},
   "source": [
    "---\n",
    "\n",
    "## Load Metadata"
   ]
  },
  {
   "cell_type": "code",
   "execution_count": 16,
   "metadata": {},
   "outputs": [
    {
     "data": {
      "text/html": [
       "<div>\n",
       "<style scoped>\n",
       "    .dataframe tbody tr th:only-of-type {\n",
       "        vertical-align: middle;\n",
       "    }\n",
       "\n",
       "    .dataframe tbody tr th {\n",
       "        vertical-align: top;\n",
       "    }\n",
       "\n",
       "    .dataframe thead th {\n",
       "        text-align: right;\n",
       "    }\n",
       "</style>\n",
       "<table border=\"1\" class=\"dataframe\">\n",
       "  <thead>\n",
       "    <tr style=\"text-align: right;\">\n",
       "      <th></th>\n",
       "      <th>taxon</th>\n",
       "      <th>ecomode</th>\n",
       "      <th>oo_present</th>\n",
       "      <th>date</th>\n",
       "      <th>county</th>\n",
       "      <th>site</th>\n",
       "      <th>clinical_signs</th>\n",
       "      <th>log_copy_number</th>\n",
       "      <th>gpsn</th>\n",
       "      <th>gpsw</th>\n",
       "      <th>...</th>\n",
       "      <th>swab_col</th>\n",
       "      <th>DNA_con</th>\n",
       "      <th>swab_plate_n</th>\n",
       "      <th>notes</th>\n",
       "      <th>richness</th>\n",
       "      <th>shannon</th>\n",
       "      <th>evenness</th>\n",
       "      <th>simpson</th>\n",
       "      <th>invsimpson</th>\n",
       "      <th>dis.sev</th>\n",
       "    </tr>\n",
       "    <tr>\n",
       "      <th>swab_label</th>\n",
       "      <th></th>\n",
       "      <th></th>\n",
       "      <th></th>\n",
       "      <th></th>\n",
       "      <th></th>\n",
       "      <th></th>\n",
       "      <th></th>\n",
       "      <th></th>\n",
       "      <th></th>\n",
       "      <th></th>\n",
       "      <th></th>\n",
       "      <th></th>\n",
       "      <th></th>\n",
       "      <th></th>\n",
       "      <th></th>\n",
       "      <th></th>\n",
       "      <th></th>\n",
       "      <th></th>\n",
       "      <th></th>\n",
       "      <th></th>\n",
       "      <th></th>\n",
       "    </tr>\n",
       "  </thead>\n",
       "  <tbody>\n",
       "    <tr>\n",
       "      <th>STP582C</th>\n",
       "      <td>Agkistrodon piscivorus</td>\n",
       "      <td>Aquatic</td>\n",
       "      <td>0</td>\n",
       "      <td>6/7/2015</td>\n",
       "      <td>Polk</td>\n",
       "      <td>Ouachita National Forest</td>\n",
       "      <td>NaN</td>\n",
       "      <td>0.00000</td>\n",
       "      <td>34.46294</td>\n",
       "      <td>-93.99638</td>\n",
       "      <td>...</td>\n",
       "      <td>1.0</td>\n",
       "      <td>3.06</td>\n",
       "      <td>1.0</td>\n",
       "      <td>Walker et al. ISME</td>\n",
       "      <td>618</td>\n",
       "      <td>4.804865</td>\n",
       "      <td>0.197578</td>\n",
       "      <td>0.974111</td>\n",
       "      <td>38.627160</td>\n",
       "      <td>Neg</td>\n",
       "    </tr>\n",
       "    <tr>\n",
       "      <th>STP633C</th>\n",
       "      <td>Crotalus horridus</td>\n",
       "      <td>Terrestrial</td>\n",
       "      <td>0</td>\n",
       "      <td>6/8/2015</td>\n",
       "      <td>Polk</td>\n",
       "      <td>Ouachita National Forest</td>\n",
       "      <td>NaN</td>\n",
       "      <td>0.00000</td>\n",
       "      <td>34.46262</td>\n",
       "      <td>-93.99853</td>\n",
       "      <td>...</td>\n",
       "      <td>1.0</td>\n",
       "      <td>2.18</td>\n",
       "      <td>1.0</td>\n",
       "      <td>Walker et al. ISME</td>\n",
       "      <td>486</td>\n",
       "      <td>4.505452</td>\n",
       "      <td>0.186233</td>\n",
       "      <td>0.962531</td>\n",
       "      <td>26.688501</td>\n",
       "      <td>Neg</td>\n",
       "    </tr>\n",
       "    <tr>\n",
       "      <th>STP634C</th>\n",
       "      <td>Agkistrodon piscivorus</td>\n",
       "      <td>Aquatic</td>\n",
       "      <td>0</td>\n",
       "      <td>6/8/2015</td>\n",
       "      <td>Polk</td>\n",
       "      <td>Ouachita National Forest</td>\n",
       "      <td>NaN</td>\n",
       "      <td>0.00000</td>\n",
       "      <td>34.57593</td>\n",
       "      <td>-94.03164</td>\n",
       "      <td>...</td>\n",
       "      <td>1.0</td>\n",
       "      <td>40.80</td>\n",
       "      <td>1.0</td>\n",
       "      <td>Walker et al. ISME</td>\n",
       "      <td>456</td>\n",
       "      <td>2.743417</td>\n",
       "      <td>0.034079</td>\n",
       "      <td>0.723965</td>\n",
       "      <td>3.622725</td>\n",
       "      <td>Neg</td>\n",
       "    </tr>\n",
       "    <tr>\n",
       "      <th>STP639C</th>\n",
       "      <td>Agkistrodon piscivorus</td>\n",
       "      <td>Aquatic</td>\n",
       "      <td>0</td>\n",
       "      <td>6/8/2015</td>\n",
       "      <td>Montgomery</td>\n",
       "      <td>Ouachita National Forest</td>\n",
       "      <td>NaN</td>\n",
       "      <td>0.00000</td>\n",
       "      <td>34.43632</td>\n",
       "      <td>-93.78750</td>\n",
       "      <td>...</td>\n",
       "      <td>1.0</td>\n",
       "      <td>3.90</td>\n",
       "      <td>1.0</td>\n",
       "      <td>Walker et al. ISME</td>\n",
       "      <td>659</td>\n",
       "      <td>4.919205</td>\n",
       "      <td>0.207730</td>\n",
       "      <td>0.975840</td>\n",
       "      <td>41.391414</td>\n",
       "      <td>Neg</td>\n",
       "    </tr>\n",
       "    <tr>\n",
       "      <th>STP640C</th>\n",
       "      <td>Agkistrodon piscivorus</td>\n",
       "      <td>Aquatic</td>\n",
       "      <td>0</td>\n",
       "      <td>6/8/2015</td>\n",
       "      <td>Montgomery</td>\n",
       "      <td>Ouachita National Forest</td>\n",
       "      <td>NaN</td>\n",
       "      <td>0.00000</td>\n",
       "      <td>34.43632</td>\n",
       "      <td>-93.78750</td>\n",
       "      <td>...</td>\n",
       "      <td>1.0</td>\n",
       "      <td>6.14</td>\n",
       "      <td>1.0</td>\n",
       "      <td>Walker et al. ISME</td>\n",
       "      <td>384</td>\n",
       "      <td>4.312839</td>\n",
       "      <td>0.194407</td>\n",
       "      <td>0.963434</td>\n",
       "      <td>27.347450</td>\n",
       "      <td>Neg</td>\n",
       "    </tr>\n",
       "    <tr>\n",
       "      <th>...</th>\n",
       "      <td>...</td>\n",
       "      <td>...</td>\n",
       "      <td>...</td>\n",
       "      <td>...</td>\n",
       "      <td>...</td>\n",
       "      <td>...</td>\n",
       "      <td>...</td>\n",
       "      <td>...</td>\n",
       "      <td>...</td>\n",
       "      <td>...</td>\n",
       "      <td>...</td>\n",
       "      <td>...</td>\n",
       "      <td>...</td>\n",
       "      <td>...</td>\n",
       "      <td>...</td>\n",
       "      <td>...</td>\n",
       "      <td>...</td>\n",
       "      <td>...</td>\n",
       "      <td>...</td>\n",
       "      <td>...</td>\n",
       "      <td>...</td>\n",
       "    </tr>\n",
       "    <tr>\n",
       "      <th>STP1502C</th>\n",
       "      <td>Nerodia sipedon</td>\n",
       "      <td>Aquatic</td>\n",
       "      <td>1</td>\n",
       "      <td>NaN</td>\n",
       "      <td>Overton</td>\n",
       "      <td>Waterloo Falls</td>\n",
       "      <td>NaN</td>\n",
       "      <td>0.30103</td>\n",
       "      <td>NaN</td>\n",
       "      <td>NaN</td>\n",
       "      <td>...</td>\n",
       "      <td>11.0</td>\n",
       "      <td>22.60</td>\n",
       "      <td>2.0</td>\n",
       "      <td>Walker et al. ISME</td>\n",
       "      <td>692</td>\n",
       "      <td>4.422581</td>\n",
       "      <td>0.120392</td>\n",
       "      <td>0.959926</td>\n",
       "      <td>24.954109</td>\n",
       "      <td>Low</td>\n",
       "    </tr>\n",
       "    <tr>\n",
       "      <th>STP1503C</th>\n",
       "      <td>Nerodia sipedon</td>\n",
       "      <td>Aquatic</td>\n",
       "      <td>1</td>\n",
       "      <td>NaN</td>\n",
       "      <td>Overton</td>\n",
       "      <td>Waterloo Falls</td>\n",
       "      <td>NaN</td>\n",
       "      <td>0.30103</td>\n",
       "      <td>NaN</td>\n",
       "      <td>NaN</td>\n",
       "      <td>...</td>\n",
       "      <td>11.0</td>\n",
       "      <td>22.60</td>\n",
       "      <td>2.0</td>\n",
       "      <td>Walker et al. ISME</td>\n",
       "      <td>823</td>\n",
       "      <td>5.162691</td>\n",
       "      <td>0.212192</td>\n",
       "      <td>0.980217</td>\n",
       "      <td>50.549217</td>\n",
       "      <td>Low</td>\n",
       "    </tr>\n",
       "    <tr>\n",
       "      <th>STP762C</th>\n",
       "      <td>Thamnophis sirtalis</td>\n",
       "      <td>Terrestrial</td>\n",
       "      <td>1</td>\n",
       "      <td>NaN</td>\n",
       "      <td>Cumberland</td>\n",
       "      <td>Catoosa WMA</td>\n",
       "      <td>NaN</td>\n",
       "      <td>1.00000</td>\n",
       "      <td>NaN</td>\n",
       "      <td>NaN</td>\n",
       "      <td>...</td>\n",
       "      <td>2.0</td>\n",
       "      <td>23.20</td>\n",
       "      <td>1.0</td>\n",
       "      <td>Walker et al. ISME - Austin Property-Crossville</td>\n",
       "      <td>739</td>\n",
       "      <td>4.925323</td>\n",
       "      <td>0.186379</td>\n",
       "      <td>0.979888</td>\n",
       "      <td>49.721213</td>\n",
       "      <td>Low</td>\n",
       "    </tr>\n",
       "    <tr>\n",
       "      <th>STP763C</th>\n",
       "      <td>Coluber constrictor</td>\n",
       "      <td>Terrestrial</td>\n",
       "      <td>0</td>\n",
       "      <td>NaN</td>\n",
       "      <td>Cumberland</td>\n",
       "      <td>Catoosa WMA</td>\n",
       "      <td>NaN</td>\n",
       "      <td>0.00000</td>\n",
       "      <td>NaN</td>\n",
       "      <td>NaN</td>\n",
       "      <td>...</td>\n",
       "      <td>2.0</td>\n",
       "      <td>102.00</td>\n",
       "      <td>1.0</td>\n",
       "      <td>Walker et al. ISME - Austin Property-Crossville</td>\n",
       "      <td>123</td>\n",
       "      <td>3.016996</td>\n",
       "      <td>0.166096</td>\n",
       "      <td>0.916935</td>\n",
       "      <td>12.038762</td>\n",
       "      <td>Neg</td>\n",
       "    </tr>\n",
       "    <tr>\n",
       "      <th>TST1</th>\n",
       "      <td>Crotalus horridus</td>\n",
       "      <td>Terrestrial</td>\n",
       "      <td>0</td>\n",
       "      <td>NaN</td>\n",
       "      <td>Morgan</td>\n",
       "      <td>Catoosa WMA</td>\n",
       "      <td>NaN</td>\n",
       "      <td>0.00000</td>\n",
       "      <td>36.04593</td>\n",
       "      <td>-84.76528</td>\n",
       "      <td>...</td>\n",
       "      <td>11.0</td>\n",
       "      <td>6.02</td>\n",
       "      <td>2.0</td>\n",
       "      <td>Walker et al. ISME</td>\n",
       "      <td>626</td>\n",
       "      <td>5.009543</td>\n",
       "      <td>0.239355</td>\n",
       "      <td>0.974569</td>\n",
       "      <td>39.321592</td>\n",
       "      <td>Neg</td>\n",
       "    </tr>\n",
       "  </tbody>\n",
       "</table>\n",
       "<p>738 rows × 48 columns</p>\n",
       "</div>"
      ],
      "text/plain": [
       "                             taxon      ecomode  oo_present      date  \\\n",
       "swab_label                                                              \n",
       "STP582C     Agkistrodon piscivorus      Aquatic           0  6/7/2015   \n",
       "STP633C          Crotalus horridus  Terrestrial           0  6/8/2015   \n",
       "STP634C     Agkistrodon piscivorus      Aquatic           0  6/8/2015   \n",
       "STP639C     Agkistrodon piscivorus      Aquatic           0  6/8/2015   \n",
       "STP640C     Agkistrodon piscivorus      Aquatic           0  6/8/2015   \n",
       "...                            ...          ...         ...       ...   \n",
       "STP1502C           Nerodia sipedon      Aquatic           1       NaN   \n",
       "STP1503C           Nerodia sipedon      Aquatic           1       NaN   \n",
       "STP762C        Thamnophis sirtalis  Terrestrial           1       NaN   \n",
       "STP763C        Coluber constrictor  Terrestrial           0       NaN   \n",
       "TST1             Crotalus horridus  Terrestrial           0       NaN   \n",
       "\n",
       "                county                      site  clinical_signs  \\\n",
       "swab_label                                                         \n",
       "STP582C           Polk  Ouachita National Forest             NaN   \n",
       "STP633C           Polk  Ouachita National Forest             NaN   \n",
       "STP634C           Polk  Ouachita National Forest             NaN   \n",
       "STP639C     Montgomery  Ouachita National Forest             NaN   \n",
       "STP640C     Montgomery  Ouachita National Forest             NaN   \n",
       "...                ...                       ...             ...   \n",
       "STP1502C       Overton            Waterloo Falls             NaN   \n",
       "STP1503C       Overton            Waterloo Falls             NaN   \n",
       "STP762C     Cumberland               Catoosa WMA             NaN   \n",
       "STP763C     Cumberland               Catoosa WMA             NaN   \n",
       "TST1            Morgan               Catoosa WMA             NaN   \n",
       "\n",
       "            log_copy_number      gpsn      gpsw  ... swab_col  DNA_con  \\\n",
       "swab_label                                       ...                     \n",
       "STP582C             0.00000  34.46294 -93.99638  ...      1.0     3.06   \n",
       "STP633C             0.00000  34.46262 -93.99853  ...      1.0     2.18   \n",
       "STP634C             0.00000  34.57593 -94.03164  ...      1.0    40.80   \n",
       "STP639C             0.00000  34.43632 -93.78750  ...      1.0     3.90   \n",
       "STP640C             0.00000  34.43632 -93.78750  ...      1.0     6.14   \n",
       "...                     ...       ...       ...  ...      ...      ...   \n",
       "STP1502C            0.30103       NaN       NaN  ...     11.0    22.60   \n",
       "STP1503C            0.30103       NaN       NaN  ...     11.0    22.60   \n",
       "STP762C             1.00000       NaN       NaN  ...      2.0    23.20   \n",
       "STP763C             0.00000       NaN       NaN  ...      2.0   102.00   \n",
       "TST1                0.00000  36.04593 -84.76528  ...     11.0     6.02   \n",
       "\n",
       "            swab_plate_n                                            notes  \\\n",
       "swab_label                                                                  \n",
       "STP582C              1.0                               Walker et al. ISME   \n",
       "STP633C              1.0                               Walker et al. ISME   \n",
       "STP634C              1.0                               Walker et al. ISME   \n",
       "STP639C              1.0                               Walker et al. ISME   \n",
       "STP640C              1.0                               Walker et al. ISME   \n",
       "...                  ...                                              ...   \n",
       "STP1502C             2.0                               Walker et al. ISME   \n",
       "STP1503C             2.0                               Walker et al. ISME   \n",
       "STP762C              1.0  Walker et al. ISME - Austin Property-Crossville   \n",
       "STP763C              1.0  Walker et al. ISME - Austin Property-Crossville   \n",
       "TST1                 2.0                               Walker et al. ISME   \n",
       "\n",
       "            richness   shannon  evenness   simpson invsimpson dis.sev  \n",
       "swab_label                                                             \n",
       "STP582C          618  4.804865  0.197578  0.974111  38.627160     Neg  \n",
       "STP633C          486  4.505452  0.186233  0.962531  26.688501     Neg  \n",
       "STP634C          456  2.743417  0.034079  0.723965   3.622725     Neg  \n",
       "STP639C          659  4.919205  0.207730  0.975840  41.391414     Neg  \n",
       "STP640C          384  4.312839  0.194407  0.963434  27.347450     Neg  \n",
       "...              ...       ...       ...       ...        ...     ...  \n",
       "STP1502C         692  4.422581  0.120392  0.959926  24.954109     Low  \n",
       "STP1503C         823  5.162691  0.212192  0.980217  50.549217     Low  \n",
       "STP762C          739  4.925323  0.186379  0.979888  49.721213     Low  \n",
       "STP763C          123  3.016996  0.166096  0.916935  12.038762     Neg  \n",
       "TST1             626  5.009543  0.239355  0.974569  39.321592     Neg  \n",
       "\n",
       "[738 rows x 48 columns]"
      ]
     },
     "execution_count": 16,
     "metadata": {},
     "output_type": "execute_result"
    }
   ],
   "source": [
    "metadata = pd.read_csv(metadata_path, index_col=0)\n",
    "metadata"
   ]
  },
  {
   "cell_type": "code",
   "execution_count": 17,
   "metadata": {},
   "outputs": [],
   "source": [
    "# metadata_sample_names = set(metadata.index.to_list())"
   ]
  },
  {
   "cell_type": "markdown",
   "metadata": {},
   "source": [
    "---\n",
    "\n",
    "## Sample Mapping"
   ]
  },
  {
   "cell_type": "code",
   "execution_count": 18,
   "metadata": {},
   "outputs": [],
   "source": [
    "# with open(otu_shared_path) as f:\n",
    "#     header = f.readline().strip().split('\\t')\n",
    "#     lines = [line.strip().split('\\t') for line in tqdm(f)]\n",
    "# len(lines)"
   ]
  },
  {
   "cell_type": "code",
   "execution_count": 19,
   "metadata": {},
   "outputs": [],
   "source": [
    "# cols = [i for i in range(3, len(header)) if index_db.contains_key(header[i])]"
   ]
  },
  {
   "cell_type": "code",
   "execution_count": 20,
   "metadata": {},
   "outputs": [],
   "source": [
    "# header[:5]"
   ]
  },
  {
   "cell_type": "code",
   "execution_count": 21,
   "metadata": {},
   "outputs": [],
   "source": [
    "# index_db.key_to_fasta_id(\"ASV0000004\")"
   ]
  },
  {
   "cell_type": "code",
   "execution_count": 22,
   "metadata": {},
   "outputs": [],
   "source": [
    "# indices = [i for i in tqdm(range(3, len(header))) if index_db.contains_key(header[i])]"
   ]
  },
  {
   "cell_type": "code",
   "execution_count": 23,
   "metadata": {},
   "outputs": [],
   "source": [
    "# fasta_ids = {i: index_db.key_to_fasta_id(header[i]) for i in tqdm(indices)}"
   ]
  },
  {
   "cell_type": "code",
   "execution_count": 24,
   "metadata": {},
   "outputs": [],
   "source": [
    "# factory = sample.SampleMappingDbFactory(output_path / \"alex.fasta.mapping.db\")\n",
    "# for row in tqdm(lines):\n",
    "#     sample_name = row[1]\n",
    "#     if sample_name not in metadata_sample_names:\n",
    "#         continue\n",
    "#     sample_factory = sample.SampleMappingEntryFactory(sample_name, index_db)\n",
    "#     for i in indices:\n",
    "#         if (count := int(row[i])) == 0:\n",
    "#             continue\n",
    "#         fasta_id = fasta_ids[i]\n",
    "#         sample_factory.add_entry(fasta_db[fasta_id], count)\n",
    "#     factory.write_entry(sample_factory.build())\n",
    "# factory.close()"
   ]
  },
  {
   "cell_type": "code",
   "execution_count": 25,
   "metadata": {},
   "outputs": [],
   "source": [
    "mapping = sample.SampleMappingDb(output_path / \"alex.fasta.mapping.db\", index_db)"
   ]
  },
  {
   "cell_type": "code",
   "execution_count": 26,
   "metadata": {},
   "outputs": [
    {
     "data": {
      "text/plain": [
       "737"
      ]
     },
     "execution_count": 26,
     "metadata": {},
     "output_type": "execute_result"
    }
   ],
   "source": [
    "sample_names = set([sample.name for sample in mapping])\n",
    "len(sample_names)"
   ]
  },
  {
   "cell_type": "markdown",
   "metadata": {},
   "source": [
    "## Taxonomy"
   ]
  },
  {
   "cell_type": "code",
   "execution_count": 27,
   "metadata": {},
   "outputs": [
    {
     "data": {
      "text/html": [
       "<div>\n",
       "<style scoped>\n",
       "    .dataframe tbody tr th:only-of-type {\n",
       "        vertical-align: middle;\n",
       "    }\n",
       "\n",
       "    .dataframe tbody tr th {\n",
       "        vertical-align: top;\n",
       "    }\n",
       "\n",
       "    .dataframe thead th {\n",
       "        text-align: right;\n",
       "    }\n",
       "</style>\n",
       "<table border=\"1\" class=\"dataframe\">\n",
       "  <thead>\n",
       "    <tr style=\"text-align: right;\">\n",
       "      <th></th>\n",
       "      <th>otu</th>\n",
       "      <th>kingdom</th>\n",
       "      <th>phylum</th>\n",
       "      <th>class</th>\n",
       "      <th>order</th>\n",
       "      <th>family</th>\n",
       "      <th>genus</th>\n",
       "    </tr>\n",
       "  </thead>\n",
       "  <tbody>\n",
       "    <tr>\n",
       "      <th>0</th>\n",
       "      <td>Otu000002</td>\n",
       "      <td>Bacteria</td>\n",
       "      <td>Actinobacteria</td>\n",
       "      <td>Actinobacteria</td>\n",
       "      <td>Micrococcales</td>\n",
       "      <td>Intrasporangiaceae</td>\n",
       "      <td>Janibacter</td>\n",
       "    </tr>\n",
       "    <tr>\n",
       "      <th>1</th>\n",
       "      <td>Otu000003</td>\n",
       "      <td>Bacteria</td>\n",
       "      <td>Deinococcus-Thermus</td>\n",
       "      <td>Deinococci</td>\n",
       "      <td>Deinococcales</td>\n",
       "      <td>Deinococcaceae</td>\n",
       "      <td>Deinococcus</td>\n",
       "    </tr>\n",
       "    <tr>\n",
       "      <th>2</th>\n",
       "      <td>Otu000004</td>\n",
       "      <td>Bacteria</td>\n",
       "      <td>Proteobacteria</td>\n",
       "      <td>Gammaproteobacteria</td>\n",
       "      <td>Betaproteobacteriales</td>\n",
       "      <td>Burkholderiaceae</td>\n",
       "      <td>Burkholderiaceae_unclassified</td>\n",
       "    </tr>\n",
       "    <tr>\n",
       "      <th>3</th>\n",
       "      <td>Otu000005</td>\n",
       "      <td>Bacteria</td>\n",
       "      <td>Proteobacteria</td>\n",
       "      <td>Gammaproteobacteria</td>\n",
       "      <td>Pseudomonadales</td>\n",
       "      <td>Moraxellaceae</td>\n",
       "      <td>Acinetobacter</td>\n",
       "    </tr>\n",
       "    <tr>\n",
       "      <th>4</th>\n",
       "      <td>Otu000006</td>\n",
       "      <td>Bacteria</td>\n",
       "      <td>Proteobacteria</td>\n",
       "      <td>Gammaproteobacteria</td>\n",
       "      <td>Betaproteobacteriales</td>\n",
       "      <td>Burkholderiaceae</td>\n",
       "      <td>Burkholderiaceae_unclassified</td>\n",
       "    </tr>\n",
       "    <tr>\n",
       "      <th>...</th>\n",
       "      <td>...</td>\n",
       "      <td>...</td>\n",
       "      <td>...</td>\n",
       "      <td>...</td>\n",
       "      <td>...</td>\n",
       "      <td>...</td>\n",
       "      <td>...</td>\n",
       "    </tr>\n",
       "    <tr>\n",
       "      <th>25047</th>\n",
       "      <td>Otu069105</td>\n",
       "      <td>Bacteria</td>\n",
       "      <td>Proteobacteria</td>\n",
       "      <td>Gammaproteobacteria</td>\n",
       "      <td>Gammaproteobacteria_unclassified</td>\n",
       "      <td>Gammaproteobacteria_unclassified</td>\n",
       "      <td>Gammaproteobacteria_unclassified</td>\n",
       "    </tr>\n",
       "    <tr>\n",
       "      <th>25048</th>\n",
       "      <td>Otu069123</td>\n",
       "      <td>Bacteria</td>\n",
       "      <td>Proteobacteria</td>\n",
       "      <td>Gammaproteobacteria</td>\n",
       "      <td>Enterobacteriales</td>\n",
       "      <td>Enterobacteriaceae</td>\n",
       "      <td>Enterobacteriaceae_unclassified</td>\n",
       "    </tr>\n",
       "    <tr>\n",
       "      <th>25049</th>\n",
       "      <td>Otu069172</td>\n",
       "      <td>Bacteria</td>\n",
       "      <td>Actinobacteria</td>\n",
       "      <td>Actinobacteria</td>\n",
       "      <td>Micrococcales</td>\n",
       "      <td>Microbacteriaceae</td>\n",
       "      <td>Microbacteriaceae_unclassified</td>\n",
       "    </tr>\n",
       "    <tr>\n",
       "      <th>25050</th>\n",
       "      <td>Otu069191</td>\n",
       "      <td>Bacteria</td>\n",
       "      <td>Proteobacteria</td>\n",
       "      <td>Gammaproteobacteria</td>\n",
       "      <td>Betaproteobacteriales</td>\n",
       "      <td>Betaproteobacteriales_unclassified</td>\n",
       "      <td>Betaproteobacteriales_unclassified</td>\n",
       "    </tr>\n",
       "    <tr>\n",
       "      <th>25051</th>\n",
       "      <td>Otu069197</td>\n",
       "      <td>Bacteria</td>\n",
       "      <td>Proteobacteria</td>\n",
       "      <td>Gammaproteobacteria</td>\n",
       "      <td>Gammaproteobacteria_unclassified</td>\n",
       "      <td>Gammaproteobacteria_unclassified</td>\n",
       "      <td>Gammaproteobacteria_unclassified</td>\n",
       "    </tr>\n",
       "  </tbody>\n",
       "</table>\n",
       "<p>25052 rows × 7 columns</p>\n",
       "</div>"
      ],
      "text/plain": [
       "             otu   kingdom               phylum                class  \\\n",
       "0      Otu000002  Bacteria       Actinobacteria       Actinobacteria   \n",
       "1      Otu000003  Bacteria  Deinococcus-Thermus           Deinococci   \n",
       "2      Otu000004  Bacteria       Proteobacteria  Gammaproteobacteria   \n",
       "3      Otu000005  Bacteria       Proteobacteria  Gammaproteobacteria   \n",
       "4      Otu000006  Bacteria       Proteobacteria  Gammaproteobacteria   \n",
       "...          ...       ...                  ...                  ...   \n",
       "25047  Otu069105  Bacteria       Proteobacteria  Gammaproteobacteria   \n",
       "25048  Otu069123  Bacteria       Proteobacteria  Gammaproteobacteria   \n",
       "25049  Otu069172  Bacteria       Actinobacteria       Actinobacteria   \n",
       "25050  Otu069191  Bacteria       Proteobacteria  Gammaproteobacteria   \n",
       "25051  Otu069197  Bacteria       Proteobacteria  Gammaproteobacteria   \n",
       "\n",
       "                                  order                              family  \\\n",
       "0                         Micrococcales                  Intrasporangiaceae   \n",
       "1                         Deinococcales                      Deinococcaceae   \n",
       "2                 Betaproteobacteriales                    Burkholderiaceae   \n",
       "3                       Pseudomonadales                       Moraxellaceae   \n",
       "4                 Betaproteobacteriales                    Burkholderiaceae   \n",
       "...                                 ...                                 ...   \n",
       "25047  Gammaproteobacteria_unclassified    Gammaproteobacteria_unclassified   \n",
       "25048                 Enterobacteriales                  Enterobacteriaceae   \n",
       "25049                     Micrococcales                   Microbacteriaceae   \n",
       "25050             Betaproteobacteriales  Betaproteobacteriales_unclassified   \n",
       "25051  Gammaproteobacteria_unclassified    Gammaproteobacteria_unclassified   \n",
       "\n",
       "                                    genus  \n",
       "0                              Janibacter  \n",
       "1                             Deinococcus  \n",
       "2           Burkholderiaceae_unclassified  \n",
       "3                           Acinetobacter  \n",
       "4           Burkholderiaceae_unclassified  \n",
       "...                                   ...  \n",
       "25047    Gammaproteobacteria_unclassified  \n",
       "25048     Enterobacteriaceae_unclassified  \n",
       "25049      Microbacteriaceae_unclassified  \n",
       "25050  Betaproteobacteriales_unclassified  \n",
       "25051    Gammaproteobacteria_unclassified  \n",
       "\n",
       "[25052 rows x 7 columns]"
      ]
     },
     "execution_count": 27,
     "metadata": {},
     "output_type": "execute_result"
    }
   ],
   "source": [
    "tax_data = pd.read_csv(\"/home/shared/walker_lab/alex/230428_SFDtaxfinal_engineer.csv\")\n",
    "tax_data"
   ]
  },
  {
   "cell_type": "code",
   "execution_count": 28,
   "metadata": {},
   "outputs": [],
   "source": [
    "tax_dict = {}\n",
    "for _, row in tax_data.iterrows():\n",
    "    otu, taxons = row[0], taxonomy.join_taxonomy(tuple(row.values[1:]))\n",
    "    tax_dict[otu] = taxons"
   ]
  },
  {
   "cell_type": "code",
   "execution_count": 29,
   "metadata": {},
   "outputs": [
    {
     "data": {
      "text/plain": [
       "'k__Bacteria; p__Actinobacteria; c__Actinobacteria; o__Micrococcales; f__Intrasporangiaceae; g__Janibacter'"
      ]
     },
     "execution_count": 29,
     "metadata": {},
     "output_type": "execute_result"
    }
   ],
   "source": [
    "tax_dict[\"Otu000002\"]"
   ]
  },
  {
   "cell_type": "code",
   "execution_count": 30,
   "metadata": {},
   "outputs": [
    {
     "data": {
      "text/plain": [
       "1883435"
      ]
     },
     "execution_count": 30,
     "metadata": {},
     "output_type": "execute_result"
    }
   ],
   "source": [
    "asv_to_otu = {}\n",
    "for entry in fasta_db:\n",
    "    otu_id = entry.extra.split()[1]\n",
    "    assert otu_id.startswith(\"Otu\")\n",
    "    asv_to_otu[entry.identifier] = otu_id\n",
    "len(asv_to_otu)"
   ]
  },
  {
   "cell_type": "markdown",
   "metadata": {},
   "source": [
    "---\n",
    "\n",
    "## Pathogen Load TSVs"
   ]
  },
  {
   "cell_type": "code",
   "execution_count": 31,
   "metadata": {},
   "outputs": [],
   "source": [
    "# with open(output_path / \"alex.pathogen_load.tsv\", \"w\") as f:\n",
    "#     f.write(f\"label\\tpathogen_load\\n\")\n",
    "#     for index, row in metadata.iterrows():\n",
    "#         if index not in sample_names:\n",
    "#             continue\n",
    "#         f.write(f\"{index}\\t{row['log_copy_number']}\\n\")"
   ]
  },
  {
   "cell_type": "markdown",
   "metadata": {},
   "source": [
    "---\n",
    "\n",
    "## Data Generator"
   ]
  },
  {
   "cell_type": "code",
   "execution_count": 32,
   "metadata": {},
   "outputs": [],
   "source": [
    "# p = pd.read_csv(output_path / \"alex.pathogen_load.tsv\", sep=\"\\t\", index_col=0)\n",
    "# p"
   ]
  },
  {
   "cell_type": "code",
   "execution_count": 33,
   "metadata": {},
   "outputs": [],
   "source": [
    "from typing import Generic, TypeVar\n",
    "\n",
    "_T = TypeVar(\"_T\")\n",
    "\n",
    "class SampleTargetGenerator(SampleGenerator, Generic[_T]):\n",
    "    def __init__(\n",
    "        self,\n",
    "        samples: Iterable[sample.SampleInterface],\n",
    "        targets: dict[str, _T],\n",
    "        sequence_length: int,\n",
    "        kmer: int = 1,\n",
    "        subsample_size: int|None = None,\n",
    "        augment_slide: bool = True,\n",
    "        augment_ambiguous_bases: bool = True,\n",
    "        batch_size: int = 32,\n",
    "        batches_per_epoch: int = 100,\n",
    "        class_weights: Optional[npt.ArrayLike] = None,\n",
    "        shuffle: bool = True,\n",
    "        balance: bool = False,\n",
    "        rng: np.random.Generator = np.random.default_rng()\n",
    "    ):\n",
    "        super().__init__(\n",
    "            samples=samples,\n",
    "            sequence_length=sequence_length,\n",
    "            kmer=kmer,\n",
    "            subsample_size=subsample_size,\n",
    "            augment_slide=augment_slide,\n",
    "            augment_ambiguous_bases=augment_ambiguous_bases,\n",
    "            batch_size=batch_size,\n",
    "            batches_per_epoch=batches_per_epoch,\n",
    "            class_weights=class_weights,\n",
    "            shuffle=shuffle,\n",
    "            balance=balance,\n",
    "            rng=rng\n",
    "        )\n",
    "        self.targets = targets\n",
    "\n",
    "    def generate_batch(self, rng: np.random.Generator):\n",
    "        subsample_size = self.subsample_size or 1\n",
    "        sequence_ids = [None] * self.batch_size\n",
    "        sequences = np.empty((self.batch_size, subsample_size), dtype=f\"<U{self.sequence_length}\")\n",
    "        targets = []\n",
    "        sample_names = []\n",
    "        samples = self.sample_sampler.sample(self.batch_size, self.balance, rng)\n",
    "        for i, sample in enumerate(samples):\n",
    "            sample_names.append(sample.name)\n",
    "            sequence_ids[i], sequences[i] = zip(*self.sequence_sampler.sample_with_ids(sample, subsample_size, rng))\n",
    "            targets.append(self.targets[sample.name])\n",
    "        sequences = _encode_sequences(sequences, self.augment_ambiguous_bases, self.rng)\n",
    "        if self.subsample_size is None:\n",
    "            sequences = np.squeeze(sequences, axis=1) # type: ignore\n",
    "        if self.kmer > 1:\n",
    "            sequences = dna.encode_kmers(sequences, self.kmer, not self.augment_ambiguous_bases)\n",
    "        x, y = sequences.astype(np.int32), np.array(targets, dtype=np.float32)\n",
    "        return sample_names, sequence_ids, x, y\n",
    "\n",
    "    def reduce_batch(self, batch):\n",
    "        return batch[2:]"
   ]
  },
  {
   "cell_type": "markdown",
   "metadata": {},
   "source": [
    "## Construct Training/Validation Sets"
   ]
  },
  {
   "cell_type": "code",
   "execution_count": 34,
   "metadata": {},
   "outputs": [],
   "source": [
    "rng = np.random.default_rng(0)"
   ]
  },
  {
   "cell_type": "code",
   "execution_count": 35,
   "metadata": {},
   "outputs": [],
   "source": [
    "samples = [sample.DemultiplexedFastaSample(fasta_db, entry) for entry in mapping]"
   ]
  },
  {
   "cell_type": "code",
   "execution_count": 36,
   "metadata": {},
   "outputs": [],
   "source": [
    "targets = pd.read_csv(output_path / \"alex.pathogen_load.tsv\", sep=\"\\t\", index_col=0)[\"pathogen_load\"].astype(np.float32).to_dict()"
   ]
  },
  {
   "cell_type": "code",
   "execution_count": 37,
   "metadata": {},
   "outputs": [
    {
     "data": {
      "text/plain": [
       "(737, 737)"
      ]
     },
     "execution_count": 37,
     "metadata": {},
     "output_type": "execute_result"
    }
   ],
   "source": [
    "rng.shuffle(samples)\n",
    "# split_index = int(0.2*len(samples))\n",
    "split_index = 0\n",
    "train_samples = samples[split_index:]\n",
    "# val_samples = samples[:split_index]\n",
    "val_samples = train_samples\n",
    "\n",
    "train_targets = {sample.name: targets[sample.name] for sample in train_samples}\n",
    "val_targets = {sample.name: targets[sample.name] for sample in val_samples}\n",
    "len(train_targets), len(val_targets)"
   ]
  },
  {
   "cell_type": "code",
   "execution_count": 38,
   "metadata": {},
   "outputs": [],
   "source": [
    "def compute_class_weights(samples, targets):\n",
    "    negative_indices = np.array([1.0 if targets[sample.name] == 0.0 else 0.0 for sample in samples])\n",
    "    positive_indices = 1 - negative_indices\n",
    "    negative_weights = negative_indices / np.sum(negative_indices)\n",
    "    positive_weights = positive_indices / np.sum(positive_indices)\n",
    "    class_weights = positive_weights/2 + negative_weights/2\n",
    "    return class_weights"
   ]
  },
  {
   "cell_type": "code",
   "execution_count": 39,
   "metadata": {},
   "outputs": [
    {
     "name": "stderr",
     "output_type": "stream",
     "text": [
      "/tmp/ipykernel_4411/3560127358.py:2: VisibleDeprecationWarning: Creating an ndarray from ragged nested sequences (which is a list-or-tuple of lists-or-tuples-or ndarrays with different lengths or shapes) is deprecated. If you meant to do this, you must specify 'dtype=object' when creating the ndarray.\n",
      "  sum([train_targets[s.name] > 0.0 for s in rng.choice(train_samples, 1000, p=compute_class_weights(train_samples, train_targets))])\n"
     ]
    },
    {
     "data": {
      "text/plain": [
       "485"
      ]
     },
     "execution_count": 39,
     "metadata": {},
     "output_type": "execute_result"
    }
   ],
   "source": [
    "# Test (should be ~= 500)\n",
    "sum([train_targets[s.name] > 0.0 for s in rng.choice(train_samples, 1000, p=compute_class_weights(train_samples, train_targets))])"
   ]
  },
  {
   "cell_type": "code",
   "execution_count": 40,
   "metadata": {},
   "outputs": [],
   "source": [
    "train_targets = {k: int(v > 0) for k, v in train_targets.items()}\n",
    "val_targets = {k: int(v > 0) for k, v in val_targets.items()}"
   ]
  },
  {
   "cell_type": "code",
   "execution_count": 41,
   "metadata": {},
   "outputs": [],
   "source": [
    "common_args = dict(\n",
    "    sequence_length = 250,\n",
    "    kmer = 3,\n",
    "    subsample_size = 1000,\n",
    "    batch_size=16\n",
    ")\n",
    "\n",
    "train_dataset = SampleTargetGenerator(\n",
    "    train_samples,\n",
    "    train_targets,\n",
    "    class_weights=compute_class_weights(train_samples, train_targets),\n",
    "    batches_per_epoch=20,\n",
    "    **common_args\n",
    ")\n",
    "\n",
    "val_dataset = SampleTargetGenerator(\n",
    "    val_samples,\n",
    "    val_targets,\n",
    "    class_weights=compute_class_weights(val_samples, val_targets),\n",
    "    batches_per_epoch=16,\n",
    "    shuffle=False,\n",
    "    **common_args\n",
    ")"
   ]
  },
  {
   "cell_type": "code",
   "execution_count": 42,
   "metadata": {},
   "outputs": [
    {
     "data": {
      "text/plain": [
       "(array([[[49,  6, 27, ..., 16,  0,  1],\n",
       "         [49,  4, 18, ..., 16,  0,  1],\n",
       "         [ 6, 27, 44, ..., 32,  1,  4],\n",
       "         ...,\n",
       "         [26, 40, 34, ...,  1,  4, 18],\n",
       "         [ 6, 27, 44, ...,  0,  1,  4],\n",
       "         [49,  6, 27, ..., 16,  0,  1]],\n",
       " \n",
       "        [[49,  6, 26, ..., 24, 32,  1],\n",
       "         [40, 34, 10, ...,  5, 22, 26],\n",
       "         [40, 34, 10, ...,  5, 22, 26],\n",
       "         ...,\n",
       "         [ 6, 27, 44, ..., 32,  1,  4],\n",
       "         [40, 34, 10, ...,  4, 18, 10],\n",
       "         [40, 34, 10, ...,  5, 22, 26]],\n",
       " \n",
       "        [[26, 40, 34, ...,  1,  5, 22],\n",
       "         [40, 34, 10, ...,  5, 22, 26],\n",
       "         [49,  6, 26, ..., 24, 32,  1],\n",
       "         ...,\n",
       "         [26, 40, 34, ...,  1,  5, 22],\n",
       "         [40, 34, 10, ...,  4, 18, 10],\n",
       "         [49,  6, 27, ..., 24, 32,  1]],\n",
       " \n",
       "        ...,\n",
       " \n",
       "        [[49,  4, 18, ..., 16,  0,  1],\n",
       "         [ 8, 34, 10, ...,  4, 18, 10],\n",
       "         [ 4, 18,  8, ...,  0,  1,  4],\n",
       "         ...,\n",
       "         [44, 50, 10, ...,  4, 18, 10],\n",
       "         [49,  6, 27, ..., 16,  0,  1],\n",
       "         [ 4, 18,  8, ..., 32,  1,  4]],\n",
       " \n",
       "        [[26, 40, 34, ...,  1,  5, 22],\n",
       "         [40, 34, 10, ...,  5, 22, 26],\n",
       "         [26, 40, 34, ...,  1,  5, 22],\n",
       "         ...,\n",
       "         [ 6, 26, 40, ...,  0,  1,  4],\n",
       "         [40, 34, 10, ...,  4, 18, 10],\n",
       "         [49,  6, 27, ..., 16,  0,  1]],\n",
       " \n",
       "        [[18,  8, 34, ...,  1,  4, 18],\n",
       "         [18,  8, 34, ...,  1,  4, 18],\n",
       "         [49,  4, 18, ..., 16,  0,  1],\n",
       "         ...,\n",
       "         [18,  8, 34, ...,  4, 18, 10],\n",
       "         [ 4, 18,  8, ...,  0,  1,  4],\n",
       "         [44, 50, 10, ...,  4, 18, 10]]], dtype=int32),\n",
       " array([0., 0., 1., 0., 1., 1., 0., 0., 0., 0., 1., 1., 1., 1., 1., 1.],\n",
       "       dtype=float32))"
      ]
     },
     "execution_count": 42,
     "metadata": {},
     "output_type": "execute_result"
    }
   ],
   "source": [
    "train_dataset[0]"
   ]
  },
  {
   "cell_type": "markdown",
   "metadata": {},
   "source": [
    "## Loss Functions"
   ]
  },
  {
   "cell_type": "code",
   "execution_count": 43,
   "metadata": {},
   "outputs": [],
   "source": [
    "def log_norm_dist_loss(y_true, y_pred):\n",
    "    # Note that y_true is the original\n",
    "    # regression target and y_pred will\n",
    "    # be 2 values: mu and sigma (linear, softplus)\n",
    "    epsilon = 1e-8 # can't compute log of 0\n",
    "    l_mu, l_sigma = tf.unstack(y_pred, axis=-1)\n",
    "    # l_mu = tf.expand_dims(l_mu,-1)\n",
    "    # l_sigma = tf.expand_dims(l_sigma,-1)\n",
    "\n",
    "    t1 = tf.math.log(l_sigma)\n",
    "    t2 = tf.math.log(y_true + epsilon)\n",
    "    t3 = tf.math.log(2.0)/2.0\n",
    "    t4 = tf.math.log(np.pi)/2.0\n",
    "    t5 = tf.math.pow(l_mu-tf.math.log(y_true),2.0) / (2.0 * tf.math.pow(l_sigma,2.0))\n",
    "\n",
    "    loss_ = t1+t2+t3+t4+t5\n",
    "    return loss_"
   ]
  },
  {
   "cell_type": "code",
   "execution_count": 44,
   "metadata": {},
   "outputs": [],
   "source": [
    "def norm_dist_loss(y_true, y_pred):\n",
    "    # Note that y_true is the original\n",
    "    # regression target and y_pred will\n",
    "    # be 2 values: mu and sigma (linear, softplus)\n",
    "    l_sigma = 1.0\n",
    "    # l_mu, l_sigma = tf.unstack(y_pred, axis=-1)\n",
    "    l_mu = y_pred\n",
    "    # l_mu = tf.expand_dims(l_mu,-1)\n",
    "    # l_sigma = tf.expand_dims(l_sigma,-1)\n",
    "\n",
    "    t1 = tf.math.log(l_sigma)\n",
    "    t2 = tf.math.log(2.0)/2.0\n",
    "    t3 = tf.math.log(np.pi)/2.0\n",
    "    t4 = tf.math.pow(l_mu-y_true,2.0) / (2.0 * tf.math.pow(l_sigma,2.0))\n",
    "\n",
    "    loss_ = t1+t2+t3+t4\n",
    "    return loss_"
   ]
  },
  {
   "cell_type": "code",
   "execution_count": 45,
   "metadata": {},
   "outputs": [],
   "source": [
    "def rayleigh_dist_loss(y_true, y_pred):\n",
    "    l_y, l_sigma = tf.unstack(y_pred, axis=-1)\n",
    "\n",
    "    t1 = 2*tf.math.log(l_sigma)\n",
    "    t2 = -tf.math.log(l_y)\n",
    "    t3 = l_y**2/(2*l_sigma**2)\n",
    "\n",
    "    loss_ = t1+t2+t3\n",
    "    return loss_"
   ]
  },
  {
   "cell_type": "markdown",
   "metadata": {},
   "source": [
    "## Model Architecture"
   ]
  },
  {
   "cell_type": "code",
   "execution_count": 51,
   "metadata": {},
   "outputs": [
    {
     "name": "stderr",
     "output_type": "stream",
     "text": [
      "Failed to detect the name of this notebook, you can set it manually with the WANDB_NOTEBOOK_NAME environment variable to enable code saving.\n",
      "\u001b[34m\u001b[1mwandb\u001b[0m: Currently logged in as: \u001b[33msirdavidludwig\u001b[0m. Use \u001b[1m`wandb login --relogin`\u001b[0m to force relogin\n"
     ]
    },
    {
     "data": {
      "text/html": [
       "wandb version 0.15.4 is available!  To upgrade, please run:\n",
       " $ pip install wandb --upgrade"
      ],
      "text/plain": [
       "<IPython.core.display.HTML object>"
      ]
     },
     "metadata": {},
     "output_type": "display_data"
    },
    {
     "data": {
      "text/html": [
       "Tracking run with wandb version 0.15.3"
      ],
      "text/plain": [
       "<IPython.core.display.HTML object>"
      ]
     },
     "metadata": {},
     "output_type": "display_data"
    },
    {
     "data": {
      "text/html": [
       "Run data is saved locally in <code>/home/dwl2x/work/deep-dna/notebooks/wandb/run-20230625_055605-kp8wmvdp</code>"
      ],
      "text/plain": [
       "<IPython.core.display.HTML object>"
      ]
     },
     "metadata": {},
     "output_type": "display_data"
    },
    {
     "data": {
      "text/html": [
       "Syncing run <strong><a href='https://wandb.ai/sirdavidludwig/setbert-pathogen-load/runs/kp8wmvdp' target=\"_blank\">binary-classification</a></strong> to <a href='https://wandb.ai/sirdavidludwig/setbert-pathogen-load' target=\"_blank\">Weights & Biases</a> (<a href='https://wandb.me/run' target=\"_blank\">docs</a>)<br/>"
      ],
      "text/plain": [
       "<IPython.core.display.HTML object>"
      ]
     },
     "metadata": {},
     "output_type": "display_data"
    },
    {
     "data": {
      "text/html": [
       " View project at <a href='https://wandb.ai/sirdavidludwig/setbert-pathogen-load' target=\"_blank\">https://wandb.ai/sirdavidludwig/setbert-pathogen-load</a>"
      ],
      "text/plain": [
       "<IPython.core.display.HTML object>"
      ]
     },
     "metadata": {},
     "output_type": "display_data"
    },
    {
     "data": {
      "text/html": [
       " View run at <a href='https://wandb.ai/sirdavidludwig/setbert-pathogen-load/runs/kp8wmvdp' target=\"_blank\">https://wandb.ai/sirdavidludwig/setbert-pathogen-load/runs/kp8wmvdp</a>"
      ],
      "text/plain": [
       "<IPython.core.display.HTML object>"
      ]
     },
     "metadata": {},
     "output_type": "display_data"
    }
   ],
   "source": [
    "# api = wandb.Api()\n",
    "run = wandb.init(project=\"setbert-pathogen-load\", name=\"binary-classification\")"
   ]
  },
  {
   "cell_type": "code",
   "execution_count": 52,
   "metadata": {},
   "outputs": [
    {
     "name": "stderr",
     "output_type": "stream",
     "text": [
      "\u001b[34m\u001b[1mwandb\u001b[0m: Downloading large artifact setbert-pretrain-walker-abund-128d-250l:v0, 91.05MB. 4 files... \n",
      "\u001b[34m\u001b[1mwandb\u001b[0m:   4 of 4 files downloaded.  \n",
      "Done. 0:0:0.1\n"
     ]
    }
   ],
   "source": [
    "# path = api.artifact(\"sirdavidludwig/setbert-pretrain/setbert-pretrain-walker-abund-128d-250l:v0\").download()\n",
    "path = run.use_artifact(\"sirdavidludwig/setbert-pretrain/setbert-pretrain-walker-abund-128d-250l:v0\").download()\n",
    "setbert_encoder = setbert.SetBertEncoderModel(\n",
    "    load_model(path, setbert.SetBertPretrainModel).base,\n",
    "    auto_build=False\n",
    ")\n",
    "setbert_encoder.base.dnabert_encoder.chunk_size = 256"
   ]
  },
  {
   "cell_type": "code",
   "execution_count": 58,
   "metadata": {},
   "outputs": [
    {
     "name": "stdout",
     "output_type": "stream",
     "text": [
      "Model: \"model_13\"\n",
      "_________________________________________________________________\n",
      " Layer (type)                Output Shape              Param #   \n",
      "=================================================================\n",
      " input_14 (InputLayer)       [(None, 1000, 248)]       0         \n",
      "                                                                 \n",
      " set_bert_encoder_model_1 (S  ((None, 128),            9240192   \n",
      " etBertEncoderModel)          [(None, 8, 1001, 1001),            \n",
      "                              (None, 8, 1001, 1001),             \n",
      "                              (None, 8, 1001, 1001),             \n",
      "                              (None, 8, 1001, 1001),             \n",
      "                              (None, 8, 1001, 1001),             \n",
      "                              (None, 8, 1001, 1001),             \n",
      "                              (None, 8, 1001, 1001),             \n",
      "                              (None, 8, 1001, 1001)])            \n",
      "                                                                 \n",
      " y (Dense)                   (None, 1)                 129       \n",
      "                                                                 \n",
      "=================================================================\n",
      "Total params: 9,240,321\n",
      "Trainable params: 4,488,705\n",
      "Non-trainable params: 4,751,616\n",
      "_________________________________________________________________\n"
     ]
    }
   ],
   "source": [
    "y = x = tf.keras.layers.Input((1000, 248))\n",
    "y = setbert_encoder(y)\n",
    "y = tf.keras.layers.Dense(1, activation=\"sigmoid\", name=\"y\")(y)\n",
    "# sigma = tf.keras.layers.Dense(1, activation=\"softplus\", name=\"sigma\")(y)\n",
    "# y = tf.keras.layers.Concatenate(-1)((mu, sigma))\n",
    "model = tf.keras.Model(x, y)\n",
    "model.compile(\n",
    "    loss=tf.keras.losses.BinaryCrossentropy(from_logits=False),\n",
    "    metrics=[\n",
    "        tf.keras.metrics.BinaryAccuracy(),\n",
    "        tf.keras.metrics.Precision(name=\"precision_ppv\"),\n",
    "        tf.keras.metrics.Recall(),\n",
    "        f1_score,\n",
    "        negative_predictive_value\n",
    "    ],\n",
    "    optimizer=tf.keras.optimizers.Adam(1e-4)\n",
    ")\n",
    "model.summary()"
   ]
  },
  {
   "cell_type": "code",
   "execution_count": 59,
   "metadata": {},
   "outputs": [],
   "source": [
    "wandb_callback = wandb.keras.WandbCallback(save_model=False)\n",
    "wandb_callback.save_model_as_artifact = False\n",
    "\n",
    "checkpoint = tf.keras.callbacks.ModelCheckpoint(\"models/setbert_alex_bce\", monitor=\"f1_score\", save_best=True)"
   ]
  },
  {
   "cell_type": "code",
   "execution_count": 62,
   "metadata": {
    "collapsed": true,
    "jupyter": {
     "outputs_hidden": true
    },
    "tags": []
   },
   "outputs": [
    {
     "name": "stdout",
     "output_type": "stream",
     "text": [
      "Epoch 21/30\n",
      "20/20 [==============================] - ETA: 0s - loss: 0.5053 - binary_accuracy: 0.7406 - precision_ppv: 0.7195 - recall_3: 0.7613 - f1_score: 0.7092 - negative_predictive_value: 0.7916 "
     ]
    },
    {
     "name": "stderr",
     "output_type": "stream",
     "text": [
      "WARNING:absl:Found untraced functions such as multi_head_attention_8_layer_call_fn, multi_head_attention_8_layer_call_and_return_conditional_losses, layer_normalization_layer_call_fn, layer_normalization_layer_call_and_return_conditional_losses, layer_normalization_1_layer_call_fn while saving (showing 5 of 324). These functions will not be directly callable after loading.\n"
     ]
    },
    {
     "name": "stdout",
     "output_type": "stream",
     "text": [
      "INFO:tensorflow:Assets written to: models/setbert_alex_bce/assets\n"
     ]
    },
    {
     "name": "stderr",
     "output_type": "stream",
     "text": [
      "INFO:tensorflow:Assets written to: models/setbert_alex_bce/assets\n"
     ]
    },
    {
     "name": "stdout",
     "output_type": "stream",
     "text": [
      "20/20 [==============================] - 553s 28s/step - loss: 0.5053 - binary_accuracy: 0.7406 - precision_ppv: 0.7195 - recall_3: 0.7613 - f1_score: 0.7092 - negative_predictive_value: 0.7916 - val_loss: 0.5654 - val_binary_accuracy: 0.7578 - val_precision_ppv: 0.7516 - val_recall_3: 0.8462 - val_f1_score: 0.7881 - val_negative_predictive_value: 0.7667\n"
     ]
    },
    {
     "name": "stderr",
     "output_type": "stream",
     "text": [
      "/opt/conda/lib/python3.10/site-packages/keras/engine/functional.py:1384: CustomMaskWarning: Custom mask layers require a config and must override get_config. When loading, the custom mask layer must be passed to the custom_objects argument.\n",
      "  layer_config = serialize_layer_fn(layer)\n",
      "/opt/conda/lib/python3.10/site-packages/keras/saving/saved_model/layer_serialization.py:112: CustomMaskWarning: Custom mask layers require a config and must override get_config. When loading, the custom mask layer must be passed to the custom_objects argument.\n",
      "  return generic_utils.serialize_keras_object(obj)\n"
     ]
    },
    {
     "name": "stdout",
     "output_type": "stream",
     "text": [
      "Epoch 22/30\n",
      "20/20 [==============================] - ETA: 0s - loss: 0.4558 - binary_accuracy: 0.7719 - precision_ppv: 0.7630 - recall_3: 0.7153 - f1_score: 0.7121 - negative_predictive_value: 0.8033 "
     ]
    },
    {
     "name": "stderr",
     "output_type": "stream",
     "text": [
      "WARNING:absl:Found untraced functions such as multi_head_attention_8_layer_call_fn, multi_head_attention_8_layer_call_and_return_conditional_losses, layer_normalization_layer_call_fn, layer_normalization_layer_call_and_return_conditional_losses, layer_normalization_1_layer_call_fn while saving (showing 5 of 324). These functions will not be directly callable after loading.\n"
     ]
    },
    {
     "name": "stdout",
     "output_type": "stream",
     "text": [
      "INFO:tensorflow:Assets written to: models/setbert_alex_bce/assets\n"
     ]
    },
    {
     "name": "stderr",
     "output_type": "stream",
     "text": [
      "INFO:tensorflow:Assets written to: models/setbert_alex_bce/assets\n"
     ]
    },
    {
     "name": "stdout",
     "output_type": "stream",
     "text": [
      "20/20 [==============================] - 555s 28s/step - loss: 0.4558 - binary_accuracy: 0.7719 - precision_ppv: 0.7630 - recall_3: 0.7153 - f1_score: 0.7121 - negative_predictive_value: 0.8033 - val_loss: 0.5746 - val_binary_accuracy: 0.7773 - val_precision_ppv: 0.7945 - val_recall_3: 0.8112 - val_f1_score: 0.7940 - val_negative_predictive_value: 0.7480\n"
     ]
    },
    {
     "name": "stderr",
     "output_type": "stream",
     "text": [
      "/opt/conda/lib/python3.10/site-packages/keras/engine/functional.py:1384: CustomMaskWarning: Custom mask layers require a config and must override get_config. When loading, the custom mask layer must be passed to the custom_objects argument.\n",
      "  layer_config = serialize_layer_fn(layer)\n",
      "/opt/conda/lib/python3.10/site-packages/keras/saving/saved_model/layer_serialization.py:112: CustomMaskWarning: Custom mask layers require a config and must override get_config. When loading, the custom mask layer must be passed to the custom_objects argument.\n",
      "  return generic_utils.serialize_keras_object(obj)\n"
     ]
    },
    {
     "name": "stdout",
     "output_type": "stream",
     "text": [
      "Epoch 23/30\n",
      "20/20 [==============================] - ETA: 0s - loss: 0.5448 - binary_accuracy: 0.7375 - precision_ppv: 0.7595 - recall_3: 0.7229 - f1_score: 0.7281 - negative_predictive_value: 0.7110 "
     ]
    },
    {
     "name": "stderr",
     "output_type": "stream",
     "text": [
      "WARNING:absl:Found untraced functions such as multi_head_attention_8_layer_call_fn, multi_head_attention_8_layer_call_and_return_conditional_losses, layer_normalization_layer_call_fn, layer_normalization_layer_call_and_return_conditional_losses, layer_normalization_1_layer_call_fn while saving (showing 5 of 324). These functions will not be directly callable after loading.\n"
     ]
    },
    {
     "name": "stdout",
     "output_type": "stream",
     "text": [
      "INFO:tensorflow:Assets written to: models/setbert_alex_bce/assets\n"
     ]
    },
    {
     "name": "stderr",
     "output_type": "stream",
     "text": [
      "INFO:tensorflow:Assets written to: models/setbert_alex_bce/assets\n"
     ]
    },
    {
     "name": "stdout",
     "output_type": "stream",
     "text": [
      "20/20 [==============================] - 555s 28s/step - loss: 0.5448 - binary_accuracy: 0.7375 - precision_ppv: 0.7595 - recall_3: 0.7229 - f1_score: 0.7281 - negative_predictive_value: 0.7110 - val_loss: 0.6179 - val_binary_accuracy: 0.7422 - val_precision_ppv: 0.8080 - val_recall_3: 0.7063 - val_f1_score: 0.7501 - val_negative_predictive_value: 0.6717\n",
      "Epoch 24/30\n"
     ]
    },
    {
     "name": "stderr",
     "output_type": "stream",
     "text": [
      "/opt/conda/lib/python3.10/site-packages/keras/engine/functional.py:1384: CustomMaskWarning: Custom mask layers require a config and must override get_config. When loading, the custom mask layer must be passed to the custom_objects argument.\n",
      "  layer_config = serialize_layer_fn(layer)\n",
      "/opt/conda/lib/python3.10/site-packages/keras/saving/saved_model/layer_serialization.py:112: CustomMaskWarning: Custom mask layers require a config and must override get_config. When loading, the custom mask layer must be passed to the custom_objects argument.\n",
      "  return generic_utils.serialize_keras_object(obj)\n"
     ]
    },
    {
     "name": "stdout",
     "output_type": "stream",
     "text": [
      "20/20 [==============================] - ETA: 0s - loss: 0.4491 - binary_accuracy: 0.7781 - precision_ppv: 0.7692 - recall_3: 0.6716 - f1_score: 0.7121 - negative_predictive_value: 0.7822 "
     ]
    },
    {
     "name": "stderr",
     "output_type": "stream",
     "text": [
      "WARNING:absl:Found untraced functions such as multi_head_attention_8_layer_call_fn, multi_head_attention_8_layer_call_and_return_conditional_losses, layer_normalization_layer_call_fn, layer_normalization_layer_call_and_return_conditional_losses, layer_normalization_1_layer_call_fn while saving (showing 5 of 324). These functions will not be directly callable after loading.\n"
     ]
    },
    {
     "name": "stdout",
     "output_type": "stream",
     "text": [
      "INFO:tensorflow:Assets written to: models/setbert_alex_bce/assets\n"
     ]
    },
    {
     "name": "stderr",
     "output_type": "stream",
     "text": [
      "INFO:tensorflow:Assets written to: models/setbert_alex_bce/assets\n"
     ]
    },
    {
     "name": "stdout",
     "output_type": "stream",
     "text": [
      "20/20 [==============================] - 554s 28s/step - loss: 0.4491 - binary_accuracy: 0.7781 - precision_ppv: 0.7692 - recall_3: 0.6716 - f1_score: 0.7121 - negative_predictive_value: 0.7822 - val_loss: 0.6003 - val_binary_accuracy: 0.7461 - val_precision_ppv: 0.8000 - val_recall_3: 0.7273 - val_f1_score: 0.7524 - val_negative_predictive_value: 0.6899\n"
     ]
    },
    {
     "name": "stderr",
     "output_type": "stream",
     "text": [
      "/opt/conda/lib/python3.10/site-packages/keras/engine/functional.py:1384: CustomMaskWarning: Custom mask layers require a config and must override get_config. When loading, the custom mask layer must be passed to the custom_objects argument.\n",
      "  layer_config = serialize_layer_fn(layer)\n",
      "/opt/conda/lib/python3.10/site-packages/keras/saving/saved_model/layer_serialization.py:112: CustomMaskWarning: Custom mask layers require a config and must override get_config. When loading, the custom mask layer must be passed to the custom_objects argument.\n",
      "  return generic_utils.serialize_keras_object(obj)\n"
     ]
    },
    {
     "name": "stdout",
     "output_type": "stream",
     "text": [
      "Epoch 25/30\n",
      "20/20 [==============================] - ETA: 0s - loss: 0.5201 - binary_accuracy: 0.7406 - precision_ppv: 0.7312 - recall_3: 0.7452 - f1_score: 0.6816 - negative_predictive_value: 0.7826 "
     ]
    },
    {
     "name": "stderr",
     "output_type": "stream",
     "text": [
      "WARNING:absl:Found untraced functions such as multi_head_attention_8_layer_call_fn, multi_head_attention_8_layer_call_and_return_conditional_losses, layer_normalization_layer_call_fn, layer_normalization_layer_call_and_return_conditional_losses, layer_normalization_1_layer_call_fn while saving (showing 5 of 324). These functions will not be directly callable after loading.\n"
     ]
    },
    {
     "name": "stdout",
     "output_type": "stream",
     "text": [
      "INFO:tensorflow:Assets written to: models/setbert_alex_bce/assets\n"
     ]
    },
    {
     "name": "stderr",
     "output_type": "stream",
     "text": [
      "INFO:tensorflow:Assets written to: models/setbert_alex_bce/assets\n"
     ]
    },
    {
     "name": "stdout",
     "output_type": "stream",
     "text": [
      "20/20 [==============================] - 555s 28s/step - loss: 0.5201 - binary_accuracy: 0.7406 - precision_ppv: 0.7312 - recall_3: 0.7452 - f1_score: 0.6816 - negative_predictive_value: 0.7826 - val_loss: 0.7243 - val_binary_accuracy: 0.7578 - val_precision_ppv: 0.8092 - val_recall_3: 0.7413 - val_f1_score: 0.7705 - val_negative_predictive_value: 0.6966\n",
      "Epoch 26/30\n"
     ]
    },
    {
     "name": "stderr",
     "output_type": "stream",
     "text": [
      "/opt/conda/lib/python3.10/site-packages/keras/engine/functional.py:1384: CustomMaskWarning: Custom mask layers require a config and must override get_config. When loading, the custom mask layer must be passed to the custom_objects argument.\n",
      "  layer_config = serialize_layer_fn(layer)\n",
      "/opt/conda/lib/python3.10/site-packages/keras/saving/saved_model/layer_serialization.py:112: CustomMaskWarning: Custom mask layers require a config and must override get_config. When loading, the custom mask layer must be passed to the custom_objects argument.\n",
      "  return generic_utils.serialize_keras_object(obj)\n"
     ]
    },
    {
     "name": "stdout",
     "output_type": "stream",
     "text": [
      "20/20 [==============================] - ETA: 0s - loss: 0.5074 - binary_accuracy: 0.7469 - precision_ppv: 0.7660 - recall_3: 0.6923 - f1_score: 0.7013 - negative_predictive_value: 0.7336 "
     ]
    },
    {
     "name": "stderr",
     "output_type": "stream",
     "text": [
      "WARNING:absl:Found untraced functions such as multi_head_attention_8_layer_call_fn, multi_head_attention_8_layer_call_and_return_conditional_losses, layer_normalization_layer_call_fn, layer_normalization_layer_call_and_return_conditional_losses, layer_normalization_1_layer_call_fn while saving (showing 5 of 324). These functions will not be directly callable after loading.\n"
     ]
    },
    {
     "name": "stdout",
     "output_type": "stream",
     "text": [
      "INFO:tensorflow:Assets written to: models/setbert_alex_bce/assets\n"
     ]
    },
    {
     "name": "stderr",
     "output_type": "stream",
     "text": [
      "INFO:tensorflow:Assets written to: models/setbert_alex_bce/assets\n"
     ]
    },
    {
     "name": "stdout",
     "output_type": "stream",
     "text": [
      "20/20 [==============================] - 555s 28s/step - loss: 0.5074 - binary_accuracy: 0.7469 - precision_ppv: 0.7660 - recall_3: 0.6923 - f1_score: 0.7013 - negative_predictive_value: 0.7336 - val_loss: 0.6212 - val_binary_accuracy: 0.7578 - val_precision_ppv: 0.7956 - val_recall_3: 0.7622 - val_f1_score: 0.7704 - val_negative_predictive_value: 0.7153\n"
     ]
    },
    {
     "name": "stderr",
     "output_type": "stream",
     "text": [
      "/opt/conda/lib/python3.10/site-packages/keras/engine/functional.py:1384: CustomMaskWarning: Custom mask layers require a config and must override get_config. When loading, the custom mask layer must be passed to the custom_objects argument.\n",
      "  layer_config = serialize_layer_fn(layer)\n",
      "/opt/conda/lib/python3.10/site-packages/keras/saving/saved_model/layer_serialization.py:112: CustomMaskWarning: Custom mask layers require a config and must override get_config. When loading, the custom mask layer must be passed to the custom_objects argument.\n",
      "  return generic_utils.serialize_keras_object(obj)\n"
     ]
    },
    {
     "name": "stdout",
     "output_type": "stream",
     "text": [
      "Epoch 27/30\n",
      "20/20 [==============================] - ETA: 0s - loss: 0.4815 - binary_accuracy: 0.7469 - precision_ppv: 0.7308 - recall_3: 0.7451 - f1_score: 0.7258 - negative_predictive_value: 0.7648 "
     ]
    },
    {
     "name": "stderr",
     "output_type": "stream",
     "text": [
      "WARNING:absl:Found untraced functions such as multi_head_attention_8_layer_call_fn, multi_head_attention_8_layer_call_and_return_conditional_losses, layer_normalization_layer_call_fn, layer_normalization_layer_call_and_return_conditional_losses, layer_normalization_1_layer_call_fn while saving (showing 5 of 324). These functions will not be directly callable after loading.\n"
     ]
    },
    {
     "name": "stdout",
     "output_type": "stream",
     "text": [
      "INFO:tensorflow:Assets written to: models/setbert_alex_bce/assets\n"
     ]
    },
    {
     "name": "stderr",
     "output_type": "stream",
     "text": [
      "INFO:tensorflow:Assets written to: models/setbert_alex_bce/assets\n"
     ]
    },
    {
     "name": "stdout",
     "output_type": "stream",
     "text": [
      "20/20 [==============================] - 555s 28s/step - loss: 0.4815 - binary_accuracy: 0.7469 - precision_ppv: 0.7308 - recall_3: 0.7451 - f1_score: 0.7258 - negative_predictive_value: 0.7648 - val_loss: 0.6490 - val_binary_accuracy: 0.7812 - val_precision_ppv: 0.8372 - val_recall_3: 0.7552 - val_f1_score: 0.7853 - val_negative_predictive_value: 0.7234\n"
     ]
    },
    {
     "name": "stderr",
     "output_type": "stream",
     "text": [
      "/opt/conda/lib/python3.10/site-packages/keras/engine/functional.py:1384: CustomMaskWarning: Custom mask layers require a config and must override get_config. When loading, the custom mask layer must be passed to the custom_objects argument.\n",
      "  layer_config = serialize_layer_fn(layer)\n",
      "/opt/conda/lib/python3.10/site-packages/keras/saving/saved_model/layer_serialization.py:112: CustomMaskWarning: Custom mask layers require a config and must override get_config. When loading, the custom mask layer must be passed to the custom_objects argument.\n",
      "  return generic_utils.serialize_keras_object(obj)\n"
     ]
    },
    {
     "name": "stdout",
     "output_type": "stream",
     "text": [
      "Epoch 28/30\n",
      "20/20 [==============================] - ETA: 0s - loss: 0.5037 - binary_accuracy: 0.7344 - precision_ppv: 0.7293 - recall_3: 0.6644 - f1_score: 0.6657 - negative_predictive_value: 0.7643 "
     ]
    },
    {
     "name": "stderr",
     "output_type": "stream",
     "text": [
      "WARNING:absl:Found untraced functions such as multi_head_attention_8_layer_call_fn, multi_head_attention_8_layer_call_and_return_conditional_losses, layer_normalization_layer_call_fn, layer_normalization_layer_call_and_return_conditional_losses, layer_normalization_1_layer_call_fn while saving (showing 5 of 324). These functions will not be directly callable after loading.\n"
     ]
    },
    {
     "name": "stdout",
     "output_type": "stream",
     "text": [
      "INFO:tensorflow:Assets written to: models/setbert_alex_bce/assets\n"
     ]
    },
    {
     "name": "stderr",
     "output_type": "stream",
     "text": [
      "INFO:tensorflow:Assets written to: models/setbert_alex_bce/assets\n"
     ]
    },
    {
     "name": "stdout",
     "output_type": "stream",
     "text": [
      "20/20 [==============================] - 554s 28s/step - loss: 0.5037 - binary_accuracy: 0.7344 - precision_ppv: 0.7293 - recall_3: 0.6644 - f1_score: 0.6657 - negative_predictive_value: 0.7643 - val_loss: 0.5839 - val_binary_accuracy: 0.7656 - val_precision_ppv: 0.7785 - val_recall_3: 0.8112 - val_f1_score: 0.7866 - val_negative_predictive_value: 0.7398\n"
     ]
    },
    {
     "name": "stderr",
     "output_type": "stream",
     "text": [
      "/opt/conda/lib/python3.10/site-packages/keras/engine/functional.py:1384: CustomMaskWarning: Custom mask layers require a config and must override get_config. When loading, the custom mask layer must be passed to the custom_objects argument.\n",
      "  layer_config = serialize_layer_fn(layer)\n",
      "/opt/conda/lib/python3.10/site-packages/keras/saving/saved_model/layer_serialization.py:112: CustomMaskWarning: Custom mask layers require a config and must override get_config. When loading, the custom mask layer must be passed to the custom_objects argument.\n",
      "  return generic_utils.serialize_keras_object(obj)\n"
     ]
    },
    {
     "name": "stdout",
     "output_type": "stream",
     "text": [
      "Epoch 29/30\n",
      "20/20 [==============================] - ETA: 0s - loss: 0.4981 - binary_accuracy: 0.7594 - precision_ppv: 0.7444 - recall_3: 0.6972 - f1_score: 0.7069 - negative_predictive_value: 0.7745 "
     ]
    },
    {
     "name": "stderr",
     "output_type": "stream",
     "text": [
      "WARNING:absl:Found untraced functions such as multi_head_attention_8_layer_call_fn, multi_head_attention_8_layer_call_and_return_conditional_losses, layer_normalization_layer_call_fn, layer_normalization_layer_call_and_return_conditional_losses, layer_normalization_1_layer_call_fn while saving (showing 5 of 324). These functions will not be directly callable after loading.\n"
     ]
    },
    {
     "name": "stdout",
     "output_type": "stream",
     "text": [
      "INFO:tensorflow:Assets written to: models/setbert_alex_bce/assets\n"
     ]
    },
    {
     "name": "stderr",
     "output_type": "stream",
     "text": [
      "INFO:tensorflow:Assets written to: models/setbert_alex_bce/assets\n"
     ]
    },
    {
     "name": "stdout",
     "output_type": "stream",
     "text": [
      "20/20 [==============================] - 554s 28s/step - loss: 0.4981 - binary_accuracy: 0.7594 - precision_ppv: 0.7444 - recall_3: 0.6972 - f1_score: 0.7069 - negative_predictive_value: 0.7745 - val_loss: 0.6249 - val_binary_accuracy: 0.7773 - val_precision_ppv: 0.7622 - val_recall_3: 0.8741 - val_f1_score: 0.8044 - val_negative_predictive_value: 0.8200\n",
      "Epoch 30/30\n"
     ]
    },
    {
     "name": "stderr",
     "output_type": "stream",
     "text": [
      "/opt/conda/lib/python3.10/site-packages/keras/engine/functional.py:1384: CustomMaskWarning: Custom mask layers require a config and must override get_config. When loading, the custom mask layer must be passed to the custom_objects argument.\n",
      "  layer_config = serialize_layer_fn(layer)\n",
      "/opt/conda/lib/python3.10/site-packages/keras/saving/saved_model/layer_serialization.py:112: CustomMaskWarning: Custom mask layers require a config and must override get_config. When loading, the custom mask layer must be passed to the custom_objects argument.\n",
      "  return generic_utils.serialize_keras_object(obj)\n"
     ]
    },
    {
     "name": "stdout",
     "output_type": "stream",
     "text": [
      "20/20 [==============================] - ETA: 0s - loss: 0.4509 - binary_accuracy: 0.8094 - precision_ppv: 0.8079 - recall_3: 0.8412 - f1_score: 0.8081 - negative_predictive_value: 0.8296 "
     ]
    },
    {
     "name": "stderr",
     "output_type": "stream",
     "text": [
      "WARNING:absl:Found untraced functions such as multi_head_attention_8_layer_call_fn, multi_head_attention_8_layer_call_and_return_conditional_losses, layer_normalization_layer_call_fn, layer_normalization_layer_call_and_return_conditional_losses, layer_normalization_1_layer_call_fn while saving (showing 5 of 324). These functions will not be directly callable after loading.\n"
     ]
    },
    {
     "name": "stdout",
     "output_type": "stream",
     "text": [
      "INFO:tensorflow:Assets written to: models/setbert_alex_bce/assets\n"
     ]
    },
    {
     "name": "stderr",
     "output_type": "stream",
     "text": [
      "INFO:tensorflow:Assets written to: models/setbert_alex_bce/assets\n"
     ]
    },
    {
     "name": "stdout",
     "output_type": "stream",
     "text": [
      "20/20 [==============================] - 555s 28s/step - loss: 0.4509 - binary_accuracy: 0.8094 - precision_ppv: 0.8079 - recall_3: 0.8412 - f1_score: 0.8081 - negative_predictive_value: 0.8296 - val_loss: 0.6211 - val_binary_accuracy: 0.7578 - val_precision_ppv: 0.7580 - val_recall_3: 0.8322 - val_f1_score: 0.7824 - val_negative_predictive_value: 0.7565\n"
     ]
    },
    {
     "name": "stderr",
     "output_type": "stream",
     "text": [
      "/opt/conda/lib/python3.10/site-packages/keras/engine/functional.py:1384: CustomMaskWarning: Custom mask layers require a config and must override get_config. When loading, the custom mask layer must be passed to the custom_objects argument.\n",
      "  layer_config = serialize_layer_fn(layer)\n",
      "/opt/conda/lib/python3.10/site-packages/keras/saving/saved_model/layer_serialization.py:112: CustomMaskWarning: Custom mask layers require a config and must override get_config. When loading, the custom mask layer must be passed to the custom_objects argument.\n",
      "  return generic_utils.serialize_keras_object(obj)\n"
     ]
    }
   ],
   "source": [
    "history = model.fit(\n",
    "    train_dataset,\n",
    "    validation_data=val_dataset,\n",
    "    epochs=30,\n",
    "    initial_epoch=20,\n",
    "    callbacks=[wandb_callback, checkpoint]\n",
    ")"
   ]
  },
  {
   "cell_type": "code",
   "execution_count": 63,
   "metadata": {
    "collapsed": true,
    "jupyter": {
     "outputs_hidden": true
    },
    "tags": []
   },
   "outputs": [
    {
     "data": {
      "text/html": [
       "Waiting for W&B process to finish... <strong style=\"color:green\">(success).</strong>"
      ],
      "text/plain": [
       "<IPython.core.display.HTML object>"
      ]
     },
     "metadata": {},
     "output_type": "display_data"
    },
    {
     "data": {
      "text/html": [
       "<style>\n",
       "    table.wandb td:nth-child(1) { padding: 0 10px; text-align: left ; width: auto;} td:nth-child(2) {text-align: left ; width: 100%}\n",
       "    .wandb-row { display: flex; flex-direction: row; flex-wrap: wrap; justify-content: flex-start; width: 100% }\n",
       "    .wandb-col { display: flex; flex-direction: column; flex-basis: 100%; flex: 1; padding: 10px; }\n",
       "    </style>\n",
       "<div class=\"wandb-row\"><div class=\"wandb-col\"><h3>Run history:</h3><br/><table class=\"wandb\"><tr><td>binary_accuracy</td><td>▁▃▃▅▆▅▆▆▅▆▆▆▄▅▅▆▆▆▇▇▆▇▆▇▆▇▇▆▇█</td></tr><tr><td>epoch</td><td>▁▁▁▂▂▂▂▃▃▃▃▄▄▄▄▅▅▅▅▆▆▆▆▇▇▇▇███</td></tr><tr><td>f1_score</td><td>▁▄▄▆▆▅▆▇▅▆▇▇▅▆▅▆▆▇▆▇▆▆▇▆▆▆▇▆▆█</td></tr><tr><td>loss</td><td>█▃▃▂▂▂▂▂▂▂▂▂▂▂▂▂▂▂▁▁▁▁▂▁▁▁▁▁▁▁</td></tr><tr><td>negative_predictive_value</td><td>▁▅▄▄▆▅▇▆▅▆▆▅▅▄▅▇▆▆█▇▇▇▆▇▇▆▇▇▇█</td></tr><tr><td>precision_ppv</td><td>▁▂▃▄▅▅▅▆▄▅▆▆▄▅▅▅▅▇▆▇▆▇▇▇▆▇▆▆▆█</td></tr><tr><td>recall_3</td><td>▁▄▅▇▆▄▆▆▅▆▆▇▅▅▄▆▆▆▆▇▇▆▆▅▆▅▆▅▆█</td></tr><tr><td>val_binary_accuracy</td><td>▁▄▁▃▄▅▄▄▅▅▆▆▅▇▄▆▅▅▆▅▇█▆▆▇▇█▇█▇</td></tr><tr><td>val_f1_score</td><td>▃▅▁▄▅▆▆▅▆▆▇▆▆▇▇▇▆▇▇▇▇█▆▆▆▆▇▇█▇</td></tr><tr><td>val_loss</td><td>█▆▄▃▃▃▂▃▂▂▂▂▂▁▃▂▁▁▃▃▂▂▃▂▅▃▃▂▃▃</td></tr><tr><td>val_negative_predictive_value</td><td>▂▃▁▃▃▅▅▃▅▅▆▆▆▆▇▆▅▇▆▆▆▆▃▄▄▅▅▅█▆</td></tr><tr><td>val_precision_ppv</td><td>▁▄▆▄▅▄▂▅▃▃▄▄▃▄▁▄▄▂▃▃▄▆▇▆▇▆█▅▄▄</td></tr><tr><td>val_recall_3</td><td>▄▄▁▄▄▅▇▄▆▆▆▆▆▆█▆▅▇▇▇▇▆▄▄▅▅▅▆▇▆</td></tr></table><br/></div><div class=\"wandb-col\"><h3>Run summary:</h3><br/><table class=\"wandb\"><tr><td>best_epoch</td><td>16</td></tr><tr><td>best_val_loss</td><td>0.53184</td></tr><tr><td>binary_accuracy</td><td>0.80937</td></tr><tr><td>epoch</td><td>29</td></tr><tr><td>f1_score</td><td>0.80811</td></tr><tr><td>loss</td><td>0.45094</td></tr><tr><td>negative_predictive_value</td><td>0.82958</td></tr><tr><td>precision_ppv</td><td>0.80791</td></tr><tr><td>recall_3</td><td>0.84118</td></tr><tr><td>val_binary_accuracy</td><td>0.75781</td></tr><tr><td>val_f1_score</td><td>0.78243</td></tr><tr><td>val_loss</td><td>0.62112</td></tr><tr><td>val_negative_predictive_value</td><td>0.75655</td></tr><tr><td>val_precision_ppv</td><td>0.75796</td></tr><tr><td>val_recall_3</td><td>0.83217</td></tr></table><br/></div></div>"
      ],
      "text/plain": [
       "<IPython.core.display.HTML object>"
      ]
     },
     "metadata": {},
     "output_type": "display_data"
    },
    {
     "data": {
      "text/html": [
       " View run <strong style=\"color:#cdcd00\">binary-classification</strong> at: <a href='https://wandb.ai/sirdavidludwig/setbert-pathogen-load/runs/kp8wmvdp' target=\"_blank\">https://wandb.ai/sirdavidludwig/setbert-pathogen-load/runs/kp8wmvdp</a><br/>Synced 6 W&B file(s), 1 media file(s), 0 artifact file(s) and 0 other file(s)"
      ],
      "text/plain": [
       "<IPython.core.display.HTML object>"
      ]
     },
     "metadata": {},
     "output_type": "display_data"
    },
    {
     "data": {
      "text/html": [
       "Find logs at: <code>./wandb/run-20230625_055605-kp8wmvdp/logs</code>"
      ],
      "text/plain": [
       "<IPython.core.display.HTML object>"
      ]
     },
     "metadata": {},
     "output_type": "display_data"
    }
   ],
   "source": [
    "wandb.finish()"
   ]
  },
  {
   "cell_type": "code",
   "execution_count": 64,
   "metadata": {},
   "outputs": [
    {
     "name": "stderr",
     "output_type": "stream",
     "text": [
      "WARNING:absl:Found untraced functions such as multi_head_attention_8_layer_call_fn, multi_head_attention_8_layer_call_and_return_conditional_losses, layer_normalization_layer_call_fn, layer_normalization_layer_call_and_return_conditional_losses, layer_normalization_1_layer_call_fn while saving (showing 5 of 324). These functions will not be directly callable after loading.\n"
     ]
    },
    {
     "name": "stdout",
     "output_type": "stream",
     "text": [
      "INFO:tensorflow:Assets written to: ./models/alex_bce_classifier/assets\n"
     ]
    },
    {
     "name": "stderr",
     "output_type": "stream",
     "text": [
      "INFO:tensorflow:Assets written to: ./models/alex_bce_classifier/assets\n",
      "/opt/conda/lib/python3.10/site-packages/keras/engine/functional.py:1384: CustomMaskWarning: Custom mask layers require a config and must override get_config. When loading, the custom mask layer must be passed to the custom_objects argument.\n",
      "  layer_config = serialize_layer_fn(layer)\n",
      "/opt/conda/lib/python3.10/site-packages/keras/saving/saved_model/layer_serialization.py:112: CustomMaskWarning: Custom mask layers require a config and must override get_config. When loading, the custom mask layer must be passed to the custom_objects argument.\n",
      "  return generic_utils.serialize_keras_object(obj)\n"
     ]
    }
   ],
   "source": [
    "model.save(\"./models/alex_bce_classifier\")"
   ]
  },
  {
   "cell_type": "code",
   "execution_count": 67,
   "metadata": {},
   "outputs": [
    {
     "name": "stdout",
     "output_type": "stream",
     "text": [
      "WARNING:tensorflow:Compiled the loaded model, but the compiled metrics have yet to be built. `model.compile_metrics` will be empty until you train or evaluate the model.\n"
     ]
    },
    {
     "name": "stderr",
     "output_type": "stream",
     "text": [
      "WARNING:tensorflow:Compiled the loaded model, but the compiled metrics have yet to be built. `model.compile_metrics` will be empty until you train or evaluate the model.\n"
     ]
    },
    {
     "ename": "TypeError",
     "evalue": "in user code:\n\n    File \"/opt/conda/lib/python3.10/site-packages/keras/saving/saving_utils.py\", line 138, in _wrapped_model  *\n        outputs = model(*args, **kwargs)\n\n    TypeError: outer_factory.<locals>.inner_factory.<locals>.tf____call__() missing 1 required positional argument: 'compute_sequence_embeddings'\n",
     "output_type": "error",
     "traceback": [
      "\u001b[0;31m---------------------------------------------------------------------------\u001b[0m",
      "\u001b[0;31mTypeError\u001b[0m                                 Traceback (most recent call last)",
      "Cell \u001b[0;32mIn [67], line 1\u001b[0m\n\u001b[0;32m----> 1\u001b[0m \u001b[43msetbert_encoder\u001b[49m\u001b[38;5;241;43m.\u001b[39;49m\u001b[43msave\u001b[49m\u001b[43m(\u001b[49m\u001b[38;5;124;43m\"\u001b[39;49m\u001b[38;5;124;43m./models/alex_bce_setbert\u001b[39;49m\u001b[38;5;124;43m\"\u001b[39;49m\u001b[43m)\u001b[49m\n",
      "File \u001b[0;32m/opt/conda/lib/python3.10/site-packages/keras/utils/traceback_utils.py:67\u001b[0m, in \u001b[0;36mfilter_traceback.<locals>.error_handler\u001b[0;34m(*args, **kwargs)\u001b[0m\n\u001b[1;32m     65\u001b[0m \u001b[38;5;28;01mexcept\u001b[39;00m \u001b[38;5;167;01mException\u001b[39;00m \u001b[38;5;28;01mas\u001b[39;00m e:  \u001b[38;5;66;03m# pylint: disable=broad-except\u001b[39;00m\n\u001b[1;32m     66\u001b[0m   filtered_tb \u001b[38;5;241m=\u001b[39m _process_traceback_frames(e\u001b[38;5;241m.\u001b[39m__traceback__)\n\u001b[0;32m---> 67\u001b[0m   \u001b[38;5;28;01mraise\u001b[39;00m e\u001b[38;5;241m.\u001b[39mwith_traceback(filtered_tb) \u001b[38;5;28;01mfrom\u001b[39;00m \u001b[38;5;28mNone\u001b[39m\n\u001b[1;32m     68\u001b[0m \u001b[38;5;28;01mfinally\u001b[39;00m:\n\u001b[1;32m     69\u001b[0m   \u001b[38;5;28;01mdel\u001b[39;00m filtered_tb\n",
      "File \u001b[0;32m/tmp/__autograph_generated_filet3xu7qfj.py:14\u001b[0m, in \u001b[0;36mouter_factory.<locals>.inner_factory.<locals>.tf___wrapped_model\u001b[0;34m(*args, **kwargs)\u001b[0m\n\u001b[1;32m     12\u001b[0m ag__\u001b[38;5;241m.\u001b[39mld(kwargs)[\u001b[38;5;124m'\u001b[39m\u001b[38;5;124mtraining\u001b[39m\u001b[38;5;124m'\u001b[39m] \u001b[38;5;241m=\u001b[39m \u001b[38;5;28;01mFalse\u001b[39;00m\n\u001b[1;32m     13\u001b[0m \u001b[38;5;28;01mwith\u001b[39;00m ag__\u001b[38;5;241m.\u001b[39mld(base_layer_utils)\u001b[38;5;241m.\u001b[39mcall_context()\u001b[38;5;241m.\u001b[39menter(ag__\u001b[38;5;241m.\u001b[39mld(model), inputs\u001b[38;5;241m=\u001b[39m\u001b[38;5;28;01mNone\u001b[39;00m, build_graph\u001b[38;5;241m=\u001b[39m\u001b[38;5;28;01mFalse\u001b[39;00m, training\u001b[38;5;241m=\u001b[39m\u001b[38;5;28;01mFalse\u001b[39;00m, saving\u001b[38;5;241m=\u001b[39m\u001b[38;5;28;01mTrue\u001b[39;00m):\n\u001b[0;32m---> 14\u001b[0m     outputs \u001b[38;5;241m=\u001b[39m \u001b[43mag__\u001b[49m\u001b[38;5;241;43m.\u001b[39;49m\u001b[43mconverted_call\u001b[49m\u001b[43m(\u001b[49m\u001b[43mag__\u001b[49m\u001b[38;5;241;43m.\u001b[39;49m\u001b[43mld\u001b[49m\u001b[43m(\u001b[49m\u001b[43mmodel\u001b[49m\u001b[43m)\u001b[49m\u001b[43m,\u001b[49m\u001b[43m \u001b[49m\u001b[38;5;28;43mtuple\u001b[39;49m\u001b[43m(\u001b[49m\u001b[43mag__\u001b[49m\u001b[38;5;241;43m.\u001b[39;49m\u001b[43mld\u001b[49m\u001b[43m(\u001b[49m\u001b[43margs\u001b[49m\u001b[43m)\u001b[49m\u001b[43m)\u001b[49m\u001b[43m,\u001b[49m\u001b[43m \u001b[49m\u001b[38;5;28;43mdict\u001b[39;49m\u001b[43m(\u001b[49m\u001b[38;5;241;43m*\u001b[39;49m\u001b[38;5;241;43m*\u001b[39;49m\u001b[43mag__\u001b[49m\u001b[38;5;241;43m.\u001b[39;49m\u001b[43mld\u001b[49m\u001b[43m(\u001b[49m\u001b[43mkwargs\u001b[49m\u001b[43m)\u001b[49m\u001b[43m)\u001b[49m\u001b[43m,\u001b[49m\u001b[43m \u001b[49m\u001b[43mfscope\u001b[49m\u001b[43m)\u001b[49m\n\u001b[1;32m     15\u001b[0m output_names \u001b[38;5;241m=\u001b[39m ag__\u001b[38;5;241m.\u001b[39mld(model)\u001b[38;5;241m.\u001b[39moutput_names\n\u001b[1;32m     17\u001b[0m \u001b[38;5;28;01mdef\u001b[39;00m \u001b[38;5;21mget_state\u001b[39m():\n",
      "\u001b[0;31mTypeError\u001b[0m: in user code:\n\n    File \"/opt/conda/lib/python3.10/site-packages/keras/saving/saving_utils.py\", line 138, in _wrapped_model  *\n        outputs = model(*args, **kwargs)\n\n    TypeError: outer_factory.<locals>.inner_factory.<locals>.tf____call__() missing 1 required positional argument: 'compute_sequence_embeddings'\n"
     ]
    }
   ],
   "source": [
    "setbert_encoder.save(\"./models/alex_bce_setbert\")"
   ]
  },
  {
   "cell_type": "code",
   "execution_count": 66,
   "metadata": {},
   "outputs": [],
   "source": [
    "model.save_weights(\"./models/alex_bce_classifier.h5\")"
   ]
  },
  {
   "cell_type": "code",
   "execution_count": 73,
   "metadata": {},
   "outputs": [],
   "source": [
    "api = wandb.Api()"
   ]
  },
  {
   "cell_type": "code",
   "execution_count": 74,
   "metadata": {},
   "outputs": [
    {
     "name": "stderr",
     "output_type": "stream",
     "text": [
      "\u001b[34m\u001b[1mwandb\u001b[0m: Downloading large artifact setbert-pretrain-walker-abund-128d-250l:v0, 91.05MB. 4 files... \n",
      "\u001b[34m\u001b[1mwandb\u001b[0m:   4 of 4 files downloaded.  \n",
      "Done. 0:0:0.4\n"
     ]
    }
   ],
   "source": [
    "# path = api.artifact(\"sirdavidludwig/setbert-pretrain/setbert-pretrain-walker-abund-128d-250l:v0\").download()\n",
    "path = api.artifact(\"sirdavidludwig/setbert-pretrain/setbert-pretrain-walker-abund-128d-250l:v0\").download()\n",
    "setbert_encoder_pretrained = setbert.SetBertEncoderModel(\n",
    "    load_model(path, setbert.SetBertPretrainModel).base\n",
    ")\n",
    "setbert_encoder_pretrained.base.dnabert_encoder.chunk_size = 256"
   ]
  },
  {
   "cell_type": "code",
   "execution_count": 46,
   "metadata": {},
   "outputs": [
    {
     "name": "stderr",
     "output_type": "stream",
     "text": [
      "2023-07-12 07:05:07.604063: I tensorflow/core/platform/cpu_feature_guard.cc:193] This TensorFlow binary is optimized with oneAPI Deep Neural Network Library (oneDNN) to use the following CPU instructions in performance-critical operations:  SSE4.1 SSE4.2 AVX AVX2 FMA\n",
      "To enable them in other operations, rebuild TensorFlow with the appropriate compiler flags.\n",
      "2023-07-12 07:05:07.606658: I tensorflow/stream_executor/cuda/cuda_gpu_executor.cc:975] successful NUMA node read from SysFS had negative value (-1), but there must be at least one NUMA node, so returning NUMA node zero\n",
      "2023-07-12 07:05:07.606897: I tensorflow/stream_executor/cuda/cuda_gpu_executor.cc:975] successful NUMA node read from SysFS had negative value (-1), but there must be at least one NUMA node, so returning NUMA node zero\n",
      "2023-07-12 07:05:07.607069: I tensorflow/stream_executor/cuda/cuda_gpu_executor.cc:975] successful NUMA node read from SysFS had negative value (-1), but there must be at least one NUMA node, so returning NUMA node zero\n",
      "2023-07-12 07:05:08.524177: I tensorflow/stream_executor/cuda/cuda_gpu_executor.cc:975] successful NUMA node read from SysFS had negative value (-1), but there must be at least one NUMA node, so returning NUMA node zero\n",
      "2023-07-12 07:05:08.524386: I tensorflow/stream_executor/cuda/cuda_gpu_executor.cc:975] successful NUMA node read from SysFS had negative value (-1), but there must be at least one NUMA node, so returning NUMA node zero\n",
      "2023-07-12 07:05:08.524563: I tensorflow/stream_executor/cuda/cuda_gpu_executor.cc:975] successful NUMA node read from SysFS had negative value (-1), but there must be at least one NUMA node, so returning NUMA node zero\n",
      "2023-07-12 07:05:08.524725: I tensorflow/core/common_runtime/gpu/gpu_device.cc:1532] Created device /job:localhost/replica:0/task:0/device:GPU:0 with 22276 MB memory:  -> device: 1, name: NVIDIA GeForce RTX 3090, pci bus id: 0000:21:00.0, compute capability: 8.6\n"
     ]
    }
   ],
   "source": [
    "setbert_encoder = load_model(\"./models/alex_bce_classifier\")"
   ]
  },
  {
   "cell_type": "code",
   "execution_count": 47,
   "metadata": {},
   "outputs": [
    {
     "name": "stdout",
     "output_type": "stream",
     "text": [
      "Model: \"model_13\"\n",
      "_________________________________________________________________\n",
      " Layer (type)                Output Shape              Param #   \n",
      "=================================================================\n",
      " input_14 (InputLayer)       [(None, 1000, 248)]       0         \n",
      "                                                                 \n",
      " set_bert_encoder_model_1 (S  ((None, 128),            9240192   \n",
      " etBertEncoderModel)          [[(None, 8, 1001, 1001)            \n",
      "                             , (None, 8, 1001, 1001),            \n",
      "                              (None, 8, 1001, 1001),             \n",
      "                              (None, 8, 1001, 1001),             \n",
      "                              (None, 8, 1001, 1001),             \n",
      "                              (None, 8, 1001, 1001),             \n",
      "                              (None, 8, 1001, 1001),             \n",
      "                              (None, 8, 1001, 1001)]]            \n",
      "                             )                                   \n",
      "                                                                 \n",
      " y (Dense)                   (None, 1)                 129       \n",
      "                                                                 \n",
      "=================================================================\n",
      "Total params: 9,240,321\n",
      "Trainable params: 4,488,705\n",
      "Non-trainable params: 4,751,616\n",
      "_________________________________________________________________\n"
     ]
    }
   ],
   "source": [
    "setbert_encoder.summary()"
   ]
  },
  {
   "cell_type": "markdown",
   "metadata": {},
   "source": [
    "## Attributable SetBERT Model"
   ]
  },
  {
   "cell_type": "code",
   "execution_count": 67,
   "metadata": {},
   "outputs": [
    {
     "data": {
      "image/png": "[encoded data removed]",
      "text/plain": [
       "<IPython.core.display.Image object>"
      ]
     },
     "execution_count": 67,
     "metadata": {},
     "output_type": "execute_result"
    }
   ],
   "source": [
    "tf.keras.utils.plot_model(setbert_encoder, to_file=\"/tmp/model.png\")"
   ]
  },
  {
   "cell_type": "code",
   "execution_count": 77,
   "metadata": {},
   "outputs": [
    {
     "data": {
      "text/plain": [
       "[<deepdna.nn.models.setbert.SetBertModel at 0x7f66d4eb6f20>,\n",
       " <keras.engine.functional.Functional at 0x7f6cf876f9a0>]"
      ]
     },
     "execution_count": 77,
     "metadata": {},
     "output_type": "execute_result"
    }
   ],
   "source": [
    "setbert_encoder.layers[1].layers"
   ]
  },
  {
   "cell_type": "code",
   "execution_count": 68,
   "metadata": {},
   "outputs": [
    {
     "data": {
      "text/plain": [
       "[<keras.engine.input_layer.InputLayer at 0x7f66f244a470>,\n",
       " <deepdna.nn.models.setbert.SetBertEncoderModel at 0x7f66e6afa950>,\n",
       " <keras.layers.core.dense.Dense at 0x7f66d4a0f220>]"
      ]
     },
     "execution_count": 68,
     "metadata": {},
     "output_type": "execute_result"
    }
   ],
   "source": [
    "setbert_encoder.layers"
   ]
  },
  {
   "cell_type": "code",
   "execution_count": 54,
   "metadata": {},
   "outputs": [],
   "source": [
    "# trained_predictions = setbert_encoder(train_dataset[0][0], return_attention_scores=True)\n",
    "# untrained_predictions = setbert_encoder_pretrained(train_dataset[0][0], return_attention_scores=True)\n",
    "\n",
    "trained_predictions = setbert_encoder(val_dataset[0][0], return_attention_scores=True)\n",
    "untrained_predictions = setbert_encoder_pretrained(val_dataset[0][0], return_attention_scores=True)"
   ]
  },
  {
   "cell_type": "code",
   "execution_count": 61,
   "metadata": {},
   "outputs": [
    {
     "data": {
      "text/plain": [
       "8"
      ]
     },
     "execution_count": 61,
     "metadata": {},
     "output_type": "execute_result"
    }
   ],
   "source": [
    "len(trained_predictions[1][0])"
   ]
  },
  {
   "cell_type": "code",
   "execution_count": null,
   "metadata": {},
   "outputs": [
    {
     "name": "stdout",
     "output_type": "stream",
     "text": [
      "Is present: 1.0\n"
     ]
    }
   ],
   "source": [
    "print(\"Is present:\", val_dataset.get(batch_index)[3][index])"
   ]
  },
  {
   "cell_type": "code",
   "execution_count": 133,
   "metadata": {},
   "outputs": [
    {
     "data": {
      "text/plain": [
       "array([96.21557 , 66.90698 , 62.063248, 57.093185, 57.093185, 51.6347  ,\n",
       "       45.66148 , 38.548935, 32.55419 , 29.89124 , 28.528635, 28.41715 ,\n",
       "       27.910433, 27.454433, 25.66349 , 25.112377, 24.25325 , 23.784433,\n",
       "       23.292881, 22.95972 ], dtype=float32)"
      ]
     },
     "execution_count": 133,
     "metadata": {},
     "output_type": "execute_result"
    }
   ],
   "source": [
    "tdata[sorted_indices[:20]]"
   ]
  },
  {
   "cell_type": "code",
   "execution_count": 55,
   "metadata": {},
   "outputs": [
    {
     "data": {
      "text/plain": [
       "(190, 547)"
      ]
     },
     "execution_count": 55,
     "metadata": {},
     "output_type": "execute_result"
    }
   ],
   "source": [
    "positive_samples = {}\n",
    "negative_samples = {}\n",
    "for s in samples:\n",
    "    if targets[s.name] > 0.0:\n",
    "        positive_samples[s.name] = s\n",
    "    else:\n",
    "        negative_samples[s.name] = s\n",
    "len(positive_samples), len(negative_samples)"
   ]
  },
  {
   "cell_type": "code",
   "execution_count": 71,
   "metadata": {
    "tags": []
   },
   "outputs": [],
   "source": [
    "# sequence_embeddings = {}\n",
    "# for i, s in enumerate(samples):\n",
    "#     print(f\"\\r{i+1}/{len(samples)}\", end=\"\")\n",
    "#     g = SampleTargetGenerator([s], {s.name: 1}, sequence_length=250, kmer=3, subsample_size=1000, batch_size=10, batches_per_epoch=1)\n",
    "#     _, fasta_ids, sequences, _ = g.get(0)\n",
    "#     embeddings = setbert_encoder.base.dnabert_encoder.encode(sequences, chunk_size=256)\n",
    "#     sequence_embeddings[s.name] = {\n",
    "#         \"fasta_ids\": fasta_ids,\n",
    "#         \"sequences\": embeddings\n",
    "#     }\n",
    "# with open(\"./alex_sequence_embeddings.pkl\", 'wb') as f:\n",
    "#     pickle.dump(sequence_embeddings, f)"
   ]
  },
  {
   "cell_type": "code",
   "execution_count": 73,
   "metadata": {},
   "outputs": [],
   "source": [
    "with open(\"./logs/alex_sequence_embeddings.pkl\", 'rb') as f:\n",
    "    sequence_embeddings = pickle.load(f)"
   ]
  },
  {
   "cell_type": "code",
   "execution_count": 90,
   "metadata": {},
   "outputs": [],
   "source": [
    "x = model.layers[2].input\n",
    "y = model.layers[2].output\n",
    "predictor = tf.keras.Model(x, y)"
   ]
  },
  {
   "cell_type": "code",
   "execution_count": 95,
   "metadata": {},
   "outputs": [
    {
     "name": "stdout",
     "output_type": "stream",
     "text": [
      "737/737"
     ]
    }
   ],
   "source": [
    "predictions = defaultdict(list)\n",
    "infected_tax_scores = [defaultdict(int) for _ in range(8)] # scores for each transformer block\n",
    "uninfected_tax_scores = [defaultdict(int) for _ in range(8)]\n",
    "for i, (name, batch) in enumerate(sequence_embeddings.items()):\n",
    "    print(f\"\\r{i+1}/{len(sequence_embeddings)}\", end=\"\")\n",
    "    predictions[name].append(predictor(setbert_encoder(batch[\"sequences\"], compute_sequence_embeddings=False)))\n",
    "    pretrained = np.array(setbert_encoder_pretrained(batch[\"sequences\"], compute_sequence_embeddings=False, return_attention_scores=True)[1][0]).astype(np.float64)\n",
    "    finetuned = np.array(setbert_encoder(batch[\"sequences\"], compute_sequence_embeddings=False, return_attention_scores=True)[1][0]).astype(np.float64)\n",
    "    scores = finetuned[:,:,:,1:,1:] - pretrained[:,:,:,1:,1:] # remove class token\n",
    "    # aggregate heads\n",
    "    scores = np.sum(scores, axis=2)\n",
    "    tax_score_blocks = infected_tax_scores if name in positive_samples else uninfected_tax_scores\n",
    "    for tax_scores, block in zip(tax_score_blocks, scores):\n",
    "        for asvs, batch_scores in zip(batch[\"fasta_ids\"], block):\n",
    "            batch_scores = batch_scores.sum(0)\n",
    "            for index in np.argsort(batch_scores):\n",
    "                tax_scores[tax_dict[asv_to_otu[asvs[index]]]] += batch_scores[index] / len(block)\n",
    "with open(\"./logs/alex_attention_scores.pkl\", 'wb') as f:\n",
    "    pickle.dump((infected_tax_scores, uninfected_tax_scores), f)"
   ]
  },
  {
   "cell_type": "code",
   "execution_count": 54,
   "metadata": {},
   "outputs": [],
   "source": [
    "with open(\"./logs/alex_attention_scores.pkl\", 'rb') as f:\n",
    "    (infected_tax_scores, uninfected_tax_scores) = pickle.load(f)"
   ]
  },
  {
   "cell_type": "code",
   "execution_count": 111,
   "metadata": {},
   "outputs": [
    {
     "data": {
      "text/plain": [
       "(7370,)"
      ]
     },
     "execution_count": 111,
     "metadata": {},
     "output_type": "execute_result"
    }
   ],
   "source": [
    "y_pred = np.array([*predictions.values()]).flatten()\n",
    "y_pred.shape"
   ]
  },
  {
   "cell_type": "code",
   "execution_count": 128,
   "metadata": {},
   "outputs": [
    {
     "data": {
      "text/plain": [
       "(7370,)"
      ]
     },
     "execution_count": 128,
     "metadata": {},
     "output_type": "execute_result"
    }
   ],
   "source": [
    "y_true = np.repeat([int(name in positive_samples) for name in predictions.keys()], 10)\n",
    "y_true.shape"
   ]
  },
  {
   "cell_type": "code",
   "execution_count": 177,
   "metadata": {},
   "outputs": [
    {
     "data": {
      "image/png": "[encoded data removed]",
      "text/plain": [
       "<Figure size 640x480 with 1 Axes>"
      ]
     },
     "metadata": {},
     "output_type": "display_data"
    }
   ],
   "source": [
    "plt.title(\"Prediction Confidence Values\")\n",
    "plt.hist(y_pred)\n",
    "plt.show()"
   ]
  },
  {
   "cell_type": "code",
   "execution_count": 179,
   "metadata": {},
   "outputs": [
    {
     "data": {
      "text/plain": [
       "Text(0.5, 1.0, 'Precision-Recall Curve')"
      ]
     },
     "execution_count": 179,
     "metadata": {},
     "output_type": "execute_result"
    },
    {
     "data": {
      "image/png": "[encoded data removed]",
      "text/plain": [
       "<Figure size 640x480 with 1 Axes>"
      ]
     },
     "metadata": {},
     "output_type": "display_data"
    }
   ],
   "source": [
    "precision, recall, thresholds = precision_recall_curve(y_true, y_pred)\n",
    "plt.plot(recall, precision)\n",
    "plt.xlabel(\"Recall\")\n",
    "plt.ylabel(\"Precision\")\n",
    "plt.title(\"Precision-Recall Curve\")"
   ]
  },
  {
   "cell_type": "code",
   "execution_count": 224,
   "metadata": {},
   "outputs": [
    {
     "data": {
      "text/plain": [
       "Text(0, 0.5, 'Precision')"
      ]
     },
     "execution_count": 224,
     "metadata": {},
     "output_type": "execute_result"
    },
    {
     "data": {
      "image/png": "[encoded data removed]",
      "text/plain": [
       "<Figure size 640x480 with 1 Axes>"
      ]
     },
     "metadata": {},
     "output_type": "display_data"
    }
   ],
   "source": [
    "plt.title(\"Precision-Recall Curve from Scratch\")\n",
    "plt.plot(recall_points, precision_points)\n",
    "plt.xlabel(\"Recall\")\n",
    "plt.ylabel(\"Precision\")"
   ]
  },
  {
   "cell_type": "code",
   "execution_count": 190,
   "metadata": {},
   "outputs": [],
   "source": [
    "indices = np.argsort(y_pred)\n",
    "y_pred_sorted = y_pred[indices]\n",
    "y_true_sorted = y_true[indices]"
   ]
  },
  {
   "cell_type": "code",
   "execution_count": 209,
   "metadata": {},
   "outputs": [
    {
     "data": {
      "text/plain": [
       "(7370,)"
      ]
     },
     "execution_count": 209,
     "metadata": {},
     "output_type": "execute_result"
    }
   ],
   "source": [
    "thresholds = np.concatenate((y_pred_sorted,))\n",
    "thresholds.shape"
   ]
  },
  {
   "cell_type": "code",
   "execution_count": 226,
   "metadata": {},
   "outputs": [],
   "source": [
    "from sklearn.metrics import precision_score, recall_score, confusion_matrix"
   ]
  },
  {
   "cell_type": "code",
   "execution_count": 216,
   "metadata": {},
   "outputs": [
    {
     "name": "stderr",
     "output_type": "stream",
     "text": [
      "/opt/conda/lib/python3.10/site-packages/sklearn/metrics/_classification.py:1334: UndefinedMetricWarning: Precision is ill-defined and being set to 0.0 due to no predicted samples. Use `zero_division` parameter to control this behavior.\n",
      "  _warn_prf(average, modifier, msg_start, len(result))\n"
     ]
    }
   ],
   "source": [
    "precision_points = []\n",
    "recall_points = []\n",
    "for threshold in thresholds:\n",
    "    precision_points.append(precision_score(y_true, y_pred > threshold))\n",
    "    recall_points.append(recall_score(y_true, y_pred > threshold))\n",
    "precision_points = np.array(precision_points)\n",
    "recall_points = np.array(recall_points)"
   ]
  },
  {
   "cell_type": "code",
   "execution_count": null,
   "metadata": {},
   "outputs": [],
   "source": [
    "ppv_points = []\n",
    "npv_points = []\n",
    "for threshold in thresholds:\n",
    "    tn, fp, fn, tp = confusion_matrix(y_true, y_pred > threshold).ravel()\n",
    "    ppv_points.append(tp / (tp + fp))\n",
    "    npv_points.append(tn / (tn + fn))\n",
    "ppv_points, npv_points = np.array(ppv_points), np.array(npv_points)"
   ]
  },
  {
   "cell_type": "code",
   "execution_count": null,
   "metadata": {},
   "outputs": [],
   "source": [
    "indices = np.argsort(npv_points)\n",
    "ppv_points = ppv_points[indices]\n",
    "npv_points = npv_points[indices]\n",
    "\n",
    "ppv_points[0] = 1.0\n",
    "ppv_points = np.concatenate(([1.0], ppv_points))\n",
    "npv_points = np.concatenate(([0.0], npv_points))"
   ]
  },
  {
   "cell_type": "code",
   "execution_count": null,
   "metadata": {},
   "outputs": [],
   "source": [
    "plt.title(\"PPV/NPV Curve\")\n",
    "plt.plot(npv_points, ppv_points)\n",
    "plt.ylabel(\"PPV\")\n",
    "plt.xlabel(\"NPV\")"
   ]
  },
  {
   "cell_type": "code",
   "execution_count": 137,
   "metadata": {},
   "outputs": [
    {
     "data": {
      "text/plain": [
       "Text(0.5, 1.0, 'ROC Curve')"
      ]
     },
     "execution_count": 137,
     "metadata": {},
     "output_type": "execute_result"
    },
    {
     "data": {
      "image/png": "[encoded data removed]",
      "text/plain": [
       "<Figure size 640x480 with 1 Axes>"
      ]
     },
     "metadata": {},
     "output_type": "display_data"
    }
   ],
   "source": [
    "fpr, tpr, thresholds = roc_curve(y_true, y_pred)\n",
    "plt.plot(fpr, tpr)\n",
    "plt.xlabel(\"False-Positive Rate\")\n",
    "plt.ylabel(\"True-Positive Rate\")\n",
    "plt.title(\"ROC Curve\")"
   ]
  },
  {
   "cell_type": "code",
   "execution_count": 184,
   "metadata": {},
   "outputs": [
    {
     "data": {
      "text/plain": [
       "(array([0.83350323, 0.61994609]),\n",
       " array([0.89689214, 0.48421053]),\n",
       " array([0.86403663, 0.54373522]),\n",
       " array([5470, 1900]))"
      ]
     },
     "execution_count": 184,
     "metadata": {},
     "output_type": "execute_result"
    }
   ],
   "source": [
    "precision, recall, fbeta, support = precision_recall_fscore_support(y_true, (y_pred > 0.95).astype(np.int64))\n",
    "precision, recall, fbeta, support"
   ]
  },
  {
   "cell_type": "code",
   "execution_count": null,
   "metadata": {},
   "outputs": [],
   "source": [
    "y_true"
   ]
  },
  {
   "cell_type": "code",
   "execution_count": 188,
   "metadata": {},
   "outputs": [
    {
     "data": {
      "text/plain": [
       "array([0.00497107, 0.00790841, 0.00243119, ..., 0.00404325, 0.00574546,\n",
       "       0.00544884], dtype=float32)"
      ]
     },
     "execution_count": 188,
     "metadata": {},
     "output_type": "execute_result"
    }
   ],
   "source": [
    "y_pred"
   ]
  },
  {
   "cell_type": "code",
   "execution_count": 96,
   "metadata": {},
   "outputs": [],
   "source": [
    "with open(\"./logs/alex_attention_scores.pkl\", 'rb') as f:\n",
    "    infected_tax_scores, uninfected_tax_scores = pickle.load(f)"
   ]
  },
  {
   "cell_type": "markdown",
   "metadata": {
    "jp-MarkdownHeadingCollapsed": true,
    "tags": []
   },
   "source": [
    "---\n",
    "\n",
    "## Taxonomy Ranks from Infected Samples"
   ]
  },
  {
   "cell_type": "code",
   "execution_count": 79,
   "metadata": {},
   "outputs": [],
   "source": [
    "infected_tax_scores_aggregated = defaultdict(int)\n",
    "for i in range(len(infected_tax_scores)):\n",
    "    for tax, score in infected_tax_scores[i].items():\n",
    "        infected_tax_scores_aggregated[tax] += score"
   ]
  },
  {
   "cell_type": "markdown",
   "metadata": {},
   "source": [
    "### Highest Scoring Taxonomies"
   ]
  },
  {
   "cell_type": "code",
   "execution_count": 80,
   "metadata": {
    "collapsed": true,
    "jupyter": {
     "outputs_hidden": true
    },
    "tags": []
   },
   "outputs": [
    {
     "name": "stdout",
     "output_type": "stream",
     "text": [
      "Block 1:\n",
      "  9380.485502533995    k__Bacteria; p__Deinococcus-Thermus; c__Deinococci; o__Deinococcales; f__Deinococcaceae; g__Deinococcus\n",
      "  6789.6182448495165   k__Bacteria; p__Proteobacteria; c__Gammaproteobacteria; o__Betaproteobacteriales; f__Burkholderiaceae; g__Burkholderiaceae_unclassified\n",
      "  3410.239918012774    k__Bacteria; p__Proteobacteria; c__Alphaproteobacteria; o__Rhizobiales; f__Beijerinckiaceae; g__Methylobacterium\n",
      "  2724.895521548744    k__Bacteria; p__Proteobacteria; c__Gammaproteobacteria; o__Xanthomonadales; f__Xanthomonadaceae; g__Stenotrophomonas\n",
      "  2707.7641504128906   k__Bacteria; p__Proteobacteria; c__Alphaproteobacteria; o__Rhodobacterales; f__Rhodobacteraceae; g__Paracoccus\n",
      "  1993.8034880777782   k__Bacteria; p__Proteobacteria; c__Alphaproteobacteria; o__Sphingomonadales; f__Sphingomonadaceae; g__Sphingomonas\n",
      "  906.6444384372224    k__Bacteria; p__Proteobacteria; c__Gammaproteobacteria; o__Pseudomonadales; f__Moraxellaceae; g__Acinetobacter\n",
      "  567.9016428694805    k__Bacteria; p__Proteobacteria; c__Alphaproteobacteria; o__Caulobacterales; f__Caulobacteraceae; g__Brevundimonas\n",
      "  567.5916550727582    k__Bacteria; p__Proteobacteria; c__Gammaproteobacteria; o__Pseudomonadales; f__Pseudomonadaceae; g__Pseudomonas\n",
      "  540.3873885486265    k__Bacteria; p__Proteobacteria; c__Alphaproteobacteria; o__Rhodobacterales; f__Rhodobacteraceae; g__Rhodobacteraceae_unclassified\n",
      "Block 2:\n",
      "  5489.407999419093    k__Bacteria; p__Actinobacteria; c__Actinobacteria; o__Micrococcales; f__Intrasporangiaceae; g__Janibacter\n",
      "  5042.892846930981    k__Bacteria; p__Bacteroidetes; c__Bacteroidia; o__Flavobacteriales; f__Weeksellaceae; g__Chryseobacterium\n",
      "  4835.439410183231    k__Bacteria; p__Bacteroidetes; c__Bacteroidia; o__Cytophagales; f__Hymenobacteraceae; g__Hymenobacter\n",
      "  4050.1047596431954   k__Bacteria; p__Proteobacteria; c__Alphaproteobacteria; o__Rhizobiales; f__Beijerinckiaceae; g__Methylobacterium\n",
      "  2286.961562124618    k__Bacteria; p__Actinobacteria; c__Actinobacteria; o__Propionibacteriales; f__Nocardioidaceae; g__Nocardioides\n",
      "  2276.727310806623    k__Bacteria; p__Proteobacteria; c__Alphaproteobacteria; o__Rhodobacterales; f__Rhodobacteraceae; g__Paracoccus\n",
      "  1519.2098962906584   k__Bacteria; p__Actinobacteria; c__Actinobacteria; o__Micrococcales; f__Micrococcales_unclassified; g__Micrococcales_unclassified\n",
      "  1515.0490855943551   k__Bacteria; p__Fusobacteria; c__Fusobacteriia; o__Fusobacteriales; f__Fusobacteriaceae; g__Cetobacterium\n",
      "  1500.4873442013645   k__Bacteria; p__Proteobacteria; c__Gammaproteobacteria; o__Xanthomonadales; f__Xanthomonadaceae; g__Stenotrophomonas\n",
      "  1453.3787051924458   k__Bacteria; p__Proteobacteria; c__Alphaproteobacteria; o__Sphingomonadales; f__Sphingomonadaceae; g__Sphingomonas\n",
      "Block 3:\n",
      "  15265.570696947134   k__Bacteria; p__Deinococcus-Thermus; c__Deinococci; o__Deinococcales; f__Deinococcaceae; g__Deinococcus\n",
      "  14823.596005439254   k__Bacteria; p__Proteobacteria; c__Gammaproteobacteria; o__Betaproteobacteriales; f__Burkholderiaceae; g__Burkholderiaceae_unclassified\n",
      "  8970.105033295047    k__Bacteria; p__Bacteroidetes; c__Bacteroidia; o__Flavobacteriales; f__Weeksellaceae; g__Chryseobacterium\n",
      "  5740.166113906548    k__Bacteria; p__Proteobacteria; c__Gammaproteobacteria; o__Xanthomonadales; f__Xanthomonadaceae; g__Stenotrophomonas\n",
      "  3889.221925623848    k__Bacteria; p__Actinobacteria; c__Actinobacteria; o__Micrococcales; f__Intrasporangiaceae; g__Janibacter\n",
      "  3594.414122458538    k__Bacteria; p__Proteobacteria; c__Alphaproteobacteria; o__Sphingomonadales; f__Sphingomonadaceae; g__Sphingomonas\n",
      "  2658.186216699101    k__Bacteria; p__Proteobacteria; c__Alphaproteobacteria; o__Rhodobacterales; f__Rhodobacteraceae; g__Paracoccus\n",
      "  2646.9451589715227   k__Bacteria; p__Proteobacteria; c__Gammaproteobacteria; o__Enterobacteriales; f__Enterobacteriaceae; g__Enterobacteriaceae_unclassified\n",
      "  2556.910535789727    k__Bacteria; p__Fusobacteria; c__Fusobacteriia; o__Fusobacteriales; f__Fusobacteriaceae; g__Cetobacterium\n",
      "  2511.043747371411    k__Bacteria; p__Bacteroidetes; c__Bacteroidia; o__Cytophagales; f__Hymenobacteraceae; g__Hymenobacter\n",
      "Block 4:\n",
      "  11288.408169336095   k__Bacteria; p__Actinobacteria; c__Actinobacteria; o__Corynebacteriales; f__Dietziaceae; g__Dietzia\n",
      "  11127.806391451591   k__Bacteria; p__Bacteroidetes; c__Bacteroidia; o__Flavobacteriales; f__Weeksellaceae; g__Chryseobacterium\n",
      "  9837.830783330986    k__Bacteria; p__Actinobacteria; c__Actinobacteria; o__Corynebacteriales; f__Mycobacteriaceae; g__Mycobacterium\n",
      "  6467.961266596865    k__Bacteria; p__Actinobacteria; c__Actinobacteria; o__Propionibacteriales; f__Nocardioidaceae; g__Nocardioides\n",
      "  5627.973615053542    k__Bacteria; p__Proteobacteria; c__Gammaproteobacteria; o__Xanthomonadales; f__Xanthomonadaceae; g__Stenotrophomonas\n",
      "  4628.417367711634    k__Bacteria; p__Actinobacteria; c__Actinobacteria; o__Corynebacteriales; f__Nocardiaceae; g__Williamsia\n",
      "  4346.088021523695    k__Bacteria; p__Proteobacteria; c__Alphaproteobacteria; o__Sphingomonadales; f__Sphingomonadaceae; g__Sphingomonas\n",
      "  4172.109478446807    k__Bacteria; p__Bacteroidetes; c__Bacteroidia; o__Cytophagales; f__Microscillaceae; g__Siphonobacter\n",
      "  3488.600703317572    k__Bacteria; p__Actinobacteria; c__Actinobacteria; o__Micrococcales; f__Microbacteriaceae; g__Microbacteriaceae_unclassified\n",
      "  3247.5802751405745   k__Bacteria; p__Actinobacteria; c__Actinobacteria; o__Micrococcales; f__Intrasporangiaceae; g__Janibacter\n",
      "Block 5:\n",
      "  13106.584804195776   k__Bacteria; p__Proteobacteria; c__Gammaproteobacteria; o__Betaproteobacteriales; f__Burkholderiaceae; g__Burkholderiaceae_unclassified\n",
      "  6467.796697901027    k__Bacteria; p__Proteobacteria; c__Alphaproteobacteria; o__Sphingomonadales; f__Sphingomonadaceae; g__Sphingomonas\n",
      "  3943.050189011749    k__Bacteria; p__Proteobacteria; c__Gammaproteobacteria; o__Xanthomonadales; f__Xanthomonadaceae; g__Stenotrophomonas\n",
      "  3263.9551250146346   k__Bacteria; p__Bacteroidetes; c__Bacteroidia; o__Sphingobacteriales; f__Sphingobacteriaceae; g__Sphingobacterium\n",
      "  3105.0427395159168   k__Bacteria; p__Bacteroidetes; c__Bacteroidia; o__Flavobacteriales; f__Weeksellaceae; g__Chryseobacterium\n",
      "  2218.1735017544916   k__Bacteria; p__Proteobacteria; c__Alphaproteobacteria; o__Sphingomonadales; f__Sphingomonadaceae; g__Sphingomonadaceae_unclassified\n",
      "  2053.7727240239296   k__Bacteria; p__Proteobacteria; c__Gammaproteobacteria; o__Enterobacteriales; f__Enterobacteriaceae; g__Enterobacteriaceae_unclassified\n",
      "  1972.5937029382246   k__Bacteria; p__Actinobacteria; c__Actinobacteria; o__Corynebacteriales; f__Dietziaceae; g__Dietzia\n",
      "  1896.1190747917863   k__Bacteria; p__Proteobacteria; c__Gammaproteobacteria; o__Betaproteobacteriales; f__Burkholderiaceae; g__Massilia\n",
      "  1683.5532029517226   k__Bacteria; p__Proteobacteria; c__Alphaproteobacteria; o__Rhodobacterales; f__Rhodobacteraceae; g__Paracoccus\n",
      "Block 6:\n",
      "  11294.543720272257   k__Bacteria; p__Actinobacteria; c__Actinobacteria; o__Micrococcales; f__Intrasporangiaceae; g__Janibacter\n",
      "  8278.858215714228    k__Bacteria; p__Actinobacteria; c__Actinobacteria; o__Propionibacteriales; f__Nocardioidaceae; g__Nocardioides\n",
      "  4233.337335068261    k__Bacteria; p__Actinobacteria; c__Actinobacteria; o__Propionibacteriales; f__Nocardioidaceae; g__Marmoricola\n",
      "  3292.9068597110054   k__Bacteria; p__Actinobacteria; c__Actinobacteria; o__Micrococcales; f__Intrasporangiaceae; g__Intrasporangiaceae_unclassified\n",
      "  3192.23412594886     k__Bacteria; p__Actinobacteria; c__Actinobacteria; o__Micrococcales; f__Micrococcales_unclassified; g__Micrococcales_unclassified\n",
      "  2748.749889397598    k__Bacteria; p__Actinobacteria; c__Actinobacteria; o__Micrococcales; f__Micrococcaceae; g__Paenarthrobacter\n",
      "  2703.460635544785    k__Bacteria; p__Bacteroidetes; c__Bacteroidia; o__Flavobacteriales; f__Weeksellaceae; g__Chryseobacterium\n",
      "  2483.892812362596    k__Bacteria; p__Actinobacteria; c__Actinobacteria; o__Micrococcales; f__Microbacteriaceae; g__Microbacteriaceae_unclassified\n",
      "  1671.7492151673166   k__Bacteria; p__Actinobacteria; c__Actinobacteria; o__Corynebacteriales; f__Dietziaceae; g__Dietzia\n",
      "  1075.9299981462339   k__Bacteria; p__Actinobacteria; c__Actinobacteria; o__Corynebacteriales; f__Nocardiaceae; g__Rhodococcus\n",
      "Block 7:\n",
      "  7697.847892025676    k__Bacteria; p__Deinococcus-Thermus; c__Deinococci; o__Deinococcales; f__Deinococcaceae; g__Deinococcus\n",
      "  6741.682757638718    k__Bacteria; p__Actinobacteria; c__Actinobacteria; o__Propionibacteriales; f__Nocardioidaceae; g__Nocardioides\n",
      "  4330.228357531623    k__Bacteria; p__Actinobacteria; c__Actinobacteria; o__Corynebacteriales; f__Dietziaceae; g__Dietzia\n",
      "  2723.2280728967394   k__Bacteria; p__Actinobacteria; c__Actinobacteria; o__Propionibacteriales; f__Nocardioidaceae; g__Marmoricola\n",
      "  1935.9727873686597   k__Bacteria; p__Proteobacteria; c__Alphaproteobacteria; o__Sphingomonadales; f__Sphingomonadaceae; g__Qipengyuania\n",
      "  1924.8019116645348   k__Bacteria; p__Bacteroidetes; c__Bacteroidia; o__Sphingobacteriales; f__Sphingobacteriaceae; g__Sphingobacterium\n",
      "  1871.8247880846882   k__Bacteria; p__Bacteroidetes; c__Bacteroidia; o__Cytophagales; f__Hymenobacteraceae; g__Hymenobacter\n",
      "  1701.8716510678923   k__Bacteria; p__Proteobacteria; c__Alphaproteobacteria; o__Rhodobacterales; f__Rhodobacteraceae; g__Paracoccus\n",
      "  1617.1339439509757   k__Bacteria; p__Actinobacteria; c__Actinobacteria; o__Corynebacteriales; f__Corynebacteriales_unclassified; g__Corynebacteriales_unclassified\n",
      "  1543.4845118655985   k__Bacteria; p__Proteobacteria; c__Alphaproteobacteria; o__Sphingomonadales; f__Sphingomonadaceae; g__Novosphingobium\n",
      "Block 8:\n",
      "  10101.621548549647   k__Bacteria; p__Proteobacteria; c__Gammaproteobacteria; o__Betaproteobacteriales; f__Burkholderiaceae; g__Burkholderiaceae_unclassified\n",
      "  8147.755798721644    k__Bacteria; p__Proteobacteria; c__Alphaproteobacteria; o__Rhodobacterales; f__Rhodobacteraceae; g__Paracoccus\n",
      "  6564.183045294024    k__Bacteria; p__Proteobacteria; c__Alphaproteobacteria; o__Sphingomonadales; f__Sphingomonadaceae; g__Sphingomonas\n",
      "  5001.965067317509    k__Bacteria; p__Actinobacteria; c__Actinobacteria; o__Corynebacteriales; f__Dietziaceae; g__Dietzia\n",
      "  4003.341186490792    k__Bacteria; p__Proteobacteria; c__Alphaproteobacteria; o__Rhizobiales; f__Xanthobacteraceae; g__Bradyrhizobium\n",
      "  2379.984778342993    k__Bacteria; p__Bacteria_unclassified; c__Bacteria_unclassified; o__Bacteria_unclassified; f__Bacteria_unclassified; g__Bacteria_unclassified\n",
      "  2200.3765074991525   k__Bacteria; p__Firmicutes; c__Erysipelotrichia; o__Erysipelotrichales; f__Erysipelotrichaceae; g__Erysipelotrichaceae_unclassified\n",
      "  2135.7107291530206   k__Bacteria; p__Proteobacteria; c__Gammaproteobacteria; o__Enterobacteriales; f__Enterobacteriaceae; g__Morganella\n",
      "  1589.772585848793    k__Bacteria; p__Proteobacteria; c__Gammaproteobacteria; o__Xanthomonadales; f__Xanthomonadaceae; g__Thermomonas\n",
      "  1556.31638898455     k__Bacteria; p__Bacteroidetes; c__Bacteroidia; o__Bacteroidales; f__Bacteroidaceae; g__Bacteroides\n"
     ]
    }
   ],
   "source": [
    "for i in range(len(infected_tax_scores)):\n",
    "    print(f\"Block {i+1}:\")\n",
    "    for tax, score in sorted(infected_tax_scores[i].items(), key=lambda x: x[1], reverse=True)[:10]:\n",
    "        print(f\"  {score:<20}\", tax)"
   ]
  },
  {
   "cell_type": "markdown",
   "metadata": {},
   "source": [
    "### Lowest Scoring Taxonomies"
   ]
  },
  {
   "cell_type": "code",
   "execution_count": 82,
   "metadata": {
    "collapsed": true,
    "jupyter": {
     "outputs_hidden": true
    },
    "tags": []
   },
   "outputs": [
    {
     "name": "stdout",
     "output_type": "stream",
     "text": [
      "Block 1:\n",
      "  -4016.3258050888926  k__Bacteria; p__Actinobacteria; c__Actinobacteria; o__Propionibacteriales; f__Nocardioidaceae; g__Nocardioides\n",
      "  -3174.3304423143077  k__Bacteria; p__Actinobacteria; c__Actinobacteria; o__Micrococcales; f__Intrasporangiaceae; g__Janibacter\n",
      "  -2309.47717826624    k__Bacteria; p__Actinobacteria; c__Actinobacteria; o__Propionibacteriales; f__Nocardioidaceae; g__Marmoricola\n",
      "  -1598.0123728585922  k__Bacteria; p__Actinobacteria; c__Actinobacteria; o__Micrococcales; f__Micrococcales_unclassified; g__Micrococcales_unclassified\n",
      "  -1380.2592747848503  k__Bacteria; p__Actinobacteria; c__Actinobacteria; o__Micrococcales; f__Intrasporangiaceae; g__Intrasporangiaceae_unclassified\n",
      "  -1234.9983936058868  k__Bacteria; p__Actinobacteria; c__Actinobacteria; o__Corynebacteriales; f__Mycobacteriaceae; g__Mycobacterium\n",
      "  -1172.2736554139647  k__Bacteria; p__Actinobacteria; c__Actinobacteria; o__Micrococcales; f__Microbacteriaceae; g__Microbacteriaceae_unclassified\n",
      "  -1026.011112286813   k__Bacteria; p__Actinobacteria; c__Actinobacteria; o__Micrococcales; f__Intrasporangiaceae; g__Phycicoccus\n",
      "  -845.7401424389648   k__Bacteria; p__Fusobacteria; c__Fusobacteriia; o__Fusobacteriales; f__Fusobacteriaceae; g__Cetobacterium\n",
      "  -764.0081046125038   k__Bacteria; p__Actinobacteria; c__Actinobacteria; o__Corynebacteriales; f__Dietziaceae; g__Dietzia\n",
      "Block 2:\n",
      "  -1875.668698273373   k__Bacteria; p__Deinococcus-Thermus; c__Deinococci; o__Deinococcales; f__Deinococcaceae; g__Deinococcus\n",
      "  -615.7776876150358   k__Bacteria; p__Proteobacteria; c__Gammaproteobacteria; o__Pseudomonadales; f__Moraxellaceae; g__Acinetobacter\n",
      "  -254.78794737669662  k__Bacteria; p__Proteobacteria; c__Gammaproteobacteria; o__Betaproteobacteriales; f__Burkholderiaceae; g__Burkholderiaceae_unclassified\n",
      "  -249.9207599801807   k__Bacteria; p__Firmicutes; c__Bacilli; o__Bacillales; f__Bacillales_unclassified; g__Bacillales_unclassified\n",
      "  -137.16606811303512  k__Bacteria; p__Firmicutes; c__Erysipelotrichia; o__Erysipelotrichales; f__Erysipelotrichaceae; g__Erysipelothrix\n",
      "  -44.833090519134494  k__Bacteria; p__Firmicutes; c__Bacilli; o__Bacillales; f__Planococcaceae; g__Planococcaceae_unclassified\n",
      "  -32.06688938274619   k__Bacteria; p__Proteobacteria; c__Gammaproteobacteria; o__Enterobacteriales; f__Enterobacteriaceae; g__Morganella\n",
      "  -22.88198163284137   k__Bacteria; p__Firmicutes; c__Erysipelotrichia; o__Erysipelotrichales; f__Erysipelotrichaceae; g__Turicibacter\n",
      "  -22.402172814303306  k__Bacteria; p__Proteobacteria; c__Alphaproteobacteria; o__Sphingomonadales; f__Sphingomonadaceae; g__Sphingopyxis\n",
      "  -17.440892756756504  k__Bacteria; p__Cyanobacteria; c__Oxyphotobacteria; o__Nostocales; f__Nostocaceae; g__Nostocaceae_unclassified\n",
      "Block 3:\n",
      "  -176.61365939257627  k__Bacteria; p__Proteobacteria; c__Gammaproteobacteria; o__Pseudomonadales; f__Pseudomonadaceae; g__Pseudomonas\n",
      "  -29.733304492860455  k__Bacteria; p__Firmicutes; c__Clostridia; o__Clostridiales; f__Peptostreptococcaceae; g__Romboutsia\n",
      "  -16.581052096204715  k__Bacteria; p__Firmicutes; c__Clostridia; o__Clostridiales; f__Peptostreptococcaceae; g__Terrisporobacter\n",
      "  -8.67761342955219    k__Bacteria; p__Proteobacteria; c__Gammaproteobacteria; o__Pseudomonadales; f__Pseudomonadaceae; g__Pseudomonadaceae_unclassified\n",
      "  -4.410896202568104   k__Bacteria; p__Firmicutes; c__Clostridia; o__Clostridiales; f__Peptostreptococcaceae; g__Paraclostridium\n",
      "  -3.693016477011213   k__Bacteria; p__Firmicutes; c__Bacilli; o__Lactobacillales; f__Leuconostocaceae; g__Leuconostoc\n",
      "  -3.038747542287539   k__Bacteria; p__Firmicutes; c__Clostridia; o__Clostridiales; f__Family_XIII; g__Family_XIII_unclassified\n",
      "  -2.8756624326119415  k__Bacteria; p__Actinobacteria; c__Actinobacteria; o__Micrococcales; f__Cellulomonadaceae; g__Cellulomonadaceae_unclassified\n",
      "  -2.6996271080080545  k__Bacteria; p__Actinobacteria; c__Actinobacteria; o__Micrococcales; f__Beutenbergiaceae; g__Beutenbergiaceae_unclassified\n",
      "  -2.120523224305461   k__Bacteria; p__Firmicutes; c__Bacilli; o__Bacillales; f__Bacillaceae; g__Fictibacillus\n",
      "Block 4:\n",
      "  -1222.0753515751296  k__Bacteria; p__Proteobacteria; c__Gammaproteobacteria; o__Pseudomonadales; f__Moraxellaceae; g__Acinetobacter\n",
      "  -461.5184340936019   k__Bacteria; p__Firmicutes; c__Bacilli; o__Bacillales; f__Staphylococcaceae; g__Staphylococcus\n",
      "  -449.3669416505502   k__Bacteria; p__Proteobacteria; c__Gammaproteobacteria; o__Pseudomonadales; f__Moraxellaceae; g__Alkanindiges\n",
      "  -219.3962457148794   k__Bacteria; p__Firmicutes; c__Erysipelotrichia; o__Erysipelotrichales; f__Erysipelotrichaceae; g__Erysipelothrix\n",
      "  -195.6993699945947   k__Bacteria; p__Firmicutes; c__Erysipelotrichia; o__Erysipelotrichales; f__Erysipelotrichaceae; g__Erysipelotrichaceae_unclassified\n",
      "  -128.6250264067009   k__Bacteria; p__Proteobacteria; c__Gammaproteobacteria; o__Pseudomonadales; f__Pseudomonadaceae; g__Pseudomonas\n",
      "  -113.80944153854391  k__Bacteria; p__Firmicutes; c__Clostridia; o__Clostridiales; f__Clostridiaceae_1; g__Clostridium_sensu_stricto_1\n",
      "  -112.37769086420187  k__Bacteria; p__Firmicutes; c__Clostridia; o__Clostridiales; f__Clostridiaceae_1; g__Clostridiaceae_1_unclassified\n",
      "  -67.16432530377395   k__Bacteria; p__Fusobacteria; c__Fusobacteriia; o__Fusobacteriales; f__Fusobacteriaceae; g__Fusobacterium\n",
      "  -66.07908739718528   k__Bacteria; p__Gemmatimonadetes; c__Gemmatimonadetes; o__Gemmatimonadales; f__Gemmatimonadaceae; g__Gemmatirosa\n",
      "Block 5:\n",
      "  -6331.425940323527   k__Bacteria; p__Deinococcus-Thermus; c__Deinococci; o__Deinococcales; f__Deinococcaceae; g__Deinococcus\n",
      "  -2241.725776937593   k__Bacteria; p__Actinobacteria; c__Actinobacteria; o__Micrococcales; f__Intrasporangiaceae; g__Janibacter\n",
      "  -1328.5002189124048  k__Bacteria; p__Actinobacteria; c__Actinobacteria; o__Micrococcales; f__Dermacoccaceae; g__Flexivirga\n",
      "  -793.1207182898642   k__Bacteria; p__Proteobacteria; c__Gammaproteobacteria; o__R7C24; f__R7C24_fa; g__R7C24_unclassified\n",
      "  -725.6995072941096   k__Bacteria; p__Actinobacteria; c__Actinobacteria; o__Propionibacteriales; f__Nocardioidaceae; g__Nocardioides\n",
      "  -558.56678225116     k__Bacteria; p__Acidobacteria; c__Subgroup_6; o__Subgroup_6_or; f__Subgroup_6_fa; g__Subgroup_6_unclassified\n",
      "  -545.9897124460817   k__Bacteria; p__Firmicutes; c__Clostridia; o__Clostridiales; f__Clostridiaceae_1; g__Clostridium_sensu_stricto_1\n",
      "  -527.5719865425212   k__Bacteria; p__Actinobacteria; c__Actinobacteria; o__Micrococcales; f__Intrasporangiaceae; g__Phycicoccus\n",
      "  -512.5260843129524   k__Bacteria; p__Patescibacteria; c__Saccharimonadia; o__Saccharimonadales; f__Saccharimonadales_fa; g__Saccharimonadales_unclassified\n",
      "  -462.7366423187781   k__Bacteria; p__Proteobacteria; c__Alphaproteobacteria; o__Caulobacterales; f__Caulobacteraceae; g__Brevundimonas\n",
      "Block 6:\n",
      "  -4471.084427603818   k__Bacteria; p__Deinococcus-Thermus; c__Deinococci; o__Deinococcales; f__Deinococcaceae; g__Deinococcus\n",
      "  -3795.271790576438   k__Bacteria; p__Bacteroidetes; c__Bacteroidia; o__Cytophagales; f__Hymenobacteraceae; g__Hymenobacter\n",
      "  -3772.192405699707   k__Bacteria; p__Proteobacteria; c__Gammaproteobacteria; o__Pseudomonadales; f__Moraxellaceae; g__Acinetobacter\n",
      "  -3138.819106353824   k__Bacteria; p__Proteobacteria; c__Gammaproteobacteria; o__Enterobacteriales; f__Enterobacteriaceae; g__Enterobacteriaceae_unclassified\n",
      "  -2936.096657011741   k__Bacteria; p__Proteobacteria; c__Gammaproteobacteria; o__Betaproteobacteriales; f__Burkholderiaceae; g__Burkholderiaceae_unclassified\n",
      "  -2230.7290813081427  k__Bacteria; p__Proteobacteria; c__Alphaproteobacteria; o__Rhizobiales; f__Beijerinckiaceae; g__Methylobacterium\n",
      "  -1907.1854010291981  k__Bacteria; p__Proteobacteria; c__Alphaproteobacteria; o__Sphingomonadales; f__Sphingomonadaceae; g__Sphingomonas\n",
      "  -1694.2831882626133  k__Bacteria; p__Acidobacteria; c__Subgroup_6; o__Subgroup_6_or; f__Subgroup_6_fa; g__Subgroup_6_unclassified\n",
      "  -1663.5336582362418  k__Bacteria; p__Bacteroidetes; c__Bacteroidia; o__Cytophagales; f__Microscillaceae; g__Siphonobacter\n",
      "  -1180.8254877944612  k__Bacteria; p__Actinobacteria; c__Actinobacteria; o__Micrococcales; f__Dermacoccaceae; g__Flexivirga\n",
      "Block 7:\n",
      "  -26488.19750577706   k__Bacteria; p__Proteobacteria; c__Gammaproteobacteria; o__Betaproteobacteriales; f__Burkholderiaceae; g__Burkholderiaceae_unclassified\n",
      "  -3299.6356894106734  k__Bacteria; p__Proteobacteria; c__Gammaproteobacteria; o__Xanthomonadales; f__Xanthomonadaceae; g__Stenotrophomonas\n",
      "  -1954.5062199783588  k__Bacteria; p__Bacteroidetes; c__Bacteroidia; o__Flavobacteriales; f__Weeksellaceae; g__Chryseobacterium\n",
      "  -1865.390078073781   k__Bacteria; p__Proteobacteria; c__Gammaproteobacteria; o__Pseudomonadales; f__Pseudomonadaceae; g__Pseudomonas\n",
      "  -1595.2221347168447  k__Bacteria; p__Actinobacteria; c__Actinobacteria; o__Corynebacteriales; f__Mycobacteriaceae; g__Mycobacterium\n",
      "  -1567.803450830623   k__Bacteria; p__Proteobacteria; c__Gammaproteobacteria; o__Enterobacteriales; f__Enterobacteriaceae; g__Enterobacteriaceae_unclassified\n",
      "  -1238.0670265969125  k__Bacteria; p__Actinobacteria; c__Actinobacteria; o__Micrococcales; f__Micrococcaceae; g__Paenarthrobacter\n",
      "  -1184.828973720673   k__Bacteria; p__Actinobacteria; c__Actinobacteria; o__Micrococcales; f__Dermacoccaceae; g__Flexivirga\n",
      "  -1086.9899142078982  k__Bacteria; p__Actinobacteria; c__Actinobacteria; o__Micrococcales; f__Dermabacteraceae; g__Brachybacterium\n",
      "  -1030.0588236483864  k__Bacteria; p__Actinobacteria; c__Actinobacteria; o__Micrococcales; f__Brevibacteriaceae; g__Brevibacterium\n",
      "Block 8:\n",
      "  -11854.283378319193  k__Bacteria; p__Actinobacteria; c__Actinobacteria; o__Propionibacteriales; f__Nocardioidaceae; g__Nocardioides\n",
      "  -10627.317671199944  k__Bacteria; p__Deinococcus-Thermus; c__Deinococci; o__Deinococcales; f__Deinococcaceae; g__Deinococcus\n",
      "  -10270.421409513752  k__Bacteria; p__Proteobacteria; c__Gammaproteobacteria; o__Enterobacteriales; f__Enterobacteriaceae; g__Enterobacteriaceae_unclassified\n",
      "  -10133.888879040725  k__Bacteria; p__Bacteroidetes; c__Bacteroidia; o__Cytophagales; f__Microscillaceae; g__Siphonobacter\n",
      "  -4172.332288162923   k__Bacteria; p__Bacteroidetes; c__Bacteroidia; o__Flavobacteriales; f__Weeksellaceae; g__Chryseobacterium\n",
      "  -4068.2176677003777  k__Bacteria; p__Actinobacteria; c__Actinobacteria; o__Micrococcales; f__Dermacoccaceae; g__Flexivirga\n",
      "  -3349.755717821419   k__Bacteria; p__Actinobacteria; c__Actinobacteria; o__Propionibacteriales; f__Nocardioidaceae; g__Marmoricola\n",
      "  -2345.3745668081647  k__Bacteria; p__Bacteroidetes; c__Bacteroidia; o__Cytophagales; f__Hymenobacteraceae; g__Hymenobacter\n",
      "  -2089.425915096312   k__Bacteria; p__Firmicutes; c__Bacilli; o__Lactobacillales; f__Enterococcaceae; g__Enterococcus\n",
      "  -2000.3672344449078  k__Bacteria; p__Actinobacteria; c__Actinobacteria; o__Micrococcales; f__Micrococcales_unclassified; g__Micrococcales_unclassified\n"
     ]
    }
   ],
   "source": [
    "for i in range(len(infected_tax_scores)):\n",
    "    print(f\"Block {i+1}:\")\n",
    "    for tax, score in sorted(infected_tax_scores[i].items(), key=lambda x: x[1], reverse=False)[:10]:\n",
    "        print(f\"  {score:<20}\", tax)"
   ]
  },
  {
   "cell_type": "code",
   "execution_count": 138,
   "metadata": {
    "collapsed": true,
    "jupyter": {
     "outputs_hidden": true
    },
    "tags": []
   },
   "outputs": [
    {
     "name": "stdout",
     "output_type": "stream",
     "text": [
      "25421.730572158984   k__Bacteria; p__Actinobacteria; c__Actinobacteria; o__Corynebacteriales; f__Dietziaceae; g__Dietzia\n",
      "25347.969827241883   k__Bacteria; p__Bacteroidetes; c__Bacteroidia; o__Flavobacteriales; f__Weeksellaceae; g__Chryseobacterium\n",
      "22800.38477185191    k__Bacteria; p__Proteobacteria; c__Alphaproteobacteria; o__Sphingomonadales; f__Sphingomonadaceae; g__Sphingomonas\n",
      "18490.40404027229    k__Bacteria; p__Proteobacteria; c__Alphaproteobacteria; o__Rhodobacterales; f__Rhodobacteraceae; g__Paracoccus\n",
      "17479.145546763088   k__Bacteria; p__Actinobacteria; c__Actinobacteria; o__Micrococcales; f__Intrasporangiaceae; g__Janibacter\n",
      "17460.214500515136   k__Bacteria; p__Proteobacteria; c__Gammaproteobacteria; o__Xanthomonadales; f__Xanthomonadaceae; g__Stenotrophomonas\n",
      "15251.424026017303   k__Bacteria; p__Proteobacteria; c__Gammaproteobacteria; o__Betaproteobacteriales; f__Burkholderiaceae; g__Burkholderiaceae_unclassified\n",
      "10961.486051807444   k__Bacteria; p__Actinobacteria; c__Actinobacteria; o__Corynebacteriales; f__Mycobacteriaceae; g__Mycobacterium\n",
      "10292.896200787043   k__Bacteria; p__Bacteroidetes; c__Bacteroidia; o__Sphingobacteriales; f__Sphingobacteriaceae; g__Sphingobacterium\n",
      "9209.810600278215    k__Bacteria; p__Deinococcus-Thermus; c__Deinococci; o__Deinococcales; f__Deinococcaceae; g__Deinococcus\n"
     ]
    }
   ],
   "source": [
    "for tax, score in sorted(infected_tax_scores_aggregated.items(), key=lambda x: x[1], reverse=True)[:10]:\n",
    "    print(f\"{score:<20}\", tax)"
   ]
  },
  {
   "cell_type": "code",
   "execution_count": 139,
   "metadata": {
    "collapsed": true,
    "jupyter": {
     "outputs_hidden": true
    },
    "tags": []
   },
   "outputs": [
    {
     "name": "stdout",
     "output_type": "stream",
     "text": [
      "-7073.248995484208   k__Bacteria; p__Actinobacteria; c__Actinobacteria; o__Micrococcales; f__Dermacoccaceae; g__Flexivirga\n",
      "-6149.033731295562   k__Bacteria; p__Proteobacteria; c__Gammaproteobacteria; o__Enterobacteriales; f__Enterobacteriaceae; g__Enterobacteriaceae_unclassified\n",
      "-4966.24539246448    k__Bacteria; p__Bacteroidetes; c__Bacteroidia; o__Cytophagales; f__Microscillaceae; g__Siphonobacter\n",
      "-3917.868951035235   k__Bacteria; p__Proteobacteria; c__Gammaproteobacteria; o__Pseudomonadales; f__Moraxellaceae; g__Acinetobacter\n",
      "-3338.9356892235255  k__Bacteria; p__Firmicutes; c__Bacilli; o__Lactobacillales; f__Enterococcaceae; g__Enterococcus\n",
      "-2195.5691362798407  k__Bacteria; p__Actinobacteria; c__Actinobacteria; o__Micrococcales; f__Dermabacteraceae; g__Brachybacterium\n",
      "-2130.1658887135154  k__Bacteria; p__Proteobacteria; c__Gammaproteobacteria; o__Pseudomonadales; f__Pseudomonadaceae; g__Pseudomonas\n",
      "-1824.7077783311634  k__Bacteria; p__Firmicutes; c__Bacilli; o__Bacillales; f__Bacillales_unclassified; g__Bacillales_unclassified\n",
      "-1765.4489464204607  k__Bacteria; p__Firmicutes; c__Erysipelotrichia; o__Erysipelotrichales; f__Erysipelotrichaceae; g__Erysipelothrix\n",
      "-1345.8529198683923  k__Bacteria; p__Firmicutes; c__Bacilli; o__Bacillales; f__Staphylococcaceae; g__Staphylococcus\n"
     ]
    }
   ],
   "source": [
    "for tax, score in sorted(infected_tax_scores_aggregated.items(), key=lambda x: x[1])[:10]:\n",
    "    print(f\"{score:<20}\", tax)"
   ]
  },
  {
   "cell_type": "markdown",
   "metadata": {
    "jp-MarkdownHeadingCollapsed": true,
    "tags": []
   },
   "source": [
    "---\n",
    "\n",
    "## Taxonomy Ranks from Uninfected Samples"
   ]
  },
  {
   "cell_type": "code",
   "execution_count": 140,
   "metadata": {},
   "outputs": [],
   "source": [
    "uninfected_tax_scores_aggregated = defaultdict(int)\n",
    "for i in range(len(uninfected_tax_scores)):\n",
    "    for tax, score in uninfected_tax_scores[i].items():\n",
    "        uninfected_tax_scores_aggregated[tax] += score"
   ]
  },
  {
   "cell_type": "markdown",
   "metadata": {},
   "source": [
    "### Highest Scoring Taxonomies"
   ]
  },
  {
   "cell_type": "code",
   "execution_count": 141,
   "metadata": {
    "collapsed": true,
    "jupyter": {
     "outputs_hidden": true
    },
    "tags": []
   },
   "outputs": [
    {
     "name": "stdout",
     "output_type": "stream",
     "text": [
      "Block 1:\n",
      "  16675.28749017758    k__Bacteria; p__Proteobacteria; c__Alphaproteobacteria; o__Rhizobiales; f__Beijerinckiaceae; g__Methylobacterium\n",
      "  15579.60332364283    k__Bacteria; p__Proteobacteria; c__Gammaproteobacteria; o__Betaproteobacteriales; f__Burkholderiaceae; g__Burkholderiaceae_unclassified\n",
      "  12899.543138138959   k__Bacteria; p__Deinococcus-Thermus; c__Deinococci; o__Deinococcales; f__Deinococcaceae; g__Deinococcus\n",
      "  8724.90535315106     k__Bacteria; p__Proteobacteria; c__Alphaproteobacteria; o__Sphingomonadales; f__Sphingomonadaceae; g__Sphingomonas\n",
      "  8523.17967572985     k__Bacteria; p__Proteobacteria; c__Gammaproteobacteria; o__Xanthomonadales; f__Xanthomonadaceae; g__Stenotrophomonas\n",
      "  5152.115021033601    k__Bacteria; p__Proteobacteria; c__Alphaproteobacteria; o__Rhodobacterales; f__Rhodobacteraceae; g__Paracoccus\n",
      "  3763.2138630217987   k__Bacteria; p__Proteobacteria; c__Gammaproteobacteria; o__Pseudomonadales; f__Pseudomonadaceae; g__Pseudomonas\n",
      "  3514.2616448674926   k__Bacteria; p__Bacteroidetes; c__Bacteroidia; o__Flavobacteriales; f__Weeksellaceae; g__Chryseobacterium\n",
      "  3070.257042789318    k__Bacteria; p__Proteobacteria; c__Gammaproteobacteria; o__Pseudomonadales; f__Moraxellaceae; g__Acinetobacter\n",
      "  2656.9592019953398   k__Bacteria; p__Proteobacteria; c__Alphaproteobacteria; o__Caulobacterales; f__Caulobacteraceae; g__Brevundimonas\n",
      "Block 2:\n",
      "  15445.351573029808   k__Bacteria; p__Proteobacteria; c__Alphaproteobacteria; o__Rhizobiales; f__Beijerinckiaceae; g__Methylobacterium\n",
      "  11771.951599309396   k__Bacteria; p__Bacteroidetes; c__Bacteroidia; o__Flavobacteriales; f__Weeksellaceae; g__Chryseobacterium\n",
      "  11150.071751588408   k__Bacteria; p__Bacteroidetes; c__Bacteroidia; o__Cytophagales; f__Hymenobacteraceae; g__Hymenobacter\n",
      "  8467.968947594101    k__Bacteria; p__Actinobacteria; c__Actinobacteria; o__Micrococcales; f__Intrasporangiaceae; g__Janibacter\n",
      "  6412.345109239576    k__Bacteria; p__Actinobacteria; c__Actinobacteria; o__Propionibacteriales; f__Nocardioidaceae; g__Nocardioides\n",
      "  6234.380597149445    k__Bacteria; p__Proteobacteria; c__Gammaproteobacteria; o__Enterobacteriales; f__Enterobacteriaceae; g__Enterobacteriaceae_unclassified\n",
      "  5789.954827265576    k__Bacteria; p__Actinobacteria; c__Actinobacteria; o__Micrococcales; f__Microbacteriaceae; g__Microbacteriaceae_unclassified\n",
      "  5439.204022676417    k__Bacteria; p__Proteobacteria; c__Alphaproteobacteria; o__Sphingomonadales; f__Sphingomonadaceae; g__Sphingomonas\n",
      "  5249.889524236326    k__Bacteria; p__Actinobacteria; c__Actinobacteria; o__Micrococcales; f__Micrococcales_unclassified; g__Micrococcales_unclassified\n",
      "  4214.1498298830575   k__Bacteria; p__Proteobacteria; c__Gammaproteobacteria; o__Xanthomonadales; f__Xanthomonadaceae; g__Stenotrophomonas\n",
      "Block 3:\n",
      "  32208.275652840042   k__Bacteria; p__Proteobacteria; c__Gammaproteobacteria; o__Betaproteobacteriales; f__Burkholderiaceae; g__Burkholderiaceae_unclassified\n",
      "  26626.771912819255   k__Bacteria; p__Deinococcus-Thermus; c__Deinococci; o__Deinococcales; f__Deinococcaceae; g__Deinococcus\n",
      "  13463.961049651309   k__Bacteria; p__Proteobacteria; c__Alphaproteobacteria; o__Sphingomonadales; f__Sphingomonadaceae; g__Sphingomonas\n",
      "  12973.511963573425   k__Bacteria; p__Proteobacteria; c__Gammaproteobacteria; o__Xanthomonadales; f__Xanthomonadaceae; g__Stenotrophomonas\n",
      "  12129.416367297568   k__Bacteria; p__Proteobacteria; c__Gammaproteobacteria; o__Enterobacteriales; f__Enterobacteriaceae; g__Enterobacteriaceae_unclassified\n",
      "  10726.799843970335   k__Bacteria; p__Proteobacteria; c__Alphaproteobacteria; o__Rhizobiales; f__Beijerinckiaceae; g__Methylobacterium\n",
      "  9983.127199677048    k__Bacteria; p__Bacteroidetes; c__Bacteroidia; o__Flavobacteriales; f__Weeksellaceae; g__Chryseobacterium\n",
      "  7627.358013375949    k__Bacteria; p__Actinobacteria; c__Thermoleophilia; o__Solirubrobacterales; f__67-14; g__67-14_unclassified\n",
      "  6802.887723801282    k__Bacteria; p__Actinobacteria; c__Actinobacteria; o__Micrococcales; f__Intrasporangiaceae; g__Janibacter\n",
      "  5952.6984388637575   k__Bacteria; p__Proteobacteria; c__Alphaproteobacteria; o__Sphingomonadales; f__Sphingomonadaceae; g__Sphingomonadaceae_unclassified\n",
      "Block 4:\n",
      "  34205.39676185872    k__Bacteria; p__Actinobacteria; c__Actinobacteria; o__Corynebacteriales; f__Mycobacteriaceae; g__Mycobacterium\n",
      "  24479.752677444623   k__Bacteria; p__Actinobacteria; c__Actinobacteria; o__Corynebacteriales; f__Dietziaceae; g__Dietzia\n",
      "  18518.974943394263   k__Bacteria; p__Actinobacteria; c__Actinobacteria; o__Propionibacteriales; f__Nocardioidaceae; g__Nocardioides\n",
      "  15537.32045224411    k__Bacteria; p__Proteobacteria; c__Gammaproteobacteria; o__Enterobacteriales; f__Enterobacteriaceae; g__Enterobacteriaceae_unclassified\n",
      "  14669.698317199325   k__Bacteria; p__Actinobacteria; c__Actinobacteria; o__Micrococcales; f__Microbacteriaceae; g__Microbacteriaceae_unclassified\n",
      "  14521.42783102375    k__Bacteria; p__Proteobacteria; c__Alphaproteobacteria; o__Sphingomonadales; f__Sphingomonadaceae; g__Sphingomonas\n",
      "  13420.79513215812    k__Bacteria; p__Proteobacteria; c__Gammaproteobacteria; o__Enterobacteriales; f__Enterobacteriaceae; g__Morganella\n",
      "  13237.204871776403   k__Bacteria; p__Proteobacteria; c__Gammaproteobacteria; o__Xanthomonadales; f__Xanthomonadaceae; g__Stenotrophomonas\n",
      "  9843.250387655413    k__Bacteria; p__Bacteroidetes; c__Bacteroidia; o__Flavobacteriales; f__Weeksellaceae; g__Chryseobacterium\n",
      "  9167.593633612158    k__Bacteria; p__Actinobacteria; c__Actinobacteria; o__Corynebacteriales; f__Nocardiaceae; g__Williamsia\n",
      "Block 5:\n",
      "  35139.215149818716   k__Bacteria; p__Proteobacteria; c__Gammaproteobacteria; o__Betaproteobacteriales; f__Burkholderiaceae; g__Burkholderiaceae_unclassified\n",
      "  14048.932999295494   k__Bacteria; p__Proteobacteria; c__Alphaproteobacteria; o__Sphingomonadales; f__Sphingomonadaceae; g__Sphingomonas\n",
      "  11883.75666708619    k__Bacteria; p__Proteobacteria; c__Gammaproteobacteria; o__Xanthomonadales; f__Xanthomonadaceae; g__Stenotrophomonas\n",
      "  7217.315706518127    k__Bacteria; p__Proteobacteria; c__Gammaproteobacteria; o__Betaproteobacteriales; f__Burkholderiaceae; g__Massilia\n",
      "  5432.0011529634985   k__Bacteria; p__Proteobacteria; c__Alphaproteobacteria; o__Sphingomonadales; f__Sphingomonadaceae; g__Sphingomonadaceae_unclassified\n",
      "  5132.698268298394    k__Bacteria; p__Proteobacteria; c__Gammaproteobacteria; o__Enterobacteriales; f__Enterobacteriaceae; g__Enterobacteriaceae_unclassified\n",
      "  4307.218004873352    k__Bacteria; p__Proteobacteria; c__Gammaproteobacteria; o__Pseudomonadales; f__Moraxellaceae; g__Acinetobacter\n",
      "  4006.1483428154133   k__Bacteria; p__Bacteroidetes; c__Bacteroidia; o__Sphingobacteriales; f__Sphingobacteriaceae; g__Sphingobacterium\n",
      "  3734.8463523878895   k__Bacteria; p__Proteobacteria; c__Alphaproteobacteria; o__Rhizobiales; f__Xanthobacteraceae; g__Bradyrhizobium\n",
      "  3677.8873795605573   k__Bacteria; p__Actinobacteria; c__Actinobacteria; o__Streptomycetales; f__Streptomycetaceae; g__Streptomyces\n",
      "Block 6:\n",
      "  16468.241797953367   k__Bacteria; p__Actinobacteria; c__Actinobacteria; o__Micrococcales; f__Microbacteriaceae; g__Microbacteriaceae_unclassified\n",
      "  16089.25659571229    k__Bacteria; p__Actinobacteria; c__Actinobacteria; o__Propionibacteriales; f__Nocardioidaceae; g__Nocardioides\n",
      "  12378.144291578661   k__Bacteria; p__Actinobacteria; c__Actinobacteria; o__Propionibacteriales; f__Nocardioidaceae; g__Marmoricola\n",
      "  11057.572267903348   k__Bacteria; p__Actinobacteria; c__Actinobacteria; o__Micrococcales; f__Intrasporangiaceae; g__Janibacter\n",
      "  7107.001774197755    k__Bacteria; p__Actinobacteria; c__Actinobacteria; o__Micrococcales; f__Micrococcales_unclassified; g__Micrococcales_unclassified\n",
      "  6018.898839293458    k__Bacteria; p__Proteobacteria; c__Alphaproteobacteria; o__Rhodobacterales; f__Rhodobacteraceae; g__Paracoccus\n",
      "  4858.09900863214     k__Bacteria; p__Actinobacteria; c__Actinobacteria; o__Micrococcales; f__Intrasporangiaceae; g__Intrasporangiaceae_unclassified\n",
      "  4386.83952461135     k__Bacteria; p__Actinobacteria; c__Actinobacteria; o__Streptomycetales; f__Streptomycetaceae; g__Streptomyces\n",
      "  4385.990013657735    k__Bacteria; p__Actinobacteria; c__Actinobacteria; o__Corynebacteriales; f__Mycobacteriaceae; g__Mycobacterium\n",
      "  4081.920713542101    k__Bacteria; p__Actinobacteria; c__Actinobacteria; o__Corynebacteriales; f__Corynebacteriales_unclassified; g__Corynebacteriales_unclassified\n",
      "Block 7:\n",
      "  20379.124199476595   k__Bacteria; p__Actinobacteria; c__Actinobacteria; o__Propionibacteriales; f__Nocardioidaceae; g__Nocardioides\n",
      "  12268.972405792174   k__Bacteria; p__Actinobacteria; c__Actinobacteria; o__Propionibacteriales; f__Nocardioidaceae; g__Marmoricola\n",
      "  9497.804750375604    k__Bacteria; p__Actinobacteria; c__Actinobacteria; o__Corynebacteriales; f__Dietziaceae; g__Dietzia\n",
      "  6690.039498824234    k__Bacteria; p__Bacteroidetes; c__Bacteroidia; o__Bacteroidales; f__Dysgonomonadaceae; g__Proteiniphilum\n",
      "  5753.661787126496    k__Bacteria; p__Actinobacteria; c__Actinobacteria; o__Micrococcales; f__Intrasporangiaceae; g__Janibacter\n",
      "  5053.410646115404    k__Bacteria; p__Actinobacteria; c__Actinobacteria; o__Corynebacteriales; f__Corynebacteriales_unclassified; g__Corynebacteriales_unclassified\n",
      "  4959.924648694006    k__Bacteria; p__Actinobacteria; c__Actinobacteria; o__Corynebacteriales; f__Nocardiaceae; g__Rhodococcus\n",
      "  4657.713381383866    k__Bacteria; p__Deinococcus-Thermus; c__Deinococci; o__Deinococcales; f__Deinococcaceae; g__Deinococcus\n",
      "  4593.684581684027    k__Bacteria; p__Bacteroidetes; c__Bacteroidia; o__Sphingobacteriales; f__Sphingobacteriaceae; g__Pedobacter\n",
      "  4586.45243188621     k__Bacteria; p__Bacteroidetes; c__Bacteroidia; o__Cytophagales; f__Hymenobacteraceae; g__Hymenobacter\n",
      "Block 8:\n",
      "  54664.420961106      k__Bacteria; p__Proteobacteria; c__Gammaproteobacteria; o__Betaproteobacteriales; f__Burkholderiaceae; g__Burkholderiaceae_unclassified\n",
      "  25994.822237169887   k__Bacteria; p__Proteobacteria; c__Alphaproteobacteria; o__Sphingomonadales; f__Sphingomonadaceae; g__Sphingomonas\n",
      "  15113.140000460773   k__Bacteria; p__Proteobacteria; c__Alphaproteobacteria; o__Rhizobiales; f__Xanthobacteraceae; g__Bradyrhizobium\n",
      "  12276.997475821874   k__Bacteria; p__Proteobacteria; c__Gammaproteobacteria; o__Enterobacteriales; f__Enterobacteriaceae; g__Morganella\n",
      "  11803.159232685804   k__Bacteria; p__Proteobacteria; c__Alphaproteobacteria; o__Rhodobacterales; f__Rhodobacteraceae; g__Paracoccus\n",
      "  11384.839350170996   k__Bacteria; p__Bacteria_unclassified; c__Bacteria_unclassified; o__Bacteria_unclassified; f__Bacteria_unclassified; g__Bacteria_unclassified\n",
      "  10074.537653215933   k__Bacteria; p__Proteobacteria; c__Gammaproteobacteria; o__Xanthomonadales; f__Xanthomonadaceae; g__Thermomonas\n",
      "  8578.249578776831    k__Bacteria; p__Actinobacteria; c__Actinobacteria; o__Corynebacteriales; f__Dietziaceae; g__Dietzia\n",
      "  6400.780970177371    k__Bacteria; p__Proteobacteria; c__Gammaproteobacteria; o__Xanthomonadales; f__Xanthomonadaceae; g__Stenotrophomonas\n",
      "  5882.07942580779     k__Bacteria; p__Proteobacteria; c__Alphaproteobacteria; o__Sphingomonadales; f__Sphingomonadaceae; g__Sphingomonadaceae_unclassified\n"
     ]
    }
   ],
   "source": [
    "for i in range(len(uninfected_tax_scores)):\n",
    "    print(f\"Block {i+1}:\")\n",
    "    for tax, score in sorted(uninfected_tax_scores[i].items(), key=lambda x: x[1], reverse=True)[:10]:\n",
    "        print(f\"  {score:<20}\", tax)"
   ]
  },
  {
   "cell_type": "markdown",
   "metadata": {},
   "source": [
    "### Lowest Scoring Taxonomies"
   ]
  },
  {
   "cell_type": "code",
   "execution_count": 142,
   "metadata": {
    "collapsed": true,
    "jupyter": {
     "outputs_hidden": true
    },
    "tags": []
   },
   "outputs": [
    {
     "name": "stdout",
     "output_type": "stream",
     "text": [
      "Block 1:\n",
      "  -11180.662124483093  k__Bacteria; p__Actinobacteria; c__Actinobacteria; o__Propionibacteriales; f__Nocardioidaceae; g__Nocardioides\n",
      "  -6576.060910280052   k__Bacteria; p__Actinobacteria; c__Actinobacteria; o__Propionibacteriales; f__Nocardioidaceae; g__Marmoricola\n",
      "  -6267.492902041994   k__Bacteria; p__Actinobacteria; c__Actinobacteria; o__Micrococcales; f__Intrasporangiaceae; g__Janibacter\n",
      "  -6001.861031187719   k__Bacteria; p__Actinobacteria; c__Actinobacteria; o__Micrococcales; f__Microbacteriaceae; g__Microbacteriaceae_unclassified\n",
      "  -5016.2413357845135  k__Bacteria; p__Actinobacteria; c__Actinobacteria; o__Micrococcales; f__Micrococcales_unclassified; g__Micrococcales_unclassified\n",
      "  -4500.801699731155   k__Bacteria; p__Actinobacteria; c__Actinobacteria; o__Propionibacteriales; f__Nocardioidaceae; g__Aeromicrobium\n",
      "  -3732.5436041484522  k__Bacteria; p__Actinobacteria; c__Actinobacteria; o__Corynebacteriales; f__Mycobacteriaceae; g__Mycobacterium\n",
      "  -3463.2580831765354  k__Bacteria; p__Actinobacteria; c__Actinobacteria; o__Pseudonocardiales; f__Pseudonocardiaceae; g__Actinomycetospora\n",
      "  -3299.451942915378   k__Bacteria; p__Actinobacteria; c__Actinobacteria; o__Corynebacteriales; f__Corynebacteriales_unclassified; g__Corynebacteriales_unclassified\n",
      "  -2402.835384189395   k__Bacteria; p__Actinobacteria; c__Actinobacteria; o__Pseudonocardiales; f__Pseudonocardiaceae; g__Pseudonocardia\n",
      "Block 2:\n",
      "  -3776.1496164179293  k__Bacteria; p__Proteobacteria; c__Gammaproteobacteria; o__Betaproteobacteriales; f__Burkholderiaceae; g__Burkholderiaceae_unclassified\n",
      "  -1881.161253684514   k__Bacteria; p__Deinococcus-Thermus; c__Deinococci; o__Deinococcales; f__Deinococcaceae; g__Deinococcus\n",
      "  -1397.8715346166177  k__Bacteria; p__Proteobacteria; c__Gammaproteobacteria; o__Pseudomonadales; f__Moraxellaceae; g__Acinetobacter\n",
      "  -908.9210765680373   k__Bacteria; p__Firmicutes; c__Bacilli; o__Bacillales; f__Bacillales_unclassified; g__Bacillales_unclassified\n",
      "  -246.34959670660257  k__Bacteria; p__Proteobacteria; c__Alphaproteobacteria; o__Sphingomonadales; f__Sphingomonadaceae; g__Novosphingobium\n",
      "  -189.43932155761377  k__Bacteria; p__Proteobacteria; c__Alphaproteobacteria; o__Rhizobiales; f__Rhizobiaceae; g__Allorhizobium-Neorhizobium-Pararhizobium-Rhizobium\n",
      "  -129.8382996325329   k__Bacteria; p__Proteobacteria; c__Gammaproteobacteria; o__Betaproteobacteriales; f__Burkholderiaceae; g__Burkholderia-Caballeronia-Paraburkholderia\n",
      "  -117.94620886925168  k__Bacteria; p__Firmicutes; c__Bacilli; o__Bacillales; f__Bacillaceae; g__Bacillus\n",
      "  -115.27979109712503  k__Bacteria; p__Epsilonbacteraeota; c__Campylobacteria; o__Campylobacterales; f__Helicobacteraceae; g__Helicobacter\n",
      "  -114.5321252994204   k__Bacteria; p__Firmicutes; c__Clostridia; o__Clostridiales; f__Clostridiaceae_1; g__Clostridium_sensu_stricto_1\n",
      "Block 3:\n",
      "  -971.4043109398413   k__Bacteria; p__Proteobacteria; c__Gammaproteobacteria; o__Pseudomonadales; f__Pseudomonadaceae; g__Pseudomonas\n",
      "  -63.55732980172358   k__Bacteria; p__Actinobacteria; c__Actinobacteria; o__Micrococcales; f__Cellulomonadaceae; g__Cellulomonas\n",
      "  -49.34490313321953   k__Bacteria; p__Firmicutes; c__Clostridia; o__Clostridiales; f__Peptostreptococcaceae; g__Clostridioides\n",
      "  -28.02727444249511   k__Bacteria; p__Proteobacteria; c__Gammaproteobacteria; o__Pseudomonadales; f__Pseudomonadaceae; g__Pseudomonadaceae_unclassified\n",
      "  -24.61069423414932   k__Bacteria; p__Actinobacteria; c__Actinobacteria; o__Micrococcales; f__Beutenbergiaceae; g__Beutenbergiaceae_unclassified\n",
      "  -20.95570334246332   k__Bacteria; p__Actinobacteria; c__Actinobacteria; o__Micrococcales; f__Microbacteriaceae; g__Schumannella\n",
      "  -15.988642149672788  k__Bacteria; p__Actinobacteria; c__Actinobacteria; o__Micrococcales; f__Microbacteriaceae; g__Agromyces\n",
      "  -14.083549933480844  k__Bacteria; p__Firmicutes; c__Bacilli; o__Bacillales; f__Bacillaceae; g__Fictibacillus\n",
      "  -8.718033538275689   k__Bacteria; p__Actinobacteria; c__Actinobacteria; o__Micrococcales; f__Microbacteriaceae; g__Gryllotalpicola\n",
      "  -7.751836190055826   k__Bacteria; p__Firmicutes; c__Bacilli; o__Bacillales; f__Family_XI; g__Gemella\n",
      "Block 4:\n",
      "  -4759.039616748563   k__Bacteria; p__Proteobacteria; c__Gammaproteobacteria; o__Pseudomonadales; f__Moraxellaceae; g__Acinetobacter\n",
      "  -1410.6030682931826  k__Bacteria; p__Proteobacteria; c__Alphaproteobacteria; o__Rhizobiales; f__Beijerinckiaceae; g__Methylobacterium\n",
      "  -954.6247337886784   k__Bacteria; p__Firmicutes; c__Bacilli; o__Bacillales; f__Staphylococcaceae; g__Staphylococcus\n",
      "  -603.815724883385    k__Bacteria; p__Proteobacteria; c__Gammaproteobacteria; o__Pseudomonadales; f__Pseudomonadaceae; g__Pseudomonas\n",
      "  -536.5109738504444   k__Bacteria; p__Proteobacteria; c__Gammaproteobacteria; o__Pseudomonadales; f__Moraxellaceae; g__Alkanindiges\n",
      "  -485.8491172971527   k__Bacteria; p__Proteobacteria; c__Gammaproteobacteria; o__Betaproteobacteriales; f__Burkholderiaceae; g__Burkholderiaceae_unclassified\n",
      "  -448.5276107994182   k__Bacteria; p__Firmicutes; c__Erysipelotrichia; o__Erysipelotrichales; f__Erysipelotrichaceae; g__Erysipelotrichaceae_unclassified\n",
      "  -292.4354343173051   k__Bacteria; p__Firmicutes; c__Bacilli; o__Lactobacillales; f__Enterococcaceae; g__Vagococcus\n",
      "  -273.80724689576255  k__Bacteria; p__Firmicutes; c__Clostridia; o__Clostridiales; f__Clostridiaceae_1; g__Clostridiaceae_1_unclassified\n",
      "  -248.8758295348873   k__Bacteria; p__Proteobacteria; c__Alphaproteobacteria; o__Rhizobiales; f__Beijerinckiaceae; g__1174-901-12\n",
      "Block 5:\n",
      "  -8458.559626242024   k__Bacteria; p__Deinococcus-Thermus; c__Deinococci; o__Deinococcales; f__Deinococcaceae; g__Deinococcus\n",
      "  -4255.07826011676    k__Bacteria; p__Proteobacteria; c__Gammaproteobacteria; o__Enterobacteriales; f__Enterobacteriaceae; g__Morganella\n",
      "  -2707.9501666383444  k__Bacteria; p__Patescibacteria; c__Saccharimonadia; o__Saccharimonadales; f__Saccharimonadales_fa; g__Saccharimonadales_unclassified\n",
      "  -2351.6770159739044  k__Bacteria; p__Bacteria_unclassified; c__Bacteria_unclassified; o__Bacteria_unclassified; f__Bacteria_unclassified; g__Bacteria_unclassified\n",
      "  -2294.4242613730894  k__Bacteria; p__Bacteroidetes; c__Bacteroidia; o__Flavobacteriales; f__Flavobacteriaceae; g__Flavobacterium\n",
      "  -1847.1084059030857  k__Bacteria; p__Fusobacteria; c__Fusobacteriia; o__Fusobacteriales; f__Fusobacteriaceae; g__Fusobacterium\n",
      "  -1638.1110258261099  k__Bacteria; p__Proteobacteria; c__Gammaproteobacteria; o__R7C24; f__R7C24_fa; g__R7C24_unclassified\n",
      "  -1621.18063831884    k__Bacteria; p__Actinobacteria; c__Thermoleophilia; o__Solirubrobacterales; f__67-14; g__67-14_unclassified\n",
      "  -1529.003537943598   k__Bacteria; p__Proteobacteria; c__Alphaproteobacteria; o__Caulobacterales; f__Caulobacteraceae; g__Brevundimonas\n",
      "  -1361.461263901595   k__Bacteria; p__Actinobacteria; c__Actinobacteria; o__Micrococcales; f__Intrasporangiaceae; g__Phycicoccus\n",
      "Block 6:\n",
      "  -14653.628332165767  k__Bacteria; p__Proteobacteria; c__Gammaproteobacteria; o__Pseudomonadales; f__Moraxellaceae; g__Acinetobacter\n",
      "  -13203.567288143595  k__Bacteria; p__Proteobacteria; c__Alphaproteobacteria; o__Sphingomonadales; f__Sphingomonadaceae; g__Sphingomonas\n",
      "  -12725.231894234861  k__Bacteria; p__Proteobacteria; c__Alphaproteobacteria; o__Rhizobiales; f__Beijerinckiaceae; g__Methylobacterium\n",
      "  -10438.735812208157  k__Bacteria; p__Deinococcus-Thermus; c__Deinococci; o__Deinococcales; f__Deinococcaceae; g__Deinococcus\n",
      "  -7808.4751249035735  k__Bacteria; p__Bacteroidetes; c__Bacteroidia; o__Cytophagales; f__Hymenobacteraceae; g__Hymenobacter\n",
      "  -5777.966515241827   k__Bacteria; p__Proteobacteria; c__Gammaproteobacteria; o__Enterobacteriales; f__Enterobacteriaceae; g__Enterobacteriaceae_unclassified\n",
      "  -3451.4096212183467  k__Bacteria; p__Proteobacteria; c__Alphaproteobacteria; o__Caulobacterales; f__Caulobacteraceae; g__Brevundimonas\n",
      "  -3384.5369502148365  k__Bacteria; p__Acidobacteria; c__Subgroup_6; o__Subgroup_6_or; f__Subgroup_6_fa; g__Subgroup_6_unclassified\n",
      "  -3080.016705901922   k__Bacteria; p__Proteobacteria; c__Alphaproteobacteria; o__Acetobacterales; f__Acetobacteraceae; g__Acetobacteraceae_unclassified\n",
      "  -3049.3199520241637  k__Bacteria; p__Firmicutes; c__Erysipelotrichia; o__Erysipelotrichales; f__Erysipelotrichaceae; g__Erysipelotrichaceae_unclassified\n",
      "Block 7:\n",
      "  -62836.39297844308   k__Bacteria; p__Proteobacteria; c__Gammaproteobacteria; o__Betaproteobacteriales; f__Burkholderiaceae; g__Burkholderiaceae_unclassified\n",
      "  -25191.487759712956  k__Bacteria; p__Proteobacteria; c__Gammaproteobacteria; o__Pseudomonadales; f__Pseudomonadaceae; g__Pseudomonas\n",
      "  -18459.688459358968  k__Bacteria; p__Proteobacteria; c__Gammaproteobacteria; o__Xanthomonadales; f__Xanthomonadaceae; g__Stenotrophomonas\n",
      "  -8448.194262708337   k__Bacteria; p__Proteobacteria; c__Gammaproteobacteria; o__Enterobacteriales; f__Enterobacteriaceae; g__Enterobacteriaceae_unclassified\n",
      "  -7853.9518216156575  k__Bacteria; p__Bacteroidetes; c__Bacteroidia; o__Flavobacteriales; f__Weeksellaceae; g__Chryseobacterium\n",
      "  -4339.792781533637   k__Bacteria; p__Proteobacteria; c__Gammaproteobacteria; o__Enterobacteriales; f__Enterobacteriaceae; g__Morganella\n",
      "  -3983.788077358345   k__Bacteria; p__Actinobacteria; c__Actinobacteria; o__Micrococcales; f__Microbacteriaceae; g__Microbacteriaceae_unclassified\n",
      "  -3148.582252115477   k__Bacteria; p__Actinobacteria; c__Actinobacteria; o__Micrococcales; f__Brevibacteriaceae; g__Brevibacterium\n",
      "  -3144.286592009701   k__Bacteria; p__Proteobacteria; c__Gammaproteobacteria; o__Xanthomonadales; f__Xanthomonadaceae; g__Thermomonas\n",
      "  -3039.661076512005   k__Bacteria; p__Patescibacteria; c__Saccharimonadia; o__Saccharimonadales; f__Saccharimonadales_fa; g__Saccharimonadales_unclassified\n",
      "Block 8:\n",
      "  -27681.87649216801   k__Bacteria; p__Proteobacteria; c__Gammaproteobacteria; o__Enterobacteriales; f__Enterobacteriaceae; g__Enterobacteriaceae_unclassified\n",
      "  -22738.504653952044  k__Bacteria; p__Actinobacteria; c__Actinobacteria; o__Propionibacteriales; f__Nocardioidaceae; g__Nocardioides\n",
      "  -22668.021893778558  k__Bacteria; p__Deinococcus-Thermus; c__Deinococci; o__Deinococcales; f__Deinococcaceae; g__Deinococcus\n",
      "  -13953.831076429224  k__Bacteria; p__Firmicutes; c__Bacilli; o__Bacillales; f__Staphylococcaceae; g__Staphylococcus\n",
      "  -13149.017471724568  k__Bacteria; p__Actinobacteria; c__Actinobacteria; o__Propionibacteriales; f__Nocardioidaceae; g__Marmoricola\n",
      "  -12157.178286793665  k__Bacteria; p__Bacteroidetes; c__Bacteroidia; o__Cytophagales; f__Microscillaceae; g__Siphonobacter\n",
      "  -10372.376908039296  k__Bacteria; p__Bacteroidetes; c__Bacteroidia; o__Flavobacteriales; f__Weeksellaceae; g__Chryseobacterium\n",
      "  -8813.486798940368   k__Bacteria; p__Actinobacteria; c__Actinobacteria; o__Micrococcales; f__Micrococcales_unclassified; g__Micrococcales_unclassified\n",
      "  -7613.667646320254   k__Bacteria; p__Actinobacteria; c__Actinobacteria; o__Micrococcales; f__Microbacteriaceae; g__Microbacteriaceae_unclassified\n",
      "  -7399.723468181286   k__Bacteria; p__Proteobacteria; c__Alphaproteobacteria; o__Sphingomonadales; f__Sphingomonadaceae; g__Novosphingobium\n"
     ]
    }
   ],
   "source": [
    "for i in range(len(uninfected_tax_scores)):\n",
    "    print(f\"Block {i+1}:\")\n",
    "    for tax, score in sorted(uninfected_tax_scores[i].items(), key=lambda x: x[1], reverse=False)[:10]:\n",
    "        print(f\"  {score:<20}\", tax)"
   ]
  },
  {
   "cell_type": "markdown",
   "metadata": {},
   "source": [
    "### Top Taxonomies"
   ]
  },
  {
   "cell_type": "code",
   "execution_count": 143,
   "metadata": {
    "collapsed": true,
    "jupyter": {
     "outputs_hidden": true
    },
    "tags": []
   },
   "outputs": [
    {
     "name": "stdout",
     "output_type": "stream",
     "text": [
      "70823.93433163984    k__Bacteria; p__Proteobacteria; c__Gammaproteobacteria; o__Betaproteobacteriales; f__Burkholderiaceae; g__Burkholderiaceae_unclassified\n",
      "69345.48313297608    k__Bacteria; p__Proteobacteria; c__Alphaproteobacteria; o__Sphingomonadales; f__Sphingomonadaceae; g__Sphingomonas\n",
      "51781.4793739579     k__Bacteria; p__Actinobacteria; c__Actinobacteria; o__Corynebacteriales; f__Dietziaceae; g__Dietzia\n",
      "46239.36570856147    k__Bacteria; p__Actinobacteria; c__Actinobacteria; o__Corynebacteriales; f__Mycobacteriaceae; g__Mycobacterium\n",
      "41376.72902501707    k__Bacteria; p__Proteobacteria; c__Gammaproteobacteria; o__Xanthomonadales; f__Xanthomonadaceae; g__Stenotrophomonas\n",
      "32720.840502956828   k__Bacteria; p__Actinobacteria; c__Actinobacteria; o__Propionibacteriales; f__Nocardioidaceae; g__Nocardioides\n",
      "31112.61233645914    k__Bacteria; p__Proteobacteria; c__Alphaproteobacteria; o__Rhodobacterales; f__Rhodobacteraceae; g__Paracoccus\n",
      "28973.65386836531    k__Bacteria; p__Actinobacteria; c__Actinobacteria; o__Micrococcales; f__Intrasporangiaceae; g__Janibacter\n",
      "28851.91393449967    k__Bacteria; p__Proteobacteria; c__Alphaproteobacteria; o__Rhizobiales; f__Beijerinckiaceae; g__Methylobacterium\n",
      "22534.453906421895   k__Bacteria; p__Proteobacteria; c__Alphaproteobacteria; o__Sphingomonadales; f__Sphingomonadaceae; g__Sphingomonadaceae_unclassified\n"
     ]
    }
   ],
   "source": [
    "for tax, score in sorted(uninfected_tax_scores_aggregated.items(), key=lambda x: x[1], reverse=True)[:10]:\n",
    "    print(f\"{score:<20}\", tax)"
   ]
  },
  {
   "cell_type": "code",
   "execution_count": 144,
   "metadata": {
    "collapsed": true,
    "jupyter": {
     "outputs_hidden": true
    },
    "tags": []
   },
   "outputs": [
    {
     "name": "stdout",
     "output_type": "stream",
     "text": [
      "-21403.425309543898  k__Bacteria; p__Proteobacteria; c__Gammaproteobacteria; o__Pseudomonadales; f__Pseudomonadaceae; g__Pseudomonas\n",
      "-12435.105294213376  k__Bacteria; p__Firmicutes; c__Bacilli; o__Bacillales; f__Staphylococcaceae; g__Staphylococcus\n",
      "-9408.524057170556   k__Bacteria; p__Proteobacteria; c__Gammaproteobacteria; o__Pseudomonadales; f__Moraxellaceae; g__Acinetobacter\n",
      "-8931.18829552823    k__Bacteria; p__Firmicutes; c__Bacilli; o__Lactobacillales; f__Enterococcaceae; g__Enterococcus\n",
      "-7033.072494585141   k__Bacteria; p__Actinobacteria; c__Actinobacteria; o__Micrococcales; f__Dermacoccaceae; g__Flexivirga\n",
      "-6451.29598414839    k__Bacteria; p__Proteobacteria; c__Alphaproteobacteria; o__Sphingomonadales; f__Sphingomonadaceae; g__Novosphingobium\n",
      "-5854.8128475351505  k__Bacteria; p__Firmicutes; c__Bacilli; o__Bacillales; f__Bacillales_unclassified; g__Bacillales_unclassified\n",
      "-4986.636946670838   k__Bacteria; p__Proteobacteria; c__Gammaproteobacteria; o__Enterobacteriales; f__Enterobacteriaceae; g__Enterobacteriaceae_unclassified\n",
      "-4960.411403840133   k__Bacteria; p__Bacteroidetes; c__Bacteroidia; o__Cytophagales; f__Microscillaceae; g__Siphonobacter\n",
      "-4610.4469197099515  k__Bacteria; p__Actinobacteria; c__Actinobacteria; o__Micrococcales; f__Dermabacteraceae; g__Brachybacterium\n"
     ]
    }
   ],
   "source": [
    "for tax, score in sorted(uninfected_tax_scores_aggregated.items(), key=lambda x: x[1])[:10]:\n",
    "    print(f\"{score:<20}\", tax)"
   ]
  },
  {
   "cell_type": "markdown",
   "metadata": {},
   "source": [
    "## Attention Attribution"
   ]
  },
  {
   "cell_type": "code",
   "execution_count": 48,
   "metadata": {},
   "outputs": [],
   "source": [
    "from numba import njit\n",
    "import settransformer as st\n",
    "\n",
    "from deepdna.nn.data_generators import SequenceGenerator"
   ]
  },
  {
   "cell_type": "code",
   "execution_count": 49,
   "metadata": {},
   "outputs": [],
   "source": [
    "attrs = None"
   ]
  },
  {
   "cell_type": "code",
   "execution_count": 113,
   "metadata": {},
   "outputs": [],
   "source": [
    "def find_mha_layers(model):\n",
    "    result = []\n",
    "    for layer in model.layers:\n",
    "        if isinstance(layer, st.SetAttentionBlock):\n",
    "            result.append(layer.att)\n",
    "        elif isinstance(layer, st.InducedSetAttentionBlock):\n",
    "            result.append(layer.mab2.att)\n",
    "        elif isinstance(layer, st.InducedSetEncoder):\n",
    "            result.append(layer.mab.att)\n",
    "        elif isinstance(layer, tf.keras.Model):\n",
    "            result += find_mha_layers(layer)\n",
    "    return result\n",
    "\n",
    "@njit\n",
    "def compute_token_attributions(attrs_by_layer):\n",
    "    \"\"\"\n",
    "    Compute the attribution scores by token.\n",
    "    \"\"\"\n",
    "    num_tokens = attrs_by_layer.shape[-1]\n",
    "    attr_all = np.zeros(num_tokens)\n",
    "    for i in range(num_tokens):\n",
    "        for l in range(attrs_by_layer.shape[0]):\n",
    "            for j in range(num_tokens):\n",
    "                if j == i:\n",
    "                    continue\n",
    "                attr_all[i] += attrs_by_layer[l,i,j]\n",
    "    return attr_all\n",
    "\n",
    "def compute_attention_attribution_factory(call):\n",
    "\n",
    "    if hasattr(call, \"__iter__\"):\n",
    "        # Shift attention\n",
    "        call_a, call_b = call\n",
    "        @tf.function\n",
    "        def compute_attention_attribution(x, mha_layers, integration_steps=20):\n",
    "            # Initialize attention attribution weights\n",
    "            for (layer_a, layer_b) in mha_layers:\n",
    "                layer_a.enable_attribution()\n",
    "                layer_b.enable_attribution()\n",
    "                layer_a._alpha.assign([1.0]*layer_a.num_heads)\n",
    "                layer_b._alpha.assign([1.0]*layer_b.num_heads)\n",
    "            # Get the gradient shapes using a single call\n",
    "            shapes = []\n",
    "            _, scores = call_a(x)\n",
    "            for layer_scores in scores: # [batch_index, head_index, n, n]\n",
    "                batch_size = tf.shape(layer_scores)[0]\n",
    "                n = tf.shape(layer_scores)[2]\n",
    "                shapes.append((batch_size, n, n))\n",
    "            # Compute attribution scores\n",
    "            attrs = []\n",
    "            for layer_index, (layer_a, layer_b) in enumerate(mha_layers):\n",
    "                attrs.append([])\n",
    "                for head in range(layer_a.num_heads):\n",
    "                    grad_sum_a = tf.zeros(shapes[layer_index])\n",
    "                    grad_sum_b = tf.zeros(shapes[layer_index])\n",
    "                    for alpha in tf.linspace(0.0, 1.0, integration_steps):\n",
    "                        layer_a.set_head_attribution_weight(head, alpha)\n",
    "                        layer_b.set_head_attribution_weight(head, alpha)\n",
    "                        with tf.GradientTape() as tape_a:\n",
    "                            y_pred_a, scores_a = call_a(x)\n",
    "                        with tf.GradientTape() as tape_b:\n",
    "                            y_pred_b, scores_b = call_b(x)\n",
    "                        grads_a = tape_a.gradient(y_pred_a, scores_a[layer_index])[:,head,:,:]\n",
    "                        grads_b = tape_b.gradient(y_pred_b, scores_b[layer_index])[:,head,:,:]\n",
    "                        grad_sum_a += grads_a\n",
    "                        grad_sum_b += grads_b\n",
    "                    attr_h_a = scores_a[layer_index][:,head,:,:]/integration_steps * grad_sum_a\n",
    "                    attr_h_b = scores_b[layer_index][:,head,:,:]/integration_steps * grad_sum_b\n",
    "                    attrs[-1].append(attr_h_b - attr_h_a)\n",
    "            attrs = tf.transpose(attrs, (2, 0, 1, 3, 4))\n",
    "            # attrs.shape == [sample_index, layer_index, head_index, n, n]\n",
    "            return attrs\n",
    "\n",
    "    else:\n",
    "        @tf.function\n",
    "        def compute_attention_attribution(x, mha_layers, integration_steps=20):\n",
    "            # Initialize attention attribution weights\n",
    "            for layer in mha_layers:\n",
    "                layer.enable_attribution()\n",
    "                layer._alpha.assign([1.0]*layer.num_heads)\n",
    "            # Get the gradient shapes using a single call\n",
    "            shapes = []\n",
    "            _, scores = call(x)\n",
    "            for layer_scores in scores: # [batch_index, head_index, n, n]\n",
    "                batch_size = tf.shape(layer_scores)[0]\n",
    "                n = tf.shape(layer_scores)[2]\n",
    "                shapes.append((batch_size, n, n))\n",
    "            # Compute attribution scores\n",
    "            attrs = []\n",
    "            for layer_index, layer in enumerate(mha_layers):\n",
    "                attrs.append([])\n",
    "                for head in range(layer.num_heads):\n",
    "                    grad_sum = tf.zeros(shapes[layer_index])\n",
    "                    for alpha in tf.linspace(0.0, 1.0, integration_steps):\n",
    "                        layer.set_head_attribution_weight(head, alpha)\n",
    "                        with tf.GradientTape() as tape:\n",
    "                            y_pred, scores = call(x)\n",
    "                        grads = tape.gradient(y_pred, scores[layer_index])[:,head,:,:]\n",
    "                        grad_sum += grads\n",
    "                    attr_h = scores[layer_index][:,head,:,:]/integration_steps * grad_sum\n",
    "                    attrs[-1].append(attr_h)\n",
    "            attrs = tf.transpose(attrs, (2, 0, 1, 3, 4))\n",
    "            # attrs.shape == [sample_index, layer_index, head_index, n, n]\n",
    "            return attrs\n",
    "\n",
    "    return compute_attention_attribution\n",
    "\n",
    "def merged_attention_attribution(data_generator, call, mha_layers, integration_steps=20, tau=0.4):\n",
    "    global attrs\n",
    "\n",
    "    mha_layers = tuple(mha_layers)\n",
    "\n",
    "    # Create the compute_attention_attribution function to gather attribution scores for each layer/head\n",
    "    if not hasattr(merged_attention_attribution, \"call\") or id(merged_attention_attribution.call) != id(call):\n",
    "        print(\"Compiling execution graph... This may take several minutes.\")\n",
    "        merged_attention_attribution.call = call\n",
    "        merged_attention_attribution.compute_attention_attribution = compute_attention_attribution_factory(call)\n",
    "    compute_attention_attribution = merged_attention_attribution.compute_attention_attribution\n",
    "\n",
    "    token_ids = {}\n",
    "    token_total_attrs = defaultdict(float)\n",
    "    top_node = None\n",
    "    top_node_value = -np.inf\n",
    "\n",
    "    taus = [tau]*(len(mha_layers) - 1) + [0.0]\n",
    "    edges_by_layer = [set() for _ in range(len(taus))]\n",
    "\n",
    "    n = 0\n",
    "    for (token_names, x) in data_generator:\n",
    "        print(f\"\\rComputing attention attribution: Step {n+1}\", end=\"\")\n",
    "        # Ensure token names have a corresponding ID\n",
    "        for token_name in token_names:\n",
    "            if token_name not in token_ids:\n",
    "                token_ids[token_name] = len(token_ids)\n",
    "        attrs = compute_attention_attribution(tf.expand_dims(x, axis=0), mha_layers)[0]\n",
    "        attrs_by_layer = np.sum(attrs, axis=1)[:,1:,1:] # strip off class tokens\n",
    "        token_attrs = compute_token_attributions(attrs_by_layer)\n",
    "\n",
    "        # Sum up total attribution for each token\n",
    "        for i, value in enumerate(token_attrs):\n",
    "            token_total_attrs[token_ids[token_names[i]]] += value\n",
    "\n",
    "        # Update the top node\n",
    "        max_value = np.max(token_attrs)\n",
    "        if max_value > top_node_value:\n",
    "            top_node = token_ids[token_names[np.argmax(token_attrs)]]\n",
    "            top_node_value = max_value\n",
    "\n",
    "        # Create tree adges\n",
    "        for l, (tau, edges) in enumerate(zip(taus, edges_by_layer)):\n",
    "            a_ij = attrs_by_layer[l]\n",
    "            max_attr_l = np.max(attrs_by_layer[l])\n",
    "            for (i, j) in np.argwhere(a_ij/max_attr_l > tau):\n",
    "                i_universal = token_ids[token_names[i]]\n",
    "                j_universal = token_ids[token_names[j]]\n",
    "                edges.add((i_universal, j_universal))\n",
    "\n",
    "        n += 1\n",
    "\n",
    "    assert top_node is not None\n",
    "\n",
    "    NotAppear, Appear, Fixed = \"NotAppear\", \"Appear\", \"Fixed\"\n",
    "    state = {id: NotAppear for id in token_ids.values()}\n",
    "    state[top_node] = Appear\n",
    "    edges = set()\n",
    "    vertices = set([top_node])\n",
    "    for l in range(len(taus) - 2, -1, -1):\n",
    "        for (i, j) in edges_by_layer[l]:\n",
    "            if i == j:\n",
    "                continue\n",
    "            if state[i] is Appear and state[j] is NotAppear:\n",
    "                edges.add((i, j))\n",
    "                vertices.add(j)\n",
    "                state[i] = Fixed\n",
    "                state[j] = Appear\n",
    "            if state[i] is Fixed and state[j] is NotAppear:\n",
    "                edges.add((i, j))\n",
    "                vertices.add(j)\n",
    "                state[j] = Appear\n",
    "\n",
    "    # Inject class token identifier\n",
    "    vertices.add(-1)\n",
    "    for j in range(len(state) - 1, -1, -1):\n",
    "        if state[j] in (Appear, Fixed):\n",
    "            edges.add((-1, j))\n",
    "\n",
    "    # Compute the reversed ID map\n",
    "    token_id_reverse_map = {v: k for k, v in token_ids.items()}\n",
    "    token_id_reverse_map[-1] = \"[CLS]\"\n",
    "\n",
    "    return {\n",
    "        \"token_id_map\": token_id_reverse_map,\n",
    "        \"token_attrs\": token_total_attrs,\n",
    "        \"edges\": edges,\n",
    "        \"vertices\": vertices\n",
    "    }"
   ]
  },
  {
   "cell_type": "code",
   "execution_count": 102,
   "metadata": {},
   "outputs": [],
   "source": [
    "def build_tree(vertices, edges, node_labels):\n",
    "    # Create the tree graphic\n",
    "    tree = Digraph()\n",
    "    for vertex in vertices:\n",
    "        label = node_labels[vertex]\n",
    "        if label != \"[CLS]\":\n",
    "            label = taxonomy.split_taxonomy(tax_dict[asv_to_otu[label]])[5]\n",
    "        tree.node(label)\n",
    "    for (i, j) in edges:\n",
    "        i = node_labels[i]\n",
    "        j = taxonomy.split_taxonomy(tax_dict[asv_to_otu[node_labels[j]]])[5]\n",
    "        if i != \"[CLS]\":\n",
    "            i = taxonomy.split_taxonomy(tax_dict[asv_to_otu[i]])[5]\n",
    "        tree.edge(j, i)\n",
    "    tree.graph_attr[\"rankdir\"] = \"BT\"\n",
    "    return tree"
   ]
  },
  {
   "cell_type": "code",
   "execution_count": 103,
   "metadata": {},
   "outputs": [
    {
     "data": {
      "text/plain": [
       "[<keras.engine.input_layer.InputLayer at 0x7f988162bb50>,\n",
       " <deepdna.nn.models.setbert.SetBertEncoderModel at 0x7f98abda6b90>,\n",
       " <keras.layers.core.dense.Dense at 0x7f96ae59b940>]"
      ]
     },
     "execution_count": 103,
     "metadata": {},
     "output_type": "execute_result"
    }
   ],
   "source": [
    "setbert_encoder.layers"
   ]
  },
  {
   "cell_type": "code",
   "execution_count": 104,
   "metadata": {},
   "outputs": [],
   "source": [
    "y = x = tf.keras.layers.Input((1000, 128))\n",
    "y, scores = setbert_encoder_pretrained(y, return_attention_scores=True, compute_sequence_embeddings=False)\n",
    "y = tf.keras.layers.Dense(1, activation=\"sigmoid\")(y)\n",
    "setbert_encoder_pretrained_2 = tf.keras.Model(x, (y, scores))"
   ]
  },
  {
   "cell_type": "code",
   "execution_count": 75,
   "metadata": {},
   "outputs": [],
   "source": [
    "y = x = tf.keras.layers.Input((1000, 128))\n",
    "y, scores = setbert_encoder.layers[1](y, return_attention_scores=True, compute_sequence_embeddings=False)\n",
    "y = setbert_encoder.layers[2](y)\n",
    "setbert_encoder_finetuned = tf.keras.Model(x, (y, scores))"
   ]
  },
  {
   "cell_type": "code",
   "execution_count": 70,
   "metadata": {},
   "outputs": [
    {
     "data": {
      "text/plain": [
       "1"
      ]
     },
     "execution_count": 70,
     "metadata": {},
     "output_type": "execute_result"
    }
   ],
   "source": [
    "t_positive_samples = {name: positive_samples[name] for i, name in enumerate(positive_samples) if i < 1}\n",
    "len(t_positive_samples)"
   ]
  },
  {
   "cell_type": "code",
   "execution_count": 108,
   "metadata": {},
   "outputs": [],
   "source": [
    "def call_a(x):\n",
    "    y_pred, scores = setbert_encoder_pretrained_2(x, training=False)\n",
    "    return y_pred, scores[0][0]\n",
    "\n",
    "def call_b(x):\n",
    "    y_pred, scores = setbert_encoder_finetuned(x, training=False)\n",
    "    return y_pred, scores[0][0]\n",
    "\n",
    "def subsample_generator(samples, num_subsamples, subsample_size):\n",
    "    for name, s in samples.items():\n",
    "        gen = SequenceGenerator(\n",
    "            [s],\n",
    "            sequence_length=250,\n",
    "            kmer=3,\n",
    "            batch_size=1,\n",
    "            batches_per_epoch=num_subsamples,\n",
    "            subsample_size=subsample_size)\n",
    "        for i in range(num_subsamples):\n",
    "            _, sequence_ids, x, _ = gen.get(i)\n",
    "            x = tf.stop_gradient(setbert_encoder.layers[1].base.dnabert_encoder.encode(x))\n",
    "            yield sequence_ids[0], x[0]"
   ]
  },
  {
   "cell_type": "markdown",
   "metadata": {},
   "source": [
    "## Attention Attribution Result"
   ]
  },
  {
   "cell_type": "code",
   "execution_count": 199,
   "metadata": {},
   "outputs": [
    {
     "name": "stdout",
     "output_type": "stream",
     "text": [
      "Compiling execution graph... This may take several minutes.\n",
      "Computing attention attribution: Step 1"
     ]
    },
    {
     "name": "stderr",
     "output_type": "stream",
     "text": [
      "/tmp/ipykernel_2219074/3173404409.py:105: RuntimeWarning: invalid value encountered in true_divide\n",
      "  for (i, j) in np.argwhere(a_ij/max_attr_l > tau):\n"
     ]
    },
    {
     "name": "stdout",
     "output_type": "stream",
     "text": [
      "Computing attention attribution: Step 10"
     ]
    }
   ],
   "source": [
    "data_generator = subsample_generator(t_positive_samples, 10, 1000)\n",
    "mha_layers = find_mha_layers(setbert_encoder.layers[1].model)\n",
    "result = merged_attention_attribution(data_generator, call_a, mha_layers)"
   ]
  },
  {
   "cell_type": "code",
   "execution_count": 207,
   "metadata": {},
   "outputs": [
    {
     "name": "stdout",
     "output_type": "stream",
     "text": [
      "Burkholderiaceae_unclassified\n",
      "Pseudomonas\n",
      "Chryseobacterium\n",
      "Fimbriiglobus\n",
      "[CLS]\n"
     ]
    },
    {
     "data": {
      "image/svg+xml": [
       "<?xml version=\"1.0\" encoding=\"UTF-8\" standalone=\"no\"?>\n",
       "<!DOCTYPE svg PUBLIC \"-//W3C//DTD SVG 1.1//EN\"\n",
       " \"http://www.w3.org/Graphics/SVG/1.1/DTD/svg11.dtd\">\n",
       "<!-- Generated by graphviz version 5.0.1 (20220821.0811)\n",
       " -->\n",
       "<!-- Pages: 1 -->\n",
       "<svg width=\"515pt\" height=\"260pt\"\n",
       " viewBox=\"0.00 0.00 514.58 260.00\" xmlns=\"http://www.w3.org/2000/svg\" xmlns:xlink=\"http://www.w3.org/1999/xlink\">\n",
       "<g id=\"graph0\" class=\"graph\" transform=\"scale(1 1) rotate(0) translate(4 256)\">\n",
       "<polygon fill=\"white\" stroke=\"none\" points=\"-4,4 -4,-256 510.58,-256 510.58,4 -4,4\"/>\n",
       "<!-- Burkholderiaceae_unclassified -->\n",
       "<g id=\"node1\" class=\"node\">\n",
       "<title>Burkholderiaceae_unclassified</title>\n",
       "<ellipse fill=\"none\" stroke=\"black\" cx=\"186.19\" cy=\"-90\" rx=\"151.37\" ry=\"18\"/>\n",
       "<text text-anchor=\"middle\" x=\"186.19\" y=\"-86.3\" font-family=\"Times,serif\" font-size=\"14.00\">Burkholderiaceae_unclassified</text>\n",
       "</g>\n",
       "<!-- Pseudomonas -->\n",
       "<g id=\"node2\" class=\"node\">\n",
       "<title>Pseudomonas</title>\n",
       "<ellipse fill=\"none\" stroke=\"black\" cx=\"288.19\" cy=\"-162\" rx=\"74.19\" ry=\"18\"/>\n",
       "<text text-anchor=\"middle\" x=\"288.19\" y=\"-158.3\" font-family=\"Times,serif\" font-size=\"14.00\">Pseudomonas</text>\n",
       "</g>\n",
       "<!-- Burkholderiaceae_unclassified&#45;&gt;Pseudomonas -->\n",
       "<g id=\"edge1\" class=\"edge\">\n",
       "<title>Burkholderiaceae_unclassified&#45;&gt;Pseudomonas</title>\n",
       "<path fill=\"none\" stroke=\"black\" d=\"M210.62,-107.77C224.32,-117.17 241.56,-129 256.31,-139.12\"/>\n",
       "<polygon fill=\"black\" stroke=\"black\" points=\"254.44,-142.08 264.66,-144.85 258.4,-136.31 254.44,-142.08\"/>\n",
       "</g>\n",
       "<!-- [CLS] -->\n",
       "<g id=\"node5\" class=\"node\">\n",
       "<title>[CLS]</title>\n",
       "<ellipse fill=\"none\" stroke=\"black\" cx=\"237.19\" cy=\"-234\" rx=\"36.29\" ry=\"18\"/>\n",
       "<text text-anchor=\"middle\" x=\"237.19\" y=\"-230.3\" font-family=\"Times,serif\" font-size=\"14.00\">[CLS]</text>\n",
       "</g>\n",
       "<!-- Burkholderiaceae_unclassified&#45;&gt;[CLS] -->\n",
       "<g id=\"edge3\" class=\"edge\">\n",
       "<title>Burkholderiaceae_unclassified&#45;&gt;[CLS]</title>\n",
       "<path fill=\"none\" stroke=\"black\" d=\"M188.14,-108.22C190.6,-126.52 195.72,-156.05 205.19,-180 209.01,-189.64 214.49,-199.55 219.85,-208.14\"/>\n",
       "<polygon fill=\"black\" stroke=\"black\" points=\"216.93,-210.07 225.3,-216.56 222.8,-206.27 216.93,-210.07\"/>\n",
       "</g>\n",
       "<!-- Pseudomonas&#45;&gt;[CLS] -->\n",
       "<g id=\"edge4\" class=\"edge\">\n",
       "<title>Pseudomonas&#45;&gt;[CLS]</title>\n",
       "<path fill=\"none\" stroke=\"black\" d=\"M275.85,-179.95C269.62,-188.5 261.94,-199.03 255.08,-208.44\"/>\n",
       "<polygon fill=\"black\" stroke=\"black\" points=\"252.13,-206.55 249.07,-216.69 257.79,-210.67 252.13,-206.55\"/>\n",
       "</g>\n",
       "<!-- Chryseobacterium -->\n",
       "<g id=\"node3\" class=\"node\">\n",
       "<title>Chryseobacterium</title>\n",
       "<ellipse fill=\"none\" stroke=\"black\" cx=\"96.19\" cy=\"-18\" rx=\"96.38\" ry=\"18\"/>\n",
       "<text text-anchor=\"middle\" x=\"96.19\" y=\"-14.3\" font-family=\"Times,serif\" font-size=\"14.00\">Chryseobacterium</text>\n",
       "</g>\n",
       "<!-- Chryseobacterium&#45;&gt;Burkholderiaceae_unclassified -->\n",
       "<g id=\"edge5\" class=\"edge\">\n",
       "<title>Chryseobacterium&#45;&gt;Burkholderiaceae_unclassified</title>\n",
       "<path fill=\"none\" stroke=\"black\" d=\"M117.52,-35.59C129.12,-44.61 143.65,-55.91 156.35,-65.79\"/>\n",
       "<polygon fill=\"black\" stroke=\"black\" points=\"154.35,-68.67 164.39,-72.04 158.65,-63.14 154.35,-68.67\"/>\n",
       "</g>\n",
       "<!-- Chryseobacterium&#45;&gt;[CLS] -->\n",
       "<g id=\"edge6\" class=\"edge\">\n",
       "<title>Chryseobacterium&#45;&gt;[CLS]</title>\n",
       "<path fill=\"none\" stroke=\"black\" d=\"M63.35,-35.01C49.17,-43.8 34.06,-56.17 26.19,-72 19.07,-86.33 18.27,-94.1 26.19,-108 62.46,-171.64 145.27,-206.19 195.69,-222.02\"/>\n",
       "<polygon fill=\"black\" stroke=\"black\" points=\"194.73,-225.38 205.32,-224.93 196.76,-218.69 194.73,-225.38\"/>\n",
       "</g>\n",
       "<!-- Fimbriiglobus -->\n",
       "<g id=\"node4\" class=\"node\">\n",
       "<title>Fimbriiglobus</title>\n",
       "<ellipse fill=\"none\" stroke=\"black\" cx=\"431.19\" cy=\"-90\" rx=\"75.29\" ry=\"18\"/>\n",
       "<text text-anchor=\"middle\" x=\"431.19\" y=\"-86.3\" font-family=\"Times,serif\" font-size=\"14.00\">Fimbriiglobus</text>\n",
       "</g>\n",
       "<!-- Fimbriiglobus&#45;&gt;Pseudomonas -->\n",
       "<g id=\"edge7\" class=\"edge\">\n",
       "<title>Fimbriiglobus&#45;&gt;Pseudomonas</title>\n",
       "<path fill=\"none\" stroke=\"black\" d=\"M399.46,-106.54C378.72,-116.69 351.44,-130.04 329.09,-140.98\"/>\n",
       "<polygon fill=\"black\" stroke=\"black\" points=\"327.28,-137.97 319.84,-145.51 330.36,-144.26 327.28,-137.97\"/>\n",
       "</g>\n",
       "<!-- Fimbriiglobus&#45;&gt;[CLS] -->\n",
       "<g id=\"edge2\" class=\"edge\">\n",
       "<title>Fimbriiglobus&#45;&gt;[CLS]</title>\n",
       "<path fill=\"none\" stroke=\"black\" d=\"M423.62,-108.01C414.02,-127.8 395.74,-160.27 371.19,-180 344.45,-201.5 307.9,-215.17 279.72,-223.24\"/>\n",
       "<polygon fill=\"black\" stroke=\"black\" points=\"278.48,-219.95 269.76,-225.96 280.33,-226.7 278.48,-219.95\"/>\n",
       "</g>\n",
       "</g>\n",
       "</svg>\n"
      ],
      "text/plain": [
       "<graphviz.graphs.Digraph at 0x7f314b5ef0a0>"
      ]
     },
     "execution_count": 207,
     "metadata": {},
     "output_type": "execute_result"
    }
   ],
   "source": [
    "build_tree(result[\"vertices\"], result[\"edges\"], result[\"token_id_map\"])"
   ]
  },
  {
   "cell_type": "code",
   "execution_count": 202,
   "metadata": {},
   "outputs": [
    {
     "data": {
      "text/plain": [
       "{-1, 487, 1414, 1475, 1913}"
      ]
     },
     "execution_count": 202,
     "metadata": {},
     "output_type": "execute_result"
    }
   ],
   "source": [
    "result[\"vertices\"]"
   ]
  },
  {
   "cell_type": "code",
   "execution_count": null,
   "metadata": {},
   "outputs": [
    {
     "name": "stdout",
     "output_type": "stream",
     "text": [
      "Compiling execution graph... This may take several minutes.\n",
      "Computing attention attribution: Step 1"
     ]
    },
    {
     "name": "stderr",
     "output_type": "stream",
     "text": [
      "/tmp/ipykernel_4411/833680966.py:153: RuntimeWarning: invalid value encountered in true_divide\n",
      "  for (i, j) in np.argwhere(a_ij/max_attr_l > tau):\n"
     ]
    },
    {
     "name": "stdout",
     "output_type": "stream",
     "text": [
      "Computing attention attribution: Step 824"
     ]
    }
   ],
   "source": [
    "data_generator = subsample_generator(positive_samples, 10, 1000)\n",
    "mha_layers = find_mha_layers(setbert_encoder.layers[1].model)\n",
    "result2 = merged_attention_attribution(data_generator, call, mha_layers)"
   ]
  },
  {
   "cell_type": "code",
   "execution_count": null,
   "metadata": {},
   "outputs": [],
   "source": [
    "build_tree(result2[\"vertices\"], result2[\"edges\"], result2[\"token_id_map\"])"
   ]
  },
  {
   "cell_type": "markdown",
   "metadata": {},
   "source": [
    "## Attention Attribution Shift"
   ]
  },
  {
   "cell_type": "code",
   "execution_count": 114,
   "metadata": {},
   "outputs": [
    {
     "name": "stdout",
     "output_type": "stream",
     "text": [
      "Compiling execution graph... This may take several minutes.\n",
      "Computing attention attribution: Step 1"
     ]
    },
    {
     "name": "stderr",
     "output_type": "stream",
     "text": [
      "\n",
      "KeyboardInterrupt\n",
      "\n"
     ]
    }
   ],
   "source": [
    "data_generator = subsample_generator(t_positive_samples, 10, 1000)\n",
    "\n",
    "mha_layers_pretrained = find_mha_layers(setbert_encoder_pretrained_2.layers[1].model)\n",
    "mha_layers_finetuned = find_mha_layers(setbert_encoder_finetuned.layers[1].model)\n",
    "assert len(mha_layers_pretrained) == len(mha_layers_finetuned)\n",
    "\n",
    "result = merged_attention_attribution(data_generator, (call_a, call_b), zip(mha_layers_pretrained, mha_layers_finetuned))"
   ]
  },
  {
   "cell_type": "code",
   "execution_count": 111,
   "metadata": {},
   "outputs": [
    {
     "data": {
      "image/svg+xml": [
       "<?xml version=\"1.0\" encoding=\"UTF-8\" standalone=\"no\"?>\n",
       "<!DOCTYPE svg PUBLIC \"-//W3C//DTD SVG 1.1//EN\"\n",
       " \"http://www.w3.org/Graphics/SVG/1.1/DTD/svg11.dtd\">\n",
       "<!-- Generated by graphviz version 5.0.1 (20220821.0811)\n",
       " -->\n",
       "<!-- Pages: 1 -->\n",
       "<svg width=\"8325pt\" height=\"476pt\"\n",
       " viewBox=\"0.00 0.00 8325.00 476.00\" xmlns=\"http://www.w3.org/2000/svg\" xmlns:xlink=\"http://www.w3.org/1999/xlink\">\n",
       "<g id=\"graph0\" class=\"graph\" transform=\"scale(1 1) rotate(0) translate(4 472)\">\n",
       "<polygon fill=\"white\" stroke=\"none\" points=\"-4,4 -4,-472 8321,-472 8321,4 -4,4\"/>\n",
       "<!-- Deinococcus -->\n",
       "<g id=\"node1\" class=\"node\">\n",
       "<title>Deinococcus</title>\n",
       "<ellipse fill=\"none\" stroke=\"black\" cx=\"2629\" cy=\"-306\" rx=\"68.49\" ry=\"18\"/>\n",
       "<text text-anchor=\"middle\" x=\"2629\" y=\"-302.3\" font-family=\"Times,serif\" font-size=\"14.00\">Deinococcus</text>\n",
       "</g>\n",
       "<!-- Deinococcus&#45;&gt;Deinococcus -->\n",
       "<g id=\"edge3\" class=\"edge\">\n",
       "<title>Deinococcus&#45;&gt;Deinococcus</title>\n",
       "<path fill=\"none\" stroke=\"black\" d=\"M2695.54,-301.78C2707.16,-302.34 2715.24,-303.75 2715.24,-306 2715.24,-307.51 2711.59,-308.64 2705.67,-309.39\"/>\n",
       "<polygon fill=\"black\" stroke=\"black\" points=\"2705.22,-305.92 2695.54,-310.22 2705.79,-312.89 2705.22,-305.92\"/>\n",
       "</g>\n",
       "<!-- Deinococcus&#45;&gt;Deinococcus -->\n",
       "<g id=\"edge44\" class=\"edge\">\n",
       "<title>Deinococcus&#45;&gt;Deinococcus</title>\n",
       "<path fill=\"none\" stroke=\"black\" d=\"M2688.47,-297.07C2712.76,-296.51 2733.24,-299.48 2733.24,-306 2733.24,-311.57 2718.25,-314.56 2698.71,-314.95\"/>\n",
       "<polygon fill=\"black\" stroke=\"black\" points=\"2698.47,-311.45 2688.47,-314.93 2698.46,-318.45 2698.47,-311.45\"/>\n",
       "</g>\n",
       "<!-- Deinococcus&#45;&gt;Deinococcus -->\n",
       "<g id=\"edge114\" class=\"edge\">\n",
       "<title>Deinococcus&#45;&gt;Deinococcus</title>\n",
       "<path fill=\"none\" stroke=\"black\" d=\"M2679.86,-293.89C2715.73,-290.08 2751.24,-294.12 2751.24,-306 2751.24,-316.77 2722.07,-321.09 2689.91,-318.98\"/>\n",
       "<polygon fill=\"black\" stroke=\"black\" points=\"2690.13,-315.48 2679.86,-318.11 2689.53,-322.46 2690.13,-315.48\"/>\n",
       "</g>\n",
       "<!-- Saccharimonadaceae_unclassified -->\n",
       "<g id=\"node37\" class=\"node\">\n",
       "<title>Saccharimonadaceae_unclassified</title>\n",
       "<ellipse fill=\"none\" stroke=\"black\" cx=\"2869\" cy=\"-378\" rx=\"167.07\" ry=\"18\"/>\n",
       "<text text-anchor=\"middle\" x=\"2869\" y=\"-374.3\" font-family=\"Times,serif\" font-size=\"14.00\">Saccharimonadaceae_unclassified</text>\n",
       "</g>\n",
       "<!-- Deinococcus&#45;&gt;Saccharimonadaceae_unclassified -->\n",
       "<g id=\"edge61\" class=\"edge\">\n",
       "<title>Deinococcus&#45;&gt;Saccharimonadaceae_unclassified</title>\n",
       "<path fill=\"none\" stroke=\"black\" d=\"M2658.62,-322.28C2690.77,-333.2 2740.91,-347.92 2784.66,-359.35\"/>\n",
       "<polygon fill=\"black\" stroke=\"black\" points=\"2783.91,-362.77 2794.47,-361.88 2785.66,-355.99 2783.91,-362.77\"/>\n",
       "</g>\n",
       "<!-- Deinococcus&#45;&gt;Saccharimonadaceae_unclassified -->\n",
       "<g id=\"edge137\" class=\"edge\">\n",
       "<title>Deinococcus&#45;&gt;Saccharimonadaceae_unclassified</title>\n",
       "<path fill=\"none\" stroke=\"black\" d=\"M2673.02,-319.84C2709.73,-330.55 2762.55,-345.95 2804.11,-358.07\"/>\n",
       "<polygon fill=\"black\" stroke=\"black\" points=\"2803.29,-361.48 2813.87,-360.92 2805.25,-354.76 2803.29,-361.48\"/>\n",
       "</g>\n",
       "<!-- [CLS] -->\n",
       "<g id=\"node56\" class=\"node\">\n",
       "<title>[CLS]</title>\n",
       "<ellipse fill=\"none\" stroke=\"black\" cx=\"2869\" cy=\"-450\" rx=\"36.29\" ry=\"18\"/>\n",
       "<text text-anchor=\"middle\" x=\"2869\" y=\"-446.3\" font-family=\"Times,serif\" font-size=\"14.00\">[CLS]</text>\n",
       "</g>\n",
       "<!-- Deinococcus&#45;&gt;[CLS] -->\n",
       "<g id=\"edge24\" class=\"edge\">\n",
       "<title>Deinococcus&#45;&gt;[CLS]</title>\n",
       "<path fill=\"none\" stroke=\"black\" d=\"M2605.26,-322.97C2601.4,-342.95 2621.2,-376.87 2648,-396 2697.06,-431.02 2769.55,-443.22 2822.26,-447.2\"/>\n",
       "<polygon fill=\"black\" stroke=\"black\" points=\"2822.31,-450.72 2832.53,-447.9 2822.78,-443.73 2822.31,-450.72\"/>\n",
       "</g>\n",
       "<!-- Deinococcus&#45;&gt;[CLS] -->\n",
       "<g id=\"edge57\" class=\"edge\">\n",
       "<title>Deinococcus&#45;&gt;[CLS]</title>\n",
       "<path fill=\"none\" stroke=\"black\" d=\"M2617.81,-324.02C2620.08,-344.12 2639.67,-377.2 2666,-396 2711.52,-428.49 2777.19,-441.33 2822.76,-446.2\"/>\n",
       "<polygon fill=\"black\" stroke=\"black\" points=\"2822.44,-449.69 2832.73,-447.18 2823.12,-442.72 2822.44,-449.69\"/>\n",
       "</g>\n",
       "<!-- Deinococcus&#45;&gt;[CLS] -->\n",
       "<g id=\"edge67\" class=\"edge\">\n",
       "<title>Deinococcus&#45;&gt;[CLS]</title>\n",
       "<path fill=\"none\" stroke=\"black\" d=\"M2630.54,-324.02C2638.08,-344.12 2657.67,-377.2 2684,-396 2725.33,-425.51 2783.3,-438.81 2823.4,-444.65\"/>\n",
       "<polygon fill=\"black\" stroke=\"black\" points=\"2823.06,-448.14 2833.44,-446.01 2824,-441.2 2823.06,-448.14\"/>\n",
       "</g>\n",
       "<!-- Deinococcus&#45;&gt;[CLS] -->\n",
       "<g id=\"edge104\" class=\"edge\">\n",
       "<title>Deinococcus&#45;&gt;[CLS]</title>\n",
       "<path fill=\"none\" stroke=\"black\" d=\"M2643.04,-323.67C2655.85,-343.73 2675.51,-377.09 2702,-396 2738.64,-422.15 2788.35,-435.58 2824.08,-442.36\"/>\n",
       "<polygon fill=\"black\" stroke=\"black\" points=\"2823.77,-445.86 2834.23,-444.18 2825.01,-438.97 2823.77,-445.86\"/>\n",
       "</g>\n",
       "<!-- Deinococcus&#45;&gt;[CLS] -->\n",
       "<g id=\"edge141\" class=\"edge\">\n",
       "<title>Deinococcus&#45;&gt;[CLS]</title>\n",
       "<path fill=\"none\" stroke=\"black\" d=\"M2655.04,-322.97C2673.4,-342.95 2693.2,-376.87 2720,-396 2752.23,-419 2794.56,-432.16 2826.55,-439.61\"/>\n",
       "<polygon fill=\"black\" stroke=\"black\" points=\"2826.03,-443.08 2836.55,-441.83 2827.55,-436.24 2826.03,-443.08\"/>\n",
       "</g>\n",
       "<!-- Deinococcus&#45;&gt;[CLS] -->\n",
       "<g id=\"edge180\" class=\"edge\">\n",
       "<title>Deinococcus&#45;&gt;[CLS]</title>\n",
       "<path fill=\"none\" stroke=\"black\" d=\"M2665.4,-321.27C2690.26,-340.98 2710.43,-376.32 2738,-396 2766,-415.98 2801.62,-428.54 2830.12,-436.37\"/>\n",
       "<polygon fill=\"black\" stroke=\"black\" points=\"2829.32,-439.78 2839.89,-438.95 2831.11,-433.01 2829.32,-439.78\"/>\n",
       "</g>\n",
       "<!-- Morganella -->\n",
       "<g id=\"node2\" class=\"node\">\n",
       "<title>Morganella</title>\n",
       "<ellipse fill=\"none\" stroke=\"black\" cx=\"314\" cy=\"-234\" rx=\"63.89\" ry=\"18\"/>\n",
       "<text text-anchor=\"middle\" x=\"314\" y=\"-230.3\" font-family=\"Times,serif\" font-size=\"14.00\">Morganella</text>\n",
       "</g>\n",
       "<!-- Morganella&#45;&gt;Deinococcus -->\n",
       "<g id=\"edge33\" class=\"edge\">\n",
       "<title>Morganella&#45;&gt;Deinococcus</title>\n",
       "<path fill=\"none\" stroke=\"black\" d=\"M358.29,-246.98C367.39,-249.01 376.96,-250.84 386,-252 817.72,-307.45 2205.14,-306.48 2550.56,-305.34\"/>\n",
       "<polygon fill=\"black\" stroke=\"black\" points=\"2550.73,-308.84 2560.71,-305.3 2550.7,-301.84 2550.73,-308.84\"/>\n",
       "</g>\n",
       "<!-- Morganella&#45;&gt;[CLS] -->\n",
       "<g id=\"edge53\" class=\"edge\">\n",
       "<title>Morganella&#45;&gt;[CLS]</title>\n",
       "<path fill=\"none\" stroke=\"black\" d=\"M346,-249.73C420.94,-283.37 614.48,-365.31 786,-396 992.43,-432.94 2533.93,-446.44 2822.52,-448.66\"/>\n",
       "<polygon fill=\"black\" stroke=\"black\" points=\"2822.62,-452.16 2832.65,-448.74 2822.67,-445.16 2822.62,-452.16\"/>\n",
       "</g>\n",
       "<!-- Chryseobacterium -->\n",
       "<g id=\"node3\" class=\"node\">\n",
       "<title>Chryseobacterium</title>\n",
       "<ellipse fill=\"none\" stroke=\"black\" cx=\"831\" cy=\"-234\" rx=\"96.38\" ry=\"18\"/>\n",
       "<text text-anchor=\"middle\" x=\"831\" y=\"-230.3\" font-family=\"Times,serif\" font-size=\"14.00\">Chryseobacterium</text>\n",
       "</g>\n",
       "<!-- Chryseobacterium&#45;&gt;Deinococcus -->\n",
       "<g id=\"edge12\" class=\"edge\">\n",
       "<title>Chryseobacterium&#45;&gt;Deinococcus</title>\n",
       "<path fill=\"none\" stroke=\"black\" d=\"M898.2,-246.96C916.93,-248.9 937.07,-250.7 956,-252 1567.41,-294.12 2309.64,-302.88 2550.52,-304.6\"/>\n",
       "<polygon fill=\"black\" stroke=\"black\" points=\"2550.57,-308.1 2560.59,-304.67 2550.62,-301.1 2550.57,-308.1\"/>\n",
       "</g>\n",
       "<!-- Chryseobacterium&#45;&gt;Deinococcus -->\n",
       "<g id=\"edge20\" class=\"edge\">\n",
       "<title>Chryseobacterium&#45;&gt;Deinococcus</title>\n",
       "<path fill=\"none\" stroke=\"black\" d=\"M904.16,-245.73C926.53,-248.13 951.15,-250.43 974,-252 1579.17,-293.69 2312.5,-302.7 2550.57,-304.55\"/>\n",
       "<polygon fill=\"black\" stroke=\"black\" points=\"2550.83,-308.05 2560.86,-304.63 2550.89,-301.05 2550.83,-308.05\"/>\n",
       "</g>\n",
       "<!-- Chryseobacterium&#45;&gt;Deinococcus -->\n",
       "<g id=\"edge84\" class=\"edge\">\n",
       "<title>Chryseobacterium&#45;&gt;Deinococcus</title>\n",
       "<path fill=\"none\" stroke=\"black\" d=\"M909.51,-244.45C935.71,-247.29 965.08,-250.15 992,-252 1590.53,-293.23 2314.43,-302.5 2550.48,-304.48\"/>\n",
       "<polygon fill=\"black\" stroke=\"black\" points=\"2550.66,-307.99 2560.69,-304.57 2550.71,-300.99 2550.66,-307.99\"/>\n",
       "</g>\n",
       "<!-- Chryseobacterium&#45;&gt;Deinococcus -->\n",
       "<g id=\"edge109\" class=\"edge\">\n",
       "<title>Chryseobacterium&#45;&gt;Deinococcus</title>\n",
       "<path fill=\"none\" stroke=\"black\" d=\"M914.02,-243.12C944.47,-246.37 978.88,-249.86 1010,-252 1601.89,-292.78 2316.38,-302.29 2550.7,-304.42\"/>\n",
       "<polygon fill=\"black\" stroke=\"black\" points=\"2550.8,-307.92 2560.83,-304.51 2550.87,-300.92 2550.8,-307.92\"/>\n",
       "</g>\n",
       "<!-- Chryseobacterium&#45;&gt;Deinococcus -->\n",
       "<g id=\"edge115\" class=\"edge\">\n",
       "<title>Chryseobacterium&#45;&gt;Deinococcus</title>\n",
       "<path fill=\"none\" stroke=\"black\" d=\"M917.76,-241.82C953.12,-245.41 992.67,-249.57 1028,-252 1612.9,-292.29 2317.53,-302.06 2550.8,-304.34\"/>\n",
       "<polygon fill=\"black\" stroke=\"black\" points=\"2550.86,-307.84 2560.89,-304.43 2550.92,-300.84 2550.86,-307.84\"/>\n",
       "</g>\n",
       "<!-- Chryseobacterium&#45;&gt;[CLS] -->\n",
       "<g id=\"edge39\" class=\"edge\">\n",
       "<title>Chryseobacterium&#45;&gt;[CLS]</title>\n",
       "<path fill=\"none\" stroke=\"black\" d=\"M816.88,-251.89C813.05,-286.33 846.61,-364.14 905,-396 990.97,-442.91 2530.42,-448.34 2822.07,-448.93\"/>\n",
       "<polygon fill=\"black\" stroke=\"black\" points=\"2822.3,-452.43 2832.3,-448.95 2822.31,-445.43 2822.3,-452.43\"/>\n",
       "</g>\n",
       "<!-- Chryseobacterium&#45;&gt;[CLS] -->\n",
       "<g id=\"edge58\" class=\"edge\">\n",
       "<title>Chryseobacterium&#45;&gt;[CLS]</title>\n",
       "<path fill=\"none\" stroke=\"black\" d=\"M826.77,-252.15C831.22,-286.73 864.75,-364.22 923,-396 1008.56,-442.68 2533.83,-448.29 2822.28,-448.92\"/>\n",
       "<polygon fill=\"black\" stroke=\"black\" points=\"2822.39,-452.42 2832.4,-448.94 2822.41,-445.42 2822.39,-452.42\"/>\n",
       "</g>\n",
       "<!-- Chryseobacterium&#45;&gt;[CLS] -->\n",
       "<g id=\"edge124\" class=\"edge\">\n",
       "<title>Chryseobacterium&#45;&gt;[CLS]</title>\n",
       "<path fill=\"none\" stroke=\"black\" d=\"M836.7,-252.15C849.22,-286.73 882.75,-364.22 941,-396 1026.11,-442.44 2535.7,-448.23 2822.25,-448.91\"/>\n",
       "<polygon fill=\"black\" stroke=\"black\" points=\"2822.3,-452.41 2832.31,-448.94 2822.32,-445.41 2822.3,-452.41\"/>\n",
       "</g>\n",
       "<!-- Chryseobacterium&#45;&gt;[CLS] -->\n",
       "<g id=\"edge134\" class=\"edge\">\n",
       "<title>Chryseobacterium&#45;&gt;[CLS]</title>\n",
       "<path fill=\"none\" stroke=\"black\" d=\"M846.46,-251.89C867.05,-286.33 900.61,-364.14 959,-396 1043.62,-442.17 2536.17,-448.16 2822.02,-448.9\"/>\n",
       "<polygon fill=\"black\" stroke=\"black\" points=\"2822.43,-452.4 2832.44,-448.93 2822.45,-445.4 2822.43,-452.4\"/>\n",
       "</g>\n",
       "<!-- Chryseobacterium&#45;&gt;[CLS] -->\n",
       "<g id=\"edge193\" class=\"edge\">\n",
       "<title>Chryseobacterium&#45;&gt;[CLS]</title>\n",
       "<path fill=\"none\" stroke=\"black\" d=\"M856.1,-251.62C884.88,-285.94 918.46,-364.06 977,-396 1061.12,-441.89 2536.62,-448.09 2821.97,-448.89\"/>\n",
       "<polygon fill=\"black\" stroke=\"black\" points=\"2822.37,-452.39 2832.38,-448.92 2822.39,-445.39 2822.37,-452.39\"/>\n",
       "</g>\n",
       "<!-- Luteimonas -->\n",
       "<g id=\"node4\" class=\"node\">\n",
       "<title>Luteimonas</title>\n",
       "<ellipse fill=\"none\" stroke=\"black\" cx=\"8148\" cy=\"-162\" rx=\"64.99\" ry=\"18\"/>\n",
       "<text text-anchor=\"middle\" x=\"8148\" y=\"-158.3\" font-family=\"Times,serif\" font-size=\"14.00\">Luteimonas</text>\n",
       "</g>\n",
       "<!-- Rhodobacteraceae_unclassified -->\n",
       "<g id=\"node20\" class=\"node\">\n",
       "<title>Rhodobacteraceae_unclassified</title>\n",
       "<ellipse fill=\"none\" stroke=\"black\" cx=\"7963\" cy=\"-234\" rx=\"155.17\" ry=\"18\"/>\n",
       "<text text-anchor=\"middle\" x=\"7963\" y=\"-230.3\" font-family=\"Times,serif\" font-size=\"14.00\">Rhodobacteraceae_unclassified</text>\n",
       "</g>\n",
       "<!-- Luteimonas&#45;&gt;Rhodobacteraceae_unclassified -->\n",
       "<g id=\"edge98\" class=\"edge\">\n",
       "<title>Luteimonas&#45;&gt;Rhodobacteraceae_unclassified</title>\n",
       "<path fill=\"none\" stroke=\"black\" d=\"M8111.01,-177C8083.7,-187.33 8046.15,-201.54 8015.71,-213.06\"/>\n",
       "<polygon fill=\"black\" stroke=\"black\" points=\"8014.21,-209.88 8006.09,-216.69 8016.69,-216.43 8014.21,-209.88\"/>\n",
       "</g>\n",
       "<!-- Luteimonas&#45;&gt;[CLS] -->\n",
       "<g id=\"edge87\" class=\"edge\">\n",
       "<title>Luteimonas&#45;&gt;[CLS]</title>\n",
       "<path fill=\"none\" stroke=\"black\" d=\"M8149.86,-180.2C8151.24,-198.48 8151.73,-228 8144,-252 8132.28,-288.37 8126.07,-299.19 8097,-324 8037.38,-374.89 8012.57,-379.24 7936,-396 7677.01,-452.69 3411.65,-449.61 2915.89,-449.06\"/>\n",
       "<polygon fill=\"black\" stroke=\"black\" points=\"2915.54,-445.56 2905.53,-449.05 2915.53,-452.56 2915.54,-445.56\"/>\n",
       "</g>\n",
       "<!-- Qipengyuania -->\n",
       "<g id=\"node5\" class=\"node\">\n",
       "<title>Qipengyuania</title>\n",
       "<ellipse fill=\"none\" stroke=\"black\" cx=\"4295\" cy=\"-18\" rx=\"74.99\" ry=\"18\"/>\n",
       "<text text-anchor=\"middle\" x=\"4295\" y=\"-14.3\" font-family=\"Times,serif\" font-size=\"14.00\">Qipengyuania</text>\n",
       "</g>\n",
       "<!-- 67&#45;14_unclassified -->\n",
       "<g id=\"node11\" class=\"node\">\n",
       "<title>67&#45;14_unclassified</title>\n",
       "<ellipse fill=\"none\" stroke=\"black\" cx=\"274\" cy=\"-90\" rx=\"96.38\" ry=\"18\"/>\n",
       "<text text-anchor=\"middle\" x=\"274\" y=\"-86.3\" font-family=\"Times,serif\" font-size=\"14.00\">67&#45;14_unclassified</text>\n",
       "</g>\n",
       "<!-- Qipengyuania&#45;&gt;67&#45;14_unclassified -->\n",
       "<g id=\"edge117\" class=\"edge\">\n",
       "<title>Qipengyuania&#45;&gt;67&#45;14_unclassified</title>\n",
       "<path fill=\"none\" stroke=\"black\" d=\"M4220.47,-20.3C3729.23,-28.85 958.2,-77.09 379.81,-87.16\"/>\n",
       "<polygon fill=\"black\" stroke=\"black\" points=\"379.34,-83.67 369.4,-87.34 379.46,-90.66 379.34,-83.67\"/>\n",
       "</g>\n",
       "<!-- Qipengyuania&#45;&gt;[CLS] -->\n",
       "<g id=\"edge16\" class=\"edge\">\n",
       "<title>Qipengyuania&#45;&gt;[CLS]</title>\n",
       "<path fill=\"none\" stroke=\"black\" d=\"M4369.87,-19.35C4853.04,-21.71 7522.36,-36.3 7883,-72 8078.95,-91.4 8317,35.9 8317,-161 8317,-161 8317,-161 8317,-307 8317,-372.69 8261.19,-374.83 8199,-396 8066.66,-441.05 3432.61,-448.28 2915.72,-448.94\"/>\n",
       "<polygon fill=\"black\" stroke=\"black\" points=\"2915.63,-445.44 2905.64,-448.96 2915.64,-452.44 2915.63,-445.44\"/>\n",
       "</g>\n",
       "<!-- Methylobacterium -->\n",
       "<g id=\"node6\" class=\"node\">\n",
       "<title>Methylobacterium</title>\n",
       "<ellipse fill=\"none\" stroke=\"black\" cx=\"1097\" cy=\"-234\" rx=\"96.38\" ry=\"18\"/>\n",
       "<text text-anchor=\"middle\" x=\"1097\" y=\"-230.3\" font-family=\"Times,serif\" font-size=\"14.00\">Methylobacterium</text>\n",
       "</g>\n",
       "<!-- Methylobacterium&#45;&gt;Deinococcus -->\n",
       "<g id=\"edge8\" class=\"edge\">\n",
       "<title>Methylobacterium&#45;&gt;Deinococcus</title>\n",
       "<path fill=\"none\" stroke=\"black\" d=\"M1135.15,-250.57C1139.46,-251.1 1143.77,-251.58 1148,-252 1679.19,-304.66 2326.31,-306.23 2550.71,-305.4\"/>\n",
       "<polygon fill=\"black\" stroke=\"black\" points=\"2550.77,-308.9 2560.75,-305.36 2550.74,-301.9 2550.77,-308.9\"/>\n",
       "</g>\n",
       "<!-- Methylobacterium&#45;&gt;Deinococcus -->\n",
       "<g id=\"edge19\" class=\"edge\">\n",
       "<title>Methylobacterium&#45;&gt;Deinococcus</title>\n",
       "<path fill=\"none\" stroke=\"black\" d=\"M1145.52,-249.6C1152.36,-250.51 1159.29,-251.34 1166,-252 1691.16,-304.07 2329.63,-306.19 2550.55,-305.43\"/>\n",
       "<polygon fill=\"black\" stroke=\"black\" points=\"2550.77,-308.93 2560.76,-305.39 2550.74,-301.93 2550.77,-308.93\"/>\n",
       "</g>\n",
       "<!-- Methylobacterium&#45;&gt;Deinococcus -->\n",
       "<g id=\"edge45\" class=\"edge\">\n",
       "<title>Methylobacterium&#45;&gt;Deinococcus</title>\n",
       "<path fill=\"none\" stroke=\"black\" d=\"M1154.99,-248.42C1164.63,-249.81 1174.54,-251.06 1184,-252 1702.79,-303.43 2332.15,-306.13 2550.35,-305.45\"/>\n",
       "<polygon fill=\"black\" stroke=\"black\" points=\"2550.44,-308.95 2560.43,-305.42 2550.42,-301.95 2550.44,-308.95\"/>\n",
       "</g>\n",
       "<!-- Methylobacterium&#45;&gt;Deinococcus -->\n",
       "<g id=\"edge49\" class=\"edge\">\n",
       "<title>Methylobacterium&#45;&gt;Deinococcus</title>\n",
       "<path fill=\"none\" stroke=\"black\" d=\"M1163.49,-247.03C1176.24,-248.98 1189.5,-250.76 1202,-252 1714.16,-302.78 2334.08,-306.05 2550.19,-305.48\"/>\n",
       "<polygon fill=\"black\" stroke=\"black\" points=\"2550.49,-308.98 2560.48,-305.45 2550.47,-301.98 2550.49,-308.98\"/>\n",
       "</g>\n",
       "<!-- Methylobacterium&#45;&gt;Deinococcus -->\n",
       "<g id=\"edge120\" class=\"edge\">\n",
       "<title>Methylobacterium&#45;&gt;Deinococcus</title>\n",
       "<path fill=\"none\" stroke=\"black\" d=\"M1171.11,-245.5C1187.36,-248.03 1204.29,-250.44 1220,-252 1725.48,-302.11 2335.94,-305.96 2550.3,-305.5\"/>\n",
       "<polygon fill=\"black\" stroke=\"black\" points=\"2550.52,-309 2560.51,-305.47 2550.5,-302 2550.52,-309\"/>\n",
       "</g>\n",
       "<!-- Methylobacterium&#45;&gt;Deinococcus -->\n",
       "<g id=\"edge151\" class=\"edge\">\n",
       "<title>Methylobacterium&#45;&gt;Deinococcus</title>\n",
       "<path fill=\"none\" stroke=\"black\" d=\"M1177.76,-243.9C1198.18,-246.97 1218.98,-250.11 1238,-252 1736.51,-301.42 2337.11,-305.84 2550.35,-305.51\"/>\n",
       "<polygon fill=\"black\" stroke=\"black\" points=\"2550.52,-309.01 2560.51,-305.49 2550.5,-302.01 2550.52,-309.01\"/>\n",
       "</g>\n",
       "<!-- Methylobacterium&#45;&gt;Deinococcus -->\n",
       "<g id=\"edge163\" class=\"edge\">\n",
       "<title>Methylobacterium&#45;&gt;Deinococcus</title>\n",
       "<path fill=\"none\" stroke=\"black\" d=\"M1182.6,-242.23C1208.48,-245.78 1233.49,-249.77 1256,-252 1747.22,-300.7 2337.58,-305.71 2550.29,-305.53\"/>\n",
       "<polygon fill=\"black\" stroke=\"black\" points=\"2550.44,-309.03 2560.43,-305.51 2550.43,-302.03 2550.44,-309.03\"/>\n",
       "</g>\n",
       "<!-- Methylobacterium&#45;&gt;[CLS] -->\n",
       "<g id=\"edge14\" class=\"edge\">\n",
       "<title>Methylobacterium&#45;&gt;[CLS]</title>\n",
       "<path fill=\"none\" stroke=\"black\" d=\"M1118.9,-251.58C1202.51,-285.64 1462,-363.03 1686,-396 1906.89,-428.51 2627.18,-445.1 2822.41,-448.39\"/>\n",
       "<polygon fill=\"black\" stroke=\"black\" points=\"2822.59,-451.89 2832.64,-448.55 2822.7,-444.89 2822.59,-451.89\"/>\n",
       "</g>\n",
       "<!-- Methylobacterium&#45;&gt;[CLS] -->\n",
       "<g id=\"edge60\" class=\"edge\">\n",
       "<title>Methylobacterium&#45;&gt;[CLS]</title>\n",
       "<path fill=\"none\" stroke=\"black\" d=\"M1127.69,-251.2C1218.53,-285.05 1479.14,-362.91 1704,-396 1922.75,-428.2 2631.31,-444.78 2822.32,-448.29\"/>\n",
       "<polygon fill=\"black\" stroke=\"black\" points=\"2822.53,-451.79 2832.6,-448.47 2822.66,-444.79 2822.53,-451.79\"/>\n",
       "</g>\n",
       "<!-- Methylobacterium&#45;&gt;[CLS] -->\n",
       "<g id=\"edge65\" class=\"edge\">\n",
       "<title>Methylobacterium&#45;&gt;[CLS]</title>\n",
       "<path fill=\"none\" stroke=\"black\" d=\"M1135.56,-250.56C1233.23,-284.06 1495.72,-362.7 1722,-396 1938.61,-427.88 2635.47,-444.45 2822.64,-448.18\"/>\n",
       "<polygon fill=\"black\" stroke=\"black\" points=\"2822.63,-451.68 2832.7,-448.38 2822.77,-444.68 2822.63,-451.68\"/>\n",
       "</g>\n",
       "<!-- Methylobacterium&#45;&gt;[CLS] -->\n",
       "<g id=\"edge82\" class=\"edge\">\n",
       "<title>Methylobacterium&#45;&gt;[CLS]</title>\n",
       "<path fill=\"none\" stroke=\"black\" d=\"M1143.16,-249.93C1247.92,-283.07 1512.3,-362.49 1740,-396 1954.12,-427.51 2637.52,-444.07 2822.47,-448.05\"/>\n",
       "<polygon fill=\"black\" stroke=\"black\" points=\"2822.6,-451.55 2832.67,-448.26 2822.75,-444.55 2822.6,-451.55\"/>\n",
       "</g>\n",
       "<!-- Methylobacterium&#45;&gt;[CLS] -->\n",
       "<g id=\"edge88\" class=\"edge\">\n",
       "<title>Methylobacterium&#45;&gt;[CLS]</title>\n",
       "<path fill=\"none\" stroke=\"black\" d=\"M1149.63,-249.07C1261.29,-281.68 1528.3,-362.19 1758,-396 1969.62,-427.15 2639.63,-443.68 2822.67,-447.9\"/>\n",
       "<polygon fill=\"black\" stroke=\"black\" points=\"2822.7,-451.4 2832.78,-448.13 2822.86,-444.41 2822.7,-451.4\"/>\n",
       "</g>\n",
       "<!-- Methylobacterium&#45;&gt;[CLS] -->\n",
       "<g id=\"edge89\" class=\"edge\">\n",
       "<title>Methylobacterium&#45;&gt;[CLS]</title>\n",
       "<path fill=\"none\" stroke=\"black\" d=\"M1156.16,-248.35C1275.32,-280.48 1544.6,-361.94 1776,-396 1984.88,-426.74 2640.38,-443.25 2822.64,-447.73\"/>\n",
       "<polygon fill=\"black\" stroke=\"black\" points=\"2822.63,-451.23 2832.71,-447.98 2822.8,-444.24 2822.63,-451.23\"/>\n",
       "</g>\n",
       "<!-- Methylobacterium&#45;&gt;[CLS] -->\n",
       "<g id=\"edge170\" class=\"edge\">\n",
       "<title>Methylobacterium&#45;&gt;[CLS]</title>\n",
       "<path fill=\"none\" stroke=\"black\" d=\"M1161.41,-247.42C1288.02,-278.87 1560.32,-361.61 1794,-396 2000.03,-426.32 2640.53,-442.8 2822.64,-447.54\"/>\n",
       "<polygon fill=\"black\" stroke=\"black\" points=\"2822.63,-451.04 2832.72,-447.81 2822.81,-444.05 2822.63,-451.04\"/>\n",
       "</g>\n",
       "<!-- Vagococcus -->\n",
       "<g id=\"node7\" class=\"node\">\n",
       "<title>Vagococcus</title>\n",
       "<ellipse fill=\"none\" stroke=\"black\" cx=\"182\" cy=\"-162\" rx=\"63.89\" ry=\"18\"/>\n",
       "<text text-anchor=\"middle\" x=\"182\" y=\"-158.3\" font-family=\"Times,serif\" font-size=\"14.00\">Vagococcus</text>\n",
       "</g>\n",
       "<!-- Vagococcus&#45;&gt;Chryseobacterium -->\n",
       "<g id=\"edge9\" class=\"edge\">\n",
       "<title>Vagococcus&#45;&gt;Chryseobacterium</title>\n",
       "<path fill=\"none\" stroke=\"black\" d=\"M235.25,-171.92C253.52,-174.78 274.12,-177.77 293,-180 484.78,-202.63 534.32,-192.55 726,-216 734.72,-217.07 743.83,-218.33 752.88,-219.67\"/>\n",
       "<polygon fill=\"black\" stroke=\"black\" points=\"752.64,-223.17 763.05,-221.21 753.69,-216.25 752.64,-223.17\"/>\n",
       "</g>\n",
       "<!-- Vagococcus&#45;&gt;[CLS] -->\n",
       "<g id=\"edge168\" class=\"edge\">\n",
       "<title>Vagococcus&#45;&gt;[CLS]</title>\n",
       "<path fill=\"none\" stroke=\"black\" d=\"M181.97,-180.11C182.6,-210.82 187.17,-276.49 213,-324 235.07,-364.59 245.31,-378.31 288,-396 409.63,-446.39 2483,-448.93 2822.23,-449.01\"/>\n",
       "<polygon fill=\"black\" stroke=\"black\" points=\"2822.44,-452.51 2832.44,-449.01 2822.44,-445.51 2822.44,-452.51\"/>\n",
       "</g>\n",
       "<!-- Mycobacterium -->\n",
       "<g id=\"node8\" class=\"node\">\n",
       "<title>Mycobacterium</title>\n",
       "<ellipse fill=\"none\" stroke=\"black\" cx=\"6227\" cy=\"-162\" rx=\"83.39\" ry=\"18\"/>\n",
       "<text text-anchor=\"middle\" x=\"6227\" y=\"-158.3\" font-family=\"Times,serif\" font-size=\"14.00\">Mycobacterium</text>\n",
       "</g>\n",
       "<!-- Mycobacterium&#45;&gt;Deinococcus -->\n",
       "<g id=\"edge22\" class=\"edge\">\n",
       "<title>Mycobacterium&#45;&gt;Deinococcus</title>\n",
       "<path fill=\"none\" stroke=\"black\" d=\"M6158.6,-172.33C6133.61,-175.36 6105.07,-178.35 6079,-180 5996.24,-185.24 3170.85,-184.84 3094,-216 3072.44,-224.74 3077.04,-242.08 3056,-252 2938.13,-307.59 2894.32,-271.92 2765,-288 2743.69,-290.65 2720.51,-293.54 2699.42,-296.18\"/>\n",
       "<polygon fill=\"black\" stroke=\"black\" points=\"2698.74,-292.74 2689.25,-297.45 2699.61,-299.68 2698.74,-292.74\"/>\n",
       "</g>\n",
       "<!-- Mycobacterium&#45;&gt;Chryseobacterium -->\n",
       "<g id=\"edge17\" class=\"edge\">\n",
       "<title>Mycobacterium&#45;&gt;Chryseobacterium</title>\n",
       "<path fill=\"none\" stroke=\"black\" d=\"M6154.29,-170.92C6125,-174.42 6091.33,-178.16 6061,-180 4932.61,-248.6 2102.69,-152.57 974,-216 954.07,-217.12 932.82,-218.93 912.88,-220.95\"/>\n",
       "<polygon fill=\"black\" stroke=\"black\" points=\"912.49,-217.47 902.9,-222 913.21,-224.44 912.49,-217.47\"/>\n",
       "</g>\n",
       "<!-- Mycobacterium&#45;&gt;Chryseobacterium -->\n",
       "<g id=\"edge47\" class=\"edge\">\n",
       "<title>Mycobacterium&#45;&gt;Chryseobacterium</title>\n",
       "<path fill=\"none\" stroke=\"black\" d=\"M6158.61,-172.41C6133.61,-175.43 6105.07,-178.41 6079,-180 4950.61,-248.6 2120.69,-152.57 992,-216 968.18,-217.34 942.46,-219.66 918.71,-222.16\"/>\n",
       "<polygon fill=\"black\" stroke=\"black\" points=\"918.24,-218.69 908.67,-223.24 918.99,-225.65 918.24,-218.69\"/>\n",
       "</g>\n",
       "<!-- Mycobacterium&#45;&gt;Chryseobacterium -->\n",
       "<g id=\"edge176\" class=\"edge\">\n",
       "<title>Mycobacterium&#45;&gt;Chryseobacterium</title>\n",
       "<path fill=\"none\" stroke=\"black\" d=\"M6163.83,-173.84C6142.63,-176.34 6118.94,-178.67 6097,-180 4968.61,-248.6 2138.69,-152.57 1010,-216 982.01,-217.57 951.39,-220.5 923.37,-223.49\"/>\n",
       "<polygon fill=\"black\" stroke=\"black\" points=\"922.74,-220.04 913.17,-224.59 923.49,-227 922.74,-220.04\"/>\n",
       "</g>\n",
       "<!-- Elizabethkingia -->\n",
       "<g id=\"node13\" class=\"node\">\n",
       "<title>Elizabethkingia</title>\n",
       "<ellipse fill=\"none\" stroke=\"black\" cx=\"6083\" cy=\"-234\" rx=\"83.39\" ry=\"18\"/>\n",
       "<text text-anchor=\"middle\" x=\"6083\" y=\"-230.3\" font-family=\"Times,serif\" font-size=\"14.00\">Elizabethkingia</text>\n",
       "</g>\n",
       "<!-- Mycobacterium&#45;&gt;Elizabethkingia -->\n",
       "<g id=\"edge66\" class=\"edge\">\n",
       "<title>Mycobacterium&#45;&gt;Elizabethkingia</title>\n",
       "<path fill=\"none\" stroke=\"black\" d=\"M6190.08,-178.19C6168.4,-188.14 6141.2,-201.27 6119.59,-212.18\"/>\n",
       "<polygon fill=\"black\" stroke=\"black\" points=\"6117.72,-209.21 6110.4,-216.87 6120.9,-215.45 6117.72,-209.21\"/>\n",
       "</g>\n",
       "<!-- Mycobacterium&#45;&gt;Elizabethkingia -->\n",
       "<g id=\"edge112\" class=\"edge\">\n",
       "<title>Mycobacterium&#45;&gt;Elizabethkingia</title>\n",
       "<path fill=\"none\" stroke=\"black\" d=\"M6199.74,-179.06C6179.82,-189.31 6152.46,-202.67 6129.19,-213.52\"/>\n",
       "<polygon fill=\"black\" stroke=\"black\" points=\"6127.43,-210.48 6119.83,-217.85 6130.37,-216.83 6127.43,-210.48\"/>\n",
       "</g>\n",
       "<!-- Mycobacterium&#45;&gt;[CLS] -->\n",
       "<g id=\"edge35\" class=\"edge\">\n",
       "<title>Mycobacterium&#45;&gt;[CLS]</title>\n",
       "<path fill=\"none\" stroke=\"black\" d=\"M6203.02,-179.69C6205.73,-189.46 6214.76,-202.51 6219,-216 6243,-292.31 6275.13,-338.99 6219,-396 6188.45,-427.03 3319.19,-445.95 2915.53,-448.66\"/>\n",
       "<polygon fill=\"black\" stroke=\"black\" points=\"2915.36,-445.16 2905.38,-448.73 2915.4,-452.16 2915.36,-445.16\"/>\n",
       "</g>\n",
       "<!-- Mycobacterium&#45;&gt;[CLS] -->\n",
       "<g id=\"edge129\" class=\"edge\">\n",
       "<title>Mycobacterium&#45;&gt;[CLS]</title>\n",
       "<path fill=\"none\" stroke=\"black\" d=\"M6219.11,-180.15C6224.01,-189.88 6232.83,-202.73 6237,-216 6261,-292.31 6293.13,-338.99 6237,-396 6206.35,-427.13 3319.11,-446.07 2915.49,-448.69\"/>\n",
       "<polygon fill=\"black\" stroke=\"black\" points=\"2915.32,-445.19 2905.34,-448.75 2915.37,-452.19 2915.32,-445.19\"/>\n",
       "</g>\n",
       "<!-- Mycobacterium&#45;&gt;[CLS] -->\n",
       "<g id=\"edge138\" class=\"edge\">\n",
       "<title>Mycobacterium&#45;&gt;[CLS]</title>\n",
       "<path fill=\"none\" stroke=\"black\" d=\"M6235.06,-180.15C6242.01,-189.88 6250.83,-202.73 6255,-216 6279,-292.31 6311.13,-338.99 6255,-396 6224.26,-427.22 3320.5,-446.18 2915.64,-448.71\"/>\n",
       "<polygon fill=\"black\" stroke=\"black\" points=\"2915.44,-445.21 2905.46,-448.77 2915.48,-452.21 2915.44,-445.21\"/>\n",
       "</g>\n",
       "<!-- Mycobacterium&#45;&gt;[CLS] -->\n",
       "<g id=\"edge167\" class=\"edge\">\n",
       "<title>Mycobacterium&#45;&gt;[CLS]</title>\n",
       "<path fill=\"none\" stroke=\"black\" d=\"M6250.58,-179.69C6259.73,-189.46 6268.76,-202.51 6273,-216 6297,-292.31 6329.13,-338.99 6273,-396 6242.18,-427.31 3321.83,-446.28 2915.66,-448.73\"/>\n",
       "<polygon fill=\"black\" stroke=\"black\" points=\"2915.44,-445.23 2905.46,-448.79 2915.48,-452.23 2915.44,-445.23\"/>\n",
       "</g>\n",
       "<!-- Mycobacterium&#45;&gt;[CLS] -->\n",
       "<g id=\"edge184\" class=\"edge\">\n",
       "<title>Mycobacterium&#45;&gt;[CLS]</title>\n",
       "<path fill=\"none\" stroke=\"black\" d=\"M6264.53,-178.09C6276.71,-188.01 6286.52,-201.76 6291,-216 6315,-292.31 6347.13,-338.99 6291,-396 6260.09,-427.4 3323.12,-446.39 2915.56,-448.75\"/>\n",
       "<polygon fill=\"black\" stroke=\"black\" points=\"2915.3,-445.25 2905.32,-448.81 2915.34,-452.25 2915.3,-445.25\"/>\n",
       "</g>\n",
       "<!-- Mycobacterium&#45;&gt;[CLS] -->\n",
       "<g id=\"edge189\" class=\"edge\">\n",
       "<title>Mycobacterium&#45;&gt;[CLS]</title>\n",
       "<path fill=\"none\" stroke=\"black\" d=\"M6277.3,-176.34C6293.51,-186.36 6304.25,-200.91 6309,-216 6333,-292.31 6365.13,-338.99 6309,-396 6278,-427.49 3324.43,-446.5 2915.35,-448.77\"/>\n",
       "<polygon fill=\"black\" stroke=\"black\" points=\"2915.32,-445.27 2905.34,-448.83 2915.36,-452.27 2915.32,-445.27\"/>\n",
       "</g>\n",
       "<!-- Janibacter -->\n",
       "<g id=\"node9\" class=\"node\">\n",
       "<title>Janibacter</title>\n",
       "<ellipse fill=\"none\" stroke=\"black\" cx=\"6464\" cy=\"-234\" rx=\"57.69\" ry=\"18\"/>\n",
       "<text text-anchor=\"middle\" x=\"6464\" y=\"-230.3\" font-family=\"Times,serif\" font-size=\"14.00\">Janibacter</text>\n",
       "</g>\n",
       "<!-- Janibacter&#45;&gt;Deinococcus -->\n",
       "<g id=\"edge55\" class=\"edge\">\n",
       "<title>Janibacter&#45;&gt;Deinococcus</title>\n",
       "<path fill=\"none\" stroke=\"black\" d=\"M6408.36,-239.07C6350.2,-243.14 6256.25,-249.18 6175,-252 5417.64,-278.26 3521.1,-236.92 2765,-288 2742.76,-289.5 2718.59,-292.18 2696.88,-294.97\"/>\n",
       "<polygon fill=\"black\" stroke=\"black\" points=\"2696.22,-291.53 2686.77,-296.31 2697.14,-298.47 2696.22,-291.53\"/>\n",
       "</g>\n",
       "<!-- Janibacter&#45;&gt;[CLS] -->\n",
       "<g id=\"edge122\" class=\"edge\">\n",
       "<title>Janibacter&#45;&gt;[CLS]</title>\n",
       "<path fill=\"none\" stroke=\"black\" d=\"M6462.21,-252.21C6457.62,-286.54 6441.98,-363.06 6392,-396 6315.9,-446.15 3326.72,-448.86 2915.67,-448.99\"/>\n",
       "<polygon fill=\"black\" stroke=\"black\" points=\"2915.62,-445.49 2905.62,-449 2915.63,-452.49 2915.62,-445.49\"/>\n",
       "</g>\n",
       "<!-- Romboutsia -->\n",
       "<g id=\"node10\" class=\"node\">\n",
       "<title>Romboutsia</title>\n",
       "<ellipse fill=\"none\" stroke=\"black\" cx=\"1277\" cy=\"-234\" rx=\"65.79\" ry=\"18\"/>\n",
       "<text text-anchor=\"middle\" x=\"1277\" y=\"-230.3\" font-family=\"Times,serif\" font-size=\"14.00\">Romboutsia</text>\n",
       "</g>\n",
       "<!-- Romboutsia&#45;&gt;Deinococcus -->\n",
       "<g id=\"edge161\" class=\"edge\">\n",
       "<title>Romboutsia&#45;&gt;Deinococcus</title>\n",
       "<path fill=\"none\" stroke=\"black\" d=\"M1322.94,-246.94C1332.18,-248.94 1341.85,-250.77 1351,-252 1584.78,-283.43 2310.7,-299.19 2550.92,-303.65\"/>\n",
       "<polygon fill=\"black\" stroke=\"black\" points=\"2550.91,-307.15 2560.97,-303.83 2551.03,-300.15 2550.91,-307.15\"/>\n",
       "</g>\n",
       "<!-- Romboutsia&#45;&gt;[CLS] -->\n",
       "<g id=\"edge13\" class=\"edge\">\n",
       "<title>Romboutsia&#45;&gt;[CLS]</title>\n",
       "<path fill=\"none\" stroke=\"black\" d=\"M1318.02,-248.1C1419.4,-279.84 1690.43,-360.83 1923,-396 2264.99,-447.73 2683.4,-450.24 2821.97,-449.48\"/>\n",
       "<polygon fill=\"black\" stroke=\"black\" points=\"2822.24,-452.98 2832.22,-449.42 2822.2,-445.98 2822.24,-452.98\"/>\n",
       "</g>\n",
       "<!-- 67&#45;14_unclassified&#45;&gt;Morganella -->\n",
       "<g id=\"edge140\" class=\"edge\">\n",
       "<title>67&#45;14_unclassified&#45;&gt;Morganella</title>\n",
       "<path fill=\"none\" stroke=\"black\" d=\"M276.81,-108.28C279.95,-126.37 285.59,-155.5 293,-180 295.68,-188.85 299.2,-198.3 302.59,-206.74\"/>\n",
       "<polygon fill=\"black\" stroke=\"black\" points=\"299.4,-208.17 306.45,-216.07 305.86,-205.49 299.4,-208.17\"/>\n",
       "</g>\n",
       "<!-- 67&#45;14_unclassified&#45;&gt;Mycobacterium -->\n",
       "<g id=\"edge119\" class=\"edge\">\n",
       "<title>67&#45;14_unclassified&#45;&gt;Mycobacterium</title>\n",
       "<path fill=\"none\" stroke=\"black\" d=\"M370.01,-91.27C1078.66,-93.31 5487.23,-107.41 6079,-144 6101.61,-145.4 6126.07,-147.83 6148.47,-150.42\"/>\n",
       "<polygon fill=\"black\" stroke=\"black\" points=\"6148.26,-153.92 6158.61,-151.62 6149.09,-146.97 6148.26,-153.92\"/>\n",
       "</g>\n",
       "<!-- 67&#45;14_unclassified&#45;&gt;Janibacter -->\n",
       "<g id=\"edge74\" class=\"edge\">\n",
       "<title>67&#45;14_unclassified&#45;&gt;Janibacter</title>\n",
       "<path fill=\"none\" stroke=\"black\" d=\"M370.18,-91.13C1131.09,-92.27 6152.07,-101.23 6301,-144 6325.68,-151.09 6383.71,-189.59 6424.05,-213.58\"/>\n",
       "<polygon fill=\"black\" stroke=\"black\" points=\"6422.48,-216.71 6432.88,-218.75 6426.02,-210.67 6422.48,-216.71\"/>\n",
       "</g>\n",
       "<!-- 67&#45;14_unclassified&#45;&gt;Janibacter -->\n",
       "<g id=\"edge171\" class=\"edge\">\n",
       "<title>67&#45;14_unclassified&#45;&gt;Janibacter</title>\n",
       "<path fill=\"none\" stroke=\"black\" d=\"M370.07,-91.13C1131.81,-92.23 6169.81,-101.16 6319,-144 6342.95,-150.88 6398.3,-187.34 6433.27,-211.41\"/>\n",
       "<polygon fill=\"black\" stroke=\"black\" points=\"6431.47,-214.42 6441.69,-217.24 6435.46,-208.67 6431.47,-214.42\"/>\n",
       "</g>\n",
       "<!-- 67&#45;14_unclassified&#45;&gt;Janibacter -->\n",
       "<g id=\"edge178\" class=\"edge\">\n",
       "<title>67&#45;14_unclassified&#45;&gt;Janibacter</title>\n",
       "<path fill=\"none\" stroke=\"black\" d=\"M370.2,-91.12C1133.83,-92.21 6187.58,-101.09 6337,-144 6360.36,-150.71 6413.58,-185.56 6443.86,-209.6\"/>\n",
       "<polygon fill=\"black\" stroke=\"black\" points=\"6441.79,-212.43 6451.75,-216.07 6446.23,-207.02 6441.79,-212.43\"/>\n",
       "</g>\n",
       "<!-- Enterobacteriaceae_unclassified -->\n",
       "<g id=\"node16\" class=\"node\">\n",
       "<title>Enterobacteriaceae_unclassified</title>\n",
       "<ellipse fill=\"none\" stroke=\"black\" cx=\"556\" cy=\"-234\" rx=\"160.57\" ry=\"18\"/>\n",
       "<text text-anchor=\"middle\" x=\"556\" y=\"-230.3\" font-family=\"Times,serif\" font-size=\"14.00\">Enterobacteriaceae_unclassified</text>\n",
       "</g>\n",
       "<!-- 67&#45;14_unclassified&#45;&gt;Enterobacteriaceae_unclassified -->\n",
       "<g id=\"edge18\" class=\"edge\">\n",
       "<title>67&#45;14_unclassified&#45;&gt;Enterobacteriaceae_unclassified</title>\n",
       "<path fill=\"none\" stroke=\"black\" d=\"M369.54,-92.13C460.83,-95.49 589.14,-106.9 621,-144 631.42,-156.14 627.86,-165.55 621,-180 615.33,-191.94 605.52,-202.07 595.2,-210.18\"/>\n",
       "<polygon fill=\"black\" stroke=\"black\" points=\"592.91,-207.52 586.9,-216.24 597.04,-213.17 592.91,-207.52\"/>\n",
       "</g>\n",
       "<!-- 67&#45;14_unclassified&#45;&gt;[CLS] -->\n",
       "<g id=\"edge28\" class=\"edge\">\n",
       "<title>67&#45;14_unclassified&#45;&gt;[CLS]</title>\n",
       "<path fill=\"none\" stroke=\"black\" d=\"M192.26,-99.51C109.78,-113.91 0,-150.08 0,-233 0,-233 0,-233 0,-307 0,-399.04 97.43,-374.82 187,-396 319.25,-427.27 2474.23,-446.12 2822.31,-448.7\"/>\n",
       "<polygon fill=\"black\" stroke=\"black\" points=\"2822.52,-452.2 2832.54,-448.77 2822.57,-445.2 2822.52,-452.2\"/>\n",
       "</g>\n",
       "<!-- 67&#45;14_unclassified&#45;&gt;[CLS] -->\n",
       "<g id=\"edge31\" class=\"edge\">\n",
       "<title>67&#45;14_unclassified&#45;&gt;[CLS]</title>\n",
       "<path fill=\"none\" stroke=\"black\" d=\"M197.07,-100.91C121.07,-116.2 18,-152.66 18,-233 18,-233 18,-233 18,-307 18,-399.04 115.43,-374.82 205,-396 336.76,-427.15 2476.53,-445.99 2822.23,-448.67\"/>\n",
       "<polygon fill=\"black\" stroke=\"black\" points=\"2822.36,-452.17 2832.39,-448.75 2822.42,-445.17 2822.36,-452.17\"/>\n",
       "</g>\n",
       "<!-- 67&#45;14_unclassified&#45;&gt;[CLS] -->\n",
       "<g id=\"edge113\" class=\"edge\">\n",
       "<title>67&#45;14_unclassified&#45;&gt;[CLS]</title>\n",
       "<path fill=\"none\" stroke=\"black\" d=\"M203.39,-102.3C133.16,-118.36 36,-154.99 36,-233 36,-233 36,-233 36,-307 36,-399.04 133.43,-374.82 223,-396 354.28,-427.04 2478.89,-445.85 2822.31,-448.64\"/>\n",
       "<polygon fill=\"black\" stroke=\"black\" points=\"2822.38,-452.14 2832.41,-448.72 2822.44,-445.14 2822.38,-452.14\"/>\n",
       "</g>\n",
       "<!-- 67&#45;14_unclassified&#45;&gt;[CLS] -->\n",
       "<g id=\"edge121\" class=\"edge\">\n",
       "<title>67&#45;14_unclassified&#45;&gt;[CLS]</title>\n",
       "<path fill=\"none\" stroke=\"black\" d=\"M211.07,-103.65C145.99,-120.37 54,-157.1 54,-233 54,-233 54,-233 54,-307 54,-399.04 151.43,-374.82 241,-396 371.8,-426.92 2481.3,-445.71 2822.56,-448.61\"/>\n",
       "<polygon fill=\"black\" stroke=\"black\" points=\"2822.57,-452.11 2832.6,-448.69 2822.63,-445.11 2822.57,-452.11\"/>\n",
       "</g>\n",
       "<!-- 67&#45;14_unclassified&#45;&gt;[CLS] -->\n",
       "<g id=\"edge125\" class=\"edge\">\n",
       "<title>67&#45;14_unclassified&#45;&gt;[CLS]</title>\n",
       "<path fill=\"none\" stroke=\"black\" d=\"M219.96,-104.92C159.51,-122.2 72,-158.97 72,-233 72,-233 72,-233 72,-307 72,-399.04 169.43,-374.82 259,-396 389.25,-426.79 2481.56,-445.55 2822.44,-448.57\"/>\n",
       "<polygon fill=\"black\" stroke=\"black\" points=\"2822.43,-452.07 2832.47,-448.66 2822.5,-445.07 2822.43,-452.07\"/>\n",
       "</g>\n",
       "<!-- 67&#45;14_unclassified&#45;&gt;[CLS] -->\n",
       "<g id=\"edge181\" class=\"edge\">\n",
       "<title>67&#45;14_unclassified&#45;&gt;[CLS]</title>\n",
       "<path fill=\"none\" stroke=\"black\" d=\"M229.93,-106.1C173.68,-123.85 90,-160.61 90,-233 90,-233 90,-233 90,-307 90,-399.04 187.43,-374.82 277,-396 406.7,-426.66 2481.88,-445.39 2822.47,-448.53\"/>\n",
       "<polygon fill=\"black\" stroke=\"black\" points=\"2822.46,-452.03 2832.5,-448.62 2822.53,-445.03 2822.46,-452.03\"/>\n",
       "</g>\n",
       "<!-- Microbacteriaceae_unclassified -->\n",
       "<g id=\"node12\" class=\"node\">\n",
       "<title>Microbacteriaceae_unclassified</title>\n",
       "<ellipse fill=\"none\" stroke=\"black\" cx=\"457\" cy=\"-162\" rx=\"155.17\" ry=\"18\"/>\n",
       "<text text-anchor=\"middle\" x=\"457\" y=\"-158.3\" font-family=\"Times,serif\" font-size=\"14.00\">Microbacteriaceae_unclassified</text>\n",
       "</g>\n",
       "<!-- Microbacteriaceae_unclassified&#45;&gt;Chryseobacterium -->\n",
       "<g id=\"edge4\" class=\"edge\">\n",
       "<title>Microbacteriaceae_unclassified&#45;&gt;Chryseobacterium</title>\n",
       "<path fill=\"none\" stroke=\"black\" d=\"M531.13,-177.93C595.17,-190.2 687.37,-207.45 752.62,-219.36\"/>\n",
       "<polygon fill=\"black\" stroke=\"black\" points=\"752.39,-222.87 762.85,-221.22 753.64,-215.98 752.39,-222.87\"/>\n",
       "</g>\n",
       "<!-- Microbacteriaceae_unclassified&#45;&gt;Chryseobacterium -->\n",
       "<g id=\"edge118\" class=\"edge\">\n",
       "<title>Microbacteriaceae_unclassified&#45;&gt;Chryseobacterium</title>\n",
       "<path fill=\"none\" stroke=\"black\" d=\"M539.16,-177.33C604.72,-189.31 695.62,-206.32 758.5,-218.38\"/>\n",
       "<polygon fill=\"black\" stroke=\"black\" points=\"757.86,-221.82 768.35,-220.27 759.19,-214.95 757.86,-221.82\"/>\n",
       "</g>\n",
       "<!-- Microbacteriaceae_unclassified&#45;&gt;[CLS] -->\n",
       "<g id=\"edge72\" class=\"edge\">\n",
       "<title>Microbacteriaceae_unclassified&#45;&gt;[CLS]</title>\n",
       "<path fill=\"none\" stroke=\"black\" d=\"M345.8,-174.57C292.52,-182.77 236.91,-195.95 221,-216 157.15,-296.48 267.94,-365.4 366,-396 487.48,-433.91 2488.77,-446.89 2822.13,-448.76\"/>\n",
       "<polygon fill=\"black\" stroke=\"black\" points=\"2822.37,-452.26 2832.39,-448.81 2822.41,-445.26 2822.37,-452.26\"/>\n",
       "</g>\n",
       "<!-- Microbacteriaceae_unclassified&#45;&gt;[CLS] -->\n",
       "<g id=\"edge156\" class=\"edge\">\n",
       "<title>Microbacteriaceae_unclassified&#45;&gt;[CLS]</title>\n",
       "<path fill=\"none\" stroke=\"black\" d=\"M355.25,-175.62C305.98,-183.88 254.25,-196.78 239,-216 175.15,-296.48 285.94,-365.4 384,-396 504.97,-433.75 2489.96,-446.78 2822.07,-448.73\"/>\n",
       "<polygon fill=\"black\" stroke=\"black\" points=\"2822.28,-452.23 2832.3,-448.79 2822.32,-445.23 2822.28,-452.23\"/>\n",
       "</g>\n",
       "<!-- Elizabethkingia&#45;&gt;Deinococcus -->\n",
       "<g id=\"edge52\" class=\"edge\">\n",
       "<title>Elizabethkingia&#45;&gt;Deinococcus</title>\n",
       "<path fill=\"none\" stroke=\"black\" d=\"M6021.95,-246.27C6008.77,-248.61 5994.93,-250.74 5982,-252 5268.43,-321.39 3471.29,-239.46 2756,-288 2735.99,-289.36 2714.4,-291.67 2694.78,-294.15\"/>\n",
       "<polygon fill=\"black\" stroke=\"black\" points=\"2694.18,-290.7 2684.72,-295.46 2695.08,-297.64 2694.18,-290.7\"/>\n",
       "</g>\n",
       "<!-- Elizabethkingia&#45;&gt;Deinococcus -->\n",
       "<g id=\"edge56\" class=\"edge\">\n",
       "<title>Elizabethkingia&#45;&gt;Deinococcus</title>\n",
       "<path fill=\"none\" stroke=\"black\" d=\"M6029.73,-247.98C6019.91,-249.62 6009.7,-251.06 6000,-252 5286.43,-321.39 3489.29,-239.46 2774,-288 2749.49,-289.66 2722.63,-292.75 2698.71,-295.84\"/>\n",
       "<polygon fill=\"black\" stroke=\"black\" points=\"2698.11,-292.39 2688.65,-297.16 2699.02,-299.33 2698.11,-292.39\"/>\n",
       "</g>\n",
       "<!-- Elizabethkingia&#45;&gt;[CLS] -->\n",
       "<g id=\"edge116\" class=\"edge\">\n",
       "<title>Elizabethkingia&#45;&gt;[CLS]</title>\n",
       "<path fill=\"none\" stroke=\"black\" d=\"M6019.34,-245.64C6006.91,-247.87 5994.03,-250.11 5982,-252 5735.84,-290.65 5673.26,-293.16 5426,-324 5159.49,-357.25 5093.86,-376.36 4826,-396 4064.2,-451.86 3132.49,-450.56 2915.59,-449.35\"/>\n",
       "<polygon fill=\"black\" stroke=\"black\" points=\"2915.53,-445.85 2905.51,-449.29 2915.49,-452.85 2915.53,-445.85\"/>\n",
       "</g>\n",
       "<!-- Elizabethkingia&#45;&gt;[CLS] -->\n",
       "<g id=\"edge166\" class=\"edge\">\n",
       "<title>Elizabethkingia&#45;&gt;[CLS]</title>\n",
       "<path fill=\"none\" stroke=\"black\" d=\"M6027.15,-247.42C6018.11,-249.04 6008.83,-250.61 6000,-252 5753.84,-290.65 5691.26,-293.16 5444,-324 5177.49,-357.25 5111.86,-376.36 4844,-396 4075.5,-452.35 3134.09,-450.54 2915.7,-449.32\"/>\n",
       "<polygon fill=\"black\" stroke=\"black\" points=\"2915.57,-445.82 2905.55,-449.26 2915.53,-452.82 2915.57,-445.82\"/>\n",
       "</g>\n",
       "<!-- Amnibacterium -->\n",
       "<g id=\"node14\" class=\"node\">\n",
       "<title>Amnibacterium</title>\n",
       "<ellipse fill=\"none\" stroke=\"black\" cx=\"5988\" cy=\"-162\" rx=\"81.79\" ry=\"18\"/>\n",
       "<text text-anchor=\"middle\" x=\"5988\" y=\"-158.3\" font-family=\"Times,serif\" font-size=\"14.00\">Amnibacterium</text>\n",
       "</g>\n",
       "<!-- Amnibacterium&#45;&gt;Elizabethkingia -->\n",
       "<g id=\"edge62\" class=\"edge\">\n",
       "<title>Amnibacterium&#45;&gt;Elizabethkingia</title>\n",
       "<path fill=\"none\" stroke=\"black\" d=\"M6010.51,-179.59C6023.05,-188.83 6038.84,-200.46 6052.48,-210.51\"/>\n",
       "<polygon fill=\"black\" stroke=\"black\" points=\"6050.52,-213.42 6060.65,-216.53 6054.67,-207.78 6050.52,-213.42\"/>\n",
       "</g>\n",
       "<!-- Amnibacterium&#45;&gt;[CLS] -->\n",
       "<g id=\"edge135\" class=\"edge\">\n",
       "<title>Amnibacterium&#45;&gt;[CLS]</title>\n",
       "<path fill=\"none\" stroke=\"black\" d=\"M6043.73,-175.23C6095.85,-187.22 6166.86,-205.23 6175,-216 6184.65,-228.76 6185.58,-240 6175,-252 6006.76,-442.91 5859.49,-292.35 5607,-324 5348.82,-356.36 5285.49,-376.78 5026,-396 4595.16,-427.91 3189.6,-445.34 2915.56,-448.48\"/>\n",
       "<polygon fill=\"black\" stroke=\"black\" points=\"2915.51,-444.98 2905.55,-448.6 2915.59,-451.98 2915.51,-444.98\"/>\n",
       "</g>\n",
       "<!-- Friedmanniella -->\n",
       "<g id=\"node15\" class=\"node\">\n",
       "<title>Friedmanniella</title>\n",
       "<ellipse fill=\"none\" stroke=\"black\" cx=\"751\" cy=\"-162\" rx=\"81.49\" ry=\"18\"/>\n",
       "<text text-anchor=\"middle\" x=\"751\" y=\"-158.3\" font-family=\"Times,serif\" font-size=\"14.00\">Friedmanniella</text>\n",
       "</g>\n",
       "<!-- Friedmanniella&#45;&gt;Chryseobacterium -->\n",
       "<g id=\"edge157\" class=\"edge\">\n",
       "<title>Friedmanniella&#45;&gt;Chryseobacterium</title>\n",
       "<path fill=\"none\" stroke=\"black\" d=\"M769.96,-179.59C780.15,-188.5 792.88,-199.64 804.08,-209.44\"/>\n",
       "<polygon fill=\"black\" stroke=\"black\" points=\"802.07,-212.34 811.9,-216.29 806.68,-207.07 802.07,-212.34\"/>\n",
       "</g>\n",
       "<!-- Friedmanniella&#45;&gt;[CLS] -->\n",
       "<g id=\"edge107\" class=\"edge\">\n",
       "<title>Friedmanniella&#45;&gt;[CLS]</title>\n",
       "<path fill=\"none\" stroke=\"black\" d=\"M683.92,-172.24C663.71,-174.89 641.47,-177.69 621,-180 578.86,-184.75 269.54,-184.63 241,-216 230.23,-227.84 231.86,-238.86 241,-252 348.65,-406.77 454.54,-362.11 640,-396 861.44,-436.47 2520.85,-447.15 2822.15,-448.77\"/>\n",
       "<polygon fill=\"black\" stroke=\"black\" points=\"2822.27,-452.27 2832.29,-448.82 2822.31,-445.27 2822.27,-452.27\"/>\n",
       "</g>\n",
       "<!-- Enterobacteriaceae_unclassified&#45;&gt;Deinococcus -->\n",
       "<g id=\"edge23\" class=\"edge\">\n",
       "<title>Enterobacteriaceae_unclassified&#45;&gt;Deinococcus</title>\n",
       "<path fill=\"none\" stroke=\"black\" d=\"M638.49,-249.5C649.71,-250.45 661.05,-251.3 672,-252 1398.2,-298.36 2282.86,-304.18 2550.63,-304.9\"/>\n",
       "<polygon fill=\"black\" stroke=\"black\" points=\"2550.64,-308.4 2560.65,-304.93 2550.66,-301.4 2550.64,-308.4\"/>\n",
       "</g>\n",
       "<!-- Enterobacteriaceae_unclassified&#45;&gt;Deinococcus -->\n",
       "<g id=\"edge26\" class=\"edge\">\n",
       "<title>Enterobacteriaceae_unclassified&#45;&gt;Deinococcus</title>\n",
       "<path fill=\"none\" stroke=\"black\" d=\"M648.23,-248.8C662.17,-250.02 676.38,-251.13 690,-252 1409.74,-297.95 2285.13,-304.07 2550.18,-304.88\"/>\n",
       "<polygon fill=\"black\" stroke=\"black\" points=\"2550.47,-308.38 2560.48,-304.91 2550.49,-301.38 2550.47,-308.38\"/>\n",
       "</g>\n",
       "<!-- Enterobacteriaceae_unclassified&#45;&gt;Deinococcus -->\n",
       "<g id=\"edge69\" class=\"edge\">\n",
       "<title>Enterobacteriaceae_unclassified&#45;&gt;Deinococcus</title>\n",
       "<path fill=\"none\" stroke=\"black\" d=\"M657.45,-248.02C674.28,-249.56 691.57,-250.95 708,-252 1421.64,-297.56 2288.29,-303.97 2550.44,-304.86\"/>\n",
       "<polygon fill=\"black\" stroke=\"black\" points=\"2550.61,-308.36 2560.63,-304.89 2550.64,-301.36 2550.61,-308.36\"/>\n",
       "</g>\n",
       "<!-- Enterobacteriaceae_unclassified&#45;&gt;Deinococcus -->\n",
       "<g id=\"edge73\" class=\"edge\">\n",
       "<title>Enterobacteriaceae_unclassified&#45;&gt;Deinococcus</title>\n",
       "<path fill=\"none\" stroke=\"black\" d=\"M666.1,-247.17C686.02,-249.04 706.61,-250.76 726,-252 1433.13,-297.14 2290.49,-303.85 2550.55,-304.83\"/>\n",
       "<polygon fill=\"black\" stroke=\"black\" points=\"2550.64,-308.33 2560.65,-304.87 2550.66,-301.33 2550.64,-308.33\"/>\n",
       "</g>\n",
       "<!-- Enterobacteriaceae_unclassified&#45;&gt;Deinococcus -->\n",
       "<g id=\"edge80\" class=\"edge\">\n",
       "<title>Enterobacteriaceae_unclassified&#45;&gt;Deinococcus</title>\n",
       "<path fill=\"none\" stroke=\"black\" d=\"M674.11,-246.26C697.38,-248.48 721.5,-250.56 744,-252 1444.21,-296.7 2291.74,-303.71 2550.48,-304.8\"/>\n",
       "<polygon fill=\"black\" stroke=\"black\" points=\"2550.52,-308.3 2560.54,-304.84 2550.55,-301.3 2550.52,-308.3\"/>\n",
       "</g>\n",
       "<!-- Enterobacteriaceae_unclassified&#45;&gt;Deinococcus -->\n",
       "<g id=\"edge92\" class=\"edge\">\n",
       "<title>Enterobacteriaceae_unclassified&#45;&gt;Deinococcus</title>\n",
       "<path fill=\"none\" stroke=\"black\" d=\"M681.36,-245.29C708.36,-247.87 736.25,-250.36 762,-252 1455.29,-296.26 2293.01,-303.57 2550.68,-304.77\"/>\n",
       "<polygon fill=\"black\" stroke=\"black\" points=\"2550.68,-308.27 2560.69,-304.81 2550.71,-301.27 2550.68,-308.27\"/>\n",
       "</g>\n",
       "<!-- Enterobacteriaceae_unclassified&#45;&gt;Deinococcus -->\n",
       "<g id=\"edge174\" class=\"edge\">\n",
       "<title>Enterobacteriaceae_unclassified&#45;&gt;Deinococcus</title>\n",
       "<path fill=\"none\" stroke=\"black\" d=\"M688.16,-244.32C719.28,-247.22 750.99,-250.15 780,-252 1465.97,-295.79 2293.33,-303.41 2550.67,-304.73\"/>\n",
       "<polygon fill=\"black\" stroke=\"black\" points=\"2550.66,-308.23 2560.68,-304.78 2550.69,-301.23 2550.66,-308.23\"/>\n",
       "</g>\n",
       "<!-- Enterobacteriaceae_unclassified&#45;&gt;[CLS] -->\n",
       "<g id=\"edge41\" class=\"edge\">\n",
       "<title>Enterobacteriaceae_unclassified&#45;&gt;[CLS]</title>\n",
       "<path fill=\"none\" stroke=\"black\" d=\"M552.58,-252.22C583.13,-287.28 715.81,-366.18 840,-396 1035.82,-443.02 2534.47,-448.37 2822.48,-448.94\"/>\n",
       "<polygon fill=\"black\" stroke=\"black\" points=\"2822.59,-452.44 2832.6,-448.96 2822.6,-445.44 2822.59,-452.44\"/>\n",
       "</g>\n",
       "<!-- Enterobacteriaceae_unclassified&#45;&gt;[CLS] -->\n",
       "<g id=\"edge83\" class=\"edge\">\n",
       "<title>Enterobacteriaceae_unclassified&#45;&gt;[CLS]</title>\n",
       "<path fill=\"none\" stroke=\"black\" d=\"M562.44,-252.22C601.13,-287.28 733.81,-366.18 858,-396 1052.8,-442.78 2536.85,-448.32 2822.19,-448.93\"/>\n",
       "<polygon fill=\"black\" stroke=\"black\" points=\"2822.59,-452.43 2832.59,-448.95 2822.6,-445.43 2822.59,-452.43\"/>\n",
       "</g>\n",
       "<!-- Enterobacteriaceae_unclassified&#45;&gt;[CLS] -->\n",
       "<g id=\"edge85\" class=\"edge\">\n",
       "<title>Enterobacteriaceae_unclassified&#45;&gt;[CLS]</title>\n",
       "<path fill=\"none\" stroke=\"black\" d=\"M571.95,-251.95C618.45,-286.88 751.49,-366.1 876,-396 1069.77,-442.53 2539.21,-448.26 2822.1,-448.92\"/>\n",
       "<polygon fill=\"black\" stroke=\"black\" points=\"2822.41,-452.42 2832.42,-448.94 2822.43,-445.42 2822.41,-452.42\"/>\n",
       "</g>\n",
       "<!-- Enterobacteriaceae_unclassified&#45;&gt;[CLS] -->\n",
       "<g id=\"edge95\" class=\"edge\">\n",
       "<title>Enterobacteriaceae_unclassified&#45;&gt;[CLS]</title>\n",
       "<path fill=\"none\" stroke=\"black\" d=\"M581.74,-251.95C636.45,-286.88 769.49,-366.1 894,-396 1086.74,-442.28 2541.63,-448.2 2822.24,-448.91\"/>\n",
       "<polygon fill=\"black\" stroke=\"black\" points=\"2822.47,-452.41 2832.48,-448.93 2822.49,-445.41 2822.47,-452.41\"/>\n",
       "</g>\n",
       "<!-- Enterobacteriaceae_unclassified&#45;&gt;[CLS] -->\n",
       "<g id=\"edge111\" class=\"edge\">\n",
       "<title>Enterobacteriaceae_unclassified&#45;&gt;[CLS]</title>\n",
       "<path fill=\"none\" stroke=\"black\" d=\"M591.06,-251.68C653.78,-286.48 787.18,-366.02 912,-396 1103.61,-442.01 2542.59,-448.12 2822.16,-448.89\"/>\n",
       "<polygon fill=\"black\" stroke=\"black\" points=\"2822.35,-452.39 2832.36,-448.92 2822.37,-445.39 2822.35,-452.39\"/>\n",
       "</g>\n",
       "<!-- Enterobacteriaceae_unclassified&#45;&gt;[CLS] -->\n",
       "<g id=\"edge132\" class=\"edge\">\n",
       "<title>Enterobacteriaceae_unclassified&#45;&gt;[CLS]</title>\n",
       "<path fill=\"none\" stroke=\"black\" d=\"M600.26,-251.42C671.1,-286.07 804.86,-365.95 930,-396 1120.47,-441.74 2543.63,-448.05 2822.29,-448.88\"/>\n",
       "<polygon fill=\"black\" stroke=\"black\" points=\"2822.46,-452.38 2832.47,-448.91 2822.48,-445.38 2822.46,-452.38\"/>\n",
       "</g>\n",
       "<!-- Enterobacteriaceae_unclassified&#45;&gt;[CLS] -->\n",
       "<g id=\"edge133\" class=\"edge\">\n",
       "<title>Enterobacteriaceae_unclassified&#45;&gt;[CLS]</title>\n",
       "<path fill=\"none\" stroke=\"black\" d=\"M609.04,-251.03C688.09,-285.47 822.39,-365.84 948,-396 1137.24,-441.44 2543.23,-447.97 2822.19,-448.86\"/>\n",
       "<polygon fill=\"black\" stroke=\"black\" points=\"2822.37,-452.36 2832.38,-448.89 2822.39,-445.36 2822.37,-452.36\"/>\n",
       "</g>\n",
       "<!-- Bacteria_unclassified -->\n",
       "<g id=\"node17\" class=\"node\">\n",
       "<title>Bacteria_unclassified</title>\n",
       "<ellipse fill=\"none\" stroke=\"black\" cx=\"1469\" cy=\"-234\" rx=\"108.58\" ry=\"18\"/>\n",
       "<text text-anchor=\"middle\" x=\"1469\" y=\"-230.3\" font-family=\"Times,serif\" font-size=\"14.00\">Bacteria_unclassified</text>\n",
       "</g>\n",
       "<!-- Bacteria_unclassified&#45;&gt;Deinococcus -->\n",
       "<g id=\"edge34\" class=\"edge\">\n",
       "<title>Bacteria_unclassified&#45;&gt;Deinococcus</title>\n",
       "<path fill=\"none\" stroke=\"black\" d=\"M1544.73,-246.96C1558.76,-248.88 1573.3,-250.67 1587,-252 1946.27,-286.94 2377.62,-299.6 2551.12,-303.49\"/>\n",
       "<polygon fill=\"black\" stroke=\"black\" points=\"2551.11,-306.99 2561.18,-303.72 2551.26,-300 2551.11,-306.99\"/>\n",
       "</g>\n",
       "<!-- Bacteria_unclassified&#45;&gt;[CLS] -->\n",
       "<g id=\"edge142\" class=\"edge\">\n",
       "<title>Bacteria_unclassified&#45;&gt;[CLS]</title>\n",
       "<path fill=\"none\" stroke=\"black\" d=\"M1516.43,-250.2C1620.93,-283 1879.47,-360.31 2102,-396 2372.26,-439.34 2701.68,-447.26 2822.08,-448.69\"/>\n",
       "<polygon fill=\"black\" stroke=\"black\" points=\"2822.37,-452.19 2832.4,-448.8 2822.44,-445.19 2822.37,-452.19\"/>\n",
       "</g>\n",
       "<!-- env.OPS_17_unclassified -->\n",
       "<g id=\"node18\" class=\"node\">\n",
       "<title>env.OPS_17_unclassified</title>\n",
       "<ellipse fill=\"none\" stroke=\"black\" cx=\"1720\" cy=\"-234\" rx=\"124.28\" ry=\"18\"/>\n",
       "<text text-anchor=\"middle\" x=\"1720\" y=\"-230.3\" font-family=\"Times,serif\" font-size=\"14.00\">env.OPS_17_unclassified</text>\n",
       "</g>\n",
       "<!-- env.OPS_17_unclassified&#45;&gt;Deinococcus -->\n",
       "<g id=\"edge165\" class=\"edge\">\n",
       "<title>env.OPS_17_unclassified&#45;&gt;Deinococcus</title>\n",
       "<path fill=\"none\" stroke=\"black\" d=\"M1807.2,-246.89C1822.45,-248.76 1838.17,-250.55 1853,-252 2108.67,-277.05 2412.88,-294.14 2552.3,-301.26\"/>\n",
       "<polygon fill=\"black\" stroke=\"black\" points=\"2552.29,-304.77 2562.46,-301.78 2552.65,-297.78 2552.29,-304.77\"/>\n",
       "</g>\n",
       "<!-- env.OPS_17_unclassified&#45;&gt;[CLS] -->\n",
       "<g id=\"edge37\" class=\"edge\">\n",
       "<title>env.OPS_17_unclassified&#45;&gt;[CLS]</title>\n",
       "<path fill=\"none\" stroke=\"black\" d=\"M1762.25,-250.99C1851.68,-284.09 2067.33,-360.06 2255,-396 2464.29,-436.08 2719.55,-445.87 2822.59,-448.25\"/>\n",
       "<polygon fill=\"black\" stroke=\"black\" points=\"2822.58,-451.75 2832.66,-448.47 2822.73,-444.75 2822.58,-451.75\"/>\n",
       "</g>\n",
       "<!-- Solirubrobacteraceae_unclassified -->\n",
       "<g id=\"node19\" class=\"node\">\n",
       "<title>Solirubrobacteraceae_unclassified</title>\n",
       "<ellipse fill=\"none\" stroke=\"black\" cx=\"6107\" cy=\"-90\" rx=\"168.97\" ry=\"18\"/>\n",
       "<text text-anchor=\"middle\" x=\"6107\" y=\"-86.3\" font-family=\"Times,serif\" font-size=\"14.00\">Solirubrobacteraceae_unclassified</text>\n",
       "</g>\n",
       "<!-- Solirubrobacteraceae_unclassified&#45;&gt;Chryseobacterium -->\n",
       "<g id=\"edge77\" class=\"edge\">\n",
       "<title>Solirubrobacteraceae_unclassified&#45;&gt;Chryseobacterium</title>\n",
       "<path fill=\"none\" stroke=\"black\" d=\"M5938.5,-91.59C5049.09,-94.82 938.95,-111.51 883,-144 859.99,-157.36 846.17,-185.22 838.62,-206.23\"/>\n",
       "<polygon fill=\"black\" stroke=\"black\" points=\"835.24,-205.31 835.41,-215.9 841.89,-207.52 835.24,-205.31\"/>\n",
       "</g>\n",
       "<!-- Solirubrobacteraceae_unclassified&#45;&gt;Mycobacterium -->\n",
       "<g id=\"edge153\" class=\"edge\">\n",
       "<title>Solirubrobacteraceae_unclassified&#45;&gt;Mycobacterium</title>\n",
       "<path fill=\"none\" stroke=\"black\" d=\"M6135.74,-107.77C6152.16,-117.34 6172.9,-129.44 6190.46,-139.69\"/>\n",
       "<polygon fill=\"black\" stroke=\"black\" points=\"6188.92,-142.84 6199.32,-144.85 6192.44,-136.79 6188.92,-142.84\"/>\n",
       "</g>\n",
       "<!-- Solirubrobacteraceae_unclassified&#45;&gt;[CLS] -->\n",
       "<g id=\"edge32\" class=\"edge\">\n",
       "<title>Solirubrobacteraceae_unclassified&#45;&gt;[CLS]</title>\n",
       "<path fill=\"none\" stroke=\"black\" d=\"M6102.31,-108.02C6102.61,-127.22 6109.5,-158.57 6126,-180 6144.28,-203.74 6168.54,-189.76 6183,-216 6190.72,-230.01 6192.94,-239.46 6183,-252 6095.95,-361.83 6014.18,-300.62 5876,-324 5574.6,-375 5497.06,-376.51 5192,-396 4725.18,-425.82 3201.8,-444.98 2915.56,-448.44\"/>\n",
       "<polygon fill=\"black\" stroke=\"black\" points=\"2915.47,-444.94 2905.52,-448.56 2915.56,-451.94 2915.47,-444.94\"/>\n",
       "</g>\n",
       "<!-- Solirubrobacteraceae_unclassified&#45;&gt;[CLS] -->\n",
       "<g id=\"edge173\" class=\"edge\">\n",
       "<title>Solirubrobacteraceae_unclassified&#45;&gt;[CLS]</title>\n",
       "<path fill=\"none\" stroke=\"black\" d=\"M6115.32,-108.02C6120.61,-127.22 6127.5,-158.57 6144,-180 6162.28,-203.74 6186.54,-189.76 6201,-216 6208.72,-230.01 6210.94,-239.46 6201,-252 6113.95,-361.83 6032.18,-300.62 5894,-324 5592.6,-375 5515.06,-376.51 5210,-396 4740.68,-425.98 3203.48,-445.19 2915.63,-448.49\"/>\n",
       "<polygon fill=\"black\" stroke=\"black\" points=\"2915.5,-444.99 2905.54,-448.61 2915.58,-451.99 2915.5,-444.99\"/>\n",
       "</g>\n",
       "<!-- Rhodobacteraceae_unclassified&#45;&gt;Deinococcus -->\n",
       "<g id=\"edge36\" class=\"edge\">\n",
       "<title>Rhodobacteraceae_unclassified&#45;&gt;Deinococcus</title>\n",
       "<path fill=\"none\" stroke=\"black\" d=\"M7825.53,-242.47C7757.58,-246.02 7674.42,-249.94 7600,-252 6531.27,-281.65 3856.59,-230.43 2789,-288 2758.97,-289.62 2726.05,-292.65 2697.87,-295.7\"/>\n",
       "<polygon fill=\"black\" stroke=\"black\" points=\"2697.28,-292.25 2687.72,-296.83 2698.05,-299.2 2697.28,-292.25\"/>\n",
       "</g>\n",
       "<!-- Rhodobacteraceae_unclassified&#45;&gt;Deinococcus -->\n",
       "<g id=\"edge42\" class=\"edge\">\n",
       "<title>Rhodobacteraceae_unclassified&#45;&gt;Deinococcus</title>\n",
       "<path fill=\"none\" stroke=\"black\" d=\"M7829.16,-243.14C7765.3,-246.5 7687.81,-250.06 7618,-252 6549.27,-281.65 3874.59,-230.43 2807,-288 2772.19,-289.88 2733.5,-293.64 2701.04,-297.16\"/>\n",
       "<polygon fill=\"black\" stroke=\"black\" points=\"2700.29,-293.72 2690.73,-298.29 2701.06,-300.68 2700.29,-293.72\"/>\n",
       "</g>\n",
       "<!-- Rhodobacteraceae_unclassified&#45;&gt;[CLS] -->\n",
       "<g id=\"edge54\" class=\"edge\">\n",
       "<title>Rhodobacteraceae_unclassified&#45;&gt;[CLS]</title>\n",
       "<path fill=\"none\" stroke=\"black\" d=\"M7947.09,-251.92C7919.17,-286.81 7858.96,-365.95 7785,-396 7665.75,-444.45 3411.63,-448.65 2915.96,-448.97\"/>\n",
       "<polygon fill=\"black\" stroke=\"black\" points=\"2915.6,-445.47 2905.6,-448.98 2915.61,-452.47 2915.6,-445.47\"/>\n",
       "</g>\n",
       "<!-- Rhodobacteraceae_unclassified&#45;&gt;[CLS] -->\n",
       "<g id=\"edge103\" class=\"edge\">\n",
       "<title>Rhodobacteraceae_unclassified&#45;&gt;[CLS]</title>\n",
       "<path fill=\"none\" stroke=\"black\" d=\"M7956.74,-252.19C7936.86,-287.21 7876.77,-366.02 7803,-396 7683.51,-444.55 3412.08,-448.66 2915.86,-448.98\"/>\n",
       "<polygon fill=\"black\" stroke=\"black\" points=\"2915.49,-445.48 2905.5,-448.98 2915.5,-452.48 2915.49,-445.48\"/>\n",
       "</g>\n",
       "<!-- Fluviicola -->\n",
       "<g id=\"node21\" class=\"node\">\n",
       "<title>Fluviicola</title>\n",
       "<ellipse fill=\"none\" stroke=\"black\" cx=\"1918\" cy=\"-234\" rx=\"55.79\" ry=\"18\"/>\n",
       "<text text-anchor=\"middle\" x=\"1918\" y=\"-230.3\" font-family=\"Times,serif\" font-size=\"14.00\">Fluviicola</text>\n",
       "</g>\n",
       "<!-- Fluviicola&#45;&gt;Deinococcus -->\n",
       "<g id=\"edge148\" class=\"edge\">\n",
       "<title>Fluviicola&#45;&gt;Deinococcus</title>\n",
       "<path fill=\"none\" stroke=\"black\" d=\"M1957.98,-246.62C1966.2,-248.68 1974.84,-250.61 1983,-252 2185.91,-286.59 2428.67,-298.81 2550.73,-302.96\"/>\n",
       "<polygon fill=\"black\" stroke=\"black\" points=\"2550.98,-306.47 2561.09,-303.31 2551.21,-299.48 2550.98,-306.47\"/>\n",
       "</g>\n",
       "<!-- Fluviicola&#45;&gt;[CLS] -->\n",
       "<g id=\"edge29\" class=\"edge\">\n",
       "<title>Fluviicola&#45;&gt;[CLS]</title>\n",
       "<path fill=\"none\" stroke=\"black\" d=\"M1950.27,-248.73C2025.8,-280.26 2220.61,-358.03 2391,-396 2546.88,-430.74 2736.67,-443.15 2822.67,-447.21\"/>\n",
       "<polygon fill=\"black\" stroke=\"black\" points=\"2822.74,-450.72 2832.88,-447.68 2823.05,-443.72 2822.74,-450.72\"/>\n",
       "</g>\n",
       "<!-- Chitinophagaceae_unclassified -->\n",
       "<g id=\"node22\" class=\"node\">\n",
       "<title>Chitinophagaceae_unclassified</title>\n",
       "<ellipse fill=\"none\" stroke=\"black\" cx=\"2145\" cy=\"-234\" rx=\"152.97\" ry=\"18\"/>\n",
       "<text text-anchor=\"middle\" x=\"2145\" y=\"-230.3\" font-family=\"Times,serif\" font-size=\"14.00\">Chitinophagaceae_unclassified</text>\n",
       "</g>\n",
       "<!-- Chitinophagaceae_unclassified&#45;&gt;Deinococcus -->\n",
       "<g id=\"edge99\" class=\"edge\">\n",
       "<title>Chitinophagaceae_unclassified&#45;&gt;Deinococcus</title>\n",
       "<path fill=\"none\" stroke=\"black\" d=\"M2237.46,-248.37C2331.85,-262.02 2476.16,-282.9 2560.7,-295.12\"/>\n",
       "<polygon fill=\"black\" stroke=\"black\" points=\"2560.3,-298.6 2570.7,-296.57 2561.31,-291.67 2560.3,-298.6\"/>\n",
       "</g>\n",
       "<!-- Chitinophagaceae_unclassified&#45;&gt;[CLS] -->\n",
       "<g id=\"edge179\" class=\"edge\">\n",
       "<title>Chitinophagaceae_unclassified&#45;&gt;[CLS]</title>\n",
       "<path fill=\"none\" stroke=\"black\" d=\"M2173.65,-251.82C2231.75,-285.09 2368.49,-359.29 2493,-396 2608.57,-430.07 2750.76,-442.51 2822.66,-446.83\"/>\n",
       "<polygon fill=\"black\" stroke=\"black\" points=\"2822.56,-450.33 2832.75,-447.41 2822.97,-443.35 2822.56,-450.33\"/>\n",
       "</g>\n",
       "<!-- Novosphingobium -->\n",
       "<g id=\"node23\" class=\"node\">\n",
       "<title>Novosphingobium</title>\n",
       "<ellipse fill=\"none\" stroke=\"black\" cx=\"6635\" cy=\"-234\" rx=\"94.78\" ry=\"18\"/>\n",
       "<text text-anchor=\"middle\" x=\"6635\" y=\"-230.3\" font-family=\"Times,serif\" font-size=\"14.00\">Novosphingobium</text>\n",
       "</g>\n",
       "<!-- Sphingomonas -->\n",
       "<g id=\"node24\" class=\"node\">\n",
       "<title>Sphingomonas</title>\n",
       "<ellipse fill=\"none\" stroke=\"black\" cx=\"6903\" cy=\"-306\" rx=\"79.09\" ry=\"18\"/>\n",
       "<text text-anchor=\"middle\" x=\"6903\" y=\"-302.3\" font-family=\"Times,serif\" font-size=\"14.00\">Sphingomonas</text>\n",
       "</g>\n",
       "<!-- Novosphingobium&#45;&gt;Sphingomonas -->\n",
       "<g id=\"edge149\" class=\"edge\">\n",
       "<title>Novosphingobium&#45;&gt;Sphingomonas</title>\n",
       "<path fill=\"none\" stroke=\"black\" d=\"M6688.27,-248.91C6732.92,-260.58 6796.65,-277.22 6843.08,-289.35\"/>\n",
       "<polygon fill=\"black\" stroke=\"black\" points=\"6842.44,-292.8 6853,-291.94 6844.21,-286.03 6842.44,-292.8\"/>\n",
       "</g>\n",
       "<!-- Novosphingobium&#45;&gt;Saccharimonadaceae_unclassified -->\n",
       "<g id=\"edge106\" class=\"edge\">\n",
       "<title>Novosphingobium&#45;&gt;Saccharimonadaceae_unclassified</title>\n",
       "<path fill=\"none\" stroke=\"black\" d=\"M6570,-247.19C6557.12,-249.16 6543.67,-250.91 6531,-252 6479.34,-256.45 2834.49,-251.16 2798,-288 2786.74,-299.37 2790.83,-309.7 2798,-324 2804.15,-336.27 2814.65,-346.43 2825.7,-354.45\"/>\n",
       "<polygon fill=\"black\" stroke=\"black\" points=\"2823.96,-357.5 2834.21,-360.18 2827.86,-351.69 2823.96,-357.5\"/>\n",
       "</g>\n",
       "<!-- Novosphingobium&#45;&gt;[CLS] -->\n",
       "<g id=\"edge131\" class=\"edge\">\n",
       "<title>Novosphingobium&#45;&gt;[CLS]</title>\n",
       "<path fill=\"none\" stroke=\"black\" d=\"M6615.41,-251.72C6579.34,-286.57 6499.58,-366.24 6413,-396 6239.56,-455.62 3321.87,-450.21 2915.76,-449.14\"/>\n",
       "<polygon fill=\"black\" stroke=\"black\" points=\"2915.56,-445.64 2905.55,-449.11 2915.54,-452.64 2915.56,-445.64\"/>\n",
       "</g>\n",
       "<!-- Novosphingobium&#45;&gt;[CLS] -->\n",
       "<g id=\"edge185\" class=\"edge\">\n",
       "<title>Novosphingobium&#45;&gt;[CLS]</title>\n",
       "<path fill=\"none\" stroke=\"black\" d=\"M6624.93,-251.98C6596.94,-286.98 6517.36,-366.32 6431,-396 6257.06,-455.79 3323.13,-450.17 2915.77,-449.13\"/>\n",
       "<polygon fill=\"black\" stroke=\"black\" points=\"2915.54,-445.63 2905.54,-449.1 2915.53,-452.63 2915.54,-445.63\"/>\n",
       "</g>\n",
       "<!-- Sphingomonas&#45;&gt;Sphingomonas -->\n",
       "<g id=\"edge160\" class=\"edge\">\n",
       "<title>Sphingomonas&#45;&gt;Sphingomonas</title>\n",
       "<path fill=\"none\" stroke=\"black\" d=\"M6956.53,-292.69C6980.05,-291.51 7000.29,-295.95 7000.29,-306 7000.29,-314.56 6985.62,-319.05 6966.74,-319.47\"/>\n",
       "<polygon fill=\"black\" stroke=\"black\" points=\"6966.59,-315.97 6956.53,-319.31 6966.48,-322.96 6966.59,-315.97\"/>\n",
       "</g>\n",
       "<!-- Sphingomonas&#45;&gt;Saccharimonadaceae_unclassified -->\n",
       "<g id=\"edge126\" class=\"edge\">\n",
       "<title>Sphingomonas&#45;&gt;Saccharimonadaceae_unclassified</title>\n",
       "<path fill=\"none\" stroke=\"black\" d=\"M6824.23,-308.37C6337.92,-316.81 3741.97,-361.85 3042.64,-373.99\"/>\n",
       "<polygon fill=\"black\" stroke=\"black\" points=\"3042.42,-370.49 3032.48,-374.16 3042.54,-377.49 3042.42,-370.49\"/>\n",
       "</g>\n",
       "<!-- Sphingomonas&#45;&gt;[CLS] -->\n",
       "<g id=\"edge7\" class=\"edge\">\n",
       "<title>Sphingomonas&#45;&gt;[CLS]</title>\n",
       "<path fill=\"none\" stroke=\"black\" d=\"M6885.71,-323.64C6867.36,-345.04 6837.2,-381.19 6801,-396 6706.38,-434.72 3351.83,-447.34 2915.58,-448.84\"/>\n",
       "<polygon fill=\"black\" stroke=\"black\" points=\"2915.52,-445.34 2905.53,-448.88 2915.54,-452.34 2915.52,-445.34\"/>\n",
       "</g>\n",
       "<!-- Sphingomonas&#45;&gt;[CLS] -->\n",
       "<g id=\"edge191\" class=\"edge\">\n",
       "<title>Sphingomonas&#45;&gt;[CLS]</title>\n",
       "<path fill=\"none\" stroke=\"black\" d=\"M6897.74,-324.01C6885.02,-345.45 6854.99,-381.27 6819,-396 6724.13,-434.82 3352.41,-447.41 2915.47,-448.85\"/>\n",
       "<polygon fill=\"black\" stroke=\"black\" points=\"2915.4,-445.35 2905.41,-448.89 2915.42,-452.35 2915.4,-445.35\"/>\n",
       "</g>\n",
       "<!-- Rhodanobacter -->\n",
       "<g id=\"node25\" class=\"node\">\n",
       "<title>Rhodanobacter</title>\n",
       "<ellipse fill=\"none\" stroke=\"black\" cx=\"6483\" cy=\"-162\" rx=\"81.49\" ry=\"18\"/>\n",
       "<text text-anchor=\"middle\" x=\"6483\" y=\"-158.3\" font-family=\"Times,serif\" font-size=\"14.00\">Rhodanobacter</text>\n",
       "</g>\n",
       "<!-- Rhodanobacter&#45;&gt;Janibacter -->\n",
       "<g id=\"edge152\" class=\"edge\">\n",
       "<title>Rhodanobacter&#45;&gt;Janibacter</title>\n",
       "<path fill=\"none\" stroke=\"black\" d=\"M6478.3,-180.3C6476.19,-188.1 6473.64,-197.49 6471.28,-206.17\"/>\n",
       "<polygon fill=\"black\" stroke=\"black\" points=\"6467.88,-205.33 6468.64,-215.9 6474.64,-207.16 6467.88,-205.33\"/>\n",
       "</g>\n",
       "<!-- Rhodanobacter&#45;&gt;[CLS] -->\n",
       "<g id=\"edge96\" class=\"edge\">\n",
       "<title>Rhodanobacter&#45;&gt;[CLS]</title>\n",
       "<path fill=\"none\" stroke=\"black\" d=\"M6542.41,-174.34C6617.05,-188.73 6735.86,-212.14 6739,-216 6749.1,-228.41 6747.12,-238.22 6739,-252 6671.94,-365.81 6606.65,-362.01 6479,-396 6298.56,-444.05 3325.38,-448.57 2915.67,-448.96\"/>\n",
       "<polygon fill=\"black\" stroke=\"black\" points=\"2915.38,-445.46 2905.38,-448.97 2915.39,-452.46 2915.38,-445.46\"/>\n",
       "</g>\n",
       "<!-- Conexibacter -->\n",
       "<g id=\"node26\" class=\"node\">\n",
       "<title>Conexibacter</title>\n",
       "<ellipse fill=\"none\" stroke=\"black\" cx=\"964\" cy=\"-162\" rx=\"72.29\" ry=\"18\"/>\n",
       "<text text-anchor=\"middle\" x=\"964\" y=\"-158.3\" font-family=\"Times,serif\" font-size=\"14.00\">Conexibacter</text>\n",
       "</g>\n",
       "<!-- Conexibacter&#45;&gt;Chryseobacterium -->\n",
       "<g id=\"edge128\" class=\"edge\">\n",
       "<title>Conexibacter&#45;&gt;Chryseobacterium</title>\n",
       "<path fill=\"none\" stroke=\"black\" d=\"M934.48,-178.54C915.77,-188.39 891.32,-201.25 870.89,-212\"/>\n",
       "<polygon fill=\"black\" stroke=\"black\" points=\"869.04,-209.02 861.82,-216.78 872.3,-215.22 869.04,-209.02\"/>\n",
       "</g>\n",
       "<!-- Conexibacter&#45;&gt;Janibacter -->\n",
       "<g id=\"edge144\" class=\"edge\">\n",
       "<title>Conexibacter&#45;&gt;Janibacter</title>\n",
       "<path fill=\"none\" stroke=\"black\" d=\"M1036.21,-163.25C1585.31,-165.23 5108.9,-179.24 6175,-216 6251.65,-218.64 6339.6,-224.17 6398.15,-228.21\"/>\n",
       "<polygon fill=\"black\" stroke=\"black\" points=\"6398.15,-231.72 6408.36,-228.92 6398.63,-224.74 6398.15,-231.72\"/>\n",
       "</g>\n",
       "<!-- Conexibacter&#45;&gt;[CLS] -->\n",
       "<g id=\"edge78\" class=\"edge\">\n",
       "<title>Conexibacter&#45;&gt;[CLS]</title>\n",
       "<path fill=\"none\" stroke=\"black\" d=\"M958.22,-179.98C957.21,-200.04 962.99,-233.08 983,-252 1171.58,-430.36 1292.15,-358.55 1549,-396 1801.85,-432.86 2618.39,-445.82 2822.49,-448.46\"/>\n",
       "<polygon fill=\"black\" stroke=\"black\" points=\"2822.53,-451.96 2832.57,-448.59 2822.62,-444.96 2822.53,-451.96\"/>\n",
       "</g>\n",
       "<!-- Conexibacter&#45;&gt;[CLS] -->\n",
       "<g id=\"edge90\" class=\"edge\">\n",
       "<title>Conexibacter&#45;&gt;[CLS]</title>\n",
       "<path fill=\"none\" stroke=\"black\" d=\"M970.95,-179.98C975.21,-200.04 980.99,-233.08 1001,-252 1189.58,-430.36 1310.15,-358.55 1567,-396 1817.23,-432.48 2619.55,-445.55 2822.21,-448.37\"/>\n",
       "<polygon fill=\"black\" stroke=\"black\" points=\"2822.46,-451.88 2832.51,-448.52 2822.56,-444.88 2822.46,-451.88\"/>\n",
       "</g>\n",
       "<!-- Cyanobium_PCC&#45;6307 -->\n",
       "<g id=\"node27\" class=\"node\">\n",
       "<title>Cyanobium_PCC&#45;6307</title>\n",
       "<ellipse fill=\"none\" stroke=\"black\" cx=\"2429\" cy=\"-234\" rx=\"113.98\" ry=\"18\"/>\n",
       "<text text-anchor=\"middle\" x=\"2429\" y=\"-230.3\" font-family=\"Times,serif\" font-size=\"14.00\">Cyanobium_PCC&#45;6307</text>\n",
       "</g>\n",
       "<!-- Cyanobium_PCC&#45;6307&#45;&gt;Deinococcus -->\n",
       "<g id=\"edge91\" class=\"edge\">\n",
       "<title>Cyanobium_PCC&#45;6307&#45;&gt;Deinococcus</title>\n",
       "<path fill=\"none\" stroke=\"black\" d=\"M2468.62,-250.88C2499.53,-262.16 2542.61,-277.24 2576.39,-288.62\"/>\n",
       "<polygon fill=\"black\" stroke=\"black\" points=\"2575.51,-292.02 2586.1,-291.88 2577.73,-285.38 2575.51,-292.02\"/>\n",
       "</g>\n",
       "<!-- Cyanobium_PCC&#45;6307&#45;&gt;Deinococcus -->\n",
       "<g id=\"edge175\" class=\"edge\">\n",
       "<title>Cyanobium_PCC&#45;6307&#45;&gt;Deinococcus</title>\n",
       "<path fill=\"none\" stroke=\"black\" d=\"M2478.33,-250.28C2510.69,-261.14 2552.58,-275.77 2584.02,-287.17\"/>\n",
       "<polygon fill=\"black\" stroke=\"black\" points=\"2582.83,-290.46 2593.42,-290.59 2585.22,-283.88 2582.83,-290.46\"/>\n",
       "</g>\n",
       "<!-- Cyanobium_PCC&#45;6307&#45;&gt;[CLS] -->\n",
       "<g id=\"edge50\" class=\"edge\">\n",
       "<title>Cyanobium_PCC&#45;6307&#45;&gt;[CLS]</title>\n",
       "<path fill=\"none\" stroke=\"black\" d=\"M2429.82,-252.04C2438.36,-285.73 2471.16,-360.62 2526,-396 2573.78,-426.83 2740.5,-441.35 2822.69,-446.59\"/>\n",
       "<polygon fill=\"black\" stroke=\"black\" points=\"2822.56,-450.09 2832.76,-447.21 2822.99,-443.1 2822.56,-450.09\"/>\n",
       "</g>\n",
       "<!-- Cyanobium_PCC&#45;6307&#45;&gt;[CLS] -->\n",
       "<g id=\"edge110\" class=\"edge\">\n",
       "<title>Cyanobium_PCC&#45;6307&#45;&gt;[CLS]</title>\n",
       "<path fill=\"none\" stroke=\"black\" d=\"M2439.87,-252.04C2456.36,-285.73 2489.16,-360.62 2544,-396 2589.8,-425.55 2744.85,-440.11 2823.15,-445.89\"/>\n",
       "<polygon fill=\"black\" stroke=\"black\" points=\"2823,-449.38 2833.22,-446.61 2823.5,-442.4 2823,-449.38\"/>\n",
       "</g>\n",
       "<!-- P3OB&#45;42_unclassified -->\n",
       "<g id=\"node28\" class=\"node\">\n",
       "<title>P3OB&#45;42_unclassified</title>\n",
       "<ellipse fill=\"none\" stroke=\"black\" cx=\"6693\" cy=\"-162\" rx=\"110.48\" ry=\"18\"/>\n",
       "<text text-anchor=\"middle\" x=\"6693\" y=\"-158.3\" font-family=\"Times,serif\" font-size=\"14.00\">P3OB&#45;42_unclassified</text>\n",
       "</g>\n",
       "<!-- P3OB&#45;42_unclassified&#45;&gt;Janibacter -->\n",
       "<g id=\"edge10\" class=\"edge\">\n",
       "<title>P3OB&#45;42_unclassified&#45;&gt;Janibacter</title>\n",
       "<path fill=\"none\" stroke=\"black\" d=\"M6643.59,-178.1C6605.21,-189.84 6552.22,-206.03 6513.75,-217.79\"/>\n",
       "<polygon fill=\"black\" stroke=\"black\" points=\"6512.34,-214.56 6503.8,-220.83 6514.39,-221.26 6512.34,-214.56\"/>\n",
       "</g>\n",
       "<!-- P3OB&#45;42_unclassified&#45;&gt;[CLS] -->\n",
       "<g id=\"edge11\" class=\"edge\">\n",
       "<title>P3OB&#45;42_unclassified&#45;&gt;[CLS]</title>\n",
       "<path fill=\"none\" stroke=\"black\" d=\"M6769.69,-174.98C6784.05,-176.9 6798.96,-178.69 6813,-180 6857.08,-184.11 7578.41,-184 7609,-216 7620.06,-227.57 7618.85,-239.39 7609,-252 7445.68,-460.91 7292.99,-362.09 7030,-396 6601.77,-451.22 3344.75,-449.53 2915.61,-449.06\"/>\n",
       "<polygon fill=\"black\" stroke=\"black\" points=\"2915.44,-445.56 2905.44,-449.05 2915.43,-452.56 2915.44,-445.56\"/>\n",
       "</g>\n",
       "<!-- Flectobacillus -->\n",
       "<g id=\"node29\" class=\"node\">\n",
       "<title>Flectobacillus</title>\n",
       "<ellipse fill=\"none\" stroke=\"black\" cx=\"2636\" cy=\"-234\" rx=\"75.29\" ry=\"18\"/>\n",
       "<text text-anchor=\"middle\" x=\"2636\" y=\"-230.3\" font-family=\"Times,serif\" font-size=\"14.00\">Flectobacillus</text>\n",
       "</g>\n",
       "<!-- Flectobacillus&#45;&gt;Deinococcus -->\n",
       "<g id=\"edge70\" class=\"edge\">\n",
       "<title>Flectobacillus&#45;&gt;Deinococcus</title>\n",
       "<path fill=\"none\" stroke=\"black\" d=\"M2634.27,-252.3C2633.5,-260.02 2632.57,-269.29 2631.71,-277.89\"/>\n",
       "<polygon fill=\"black\" stroke=\"black\" points=\"2628.22,-277.6 2630.71,-287.9 2635.19,-278.29 2628.22,-277.6\"/>\n",
       "</g>\n",
       "<!-- Flectobacillus&#45;&gt;[CLS] -->\n",
       "<g id=\"edge182\" class=\"edge\">\n",
       "<title>Flectobacillus&#45;&gt;[CLS]</title>\n",
       "<path fill=\"none\" stroke=\"black\" d=\"M2586.64,-247.65C2566.01,-255.64 2544.07,-268.3 2532,-288 2515.44,-315.02 2550.99,-394.21 2553,-396 2592.19,-430.84 2745.05,-443.11 2822.89,-447.16\"/>\n",
       "<polygon fill=\"black\" stroke=\"black\" points=\"2822.75,-450.65 2832.91,-447.65 2823.09,-443.66 2822.75,-450.65\"/>\n",
       "</g>\n",
       "<!-- Xanthobacteraceae_unclassified -->\n",
       "<g id=\"node30\" class=\"node\">\n",
       "<title>Xanthobacteraceae_unclassified</title>\n",
       "<ellipse fill=\"none\" stroke=\"black\" cx=\"2888\" cy=\"-234\" rx=\"158.67\" ry=\"18\"/>\n",
       "<text text-anchor=\"middle\" x=\"2888\" y=\"-230.3\" font-family=\"Times,serif\" font-size=\"14.00\">Xanthobacteraceae_unclassified</text>\n",
       "</g>\n",
       "<!-- Xanthobacteraceae_unclassified&#45;&gt;Deinococcus -->\n",
       "<g id=\"edge48\" class=\"edge\">\n",
       "<title>Xanthobacteraceae_unclassified&#45;&gt;Deinococcus</title>\n",
       "<path fill=\"none\" stroke=\"black\" d=\"M2829.55,-250.8C2786.09,-262.54 2727.16,-278.47 2684.44,-290.02\"/>\n",
       "<polygon fill=\"black\" stroke=\"black\" points=\"2683.5,-286.64 2674.76,-292.63 2685.33,-293.4 2683.5,-286.64\"/>\n",
       "</g>\n",
       "<!-- Xanthobacteraceae_unclassified&#45;&gt;[CLS] -->\n",
       "<g id=\"edge64\" class=\"edge\">\n",
       "<title>Xanthobacteraceae_unclassified&#45;&gt;[CLS]</title>\n",
       "<path fill=\"none\" stroke=\"black\" d=\"M2785.82,-247.86C2689.81,-260.45 2559.7,-278.99 2552,-288 2470.5,-383.37 2718.19,-428.78 2823.76,-443.45\"/>\n",
       "<polygon fill=\"black\" stroke=\"black\" points=\"2823.44,-446.94 2833.82,-444.82 2824.38,-440.01 2823.44,-446.94\"/>\n",
       "</g>\n",
       "<!-- Methylomagnum -->\n",
       "<g id=\"node31\" class=\"node\">\n",
       "<title>Methylomagnum</title>\n",
       "<ellipse fill=\"none\" stroke=\"black\" cx=\"6911\" cy=\"-162\" rx=\"89.08\" ry=\"18\"/>\n",
       "<text text-anchor=\"middle\" x=\"6911\" y=\"-158.3\" font-family=\"Times,serif\" font-size=\"14.00\">Methylomagnum</text>\n",
       "</g>\n",
       "<!-- Methylomagnum&#45;&gt;Janibacter -->\n",
       "<g id=\"edge147\" class=\"edge\">\n",
       "<title>Methylomagnum&#45;&gt;Janibacter</title>\n",
       "<path fill=\"none\" stroke=\"black\" d=\"M6846.63,-174.46C6835.11,-176.4 6823.21,-178.32 6812,-180 6687.48,-198.66 6654.69,-192.47 6531,-216 6526.04,-216.94 6520.91,-218.03 6515.78,-219.2\"/>\n",
       "<polygon fill=\"black\" stroke=\"black\" points=\"6514.93,-215.81 6506,-221.52 6516.54,-222.62 6514.93,-215.81\"/>\n",
       "</g>\n",
       "<!-- Methylomagnum&#45;&gt;[CLS] -->\n",
       "<g id=\"edge93\" class=\"edge\">\n",
       "<title>Methylomagnum&#45;&gt;[CLS]</title>\n",
       "<path fill=\"none\" stroke=\"black\" d=\"M6973.32,-174.9C6985.14,-176.85 6997.42,-178.66 7009,-180 7077.22,-187.88 7578.88,-166.05 7626,-216 7663.39,-255.64 7587.55,-314.96 7574,-324 7457.77,-401.52 7406.68,-379.06 7268,-396 6814.08,-451.46 3359.49,-449.54 2915.85,-449.06\"/>\n",
       "<polygon fill=\"black\" stroke=\"black\" points=\"2915.65,-445.56 2905.64,-449.05 2915.64,-452.56 2915.65,-445.56\"/>\n",
       "</g>\n",
       "<!-- Alphaproteobacteria_unclassified -->\n",
       "<g id=\"node32\" class=\"node\">\n",
       "<title>Alphaproteobacteria_unclassified</title>\n",
       "<ellipse fill=\"none\" stroke=\"black\" cx=\"2971\" cy=\"-306\" rx=\"164.37\" ry=\"18\"/>\n",
       "<text text-anchor=\"middle\" x=\"2971\" y=\"-302.3\" font-family=\"Times,serif\" font-size=\"14.00\">Alphaproteobacteria_unclassified</text>\n",
       "</g>\n",
       "<!-- Alphaproteobacteria_unclassified&#45;&gt;Saccharimonadaceae_unclassified -->\n",
       "<g id=\"edge162\" class=\"edge\">\n",
       "<title>Alphaproteobacteria_unclassified&#45;&gt;Saccharimonadaceae_unclassified</title>\n",
       "<path fill=\"none\" stroke=\"black\" d=\"M2946.31,-323.95C2933.13,-332.99 2916.71,-344.26 2902.41,-354.07\"/>\n",
       "<polygon fill=\"black\" stroke=\"black\" points=\"2900.08,-351.42 2893.82,-359.97 2904.04,-357.2 2900.08,-351.42\"/>\n",
       "</g>\n",
       "<!-- Alphaproteobacteria_unclassified&#45;&gt;[CLS] -->\n",
       "<g id=\"edge187\" class=\"edge\">\n",
       "<title>Alphaproteobacteria_unclassified&#45;&gt;[CLS]</title>\n",
       "<path fill=\"none\" stroke=\"black\" d=\"M3007.61,-323.73C3022.01,-332.36 3036.98,-344.4 3045,-360 3052.31,-374.23 3054.54,-383.16 3045,-396 3015.52,-435.67 2957.29,-446.74 2915.89,-449.29\"/>\n",
       "<polygon fill=\"black\" stroke=\"black\" points=\"2915.58,-445.8 2905.76,-449.77 2915.91,-452.79 2915.58,-445.8\"/>\n",
       "</g>\n",
       "<!-- Clostridiaceae_1_unclassified -->\n",
       "<g id=\"node33\" class=\"node\">\n",
       "<title>Clostridiaceae_1_unclassified</title>\n",
       "<ellipse fill=\"none\" stroke=\"black\" cx=\"3249\" cy=\"-234\" rx=\"146.47\" ry=\"18\"/>\n",
       "<text text-anchor=\"middle\" x=\"3249\" y=\"-230.3\" font-family=\"Times,serif\" font-size=\"14.00\">Clostridiaceae_1_unclassified</text>\n",
       "</g>\n",
       "<!-- Clostridiaceae_1_unclassified&#45;&gt;Deinococcus -->\n",
       "<g id=\"edge43\" class=\"edge\">\n",
       "<title>Clostridiaceae_1_unclassified&#45;&gt;Deinococcus</title>\n",
       "<path fill=\"none\" stroke=\"black\" d=\"M3140.17,-246.04C3017.94,-258.95 2827.47,-279.62 2756,-288 2736.87,-290.24 2716.24,-292.77 2697.25,-295.17\"/>\n",
       "<polygon fill=\"black\" stroke=\"black\" points=\"2696.67,-291.72 2687.19,-296.45 2697.56,-298.66 2696.67,-291.72\"/>\n",
       "</g>\n",
       "<!-- Clostridiaceae_1_unclassified&#45;&gt;Deinococcus -->\n",
       "<g id=\"edge105\" class=\"edge\">\n",
       "<title>Clostridiaceae_1_unclassified&#45;&gt;Deinococcus</title>\n",
       "<path fill=\"none\" stroke=\"black\" d=\"M3145.84,-246.81C3028.43,-259.76 2844.05,-279.79 2774,-288 2750.22,-290.79 2724.13,-294.01 2700.66,-296.89\"/>\n",
       "<polygon fill=\"black\" stroke=\"black\" points=\"2699.94,-293.46 2690.44,-298.15 2700.79,-300.41 2699.94,-293.46\"/>\n",
       "</g>\n",
       "<!-- Clostridiaceae_1_unclassified&#45;&gt;[CLS] -->\n",
       "<g id=\"edge21\" class=\"edge\">\n",
       "<title>Clostridiaceae_1_unclassified&#45;&gt;[CLS]</title>\n",
       "<path fill=\"none\" stroke=\"black\" d=\"M3260.81,-252.22C3276.02,-270.78 3297.66,-300.77 3282,-324 3239.81,-386.58 3011.43,-427.01 2913.49,-442.21\"/>\n",
       "<polygon fill=\"black\" stroke=\"black\" points=\"2912.67,-438.8 2903.31,-443.78 2913.73,-445.72 2912.67,-438.8\"/>\n",
       "</g>\n",
       "<!-- Clostridiaceae_1_unclassified&#45;&gt;[CLS] -->\n",
       "<g id=\"edge86\" class=\"edge\">\n",
       "<title>Clostridiaceae_1_unclassified&#45;&gt;[CLS]</title>\n",
       "<path fill=\"none\" stroke=\"black\" d=\"M3273.71,-251.88C3293.76,-270.41 3315.76,-300.63 3300,-324 3256.53,-388.47 3015.49,-429.43 2913.94,-443.52\"/>\n",
       "<polygon fill=\"black\" stroke=\"black\" points=\"2913.43,-440.06 2903.99,-444.88 2914.37,-446.99 2913.43,-440.06\"/>\n",
       "</g>\n",
       "<!-- Solirubrobacter -->\n",
       "<g id=\"node34\" class=\"node\">\n",
       "<title>Solirubrobacter</title>\n",
       "<ellipse fill=\"none\" stroke=\"black\" cx=\"6793\" cy=\"-90\" rx=\"83.69\" ry=\"18\"/>\n",
       "<text text-anchor=\"middle\" x=\"6793\" y=\"-86.3\" font-family=\"Times,serif\" font-size=\"14.00\">Solirubrobacter</text>\n",
       "</g>\n",
       "<!-- Solirubrobacter&#45;&gt;Mycobacterium -->\n",
       "<g id=\"edge146\" class=\"edge\">\n",
       "<title>Solirubrobacter&#45;&gt;Mycobacterium</title>\n",
       "<path fill=\"none\" stroke=\"black\" d=\"M6722.17,-99.76C6616.61,-112.82 6418.55,-137.31 6307.59,-151.03\"/>\n",
       "<polygon fill=\"black\" stroke=\"black\" points=\"6306.95,-147.59 6297.46,-152.29 6307.81,-154.53 6306.95,-147.59\"/>\n",
       "</g>\n",
       "<!-- Solirubrobacter&#45;&gt;[CLS] -->\n",
       "<g id=\"edge136\" class=\"edge\">\n",
       "<title>Solirubrobacter&#45;&gt;[CLS]</title>\n",
       "<path fill=\"none\" stroke=\"black\" d=\"M6876.14,-92.71C7177.48,-99.09 8196.09,-122.23 8222,-144 8252.97,-170.02 8241,-192.55 8241,-233 8241,-233 8241,-233 8241,-307 8241,-419.1 8115.18,-375.33 8005,-396 7740.74,-445.58 3414.5,-448.78 2915.76,-448.99\"/>\n",
       "<polygon fill=\"black\" stroke=\"black\" points=\"2915.67,-445.49 2905.67,-448.99 2915.67,-452.49 2915.67,-445.49\"/>\n",
       "</g>\n",
       "<!-- Haliangium -->\n",
       "<g id=\"node35\" class=\"node\">\n",
       "<title>Haliangium</title>\n",
       "<ellipse fill=\"none\" stroke=\"black\" cx=\"3218\" cy=\"-306\" rx=\"64.19\" ry=\"18\"/>\n",
       "<text text-anchor=\"middle\" x=\"3218\" y=\"-302.3\" font-family=\"Times,serif\" font-size=\"14.00\">Haliangium</text>\n",
       "</g>\n",
       "<!-- Haliangium&#45;&gt;Saccharimonadaceae_unclassified -->\n",
       "<g id=\"edge30\" class=\"edge\">\n",
       "<title>Haliangium&#45;&gt;Saccharimonadaceae_unclassified</title>\n",
       "<path fill=\"none\" stroke=\"black\" d=\"M3170.29,-318.22C3161.55,-320.2 3152.51,-322.2 3144,-324 3082.64,-336.96 3013.31,-350.31 2959.61,-360.37\"/>\n",
       "<polygon fill=\"black\" stroke=\"black\" points=\"2958.96,-356.93 2949.77,-362.21 2960.25,-363.81 2958.96,-356.93\"/>\n",
       "</g>\n",
       "<!-- Haliangium&#45;&gt;[CLS] -->\n",
       "<g id=\"edge108\" class=\"edge\">\n",
       "<title>Haliangium&#45;&gt;[CLS]</title>\n",
       "<path fill=\"none\" stroke=\"black\" d=\"M3194.81,-322.84C3165.31,-342.38 3112.28,-375.51 3063,-396 3013.03,-416.77 2952.44,-431.82 2912.42,-440.46\"/>\n",
       "<polygon fill=\"black\" stroke=\"black\" points=\"2911.52,-437.08 2902.46,-442.57 2912.97,-443.92 2911.52,-437.08\"/>\n",
       "</g>\n",
       "<!-- Flavobacterium -->\n",
       "<g id=\"node36\" class=\"node\">\n",
       "<title>Flavobacterium</title>\n",
       "<ellipse fill=\"none\" stroke=\"black\" cx=\"3496\" cy=\"-234\" rx=\"83.39\" ry=\"18\"/>\n",
       "<text text-anchor=\"middle\" x=\"3496\" y=\"-230.3\" font-family=\"Times,serif\" font-size=\"14.00\">Flavobacterium</text>\n",
       "</g>\n",
       "<!-- Flavobacterium&#45;&gt;Deinococcus -->\n",
       "<g id=\"edge169\" class=\"edge\">\n",
       "<title>Flavobacterium&#45;&gt;Deinococcus</title>\n",
       "<path fill=\"none\" stroke=\"black\" d=\"M3437.77,-246.91C3426.6,-248.87 3414.97,-250.68 3404,-252 3121.58,-285.91 3048.29,-262.34 2765,-288 2743.11,-289.98 2719.31,-292.75 2697.83,-295.47\"/>\n",
       "<polygon fill=\"black\" stroke=\"black\" points=\"2697.29,-292.01 2687.81,-296.76 2698.18,-298.96 2697.29,-292.01\"/>\n",
       "</g>\n",
       "<!-- Flavobacterium&#45;&gt;[CLS] -->\n",
       "<g id=\"edge79\" class=\"edge\">\n",
       "<title>Flavobacterium&#45;&gt;[CLS]</title>\n",
       "<path fill=\"none\" stroke=\"black\" d=\"M3474.43,-251.42C3429.58,-284.66 3321.84,-359.81 3219,-396 3114.51,-432.77 2983.65,-444.04 2915.35,-447.48\"/>\n",
       "<polygon fill=\"black\" stroke=\"black\" points=\"2915.17,-443.99 2905.34,-447.96 2915.5,-450.98 2915.17,-443.99\"/>\n",
       "</g>\n",
       "<!-- Saccharimonadaceae_unclassified&#45;&gt;Deinococcus -->\n",
       "<g id=\"edge81\" class=\"edge\">\n",
       "<title>Saccharimonadaceae_unclassified&#45;&gt;Deinococcus</title>\n",
       "<path fill=\"none\" stroke=\"black\" d=\"M2804.04,-361.39C2763.7,-350.39 2713.01,-335.64 2676.4,-324.27\"/>\n",
       "<polygon fill=\"black\" stroke=\"black\" points=\"2677.06,-320.81 2666.47,-321.17 2674.97,-327.49 2677.06,-320.81\"/>\n",
       "</g>\n",
       "<!-- Saccharimonadaceae_unclassified&#45;&gt;Deinococcus -->\n",
       "<g id=\"edge150\" class=\"edge\">\n",
       "<title>Saccharimonadaceae_unclassified&#45;&gt;Deinococcus</title>\n",
       "<path fill=\"none\" stroke=\"black\" d=\"M2824.22,-360.54C2785.81,-348.57 2730.61,-332.52 2688.52,-321.13\"/>\n",
       "<polygon fill=\"black\" stroke=\"black\" points=\"2689.24,-317.69 2678.67,-318.48 2687.42,-324.45 2689.24,-317.69\"/>\n",
       "</g>\n",
       "<!-- Saccharimonadaceae_unclassified&#45;&gt;Deinococcus -->\n",
       "<g id=\"edge186\" class=\"edge\">\n",
       "<title>Saccharimonadaceae_unclassified&#45;&gt;Deinococcus</title>\n",
       "<path fill=\"none\" stroke=\"black\" d=\"M2835.35,-360.37C2797.76,-347.81 2738.88,-330.85 2692.89,-319.45\"/>\n",
       "<polygon fill=\"black\" stroke=\"black\" points=\"2693.53,-316 2682.99,-317.03 2691.87,-322.8 2693.53,-316\"/>\n",
       "</g>\n",
       "<!-- Saccharimonadaceae_unclassified&#45;&gt;[CLS] -->\n",
       "<g id=\"edge5\" class=\"edge\">\n",
       "<title>Saccharimonadaceae_unclassified&#45;&gt;[CLS]</title>\n",
       "<path fill=\"none\" stroke=\"black\" d=\"M2857.17,-396.3C2855.51,-404.33 2855.09,-414.05 2855.9,-422.95\"/>\n",
       "<polygon fill=\"black\" stroke=\"black\" points=\"2852.44,-423.5 2857.42,-432.86 2859.36,-422.44 2852.44,-423.5\"/>\n",
       "</g>\n",
       "<!-- Saccharimonadaceae_unclassified&#45;&gt;[CLS] -->\n",
       "<g id=\"edge46\" class=\"edge\">\n",
       "<title>Saccharimonadaceae_unclassified&#45;&gt;[CLS]</title>\n",
       "<path fill=\"none\" stroke=\"black\" d=\"M2869,-396.3C2869,-404.02 2869,-413.29 2869,-421.89\"/>\n",
       "<polygon fill=\"black\" stroke=\"black\" points=\"2865.5,-421.9 2869,-431.9 2872.5,-421.9 2865.5,-421.9\"/>\n",
       "</g>\n",
       "<!-- Saccharimonadaceae_unclassified&#45;&gt;[CLS] -->\n",
       "<g id=\"edge97\" class=\"edge\">\n",
       "<title>Saccharimonadaceae_unclassified&#45;&gt;[CLS]</title>\n",
       "<path fill=\"none\" stroke=\"black\" d=\"M2880.83,-396.3C2882.49,-404.33 2882.91,-414.05 2882.1,-422.95\"/>\n",
       "<polygon fill=\"black\" stroke=\"black\" points=\"2878.64,-422.44 2880.58,-432.86 2885.56,-423.5 2878.64,-422.44\"/>\n",
       "</g>\n",
       "<!-- Sphingomonadaceae_unclassified -->\n",
       "<g id=\"node38\" class=\"node\">\n",
       "<title>Sphingomonadaceae_unclassified</title>\n",
       "<ellipse fill=\"none\" stroke=\"black\" cx=\"6951\" cy=\"-234\" rx=\"165.17\" ry=\"18\"/>\n",
       "<text text-anchor=\"middle\" x=\"6951\" y=\"-230.3\" font-family=\"Times,serif\" font-size=\"14.00\">Sphingomonadaceae_unclassified</text>\n",
       "</g>\n",
       "<!-- Sphingomonadaceae_unclassified&#45;&gt;Sphingomonas -->\n",
       "<g id=\"edge190\" class=\"edge\">\n",
       "<title>Sphingomonadaceae_unclassified&#45;&gt;Sphingomonas</title>\n",
       "<path fill=\"none\" stroke=\"black\" d=\"M6939.13,-252.3C6933.5,-260.53 6926.65,-270.52 6920.43,-279.58\"/>\n",
       "<polygon fill=\"black\" stroke=\"black\" points=\"6917.5,-277.67 6914.73,-287.9 6923.27,-281.63 6917.5,-277.67\"/>\n",
       "</g>\n",
       "<!-- Sphingomonadaceae_unclassified&#45;&gt;[CLS] -->\n",
       "<g id=\"edge38\" class=\"edge\">\n",
       "<title>Sphingomonadaceae_unclassified&#45;&gt;[CLS]</title>\n",
       "<path fill=\"none\" stroke=\"black\" d=\"M6880.73,-250.29C6857.42,-258.27 6832.89,-270.24 6815,-288 6778.33,-324.4 6814.56,-366.71 6772,-396 6688.5,-453.46 3350.54,-449.81 2915.56,-449.09\"/>\n",
       "<polygon fill=\"black\" stroke=\"black\" points=\"2915.55,-445.59 2905.54,-449.07 2915.53,-452.59 2915.55,-445.59\"/>\n",
       "</g>\n",
       "<!-- Clostridium_sensu_stricto_1 -->\n",
       "<g id=\"node39\" class=\"node\">\n",
       "<title>Clostridium_sensu_stricto_1</title>\n",
       "<ellipse fill=\"none\" stroke=\"black\" cx=\"3739\" cy=\"-234\" rx=\"141.88\" ry=\"18\"/>\n",
       "<text text-anchor=\"middle\" x=\"3739\" y=\"-230.3\" font-family=\"Times,serif\" font-size=\"14.00\">Clostridium_sensu_stricto_1</text>\n",
       "</g>\n",
       "<!-- Clostridium_sensu_stricto_1&#45;&gt;Deinococcus -->\n",
       "<g id=\"edge101\" class=\"edge\">\n",
       "<title>Clostridium_sensu_stricto_1&#45;&gt;Deinococcus</title>\n",
       "<path fill=\"none\" stroke=\"black\" d=\"M3640.81,-247.04C3623.24,-248.91 3605.1,-250.67 3588,-252 3222.98,-280.5 3129.84,-257.27 2765,-288 2743,-289.85 2719.07,-292.6 2697.51,-295.34\"/>\n",
       "<polygon fill=\"black\" stroke=\"black\" points=\"2696.93,-291.89 2687.47,-296.64 2697.83,-298.83 2696.93,-291.89\"/>\n",
       "</g>\n",
       "<!-- Clostridium_sensu_stricto_1&#45;&gt;[CLS] -->\n",
       "<g id=\"edge155\" class=\"edge\">\n",
       "<title>Clostridium_sensu_stricto_1&#45;&gt;[CLS]</title>\n",
       "<path fill=\"none\" stroke=\"black\" d=\"M3700.3,-251.42C3621.54,-284.16 3436.35,-357.69 3274,-396 3145.96,-426.21 2990.8,-440.47 2915.07,-446.03\"/>\n",
       "<polygon fill=\"black\" stroke=\"black\" points=\"2914.65,-442.55 2904.92,-446.76 2915.15,-449.53 2914.65,-442.55\"/>\n",
       "</g>\n",
       "<!-- Roseiarcus -->\n",
       "<g id=\"node40\" class=\"node\">\n",
       "<title>Roseiarcus</title>\n",
       "<ellipse fill=\"none\" stroke=\"black\" cx=\"3960\" cy=\"-234\" rx=\"61.99\" ry=\"18\"/>\n",
       "<text text-anchor=\"middle\" x=\"3960\" y=\"-230.3\" font-family=\"Times,serif\" font-size=\"14.00\">Roseiarcus</text>\n",
       "</g>\n",
       "<!-- Roseiarcus&#45;&gt;Deinococcus -->\n",
       "<g id=\"edge139\" class=\"edge\">\n",
       "<title>Roseiarcus&#45;&gt;Deinococcus</title>\n",
       "<path fill=\"none\" stroke=\"black\" d=\"M3916.95,-246.93C3908.1,-248.96 3898.8,-250.8 3890,-252 3394.3,-319.39 3263.73,-248.93 2765,-288 2742.88,-289.73 2718.84,-292.46 2697.2,-295.22\"/>\n",
       "<polygon fill=\"black\" stroke=\"black\" points=\"2696.58,-291.77 2687.12,-296.54 2697.49,-298.72 2696.58,-291.77\"/>\n",
       "</g>\n",
       "<!-- Roseiarcus&#45;&gt;[CLS] -->\n",
       "<g id=\"edge25\" class=\"edge\">\n",
       "<title>Roseiarcus&#45;&gt;[CLS]</title>\n",
       "<path fill=\"none\" stroke=\"black\" d=\"M3919.71,-247.84C3822.59,-278.29 3567.39,-355.4 3349,-396 3191.34,-425.31 3001.32,-440.41 2915.3,-446.17\"/>\n",
       "<polygon fill=\"black\" stroke=\"black\" points=\"2914.84,-442.69 2905.09,-446.84 2915.3,-449.68 2914.84,-442.69\"/>\n",
       "</g>\n",
       "<!-- Scytonema_UTEX_2349 -->\n",
       "<g id=\"node41\" class=\"node\">\n",
       "<title>Scytonema_UTEX_2349</title>\n",
       "<ellipse fill=\"none\" stroke=\"black\" cx=\"7139\" cy=\"-162\" rx=\"120.78\" ry=\"18\"/>\n",
       "<text text-anchor=\"middle\" x=\"7139\" y=\"-158.3\" font-family=\"Times,serif\" font-size=\"14.00\">Scytonema_UTEX_2349</text>\n",
       "</g>\n",
       "<!-- Scytonema_UTEX_2349&#45;&gt;Janibacter -->\n",
       "<g id=\"edge177\" class=\"edge\">\n",
       "<title>Scytonema_UTEX_2349&#45;&gt;Janibacter</title>\n",
       "<path fill=\"none\" stroke=\"black\" d=\"M7053.77,-174.83C7038.86,-176.7 7023.49,-178.51 7009,-180 6797.07,-201.82 6741.26,-181.67 6531,-216 6525.88,-216.84 6520.57,-217.88 6515.29,-219.03\"/>\n",
       "<polygon fill=\"black\" stroke=\"black\" points=\"6514.18,-215.69 6505.22,-221.35 6515.75,-222.51 6514.18,-215.69\"/>\n",
       "</g>\n",
       "<!-- Scytonema_UTEX_2349&#45;&gt;[CLS] -->\n",
       "<g id=\"edge127\" class=\"edge\">\n",
       "<title>Scytonema_UTEX_2349&#45;&gt;[CLS]</title>\n",
       "<path fill=\"none\" stroke=\"black\" d=\"M7224.96,-174.67C7239.64,-176.54 7254.75,-178.39 7269,-180 7310.7,-184.72 7616.77,-184.94 7645,-216 7674.37,-248.32 7615.29,-316.86 7607,-324 7533.49,-387.27 7496.52,-379.21 7401,-396 7168.22,-436.91 3379.52,-447.72 2915.46,-448.89\"/>\n",
       "<polygon fill=\"black\" stroke=\"black\" points=\"2915.42,-445.39 2905.43,-448.91 2915.44,-452.39 2915.42,-445.39\"/>\n",
       "</g>\n",
       "<!-- Fimbriiglobus -->\n",
       "<g id=\"node42\" class=\"node\">\n",
       "<title>Fimbriiglobus</title>\n",
       "<ellipse fill=\"none\" stroke=\"black\" cx=\"7799\" cy=\"-90\" rx=\"75.29\" ry=\"18\"/>\n",
       "<text text-anchor=\"middle\" x=\"7799\" y=\"-86.3\" font-family=\"Times,serif\" font-size=\"14.00\">Fimbriiglobus</text>\n",
       "</g>\n",
       "<!-- Fimbriiglobus&#45;&gt;Mycobacterium -->\n",
       "<g id=\"edge100\" class=\"edge\">\n",
       "<title>Fimbriiglobus&#45;&gt;Mycobacterium</title>\n",
       "<path fill=\"none\" stroke=\"black\" d=\"M7723.84,-92.13C7513.45,-95.66 6900.76,-108.47 6393,-144 6365.45,-145.93 6335.4,-148.78 6308.54,-151.59\"/>\n",
       "<polygon fill=\"black\" stroke=\"black\" points=\"6307.98,-148.13 6298.41,-152.67 6308.72,-155.09 6307.98,-148.13\"/>\n",
       "</g>\n",
       "<!-- Fimbriiglobus&#45;&gt;[CLS] -->\n",
       "<g id=\"edge145\" class=\"edge\">\n",
       "<title>Fimbriiglobus&#45;&gt;[CLS]</title>\n",
       "<path fill=\"none\" stroke=\"black\" d=\"M7874.53,-90.69C7986.65,-91.74 8189.97,-99.89 8246,-144 8279.15,-170.09 8279,-190.81 8279,-233 8279,-233 8279,-233 8279,-307 8279,-333.47 8368.96,-331.15 8128,-396 7994.87,-431.83 3429.4,-447.24 2915.85,-448.86\"/>\n",
       "<polygon fill=\"black\" stroke=\"black\" points=\"2915.47,-445.36 2905.48,-448.89 2915.49,-452.36 2915.47,-445.36\"/>\n",
       "</g>\n",
       "<!-- Saprospiraceae_unclassified -->\n",
       "<g id=\"node43\" class=\"node\">\n",
       "<title>Saprospiraceae_unclassified</title>\n",
       "<ellipse fill=\"none\" stroke=\"black\" cx=\"4181\" cy=\"-234\" rx=\"141.88\" ry=\"18\"/>\n",
       "<text text-anchor=\"middle\" x=\"4181\" y=\"-230.3\" font-family=\"Times,serif\" font-size=\"14.00\">Saprospiraceae_unclassified</text>\n",
       "</g>\n",
       "<!-- Saprospiraceae_unclassified&#45;&gt;Deinococcus -->\n",
       "<g id=\"edge1\" class=\"edge\">\n",
       "<title>Saprospiraceae_unclassified&#45;&gt;Deinococcus</title>\n",
       "<path fill=\"none\" stroke=\"black\" d=\"M4084.28,-247.18C4066.58,-249.06 4048.25,-250.78 4031,-252 3469.51,-291.73 3326.25,-245.04 2765,-288 2742.88,-289.69 2718.83,-292.41 2697.2,-295.18\"/>\n",
       "<polygon fill=\"black\" stroke=\"black\" points=\"2696.58,-291.73 2687.12,-296.49 2697.48,-298.67 2696.58,-291.73\"/>\n",
       "</g>\n",
       "<!-- Saprospiraceae_unclassified&#45;&gt;[CLS] -->\n",
       "<g id=\"edge27\" class=\"edge\">\n",
       "<title>Saprospiraceae_unclassified&#45;&gt;[CLS]</title>\n",
       "<path fill=\"none\" stroke=\"black\" d=\"M4122.07,-250.42C3997.45,-282.44 3697.64,-356.48 3442,-396 3247.43,-426.08 3012.86,-441.26 2915.18,-446.65\"/>\n",
       "<polygon fill=\"black\" stroke=\"black\" points=\"2914.85,-443.16 2905.06,-447.2 2915.23,-450.15 2914.85,-443.16\"/>\n",
       "</g>\n",
       "<!-- Peptostreptococcaceae_unclassified -->\n",
       "<g id=\"node44\" class=\"node\">\n",
       "<title>Peptostreptococcaceae_unclassified</title>\n",
       "<ellipse fill=\"none\" stroke=\"black\" cx=\"4517\" cy=\"-234\" rx=\"176.27\" ry=\"18\"/>\n",
       "<text text-anchor=\"middle\" x=\"4517\" y=\"-230.3\" font-family=\"Times,serif\" font-size=\"14.00\">Peptostreptococcaceae_unclassified</text>\n",
       "</g>\n",
       "<!-- Peptostreptococcaceae_unclassified&#45;&gt;Deinococcus -->\n",
       "<g id=\"edge51\" class=\"edge\">\n",
       "<title>Peptostreptococcaceae_unclassified&#45;&gt;Deinococcus</title>\n",
       "<path fill=\"none\" stroke=\"black\" d=\"M4397.17,-247.22C4375.5,-249.09 4353.09,-250.79 4332,-252 3636.52,-291.9 3459.74,-236.73 2765,-288 2742.88,-289.63 2718.83,-292.33 2697.19,-295.1\"/>\n",
       "<polygon fill=\"black\" stroke=\"black\" points=\"2696.57,-291.65 2687.11,-296.42 2697.48,-298.59 2696.57,-291.65\"/>\n",
       "</g>\n",
       "<!-- Peptostreptococcaceae_unclassified&#45;&gt;[CLS] -->\n",
       "<g id=\"edge94\" class=\"edge\">\n",
       "<title>Peptostreptococcaceae_unclassified&#45;&gt;[CLS]</title>\n",
       "<path fill=\"none\" stroke=\"black\" d=\"M4440.01,-250.19C4276.8,-281.88 3883.69,-355.43 3551,-396 3312.89,-425.04 3025.96,-441.25 2915.47,-446.8\"/>\n",
       "<polygon fill=\"black\" stroke=\"black\" points=\"2915.15,-443.31 2905.34,-447.3 2915.5,-450.3 2915.15,-443.31\"/>\n",
       "</g>\n",
       "<!-- Rhizobiales_unclassified -->\n",
       "<g id=\"node45\" class=\"node\">\n",
       "<title>Rhizobiales_unclassified</title>\n",
       "<ellipse fill=\"none\" stroke=\"black\" cx=\"4834\" cy=\"-234\" rx=\"122.68\" ry=\"18\"/>\n",
       "<text text-anchor=\"middle\" x=\"4834\" y=\"-230.3\" font-family=\"Times,serif\" font-size=\"14.00\">Rhizobiales_unclassified</text>\n",
       "</g>\n",
       "<!-- Rhizobiales_unclassified&#45;&gt;Deinococcus -->\n",
       "<g id=\"edge183\" class=\"edge\">\n",
       "<title>Rhizobiales_unclassified&#45;&gt;Deinococcus</title>\n",
       "<path fill=\"none\" stroke=\"black\" d=\"M4749.99,-247.22C4734.08,-249.14 4717.55,-250.86 4702,-252 3843.28,-315.09 3623.84,-226.51 2765,-288 2742.77,-289.59 2718.6,-292.29 2696.89,-295.08\"/>\n",
       "<polygon fill=\"black\" stroke=\"black\" points=\"2696.23,-291.64 2686.77,-296.41 2697.14,-298.58 2696.23,-291.64\"/>\n",
       "</g>\n",
       "<!-- Rhizobiales_unclassified&#45;&gt;[CLS] -->\n",
       "<g id=\"edge59\" class=\"edge\">\n",
       "<title>Rhizobiales_unclassified&#45;&gt;[CLS]</title>\n",
       "<path fill=\"none\" stroke=\"black\" d=\"M4756.16,-248.01C4571.48,-278.41 4092.13,-354.69 3689,-396 3395.33,-426.09 3040.64,-442.17 2915.46,-447.22\"/>\n",
       "<polygon fill=\"black\" stroke=\"black\" points=\"2915.31,-443.73 2905.45,-447.62 2915.59,-450.72 2915.31,-443.73\"/>\n",
       "</g>\n",
       "<!-- Chthoniobacter -->\n",
       "<g id=\"node46\" class=\"node\">\n",
       "<title>Chthoniobacter</title>\n",
       "<ellipse fill=\"none\" stroke=\"black\" cx=\"5057\" cy=\"-234\" rx=\"82.59\" ry=\"18\"/>\n",
       "<text text-anchor=\"middle\" x=\"5057\" y=\"-230.3\" font-family=\"Times,serif\" font-size=\"14.00\">Chthoniobacter</text>\n",
       "</g>\n",
       "<!-- Chthoniobacter&#45;&gt;Deinococcus -->\n",
       "<g id=\"edge158\" class=\"edge\">\n",
       "<title>Chthoniobacter&#45;&gt;Deinococcus</title>\n",
       "<path fill=\"none\" stroke=\"black\" d=\"M4999.93,-247.18C4988.73,-249.14 4977.03,-250.89 4966,-252 4479.29,-301.09 3252.97,-253.61 2765,-288 2742.77,-289.57 2718.6,-292.26 2696.88,-295.05\"/>\n",
       "<polygon fill=\"black\" stroke=\"black\" points=\"2696.23,-291.61 2686.77,-296.38 2697.14,-298.55 2696.23,-291.61\"/>\n",
       "</g>\n",
       "<!-- Chthoniobacter&#45;&gt;[CLS] -->\n",
       "<g id=\"edge68\" class=\"edge\">\n",
       "<title>Chthoniobacter&#45;&gt;[CLS]</title>\n",
       "<path fill=\"none\" stroke=\"black\" d=\"M4997.36,-246.64C4986.93,-248.53 4976.16,-250.4 4966,-252 4472,-329.95 4348.04,-350.48 3850,-396 3491.25,-428.79 3056.69,-443.55 2915.63,-447.71\"/>\n",
       "<polygon fill=\"black\" stroke=\"black\" points=\"2915.49,-444.21 2905.59,-448 2915.69,-451.21 2915.49,-444.21\"/>\n",
       "</g>\n",
       "<!-- vadinHA49_unclassified -->\n",
       "<g id=\"node47\" class=\"node\">\n",
       "<title>vadinHA49_unclassified</title>\n",
       "<ellipse fill=\"none\" stroke=\"black\" cx=\"7255\" cy=\"-234\" rx=\"120.78\" ry=\"18\"/>\n",
       "<text text-anchor=\"middle\" x=\"7255\" y=\"-230.3\" font-family=\"Times,serif\" font-size=\"14.00\">vadinHA49_unclassified</text>\n",
       "</g>\n",
       "<!-- vadinHA49_unclassified&#45;&gt;Sphingomonas -->\n",
       "<g id=\"edge154\" class=\"edge\">\n",
       "<title>vadinHA49_unclassified&#45;&gt;Sphingomonas</title>\n",
       "<path fill=\"none\" stroke=\"black\" d=\"M7185.46,-248.83C7123.11,-261.23 7032.21,-279.3 6970.5,-291.58\"/>\n",
       "<polygon fill=\"black\" stroke=\"black\" points=\"6969.6,-288.19 6960.47,-293.57 6970.97,-295.05 6969.6,-288.19\"/>\n",
       "</g>\n",
       "<!-- vadinHA49_unclassified&#45;&gt;[CLS] -->\n",
       "<g id=\"edge188\" class=\"edge\">\n",
       "<title>vadinHA49_unclassified&#45;&gt;[CLS]</title>\n",
       "<path fill=\"none\" stroke=\"black\" d=\"M7225.33,-251.56C7160.9,-286.48 7002.35,-366.85 6858,-396 6655.02,-436.99 3349.14,-447.65 2915.74,-448.87\"/>\n",
       "<polygon fill=\"black\" stroke=\"black\" points=\"2915.45,-445.38 2905.46,-448.9 2915.47,-452.38 2915.45,-445.38\"/>\n",
       "</g>\n",
       "<!-- Micavibrionales_unclassified -->\n",
       "<g id=\"node48\" class=\"node\">\n",
       "<title>Micavibrionales_unclassified</title>\n",
       "<ellipse fill=\"none\" stroke=\"black\" cx=\"5301\" cy=\"-234\" rx=\"143.77\" ry=\"18\"/>\n",
       "<text text-anchor=\"middle\" x=\"5301\" y=\"-230.3\" font-family=\"Times,serif\" font-size=\"14.00\">Micavibrionales_unclassified</text>\n",
       "</g>\n",
       "<!-- Micavibrionales_unclassified&#45;&gt;Deinococcus -->\n",
       "<g id=\"edge15\" class=\"edge\">\n",
       "<title>Micavibrionales_unclassified&#45;&gt;Deinococcus</title>\n",
       "<path fill=\"none\" stroke=\"black\" d=\"M5203.82,-247.28C5185.63,-249.18 5166.76,-250.88 5149,-252 4091.44,-318.97 3822.1,-214.17 2765,-288 2742.77,-289.55 2718.6,-292.25 2696.88,-295.04\"/>\n",
       "<polygon fill=\"black\" stroke=\"black\" points=\"2696.23,-291.59 2686.77,-296.36 2697.14,-298.53 2696.23,-291.59\"/>\n",
       "</g>\n",
       "<!-- Micavibrionales_unclassified&#45;&gt;[CLS] -->\n",
       "<g id=\"edge63\" class=\"edge\">\n",
       "<title>Micavibrionales_unclassified&#45;&gt;[CLS]</title>\n",
       "<path fill=\"none\" stroke=\"black\" d=\"M5207.4,-247.66C5077.44,-265.18 4834.93,-297.63 4628,-324 4367.26,-357.23 4302.93,-374.05 4041,-396 3604.5,-432.59 3074.28,-445.11 2915.85,-448.17\"/>\n",
       "<polygon fill=\"black\" stroke=\"black\" points=\"2915.45,-444.68 2905.52,-448.37 2915.59,-451.68 2915.45,-444.68\"/>\n",
       "</g>\n",
       "<!-- Betaproteobacteriales_unclassified -->\n",
       "<g id=\"node49\" class=\"node\">\n",
       "<title>Betaproteobacteriales_unclassified</title>\n",
       "<ellipse fill=\"none\" stroke=\"black\" cx=\"7451\" cy=\"-162\" rx=\"172.77\" ry=\"18\"/>\n",
       "<text text-anchor=\"middle\" x=\"7451\" y=\"-158.3\" font-family=\"Times,serif\" font-size=\"14.00\">Betaproteobacteriales_unclassified</text>\n",
       "</g>\n",
       "<!-- Betaproteobacteriales_unclassified&#45;&gt;Janibacter -->\n",
       "<g id=\"edge192\" class=\"edge\">\n",
       "<title>Betaproteobacteriales_unclassified&#45;&gt;Janibacter</title>\n",
       "<path fill=\"none\" stroke=\"black\" d=\"M7330.65,-175C7310.09,-176.83 7288.94,-178.58 7269,-180 6941.44,-203.28 6855.77,-167.38 6531,-216 6525.87,-216.77 6520.55,-217.76 6515.27,-218.89\"/>\n",
       "<polygon fill=\"black\" stroke=\"black\" points=\"6514.17,-215.55 6505.2,-221.17 6515.72,-222.37 6514.17,-215.55\"/>\n",
       "</g>\n",
       "<!-- Betaproteobacteriales_unclassified&#45;&gt;[CLS] -->\n",
       "<g id=\"edge143\" class=\"edge\">\n",
       "<title>Betaproteobacteriales_unclassified&#45;&gt;[CLS]</title>\n",
       "<path fill=\"none\" stroke=\"black\" d=\"M7553.61,-176.53C7600.54,-185.03 7648.85,-197.87 7663,-216 7685.16,-244.38 7639.42,-319.13 7635,-324 7587.14,-376.66 7561.14,-379.16 7492,-396 7257.64,-453.09 3386.17,-449.69 2915.7,-449.07\"/>\n",
       "<polygon fill=\"black\" stroke=\"black\" points=\"2915.54,-445.57 2905.53,-449.06 2915.53,-452.57 2915.54,-445.57\"/>\n",
       "</g>\n",
       "<!-- JG30&#45;KF&#45;CM45_unclassified -->\n",
       "<g id=\"node50\" class=\"node\">\n",
       "<title>JG30&#45;KF&#45;CM45_unclassified</title>\n",
       "<ellipse fill=\"none\" stroke=\"black\" cx=\"7780\" cy=\"-162\" rx=\"138.38\" ry=\"18\"/>\n",
       "<text text-anchor=\"middle\" x=\"7780\" y=\"-158.3\" font-family=\"Times,serif\" font-size=\"14.00\">JG30&#45;KF&#45;CM45_unclassified</text>\n",
       "</g>\n",
       "<!-- JG30&#45;KF&#45;CM45_unclassified&#45;&gt;Janibacter -->\n",
       "<g id=\"edge172\" class=\"edge\">\n",
       "<title>JG30&#45;KF&#45;CM45_unclassified&#45;&gt;Janibacter</title>\n",
       "<path fill=\"none\" stroke=\"black\" d=\"M7685.22,-175.12C7667.87,-177.01 7649.91,-178.75 7633,-180 7144.3,-216.18 7016.21,-147.34 6531,-216 6525.65,-216.76 6520.12,-217.77 6514.62,-218.93\"/>\n",
       "<polygon fill=\"black\" stroke=\"black\" points=\"6513.8,-215.53 6504.82,-221.15 6515.35,-222.36 6513.8,-215.53\"/>\n",
       "</g>\n",
       "<!-- JG30&#45;KF&#45;CM45_unclassified&#45;&gt;[CLS] -->\n",
       "<g id=\"edge123\" class=\"edge\">\n",
       "<title>JG30&#45;KF&#45;CM45_unclassified&#45;&gt;[CLS]</title>\n",
       "<path fill=\"none\" stroke=\"black\" d=\"M7771.46,-180.01C7746.49,-227.38 7668.26,-359.71 7557,-396 7440.55,-433.99 3395.82,-447.4 2915.47,-448.86\"/>\n",
       "<polygon fill=\"black\" stroke=\"black\" points=\"2915.41,-445.36 2905.42,-448.89 2915.43,-452.36 2915.41,-445.36\"/>\n",
       "</g>\n",
       "<!-- 1174&#45;901&#45;12 -->\n",
       "<g id=\"node51\" class=\"node\">\n",
       "<title>1174&#45;901&#45;12</title>\n",
       "<ellipse fill=\"none\" stroke=\"black\" cx=\"5532\" cy=\"-234\" rx=\"69.59\" ry=\"18\"/>\n",
       "<text text-anchor=\"middle\" x=\"5532\" y=\"-230.3\" font-family=\"Times,serif\" font-size=\"14.00\">1174&#45;901&#45;12</text>\n",
       "</g>\n",
       "<!-- 1174&#45;901&#45;12&#45;&gt;Deinococcus -->\n",
       "<g id=\"edge130\" class=\"edge\">\n",
       "<title>1174&#45;901&#45;12&#45;&gt;Deinococcus</title>\n",
       "<path fill=\"none\" stroke=\"black\" d=\"M5483.99,-247.05C5474.13,-249.07 5463.78,-250.88 5454,-252 4860.27,-319.97 3361.19,-246.87 2765,-288 2742.77,-289.53 2718.59,-292.22 2696.88,-295.01\"/>\n",
       "<polygon fill=\"black\" stroke=\"black\" points=\"2696.23,-291.57 2686.77,-296.34 2697.14,-298.51 2696.23,-291.57\"/>\n",
       "</g>\n",
       "<!-- 1174&#45;901&#45;12&#45;&gt;[CLS] -->\n",
       "<g id=\"edge159\" class=\"edge\">\n",
       "<title>1174&#45;901&#45;12&#45;&gt;[CLS]</title>\n",
       "<path fill=\"none\" stroke=\"black\" d=\"M5482.21,-246.62C5472.87,-248.58 5463.16,-250.47 5454,-252 4907.61,-343.09 4768.27,-353.08 4216,-396 3707.23,-435.54 3087.94,-446.17 2915.5,-448.46\"/>\n",
       "<polygon fill=\"black\" stroke=\"black\" points=\"2915.44,-444.96 2905.49,-448.59 2915.54,-451.96 2915.44,-444.96\"/>\n",
       "</g>\n",
       "<!-- Rhodopseudomonas -->\n",
       "<g id=\"node52\" class=\"node\">\n",
       "<title>Rhodopseudomonas</title>\n",
       "<ellipse fill=\"none\" stroke=\"black\" cx=\"7497\" cy=\"-234\" rx=\"103.18\" ry=\"18\"/>\n",
       "<text text-anchor=\"middle\" x=\"7497\" y=\"-230.3\" font-family=\"Times,serif\" font-size=\"14.00\">Rhodopseudomonas</text>\n",
       "</g>\n",
       "<!-- Rhodopseudomonas&#45;&gt;Sphingomonas -->\n",
       "<g id=\"edge164\" class=\"edge\">\n",
       "<title>Rhodopseudomonas&#45;&gt;Sphingomonas</title>\n",
       "<path fill=\"none\" stroke=\"black\" d=\"M7423.26,-246.63C7410.51,-248.52 7397.38,-250.38 7385,-252 7244.66,-270.36 7080.77,-287.46 6984.78,-297.04\"/>\n",
       "<polygon fill=\"black\" stroke=\"black\" points=\"6984.17,-293.59 6974.57,-298.06 6984.86,-300.55 6984.17,-293.59\"/>\n",
       "</g>\n",
       "<!-- Rhodopseudomonas&#45;&gt;[CLS] -->\n",
       "<g id=\"edge2\" class=\"edge\">\n",
       "<title>Rhodopseudomonas&#45;&gt;[CLS]</title>\n",
       "<path fill=\"none\" stroke=\"black\" d=\"M7456.35,-250.63C7364.58,-285.01 7133.59,-366.5 6932,-396 6515.16,-457.01 3338.62,-450.31 2915.51,-449.14\"/>\n",
       "<polygon fill=\"black\" stroke=\"black\" points=\"2915.48,-445.64 2905.47,-449.11 2915.46,-452.64 2915.48,-445.64\"/>\n",
       "</g>\n",
       "<!-- Luteibacter -->\n",
       "<g id=\"node53\" class=\"node\">\n",
       "<title>Luteibacter</title>\n",
       "<ellipse fill=\"none\" stroke=\"black\" cx=\"8001\" cy=\"-162\" rx=\"64.19\" ry=\"18\"/>\n",
       "<text text-anchor=\"middle\" x=\"8001\" y=\"-158.3\" font-family=\"Times,serif\" font-size=\"14.00\">Luteibacter</text>\n",
       "</g>\n",
       "<!-- Luteibacter&#45;&gt;Janibacter -->\n",
       "<g id=\"edge75\" class=\"edge\">\n",
       "<title>Luteibacter&#45;&gt;Janibacter</title>\n",
       "<path fill=\"none\" stroke=\"black\" d=\"M7955.86,-174.88C7946.39,-176.94 7936.42,-178.81 7927,-180 7311.25,-257.87 7145.82,-131.15 6531,-216 6525.65,-216.74 6520.11,-217.74 6514.61,-218.9\"/>\n",
       "<polygon fill=\"black\" stroke=\"black\" points=\"6513.8,-215.49 6504.82,-221.11 6515.34,-222.32 6513.8,-215.49\"/>\n",
       "</g>\n",
       "<!-- Luteibacter&#45;&gt;[CLS] -->\n",
       "<g id=\"edge76\" class=\"edge\">\n",
       "<title>Luteibacter&#45;&gt;[CLS]</title>\n",
       "<path fill=\"none\" stroke=\"black\" d=\"M8044.17,-175.53C8076.69,-185.94 8117.28,-201.37 8127,-216 8135.85,-229.33 8135.34,-238.35 8127,-252 8053.82,-371.74 7982.24,-362.36 7846,-396 7719.53,-427.23 3412.58,-446.66 2915.6,-448.8\"/>\n",
       "<polygon fill=\"black\" stroke=\"black\" points=\"2915.54,-445.3 2905.56,-448.85 2915.57,-452.3 2915.54,-445.3\"/>\n",
       "</g>\n",
       "<!-- Corynebacterium_1 -->\n",
       "<g id=\"node54\" class=\"node\">\n",
       "<title>Corynebacterium_1</title>\n",
       "<ellipse fill=\"none\" stroke=\"black\" cx=\"5721\" cy=\"-234\" rx=\"101.28\" ry=\"18\"/>\n",
       "<text text-anchor=\"middle\" x=\"5721\" y=\"-230.3\" font-family=\"Times,serif\" font-size=\"14.00\">Corynebacterium_1</text>\n",
       "</g>\n",
       "<!-- Corynebacterium_1&#45;&gt;Deinococcus -->\n",
       "<g id=\"edge40\" class=\"edge\">\n",
       "<title>Corynebacterium_1&#45;&gt;Deinococcus</title>\n",
       "<path fill=\"none\" stroke=\"black\" d=\"M5651.94,-247.19C5638.4,-249.15 5624.29,-250.89 5611,-252 4980.68,-304.43 3396.01,-244.71 2765,-288 2742.76,-289.53 2718.59,-292.21 2696.88,-295\"/>\n",
       "<polygon fill=\"black\" stroke=\"black\" points=\"2696.23,-291.56 2686.77,-296.33 2697.14,-298.5 2696.23,-291.56\"/>\n",
       "</g>\n",
       "<!-- Corynebacterium_1&#45;&gt;[CLS] -->\n",
       "<g id=\"edge102\" class=\"edge\">\n",
       "<title>Corynebacterium_1&#45;&gt;[CLS]</title>\n",
       "<path fill=\"none\" stroke=\"black\" d=\"M5648.39,-246.72C5535.39,-264.73 5310.54,-299.69 5119,-324 4822.33,-361.66 4748.31,-374.98 4450,-396 3844.7,-438.66 3106.55,-447.16 2915.76,-448.69\"/>\n",
       "<polygon fill=\"black\" stroke=\"black\" points=\"2915.5,-445.19 2905.53,-448.77 2915.56,-452.19 2915.5,-445.19\"/>\n",
       "</g>\n",
       "<!-- Rhodococcus -->\n",
       "<g id=\"node55\" class=\"node\">\n",
       "<title>Rhodococcus</title>\n",
       "<ellipse fill=\"none\" stroke=\"black\" cx=\"5911\" cy=\"-234\" rx=\"70.69\" ry=\"18\"/>\n",
       "<text text-anchor=\"middle\" x=\"5911\" y=\"-230.3\" font-family=\"Times,serif\" font-size=\"14.00\">Rhodococcus</text>\n",
       "</g>\n",
       "<!-- Rhodococcus&#45;&gt;Deinococcus -->\n",
       "<g id=\"edge6\" class=\"edge\">\n",
       "<title>Rhodococcus&#45;&gt;Deinococcus</title>\n",
       "<path fill=\"none\" stroke=\"black\" d=\"M5861.75,-247.06C5851.64,-249.08 5841.02,-250.89 5831,-252 5153.78,-327.18 3444.8,-241.67 2765,-288 2742.76,-289.52 2718.59,-292.2 2696.88,-294.99\"/>\n",
       "<polygon fill=\"black\" stroke=\"black\" points=\"2696.22,-291.55 2686.77,-296.32 2697.14,-298.49 2696.22,-291.55\"/>\n",
       "</g>\n",
       "<!-- Rhodococcus&#45;&gt;[CLS] -->\n",
       "<g id=\"edge71\" class=\"edge\">\n",
       "<title>Rhodococcus&#45;&gt;[CLS]</title>\n",
       "<path fill=\"none\" stroke=\"black\" d=\"M5859.91,-246.52C5850.33,-248.49 5840.38,-250.41 5831,-252 5579.67,-294.53 5515.01,-292.99 5262,-324 4992.35,-357.05 4925.93,-375.95 4655,-396 3964.75,-447.08 3121.01,-449.38 2915.66,-449.13\"/>\n",
       "<polygon fill=\"black\" stroke=\"black\" points=\"2915.53,-445.63 2905.53,-449.11 2915.52,-452.63 2915.53,-445.63\"/>\n",
       "</g>\n",
       "</g>\n",
       "</svg>\n"
      ],
      "text/plain": [
       "<graphviz.graphs.Digraph at 0x7f8dfeddbdc0>"
      ]
     },
     "execution_count": 111,
     "metadata": {},
     "output_type": "execute_result"
    }
   ],
   "source": [
    "build_tree(result[\"vertices\"], result[\"edges\"], result[\"token_id_map\"])"
   ]
  },
  {
   "cell_type": "code",
   "execution_count": null,
   "metadata": {},
   "outputs": [],
   "source": []
  }
 ],
 "metadata": {
  "kernelspec": {
   "display_name": "Python 3 (ipykernel)",
   "language": "python",
   "name": "python3"
  },
  "language_info": {
   "codemirror_mode": {
    "name": "ipython",
    "version": 3
   },
   "file_extension": ".py",
   "mimetype": "text/x-python",
   "name": "python",
   "nbconvert_exporter": "python",
   "pygments_lexer": "ipython3",
   "version": "3.10.6"
  }
 },
 "nbformat": 4,
 "nbformat_minor": 4
}
