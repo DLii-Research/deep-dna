{
 "cells": [
  {
   "cell_type": "code",
   "execution_count": 1,
   "id": "9b9d66e2-36cb-47ad-a405-f8130d3ff2ad",
   "metadata": {},
   "outputs": [],
   "source": [
    "import os\n",
    "os.environ[\"TF_CPP_MIN_LOG_LEVEL\"] = \"1\""
   ]
  },
  {
   "cell_type": "code",
   "execution_count": 2,
   "id": "0217f1e5-d006-4349-b510-aa1aaf2f0324",
   "metadata": {},
   "outputs": [],
   "source": [
    "import abc\n",
    "from collections import defaultdict\n",
    "import json\n",
    "from itertools import chain\n",
    "import matplotlib.pyplot as plt\n",
    "import numpy as np\n",
    "import numpy.typing as npt\n",
    "from pathlib import Path\n",
    "import tensorflow as tf\n",
    "import tf_utilities as tfu\n",
    "from tqdm.auto import tqdm\n",
    "from typing import Iterable, Generator, Optional\n",
    "import time\n",
    "import wandb\n",
    "\n",
    "from dnadb.datasets import Greengenes, Silva\n",
    "from dnadb import dna, fasta, sample, taxonomy\n",
    "\n",
    "from deepdna.data.dataset import Dataset\n",
    "from deepdna.nn.models import custom_model, dnabert, load_model\n",
    "from deepdna.nn.models.utils import encapsulate_model\n",
    "from deepdna.nn import layers, functional, utils\n"
   ]
  },
  {
   "cell_type": "code",
   "execution_count": 3,
   "id": "adbdd12e-425e-4f05-86a1-3f2349186ebe",
   "metadata": {},
   "outputs": [
    {
     "data": {
      "text/plain": [
       "([PhysicalDevice(name='/physical_device:CPU:0', device_type='CPU')],\n",
       " [PhysicalDevice(name='/physical_device:GPU:0', device_type='GPU')])"
      ]
     },
     "execution_count": 3,
     "metadata": {},
     "output_type": "execute_result"
    }
   ],
   "source": [
    "tfu.devices.select_gpu(0)"
   ]
  },
  {
   "cell_type": "markdown",
   "id": "9a507324-98a6-4e64-9a7e-41e8b23341b0",
   "metadata": {},
   "source": [
    "## Dataset"
   ]
  },
  {
   "cell_type": "code",
   "execution_count": 4,
   "id": "05f341b7-adf1-4ff3-8002-1e20a2ff5a91",
   "metadata": {},
   "outputs": [],
   "source": [
    "dataset = Dataset(\"/home/dwl2x/work/Datasets/Silva2/0\")\n",
    "train_fastas = tuple(map(sample.load_fasta, dataset.fasta_dbs(Dataset.Split.Train)))\n",
    "train_tax = tuple(map(taxonomy.TaxonomyDb, dataset.taxonomy_dbs(Dataset.Split.Train)))\n",
    "test_fastas = tuple(map(sample.load_fasta, dataset.fasta_dbs(Dataset.Split.Test)))\n",
    "test_tax = tuple(map(taxonomy.TaxonomyDb, dataset.taxonomy_dbs(Dataset.Split.Test)))"
   ]
  },
  {
   "cell_type": "code",
   "execution_count": 20,
   "id": "02553c22-9446-488a-9816-b1a46c88a2fb",
   "metadata": {},
   "outputs": [
    {
     "data": {
      "text/plain": [
       "2113503"
      ]
     },
     "execution_count": 20,
     "metadata": {},
     "output_type": "execute_result"
    }
   ],
   "source": [
    "n = 0\n",
    "for label in train_tax[0]:\n",
    "    n += len(list(train_tax[0].fasta_ids_with_label(train_tax[0].label_to_index(label))))\n",
    "n"
   ]
  },
  {
   "cell_type": "code",
   "execution_count": 21,
   "id": "03cd9dee-54ec-48cf-86cc-87da17479740",
   "metadata": {},
   "outputs": [
    {
     "data": {
      "text/plain": [
       "111237"
      ]
     },
     "execution_count": 21,
     "metadata": {},
     "output_type": "execute_result"
    }
   ],
   "source": [
    "n = 0\n",
    "for label in test_tax[0]:\n",
    "    n += len(list(test_tax[0].fasta_ids_with_label(test_tax[0].label_to_index(label))))\n",
    "n"
   ]
  },
  {
   "cell_type": "code",
   "execution_count": 5,
   "id": "caee8e83-27e4-48d3-8970-fd14bc186748",
   "metadata": {},
   "outputs": [],
   "source": [
    "for label in test_tax[0]:\n",
    "    assert train_tax[0].contains_label(label)"
   ]
  },
  {
   "cell_type": "code",
   "execution_count": 6,
   "id": "8e6d1698-6c9a-450a-aaab-6610f58be13b",
   "metadata": {},
   "outputs": [],
   "source": [
    "from deepdna.data.samplers import SampleSampler, SequenceSampler\n",
    "from deepdna.nn.data_generators import _encode_sequences, BatchGenerator\n",
    "from typing import Any, cast\n",
    "\n",
    "class SequenceTaxonomyGenerator(BatchGenerator):\n",
    "    def __init__(\n",
    "        self,\n",
    "        fasta_taxonomy_pairs: Iterable[tuple[sample.FastaSample, taxonomy.TaxonomyDb]],\n",
    "        sequence_length: int,\n",
    "        taxonomy_id_map: dict[str, int],\n",
    "        kmer: int = 1,\n",
    "        subsample_size: int|None = None,\n",
    "        batch_size: int = 32,\n",
    "        batches_per_epoch: int = 100,\n",
    "        augment_slide: bool = True,\n",
    "        augment_ambiguous_bases: bool = True,\n",
    "        balance: bool = False,\n",
    "        shuffle: bool = True,\n",
    "        rng: np.random.Generator = np.random.default_rng()\n",
    "    ):\n",
    "        super().__init__(\n",
    "            batch_size=batch_size,\n",
    "            batches_per_epoch=batches_per_epoch,\n",
    "            shuffle=shuffle,\n",
    "            rng=rng\n",
    "        )\n",
    "        fasta_samples, taxonomy_dbs = zip(*fasta_taxonomy_pairs)\n",
    "        self.sample_sampler = SampleSampler(cast(tuple[sample.FastaSample, ...], fasta_samples))\n",
    "        self.sequence_sampler = SequenceSampler(sequence_length, augment_slide)\n",
    "        self.taxonomy_dbs: tuple[taxonomy.TaxonomyDb, ...] = cast(Any, taxonomy_dbs)\n",
    "        self.kmer = kmer\n",
    "        self.taxonomy_id_map = taxonomy_id_map\n",
    "        self.subsample_size = subsample_size\n",
    "        self.augment_ambiguous_bases = augment_ambiguous_bases\n",
    "        self.balance = balance\n",
    "\n",
    "    @property\n",
    "    def sequence_length(self) -> int:\n",
    "        return self.sequence_sampler.sequence_length\n",
    "\n",
    "    def generate_batch(\n",
    "        self,\n",
    "        rng: np.random.Generator\n",
    "    ) -> tuple[npt.NDArray[np.int32], npt.NDArray[np.int32]]:\n",
    "        subsample_size = self.subsample_size or 1\n",
    "        sequences = np.empty((self.batch_size, subsample_size), dtype=f\"<U{self.sequence_length}\")\n",
    "        sample_ids = np.empty(self.batch_size, dtype=np.int32)\n",
    "        sequence_ids = [None] * self.batch_size\n",
    "        label_ids = np.empty((self.batch_size, subsample_size), dtype=np.int32)\n",
    "        samples = self.sample_sampler.sample_with_ids(self.batch_size, self.balance, rng)\n",
    "        for i, (sample_id, sample) in enumerate(samples):\n",
    "            tax_db = self.taxonomy_dbs[sample_id]\n",
    "            sequence_info = tuple(self.sequence_sampler.sample_with_ids(sample, subsample_size, rng))\n",
    "            sequence_ids[i], sequences[i] = zip(*sequence_info)\n",
    "            sample_ids[i] = sample_id\n",
    "            label_ids[i] = [self.taxonomy_id_map[tax_db.fasta_id_to_label(fasta_id)] for fasta_id in sequence_ids[i]]\n",
    "        sequences = _encode_sequences(sequences, self.augment_ambiguous_bases, self.rng)\n",
    "        if self.subsample_size is None:\n",
    "            sequences = np.squeeze(sequences, axis=1)\n",
    "        sequences = sequences.astype(np.int32)\n",
    "        if self.kmer > 1:\n",
    "            sequences = dna.encode_kmers(sequences, self.kmer, not self.augment_ambiguous_bases).astype(np.int32) # type: ignore\n",
    "        return sample_ids, sequence_ids, sequences, label_ids\n",
    "\n",
    "    def reduce_batch(self, batch):\n",
    "        # remove sample IDs and sequence IDs\n",
    "        return batch[2:]"
   ]
  },
  {
   "cell_type": "markdown",
   "id": "a0be0fe5-be19-4329-a04f-baf13a24eed2",
   "metadata": {},
   "source": [
    "## Model"
   ]
  },
  {
   "cell_type": "code",
   "execution_count": 7,
   "id": "cc66d20f-4d77-459a-a838-3367d852ea2e",
   "metadata": {},
   "outputs": [
    {
     "name": "stderr",
     "output_type": "stream",
     "text": [
      "Failed to detect the name of this notebook, you can set it manually with the WANDB_NOTEBOOK_NAME environment variable to enable code saving.\n",
      "\u001b[34m\u001b[1mwandb\u001b[0m: Currently logged in as: \u001b[33msirdavidludwig\u001b[0m. Use \u001b[1m`wandb login --relogin`\u001b[0m to force relogin\n"
     ]
    },
    {
     "data": {
      "text/html": [
       "wandb version 0.15.8 is available!  To upgrade, please run:\n",
       " $ pip install wandb --upgrade"
      ],
      "text/plain": [
       "<IPython.core.display.HTML object>"
      ]
     },
     "metadata": {},
     "output_type": "display_data"
    },
    {
     "data": {
      "text/html": [
       "Tracking run with wandb version 0.15.5"
      ],
      "text/plain": [
       "<IPython.core.display.HTML object>"
      ]
     },
     "metadata": {},
     "output_type": "display_data"
    },
    {
     "data": {
      "text/html": [
       "Run data is saved locally in <code>/home/dwl2x/work/deep-dna/notebooks/wandb/run-20230808_171419-wbhd6mjc</code>"
      ],
      "text/plain": [
       "<IPython.core.display.HTML object>"
      ]
     },
     "metadata": {},
     "output_type": "display_data"
    },
    {
     "data": {
      "text/html": [
       "Syncing run <strong><a href='https://wandb.ai/sirdavidludwig/dnabert-taxonomy-naive/runs/wbhd6mjc' target=\"_blank\">64d-150l</a></strong> to <a href='https://wandb.ai/sirdavidludwig/dnabert-taxonomy-naive' target=\"_blank\">Weights & Biases</a> (<a href='https://wandb.me/run' target=\"_blank\">docs</a>)<br/>"
      ],
      "text/plain": [
       "<IPython.core.display.HTML object>"
      ]
     },
     "metadata": {},
     "output_type": "display_data"
    },
    {
     "data": {
      "text/html": [
       " View project at <a href='https://wandb.ai/sirdavidludwig/dnabert-taxonomy-naive' target=\"_blank\">https://wandb.ai/sirdavidludwig/dnabert-taxonomy-naive</a>"
      ],
      "text/plain": [
       "<IPython.core.display.HTML object>"
      ]
     },
     "metadata": {},
     "output_type": "display_data"
    },
    {
     "data": {
      "text/html": [
       " View run at <a href='https://wandb.ai/sirdavidludwig/dnabert-taxonomy-naive/runs/wbhd6mjc' target=\"_blank\">https://wandb.ai/sirdavidludwig/dnabert-taxonomy-naive/runs/wbhd6mjc</a>"
      ],
      "text/plain": [
       "<IPython.core.display.HTML object>"
      ]
     },
     "metadata": {},
     "output_type": "display_data"
    }
   ],
   "source": [
    "# api = wandb.Api()\n",
    "run = wandb.init(project=\"dnabert-taxonomy-naive\", name=\"64d-150l\")"
   ]
  },
  {
   "cell_type": "code",
   "execution_count": 8,
   "id": "e7cba1f3-9b72-4d69-8771-2e892441fe23",
   "metadata": {},
   "outputs": [
    {
     "name": "stderr",
     "output_type": "stream",
     "text": [
      "\u001b[34m\u001b[1mwandb\u001b[0m:   4 of 4 files downloaded.  \n"
     ]
    }
   ],
   "source": [
    "# path = api.artifact(\"sirdavidludwig/dnabert-pretrain/dnabert-pretrain-silva-64:v3\").download()\n",
    "path = run.use_artifact(\"sirdavidludwig/dnabert-pretrain/dnabert-pretrain-silva-64:v3\").download()\n",
    "dnabert_model = load_model(path, dnabert.DnaBertPretrainModel).base"
   ]
  },
  {
   "cell_type": "code",
   "execution_count": 9,
   "id": "6acb9a69-9dcd-444f-a192-7aefbafde59e",
   "metadata": {},
   "outputs": [],
   "source": [
    "class NaiveTaxonomyClassificationModel(custom_model.ModelWrapper, custom_model.CustomModel[tf.Tensor, tuple[tf.Tensor, ...]]):\n",
    "    def __init__(\n",
    "        self,\n",
    "        base: tf.keras.Model,\n",
    "        taxonomies: Iterable[str],\n",
    "        **kwargs\n",
    "    ):\n",
    "        super().__init__(**kwargs)\n",
    "        self.base = base\n",
    "        self.taxonomy_id_map = {}\n",
    "        for tax in taxonomies:\n",
    "            if tax not in self.taxonomy_id_map:\n",
    "                assert isinstance(tax, str), \"Taxonomy label must be a string.\"\n",
    "                self.taxonomy_id_map[tax] = len(self.taxonomy_id_map)\n",
    "        self.model = self.build_model()\n",
    "\n",
    "    def default_loss(self):\n",
    "        return tf.keras.losses.SparseCategoricalCrossentropy(from_logits=True)\n",
    "\n",
    "    def default_metrics(self):\n",
    "        return [\n",
    "            tf.keras.metrics.SparseCategoricalAccuracy()\n",
    "        ]\n",
    "\n",
    "    def build_model(self):\n",
    "        x, y = encapsulate_model(self.base)\n",
    "        y = tf.keras.layers.Dense(len(self.taxonomy_id_map))(y)\n",
    "        model = tf.keras.Model(x, y)\n",
    "        return model\n",
    "\n",
    "    def get_config(self):\n",
    "        return super().get_config() | {\n",
    "            \"base\": self.base,\n",
    "            \"taxonomies\": list(self.taxonomy_id_map.keys())\n",
    "        }"
   ]
  },
  {
   "cell_type": "code",
   "execution_count": 10,
   "id": "baca7f3e-ca77-4814-b8e7-6b5b8ac41173",
   "metadata": {},
   "outputs": [],
   "source": [
    "encoder = dnabert.DnaBertEncoderModel(dnabert_model, 256)\n",
    "model = NaiveTaxonomyClassificationModel(encoder, chain(*map(iter, train_tax)))\n",
    "model.compile(optimizer=tf.keras.optimizers.Adam(1e-4))"
   ]
  },
  {
   "cell_type": "code",
   "execution_count": 11,
   "id": "fb30fe2d-964b-4cac-a5d8-7740e26da7cb",
   "metadata": {},
   "outputs": [
    {
     "name": "stdout",
     "output_type": "stream",
     "text": [
      "Model: \"model_4\"\n",
      "_________________________________________________________________\n",
      " Layer (type)                Output Shape              Param #   \n",
      "=================================================================\n",
      " input_5 (InputLayer)        [(None, 148)]             0         \n",
      "                                                                 \n",
      " dna_bert_encoder_model (Dna  (None, 64)               1210496   \n",
      " BertEncoderModel)                                               \n",
      "                                                                 \n",
      " dense_18 (Dense)            (None, 11070)             719550    \n",
      "                                                                 \n",
      "=================================================================\n",
      "Total params: 1,930,046\n",
      "Trainable params: 1,930,046\n",
      "Non-trainable params: 0\n",
      "_________________________________________________________________\n"
     ]
    }
   ],
   "source": [
    "model.summary()"
   ]
  },
  {
   "cell_type": "code",
   "execution_count": 12,
   "id": "c6be2284-4824-46c3-b91e-84978433c3cd",
   "metadata": {},
   "outputs": [],
   "source": [
    "common_args = dict(\n",
    "    sequence_length = 150,\n",
    "    kmer = 3,\n",
    "    taxonomy_id_map = model.taxonomy_id_map,\n",
    "    batch_size = 256,\n",
    ")\n",
    "\n",
    "train_data = SequenceTaxonomyGenerator(\n",
    "    zip(train_fastas, train_tax),\n",
    "    batches_per_epoch=100,\n",
    "    **common_args)\n",
    "test_data = SequenceTaxonomyGenerator(\n",
    "    zip(test_fastas, test_tax),\n",
    "    batches_per_epoch=20,\n",
    "    **common_args)"
   ]
  },
  {
   "cell_type": "code",
   "execution_count": 13,
   "id": "937fc43b-240f-4960-965d-333aad6b8ddc",
   "metadata": {
    "collapsed": true,
    "jupyter": {
     "outputs_hidden": true
    },
    "tags": []
   },
   "outputs": [
    {
     "data": {
      "text/plain": [
       "array([[   30],\n",
       "       [  226],\n",
       "       [  258],\n",
       "       [ 2033],\n",
       "       [ 2105],\n",
       "       [ 1636],\n",
       "       [ 3122],\n",
       "       [ 1258],\n",
       "       [   69],\n",
       "       [   98],\n",
       "       [ 2827],\n",
       "       [ 3489],\n",
       "       [  224],\n",
       "       [  643],\n",
       "       [  360],\n",
       "       [   50],\n",
       "       [ 5017],\n",
       "       [  554],\n",
       "       [ 2286],\n",
       "       [   13],\n",
       "       [  491],\n",
       "       [  374],\n",
       "       [ 6266],\n",
       "       [  623],\n",
       "       [  239],\n",
       "       [   50],\n",
       "       [ 6610],\n",
       "       [ 6126],\n",
       "       [ 3802],\n",
       "       [    5],\n",
       "       [  984],\n",
       "       [  325],\n",
       "       [  258],\n",
       "       [  239],\n",
       "       [  623],\n",
       "       [  716],\n",
       "       [  987],\n",
       "       [  223],\n",
       "       [  647],\n",
       "       [ 3650],\n",
       "       [  223],\n",
       "       [ 1788],\n",
       "       [ 4724],\n",
       "       [  775],\n",
       "       [   48],\n",
       "       [  239],\n",
       "       [ 3663],\n",
       "       [  239],\n",
       "       [ 2001],\n",
       "       [   46],\n",
       "       [ 6102],\n",
       "       [ 1753],\n",
       "       [  623],\n",
       "       [   48],\n",
       "       [  760],\n",
       "       [  239],\n",
       "       [  258],\n",
       "       [ 4619],\n",
       "       [ 1666],\n",
       "       [ 7781],\n",
       "       [ 5735],\n",
       "       [  239],\n",
       "       [  716],\n",
       "       [  239],\n",
       "       [  385],\n",
       "       [ 2470],\n",
       "       [  289],\n",
       "       [ 5980],\n",
       "       [  165],\n",
       "       [  235],\n",
       "       [  475],\n",
       "       [  239],\n",
       "       [  491],\n",
       "       [ 4071],\n",
       "       [   26],\n",
       "       [  355],\n",
       "       [  574],\n",
       "       [  932],\n",
       "       [ 8924],\n",
       "       [ 1965],\n",
       "       [ 3627],\n",
       "       [ 1592],\n",
       "       [  239],\n",
       "       [ 4266],\n",
       "       [  211],\n",
       "       [   46],\n",
       "       [  279],\n",
       "       [  213],\n",
       "       [  945],\n",
       "       [ 2106],\n",
       "       [ 9360],\n",
       "       [  184],\n",
       "       [  642],\n",
       "       [  202],\n",
       "       [ 2688],\n",
       "       [  716],\n",
       "       [  716],\n",
       "       [  107],\n",
       "       [    8],\n",
       "       [  223],\n",
       "       [ 5163],\n",
       "       [   66],\n",
       "       [  436],\n",
       "       [ 3361],\n",
       "       [  760],\n",
       "       [   46],\n",
       "       [  239],\n",
       "       [  239],\n",
       "       [  224],\n",
       "       [ 1121],\n",
       "       [ 5964],\n",
       "       [ 1753],\n",
       "       [  538],\n",
       "       [  150],\n",
       "       [  102],\n",
       "       [ 9486],\n",
       "       [   50],\n",
       "       [ 1474],\n",
       "       [    8],\n",
       "       [  699],\n",
       "       [  196],\n",
       "       [  189],\n",
       "       [  196],\n",
       "       [  906],\n",
       "       [   26],\n",
       "       [   26],\n",
       "       [  239],\n",
       "       [  343],\n",
       "       [   94],\n",
       "       [ 9302],\n",
       "       [   48],\n",
       "       [  211],\n",
       "       [   48],\n",
       "       [  470],\n",
       "       [  585],\n",
       "       [  248],\n",
       "       [  937],\n",
       "       [   48],\n",
       "       [   50],\n",
       "       [  575],\n",
       "       [   48],\n",
       "       [  198],\n",
       "       [  574],\n",
       "       [ 1636],\n",
       "       [  239],\n",
       "       [   48],\n",
       "       [ 3222],\n",
       "       [  239],\n",
       "       [   26],\n",
       "       [ 9274],\n",
       "       [ 1619],\n",
       "       [   26],\n",
       "       [  224],\n",
       "       [  508],\n",
       "       [ 4248],\n",
       "       [ 2269],\n",
       "       [  189],\n",
       "       [    4],\n",
       "       [  193],\n",
       "       [  508],\n",
       "       [  171],\n",
       "       [  239],\n",
       "       [ 3705],\n",
       "       [  232],\n",
       "       [ 4615],\n",
       "       [  196],\n",
       "       [  196],\n",
       "       [  783],\n",
       "       [ 1366],\n",
       "       [ 4727],\n",
       "       [10033],\n",
       "       [  716],\n",
       "       [  637],\n",
       "       [  159],\n",
       "       [  329],\n",
       "       [ 4911],\n",
       "       [  287],\n",
       "       [  491],\n",
       "       [ 4423],\n",
       "       [  508],\n",
       "       [   17],\n",
       "       [    4],\n",
       "       [  162],\n",
       "       [ 1985],\n",
       "       [  115],\n",
       "       [ 1143],\n",
       "       [ 2777],\n",
       "       [  239],\n",
       "       [  170],\n",
       "       [  196],\n",
       "       [ 3401],\n",
       "       [   46],\n",
       "       [  647],\n",
       "       [ 5919],\n",
       "       [ 2717],\n",
       "       [ 4718],\n",
       "       [   46],\n",
       "       [   50],\n",
       "       [   56],\n",
       "       [ 3210],\n",
       "       [  258],\n",
       "       [ 2105],\n",
       "       [   11],\n",
       "       [ 1753],\n",
       "       [  224],\n",
       "       [  964],\n",
       "       [  894],\n",
       "       [  232],\n",
       "       [  482],\n",
       "       [  779],\n",
       "       [ 4071],\n",
       "       [ 5495],\n",
       "       [ 5433],\n",
       "       [ 1825],\n",
       "       [  150],\n",
       "       [  239],\n",
       "       [  722],\n",
       "       [ 1753],\n",
       "       [ 4375],\n",
       "       [   39],\n",
       "       [  653],\n",
       "       [  972],\n",
       "       [   82],\n",
       "       [  716],\n",
       "       [   75],\n",
       "       [ 3951],\n",
       "       [ 2868],\n",
       "       [ 3020],\n",
       "       [    8],\n",
       "       [ 8339],\n",
       "       [10826],\n",
       "       [ 1026],\n",
       "       [   48],\n",
       "       [   46],\n",
       "       [  491],\n",
       "       [  716],\n",
       "       [ 4568],\n",
       "       [ 2863],\n",
       "       [ 4633],\n",
       "       [  716],\n",
       "       [  140],\n",
       "       [ 4860],\n",
       "       [   46],\n",
       "       [ 2497],\n",
       "       [  196],\n",
       "       [ 3401],\n",
       "       [ 4628],\n",
       "       [ 4326],\n",
       "       [ 3441],\n",
       "       [ 7126],\n",
       "       [   50],\n",
       "       [ 5405],\n",
       "       [ 4599],\n",
       "       [ 6070],\n",
       "       [  224],\n",
       "       [  258]], dtype=int32)"
      ]
     },
     "execution_count": 13,
     "metadata": {},
     "output_type": "execute_result"
    }
   ],
   "source": [
    "train_data[0][1]"
   ]
  },
  {
   "cell_type": "code",
   "execution_count": 14,
   "id": "fbf32140-cb06-4ff4-9dec-40399f6077e0",
   "metadata": {
    "collapsed": true,
    "jupyter": {
     "outputs_hidden": true
    },
    "tags": []
   },
   "outputs": [
    {
     "data": {
      "text/plain": [
       "array([[ 239],\n",
       "       [1753],\n",
       "       [  11],\n",
       "       [ 239],\n",
       "       [1133],\n",
       "       [ 215],\n",
       "       [   8],\n",
       "       [  43],\n",
       "       [8298],\n",
       "       [ 787],\n",
       "       [2944],\n",
       "       [ 623],\n",
       "       [ 698],\n",
       "       [ 699],\n",
       "       [1130],\n",
       "       [ 169],\n",
       "       [ 239],\n",
       "       [4663],\n",
       "       [  13],\n",
       "       [ 340],\n",
       "       [ 282],\n",
       "       [1842],\n",
       "       [4064],\n",
       "       [2894],\n",
       "       [4221],\n",
       "       [ 716],\n",
       "       [ 159],\n",
       "       [ 141],\n",
       "       [ 159],\n",
       "       [ 686],\n",
       "       [  46],\n",
       "       [ 488],\n",
       "       [  56],\n",
       "       [  48],\n",
       "       [ 423],\n",
       "       [ 196],\n",
       "       [  48],\n",
       "       [   8],\n",
       "       [  50],\n",
       "       [ 225],\n",
       "       [8863],\n",
       "       [5767],\n",
       "       [  17],\n",
       "       [3489],\n",
       "       [ 239],\n",
       "       [7562],\n",
       "       [5329],\n",
       "       [ 196],\n",
       "       [ 615],\n",
       "       [6661],\n",
       "       [ 471],\n",
       "       [  82],\n",
       "       [   8],\n",
       "       [ 170],\n",
       "       [3309],\n",
       "       [ 226],\n",
       "       [  75],\n",
       "       [1065],\n",
       "       [ 202],\n",
       "       [   4],\n",
       "       [ 683],\n",
       "       [ 615],\n",
       "       [  48],\n",
       "       [ 239],\n",
       "       [ 239],\n",
       "       [  79],\n",
       "       [ 994],\n",
       "       [6102],\n",
       "       [2610],\n",
       "       [  46],\n",
       "       [ 225],\n",
       "       [ 223],\n",
       "       [4428],\n",
       "       [6102],\n",
       "       [1214],\n",
       "       [ 258],\n",
       "       [ 239],\n",
       "       [ 712],\n",
       "       [ 239],\n",
       "       [ 159],\n",
       "       [ 159],\n",
       "       [  26],\n",
       "       [3419],\n",
       "       [ 685],\n",
       "       [ 384],\n",
       "       [ 184],\n",
       "       [ 224],\n",
       "       [  82],\n",
       "       [  50],\n",
       "       [  48],\n",
       "       [ 107],\n",
       "       [ 159],\n",
       "       [ 239],\n",
       "       [2141],\n",
       "       [1636],\n",
       "       [7781],\n",
       "       [1753],\n",
       "       [  17],\n",
       "       [ 499],\n",
       "       [1794],\n",
       "       [  50],\n",
       "       [4724],\n",
       "       [  46],\n",
       "       [4858],\n",
       "       [1661],\n",
       "       [ 506],\n",
       "       [1753],\n",
       "       [ 583],\n",
       "       [ 130],\n",
       "       [4994],\n",
       "       [3493],\n",
       "       [ 196],\n",
       "       [ 716],\n",
       "       [ 127],\n",
       "       [  58],\n",
       "       [ 615],\n",
       "       [ 433],\n",
       "       [ 239],\n",
       "       [ 759],\n",
       "       [ 239],\n",
       "       [ 522],\n",
       "       [   8],\n",
       "       [ 615],\n",
       "       [3607],\n",
       "       [ 141],\n",
       "       [1193],\n",
       "       [  70],\n",
       "       [ 267],\n",
       "       [  48],\n",
       "       [ 242],\n",
       "       [3951],\n",
       "       [   8],\n",
       "       [ 615],\n",
       "       [3489],\n",
       "       [ 830],\n",
       "       [3938],\n",
       "       [2717],\n",
       "       [4268],\n",
       "       [ 656],\n",
       "       [ 194],\n",
       "       [  50],\n",
       "       [ 239],\n",
       "       [1200],\n",
       "       [ 571],\n",
       "       [  48],\n",
       "       [ 239],\n",
       "       [ 103],\n",
       "       [ 633],\n",
       "       [ 159],\n",
       "       [3612],\n",
       "       [ 637],\n",
       "       [ 386],\n",
       "       [ 491],\n",
       "       [ 584],\n",
       "       [   4],\n",
       "       [   8],\n",
       "       [2768],\n",
       "       [3401],\n",
       "       [ 215],\n",
       "       [  93],\n",
       "       [ 715],\n",
       "       [  46],\n",
       "       [3541],\n",
       "       [  46],\n",
       "       [ 196],\n",
       "       [6805],\n",
       "       [ 847],\n",
       "       [6127],\n",
       "       [9326],\n",
       "       [1194],\n",
       "       [2180],\n",
       "       [  15],\n",
       "       [ 574],\n",
       "       [   8],\n",
       "       [ 745],\n",
       "       [ 344],\n",
       "       [ 167],\n",
       "       [ 322],\n",
       "       [ 239],\n",
       "       [ 196],\n",
       "       [ 669],\n",
       "       [ 239],\n",
       "       [  46],\n",
       "       [ 223],\n",
       "       [1558],\n",
       "       [ 124],\n",
       "       [  43],\n",
       "       [ 926],\n",
       "       [ 159],\n",
       "       [ 716],\n",
       "       [ 282],\n",
       "       [ 333],\n",
       "       [3573],\n",
       "       [4483],\n",
       "       [  40],\n",
       "       [5401],\n",
       "       [4296],\n",
       "       [ 196],\n",
       "       [ 508],\n",
       "       [ 915],\n",
       "       [2941],\n",
       "       [2526],\n",
       "       [  46],\n",
       "       [1994],\n",
       "       [3499],\n",
       "       [ 614],\n",
       "       [  50],\n",
       "       [4027],\n",
       "       [ 658],\n",
       "       [ 486],\n",
       "       [4428],\n",
       "       [8566],\n",
       "       [ 764],\n",
       "       [ 258],\n",
       "       [ 226],\n",
       "       [2438],\n",
       "       [   4],\n",
       "       [ 499],\n",
       "       [5150],\n",
       "       [ 571],\n",
       "       [ 340],\n",
       "       [7160],\n",
       "       [ 419],\n",
       "       [ 239],\n",
       "       [ 237],\n",
       "       [ 699],\n",
       "       [6068],\n",
       "       [  48],\n",
       "       [ 625],\n",
       "       [ 239],\n",
       "       [   5],\n",
       "       [ 282],\n",
       "       [ 159],\n",
       "       [6625],\n",
       "       [ 760],\n",
       "       [   8],\n",
       "       [ 239],\n",
       "       [ 623],\n",
       "       [1809],\n",
       "       [1752],\n",
       "       [ 239],\n",
       "       [ 592],\n",
       "       [ 518],\n",
       "       [ 225],\n",
       "       [4246],\n",
       "       [  38],\n",
       "       [ 362],\n",
       "       [ 427],\n",
       "       [2688],\n",
       "       [  17],\n",
       "       [  26],\n",
       "       [4287],\n",
       "       [ 759],\n",
       "       [ 159],\n",
       "       [ 135],\n",
       "       [ 194]], dtype=int32)"
      ]
     },
     "execution_count": 14,
     "metadata": {},
     "output_type": "execute_result"
    }
   ],
   "source": [
    "test_data[0][1]"
   ]
  },
  {
   "cell_type": "code",
   "execution_count": 15,
   "id": "6d426792-9e56-4009-af66-c2338af6674d",
   "metadata": {},
   "outputs": [
    {
     "data": {
      "text/plain": [
       "<tf.Tensor: shape=(256, 11070), dtype=float32, numpy=\n",
       "array([[ 0.00583833, -0.08855611,  0.18546222, ..., -0.016127  ,\n",
       "        -0.2977479 , -0.18200122],\n",
       "       [-0.3335538 , -0.1786217 ,  0.09431156, ..., -0.13177276,\n",
       "        -0.19796431,  0.03931923],\n",
       "       [ 0.32255176, -0.0689109 ,  0.10260673, ..., -0.05669966,\n",
       "        -0.14712423, -0.1045833 ],\n",
       "       ...,\n",
       "       [-0.13978443, -0.44564387, -0.08463553, ..., -0.13566524,\n",
       "         0.00341579,  0.09858178],\n",
       "       [-0.23548141, -0.1444789 , -0.02358536, ...,  0.2709653 ,\n",
       "        -0.11341795, -0.24591446],\n",
       "       [-0.08897561, -0.0622659 ,  0.06874194, ..., -0.00876656,\n",
       "        -0.19912681, -0.20852236]], dtype=float32)>"
      ]
     },
     "execution_count": 15,
     "metadata": {},
     "output_type": "execute_result"
    }
   ],
   "source": [
    "model(train_data[0][0])"
   ]
  },
  {
   "cell_type": "code",
   "execution_count": 16,
   "id": "605fdf84-d31c-4821-9622-3afef0c86de4",
   "metadata": {},
   "outputs": [],
   "source": [
    "wandb_callback = wandb.keras.WandbCallback(save_model=False)\n",
    "wandb_callback.save_model_as_artifact = False\n",
    "checkpoint = tf.keras.callbacks.ModelCheckpoint(\"logs/models/dnabert_taxonomy_naive\", save_best=True)"
   ]
  },
  {
   "cell_type": "code",
   "execution_count": null,
   "id": "73899004-8c5d-429b-b7ed-7b6c66606dad",
   "metadata": {},
   "outputs": [],
   "source": [
    "model.fit(train_data, validation_data=test_data, epochs=3000, initial_epoch=2500, callbacks=[wandb_callback, checkpoint])"
   ]
  },
  {
   "cell_type": "code",
   "execution_count": 23,
   "id": "0bce5b28-5d6e-4b40-93fc-09458219f874",
   "metadata": {},
   "outputs": [
    {
     "name": "stderr",
     "output_type": "stream",
     "text": [
      "WARNING:absl:Found untraced functions such as embedding_layer_call_fn, embedding_layer_call_and_return_conditional_losses, layer_normalization_layer_call_fn, layer_normalization_layer_call_and_return_conditional_losses, layer_normalization_1_layer_call_fn while saving (showing 5 of 178). These functions will not be directly callable after loading.\n"
     ]
    },
    {
     "name": "stdout",
     "output_type": "stream",
     "text": [
      "INFO:tensorflow:Assets written to: logs/models/dnabert_taxonomy_naive/assets\n"
     ]
    },
    {
     "name": "stderr",
     "output_type": "stream",
     "text": [
      "INFO:tensorflow:Assets written to: logs/models/dnabert_taxonomy_naive/assets\n",
      "/opt/conda/lib/python3.10/site-packages/keras/engine/functional.py:1384: CustomMaskWarning: Custom mask layers require a config and must override get_config. When loading, the custom mask layer must be passed to the custom_objects argument.\n",
      "  layer_config = serialize_layer_fn(layer)\n",
      "/opt/conda/lib/python3.10/site-packages/keras/saving/saved_model/layer_serialization.py:112: CustomMaskWarning: Custom mask layers require a config and must override get_config. When loading, the custom mask layer must be passed to the custom_objects argument.\n",
      "  return generic_utils.serialize_keras_object(obj)\n"
     ]
    }
   ],
   "source": [
    "model.save(\"logs/models/dnabert_taxonomy_naive\")"
   ]
  },
  {
   "cell_type": "code",
   "execution_count": null,
   "id": "e4500eed-a749-4459-9ad0-b3e1dbc94f5e",
   "metadata": {},
   "outputs": [],
   "source": []
  }
 ],
 "metadata": {
  "kernelspec": {
   "display_name": "Python 3 (ipykernel)",
   "language": "python",
   "name": "python3"
  },
  "language_info": {
   "codemirror_mode": {
    "name": "ipython",
    "version": 3
   },
   "file_extension": ".py",
   "mimetype": "text/x-python",
   "name": "python",
   "nbconvert_exporter": "python",
   "pygments_lexer": "ipython3",
   "version": "3.10.6"
  }
 },
 "nbformat": 4,
 "nbformat_minor": 5
}
