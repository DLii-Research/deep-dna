{
 "cells": [
  {
   "cell_type": "code",
   "execution_count": 1,
   "metadata": {},
   "outputs": [],
   "source": [
    "import os\n",
    "os.environ[\"TF_CPP_MIN_LOG_LEVEL\"] = '2'\n",
    "\n",
    "import sys\n",
    "sys.path.append(\"../src\")\n",
    "\n",
    "from dnadb import dna, fasta, sample\n",
    "import matplotlib.pyplot as plt\n",
    "import numpy as np\n",
    "import pandas as pd\n",
    "import tensorflow as tf\n",
    "import tf_utilities as tfu\n",
    "from sklearn.cluster import AgglomerativeClustering, KMeans\n",
    "from sklearn.metrics import normalized_mutual_info_score\n",
    "from scipy.cluster.hierarchy import dendrogram\n",
    "from scipy.spatial.distance import cdist\n",
    "from tqdm.notebook import tqdm\n",
    "import wandb\n",
    "\n",
    "from deepdna.data.dataset import Dataset\n",
    "from deepdna.data import metrics, samplers\n",
    "from deepdna.nn.data_generators import SampleTargetGenerator\n",
    "from deepdna.nn.models import load_model, dnabert, setbert"
   ]
  },
  {
   "cell_type": "code",
   "execution_count": 3,
   "metadata": {},
   "outputs": [
    {
     "data": {
      "text/plain": [
       "([PhysicalDevice(name='/physical_device:CPU:0', device_type='CPU')],\n",
       " [PhysicalDevice(name='/physical_device:GPU:1', device_type='GPU')])"
      ]
     },
     "execution_count": 3,
     "metadata": {},
     "output_type": "execute_result"
    }
   ],
   "source": [
    "tfu.devices.select_gpu(1)"
   ]
  },
  {
   "cell_type": "code",
   "execution_count": 4,
   "metadata": {},
   "outputs": [],
   "source": [
    "SEED = 0"
   ]
  },
  {
   "cell_type": "code",
   "execution_count": 5,
   "metadata": {},
   "outputs": [],
   "source": [
    "api = wandb.Api()"
   ]
  },
  {
   "cell_type": "markdown",
   "metadata": {},
   "source": [
    "## Models"
   ]
  },
  {
   "cell_type": "code",
   "execution_count": 6,
   "metadata": {},
   "outputs": [
    {
     "name": "stderr",
     "output_type": "stream",
     "text": [
      "\u001b[34m\u001b[1mwandb\u001b[0m: Downloading large artifact dnabert-pretrain-silva-128d-250l:v0, 61.32MB. 4 files... \n",
      "\u001b[34m\u001b[1mwandb\u001b[0m:   4 of 4 files downloaded.  \n",
      "Done. 0:0:0.1\n"
     ]
    }
   ],
   "source": [
    "path = api.artifact(\"sirdavidludwig/dnabert-pretrain/dnabert-pretrain-silva-128d-250l:v0\").download()\n",
    "dnabert_encoder = dnabert.DnaBertEncoderModel(\n",
    "    load_model(path, dnabert.DnaBertPretrainModel).base,\n",
    "    chunk_size=256\n",
    ")"
   ]
  },
  {
   "cell_type": "code",
   "execution_count": 7,
   "metadata": {},
   "outputs": [
    {
     "name": "stderr",
     "output_type": "stream",
     "text": [
      "\u001b[34m\u001b[1mwandb\u001b[0m: Downloading large artifact setbert-pretrain-walker-abund-128d-250l:v0, 91.05MB. 4 files... \n",
      "\u001b[34m\u001b[1mwandb\u001b[0m:   4 of 4 files downloaded.  \n",
      "Done. 0:0:0.1\n"
     ]
    }
   ],
   "source": [
    "path = api.artifact(\"sirdavidludwig/setbert-pretrain/setbert-pretrain-walker-abund-128d-250l:v0\").download()\n",
    "setbert_pretrain_model = load_model(path, setbert.SetBertPretrainModel)"
   ]
  },
  {
   "cell_type": "code",
   "execution_count": 8,
   "metadata": {},
   "outputs": [],
   "source": [
    "setbert_encoder = setbert.SetBertEncoderModel(setbert_pretrain_model.base)"
   ]
  },
  {
   "cell_type": "markdown",
   "metadata": {},
   "source": [
    "---\n",
    "\n",
    "## Data"
   ]
  },
  {
   "cell_type": "markdown",
   "metadata": {},
   "source": [
    "Create dataset instances."
   ]
  },
  {
   "cell_type": "code",
   "execution_count": 9,
   "metadata": {},
   "outputs": [],
   "source": [
    "fasta_db_path = \"/home/dwl2x/work/Datasets/Walker_Alex/alex.fasta.db\"\n",
    "index_db_path = \"/home/dwl2x/work/Datasets/Walker_Alex/alex.fasta.index.db/\"\n",
    "mapping_db_path = \"/home/dwl2x/work/Datasets/Walker_Alex/alex.fasta.mapping.db/\"\n",
    "pathogen_load_path = \"/home/dwl2x/work/Datasets/Walker_Alex/alex.pathogen_load.tsv\"\n",
    "\n",
    "# sample.load_multiplexed_fasta(fasta_db_path, index_db_path, mapping_db_path)"
   ]
  },
  {
   "cell_type": "code",
   "execution_count": 10,
   "metadata": {},
   "outputs": [],
   "source": [
    "fasta_db = fasta.FastaDb(fasta_db_path)"
   ]
  },
  {
   "cell_type": "code",
   "execution_count": 11,
   "metadata": {},
   "outputs": [],
   "source": [
    "index_db = fasta.FastaIndexDb(index_db_path)"
   ]
  },
  {
   "cell_type": "code",
   "execution_count": 12,
   "metadata": {},
   "outputs": [],
   "source": [
    "mapping = sample.SampleMappingDb(mapping_db_path, index_db)"
   ]
  },
  {
   "cell_type": "code",
   "execution_count": 13,
   "metadata": {},
   "outputs": [
    {
     "data": {
      "text/html": [
       "<div>\n",
       "<style scoped>\n",
       "    .dataframe tbody tr th:only-of-type {\n",
       "        vertical-align: middle;\n",
       "    }\n",
       "\n",
       "    .dataframe tbody tr th {\n",
       "        vertical-align: top;\n",
       "    }\n",
       "\n",
       "    .dataframe thead th {\n",
       "        text-align: right;\n",
       "    }\n",
       "</style>\n",
       "<table border=\"1\" class=\"dataframe\">\n",
       "  <thead>\n",
       "    <tr style=\"text-align: right;\">\n",
       "      <th></th>\n",
       "      <th>pathogen_load</th>\n",
       "    </tr>\n",
       "    <tr>\n",
       "      <th>label</th>\n",
       "      <th></th>\n",
       "    </tr>\n",
       "  </thead>\n",
       "  <tbody>\n",
       "    <tr>\n",
       "      <th>STP582C</th>\n",
       "      <td>0.00000</td>\n",
       "    </tr>\n",
       "    <tr>\n",
       "      <th>STP633C</th>\n",
       "      <td>0.00000</td>\n",
       "    </tr>\n",
       "    <tr>\n",
       "      <th>STP634C</th>\n",
       "      <td>0.00000</td>\n",
       "    </tr>\n",
       "    <tr>\n",
       "      <th>STP639C</th>\n",
       "      <td>0.00000</td>\n",
       "    </tr>\n",
       "    <tr>\n",
       "      <th>STP640C</th>\n",
       "      <td>0.00000</td>\n",
       "    </tr>\n",
       "    <tr>\n",
       "      <th>...</th>\n",
       "      <td>...</td>\n",
       "    </tr>\n",
       "    <tr>\n",
       "      <th>STP1502C</th>\n",
       "      <td>0.30103</td>\n",
       "    </tr>\n",
       "    <tr>\n",
       "      <th>STP1503C</th>\n",
       "      <td>0.30103</td>\n",
       "    </tr>\n",
       "    <tr>\n",
       "      <th>STP762C</th>\n",
       "      <td>1.00000</td>\n",
       "    </tr>\n",
       "    <tr>\n",
       "      <th>STP763C</th>\n",
       "      <td>0.00000</td>\n",
       "    </tr>\n",
       "    <tr>\n",
       "      <th>TST1</th>\n",
       "      <td>0.00000</td>\n",
       "    </tr>\n",
       "  </tbody>\n",
       "</table>\n",
       "<p>737 rows × 1 columns</p>\n",
       "</div>"
      ],
      "text/plain": [
       "          pathogen_load\n",
       "label                  \n",
       "STP582C         0.00000\n",
       "STP633C         0.00000\n",
       "STP634C         0.00000\n",
       "STP639C         0.00000\n",
       "STP640C         0.00000\n",
       "...                 ...\n",
       "STP1502C        0.30103\n",
       "STP1503C        0.30103\n",
       "STP762C         1.00000\n",
       "STP763C         0.00000\n",
       "TST1            0.00000\n",
       "\n",
       "[737 rows x 1 columns]"
      ]
     },
     "execution_count": 13,
     "metadata": {},
     "output_type": "execute_result"
    }
   ],
   "source": [
    "p = pd.read_csv(pathogen_load_path, sep=\"\\t\", index_col=0)\n",
    "p"
   ]
  },
  {
   "cell_type": "code",
   "execution_count": 15,
   "metadata": {},
   "outputs": [
    {
     "data": {
      "text/plain": [
       "737"
      ]
     },
     "execution_count": 15,
     "metadata": {},
     "output_type": "execute_result"
    }
   ],
   "source": [
    "all_samples = [sample.DemultiplexedFastaSample(fasta_db, entry) for entry in mapping]\n",
    "len(all_samples)"
   ]
  },
  {
   "cell_type": "code",
   "execution_count": 16,
   "metadata": {},
   "outputs": [],
   "source": [
    "targets = pd.read_csv(pathogen_load_path, sep=\"\\t\", index_col=0)[\"pathogen_load\"].astype(np.float32).to_dict()"
   ]
  },
  {
   "cell_type": "code",
   "execution_count": 38,
   "metadata": {},
   "outputs": [
    {
     "name": "stderr",
     "output_type": "stream",
     "text": [
      "/tmp/ipykernel_206418/1034511.py:10: VisibleDeprecationWarning: Creating an ndarray from ragged nested sequences (which is a list-or-tuple of lists-or-tuples-or ndarrays with different lengths or shapes) is deprecated. If you meant to do this, you must specify 'dtype=object' when creating the ndarray.\n",
      "  samples = rng.choice(all_samples, 10, replace=False, p=compute_class_weights(all_samples, targets))\n"
     ]
    },
    {
     "data": {
      "text/plain": [
       "10"
      ]
     },
     "execution_count": 38,
     "metadata": {},
     "output_type": "execute_result"
    }
   ],
   "source": [
    "def compute_class_weights(samples, targets):\n",
    "    negative_indices = np.array([1.0 if targets[sample.name] == 0.0 else 0.0 for sample in samples])\n",
    "    positive_indices = 1 - negative_indices\n",
    "    negative_weights = negative_indices / np.sum(negative_indices)\n",
    "    positive_weights = positive_indices / np.sum(positive_indices)\n",
    "    class_weights = positive_weights/2 + negative_weights/2\n",
    "    return class_weights\n",
    "\n",
    "rng = np.random.default_rng(SEED)\n",
    "samples = rng.choice(all_samples, 10, replace=False, p=compute_class_weights(all_samples, targets))\n",
    "len(samples)"
   ]
  },
  {
   "cell_type": "code",
   "execution_count": 39,
   "metadata": {},
   "outputs": [
    {
     "data": {
      "text/plain": [
       "['CMFP74',\n",
       " 'CMFP391',\n",
       " 'CMFP128',\n",
       " 'CMFP110',\n",
       " 'STP1127C',\n",
       " 'STP1488C',\n",
       " 'CMFP721',\n",
       " 'CMFP855',\n",
       " 'CMFP670',\n",
       " 'STP633C']"
      ]
     },
     "execution_count": 39,
     "metadata": {},
     "output_type": "execute_result"
    }
   ],
   "source": [
    "sample_names = [sample.name for sample in samples]\n",
    "sample_names"
   ]
  },
  {
   "cell_type": "markdown",
   "metadata": {},
   "source": [
    "Draw random subsamples using the SequenceSampler."
   ]
  },
  {
   "cell_type": "code",
   "execution_count": 40,
   "metadata": {},
   "outputs": [],
   "source": [
    "seq_sampler = samplers.SequenceSampler(250)"
   ]
  },
  {
   "cell_type": "code",
   "execution_count": 30,
   "metadata": {},
   "outputs": [
    {
     "data": {
      "application/vnd.jupyter.widget-view+json": {
       "model_id": "46514f68e029407fac906f3ad785275c",
       "version_major": 2,
       "version_minor": 0
      },
      "text/plain": [
       "0it [00:00, ?it/s]"
      ]
     },
     "metadata": {},
     "output_type": "display_data"
    },
    {
     "name": "stdout",
     "output_type": "stream",
     "text": [
      "10: 10/10"
     ]
    },
    {
     "data": {
      "text/plain": [
       "(10, 10, 1000, 128)"
      ]
     },
     "execution_count": 30,
     "metadata": {},
     "output_type": "execute_result"
    }
   ],
   "source": [
    "rng = np.random.default_rng(SEED + 1)\n",
    "subsamples_list = []\n",
    "for i, sample in tqdm(enumerate(samples)):\n",
    "    subsamples = []\n",
    "    for j in range(10):\n",
    "        print(f\"\\r{i+1:02d}: {j+1:02d}/{len(samples)}\", end=\"\")\n",
    "        sequences = np.array(list(map(dna.encode_sequence, seq_sampler.sample(sample, 1000))))\n",
    "        sequences = dna.encode_kmers(sequences, dnabert_encoder.base.kmer)\n",
    "        sequences = dnabert_encoder.predict(sequences, batch_size=512, verbose=False)\n",
    "        subsamples.append(sequences)\n",
    "    subsamples_list.append(subsamples)\n",
    "subsamples = np.array(subsamples_list)\n",
    "subsamples.shape"
   ]
  },
  {
   "cell_type": "code",
   "execution_count": 42,
   "metadata": {},
   "outputs": [
    {
     "name": "stdout",
     "output_type": "stream",
     "text": [
      "1/1 [==============================] - 10s 10s/step\n",
      "1/1 [==============================] - 9s 9s/step\n",
      "1/1 [==============================] - 9s 9s/step\n",
      "1/1 [==============================] - 9s 9s/step\n",
      "1/1 [==============================] - 9s 9s/step\n",
      "1/1 [==============================] - 9s 9s/step\n",
      "1/1 [==============================] - 9s 9s/step\n",
      "1/1 [==============================] - 9s 9s/step\n",
      "1/1 [==============================] - 9s 9s/step\n",
      "1/1 [==============================] - 9s 9s/step\n"
     ]
    }
   ],
   "source": [
    "encoded_subsamples = []\n",
    "for sample in samples:\n",
    "    # print(f\"\\r{i+1:02d}/{len(samples)}\", end=\"\")\n",
    "    subsamples = []\n",
    "    for j in range(10):\n",
    "        sequences = np.array(list(map(dna.encode_sequence, seq_sampler.sample(sample, 1000))))\n",
    "        sequences = dna.encode_kmers(sequences, dnabert_encoder.base.kmer)\n",
    "        # sequences = dnabert_encoder.predict(sequences, batch_size=512, verbose=False)\n",
    "        subsamples.append(sequences)\n",
    "    subsamples = np.array(subsamples)\n",
    "    encoded_subsamples.append(setbert_encoder.predict(subsamples))\n",
    "encoded_subsamples = np.array(encoded_subsamples)\n",
    "encoded_subsamples.shape"
   ]
  },
  {
   "cell_type": "code",
   "execution_count": 43,
   "metadata": {},
   "outputs": [
    {
     "data": {
      "text/plain": [
       "(10, 10, 128)"
      ]
     },
     "execution_count": 43,
     "metadata": {},
     "output_type": "execute_result"
    }
   ],
   "source": [
    "encoded_subsamples = np.array(encoded_subsamples)\n",
    "encoded_subsamples.shape"
   ]
  },
  {
   "cell_type": "code",
   "execution_count": 44,
   "metadata": {},
   "outputs": [],
   "source": [
    "# shape = subsamples.shape\n",
    "# encoded_subsamples = setbert_encoder.predict(\n",
    "#     tf.reshape(subsamples, (-1, *shape[2:])), batch_size=1).reshape((*shape[:2], shape[-1]))"
   ]
  },
  {
   "cell_type": "markdown",
   "metadata": {},
   "source": [
    "## MDS Projections"
   ]
  },
  {
   "cell_type": "code",
   "execution_count": 45,
   "metadata": {},
   "outputs": [],
   "source": [
    "distance_measure = \"cityblock\"\n",
    "metric = True"
   ]
  },
  {
   "cell_type": "code",
   "execution_count": 46,
   "metadata": {},
   "outputs": [
    {
     "data": {
      "text/plain": [
       "(100, 100)"
      ]
     },
     "execution_count": 46,
     "metadata": {},
     "output_type": "execute_result"
    }
   ],
   "source": [
    "flat: np.ndarray = encoded_subsamples.reshape((-1, encoded_subsamples.shape[-1]))\n",
    "distance_matrix = cdist(flat, flat, distance_measure)\n",
    "distance_matrix.shape"
   ]
  },
  {
   "cell_type": "code",
   "execution_count": 47,
   "metadata": {},
   "outputs": [
    {
     "data": {
      "text/plain": [
       "(10, 10, 2)"
      ]
     },
     "execution_count": 47,
     "metadata": {},
     "output_type": "execute_result"
    }
   ],
   "source": [
    "mds, _ = metrics.mds(distance_matrix, ndim=2, metric=metric, seed=SEED)\n",
    "mds = mds.reshape(len(samples), -1, 2)\n",
    "mds.shape"
   ]
  },
  {
   "cell_type": "code",
   "execution_count": 48,
   "metadata": {},
   "outputs": [],
   "source": [
    "def mds_stress_analysis(dist_mat, dims, metric=True, seed=None, workers=1, **kwargs):\n",
    "    \"\"\"\n",
    "    Compute the MDS stress value for the given possible range of components.\n",
    "    \"\"\"\n",
    "    import multiprocessing\n",
    "    if isinstance(dims, int):\n",
    "        dims = range(1, dims+1)\n",
    "    dims = list(dims)\n",
    "    with multiprocessing.Pool(workers) as pool:\n",
    "        stresses = pool.map(metrics.MdsStressAnalysisProcess(\n",
    "            dist_mat, metric=metric, random_state=seed, **kwargs\n",
    "        ), dims)\n",
    "    print(stresses)\n",
    "    return dims, stresses #(1 - np.cumsum(stresses) / np.sum(stresses))"
   ]
  },
  {
   "cell_type": "code",
   "execution_count": 54,
   "metadata": {},
   "outputs": [
    {
     "data": {
      "image/png": "[encoded data removed]",
      "text/plain": [
       "<Figure size 500x400 with 1 Axes>"
      ]
     },
     "metadata": {},
     "output_type": "display_data"
    }
   ],
   "source": [
    "plt.figure(figsize=(5, 4))\n",
    "# plt.subplot(1, 2, 1)\n",
    "plt.title(f\"Metric MDS Plot of {len(samples)} Samples\")\n",
    "for sample, points in zip(sample_names, mds):\n",
    "    plt.scatter(points[:,0], points[:,1], label=sample, s=7)\n",
    "plt.xlim((np.min(mds) - 1, np.max(mds) + 1))\n",
    "plt.ylim((np.min(mds) - 1, np.max(mds) + 1))\n",
    "plt.legend(loc='center left', bbox_to_anchor=(1, 0.5),\n",
    "          fancybox=True, shadow=True, ncol=1)\n",
    "\n",
    "# plt.subplot(1, 2, 2)\n",
    "# plt.title(\"MDS Stress Scree Plot\")\n",
    "# plt.plot(*mds_stress)\n",
    "# plt.xlabel(\"Number of Components\")\n",
    "# plt.ylabel(\"1 - Cumulative Stress\")\n",
    "# plt.tight_layout()\n",
    "# plt.savefig(\"mds_scree_plot.png\")\n",
    "plt.tight_layout()\n",
    "plt.show()"
   ]
  },
  {
   "cell_type": "code",
   "execution_count": 52,
   "metadata": {},
   "outputs": [],
   "source": [
    "mds_stress = metrics.mds_stress_analysis(distance_matrix, 128, metric=metric, seed=SEED, workers=1)"
   ]
  },
  {
   "cell_type": "code",
   "execution_count": 55,
   "metadata": {},
   "outputs": [
    {
     "data": {
      "image/png": "[encoded data removed]",
      "text/plain": [
       "<Figure size 640x480 with 1 Axes>"
      ]
     },
     "metadata": {},
     "output_type": "display_data"
    }
   ],
   "source": [
    "plt.title(\"MDS Stress Scree Plot\")\n",
    "plt.plot(*mds_stress)\n",
    "plt.xlabel(\"Number of Components\")\n",
    "plt.ylabel(\"1 - Cumulative Stress\")\n",
    "plt.tight_layout()\n",
    "plt.show()"
   ]
  },
  {
   "cell_type": "markdown",
   "metadata": {},
   "source": [
    "## Clustering"
   ]
  },
  {
   "cell_type": "code",
   "execution_count": null,
   "metadata": {},
   "outputs": [],
   "source": [
    "encoded_subsamples.shape"
   ]
  },
  {
   "cell_type": "code",
   "execution_count": null,
   "metadata": {},
   "outputs": [],
   "source": [
    "flat_encoded_samples = encoded_subsamples.reshape((-1, encoded_subsamples.shape[-1]))"
   ]
  },
  {
   "cell_type": "code",
   "execution_count": null,
   "metadata": {},
   "outputs": [],
   "source": [
    "kmeans = KMeans(n_clusters=len(encoded_subsamples))\n",
    "labels = kmeans.fit_predict(flat_encoded_samples)\n",
    "labels"
   ]
  },
  {
   "cell_type": "code",
   "execution_count": null,
   "metadata": {},
   "outputs": [],
   "source": [
    "normalized_mutual_info_score(\n",
    "    np.repeat(np.arange(len(encoded_subsamples)), encoded_subsamples.shape[1]),\n",
    "    labels)"
   ]
  },
  {
   "cell_type": "markdown",
   "metadata": {},
   "source": [
    "### Agglomerative Clustering"
   ]
  },
  {
   "cell_type": "code",
   "execution_count": null,
   "metadata": {},
   "outputs": [],
   "source": [
    "model = AgglomerativeClustering(None, distance_threshold=0).fit(flat_encoded_samples)\n",
    "# model = AgglomerativeClustering(len(encoded_subsamples)).fit(flat_encoded_samples)"
   ]
  },
  {
   "cell_type": "code",
   "execution_count": 42,
   "metadata": {},
   "outputs": [],
   "source": [
    "def plot_dendrogram(model, **kwargs):\n",
    "    # Create linkage matrix and then plot the dendrogram\n",
    "\n",
    "    # create the counts of samples under each node\n",
    "    counts = np.zeros(model.children_.shape[0])\n",
    "    n_samples = len(model.labels_)\n",
    "    for i, merge in enumerate(model.children_):\n",
    "        current_count = 0\n",
    "        for child_idx in merge:\n",
    "            if child_idx < n_samples:\n",
    "                current_count += 1  # leaf node\n",
    "            else:\n",
    "                current_count += counts[child_idx - n_samples]\n",
    "        counts[i] = current_count\n",
    "\n",
    "    linkage_matrix = np.column_stack(\n",
    "        [model.children_, model.distances_, counts]\n",
    "    ).astype(float)\n",
    "\n",
    "    # Plot the corresponding dendrogram\n",
    "    dendrogram(linkage_matrix, **kwargs)"
   ]
  },
  {
   "cell_type": "code",
   "execution_count": 43,
   "metadata": {},
   "outputs": [
    {
     "data": {
      "text/plain": [
       "array([85, 69, 53, 54, 98, 78, 97, 73, 63, 61, 79, 58, 71, 81, 91, 65, 89,\n",
       "       83, 66, 95, 96, 93, 92, 64, 90, 68, 74, 72, 99, 76, 87, 84, 35, 82,\n",
       "       70, 32, 50, 67, 45, 48, 57, 51, 60, 77, 55, 75, 47, 36, 94, 80, 88,\n",
       "       31, 49, 23, 56, 46, 15, 27, 37, 52, 40, 38, 24, 62, 18, 39, 86, 59,\n",
       "       26, 25, 19, 44, 12, 28, 34, 11, 17, 41, 42, 29, 43,  8, 30, 20, 22,\n",
       "       21, 14, 33, 16, 10,  9, 13,  6,  7,  3,  4,  5,  2,  1,  0])"
      ]
     },
     "execution_count": 43,
     "metadata": {},
     "output_type": "execute_result"
    }
   ],
   "source": [
    "model.labels_"
   ]
  },
  {
   "cell_type": "code",
   "execution_count": 44,
   "metadata": {},
   "outputs": [
    {
     "name": "stdout",
     "output_type": "stream",
     "text": [
      "[  2.   2.   2.   2.   2.   2.   2.   2.   2.   3.   2.   2.   2.   3.\n",
      "   2.   2.   2.   2.   2.   2.   2.   3.   2.   3.   3.   3.   4.   2.\n",
      "   3.   3.   3.   4.   4.   4.   3.   2.   2.   2.   2.   2.   3.   3.\n",
      "   2.   2.   2.   6.   2.   4.   2.   5.   3.   4.   6.   8.   7.   2.\n",
      "   3.   3.   4.   9.   3.   3.   4.   3.   6.   7.   9.   7.   2.   4.\n",
      "   5.   7.   2.   5.   6.   8.   8.   7.   6.  10.  10.   7.   9.  10.\n",
      "   4.  10.  11.  12.  10.  10.  20.  20.  20.  30.  20.  30.  50.  50.\n",
      " 100.]\n"
     ]
    },
    {
     "data": {
      "image/png": "[encoded data removed]",
      "text/plain": [
       "<Figure size 640x480 with 1 Axes>"
      ]
     },
     "metadata": {},
     "output_type": "display_data"
    }
   ],
   "source": [
    "plt.title(\"Hierarchical Clustering Dendrogram\")\n",
    "# plot the top three levels of the dendrogram\n",
    "plot_dendrogram(model, truncate_mode=\"level\", p=3)\n",
    "plt.xlabel(\"Number of points in node (or index of point if no parenthesis).\")\n",
    "plt.show()"
   ]
  },
  {
   "cell_type": "code",
   "execution_count": null,
   "metadata": {},
   "outputs": [],
   "source": []
  }
 ],
 "metadata": {
  "kernelspec": {
   "display_name": "Python 3 (ipykernel)",
   "language": "python",
   "name": "python3"
  },
  "language_info": {
   "codemirror_mode": {
    "name": "ipython",
    "version": 3
   },
   "file_extension": ".py",
   "mimetype": "text/x-python",
   "name": "python",
   "nbconvert_exporter": "python",
   "pygments_lexer": "ipython3",
   "version": "3.10.6"
  }
 },
 "nbformat": 4,
 "nbformat_minor": 4
}
