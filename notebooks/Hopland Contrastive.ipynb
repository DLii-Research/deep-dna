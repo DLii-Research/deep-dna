{
 "cells": [
  {
   "cell_type": "code",
   "execution_count": 56,
   "metadata": {},
   "outputs": [],
   "source": [
    "import sys\n",
    "sys.path.append('../src')\n",
    "\n",
    "from dnadb import dna, fastq, sample\n",
    "import matplotlib.pyplot as plt\n",
    "import numpy as np\n",
    "import pandas as pd\n",
    "from pathlib import Path\n",
    "import seaborn as sns\n",
    "from sklearn.manifold import TSNE\n",
    "import tensorflow as tf\n",
    "from tqdm.auto import tqdm\n",
    "from typing import Optional\n",
    "import wandb\n",
    "\n",
    "from deepdna.data import metrics\n",
    "from deepdna.nn.data_generators import SampleValuePairGenerator, SequenceGenerator\n",
    "from deepdna.nn.losses import SortedLoss, ContrastiveLoss\n",
    "from deepdna.nn.metrics import contrastive_accuracy\n",
    "from deepdna.nn.models import load_model, clip, contrastive, dnabert, setbert"
   ]
  },
  {
   "cell_type": "markdown",
   "metadata": {},
   "source": [
    "## DataSequenceGenerator"
   ]
  },
  {
   "cell_type": "code",
   "execution_count": 2,
   "metadata": {},
   "outputs": [
    {
     "data": {
      "text/plain": [
       "128"
      ]
     },
     "execution_count": 2,
     "metadata": {},
     "output_type": "execute_result"
    }
   ],
   "source": [
    "samples = []\n",
    "for path in Path(\"/home/dwl2x/work/Datasets/hopland\").iterdir():\n",
    "    samples.append(sample.load_fastq(\n",
    "        path,\n",
    "        path.name.split('-16S')[0].replace('-', '.')\n",
    "    ))\n",
    "len(samples)"
   ]
  },
  {
   "cell_type": "code",
   "execution_count": 3,
   "metadata": {},
   "outputs": [
    {
     "data": {
      "text/html": [
       "<div>\n",
       "<style scoped>\n",
       "    .dataframe tbody tr th:only-of-type {\n",
       "        vertical-align: middle;\n",
       "    }\n",
       "\n",
       "    .dataframe tbody tr th {\n",
       "        vertical-align: top;\n",
       "    }\n",
       "\n",
       "    .dataframe thead th {\n",
       "        text-align: right;\n",
       "    }\n",
       "</style>\n",
       "<table border=\"1\" class=\"dataframe\">\n",
       "  <thead>\n",
       "    <tr style=\"text-align: right;\">\n",
       "      <th></th>\n",
       "      <th>Unique_sample_ID</th>\n",
       "      <th>treatment</th>\n",
       "      <th>replicate</th>\n",
       "      <th>X4_NEG</th>\n",
       "      <th>X5_NEG</th>\n",
       "      <th>X10_NEG</th>\n",
       "      <th>X13_NEG</th>\n",
       "      <th>X14_NEG</th>\n",
       "      <th>X18_NEG</th>\n",
       "      <th>X19_NEG</th>\n",
       "      <th>...</th>\n",
       "      <th>X66530_POS</th>\n",
       "      <th>X66541_POS</th>\n",
       "      <th>X66587_POS</th>\n",
       "      <th>X66598_POS</th>\n",
       "      <th>X66614_POS</th>\n",
       "      <th>X66675_POS</th>\n",
       "      <th>X67011_POS</th>\n",
       "      <th>X67172_POS</th>\n",
       "      <th>X67280_POS</th>\n",
       "      <th>X67355_POS</th>\n",
       "    </tr>\n",
       "  </thead>\n",
       "  <tbody>\n",
       "    <tr>\n",
       "      <th>0</th>\n",
       "      <td>Ur1.B</td>\n",
       "      <td>Bulk-100W-U0-Mar</td>\n",
       "      <td>A</td>\n",
       "      <td>243000000.0</td>\n",
       "      <td>235000000.0</td>\n",
       "      <td>23400000.0</td>\n",
       "      <td>57500000.0</td>\n",
       "      <td>65000000.0</td>\n",
       "      <td>5562637.5</td>\n",
       "      <td>34300000.0</td>\n",
       "      <td>...</td>\n",
       "      <td>83507.53906</td>\n",
       "      <td>8031.719727</td>\n",
       "      <td>57523.46094</td>\n",
       "      <td>65193.13281</td>\n",
       "      <td>0.000000</td>\n",
       "      <td>0.00000</td>\n",
       "      <td>14128.66309</td>\n",
       "      <td>0.00000</td>\n",
       "      <td>14964.21973</td>\n",
       "      <td>0.000000</td>\n",
       "    </tr>\n",
       "    <tr>\n",
       "      <th>1</th>\n",
       "      <td>Ur1.R</td>\n",
       "      <td>Rhizo-100W-U0-Mar</td>\n",
       "      <td>A</td>\n",
       "      <td>132000000.0</td>\n",
       "      <td>129000000.0</td>\n",
       "      <td>14200000.0</td>\n",
       "      <td>53600000.0</td>\n",
       "      <td>67600000.0</td>\n",
       "      <td>6555448.5</td>\n",
       "      <td>36300000.0</td>\n",
       "      <td>...</td>\n",
       "      <td>206667.57810</td>\n",
       "      <td>28761.597660</td>\n",
       "      <td>58682.88672</td>\n",
       "      <td>40952.87891</td>\n",
       "      <td>0.000000</td>\n",
       "      <td>0.00000</td>\n",
       "      <td>18445.79297</td>\n",
       "      <td>0.00000</td>\n",
       "      <td>0.00000</td>\n",
       "      <td>10654.476560</td>\n",
       "    </tr>\n",
       "    <tr>\n",
       "      <th>2</th>\n",
       "      <td>Ur10.B</td>\n",
       "      <td>Bulk-050W-U0-Mar</td>\n",
       "      <td>B</td>\n",
       "      <td>209000000.0</td>\n",
       "      <td>205000000.0</td>\n",
       "      <td>23100000.0</td>\n",
       "      <td>59500000.0</td>\n",
       "      <td>55900000.0</td>\n",
       "      <td>4960913.5</td>\n",
       "      <td>36100000.0</td>\n",
       "      <td>...</td>\n",
       "      <td>42598.76953</td>\n",
       "      <td>0.000000</td>\n",
       "      <td>89925.29688</td>\n",
       "      <td>0.00000</td>\n",
       "      <td>36869.980470</td>\n",
       "      <td>0.00000</td>\n",
       "      <td>20201.39063</td>\n",
       "      <td>0.00000</td>\n",
       "      <td>16639.10156</td>\n",
       "      <td>0.000000</td>\n",
       "    </tr>\n",
       "    <tr>\n",
       "      <th>3</th>\n",
       "      <td>Ur10.R</td>\n",
       "      <td>Rhizo-050W-U0-Mar</td>\n",
       "      <td>B</td>\n",
       "      <td>169000000.0</td>\n",
       "      <td>165000000.0</td>\n",
       "      <td>27000000.0</td>\n",
       "      <td>42100000.0</td>\n",
       "      <td>50500000.0</td>\n",
       "      <td>10200000.0</td>\n",
       "      <td>28600000.0</td>\n",
       "      <td>...</td>\n",
       "      <td>142107.01560</td>\n",
       "      <td>95066.093750</td>\n",
       "      <td>202008.34380</td>\n",
       "      <td>81447.16406</td>\n",
       "      <td>376262.312500</td>\n",
       "      <td>44532.87891</td>\n",
       "      <td>47982.80078</td>\n",
       "      <td>21767.06445</td>\n",
       "      <td>30508.04883</td>\n",
       "      <td>6302.954590</td>\n",
       "    </tr>\n",
       "    <tr>\n",
       "      <th>4</th>\n",
       "      <td>Ur11.B</td>\n",
       "      <td>Bulk-050W-U0-Mar</td>\n",
       "      <td>C</td>\n",
       "      <td>279000000.0</td>\n",
       "      <td>271000000.0</td>\n",
       "      <td>30100000.0</td>\n",
       "      <td>61900000.0</td>\n",
       "      <td>64300000.0</td>\n",
       "      <td>8659287.0</td>\n",
       "      <td>41300000.0</td>\n",
       "      <td>...</td>\n",
       "      <td>92879.04688</td>\n",
       "      <td>24184.380860</td>\n",
       "      <td>92277.72656</td>\n",
       "      <td>42621.26953</td>\n",
       "      <td>25223.707030</td>\n",
       "      <td>0.00000</td>\n",
       "      <td>0.00000</td>\n",
       "      <td>0.00000</td>\n",
       "      <td>18528.18555</td>\n",
       "      <td>0.000000</td>\n",
       "    </tr>\n",
       "    <tr>\n",
       "      <th>...</th>\n",
       "      <td>...</td>\n",
       "      <td>...</td>\n",
       "      <td>...</td>\n",
       "      <td>...</td>\n",
       "      <td>...</td>\n",
       "      <td>...</td>\n",
       "      <td>...</td>\n",
       "      <td>...</td>\n",
       "      <td>...</td>\n",
       "      <td>...</td>\n",
       "      <td>...</td>\n",
       "      <td>...</td>\n",
       "      <td>...</td>\n",
       "      <td>...</td>\n",
       "      <td>...</td>\n",
       "      <td>...</td>\n",
       "      <td>...</td>\n",
       "      <td>...</td>\n",
       "      <td>...</td>\n",
       "      <td>...</td>\n",
       "      <td>...</td>\n",
       "    </tr>\n",
       "    <tr>\n",
       "      <th>123</th>\n",
       "      <td>Ur7.R</td>\n",
       "      <td>Rhizo-100W-U2-Mar</td>\n",
       "      <td>C</td>\n",
       "      <td>233000000.0</td>\n",
       "      <td>225000000.0</td>\n",
       "      <td>14700000.0</td>\n",
       "      <td>49800000.0</td>\n",
       "      <td>53100000.0</td>\n",
       "      <td>13400000.0</td>\n",
       "      <td>40600000.0</td>\n",
       "      <td>...</td>\n",
       "      <td>354714.78130</td>\n",
       "      <td>226208.515600</td>\n",
       "      <td>118754.62500</td>\n",
       "      <td>54298.57813</td>\n",
       "      <td>49076.597660</td>\n",
       "      <td>16845.92578</td>\n",
       "      <td>35719.20703</td>\n",
       "      <td>25592.41406</td>\n",
       "      <td>19310.12891</td>\n",
       "      <td>37263.636720</td>\n",
       "    </tr>\n",
       "    <tr>\n",
       "      <th>124</th>\n",
       "      <td>Ur8.B</td>\n",
       "      <td>Bulk-100W-U2-Mar</td>\n",
       "      <td>D</td>\n",
       "      <td>271000000.0</td>\n",
       "      <td>262000000.0</td>\n",
       "      <td>19700000.0</td>\n",
       "      <td>65400000.0</td>\n",
       "      <td>66600000.0</td>\n",
       "      <td>7662917.0</td>\n",
       "      <td>43700000.0</td>\n",
       "      <td>...</td>\n",
       "      <td>78684.25000</td>\n",
       "      <td>22637.021480</td>\n",
       "      <td>57935.89453</td>\n",
       "      <td>25321.66797</td>\n",
       "      <td>0.000000</td>\n",
       "      <td>0.00000</td>\n",
       "      <td>0.00000</td>\n",
       "      <td>0.00000</td>\n",
       "      <td>27208.94531</td>\n",
       "      <td>0.000000</td>\n",
       "    </tr>\n",
       "    <tr>\n",
       "      <th>125</th>\n",
       "      <td>Ur8.R</td>\n",
       "      <td>Rhizo-100W-U2-Mar</td>\n",
       "      <td>D</td>\n",
       "      <td>181000000.0</td>\n",
       "      <td>176000000.0</td>\n",
       "      <td>14000000.0</td>\n",
       "      <td>52400000.0</td>\n",
       "      <td>47200000.0</td>\n",
       "      <td>10500000.0</td>\n",
       "      <td>37900000.0</td>\n",
       "      <td>...</td>\n",
       "      <td>244147.34380</td>\n",
       "      <td>129768.546900</td>\n",
       "      <td>132295.81250</td>\n",
       "      <td>80746.15625</td>\n",
       "      <td>97399.296880</td>\n",
       "      <td>17996.95898</td>\n",
       "      <td>19044.96094</td>\n",
       "      <td>14133.46289</td>\n",
       "      <td>0.00000</td>\n",
       "      <td>11698.916020</td>\n",
       "    </tr>\n",
       "    <tr>\n",
       "      <th>126</th>\n",
       "      <td>Ur9.B</td>\n",
       "      <td>Bulk-050W-U0-Mar</td>\n",
       "      <td>A</td>\n",
       "      <td>273000000.0</td>\n",
       "      <td>268000000.0</td>\n",
       "      <td>19000000.0</td>\n",
       "      <td>62400000.0</td>\n",
       "      <td>69600000.0</td>\n",
       "      <td>4402610.5</td>\n",
       "      <td>37800000.0</td>\n",
       "      <td>...</td>\n",
       "      <td>71842.89063</td>\n",
       "      <td>10209.375000</td>\n",
       "      <td>71277.13281</td>\n",
       "      <td>31502.70898</td>\n",
       "      <td>0.000000</td>\n",
       "      <td>0.00000</td>\n",
       "      <td>23727.10547</td>\n",
       "      <td>0.00000</td>\n",
       "      <td>10649.65625</td>\n",
       "      <td>0.000000</td>\n",
       "    </tr>\n",
       "    <tr>\n",
       "      <th>127</th>\n",
       "      <td>Ur9.R</td>\n",
       "      <td>Rhizo-050W-U0-Mar</td>\n",
       "      <td>A</td>\n",
       "      <td>130000000.0</td>\n",
       "      <td>131000000.0</td>\n",
       "      <td>6977167.0</td>\n",
       "      <td>48900000.0</td>\n",
       "      <td>58200000.0</td>\n",
       "      <td>5482381.0</td>\n",
       "      <td>31200000.0</td>\n",
       "      <td>...</td>\n",
       "      <td>330566.68750</td>\n",
       "      <td>74012.234380</td>\n",
       "      <td>166278.20310</td>\n",
       "      <td>259414.93750</td>\n",
       "      <td>9733.632813</td>\n",
       "      <td>16299.86914</td>\n",
       "      <td>20815.32813</td>\n",
       "      <td>13350.39648</td>\n",
       "      <td>17673.54883</td>\n",
       "      <td>9432.479492</td>\n",
       "    </tr>\n",
       "  </tbody>\n",
       "</table>\n",
       "<p>128 rows × 11482 columns</p>\n",
       "</div>"
      ],
      "text/plain": [
       "    Unique_sample_ID          treatment replicate       X4_NEG       X5_NEG  \\\n",
       "0              Ur1.B   Bulk-100W-U0-Mar         A  243000000.0  235000000.0   \n",
       "1              Ur1.R  Rhizo-100W-U0-Mar         A  132000000.0  129000000.0   \n",
       "2             Ur10.B   Bulk-050W-U0-Mar         B  209000000.0  205000000.0   \n",
       "3             Ur10.R  Rhizo-050W-U0-Mar         B  169000000.0  165000000.0   \n",
       "4             Ur11.B   Bulk-050W-U0-Mar         C  279000000.0  271000000.0   \n",
       "..               ...                ...       ...          ...          ...   \n",
       "123            Ur7.R  Rhizo-100W-U2-Mar         C  233000000.0  225000000.0   \n",
       "124            Ur8.B   Bulk-100W-U2-Mar         D  271000000.0  262000000.0   \n",
       "125            Ur8.R  Rhizo-100W-U2-Mar         D  181000000.0  176000000.0   \n",
       "126            Ur9.B   Bulk-050W-U0-Mar         A  273000000.0  268000000.0   \n",
       "127            Ur9.R  Rhizo-050W-U0-Mar         A  130000000.0  131000000.0   \n",
       "\n",
       "        X10_NEG     X13_NEG     X14_NEG     X18_NEG     X19_NEG  ...  \\\n",
       "0    23400000.0  57500000.0  65000000.0   5562637.5  34300000.0  ...   \n",
       "1    14200000.0  53600000.0  67600000.0   6555448.5  36300000.0  ...   \n",
       "2    23100000.0  59500000.0  55900000.0   4960913.5  36100000.0  ...   \n",
       "3    27000000.0  42100000.0  50500000.0  10200000.0  28600000.0  ...   \n",
       "4    30100000.0  61900000.0  64300000.0   8659287.0  41300000.0  ...   \n",
       "..          ...         ...         ...         ...         ...  ...   \n",
       "123  14700000.0  49800000.0  53100000.0  13400000.0  40600000.0  ...   \n",
       "124  19700000.0  65400000.0  66600000.0   7662917.0  43700000.0  ...   \n",
       "125  14000000.0  52400000.0  47200000.0  10500000.0  37900000.0  ...   \n",
       "126  19000000.0  62400000.0  69600000.0   4402610.5  37800000.0  ...   \n",
       "127   6977167.0  48900000.0  58200000.0   5482381.0  31200000.0  ...   \n",
       "\n",
       "       X66530_POS     X66541_POS    X66587_POS    X66598_POS     X66614_POS  \\\n",
       "0     83507.53906    8031.719727   57523.46094   65193.13281       0.000000   \n",
       "1    206667.57810   28761.597660   58682.88672   40952.87891       0.000000   \n",
       "2     42598.76953       0.000000   89925.29688       0.00000   36869.980470   \n",
       "3    142107.01560   95066.093750  202008.34380   81447.16406  376262.312500   \n",
       "4     92879.04688   24184.380860   92277.72656   42621.26953   25223.707030   \n",
       "..            ...            ...           ...           ...            ...   \n",
       "123  354714.78130  226208.515600  118754.62500   54298.57813   49076.597660   \n",
       "124   78684.25000   22637.021480   57935.89453   25321.66797       0.000000   \n",
       "125  244147.34380  129768.546900  132295.81250   80746.15625   97399.296880   \n",
       "126   71842.89063   10209.375000   71277.13281   31502.70898       0.000000   \n",
       "127  330566.68750   74012.234380  166278.20310  259414.93750    9733.632813   \n",
       "\n",
       "      X66675_POS   X67011_POS   X67172_POS   X67280_POS    X67355_POS  \n",
       "0        0.00000  14128.66309      0.00000  14964.21973      0.000000  \n",
       "1        0.00000  18445.79297      0.00000      0.00000  10654.476560  \n",
       "2        0.00000  20201.39063      0.00000  16639.10156      0.000000  \n",
       "3    44532.87891  47982.80078  21767.06445  30508.04883   6302.954590  \n",
       "4        0.00000      0.00000      0.00000  18528.18555      0.000000  \n",
       "..           ...          ...          ...          ...           ...  \n",
       "123  16845.92578  35719.20703  25592.41406  19310.12891  37263.636720  \n",
       "124      0.00000      0.00000      0.00000  27208.94531      0.000000  \n",
       "125  17996.95898  19044.96094  14133.46289      0.00000  11698.916020  \n",
       "126      0.00000  23727.10547      0.00000  10649.65625      0.000000  \n",
       "127  16299.86914  20815.32813  13350.39648  17673.54883   9432.479492  \n",
       "\n",
       "[128 rows x 11482 columns]"
      ]
     },
     "execution_count": 3,
     "metadata": {},
     "output_type": "execute_result"
    }
   ],
   "source": [
    "label_data = pd.read_csv(\"/home/shared/hopland/CKI_metabolites_Hilic_pos_neg_merged_machine_learning.csv\")\n",
    "label_data"
   ]
  },
  {
   "cell_type": "code",
   "execution_count": 4,
   "metadata": {},
   "outputs": [
    {
     "data": {
      "text/plain": [
       "(128, 128)"
      ]
     },
     "execution_count": 4,
     "metadata": {},
     "output_type": "execute_result"
    }
   ],
   "source": [
    "keys = label_data[\"Unique_sample_ID\"].to_numpy()\n",
    "values = label_data.drop([\"Unique_sample_ID\", \"treatment\", \"replicate\"], axis=1).to_numpy()\n",
    "len(keys), len(values)"
   ]
  },
  {
   "cell_type": "code",
   "execution_count": 5,
   "metadata": {},
   "outputs": [],
   "source": [
    "values = values / np.max(values, axis=0)"
   ]
  },
  {
   "cell_type": "code",
   "execution_count": 6,
   "metadata": {},
   "outputs": [
    {
     "data": {
      "text/plain": [
       "array([0.62953368, 0.62334218, 0.24528302, ..., 0.        , 0.07612066,\n",
       "       0.        ])"
      ]
     },
     "execution_count": 6,
     "metadata": {},
     "output_type": "execute_result"
    }
   ],
   "source": [
    "labels = dict(zip(keys, values))\n",
    "labels[\"Ur1.B\"]"
   ]
  },
  {
   "cell_type": "code",
   "execution_count": 7,
   "metadata": {},
   "outputs": [],
   "source": [
    "for s in samples:\n",
    "    assert s.name in labels"
   ]
  },
  {
   "cell_type": "markdown",
   "metadata": {},
   "source": [
    "## Data Generator"
   ]
  },
  {
   "cell_type": "code",
   "execution_count": 8,
   "metadata": {},
   "outputs": [],
   "source": [
    "train_data = SampleValuePairGenerator(\n",
    "    samples,\n",
    "    labels,\n",
    "    sequence_length=150,\n",
    "    kmer=3,\n",
    "    subsample_size=1000,\n",
    "    batch_size=16,\n",
    "    batches_per_epoch=100,\n",
    "    rng=np.random.default_rng(0))\n",
    "\n",
    "val_data = SampleValuePairGenerator(\n",
    "    samples,\n",
    "    labels,\n",
    "    sequence_length=150,\n",
    "    kmer=3,\n",
    "    subsample_size=1000,\n",
    "    batch_size=16,\n",
    "    shuffle=False,\n",
    "    batches_per_epoch=16,\n",
    "    rng=np.random.default_rng(1))"
   ]
  },
  {
   "cell_type": "code",
   "execution_count": 9,
   "metadata": {},
   "outputs": [
    {
     "data": {
      "text/plain": [
       "(array([[[49,  6, 26, ..., 23, 28, 50],\n",
       "         [ 6, 27, 44, ..., 17,  6, 27],\n",
       "         [ 6, 27, 44, ..., 17,  6, 27],\n",
       "         ...,\n",
       "         [17,  6, 27, ..., 23, 30, 58],\n",
       "         [ 6, 26, 40, ..., 45, 52, 19],\n",
       "         [ 6, 27, 44, ..., 30, 58, 43]],\n",
       " \n",
       "        [[ 6, 27, 44, ..., 26, 42, 42],\n",
       "         [49,  6, 26, ..., 21, 22, 26],\n",
       "         [ 4, 19, 14, ..., 17,  6, 27],\n",
       "         ...,\n",
       "         [ 6, 27, 44, ..., 20, 18, 11],\n",
       "         [49,  4, 18, ..., 49,  6, 26],\n",
       "         [ 6, 27, 44, ..., 17,  6, 27]],\n",
       " \n",
       "        [[ 6, 27, 44, ..., 17,  6, 27],\n",
       "         [49,  6, 27, ..., 20, 17,  6],\n",
       "         [33,  6, 27, ..., 23, 30, 58],\n",
       "         ...,\n",
       "         [49,  6, 27, ..., 21, 22, 26],\n",
       "         [49,  6, 27, ..., 20, 17,  6],\n",
       "         [ 4, 18,  8, ...,  6, 26, 43]],\n",
       " \n",
       "        ...,\n",
       " \n",
       "        [[51, 14, 58, ...,  2,  8, 35],\n",
       "         [49,  6, 27, ..., 23, 30, 58],\n",
       "         [49,  6, 27, ..., 23, 30, 58],\n",
       "         ...,\n",
       "         [ 6, 26, 40, ..., 45, 52, 19],\n",
       "         [ 6, 27, 44, ..., 30, 58, 43],\n",
       "         [ 4, 18,  8, ..., 23, 30, 59]],\n",
       " \n",
       "        [[49,  6, 27, ..., 53, 23, 30],\n",
       "         [ 6, 27, 44, ..., 30, 58, 43],\n",
       "         [49,  6, 27, ..., 21, 22, 26],\n",
       "         ...,\n",
       "         [ 6, 24, 34, ..., 30, 58, 43],\n",
       "         [ 4, 18,  8, ..., 22, 26, 43],\n",
       "         [ 6, 24, 32, ..., 20, 18, 11]],\n",
       " \n",
       "        [[49,  6, 26, ..., 59, 45, 52],\n",
       "         [49,  6, 27, ..., 20, 17,  6],\n",
       "         [49,  6, 27, ..., 20, 17,  6],\n",
       "         ...,\n",
       "         [49,  6, 27, ..., 20, 17,  6],\n",
       "         [ 6, 24, 32, ..., 14, 58, 43],\n",
       "         [ 6, 27, 44, ..., 30, 58, 43]]], dtype=int32),\n",
       " array([[0.57253885, 0.56763923, 0.12473795, ..., 0.02455459, 0.06747736,\n",
       "         0.        ],\n",
       "        [0.6580311 , 0.66313   , 0.19496855, ..., 0.06288867, 0.03957954,\n",
       "         0.        ],\n",
       "        [0.93264246, 0.92572945, 0.8951782 , ..., 0.        , 0.05192077,\n",
       "         0.        ],\n",
       "        ...,\n",
       "        [0.43782383, 0.4376658 , 0.28301886, ..., 0.01900256, 0.1551897 ,\n",
       "         0.08877473],\n",
       "        [0.8031088 , 0.80901855, 0.49580714, ..., 0.        , 0.08239276,\n",
       "         0.        ],\n",
       "        [0.68911916, 0.68700266, 0.11949685, ..., 0.02972783, 0.05368599,\n",
       "         0.26956704]], dtype=float32))"
      ]
     },
     "execution_count": 9,
     "metadata": {},
     "output_type": "execute_result"
    }
   ],
   "source": [
    "train_data[0][0]"
   ]
  },
  {
   "cell_type": "code",
   "execution_count": 10,
   "metadata": {},
   "outputs": [],
   "source": [
    "api = wandb.Api()"
   ]
  },
  {
   "cell_type": "code",
   "execution_count": 11,
   "metadata": {},
   "outputs": [
    {
     "name": "stderr",
     "output_type": "stream",
     "text": [
      "Failed to detect the name of this notebook, you can set it manually with the WANDB_NOTEBOOK_NAME environment variable to enable code saving.\n",
      "\u001b[34m\u001b[1mwandb\u001b[0m: Currently logged in as: \u001b[33msirdavidludwig\u001b[0m. Use \u001b[1m`wandb login --relogin`\u001b[0m to force relogin\n"
     ]
    },
    {
     "data": {
      "text/html": [
       "wandb version 0.15.4 is available!  To upgrade, please run:\n",
       " $ pip install wandb --upgrade"
      ],
      "text/plain": [
       "<IPython.core.display.HTML object>"
      ]
     },
     "metadata": {},
     "output_type": "display_data"
    },
    {
     "data": {
      "text/html": [
       "Tracking run with wandb version 0.15.3"
      ],
      "text/plain": [
       "<IPython.core.display.HTML object>"
      ]
     },
     "metadata": {},
     "output_type": "display_data"
    },
    {
     "data": {
      "text/html": [
       "Run data is saved locally in <code>/home/dwl2x/work/deep-dna/notebooks/wandb/run-20230609_125714-c1g23qqp</code>"
      ],
      "text/plain": [
       "<IPython.core.display.HTML object>"
      ]
     },
     "metadata": {},
     "output_type": "display_data"
    },
    {
     "data": {
      "text/html": [
       "Syncing run <strong><a href='https://wandb.ai/sirdavidludwig/clip-setbert-hopland/runs/c1g23qqp' target=\"_blank\">dual-loss-mse</a></strong> to <a href='https://wandb.ai/sirdavidludwig/clip-setbert-hopland' target=\"_blank\">Weights & Biases</a> (<a href='https://wandb.me/run' target=\"_blank\">docs</a>)<br/>"
      ],
      "text/plain": [
       "<IPython.core.display.HTML object>"
      ]
     },
     "metadata": {},
     "output_type": "display_data"
    },
    {
     "data": {
      "text/html": [
       " View project at <a href='https://wandb.ai/sirdavidludwig/clip-setbert-hopland' target=\"_blank\">https://wandb.ai/sirdavidludwig/clip-setbert-hopland</a>"
      ],
      "text/plain": [
       "<IPython.core.display.HTML object>"
      ]
     },
     "metadata": {},
     "output_type": "display_data"
    },
    {
     "data": {
      "text/html": [
       " View run at <a href='https://wandb.ai/sirdavidludwig/clip-setbert-hopland/runs/c1g23qqp' target=\"_blank\">https://wandb.ai/sirdavidludwig/clip-setbert-hopland/runs/c1g23qqp</a>"
      ],
      "text/plain": [
       "<IPython.core.display.HTML object>"
      ]
     },
     "metadata": {},
     "output_type": "display_data"
    }
   ],
   "source": [
    "run = wandb.init(project=\"clip-setbert-hopland\", name=\"dual-loss-mse\")"
   ]
  },
  {
   "cell_type": "code",
   "execution_count": 12,
   "metadata": {},
   "outputs": [
    {
     "name": "stderr",
     "output_type": "stream",
     "text": [
      "\u001b[34m\u001b[1mwandb\u001b[0m:   4 of 4 files downloaded.  \n",
      "2023-06-09 12:57:24.090853: I tensorflow/stream_executor/cuda/cuda_gpu_executor.cc:975] successful NUMA node read from SysFS had negative value (-1), but there must be at least one NUMA node, so returning NUMA node zero\n",
      "2023-06-09 12:57:24.091196: I tensorflow/stream_executor/cuda/cuda_gpu_executor.cc:975] successful NUMA node read from SysFS had negative value (-1), but there must be at least one NUMA node, so returning NUMA node zero\n",
      "2023-06-09 12:57:24.097559: I tensorflow/stream_executor/cuda/cuda_gpu_executor.cc:975] successful NUMA node read from SysFS had negative value (-1), but there must be at least one NUMA node, so returning NUMA node zero\n",
      "2023-06-09 12:57:24.097795: I tensorflow/stream_executor/cuda/cuda_gpu_executor.cc:975] successful NUMA node read from SysFS had negative value (-1), but there must be at least one NUMA node, so returning NUMA node zero\n",
      "2023-06-09 12:57:24.097974: I tensorflow/stream_executor/cuda/cuda_gpu_executor.cc:975] successful NUMA node read from SysFS had negative value (-1), but there must be at least one NUMA node, so returning NUMA node zero\n",
      "2023-06-09 12:57:24.098160: I tensorflow/stream_executor/cuda/cuda_gpu_executor.cc:975] successful NUMA node read from SysFS had negative value (-1), but there must be at least one NUMA node, so returning NUMA node zero\n",
      "2023-06-09 12:57:24.098964: I tensorflow/core/platform/cpu_feature_guard.cc:193] This TensorFlow binary is optimized with oneAPI Deep Neural Network Library (oneDNN) to use the following CPU instructions in performance-critical operations:  SSE4.1 SSE4.2 AVX AVX2 FMA\n",
      "To enable them in other operations, rebuild TensorFlow with the appropriate compiler flags.\n",
      "2023-06-09 12:57:24.274345: I tensorflow/stream_executor/cuda/cuda_gpu_executor.cc:975] successful NUMA node read from SysFS had negative value (-1), but there must be at least one NUMA node, so returning NUMA node zero\n",
      "2023-06-09 12:57:24.274551: I tensorflow/stream_executor/cuda/cuda_gpu_executor.cc:975] successful NUMA node read from SysFS had negative value (-1), but there must be at least one NUMA node, so returning NUMA node zero\n",
      "2023-06-09 12:57:24.274729: I tensorflow/stream_executor/cuda/cuda_gpu_executor.cc:975] successful NUMA node read from SysFS had negative value (-1), but there must be at least one NUMA node, so returning NUMA node zero\n",
      "2023-06-09 12:57:24.274896: I tensorflow/stream_executor/cuda/cuda_gpu_executor.cc:975] successful NUMA node read from SysFS had negative value (-1), but there must be at least one NUMA node, so returning NUMA node zero\n",
      "2023-06-09 12:57:24.275062: I tensorflow/stream_executor/cuda/cuda_gpu_executor.cc:975] successful NUMA node read from SysFS had negative value (-1), but there must be at least one NUMA node, so returning NUMA node zero\n",
      "2023-06-09 12:57:24.275228: I tensorflow/stream_executor/cuda/cuda_gpu_executor.cc:975] successful NUMA node read from SysFS had negative value (-1), but there must be at least one NUMA node, so returning NUMA node zero\n",
      "2023-06-09 12:57:24.865244: I tensorflow/stream_executor/cuda/cuda_gpu_executor.cc:975] successful NUMA node read from SysFS had negative value (-1), but there must be at least one NUMA node, so returning NUMA node zero\n",
      "2023-06-09 12:57:24.865458: I tensorflow/stream_executor/cuda/cuda_gpu_executor.cc:975] successful NUMA node read from SysFS had negative value (-1), but there must be at least one NUMA node, so returning NUMA node zero\n",
      "2023-06-09 12:57:24.865626: I tensorflow/stream_executor/cuda/cuda_gpu_executor.cc:975] successful NUMA node read from SysFS had negative value (-1), but there must be at least one NUMA node, so returning NUMA node zero\n",
      "2023-06-09 12:57:24.865786: I tensorflow/stream_executor/cuda/cuda_gpu_executor.cc:975] successful NUMA node read from SysFS had negative value (-1), but there must be at least one NUMA node, so returning NUMA node zero\n",
      "2023-06-09 12:57:24.865945: I tensorflow/stream_executor/cuda/cuda_gpu_executor.cc:975] successful NUMA node read from SysFS had negative value (-1), but there must be at least one NUMA node, so returning NUMA node zero\n",
      "2023-06-09 12:57:24.866082: I tensorflow/core/common_runtime/gpu/gpu_device.cc:1532] Created device /job:localhost/replica:0/task:0/device:GPU:0 with 22273 MB memory:  -> device: 0, name: NVIDIA GeForce RTX 3090, pci bus id: 0000:01:00.0, compute capability: 8.6\n",
      "2023-06-09 12:57:24.866434: I tensorflow/stream_executor/cuda/cuda_gpu_executor.cc:975] successful NUMA node read from SysFS had negative value (-1), but there must be at least one NUMA node, so returning NUMA node zero\n",
      "2023-06-09 12:57:24.866559: I tensorflow/core/common_runtime/gpu/gpu_device.cc:1532] Created device /job:localhost/replica:0/task:0/device:GPU:1 with 17420 MB memory:  -> device: 1, name: NVIDIA GeForce RTX 3090, pci bus id: 0000:21:00.0, compute capability: 8.6\n"
     ]
    }
   ],
   "source": [
    "path = api.artifact(\"sirdavidludwig/dnabert-pretrain/dnabert-pretrain-silva-64:v3\").download()\n",
    "# path = run.use_artifact(\"sirdavidludwig/dnabert-pretrain/dnabert-pretrain-silva-64:v3\").download()\n",
    "dnabert_encoder = dnabert.DnaBertEncoderModel(\n",
    "    load_model(path, dnabert.DnaBertPretrainModel).base,\n",
    "    chunk_size=256\n",
    ")"
   ]
  },
  {
   "cell_type": "code",
   "execution_count": 13,
   "metadata": {},
   "outputs": [
    {
     "data": {
      "text/plain": [
       "<keras.saving.saved_model.load.SetBertPretrainModel at 0x7fd5d3c37c10>"
      ]
     },
     "execution_count": 13,
     "metadata": {},
     "output_type": "execute_result"
    }
   ],
   "source": [
    "# path = api.artifact(\"sirdavidludwig/setbert-pretrain/setbert-pretrain-hopl-64:latest\").download()\n",
    "path = Path(\"~/.cache/wandb/wandb/run-20230502_161947-83qte62b/files/model\").expanduser()\n",
    "pretrained_model = tf.keras.models.load_model(path, custom_objects={\"SortedLoss\": SortedLoss})\n",
    "pretrained_model"
   ]
  },
  {
   "cell_type": "code",
   "execution_count": 14,
   "metadata": {},
   "outputs": [],
   "source": [
    "setbert_model = setbert.SetBertModel(\n",
    "    dnabert_encoder,\n",
    "    embed_dim=64,\n",
    "    max_set_len=1000,\n",
    "    stack=8,\n",
    "    num_heads=8)\n",
    "    # num_induce=128)\n",
    "setbert_model.layers[1].set_weights(pretrained_model.base.model.get_weights())"
   ]
  },
  {
   "cell_type": "code",
   "execution_count": 15,
   "metadata": {},
   "outputs": [],
   "source": [
    "setbert_encoder = setbert.SetBertEncoderModel(setbert_model)"
   ]
  },
  {
   "cell_type": "code",
   "execution_count": 16,
   "metadata": {},
   "outputs": [
    {
     "data": {
      "text/plain": [
       "11482"
      ]
     },
     "execution_count": 16,
     "metadata": {},
     "output_type": "execute_result"
    }
   ],
   "source": [
    "label_data.shape[1]"
   ]
  },
  {
   "cell_type": "code",
   "execution_count": 17,
   "metadata": {},
   "outputs": [
    {
     "name": "stdout",
     "output_type": "stream",
     "text": [
      "Model: \"model_5\"\n",
      "__________________________________________________________________________________________________\n",
      " Layer (type)                   Output Shape         Param #     Connected to                     \n",
      "==================================================================================================\n",
      " input_6 (InputLayer)           [(None, 11479)]      0           []                               \n",
      "                                                                                                  \n",
      " dense_33 (Dense)               (None, 512)          5877760     ['input_6[0][0]']                \n",
      "                                                                                                  \n",
      " layer_normalization_16 (LayerN  (None, 512)         1024        ['dense_33[0][0]']               \n",
      " ormalization)                                                                                    \n",
      "                                                                                                  \n",
      " activation (Activation)        (None, 512)          0           ['layer_normalization_16[0][0]'] \n",
      "                                                                                                  \n",
      " dropout_24 (Dropout)           (None, 512)          0           ['activation[0][0]']             \n",
      "                                                                                                  \n",
      " add (Add)                      (None, 512)          0           ['dropout_24[0][0]',             \n",
      "                                                                  'dense_33[0][0]']               \n",
      "                                                                                                  \n",
      " dense_34 (Dense)               (None, 128)          65664       ['add[0][0]']                    \n",
      "                                                                                                  \n",
      " layer_normalization_17 (LayerN  (None, 128)         256         ['dense_34[0][0]']               \n",
      " ormalization)                                                                                    \n",
      "                                                                                                  \n",
      " activation_1 (Activation)      (None, 128)          0           ['layer_normalization_17[0][0]'] \n",
      "                                                                                                  \n",
      " dropout_25 (Dropout)           (None, 128)          0           ['activation_1[0][0]']           \n",
      "                                                                                                  \n",
      " add_1 (Add)                    (None, 128)          0           ['dropout_25[0][0]',             \n",
      "                                                                  'dense_34[0][0]']               \n",
      "                                                                                                  \n",
      " dense_35 (Dense)               (None, 64)           8256        ['add_1[0][0]']                  \n",
      "                                                                                                  \n",
      " layer_normalization_18 (LayerN  (None, 64)          128         ['dense_35[0][0]']               \n",
      " ormalization)                                                                                    \n",
      "                                                                                                  \n",
      " activation_2 (Activation)      (None, 64)           0           ['layer_normalization_18[0][0]'] \n",
      "                                                                                                  \n",
      " dropout_26 (Dropout)           (None, 64)           0           ['activation_2[0][0]']           \n",
      "                                                                                                  \n",
      " add_2 (Add)                    (None, 64)           0           ['dropout_26[0][0]',             \n",
      "                                                                  'dense_35[0][0]']               \n",
      "                                                                                                  \n",
      "==================================================================================================\n",
      "Total params: 5,953,088\n",
      "Trainable params: 5,953,088\n",
      "Non-trainable params: 0\n",
      "__________________________________________________________________________________________________\n"
     ]
    }
   ],
   "source": [
    "y = x = tf.keras.layers.Input((label_data.shape[1] - 3))\n",
    "\n",
    "# 512 block\n",
    "y = r = tf.keras.layers.Dense(512)(y)\n",
    "y = tf.keras.layers.LayerNormalization()(y)\n",
    "y = tf.keras.layers.Activation(\"gelu\")(y)\n",
    "y = tf.keras.layers.Dropout(0.10)(y)\n",
    "y = tf.keras.layers.Add()((y, r))\n",
    "\n",
    "# 128 block\n",
    "y = r = tf.keras.layers.Dense(128)(y)\n",
    "y = tf.keras.layers.LayerNormalization()(y)\n",
    "y = tf.keras.layers.Activation(\"gelu\")(y)\n",
    "y = tf.keras.layers.Dropout(0.10)(y)\n",
    "y = tf.keras.layers.Add()((y, r))\n",
    "\n",
    "# 64 block\n",
    "y = r = tf.keras.layers.Dense(64)(y)\n",
    "y = tf.keras.layers.LayerNormalization()(y)\n",
    "y = tf.keras.layers.Activation(\"gelu\")(y)\n",
    "y = tf.keras.layers.Dropout(0.10)(y)\n",
    "y = tf.keras.layers.Add()((y, r))\n",
    "\n",
    "abundance_encoder = tf.keras.Model(x, y)\n",
    "abundance_encoder.summary()"
   ]
  },
  {
   "cell_type": "code",
   "execution_count": 18,
   "metadata": {},
   "outputs": [
    {
     "data": {
      "image/png": "[encoded data removed]",
      "text/plain": [
       "<IPython.core.display.Image object>"
      ]
     },
     "execution_count": 18,
     "metadata": {},
     "output_type": "execute_result"
    }
   ],
   "source": [
    "tf.keras.utils.plot_model(abundance_encoder, to_file=\"/tmp/model.png\")"
   ]
  },
  {
   "cell_type": "code",
   "execution_count": 18,
   "metadata": {},
   "outputs": [
    {
     "name": "stdout",
     "output_type": "stream",
     "text": [
      "1/1 [==============================] - 1s 767ms/step\n"
     ]
    },
    {
     "name": "stderr",
     "output_type": "stream",
     "text": [
      "2023-06-09 12:57:37.032143: I tensorflow/stream_executor/cuda/cuda_blas.cc:1786] TensorFloat-32 will be used for the matrix multiplication. This will only be logged once.\n",
      "2023-06-09 12:57:37.137783: I tensorflow/stream_executor/cuda/cuda_dnn.cc:384] Loaded cuDNN version 8401\n"
     ]
    },
    {
     "name": "stdout",
     "output_type": "stream",
     "text": [
      "1/1 [==============================] - 7s 7s/step\n"
     ]
    },
    {
     "data": {
      "image/png": "[encoded data removed]",
      "text/plain": [
       "<Figure size 1000x400 with 2 Axes>"
      ]
     },
     "metadata": {},
     "output_type": "display_data"
    }
   ],
   "source": [
    "plt.figure(figsize=(10, 4))\n",
    "plt.subplot(1, 2, 1)\n",
    "plt.title(\"Abundance Embedding Value Histogram\")\n",
    "plt.hist(abundance_encoder.predict(val_data[0][0][1]).flatten(), bins=50)\n",
    "\n",
    "plt.subplot(1, 2, 2)\n",
    "plt.title(\"SetBERT Embedding Value Histogram\")\n",
    "plt.hist(setbert_encoder.predict(val_data[0][0][0]).flatten(), bins=50)\n",
    "plt.show()"
   ]
  },
  {
   "cell_type": "code",
   "execution_count": 19,
   "metadata": {},
   "outputs": [],
   "source": [
    "model = contrastive.ClipModel(\n",
    "    setbert_encoder,\n",
    "    abundance_encoder,\n",
    "    embed_dim=64,\n",
    "    activation=None,\n",
    "    use_shared_projections=True,\n",
    "    shared_latent_space=True\n",
    ")\n",
    "model.compile(\n",
    "    optimizer=tf.keras.optimizers.Adam(learning_rate=1e-4),\n",
    "    loss=[\n",
    "        ContrastiveLoss(),\n",
    "        tf.keras.losses.MeanAbsoluteError()\n",
    "    ]\n",
    ")"
   ]
  },
  {
   "cell_type": "code",
   "execution_count": 20,
   "metadata": {},
   "outputs": [],
   "source": [
    "callbacks = []\n",
    "\n",
    "wandb_callback = wandb.keras.WandbCallback(save_model=False)\n",
    "wandb_callback.save_model_as_artifact = False\n",
    "callbacks.append(wandb_callback)\n",
    "\n",
    "callbacks.append(\n",
    "    tf.keras.callbacks.ModelCheckpoint(\"./hopland-clip-pretrained-dual-loss-mse\")\n",
    ")"
   ]
  },
  {
   "cell_type": "code",
   "execution_count": null,
   "metadata": {
    "tags": []
   },
   "outputs": [
    {
     "name": "stdout",
     "output_type": "stream",
     "text": [
      "Epoch 1/100\n",
      "100/100 [==============================] - ETA: 0s - loss: 3.5047 - output_1_loss: 2.7726 - output_2_loss: 0.7321 - contrastive_accuracy: 0.0756"
     ]
    },
    {
     "name": "stderr",
     "output_type": "stream",
     "text": [
      "WARNING:absl:Found untraced functions such as multi_head_attention_layer_call_fn, multi_head_attention_layer_call_and_return_conditional_losses, layer_normalization_layer_call_fn, layer_normalization_layer_call_and_return_conditional_losses, layer_normalization_1_layer_call_fn while saving (showing 5 of 324). These functions will not be directly callable after loading.\n"
     ]
    },
    {
     "name": "stdout",
     "output_type": "stream",
     "text": [
      "INFO:tensorflow:Assets written to: ./hopland-clip-pretrained-dual-loss-mse/assets\n"
     ]
    },
    {
     "name": "stderr",
     "output_type": "stream",
     "text": [
      "INFO:tensorflow:Assets written to: ./hopland-clip-pretrained-dual-loss-mse/assets\n",
      "/opt/conda/lib/python3.10/site-packages/keras/engine/functional.py:1384: CustomMaskWarning: Custom mask layers require a config and must override get_config. When loading, the custom mask layer must be passed to the custom_objects argument.\n",
      "  layer_config = serialize_layer_fn(layer)\n",
      "/opt/conda/lib/python3.10/site-packages/keras/saving/saved_model/layer_serialization.py:112: CustomMaskWarning: Custom mask layers require a config and must override get_config. When loading, the custom mask layer must be passed to the custom_objects argument.\n",
      "  return generic_utils.serialize_keras_object(obj)\n"
     ]
    },
    {
     "name": "stdout",
     "output_type": "stream",
     "text": [
      "100/100 [==============================] - 628s 6s/step - loss: 3.5047 - output_1_loss: 2.7726 - output_2_loss: 0.7321 - contrastive_accuracy: 0.0756 - val_loss: 3.0490 - val_output_1_loss: 2.7719 - val_output_2_loss: 0.2771 - val_contrastive_accuracy: 0.1055\n",
      "Epoch 2/100\n",
      "100/100 [==============================] - ETA: 0s - loss: 3.2402 - output_1_loss: 2.7721 - output_2_loss: 0.4681 - contrastive_accuracy: 0.0787"
     ]
    },
    {
     "name": "stderr",
     "output_type": "stream",
     "text": [
      "WARNING:absl:Found untraced functions such as multi_head_attention_layer_call_fn, multi_head_attention_layer_call_and_return_conditional_losses, layer_normalization_layer_call_fn, layer_normalization_layer_call_and_return_conditional_losses, layer_normalization_1_layer_call_fn while saving (showing 5 of 324). These functions will not be directly callable after loading.\n"
     ]
    },
    {
     "name": "stdout",
     "output_type": "stream",
     "text": [
      "INFO:tensorflow:Assets written to: ./hopland-clip-pretrained-dual-loss-mse/assets\n"
     ]
    },
    {
     "name": "stderr",
     "output_type": "stream",
     "text": [
      "INFO:tensorflow:Assets written to: ./hopland-clip-pretrained-dual-loss-mse/assets\n"
     ]
    },
    {
     "name": "stdout",
     "output_type": "stream",
     "text": [
      "100/100 [==============================] - 620s 6s/step - loss: 3.2402 - output_1_loss: 2.7721 - output_2_loss: 0.4681 - contrastive_accuracy: 0.0787 - val_loss: 3.0523 - val_output_1_loss: 2.7717 - val_output_2_loss: 0.2805 - val_contrastive_accuracy: 0.0879\n",
      "Epoch 3/100\n"
     ]
    },
    {
     "name": "stderr",
     "output_type": "stream",
     "text": [
      "/opt/conda/lib/python3.10/site-packages/keras/engine/functional.py:1384: CustomMaskWarning: Custom mask layers require a config and must override get_config. When loading, the custom mask layer must be passed to the custom_objects argument.\n",
      "  layer_config = serialize_layer_fn(layer)\n",
      "/opt/conda/lib/python3.10/site-packages/keras/saving/saved_model/layer_serialization.py:112: CustomMaskWarning: Custom mask layers require a config and must override get_config. When loading, the custom mask layer must be passed to the custom_objects argument.\n",
      "  return generic_utils.serialize_keras_object(obj)\n"
     ]
    },
    {
     "name": "stdout",
     "output_type": "stream",
     "text": [
      "100/100 [==============================] - ETA: 0s - loss: 3.1834 - output_1_loss: 2.7719 - output_2_loss: 0.4115 - contrastive_accuracy: 0.0919"
     ]
    },
    {
     "name": "stderr",
     "output_type": "stream",
     "text": [
      "WARNING:absl:Found untraced functions such as multi_head_attention_layer_call_fn, multi_head_attention_layer_call_and_return_conditional_losses, layer_normalization_layer_call_fn, layer_normalization_layer_call_and_return_conditional_losses, layer_normalization_1_layer_call_fn while saving (showing 5 of 324). These functions will not be directly callable after loading.\n"
     ]
    },
    {
     "name": "stdout",
     "output_type": "stream",
     "text": [
      "INFO:tensorflow:Assets written to: ./hopland-clip-pretrained-dual-loss-mse/assets\n"
     ]
    },
    {
     "name": "stderr",
     "output_type": "stream",
     "text": [
      "INFO:tensorflow:Assets written to: ./hopland-clip-pretrained-dual-loss-mse/assets\n"
     ]
    },
    {
     "name": "stdout",
     "output_type": "stream",
     "text": [
      "100/100 [==============================] - 620s 6s/step - loss: 3.1834 - output_1_loss: 2.7719 - output_2_loss: 0.4115 - contrastive_accuracy: 0.0919 - val_loss: 3.0255 - val_output_1_loss: 2.7711 - val_output_2_loss: 0.2543 - val_contrastive_accuracy: 0.1348\n",
      "Epoch 4/100\n"
     ]
    },
    {
     "name": "stderr",
     "output_type": "stream",
     "text": [
      "/opt/conda/lib/python3.10/site-packages/keras/engine/functional.py:1384: CustomMaskWarning: Custom mask layers require a config and must override get_config. When loading, the custom mask layer must be passed to the custom_objects argument.\n",
      "  layer_config = serialize_layer_fn(layer)\n",
      "/opt/conda/lib/python3.10/site-packages/keras/saving/saved_model/layer_serialization.py:112: CustomMaskWarning: Custom mask layers require a config and must override get_config. When loading, the custom mask layer must be passed to the custom_objects argument.\n",
      "  return generic_utils.serialize_keras_object(obj)\n"
     ]
    },
    {
     "name": "stdout",
     "output_type": "stream",
     "text": [
      "100/100 [==============================] - ETA: 0s - loss: 3.1473 - output_1_loss: 2.7712 - output_2_loss: 0.3760 - contrastive_accuracy: 0.1084"
     ]
    },
    {
     "name": "stderr",
     "output_type": "stream",
     "text": [
      "WARNING:absl:Found untraced functions such as multi_head_attention_layer_call_fn, multi_head_attention_layer_call_and_return_conditional_losses, layer_normalization_layer_call_fn, layer_normalization_layer_call_and_return_conditional_losses, layer_normalization_1_layer_call_fn while saving (showing 5 of 324). These functions will not be directly callable after loading.\n"
     ]
    },
    {
     "name": "stdout",
     "output_type": "stream",
     "text": [
      "INFO:tensorflow:Assets written to: ./hopland-clip-pretrained-dual-loss-mse/assets\n"
     ]
    },
    {
     "name": "stderr",
     "output_type": "stream",
     "text": [
      "INFO:tensorflow:Assets written to: ./hopland-clip-pretrained-dual-loss-mse/assets\n",
      "/opt/conda/lib/python3.10/site-packages/keras/engine/functional.py:1384: CustomMaskWarning: Custom mask layers require a config and must override get_config. When loading, the custom mask layer must be passed to the custom_objects argument.\n",
      "  layer_config = serialize_layer_fn(layer)\n"
     ]
    },
    {
     "name": "stdout",
     "output_type": "stream",
     "text": [
      "100/100 [==============================] - 620s 6s/step - loss: 3.1473 - output_1_loss: 2.7712 - output_2_loss: 0.3760 - contrastive_accuracy: 0.1084 - val_loss: 3.0438 - val_output_1_loss: 2.7701 - val_output_2_loss: 0.2737 - val_contrastive_accuracy: 0.1211\n",
      "Epoch 5/100\n"
     ]
    },
    {
     "name": "stderr",
     "output_type": "stream",
     "text": [
      "/opt/conda/lib/python3.10/site-packages/keras/saving/saved_model/layer_serialization.py:112: CustomMaskWarning: Custom mask layers require a config and must override get_config. When loading, the custom mask layer must be passed to the custom_objects argument.\n",
      "  return generic_utils.serialize_keras_object(obj)\n"
     ]
    },
    {
     "name": "stdout",
     "output_type": "stream",
     "text": [
      "100/100 [==============================] - ETA: 0s - loss: 3.1212 - output_1_loss: 2.7700 - output_2_loss: 0.3512 - contrastive_accuracy: 0.1228"
     ]
    },
    {
     "name": "stderr",
     "output_type": "stream",
     "text": [
      "WARNING:absl:Found untraced functions such as multi_head_attention_layer_call_fn, multi_head_attention_layer_call_and_return_conditional_losses, layer_normalization_layer_call_fn, layer_normalization_layer_call_and_return_conditional_losses, layer_normalization_1_layer_call_fn while saving (showing 5 of 324). These functions will not be directly callable after loading.\n"
     ]
    },
    {
     "name": "stdout",
     "output_type": "stream",
     "text": [
      "INFO:tensorflow:Assets written to: ./hopland-clip-pretrained-dual-loss-mse/assets\n"
     ]
    },
    {
     "name": "stderr",
     "output_type": "stream",
     "text": [
      "INFO:tensorflow:Assets written to: ./hopland-clip-pretrained-dual-loss-mse/assets\n"
     ]
    },
    {
     "name": "stdout",
     "output_type": "stream",
     "text": [
      "100/100 [==============================] - 620s 6s/step - loss: 3.1212 - output_1_loss: 2.7700 - output_2_loss: 0.3512 - contrastive_accuracy: 0.1228 - val_loss: 3.0269 - val_output_1_loss: 2.7679 - val_output_2_loss: 0.2590 - val_contrastive_accuracy: 0.1484\n",
      "Epoch 6/100\n"
     ]
    },
    {
     "name": "stderr",
     "output_type": "stream",
     "text": [
      "/opt/conda/lib/python3.10/site-packages/keras/engine/functional.py:1384: CustomMaskWarning: Custom mask layers require a config and must override get_config. When loading, the custom mask layer must be passed to the custom_objects argument.\n",
      "  layer_config = serialize_layer_fn(layer)\n",
      "/opt/conda/lib/python3.10/site-packages/keras/saving/saved_model/layer_serialization.py:112: CustomMaskWarning: Custom mask layers require a config and must override get_config. When loading, the custom mask layer must be passed to the custom_objects argument.\n",
      "  return generic_utils.serialize_keras_object(obj)\n"
     ]
    },
    {
     "name": "stdout",
     "output_type": "stream",
     "text": [
      "100/100 [==============================] - ETA: 0s - loss: 3.1232 - output_1_loss: 2.7639 - output_2_loss: 0.3593 - contrastive_accuracy: 0.1391"
     ]
    },
    {
     "name": "stderr",
     "output_type": "stream",
     "text": [
      "WARNING:absl:Found untraced functions such as multi_head_attention_layer_call_fn, multi_head_attention_layer_call_and_return_conditional_losses, layer_normalization_layer_call_fn, layer_normalization_layer_call_and_return_conditional_losses, layer_normalization_1_layer_call_fn while saving (showing 5 of 324). These functions will not be directly callable after loading.\n"
     ]
    },
    {
     "name": "stdout",
     "output_type": "stream",
     "text": [
      "INFO:tensorflow:Assets written to: ./hopland-clip-pretrained-dual-loss-mse/assets\n"
     ]
    },
    {
     "name": "stderr",
     "output_type": "stream",
     "text": [
      "INFO:tensorflow:Assets written to: ./hopland-clip-pretrained-dual-loss-mse/assets\n",
      "/opt/conda/lib/python3.10/site-packages/keras/engine/functional.py:1384: CustomMaskWarning: Custom mask layers require a config and must override get_config. When loading, the custom mask layer must be passed to the custom_objects argument.\n",
      "  layer_config = serialize_layer_fn(layer)\n"
     ]
    },
    {
     "name": "stdout",
     "output_type": "stream",
     "text": [
      "100/100 [==============================] - 620s 6s/step - loss: 3.1232 - output_1_loss: 2.7639 - output_2_loss: 0.3593 - contrastive_accuracy: 0.1391 - val_loss: 3.0096 - val_output_1_loss: 2.7473 - val_output_2_loss: 0.2623 - val_contrastive_accuracy: 0.0840\n",
      "Epoch 7/100\n"
     ]
    },
    {
     "name": "stderr",
     "output_type": "stream",
     "text": [
      "/opt/conda/lib/python3.10/site-packages/keras/saving/saved_model/layer_serialization.py:112: CustomMaskWarning: Custom mask layers require a config and must override get_config. When loading, the custom mask layer must be passed to the custom_objects argument.\n",
      "  return generic_utils.serialize_keras_object(obj)\n"
     ]
    },
    {
     "name": "stdout",
     "output_type": "stream",
     "text": [
      "100/100 [==============================] - ETA: 0s - loss: 2.9829 - output_1_loss: 2.5824 - output_2_loss: 0.4005 - contrastive_accuracy: 0.1869"
     ]
    },
    {
     "name": "stderr",
     "output_type": "stream",
     "text": [
      "WARNING:absl:Found untraced functions such as multi_head_attention_layer_call_fn, multi_head_attention_layer_call_and_return_conditional_losses, layer_normalization_layer_call_fn, layer_normalization_layer_call_and_return_conditional_losses, layer_normalization_1_layer_call_fn while saving (showing 5 of 324). These functions will not be directly callable after loading.\n"
     ]
    },
    {
     "name": "stdout",
     "output_type": "stream",
     "text": [
      "INFO:tensorflow:Assets written to: ./hopland-clip-pretrained-dual-loss-mse/assets\n"
     ]
    },
    {
     "name": "stderr",
     "output_type": "stream",
     "text": [
      "INFO:tensorflow:Assets written to: ./hopland-clip-pretrained-dual-loss-mse/assets\n"
     ]
    },
    {
     "name": "stdout",
     "output_type": "stream",
     "text": [
      "100/100 [==============================] - 620s 6s/step - loss: 2.9829 - output_1_loss: 2.5824 - output_2_loss: 0.4005 - contrastive_accuracy: 0.1869 - val_loss: 2.9540 - val_output_1_loss: 2.5069 - val_output_2_loss: 0.4471 - val_contrastive_accuracy: 0.1426\n",
      "Epoch 8/100\n"
     ]
    },
    {
     "name": "stderr",
     "output_type": "stream",
     "text": [
      "/opt/conda/lib/python3.10/site-packages/keras/engine/functional.py:1384: CustomMaskWarning: Custom mask layers require a config and must override get_config. When loading, the custom mask layer must be passed to the custom_objects argument.\n",
      "  layer_config = serialize_layer_fn(layer)\n",
      "/opt/conda/lib/python3.10/site-packages/keras/saving/saved_model/layer_serialization.py:112: CustomMaskWarning: Custom mask layers require a config and must override get_config. When loading, the custom mask layer must be passed to the custom_objects argument.\n",
      "  return generic_utils.serialize_keras_object(obj)\n"
     ]
    },
    {
     "name": "stdout",
     "output_type": "stream",
     "text": [
      "100/100 [==============================] - ETA: 0s - loss: 2.7669 - output_1_loss: 2.3343 - output_2_loss: 0.4326 - contrastive_accuracy: 0.2078"
     ]
    },
    {
     "name": "stderr",
     "output_type": "stream",
     "text": [
      "WARNING:absl:Found untraced functions such as multi_head_attention_layer_call_fn, multi_head_attention_layer_call_and_return_conditional_losses, layer_normalization_layer_call_fn, layer_normalization_layer_call_and_return_conditional_losses, layer_normalization_1_layer_call_fn while saving (showing 5 of 324). These functions will not be directly callable after loading.\n"
     ]
    },
    {
     "name": "stdout",
     "output_type": "stream",
     "text": [
      "INFO:tensorflow:Assets written to: ./hopland-clip-pretrained-dual-loss-mse/assets\n"
     ]
    },
    {
     "name": "stderr",
     "output_type": "stream",
     "text": [
      "INFO:tensorflow:Assets written to: ./hopland-clip-pretrained-dual-loss-mse/assets\n",
      "/opt/conda/lib/python3.10/site-packages/keras/engine/functional.py:1384: CustomMaskWarning: Custom mask layers require a config and must override get_config. When loading, the custom mask layer must be passed to the custom_objects argument.\n",
      "  layer_config = serialize_layer_fn(layer)\n"
     ]
    },
    {
     "name": "stdout",
     "output_type": "stream",
     "text": [
      "100/100 [==============================] - 620s 6s/step - loss: 2.7669 - output_1_loss: 2.3343 - output_2_loss: 0.4326 - contrastive_accuracy: 0.2078 - val_loss: 3.0676 - val_output_1_loss: 2.5874 - val_output_2_loss: 0.4802 - val_contrastive_accuracy: 0.1094\n",
      "Epoch 9/100\n"
     ]
    },
    {
     "name": "stderr",
     "output_type": "stream",
     "text": [
      "/opt/conda/lib/python3.10/site-packages/keras/saving/saved_model/layer_serialization.py:112: CustomMaskWarning: Custom mask layers require a config and must override get_config. When loading, the custom mask layer must be passed to the custom_objects argument.\n",
      "  return generic_utils.serialize_keras_object(obj)\n"
     ]
    },
    {
     "name": "stdout",
     "output_type": "stream",
     "text": [
      "100/100 [==============================] - ETA: 0s - loss: 2.6492 - output_1_loss: 2.2643 - output_2_loss: 0.3849 - contrastive_accuracy: 0.2275"
     ]
    },
    {
     "name": "stderr",
     "output_type": "stream",
     "text": [
      "WARNING:absl:Found untraced functions such as multi_head_attention_layer_call_fn, multi_head_attention_layer_call_and_return_conditional_losses, layer_normalization_layer_call_fn, layer_normalization_layer_call_and_return_conditional_losses, layer_normalization_1_layer_call_fn while saving (showing 5 of 324). These functions will not be directly callable after loading.\n"
     ]
    },
    {
     "name": "stdout",
     "output_type": "stream",
     "text": [
      "INFO:tensorflow:Assets written to: ./hopland-clip-pretrained-dual-loss-mse/assets\n"
     ]
    },
    {
     "name": "stderr",
     "output_type": "stream",
     "text": [
      "INFO:tensorflow:Assets written to: ./hopland-clip-pretrained-dual-loss-mse/assets\n",
      "/opt/conda/lib/python3.10/site-packages/keras/engine/functional.py:1384: CustomMaskWarning: Custom mask layers require a config and must override get_config. When loading, the custom mask layer must be passed to the custom_objects argument.\n",
      "  layer_config = serialize_layer_fn(layer)\n"
     ]
    },
    {
     "name": "stdout",
     "output_type": "stream",
     "text": [
      "100/100 [==============================] - 620s 6s/step - loss: 2.6492 - output_1_loss: 2.2643 - output_2_loss: 0.3849 - contrastive_accuracy: 0.2275 - val_loss: 2.8834 - val_output_1_loss: 2.4579 - val_output_2_loss: 0.4255 - val_contrastive_accuracy: 0.1113\n",
      "Epoch 10/100\n"
     ]
    },
    {
     "name": "stderr",
     "output_type": "stream",
     "text": [
      "/opt/conda/lib/python3.10/site-packages/keras/saving/saved_model/layer_serialization.py:112: CustomMaskWarning: Custom mask layers require a config and must override get_config. When loading, the custom mask layer must be passed to the custom_objects argument.\n",
      "  return generic_utils.serialize_keras_object(obj)\n"
     ]
    },
    {
     "name": "stdout",
     "output_type": "stream",
     "text": [
      "100/100 [==============================] - ETA: 0s - loss: 2.6043 - output_1_loss: 2.2242 - output_2_loss: 0.3802 - contrastive_accuracy: 0.2512"
     ]
    },
    {
     "name": "stderr",
     "output_type": "stream",
     "text": [
      "WARNING:absl:Found untraced functions such as multi_head_attention_layer_call_fn, multi_head_attention_layer_call_and_return_conditional_losses, layer_normalization_layer_call_fn, layer_normalization_layer_call_and_return_conditional_losses, layer_normalization_1_layer_call_fn while saving (showing 5 of 324). These functions will not be directly callable after loading.\n"
     ]
    },
    {
     "name": "stdout",
     "output_type": "stream",
     "text": [
      "INFO:tensorflow:Assets written to: ./hopland-clip-pretrained-dual-loss-mse/assets\n"
     ]
    },
    {
     "name": "stderr",
     "output_type": "stream",
     "text": [
      "INFO:tensorflow:Assets written to: ./hopland-clip-pretrained-dual-loss-mse/assets\n",
      "/opt/conda/lib/python3.10/site-packages/keras/engine/functional.py:1384: CustomMaskWarning: Custom mask layers require a config and must override get_config. When loading, the custom mask layer must be passed to the custom_objects argument.\n",
      "  layer_config = serialize_layer_fn(layer)\n"
     ]
    },
    {
     "name": "stdout",
     "output_type": "stream",
     "text": [
      "100/100 [==============================] - 620s 6s/step - loss: 2.6043 - output_1_loss: 2.2242 - output_2_loss: 0.3802 - contrastive_accuracy: 0.2512 - val_loss: 2.9684 - val_output_1_loss: 2.4964 - val_output_2_loss: 0.4719 - val_contrastive_accuracy: 0.1191\n",
      "Epoch 11/100\n"
     ]
    },
    {
     "name": "stderr",
     "output_type": "stream",
     "text": [
      "/opt/conda/lib/python3.10/site-packages/keras/saving/saved_model/layer_serialization.py:112: CustomMaskWarning: Custom mask layers require a config and must override get_config. When loading, the custom mask layer must be passed to the custom_objects argument.\n",
      "  return generic_utils.serialize_keras_object(obj)\n"
     ]
    },
    {
     "name": "stdout",
     "output_type": "stream",
     "text": [
      "100/100 [==============================] - ETA: 0s - loss: 2.5228 - output_1_loss: 2.1589 - output_2_loss: 0.3639 - contrastive_accuracy: 0.2719"
     ]
    },
    {
     "name": "stderr",
     "output_type": "stream",
     "text": [
      "WARNING:absl:Found untraced functions such as multi_head_attention_layer_call_fn, multi_head_attention_layer_call_and_return_conditional_losses, layer_normalization_layer_call_fn, layer_normalization_layer_call_and_return_conditional_losses, layer_normalization_1_layer_call_fn while saving (showing 5 of 324). These functions will not be directly callable after loading.\n"
     ]
    },
    {
     "name": "stdout",
     "output_type": "stream",
     "text": [
      "INFO:tensorflow:Assets written to: ./hopland-clip-pretrained-dual-loss-mse/assets\n"
     ]
    },
    {
     "name": "stderr",
     "output_type": "stream",
     "text": [
      "INFO:tensorflow:Assets written to: ./hopland-clip-pretrained-dual-loss-mse/assets\n",
      "/opt/conda/lib/python3.10/site-packages/keras/engine/functional.py:1384: CustomMaskWarning: Custom mask layers require a config and must override get_config. When loading, the custom mask layer must be passed to the custom_objects argument.\n",
      "  layer_config = serialize_layer_fn(layer)\n"
     ]
    },
    {
     "name": "stdout",
     "output_type": "stream",
     "text": [
      "100/100 [==============================] - 620s 6s/step - loss: 2.5228 - output_1_loss: 2.1589 - output_2_loss: 0.3639 - contrastive_accuracy: 0.2719 - val_loss: 3.1008 - val_output_1_loss: 2.5322 - val_output_2_loss: 0.5686 - val_contrastive_accuracy: 0.1152\n",
      "Epoch 12/100\n"
     ]
    },
    {
     "name": "stderr",
     "output_type": "stream",
     "text": [
      "/opt/conda/lib/python3.10/site-packages/keras/saving/saved_model/layer_serialization.py:112: CustomMaskWarning: Custom mask layers require a config and must override get_config. When loading, the custom mask layer must be passed to the custom_objects argument.\n",
      "  return generic_utils.serialize_keras_object(obj)\n"
     ]
    },
    {
     "name": "stdout",
     "output_type": "stream",
     "text": [
      "100/100 [==============================] - ETA: 0s - loss: 2.5022 - output_1_loss: 2.1317 - output_2_loss: 0.3704 - contrastive_accuracy: 0.2934"
     ]
    },
    {
     "name": "stderr",
     "output_type": "stream",
     "text": [
      "WARNING:absl:Found untraced functions such as multi_head_attention_layer_call_fn, multi_head_attention_layer_call_and_return_conditional_losses, layer_normalization_layer_call_fn, layer_normalization_layer_call_and_return_conditional_losses, layer_normalization_1_layer_call_fn while saving (showing 5 of 324). These functions will not be directly callable after loading.\n"
     ]
    },
    {
     "name": "stdout",
     "output_type": "stream",
     "text": [
      "INFO:tensorflow:Assets written to: ./hopland-clip-pretrained-dual-loss-mse/assets\n"
     ]
    },
    {
     "name": "stderr",
     "output_type": "stream",
     "text": [
      "INFO:tensorflow:Assets written to: ./hopland-clip-pretrained-dual-loss-mse/assets\n"
     ]
    },
    {
     "name": "stdout",
     "output_type": "stream",
     "text": [
      "100/100 [==============================] - 620s 6s/step - loss: 2.5022 - output_1_loss: 2.1317 - output_2_loss: 0.3704 - contrastive_accuracy: 0.2934 - val_loss: 3.0209 - val_output_1_loss: 2.4698 - val_output_2_loss: 0.5511 - val_contrastive_accuracy: 0.1543\n",
      "Epoch 13/100\n"
     ]
    },
    {
     "name": "stderr",
     "output_type": "stream",
     "text": [
      "/opt/conda/lib/python3.10/site-packages/keras/engine/functional.py:1384: CustomMaskWarning: Custom mask layers require a config and must override get_config. When loading, the custom mask layer must be passed to the custom_objects argument.\n",
      "  layer_config = serialize_layer_fn(layer)\n",
      "/opt/conda/lib/python3.10/site-packages/keras/saving/saved_model/layer_serialization.py:112: CustomMaskWarning: Custom mask layers require a config and must override get_config. When loading, the custom mask layer must be passed to the custom_objects argument.\n",
      "  return generic_utils.serialize_keras_object(obj)\n"
     ]
    },
    {
     "name": "stdout",
     "output_type": "stream",
     "text": [
      "100/100 [==============================] - ETA: 0s - loss: 2.4896 - output_1_loss: 2.1125 - output_2_loss: 0.3771 - contrastive_accuracy: 0.3081"
     ]
    },
    {
     "name": "stderr",
     "output_type": "stream",
     "text": [
      "WARNING:absl:Found untraced functions such as multi_head_attention_layer_call_fn, multi_head_attention_layer_call_and_return_conditional_losses, layer_normalization_layer_call_fn, layer_normalization_layer_call_and_return_conditional_losses, layer_normalization_1_layer_call_fn while saving (showing 5 of 324). These functions will not be directly callable after loading.\n"
     ]
    },
    {
     "name": "stdout",
     "output_type": "stream",
     "text": [
      "INFO:tensorflow:Assets written to: ./hopland-clip-pretrained-dual-loss-mse/assets\n"
     ]
    },
    {
     "name": "stderr",
     "output_type": "stream",
     "text": [
      "INFO:tensorflow:Assets written to: ./hopland-clip-pretrained-dual-loss-mse/assets\n"
     ]
    },
    {
     "name": "stdout",
     "output_type": "stream",
     "text": [
      "100/100 [==============================] - 620s 6s/step - loss: 2.4896 - output_1_loss: 2.1125 - output_2_loss: 0.3771 - contrastive_accuracy: 0.3081 - val_loss: 2.6468 - val_output_1_loss: 2.2530 - val_output_2_loss: 0.3937 - val_contrastive_accuracy: 0.2363\n",
      "Epoch 14/100\n"
     ]
    },
    {
     "name": "stderr",
     "output_type": "stream",
     "text": [
      "/opt/conda/lib/python3.10/site-packages/keras/engine/functional.py:1384: CustomMaskWarning: Custom mask layers require a config and must override get_config. When loading, the custom mask layer must be passed to the custom_objects argument.\n",
      "  layer_config = serialize_layer_fn(layer)\n",
      "/opt/conda/lib/python3.10/site-packages/keras/saving/saved_model/layer_serialization.py:112: CustomMaskWarning: Custom mask layers require a config and must override get_config. When loading, the custom mask layer must be passed to the custom_objects argument.\n",
      "  return generic_utils.serialize_keras_object(obj)\n"
     ]
    },
    {
     "name": "stdout",
     "output_type": "stream",
     "text": [
      "100/100 [==============================] - ETA: 0s - loss: 2.4535 - output_1_loss: 2.0944 - output_2_loss: 0.3592 - contrastive_accuracy: 0.3384"
     ]
    },
    {
     "name": "stderr",
     "output_type": "stream",
     "text": [
      "WARNING:absl:Found untraced functions such as multi_head_attention_layer_call_fn, multi_head_attention_layer_call_and_return_conditional_losses, layer_normalization_layer_call_fn, layer_normalization_layer_call_and_return_conditional_losses, layer_normalization_1_layer_call_fn while saving (showing 5 of 324). These functions will not be directly callable after loading.\n"
     ]
    },
    {
     "name": "stdout",
     "output_type": "stream",
     "text": [
      "INFO:tensorflow:Assets written to: ./hopland-clip-pretrained-dual-loss-mse/assets\n"
     ]
    },
    {
     "name": "stderr",
     "output_type": "stream",
     "text": [
      "INFO:tensorflow:Assets written to: ./hopland-clip-pretrained-dual-loss-mse/assets\n"
     ]
    },
    {
     "name": "stdout",
     "output_type": "stream",
     "text": [
      "100/100 [==============================] - 620s 6s/step - loss: 2.4535 - output_1_loss: 2.0944 - output_2_loss: 0.3592 - contrastive_accuracy: 0.3384 - val_loss: 2.8006 - val_output_1_loss: 2.3448 - val_output_2_loss: 0.4558 - val_contrastive_accuracy: 0.1504\n",
      "Epoch 15/100\n"
     ]
    },
    {
     "name": "stderr",
     "output_type": "stream",
     "text": [
      "/opt/conda/lib/python3.10/site-packages/keras/engine/functional.py:1384: CustomMaskWarning: Custom mask layers require a config and must override get_config. When loading, the custom mask layer must be passed to the custom_objects argument.\n",
      "  layer_config = serialize_layer_fn(layer)\n",
      "/opt/conda/lib/python3.10/site-packages/keras/saving/saved_model/layer_serialization.py:112: CustomMaskWarning: Custom mask layers require a config and must override get_config. When loading, the custom mask layer must be passed to the custom_objects argument.\n",
      "  return generic_utils.serialize_keras_object(obj)\n"
     ]
    },
    {
     "name": "stdout",
     "output_type": "stream",
     "text": [
      "100/100 [==============================] - ETA: 0s - loss: 2.3719 - output_1_loss: 2.0471 - output_2_loss: 0.3248 - contrastive_accuracy: 0.3941"
     ]
    },
    {
     "name": "stderr",
     "output_type": "stream",
     "text": [
      "WARNING:absl:Found untraced functions such as multi_head_attention_layer_call_fn, multi_head_attention_layer_call_and_return_conditional_losses, layer_normalization_layer_call_fn, layer_normalization_layer_call_and_return_conditional_losses, layer_normalization_1_layer_call_fn while saving (showing 5 of 324). These functions will not be directly callable after loading.\n"
     ]
    },
    {
     "name": "stdout",
     "output_type": "stream",
     "text": [
      "INFO:tensorflow:Assets written to: ./hopland-clip-pretrained-dual-loss-mse/assets\n"
     ]
    },
    {
     "name": "stderr",
     "output_type": "stream",
     "text": [
      "INFO:tensorflow:Assets written to: ./hopland-clip-pretrained-dual-loss-mse/assets\n",
      "/opt/conda/lib/python3.10/site-packages/keras/engine/functional.py:1384: CustomMaskWarning: Custom mask layers require a config and must override get_config. When loading, the custom mask layer must be passed to the custom_objects argument.\n",
      "  layer_config = serialize_layer_fn(layer)\n"
     ]
    },
    {
     "name": "stdout",
     "output_type": "stream",
     "text": [
      "100/100 [==============================] - 620s 6s/step - loss: 2.3719 - output_1_loss: 2.0471 - output_2_loss: 0.3248 - contrastive_accuracy: 0.3941 - val_loss: 2.7025 - val_output_1_loss: 2.2842 - val_output_2_loss: 0.4183 - val_contrastive_accuracy: 0.1660\n",
      "Epoch 16/100\n"
     ]
    },
    {
     "name": "stderr",
     "output_type": "stream",
     "text": [
      "/opt/conda/lib/python3.10/site-packages/keras/saving/saved_model/layer_serialization.py:112: CustomMaskWarning: Custom mask layers require a config and must override get_config. When loading, the custom mask layer must be passed to the custom_objects argument.\n",
      "  return generic_utils.serialize_keras_object(obj)\n"
     ]
    },
    {
     "name": "stdout",
     "output_type": "stream",
     "text": [
      "100/100 [==============================] - ETA: 0s - loss: 2.3906 - output_1_loss: 2.0385 - output_2_loss: 0.3521 - contrastive_accuracy: 0.4050"
     ]
    },
    {
     "name": "stderr",
     "output_type": "stream",
     "text": [
      "WARNING:absl:Found untraced functions such as multi_head_attention_layer_call_fn, multi_head_attention_layer_call_and_return_conditional_losses, layer_normalization_layer_call_fn, layer_normalization_layer_call_and_return_conditional_losses, layer_normalization_1_layer_call_fn while saving (showing 5 of 324). These functions will not be directly callable after loading.\n"
     ]
    },
    {
     "name": "stdout",
     "output_type": "stream",
     "text": [
      "INFO:tensorflow:Assets written to: ./hopland-clip-pretrained-dual-loss-mse/assets\n"
     ]
    },
    {
     "name": "stderr",
     "output_type": "stream",
     "text": [
      "INFO:tensorflow:Assets written to: ./hopland-clip-pretrained-dual-loss-mse/assets\n"
     ]
    },
    {
     "name": "stdout",
     "output_type": "stream",
     "text": [
      "100/100 [==============================] - 620s 6s/step - loss: 2.3906 - output_1_loss: 2.0385 - output_2_loss: 0.3521 - contrastive_accuracy: 0.4050 - val_loss: 2.8026 - val_output_1_loss: 2.3433 - val_output_2_loss: 0.4593 - val_contrastive_accuracy: 0.1602\n",
      "Epoch 17/100\n"
     ]
    },
    {
     "name": "stderr",
     "output_type": "stream",
     "text": [
      "/opt/conda/lib/python3.10/site-packages/keras/engine/functional.py:1384: CustomMaskWarning: Custom mask layers require a config and must override get_config. When loading, the custom mask layer must be passed to the custom_objects argument.\n",
      "  layer_config = serialize_layer_fn(layer)\n",
      "/opt/conda/lib/python3.10/site-packages/keras/saving/saved_model/layer_serialization.py:112: CustomMaskWarning: Custom mask layers require a config and must override get_config. When loading, the custom mask layer must be passed to the custom_objects argument.\n",
      "  return generic_utils.serialize_keras_object(obj)\n"
     ]
    },
    {
     "name": "stdout",
     "output_type": "stream",
     "text": [
      "100/100 [==============================] - ETA: 0s - loss: 2.3184 - output_1_loss: 1.9971 - output_2_loss: 0.3214 - contrastive_accuracy: 0.4553"
     ]
    },
    {
     "name": "stderr",
     "output_type": "stream",
     "text": [
      "WARNING:absl:Found untraced functions such as multi_head_attention_layer_call_fn, multi_head_attention_layer_call_and_return_conditional_losses, layer_normalization_layer_call_fn, layer_normalization_layer_call_and_return_conditional_losses, layer_normalization_1_layer_call_fn while saving (showing 5 of 324). These functions will not be directly callable after loading.\n"
     ]
    },
    {
     "name": "stdout",
     "output_type": "stream",
     "text": [
      "INFO:tensorflow:Assets written to: ./hopland-clip-pretrained-dual-loss-mse/assets\n"
     ]
    },
    {
     "name": "stderr",
     "output_type": "stream",
     "text": [
      "INFO:tensorflow:Assets written to: ./hopland-clip-pretrained-dual-loss-mse/assets\n",
      "/opt/conda/lib/python3.10/site-packages/keras/engine/functional.py:1384: CustomMaskWarning: Custom mask layers require a config and must override get_config. When loading, the custom mask layer must be passed to the custom_objects argument.\n",
      "  layer_config = serialize_layer_fn(layer)\n"
     ]
    },
    {
     "name": "stdout",
     "output_type": "stream",
     "text": [
      "100/100 [==============================] - 620s 6s/step - loss: 2.3184 - output_1_loss: 1.9971 - output_2_loss: 0.3214 - contrastive_accuracy: 0.4553 - val_loss: 2.7195 - val_output_1_loss: 2.2805 - val_output_2_loss: 0.4390 - val_contrastive_accuracy: 0.1660\n",
      "Epoch 18/100\n"
     ]
    },
    {
     "name": "stderr",
     "output_type": "stream",
     "text": [
      "/opt/conda/lib/python3.10/site-packages/keras/saving/saved_model/layer_serialization.py:112: CustomMaskWarning: Custom mask layers require a config and must override get_config. When loading, the custom mask layer must be passed to the custom_objects argument.\n",
      "  return generic_utils.serialize_keras_object(obj)\n"
     ]
    },
    {
     "name": "stdout",
     "output_type": "stream",
     "text": [
      "100/100 [==============================] - ETA: 0s - loss: 2.3047 - output_1_loss: 1.9767 - output_2_loss: 0.3280 - contrastive_accuracy: 0.4866"
     ]
    },
    {
     "name": "stderr",
     "output_type": "stream",
     "text": [
      "WARNING:absl:Found untraced functions such as multi_head_attention_layer_call_fn, multi_head_attention_layer_call_and_return_conditional_losses, layer_normalization_layer_call_fn, layer_normalization_layer_call_and_return_conditional_losses, layer_normalization_1_layer_call_fn while saving (showing 5 of 324). These functions will not be directly callable after loading.\n"
     ]
    },
    {
     "name": "stdout",
     "output_type": "stream",
     "text": [
      "INFO:tensorflow:Assets written to: ./hopland-clip-pretrained-dual-loss-mse/assets\n"
     ]
    },
    {
     "name": "stderr",
     "output_type": "stream",
     "text": [
      "INFO:tensorflow:Assets written to: ./hopland-clip-pretrained-dual-loss-mse/assets\n"
     ]
    },
    {
     "name": "stdout",
     "output_type": "stream",
     "text": [
      "100/100 [==============================] - 620s 6s/step - loss: 2.3047 - output_1_loss: 1.9767 - output_2_loss: 0.3280 - contrastive_accuracy: 0.4866 - val_loss: 2.4719 - val_output_1_loss: 2.1003 - val_output_2_loss: 0.3716 - val_contrastive_accuracy: 0.3008\n",
      "Epoch 19/100\n"
     ]
    },
    {
     "name": "stderr",
     "output_type": "stream",
     "text": [
      "/opt/conda/lib/python3.10/site-packages/keras/engine/functional.py:1384: CustomMaskWarning: Custom mask layers require a config and must override get_config. When loading, the custom mask layer must be passed to the custom_objects argument.\n",
      "  layer_config = serialize_layer_fn(layer)\n",
      "/opt/conda/lib/python3.10/site-packages/keras/saving/saved_model/layer_serialization.py:112: CustomMaskWarning: Custom mask layers require a config and must override get_config. When loading, the custom mask layer must be passed to the custom_objects argument.\n",
      "  return generic_utils.serialize_keras_object(obj)\n"
     ]
    },
    {
     "name": "stdout",
     "output_type": "stream",
     "text": [
      "100/100 [==============================] - ETA: 0s - loss: 2.2846 - output_1_loss: 1.9600 - output_2_loss: 0.3246 - contrastive_accuracy: 0.5041"
     ]
    },
    {
     "name": "stderr",
     "output_type": "stream",
     "text": [
      "WARNING:absl:Found untraced functions such as multi_head_attention_layer_call_fn, multi_head_attention_layer_call_and_return_conditional_losses, layer_normalization_layer_call_fn, layer_normalization_layer_call_and_return_conditional_losses, layer_normalization_1_layer_call_fn while saving (showing 5 of 324). These functions will not be directly callable after loading.\n"
     ]
    },
    {
     "name": "stdout",
     "output_type": "stream",
     "text": [
      "INFO:tensorflow:Assets written to: ./hopland-clip-pretrained-dual-loss-mse/assets\n"
     ]
    },
    {
     "name": "stderr",
     "output_type": "stream",
     "text": [
      "INFO:tensorflow:Assets written to: ./hopland-clip-pretrained-dual-loss-mse/assets\n",
      "/opt/conda/lib/python3.10/site-packages/keras/engine/functional.py:1384: CustomMaskWarning: Custom mask layers require a config and must override get_config. When loading, the custom mask layer must be passed to the custom_objects argument.\n",
      "  layer_config = serialize_layer_fn(layer)\n"
     ]
    },
    {
     "name": "stdout",
     "output_type": "stream",
     "text": [
      "100/100 [==============================] - 620s 6s/step - loss: 2.2846 - output_1_loss: 1.9600 - output_2_loss: 0.3246 - contrastive_accuracy: 0.5041 - val_loss: 2.5420 - val_output_1_loss: 2.1606 - val_output_2_loss: 0.3814 - val_contrastive_accuracy: 0.2656\n",
      "Epoch 20/100\n"
     ]
    },
    {
     "name": "stderr",
     "output_type": "stream",
     "text": [
      "/opt/conda/lib/python3.10/site-packages/keras/saving/saved_model/layer_serialization.py:112: CustomMaskWarning: Custom mask layers require a config and must override get_config. When loading, the custom mask layer must be passed to the custom_objects argument.\n",
      "  return generic_utils.serialize_keras_object(obj)\n"
     ]
    },
    {
     "name": "stdout",
     "output_type": "stream",
     "text": [
      "100/100 [==============================] - ETA: 0s - loss: 2.2692 - output_1_loss: 1.9459 - output_2_loss: 0.3233 - contrastive_accuracy: 0.4934"
     ]
    },
    {
     "name": "stderr",
     "output_type": "stream",
     "text": [
      "WARNING:absl:Found untraced functions such as multi_head_attention_layer_call_fn, multi_head_attention_layer_call_and_return_conditional_losses, layer_normalization_layer_call_fn, layer_normalization_layer_call_and_return_conditional_losses, layer_normalization_1_layer_call_fn while saving (showing 5 of 324). These functions will not be directly callable after loading.\n"
     ]
    },
    {
     "name": "stdout",
     "output_type": "stream",
     "text": [
      "INFO:tensorflow:Assets written to: ./hopland-clip-pretrained-dual-loss-mse/assets\n"
     ]
    },
    {
     "name": "stderr",
     "output_type": "stream",
     "text": [
      "INFO:tensorflow:Assets written to: ./hopland-clip-pretrained-dual-loss-mse/assets\n"
     ]
    },
    {
     "name": "stdout",
     "output_type": "stream",
     "text": [
      "100/100 [==============================] - 620s 6s/step - loss: 2.2692 - output_1_loss: 1.9459 - output_2_loss: 0.3233 - contrastive_accuracy: 0.4934 - val_loss: 2.4270 - val_output_1_loss: 2.0676 - val_output_2_loss: 0.3594 - val_contrastive_accuracy: 0.2949\n",
      "Epoch 21/100\n"
     ]
    },
    {
     "name": "stderr",
     "output_type": "stream",
     "text": [
      "/opt/conda/lib/python3.10/site-packages/keras/engine/functional.py:1384: CustomMaskWarning: Custom mask layers require a config and must override get_config. When loading, the custom mask layer must be passed to the custom_objects argument.\n",
      "  layer_config = serialize_layer_fn(layer)\n",
      "/opt/conda/lib/python3.10/site-packages/keras/saving/saved_model/layer_serialization.py:112: CustomMaskWarning: Custom mask layers require a config and must override get_config. When loading, the custom mask layer must be passed to the custom_objects argument.\n",
      "  return generic_utils.serialize_keras_object(obj)\n"
     ]
    },
    {
     "name": "stdout",
     "output_type": "stream",
     "text": [
      "100/100 [==============================] - ETA: 0s - loss: 2.2642 - output_1_loss: 1.9456 - output_2_loss: 0.3186 - contrastive_accuracy: 0.4931"
     ]
    },
    {
     "name": "stderr",
     "output_type": "stream",
     "text": [
      "WARNING:absl:Found untraced functions such as multi_head_attention_layer_call_fn, multi_head_attention_layer_call_and_return_conditional_losses, layer_normalization_layer_call_fn, layer_normalization_layer_call_and_return_conditional_losses, layer_normalization_1_layer_call_fn while saving (showing 5 of 324). These functions will not be directly callable after loading.\n"
     ]
    },
    {
     "name": "stdout",
     "output_type": "stream",
     "text": [
      "INFO:tensorflow:Assets written to: ./hopland-clip-pretrained-dual-loss-mse/assets\n"
     ]
    },
    {
     "name": "stderr",
     "output_type": "stream",
     "text": [
      "INFO:tensorflow:Assets written to: ./hopland-clip-pretrained-dual-loss-mse/assets\n",
      "/opt/conda/lib/python3.10/site-packages/keras/engine/functional.py:1384: CustomMaskWarning: Custom mask layers require a config and must override get_config. When loading, the custom mask layer must be passed to the custom_objects argument.\n",
      "  layer_config = serialize_layer_fn(layer)\n"
     ]
    },
    {
     "name": "stdout",
     "output_type": "stream",
     "text": [
      "100/100 [==============================] - 620s 6s/step - loss: 2.2642 - output_1_loss: 1.9456 - output_2_loss: 0.3186 - contrastive_accuracy: 0.4931 - val_loss: 2.6023 - val_output_1_loss: 2.1528 - val_output_2_loss: 0.4495 - val_contrastive_accuracy: 0.2207\n",
      "Epoch 22/100\n"
     ]
    },
    {
     "name": "stderr",
     "output_type": "stream",
     "text": [
      "/opt/conda/lib/python3.10/site-packages/keras/saving/saved_model/layer_serialization.py:112: CustomMaskWarning: Custom mask layers require a config and must override get_config. When loading, the custom mask layer must be passed to the custom_objects argument.\n",
      "  return generic_utils.serialize_keras_object(obj)\n"
     ]
    },
    {
     "name": "stdout",
     "output_type": "stream",
     "text": [
      "100/100 [==============================] - ETA: 0s - loss: 2.2428 - output_1_loss: 1.9290 - output_2_loss: 0.3138 - contrastive_accuracy: 0.5147"
     ]
    },
    {
     "name": "stderr",
     "output_type": "stream",
     "text": [
      "WARNING:absl:Found untraced functions such as multi_head_attention_layer_call_fn, multi_head_attention_layer_call_and_return_conditional_losses, layer_normalization_layer_call_fn, layer_normalization_layer_call_and_return_conditional_losses, layer_normalization_1_layer_call_fn while saving (showing 5 of 324). These functions will not be directly callable after loading.\n"
     ]
    },
    {
     "name": "stdout",
     "output_type": "stream",
     "text": [
      "INFO:tensorflow:Assets written to: ./hopland-clip-pretrained-dual-loss-mse/assets\n"
     ]
    },
    {
     "name": "stderr",
     "output_type": "stream",
     "text": [
      "INFO:tensorflow:Assets written to: ./hopland-clip-pretrained-dual-loss-mse/assets\n"
     ]
    },
    {
     "name": "stdout",
     "output_type": "stream",
     "text": [
      "100/100 [==============================] - 620s 6s/step - loss: 2.2428 - output_1_loss: 1.9290 - output_2_loss: 0.3138 - contrastive_accuracy: 0.5147 - val_loss: 2.6014 - val_output_1_loss: 2.1569 - val_output_2_loss: 0.4445 - val_contrastive_accuracy: 0.2227\n",
      "Epoch 23/100\n"
     ]
    },
    {
     "name": "stderr",
     "output_type": "stream",
     "text": [
      "/opt/conda/lib/python3.10/site-packages/keras/engine/functional.py:1384: CustomMaskWarning: Custom mask layers require a config and must override get_config. When loading, the custom mask layer must be passed to the custom_objects argument.\n",
      "  layer_config = serialize_layer_fn(layer)\n",
      "/opt/conda/lib/python3.10/site-packages/keras/saving/saved_model/layer_serialization.py:112: CustomMaskWarning: Custom mask layers require a config and must override get_config. When loading, the custom mask layer must be passed to the custom_objects argument.\n",
      "  return generic_utils.serialize_keras_object(obj)\n"
     ]
    },
    {
     "name": "stdout",
     "output_type": "stream",
     "text": [
      "100/100 [==============================] - ETA: 0s - loss: 2.2167 - output_1_loss: 1.9146 - output_2_loss: 0.3021 - contrastive_accuracy: 0.5116"
     ]
    },
    {
     "name": "stderr",
     "output_type": "stream",
     "text": [
      "WARNING:absl:Found untraced functions such as multi_head_attention_layer_call_fn, multi_head_attention_layer_call_and_return_conditional_losses, layer_normalization_layer_call_fn, layer_normalization_layer_call_and_return_conditional_losses, layer_normalization_1_layer_call_fn while saving (showing 5 of 324). These functions will not be directly callable after loading.\n"
     ]
    },
    {
     "name": "stdout",
     "output_type": "stream",
     "text": [
      "INFO:tensorflow:Assets written to: ./hopland-clip-pretrained-dual-loss-mse/assets\n"
     ]
    },
    {
     "name": "stderr",
     "output_type": "stream",
     "text": [
      "INFO:tensorflow:Assets written to: ./hopland-clip-pretrained-dual-loss-mse/assets\n"
     ]
    },
    {
     "name": "stdout",
     "output_type": "stream",
     "text": [
      "100/100 [==============================] - 620s 6s/step - loss: 2.2167 - output_1_loss: 1.9146 - output_2_loss: 0.3021 - contrastive_accuracy: 0.5116 - val_loss: 2.4669 - val_output_1_loss: 2.0741 - val_output_2_loss: 0.3928 - val_contrastive_accuracy: 0.3145\n",
      "Epoch 24/100\n"
     ]
    },
    {
     "name": "stderr",
     "output_type": "stream",
     "text": [
      "/opt/conda/lib/python3.10/site-packages/keras/engine/functional.py:1384: CustomMaskWarning: Custom mask layers require a config and must override get_config. When loading, the custom mask layer must be passed to the custom_objects argument.\n",
      "  layer_config = serialize_layer_fn(layer)\n",
      "/opt/conda/lib/python3.10/site-packages/keras/saving/saved_model/layer_serialization.py:112: CustomMaskWarning: Custom mask layers require a config and must override get_config. When loading, the custom mask layer must be passed to the custom_objects argument.\n",
      "  return generic_utils.serialize_keras_object(obj)\n"
     ]
    },
    {
     "name": "stdout",
     "output_type": "stream",
     "text": [
      "100/100 [==============================] - ETA: 0s - loss: 2.2148 - output_1_loss: 1.9079 - output_2_loss: 0.3069 - contrastive_accuracy: 0.5116"
     ]
    },
    {
     "name": "stderr",
     "output_type": "stream",
     "text": [
      "WARNING:absl:Found untraced functions such as multi_head_attention_layer_call_fn, multi_head_attention_layer_call_and_return_conditional_losses, layer_normalization_layer_call_fn, layer_normalization_layer_call_and_return_conditional_losses, layer_normalization_1_layer_call_fn while saving (showing 5 of 324). These functions will not be directly callable after loading.\n"
     ]
    },
    {
     "name": "stdout",
     "output_type": "stream",
     "text": [
      "INFO:tensorflow:Assets written to: ./hopland-clip-pretrained-dual-loss-mse/assets\n"
     ]
    },
    {
     "name": "stderr",
     "output_type": "stream",
     "text": [
      "INFO:tensorflow:Assets written to: ./hopland-clip-pretrained-dual-loss-mse/assets\n",
      "/opt/conda/lib/python3.10/site-packages/keras/engine/functional.py:1384: CustomMaskWarning: Custom mask layers require a config and must override get_config. When loading, the custom mask layer must be passed to the custom_objects argument.\n",
      "  layer_config = serialize_layer_fn(layer)\n",
      "/opt/conda/lib/python3.10/site-packages/keras/saving/saved_model/layer_serialization.py:112: CustomMaskWarning: Custom mask layers require a config and must override get_config. When loading, the custom mask layer must be passed to the custom_objects argument.\n",
      "  return generic_utils.serialize_keras_object(obj)\n"
     ]
    },
    {
     "name": "stdout",
     "output_type": "stream",
     "text": [
      "100/100 [==============================] - 620s 6s/step - loss: 2.2148 - output_1_loss: 1.9079 - output_2_loss: 0.3069 - contrastive_accuracy: 0.5116 - val_loss: 2.4540 - val_output_1_loss: 2.0787 - val_output_2_loss: 0.3754 - val_contrastive_accuracy: 0.2852\n",
      "Epoch 25/100\n",
      "100/100 [==============================] - ETA: 0s - loss: 2.1777 - output_1_loss: 1.8863 - output_2_loss: 0.2914 - contrastive_accuracy: 0.5369"
     ]
    },
    {
     "name": "stderr",
     "output_type": "stream",
     "text": [
      "WARNING:absl:Found untraced functions such as multi_head_attention_layer_call_fn, multi_head_attention_layer_call_and_return_conditional_losses, layer_normalization_layer_call_fn, layer_normalization_layer_call_and_return_conditional_losses, layer_normalization_1_layer_call_fn while saving (showing 5 of 324). These functions will not be directly callable after loading.\n"
     ]
    },
    {
     "name": "stdout",
     "output_type": "stream",
     "text": [
      "INFO:tensorflow:Assets written to: ./hopland-clip-pretrained-dual-loss-mse/assets\n"
     ]
    },
    {
     "name": "stderr",
     "output_type": "stream",
     "text": [
      "INFO:tensorflow:Assets written to: ./hopland-clip-pretrained-dual-loss-mse/assets\n"
     ]
    },
    {
     "name": "stdout",
     "output_type": "stream",
     "text": [
      "100/100 [==============================] - 620s 6s/step - loss: 2.1777 - output_1_loss: 1.8863 - output_2_loss: 0.2914 - contrastive_accuracy: 0.5369 - val_loss: 2.3171 - val_output_1_loss: 1.9578 - val_output_2_loss: 0.3592 - val_contrastive_accuracy: 0.4023\n",
      "Epoch 26/100\n"
     ]
    },
    {
     "name": "stderr",
     "output_type": "stream",
     "text": [
      "/opt/conda/lib/python3.10/site-packages/keras/engine/functional.py:1384: CustomMaskWarning: Custom mask layers require a config and must override get_config. When loading, the custom mask layer must be passed to the custom_objects argument.\n",
      "  layer_config = serialize_layer_fn(layer)\n",
      "/opt/conda/lib/python3.10/site-packages/keras/saving/saved_model/layer_serialization.py:112: CustomMaskWarning: Custom mask layers require a config and must override get_config. When loading, the custom mask layer must be passed to the custom_objects argument.\n",
      "  return generic_utils.serialize_keras_object(obj)\n"
     ]
    },
    {
     "name": "stdout",
     "output_type": "stream",
     "text": [
      "100/100 [==============================] - ETA: 0s - loss: 2.1914 - output_1_loss: 1.8918 - output_2_loss: 0.2997 - contrastive_accuracy: 0.5194"
     ]
    },
    {
     "name": "stderr",
     "output_type": "stream",
     "text": [
      "WARNING:absl:Found untraced functions such as multi_head_attention_layer_call_fn, multi_head_attention_layer_call_and_return_conditional_losses, layer_normalization_layer_call_fn, layer_normalization_layer_call_and_return_conditional_losses, layer_normalization_1_layer_call_fn while saving (showing 5 of 324). These functions will not be directly callable after loading.\n"
     ]
    },
    {
     "name": "stdout",
     "output_type": "stream",
     "text": [
      "INFO:tensorflow:Assets written to: ./hopland-clip-pretrained-dual-loss-mse/assets\n"
     ]
    },
    {
     "name": "stderr",
     "output_type": "stream",
     "text": [
      "INFO:tensorflow:Assets written to: ./hopland-clip-pretrained-dual-loss-mse/assets\n",
      "/opt/conda/lib/python3.10/site-packages/keras/engine/functional.py:1384: CustomMaskWarning: Custom mask layers require a config and must override get_config. When loading, the custom mask layer must be passed to the custom_objects argument.\n",
      "  layer_config = serialize_layer_fn(layer)\n"
     ]
    },
    {
     "name": "stdout",
     "output_type": "stream",
     "text": [
      "100/100 [==============================] - 620s 6s/step - loss: 2.1914 - output_1_loss: 1.8918 - output_2_loss: 0.2997 - contrastive_accuracy: 0.5194 - val_loss: 2.5366 - val_output_1_loss: 2.1245 - val_output_2_loss: 0.4121 - val_contrastive_accuracy: 0.2578\n",
      "Epoch 27/100\n"
     ]
    },
    {
     "name": "stderr",
     "output_type": "stream",
     "text": [
      "/opt/conda/lib/python3.10/site-packages/keras/saving/saved_model/layer_serialization.py:112: CustomMaskWarning: Custom mask layers require a config and must override get_config. When loading, the custom mask layer must be passed to the custom_objects argument.\n",
      "  return generic_utils.serialize_keras_object(obj)\n"
     ]
    },
    {
     "name": "stdout",
     "output_type": "stream",
     "text": [
      "100/100 [==============================] - ETA: 0s - loss: 2.1643 - output_1_loss: 1.8719 - output_2_loss: 0.2924 - contrastive_accuracy: 0.5391"
     ]
    },
    {
     "name": "stderr",
     "output_type": "stream",
     "text": [
      "WARNING:absl:Found untraced functions such as multi_head_attention_layer_call_fn, multi_head_attention_layer_call_and_return_conditional_losses, layer_normalization_layer_call_fn, layer_normalization_layer_call_and_return_conditional_losses, layer_normalization_1_layer_call_fn while saving (showing 5 of 324). These functions will not be directly callable after loading.\n"
     ]
    },
    {
     "name": "stdout",
     "output_type": "stream",
     "text": [
      "INFO:tensorflow:Assets written to: ./hopland-clip-pretrained-dual-loss-mse/assets\n"
     ]
    },
    {
     "name": "stderr",
     "output_type": "stream",
     "text": [
      "INFO:tensorflow:Assets written to: ./hopland-clip-pretrained-dual-loss-mse/assets\n"
     ]
    },
    {
     "name": "stdout",
     "output_type": "stream",
     "text": [
      "100/100 [==============================] - 620s 6s/step - loss: 2.1643 - output_1_loss: 1.8719 - output_2_loss: 0.2924 - contrastive_accuracy: 0.5391 - val_loss: 2.5348 - val_output_1_loss: 2.1248 - val_output_2_loss: 0.4099 - val_contrastive_accuracy: 0.2266\n",
      "Epoch 28/100\n"
     ]
    },
    {
     "name": "stderr",
     "output_type": "stream",
     "text": [
      "/opt/conda/lib/python3.10/site-packages/keras/engine/functional.py:1384: CustomMaskWarning: Custom mask layers require a config and must override get_config. When loading, the custom mask layer must be passed to the custom_objects argument.\n",
      "  layer_config = serialize_layer_fn(layer)\n",
      "/opt/conda/lib/python3.10/site-packages/keras/saving/saved_model/layer_serialization.py:112: CustomMaskWarning: Custom mask layers require a config and must override get_config. When loading, the custom mask layer must be passed to the custom_objects argument.\n",
      "  return generic_utils.serialize_keras_object(obj)\n"
     ]
    },
    {
     "name": "stdout",
     "output_type": "stream",
     "text": [
      "100/100 [==============================] - ETA: 0s - loss: 2.1440 - output_1_loss: 1.8523 - output_2_loss: 0.2917 - contrastive_accuracy: 0.5491"
     ]
    },
    {
     "name": "stderr",
     "output_type": "stream",
     "text": [
      "WARNING:absl:Found untraced functions such as multi_head_attention_layer_call_fn, multi_head_attention_layer_call_and_return_conditional_losses, layer_normalization_layer_call_fn, layer_normalization_layer_call_and_return_conditional_losses, layer_normalization_1_layer_call_fn while saving (showing 5 of 324). These functions will not be directly callable after loading.\n"
     ]
    },
    {
     "name": "stdout",
     "output_type": "stream",
     "text": [
      "INFO:tensorflow:Assets written to: ./hopland-clip-pretrained-dual-loss-mse/assets\n"
     ]
    },
    {
     "name": "stderr",
     "output_type": "stream",
     "text": [
      "INFO:tensorflow:Assets written to: ./hopland-clip-pretrained-dual-loss-mse/assets\n"
     ]
    },
    {
     "name": "stdout",
     "output_type": "stream",
     "text": [
      "100/100 [==============================] - 620s 6s/step - loss: 2.1440 - output_1_loss: 1.8523 - output_2_loss: 0.2917 - contrastive_accuracy: 0.5491 - val_loss: 2.2931 - val_output_1_loss: 1.9562 - val_output_2_loss: 0.3369 - val_contrastive_accuracy: 0.3711\n",
      "Epoch 29/100\n"
     ]
    },
    {
     "name": "stderr",
     "output_type": "stream",
     "text": [
      "/opt/conda/lib/python3.10/site-packages/keras/engine/functional.py:1384: CustomMaskWarning: Custom mask layers require a config and must override get_config. When loading, the custom mask layer must be passed to the custom_objects argument.\n",
      "  layer_config = serialize_layer_fn(layer)\n",
      "/opt/conda/lib/python3.10/site-packages/keras/saving/saved_model/layer_serialization.py:112: CustomMaskWarning: Custom mask layers require a config and must override get_config. When loading, the custom mask layer must be passed to the custom_objects argument.\n",
      "  return generic_utils.serialize_keras_object(obj)\n"
     ]
    },
    {
     "name": "stdout",
     "output_type": "stream",
     "text": [
      "100/100 [==============================] - ETA: 0s - loss: 2.1194 - output_1_loss: 1.8355 - output_2_loss: 0.2839 - contrastive_accuracy: 0.5694"
     ]
    },
    {
     "name": "stderr",
     "output_type": "stream",
     "text": [
      "WARNING:absl:Found untraced functions such as multi_head_attention_layer_call_fn, multi_head_attention_layer_call_and_return_conditional_losses, layer_normalization_layer_call_fn, layer_normalization_layer_call_and_return_conditional_losses, layer_normalization_1_layer_call_fn while saving (showing 5 of 324). These functions will not be directly callable after loading.\n"
     ]
    },
    {
     "name": "stdout",
     "output_type": "stream",
     "text": [
      "INFO:tensorflow:Assets written to: ./hopland-clip-pretrained-dual-loss-mse/assets\n"
     ]
    },
    {
     "name": "stderr",
     "output_type": "stream",
     "text": [
      "INFO:tensorflow:Assets written to: ./hopland-clip-pretrained-dual-loss-mse/assets\n"
     ]
    },
    {
     "name": "stdout",
     "output_type": "stream",
     "text": [
      "100/100 [==============================] - 620s 6s/step - loss: 2.1194 - output_1_loss: 1.8355 - output_2_loss: 0.2839 - contrastive_accuracy: 0.5694 - val_loss: 2.5957 - val_output_1_loss: 2.1670 - val_output_2_loss: 0.4286 - val_contrastive_accuracy: 0.2812\n"
     ]
    },
    {
     "name": "stderr",
     "output_type": "stream",
     "text": [
      "/opt/conda/lib/python3.10/site-packages/keras/engine/functional.py:1384: CustomMaskWarning: Custom mask layers require a config and must override get_config. When loading, the custom mask layer must be passed to the custom_objects argument.\n",
      "  layer_config = serialize_layer_fn(layer)\n",
      "/opt/conda/lib/python3.10/site-packages/keras/saving/saved_model/layer_serialization.py:112: CustomMaskWarning: Custom mask layers require a config and must override get_config. When loading, the custom mask layer must be passed to the custom_objects argument.\n",
      "  return generic_utils.serialize_keras_object(obj)\n"
     ]
    },
    {
     "name": "stdout",
     "output_type": "stream",
     "text": [
      "Epoch 30/100\n",
      "100/100 [==============================] - ETA: 0s - loss: 2.1020 - output_1_loss: 1.8233 - output_2_loss: 0.2786 - contrastive_accuracy: 0.5778"
     ]
    },
    {
     "name": "stderr",
     "output_type": "stream",
     "text": [
      "WARNING:absl:Found untraced functions such as multi_head_attention_layer_call_fn, multi_head_attention_layer_call_and_return_conditional_losses, layer_normalization_layer_call_fn, layer_normalization_layer_call_and_return_conditional_losses, layer_normalization_1_layer_call_fn while saving (showing 5 of 324). These functions will not be directly callable after loading.\n"
     ]
    },
    {
     "name": "stdout",
     "output_type": "stream",
     "text": [
      "INFO:tensorflow:Assets written to: ./hopland-clip-pretrained-dual-loss-mse/assets\n"
     ]
    },
    {
     "name": "stderr",
     "output_type": "stream",
     "text": [
      "INFO:tensorflow:Assets written to: ./hopland-clip-pretrained-dual-loss-mse/assets\n",
      "/opt/conda/lib/python3.10/site-packages/keras/engine/functional.py:1384: CustomMaskWarning: Custom mask layers require a config and must override get_config. When loading, the custom mask layer must be passed to the custom_objects argument.\n",
      "  layer_config = serialize_layer_fn(layer)\n"
     ]
    },
    {
     "name": "stdout",
     "output_type": "stream",
     "text": [
      "100/100 [==============================] - 620s 6s/step - loss: 2.1020 - output_1_loss: 1.8233 - output_2_loss: 0.2786 - contrastive_accuracy: 0.5778 - val_loss: 2.5758 - val_output_1_loss: 2.1143 - val_output_2_loss: 0.4615 - val_contrastive_accuracy: 0.2480\n",
      "Epoch 31/100\n"
     ]
    },
    {
     "name": "stderr",
     "output_type": "stream",
     "text": [
      "/opt/conda/lib/python3.10/site-packages/keras/saving/saved_model/layer_serialization.py:112: CustomMaskWarning: Custom mask layers require a config and must override get_config. When loading, the custom mask layer must be passed to the custom_objects argument.\n",
      "  return generic_utils.serialize_keras_object(obj)\n"
     ]
    },
    {
     "name": "stdout",
     "output_type": "stream",
     "text": [
      "100/100 [==============================] - ETA: 0s - loss: 2.0897 - output_1_loss: 1.8088 - output_2_loss: 0.2809 - contrastive_accuracy: 0.5881"
     ]
    },
    {
     "name": "stderr",
     "output_type": "stream",
     "text": [
      "WARNING:absl:Found untraced functions such as multi_head_attention_layer_call_fn, multi_head_attention_layer_call_and_return_conditional_losses, layer_normalization_layer_call_fn, layer_normalization_layer_call_and_return_conditional_losses, layer_normalization_1_layer_call_fn while saving (showing 5 of 324). These functions will not be directly callable after loading.\n"
     ]
    },
    {
     "name": "stdout",
     "output_type": "stream",
     "text": [
      "INFO:tensorflow:Assets written to: ./hopland-clip-pretrained-dual-loss-mse/assets\n"
     ]
    },
    {
     "name": "stderr",
     "output_type": "stream",
     "text": [
      "INFO:tensorflow:Assets written to: ./hopland-clip-pretrained-dual-loss-mse/assets\n"
     ]
    },
    {
     "name": "stdout",
     "output_type": "stream",
     "text": [
      "100/100 [==============================] - 620s 6s/step - loss: 2.0897 - output_1_loss: 1.8088 - output_2_loss: 0.2809 - contrastive_accuracy: 0.5881 - val_loss: 2.3214 - val_output_1_loss: 1.9879 - val_output_2_loss: 0.3335 - val_contrastive_accuracy: 0.3574\n",
      "Epoch 32/100\n"
     ]
    },
    {
     "name": "stderr",
     "output_type": "stream",
     "text": [
      "/opt/conda/lib/python3.10/site-packages/keras/engine/functional.py:1384: CustomMaskWarning: Custom mask layers require a config and must override get_config. When loading, the custom mask layer must be passed to the custom_objects argument.\n",
      "  layer_config = serialize_layer_fn(layer)\n",
      "/opt/conda/lib/python3.10/site-packages/keras/saving/saved_model/layer_serialization.py:112: CustomMaskWarning: Custom mask layers require a config and must override get_config. When loading, the custom mask layer must be passed to the custom_objects argument.\n",
      "  return generic_utils.serialize_keras_object(obj)\n"
     ]
    },
    {
     "name": "stdout",
     "output_type": "stream",
     "text": [
      " 99/100 [============================>.] - ETA: 5s - loss: 2.0936 - output_1_loss: 1.8086 - output_2_loss: 0.2850 - contrastive_accuracy: 0.5612 "
     ]
    },
    {
     "name": "stderr",
     "output_type": "stream",
     "text": [
      "WARNING:absl:Found untraced functions such as multi_head_attention_layer_call_fn, multi_head_attention_layer_call_and_return_conditional_losses, layer_normalization_layer_call_fn, layer_normalization_layer_call_and_return_conditional_losses, layer_normalization_1_layer_call_fn while saving (showing 5 of 324). These functions will not be directly callable after loading.\n"
     ]
    },
    {
     "name": "stdout",
     "output_type": "stream",
     "text": [
      "INFO:tensorflow:Assets written to: ./hopland-clip-pretrained-dual-loss-mse/assets\n"
     ]
    },
    {
     "name": "stderr",
     "output_type": "stream",
     "text": [
      "INFO:tensorflow:Assets written to: ./hopland-clip-pretrained-dual-loss-mse/assets\n"
     ]
    },
    {
     "name": "stdout",
     "output_type": "stream",
     "text": [
      "100/100 [==============================] - 620s 6s/step - loss: 2.0932 - output_1_loss: 1.8082 - output_2_loss: 0.2849 - contrastive_accuracy: 0.5609 - val_loss: 2.2676 - val_output_1_loss: 1.9372 - val_output_2_loss: 0.3304 - val_contrastive_accuracy: 0.4082\n",
      "Epoch 33/100\n"
     ]
    },
    {
     "name": "stderr",
     "output_type": "stream",
     "text": [
      "/opt/conda/lib/python3.10/site-packages/keras/engine/functional.py:1384: CustomMaskWarning: Custom mask layers require a config and must override get_config. When loading, the custom mask layer must be passed to the custom_objects argument.\n",
      "  layer_config = serialize_layer_fn(layer)\n",
      "/opt/conda/lib/python3.10/site-packages/keras/saving/saved_model/layer_serialization.py:112: CustomMaskWarning: Custom mask layers require a config and must override get_config. When loading, the custom mask layer must be passed to the custom_objects argument.\n",
      "  return generic_utils.serialize_keras_object(obj)\n"
     ]
    },
    {
     "name": "stdout",
     "output_type": "stream",
     "text": [
      "100/100 [==============================] - ETA: 0s - loss: 2.0765 - output_1_loss: 1.8012 - output_2_loss: 0.2753 - contrastive_accuracy: 0.5691"
     ]
    },
    {
     "name": "stderr",
     "output_type": "stream",
     "text": [
      "WARNING:absl:Found untraced functions such as multi_head_attention_layer_call_fn, multi_head_attention_layer_call_and_return_conditional_losses, layer_normalization_layer_call_fn, layer_normalization_layer_call_and_return_conditional_losses, layer_normalization_1_layer_call_fn while saving (showing 5 of 324). These functions will not be directly callable after loading.\n"
     ]
    },
    {
     "name": "stdout",
     "output_type": "stream",
     "text": [
      "INFO:tensorflow:Assets written to: ./hopland-clip-pretrained-dual-loss-mse/assets\n"
     ]
    },
    {
     "name": "stderr",
     "output_type": "stream",
     "text": [
      "INFO:tensorflow:Assets written to: ./hopland-clip-pretrained-dual-loss-mse/assets\n"
     ]
    },
    {
     "name": "stdout",
     "output_type": "stream",
     "text": [
      "100/100 [==============================] - 620s 6s/step - loss: 2.0765 - output_1_loss: 1.8012 - output_2_loss: 0.2753 - contrastive_accuracy: 0.5691 - val_loss: 2.4062 - val_output_1_loss: 2.0348 - val_output_2_loss: 0.3713 - val_contrastive_accuracy: 0.3027\n",
      "Epoch 34/100\n"
     ]
    },
    {
     "name": "stderr",
     "output_type": "stream",
     "text": [
      "/opt/conda/lib/python3.10/site-packages/keras/engine/functional.py:1384: CustomMaskWarning: Custom mask layers require a config and must override get_config. When loading, the custom mask layer must be passed to the custom_objects argument.\n",
      "  layer_config = serialize_layer_fn(layer)\n",
      "/opt/conda/lib/python3.10/site-packages/keras/saving/saved_model/layer_serialization.py:112: CustomMaskWarning: Custom mask layers require a config and must override get_config. When loading, the custom mask layer must be passed to the custom_objects argument.\n",
      "  return generic_utils.serialize_keras_object(obj)\n"
     ]
    },
    {
     "name": "stdout",
     "output_type": "stream",
     "text": [
      "100/100 [==============================] - ETA: 0s - loss: 2.0724 - output_1_loss: 1.7933 - output_2_loss: 0.2791 - contrastive_accuracy: 0.5694"
     ]
    },
    {
     "name": "stderr",
     "output_type": "stream",
     "text": [
      "WARNING:absl:Found untraced functions such as multi_head_attention_layer_call_fn, multi_head_attention_layer_call_and_return_conditional_losses, layer_normalization_layer_call_fn, layer_normalization_layer_call_and_return_conditional_losses, layer_normalization_1_layer_call_fn while saving (showing 5 of 324). These functions will not be directly callable after loading.\n"
     ]
    },
    {
     "name": "stdout",
     "output_type": "stream",
     "text": [
      "INFO:tensorflow:Assets written to: ./hopland-clip-pretrained-dual-loss-mse/assets\n"
     ]
    },
    {
     "name": "stderr",
     "output_type": "stream",
     "text": [
      "INFO:tensorflow:Assets written to: ./hopland-clip-pretrained-dual-loss-mse/assets\n",
      "/opt/conda/lib/python3.10/site-packages/keras/engine/functional.py:1384: CustomMaskWarning: Custom mask layers require a config and must override get_config. When loading, the custom mask layer must be passed to the custom_objects argument.\n",
      "  layer_config = serialize_layer_fn(layer)\n"
     ]
    },
    {
     "name": "stdout",
     "output_type": "stream",
     "text": [
      "100/100 [==============================] - 620s 6s/step - loss: 2.0724 - output_1_loss: 1.7933 - output_2_loss: 0.2791 - contrastive_accuracy: 0.5694 - val_loss: 2.1839 - val_output_1_loss: 1.8724 - val_output_2_loss: 0.3115 - val_contrastive_accuracy: 0.4766\n",
      "Epoch 35/100\n"
     ]
    },
    {
     "name": "stderr",
     "output_type": "stream",
     "text": [
      "/opt/conda/lib/python3.10/site-packages/keras/saving/saved_model/layer_serialization.py:112: CustomMaskWarning: Custom mask layers require a config and must override get_config. When loading, the custom mask layer must be passed to the custom_objects argument.\n",
      "  return generic_utils.serialize_keras_object(obj)\n"
     ]
    },
    {
     "name": "stdout",
     "output_type": "stream",
     "text": [
      "100/100 [==============================] - ETA: 0s - loss: 2.0389 - output_1_loss: 1.7697 - output_2_loss: 0.2692 - contrastive_accuracy: 0.5781"
     ]
    },
    {
     "name": "stderr",
     "output_type": "stream",
     "text": [
      "WARNING:absl:Found untraced functions such as multi_head_attention_layer_call_fn, multi_head_attention_layer_call_and_return_conditional_losses, layer_normalization_layer_call_fn, layer_normalization_layer_call_and_return_conditional_losses, layer_normalization_1_layer_call_fn while saving (showing 5 of 324). These functions will not be directly callable after loading.\n"
     ]
    },
    {
     "name": "stdout",
     "output_type": "stream",
     "text": [
      "INFO:tensorflow:Assets written to: ./hopland-clip-pretrained-dual-loss-mse/assets\n"
     ]
    },
    {
     "name": "stderr",
     "output_type": "stream",
     "text": [
      "INFO:tensorflow:Assets written to: ./hopland-clip-pretrained-dual-loss-mse/assets\n"
     ]
    },
    {
     "name": "stdout",
     "output_type": "stream",
     "text": [
      "100/100 [==============================] - 620s 6s/step - loss: 2.0389 - output_1_loss: 1.7697 - output_2_loss: 0.2692 - contrastive_accuracy: 0.5781 - val_loss: 2.5521 - val_output_1_loss: 2.1413 - val_output_2_loss: 0.4108 - val_contrastive_accuracy: 0.2715\n",
      "Epoch 36/100\n"
     ]
    },
    {
     "name": "stderr",
     "output_type": "stream",
     "text": [
      "/opt/conda/lib/python3.10/site-packages/keras/engine/functional.py:1384: CustomMaskWarning: Custom mask layers require a config and must override get_config. When loading, the custom mask layer must be passed to the custom_objects argument.\n",
      "  layer_config = serialize_layer_fn(layer)\n",
      "/opt/conda/lib/python3.10/site-packages/keras/saving/saved_model/layer_serialization.py:112: CustomMaskWarning: Custom mask layers require a config and must override get_config. When loading, the custom mask layer must be passed to the custom_objects argument.\n",
      "  return generic_utils.serialize_keras_object(obj)\n"
     ]
    },
    {
     "name": "stdout",
     "output_type": "stream",
     "text": [
      "100/100 [==============================] - ETA: 0s - loss: 2.0039 - output_1_loss: 1.7428 - output_2_loss: 0.2611 - contrastive_accuracy: 0.6116"
     ]
    },
    {
     "name": "stderr",
     "output_type": "stream",
     "text": [
      "WARNING:absl:Found untraced functions such as multi_head_attention_layer_call_fn, multi_head_attention_layer_call_and_return_conditional_losses, layer_normalization_layer_call_fn, layer_normalization_layer_call_and_return_conditional_losses, layer_normalization_1_layer_call_fn while saving (showing 5 of 324). These functions will not be directly callable after loading.\n"
     ]
    },
    {
     "name": "stdout",
     "output_type": "stream",
     "text": [
      "INFO:tensorflow:Assets written to: ./hopland-clip-pretrained-dual-loss-mse/assets\n"
     ]
    },
    {
     "name": "stderr",
     "output_type": "stream",
     "text": [
      "INFO:tensorflow:Assets written to: ./hopland-clip-pretrained-dual-loss-mse/assets\n"
     ]
    },
    {
     "name": "stdout",
     "output_type": "stream",
     "text": [
      "100/100 [==============================] - 620s 6s/step - loss: 2.0039 - output_1_loss: 1.7428 - output_2_loss: 0.2611 - contrastive_accuracy: 0.6116 - val_loss: 2.2163 - val_output_1_loss: 1.8733 - val_output_2_loss: 0.3430 - val_contrastive_accuracy: 0.4062\n",
      "Epoch 37/100\n"
     ]
    },
    {
     "name": "stderr",
     "output_type": "stream",
     "text": [
      "/opt/conda/lib/python3.10/site-packages/keras/engine/functional.py:1384: CustomMaskWarning: Custom mask layers require a config and must override get_config. When loading, the custom mask layer must be passed to the custom_objects argument.\n",
      "  layer_config = serialize_layer_fn(layer)\n",
      "/opt/conda/lib/python3.10/site-packages/keras/saving/saved_model/layer_serialization.py:112: CustomMaskWarning: Custom mask layers require a config and must override get_config. When loading, the custom mask layer must be passed to the custom_objects argument.\n",
      "  return generic_utils.serialize_keras_object(obj)\n"
     ]
    },
    {
     "name": "stdout",
     "output_type": "stream",
     "text": [
      "100/100 [==============================] - ETA: 0s - loss: 2.0138 - output_1_loss: 1.7503 - output_2_loss: 0.2635 - contrastive_accuracy: 0.5816"
     ]
    },
    {
     "name": "stderr",
     "output_type": "stream",
     "text": [
      "WARNING:absl:Found untraced functions such as multi_head_attention_layer_call_fn, multi_head_attention_layer_call_and_return_conditional_losses, layer_normalization_layer_call_fn, layer_normalization_layer_call_and_return_conditional_losses, layer_normalization_1_layer_call_fn while saving (showing 5 of 324). These functions will not be directly callable after loading.\n"
     ]
    },
    {
     "name": "stdout",
     "output_type": "stream",
     "text": [
      "INFO:tensorflow:Assets written to: ./hopland-clip-pretrained-dual-loss-mse/assets\n"
     ]
    },
    {
     "name": "stderr",
     "output_type": "stream",
     "text": [
      "INFO:tensorflow:Assets written to: ./hopland-clip-pretrained-dual-loss-mse/assets\n"
     ]
    },
    {
     "name": "stdout",
     "output_type": "stream",
     "text": [
      "100/100 [==============================] - 620s 6s/step - loss: 2.0138 - output_1_loss: 1.7503 - output_2_loss: 0.2635 - contrastive_accuracy: 0.5816 - val_loss: 2.3609 - val_output_1_loss: 2.0009 - val_output_2_loss: 0.3600 - val_contrastive_accuracy: 0.3223\n",
      "Epoch 38/100\n"
     ]
    },
    {
     "name": "stderr",
     "output_type": "stream",
     "text": [
      "/opt/conda/lib/python3.10/site-packages/keras/engine/functional.py:1384: CustomMaskWarning: Custom mask layers require a config and must override get_config. When loading, the custom mask layer must be passed to the custom_objects argument.\n",
      "  layer_config = serialize_layer_fn(layer)\n",
      "/opt/conda/lib/python3.10/site-packages/keras/saving/saved_model/layer_serialization.py:112: CustomMaskWarning: Custom mask layers require a config and must override get_config. When loading, the custom mask layer must be passed to the custom_objects argument.\n",
      "  return generic_utils.serialize_keras_object(obj)\n"
     ]
    },
    {
     "name": "stdout",
     "output_type": "stream",
     "text": [
      "100/100 [==============================] - ETA: 0s - loss: 1.9891 - output_1_loss: 1.7287 - output_2_loss: 0.2604 - contrastive_accuracy: 0.5966"
     ]
    },
    {
     "name": "stderr",
     "output_type": "stream",
     "text": [
      "WARNING:absl:Found untraced functions such as multi_head_attention_layer_call_fn, multi_head_attention_layer_call_and_return_conditional_losses, layer_normalization_layer_call_fn, layer_normalization_layer_call_and_return_conditional_losses, layer_normalization_1_layer_call_fn while saving (showing 5 of 324). These functions will not be directly callable after loading.\n"
     ]
    },
    {
     "name": "stdout",
     "output_type": "stream",
     "text": [
      "INFO:tensorflow:Assets written to: ./hopland-clip-pretrained-dual-loss-mse/assets\n"
     ]
    },
    {
     "name": "stderr",
     "output_type": "stream",
     "text": [
      "INFO:tensorflow:Assets written to: ./hopland-clip-pretrained-dual-loss-mse/assets\n"
     ]
    },
    {
     "name": "stdout",
     "output_type": "stream",
     "text": [
      "100/100 [==============================] - 620s 6s/step - loss: 1.9891 - output_1_loss: 1.7287 - output_2_loss: 0.2604 - contrastive_accuracy: 0.5966 - val_loss: 2.4556 - val_output_1_loss: 2.0391 - val_output_2_loss: 0.4166 - val_contrastive_accuracy: 0.2715\n",
      "Epoch 39/100\n"
     ]
    },
    {
     "name": "stderr",
     "output_type": "stream",
     "text": [
      "/opt/conda/lib/python3.10/site-packages/keras/engine/functional.py:1384: CustomMaskWarning: Custom mask layers require a config and must override get_config. When loading, the custom mask layer must be passed to the custom_objects argument.\n",
      "  layer_config = serialize_layer_fn(layer)\n",
      "/opt/conda/lib/python3.10/site-packages/keras/saving/saved_model/layer_serialization.py:112: CustomMaskWarning: Custom mask layers require a config and must override get_config. When loading, the custom mask layer must be passed to the custom_objects argument.\n",
      "  return generic_utils.serialize_keras_object(obj)\n"
     ]
    },
    {
     "name": "stdout",
     "output_type": "stream",
     "text": [
      "100/100 [==============================] - ETA: 0s - loss: 1.9809 - output_1_loss: 1.7223 - output_2_loss: 0.2586 - contrastive_accuracy: 0.6144"
     ]
    },
    {
     "name": "stderr",
     "output_type": "stream",
     "text": [
      "WARNING:absl:Found untraced functions such as multi_head_attention_layer_call_fn, multi_head_attention_layer_call_and_return_conditional_losses, layer_normalization_layer_call_fn, layer_normalization_layer_call_and_return_conditional_losses, layer_normalization_1_layer_call_fn while saving (showing 5 of 324). These functions will not be directly callable after loading.\n"
     ]
    },
    {
     "name": "stdout",
     "output_type": "stream",
     "text": [
      "INFO:tensorflow:Assets written to: ./hopland-clip-pretrained-dual-loss-mse/assets\n"
     ]
    },
    {
     "name": "stderr",
     "output_type": "stream",
     "text": [
      "INFO:tensorflow:Assets written to: ./hopland-clip-pretrained-dual-loss-mse/assets\n",
      "/opt/conda/lib/python3.10/site-packages/keras/engine/functional.py:1384: CustomMaskWarning: Custom mask layers require a config and must override get_config. When loading, the custom mask layer must be passed to the custom_objects argument.\n",
      "  layer_config = serialize_layer_fn(layer)\n"
     ]
    },
    {
     "name": "stdout",
     "output_type": "stream",
     "text": [
      "100/100 [==============================] - 620s 6s/step - loss: 1.9809 - output_1_loss: 1.7223 - output_2_loss: 0.2586 - contrastive_accuracy: 0.6144 - val_loss: 2.3001 - val_output_1_loss: 1.9305 - val_output_2_loss: 0.3696 - val_contrastive_accuracy: 0.3301\n",
      "Epoch 40/100\n"
     ]
    },
    {
     "name": "stderr",
     "output_type": "stream",
     "text": [
      "/opt/conda/lib/python3.10/site-packages/keras/saving/saved_model/layer_serialization.py:112: CustomMaskWarning: Custom mask layers require a config and must override get_config. When loading, the custom mask layer must be passed to the custom_objects argument.\n",
      "  return generic_utils.serialize_keras_object(obj)\n"
     ]
    },
    {
     "name": "stdout",
     "output_type": "stream",
     "text": [
      "100/100 [==============================] - ETA: 0s - loss: 1.9692 - output_1_loss: 1.7127 - output_2_loss: 0.2565 - contrastive_accuracy: 0.6247"
     ]
    },
    {
     "name": "stderr",
     "output_type": "stream",
     "text": [
      "WARNING:absl:Found untraced functions such as multi_head_attention_layer_call_fn, multi_head_attention_layer_call_and_return_conditional_losses, layer_normalization_layer_call_fn, layer_normalization_layer_call_and_return_conditional_losses, layer_normalization_1_layer_call_fn while saving (showing 5 of 324). These functions will not be directly callable after loading.\n"
     ]
    },
    {
     "name": "stdout",
     "output_type": "stream",
     "text": [
      "INFO:tensorflow:Assets written to: ./hopland-clip-pretrained-dual-loss-mse/assets\n"
     ]
    },
    {
     "name": "stderr",
     "output_type": "stream",
     "text": [
      "INFO:tensorflow:Assets written to: ./hopland-clip-pretrained-dual-loss-mse/assets\n"
     ]
    },
    {
     "name": "stdout",
     "output_type": "stream",
     "text": [
      "100/100 [==============================] - 620s 6s/step - loss: 1.9692 - output_1_loss: 1.7127 - output_2_loss: 0.2565 - contrastive_accuracy: 0.6247 - val_loss: 2.0801 - val_output_1_loss: 1.7866 - val_output_2_loss: 0.2936 - val_contrastive_accuracy: 0.5312\n",
      "Epoch 41/100\n"
     ]
    },
    {
     "name": "stderr",
     "output_type": "stream",
     "text": [
      "/opt/conda/lib/python3.10/site-packages/keras/engine/functional.py:1384: CustomMaskWarning: Custom mask layers require a config and must override get_config. When loading, the custom mask layer must be passed to the custom_objects argument.\n",
      "  layer_config = serialize_layer_fn(layer)\n",
      "/opt/conda/lib/python3.10/site-packages/keras/saving/saved_model/layer_serialization.py:112: CustomMaskWarning: Custom mask layers require a config and must override get_config. When loading, the custom mask layer must be passed to the custom_objects argument.\n",
      "  return generic_utils.serialize_keras_object(obj)\n"
     ]
    },
    {
     "name": "stdout",
     "output_type": "stream",
     "text": [
      "100/100 [==============================] - ETA: 0s - loss: 1.9712 - output_1_loss: 1.7053 - output_2_loss: 0.2659 - contrastive_accuracy: 0.6153"
     ]
    },
    {
     "name": "stderr",
     "output_type": "stream",
     "text": [
      "WARNING:absl:Found untraced functions such as multi_head_attention_layer_call_fn, multi_head_attention_layer_call_and_return_conditional_losses, layer_normalization_layer_call_fn, layer_normalization_layer_call_and_return_conditional_losses, layer_normalization_1_layer_call_fn while saving (showing 5 of 324). These functions will not be directly callable after loading.\n"
     ]
    },
    {
     "name": "stdout",
     "output_type": "stream",
     "text": [
      "INFO:tensorflow:Assets written to: ./hopland-clip-pretrained-dual-loss-mse/assets\n"
     ]
    },
    {
     "name": "stderr",
     "output_type": "stream",
     "text": [
      "INFO:tensorflow:Assets written to: ./hopland-clip-pretrained-dual-loss-mse/assets\n"
     ]
    },
    {
     "name": "stdout",
     "output_type": "stream",
     "text": [
      "100/100 [==============================] - 620s 6s/step - loss: 1.9712 - output_1_loss: 1.7053 - output_2_loss: 0.2659 - contrastive_accuracy: 0.6153 - val_loss: 2.3609 - val_output_1_loss: 1.9578 - val_output_2_loss: 0.4031 - val_contrastive_accuracy: 0.3262\n"
     ]
    },
    {
     "name": "stderr",
     "output_type": "stream",
     "text": [
      "/opt/conda/lib/python3.10/site-packages/keras/engine/functional.py:1384: CustomMaskWarning: Custom mask layers require a config and must override get_config. When loading, the custom mask layer must be passed to the custom_objects argument.\n",
      "  layer_config = serialize_layer_fn(layer)\n",
      "/opt/conda/lib/python3.10/site-packages/keras/saving/saved_model/layer_serialization.py:112: CustomMaskWarning: Custom mask layers require a config and must override get_config. When loading, the custom mask layer must be passed to the custom_objects argument.\n",
      "  return generic_utils.serialize_keras_object(obj)\n"
     ]
    },
    {
     "name": "stdout",
     "output_type": "stream",
     "text": [
      "Epoch 42/100\n",
      "100/100 [==============================] - ETA: 0s - loss: 1.9534 - output_1_loss: 1.6930 - output_2_loss: 0.2605 - contrastive_accuracy: 0.6359"
     ]
    },
    {
     "name": "stderr",
     "output_type": "stream",
     "text": [
      "WARNING:absl:Found untraced functions such as multi_head_attention_layer_call_fn, multi_head_attention_layer_call_and_return_conditional_losses, layer_normalization_layer_call_fn, layer_normalization_layer_call_and_return_conditional_losses, layer_normalization_1_layer_call_fn while saving (showing 5 of 324). These functions will not be directly callable after loading.\n"
     ]
    },
    {
     "name": "stdout",
     "output_type": "stream",
     "text": [
      "INFO:tensorflow:Assets written to: ./hopland-clip-pretrained-dual-loss-mse/assets\n"
     ]
    },
    {
     "name": "stderr",
     "output_type": "stream",
     "text": [
      "INFO:tensorflow:Assets written to: ./hopland-clip-pretrained-dual-loss-mse/assets\n"
     ]
    },
    {
     "name": "stdout",
     "output_type": "stream",
     "text": [
      "100/100 [==============================] - 620s 6s/step - loss: 1.9534 - output_1_loss: 1.6930 - output_2_loss: 0.2605 - contrastive_accuracy: 0.6359 - val_loss: 2.1076 - val_output_1_loss: 1.8096 - val_output_2_loss: 0.2980 - val_contrastive_accuracy: 0.5000\n",
      "Epoch 43/100\n"
     ]
    },
    {
     "name": "stderr",
     "output_type": "stream",
     "text": [
      "/opt/conda/lib/python3.10/site-packages/keras/engine/functional.py:1384: CustomMaskWarning: Custom mask layers require a config and must override get_config. When loading, the custom mask layer must be passed to the custom_objects argument.\n",
      "  layer_config = serialize_layer_fn(layer)\n",
      "/opt/conda/lib/python3.10/site-packages/keras/saving/saved_model/layer_serialization.py:112: CustomMaskWarning: Custom mask layers require a config and must override get_config. When loading, the custom mask layer must be passed to the custom_objects argument.\n",
      "  return generic_utils.serialize_keras_object(obj)\n"
     ]
    },
    {
     "name": "stdout",
     "output_type": "stream",
     "text": [
      "100/100 [==============================] - ETA: 0s - loss: 1.9122 - output_1_loss: 1.6658 - output_2_loss: 0.2464 - contrastive_accuracy: 0.6612"
     ]
    },
    {
     "name": "stderr",
     "output_type": "stream",
     "text": [
      "WARNING:absl:Found untraced functions such as multi_head_attention_layer_call_fn, multi_head_attention_layer_call_and_return_conditional_losses, layer_normalization_layer_call_fn, layer_normalization_layer_call_and_return_conditional_losses, layer_normalization_1_layer_call_fn while saving (showing 5 of 324). These functions will not be directly callable after loading.\n"
     ]
    },
    {
     "name": "stdout",
     "output_type": "stream",
     "text": [
      "INFO:tensorflow:Assets written to: ./hopland-clip-pretrained-dual-loss-mse/assets\n"
     ]
    },
    {
     "name": "stderr",
     "output_type": "stream",
     "text": [
      "INFO:tensorflow:Assets written to: ./hopland-clip-pretrained-dual-loss-mse/assets\n"
     ]
    },
    {
     "name": "stdout",
     "output_type": "stream",
     "text": [
      "100/100 [==============================] - 620s 6s/step - loss: 1.9122 - output_1_loss: 1.6658 - output_2_loss: 0.2464 - contrastive_accuracy: 0.6612 - val_loss: 2.2835 - val_output_1_loss: 1.9284 - val_output_2_loss: 0.3551 - val_contrastive_accuracy: 0.3574\n"
     ]
    },
    {
     "name": "stderr",
     "output_type": "stream",
     "text": [
      "/opt/conda/lib/python3.10/site-packages/keras/engine/functional.py:1384: CustomMaskWarning: Custom mask layers require a config and must override get_config. When loading, the custom mask layer must be passed to the custom_objects argument.\n",
      "  layer_config = serialize_layer_fn(layer)\n",
      "/opt/conda/lib/python3.10/site-packages/keras/saving/saved_model/layer_serialization.py:112: CustomMaskWarning: Custom mask layers require a config and must override get_config. When loading, the custom mask layer must be passed to the custom_objects argument.\n",
      "  return generic_utils.serialize_keras_object(obj)\n"
     ]
    },
    {
     "name": "stdout",
     "output_type": "stream",
     "text": [
      "Epoch 44/100\n",
      "100/100 [==============================] - ETA: 0s - loss: 1.9218 - output_1_loss: 1.6695 - output_2_loss: 0.2523 - contrastive_accuracy: 0.6391"
     ]
    },
    {
     "name": "stderr",
     "output_type": "stream",
     "text": [
      "WARNING:absl:Found untraced functions such as multi_head_attention_layer_call_fn, multi_head_attention_layer_call_and_return_conditional_losses, layer_normalization_layer_call_fn, layer_normalization_layer_call_and_return_conditional_losses, layer_normalization_1_layer_call_fn while saving (showing 5 of 324). These functions will not be directly callable after loading.\n"
     ]
    },
    {
     "name": "stdout",
     "output_type": "stream",
     "text": [
      "INFO:tensorflow:Assets written to: ./hopland-clip-pretrained-dual-loss-mse/assets\n"
     ]
    },
    {
     "name": "stderr",
     "output_type": "stream",
     "text": [
      "INFO:tensorflow:Assets written to: ./hopland-clip-pretrained-dual-loss-mse/assets\n"
     ]
    },
    {
     "name": "stdout",
     "output_type": "stream",
     "text": [
      "100/100 [==============================] - 620s 6s/step - loss: 1.9218 - output_1_loss: 1.6695 - output_2_loss: 0.2523 - contrastive_accuracy: 0.6391 - val_loss: 2.0492 - val_output_1_loss: 1.7715 - val_output_2_loss: 0.2777 - val_contrastive_accuracy: 0.5078\n",
      "Epoch 45/100\n"
     ]
    },
    {
     "name": "stderr",
     "output_type": "stream",
     "text": [
      "/opt/conda/lib/python3.10/site-packages/keras/engine/functional.py:1384: CustomMaskWarning: Custom mask layers require a config and must override get_config. When loading, the custom mask layer must be passed to the custom_objects argument.\n",
      "  layer_config = serialize_layer_fn(layer)\n",
      "/opt/conda/lib/python3.10/site-packages/keras/saving/saved_model/layer_serialization.py:112: CustomMaskWarning: Custom mask layers require a config and must override get_config. When loading, the custom mask layer must be passed to the custom_objects argument.\n",
      "  return generic_utils.serialize_keras_object(obj)\n"
     ]
    },
    {
     "name": "stdout",
     "output_type": "stream",
     "text": [
      "100/100 [==============================] - ETA: 0s - loss: 1.9332 - output_1_loss: 1.6739 - output_2_loss: 0.2593 - contrastive_accuracy: 0.6328"
     ]
    },
    {
     "name": "stderr",
     "output_type": "stream",
     "text": [
      "WARNING:absl:Found untraced functions such as multi_head_attention_layer_call_fn, multi_head_attention_layer_call_and_return_conditional_losses, layer_normalization_layer_call_fn, layer_normalization_layer_call_and_return_conditional_losses, layer_normalization_1_layer_call_fn while saving (showing 5 of 324). These functions will not be directly callable after loading.\n"
     ]
    },
    {
     "name": "stdout",
     "output_type": "stream",
     "text": [
      "INFO:tensorflow:Assets written to: ./hopland-clip-pretrained-dual-loss-mse/assets\n"
     ]
    },
    {
     "name": "stderr",
     "output_type": "stream",
     "text": [
      "INFO:tensorflow:Assets written to: ./hopland-clip-pretrained-dual-loss-mse/assets\n"
     ]
    },
    {
     "name": "stdout",
     "output_type": "stream",
     "text": [
      "100/100 [==============================] - 620s 6s/step - loss: 1.9332 - output_1_loss: 1.6739 - output_2_loss: 0.2593 - contrastive_accuracy: 0.6328 - val_loss: 2.0921 - val_output_1_loss: 1.7839 - val_output_2_loss: 0.3082 - val_contrastive_accuracy: 0.4805\n",
      "Epoch 46/100\n"
     ]
    },
    {
     "name": "stderr",
     "output_type": "stream",
     "text": [
      "/opt/conda/lib/python3.10/site-packages/keras/engine/functional.py:1384: CustomMaskWarning: Custom mask layers require a config and must override get_config. When loading, the custom mask layer must be passed to the custom_objects argument.\n",
      "  layer_config = serialize_layer_fn(layer)\n",
      "/opt/conda/lib/python3.10/site-packages/keras/saving/saved_model/layer_serialization.py:112: CustomMaskWarning: Custom mask layers require a config and must override get_config. When loading, the custom mask layer must be passed to the custom_objects argument.\n",
      "  return generic_utils.serialize_keras_object(obj)\n"
     ]
    },
    {
     "name": "stdout",
     "output_type": "stream",
     "text": [
      "100/100 [==============================] - ETA: 0s - loss: 1.9023 - output_1_loss: 1.6472 - output_2_loss: 0.2551 - contrastive_accuracy: 0.6522"
     ]
    },
    {
     "name": "stderr",
     "output_type": "stream",
     "text": [
      "WARNING:absl:Found untraced functions such as multi_head_attention_layer_call_fn, multi_head_attention_layer_call_and_return_conditional_losses, layer_normalization_layer_call_fn, layer_normalization_layer_call_and_return_conditional_losses, layer_normalization_1_layer_call_fn while saving (showing 5 of 324). These functions will not be directly callable after loading.\n"
     ]
    },
    {
     "name": "stdout",
     "output_type": "stream",
     "text": [
      "INFO:tensorflow:Assets written to: ./hopland-clip-pretrained-dual-loss-mse/assets\n"
     ]
    },
    {
     "name": "stderr",
     "output_type": "stream",
     "text": [
      "INFO:tensorflow:Assets written to: ./hopland-clip-pretrained-dual-loss-mse/assets\n"
     ]
    },
    {
     "name": "stdout",
     "output_type": "stream",
     "text": [
      "100/100 [==============================] - 620s 6s/step - loss: 1.9023 - output_1_loss: 1.6472 - output_2_loss: 0.2551 - contrastive_accuracy: 0.6522 - val_loss: 2.1622 - val_output_1_loss: 1.8228 - val_output_2_loss: 0.3394 - val_contrastive_accuracy: 0.4160\n",
      "Epoch 47/100\n"
     ]
    },
    {
     "name": "stderr",
     "output_type": "stream",
     "text": [
      "/opt/conda/lib/python3.10/site-packages/keras/engine/functional.py:1384: CustomMaskWarning: Custom mask layers require a config and must override get_config. When loading, the custom mask layer must be passed to the custom_objects argument.\n",
      "  layer_config = serialize_layer_fn(layer)\n",
      "/opt/conda/lib/python3.10/site-packages/keras/saving/saved_model/layer_serialization.py:112: CustomMaskWarning: Custom mask layers require a config and must override get_config. When loading, the custom mask layer must be passed to the custom_objects argument.\n",
      "  return generic_utils.serialize_keras_object(obj)\n"
     ]
    },
    {
     "name": "stdout",
     "output_type": "stream",
     "text": [
      "100/100 [==============================] - ETA: 0s - loss: 1.8821 - output_1_loss: 1.6328 - output_2_loss: 0.2493 - contrastive_accuracy: 0.6444"
     ]
    },
    {
     "name": "stderr",
     "output_type": "stream",
     "text": [
      "WARNING:absl:Found untraced functions such as multi_head_attention_layer_call_fn, multi_head_attention_layer_call_and_return_conditional_losses, layer_normalization_layer_call_fn, layer_normalization_layer_call_and_return_conditional_losses, layer_normalization_1_layer_call_fn while saving (showing 5 of 324). These functions will not be directly callable after loading.\n"
     ]
    },
    {
     "name": "stdout",
     "output_type": "stream",
     "text": [
      "INFO:tensorflow:Assets written to: ./hopland-clip-pretrained-dual-loss-mse/assets\n"
     ]
    },
    {
     "name": "stderr",
     "output_type": "stream",
     "text": [
      "INFO:tensorflow:Assets written to: ./hopland-clip-pretrained-dual-loss-mse/assets\n"
     ]
    },
    {
     "name": "stdout",
     "output_type": "stream",
     "text": [
      "100/100 [==============================] - 620s 6s/step - loss: 1.8821 - output_1_loss: 1.6328 - output_2_loss: 0.2493 - contrastive_accuracy: 0.6444 - val_loss: 2.2249 - val_output_1_loss: 1.8878 - val_output_2_loss: 0.3371 - val_contrastive_accuracy: 0.3906\n",
      "Epoch 48/100\n"
     ]
    },
    {
     "name": "stderr",
     "output_type": "stream",
     "text": [
      "/opt/conda/lib/python3.10/site-packages/keras/engine/functional.py:1384: CustomMaskWarning: Custom mask layers require a config and must override get_config. When loading, the custom mask layer must be passed to the custom_objects argument.\n",
      "  layer_config = serialize_layer_fn(layer)\n",
      "/opt/conda/lib/python3.10/site-packages/keras/saving/saved_model/layer_serialization.py:112: CustomMaskWarning: Custom mask layers require a config and must override get_config. When loading, the custom mask layer must be passed to the custom_objects argument.\n",
      "  return generic_utils.serialize_keras_object(obj)\n"
     ]
    },
    {
     "name": "stdout",
     "output_type": "stream",
     "text": [
      "100/100 [==============================] - ETA: 0s - loss: 1.8628 - output_1_loss: 1.6154 - output_2_loss: 0.2474 - contrastive_accuracy: 0.6703"
     ]
    },
    {
     "name": "stderr",
     "output_type": "stream",
     "text": [
      "WARNING:absl:Found untraced functions such as multi_head_attention_layer_call_fn, multi_head_attention_layer_call_and_return_conditional_losses, layer_normalization_layer_call_fn, layer_normalization_layer_call_and_return_conditional_losses, layer_normalization_1_layer_call_fn while saving (showing 5 of 324). These functions will not be directly callable after loading.\n"
     ]
    },
    {
     "name": "stdout",
     "output_type": "stream",
     "text": [
      "INFO:tensorflow:Assets written to: ./hopland-clip-pretrained-dual-loss-mse/assets\n"
     ]
    },
    {
     "name": "stderr",
     "output_type": "stream",
     "text": [
      "INFO:tensorflow:Assets written to: ./hopland-clip-pretrained-dual-loss-mse/assets\n"
     ]
    },
    {
     "name": "stdout",
     "output_type": "stream",
     "text": [
      "100/100 [==============================] - 620s 6s/step - loss: 1.8628 - output_1_loss: 1.6154 - output_2_loss: 0.2474 - contrastive_accuracy: 0.6703 - val_loss: 2.1059 - val_output_1_loss: 1.7919 - val_output_2_loss: 0.3140 - val_contrastive_accuracy: 0.4453\n",
      "Epoch 49/100\n"
     ]
    },
    {
     "name": "stderr",
     "output_type": "stream",
     "text": [
      "/opt/conda/lib/python3.10/site-packages/keras/engine/functional.py:1384: CustomMaskWarning: Custom mask layers require a config and must override get_config. When loading, the custom mask layer must be passed to the custom_objects argument.\n",
      "  layer_config = serialize_layer_fn(layer)\n",
      "/opt/conda/lib/python3.10/site-packages/keras/saving/saved_model/layer_serialization.py:112: CustomMaskWarning: Custom mask layers require a config and must override get_config. When loading, the custom mask layer must be passed to the custom_objects argument.\n",
      "  return generic_utils.serialize_keras_object(obj)\n"
     ]
    },
    {
     "name": "stdout",
     "output_type": "stream",
     "text": [
      "100/100 [==============================] - ETA: 0s - loss: 1.8688 - output_1_loss: 1.6171 - output_2_loss: 0.2517 - contrastive_accuracy: 0.6313"
     ]
    },
    {
     "name": "stderr",
     "output_type": "stream",
     "text": [
      "WARNING:absl:Found untraced functions such as multi_head_attention_layer_call_fn, multi_head_attention_layer_call_and_return_conditional_losses, layer_normalization_layer_call_fn, layer_normalization_layer_call_and_return_conditional_losses, layer_normalization_1_layer_call_fn while saving (showing 5 of 324). These functions will not be directly callable after loading.\n"
     ]
    },
    {
     "name": "stdout",
     "output_type": "stream",
     "text": [
      "INFO:tensorflow:Assets written to: ./hopland-clip-pretrained-dual-loss-mse/assets\n"
     ]
    },
    {
     "name": "stderr",
     "output_type": "stream",
     "text": [
      "INFO:tensorflow:Assets written to: ./hopland-clip-pretrained-dual-loss-mse/assets\n",
      "/opt/conda/lib/python3.10/site-packages/keras/engine/functional.py:1384: CustomMaskWarning: Custom mask layers require a config and must override get_config. When loading, the custom mask layer must be passed to the custom_objects argument.\n",
      "  layer_config = serialize_layer_fn(layer)\n"
     ]
    },
    {
     "name": "stdout",
     "output_type": "stream",
     "text": [
      "100/100 [==============================] - 620s 6s/step - loss: 1.8688 - output_1_loss: 1.6171 - output_2_loss: 0.2517 - contrastive_accuracy: 0.6313 - val_loss: 2.2099 - val_output_1_loss: 1.8505 - val_output_2_loss: 0.3594 - val_contrastive_accuracy: 0.3984\n",
      "Epoch 50/100\n"
     ]
    },
    {
     "name": "stderr",
     "output_type": "stream",
     "text": [
      "/opt/conda/lib/python3.10/site-packages/keras/saving/saved_model/layer_serialization.py:112: CustomMaskWarning: Custom mask layers require a config and must override get_config. When loading, the custom mask layer must be passed to the custom_objects argument.\n",
      "  return generic_utils.serialize_keras_object(obj)\n"
     ]
    },
    {
     "name": "stdout",
     "output_type": "stream",
     "text": [
      "100/100 [==============================] - ETA: 0s - loss: 1.8482 - output_1_loss: 1.5956 - output_2_loss: 0.2526 - contrastive_accuracy: 0.6647"
     ]
    },
    {
     "name": "stderr",
     "output_type": "stream",
     "text": [
      "WARNING:absl:Found untraced functions such as multi_head_attention_layer_call_fn, multi_head_attention_layer_call_and_return_conditional_losses, layer_normalization_layer_call_fn, layer_normalization_layer_call_and_return_conditional_losses, layer_normalization_1_layer_call_fn while saving (showing 5 of 324). These functions will not be directly callable after loading.\n"
     ]
    },
    {
     "name": "stdout",
     "output_type": "stream",
     "text": [
      "INFO:tensorflow:Assets written to: ./hopland-clip-pretrained-dual-loss-mse/assets\n"
     ]
    },
    {
     "name": "stderr",
     "output_type": "stream",
     "text": [
      "INFO:tensorflow:Assets written to: ./hopland-clip-pretrained-dual-loss-mse/assets\n"
     ]
    },
    {
     "name": "stdout",
     "output_type": "stream",
     "text": [
      "100/100 [==============================] - 620s 6s/step - loss: 1.8482 - output_1_loss: 1.5956 - output_2_loss: 0.2526 - contrastive_accuracy: 0.6647 - val_loss: 2.2347 - val_output_1_loss: 1.8654 - val_output_2_loss: 0.3693 - val_contrastive_accuracy: 0.3691\n",
      "Epoch 51/100\n"
     ]
    },
    {
     "name": "stderr",
     "output_type": "stream",
     "text": [
      "/opt/conda/lib/python3.10/site-packages/keras/engine/functional.py:1384: CustomMaskWarning: Custom mask layers require a config and must override get_config. When loading, the custom mask layer must be passed to the custom_objects argument.\n",
      "  layer_config = serialize_layer_fn(layer)\n",
      "/opt/conda/lib/python3.10/site-packages/keras/saving/saved_model/layer_serialization.py:112: CustomMaskWarning: Custom mask layers require a config and must override get_config. When loading, the custom mask layer must be passed to the custom_objects argument.\n",
      "  return generic_utils.serialize_keras_object(obj)\n"
     ]
    },
    {
     "name": "stdout",
     "output_type": "stream",
     "text": [
      "100/100 [==============================] - ETA: 0s - loss: 1.8521 - output_1_loss: 1.6033 - output_2_loss: 0.2488 - contrastive_accuracy: 0.6628"
     ]
    },
    {
     "name": "stderr",
     "output_type": "stream",
     "text": [
      "WARNING:absl:Found untraced functions such as multi_head_attention_layer_call_fn, multi_head_attention_layer_call_and_return_conditional_losses, layer_normalization_layer_call_fn, layer_normalization_layer_call_and_return_conditional_losses, layer_normalization_1_layer_call_fn while saving (showing 5 of 324). These functions will not be directly callable after loading.\n"
     ]
    },
    {
     "name": "stdout",
     "output_type": "stream",
     "text": [
      "INFO:tensorflow:Assets written to: ./hopland-clip-pretrained-dual-loss-mse/assets\n"
     ]
    },
    {
     "name": "stderr",
     "output_type": "stream",
     "text": [
      "INFO:tensorflow:Assets written to: ./hopland-clip-pretrained-dual-loss-mse/assets\n"
     ]
    },
    {
     "name": "stdout",
     "output_type": "stream",
     "text": [
      "100/100 [==============================] - 620s 6s/step - loss: 1.8521 - output_1_loss: 1.6033 - output_2_loss: 0.2488 - contrastive_accuracy: 0.6628 - val_loss: 2.2719 - val_output_1_loss: 1.8939 - val_output_2_loss: 0.3779 - val_contrastive_accuracy: 0.3809\n"
     ]
    },
    {
     "name": "stderr",
     "output_type": "stream",
     "text": [
      "/opt/conda/lib/python3.10/site-packages/keras/engine/functional.py:1384: CustomMaskWarning: Custom mask layers require a config and must override get_config. When loading, the custom mask layer must be passed to the custom_objects argument.\n",
      "  layer_config = serialize_layer_fn(layer)\n",
      "/opt/conda/lib/python3.10/site-packages/keras/saving/saved_model/layer_serialization.py:112: CustomMaskWarning: Custom mask layers require a config and must override get_config. When loading, the custom mask layer must be passed to the custom_objects argument.\n",
      "  return generic_utils.serialize_keras_object(obj)\n"
     ]
    },
    {
     "name": "stdout",
     "output_type": "stream",
     "text": [
      "Epoch 52/100\n",
      "100/100 [==============================] - ETA: 0s - loss: 1.8096 - output_1_loss: 1.5660 - output_2_loss: 0.2436 - contrastive_accuracy: 0.6578"
     ]
    },
    {
     "name": "stderr",
     "output_type": "stream",
     "text": [
      "WARNING:absl:Found untraced functions such as multi_head_attention_layer_call_fn, multi_head_attention_layer_call_and_return_conditional_losses, layer_normalization_layer_call_fn, layer_normalization_layer_call_and_return_conditional_losses, layer_normalization_1_layer_call_fn while saving (showing 5 of 324). These functions will not be directly callable after loading.\n"
     ]
    },
    {
     "name": "stdout",
     "output_type": "stream",
     "text": [
      "INFO:tensorflow:Assets written to: ./hopland-clip-pretrained-dual-loss-mse/assets\n"
     ]
    },
    {
     "name": "stderr",
     "output_type": "stream",
     "text": [
      "INFO:tensorflow:Assets written to: ./hopland-clip-pretrained-dual-loss-mse/assets\n"
     ]
    },
    {
     "name": "stdout",
     "output_type": "stream",
     "text": [
      "100/100 [==============================] - 620s 6s/step - loss: 1.8096 - output_1_loss: 1.5660 - output_2_loss: 0.2436 - contrastive_accuracy: 0.6578 - val_loss: 2.4074 - val_output_1_loss: 2.0031 - val_output_2_loss: 0.4043 - val_contrastive_accuracy: 0.2930\n",
      "Epoch 53/100\n"
     ]
    },
    {
     "name": "stderr",
     "output_type": "stream",
     "text": [
      "/opt/conda/lib/python3.10/site-packages/keras/engine/functional.py:1384: CustomMaskWarning: Custom mask layers require a config and must override get_config. When loading, the custom mask layer must be passed to the custom_objects argument.\n",
      "  layer_config = serialize_layer_fn(layer)\n",
      "/opt/conda/lib/python3.10/site-packages/keras/saving/saved_model/layer_serialization.py:112: CustomMaskWarning: Custom mask layers require a config and must override get_config. When loading, the custom mask layer must be passed to the custom_objects argument.\n",
      "  return generic_utils.serialize_keras_object(obj)\n"
     ]
    },
    {
     "name": "stdout",
     "output_type": "stream",
     "text": [
      "100/100 [==============================] - ETA: 0s - loss: 1.8184 - output_1_loss: 1.5716 - output_2_loss: 0.2468 - contrastive_accuracy: 0.6566"
     ]
    }
   ],
   "source": [
    "history = model.fit(train_data, validation_data=val_data, epochs=100, initial_epoch=0, callbacks=callbacks)"
   ]
  },
  {
   "cell_type": "code",
   "execution_count": 23,
   "metadata": {},
   "outputs": [],
   "source": [
    "y = x = tf.keras.layers.Input((1000, 148))\n",
    "y = setbert_encoder(y)\n",
    "y = model.W_a(y)\n",
    "setbert_encoder_extended = tf.keras.Model(x, y)"
   ]
  },
  {
   "cell_type": "code",
   "execution_count": 24,
   "metadata": {},
   "outputs": [],
   "source": [
    "y = x = tf.keras.layers.Input(abundance_encoder.input_shape[1:])\n",
    "y = abundance_encoder(y)\n",
    "y = model.W_b(y)\n",
    "abundance_encoder_extended = tf.keras.Model(x, y)"
   ]
  },
  {
   "cell_type": "code",
   "execution_count": 25,
   "metadata": {},
   "outputs": [
    {
     "name": "stdout",
     "output_type": "stream",
     "text": [
      "1/1 [==============================] - 0s 13ms/step\n",
      "1/1 [==============================] - 5s 5s/step\n"
     ]
    },
    {
     "data": {
      "image/png": "[encoded data removed]",
      "text/plain": [
       "<Figure size 1000x400 with 2 Axes>"
      ]
     },
     "metadata": {},
     "output_type": "display_data"
    }
   ],
   "source": [
    "plt.figure(figsize=(10, 4))\n",
    "plt.subplot(1, 2, 1)\n",
    "plt.title(\"Abundance Embedding Value Histogram\")\n",
    "plt.hist(abundance_encoder.predict(val_data[0][0][1]).flatten(), bins=50)\n",
    "\n",
    "plt.subplot(1, 2, 2)\n",
    "plt.title(\"SetBERT Embedding Value Histogram\")\n",
    "plt.hist(setbert_encoder.predict(val_data[0][0][0]).flatten(), bins=50)\n",
    "plt.show()"
   ]
  },
  {
   "cell_type": "code",
   "execution_count": 26,
   "metadata": {},
   "outputs": [
    {
     "name": "stdout",
     "output_type": "stream",
     "text": [
      "1/1 [==============================] - 0s 80ms/step\n",
      "1/1 [==============================] - 7s 7s/step\n"
     ]
    },
    {
     "data": {
      "image/png": "[encoded data removed]",
      "text/plain": [
       "<Figure size 1000x400 with 2 Axes>"
      ]
     },
     "metadata": {},
     "output_type": "display_data"
    }
   ],
   "source": [
    "plt.figure(figsize=(10, 4))\n",
    "plt.subplot(1, 2, 1)\n",
    "plt.title(\"Abundance Embedding Value Histogram\")\n",
    "plt.hist(abundance_encoder_extended.predict(val_data[0][0][1]).flatten(), bins=50)\n",
    "\n",
    "plt.subplot(1, 2, 2)\n",
    "plt.title(\"SetBERT Embedding Value Histogram\")\n",
    "plt.hist(setbert_encoder_extended.predict(val_data[0][0][0]).flatten(), bins=50)\n",
    "plt.show()"
   ]
  },
  {
   "cell_type": "code",
   "execution_count": null,
   "metadata": {},
   "outputs": [],
   "source": [
    "model.evaluate(val_data)"
   ]
  },
  {
   "cell_type": "code",
   "execution_count": 27,
   "metadata": {},
   "outputs": [
    {
     "name": "stdout",
     "output_type": "stream",
     "text": [
      "WARNING:tensorflow:5 out of the last 7 calls to <function Model.make_predict_function.<locals>.predict_function at 0x7fd1fcd58ee0> triggered tf.function retracing. Tracing is expensive and the excessive number of tracings could be due to (1) creating @tf.function repeatedly in a loop, (2) passing tensors with different shapes, (3) passing Python objects instead of tensors. For (1), please define your @tf.function outside of the loop. For (2), @tf.function has reduce_retracing=True option that can avoid unnecessary retracing. For (3), please refer to https://www.tensorflow.org/guide/function#controlling_retracing and https://www.tensorflow.org/api_docs/python/tf/function for  more details.\n"
     ]
    },
    {
     "name": "stderr",
     "output_type": "stream",
     "text": [
      "WARNING:tensorflow:5 out of the last 7 calls to <function Model.make_predict_function.<locals>.predict_function at 0x7fd1fcd58ee0> triggered tf.function retracing. Tracing is expensive and the excessive number of tracings could be due to (1) creating @tf.function repeatedly in a loop, (2) passing tensors with different shapes, (3) passing Python objects instead of tensors. For (1), please define your @tf.function outside of the loop. For (2), @tf.function has reduce_retracing=True option that can avoid unnecessary retracing. For (3), please refer to https://www.tensorflow.org/guide/function#controlling_retracing and https://www.tensorflow.org/api_docs/python/tf/function for  more details.\n"
     ]
    },
    {
     "name": "stdout",
     "output_type": "stream",
     "text": [
      "16/16 [==============================] - 80s 5s/step\n"
     ]
    }
   ],
   "source": [
    "pred = np.reshape(model.predict(val_data), (-1, 16, 16))"
   ]
  },
  {
   "cell_type": "code",
   "execution_count": 28,
   "metadata": {},
   "outputs": [
    {
     "data": {
      "text/plain": [
       "<AxesSubplot:title={'center':'Mean Predictions Across All Batches'}>"
      ]
     },
     "execution_count": 28,
     "metadata": {},
     "output_type": "execute_result"
    },
    {
     "data": {
      "image/png": "[encoded data removed]",
      "text/plain": [
       "<Figure size 640x480 with 2 Axes>"
      ]
     },
     "metadata": {},
     "output_type": "display_data"
    }
   ],
   "source": [
    "plt.title(\"Mean Predictions Across All Batches\")\n",
    "sns.heatmap(np.mean((tf.nn.softmax(pred, axis=2) + tf.nn.softmax(pred, axis=1)) / 2.0, axis=0))"
   ]
  },
  {
   "cell_type": "code",
   "execution_count": 29,
   "metadata": {},
   "outputs": [
    {
     "data": {
      "image/png": "[encoded data removed]",
      "text/plain": [
       "<Figure size 1600x1600 with 32 Axes>"
      ]
     },
     "metadata": {},
     "output_type": "display_data"
    }
   ],
   "source": [
    "fig, axs = plt.subplots(4, 4, figsize=(16, 16), sharex=True, sharey=True)\n",
    "axs = axs.flat\n",
    "for i in range(len(pred)):\n",
    "    plt.subplot(4, 4, i+1)\n",
    "    sns.heatmap((tf.nn.softmax(pred[i]) + tf.nn.softmax(pred[i], axis=0)) / 2.0)\n",
    "fig.tight_layout()\n",
    "fig.text(0.5, 0.0, 'Abundance Embedding', ha='center')\n",
    "fig.text(0.0, 0.5, 'SetBERT Embedding', va='center', rotation='vertical')\n",
    "fig.suptitle(\"SetBERT vs. Abundance Emebbing Batches\")\n",
    "fig.tight_layout()\n",
    "plt.show()"
   ]
  },
  {
   "cell_type": "code",
   "execution_count": 30,
   "metadata": {},
   "outputs": [
    {
     "name": "stderr",
     "output_type": "stream",
     "text": [
      "WARNING:absl:Found untraced functions such as multi_head_attention_layer_call_fn, multi_head_attention_layer_call_and_return_conditional_losses, layer_normalization_layer_call_fn, layer_normalization_layer_call_and_return_conditional_losses, layer_normalization_1_layer_call_fn while saving (showing 5 of 324). These functions will not be directly callable after loading.\n"
     ]
    },
    {
     "name": "stdout",
     "output_type": "stream",
     "text": [
      "INFO:tensorflow:Assets written to: hopland-clip_pretrained_dual_loss_mse/assets\n"
     ]
    },
    {
     "name": "stderr",
     "output_type": "stream",
     "text": [
      "INFO:tensorflow:Assets written to: hopland-clip_pretrained_dual_loss_mse/assets\n",
      "/opt/conda/lib/python3.10/site-packages/keras/engine/functional.py:1384: CustomMaskWarning: Custom mask layers require a config and must override get_config. When loading, the custom mask layer must be passed to the custom_objects argument.\n",
      "  layer_config = serialize_layer_fn(layer)\n",
      "/opt/conda/lib/python3.10/site-packages/keras/saving/saved_model/layer_serialization.py:112: CustomMaskWarning: Custom mask layers require a config and must override get_config. When loading, the custom mask layer must be passed to the custom_objects argument.\n",
      "  return generic_utils.serialize_keras_object(obj)\n"
     ]
    }
   ],
   "source": [
    "model.save(\"hopland-clip_pretrained_dual_loss_mse\")"
   ]
  },
  {
   "cell_type": "code",
   "execution_count": 31,
   "metadata": {},
   "outputs": [],
   "source": [
    "# sequences, abundances = val_data[1]"
   ]
  },
  {
   "cell_type": "code",
   "execution_count": 32,
   "metadata": {},
   "outputs": [
    {
     "data": {
      "text/plain": [
       "10"
      ]
     },
     "execution_count": 32,
     "metadata": {},
     "output_type": "execute_result"
    }
   ],
   "source": [
    "rng = np.random.default_rng(0)\n",
    "indices = rng.permutation(len(samples))[:10]\n",
    "chosen_samples = [samples[i] for i in indices]\n",
    "sample_names = [s.name for s in chosen_samples]\n",
    "len(chosen_samples)"
   ]
  },
  {
   "cell_type": "code",
   "execution_count": 33,
   "metadata": {},
   "outputs": [
    {
     "data": {
      "application/vnd.jupyter.widget-view+json": {
       "model_id": "9941e5f70f0d4cddb05aae44b637b3a7",
       "version_major": 2,
       "version_minor": 0
      },
      "text/plain": [
       "  0%|          | 0/10 [00:00<?, ?it/s]"
      ]
     },
     "metadata": {},
     "output_type": "display_data"
    },
    {
     "name": "stdout",
     "output_type": "stream",
     "text": [
      "1/1 [==============================] - 3s 3s/step\n",
      "1/1 [==============================] - 3s 3s/step\n",
      "1/1 [==============================] - 3s 3s/step\n",
      "1/1 [==============================] - 3s 3s/step\n",
      "1/1 [==============================] - 3s 3s/step\n",
      "1/1 [==============================] - 3s 3s/step\n",
      "1/1 [==============================] - 3s 3s/step\n",
      "1/1 [==============================] - 3s 3s/step\n",
      "1/1 [==============================] - 3s 3s/step\n",
      "1/1 [==============================] - 3s 3s/step\n"
     ]
    }
   ],
   "source": [
    "setbert_embeddings = []\n",
    "abundance_embeddings = []\n",
    "for s in tqdm(chosen_samples):\n",
    "    (sequences, abundances), _ = SampleValuePairGenerator(\n",
    "        [s],\n",
    "        labels,\n",
    "        sequence_length=150,\n",
    "        kmer=3,\n",
    "        subsample_size=1000,\n",
    "        batch_size=10,\n",
    "        batches_per_epoch=1,\n",
    "        rng=rng)[0]\n",
    "    setbert_embeddings.append(setbert_encoder_extended.predict(sequences))\n",
    "    abundance_embeddings.append(abundance_encoder_extended(abundances[:1])[0])\n",
    "setbert_embeddings = np.array(setbert_embeddings)\n",
    "abundance_embeddings = np.array(abundance_embeddings)"
   ]
  },
  {
   "cell_type": "code",
   "execution_count": 34,
   "metadata": {},
   "outputs": [
    {
     "data": {
      "text/plain": [
       "((10, 10, 64), (10, 64))"
      ]
     },
     "execution_count": 34,
     "metadata": {},
     "output_type": "execute_result"
    }
   ],
   "source": [
    "setbert_embeddings.shape, abundance_embeddings.shape"
   ]
  },
  {
   "cell_type": "code",
   "execution_count": 35,
   "metadata": {},
   "outputs": [
    {
     "data": {
      "text/plain": [
       "((10, 10, 64), (10, 64))"
      ]
     },
     "execution_count": 35,
     "metadata": {},
     "output_type": "execute_result"
    }
   ],
   "source": [
    "setbert_embeddings.shape, abundance_embeddings.shape"
   ]
  },
  {
   "cell_type": "code",
   "execution_count": 36,
   "metadata": {},
   "outputs": [
    {
     "data": {
      "text/plain": [
       "array([ 0.23493323,  0.1609857 , -0.6371043 ,  0.555421  ,  0.12530869,\n",
       "       -0.1054996 ,  0.08486551, -0.62816805,  2.4994953 , -0.8302    ,\n",
       "        0.11913173,  0.34145445, -0.2160716 ,  0.20143044, -0.27557993,\n",
       "       -0.51477873,  0.01660376,  0.6334925 , -1.7541322 , -0.22942866,\n",
       "        0.20636275, -0.30893674, -0.01375998, -0.13954192,  0.3510427 ,\n",
       "       -0.2630775 , -2.068623  ,  0.5200734 , -0.3392195 ,  0.8186459 ,\n",
       "       -0.22274566, -0.27182475,  0.20742917, -0.4204604 , -0.85041183,\n",
       "       -0.6937672 ,  0.80162376,  0.48822808, -0.07593389,  1.54543   ,\n",
       "        0.09981705, -0.52047604,  0.48011866, -0.46471173,  0.6231598 ,\n",
       "        0.66941273,  0.46409938,  0.02099369,  0.1749788 ,  0.39185083,\n",
       "        0.3146797 ,  0.35489845, -0.45498502, -0.33089474, -0.52071893,\n",
       "        0.11098276,  0.3710928 ,  0.00799361, -0.60783166, -0.20822108,\n",
       "       -1.097124  ,  0.4239532 , -0.41855556, -0.12379114], dtype=float32)"
      ]
     },
     "execution_count": 36,
     "metadata": {},
     "output_type": "execute_result"
    }
   ],
   "source": [
    "abundance_embeddings[0]"
   ]
  },
  {
   "cell_type": "code",
   "execution_count": 37,
   "metadata": {},
   "outputs": [
    {
     "data": {
      "text/plain": [
       "array([-0.06540148,  0.2512551 , -0.97137433,  0.5055564 , -0.17780146,\n",
       "       -0.4007961 , -0.24420282, -0.6628572 ,  2.2081501 , -0.9819628 ,\n",
       "        0.36051166, -0.48031038,  0.56198823, -0.3234646 , -0.13274749,\n",
       "       -0.4398176 ,  0.6918367 ,  0.6997177 , -0.84157693, -0.14327808,\n",
       "        0.1886827 , -0.8330703 , -0.5413935 ,  0.33059096, -1.3482773 ,\n",
       "       -0.537605  , -1.908783  ,  0.3623497 ,  0.05326917,  1.047288  ,\n",
       "        0.08920138, -0.00885811,  0.28898025,  0.3684253 , -0.01592476,\n",
       "       -0.48912495,  0.13620262,  0.30853024,  0.03322767, -0.7312403 ,\n",
       "        0.90534896,  0.62253034,  1.4056015 , -0.6795624 ,  0.8325375 ,\n",
       "        0.019814  , -0.74577373, -0.08052646, -0.08254673, -0.44356075,\n",
       "        0.7488536 , -0.05542352, -0.23790932, -0.42408165, -0.8334842 ,\n",
       "       -0.33316708,  0.56212705,  0.11964705, -0.2532403 , -0.5805985 ,\n",
       "        0.26007873, -1.0174282 ,  0.25234   ,  0.40103012], dtype=float32)"
      ]
     },
     "execution_count": 37,
     "metadata": {},
     "output_type": "execute_result"
    }
   ],
   "source": [
    "np.mean(setbert_embeddings[0], axis=0)"
   ]
  },
  {
   "cell_type": "code",
   "execution_count": 38,
   "metadata": {},
   "outputs": [
    {
     "data": {
      "text/plain": [
       "0.53749615"
      ]
     },
     "execution_count": 38,
     "metadata": {},
     "output_type": "execute_result"
    }
   ],
   "source": [
    "a, b = abundance_embeddings[0], np.mean(setbert_embeddings[0], axis=0)\n",
    "np.dot(a, b)/np.linalg.norm(a)/np.linalg.norm(b)"
   ]
  },
  {
   "cell_type": "code",
   "execution_count": 39,
   "metadata": {},
   "outputs": [
    {
     "data": {
      "text/plain": [
       "(5.260441, 5.337238)"
      ]
     },
     "execution_count": 39,
     "metadata": {},
     "output_type": "execute_result"
    }
   ],
   "source": [
    "np.linalg.norm(a), np.linalg.norm(b)"
   ]
  },
  {
   "cell_type": "markdown",
   "metadata": {},
   "source": [
    "## MDS Projections"
   ]
  },
  {
   "cell_type": "code",
   "execution_count": 40,
   "metadata": {},
   "outputs": [],
   "source": [
    "from scipy.spatial.distance import cdist"
   ]
  },
  {
   "cell_type": "code",
   "execution_count": 41,
   "metadata": {},
   "outputs": [],
   "source": [
    "distance_measure = \"cityblock\"\n",
    "metric = True"
   ]
  },
  {
   "cell_type": "code",
   "execution_count": 42,
   "metadata": {},
   "outputs": [
    {
     "data": {
      "text/plain": [
       "(100, 100)"
      ]
     },
     "execution_count": 42,
     "metadata": {},
     "output_type": "execute_result"
    }
   ],
   "source": [
    "flat: np.ndarray = setbert_embeddings.reshape((-1, setbert_embeddings.shape[-1]))\n",
    "sb_distance_matrix = cdist(flat, flat, distance_measure)\n",
    "sb_distance_matrix.shape"
   ]
  },
  {
   "cell_type": "code",
   "execution_count": 43,
   "metadata": {},
   "outputs": [
    {
     "data": {
      "text/plain": [
       "(10, 10)"
      ]
     },
     "execution_count": 43,
     "metadata": {},
     "output_type": "execute_result"
    }
   ],
   "source": [
    "ab_distance_matrix = cdist(abundance_embeddings, abundance_embeddings, distance_measure)\n",
    "ab_distance_matrix.shape"
   ]
  },
  {
   "cell_type": "code",
   "execution_count": 44,
   "metadata": {},
   "outputs": [
    {
     "data": {
      "text/plain": [
       "(10, 10, 2)"
      ]
     },
     "execution_count": 44,
     "metadata": {},
     "output_type": "execute_result"
    }
   ],
   "source": [
    "sb_mds, _ = metrics.mds(sb_distance_matrix, ndim=2, metric=metric, seed=0)\n",
    "sb_mds = sb_mds.reshape(len(chosen_samples), -1, 2)\n",
    "sb_mds.shape"
   ]
  },
  {
   "cell_type": "code",
   "execution_count": 45,
   "metadata": {},
   "outputs": [
    {
     "data": {
      "text/plain": [
       "(10, 2)"
      ]
     },
     "execution_count": 45,
     "metadata": {},
     "output_type": "execute_result"
    }
   ],
   "source": [
    "ab_mds, _ = metrics.mds(ab_distance_matrix, ndim=2, metric=metric, seed=0)\n",
    "ab_mds.shape"
   ]
  },
  {
   "cell_type": "code",
   "execution_count": 46,
   "metadata": {},
   "outputs": [],
   "source": [
    "def mds_stress_analysis(dist_mat, dims, metric=True, seed=None, workers=1, **kwargs):\n",
    "    \"\"\"\n",
    "    Compute the MDS stress value for the given possible range of components.\n",
    "    \"\"\"\n",
    "    import multiprocessing\n",
    "    if isinstance(dims, int):\n",
    "        dims = range(1, dims+1)\n",
    "    dims = list(dims)\n",
    "    with multiprocessing.Pool(workers) as pool:\n",
    "        stresses = pool.map(metrics.MdsStressAnalysisProcess(\n",
    "            dist_mat, metric=metric, random_state=seed, **kwargs\n",
    "        ), dims)\n",
    "    print(stresses)\n",
    "    return dims, stresses #(1 - np.cumsum(stresses) / np.sum(stresses))"
   ]
  },
  {
   "cell_type": "code",
   "execution_count": 47,
   "metadata": {},
   "outputs": [],
   "source": [
    "sb_mds_stress = metrics.mds_stress_analysis(sb_distance_matrix, 64, metric=metric, seed=0, workers=1)\n",
    "ab_mds_stress = metrics.mds_stress_analysis(ab_distance_matrix, 64, metric=metric, seed=0, workers=1)"
   ]
  },
  {
   "cell_type": "code",
   "execution_count": 48,
   "metadata": {},
   "outputs": [
    {
     "data": {
      "image/png": "[encoded data removed]",
      "text/plain": [
       "<Figure size 1100x500 with 2 Axes>"
      ]
     },
     "metadata": {},
     "output_type": "display_data"
    }
   ],
   "source": [
    "plt.figure(figsize=(11, 5))\n",
    "plt.subplot(1, 2, 1)\n",
    "plt.title(f\"SetBERT:  Metric MDS\")\n",
    "for name, points in zip(sample_names, sb_mds):\n",
    "    plt.scatter(points[:,0], points[:,1], label=name, s=7)\n",
    "plt.xlim((np.min(sb_mds) - 1, np.max(sb_mds) + 1))\n",
    "plt.ylim((np.min(sb_mds) - 1, np.max(sb_mds) + 1))\n",
    "plt.legend(loc='center left', bbox_to_anchor=(1, 0.5),\n",
    "          fancybox=True, shadow=True, ncol=1)\n",
    "\n",
    "plt.subplot(1, 2, 2)\n",
    "plt.title(f\"Abundances:  Metric MDS\")\n",
    "for name, point in zip(sample_names, ab_mds):\n",
    "    plt.scatter([point[0]], [point[1]], label=name, s=15)\n",
    "\n",
    "plt.xlim((np.min(ab_mds) - 1, np.max(ab_mds) + 1))\n",
    "plt.ylim((np.min(ab_mds) - 1, np.max(ab_mds) + 1))\n",
    "# plt.subplot(1, 2, 2)\n",
    "# plt.title(\"MDS Stress Scree Plot\")\n",
    "# plt.plot(*mds_stress)\n",
    "# plt.xlabel(\"Number of Components\")\n",
    "# plt.ylabel(\"1 - Cumulative Stress\")\n",
    "# plt.tight_layout()\n",
    "# plt.savefig(\"mds_scree_plot.png\")\n",
    "plt.tight_layout()\n",
    "plt.show()"
   ]
  },
  {
   "cell_type": "code",
   "execution_count": 49,
   "metadata": {},
   "outputs": [
    {
     "data": {
      "text/plain": [
       "(110, 64)"
      ]
     },
     "execution_count": 49,
     "metadata": {},
     "output_type": "execute_result"
    }
   ],
   "source": [
    "flat = np.reshape(setbert_embeddings, (-1, 64))\n",
    "all_embeddings = np.concatenate((flat, abundance_embeddings), axis=0)\n",
    "all_embeddings.shape"
   ]
  },
  {
   "cell_type": "code",
   "execution_count": 50,
   "metadata": {},
   "outputs": [
    {
     "data": {
      "text/plain": [
       "(10, 64)"
      ]
     },
     "execution_count": 50,
     "metadata": {},
     "output_type": "execute_result"
    }
   ],
   "source": [
    "abundance_embeddings.shape"
   ]
  },
  {
   "cell_type": "code",
   "execution_count": 51,
   "metadata": {},
   "outputs": [
    {
     "data": {
      "text/plain": [
       "(110, 110)"
      ]
     },
     "execution_count": 51,
     "metadata": {},
     "output_type": "execute_result"
    }
   ],
   "source": [
    "distance_matrix = cdist(all_embeddings, all_embeddings, distance_measure)\n",
    "distance_matrix.shape"
   ]
  },
  {
   "cell_type": "code",
   "execution_count": 52,
   "metadata": {},
   "outputs": [
    {
     "data": {
      "text/plain": [
       "(110, 2)"
      ]
     },
     "execution_count": 52,
     "metadata": {},
     "output_type": "execute_result"
    }
   ],
   "source": [
    "mds, _ = metrics.mds(distance_matrix, ndim=2, metric=metric, seed=0)\n",
    "mds.shape"
   ]
  },
  {
   "cell_type": "code",
   "execution_count": 53,
   "metadata": {},
   "outputs": [],
   "source": [
    "sb_mds = mds[:100].reshape((10, 10, 2))\n",
    "ab_mds = mds[100:]"
   ]
  },
  {
   "cell_type": "code",
   "execution_count": 54,
   "metadata": {},
   "outputs": [
    {
     "data": {
      "image/png": "[encoded data removed]",
      "text/plain": [
       "<Figure size 600x500 with 1 Axes>"
      ]
     },
     "metadata": {},
     "output_type": "display_data"
    }
   ],
   "source": [
    "plt.figure(figsize=(6, 5))\n",
    "plt.title(f\"SetBERT & Abundance:  Metric MDS\")\n",
    "plt.scatter([], [], color=\"gray\", label=\"SetBERT\", s=7)\n",
    "plt.scatter([], [], color=\"gray\", label=\"Abundance\", s=25, marker='D')\n",
    "for name, points in zip(sample_names, sb_mds):\n",
    "    plt.scatter(points[:,0], points[:,1], label=name, marker='o', s=7)\n",
    "for name, point in zip(sample_names, ab_mds):\n",
    "    plt.scatter([point[0]], [point[1]], s=25, marker='D')\n",
    "plt.xlim((np.min((np.min(sb_mds), np.min(ab_mds))) - 1, np.max((np.max(sb_mds), np.max(ab_mds))) + 1))\n",
    "plt.ylim((np.min((np.min(sb_mds), np.min(ab_mds))) - 1, np.max((np.max(sb_mds), np.max(ab_mds))) + 1))\n",
    "plt.legend(loc='center left', bbox_to_anchor=(1, 0.5),\n",
    "          fancybox=True, shadow=True, ncol=1)\n",
    "plt.tight_layout()\n",
    "plt.show()"
   ]
  },
  {
   "cell_type": "code",
   "execution_count": 57,
   "metadata": {},
   "outputs": [
    {
     "name": "stderr",
     "output_type": "stream",
     "text": [
      "/opt/conda/lib/python3.10/site-packages/sklearn/manifold/_t_sne.py:800: FutureWarning: The default initialization in TSNE will change from 'random' to 'pca' in 1.2.\n",
      "  warnings.warn(\n",
      "/opt/conda/lib/python3.10/site-packages/sklearn/manifold/_t_sne.py:810: FutureWarning: The default learning rate in TSNE will change from 200.0 to 'auto' in 1.2.\n",
      "  warnings.warn(\n"
     ]
    },
    {
     "data": {
      "text/plain": [
       "(110, 2)"
      ]
     },
     "execution_count": 57,
     "metadata": {},
     "output_type": "execute_result"
    }
   ],
   "source": [
    "NPCs = TSNE(n_components=2, metric=\"precomputed\").fit_transform(distance_matrix)\n",
    "NPCs.shape"
   ]
  },
  {
   "cell_type": "code",
   "execution_count": 58,
   "metadata": {},
   "outputs": [],
   "source": [
    "sb_npcs = NPCs[:100].reshape((10, 10, 2))\n",
    "ab_npcs = NPCs[100:]"
   ]
  },
  {
   "cell_type": "code",
   "execution_count": 59,
   "metadata": {},
   "outputs": [
    {
     "data": {
      "image/png": "[encoded data removed]",
      "text/plain": [
       "<Figure size 600x500 with 1 Axes>"
      ]
     },
     "metadata": {},
     "output_type": "display_data"
    }
   ],
   "source": [
    "plt.figure(figsize=(6, 5))\n",
    "plt.title(f\"SetBERT & Abundance: t-SNE\")\n",
    "plt.scatter([], [], color=\"gray\", label=\"SetBERT\", s=7)\n",
    "plt.scatter([], [], color=\"gray\", label=\"Abundance\", s=25, marker='D')\n",
    "for name, points in zip(sample_names, sb_npcs):\n",
    "    plt.scatter(points[:,0], points[:,1], label=name, marker='o', s=7)\n",
    "for name, point in zip(sample_names, ab_npcs):\n",
    "    plt.scatter([point[0]], [point[1]], s=25, marker='D')\n",
    "plt.xlim((np.min(NPCs) - 1, np.max(NPCs) + 1))\n",
    "plt.ylim((np.min(NPCs) - 1, np.max(NPCs) + 1))\n",
    "plt.legend(loc='center left', bbox_to_anchor=(1, 0.5),\n",
    "          fancybox=True, shadow=True, ncol=1)\n",
    "plt.tight_layout()\n",
    "plt.show()"
   ]
  },
  {
   "cell_type": "code",
   "execution_count": 60,
   "metadata": {},
   "outputs": [
    {
     "data": {
      "text/plain": [
       "['Ur1.B',\n",
       " 'Ur10.B',\n",
       " 'Ur11.B',\n",
       " 'Ur12.B',\n",
       " 'Ur13.B',\n",
       " 'Ur14.B',\n",
       " 'Ur15.B',\n",
       " 'Ur16.B',\n",
       " 'Ur17.B',\n",
       " 'Ur18.B',\n",
       " 'Ur19.B',\n",
       " 'Ur2.B',\n",
       " 'Ur20.B',\n",
       " 'Ur21.B',\n",
       " 'Ur22.B',\n",
       " 'Ur23.B',\n",
       " 'Ur24.B',\n",
       " 'Ur25.B',\n",
       " 'Ur26.B',\n",
       " 'Ur27.B',\n",
       " 'Ur28.B',\n",
       " 'Ur29.B',\n",
       " 'Ur3.B',\n",
       " 'Ur30.B',\n",
       " 'Ur31.B',\n",
       " 'Ur32.B',\n",
       " 'Ur33.B',\n",
       " 'Ur34.B',\n",
       " 'Ur35.B',\n",
       " 'Ur36.B',\n",
       " 'Ur37.B',\n",
       " 'Ur38.B',\n",
       " 'Ur39.B',\n",
       " 'Ur4.B',\n",
       " 'Ur40.B',\n",
       " 'Ur41.B',\n",
       " 'Ur42.B',\n",
       " 'Ur43.B',\n",
       " 'Ur44.B',\n",
       " 'Ur45.B',\n",
       " 'Ur46.B',\n",
       " 'Ur47.B',\n",
       " 'Ur48.B',\n",
       " 'Ur49.B',\n",
       " 'Ur5.B',\n",
       " 'Ur50.B',\n",
       " 'Ur51.B',\n",
       " 'Ur52.B',\n",
       " 'Ur53.B',\n",
       " 'Ur54.B',\n",
       " 'Ur55.B',\n",
       " 'Ur56.B',\n",
       " 'Ur57.B',\n",
       " 'Ur58.B',\n",
       " 'Ur59.B',\n",
       " 'Ur6.B',\n",
       " 'Ur60.B',\n",
       " 'Ur61.B',\n",
       " 'Ur62.B',\n",
       " 'Ur63.B',\n",
       " 'Ur64.B',\n",
       " 'Ur7.B',\n",
       " 'Ur8.B',\n",
       " 'Ur9.B',\n",
       " 'Ur1.R',\n",
       " 'Ur10.R',\n",
       " 'Ur11.R',\n",
       " 'Ur12.R',\n",
       " 'Ur13.R',\n",
       " 'Ur14.R',\n",
       " 'Ur15.R',\n",
       " 'Ur16.R',\n",
       " 'Ur17.R',\n",
       " 'Ur18.R',\n",
       " 'Ur19.R',\n",
       " 'Ur2.R',\n",
       " 'Ur20.R',\n",
       " 'Ur21.R',\n",
       " 'Ur22.R',\n",
       " 'Ur23.R',\n",
       " 'Ur24.R',\n",
       " 'Ur25.R',\n",
       " 'Ur26.R',\n",
       " 'Ur27.R',\n",
       " 'Ur28.R',\n",
       " 'Ur29.R',\n",
       " 'Ur3.R',\n",
       " 'Ur30.R',\n",
       " 'Ur31.R',\n",
       " 'Ur32.R',\n",
       " 'Ur33.R',\n",
       " 'Ur34.R',\n",
       " 'Ur35.R',\n",
       " 'Ur36.R',\n",
       " 'Ur37.R',\n",
       " 'Ur38.R',\n",
       " 'Ur39.R',\n",
       " 'Ur4.R',\n",
       " 'Ur40.R',\n",
       " 'Ur41.R',\n",
       " 'Ur42.R',\n",
       " 'Ur43.R',\n",
       " 'Ur44.R',\n",
       " 'Ur45.R',\n",
       " 'Ur46.R',\n",
       " 'Ur47.R',\n",
       " 'Ur48.R',\n",
       " 'Ur49.R',\n",
       " 'Ur5.R',\n",
       " 'Ur50.R',\n",
       " 'Ur51.R',\n",
       " 'Ur52.R',\n",
       " 'Ur53.R',\n",
       " 'Ur54.R',\n",
       " 'Ur55.R',\n",
       " 'Ur56.R',\n",
       " 'Ur57.R',\n",
       " 'Ur58.R',\n",
       " 'Ur59.R',\n",
       " 'Ur6.R',\n",
       " 'Ur60.R',\n",
       " 'Ur61.R',\n",
       " 'Ur62.R',\n",
       " 'Ur63.R',\n",
       " 'Ur64.R',\n",
       " 'Ur7.R',\n",
       " 'Ur8.R',\n",
       " 'Ur9.R']"
      ]
     },
     "execution_count": 60,
     "metadata": {},
     "output_type": "execute_result"
    }
   ],
   "source": [
    "sorted_samples = [s for s in sorted(samples, key=lambda s: s.name)]\n",
    "sorted_samples = sorted_samples[::2] + sorted_samples[1::2]\n",
    "sample_names = [s.name for s in sorted_samples]\n",
    "len(sample_names)"
   ]
  },
  {
   "cell_type": "markdown",
   "metadata": {},
   "source": [
    "Ensure the Rs and Bs are partitioned."
   ]
  },
  {
   "cell_type": "code",
   "execution_count": 61,
   "metadata": {},
   "outputs": [],
   "source": [
    "for name in sample_names[:len(sample_names) // 2]:\n",
    "    assert name.endswith(\".B\")\n",
    "for name in sample_names[len(sample_names) // 2:]:\n",
    "    assert name.endswith(\".R\")"
   ]
  },
  {
   "cell_type": "markdown",
   "metadata": {},
   "source": [
    "Draw random subsamples using the SequenceSampler."
   ]
  },
  {
   "cell_type": "code",
   "execution_count": 62,
   "metadata": {},
   "outputs": [
    {
     "name": "stdout",
     "output_type": "stream",
     "text": [
      "128/128"
     ]
    },
    {
     "data": {
      "text/plain": [
       "(128, 10, 64)"
      ]
     },
     "execution_count": 62,
     "metadata": {},
     "output_type": "execute_result"
    }
   ],
   "source": [
    "rng = np.random.default_rng()\n",
    "sb_subsamples_list = []\n",
    "for i, s in enumerate(sorted_samples):\n",
    "    print(f\"\\r{i+1}/{len(sorted_samples)}\", end=\"\")\n",
    "    sequences, _ = SequenceGenerator(\n",
    "        [s],\n",
    "        sequence_length=150,\n",
    "        kmer=3,\n",
    "        subsample_size=1000,\n",
    "        batch_size=10,\n",
    "        batches_per_epoch=1,\n",
    "        rng=rng)[0]\n",
    "    sb_subsamples_list.append(setbert_encoder_extended.predict(sequences, verbose=0))\n",
    "sb_subsamples = np.array(sb_subsamples_list)\n",
    "sb_subsamples.shape"
   ]
  },
  {
   "cell_type": "code",
   "execution_count": 63,
   "metadata": {},
   "outputs": [
    {
     "data": {
      "text/plain": [
       "(128, 64)"
      ]
     },
     "execution_count": 63,
     "metadata": {},
     "output_type": "execute_result"
    }
   ],
   "source": [
    "ab_subsamples = []\n",
    "for s in sorted_samples:\n",
    "    embedding = abundance_encoder_extended.predict(np.array([labels[s.name]]), verbose=0)\n",
    "    ab_subsamples.append(embedding.squeeze())\n",
    "ab_subsamples = np.array(ab_subsamples)\n",
    "ab_subsamples.shape"
   ]
  },
  {
   "cell_type": "markdown",
   "metadata": {},
   "source": [
    "## MDS Projections"
   ]
  },
  {
   "cell_type": "code",
   "execution_count": 64,
   "metadata": {},
   "outputs": [],
   "source": [
    "distance_measure = \"cityblock\"\n",
    "metric = True"
   ]
  },
  {
   "cell_type": "code",
   "execution_count": 65,
   "metadata": {},
   "outputs": [
    {
     "data": {
      "text/plain": [
       "(1280, 1280)"
      ]
     },
     "execution_count": 65,
     "metadata": {},
     "output_type": "execute_result"
    }
   ],
   "source": [
    "flat: np.ndarray = sb_subsamples.reshape((-1, sb_subsamples.shape[-1]))\n",
    "sb_distance_matrix = cdist(flat, flat, distance_measure)\n",
    "sb_distance_matrix.shape"
   ]
  },
  {
   "cell_type": "code",
   "execution_count": 66,
   "metadata": {},
   "outputs": [
    {
     "data": {
      "text/plain": [
       "(1280, 2)"
      ]
     },
     "execution_count": 66,
     "metadata": {},
     "output_type": "execute_result"
    }
   ],
   "source": [
    "sb_mds, _ = metrics.mds(sb_distance_matrix, ndim=2, metric=metric)\n",
    "# mds = mds.reshape(len(samples), -1, 2)\n",
    "sb_mds.shape"
   ]
  },
  {
   "cell_type": "code",
   "execution_count": 67,
   "metadata": {},
   "outputs": [
    {
     "data": {
      "text/plain": [
       "(128, 128)"
      ]
     },
     "execution_count": 67,
     "metadata": {},
     "output_type": "execute_result"
    }
   ],
   "source": [
    "ab_distance_matrix = cdist(ab_subsamples, ab_subsamples)\n",
    "ab_distance_matrix.shape"
   ]
  },
  {
   "cell_type": "code",
   "execution_count": 68,
   "metadata": {},
   "outputs": [
    {
     "data": {
      "text/plain": [
       "(128, 2)"
      ]
     },
     "execution_count": 68,
     "metadata": {},
     "output_type": "execute_result"
    }
   ],
   "source": [
    "ab_mds, _ = metrics.mds(ab_distance_matrix, ndim=2, metric=metric)\n",
    "ab_mds.shape"
   ]
  },
  {
   "cell_type": "code",
   "execution_count": 69,
   "metadata": {},
   "outputs": [],
   "source": [
    "# samples_to_remove = [10, 116]\n",
    "# for i in samples_to_remove:\n",
    "#     print(sample_names[i])"
   ]
  },
  {
   "cell_type": "code",
   "execution_count": 70,
   "metadata": {},
   "outputs": [],
   "source": [
    "# mod_sb_mds = sb_mds\n",
    "# for i in sorted(samples_to_remove, reverse=True):\n",
    "#     mod_sb_mds = np.concatenate((mod_sb_mds[:i*10], mod_sb_mds[(i+1)*10:]))\n",
    "# mod_sb_mds.shape"
   ]
  },
  {
   "cell_type": "code",
   "execution_count": 71,
   "metadata": {},
   "outputs": [],
   "source": [
    "# np.where(mod_sb_mds[:,1] < -6)"
   ]
  },
  {
   "cell_type": "code",
   "execution_count": 72,
   "metadata": {},
   "outputs": [],
   "source": [
    "# mds_stress = metrics.mds_stress_analysis(distance_matrix, 64, metric=metric, seed=SEED, workers=1)"
   ]
  },
  {
   "cell_type": "code",
   "execution_count": 73,
   "metadata": {},
   "outputs": [
    {
     "data": {
      "image/png": "[encoded data removed]",
      "text/plain": [
       "<Figure size 800x400 with 2 Axes>"
      ]
     },
     "metadata": {},
     "output_type": "display_data"
    }
   ],
   "source": [
    "plt.figure(figsize=(8, 4))\n",
    "plt.suptitle(f\"Metric MDS Plots of {len(samples)} Sample Embeddings from Each Model\")\n",
    "\n",
    "plt.subplot(1, 2, 1)\n",
    "plt.title(f\"SetBERT Encoder\")\n",
    "x, y = sb_mds.T\n",
    "plt.scatter(x[:len(sb_mds)//2], y[:len(sb_mds)//2], label=\"B\", s=7)\n",
    "plt.scatter(x[len(sb_mds)//2:], y[len(sb_mds)//2:], label=\"R\", s=7)\n",
    "plt.xlim((np.min(sb_mds) - 1, np.max(sb_mds) + 1))\n",
    "plt.ylim((np.min(sb_mds) - 1, np.max(sb_mds) + 1))\n",
    "plt.legend(loc='center left', bbox_to_anchor=(1, 0.5),\n",
    "          fancybox=True, shadow=True, ncol=1)\n",
    "\n",
    "plt.subplot(1, 2, 2)\n",
    "plt.title(f\"Abundance Encoder\")\n",
    "x, y = ab_mds.T\n",
    "plt.scatter(x[:len(ab_mds)//2], y[:len(ab_mds)//2], label=\"B\", s=7)\n",
    "plt.scatter(x[len(ab_mds)//2:], y[len(ab_mds)//2:], label=\"R\", s=7)\n",
    "plt.xlim((np.min(ab_mds) - 10, np.max(ab_mds) + 10))\n",
    "plt.ylim((np.min(ab_mds) - 10, np.max(ab_mds) + 10))\n",
    "plt.tight_layout()\n",
    "plt.show()"
   ]
  },
  {
   "cell_type": "code",
   "execution_count": 74,
   "metadata": {},
   "outputs": [
    {
     "data": {
      "text/plain": [
       "(1408, 64)"
      ]
     },
     "execution_count": 74,
     "metadata": {},
     "output_type": "execute_result"
    }
   ],
   "source": [
    "flat = np.reshape(sb_subsamples, (-1, 64))\n",
    "flat = np.concatenate((flat, ab_subsamples), axis=0)\n",
    "flat.shape"
   ]
  },
  {
   "cell_type": "code",
   "execution_count": 75,
   "metadata": {},
   "outputs": [
    {
     "data": {
      "text/plain": [
       "(1408, 1408)"
      ]
     },
     "execution_count": 75,
     "metadata": {},
     "output_type": "execute_result"
    }
   ],
   "source": [
    "distance_matrix = cdist(flat, flat, distance_measure)\n",
    "distance_matrix.shape"
   ]
  },
  {
   "cell_type": "code",
   "execution_count": 76,
   "metadata": {},
   "outputs": [
    {
     "data": {
      "text/plain": [
       "(1408, 2)"
      ]
     },
     "execution_count": 76,
     "metadata": {},
     "output_type": "execute_result"
    }
   ],
   "source": [
    "mds, _ = metrics.mds(distance_matrix, ndim=2, metric=metric)\n",
    "mds.shape"
   ]
  },
  {
   "cell_type": "code",
   "execution_count": 77,
   "metadata": {},
   "outputs": [
    {
     "data": {
      "text/plain": [
       "((1280, 2), (128, 2))"
      ]
     },
     "execution_count": 77,
     "metadata": {},
     "output_type": "execute_result"
    }
   ],
   "source": [
    "sb_mds, ab_mds = mds[:1280], mds[1280:]\n",
    "sb_mds.shape, ab_mds.shape"
   ]
  },
  {
   "cell_type": "code",
   "execution_count": 78,
   "metadata": {},
   "outputs": [
    {
     "data": {
      "text/plain": [
       "((640, 2), (640, 2))"
      ]
     },
     "execution_count": 78,
     "metadata": {},
     "output_type": "execute_result"
    }
   ],
   "source": [
    "sb_b = sb_mds[:len(sb_mds)//2]\n",
    "sb_r = sb_mds[len(sb_mds)//2:]\n",
    "sb_b.shape, sb_r.shape"
   ]
  },
  {
   "cell_type": "code",
   "execution_count": 79,
   "metadata": {},
   "outputs": [
    {
     "data": {
      "text/plain": [
       "((64, 2), (64, 2))"
      ]
     },
     "execution_count": 79,
     "metadata": {},
     "output_type": "execute_result"
    }
   ],
   "source": [
    "ab_b = ab_mds[:len(ab_mds)//2]\n",
    "ab_r = ab_mds[len(ab_mds)//2:]\n",
    "ab_b.shape, ab_r.shape"
   ]
  },
  {
   "cell_type": "code",
   "execution_count": 80,
   "metadata": {},
   "outputs": [],
   "source": [
    "import matplotlib as mpl\n",
    "cmap = mpl.colormaps[\"tab10\"]"
   ]
  },
  {
   "cell_type": "code",
   "execution_count": 81,
   "metadata": {},
   "outputs": [
    {
     "data": {
      "image/png": "[encoded data removed]",
      "text/plain": [
       "<Figure size 600x500 with 1 Axes>"
      ]
     },
     "metadata": {},
     "output_type": "display_data"
    }
   ],
   "source": [
    "plt.figure(figsize=(6, 5))\n",
    "plt.title(f\"Metric MDS Plots of {len(samples)} Sample Embeddings from Each Model\")\n",
    "\n",
    "plt.scatter([], [], label=\"SetBERT\", s=7, color='gray')\n",
    "plt.scatter([], [], label=\"Abundance\", s=7, marker='d', color='gray')\n",
    "\n",
    "x, y = sb_mds.T\n",
    "t = plt.scatter(x[:len(sb_mds)//2], y[:len(sb_mds)//2], label=\"B\", s=5, color=cmap.colors[0])\n",
    "plt.scatter(x[len(sb_mds)//2:], y[len(sb_mds)//2:], label=\"R\", s=5, color=cmap.colors[1])\n",
    "\n",
    "x, y = ab_mds.T\n",
    "plt.scatter(x[:len(ab_mds)//2], y[:len(ab_mds)//2], s=50, marker='d', color=cmap.colors[0])\n",
    "plt.scatter(x[len(ab_mds)//2:], y[len(ab_mds)//2:], s=50, marker='d', color=cmap.colors[1])\n",
    "\n",
    "plt.xlim((np.min(mds) - 1, np.max(mds) + 1))\n",
    "plt.ylim((np.min(mds) - 1, np.max(mds) + 1))\n",
    "plt.legend(loc='center left', bbox_to_anchor=(1, 0.5),\n",
    "          fancybox=True, shadow=True, ncol=1)\n",
    "plt.tight_layout()\n",
    "plt.show()"
   ]
  },
  {
   "cell_type": "markdown",
   "metadata": {},
   "source": [
    "## tSNE"
   ]
  },
  {
   "cell_type": "code",
   "execution_count": 82,
   "metadata": {},
   "outputs": [],
   "source": [
    "from sklearn.manifold import TSNE"
   ]
  },
  {
   "cell_type": "code",
   "execution_count": 83,
   "metadata": {},
   "outputs": [
    {
     "data": {
      "text/plain": [
       "(1408, 1408)"
      ]
     },
     "execution_count": 83,
     "metadata": {},
     "output_type": "execute_result"
    }
   ],
   "source": [
    "distance_matrix.shape"
   ]
  },
  {
   "cell_type": "code",
   "execution_count": 84,
   "metadata": {},
   "outputs": [
    {
     "name": "stderr",
     "output_type": "stream",
     "text": [
      "/opt/conda/lib/python3.10/site-packages/sklearn/manifold/_t_sne.py:800: FutureWarning: The default initialization in TSNE will change from 'random' to 'pca' in 1.2.\n",
      "  warnings.warn(\n",
      "/opt/conda/lib/python3.10/site-packages/sklearn/manifold/_t_sne.py:810: FutureWarning: The default learning rate in TSNE will change from 200.0 to 'auto' in 1.2.\n",
      "  warnings.warn(\n"
     ]
    },
    {
     "name": "stdout",
     "output_type": "stream",
     "text": [
      "CPU times: user 2min 20s, sys: 3.79 s, total: 2min 24s\n",
      "Wall time: 2.37 s\n"
     ]
    }
   ],
   "source": [
    "%%time\n",
    "\n",
    "NPCs = TSNE(n_components=2, metric=\"precomputed\").fit_transform(distance_matrix)"
   ]
  },
  {
   "cell_type": "code",
   "execution_count": 85,
   "metadata": {},
   "outputs": [
    {
     "data": {
      "text/plain": [
       "(1408, 2)"
      ]
     },
     "execution_count": 85,
     "metadata": {},
     "output_type": "execute_result"
    }
   ],
   "source": [
    "NPCs.shape"
   ]
  },
  {
   "cell_type": "code",
   "execution_count": 86,
   "metadata": {},
   "outputs": [
    {
     "data": {
      "text/plain": [
       "((1280, 2), (128, 2))"
      ]
     },
     "execution_count": 86,
     "metadata": {},
     "output_type": "execute_result"
    }
   ],
   "source": [
    "sb_npc, ab_npc = NPCs[:1280], NPCs[1280:]\n",
    "sb_npc.shape, ab_npc.shape"
   ]
  },
  {
   "cell_type": "code",
   "execution_count": 87,
   "metadata": {},
   "outputs": [
    {
     "data": {
      "text/plain": [
       "((640, 2), (640, 2))"
      ]
     },
     "execution_count": 87,
     "metadata": {},
     "output_type": "execute_result"
    }
   ],
   "source": [
    "sb_b = sb_npc[:len(sb_npc)//2]\n",
    "sb_r = sb_npc[len(sb_npc)//2:]\n",
    "sb_b.shape, sb_r.shape"
   ]
  },
  {
   "cell_type": "code",
   "execution_count": 88,
   "metadata": {},
   "outputs": [
    {
     "data": {
      "text/plain": [
       "((64, 2), (64, 2))"
      ]
     },
     "execution_count": 88,
     "metadata": {},
     "output_type": "execute_result"
    }
   ],
   "source": [
    "ab_b = ab_npc[:len(ab_npc)//2]\n",
    "ab_r = ab_npc[len(ab_npc)//2:]\n",
    "ab_b.shape, ab_r.shape"
   ]
  },
  {
   "cell_type": "code",
   "execution_count": 89,
   "metadata": {},
   "outputs": [
    {
     "data": {
      "text/plain": [
       "(0.12156862745098039, 0.4666666666666667, 0.7058823529411765)"
      ]
     },
     "execution_count": 89,
     "metadata": {},
     "output_type": "execute_result"
    }
   ],
   "source": [
    "cmap.colors[0]"
   ]
  },
  {
   "cell_type": "code",
   "execution_count": 90,
   "metadata": {},
   "outputs": [
    {
     "data": {
      "image/png": "[encoded data removed]",
      "text/plain": [
       "<Figure size 600x500 with 1 Axes>"
      ]
     },
     "metadata": {},
     "output_type": "display_data"
    }
   ],
   "source": [
    "plt.figure(figsize=(6, 5))\n",
    "plt.title(f\"tSNE Plot of {len(samples)} Sample Embeddings\")\n",
    "\n",
    "plt.scatter([], [], label=\"SetBERT\", s=7, color='gray')\n",
    "plt.scatter([], [], label=\"Abundance\", s=7, marker='d', color='gray')\n",
    "\n",
    "x, y = ab_npc.T\n",
    "plt.scatter(x[:len(ab_npc)//2], y[:len(ab_npc)//2], s=50, marker='d', color=np.array(cmap.colors[0])*0.7)\n",
    "plt.scatter(x[len(ab_npc)//2:], y[len(ab_npc)//2:], s=50, marker='d', color=np.array(cmap.colors[1])*0.7)\n",
    "\n",
    "x, y = sb_npc.T\n",
    "t = plt.scatter(x[:len(sb_npc)//2], y[:len(sb_npc)//2], label=\"B\", s=5, color=cmap.colors[0])\n",
    "plt.scatter(x[len(sb_npc)//2:], y[len(sb_npc)//2:], label=\"R\", s=5, color=cmap.colors[1])\n",
    "\n",
    "plt.xlim((np.min(NPCs) - 1, np.max(NPCs) + 1))\n",
    "plt.ylim((np.min(NPCs) - 1, np.max(NPCs) + 1))\n",
    "plt.legend(loc='center left', bbox_to_anchor=(1, 0.5),\n",
    "          fancybox=True, shadow=True, ncol=1)\n",
    "plt.tight_layout()\n",
    "plt.show()"
   ]
  },
  {
   "cell_type": "code",
   "execution_count": null,
   "metadata": {},
   "outputs": [],
   "source": []
  }
 ],
 "metadata": {
  "kernelspec": {
   "display_name": "Python 3 (ipykernel)",
   "language": "python",
   "name": "python3"
  },
  "language_info": {
   "codemirror_mode": {
    "name": "ipython",
    "version": 3
   },
   "file_extension": ".py",
   "mimetype": "text/x-python",
   "name": "python",
   "nbconvert_exporter": "python",
   "pygments_lexer": "ipython3",
   "version": "3.10.6"
  }
 },
 "nbformat": 4,
 "nbformat_minor": 4
}
