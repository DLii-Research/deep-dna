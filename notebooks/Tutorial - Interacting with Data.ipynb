{
 "cells": [
  {
   "cell_type": "markdown",
   "id": "f79f3bfd-06e4-49b3-b3f0-ba552fe8cd47",
   "metadata": {},
   "source": [
    "# Tutorial: Interacting with Data\n",
    "\n",
    "This notebook will provide a demonstration for converting common data formats into formats that the data generators/loaders can handle. Most of the utilities needed for handling datasets come from the [dnadb](https://github.com/DLii-Research/dnadb) library."
   ]
  },
  {
   "cell_type": "markdown",
   "id": "0e8574b3-1122-419e-b12b-5009bc5e3b2b",
   "metadata": {},
   "source": [
    "---\n",
    "\n",
    "## Paths\n",
    "\n",
    "Below quickly imports the Path class from `pathlib` to make dealing with paths easier, as well as sets the dataset root to work with."
   ]
  },
  {
   "cell_type": "code",
   "execution_count": 1,
   "id": "98021701-f8c0-4c9f-8235-4caddb10d38f",
   "metadata": {},
   "outputs": [],
   "source": [
    "from pathlib import Path"
   ]
  },
  {
   "cell_type": "code",
   "execution_count": 2,
   "id": "df55802d-0596-42e7-a927-ae41d7aaecd5",
   "metadata": {},
   "outputs": [],
   "source": [
    "sfd_fasta_file = \"/home/shared/walker_lab/alex/P_A_221205_cmfp.trim.contigs.pcr.good.unique.good.filter.unique.precluster.denovo.vsearch.pick.opti_mcc.0.03.pick.0.03.abund.0.03.pick.fasta\"\n",
    "otu_list_path = \"/home/shared/walker_lab/digitalocean/Alex_SFD/shared_list/221205_cmfp.trim.contigs.pcr.good.unique.good.filter.unique.precluster.denovo.vsearch.asv.list\"\n",
    "otu_shared_path = \"/home/shared/walker_lab/digitalocean/Alex_SFD/shared_list/221205_cmfp.trim.contigs.pcr.good.unique.good.filter.unique.precluster.denovo.vsearch.asv.shared\""
   ]
  },
  {
   "cell_type": "markdown",
   "id": "330dc5a5-fabd-4138-aa92-2a5ac61c38f4",
   "metadata": {},
   "source": [
    "---\n",
    "\n",
    "## Interfacing with FASTA Files\n",
    "\n"
   ]
  },
  {
   "cell_type": "code",
   "execution_count": 3,
   "id": "63c94fab-d8ff-4787-9038-0e3c91d245a6",
   "metadata": {},
   "outputs": [],
   "source": [
    "from dnadb import fasta"
   ]
  },
  {
   "cell_type": "markdown",
   "id": "cef7cdee-2654-4185-a852-091a315c16ba",
   "metadata": {},
   "source": [
    "In order to read entries out of a FASTA file, we use the `fasta.entries` function. This function returns a generator, meaning that it will not read an entry until requested. This allows us to work with FASTA files of any size without ever running out of memory."
   ]
  },
  {
   "cell_type": "code",
   "execution_count": 21,
   "id": "e5b13bb2-55f3-4645-871e-0f218525806e",
   "metadata": {},
   "outputs": [
    {
     "data": {
      "text/plain": [
       "<generator object entries at 0x7f4b5f51cac0>"
      ]
     },
     "execution_count": 21,
     "metadata": {},
     "output_type": "execute_result"
    }
   ],
   "source": [
    "entries = fasta.entries(sfd_fasta_file)\n",
    "entries"
   ]
  },
  {
   "cell_type": "code",
   "execution_count": 24,
   "id": "2cb9dc8f-d874-4ff1-a122-2c9d5e3661ff",
   "metadata": {},
   "outputs": [
    {
     "name": "stdout",
     "output_type": "stream",
     "text": [
      ">M03064_61_000000000-CKV98_1_2104_9506_7395 CMFP657\tOtu000002\tNumRep=1\n",
      "T--AC--GT-AG-GGT----GCG-A-G----C--G--T---T--GT-C-CGG-AA-----TT-A--T-T--GG-GC------GT--A-----AA-GA-GC-TT-------G-TA-G-G-C-G---------------G--T-TT-G-T-C-------------GC----G-T-C-T----------------G-C-T--G--TG--A-AA-AT--C-C-GG-G-G------------------------CT-C-AA-------------------------C-C-C-C-G-G-A--C-T----T-G--C-A---G--T-----------------------G--GG-T-A---C-----------G--G-G--CA--G-A-C------------------------------------------------------------------------------T-A-G-A-G-T--G-----T-GG------TA-G-G-------------------G-G-A-G---AC-T------------------------------GG--A--ATT--------------------------C-C-T-G-GT--GT-A-G-CG-GT--G---------G--A-A-----------------TG-C-GC-AG--AT-A-TC-------------------A-G------G-A------A-G-A-AC-A-CC-----------------GA--T--T--GC-GAA-G--G-C----A--------G--G-T-C-T---CTG--------G--GC-C-A-----------------------------C-T--------A-C-T--GA--CG-----C--------T-G--A-GA--A-G-CG-A--AA-G-C------A-TG--GG-G--AG-C-G-AA----CA-GG\n"
     ]
    }
   ],
   "source": [
    "# Read a single entry\n",
    "entry = next(entries)\n",
    "print(entry)"
   ]
  },
  {
   "cell_type": "code",
   "execution_count": 27,
   "id": "8850ffdd-7c24-4d4a-ad79-11fdf1133e63",
   "metadata": {},
   "outputs": [
    {
     "data": {
      "text/plain": [
       "'M03064_61_000000000-CKV98_1_2104_9506_7395'"
      ]
     },
     "execution_count": 27,
     "metadata": {},
     "output_type": "execute_result"
    }
   ],
   "source": [
    "# Access the entry identifier\n",
    "entry.identifier"
   ]
  },
  {
   "cell_type": "code",
   "execution_count": 28,
   "id": "6e4850fe-7a16-4d68-93ad-4f626696734a",
   "metadata": {},
   "outputs": [
    {
     "data": {
      "text/plain": [
       "'T--AC--GT-AG-GGT----GCG-A-G----C--G--T---T--GT-C-CGG-AA-----TT-A--T-T--GG-GC------GT--A-----AA-GA-GC-TT-------G-TA-G-G-C-G---------------G--T-TT-G-T-C-------------GC----G-T-C-T----------------G-C-T--G--TG--A-AA-AT--C-C-GG-G-G------------------------CT-C-AA-------------------------C-C-C-C-G-G-A--C-T----T-G--C-A---G--T-----------------------G--GG-T-A---C-----------G--G-G--CA--G-A-C------------------------------------------------------------------------------T-A-G-A-G-T--G-----T-GG------TA-G-G-------------------G-G-A-G---AC-T------------------------------GG--A--ATT--------------------------C-C-T-G-GT--GT-A-G-CG-GT--G---------G--A-A-----------------TG-C-GC-AG--AT-A-TC-------------------A-G------G-A------A-G-A-AC-A-CC-----------------GA--T--T--GC-GAA-G--G-C----A--------G--G-T-C-T---CTG--------G--GC-C-A-----------------------------C-T--------A-C-T--GA--CG-----C--------T-G--A-GA--A-G-CG-A--AA-G-C------A-TG--GG-G--AG-C-G-AA----CA-GG'"
      ]
     },
     "execution_count": 28,
     "metadata": {},
     "output_type": "execute_result"
    }
   ],
   "source": [
    "# Access the entry's sequence\n",
    "entry.sequence"
   ]
  },
  {
   "cell_type": "code",
   "execution_count": 75,
   "id": "286b81b5-33c7-41ad-b5ce-719d7e8c823a",
   "metadata": {},
   "outputs": [
    {
     "name": "stdout",
     "output_type": "stream",
     "text": [
      "CMFP13\tOtu000002\tNumRep=1\n"
     ]
    }
   ],
   "source": [
    "# Access the entry's metadata line\n",
    "print(entry.extra)"
   ]
  },
  {
   "cell_type": "code",
   "execution_count": 23,
   "id": "fb60cd83-11f7-4de6-8e3c-b4ab2b5fdf4b",
   "metadata": {},
   "outputs": [
    {
     "name": "stdout",
     "output_type": "stream",
     "text": [
      ">M03064_23_000000000-C8T53_1_1103_13633_21201 CMFP171-CMFP377-CMFP900\tOtu000002\tNumRep=6\n",
      "T--AC--GT-AG-GGT----GCA-A-G----C--G--T---T--GT-C-CGG-AA-----TT-A--T-T--GG-GC------GT--A-----AA-GA-GC-TC-------G-TA-G-G-C-G---------------G--T-TT-G-T-C-------------GC----G-T-C-T----------------G-C-T--G--TG--A-AA-AT--C-C-GG-G-G------------------------CT-C-AA-------------------------C-C-C-C-G-G-A--C-T----T-G--C-G---G--T-----------------------G--GG-T-A---C-----------G--G-G--CA--G-A-C------------------------------------------------------------------------------T-A-G-A-G-T--G-----T-GG------TA-G-G-------------------G-G-A-G---AC-T------------------------------GG--A--ATT--------------------------C-C-T-G-GT--GT-A-G-CG-GT--G---------A--A-A-----------------TG-C-GC-AG--AT-A-TC-------------------A-G------G-A------G-G-A-AC-A-CC-----------------GA--T--G--GC-GAA-G--G-C----A--------G--G-T-C-T---CTG--------G--GC-C-A-----------------------------C-T--------A-C-T--GA--CG-----C--------T-G--A-GA--A-G-CG-A--AA-G-C------G-TG--GG-G--AG-C-G-AA----CA-GG\n"
     ]
    }
   ],
   "source": [
    "# Iterate over the entries\n",
    "for entry in entries:\n",
    "    print(entry)\n",
    "    break # so we don't print them all"
   ]
  },
  {
   "cell_type": "markdown",
   "id": "36759ffb-c756-4c7d-9531-1fcbcbe222fa",
   "metadata": {},
   "source": [
    "---\n",
    "\n",
    "## Cleaning FASTA Entries\n",
    "\n",
    "Sometimes the entries within a FASTA file may need to be cleaned up in some way. This quick demo removes all of the dashes in the sequence part of the entries."
   ]
  },
  {
   "cell_type": "code",
   "execution_count": 50,
   "id": "7248ed0e-59da-43a6-b728-bf3f98cf6a6c",
   "metadata": {},
   "outputs": [],
   "source": [
    "from dnadb import fasta"
   ]
  },
  {
   "cell_type": "code",
   "execution_count": 53,
   "id": "ad10b91b-6c23-4a81-aa68-bb2588b59c89",
   "metadata": {},
   "outputs": [],
   "source": [
    "from dnadb import dna\n",
    "from dataclasses import replace\n",
    "import re\n",
    "\n",
    "def clean_entry(entry: fasta.FastaEntry):\n",
    "    \"\"\"\n",
    "    Clean the sequence in the given entry by removing all non-nucleotide-base characters.\n",
    "    \"\"\"\n",
    "    sequence = re.sub(r\"[^\" + dna.ALL_BASES + r\"]\", \"\", entry.sequence)\n",
    "    return replace(entry, sequence=sequence)"
   ]
  },
  {
   "cell_type": "code",
   "execution_count": 56,
   "id": "9e46eb19-85b3-4731-9ffc-a57f699bad79",
   "metadata": {},
   "outputs": [
    {
     "name": "stdout",
     "output_type": "stream",
     "text": [
      "Raw entry:\n",
      ">M03064_22_000000000-C8H43_1_1101_10211_8648 CMFP13\tOtu000002\tNumRep=1\n",
      "T--AC--GT-AG-GGT----GCG-A-G----C--G--T---T--GT-C-CGG-AA-----TT-A--T-T--GG-GC------GT--A-----AA-GA-GC-TT-------G-TA-G-G-C-G---------------G--T-CT-G-T-C-------------GC----G-T-C-C----------------G-C-T--G--TG--A-AA-AT--C-C-GG-G-G------------------------CT-C-AA-------------------------C-C-C-C-G-G-A--C-T----T-G--C-A---G--T-----------------------G--GG-T-A---C-----------G--G-G--CA--G-A-C------------------------------------------------------------------------------T-A-G-A-G-T--G-----T-GG------TA-G-G-------------------G-G-A-G---AC-T------------------------------GG--A--ATT--------------------------C-C-T-G-GT--GT-A-G-CG-GT--G---------A--A-A-----------------TG-C-GC-AG--AT-A-TC-------------------A-G------G-A------G-G-A-AC-A-CC-----------------GA--T--G--GC-GAA-G--G-C----A--------G--G-T-C-T---CTG--------G--GC-C-A-----------------------------C-T--------A-C-T--GA--CG-----C--------T-G--A-GA--A-G-CG-A--AA-G-C------G-TG--GG-G--AG-C-A-AA----CA-GG\n",
      "\n",
      "Cleaned entry:\n",
      ">M03064_22_000000000-C8H43_1_1101_10211_8648 CMFP13\tOtu000002\tNumRep=1\n",
      "TACGTAGGGTGCGAGCGTTGTCCGGAATTATTGGGCGTAAAGAGCTTGTAGGCGGTCTGTCGCGTCCGCTGTGAAAATCCGGGGCTCAACCCCGGACTTGCAGTGGGTACGGGCAGACTAGAGTGTGGTAGGGGAGACTGGAATTCCTGGTGTAGCGGTGAAATGCGCAGATATCAGGAGGAACACCGATGGCGAAGGCAGGTCTCTGGGCCACTACTGACGCTGAGAAGCGAAAGCGTGGGGAGCAAACAGG\n",
      "\n"
     ]
    }
   ],
   "source": [
    "raw_entry = next(fasta.entries(sfd_fasta_file))\n",
    "cleaned_entry = clean_entry(raw_entry)\n",
    "\n",
    "print(\"Raw entry:\")\n",
    "print(raw_entry)\n",
    "print()\n",
    "print(\"Cleaned entry:\")\n",
    "print(cleaned_entry)\n",
    "print()"
   ]
  },
  {
   "cell_type": "markdown",
   "id": "0bd88c75-d3f7-42c2-b691-863b5dd7cf27",
   "metadata": {},
   "source": [
    "\n",
    "Another convenience of the entries generator is that it interfaces well with Python's map function, allowing you to perform operations on each entry read. The following cleans each entry as you iterate over it."
   ]
  },
  {
   "cell_type": "code",
   "execution_count": 57,
   "id": "fd22756f-e608-4ddd-8d89-861cd51382b0",
   "metadata": {},
   "outputs": [
    {
     "name": "stdout",
     "output_type": "stream",
     "text": [
      ">M03064_22_000000000-C8H43_1_1101_10211_8648 CMFP13\tOtu000002\tNumRep=1\n",
      "TACGTAGGGTGCGAGCGTTGTCCGGAATTATTGGGCGTAAAGAGCTTGTAGGCGGTCTGTCGCGTCCGCTGTGAAAATCCGGGGCTCAACCCCGGACTTGCAGTGGGTACGGGCAGACTAGAGTGTGGTAGGGGAGACTGGAATTCCTGGTGTAGCGGTGAAATGCGCAGATATCAGGAGGAACACCGATGGCGAAGGCAGGTCTCTGGGCCACTACTGACGCTGAGAAGCGAAAGCGTGGGGAGCAAACAGG\n"
     ]
    }
   ],
   "source": [
    "for cleaned_entry in map(clean_entry, fasta.entries(sfd_fasta_file)):\n",
    "    print(cleaned_entry)\n",
    "    break"
   ]
  },
  {
   "cell_type": "markdown",
   "id": "f12a0c07-e83b-4223-91e1-ccaf73a396a2",
   "metadata": {},
   "source": [
    "---\n",
    "\n",
    "## FASTA DB\n",
    "\n",
    "![img](./images/fasta_to_fastadb.png)\n",
    "\n",
    "FASTA files can get quite large. There can also be many different FASTA files that need to be interefaced with. As a result, this can quickly eat up resources if they are loaded into memory. To get around this, this library introduces the `.fasta.db` file format, allowing one to access all of the sequence data directly from disk without having to load it into memory. This also allows random reads anywhere in the file."
   ]
  },
  {
   "cell_type": "markdown",
   "id": "868d61fc-d9c4-4901-80ae-c33ddd365823",
   "metadata": {},
   "source": [
    "### Conversion\n",
    "\n",
    "The following shows how to clean and convert a FASTA file to a FASTA DB."
   ]
  },
  {
   "cell_type": "code",
   "execution_count": 3,
   "id": "ef2eda85-eca6-445e-9147-0de5aac50dad",
   "metadata": {},
   "outputs": [],
   "source": [
    "from dnadb import fasta"
   ]
  },
  {
   "cell_type": "code",
   "execution_count": 59,
   "id": "78d8686f-2b28-475c-bdab-7f8d3c2b6a84",
   "metadata": {},
   "outputs": [],
   "source": [
    "with fasta.FastaDbFactory(\"/tmp/sfd.fasta.db\") as factory:\n",
    "    entries = fasta.entries(sfd_fasta_file)     # Get the entries from the FASTA file\n",
    "    cleaned_entries = map(clean_entry, entries) # For each entry, pass it through clean_entry.\n",
    "    factory.write_entries(cleaned_entries)     # Write the entries to the database."
   ]
  },
  {
   "cell_type": "markdown",
   "id": "3e4442f8-79ba-402c-968e-f947a924eb79",
   "metadata": {},
   "source": [
    "### Interfacing\n",
    "\n",
    "The following cells demonstrate how one can interface with a FASTA DB."
   ]
  },
  {
   "cell_type": "code",
   "execution_count": 4,
   "id": "a0f5fc50-d216-4d55-a7cb-43bb991c95ac",
   "metadata": {},
   "outputs": [],
   "source": [
    "# Open the FASTA DB\n",
    "fasta_db = fasta.FastaDb(\"/tmp/sfd.fasta.db\")"
   ]
  },
  {
   "cell_type": "code",
   "execution_count": 65,
   "id": "a434f529-be08-48f6-91d6-af009058b28d",
   "metadata": {},
   "outputs": [
    {
     "data": {
      "text/plain": [
       "1883478"
      ]
     },
     "execution_count": 65,
     "metadata": {},
     "output_type": "execute_result"
    }
   ],
   "source": [
    "# Get the number of entries/sequences in the DB\n",
    "len(fasta_db)"
   ]
  },
  {
   "cell_type": "code",
   "execution_count": 78,
   "id": "d4b7030e-0691-4e36-a106-2ffdd277fb66",
   "metadata": {},
   "outputs": [
    {
     "name": "stdout",
     "output_type": "stream",
     "text": [
      ">M03064_41_000000000-CRMWT_1_2104_7498_19863 CMFP363\tOtu000002\tNumRep=1\n",
      "TACGTAGGGTGCAAGCGTTATCCGGAATTATTGGGCGTAAAGAGCTTGTAGGCGGTTTGTCGCGTCTGCTGTGAAATCCCGGGGCTCAACCCCGGACTTGCAGTGGGTACGGGCAGACTAGAGTGTGGTAGGGGAGACTGGAATTCCTGGTGTAGCGGTGAAATGCGCAGATATCAGGAGGAACACCGATGGCGAAGGCAGGTCTCTGGGCCACTACTGACGCTGAGAAGCGAAAGCATGGGGAGCGAACAGG\n"
     ]
    }
   ],
   "source": [
    "# Get an entry at an arbitrary index\n",
    "print(fasta_db[5])"
   ]
  },
  {
   "cell_type": "code",
   "execution_count": 79,
   "id": "ae4d2a49-1b86-4302-a01c-3d62375f30bd",
   "metadata": {},
   "outputs": [
    {
     "name": "stdout",
     "output_type": "stream",
     "text": [
      ">M03064_45_000000000-CRYB8_1_1103_5880_16744 CMFP415\tOtu000002\tNumRep=1\n",
      "TACGTAGGGTGCGAGCGTTGTCCGGAATTATTGGGCGTAAAGAGCTTGTAGGCGGTTTGTCGCGTCTGCTGTGAAAATCCGGGGCTCAACCCCGGACTTGCAGTGGGTACGGGCAGACTAGAGTGTGGTAGGGGAGACTGGAATTCCTGGTGTAGCGGTGAAATGCGCAGATATCAGGAGGAACACCGATGGCGAAGGCAGGTCTCTGGGCCACTACTGACGCTGAGAAGCGAAAGCATTAGGAGCGAACAGT\n"
     ]
    }
   ],
   "source": [
    "# Get an entry from its identifier\n",
    "print(fasta_db[\"M03064_45_000000000-CRYB8_1_1103_5880_16744\"])"
   ]
  },
  {
   "cell_type": "code",
   "execution_count": 80,
   "id": "8a08d230-57d9-4ecf-83cf-761bc6004294",
   "metadata": {},
   "outputs": [
    {
     "name": "stdout",
     "output_type": "stream",
     "text": [
      ">M03064_22_000000000-C8H43_1_1101_10211_8648 CMFP13\tOtu000002\tNumRep=1\n",
      "TACGTAGGGTGCGAGCGTTGTCCGGAATTATTGGGCGTAAAGAGCTTGTAGGCGGTCTGTCGCGTCCGCTGTGAAAATCCGGGGCTCAACCCCGGACTTGCAGTGGGTACGGGCAGACTAGAGTGTGGTAGGGGAGACTGGAATTCCTGGTGTAGCGGTGAAATGCGCAGATATCAGGAGGAACACCGATGGCGAAGGCAGGTCTCTGGGCCACTACTGACGCTGAGAAGCGAAAGCGTGGGGAGCAAACAGG\n"
     ]
    }
   ],
   "source": [
    "# Loop over entries in the DB\n",
    "for entry in fasta_db:\n",
    "    print(entry)\n",
    "    break"
   ]
  },
  {
   "cell_type": "markdown",
   "id": "d7a6afdb-fb21-4290-9cb1-85be4803807b",
   "metadata": {},
   "source": [
    "---\n",
    "\n",
    "## Sample Interface\n",
    "\n",
    "Built on top of the FASTA DB, the Sample interface provides additional features for interacting with FASTA DBs."
   ]
  },
  {
   "cell_type": "code",
   "execution_count": 5,
   "id": "315bc6ca-b550-420a-9dd1-ed3ae18a4082",
   "metadata": {},
   "outputs": [],
   "source": [
    "from dnadb import fasta, sample"
   ]
  },
  {
   "cell_type": "code",
   "execution_count": 7,
   "id": "16730363-5fbd-4321-ac51-114b2136231d",
   "metadata": {},
   "outputs": [
    {
     "data": {
      "text/plain": [
       "'Sample A'"
      ]
     },
     "execution_count": 7,
     "metadata": {},
     "output_type": "execute_result"
    }
   ],
   "source": [
    "sample_fasta = sample.load_fasta(\"/tmp/sfd.fasta.db\", name=\"Sample A\")\n",
    "sample_fasta.name"
   ]
  },
  {
   "cell_type": "markdown",
   "id": "c5d72a37-00b7-4a7a-8bc8-327f8b6e2b10",
   "metadata": {},
   "source": [
    "The sample interface includes the ability to sample (i.e. draw sequences randomly) the sample."
   ]
  },
  {
   "cell_type": "code",
   "execution_count": 13,
   "id": "d9577efb-61fa-4835-b31b-c0986c31ea1c",
   "metadata": {},
   "outputs": [
    {
     "name": "stdout",
     "output_type": "stream",
     "text": [
      ">M03064_53_000000000-J6PGC_1_1106_19270_23222 CMFP124\tOtu002281\tNumRep=3\n",
      "TACGAAGGGGGCTAGCGTTGCTCGGAATTACTGGGCGTAAAGGGCGCGTAGGCGGCTTGCCAAGTCAGGCGTGAAATTCCTGGGCTCAACCTGGGGACTGCGCTTGATACTGGCTGAGCTTGAGGATGGAAGAGGCTCGTGGAATTCCCAGTGTAGAGGTGAAATTCGTAGATATTGGGAAGAACACCGGTGGCGAAGGCGGCAACCTGGTCCATTACTGACGCTGAGGCGCGAAAGCGTGAGGAGCAAACAGG\n",
      "\n",
      ">M03064_22_000000000-C8H43_1_2110_14193_24272 CMFP70\tOtu007455\tNumRep=1\n",
      "TACGGAGGGGGCTAGCGTTATTCGGAATTACTGGGCGTAAAGCGCACGTAGGCGGATTGGAAAGTCAGAGGTGAAATCCCAGGGCTCAACCTTGGAACTGCCTTTGAAACTCCCAGTCTTGAGGTCGAGAGAGGTGAGTGGAATTCCGAGTGTAGAGGTGAAATTCGTAGATATTCGGAGGAACACCAGTGGCGAAGGCGGCTCACTGGCTCGATACTGACGCTGAGGCACGAAAGCATGGGGAGCAAACAGG\n",
      "\n",
      ">M03064_61_000000000-CKV98_1_1104_5261_18907 CMFP874\tOtu009109\tNumRep=2\n",
      "TACGTAGGGTCCGAGCGTTGTCCGGAATTATTGGGCGTAAAGGGCTCGTAGGCGGTTTGTCACGTCGGGAGTGAAAACTCGGGGCTCAACCCCGAGCCTGCTTCCGATACGGGCAGACTAGAGGGATGCAGGGGAGAACGGAATTCCTGGTGTAGCGGTGGAATGCGCAGATATCAGGAGGAACACCGGTGGCGAAGGCGGTTCTCTGGGCATTACCTGACGCTGAGGAGCGAAAGCATGGGGAGCGAACAGG\n",
      "\n"
     ]
    }
   ],
   "source": [
    "for entry in sample_fasta.sample(3):\n",
    "    print(entry)\n",
    "    print()"
   ]
  },
  {
   "cell_type": "markdown",
   "id": "875cca46-ef26-465d-b7ec-60db9ba95dcc",
   "metadata": {},
   "source": [
    "---\n",
    "\n",
    "## Multiplexed Samples\n",
    "\n",
    "![img](./images/sample_mappings.png)\n",
    "\n",
    "One of the big features of the FASTA DB format is the ability to create samples that map to corresponding sequences present in the FASTA DB. Not only can these samples specify which sequences occur, but they can also indicate their abundance. This drastically reduces the disk space required, and also allows storing all of your sequences in one location."
   ]
  },
  {
   "cell_type": "code",
   "execution_count": 16,
   "id": "c060b0ea-f2df-4179-8a01-0cd804f6f55d",
   "metadata": {},
   "outputs": [],
   "source": [
    "from dnadb import fasta, sample"
   ]
  },
  {
   "cell_type": "markdown",
   "id": "282580f9-429e-4766-bc97-90794d706fbc",
   "metadata": {},
   "source": [
    "### Creating the Corresponding Index DB\n",
    "\n",
    "The index creates a numerical map of integer identifiers to a corresponding FASTA ID, while also giving the ability to reference alias FASTA IDs with custom keys. These are useful for OTU labels as given with this dataset. It is currently required for creating sample mappings as will be demonstrated later, but this will likely no longer be the case in the future. For this dataset, we are given an OTU mapping that maps an ASV to a corresponding FASTA ID. The sample information refers to these OTU identifiers rather than the FASTA IDs, so they need to be stored in an index."
   ]
  },
  {
   "cell_type": "code",
   "execution_count": 99,
   "id": "c3dedfa5-eda7-4112-8e40-5d62d0d3feca",
   "metadata": {},
   "outputs": [
    {
     "name": "stdout",
     "output_type": "stream",
     "text": [
      "label\tnumASVs\tASV0000001\tASV0000002\tASV0000003\tASV0000004\tASV0000005\tASV0000006\tASV0000007\tASV000000\n",
      "asv\t3748806\tM03064_63_000000000-JHTY5_1_1110_16981_26249\tM03064_63_000000000-JHTY5_1_2103_18141_1718\n"
     ]
    }
   ],
   "source": [
    "with open(otu_list_path) as f:\n",
    "    print(f.readline()[:100])\n",
    "    print(f.readline()[:100])"
   ]
  },
  {
   "cell_type": "markdown",
   "id": "eacb4ea0-8e8b-4394-9e3e-91099d24eec5",
   "metadata": {},
   "source": [
    "Here we load the OTU map and convert it to a Python dictionary"
   ]
  },
  {
   "cell_type": "code",
   "execution_count": 96,
   "id": "6f35abd1-c2b1-4bc9-a34a-28c1843b2435",
   "metadata": {},
   "outputs": [],
   "source": [
    "with open(otu_list_path) as f:\n",
    "    keys = f.readline().strip().split('\\t')\n",
    "    values = f.readline().strip().split('\\t')\n",
    "otu_index = dict(zip(keys[2:], values[2:]))"
   ]
  },
  {
   "cell_type": "markdown",
   "id": "74d92bab-df3e-4da9-9306-da9628c083ac",
   "metadata": {},
   "source": [
    "Finally we create the actual index on disk. We write one entry at a time, ensuring that it exists in the FASTA DB."
   ]
  },
  {
   "cell_type": "code",
   "execution_count": 97,
   "id": "7e31768c-c704-4a44-a2b3-22cf6e17d35b",
   "metadata": {},
   "outputs": [],
   "source": [
    "with fasta.FastaIndexDbFactory(\"/tmp/sfd.fasta.index.db\") as factory:\n",
    "    for otu, fasta_id in otu_index.items():\n",
    "        if fasta_id not in fasta_db:\n",
    "            continue\n",
    "        factory.write_entry(fasta_db[fasta_id], key=otu)"
   ]
  },
  {
   "cell_type": "code",
   "execution_count": 105,
   "id": "e4391e9e-5112-4eed-b0fd-544437fc106d",
   "metadata": {},
   "outputs": [],
   "source": [
    "index_db = fasta.FastaIndexDb(\"/tmp/sfd.fasta.index.db\")"
   ]
  },
  {
   "cell_type": "markdown",
   "id": "9c3e01f3-a709-482a-b83c-46d3e85ebf3e",
   "metadata": {},
   "source": [
    "### Creating the Sample DB\n",
    "\n",
    "Here we create the sample mappings. First we examine how the sample information is given to us. In this file, each row represents a sample, and its corresponding name and abundances of each OTU is given in the columns."
   ]
  },
  {
   "cell_type": "code",
   "execution_count": 109,
   "id": "e2c86ee5-c6c1-4cac-8ccf-0359c122520f",
   "metadata": {},
   "outputs": [
    {
     "name": "stdout",
     "output_type": "stream",
     "text": [
      "label\tGroup\tnumASVs\tASV0000001\tASV0000002\tASV00000\n",
      "asv\tANSP6neg\t3748806\t121545\t0\t0\t0\t0\t0\t0\t0\t0\t0\t0\t0\t\n",
      "asv\tANSP8neg\t3748806\t33\t1\t1\t0\t2\t0\t1\t0\t0\t1\t0\t0\t0\t0\t\n"
     ]
    }
   ],
   "source": [
    "with open(otu_shared_path) as f:\n",
    "    print(f.readline()[:50])\n",
    "    print(f.readline()[:50])\n",
    "    print(f.readline()[:50])"
   ]
  },
  {
   "cell_type": "code",
   "execution_count": 115,
   "id": "d7e106b0-da38-439e-8c98-7b13b7b57118",
   "metadata": {},
   "outputs": [
    {
     "data": {
      "text/plain": [
       "887"
      ]
     },
     "execution_count": 115,
     "metadata": {},
     "output_type": "execute_result"
    }
   ],
   "source": [
    "with open(otu_shared_path) as f:\n",
    "    header = f.readline().strip().split('\\t')\n",
    "    rows = [line.strip().split('\\t') for line in f]\n",
    "len(rows) # number of samples"
   ]
  },
  {
   "cell_type": "code",
   "execution_count": 119,
   "id": "35714499-2c19-4d20-8eb0-ace240720070",
   "metadata": {},
   "outputs": [],
   "source": [
    "# Find indices of OTU columns that are present in the FASTA DB.\n",
    "indices = [i for i in range(3, len(header)) if index_db.contains_key(header[i])]\n",
    "\n",
    "# map those indices their corresponding FASTA ID\n",
    "index_to_fasta_id_map = {i: index_db.key_to_fasta_id(header[i]) for i in indices}"
   ]
  },
  {
   "cell_type": "code",
   "execution_count": 120,
   "id": "812117b2-910c-47b6-b8a1-63446b2fa219",
   "metadata": {},
   "outputs": [],
   "source": [
    "with sample.SampleMappingDbFactory(\"/tmp/sfd.fasta.mapping.db\") as factory:\n",
    "    for row in lines:\n",
    "        sample_name = row[1]\n",
    "        sample_factory = sample.SampleMappingEntryFactory(sample_name, index_db)\n",
    "        for index, fasta_id in index_to_fasta_id_map.items():\n",
    "            abundance = int(row[index])\n",
    "            if abundance == 0:\n",
    "                continue # don't add empty abundance\n",
    "            entry = fasta_db[fasta_id]\n",
    "            sample_factory.add_entry(entry, abundance)\n",
    "        factory.write_entry(sample_factory.build())"
   ]
  },
  {
   "cell_type": "markdown",
   "id": "450a252a-e735-42d6-9d82-264432568583",
   "metadata": {},
   "source": [
    "### Demultiplexing the FASTA DB"
   ]
  },
  {
   "cell_type": "code",
   "execution_count": 17,
   "id": "19cfbd5e-cbe3-4035-b47e-1c675ef6cad4",
   "metadata": {},
   "outputs": [
    {
     "data": {
      "text/plain": [
       "887"
      ]
     },
     "execution_count": 17,
     "metadata": {},
     "output_type": "execute_result"
    }
   ],
   "source": [
    "samples = sample.load_multiplexed_fasta(\"/tmp/sfd.fasta.db\", \"/tmp/sfd.fasta.mapping.db\")\n",
    "len(samples)"
   ]
  },
  {
   "cell_type": "code",
   "execution_count": 18,
   "id": "65fe33be-48b7-4761-b623-c67538af82cc",
   "metadata": {},
   "outputs": [
    {
     "data": {
      "text/plain": [
       "(DemultiplexedFastaSample: ANSP6neg,\n",
       " DemultiplexedFastaSample: ANSP8neg,\n",
       " DemultiplexedFastaSample: CMFP1,\n",
       " DemultiplexedFastaSample: CMFP10,\n",
       " DemultiplexedFastaSample: CMFP100)"
      ]
     },
     "execution_count": 18,
     "metadata": {},
     "output_type": "execute_result"
    }
   ],
   "source": [
    "samples[:5]"
   ]
  },
  {
   "cell_type": "code",
   "execution_count": 25,
   "id": "9a1b821e-fbb9-4b47-82fe-ea965d5e6134",
   "metadata": {},
   "outputs": [
    {
     "name": "stdout",
     "output_type": "stream",
     "text": [
      "TACGTAGGGTGCAAGCGTTAATCGGAATTACTGGGCGTAAAGCGTGCGCAGGCGGTTATGTAAGACAGAGGTGAAATCCCCGGGCTCAACCTGGGAACGGCCTTTGTGACTGCATAGCTAGAGTACGGTAGAGGGGGATGGAATTCCGCGTGTAGCAGTGAAATGCGTAGATATGCGGAGGAACACCGATGGCGAAGGCAATCCCCTGGACCTGTACTGACGCTCATGCACGAAAGCGTGGGGAGCAAACAGG\n",
      "\n",
      "TACGGAGGGGGCTAGCGTTGTTCGGAATTACTGGGCGTAAAGCGCACGTAGGCGGACTGGAAAGTCAGAGGTGAAATCCCAGGGCTCAACCTTGGAACTGCCTTTGAAACTATCAGTCTGGAGTTCGAGAGAGGTGAGTGGAATTCCGAGTGTAGAGGTGAAATTCGTAGATATTCGGAGGAACACCAGTGGCGAAGGCGGCTCACTGGCTCGATACTGACGCTGAGGTGCGAAAGCGTGGGGAGCAAACAGG\n",
      "\n",
      "TACGAAGGGGGCTAGCGTTGCTCGGAATTACTGGGCGTAAAGGGCGCGTAGGCGGACATTTAAGTCAGGGGTGAAATCCCAGAGCTCAACTCTGGAACTGCCTTTGATACTGGATGTCTTGAGTGTGAGAGAGGTATGTGGAACTCCGAGTGTAGAGGTGAAATTCGTAGATATTCGGAAGAACACCAGTGGCGAAGGCGACATACTGGCTCATTACTGACGCTGAGGCGCGAAAGCGTGGGGAGCAAACAGG\n",
      "\n"
     ]
    }
   ],
   "source": [
    "for entry in samples[0].sample(3):\n",
    "    print(entry.sequence)\n",
    "    print()"
   ]
  },
  {
   "cell_type": "code",
   "execution_count": null,
   "id": "094203ee-f85f-42e0-a38b-97f2d812c75a",
   "metadata": {},
   "outputs": [],
   "source": []
  }
 ],
 "metadata": {
  "kernelspec": {
   "display_name": "Python 3 (ipykernel)",
   "language": "python",
   "name": "python3"
  },
  "language_info": {
   "codemirror_mode": {
    "name": "ipython",
    "version": 3
   },
   "file_extension": ".py",
   "mimetype": "text/x-python",
   "name": "python",
   "nbconvert_exporter": "python",
   "pygments_lexer": "ipython3",
   "version": "3.10.6"
  }
 },
 "nbformat": 4,
 "nbformat_minor": 5
}
