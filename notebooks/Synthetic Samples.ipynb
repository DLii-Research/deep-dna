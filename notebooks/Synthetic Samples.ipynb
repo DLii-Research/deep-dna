{
 "cells": [
  {
   "cell_type": "code",
   "execution_count": 1,
   "id": "65965b0c-27e3-4d31-86c9-334754815ca1",
   "metadata": {},
   "outputs": [],
   "source": [
    "from collections import defaultdict\n",
    "from dataclasses import replace\n",
    "from dnadb import dna, fasta, fastq, sample, taxonomy\n",
    "from dnadb.datasets import Silva\n",
    "from functools import cache\n",
    "import itertools\n",
    "import numpy as np\n",
    "from pathlib import Path\n",
    "import tensorflow as tf\n",
    "import tf_utilities as tfu\n",
    "import time\n",
    "from tqdm.auto import tqdm\n",
    "import wandb\n",
    "\n",
    "from deepdna.nn.models import load_model\n",
    "from deepdna.nn.models.taxonomy import NaiveTaxonomyClassificationModel"
   ]
  },
  {
   "cell_type": "code",
   "execution_count": 2,
   "id": "9c7725c1-9bdb-4e11-a715-83437cdf3c98",
   "metadata": {},
   "outputs": [
    {
     "name": "stderr",
     "output_type": "stream",
     "text": [
      "2023-08-21 23:16:20.087097: I tensorflow/stream_executor/cuda/cuda_gpu_executor.cc:975] successful NUMA node read from SysFS had negative value (-1), but there must be at least one NUMA node, so returning NUMA node zero\n",
      "2023-08-21 23:16:20.087327: I tensorflow/stream_executor/cuda/cuda_gpu_executor.cc:975] successful NUMA node read from SysFS had negative value (-1), but there must be at least one NUMA node, so returning NUMA node zero\n",
      "2023-08-21 23:16:20.110016: I tensorflow/stream_executor/cuda/cuda_gpu_executor.cc:975] successful NUMA node read from SysFS had negative value (-1), but there must be at least one NUMA node, so returning NUMA node zero\n",
      "2023-08-21 23:16:20.110312: I tensorflow/stream_executor/cuda/cuda_gpu_executor.cc:975] successful NUMA node read from SysFS had negative value (-1), but there must be at least one NUMA node, so returning NUMA node zero\n",
      "2023-08-21 23:16:20.110546: I tensorflow/stream_executor/cuda/cuda_gpu_executor.cc:975] successful NUMA node read from SysFS had negative value (-1), but there must be at least one NUMA node, so returning NUMA node zero\n",
      "2023-08-21 23:16:20.110771: I tensorflow/stream_executor/cuda/cuda_gpu_executor.cc:975] successful NUMA node read from SysFS had negative value (-1), but there must be at least one NUMA node, so returning NUMA node zero\n"
     ]
    },
    {
     "data": {
      "text/plain": [
       "([PhysicalDevice(name='/physical_device:CPU:0', device_type='CPU')],\n",
       " [PhysicalDevice(name='/physical_device:GPU:0', device_type='GPU')])"
      ]
     },
     "execution_count": 2,
     "metadata": {},
     "output_type": "execute_result"
    }
   ],
   "source": [
    "tfu.devices.select_gpu(0)"
   ]
  },
  {
   "cell_type": "code",
   "execution_count": 3,
   "id": "6c3a6bbf-ca01-4fe6-b9b1-337884b5c12a",
   "metadata": {},
   "outputs": [],
   "source": [
    "rng = np.random.default_rng()"
   ]
  },
  {
   "cell_type": "markdown",
   "id": "da5fe6fc-9c20-49f5-bf70-6902076cc995",
   "metadata": {},
   "source": [
    "## Synthetic Dataset Factory"
   ]
  },
  {
   "cell_type": "code",
   "execution_count": 4,
   "id": "a2deca81-1764-49c5-932e-002db02fb670",
   "metadata": {},
   "outputs": [
    {
     "data": {
      "text/plain": [
       "PosixPath('/home/dwl2x/work/Datasets/synthetic')"
      ]
     },
     "execution_count": 4,
     "metadata": {},
     "output_type": "execute_result"
    }
   ],
   "source": [
    "dataset_root = Path(\"~/work/Datasets/synthetic\").expanduser()\n",
    "dataset_root.mkdir(exist_ok=True)\n",
    "dataset_root"
   ]
  },
  {
   "cell_type": "markdown",
   "id": "84205e73-f72c-41de-a5ec-d12349a75c58",
   "metadata": {},
   "source": [
    "### SILVA Sequences and Taxonomy\n",
    "\n",
    "Our synthetic samples will be created by mapping to the SILVA dataset."
   ]
  },
  {
   "cell_type": "code",
   "execution_count": 5,
   "id": "919988d3-4bbe-41c1-9f08-9989a61ebfc8",
   "metadata": {},
   "outputs": [],
   "source": [
    "from dataclasses import replace"
   ]
  },
  {
   "cell_type": "code",
   "execution_count": 5,
   "id": "96d78a5f-454e-4867-bb83-f2bd2d341616",
   "metadata": {},
   "outputs": [],
   "source": [
    "# silva = Silva()\n",
    "# with fasta.FastaDbFactory(dataset_root / \"synthetic.fasta.db\") as db:\n",
    "#     db.write_entries(silva.sequences())\n",
    "# with taxonomy.TaxonomyDbFactory(dataset_root / \"synthetic.tax.tsv.db\") as db:\n",
    "#     for entry in silva.taxonomies():\n",
    "#         db.write_entry(replace(entry, label=entry.label.replace(\"uncultured\", \"\")))"
   ]
  },
  {
   "cell_type": "code",
   "execution_count": 6,
   "id": "e47d6d87-06f5-4626-92f0-54009f7c98e9",
   "metadata": {},
   "outputs": [],
   "source": [
    "fasta_db = fasta.FastaDb(dataset_root / \"synthetic.fasta.db\")\n",
    "# tax_db = taxonomy.TaxonomyDb(dataset_root / \"synthetic.tax.tsv.db\")\n",
    "tax_db = taxonomy.TaxonomyDb(\"/home/dwl2x/work/Datasets/Silva/Silva_138.1.tax.tsv.db\")"
   ]
  },
  {
   "cell_type": "code",
   "execution_count": 7,
   "id": "ac52837f-069b-4983-add1-ae6cf9459c0e",
   "metadata": {},
   "outputs": [],
   "source": [
    "tax_to_fasta_ids = {}\n",
    "for label in tax_db:\n",
    "    tax_to_fasta_ids[label] = list(tax_db.fasta_ids_with_label(tax_db.label_to_index(label)))"
   ]
  },
  {
   "cell_type": "markdown",
   "id": "a2f2b1b0-edca-4df3-83ac-c97162bba88a",
   "metadata": {},
   "source": [
    "### Sequence ID Mapping"
   ]
  },
  {
   "cell_type": "code",
   "execution_count": 8,
   "id": "133d64bd-e22a-4bb2-8fec-f8181bb246e6",
   "metadata": {},
   "outputs": [],
   "source": [
    "# with fasta.FastaIndexDbFactory(dataset_root / \"synthetic.fasta.index.db\") as db:\n",
    "#     db.write_entries(fasta_db)"
   ]
  },
  {
   "cell_type": "code",
   "execution_count": 9,
   "id": "d925eba8-6468-4731-a2a5-afdd0ccc8ab0",
   "metadata": {},
   "outputs": [],
   "source": [
    "fasta_index = fasta.FastaIndexDb(dataset_root / \"synthetic.fasta.index.db\")"
   ]
  },
  {
   "cell_type": "markdown",
   "id": "030d86f8-1a09-413e-9503-f0c0c5c86ce3",
   "metadata": {},
   "source": [
    "## Classification Model"
   ]
  },
  {
   "cell_type": "code",
   "execution_count": 10,
   "id": "53dc4ccb-fea6-4d21-a106-57bcfe2e04b5",
   "metadata": {},
   "outputs": [
    {
     "name": "stderr",
     "output_type": "stream",
     "text": [
      "2023-08-19 17:38:11.503465: I tensorflow/core/platform/cpu_feature_guard.cc:193] This TensorFlow binary is optimized with oneAPI Deep Neural Network Library (oneDNN) to use the following CPU instructions in performance-critical operations:  SSE4.1 SSE4.2 AVX AVX2 FMA\n",
      "To enable them in other operations, rebuild TensorFlow with the appropriate compiler flags.\n",
      "2023-08-19 17:38:11.505994: I tensorflow/stream_executor/cuda/cuda_gpu_executor.cc:975] successful NUMA node read from SysFS had negative value (-1), but there must be at least one NUMA node, so returning NUMA node zero\n",
      "2023-08-19 17:38:11.506240: I tensorflow/stream_executor/cuda/cuda_gpu_executor.cc:975] successful NUMA node read from SysFS had negative value (-1), but there must be at least one NUMA node, so returning NUMA node zero\n",
      "2023-08-19 17:38:11.506413: I tensorflow/stream_executor/cuda/cuda_gpu_executor.cc:975] successful NUMA node read from SysFS had negative value (-1), but there must be at least one NUMA node, so returning NUMA node zero\n",
      "2023-08-19 17:38:12.505306: I tensorflow/stream_executor/cuda/cuda_gpu_executor.cc:975] successful NUMA node read from SysFS had negative value (-1), but there must be at least one NUMA node, so returning NUMA node zero\n",
      "2023-08-19 17:38:12.506355: I tensorflow/stream_executor/cuda/cuda_gpu_executor.cc:975] successful NUMA node read from SysFS had negative value (-1), but there must be at least one NUMA node, so returning NUMA node zero\n",
      "2023-08-19 17:38:12.506598: I tensorflow/stream_executor/cuda/cuda_gpu_executor.cc:975] successful NUMA node read from SysFS had negative value (-1), but there must be at least one NUMA node, so returning NUMA node zero\n",
      "2023-08-19 17:38:12.507407: I tensorflow/core/common_runtime/gpu/gpu_device.cc:1532] Created device /job:localhost/replica:0/task:0/device:GPU:0 with 13321 MB memory:  -> device: 0, name: NVIDIA GeForce RTX 3090, pci bus id: 0000:01:00.0, compute capability: 8.6\n"
     ]
    }
   ],
   "source": [
    "model = load_model(\"./logs/models/dnabert_taxonomy_naive\", NaiveTaxonomyClassificationModel)"
   ]
  },
  {
   "cell_type": "markdown",
   "id": "a934220a-29a6-4efa-a2ad-83808332df48",
   "metadata": {},
   "source": [
    "## Datasets"
   ]
  },
  {
   "cell_type": "code",
   "execution_count": 11,
   "id": "3927fd7b-148d-452b-81dd-0fc031c219e4",
   "metadata": {},
   "outputs": [],
   "source": [
    "def trim_and_encode(entry: fasta.FastaEntry|fastq.FastqEntry, length: int = 150):\n",
    "    # Trim the sequence\n",
    "    offset = rng.integers(0, len(entry) - length + 1)\n",
    "    sequence = entry.sequence[offset:offset+length]\n",
    "    assert len(sequence) == length\n",
    "    return dna.encode_sequence(sequence)"
   ]
  },
  {
   "cell_type": "markdown",
   "id": "d1d225dd-db68-4bd7-a2d5-b5236dc33911",
   "metadata": {},
   "source": [
    "### Nachusa Sequences"
   ]
  },
  {
   "cell_type": "code",
   "execution_count": 12,
   "id": "9263cb8f-be57-40b8-b480-ad7aeeef83ee",
   "metadata": {},
   "outputs": [],
   "source": [
    "sample_folders = [\n",
    "    \"/home/shared/prism-data/Nachusa Sequences/nachusa-2015-soil16S-sequences\",\n",
    "    \"/home/shared/prism-data/Nachusa Sequences/nachusa-2016-soil16S-sequences\",\n",
    "    \"/home/shared/prism-data/Nachusa Sequences/nachusa-2017-soil16S-sequences\",\n",
    "    \"/home/shared/prism-data/Nachusa Sequences/nachusa-2018-soil16S-sequences\",\n",
    "    # \"/home/shared/prism-data/Nachusa Sequences/nachusa-2019-soil16S-sequences\", # missing\n",
    "    \"/home/shared/prism-data/Nachusa Sequences/nachusa-2020-soil16S-sequences\",\n",
    "]"
   ]
  },
  {
   "cell_type": "code",
   "execution_count": 13,
   "id": "e52fe603-5bde-4f8a-8a94-88cc5ad8ec61",
   "metadata": {},
   "outputs": [],
   "source": [
    "# Sample Mapping\n",
    "fasta_mapping_factory = sample.SampleMappingDbFactory(dataset_root / \"synthetic.fasta.mapping.db\")"
   ]
  },
  {
   "cell_type": "code",
   "execution_count": 15,
   "id": "91830f2c-08e7-41f9-99a7-eb46a03d9705",
   "metadata": {},
   "outputs": [
    {
     "name": "stdout",
     "output_type": "stream",
     "text": [
      "WS-AG-May2015_S65_L001_R1_001.fastq\n",
      "Gathering FASTA IDs: 71553/71553WS-HF-Sep2015_S83_L001_R1_001.fastq\n",
      "Gathering FASTA IDs: 75468/75468WS-TC-May2015_S41_L001_R1_001.fastq\n",
      "Gathering FASTA IDs: 69199/69199WS-HLP-Jul2015_S90_L001_R1_001.fastq\n",
      "Gathering FASTA IDs: 66324/66324WS-SOY-Sep2015_S68_L001_R1_001.fastq\n",
      "Gathering FASTA IDs: 74557/74557WS-HPN-May2015_S17_L001_R1_001.fastq\n",
      "Gathering FASTA IDs: 71234/71234WS-HPW-May2015_S25_L001_R1_001.fastq\n",
      "Gathering FASTA IDs: 72589/72589WS-AG-Sep2015_S44_L001_R1_001.fastq\n",
      "Gathering FASTA IDs: 73181/73181WS-SF-Jul2015_S10_L001_R1_001.fastq\n",
      "Gathering FASTA IDs: 70539/70539WS-HPN-Jul2015_S50_L001_R1_001.fastq\n",
      "Gathering FASTA IDs: 71178/71178WS-L-May2015_S176_L001_R1_001.fastq\n",
      "Gathering FASTA IDs: 78462/78462WS-TCR-Sep2015_S52_L001_R1_001.fastq\n",
      "Gathering FASTA IDs: 68377/68377WS-MR-Sep2015_S67_L001_R1_001.fastq\n",
      "Gathering FASTA IDs: 74652/74652WS-HPW-Jul2015_S58_L001_R1_001.fastq\n",
      "Gathering FASTA IDs: 67807/67807WS-CCE-Jul2015_S19_L001_R1_001.fastq\n",
      "Gathering FASTA IDs: 80704/80704WS-WH-May2015_S160_L001_R1_001.fastq\n",
      "Gathering FASTA IDs: 67671/67671WS-SOY-Jul2015_S27_L001_R1_001.fastq\n",
      "Gathering FASTA IDs: 83169/83169WS-SF-May2015_S152_L001_R1_001.fastq\n",
      "Gathering FASTA IDs: 67365/67365WS-MU-May2015_S144_L001_R1_001.fastq\n",
      "Gathering FASTA IDs: 61091/61091WS-MR-May2015_S168_L001_R1_001.fastq\n",
      "Gathering FASTA IDs: 91074/91074WS-SB-May2015_S136_L001_R1_001.fastq\n",
      "Gathering FASTA IDs: 60984/60984WS-FC-Sep2015_S12_L001_R1_001.fastq\n",
      "Gathering FASTA IDs: 71363/71363WS-SB-Sep2015_S35_L001_R1_001.fastq\n",
      "Gathering FASTA IDs: 61569/61569WS-CCE-May2015_S81_L001_R1_001.fastq\n",
      "Gathering FASTA IDs: 69464/69464WS-CCW-Jul2015_S82_L001_R1_001.fastq\n",
      "Gathering FASTA IDs: 70305/70305WS-SF-Sep2015_S51_L001_R1_001.fastq\n",
      "Gathering FASTA IDs: 69444/69444WS-HF-Jul2015_S42_L001_R1_001.fastq\n",
      "Gathering FASTA IDs: 64658/64658WS-CCW-May2015_S49_L001_R1_001.fastq\n",
      "Gathering FASTA IDs: 66124/66124WS-AG-Jul2015_S3_L001_R1_001.fastq\n",
      "Gathering FASTA IDs: 72832/72832WS-TC-Sep2015_S20_L001_R1_001.fastq\n",
      "Gathering FASTA IDs: 76446/76446WS-FC-May2015_S33_L001_R1_001.fastq\n",
      "Gathering FASTA IDs: 63356/63356WS-TCR-Jul2015_S11_L001_R1_001.fastq\n",
      "Gathering FASTA IDs: 68635/68635WS-HF-May2015_S9_L001_R1_001.fastq\n",
      "Gathering FASTA IDs: 63417/63417WS-MU-Sep2015_S43_L001_R1_001.fastq\n",
      "Gathering FASTA IDs: 70502/70502WS-MR-Jul2015_S26_L001_R1_001.fastq\n",
      "Gathering FASTA IDs: 69119/69119WS-HPW-Sep2015_S4_L001_R1_001.fastq\n",
      "Gathering FASTA IDs: 75273/75273WS-MU-Jul2015_S2_L001_R1_001.fastq\n",
      "Gathering FASTA IDs: 65370/65370WS-TCR-May2015_S73_L001_R1_001.fastq\n",
      "Gathering FASTA IDs: 69243/69243WS-L-Sep2015_S75_L001_R1_001.fastq\n",
      "Gathering FASTA IDs: 81661/81661WS-L-Jul2015_S34_L001_R1_001.fastq\n",
      "Gathering FASTA IDs: 66393/66393WS-HPN-Sep2015_S91_L001_R1_001.fastq\n",
      "Gathering FASTA IDs: 69907/69907WS-HLP-May2015_S57_L001_R1_001.fastq\n",
      "Gathering FASTA IDs: 69189/69189WS-WH-Jul2015_S18_L001_R1_001.fastq\n",
      "Gathering FASTA IDs: 69761/69761WS-TC-Jul2015_S74_L001_R1_001.fastq\n",
      "Gathering FASTA IDs: 68550/68550WS-CCE-Sep2015_S60_L001_R1_001.fastq\n",
      "Gathering FASTA IDs: 73340/73340WS-CCW-Sep2015_S28_L001_R1_001.fastq\n",
      "Gathering FASTA IDs: 70144/70144WS-HLP-Sep2015_S36_L001_R1_001.fastq\n",
      "Gathering FASTA IDs: 65974/65974WS-FC-Jul2015_S66_L001_R1_001.fastq\n",
      "Gathering FASTA IDs: 67848/67848WS-WH-Sep2015_S59_L001_R1_001.fastq\n",
      "Gathering FASTA IDs: 68837/68837WS-SB-Jul2015_S89_L001_R1_001.fastq\n",
      "Gathering FASTA IDs: 70205/70205WS-MU-Oct2016_S71_L001_R1_001.fastq\n",
      "Gathering FASTA IDs: 63916/63916WS-TC-Oct2016_S48_L001_R1_001.fastq\n",
      "Gathering FASTA IDs: 65624/65624WS-MR-Jul2016_S54_L001_R1_001.fastq\n",
      "Gathering FASTA IDs: 70973/70973WS-L-Apr2016_S21_L001_R1_001.fastq\n",
      "Gathering FASTA IDs: 67377/67377WS-MU-Apr2016_S84_L001_R1_001.fastq\n",
      "Gathering FASTA IDs: 74381/74381WS-AG-Oct2016_S72_L001_R1_001.fastq\n",
      "Gathering FASTA IDs: 78550/78550WS-SB-Oct2016_S63_L001_R1_001.fastq\n",
      "Gathering FASTA IDs: 65256/65256WS-SB-Apr2016_S76_L001_R1_001.fastq\n",
      "Gathering FASTA IDs: 72676/72676WS-WH-Jul2016_S46_L001_R1_001.fastq\n",
      "Gathering FASTA IDs: 66360/66360WS-CCW-Jul2016_S15_L001_R1_001.fastq\n",
      "Gathering FASTA IDs: 66231/66231WS-HPN-Apr2016_S37_L001_R1_001.fastq\n",
      "Gathering FASTA IDs: 67760/67760WS-AG-Apr2016_S85_L001_R1_001.fastq\n",
      "Gathering FASTA IDs: 73115/73115WS-CCW-Oct2016_S56_L001_R1_001.fastq\n",
      "Gathering FASTA IDs: 71656/71656WS-SOY-Oct2016_S96_L001_R1_001.fastq\n",
      "Gathering FASTA IDs: 62583/62583WS-CCE-Jul2016_S47_L001_R1_001.fastq\n",
      "Gathering FASTA IDs: 66237/66237WS-HPW-Jul2016_S86_L001_R1_001.fastq\n",
      "Gathering FASTA IDs: 75157/75157WS-HLP-Jul2016_S23_L001_R1_001.fastq\n",
      "Gathering FASTA IDs: 65702/65702WS-AG-Jul2016_S31_L001_R1_001.fastq\n",
      "Gathering FASTA IDs: 86329/86329WS-HPW-Apr2016_S45_L001_R1_001.fastq\n",
      "Gathering FASTA IDs: 69207/69207WS-TCR-Oct2016_S80_L001_R1_001.fastq\n",
      "Gathering FASTA IDs: 77379/77379WS-SB-Jul2016_S22_L001_R1_001.fastq\n",
      "Gathering FASTA IDs: 69239/69239WS-HPN-Jul2016_S78_L001_R1_001.fastq\n",
      "Gathering FASTA IDs: 72456/72456WS-TC-Apr2016_S61_L001_R1_001.fastq\n",
      "Gathering FASTA IDs: 86037/86037WS-FC-Jul2016_S94_L001_R1_001.fastq\n",
      "Gathering FASTA IDs: 73012/73012WS-SF-Jul2016_S38_L001_R1_001.fastq\n",
      "Gathering FASTA IDs: 66279/66279WS-TCR-Jul2016_S39_L001_R1_001.fastq\n",
      "Gathering FASTA IDs: 71434/71434WS-WH-Oct2016_S87_L001_R1_001.fastq\n",
      "Gathering FASTA IDs: 68789/68789WS-CCE-Oct2016_S88_L001_R1_001.fastq\n",
      "Gathering FASTA IDs: 66873/66873WS-FC-Apr2016_S53_L001_R1_001.fastq\n",
      "Gathering FASTA IDs: 73234/73234WS-HF-Apr2016_S29_L001_R1_001.fastq\n",
      "Gathering FASTA IDs: 81402/81402WS-HPW-Oct2016_S32_L001_R1_001.fastq\n",
      "Gathering FASTA IDs: 66171/66171WS-SOY-Apr2016_S14_L001_R1_001.fastq\n",
      "Gathering FASTA IDs: 71659/71659WS-WH-Apr2016_S5_L001_R1_001.fastq\n",
      "Gathering FASTA IDs: 71228/71228WS-HF-Oct2016_S16_L001_R1_001.fastq\n",
      "Gathering FASTA IDs: 67942/67942WS-HPN-Oct2016_S24_L001_R1_001.fastq\n",
      "Gathering FASTA IDs: 63593/63593WS-HLP-Oct2016_S64_L001_R1_001.fastq\n",
      "Gathering FASTA IDs: 71374/71374WS-HF-Jul2016_S70_L001_R1_001.fastq\n",
      "Gathering FASTA IDs: 75450/75450WS-SOY-Jul2016_S55_L001_R1_001.fastq\n",
      "Gathering FASTA IDs: 75333/75333WS-TC-Jul2016_S7_L001_R1_001.fastq\n",
      "Gathering FASTA IDs: 66092/66092WS-CCW-Apr2016_S69_L001_R1_001.fastq\n",
      "Gathering FASTA IDs: 69194/69194WS-L-Oct2016_S8_L001_R1_001.fastq\n",
      "Gathering FASTA IDs: 68162/68162WS-SF-Apr2016_S92_L001_R1_001.fastq\n",
      "Gathering FASTA IDs: 73858/73858WS-MR-Apr2016_S13_L001_R1_001.fastq\n",
      "Gathering FASTA IDs: 69157/69157WS-MR-Oct2016_S95_L001_R1_001.fastq\n",
      "Gathering FASTA IDs: 76797/76797WS-TCR-Apr2016_S93_L001_R1_001.fastq\n",
      "Gathering FASTA IDs: 71431/71431WS-L-Jul2016_S62_L001_R1_001.fastq\n",
      "Gathering FASTA IDs: 70713/70713WS-MU-Jul2016_S30_L001_R1_001.fastq\n",
      "Gathering FASTA IDs: 66017/66017WS-FC-Oct2016_S40_L001_R1_001.fastq\n",
      "Gathering FASTA IDs: 67472/67472WS-CCE-Apr2016_S6_L001_R1_001.fastq\n",
      "Gathering FASTA IDs: 70011/70011WS-SF-Oct2016_S79_L001_R1_001.fastq\n",
      "Gathering FASTA IDs: 62932/62932WS-HLP-Apr2016_S77_L001_R1_001.fastq\n",
      "Gathering FASTA IDs: 69455/69455Wes3-5-TCR_S4_L001_R1_001.fastq\n",
      "Gathering FASTA IDs: 139830/139830Wes36-8-HW_S37_L001_R1_001.fastq\n",
      "Gathering FASTA IDs: 164014/164014Wes9-5-AG_S10_L001_R1_001.fastq\n",
      "Gathering FASTA IDs: 112424/112424Wes50-10-HLP_S51_L001_R1_001.fastq\n",
      "Gathering FASTA IDs: 83444/83444Wes13-5-HLP_S14_L001_R1_001.fastq\n",
      "Gathering FASTA IDs: 111824/111824Wes53-10-SOY_S54_L001_R1_001.fastq\n",
      "Gathering FASTA IDs: 113622/113622Wes25-8-MU_S26_L001_R1_001.fastq\n",
      "Gathering FASTA IDs: 137497/137497Wes8-5-MU_S9_L001_R1_001.fastq\n",
      "Gathering FASTA IDs: 91613/91613Wes43-10-L_S44_L001_R1_001.fastq\n",
      "Gathering FASTA IDs: 207913/207913Wes34-8-L_S35_L001_R1_001.fastq\n",
      "Gathering FASTA IDs: 154171/154171Wes37-10-MR_S38_L001_R1_001.fastq\n",
      "Gathering FASTA IDs: 134351/134351Wes40-10-TCR_S41_L001_R1_001.fastq\n",
      "Gathering FASTA IDs: 118085/118085Wes32-8-SF_S33_L001_R1_001.fastq\n",
      "Gathering FASTA IDs: 110710/110710Wes39-10-HF_S40_L001_R1_001.fastq\n",
      "Gathering FASTA IDs: 114038/114038Wes16-5-L_S17_L001_R1_001.fastq\n",
      "Gathering FASTA IDs: 69583/69583Wes4-5-HN_S5_L001_R1_001.fastq\n",
      "Gathering FASTA IDs: 96572/96572Wes19-8-WH_S20_L001_R1_001.fastq\n",
      "Gathering FASTA IDs: 159705/159705Wes42-10-CCE_S43_L001_R1_001.fastq\n",
      "Gathering FASTA IDs: 89828/89828Wes2-5-HF_S3_L001_R1_001.fastq\n",
      "Gathering FASTA IDs: 135181/135181Wes22-8-CCE_S23_L001_R1_001.fastq\n",
      "Gathering FASTA IDs: 80294/80294Wes10-5-FC_S11_L001_R1_001.fastq\n",
      "Gathering FASTA IDs: 89049/89049Wes35-8-SOY_S36_L001_R1_001.fastq\n",
      "Gathering FASTA IDs: 115905/115905Wes48-10-CCW_S49_L001_R1_001.fastq\n",
      "Gathering FASTA IDs: 82351/82351Wes26-8-AG_S27_L001_R1_001.fastq\n",
      "Gathering FASTA IDs: 110214/110214Wes12-5-SB_S13_L001_R1_001.fastq\n",
      "Gathering FASTA IDs: 115528/115528Wes15-5-TC_S16_L001_R1_001.fastq\n",
      "Gathering FASTA IDs: 177139/177139Wes41-10-HN_S42_L001_R1_001.fastq\n",
      "Gathering FASTA IDs: 108954/108954Wes31-8-HN_S32_L001_R1_001.fastq\n",
      "Gathering FASTA IDs: 119490/119490Wes51-10-SF_S52_L001_R1_001.fastq\n",
      "Gathering FASTA IDs: 208322/208322Wes6-5-MR_S7_L001_R1_001.fastq\n",
      "Gathering FASTA IDs: 112290/112290Wes1-5-WH_S2_L001_R1_001.fastq\n",
      "Gathering FASTA IDs: 163925/163925Wes17-5-SOY_S18_L001_R1_001.fastq\n",
      "Gathering FASTA IDs: 124994/124994Wes33-8-TC_S34_L001_R1_001.fastq\n",
      "Gathering FASTA IDs: 140108/140108Wes29-8-SB_S30_L001_R1_001.fastq\n",
      "Gathering FASTA IDs: 89170/89170Wes20-8-HF_S21_L001_R1_001.fastq\n",
      "Gathering FASTA IDs: 133177/133177Wes27-8-FC_S28_L001_R1_001.fastq\n",
      "Gathering FASTA IDs: 37099/37099Wes28-8-CCW_S29_L001_R1_001.fastq\n",
      "Gathering FASTA IDs: 91321/91321Wes45-10-MU_S46_L001_R1_001.fastq\n",
      "Gathering FASTA IDs: 193372/193372Wes47-10-FC_S48_L001_R1_001.fastq\n",
      "Gathering FASTA IDs: 69174/69174Wes49-10-SB_S50_L001_R1_001.fastq\n",
      "Gathering FASTA IDs: 76439/76439Wes38-10-WH_S39_L001_R1_001.fastq\n",
      "Gathering FASTA IDs: 148236/148236Wes44-PCRblank3_S45_L001_R1_001.fastq\n",
      "Gathering FASTA IDs: 1316/1316Wes7-PCRblank1_S8_L001_R1_001.fastq\n",
      "Gathering FASTA IDs: 185/185Wes46-10-AG_S47_L001_R1_001.fastq\n",
      "Gathering FASTA IDs: 108908/108908Wes23-8-MR_S24_L001_R1_001.fastq\n",
      "Gathering FASTA IDs: 65265/65265Wes5-5-CCE_S6_L001_R1_001.fastq\n",
      "Gathering FASTA IDs: 132558/132558Wes52-10-TC_S53_L001_R1_001.fastq\n",
      "Gathering FASTA IDs: 175185/175185Wes11-5-CCW_S12_L001_R1_001.fastq\n",
      "Gathering FASTA IDs: 84362/84362Wes24-PCRblank2_S25_L001_R1_001.fastq\n",
      "Gathering FASTA IDs: 41/41Wes54-10-HW_S55_L001_R1_001.fastq\n",
      "Gathering FASTA IDs: 156929/156929Wes21-8-TCR_S22_L001_R1_001.fastq\n",
      "Gathering FASTA IDs: 89393/89393Wes14-5-SF_S15_L001_R1_001.fastq\n",
      "Gathering FASTA IDs: 64459/64459Wes30-8-HLP_S31_L001_R1_001.fastq\n",
      "Gathering FASTA IDs: 74556/74556Wesley014-CCE-051120_S153_L001_R1_001.fastq.gz\n",
      "Gathering FASTA IDs: 19060/19060Wesley039-TCR-100420_S178_L001_R1_001.fastq.gz\n",
      "Gathering FASTA IDs: 17508/17508Wesley047-SF-100420_S186_L001_R1_001.fastq.gz\n",
      "Gathering FASTA IDs: 13949/13949Wesley034-Soy-072820_S173_L001_R1_001.fastq.gz\n",
      "Gathering FASTA IDs: 21277/21277Wesley038-Ag-100420_S177_L001_R1_001.fastq.gz\n",
      "Gathering FASTA IDs: 15387/15387Wesley011-Ag-051120_S150_L001_R1_001.fastq.gz\n",
      "Gathering FASTA IDs: 20734/20734Wesley053-HAP-100420_S192_L001_R1_001.fastq.gz\n",
      "Gathering FASTA IDs: 17933/17933Wesley046-MU-100420_S185_L001_R1_001.fastq.gz\n",
      "Gathering FASTA IDs: 15282/15282Wesley044-MR-100420_S183_L001_R1_001.fastq.gz\n",
      "Gathering FASTA IDs: 16321/16321Wesley001-WH-051220_S140_L001_R1_001.fastq.gz\n",
      "Gathering FASTA IDs: 17164/17164Wesley025-FC-072820_S164_L001_R1_001.fastq.gz\n",
      "Gathering FASTA IDs: 14730/14730Wesley008-FC-051120_S147_L001_R1_001.fastq.gz\n",
      "Gathering FASTA IDs: 20475/20475Wesley049-SB-100420_S188_L001_R1_001.fastq.gz\n",
      "Gathering FASTA IDs: 3628/3628Wesley027-HLP-072820_S166_L001_R1_001.fastq.gz\n",
      "Gathering FASTA IDs: 18911/18911Wesley036-HLP-081020_S175_L001_R1_001.fastq.gz\n",
      "Gathering FASTA IDs: 18905/18905Wesley009-Soy-051120_S148_L001_R1_001.fastq.gz\n",
      "Gathering FASTA IDs: 17481/17481Wesley056-NegCtrl_S195_L001_R1_001.fastq.gz\n",
      "Gathering FASTA IDs: 1759/1759Wesley048-HN-100420_S187_L001_R1_001.fastq.gz\n",
      "Gathering FASTA IDs: 14791/14791Wesley007-TC-051120_S146_L001_R1_001.fastq.gz\n",
      "Gathering FASTA IDs: 21783/21783Wesley029-SF-072820_S168_L001_R1_001.fastq.gz\n",
      "Gathering FASTA IDs: 18248/18248Wesley017-MU-051120_S156_L001_R1_001.fastq.gz\n",
      "Gathering FASTA IDs: 19205/19205Wesley031-SB-072820_S170_L001_R1_001.fastq.gz\n",
      "Gathering FASTA IDs: 20283/20283Wesley050-FC-100420_S189_L001_R1_001.fastq.gz\n",
      "Gathering FASTA IDs: 19505/19505Wesley019-TCR-072820_S158_L001_R1_001.fastq.gz\n",
      "Gathering FASTA IDs: 24111/24111Wesley054-HF-100420_S193_L001_R1_001.fastq.gz\n",
      "Gathering FASTA IDs: 14562/14562Wesley052-CCW-100420_S191_L001_R1_001.fastq.gz\n",
      "Gathering FASTA IDs: 16275/16275Wesley004-CCW-051220_S143_L001_R1_001.fastq.gz\n",
      "Gathering FASTA IDs: 11203/11203Wesley037-WH-100420_S176_L001_R1_001.fastq.gz\n",
      "Gathering FASTA IDs: 14606/14606Wesley013-TCR-051120_S152_L001_R1_001.fastq.gz\n",
      "Gathering FASTA IDs: 17586/17586Wesley012-HN-051120_S151_L001_R1_001.fastq.gz\n",
      "Gathering FASTA IDs: 16127/16127Wesley045-HLP-100420_S184_L001_R1_001.fastq.gz\n",
      "Gathering FASTA IDs: 14538/14538Wesley006-HLP-051220_S145_L001_R1_001.fastq.gz\n",
      "Gathering FASTA IDs: 19598/19598Wesley018-HN-072820_S157_L001_R1_001.fastq.gz\n",
      "Gathering FASTA IDs: 23133/23133Wesley041-TC-100420_S180_L001_R1_001.fastq.gz\n",
      "Gathering FASTA IDs: 19084/19084Wesley028-CCW-072820_S167_L001_R1_001.fastq.gz\n",
      "Gathering FASTA IDs: 16040/16040Wesley016-SB-051120_S155_L001_R1_001.fastq.gz\n",
      "Gathering FASTA IDs: 20621/20621Wesley021-HF-072820_S160_L001_R1_001.fastq.gz\n",
      "Gathering FASTA IDs: 18726/18726Wesley022-L-072820_S161_L001_R1_001.fastq.gz\n",
      "Gathering FASTA IDs: 20332/20332Wesley023-HW-072820_S162_L001_R1_001.fastq.gz\n",
      "Gathering FASTA IDs: 17256/17256Wesley020-TC-072820_S159_L001_R1_001.fastq.gz\n",
      "Gathering FASTA IDs: 22660/22660Wesley040-CCE-100420_S179_L001_R1_001.fastq.gz\n",
      "Gathering FASTA IDs: 15165/15165Wesley024-CCE-072820_S163_L001_R1_001.fastq.gz\n",
      "Gathering FASTA IDs: 19562/19562Wesley055-HAP-051120_S194_L001_R1_001.fastq.gz\n",
      "Gathering FASTA IDs: 17110/17110Wesley030-MR-072820_S169_L001_R1_001.fastq.gz\n",
      "Gathering FASTA IDs: 20173/20173Wesley043-L-100420_S182_L001_R1_001.fastq.gz\n",
      "Gathering FASTA IDs: 13839/13839Wesley003-L-051220_S142_L001_R1_001.fastq.gz\n",
      "Gathering FASTA IDs: 18310/18310Wesley033-MU-072820_S172_L001_R1_001.fastq.gz\n",
      "Gathering FASTA IDs: 19265/19265Wesley032-WH-072820_S171_L001_R1_001.fastq.gz\n",
      "Gathering FASTA IDs: 18881/18881Wesley035-HLP2-072820_S174_L001_R1_001.fastq.gz\n",
      "Gathering FASTA IDs: 18970/18970Wesley010-HW-051120_S149_L001_R1_001.fastq.gz\n",
      "Gathering FASTA IDs: 22565/22565Wesley005-HF-051220_S144_L001_R1_001.fastq.gz\n",
      "Gathering FASTA IDs: 20364/20364Wesley042-Soy-100420_S181_L001_R1_001.fastq.gz\n",
      "Gathering FASTA IDs: 17512/17512Wesley015-SF-051120_S154_L001_R1_001.fastq.gz\n",
      "Gathering FASTA IDs: 20642/20642Wesley051-HW-100420_S190_L001_R1_001.fastq.gz\n",
      "Gathering FASTA IDs: 15300/15300Wesley026-Ag-072820_S165_L001_R1_001.fastq.gz\n",
      "Gathering FASTA IDs: 17506/17506Wesley002-MR-051220_S141_L001_R1_001.fastq.gz\n",
      "Gathering FASTA IDs: 19206/19206"
     ]
    }
   ],
   "source": [
    "for folder in sample_folders:\n",
    "    for f in Path(folder).iterdir():\n",
    "        print(f\"{f.name}\\r\\n\", end=\"\")\n",
    "        mapping_entry = sample.SampleMappingEntryFactory(f.name, fasta_index)\n",
    "        sequences = np.array(list(map(trim_and_encode, fastq.entries(f))))\n",
    "        sequences = dna.encode_kmers(sequences, 3)\n",
    "        tax_ids = []\n",
    "        for i in range(0, len(sequences), 32):\n",
    "            tax_ids.append(model(sequences[i:i+32]).numpy())\n",
    "        tax_ids = np.concatenate(tax_ids, axis=0)\n",
    "        # tax_ids = model.predict(sequences)\n",
    "        taxa = [model.taxonomy_id_map[i] for i in np.argmax(tax_ids, axis=1)]\n",
    "        for i, tax in enumerate(taxa):\n",
    "            print(f\"\\rGathering FASTA IDs: {i+1}/{len(taxa)}\", end=\"\")\n",
    "            fasta_id = rng.choice(tax_to_fasta_ids[tax])\n",
    "            mapping_entry.add_fasta_id(fasta_id)\n",
    "        fasta_mapping_factory.write_entry(mapping_entry.build())"
   ]
  },
  {
   "cell_type": "code",
   "execution_count": 16,
   "id": "f1c9c214-dde3-4145-aa5c-e06f11731ea8",
   "metadata": {},
   "outputs": [],
   "source": [
    "fasta_mapping_factory.close()"
   ]
  },
  {
   "cell_type": "code",
   "execution_count": 5,
   "id": "76b7a1c4-03e1-4da0-929c-4110137fdc41",
   "metadata": {},
   "outputs": [
    {
     "data": {
      "text/plain": [
       "210"
      ]
     },
     "execution_count": 5,
     "metadata": {},
     "output_type": "execute_result"
    }
   ],
   "source": [
    "synthetic_samples = sample.load_multiplexed_fasta(dataset_root / \"synthetic.fasta.db\", dataset_root / \"synthetic.fasta.mapping.db\")\n",
    "len(synthetic_samples)"
   ]
  },
  {
   "cell_type": "code",
   "execution_count": null,
   "id": "24fdebf9-3ed5-4771-af03-b07f660bb6aa",
   "metadata": {},
   "outputs": [],
   "source": [
    "names = set([s.name for s in synthetic_samples])\n",
    "len(names)"
   ]
  },
  {
   "cell_type": "code",
   "execution_count": null,
   "id": "6fa52db6-5646-44b1-9454-37e826364194",
   "metadata": {},
   "outputs": [],
   "source": [
    "n = 0\n",
    "for folder in sample_folders:\n",
    "    for f in Path(folder).iterdir():\n",
    "        # print(f)\n",
    "        n += 1\n",
    "n"
   ]
  },
  {
   "cell_type": "code",
   "execution_count": null,
   "id": "087b13fa-88f1-47a2-ad26-b4e1b3e88df6",
   "metadata": {},
   "outputs": [],
   "source": [
    "for d in sample_folders:\n",
    "    print(len(list(Path(d).iterdir())))"
   ]
  },
  {
   "cell_type": "code",
   "execution_count": null,
   "id": "95228318-483d-4343-bd3f-075b90893442",
   "metadata": {},
   "outputs": [],
   "source": [
    "1"
   ]
  },
  {
   "cell_type": "markdown",
   "id": "9275f637-052e-4608-ad18-f367db6813c1",
   "metadata": {},
   "source": [
    "### DNABERT Classification"
   ]
  },
  {
   "cell_type": "code",
   "execution_count": 24,
   "id": "bce0b41f-dd98-4688-ade3-2eedb7685aba",
   "metadata": {},
   "outputs": [],
   "source": [
    "import wandb"
   ]
  },
  {
   "cell_type": "code",
   "execution_count": 25,
   "id": "8dfd35e0-9855-4ce1-8da8-4ad4fde778ec",
   "metadata": {},
   "outputs": [],
   "source": [
    "api = wandb.Api()"
   ]
  },
  {
   "cell_type": "code",
   "execution_count": 26,
   "id": "6e41d17c-dda1-4ffd-8a68-42d87dfc1dda",
   "metadata": {},
   "outputs": [
    {
     "name": "stderr",
     "output_type": "stream",
     "text": [
      "2023-08-21 22:51:22.892292: I tensorflow/core/platform/cpu_feature_guard.cc:193] This TensorFlow binary is optimized with oneAPI Deep Neural Network Library (oneDNN) to use the following CPU instructions in performance-critical operations:  SSE4.1 SSE4.2 AVX AVX2 FMA\n",
      "To enable them in other operations, rebuild TensorFlow with the appropriate compiler flags.\n",
      "2023-08-21 22:51:22.908856: I tensorflow/stream_executor/cuda/cuda_gpu_executor.cc:975] successful NUMA node read from SysFS had negative value (-1), but there must be at least one NUMA node, so returning NUMA node zero\n",
      "2023-08-21 22:51:22.909210: I tensorflow/stream_executor/cuda/cuda_gpu_executor.cc:975] successful NUMA node read from SysFS had negative value (-1), but there must be at least one NUMA node, so returning NUMA node zero\n",
      "2023-08-21 22:51:22.909485: I tensorflow/stream_executor/cuda/cuda_gpu_executor.cc:975] successful NUMA node read from SysFS had negative value (-1), but there must be at least one NUMA node, so returning NUMA node zero\n",
      "2023-08-21 22:51:23.917361: I tensorflow/stream_executor/cuda/cuda_gpu_executor.cc:975] successful NUMA node read from SysFS had negative value (-1), but there must be at least one NUMA node, so returning NUMA node zero\n",
      "2023-08-21 22:51:23.917640: I tensorflow/stream_executor/cuda/cuda_gpu_executor.cc:975] successful NUMA node read from SysFS had negative value (-1), but there must be at least one NUMA node, so returning NUMA node zero\n",
      "2023-08-21 22:51:23.917878: I tensorflow/stream_executor/cuda/cuda_gpu_executor.cc:975] successful NUMA node read from SysFS had negative value (-1), but there must be at least one NUMA node, so returning NUMA node zero\n",
      "2023-08-21 22:51:23.918081: I tensorflow/core/common_runtime/gpu/gpu_device.cc:1532] Created device /job:localhost/replica:0/task:0/device:GPU:0 with 22273 MB memory:  -> device: 0, name: NVIDIA GeForce RTX 3090, pci bus id: 0000:01:00.0, compute capability: 8.6\n"
     ]
    }
   ],
   "source": [
    "path = \"./logs/models/dnabert_taxonomy_naive/\"\n",
    "dnabert_tax = load_model(path)"
   ]
  },
  {
   "cell_type": "code",
   "execution_count": 28,
   "id": "fc915d42-f4c5-4855-a10f-eede4affae2d",
   "metadata": {},
   "outputs": [],
   "source": [
    "from deepdna.data.samplers import SampleSampler, SequenceSampler\n",
    "from deepdna.nn.data_generators import _encode_sequences, BatchGenerator\n",
    "import numpy.typing as npt\n",
    "from typing import Any, cast, Iterable\n",
    "\n",
    "class SequenceTaxonomyGenerator(BatchGenerator):\n",
    "    def __init__(\n",
    "        self,\n",
    "        fasta_taxonomy_pairs: Iterable[tuple[sample.FastaSample, taxonomy.TaxonomyDb]],\n",
    "        taxonomy_id_map: taxonomy.TaxonomyIdMap,\n",
    "        sequence_length: int,\n",
    "        kmer: int = 1,\n",
    "        subsample_size: int|None = None,\n",
    "        batch_size: int = 32,\n",
    "        batches_per_epoch: int = 100,\n",
    "        augment_slide: bool = True,\n",
    "        augment_ambiguous_bases: bool = True,\n",
    "        balance: bool = False,\n",
    "        shuffle: bool = True,\n",
    "        rng: np.random.Generator = np.random.default_rng()\n",
    "    ):\n",
    "        super().__init__(\n",
    "            batch_size=batch_size,\n",
    "            batches_per_epoch=batches_per_epoch,\n",
    "            shuffle=shuffle,\n",
    "            rng=rng\n",
    "        )\n",
    "        fasta_samples, taxonomy_dbs = zip(*fasta_taxonomy_pairs)\n",
    "        self.sample_sampler = SampleSampler(cast(tuple[sample.FastaSample, ...], fasta_samples))\n",
    "        self.sequence_sampler = SequenceSampler(sequence_length, augment_slide)\n",
    "        self.taxonomy_dbs: tuple[taxonomy.TaxonomyDb, ...] = cast(Any, taxonomy_dbs)\n",
    "        self.kmer = kmer\n",
    "        self.taxonomy_id_map = taxonomy_id_map\n",
    "        self.subsample_size = subsample_size\n",
    "        self.augment_ambiguous_bases = augment_ambiguous_bases\n",
    "        self.balance = balance\n",
    "\n",
    "    @property\n",
    "    def sequence_length(self) -> int:\n",
    "        return self.sequence_sampler.sequence_length\n",
    "\n",
    "    def generate_batch(\n",
    "        self,\n",
    "        rng: np.random.Generator\n",
    "    ) -> tuple[npt.NDArray[np.int32], npt.NDArray[np.int32]]:\n",
    "        subsample_size = self.subsample_size or 1\n",
    "        sequences = np.empty((self.batch_size, subsample_size), dtype=f\"<U{self.sequence_length}\")\n",
    "        sample_ids = np.empty(self.batch_size, dtype=np.int32)\n",
    "        sequence_ids = [None] * self.batch_size\n",
    "        label_ids = np.empty((self.batch_size, subsample_size), dtype=np.int32)\n",
    "        samples = self.sample_sampler.sample_with_ids(self.batch_size, self.balance, rng)\n",
    "        for i, (sample_id, sample) in enumerate(samples):\n",
    "            tax_db = self.taxonomy_dbs[sample_id]\n",
    "            sequence_info = tuple(self.sequence_sampler.sample_with_ids(sample, subsample_size, rng))\n",
    "            sequence_ids[i], sequences[i] = zip(*sequence_info)\n",
    "            sample_ids[i] = sample_id\n",
    "            label_ids[i] = [self.taxonomy_id_map[tax_db.fasta_id_to_label(fasta_id)] for fasta_id in sequence_ids[i]]\n",
    "        sequences = _encode_sequences(sequences, self.augment_ambiguous_bases, self.rng)\n",
    "        if self.subsample_size is None:\n",
    "            sequences = np.squeeze(sequences, axis=1)\n",
    "        sequences = sequences.astype(np.int32)\n",
    "        if self.kmer > 1:\n",
    "            sequences = dna.encode_kmers(sequences, self.kmer, not self.augment_ambiguous_bases).astype(np.int32) # type: ignore\n",
    "        return sample_ids, sequence_ids, sequences, label_ids\n",
    "\n",
    "    def reduce_batch(self, batch):\n",
    "        # remove sample IDs and sequence IDs\n",
    "        return batch[2:]"
   ]
  },
  {
   "cell_type": "code",
   "execution_count": 14,
   "id": "4ae764bf-a47e-421f-b94e-86dc798421f8",
   "metadata": {},
   "outputs": [
    {
     "data": {
      "text/plain": [
       "210"
      ]
     },
     "execution_count": 14,
     "metadata": {},
     "output_type": "execute_result"
    }
   ],
   "source": [
    "synthetic_samples = sample.load_multiplexed_fasta(dataset_root / \"synthetic.fasta.db\", dataset_root / \"synthetic.fasta.mapping.db\")\n",
    "len(synthetic_samples)"
   ]
  },
  {
   "cell_type": "code",
   "execution_count": 52,
   "id": "bad7ca32-0466-4544-bad9-9d3516fda0f6",
   "metadata": {},
   "outputs": [],
   "source": [
    "tax_db = taxonomy.TaxonomyDb(dataset_root / \"synthetic2.tax.tsv.db\")"
   ]
  },
  {
   "cell_type": "code",
   "execution_count": 54,
   "id": "ddf8506e-bfc0-4b54-9f3d-fcc52633b178",
   "metadata": {},
   "outputs": [],
   "source": [
    "gen = SequenceTaxonomyGenerator(\n",
    "    zip(synthetic_samples, itertools.repeat(tax_db)),\n",
    "    dnabert_tax.taxonomy_id_map,\n",
    "    150,\n",
    "    3,\n",
    "    1000,\n",
    "    batch_size=16\n",
    ")"
   ]
  },
  {
   "cell_type": "code",
   "execution_count": 80,
   "id": "5f792ee0-ed39-4998-b74e-ee10b571c6ce",
   "metadata": {},
   "outputs": [
    {
     "name": "stdout",
     "output_type": "stream",
     "text": [
      "0.72975             \n"
     ]
    },
    {
     "name": "stderr",
     "output_type": "stream",
     "text": [
      "Exception ignored in: <function DbWrapper.__del__ at 0x7fd73453e320>\n",
      "Traceback (most recent call last):\n",
      "  File \"/home/dwl2x/Libs/dnadb/src/dnadb/db.py\", line 89, in __del__\n",
      "    self.close()\n",
      "  File \"/home/dwl2x/Libs/dnadb/src/dnadb/db.py\", line 69, in close\n",
      "    if self.__is_closed:\n",
      "AttributeError: 'TaxonomyDb' object has no attribute '_DbWrapper__is_closed'\n"
     ]
    }
   ],
   "source": [
    "for batch in gen:\n",
    "    x, y = batch\n",
    "    x = x.reshape((-1, 148))\n",
    "    y_pred = []\n",
    "    for i in range(0, len(x), 256):\n",
    "        print(f\"\\r{i}/{len(x)}\", end=\"\")\n",
    "        y_pred = np.concatenate((y_pred, np.argmax(dnabert_tax(x[i:i+256]), axis=1)), axis=0)\n",
    "    y_pred = np.array(y_pred).flatten()\n",
    "    print(f\"\\r{np.sum(y.flatten() == y_pred) / len(y_pred):<20}\")\n",
    "    break"
   ]
  },
  {
   "cell_type": "code",
   "execution_count": null,
   "id": "9f20fc4e-55a7-4419-854a-5d242b8606a7",
   "metadata": {},
   "outputs": [],
   "source": []
  }
 ],
 "metadata": {
  "kernelspec": {
   "display_name": "Python 3 (ipykernel)",
   "language": "python",
   "name": "python3"
  },
  "language_info": {
   "codemirror_mode": {
    "name": "ipython",
    "version": 3
   },
   "file_extension": ".py",
   "mimetype": "text/x-python",
   "name": "python",
   "nbconvert_exporter": "python",
   "pygments_lexer": "ipython3",
   "version": "3.10.6"
  }
 },
 "nbformat": 4,
 "nbformat_minor": 5
}
