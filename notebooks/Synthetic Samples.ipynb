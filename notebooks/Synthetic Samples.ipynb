{
 "cells": [
  {
   "cell_type": "code",
   "execution_count": 45,
   "id": "27351862-6f29-4495-b6e1-c6c3343dd88c",
   "metadata": {},
   "outputs": [],
   "source": [
    "from collections import defaultdict\n",
    "from dataclasses import replace\n",
    "from dnadb import dna, fasta, fastq, sample, taxonomy\n",
    "from dnadb.datasets import Silva\n",
    "from functools import cache\n",
    "import numpy as np\n",
    "from pathlib import Path\n",
    "import tensorflow as tf\n",
    "import tf_utilities as tfu\n",
    "import time\n",
    "from tqdm.auto import tqdm\n",
    "import wandb\n",
    "\n",
    "from deepdna.nn.models import load_model\n",
    "from deepdna.nn.models.taxonomy import TopDownTaxonomyClassificationModel, TopDownConcatTaxonomyClassificationModel"
   ]
  },
  {
   "cell_type": "code",
   "execution_count": 2,
   "id": "e101a090-9984-4d76-9b83-c3b39153110a",
   "metadata": {},
   "outputs": [
    {
     "name": "stderr",
     "output_type": "stream",
     "text": [
      "2023-06-21 08:22:44.662716: I tensorflow/stream_executor/cuda/cuda_gpu_executor.cc:975] successful NUMA node read from SysFS had negative value (-1), but there must be at least one NUMA node, so returning NUMA node zero\n",
      "2023-06-21 08:22:44.662930: I tensorflow/stream_executor/cuda/cuda_gpu_executor.cc:975] successful NUMA node read from SysFS had negative value (-1), but there must be at least one NUMA node, so returning NUMA node zero\n",
      "2023-06-21 08:22:44.668929: I tensorflow/stream_executor/cuda/cuda_gpu_executor.cc:975] successful NUMA node read from SysFS had negative value (-1), but there must be at least one NUMA node, so returning NUMA node zero\n",
      "2023-06-21 08:22:44.669149: I tensorflow/stream_executor/cuda/cuda_gpu_executor.cc:975] successful NUMA node read from SysFS had negative value (-1), but there must be at least one NUMA node, so returning NUMA node zero\n",
      "2023-06-21 08:22:44.669323: I tensorflow/stream_executor/cuda/cuda_gpu_executor.cc:975] successful NUMA node read from SysFS had negative value (-1), but there must be at least one NUMA node, so returning NUMA node zero\n",
      "2023-06-21 08:22:44.669489: I tensorflow/stream_executor/cuda/cuda_gpu_executor.cc:975] successful NUMA node read from SysFS had negative value (-1), but there must be at least one NUMA node, so returning NUMA node zero\n"
     ]
    },
    {
     "data": {
      "text/plain": [
       "([PhysicalDevice(name='/physical_device:CPU:0', device_type='CPU')],\n",
       " [PhysicalDevice(name='/physical_device:GPU:1', device_type='GPU')])"
      ]
     },
     "execution_count": 2,
     "metadata": {},
     "output_type": "execute_result"
    }
   ],
   "source": [
    "tfu.devices.select_gpu(1)"
   ]
  },
  {
   "cell_type": "code",
   "execution_count": 3,
   "id": "884fa645-d9c6-41c4-a0d4-3f603c175847",
   "metadata": {},
   "outputs": [],
   "source": [
    "api = wandb.Api()"
   ]
  },
  {
   "cell_type": "code",
   "execution_count": 4,
   "id": "a08644f8-2fef-44f6-9caa-99862112d781",
   "metadata": {},
   "outputs": [],
   "source": [
    "rng = np.random.default_rng()"
   ]
  },
  {
   "cell_type": "markdown",
   "id": "f3df4cd8-2037-4f4a-a6c1-cdeea9ef8de5",
   "metadata": {},
   "source": [
    "## Taxonomy Classification Model"
   ]
  },
  {
   "cell_type": "code",
   "execution_count": 5,
   "id": "09af9ce2-07a8-4e87-814a-b01c5e222bdc",
   "metadata": {},
   "outputs": [
    {
     "name": "stderr",
     "output_type": "stream",
     "text": [
      "\u001b[34m\u001b[1mwandb\u001b[0m: Downloading large artifact dnabert-taxonomy-topdown-concat.silva.64d.150l:latest, 438.34MB. 4 files... \n",
      "\u001b[34m\u001b[1mwandb\u001b[0m:   4 of 4 files downloaded.  \n",
      "Done. 0:0:0.6\n",
      "2023-06-21 08:22:45.788510: I tensorflow/core/platform/cpu_feature_guard.cc:193] This TensorFlow binary is optimized with oneAPI Deep Neural Network Library (oneDNN) to use the following CPU instructions in performance-critical operations:  SSE4.1 SSE4.2 AVX AVX2 FMA\n",
      "To enable them in other operations, rebuild TensorFlow with the appropriate compiler flags.\n",
      "2023-06-21 08:22:45.790462: I tensorflow/stream_executor/cuda/cuda_gpu_executor.cc:975] successful NUMA node read from SysFS had negative value (-1), but there must be at least one NUMA node, so returning NUMA node zero\n",
      "2023-06-21 08:22:45.790705: I tensorflow/stream_executor/cuda/cuda_gpu_executor.cc:975] successful NUMA node read from SysFS had negative value (-1), but there must be at least one NUMA node, so returning NUMA node zero\n",
      "2023-06-21 08:22:45.790879: I tensorflow/stream_executor/cuda/cuda_gpu_executor.cc:975] successful NUMA node read from SysFS had negative value (-1), but there must be at least one NUMA node, so returning NUMA node zero\n",
      "2023-06-21 08:22:46.180521: I tensorflow/stream_executor/cuda/cuda_gpu_executor.cc:975] successful NUMA node read from SysFS had negative value (-1), but there must be at least one NUMA node, so returning NUMA node zero\n",
      "2023-06-21 08:22:46.180735: I tensorflow/stream_executor/cuda/cuda_gpu_executor.cc:975] successful NUMA node read from SysFS had negative value (-1), but there must be at least one NUMA node, so returning NUMA node zero\n",
      "2023-06-21 08:22:46.180911: I tensorflow/stream_executor/cuda/cuda_gpu_executor.cc:975] successful NUMA node read from SysFS had negative value (-1), but there must be at least one NUMA node, so returning NUMA node zero\n",
      "2023-06-21 08:22:46.181054: I tensorflow/core/common_runtime/gpu/gpu_device.cc:1532] Created device /job:localhost/replica:0/task:0/device:GPU:0 with 19786 MB memory:  -> device: 1, name: NVIDIA GeForce RTX 3090, pci bus id: 0000:21:00.0, compute capability: 8.6\n"
     ]
    },
    {
     "data": {
      "text/plain": [
       "<deepdna.nn.models.taxonomy.TopDownConcatTaxonomyClassificationModel at 0x7f1ea65015a0>"
      ]
     },
     "execution_count": 5,
     "metadata": {},
     "output_type": "execute_result"
    }
   ],
   "source": [
    "path = api.artifact(\"sirdavidludwig/dnabert-taxonomy-complete/dnabert-taxonomy-topdown-concat.silva.64d.150l:latest\").download()\n",
    "tax_model = load_model(path, TopDownConcatTaxonomyClassificationModel)\n",
    "tax_model"
   ]
  },
  {
   "cell_type": "code",
   "execution_count": 6,
   "id": "46e30bbf-c5f3-42fb-acfb-0f93693afb64",
   "metadata": {},
   "outputs": [
    {
     "data": {
      "text/plain": [
       "(None, 148)"
      ]
     },
     "execution_count": 6,
     "metadata": {},
     "output_type": "execute_result"
    }
   ],
   "source": [
    "tax_model.input_shape"
   ]
  },
  {
   "cell_type": "markdown",
   "id": "d3bfffec-8251-4a5c-bc84-1ca5ce4a851f",
   "metadata": {},
   "source": [
    "## SILVA Dataset"
   ]
  },
  {
   "cell_type": "code",
   "execution_count": 7,
   "id": "4971232a-97b6-4a52-8371-c8c479f991de",
   "metadata": {},
   "outputs": [
    {
     "data": {
      "text/plain": [
       "PosixPath('/home/dwl2x/work/Datasets/synthetic')"
      ]
     },
     "execution_count": 7,
     "metadata": {},
     "output_type": "execute_result"
    }
   ],
   "source": [
    "dataset_root = Path(\"~/work/Datasets/synthetic\").expanduser()\n",
    "dataset_root.mkdir(exist_ok=True)\n",
    "dataset_root"
   ]
  },
  {
   "cell_type": "code",
   "execution_count": 8,
   "id": "467a08a4-e594-48db-94b8-67c7d3c4f596",
   "metadata": {},
   "outputs": [
    {
     "data": {
      "text/plain": [
       "PosixPath('/tmp/Silva')"
      ]
     },
     "execution_count": 8,
     "metadata": {},
     "output_type": "execute_result"
    }
   ],
   "source": [
    "silva = Silva()\n",
    "silva.path"
   ]
  },
  {
   "cell_type": "markdown",
   "id": "e9aa095a-0e57-4cbd-aeb3-957cfedbbe02",
   "metadata": {},
   "source": [
    "Write the SILVA sequences to a FASTA database."
   ]
  },
  {
   "cell_type": "code",
   "execution_count": 9,
   "id": "a5722033-0532-4752-a269-b83eca36c7bc",
   "metadata": {},
   "outputs": [],
   "source": [
    "# db = fasta.FastaDbFactory(dataset_root / \"silva.fasta.db\")\n",
    "# db.write_entries(tqdm(silva.sequences()))\n",
    "# db.close()"
   ]
  },
  {
   "cell_type": "markdown",
   "id": "11c734a5-4b63-4cd1-903e-021d716cccb5",
   "metadata": {},
   "source": [
    "Create a index-to-sequenceID mapping."
   ]
  },
  {
   "cell_type": "code",
   "execution_count": 10,
   "id": "b14806ba-8c73-4cc2-8cba-810375c1b6e1",
   "metadata": {},
   "outputs": [],
   "source": [
    "# db = fasta.FastaIndexDbFactory(dataset_root / \"silva.fasta.index.db\")\n",
    "# db.write_entries(silva.sequences())\n",
    "# db.close()"
   ]
  },
  {
   "cell_type": "markdown",
   "id": "f360f763-4a9b-4c05-a35b-f26dcdd88bed",
   "metadata": {},
   "source": [
    "Write the SILVA taxonomies to a taxonomy TSV database."
   ]
  },
  {
   "cell_type": "code",
   "execution_count": 11,
   "id": "6f762d5d-7c49-4eb6-8696-b7b4391d00d6",
   "metadata": {},
   "outputs": [],
   "source": [
    "# db = taxonomy.TaxonomyDbFactory(dataset_root / \"silva.tax.tsv.db\")\n",
    "# for entry in tqdm(silva.taxonomies()):\n",
    "#     entry = replace(entry, label=entry.label + \"; s__\")\n",
    "#     db.write_entry(entry)\n",
    "# db.close()"
   ]
  },
  {
   "cell_type": "code",
   "execution_count": null,
   "id": "a4ba4f9b-b4ca-4486-a7b2-d9e12e1554c3",
   "metadata": {},
   "outputs": [],
   "source": []
  },
  {
   "cell_type": "code",
   "execution_count": 90,
   "id": "af7f82aa-4508-4568-afef-da5427768345",
   "metadata": {
    "tags": []
   },
   "outputs": [],
   "source": [
    "uncultured_families = set()\n",
    "cultured_families = set()\n",
    "for entry in silva.taxonomies():\n",
    "    taxons = taxonomy.split_taxonomy(entry.label)\n",
    "    if taxons[-1] == \"uncultured\":\n",
    "        uncultured_families.add(taxons[-2])\n",
    "    else:\n",
    "        cultured_families.add(taxons[-2])\n",
    "    taxonomy.join_taxonomy(taxons, depth=7)\n",
    "    # if \"uncultured\" in\n",
    "    # if \"__uncultured\" in entry.label:\n",
    "    #     print(entry)"
   ]
  },
  {
   "cell_type": "code",
   "execution_count": 95,
   "id": "31d0d4a5-d31d-40cd-b9be-96c9fa3d7400",
   "metadata": {},
   "outputs": [
    {
     "data": {
      "text/plain": [
       "{'Acetobacteraceae',\n",
       " 'Acidaminococcaceae',\n",
       " 'Acidiferrobacteraceae',\n",
       " 'Acidimicrobiaceae',\n",
       " 'Acidobacteriaceae_(Subgroup_1)',\n",
       " 'Actinomycetaceae',\n",
       " 'Aerococcaceae',\n",
       " 'Alcaligenaceae',\n",
       " 'Alteromonadaceae',\n",
       " 'Ammonificaceae',\n",
       " 'Amoebophilaceae',\n",
       " 'Anaerolineaceae',\n",
       " 'Anaerovoracaceae',\n",
       " 'Anaplasmataceae',\n",
       " 'Aphelidea',\n",
       " 'Aquificaceae',\n",
       " 'Archaeoglobaceae',\n",
       " 'Arcobacteraceae',\n",
       " 'Ardenticatenaceae',\n",
       " 'Arenicellaceae',\n",
       " 'Arthracanthida',\n",
       " 'Ascobolaceae',\n",
       " 'Atopobiaceae',\n",
       " 'Azospirillaceae',\n",
       " 'Bacillaceae',\n",
       " 'Bacillariophyceae',\n",
       " 'Bacteriovoracaceae',\n",
       " 'Balneolaceae',\n",
       " 'Barnesiellaceae',\n",
       " 'Bdellovibrionaceae',\n",
       " 'Beggiatoaceae',\n",
       " 'Beijerinckiaceae',\n",
       " 'Bernardetiaceae',\n",
       " 'Bifidobacteriaceae',\n",
       " 'Blastocatellaceae',\n",
       " 'Blattabacteriaceae',\n",
       " 'Brocadiaceae',\n",
       " 'Burkholderiaceae',\n",
       " 'Butyricicoccaceae',\n",
       " 'Caedibacteraceae',\n",
       " 'Caldilineaceae',\n",
       " 'Caloramatoraceae',\n",
       " 'Cardiobacteriaceae',\n",
       " 'Carnobacteriaceae',\n",
       " 'Caulobacteraceae',\n",
       " 'Cellvibrionaceae',\n",
       " 'Cercomonadidae',\n",
       " 'Chitinophagaceae',\n",
       " 'Chlamydiaceae',\n",
       " 'Chlorarachniophyta',\n",
       " 'Chlorobiaceae',\n",
       " 'Chloroflexaceae',\n",
       " 'Choanephoraceae',\n",
       " 'Choreotrichia',\n",
       " 'Christensenellaceae',\n",
       " 'Chromatiaceae',\n",
       " 'Chromulinales',\n",
       " 'Chroococcidiopsaceae',\n",
       " 'Chytridiaceae',\n",
       " 'Clade_I',\n",
       " 'Clostridiaceae',\n",
       " 'Coleofasciculaceae',\n",
       " 'Colpodea',\n",
       " 'Colwelliaceae',\n",
       " 'Comamonadaceae',\n",
       " 'Coriobacteriales_Incertae_Sedis',\n",
       " 'Corynebacteriaceae',\n",
       " 'Criblamydiaceae',\n",
       " 'Crocinitomicaceae',\n",
       " 'Cryomorphaceae',\n",
       " 'Cryptomonadales',\n",
       " 'Cucurbitariaceae',\n",
       " 'Cyanidiales',\n",
       " 'Cyanobacteriaceae',\n",
       " 'Cyanobacteriales_Incertae_Sedis',\n",
       " 'Cyclobacteriaceae',\n",
       " 'Cytophagaceae',\n",
       " 'Deferribacteraceae',\n",
       " 'Deinococcaceae',\n",
       " 'Demequinaceae',\n",
       " 'Dermabacteraceae',\n",
       " 'Dermatophilaceae',\n",
       " 'Desulfarculaceae',\n",
       " 'Desulfobacteraceae',\n",
       " 'Desulfobulbaceae',\n",
       " 'Desulfocapsaceae',\n",
       " 'Desulfococcaceae',\n",
       " 'Desulfolunaceae',\n",
       " 'Desulfosarcinaceae',\n",
       " 'Desulfotomaculales_Incertae_Sedis',\n",
       " 'Desulfovibrionaceae',\n",
       " 'Desulfurivibrionaceae',\n",
       " 'Desulfurococcaceae',\n",
       " 'Dethiobacteraceae',\n",
       " 'Devosiaceae',\n",
       " 'Diplorickettsiaceae',\n",
       " 'Dissulfuribacteraceae',\n",
       " 'Dysgonomonadaceae',\n",
       " 'Ectothiorhodospiraceae',\n",
       " 'Eggerthellaceae',\n",
       " 'Eimeriorina',\n",
       " 'Ellobiopsidae',\n",
       " 'Elsteraceae',\n",
       " 'Endogonaceae',\n",
       " 'Erwiniaceae',\n",
       " 'Erysipelatoclostridiaceae',\n",
       " 'Erysipelotrichaceae',\n",
       " 'Ethanoligenenaceae',\n",
       " 'Eubacteriaceae',\n",
       " 'Euglyphida',\n",
       " 'Eugregarinorida',\n",
       " 'Eustigmatales',\n",
       " 'Euzebyaceae',\n",
       " 'Family_XI',\n",
       " 'Ferroplasmaceae',\n",
       " 'Ferrovibrionales',\n",
       " 'Fervidicoccaceae',\n",
       " 'Fibrobacteraceae',\n",
       " 'Filobasidiaceae',\n",
       " 'Flammeovirgaceae',\n",
       " 'Flavobacteriaceae',\n",
       " 'Fodinicurvataceae',\n",
       " 'Fokiniaceae',\n",
       " 'Francisellaceae',\n",
       " 'Gallionellaceae',\n",
       " 'Geminicoccaceae',\n",
       " 'Gemmataceae',\n",
       " 'Gemmatimonadaceae',\n",
       " 'Geobacteraceae',\n",
       " 'Gimesiaceae',\n",
       " 'Glissomonadida',\n",
       " 'Glycomycetaceae',\n",
       " 'Gonyaulacales',\n",
       " 'Gracilibacteraceae',\n",
       " 'Gromochytriaceae',\n",
       " 'Gymnodinium_clade',\n",
       " 'Halobacterales',\n",
       " 'Halobacteriaceae',\n",
       " 'Halobacteroidaceae',\n",
       " 'Halococcaceae',\n",
       " 'Haloferacaceae',\n",
       " 'Halomicrobiaceae',\n",
       " 'Halomonadaceae',\n",
       " 'Halorhodospiraceae',\n",
       " 'Halothiobacillaceae',\n",
       " 'Haptoria',\n",
       " 'Helicobacteraceae',\n",
       " 'Heliobacteriaceae',\n",
       " 'Herpotrichiellaceae',\n",
       " 'Heterotrichea',\n",
       " 'Holophagaceae',\n",
       " 'Holosporaceae',\n",
       " 'Hungateiclostridiaceae',\n",
       " 'Hydrogenophilaceae',\n",
       " 'Hydrogenothermaceae',\n",
       " 'Hyphomicrobiaceae',\n",
       " 'Hyphomonadaceae',\n",
       " 'Hypotrichia',\n",
       " 'Ignisphaeraceae',\n",
       " 'Ilumatobacteraceae',\n",
       " 'Immundisolibacteraceae',\n",
       " 'Incertae_Sedis',\n",
       " 'Intrasporangiaceae',\n",
       " 'Isosphaeraceae',\n",
       " 'Jakobida',\n",
       " 'Kangiellaceae',\n",
       " 'Kathablepharidae',\n",
       " 'Kiloniellaceae',\n",
       " 'Kineosporiaceae',\n",
       " 'Kiritimatiellaceae',\n",
       " 'Kosmotogaceae',\n",
       " 'Ktedonobacteraceae',\n",
       " 'Lachnospiraceae',\n",
       " 'Lactobacillaceae',\n",
       " 'Legionellaceae',\n",
       " 'Leptolyngbyaceae',\n",
       " 'Leptospiraceae',\n",
       " 'Leptotrichiaceae',\n",
       " 'Lobulomycetaceae',\n",
       " 'Magnetospiraceae',\n",
       " 'Magnetospirillaceae',\n",
       " 'Mamiellophyceae',\n",
       " 'Marasmiaceae',\n",
       " 'Marinifilaceae',\n",
       " 'Marinilabiliaceae',\n",
       " 'Mediophyceae',\n",
       " 'Mesoaciditogaceae',\n",
       " 'Mesodiniidae',\n",
       " 'Methanobacteriaceae',\n",
       " 'Methanococcaceae',\n",
       " 'Methanomassiliicoccaceae',\n",
       " 'Methanomethylophilaceae',\n",
       " 'Methanomicrobiaceae',\n",
       " 'Methanomicrobiales',\n",
       " 'Methanosarcinaceae',\n",
       " 'Methylacidiphilaceae',\n",
       " 'Methylococcaceae',\n",
       " 'Methyloligellaceae',\n",
       " 'Methylomonadaceae',\n",
       " 'Methylophagaceae',\n",
       " 'Methylophilaceae',\n",
       " 'Methylopilaceae',\n",
       " 'Micavibrionaceae',\n",
       " 'Microbacteriaceae',\n",
       " 'Micrococcaceae',\n",
       " 'Microcystaceae',\n",
       " 'Micromonosporaceae',\n",
       " 'Micropepsaceae',\n",
       " 'Microscillaceae',\n",
       " 'Microtrichaceae',\n",
       " 'Moraxellaceae',\n",
       " 'Morganellaceae',\n",
       " 'Moritellaceae',\n",
       " 'Mycoplasmataceae',\n",
       " 'Myxococcaceae',\n",
       " 'Nannocystaceae',\n",
       " 'Nassophorea',\n",
       " 'Natranaerobiaceae',\n",
       " 'Nautiliaceae',\n",
       " 'Neisseriaceae',\n",
       " 'Neocallimastigaceae',\n",
       " 'Nitrincolaceae',\n",
       " 'Nitrococcaceae',\n",
       " 'Nitrosocaldaceae',\n",
       " 'Nitrosomonadaceae',\n",
       " 'Nitrospinaceae',\n",
       " 'Nocardioidaceae',\n",
       " 'Nocardiopsaceae',\n",
       " 'Nodosilineaceae',\n",
       " 'Nostocaceae',\n",
       " 'Ochromonadales',\n",
       " 'Oligoflexaceae',\n",
       " 'Oligohymenophorea',\n",
       " 'Oligotrichia',\n",
       " 'Omphalotaceae',\n",
       " 'Opitutaceae',\n",
       " 'Orbaceae',\n",
       " 'Oscillatoriaceae',\n",
       " 'Oscillospiraceae',\n",
       " 'Oxalobacteraceae',\n",
       " 'Paenibacillaceae',\n",
       " 'Paludibacteraceae',\n",
       " 'Paracaedibacteraceae',\n",
       " 'Parachlamydiaceae',\n",
       " 'Paraspirulinaceae',\n",
       " 'Parvibaculaceae',\n",
       " 'Parvularculaceae',\n",
       " 'Pasteurellaceae',\n",
       " 'Pectobacteriaceae',\n",
       " 'Pedosphaeraceae',\n",
       " 'Pelotomaculaceae',\n",
       " 'Peptococcaceae',\n",
       " 'Peptostreptococcaceae',\n",
       " 'Peptostreptococcales-Tissierellales',\n",
       " 'Peridiniales',\n",
       " 'Peronosporomycetes',\n",
       " 'Pezizaceae',\n",
       " 'Phaeosphaeriaceae',\n",
       " 'Phormidesmiaceae',\n",
       " 'Phormidiaceae',\n",
       " 'Phycisphaeraceae',\n",
       " 'Phytomyxea',\n",
       " 'Pirellulaceae',\n",
       " 'Piroplasmorida',\n",
       " 'Planococcaceae',\n",
       " 'Pleomorphomonadaceae',\n",
       " 'Polyangiaceae',\n",
       " 'Prevotellaceae',\n",
       " 'Prolixibacteraceae',\n",
       " 'Promicromonosporaceae',\n",
       " 'Propionibacteriaceae',\n",
       " 'Prymnesiales',\n",
       " 'Pseudanabaenaceae',\n",
       " 'Pseudoalteromonadaceae',\n",
       " 'Pseudonocardiaceae',\n",
       " 'Puniceicoccaceae',\n",
       " 'Pyrodictiaceae',\n",
       " 'Pyronemataceae',\n",
       " 'Reyranellaceae',\n",
       " 'Rhizobiaceae',\n",
       " 'Rhizobiales_Incertae_Sedis',\n",
       " 'Rhodanobacteraceae',\n",
       " 'Rhodobacteraceae',\n",
       " 'Rhodocyclaceae',\n",
       " 'Rhodospirillaceae',\n",
       " 'Rhodothermaceae',\n",
       " 'Rickettsiaceae',\n",
       " 'Rikenellaceae',\n",
       " 'Roseiflexaceae',\n",
       " 'Rubidibacteraceae',\n",
       " 'Rubinisphaeraceae',\n",
       " 'Rubritaleaceae',\n",
       " 'Ruminococcaceae',\n",
       " 'Saccharospirillaceae',\n",
       " 'Salinivirgaceae',\n",
       " 'Sandaracinaceae',\n",
       " 'Saprospiraceae',\n",
       " 'Sedimenticolaceae',\n",
       " 'Segniliparaceae',\n",
       " 'Selenomonadaceae',\n",
       " 'Silvanigrellaceae',\n",
       " 'Simkaniaceae',\n",
       " 'Sneathiellaceae',\n",
       " 'Solimonadaceae',\n",
       " 'Solirubrobacteraceae',\n",
       " 'Sphingobacteriaceae',\n",
       " 'Sphingomonadaceae',\n",
       " 'Spirochaetaceae',\n",
       " 'Spirosomaceae',\n",
       " 'Spongiibacteraceae',\n",
       " 'Sporichthyaceae',\n",
       " 'Sporidiobolaceae',\n",
       " 'Sporolactobacillaceae',\n",
       " 'Sporomusaceae',\n",
       " 'Spumellaria',\n",
       " 'Stereaceae',\n",
       " 'Steroidobacteraceae',\n",
       " 'Stigmatodiscaceae',\n",
       " 'Streptosporangiaceae',\n",
       " 'Succinivibrionaceae',\n",
       " 'Suessiaceae',\n",
       " 'Sulfobacillaceae',\n",
       " 'Sulfolobaceae',\n",
       " 'Sutterellaceae',\n",
       " 'Symbiobacteraceae',\n",
       " 'Sympoventuriaceae',\n",
       " 'Syndiniales',\n",
       " 'Synechococcaceae',\n",
       " 'Synergistaceae',\n",
       " 'Syntrophobacteraceae',\n",
       " 'Syntrophomonadaceae',\n",
       " 'Tannerellaceae',\n",
       " 'Terasakiellaceae',\n",
       " 'Thaumatomonadida',\n",
       " 'Thecofilosea',\n",
       " 'Thermacetogeniaceae',\n",
       " 'Thermoactinomycetaceae',\n",
       " 'Thermodesulfobacteriaceae',\n",
       " 'Thermomonosporaceae',\n",
       " 'Thermoplasmataceae',\n",
       " 'Thermoplasmatota',\n",
       " 'Thermoproteaceae',\n",
       " 'Thermosynechococcaceae',\n",
       " 'Thermotaleaceae',\n",
       " 'Thioalkalispiraceae',\n",
       " 'Thiohalorhabdaceae',\n",
       " 'Thiomicrospiraceae',\n",
       " 'Thiotrichaceae',\n",
       " 'Thoracosphaeraceae',\n",
       " 'Thraustochytriaceae',\n",
       " 'Trichomeriaceae',\n",
       " 'Trichostomatia',\n",
       " 'Unknown_Family',\n",
       " 'Vampyrellidae',\n",
       " 'Vannellida',\n",
       " 'Veillonellaceae',\n",
       " 'Verrucariaceae',\n",
       " 'Verrucomicrobiaceae',\n",
       " 'Vibrionaceae',\n",
       " 'Vicinamibacteraceae',\n",
       " 'Weeksellaceae',\n",
       " 'Williamwhitmaniaceae',\n",
       " 'Xanthobacteraceae',\n",
       " 'Xanthomonadaceae',\n",
       " 'Xenococcaceae'}"
      ]
     },
     "execution_count": 95,
     "metadata": {},
     "output_type": "execute_result"
    }
   ],
   "source": [
    "uncultured_families.intersection(cultured_families)"
   ]
  },
  {
   "cell_type": "code",
   "execution_count": 89,
   "id": "3ca5416d-4e6f-42d6-90c0-36fc4b7185cb",
   "metadata": {},
   "outputs": [
    {
     "ename": "AttributeError",
     "evalue": "'tuple' object has no attribute 'find'",
     "output_type": "error",
     "traceback": [
      "\u001b[0;31m---------------------------------------------------------------------------\u001b[0m",
      "\u001b[0;31mAttributeError\u001b[0m                            Traceback (most recent call last)",
      "Cell \u001b[0;32mIn [89], line 1\u001b[0m\n\u001b[0;32m----> 1\u001b[0m \u001b[43m(\u001b[49m\u001b[38;5;241;43m1\u001b[39;49m\u001b[43m,\u001b[49m\u001b[43m \u001b[49m\u001b[38;5;241;43m2\u001b[39;49m\u001b[43m,\u001b[49m\u001b[43m \u001b[49m\u001b[38;5;241;43m3\u001b[39;49m\u001b[43m)\u001b[49m\u001b[38;5;241;43m.\u001b[39;49m\u001b[43mfind\u001b[49m(\u001b[38;5;241m0\u001b[39m)\n",
      "\u001b[0;31mAttributeError\u001b[0m: 'tuple' object has no attribute 'find'"
     ]
    }
   ],
   "source": [
    "(1, 2, 3).find(0)"
   ]
  },
  {
   "cell_type": "code",
   "execution_count": 12,
   "id": "725dd4b0-1516-495b-9bcc-0cfb544bb219",
   "metadata": {},
   "outputs": [],
   "source": [
    "silva_index = fasta.FastaIndexDb(dataset_root / \"silva.fasta.index.db\")"
   ]
  },
  {
   "cell_type": "markdown",
   "id": "31a95546-7904-4b23-ac17-33646af93c22",
   "metadata": {},
   "source": [
    "Create a taxonomy-to-sequenceID mapping."
   ]
  },
  {
   "cell_type": "code",
   "execution_count": 13,
   "id": "7a76cc0a-da43-401d-b358-e7244ec8525a",
   "metadata": {},
   "outputs": [
    {
     "data": {
      "text/plain": [
       "11070"
      ]
     },
     "execution_count": 13,
     "metadata": {},
     "output_type": "execute_result"
    }
   ],
   "source": [
    "tax_to_fasta_id = {}\n",
    "for entry in silva.taxonomies():\n",
    "    label = entry.label + '; s__'\n",
    "    if label not in tax_to_fasta_id:\n",
    "        tax_to_fasta_id[label] = []\n",
    "    tax_to_fasta_id[label].append(entry.identifier)\n",
    "len(tax_to_fasta_id)"
   ]
  },
  {
   "cell_type": "markdown",
   "id": "176ba942-bac1-4145-a4cf-c6185ee902f9",
   "metadata": {},
   "source": [
    "## Taxonomy"
   ]
  },
  {
   "cell_type": "code",
   "execution_count": 67,
   "id": "95effde2-9981-4725-a782-e0798e31cd4a",
   "metadata": {},
   "outputs": [],
   "source": [
    "def genus_id_to_tax_label(taxon_id, depth=7):\n",
    "    taxon = tax_model.hierarchy.id_to_taxon_map[5][taxon_id]\n",
    "    taxons = []\n",
    "    while taxon.rank > -1:\n",
    "        taxons.append(taxon.name)\n",
    "        taxon = taxon.parent\n",
    "    return taxonomy.join_taxonomy(taxons[::-1], depth=depth)\n",
    "genus_to_tax_label_map = [genus_id_to_tax_label(t) for t in range(len(tax_model.hierarchy.taxons[5]))]"
   ]
  },
  {
   "cell_type": "code",
   "execution_count": 64,
   "id": "843b33d1-baf9-407c-a217-1900f5a22f1f",
   "metadata": {},
   "outputs": [],
   "source": [
    "def trim_and_encode_sequence(sequence: str, length=150, rng=np.random.default_rng()):\n",
    "    # Trim the sequence\n",
    "    offset = rng.integers(0, len(sequence) - length + 1)\n",
    "    sequence = sequence[offset:offset+length]\n",
    "    assert len(sequence) == length\n",
    "    return dna.encode_sequence(sequence)"
   ]
  },
  {
   "cell_type": "code",
   "execution_count": 65,
   "id": "eb120179-c806-4e58-99e5-a26e93bd607e",
   "metadata": {},
   "outputs": [],
   "source": [
    "taxon_counts_by_level = []\n",
    "for i, taxons in enumerate(tax_model.hierarchy.taxons[:-1]):\n",
    "    taxon_counts_by_level.append([1])\n",
    "    for taxon in taxons:\n",
    "        taxon_counts_by_level[i].append(len(taxon.children))\n",
    "taxon_counts_by_level[0]\n",
    "\n",
    "@tf.function()\n",
    "def sequences_to_taxons(sequences, top_k=1):\n",
    "    pred = tax_model(sequences)\n",
    "    probabilities = tf.cast(pred[0], tf.float64)\n",
    "    for i, taxon_counts in enumerate(taxon_counts_by_level, start=1):\n",
    "        gate_indices = [j for j, count in enumerate(taxon_counts) for _ in range(count)]\n",
    "        gate = tf.gather(probabilities, gate_indices, axis=-1)\n",
    "        probabilities = gate*tf.cast(pred[i], tf.float64)\n",
    "    probabilities = probabilities[:,1:]\n",
    "    indices = tf.math.top_k(probabilities, k=1).indices\n",
    "    return indices"
   ]
  },
  {
   "cell_type": "markdown",
   "id": "28af054b-0f74-49b1-b26c-19134c96680f",
   "metadata": {},
   "source": [
    "## Nachusa Sequences"
   ]
  },
  {
   "cell_type": "code",
   "execution_count": 14,
   "id": "027aae30-7eff-4e12-9a03-921933adb1c4",
   "metadata": {},
   "outputs": [],
   "source": [
    "sample_folders = [\n",
    "    \"nachusa-2015-soil16S-sequences\",\n",
    "    \"nachusa-2016-soil16S-sequences\",\n",
    "    \"nachusa-2017-soil16S-sequences\",\n",
    "    \"nachusa-2018-soil16S-sequences\",\n",
    "    # \"nachusa-2019-soil16S-sequences\", # missing\n",
    "    \"nachusa-2020-soil16S-sequences\",\n",
    "]"
   ]
  },
  {
   "cell_type": "code",
   "execution_count": 15,
   "id": "e5e65d22-6934-4bed-8e35-9ccb5f1f2098",
   "metadata": {},
   "outputs": [
    {
     "data": {
      "text/plain": [
       "210"
      ]
     },
     "execution_count": 15,
     "metadata": {},
     "output_type": "execute_result"
    }
   ],
   "source": [
    "nachusa_fastqs = []\n",
    "for sample_folder in sample_folders:\n",
    "    path = Path(\"/home/shared/prism-data/Nachusa Sequences\") / sample_folder\n",
    "    nachusa_fastqs += list(path.iterdir())\n",
    "len(nachusa_fastqs)"
   ]
  },
  {
   "cell_type": "code",
   "execution_count": 17,
   "id": "85ba0d24-ea5e-4679-bbcf-6f2aee6ccc60",
   "metadata": {},
   "outputs": [],
   "source": [
    "def trim_and_encode_sequence(sequence: str, length=150, rng=np.random.default_rng()):\n",
    "    # Trim the sequence\n",
    "    offset = rng.integers(0, len(sequence) - length + 1)\n",
    "    sequence = sequence[offset:offset+length]\n",
    "    assert len(sequence) == length\n",
    "    return dna.encode_sequence(sequence)"
   ]
  },
  {
   "cell_type": "code",
   "execution_count": 33,
   "id": "138d148d-2dd7-49bb-9b89-91fedc923848",
   "metadata": {},
   "outputs": [],
   "source": [
    "taxon_counts_by_level = []\n",
    "for i, taxons in enumerate(tax_model.hierarchy.taxons[:-1]):\n",
    "    taxon_counts_by_level.append([1])\n",
    "    for taxon in taxons:\n",
    "        taxon_counts_by_level[i].append(len(taxon.children))\n",
    "taxon_counts_by_level[0]\n",
    "\n",
    "@tf.function()\n",
    "def sequences_to_genus_taxons(sequences, top_k=1):\n",
    "    pred = tax_model(sequences)\n",
    "    probabilities = tf.cast(pred[0], tf.float64)\n",
    "    outputs = []\n",
    "    for i, taxon_counts in enumerate(taxon_counts_by_level, start=1):\n",
    "        gate_indices = [j for j, count in enumerate(taxon_counts) for _ in range(count)]\n",
    "        gate = tf.gather(probabilities, gate_indices, axis=-1)\n",
    "        probabilities = gate*tf.cast(pred[i], tf.float64)\n",
    "        normalized_probabilities = probabilities / tf.reduce_sum(probabilities)\n",
    "        outputs.append(tf.math.top_k(normalized_probabilities, k=top_k).indices)\n",
    "    # probabilities = probabilities[:,1:]\n",
    "    indices = tf.math.top_k(probabilities, k=1).indices\n",
    "    return indices"
   ]
  },
  {
   "cell_type": "code",
   "execution_count": 60,
   "id": "b8ff9787-a2b4-4832-9be0-d37a0bb98f44",
   "metadata": {},
   "outputs": [],
   "source": [
    "def genus_id_to_tax_label(taxon_id, depth=7):\n",
    "    taxon = tax_model.hierarchy.id_to_taxon_map[5][taxon_id]\n",
    "    taxons = []\n",
    "    while taxon.rank > -1:\n",
    "        taxons.append(taxon.name)\n",
    "        taxon = taxon.parent\n",
    "    return taxonomy.join_taxonomy(taxons[::-1], depth=depth)\n",
    "genus_to_tax_label_map = [genus_id_to_tax_label(t) for t in range(len(tax_model.hierarchy.taxons[5]))]"
   ]
  },
  {
   "cell_type": "code",
   "execution_count": 61,
   "id": "13821f75-22a3-45a7-94f6-38185a57ff91",
   "metadata": {},
   "outputs": [
    {
     "data": {
      "text/plain": [
       "32.78842353820801"
      ]
     },
     "execution_count": 61,
     "metadata": {},
     "output_type": "execute_result"
    }
   ],
   "source": [
    "batch_size = 256\n",
    "\n",
    "t = time.time()\n",
    "for file in nachusa_fastqs:\n",
    "    # Fetch and encode the sequences\n",
    "    sequences = np.array(list(map(trim_and_encode_sequence, map(lambda e: e.sequence, fastq.entries(file)))))\n",
    "    sequences = dna.replace_ambiguous_encoded_bases(sequences)\n",
    "    sequences = dna.encode_kmers(sequences, tax_model.base.base.kmer)\n",
    "\n",
    "    # Classify the sequences\n",
    "    abundances = defaultdict(int)\n",
    "    for i in range(0, len(sequences), batch_size):\n",
    "        batch = sequences[i:i+batch_size]\n",
    "        pred = sequences_to_genus_taxons(batch)\n",
    "        for row in pred:\n",
    "            abundances[genus_to_tax_label_map[row[0]]] += 1\n",
    "    break\n",
    "time.time() - t"
   ]
  },
  {
   "cell_type": "code",
   "execution_count": 63,
   "id": "b2d99042-d4b0-47ab-8eaf-1e880fa93e5f",
   "metadata": {},
   "outputs": [
    {
     "data": {
      "text/plain": [
       "1262"
      ]
     },
     "execution_count": 63,
     "metadata": {},
     "output_type": "execute_result"
    }
   ],
   "source": [
    "len(abundances)"
   ]
  },
  {
   "cell_type": "code",
   "execution_count": 21,
   "id": "9a9a3ada-52e0-4412-93cc-370e338ffbe3",
   "metadata": {},
   "outputs": [],
   "source": [
    "# result_logits = tax_model.model.predict(sequences, batch_size=256)"
   ]
  },
  {
   "cell_type": "code",
   "execution_count": 22,
   "id": "2d238f96-0d36-4748-83f5-852e578400fd",
   "metadata": {},
   "outputs": [],
   "source": [
    "result_f64 = [r.astype(np.float64) for r in result]"
   ]
  },
  {
   "cell_type": "code",
   "execution_count": 24,
   "id": "b9fb10c3-6ed4-4ea9-81f3-9b33037aad97",
   "metadata": {},
   "outputs": [
    {
     "data": {
      "text/plain": [
       "[1, 15, 89, 110]"
      ]
     },
     "execution_count": 24,
     "metadata": {},
     "output_type": "execute_result"
    }
   ],
   "source": [
    "taxon_counts_by_level = []\n",
    "for i, taxons in enumerate(tax_model.hierarchy.taxons[:-1]):\n",
    "    taxon_counts_by_level.append([1])\n",
    "    for taxon in taxons:\n",
    "        taxon_counts_by_level[i].append(len(taxon.children))\n",
    "taxon_counts_by_level[0]"
   ]
  },
  {
   "cell_type": "code",
   "execution_count": 25,
   "id": "3379b968-8bd7-41ee-be96-9c87d9b04f1f",
   "metadata": {},
   "outputs": [],
   "source": [
    "probabilities = result_f64[0]\n",
    "for i, taxon_counts in enumerate(taxon_counts_by_level, start=1):\n",
    "    gate_indices = np.array([j for j, count in enumerate(taxon_counts) for _ in range(count)])\n",
    "    gate = tf.gather(probabilities, gate_indices, axis=-1)\n",
    "    probabilities = gate*result_f64[i]\n",
    "probabilities = probabilities[:,1:]"
   ]
  },
  {
   "cell_type": "code",
   "execution_count": 30,
   "id": "cd4b214e-cb59-471a-bad1-73d8d99e6d7b",
   "metadata": {},
   "outputs": [
    {
     "data": {
      "text/plain": [
       "<tf.Tensor: shape=(256, 5), dtype=int32, numpy=\n",
       "array([[ 284,  286,  282,  280,  292],\n",
       "       [ 977,  981,  980,  982,  976],\n",
       "       [1482, 1491, 1432, 1517, 1434],\n",
       "       ...,\n",
       "       [ 965,  968,  940,  964,  952],\n",
       "       [ 606,  605,  617,  596,  620],\n",
       "       [2772, 2622, 2588, 1482, 1491]], dtype=int32)>"
      ]
     },
     "execution_count": 30,
     "metadata": {},
     "output_type": "execute_result"
    }
   ],
   "source": [
    "indices = tf.math.top_k(probabilities, 5).indices\n",
    "indices"
   ]
  },
  {
   "cell_type": "code",
   "execution_count": null,
   "id": "ed0fffe2-69fa-4856-a527-14c116aa8d4e",
   "metadata": {},
   "outputs": [],
   "source": [
    "class TaxonomyBayesianClassifier(tf.keras.models.Model):\n",
    "    def __init__(self, taxonomy_classifier, **kwargs):\n",
    "        super().__init__(**kwargs)\n",
    "        self.taxonomy_classifier = taxonomy_classifier\n",
    "\n",
    "    def call(self, inputs, top_k=1):\n"
   ]
  },
  {
   "cell_type": "code",
   "execution_count": 32,
   "id": "02a48d5d-511e-45aa-a719-cb15c2c17087",
   "metadata": {},
   "outputs": [],
   "source": [
    "for row in indices:\n",
    "    assert genus_id_to_tax_label(row[0]) in tax_to_fasta_id"
   ]
  },
  {
   "cell_type": "code",
   "execution_count": 24,
   "id": "c9d5f0a3-2606-485a-a340-944e9f1361ad",
   "metadata": {},
   "outputs": [],
   "source": [
    "probabilities = probabilities.numpy()"
   ]
  },
  {
   "cell_type": "code",
   "execution_count": 25,
   "id": "4fad553e-cfdb-4f1b-9fd3-5ca2d8782dad",
   "metadata": {},
   "outputs": [],
   "source": [
    "batch = probabilities[:256,1:]"
   ]
  },
  {
   "cell_type": "code",
   "execution_count": 26,
   "id": "1878bfca-9b39-4575-a494-c817476335f5",
   "metadata": {},
   "outputs": [
    {
     "data": {
      "text/plain": [
       "array([[ 4404,  5281, 10561, ...,   282,   286,   284],\n",
       "       [ 3481, 10562, 10559, ...,   982,   981,   980],\n",
       "       [ 4634,  5281,     2, ...,  1481,  1482,  1491],\n",
       "       ...,\n",
       "       [ 4489, 10562, 10561, ...,   940,   968,   965],\n",
       "       [ 1524,     0, 10546, ...,   606,   605,   617],\n",
       "       [ 2936,  5281,     2, ...,  2588,  2622,  2772]])"
      ]
     },
     "execution_count": 26,
     "metadata": {},
     "output_type": "execute_result"
    }
   ],
   "source": [
    "np.argpartition(batch, -5, axis=1)"
   ]
  },
  {
   "cell_type": "code",
   "execution_count": null,
   "id": "ca1b4b0f-11fd-41ff-be47-58d0d108eabc",
   "metadata": {},
   "outputs": [],
   "source": [
    "batch[np.argpartition(batch, -5, axis=0)]"
   ]
  },
  {
   "cell_type": "code",
   "execution_count": null,
   "id": "13c85d55-677f-461b-93a7-29064eecbe3e",
   "metadata": {},
   "outputs": [],
   "source": [
    "4"
   ]
  },
  {
   "cell_type": "code",
   "execution_count": 177,
   "id": "2fb689a1-9336-40f9-b1c2-97e459d98332",
   "metadata": {},
   "outputs": [
    {
     "data": {
      "text/plain": [
       "(256, 10564)"
      ]
     },
     "execution_count": 177,
     "metadata": {},
     "output_type": "execute_result"
    }
   ],
   "source": [
    "batch.shape"
   ]
  },
  {
   "cell_type": "code",
   "execution_count": 128,
   "id": "9ba0aad3-227d-4e89-818f-a867bbf1f19f",
   "metadata": {},
   "outputs": [
    {
     "data": {
      "text/plain": [
       "'k__Archaea; p__Aenigmarchaeota; c__Aenigmarchaeia; o__Aenigmarchaeales; f__Aenigmarchaeales; g__Candidatus_Aenigmarchaeum; s__'"
      ]
     },
     "execution_count": 128,
     "metadata": {},
     "output_type": "execute_result"
    }
   ],
   "source": [
    "genus_id_to_tax_label(1)"
   ]
  },
  {
   "cell_type": "code",
   "execution_count": 174,
   "id": "e186f1b2-a498-43f9-a356-805c881b376b",
   "metadata": {},
   "outputs": [
    {
     "ename": "AttributeError",
     "evalue": "'numpy.ndarray' object has no attribute 'numpy'",
     "output_type": "error",
     "traceback": [
      "\u001b[0;31m---------------------------------------------------------------------------\u001b[0m",
      "\u001b[0;31mAttributeError\u001b[0m                            Traceback (most recent call last)",
      "Cell \u001b[0;32mIn [174], line 1\u001b[0m\n\u001b[0;32m----> 1\u001b[0m \u001b[43mprobabilities\u001b[49m\u001b[43m[\u001b[49m\u001b[43m:\u001b[49m\u001b[38;5;241;43m256\u001b[39;49m\u001b[43m,\u001b[49m\u001b[38;5;241;43m1\u001b[39;49m\u001b[43m:\u001b[49m\u001b[43m]\u001b[49m\u001b[38;5;241;43m.\u001b[39;49m\u001b[43mnumpy\u001b[49m()[np\u001b[38;5;241m.\u001b[39margpartition(probabilities[:\u001b[38;5;241m256\u001b[39m,\u001b[38;5;241m1\u001b[39m:], \u001b[38;5;241m-\u001b[39m\u001b[38;5;241m5\u001b[39m, axis\u001b[38;5;241m=\u001b[39m\u001b[38;5;241m1\u001b[39m)[:,\u001b[38;5;241m-\u001b[39m\u001b[38;5;241m5\u001b[39m:]]\n",
      "\u001b[0;31mAttributeError\u001b[0m: 'numpy.ndarray' object has no attribute 'numpy'"
     ]
    }
   ],
   "source": [
    "probabilities[:256,1:].numpy()[np.argpartition(probabilities[:256,1:], -5, axis=1)[:,-5:]]"
   ]
  },
  {
   "cell_type": "code",
   "execution_count": 36,
   "id": "540a2aac-408e-407a-be6e-621e8a12f2c4",
   "metadata": {},
   "outputs": [
    {
     "data": {
      "text/plain": [
       "array([[-0.40246809, -1.31822226,  1.12585387,  0.53307294,  0.52990556],\n",
       "       [ 0.81157848,  1.08686566, -1.43370008,  0.11677023, -1.24866921]])"
      ]
     },
     "execution_count": 36,
     "metadata": {},
     "output_type": "execute_result"
    }
   ],
   "source": [
    "a = np.random.normal(size=(2, 5))\n",
    "a"
   ]
  },
  {
   "cell_type": "code",
   "execution_count": 39,
   "id": "e0e688d9-2c7b-43c6-8410-13e479efe44e",
   "metadata": {},
   "outputs": [
    {
     "data": {
      "text/plain": [
       "array([[-1.31822226, -0.40246809,  0.52990556,  0.53307294,  1.12585387],\n",
       "       [-1.43370008, -1.24866921,  0.11677023,  0.81157848,  1.08686566]])"
      ]
     },
     "execution_count": 39,
     "metadata": {},
     "output_type": "execute_result"
    }
   ],
   "source": [
    "np.take_along_axis(a, np.argpartition(a, 2, axis=1), 1)"
   ]
  },
  {
   "cell_type": "code",
   "execution_count": 154,
   "id": "2aac7fda-b14a-4637-b5cc-54b8cdd54fe4",
   "metadata": {},
   "outputs": [
    {
     "data": {
      "text/plain": [
       "array([[ 7271,  7273,  7233, ...,   282,   286,   284],\n",
       "       [ 8795,  8802,  8806, ...,   980,   977,   981],\n",
       "       [  168,  5610,  5559, ...,  1481,  1491,  1482],\n",
       "       ...,\n",
       "       [ 4655,  8803,  8504, ...,   940,   968,   965],\n",
       "       [ 7572, 10297,   237, ...,   605,   617,   606],\n",
       "       [ 8249,  8258,   118, ...,  2588,  2622,  2772]])"
      ]
     },
     "execution_count": 154,
     "metadata": {},
     "output_type": "execute_result"
    }
   ],
   "source": [
    "np.argsort(probabilities[:256,1:], axis=1)"
   ]
  },
  {
   "cell_type": "code",
   "execution_count": 130,
   "id": "800356e4-2a30-4df6-ab44-20545bf85851",
   "metadata": {},
   "outputs": [
    {
     "data": {
      "text/plain": [
       "array([ 284,  981, 1482,  336, 4012, 3801,  968, 2446, 2730, 2446, 2962,\n",
       "       3008, 1482,  322,  533, 2966,  946, 3732, 2730, 2025,  292,  322,\n",
       "       2469,  777, 1432, 3492, 2966,  322, 1482, 2002,  286,  617, 1345,\n",
       "       2610, 2730,  784, 2772, 2730, 2806, 3941, 2795, 1540, 3297,  216,\n",
       "       4391, 3507,  957,  981, 3471,  292, 3492, 4385, 2806, 3763,  286,\n",
       "       3284, 3002, 2025, 3307,  850,  322, 1404, 3822, 2815, 3541, 4581,\n",
       "       1285, 3822, 2815, 1734,  292, 3878, 3008, 3149, 1345,  322, 4355,\n",
       "       2914, 3881, 4433, 3212, 2837, 2806, 2806,  249,   27,  940, 1308,\n",
       "       4355,   99, 3284, 1482, 2490, 4581, 3192, 1418,  377,  313, 3161,\n",
       "       3065, 4298, 2986, 2469,  946, 4382, 2730,  956, 3782,  313,  292,\n",
       "       1054, 1060, 4546, 3833,  322, 1279, 2806, 3492, 3256,  322,  825,\n",
       "       2987, 2986, 3603, 3522, 7196, 1060, 1824, 1412, 3941, 3492, 4581,\n",
       "       2730, 3291, 3627, 2535,  322, 2806, 3070,   27, 3941, 2765, 2824,\n",
       "        313,  944, 2733,  779,  977, 3665, 1377,  940, 2986,  256, 4581,\n",
       "        322, 1824, 3083, 3212, 2490, 2795, 3665, 2806, 3687, 3288, 1901,\n",
       "       2622, 4398, 3498, 4383,  946, 2886, 2795,  292, 2987, 3147, 3066,\n",
       "       2815, 2230, 3763,  784, 3008,  946,  268, 2966,   27, 4015, 2992,\n",
       "       3760,  940, 2730,   26, 1540, 4382,  952, 1429, 2446, 2815, 2914,\n",
       "       2815,  216, 2903, 3148, 3042, 1044, 1047, 3803, 2815, 1432, 3763,\n",
       "        280,  970, 1540, 2806, 1049, 3637,  957, 3779, 2730, 2702, 1268,\n",
       "       1412,  946, 3492, 2806, 4539, 1451, 4257, 3941, 3288, 1491, 3184,\n",
       "       2469, 1265, 3941, 4546,  970, 2962, 3492, 3941, 3760, 4546, 1437,\n",
       "       1976, 2230,  292, 1491, 2953, 1344, 2293,  965, 2795,  320, 3492,\n",
       "        965,  606, 2772])"
      ]
     },
     "execution_count": 130,
     "metadata": {},
     "output_type": "execute_result"
    }
   ],
   "source": [
    "np.argmax(probabilities[:256,1:], axis=1)"
   ]
  },
  {
   "cell_type": "code",
   "execution_count": 91,
   "id": "1317b12e-daaa-4c08-81e2-31642375bf4b",
   "metadata": {},
   "outputs": [
    {
     "data": {
      "text/plain": [
       "(71553, 215)"
      ]
     },
     "execution_count": 91,
     "metadata": {},
     "output_type": "execute_result"
    }
   ],
   "source": [
    "result_f64[1].shape"
   ]
  },
  {
   "cell_type": "code",
   "execution_count": 50,
   "id": "9d1f218c-69fe-479d-b954-4a7405d6ba7c",
   "metadata": {},
   "outputs": [
    {
     "data": {
      "text/plain": [
       "71553"
      ]
     },
     "execution_count": 50,
     "metadata": {},
     "output_type": "execute_result"
    }
   ],
   "source": [
    "for i in range(len(result[0])):\n",
    "    break"
   ]
  },
  {
   "cell_type": "code",
   "execution_count": null,
   "id": "49e9ebb3-5004-4049-a809-e5e804b84a32",
   "metadata": {},
   "outputs": [],
   "source": [
    "[0][]"
   ]
  },
  {
   "cell_type": "code",
   "execution_count": 46,
   "id": "a6e7dd8a-9a65-4158-8ae9-0796cf5cebfc",
   "metadata": {},
   "outputs": [
    {
     "data": {
      "text/plain": [
       "13855"
      ]
     },
     "execution_count": 46,
     "metadata": {},
     "output_type": "execute_result"
    }
   ],
   "source": [
    "len(abundances)"
   ]
  },
  {
   "cell_type": "code",
   "execution_count": 30,
   "id": "25eb12f1-5884-4840-887e-b86ec506dca0",
   "metadata": {},
   "outputs": [
    {
     "data": {
      "text/plain": [
       "(array([[   1,   18,   40,   80,  126,  284],\n",
       "        [   1,   27,   77,  158,  302, 1266],\n",
       "        [   1,   35,  100,  236,  461, 1490],\n",
       "        ...,\n",
       "        [   1,   83,  244,  554,  958, 3066],\n",
       "        [   1,   19,   64,  140,  234,  777],\n",
       "        [   1,   72,  201,  421,  791, 2772]]),\n",
       " (71553, 6))"
      ]
     },
     "execution_count": 30,
     "metadata": {},
     "output_type": "execute_result"
    }
   ],
   "source": [
    "taxon_ids = np.array([np.argmax(r, axis=1) for r in result]).T\n",
    "taxon_ids, taxon_ids.shape"
   ]
  },
  {
   "cell_type": "code",
   "execution_count": 22,
   "id": "0e69979c-22e2-419f-82fd-890a74448756",
   "metadata": {},
   "outputs": [
    {
     "ename": "NameError",
     "evalue": "name 'result' is not defined",
     "output_type": "error",
     "traceback": [
      "\u001b[0;31m---------------------------------------------------------------------------\u001b[0m",
      "\u001b[0;31mNameError\u001b[0m                                 Traceback (most recent call last)",
      "Cell \u001b[0;32mIn [22], line 1\u001b[0m\n\u001b[0;32m----> 1\u001b[0m \u001b[43mresult\u001b[49m[\u001b[38;5;241m0\u001b[39m]\n",
      "\u001b[0;31mNameError\u001b[0m: name 'result' is not defined"
     ]
    }
   ],
   "source": [
    "result[0]"
   ]
  },
  {
   "cell_type": "code",
   "execution_count": 32,
   "id": "e257b0e3-89a8-4b0d-8102-4d218a0a6f90",
   "metadata": {},
   "outputs": [],
   "source": [
    "entry_factory = sample.SampleMappingEntryFactory(file.stem, silva_index)\n"
   ]
  },
  {
   "cell_type": "code",
   "execution_count": 33,
   "id": "2bec61c2-74b2-496a-bcc9-35aeccf8b75f",
   "metadata": {},
   "outputs": [
    {
     "name": "stdout",
     "output_type": "stream",
     "text": [
      "k__Bacteria; p__Acidobacteriota; c__Blastocatellia; o__Blastocatellales; f__Blastocatellaceae; g__JGI_0001001-H03; s__ 393\n"
     ]
    },
    {
     "ename": "KeyError",
     "evalue": "'k__Bacteria; p__Bacteroidota; c__Bacteroidia; o__Chitinophagales; f__Saprospiraceae; g__Lentimicrobium; s__'",
     "output_type": "error",
     "traceback": [
      "\u001b[0;31m---------------------------------------------------------------------------\u001b[0m",
      "\u001b[0;31mKeyError\u001b[0m                                  Traceback (most recent call last)",
      "Cell \u001b[0;32mIn [33], line 2\u001b[0m\n\u001b[1;32m      1\u001b[0m \u001b[38;5;28;01mfor\u001b[39;00m label, abundance \u001b[38;5;129;01min\u001b[39;00m abundances\u001b[38;5;241m.\u001b[39mitems():\n\u001b[0;32m----> 2\u001b[0m     fasta_id \u001b[38;5;241m=\u001b[39m rng\u001b[38;5;241m.\u001b[39mchoice(\u001b[43mtax_to_fasta_id\u001b[49m\u001b[43m[\u001b[49m\u001b[43mlabel\u001b[49m\u001b[43m]\u001b[49m)\n\u001b[1;32m      3\u001b[0m     entry_factory\u001b[38;5;241m.\u001b[39madd_fasta_id(fasta_id, abundance)\n\u001b[1;32m      4\u001b[0m     \u001b[38;5;28mprint\u001b[39m(label, abundance)\n",
      "\u001b[0;31mKeyError\u001b[0m: 'k__Bacteria; p__Bacteroidota; c__Bacteroidia; o__Chitinophagales; f__Saprospiraceae; g__Lentimicrobium; s__'"
     ]
    }
   ],
   "source": [
    "for label, abundance in abundances.items():\n",
    "    fasta_id = rng.choice(tax_to_fasta_id[label])\n",
    "    entry_factory.add_fasta_id(fasta_id, abundance)\n",
    "    print(label, abundance)\n",
    "# tax_model.hierarchy.detokenize(taxon_ids)"
   ]
  },
  {
   "cell_type": "code",
   "execution_count": 38,
   "id": "5c555663-b938-4143-bef2-bc7d0c58c686",
   "metadata": {},
   "outputs": [
    {
     "ename": "KeyError",
     "evalue": "'k__Bacteria; p__Bacteroidota; c__Bacteroidia; o__Chitinophagales; f__Saprospiraceae; g__; s__'",
     "output_type": "error",
     "traceback": [
      "\u001b[0;31m---------------------------------------------------------------------------\u001b[0m",
      "\u001b[0;31mKeyError\u001b[0m                                  Traceback (most recent call last)",
      "Cell \u001b[0;32mIn [38], line 1\u001b[0m\n\u001b[0;32m----> 1\u001b[0m \u001b[43mtax_to_fasta_id\u001b[49m\u001b[43m[\u001b[49m\u001b[38;5;124;43m\"\u001b[39;49m\u001b[38;5;124;43mk__Bacteria; p__Bacteroidota; c__Bacteroidia; o__Chitinophagales; f__Saprospiraceae; g__; s__\u001b[39;49m\u001b[38;5;124;43m\"\u001b[39;49m\u001b[43m]\u001b[49m\n",
      "\u001b[0;31mKeyError\u001b[0m: 'k__Bacteria; p__Bacteroidota; c__Bacteroidia; o__Chitinophagales; f__Saprospiraceae; g__; s__'"
     ]
    }
   ],
   "source": [
    "tax_to_fasta_id[\"k__Bacteria; p__Bacteroidota; c__Bacteroidia; o__Chitinophagales; f__Saprospiraceae; g__; s__\"]"
   ]
  },
  {
   "cell_type": "code",
   "execution_count": 36,
   "id": "f0b8c959-3346-4a59-8c1d-ce3885e8420a",
   "metadata": {},
   "outputs": [
    {
     "data": {
      "text/plain": [
       "'k__Bacteria; p__Bacteroidota; c__Bacteroidia; o__Chitinophagales; f__Saprospiraceae; g__; s__'"
      ]
     },
     "execution_count": 36,
     "metadata": {},
     "output_type": "execute_result"
    }
   ],
   "source": [
    "tax_model.hierarchy.reduce_taxonomy(\"k__Bacteria; p__Bacteroidota; c__Bacteroidia; o__Chitinophagales; f__Saprospiraceae; g__Lentimicrobium; s__\")"
   ]
  },
  {
   "cell_type": "code",
   "execution_count": 43,
   "id": "d29eafad-5e94-49a4-b8ea-79aeb31c11b9",
   "metadata": {},
   "outputs": [
    {
     "data": {
      "text/plain": [
       "[15, 89, 110]"
      ]
     },
     "execution_count": 43,
     "metadata": {},
     "output_type": "execute_result"
    }
   ],
   "source": [
    "[len(t.children) for t in tax_model.hierarchy.id_to_taxon_map[0].values()]"
   ]
  },
  {
   "cell_type": "code",
   "execution_count": 21,
   "id": "24637f48-a021-43e1-b60b-efb40fb1e674",
   "metadata": {},
   "outputs": [
    {
     "data": {
      "text/plain": [
       "'k__Archaea; p__Altiarchaeota; c__Aenigmarchaeota; o__Aenigmarchaeota; f__Aenigmarchaeota; g__Candidatus_Aenigmarchaeum; s__'"
      ]
     },
     "execution_count": 21,
     "metadata": {},
     "output_type": "execute_result"
    }
   ],
   "source": [
    "taxonomy.join_taxonomy(tax_model.hierarchy.detokenize_taxons(np.array([0, 1, 1, 1, 1, 1])))"
   ]
  },
  {
   "cell_type": "code",
   "execution_count": 40,
   "id": "736a721c-27e9-45d0-8dc7-fe995f38fcf2",
   "metadata": {},
   "outputs": [
    {
     "data": {
      "text/plain": [
       "array([ 15, 104, 214])"
      ]
     },
     "execution_count": 40,
     "metadata": {},
     "output_type": "execute_result"
    }
   ],
   "source": [
    "np.cumsum([len(t.children) for t in tax_model.hierarchy.id_to_taxon_map[0].values()])"
   ]
  },
  {
   "cell_type": "code",
   "execution_count": 42,
   "id": "3599d265-2748-4546-bed7-133568cd31ca",
   "metadata": {},
   "outputs": [
    {
     "data": {
      "text/plain": [
       "(71553, 215)"
      ]
     },
     "execution_count": 42,
     "metadata": {},
     "output_type": "execute_result"
    }
   ],
   "source": [
    "result[1].shape"
   ]
  },
  {
   "cell_type": "code",
   "execution_count": 33,
   "id": "1866a4cd-00c0-40eb-9b3b-2e646ff71489",
   "metadata": {},
   "outputs": [
    {
     "data": {
      "text/plain": [
       "array([1, 1, 1, ..., 1, 1, 1])"
      ]
     },
     "execution_count": 33,
     "metadata": {},
     "output_type": "execute_result"
    }
   ],
   "source": [
    "np.argmax(result[0], axis=1)"
   ]
  },
  {
   "cell_type": "code",
   "execution_count": 27,
   "id": "7895bec1-69f6-4a69-a377-0dd0decb1d7e",
   "metadata": {},
   "outputs": [
    {
     "data": {
      "text/plain": [
       "'k__Bacteria; p__Bacteroidota; c__Bacteroidia; o__Chitinophagales; f__; g__; s__'"
      ]
     },
     "execution_count": 27,
     "metadata": {},
     "output_type": "execute_result"
    }
   ],
   "source": [
    "# Reduce the tax label to a valid hierarchy\n",
    "tax_model.hierarchy.reduce_taxonomy(\"k__Bacteria; p__Bacteroidota; c__Bacteroidia; o__Chitinophagales; f__Sphingobacteriaceae; g__Sphingobacterium; s__\")"
   ]
  },
  {
   "cell_type": "markdown",
   "id": "9a3e4f44-3158-4c83-8984-3a2b139a12d4",
   "metadata": {},
   "source": [
    "## Hopland Sequences"
   ]
  },
  {
   "cell_type": "code",
   "execution_count": 31,
   "id": "446ac186-2610-4ed9-bd95-c84a916629b9",
   "metadata": {},
   "outputs": [
    {
     "data": {
      "text/plain": [
       "256"
      ]
     },
     "execution_count": 31,
     "metadata": {},
     "output_type": "execute_result"
    }
   ],
   "source": [
    "hopland_fastqs = [\n",
    "    p for p in Path(\"/home/shared/hopland/fastq\").iterdir()\n",
    "    if not p.name.startswith(\"Blank\")]\n",
    "len(hopland_fastqs)"
   ]
  },
  {
   "cell_type": "code",
   "execution_count": null,
   "id": "f2acd0c6-8e2f-44a6-9b3f-5580515402f3",
   "metadata": {},
   "outputs": [],
   "source": []
  }
 ],
 "metadata": {
  "kernelspec": {
   "display_name": "Python 3 (ipykernel)",
   "language": "python",
   "name": "python3"
  },
  "language_info": {
   "codemirror_mode": {
    "name": "ipython",
    "version": 3
   },
   "file_extension": ".py",
   "mimetype": "text/x-python",
   "name": "python",
   "nbconvert_exporter": "python",
   "pygments_lexer": "ipython3",
   "version": "3.10.6"
  }
 },
 "nbformat": 4,
 "nbformat_minor": 5
}
