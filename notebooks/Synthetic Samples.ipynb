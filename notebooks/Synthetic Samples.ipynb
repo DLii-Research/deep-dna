{
 "cells": [
  {
   "cell_type": "code",
   "execution_count": 1,
   "id": "de7a2a76-3bd5-462c-90a9-79d17de9a32e",
   "metadata": {},
   "outputs": [],
   "source": [
    "import os\n",
    "os.environ[\"TF_CPP_MIN_LOG_LEVEL\"] = \"1\""
   ]
  },
  {
   "cell_type": "code",
   "execution_count": 2,
   "id": "5070df2f-4003-4b09-b80b-2ebe3326fe63",
   "metadata": {},
   "outputs": [],
   "source": [
    "from dataclasses import replace\n",
    "from dnadb.datasets import Silva\n",
    "from dnadb import dna, fasta, fastq, sample, taxonomy\n",
    "import numpy as np\n",
    "from pathlib import Path\n",
    "import tf_utilities as tfu\n",
    "import wandb\n",
    "\n",
    "from deepdna.nn.models import load_model\n",
    "from deepdna.nn.models.taxonomy import \\\n",
    "    AbstractTaxonomyClassificationModel, \\\n",
    "    NaiveTaxonomyClassificationModel, \\\n",
    "    BertaxTaxonomyClassificationModel, \\\n",
    "    TopDownTaxonomyClassificationModel"
   ]
  },
  {
   "cell_type": "code",
   "execution_count": 3,
   "id": "1914b851-c3f2-4f3c-bb4d-56406698f8f5",
   "metadata": {},
   "outputs": [
    {
     "data": {
      "text/plain": [
       "([PhysicalDevice(name='/physical_device:CPU:0', device_type='CPU')],\n",
       " [PhysicalDevice(name='/physical_device:GPU:0', device_type='GPU')])"
      ]
     },
     "execution_count": 3,
     "metadata": {},
     "output_type": "execute_result"
    }
   ],
   "source": [
    "tfu.devices.select_gpu(0)"
   ]
  },
  {
   "cell_type": "code",
   "execution_count": 4,
   "id": "95dd3d85-9c70-4576-a272-f8d6c928cdcb",
   "metadata": {},
   "outputs": [],
   "source": [
    "root = Path(\"/home/dwl2x/work/Datasets/Synthetic\")"
   ]
  },
  {
   "cell_type": "markdown",
   "id": "0737c1af-4d8c-4ab8-9cb1-ab0a8b4b0d00",
   "metadata": {},
   "source": [
    "## SILVA Sequences and Taxonomies"
   ]
  },
  {
   "cell_type": "code",
   "execution_count": 5,
   "id": "6314a300-2ee8-4fd5-8de6-9eb1df28a45d",
   "metadata": {},
   "outputs": [],
   "source": [
    "silva = Silva()\n",
    "# with fasta.FastaDbFactory(root / f\"Silva_{silva.version}.fasta.db\") as db:\n",
    "#     db.write_entries(silva.sequences())\n",
    "# with taxonomy.TaxonomyDbFactory(root / f\"Silva_{silva.version}.tax.tsv.db\") as db:\n",
    "#     for entry in silva.taxonomies():\n",
    "#         db.write_entry(replace(entry, label=entry.label.replace(\"uncultured\", \"\")))"
   ]
  },
  {
   "cell_type": "code",
   "execution_count": 6,
   "id": "ae9c1e6a-0043-489c-8229-80a96dd62a4b",
   "metadata": {},
   "outputs": [],
   "source": [
    "# with open(root / f\"Silva_{silva.version}.fasta\", 'w') as f:\n",
    "#     for entry in silva.sequences():\n",
    "#         fasta.write(f, [entry])"
   ]
  },
  {
   "cell_type": "code",
   "execution_count": 7,
   "id": "f70148a8-3cc5-4a6f-b609-f7e9665c2537",
   "metadata": {},
   "outputs": [],
   "source": [
    "# with open(root / f\"Silva_{silva.version}.tax.tsv\", 'w') as f:\n",
    "#     for entry in silva.taxonomies():\n",
    "#         taxonomy.write(f, [replace(entry, label=entry.label.replace(\"uncultured\", \"\"))])"
   ]
  },
  {
   "cell_type": "code",
   "execution_count": 8,
   "id": "984216cb-5e11-4f25-a7b2-4a4ac4a768ec",
   "metadata": {},
   "outputs": [],
   "source": [
    "# with fasta.FastaDb(root / f\"Silva_{silva.version}.fasta.db\") as fasta_db:\n",
    "#     with fasta.FastaIndexDbFactory(root / f\"Silva_{silva.version}.fasta.index.db\") as index:\n",
    "#         index.write_entries(fasta_db)"
   ]
  },
  {
   "cell_type": "code",
   "execution_count": 9,
   "id": "045cf0fb-a6f5-44c5-8728-abca8c2adaff",
   "metadata": {},
   "outputs": [],
   "source": [
    "silva_fasta = fasta.FastaDb(root / f\"Silva_{silva.version}.fasta.db\")\n",
    "silva_index = fasta.FastaIndexDb(root / f\"Silva_{silva.version}.fasta.index.db\")\n",
    "silva_tax = taxonomy.TaxonomyDb(root / f\"Silva_{silva.version}.tax.tsv.db\")"
   ]
  },
  {
   "cell_type": "code",
   "execution_count": 10,
   "id": "3f3af1e9-a235-4b3e-ba25-b41cf18bdc77",
   "metadata": {},
   "outputs": [],
   "source": [
    "tax_to_fasta_ids = {}\n",
    "for label in silva_tax:\n",
    "    tax_to_fasta_ids[label] = list(silva_tax.fasta_ids_with_label(silva_tax.label_to_index(label)))"
   ]
  },
  {
   "cell_type": "markdown",
   "id": "6c880d3c-9bae-4af1-89dc-84852e4fff2e",
   "metadata": {},
   "source": [
    "---\n",
    "\n",
    "## Creating Synthetic Datasets"
   ]
  },
  {
   "cell_type": "code",
   "execution_count": 11,
   "id": "0b96e88e-56bd-4e74-aa62-8dcfd6b9a169",
   "metadata": {},
   "outputs": [],
   "source": [
    "rng = np.random.default_rng(0)"
   ]
  },
  {
   "cell_type": "code",
   "execution_count": 12,
   "id": "6b9f8dcc-37a5-448a-bc10-997016eea3bc",
   "metadata": {},
   "outputs": [],
   "source": [
    "class FastaEntryWriter:\n",
    "    def __init__(self, sequence_length: int, prefix: str = \"\"):\n",
    "        if len(prefix) > 0:\n",
    "            prefix += \".\"\n",
    "        self.prefix = prefix\n",
    "        self.sequence_length = sequence_length\n",
    "        self.count = 0\n",
    "\n",
    "    def __call__(self, entry: fasta.FastaEntry):\n",
    "        offset = rng.integers(len(entry.sequence) - self.sequence_length)\n",
    "        entry = replace(\n",
    "            entry,\n",
    "            identifier=f\"{self.prefix}{self.count:08d}\",\n",
    "            sequence=entry.sequence[offset:offset + self.sequence_length],\n",
    "            extra=\"\")\n",
    "        self.count += 1\n",
    "        return entry"
   ]
  },
  {
   "cell_type": "code",
   "execution_count": 13,
   "id": "a53233b7-64d1-4ff7-8fde-2a2aa0f5f740",
   "metadata": {},
   "outputs": [],
   "source": [
    "def create_test_samples(\n",
    "    samples,\n",
    "    output_path: str|Path,\n",
    "    sequence_length: int,\n",
    "    subsample_size: int,\n",
    "    n_subsamples: int,\n",
    "):\n",
    "    output_path = Path(output_path)\n",
    "    output_path.mkdir(exist_ok=True)\n",
    "    for index, s in enumerate(samples):\n",
    "        print(f\"\\r{index+1}/{len(samples)}\", end=\"\")\n",
    "        base_name = s.name.replace(\".fastq.gz\", \"\").replace(\".fastq\", \"\").replace(\" \", \"_\")\n",
    "        for i in range(n_subsamples):\n",
    "            name = f\"{base_name}.{i+1:03d}\"\n",
    "            fasta_writer = FastaEntryWriter(sequence_length, name)\n",
    "            out_fasta = open(output_path / (name + \".fasta\"), 'w')\n",
    "            out_tax = open(output_path / (name + \".tax.tsv\"), 'w')\n",
    "            for entry in s.sample(subsample_size):\n",
    "                label = silva_tax.fasta_id_to_label(entry.identifier)\n",
    "                entry = fasta_writer(entry)\n",
    "                fasta.write(out_fasta, (entry,))\n",
    "                taxonomy.write(out_tax, (taxonomy.TaxonomyEntry(identifier=entry.identifier, label=label),))\n",
    "            out_fasta.close()\n",
    "            out_tax.close()"
   ]
  },
  {
   "cell_type": "code",
   "execution_count": 14,
   "id": "6e128185-4eb9-4300-ba52-b830d9c9c393",
   "metadata": {},
   "outputs": [],
   "source": [
    "def trim_and_encode(entry: fasta.FastaEntry|fastq.FastqEntry, length: int = 150):\n",
    "    # Trim the sequence\n",
    "    offset = rng.integers(0, len(entry) - length + 1)\n",
    "    sequence = entry.sequence[offset:offset+length]\n",
    "    assert len(sequence) == length\n",
    "    return dna.encode_sequence(sequence)"
   ]
  },
  {
   "cell_type": "code",
   "execution_count": 15,
   "id": "b90b12e3-712b-4d89-9948-407f2955bb72",
   "metadata": {},
   "outputs": [],
   "source": [
    "def chunk(iterable, chunk_size):\n",
    "    result = []\n",
    "    for item in iterable:\n",
    "        result.append(item)\n",
    "        if len(result) == chunk_size:\n",
    "            yield result\n",
    "            result = []\n",
    "    if len(result) > 0:\n",
    "        yield result"
   ]
  },
  {
   "cell_type": "code",
   "execution_count": 16,
   "id": "269c433d-85cb-4857-abf3-6d3957177fc3",
   "metadata": {},
   "outputs": [],
   "source": [
    "from dataclasses import replace\n",
    "import re\n",
    "\n",
    "def clean_entry(entry: fasta.FastaEntry):\n",
    "    \"\"\"\n",
    "    Clean the sequence in the given entry by removing all non-nucleotide-base characters.\n",
    "    \"\"\"\n",
    "    sequence = re.sub(r\"[^\" + dna.ALL_BASES + r\"]\", \"\", entry.sequence)\n",
    "    return replace(entry, sequence=sequence)"
   ]
  },
  {
   "cell_type": "markdown",
   "id": "1152bf54-6424-4f71-ab2e-fa9f98aacb2e",
   "metadata": {},
   "source": [
    "### Classification Model"
   ]
  },
  {
   "cell_type": "code",
   "execution_count": 17,
   "id": "8e005065-a3aa-447e-81ab-01906f3d284e",
   "metadata": {},
   "outputs": [],
   "source": [
    "api = wandb.Api()"
   ]
  },
  {
   "cell_type": "code",
   "execution_count": 18,
   "id": "ee340f3c-a1a0-4d8b-9416-d7d25ecc37cb",
   "metadata": {},
   "outputs": [
    {
     "name": "stderr",
     "output_type": "stream",
     "text": [
      "\u001b[34m\u001b[1mwandb\u001b[0m: Downloading large artifact dnabert-taxonomy-bertax-64d-150l:latest, 1232.67MB. 4 files... \n",
      "\u001b[34m\u001b[1mwandb\u001b[0m:   4 of 4 files downloaded.  \n",
      "Done. 0:0:1.9\n"
     ]
    },
    {
     "data": {
      "text/plain": [
       "<deepdna.nn.models.taxonomy.BertaxTaxonomyClassificationModel at 0x7f48a46298d0>"
      ]
     },
     "execution_count": 18,
     "metadata": {},
     "output_type": "execute_result"
    }
   ],
   "source": [
    "model_type = \"Bertax\"\n",
    "\n",
    "if model_type == \"Naive\":\n",
    "    path = api.artifact(\"sirdavidludwig/dnabert-taxonomy-naive/dnabert-taxonomy-naive-64d-150l:latest\").download()\n",
    "    model = load_model(path, NaiveTaxonomyClassificationModel)\n",
    "elif model_type == \"Bertax\":\n",
    "    path = api.artifact(\"sirdavidludwig/dnabert-taxonomy/dnabert-taxonomy-bertax-64d-150l:latest\").download()\n",
    "    model = load_model(path, BertaxTaxonomyClassificationModel)\n",
    "elif model_type == \"Topdown\":\n",
    "    path = api.artifact(\"sirdavidludwig/dnabert-taxonomy/dnabert-taxonomy-topdown-64d-150l:latest\").download()\n",
    "    model = load_model(path, TopDownTaxonomyClassificationModel)\n",
    "model"
   ]
  },
  {
   "cell_type": "code",
   "execution_count": 19,
   "id": "56327575-cf5c-4d95-8d52-2016d8ba94c5",
   "metadata": {},
   "outputs": [],
   "source": [
    "batch_size = 256\n",
    "kmer = model.base.base.kmer\n",
    "subsample_size = 1000\n",
    "n_subsamples = 10\n",
    "sequence_length = 150"
   ]
  },
  {
   "cell_type": "markdown",
   "id": "885f8726-4357-4e1f-93d9-71ba9db21da7",
   "metadata": {},
   "source": [
    "---\n",
    "\n",
    "### Nachusa (Soil)"
   ]
  },
  {
   "cell_type": "code",
   "execution_count": 89,
   "id": "452ebcfd-2e5f-4ebf-b589-c9e243b45eb0",
   "metadata": {},
   "outputs": [],
   "source": [
    "dataset_name = \"Nachusa\""
   ]
  },
  {
   "cell_type": "code",
   "execution_count": 90,
   "id": "29ec471b-51cd-4992-bbd7-429bf0ac3b11",
   "metadata": {},
   "outputs": [],
   "source": [
    "dataset_root = root / f\"{dataset_name}/{model_type}\"\n",
    "dataset_root.mkdir(exist_ok=True, parents=True)"
   ]
  },
  {
   "cell_type": "code",
   "execution_count": 29,
   "id": "64560262-5774-48ff-b014-c775e290a61e",
   "metadata": {},
   "outputs": [],
   "source": [
    "sample_folders = [\n",
    "    \"/home/shared/prism-data/Nachusa Sequences/nachusa-2015-soil16S-sequences\",\n",
    "    \"/home/shared/prism-data/Nachusa Sequences/nachusa-2016-soil16S-sequences\",\n",
    "    \"/home/shared/prism-data/Nachusa Sequences/nachusa-2017-soil16S-sequences\",\n",
    "    \"/home/shared/prism-data/Nachusa Sequences/nachusa-2018-soil16S-sequences\",\n",
    "    # \"/home/shared/prism-data/Nachusa Sequences/nachusa-2019-soil16S-sequences\", # missing\n",
    "    \"/home/shared/prism-data/Nachusa Sequences/nachusa-2020-soil16S-sequences\",\n",
    "]"
   ]
  },
  {
   "cell_type": "code",
   "execution_count": null,
   "id": "4eb5ecca-ec6d-4f1c-81f8-d8ce2af3007b",
   "metadata": {},
   "outputs": [],
   "source": [
    "fasta_mapping_factory = sample.SampleMappingDbFactory(dataset_root / f\"{dataset_name}.fasta.mapping.db\")\n",
    "for folder in sample_folders:\n",
    "    for f in Path(folder).iterdir():\n",
    "        print(f\"{f.name}\\r\\n\", end=\"\")\n",
    "        name = f.name\n",
    "        entries = fastq.entries(f)\n",
    "        mapping_entry = sample.SampleMappingEntryFactory(name, silva_index)\n",
    "        for sequences in chunk(map(trim_and_encode, entries), batch_size):\n",
    "            sequences = dna.encode_kmers(np.array(sequences), kmer)\n",
    "            for label in model.classify(sequences, batch_size=batch_size, verbose=0):\n",
    "                fasta_id = rng.choice(tax_to_fasta_ids[label])\n",
    "                mapping_entry.add_fasta_id(fasta_id)\n",
    "        fasta_mapping_factory.write_entry(mapping_entry.build())\n",
    "fasta_mapping_factory.close()"
   ]
  },
  {
   "cell_type": "markdown",
   "id": "0d317e0e-e389-4ca0-8c35-67faa6652b46",
   "metadata": {},
   "source": [
    "#### Test Subsamples"
   ]
  },
  {
   "cell_type": "code",
   "execution_count": 91,
   "id": "36cbbef9-bc2a-4798-a8ee-63c17a35d5c9",
   "metadata": {},
   "outputs": [
    {
     "data": {
      "text/plain": [
       "210"
      ]
     },
     "execution_count": 91,
     "metadata": {},
     "output_type": "execute_result"
    }
   ],
   "source": [
    "samples = sample.load_multiplexed_fasta(\n",
    "    silva_fasta,\n",
    "    dataset_root / f\"{dataset_name}.fasta.mapping.db\",\n",
    "    silva_index\n",
    ")\n",
    "len(samples)"
   ]
  },
  {
   "cell_type": "code",
   "execution_count": 92,
   "id": "3d105a2b-2cc6-4baf-8530-05db87fac7b7",
   "metadata": {},
   "outputs": [
    {
     "name": "stdout",
     "output_type": "stream",
     "text": [
      "210/210"
     ]
    }
   ],
   "source": [
    "create_test_samples(\n",
    "    samples,\n",
    "    dataset_root / \"test\",\n",
    "    sequence_length,\n",
    "    subsample_size,\n",
    "    n_subsamples\n",
    ")"
   ]
  },
  {
   "cell_type": "markdown",
   "id": "86cd67b5-5614-4232-8a6c-3397439c8898",
   "metadata": {},
   "source": [
    "---\n",
    "\n",
    "### Hopland (Soil)"
   ]
  },
  {
   "cell_type": "code",
   "execution_count": 93,
   "id": "4ff94526-d48d-4194-b9e8-8c26d2da1a4f",
   "metadata": {},
   "outputs": [],
   "source": [
    "dataset_name = \"Hopland\""
   ]
  },
  {
   "cell_type": "code",
   "execution_count": 94,
   "id": "254ae77c-8349-4530-9608-efd69d70db04",
   "metadata": {},
   "outputs": [],
   "source": [
    "dataset_root = root / f\"{dataset_name}/{model_type}\"\n",
    "dataset_root.mkdir(exist_ok=True, parents=True)"
   ]
  },
  {
   "cell_type": "code",
   "execution_count": 32,
   "id": "46b0f388-35ef-4473-8eb7-c27b35e8804a",
   "metadata": {},
   "outputs": [],
   "source": [
    "sample_folder = \"/home/shared/hopland/fastq\""
   ]
  },
  {
   "cell_type": "code",
   "execution_count": null,
   "id": "967405a1-15cf-46f2-b3a2-ffa9f33026a8",
   "metadata": {},
   "outputs": [],
   "source": [
    "fasta_mapping_factory = sample.SampleMappingDbFactory(dataset_root / f\"{dataset_name}.fasta.mapping.db\")\n",
    "for f in Path(sample_folder).iterdir():\n",
    "    if f.name.startswith(\"Blank\"):\n",
    "        continue\n",
    "    print(f\"{f.name}\\r\\n\", end=\"\")\n",
    "    name = f.name\n",
    "    entries = fastq.entries(f)\n",
    "    mapping_entry = sample.SampleMappingEntryFactory(name, silva_index)\n",
    "    for sequences in chunk(map(trim_and_encode, entries), batch_size):\n",
    "        sequences = dna.encode_kmers(np.array(sequences), kmer)\n",
    "        for label in model.classify(sequences, batch_size=batch_size, verbose=0):\n",
    "            fasta_id = rng.choice(tax_to_fasta_ids[label])\n",
    "            mapping_entry.add_fasta_id(fasta_id)\n",
    "    fasta_mapping_factory.write_entry(mapping_entry.build())\n",
    "fasta_mapping_factory.close()"
   ]
  },
  {
   "cell_type": "markdown",
   "id": "ba2bb024-95c6-4625-9b1e-e6ebb6e422f3",
   "metadata": {},
   "source": [
    "#### Test Subsamples"
   ]
  },
  {
   "cell_type": "code",
   "execution_count": 95,
   "id": "32be51fb-652c-4295-b38d-d7294caf0d42",
   "metadata": {},
   "outputs": [
    {
     "data": {
      "text/plain": [
       "256"
      ]
     },
     "execution_count": 95,
     "metadata": {},
     "output_type": "execute_result"
    }
   ],
   "source": [
    "samples = sample.load_multiplexed_fasta(\n",
    "    silva_fasta,\n",
    "    dataset_root / f\"{dataset_name}.fasta.mapping.db\",\n",
    "    silva_index\n",
    ")\n",
    "len(samples)"
   ]
  },
  {
   "cell_type": "code",
   "execution_count": 96,
   "id": "fd060ca6-797c-4739-9c89-affbe44b1580",
   "metadata": {},
   "outputs": [
    {
     "name": "stdout",
     "output_type": "stream",
     "text": [
      "256/256"
     ]
    }
   ],
   "source": [
    "create_test_samples(\n",
    "    samples,\n",
    "    dataset_root / \"test\",\n",
    "    sequence_length,\n",
    "    subsample_size,\n",
    "    n_subsamples\n",
    ")"
   ]
  },
  {
   "cell_type": "markdown",
   "id": "67b8030e-39a7-469e-98d6-d674748c766d",
   "metadata": {},
   "source": [
    "---\n",
    "\n",
    "### Wetland (Soil)"
   ]
  },
  {
   "cell_type": "code",
   "execution_count": 20,
   "id": "5cae3b55-d746-4a7f-8384-cfdb94298678",
   "metadata": {},
   "outputs": [],
   "source": [
    "dataset_name = \"Wetland\""
   ]
  },
  {
   "cell_type": "code",
   "execution_count": 21,
   "id": "61c7429d-063e-4aa9-9c77-95c90e82cb88",
   "metadata": {},
   "outputs": [],
   "source": [
    "dataset_root = root / f\"{dataset_name}/{model_type}\"\n",
    "dataset_root.mkdir(exist_ok=True, parents=True)"
   ]
  },
  {
   "cell_type": "code",
   "execution_count": 22,
   "id": "5b4f093d-c595-498d-bfd0-53c6765b2aab",
   "metadata": {},
   "outputs": [],
   "source": [
    "wetland_fasta_file = \"/home/shared/walker_lab/reed/P_A_201201_wet_libs1_8.trim.contigs.pcr.good.unique.good.filter.unique.precluster.pick.pick.agc.0.03.pick.0.03.abund.0.03.pick.fasta.new.fasta\"\n",
    "otu_list_path = \"/home/shared/walker_lab/digitalocean/Reed_NRCS/shared_list/201201_wet_libs1_8.trim.contigs.pcr.good.unique.good.filter.unique.precluster.pick.pick.asv.list\"\n",
    "otu_shared_path = \"/home/shared/walker_lab/digitalocean/Reed_NRCS/shared_list/201201_wet_libs1_8.trim.contigs.pcr.good.unique.good.filter.unique.precluster.pick.pick.asv.shared\""
   ]
  },
  {
   "cell_type": "code",
   "execution_count": 23,
   "id": "5e45ce04-b182-4131-a84c-2dfc0e757c50",
   "metadata": {},
   "outputs": [],
   "source": [
    "# FASTA ID to OTU Index\n",
    "with open(otu_list_path) as f:\n",
    "    f.readline()\n",
    "    line = f.readline().strip().split('\\t')[2:]\n",
    "    fasta_id_to_index = {fasta_id: i for i, fasta_id in enumerate(line)}"
   ]
  },
  {
   "cell_type": "code",
   "execution_count": 24,
   "id": "6607b172-31f9-4fa0-a96a-e8c072e0c780",
   "metadata": {},
   "outputs": [
    {
     "name": "stdout",
     "output_type": "stream",
     "text": [
      "3351738"
     ]
    }
   ],
   "source": [
    "with taxonomy.TaxonomyDbFactory(f\"/tmp/wetland_{model_type}.tax.db\") as factory:\n",
    "    progress = 0\n",
    "    for entries in chunk(map(clean_entry, fasta.entries(wetland_fasta_file)), batch_size):\n",
    "        progress += len(entries)\n",
    "        print(f\"\\r{progress}\", end=\"\")\n",
    "        sequences = np.array(list(map(trim_and_encode, entries)))\n",
    "        sequences = dna.encode_kmers(sequences, kmer)\n",
    "        labels = model.predictions_to_labels(model(sequences))\n",
    "        for entry, label in zip(entries, labels):\n",
    "            factory.write_entry(taxonomy.TaxonomyEntry(str(fasta_id_to_index[entry.identifier]), label))\n",
    "tax_db = taxonomy.TaxonomyDb(f\"/tmp/wetland_{model_type}.tax.db\")"
   ]
  },
  {
   "cell_type": "code",
   "execution_count": 25,
   "id": "19e6675b-8209-41b9-ac84-2e66061e70e2",
   "metadata": {},
   "outputs": [
    {
     "name": "stdout",
     "output_type": "stream",
     "text": [
      "768: wetcc4                                            "
     ]
    }
   ],
   "source": [
    "fasta_mapping_factory = sample.SampleMappingDbFactory(dataset_root / f\"{dataset_name}.fasta.mapping.db\")\n",
    "with open(otu_shared_path) as f:\n",
    "    f.readline()\n",
    "    for index, line in enumerate(f):\n",
    "        _, name, _, *abundances = line.strip().split('\\t')\n",
    "        mapping_entry = sample.SampleMappingEntryFactory(name, silva_index)\n",
    "        print(f\"\\r{index+1}: {name:<50}\", end=\"\")\n",
    "        for i, abundance in enumerate(abundances):\n",
    "            if abundance == '0' or not tax_db.contains_fasta_id(str(i)):\n",
    "                continue\n",
    "            label = tax_db.fasta_id_to_label(str(i))\n",
    "            for fasta_id in rng.choice(tax_to_fasta_ids[label], int(abundance), replace=True):\n",
    "                mapping_entry.add_fasta_id(fasta_id)\n",
    "        fasta_mapping_factory.write_entry(mapping_entry.build())\n",
    "fasta_mapping_factory.close()"
   ]
  },
  {
   "cell_type": "markdown",
   "id": "d58ed7aa-0c62-4f71-850a-61a68fde5c64",
   "metadata": {},
   "source": [
    "#### Test Subsamples"
   ]
  },
  {
   "cell_type": "code",
   "execution_count": 26,
   "id": "8229119d-ca5d-4b81-a225-f9650e69ad35",
   "metadata": {},
   "outputs": [
    {
     "data": {
      "text/plain": [
       "768"
      ]
     },
     "execution_count": 26,
     "metadata": {},
     "output_type": "execute_result"
    }
   ],
   "source": [
    "samples = sample.load_multiplexed_fasta(\n",
    "    silva_fasta,\n",
    "    dataset_root / f\"{dataset_name}.fasta.mapping.db\",\n",
    "    silva_index\n",
    ")\n",
    "len(samples)"
   ]
  },
  {
   "cell_type": "code",
   "execution_count": 27,
   "id": "4af52bdd-f5f3-4381-b8ed-ef87e4f211ac",
   "metadata": {},
   "outputs": [
    {
     "name": "stdout",
     "output_type": "stream",
     "text": [
      "768/768"
     ]
    }
   ],
   "source": [
    "create_test_samples(\n",
    "    samples,\n",
    "    dataset_root / \"test\",\n",
    "    sequence_length,\n",
    "    subsample_size,\n",
    "    n_subsamples\n",
    ")"
   ]
  },
  {
   "cell_type": "markdown",
   "id": "74cb83c8-349e-4c0b-ae25-ffb274e39be6",
   "metadata": {},
   "source": [
    "---\n",
    "\n",
    "### Snake Fungal Disease (Gut)"
   ]
  },
  {
   "cell_type": "code",
   "execution_count": 103,
   "id": "0fb66c64-c02c-4bc0-8916-175de22ab0a3",
   "metadata": {},
   "outputs": [],
   "source": [
    "dataset_name = \"SFD\""
   ]
  },
  {
   "cell_type": "code",
   "execution_count": 104,
   "id": "23bca392-b76d-4108-8f8f-8d6e29e98c76",
   "metadata": {},
   "outputs": [],
   "source": [
    "dataset_root = root / f\"{dataset_name}/{model_type}\"\n",
    "dataset_root.mkdir(exist_ok=True, parents=True)"
   ]
  },
  {
   "cell_type": "code",
   "execution_count": 24,
   "id": "dd2e2393-e1d0-4fcf-8c31-d1252205ef2a",
   "metadata": {},
   "outputs": [],
   "source": [
    "sfd_fasta_file = \"/home/shared/walker_lab/alex/P_A_221205_cmfp.trim.contigs.pcr.good.unique.good.filter.unique.precluster.denovo.vsearch.pick.opti_mcc.0.03.pick.0.03.abund.0.03.pick.fasta\"\n",
    "otu_list_path = \"/home/shared/walker_lab/digitalocean/Alex_SFD/shared_list/221205_cmfp.trim.contigs.pcr.good.unique.good.filter.unique.precluster.denovo.vsearch.asv.list\"\n",
    "otu_shared_path = \"/home/shared/walker_lab/digitalocean/Alex_SFD/shared_list/221205_cmfp.trim.contigs.pcr.good.unique.good.filter.unique.precluster.denovo.vsearch.asv.shared\""
   ]
  },
  {
   "cell_type": "code",
   "execution_count": 25,
   "id": "4e206a61-155a-4517-85fd-f3bd4edbea0a",
   "metadata": {},
   "outputs": [],
   "source": [
    "# FASTA ID to OTU Index\n",
    "with open(otu_list_path) as f:\n",
    "    f.readline()\n",
    "    line = f.readline().strip().split('\\t')[2:]\n",
    "    fasta_id_to_index = {fasta_id: i for i, fasta_id in enumerate(line)}"
   ]
  },
  {
   "cell_type": "code",
   "execution_count": 26,
   "id": "6abcf615-4674-4d42-8d6c-16df6b78593f",
   "metadata": {},
   "outputs": [],
   "source": [
    "with taxonomy.TaxonomyDbFactory(f\"/tmp/sfd_{model_type}.tax.db\") as factory:\n",
    "    for entries in chunk(map(clean_entry, fasta.entries(sfd_fasta_file)), batch_size):\n",
    "        sequences = np.array(list(map(trim_and_encode, entries)))\n",
    "        sequences = dna.encode_kmers(sequences, kmer)\n",
    "        labels = model.predictions_to_labels(model(sequences))\n",
    "        for entry, label in zip(entries, labels):\n",
    "            factory.write_entry(taxonomy.TaxonomyEntry(str(fasta_id_to_index[entry.identifier]), label))\n",
    "tax_db = taxonomy.TaxonomyDb(f\"/tmp/sfd_{model_type}.tax.db\")"
   ]
  },
  {
   "cell_type": "code",
   "execution_count": 27,
   "id": "c6fb7046-2a09-4ce5-a222-3fc722944cf2",
   "metadata": {},
   "outputs": [
    {
     "name": "stdout",
     "output_type": "stream",
     "text": [
      "887: TST1                                              "
     ]
    }
   ],
   "source": [
    "fasta_mapping_factory = sample.SampleMappingDbFactory(dataset_root / f\"{dataset_name}.fasta.mapping.db\")\n",
    "with open(otu_shared_path) as f:\n",
    "    f.readline()\n",
    "    for index, line in enumerate(f):\n",
    "        _, name, _, *abundances = line.strip().split('\\t')\n",
    "        mapping_entry = sample.SampleMappingEntryFactory(name, silva_index)\n",
    "        print(f\"\\r{index+1}: {name:<50}\", end=\"\")\n",
    "        for i, abundance in enumerate(abundances):\n",
    "            if abundance == '0' or not tax_db.contains_fasta_id(str(i)):\n",
    "                continue\n",
    "            label = tax_db.fasta_id_to_label(str(i))\n",
    "            for fasta_id in rng.choice(tax_to_fasta_ids[label], int(abundance), replace=True):\n",
    "                mapping_entry.add_fasta_id(fasta_id)\n",
    "        fasta_mapping_factory.write_entry(mapping_entry.build())\n",
    "fasta_mapping_factory.close()"
   ]
  },
  {
   "cell_type": "markdown",
   "id": "31f431ef-e1fe-459e-aa8f-f7f2a792727c",
   "metadata": {},
   "source": [
    "#### Test Subsamples"
   ]
  },
  {
   "cell_type": "code",
   "execution_count": 105,
   "id": "4aa8bbb2-0bbe-4f32-b6e4-9b5e69bc27c7",
   "metadata": {},
   "outputs": [
    {
     "data": {
      "text/plain": [
       "887"
      ]
     },
     "execution_count": 105,
     "metadata": {},
     "output_type": "execute_result"
    }
   ],
   "source": [
    "samples = sample.load_multiplexed_fasta(\n",
    "    silva_fasta,\n",
    "    dataset_root / f\"{dataset_name}.fasta.mapping.db\",\n",
    "    silva_index\n",
    ")\n",
    "len(samples)"
   ]
  },
  {
   "cell_type": "code",
   "execution_count": 106,
   "id": "6962fddc-2064-42e3-8bbd-41d56139822e",
   "metadata": {},
   "outputs": [
    {
     "name": "stdout",
     "output_type": "stream",
     "text": [
      "887/887"
     ]
    }
   ],
   "source": [
    "create_test_samples(\n",
    "    samples,\n",
    "    dataset_root / \"test\",\n",
    "    sequence_length,\n",
    "    subsample_size,\n",
    "    n_subsamples\n",
    ")"
   ]
  }
 ],
 "metadata": {
  "kernelspec": {
   "display_name": "Python 3 (ipykernel)",
   "language": "python",
   "name": "python3"
  },
  "language_info": {
   "codemirror_mode": {
    "name": "ipython",
    "version": 3
   },
   "file_extension": ".py",
   "mimetype": "text/x-python",
   "name": "python",
   "nbconvert_exporter": "python",
   "pygments_lexer": "ipython3",
   "version": "3.10.6"
  }
 },
 "nbformat": 4,
 "nbformat_minor": 5
}
