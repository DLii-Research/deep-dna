{
 "cells": [
  {
   "cell_type": "code",
   "execution_count": 1,
   "id": "de7a2a76-3bd5-462c-90a9-79d17de9a32e",
   "metadata": {},
   "outputs": [],
   "source": [
    "import os\n",
    "os.environ[\"TF_CPP_MIN_LOG_LEVEL\"] = \"1\""
   ]
  },
  {
   "cell_type": "code",
   "execution_count": 44,
   "id": "5070df2f-4003-4b09-b80b-2ebe3326fe63",
   "metadata": {},
   "outputs": [],
   "source": [
    "from dataclasses import replace\n",
    "from dnadb.datasets import Silva\n",
    "from dnadb import dna, fasta, fastq, sample, taxonomy\n",
    "import numpy as np\n",
    "from pathlib import Path\n",
    "import wandb\n",
    "\n",
    "from deepdna.nn.models import load_model\n",
    "from deepdna.nn.models.taxonomy import \\\n",
    "    AbstractTaxonomyClassificationModel, \\\n",
    "    NaiveTaxonomyClassificationModel, \\\n",
    "    BertaxTaxonomyClassificationModel, \\\n",
    "    TopDownTaxonomyClassificationModel"
   ]
  },
  {
   "cell_type": "code",
   "execution_count": 14,
   "id": "95dd3d85-9c70-4576-a272-f8d6c928cdcb",
   "metadata": {},
   "outputs": [],
   "source": [
    "root = Path(\"/home/dwl2x/work/Datasets/Synthetic\")"
   ]
  },
  {
   "cell_type": "markdown",
   "id": "0737c1af-4d8c-4ab8-9cb1-ab0a8b4b0d00",
   "metadata": {},
   "source": [
    "## SILVA Sequences and Taxonomies"
   ]
  },
  {
   "cell_type": "code",
   "execution_count": 15,
   "id": "6314a300-2ee8-4fd5-8de6-9eb1df28a45d",
   "metadata": {},
   "outputs": [],
   "source": [
    "# silva = Silva()\n",
    "# with fasta.FastaDbFactory(root / f\"Silva_{silva.version}.fasta.db\") as db:\n",
    "#     db.write_entries(silva.sequences())\n",
    "# with taxonomy.TaxonomyDbFactory(root / f\"Silva_{silva.version}.tax.tsv.db\") as db:\n",
    "#     for entry in silva.taxonomies():\n",
    "#         db.write_entry(replace(entry, label=entry.label.replace(\"uncultured\", \"\")))"
   ]
  },
  {
   "cell_type": "code",
   "execution_count": 16,
   "id": "ae9c1e6a-0043-489c-8229-80a96dd62a4b",
   "metadata": {},
   "outputs": [],
   "source": [
    "# with open(root / f\"Silva_{silva.version}.fasta\", 'w') as f:\n",
    "#     for entry in silva.sequences():\n",
    "#         fasta.write(f, [entry])"
   ]
  },
  {
   "cell_type": "code",
   "execution_count": 17,
   "id": "f70148a8-3cc5-4a6f-b609-f7e9665c2537",
   "metadata": {},
   "outputs": [],
   "source": [
    "# with open(root / f\"Silva_{silva.version}.tax.tsv\", 'w') as f:\n",
    "#     for entry in silva.taxonomies():\n",
    "#         taxonomy.write(f, [replace(entry, label=entry.label.replace(\"uncultured\", \"\"))])"
   ]
  },
  {
   "cell_type": "code",
   "execution_count": 19,
   "id": "984216cb-5e11-4f25-a7b2-4a4ac4a768ec",
   "metadata": {},
   "outputs": [],
   "source": [
    "# with fasta.FastaDb(root / f\"Silva_{silva.version}.fasta.db\") as fasta_db:\n",
    "#     with fasta.FastaIndexDbFactory(root / f\"Silva_{silva.version}.fasta.index.db\") as index:\n",
    "#         index.write_entries(fasta_db)"
   ]
  },
  {
   "cell_type": "code",
   "execution_count": 57,
   "id": "045cf0fb-a6f5-44c5-8728-abca8c2adaff",
   "metadata": {},
   "outputs": [],
   "source": [
    "silva_fasta = fasta.FastaDb(root / f\"Silva_{silva.version}.fasta.db\")\n",
    "silva_index = fasta.FastaIndexDb(root / f\"Silva_{silva.version}.fasta.index.db\")\n",
    "tax_db = taxonomy.TaxonomyDb(root / f\"Silva_{silva.version}.tax.tsv.db\")"
   ]
  },
  {
   "cell_type": "code",
   "execution_count": 58,
   "id": "3f3af1e9-a235-4b3e-ba25-b41cf18bdc77",
   "metadata": {},
   "outputs": [],
   "source": [
    "tax_to_fasta_ids = {}\n",
    "for label in tax_db:\n",
    "    tax_to_fasta_ids[label] = list(tax_db.fasta_ids_with_label(tax_db.label_to_index(label)))"
   ]
  },
  {
   "cell_type": "markdown",
   "id": "6c880d3c-9bae-4af1-89dc-84852e4fff2e",
   "metadata": {},
   "source": [
    "---\n",
    "\n",
    "## Creating Synthetic Datasets"
   ]
  },
  {
   "cell_type": "code",
   "execution_count": 39,
   "id": "0b96e88e-56bd-4e74-aa62-8dcfd6b9a169",
   "metadata": {},
   "outputs": [],
   "source": [
    "rng = np.random.default_rng()"
   ]
  },
  {
   "cell_type": "code",
   "execution_count": 40,
   "id": "6e128185-4eb9-4300-ba52-b830d9c9c393",
   "metadata": {},
   "outputs": [],
   "source": [
    "def trim_and_encode(entry: fasta.FastaEntry|fastq.FastqEntry, length: int = 150):\n",
    "    # Trim the sequence\n",
    "    offset = rng.integers(0, len(entry) - length + 1)\n",
    "    sequence = entry.sequence[offset:offset+length]\n",
    "    assert len(sequence) == length\n",
    "    return dna.encode_sequence(sequence)"
   ]
  },
  {
   "cell_type": "code",
   "execution_count": 42,
   "id": "b90b12e3-712b-4d89-9948-407f2955bb72",
   "metadata": {},
   "outputs": [],
   "source": [
    "def chunk(iterable, chunk_size):\n",
    "    result = []\n",
    "    for item in iterable:\n",
    "        result.append(item)\n",
    "        if len(result) == chunk_size:\n",
    "            yield result\n",
    "            result = []\n",
    "    if len(result) > 0:\n",
    "        yield result"
   ]
  },
  {
   "cell_type": "code",
   "execution_count": 77,
   "id": "269c433d-85cb-4857-abf3-6d3957177fc3",
   "metadata": {},
   "outputs": [],
   "source": [
    "from dataclasses import replace\n",
    "import re\n",
    "\n",
    "def clean_entry(entry: fasta.FastaEntry):\n",
    "    \"\"\"\n",
    "    Clean the sequence in the given entry by removing all non-nucleotide-base characters.\n",
    "    \"\"\"\n",
    "    sequence = re.sub(r\"[^\" + dna.ALL_BASES + r\"]\", \"\", entry.sequence)\n",
    "    return replace(entry, sequence=sequence)"
   ]
  },
  {
   "cell_type": "markdown",
   "id": "1152bf54-6424-4f71-ab2e-fa9f98aacb2e",
   "metadata": {},
   "source": [
    "### Classification Model"
   ]
  },
  {
   "cell_type": "code",
   "execution_count": 26,
   "id": "8e005065-a3aa-447e-81ab-01906f3d284e",
   "metadata": {},
   "outputs": [],
   "source": [
    "api = wandb.Api()"
   ]
  },
  {
   "cell_type": "code",
   "execution_count": 27,
   "id": "ee340f3c-a1a0-4d8b-9416-d7d25ecc37cb",
   "metadata": {},
   "outputs": [
    {
     "name": "stderr",
     "output_type": "stream",
     "text": [
      "\u001b[34m\u001b[1mwandb\u001b[0m:   4 of 4 files downloaded.  \n"
     ]
    },
    {
     "data": {
      "text/plain": [
       "<deepdna.nn.models.taxonomy.TopDownTaxonomyClassificationModel at 0x7fb5585d4b20>"
      ]
     },
     "execution_count": 27,
     "metadata": {},
     "output_type": "execute_result"
    }
   ],
   "source": [
    "model = \"topdown\"\n",
    "\n",
    "if model == \"naive\":\n",
    "    path = api.artifact(\"sirdavidludwig/dnabert-taxonomy-naive/dnabert-taxonomy-naive-64d-150l:latest\").download()\n",
    "    model = load_model(path, NaiveTaxonomyClassificationModel)\n",
    "elif model == \"bertax\":\n",
    "    path = api.artifact(\"sirdavidludwig/dnabert-taxonomy/dnabert-taxonomy-bertax-64d-150l:latest\").download()\n",
    "    model = load_model(path, BertaxTaxonomyClassificationModel)\n",
    "elif model == \"topdown\":\n",
    "    path = api.artifact(\"sirdavidludwig/dnabert-taxonomy/dnabert-taxonomy-topdown-64d-150l:latest\").download()\n",
    "    model = load_model(path, TopDownTaxonomyClassificationModel)\n",
    "model"
   ]
  },
  {
   "cell_type": "code",
   "execution_count": 52,
   "id": "56327575-cf5c-4d95-8d52-2016d8ba94c5",
   "metadata": {},
   "outputs": [],
   "source": [
    "batch_size = 256\n",
    "kmer = model.base.base.kmer"
   ]
  },
  {
   "cell_type": "markdown",
   "id": "885f8726-4357-4e1f-93d9-71ba9db21da7",
   "metadata": {},
   "source": [
    "---\n",
    "\n",
    "### Nachusa (Soil)"
   ]
  },
  {
   "cell_type": "code",
   "execution_count": 66,
   "id": "64560262-5774-48ff-b014-c775e290a61e",
   "metadata": {},
   "outputs": [],
   "source": [
    "sample_folders = [\n",
    "    \"/home/shared/prism-data/Nachusa Sequences/nachusa-2015-soil16S-sequences\",\n",
    "    \"/home/shared/prism-data/Nachusa Sequences/nachusa-2016-soil16S-sequences\",\n",
    "    \"/home/shared/prism-data/Nachusa Sequences/nachusa-2017-soil16S-sequences\",\n",
    "    \"/home/shared/prism-data/Nachusa Sequences/nachusa-2018-soil16S-sequences\",\n",
    "    # \"/home/shared/prism-data/Nachusa Sequences/nachusa-2019-soil16S-sequences\", # missing\n",
    "    \"/home/shared/prism-data/Nachusa Sequences/nachusa-2020-soil16S-sequences\",\n",
    "]"
   ]
  },
  {
   "cell_type": "code",
   "execution_count": 68,
   "id": "4eb5ecca-ec6d-4f1c-81f8-d8ce2af3007b",
   "metadata": {},
   "outputs": [
    {
     "name": "stdout",
     "output_type": "stream",
     "text": [
      "WS-AG-May2015_S65_L001_R1_001.fastq\n"
     ]
    },
    {
     "ename": "KeyboardInterrupt",
     "evalue": "",
     "output_type": "error",
     "traceback": [
      "\u001b[0;31m---------------------------------------------------------------------------\u001b[0m",
      "\u001b[0;31mKeyboardInterrupt\u001b[0m                         Traceback (most recent call last)",
      "Cell \u001b[0;32mIn [68], line 8\u001b[0m\n\u001b[1;32m      6\u001b[0m entries \u001b[38;5;241m=\u001b[39m fastq\u001b[38;5;241m.\u001b[39mentries(f)\n\u001b[1;32m      7\u001b[0m mapping_entry \u001b[38;5;241m=\u001b[39m sample\u001b[38;5;241m.\u001b[39mSampleMappingEntryFactory(name, fasta_index)\n\u001b[0;32m----> 8\u001b[0m \u001b[38;5;28;01mfor\u001b[39;00m sequences \u001b[38;5;129;01min\u001b[39;00m chunk(\u001b[38;5;28mmap\u001b[39m(trim_and_encode, entries), batch_size):\n\u001b[1;32m      9\u001b[0m     sequences \u001b[38;5;241m=\u001b[39m dna\u001b[38;5;241m.\u001b[39mencode_kmers(np\u001b[38;5;241m.\u001b[39marray(sequences), kmer)\n\u001b[1;32m     10\u001b[0m     \u001b[38;5;28;01mfor\u001b[39;00m label \u001b[38;5;129;01min\u001b[39;00m model\u001b[38;5;241m.\u001b[39mclassify(sequences, batch_size\u001b[38;5;241m=\u001b[39mbatch_size, verbose\u001b[38;5;241m=\u001b[39m\u001b[38;5;241m0\u001b[39m):\n",
      "Cell \u001b[0;32mIn [42], line 3\u001b[0m, in \u001b[0;36mchunk\u001b[0;34m(iterable, chunk_size)\u001b[0m\n\u001b[1;32m      1\u001b[0m \u001b[38;5;28;01mdef\u001b[39;00m \u001b[38;5;21mchunk\u001b[39m(iterable, chunk_size):\n\u001b[1;32m      2\u001b[0m     result \u001b[38;5;241m=\u001b[39m []\n\u001b[0;32m----> 3\u001b[0m     \u001b[38;5;28;01mfor\u001b[39;00m item \u001b[38;5;129;01min\u001b[39;00m iterable:\n\u001b[1;32m      4\u001b[0m         result\u001b[38;5;241m.\u001b[39mappend(item)\n\u001b[1;32m      5\u001b[0m         \u001b[38;5;28;01mif\u001b[39;00m \u001b[38;5;28mlen\u001b[39m(result) \u001b[38;5;241m==\u001b[39m chunk_size:\n",
      "Cell \u001b[0;32mIn [40], line 3\u001b[0m, in \u001b[0;36mtrim_and_encode\u001b[0;34m(entry, length)\u001b[0m\n\u001b[1;32m      1\u001b[0m \u001b[38;5;28;01mdef\u001b[39;00m \u001b[38;5;21mtrim_and_encode\u001b[39m(entry: fasta\u001b[38;5;241m.\u001b[39mFastaEntry\u001b[38;5;241m|\u001b[39mfastq\u001b[38;5;241m.\u001b[39mFastqEntry, length: \u001b[38;5;28mint\u001b[39m \u001b[38;5;241m=\u001b[39m \u001b[38;5;241m150\u001b[39m):\n\u001b[1;32m      2\u001b[0m     \u001b[38;5;66;03m# Trim the sequence\u001b[39;00m\n\u001b[0;32m----> 3\u001b[0m     offset \u001b[38;5;241m=\u001b[39m \u001b[43mrng\u001b[49m\u001b[38;5;241;43m.\u001b[39;49m\u001b[43mintegers\u001b[49m\u001b[43m(\u001b[49m\u001b[38;5;241;43m0\u001b[39;49m\u001b[43m,\u001b[49m\u001b[43m \u001b[49m\u001b[38;5;28;43mlen\u001b[39;49m\u001b[43m(\u001b[49m\u001b[43mentry\u001b[49m\u001b[43m)\u001b[49m\u001b[43m \u001b[49m\u001b[38;5;241;43m-\u001b[39;49m\u001b[43m \u001b[49m\u001b[43mlength\u001b[49m\u001b[43m \u001b[49m\u001b[38;5;241;43m+\u001b[39;49m\u001b[43m \u001b[49m\u001b[38;5;241;43m1\u001b[39;49m\u001b[43m)\u001b[49m\n\u001b[1;32m      4\u001b[0m     sequence \u001b[38;5;241m=\u001b[39m entry\u001b[38;5;241m.\u001b[39msequence[offset:offset\u001b[38;5;241m+\u001b[39mlength]\n\u001b[1;32m      5\u001b[0m     \u001b[38;5;28;01massert\u001b[39;00m \u001b[38;5;28mlen\u001b[39m(sequence) \u001b[38;5;241m==\u001b[39m length\n",
      "\u001b[0;31mKeyboardInterrupt\u001b[0m: "
     ]
    }
   ],
   "source": [
    "fasta_mapping_factory = sample.SampleMappingDbFactory(root / \"Nachusa.fasta.mapping.db\")\n",
    "for folder in sample_folders:\n",
    "    for f in Path(folder).iterdir():\n",
    "        print(f\"{f.name}\\r\\n\", end=\"\")\n",
    "        name = f.name\n",
    "        entries = fastq.entries(f)\n",
    "        mapping_entry = sample.SampleMappingEntryFactory(name, fasta_index)\n",
    "        for sequences in chunk(map(trim_and_encode, entries), batch_size):\n",
    "            sequences = dna.encode_kmers(np.array(sequences), kmer)\n",
    "            for label in model.classify(sequences, batch_size=batch_size, verbose=0):\n",
    "                fasta_id = rng.choice(tax_to_fasta_ids[label])\n",
    "                mapping_entry.add_fasta_id(fasta_id)\n",
    "        fasta_mapping_factory.write_entry(mapping_entry.build())\n",
    "fasta_mapping_factory.close()"
   ]
  },
  {
   "cell_type": "markdown",
   "id": "86cd67b5-5614-4232-8a6c-3397439c8898",
   "metadata": {},
   "source": [
    "---\n",
    "\n",
    "### Hopland (Soil)"
   ]
  },
  {
   "cell_type": "code",
   "execution_count": 75,
   "id": "46b0f388-35ef-4473-8eb7-c27b35e8804a",
   "metadata": {},
   "outputs": [],
   "source": [
    "sample_folder = \"/home/shared/hopland/fastq\""
   ]
  },
  {
   "cell_type": "code",
   "execution_count": 74,
   "id": "967405a1-15cf-46f2-b3a2-ffa9f33026a8",
   "metadata": {},
   "outputs": [
    {
     "name": "stdout",
     "output_type": "stream",
     "text": [
      "Ur32-B-16S_S260_L001_R2_001.fastq\n"
     ]
    },
    {
     "ename": "KeyboardInterrupt",
     "evalue": "",
     "output_type": "error",
     "traceback": [
      "\u001b[0;31m---------------------------------------------------------------------------\u001b[0m",
      "\u001b[0;31mKeyboardInterrupt\u001b[0m                         Traceback (most recent call last)",
      "Cell \u001b[0;32mIn [74], line 12\u001b[0m\n\u001b[1;32m     10\u001b[0m     sequences \u001b[38;5;241m=\u001b[39m dna\u001b[38;5;241m.\u001b[39mencode_kmers(np\u001b[38;5;241m.\u001b[39marray(sequences), kmer)\n\u001b[1;32m     11\u001b[0m     \u001b[38;5;28;01mfor\u001b[39;00m label \u001b[38;5;129;01min\u001b[39;00m model\u001b[38;5;241m.\u001b[39mclassify(sequences, batch_size\u001b[38;5;241m=\u001b[39mbatch_size, verbose\u001b[38;5;241m=\u001b[39m\u001b[38;5;241m0\u001b[39m):\n\u001b[0;32m---> 12\u001b[0m         fasta_id \u001b[38;5;241m=\u001b[39m \u001b[43mrng\u001b[49m\u001b[38;5;241;43m.\u001b[39;49m\u001b[43mchoice\u001b[49m\u001b[43m(\u001b[49m\u001b[43mtax_to_fasta_ids\u001b[49m\u001b[43m[\u001b[49m\u001b[43mlabel\u001b[49m\u001b[43m]\u001b[49m\u001b[43m)\u001b[49m\n\u001b[1;32m     13\u001b[0m         mapping_entry\u001b[38;5;241m.\u001b[39madd_fasta_id(fasta_id)\n\u001b[1;32m     14\u001b[0m fasta_mapping_factory\u001b[38;5;241m.\u001b[39mwrite_entry(mapping_entry\u001b[38;5;241m.\u001b[39mbuild())\n",
      "File \u001b[0;32m_generator.pyx:705\u001b[0m, in \u001b[0;36mnumpy.random._generator.Generator.choice\u001b[0;34m()\u001b[0m\n",
      "\u001b[0;31mKeyboardInterrupt\u001b[0m: "
     ]
    }
   ],
   "source": [
    "fasta_mapping_factory = sample.SampleMappingDbFactory(root / \"Hopland.fasta.mapping.db\")\n",
    "for f in Path(sample_folder).iterdir():\n",
    "    if f.name.startswith(\"Blank\"):\n",
    "        continue\n",
    "    print(f\"{f.name}\\r\\n\", end=\"\")\n",
    "    name = f.name\n",
    "    entries = fastq.entries(f)\n",
    "    mapping_entry = sample.SampleMappingEntryFactory(name, fasta_index)\n",
    "    for sequences in chunk(map(trim_and_encode, entries), batch_size):\n",
    "        sequences = dna.encode_kmers(np.array(sequences), kmer)\n",
    "        for label in model.classify(sequences, batch_size=batch_size, verbose=0):\n",
    "            fasta_id = rng.choice(tax_to_fasta_ids[label])\n",
    "            mapping_entry.add_fasta_id(fasta_id)\n",
    "    fasta_mapping_factory.write_entry(mapping_entry.build())\n",
    "fasta_mapping_factory.close()"
   ]
  },
  {
   "cell_type": "markdown",
   "id": "67b8030e-39a7-469e-98d6-d674748c766d",
   "metadata": {},
   "source": [
    "### Wetland (Soil)"
   ]
  },
  {
   "cell_type": "code",
   "execution_count": 149,
   "id": "5b4f093d-c595-498d-bfd0-53c6765b2aab",
   "metadata": {},
   "outputs": [],
   "source": [
    "wetland_fasta_file = \"/home/shared/walker_lab/reed/P_A_201201_wet_libs1_8.trim.contigs.pcr.good.unique.good.filter.unique.precluster.pick.pick.agc.0.03.pick.0.03.abund.0.03.pick.fasta.new.fasta\"\n",
    "otu_list_path = \"/home/shared/walker_lab/digitalocean/Reed_NRCS/shared_list/201201_wet_libs1_8.trim.contigs.pcr.good.unique.good.filter.unique.precluster.pick.pick.asv.list\"\n",
    "otu_shared_path = \"/home/shared/walker_lab/digitalocean/Reed_NRCS/shared_list/201201_wet_libs1_8.trim.contigs.pcr.good.unique.good.filter.unique.precluster.pick.pick.asv.shared\""
   ]
  },
  {
   "cell_type": "code",
   "execution_count": 150,
   "id": "9df2d779-f6a7-4149-aaa7-20b5252760f7",
   "metadata": {},
   "outputs": [
    {
     "data": {
      "text/plain": [
       "768"
      ]
     },
     "execution_count": 150,
     "metadata": {},
     "output_type": "execute_result"
    }
   ],
   "source": [
    "# ASV Abundance Count\n",
    "with open(otu_shared_path) as f:\n",
    "    header = f.readline().strip().split('\\t')\n",
    "    rows = [line.strip().split('\\t') for line in f]\n",
    "len(rows) # number of samples"
   ]
  },
  {
   "cell_type": "code",
   "execution_count": 142,
   "id": "f42f66ee-b185-4f26-a576-a4c0fadeabcc",
   "metadata": {},
   "outputs": [],
   "source": [
    "otu_to_index = {header[i]: i for i in range(3, len(header))}"
   ]
  },
  {
   "cell_type": "code",
   "execution_count": 143,
   "id": "4cf8843d-7ba8-4a90-8d7e-8eda2b39ff93",
   "metadata": {},
   "outputs": [],
   "source": [
    "# FASTA ID to OTU Index\n",
    "with open(otu_list_path) as f:\n",
    "    values = f.readline().strip().split('\\t')\n",
    "    keys = f.readline().strip().split('\\t')\n",
    "otu_index = dict(zip(keys[2:], (otu_to_index[v] for v in values[2:])))"
   ]
  },
  {
   "cell_type": "code",
   "execution_count": 144,
   "id": "2594748d-8daa-4e9a-b50c-d750bb95def4",
   "metadata": {},
   "outputs": [
    {
     "data": {
      "text/plain": [
       "('M03064_50_000000000-CY83Y_1_1109_29403_15697', 3)"
      ]
     },
     "execution_count": 144,
     "metadata": {},
     "output_type": "execute_result"
    }
   ],
   "source": [
    "next(iter(otu_index.items()))"
   ]
  },
  {
   "cell_type": "code",
   "execution_count": 151,
   "id": "b2a4ec8b-7b53-46e2-b5ac-f6fd803632f4",
   "metadata": {},
   "outputs": [
    {
     "name": "stdout",
     "output_type": "stream",
     "text": [
      "9728"
     ]
    },
    {
     "ename": "KeyboardInterrupt",
     "evalue": "",
     "output_type": "error",
     "traceback": [
      "\u001b[0;31m---------------------------------------------------------------------------\u001b[0m",
      "\u001b[0;31mKeyboardInterrupt\u001b[0m                         Traceback (most recent call last)",
      "Cell \u001b[0;32mIn [151], line 14\u001b[0m\n\u001b[1;32m     12\u001b[0m         \u001b[38;5;28;01mfor\u001b[39;00m row, mapping_entry \u001b[38;5;129;01min\u001b[39;00m \u001b[38;5;28mzip\u001b[39m(rows, mapping_entries):\n\u001b[1;32m     13\u001b[0m             abundance \u001b[38;5;241m=\u001b[39m \u001b[38;5;28mint\u001b[39m(row[otu_index[entry\u001b[38;5;241m.\u001b[39midentifier]])\n\u001b[0;32m---> 14\u001b[0m             \u001b[38;5;28;01mif\u001b[39;00m abundance \u001b[38;5;241m>\u001b[39m \u001b[38;5;241m0\u001b[39m:\n\u001b[1;32m     15\u001b[0m                 mapping_entry\u001b[38;5;241m.\u001b[39madd_fasta_id(fasta_id, abundance\u001b[38;5;241m=\u001b[39mabundance)\n\u001b[1;32m     16\u001b[0m fasta_mapping_factory\u001b[38;5;241m.\u001b[39mwrite_entries(mapping_entries)\n",
      "\u001b[0;31mKeyboardInterrupt\u001b[0m: "
     ]
    }
   ],
   "source": [
    "fasta_mapping_factory = sample.SampleMappingDbFactory(root / \"Wetland.fasta.mapping.db\")\n",
    "mapping_entries = [sample.SampleMappingEntryFactory(row[1], fasta_index) for row in rows]\n",
    "progress = 0\n",
    "for entries in chunk(map(clean_entry, fasta.entries(wetland_fasta_file)), batch_size):\n",
    "    progress += len(entries)\n",
    "    print(f\"\\r{progress}\", end=\"\")\n",
    "    sequences = np.array(list(map(trim_and_encode, entries)))\n",
    "    sequences = dna.encode_kmers(sequences, kmer)\n",
    "    labels = model.predictions_to_labels(model(sequences))\n",
    "    for entry, label in zip(entries, labels):\n",
    "        fasta_id = rng.choice(tax_to_fasta_ids[label])\n",
    "        for row, mapping_entry in zip(rows, mapping_entries):\n",
    "            abundance = int(row[otu_index[entry.identifier]])\n",
    "            if abundance > 0:\n",
    "                mapping_entry.add_fasta_id(fasta_id, abundance=abundance)\n",
    "fasta_mapping_factory.write_entries(mapping_entries)\n",
    "fasta_mapping_factory.close()"
   ]
  },
  {
   "cell_type": "markdown",
   "id": "74cb83c8-349e-4c0b-ae25-ffb274e39be6",
   "metadata": {},
   "source": [
    "### Snake Fungal Disease (Gut)"
   ]
  },
  {
   "cell_type": "code",
   "execution_count": 76,
   "id": "dd2e2393-e1d0-4fcf-8c31-d1252205ef2a",
   "metadata": {},
   "outputs": [],
   "source": [
    "sfd_fasta_file = \"/home/shared/walker_lab/alex/P_A_221205_cmfp.trim.contigs.pcr.good.unique.good.filter.unique.precluster.denovo.vsearch.pick.opti_mcc.0.03.pick.0.03.abund.0.03.pick.fasta\"\n",
    "otu_list_path = \"/home/shared/walker_lab/digitalocean/Alex_SFD/shared_list/221205_cmfp.trim.contigs.pcr.good.unique.good.filter.unique.precluster.denovo.vsearch.asv.list\"\n",
    "otu_shared_path = \"/home/shared/walker_lab/digitalocean/Alex_SFD/shared_list/221205_cmfp.trim.contigs.pcr.good.unique.good.filter.unique.precluster.denovo.vsearch.asv.shared\""
   ]
  },
  {
   "cell_type": "code",
   "execution_count": 107,
   "id": "2e5ee69d-ffe0-4c55-86bc-076a81020b86",
   "metadata": {},
   "outputs": [
    {
     "data": {
      "text/plain": [
       "887"
      ]
     },
     "execution_count": 107,
     "metadata": {},
     "output_type": "execute_result"
    }
   ],
   "source": [
    "# ASV Abundance Count\n",
    "with open(otu_shared_path) as f:\n",
    "    header = f.readline().strip().split('\\t')\n",
    "    rows = [line.strip().split('\\t') for line in f]\n",
    "len(rows) # number of samples"
   ]
  },
  {
   "cell_type": "code",
   "execution_count": 111,
   "id": "27bea2f7-80d5-4efb-ad23-ba334a241cce",
   "metadata": {},
   "outputs": [],
   "source": [
    "otu_to_index = {header[i]: i for i in range(3, len(header))}"
   ]
  },
  {
   "cell_type": "code",
   "execution_count": 112,
   "id": "386a9a51-7dfc-46ca-aad4-0f076490cad1",
   "metadata": {},
   "outputs": [],
   "source": [
    "# FASTA ID to OTU Index\n",
    "with open(otu_list_path) as f:\n",
    "    values = f.readline().strip().split('\\t')\n",
    "    keys = f.readline().strip().split('\\t')\n",
    "otu_index = dict(zip(keys[2:], (otu_to_index[v] for v in values[2:])))"
   ]
  },
  {
   "cell_type": "code",
   "execution_count": 114,
   "id": "1e65696f-230c-4275-9826-4a4e299a7b46",
   "metadata": {},
   "outputs": [
    {
     "data": {
      "text/plain": [
       "('M03064_63_000000000-JHTY5_1_1110_16981_26249', 3)"
      ]
     },
     "execution_count": 114,
     "metadata": {},
     "output_type": "execute_result"
    }
   ],
   "source": [
    "next(iter(otu_index.items()))"
   ]
  },
  {
   "cell_type": "code",
   "execution_count": 139,
   "id": "b19904de-d5eb-4171-8881-fa8067c04ba7",
   "metadata": {},
   "outputs": [
    {
     "name": "stdout",
     "output_type": "stream",
     "text": [
      "2304"
     ]
    },
    {
     "ename": "KeyboardInterrupt",
     "evalue": "",
     "output_type": "error",
     "traceback": [
      "\u001b[0;31m---------------------------------------------------------------------------\u001b[0m",
      "\u001b[0;31mKeyboardInterrupt\u001b[0m                         Traceback (most recent call last)",
      "Cell \u001b[0;32mIn [139], line 15\u001b[0m\n\u001b[1;32m     13\u001b[0m             abundance \u001b[38;5;241m=\u001b[39m \u001b[38;5;28mint\u001b[39m(row[otu_index[entry\u001b[38;5;241m.\u001b[39midentifier]])\n\u001b[1;32m     14\u001b[0m             \u001b[38;5;28;01mif\u001b[39;00m abundance \u001b[38;5;241m>\u001b[39m \u001b[38;5;241m0\u001b[39m:\n\u001b[0;32m---> 15\u001b[0m                 \u001b[43mmapping_entry\u001b[49m\u001b[38;5;241;43m.\u001b[39;49m\u001b[43madd_fasta_id\u001b[49m\u001b[43m(\u001b[49m\u001b[43mfasta_id\u001b[49m\u001b[43m,\u001b[49m\u001b[43m \u001b[49m\u001b[43mabundance\u001b[49m\u001b[38;5;241;43m=\u001b[39;49m\u001b[43mabundance\u001b[49m\u001b[43m)\u001b[49m\n\u001b[1;32m     16\u001b[0m fasta_mapping_factory\u001b[38;5;241m.\u001b[39mwrite_entries(mapping_entries)\n",
      "File \u001b[0;32m~/Libs/dnadb/src/dnadb/sample.py:73\u001b[0m, in \u001b[0;36mSampleMappingEntryFactory.add_fasta_id\u001b[0;34m(self, fasta_id, abundance)\u001b[0m\n\u001b[1;32m     71\u001b[0m \u001b[38;5;28;01mif\u001b[39;00m abundance \u001b[38;5;241m==\u001b[39m \u001b[38;5;241m0\u001b[39m:\n\u001b[1;32m     72\u001b[0m     \u001b[38;5;28;01mreturn\u001b[39;00m \u001b[38;5;28mself\u001b[39m\n\u001b[0;32m---> 73\u001b[0m index \u001b[38;5;241m=\u001b[39m \u001b[38;5;28;43mself\u001b[39;49m\u001b[38;5;241;43m.\u001b[39;49m\u001b[43mfasta_index_db\u001b[49m\u001b[38;5;241;43m.\u001b[39;49m\u001b[43mfasta_id_to_index\u001b[49m\u001b[43m(\u001b[49m\u001b[43mfasta_id\u001b[49m\u001b[43m)\u001b[49m\n\u001b[1;32m     74\u001b[0m \u001b[38;5;28;01mif\u001b[39;00m index \u001b[38;5;129;01mnot\u001b[39;00m \u001b[38;5;129;01min\u001b[39;00m \u001b[38;5;28mself\u001b[39m\u001b[38;5;241m.\u001b[39mabundance_map:\n\u001b[1;32m     75\u001b[0m     \u001b[38;5;28mself\u001b[39m\u001b[38;5;241m.\u001b[39mabundance_map[index] \u001b[38;5;241m=\u001b[39m \u001b[38;5;241m0\u001b[39m\n",
      "File \u001b[0;32m~/Libs/dnadb/src/dnadb/fasta.py:169\u001b[0m, in \u001b[0;36mFastaIndexDb.fasta_id_to_index\u001b[0;34m(self, fasta_id)\u001b[0m\n\u001b[1;32m    168\u001b[0m \u001b[38;5;28;01mdef\u001b[39;00m \u001b[38;5;21mfasta_id_to_index\u001b[39m(\u001b[38;5;28mself\u001b[39m, fasta_id: \u001b[38;5;28mstr\u001b[39m) \u001b[38;5;241m-\u001b[39m\u001b[38;5;241m>\u001b[39m \u001b[38;5;28mint\u001b[39m:\n\u001b[0;32m--> 169\u001b[0m     \u001b[38;5;28;01mreturn\u001b[39;00m np\u001b[38;5;241m.\u001b[39mfrombuffer(\u001b[38;5;28;43mself\u001b[39;49m\u001b[38;5;241;43m.\u001b[39;49m\u001b[43mdb\u001b[49m\u001b[43m[\u001b[49m\u001b[38;5;124;43mf\u001b[39;49m\u001b[38;5;124;43m\"\u001b[39;49m\u001b[38;5;124;43mid_\u001b[39;49m\u001b[38;5;132;43;01m{\u001b[39;49;00m\u001b[43mfasta_id\u001b[49m\u001b[38;5;132;43;01m}\u001b[39;49;00m\u001b[38;5;124;43m\"\u001b[39;49m\u001b[43m]\u001b[49m, dtype\u001b[38;5;241m=\u001b[39mnp\u001b[38;5;241m.\u001b[39mint64, count\u001b[38;5;241m=\u001b[39m\u001b[38;5;241m1\u001b[39m)[\u001b[38;5;241m0\u001b[39m]\n",
      "File \u001b[0;32m/opt/conda/lib/python3.10/site-packages/lmdbm/lmdbm.py:130\u001b[0m, in \u001b[0;36mLmdb.__getitem__\u001b[0;34m(self, key)\u001b[0m\n\u001b[1;32m    127\u001b[0m \u001b[38;5;28;01mdef\u001b[39;00m \u001b[38;5;21m__getitem__\u001b[39m(\u001b[38;5;28mself\u001b[39m, key: KT) \u001b[38;5;241m-\u001b[39m\u001b[38;5;241m>\u001b[39m VT:\n\u001b[1;32m    129\u001b[0m     \u001b[38;5;28;01mwith\u001b[39;00m \u001b[38;5;28mself\u001b[39m\u001b[38;5;241m.\u001b[39menv\u001b[38;5;241m.\u001b[39mbegin() \u001b[38;5;28;01mas\u001b[39;00m txn:\n\u001b[0;32m--> 130\u001b[0m         value \u001b[38;5;241m=\u001b[39m \u001b[43mtxn\u001b[49m\u001b[38;5;241;43m.\u001b[39;49m\u001b[43mget\u001b[49m\u001b[43m(\u001b[49m\u001b[38;5;28;43mself\u001b[39;49m\u001b[38;5;241;43m.\u001b[39;49m\u001b[43m_pre_key\u001b[49m\u001b[43m(\u001b[49m\u001b[43mkey\u001b[49m\u001b[43m)\u001b[49m\u001b[43m)\u001b[49m\n\u001b[1;32m    131\u001b[0m     \u001b[38;5;28;01mif\u001b[39;00m value \u001b[38;5;129;01mis\u001b[39;00m \u001b[38;5;28;01mNone\u001b[39;00m:\n\u001b[1;32m    132\u001b[0m         \u001b[38;5;28;01mraise\u001b[39;00m \u001b[38;5;167;01mKeyError\u001b[39;00m(key)\n",
      "\u001b[0;31mKeyboardInterrupt\u001b[0m: "
     ]
    }
   ],
   "source": [
    "fasta_mapping_factory = sample.SampleMappingDbFactory(root / \"SFD.fasta.mapping.db\")\n",
    "mapping_entries = [sample.SampleMappingEntryFactory(row[1], fasta_index) for row in rows]\n",
    "progress = 0\n",
    "for entries in chunk(map(clean_entry, fasta.entries(sfd_fasta_file)), batch_size):\n",
    "    progress += len(entries)\n",
    "    print(f\"\\r{progress}\", end=\"\")\n",
    "    sequences = np.array(list(map(trim_and_encode, entries)))\n",
    "    sequences = dna.encode_kmers(sequences, kmer)\n",
    "    labels = model.predictions_to_labels(model(sequences))\n",
    "    for entry, label in zip(entries, labels):\n",
    "        fasta_id = rng.choice(tax_to_fasta_ids[label])\n",
    "        for row, mapping_entry in zip(rows, mapping_entries):\n",
    "            abundance = int(row[otu_index[entry.identifier]])\n",
    "            if abundance > 0:\n",
    "                mapping_entry.add_fasta_id(fasta_id, abundance=abundance)\n",
    "fasta_mapping_factory.write_entries(mapping_entries)\n",
    "fasta_mapping_factory.close()"
   ]
  },
  {
   "cell_type": "markdown",
   "id": "adcb3d3c-4d59-4a45-a73b-165178998450",
   "metadata": {},
   "source": [
    "---\n",
    "\n",
    "## Generating Synthetic Subsamples for Testing"
   ]
  },
  {
   "cell_type": "code",
   "execution_count": 33,
   "id": "63410d01-1a06-4909-9b9f-a4831bf651aa",
   "metadata": {},
   "outputs": [],
   "source": [
    "subsample_size = 1000\n",
    "n_subsamples = 10\n",
    "sequence_length = 150"
   ]
  },
  {
   "cell_type": "code",
   "execution_count": 34,
   "id": "7c14a44b-1a7e-4233-8675-e12ed4d0eb82",
   "metadata": {},
   "outputs": [],
   "source": [
    "rng = np.random.default_rng()"
   ]
  },
  {
   "cell_type": "code",
   "execution_count": 119,
   "id": "9e625e74-c152-4e2d-a1cb-aefabfef9915",
   "metadata": {},
   "outputs": [],
   "source": [
    "class FastaEntryWriter:\n",
    "    def __init__(self, prefix: str = \"\"):\n",
    "        if len(prefix) > 0:\n",
    "            prefix += \".\"\n",
    "        self.prefix = prefix\n",
    "        self.count = 0\n",
    "\n",
    "    def __call__(self, entry: fasta.FastaEntry):\n",
    "        offset = rng.integers(len(entry.sequence) - sequence_length)\n",
    "        entry = replace(\n",
    "            entry,\n",
    "            identifier=f\"{self.prefix}{self.count:08d}\",\n",
    "            sequence=entry.sequence[offset:offset + sequence_length],\n",
    "            extra=\"\")\n",
    "        self.count += 1\n",
    "        return entry"
   ]
  },
  {
   "cell_type": "markdown",
   "id": "2936c632-7148-45bf-8bc4-382f67aa94c9",
   "metadata": {},
   "source": [
    "### Silva"
   ]
  },
  {
   "cell_type": "code",
   "execution_count": 131,
   "id": "c01ac2aa-c980-4771-be23-9878af4315de",
   "metadata": {},
   "outputs": [],
   "source": [
    "sequences_db = fasta.FastaDb(root / f\"Silva/Silva_{silva.version}.fasta.db\")"
   ]
  },
  {
   "cell_type": "code",
   "execution_count": 132,
   "id": "e468f4a5-789c-4f17-803f-c9c37a103f88",
   "metadata": {},
   "outputs": [],
   "source": [
    "taxonomy_db = taxonomy.TaxonomyDb(root / f\"Silva/Silva_{silva.version}.tax.tsv.db\")"
   ]
  },
  {
   "cell_type": "markdown",
   "id": "276879a0-11a8-409b-8d85-c9b5a1550455",
   "metadata": {},
   "source": [
    "### Nachusa"
   ]
  },
  {
   "cell_type": "code",
   "execution_count": 133,
   "id": "6ed26668-155c-4a24-a511-68403bf5444e",
   "metadata": {},
   "outputs": [],
   "source": [
    "samples = sample.load_multiplexed_fasta(\n",
    "    sequences_db,\n",
    "    root / f\"synthetic/synthetic.fasta.mapping.db\",\n",
    "    root / f\"synthetic/synthetic.fasta.index.db\"\n",
    ")"
   ]
  },
  {
   "cell_type": "code",
   "execution_count": 134,
   "id": "bdb9dc66-060d-4842-8065-06f9f76c9145",
   "metadata": {},
   "outputs": [
    {
     "data": {
      "text/plain": [
       "210"
      ]
     },
     "execution_count": 134,
     "metadata": {},
     "output_type": "execute_result"
    }
   ],
   "source": [
    "len(samples)"
   ]
  },
  {
   "cell_type": "code",
   "execution_count": 153,
   "id": "531d67f1-78b5-4a21-961f-a39c05e2a8c6",
   "metadata": {},
   "outputs": [
    {
     "name": "stdout",
     "output_type": "stream",
     "text": [
      "210/210"
     ]
    }
   ],
   "source": [
    "for index, s in enumerate(samples):\n",
    "    print(f\"\\r{index+1}/{len(samples)}\", end=\"\")\n",
    "    base_name = s.name.replace(\".fastq.gz\", \"\").replace(\".fastq\", \"\").replace(\" \", \"_\")\n",
    "    for i in range(n_subsamples):\n",
    "        name = f\"{base_name}.{i+1:03d}\"\n",
    "        fasta_writer = FastaEntryWriter(name)\n",
    "        out_fasta = open(root / \"Synthetic/Nachusa/test\" / (name + \".fasta\"), 'w')\n",
    "        out_tax = open(root / \"Synthetic/Nachusa/test\" / (name + \".tax.tsv\"), 'w')\n",
    "        for entry in s.sample(subsample_size):\n",
    "            label = taxonomy_db.fasta_id_to_label(entry.identifier)\n",
    "            entry = fasta_writer(entry)\n",
    "            fasta.write(out_fasta, (entry,))\n",
    "            taxonomy.write(out_tax, (taxonomy.TaxonomyEntry(identifier=entry.identifier, label=label),))\n",
    "        out_fasta.close()\n",
    "        out_tax.close()"
   ]
  },
  {
   "cell_type": "code",
   "execution_count": 70,
   "id": "db9c0270-236b-413b-b3c7-62370fd1f124",
   "metadata": {},
   "outputs": [
    {
     "data": {
      "text/plain": [
       "'k__Bacteria; p__Gemmatimonadota; c__Gemmatimonadetes; o__Gemmatimonadales; f__Gemmatimonadaceae; g__'"
      ]
     },
     "execution_count": 70,
     "metadata": {},
     "output_type": "execute_result"
    }
   ],
   "source": [
    "taxonomy_db.fasta_id_to_label(\"HQ119724.1.1499\")"
   ]
  },
  {
   "cell_type": "code",
   "execution_count": null,
   "id": "8589bf45-4ca8-4a2e-909c-1d106db94056",
   "metadata": {},
   "outputs": [],
   "source": []
  }
 ],
 "metadata": {
  "kernelspec": {
   "display_name": "Python 3 (ipykernel)",
   "language": "python",
   "name": "python3"
  },
  "language_info": {
   "codemirror_mode": {
    "name": "ipython",
    "version": 3
   },
   "file_extension": ".py",
   "mimetype": "text/x-python",
   "name": "python",
   "nbconvert_exporter": "python",
   "pygments_lexer": "ipython3",
   "version": "3.10.6"
  }
 },
 "nbformat": 4,
 "nbformat_minor": 5
}
