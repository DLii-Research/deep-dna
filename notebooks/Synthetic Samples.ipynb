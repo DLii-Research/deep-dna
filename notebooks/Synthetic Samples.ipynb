{
 "cells": [
  {
   "cell_type": "code",
   "execution_count": 1,
   "id": "65965b0c-27e3-4d31-86c9-334754815ca1",
   "metadata": {},
   "outputs": [],
   "source": [
    "from collections import defaultdict\n",
    "from dataclasses import replace\n",
    "from dnadb import dna, fasta, fastq, sample, taxonomy\n",
    "from dnadb.datasets import Silva\n",
    "from functools import cache\n",
    "import itertools\n",
    "import numpy as np\n",
    "from pathlib import Path\n",
    "import tensorflow as tf\n",
    "import tf_utilities as tfu\n",
    "import time\n",
    "from tqdm.auto import tqdm\n",
    "import wandb\n",
    "\n",
    "from deepdna.nn.models import load_model\n",
    "from deepdna.nn.models.taxonomy import NaiveTaxonomyClassificationModel"
   ]
  },
  {
   "cell_type": "code",
   "execution_count": 2,
   "id": "9c7725c1-9bdb-4e11-a715-83437cdf3c98",
   "metadata": {},
   "outputs": [
    {
     "name": "stderr",
     "output_type": "stream",
     "text": [
      "2023-08-10 15:46:30.433798: I tensorflow/stream_executor/cuda/cuda_gpu_executor.cc:975] successful NUMA node read from SysFS had negative value (-1), but there must be at least one NUMA node, so returning NUMA node zero\n",
      "2023-08-10 15:46:30.434100: I tensorflow/stream_executor/cuda/cuda_gpu_executor.cc:975] successful NUMA node read from SysFS had negative value (-1), but there must be at least one NUMA node, so returning NUMA node zero\n",
      "2023-08-10 15:46:30.517698: I tensorflow/stream_executor/cuda/cuda_gpu_executor.cc:975] successful NUMA node read from SysFS had negative value (-1), but there must be at least one NUMA node, so returning NUMA node zero\n",
      "2023-08-10 15:46:30.518040: I tensorflow/stream_executor/cuda/cuda_gpu_executor.cc:975] successful NUMA node read from SysFS had negative value (-1), but there must be at least one NUMA node, so returning NUMA node zero\n",
      "2023-08-10 15:46:30.518331: I tensorflow/stream_executor/cuda/cuda_gpu_executor.cc:975] successful NUMA node read from SysFS had negative value (-1), but there must be at least one NUMA node, so returning NUMA node zero\n",
      "2023-08-10 15:46:30.518599: I tensorflow/stream_executor/cuda/cuda_gpu_executor.cc:975] successful NUMA node read from SysFS had negative value (-1), but there must be at least one NUMA node, so returning NUMA node zero\n"
     ]
    },
    {
     "data": {
      "text/plain": [
       "([PhysicalDevice(name='/physical_device:CPU:0', device_type='CPU')],\n",
       " [PhysicalDevice(name='/physical_device:GPU:0', device_type='GPU')])"
      ]
     },
     "execution_count": 2,
     "metadata": {},
     "output_type": "execute_result"
    }
   ],
   "source": [
    "tfu.devices.select_gpu(0)"
   ]
  },
  {
   "cell_type": "code",
   "execution_count": 3,
   "id": "6c3a6bbf-ca01-4fe6-b9b1-337884b5c12a",
   "metadata": {},
   "outputs": [],
   "source": [
    "rng = np.random.default_rng()"
   ]
  },
  {
   "cell_type": "markdown",
   "id": "da5fe6fc-9c20-49f5-bf70-6902076cc995",
   "metadata": {},
   "source": [
    "## Synthetic Dataset Factory"
   ]
  },
  {
   "cell_type": "code",
   "execution_count": 4,
   "id": "a2deca81-1764-49c5-932e-002db02fb670",
   "metadata": {},
   "outputs": [
    {
     "data": {
      "text/plain": [
       "PosixPath('/home/dwl2x/work/Datasets/synthetic')"
      ]
     },
     "execution_count": 4,
     "metadata": {},
     "output_type": "execute_result"
    }
   ],
   "source": [
    "dataset_root = Path(\"~/work/Datasets/synthetic\").expanduser()\n",
    "dataset_root.mkdir(exist_ok=True)\n",
    "dataset_root"
   ]
  },
  {
   "cell_type": "markdown",
   "id": "84205e73-f72c-41de-a5ec-d12349a75c58",
   "metadata": {},
   "source": [
    "### SILVA Sequences and Taxonomy\n",
    "\n",
    "Our synthetic samples will be created by mapping to the SILVA dataset."
   ]
  },
  {
   "cell_type": "code",
   "execution_count": 5,
   "id": "96d78a5f-454e-4867-bb83-f2bd2d341616",
   "metadata": {},
   "outputs": [],
   "source": [
    "# silva = Silva()\n",
    "# with fasta.FastaDbFactory(dataset_root / \"synthetic.fasta.db\") as db:\n",
    "#     db.write_entries(silva.sequences())\n",
    "# with taxonomy.TaxonomyDbFactory(dataset_root / \"synthetic.tax.tsv.db\") as db:\n",
    "#     db.write_entries(silva.taxonomies())"
   ]
  },
  {
   "cell_type": "code",
   "execution_count": 6,
   "id": "e47d6d87-06f5-4626-92f0-54009f7c98e9",
   "metadata": {},
   "outputs": [],
   "source": [
    "fasta_db = fasta.FastaDb(dataset_root / \"synthetic.fasta.db\")\n",
    "# tax_db = taxonomy.TaxonomyDb(dataset_root / \"synthetic.tax.tsv.db\")\n",
    "tax_db = taxonomy.TaxonomyDb(\"/home/dwl2x/work/Datasets/Silva/Silva_138.1.tax.tsv.db\")"
   ]
  },
  {
   "cell_type": "code",
   "execution_count": 7,
   "id": "ac52837f-069b-4983-add1-ae6cf9459c0e",
   "metadata": {},
   "outputs": [],
   "source": [
    "tax_to_fasta_ids = {}\n",
    "for label in tax_db:\n",
    "    tax_to_fasta_ids[label] = list(tax_db.fasta_ids_with_label(tax_db.label_to_index(label)))"
   ]
  },
  {
   "cell_type": "markdown",
   "id": "a2f2b1b0-edca-4df3-83ac-c97162bba88a",
   "metadata": {},
   "source": [
    "### Sequence ID Mapping"
   ]
  },
  {
   "cell_type": "code",
   "execution_count": 8,
   "id": "133d64bd-e22a-4bb2-8fec-f8181bb246e6",
   "metadata": {},
   "outputs": [],
   "source": [
    "# with fasta.FastaIndexDbFactory(dataset_root / \"synthetic.fasta.index.db\") as db:\n",
    "#     db.write_entries(fasta_db)"
   ]
  },
  {
   "cell_type": "code",
   "execution_count": 9,
   "id": "d925eba8-6468-4731-a2a5-afdd0ccc8ab0",
   "metadata": {},
   "outputs": [],
   "source": [
    "fasta_index = fasta.FastaIndexDb(dataset_root / \"synthetic.fasta.index.db\")"
   ]
  },
  {
   "cell_type": "markdown",
   "id": "030d86f8-1a09-413e-9503-f0c0c5c86ce3",
   "metadata": {},
   "source": [
    "## Classification Model"
   ]
  },
  {
   "cell_type": "code",
   "execution_count": 10,
   "id": "53dc4ccb-fea6-4d21-a106-57bcfe2e04b5",
   "metadata": {},
   "outputs": [
    {
     "name": "stderr",
     "output_type": "stream",
     "text": [
      "2023-08-10 15:46:55.198545: I tensorflow/core/platform/cpu_feature_guard.cc:193] This TensorFlow binary is optimized with oneAPI Deep Neural Network Library (oneDNN) to use the following CPU instructions in performance-critical operations:  SSE4.1 SSE4.2 AVX AVX2 FMA\n",
      "To enable them in other operations, rebuild TensorFlow with the appropriate compiler flags.\n",
      "2023-08-10 15:46:55.202584: I tensorflow/stream_executor/cuda/cuda_gpu_executor.cc:975] successful NUMA node read from SysFS had negative value (-1), but there must be at least one NUMA node, so returning NUMA node zero\n",
      "2023-08-10 15:46:55.203082: I tensorflow/stream_executor/cuda/cuda_gpu_executor.cc:975] successful NUMA node read from SysFS had negative value (-1), but there must be at least one NUMA node, so returning NUMA node zero\n",
      "2023-08-10 15:46:55.203442: I tensorflow/stream_executor/cuda/cuda_gpu_executor.cc:975] successful NUMA node read from SysFS had negative value (-1), but there must be at least one NUMA node, so returning NUMA node zero\n",
      "2023-08-10 15:46:56.653886: I tensorflow/stream_executor/cuda/cuda_gpu_executor.cc:975] successful NUMA node read from SysFS had negative value (-1), but there must be at least one NUMA node, so returning NUMA node zero\n",
      "2023-08-10 15:46:56.654758: I tensorflow/stream_executor/cuda/cuda_gpu_executor.cc:975] successful NUMA node read from SysFS had negative value (-1), but there must be at least one NUMA node, so returning NUMA node zero\n",
      "2023-08-10 15:46:56.654947: I tensorflow/stream_executor/cuda/cuda_gpu_executor.cc:975] successful NUMA node read from SysFS had negative value (-1), but there must be at least one NUMA node, so returning NUMA node zero\n",
      "2023-08-10 15:46:56.655708: I tensorflow/core/common_runtime/gpu/gpu_device.cc:1532] Created device /job:localhost/replica:0/task:0/device:GPU:0 with 4369 MB memory:  -> device: 0, name: NVIDIA GeForce RTX 3090, pci bus id: 0000:01:00.0, compute capability: 8.6\n"
     ]
    }
   ],
   "source": [
    "model = load_model(\"./logs/models/dnabert_taxonomy_naive\", NaiveTaxonomyClassificationModel)"
   ]
  },
  {
   "cell_type": "markdown",
   "id": "a934220a-29a6-4efa-a2ad-83808332df48",
   "metadata": {},
   "source": [
    "## Datasets"
   ]
  },
  {
   "cell_type": "code",
   "execution_count": 11,
   "id": "3927fd7b-148d-452b-81dd-0fc031c219e4",
   "metadata": {},
   "outputs": [],
   "source": [
    "def trim_and_encode(entry: fasta.FastaEntry|fastq.FastqEntry, length: int = 150):\n",
    "    # Trim the sequence\n",
    "    offset = rng.integers(0, len(entry) - length + 1)\n",
    "    sequence = entry.sequence[offset:offset+length]\n",
    "    assert len(sequence) == length\n",
    "    return dna.encode_sequence(sequence)"
   ]
  },
  {
   "cell_type": "markdown",
   "id": "d1d225dd-db68-4bd7-a2d5-b5236dc33911",
   "metadata": {},
   "source": [
    "### Nachusa Sequences"
   ]
  },
  {
   "cell_type": "code",
   "execution_count": 12,
   "id": "9263cb8f-be57-40b8-b480-ad7aeeef83ee",
   "metadata": {},
   "outputs": [],
   "source": [
    "sample_folders = [\n",
    "    \"/home/shared/prism-data/Nachusa Sequences/nachusa-2015-soil16S-sequences\",\n",
    "    \"/home/shared/prism-data/Nachusa Sequences/nachusa-2016-soil16S-sequences\",\n",
    "    \"/home/shared/prism-data/Nachusa Sequences/nachusa-2017-soil16S-sequences\",\n",
    "    \"/home/shared/prism-data/Nachusa Sequences/nachusa-2018-soil16S-sequences\",\n",
    "    # \"/home/shared/prism-data/Nachusa Sequences/nachusa-2019-soil16S-sequences\", # missing\n",
    "    \"/home/shared/prism-data/Nachusa Sequences/nachusa-2020-soil16S-sequences\",\n",
    "]"
   ]
  },
  {
   "cell_type": "code",
   "execution_count": 13,
   "id": "e52fe603-5bde-4f8a-8a94-88cc5ad8ec61",
   "metadata": {},
   "outputs": [],
   "source": [
    "# Sample Mapping\n",
    "fasta_mapping_factory = sample.SampleMappingDbFactory(dataset_root / \"synthetic.fasta.mapping.db\")"
   ]
  },
  {
   "cell_type": "code",
   "execution_count": null,
   "id": "91830f2c-08e7-41f9-99a7-eb46a03d9705",
   "metadata": {},
   "outputs": [
    {
     "name": "stdout",
     "output_type": "stream",
     "text": [
      "WS-AG-May2015_S65_L001_R1_001.fastq\n"
     ]
    },
    {
     "name": "stderr",
     "output_type": "stream",
     "text": [
      "2023-08-10 15:47:10.432073: I tensorflow/stream_executor/cuda/cuda_blas.cc:1786] TensorFloat-32 will be used for the matrix multiplication. This will only be logged once.\n"
     ]
    }
   ],
   "source": [
    "for folder in sample_folders:\n",
    "    for f in Path(folder).iterdir():\n",
    "        print(f\"{f.name}\\r\\n\", end=\"\")\n",
    "        mapping_entry = sample.SampleMappingEntryFactory(f.name, fasta_index)\n",
    "        sequences = np.array(list(map(trim_and_encode, fastq.entries(f))))\n",
    "        sequences = dna.encode_kmers(sequences, 3)\n",
    "        tax_ids = []\n",
    "        for i in range(0, len(sequences), 32):\n",
    "            tax_ids.append(model(sequences[i:i+32]).numpy())\n",
    "        tax_ids = np.concatenate(tax_ids, axis=0)\n",
    "        # tax_ids = model.predict(sequences)\n",
    "        taxa = [model.id_to_taxonomy_map[i] for i in np.argmax(tax_ids, axis=1)]\n",
    "        for i, tax in enumerate(taxa):\n",
    "            print(f\"\\rGathering FASTA IDs: {i+1}/{len(taxa)}\", end=\"\")\n",
    "            fasta_id = rng.choice(tax_to_fasta_ids[tax])\n",
    "            mapping_entry.add_fasta_id(fasta_id)\n",
    "        fasta_mapping_factory.write_entry(mapping_entry.build())"
   ]
  },
  {
   "cell_type": "code",
   "execution_count": 15,
   "id": "f1c9c214-dde3-4145-aa5c-e06f11731ea8",
   "metadata": {},
   "outputs": [],
   "source": [
    "fasta_mapping_factory.close()"
   ]
  },
  {
   "cell_type": "code",
   "execution_count": 16,
   "id": "76b7a1c4-03e1-4da0-929c-4110137fdc41",
   "metadata": {},
   "outputs": [
    {
     "data": {
      "text/plain": [
       "210"
      ]
     },
     "execution_count": 16,
     "metadata": {},
     "output_type": "execute_result"
    }
   ],
   "source": [
    "synthetic_samples = sample.load_multiplexed_fasta(dataset_root / \"synthetic.fasta.db\", dataset_root / \"synthetic.fasta.mapping.db\")\n",
    "len(synthetic_samples)"
   ]
  },
  {
   "cell_type": "code",
   "execution_count": 17,
   "id": "24fdebf9-3ed5-4771-af03-b07f660bb6aa",
   "metadata": {},
   "outputs": [
    {
     "data": {
      "text/plain": [
       "210"
      ]
     },
     "execution_count": 17,
     "metadata": {},
     "output_type": "execute_result"
    }
   ],
   "source": [
    "names = set([s.name for s in synthetic_samples])\n",
    "len(names)"
   ]
  },
  {
   "cell_type": "code",
   "execution_count": 18,
   "id": "6fa52db6-5646-44b1-9454-37e826364194",
   "metadata": {},
   "outputs": [
    {
     "data": {
      "text/plain": [
       "210"
      ]
     },
     "execution_count": 18,
     "metadata": {},
     "output_type": "execute_result"
    }
   ],
   "source": [
    "n = 0\n",
    "for folder in sample_folders:\n",
    "    for f in Path(folder).iterdir():\n",
    "        # print(f)\n",
    "        n += 1\n",
    "n"
   ]
  },
  {
   "cell_type": "code",
   "execution_count": 19,
   "id": "087b13fa-88f1-47a2-ad26-b4e1b3e88df6",
   "metadata": {},
   "outputs": [
    {
     "name": "stdout",
     "output_type": "stream",
     "text": [
      "50\n",
      "51\n",
      "53\n",
      "0\n",
      "56\n"
     ]
    }
   ],
   "source": [
    "for d in sample_folders:\n",
    "    print(len(list(Path(d).iterdir())))"
   ]
  },
  {
   "cell_type": "code",
   "execution_count": 20,
   "id": "95228318-483d-4343-bd3f-075b90893442",
   "metadata": {},
   "outputs": [
    {
     "data": {
      "text/plain": [
       "1"
      ]
     },
     "execution_count": 20,
     "metadata": {},
     "output_type": "execute_result"
    }
   ],
   "source": [
    "1"
   ]
  },
  {
   "cell_type": "code",
   "execution_count": null,
   "id": "bad7ca32-0466-4544-bad9-9d3516fda0f6",
   "metadata": {},
   "outputs": [],
   "source": []
  }
 ],
 "metadata": {
  "kernelspec": {
   "display_name": "Python 3 (ipykernel)",
   "language": "python",
   "name": "python3"
  },
  "language_info": {
   "codemirror_mode": {
    "name": "ipython",
    "version": 3
   },
   "file_extension": ".py",
   "mimetype": "text/x-python",
   "name": "python",
   "nbconvert_exporter": "python",
   "pygments_lexer": "ipython3",
   "version": "3.10.6"
  }
 },
 "nbformat": 4,
 "nbformat_minor": 5
}
