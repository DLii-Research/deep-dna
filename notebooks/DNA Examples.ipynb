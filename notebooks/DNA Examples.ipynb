{
 "cells": [
  {
   "cell_type": "markdown",
   "id": "c7d266bf-147e-49aa-952a-cb42e897d67c",
   "metadata": {},
   "source": [
    "# DNA Handling Examples\n",
    "\n",
    "This notebook provides a brief overview of some included utilities for working with DNA sequences and FASTQ files."
   ]
  },
  {
   "cell_type": "code",
   "execution_count": 1,
   "id": "c4c4edeb-4920-4aba-85d7-bc6b8494a9b7",
   "metadata": {},
   "outputs": [],
   "source": [
    "import bootstrap"
   ]
  },
  {
   "cell_type": "code",
   "execution_count": 2,
   "id": "bb6bfd36-98e2-4c10-9955-683330a2abbf",
   "metadata": {},
   "outputs": [],
   "source": [
    "import gzip\n",
    "from common import dna, fastq"
   ]
  },
  {
   "cell_type": "markdown",
   "id": "03f9fbec-72b1-4d14-b585-32864aada896",
   "metadata": {},
   "source": [
    "---\n",
    "## Load a FASTQ File"
   ]
  },
  {
   "cell_type": "code",
   "execution_count": 3,
   "id": "fe078d79-9d48-4434-b161-e8e634260b7a",
   "metadata": {},
   "outputs": [],
   "source": [
    "path = \"/home/shared/prism-data/Nachusa Sequences/nachusa-2020-soil16S-sequences/Wesley001-WH-051220_S140_L001_R1_001.fastq.gz\""
   ]
  },
  {
   "cell_type": "code",
   "execution_count": 4,
   "id": "72f55f0f-ab44-46bc-bc3f-58ab7c75f56a",
   "metadata": {},
   "outputs": [],
   "source": [
    "with gzip.open(path) as f:\n",
    "    sample = fastq.read(f)"
   ]
  },
  {
   "cell_type": "code",
   "execution_count": 5,
   "id": "66cdc202-24a9-4749-8300-9b63be3fae83",
   "metadata": {},
   "outputs": [
    {
     "data": {
      "text/plain": [
       "17164"
      ]
     },
     "execution_count": 5,
     "metadata": {},
     "output_type": "execute_result"
    }
   ],
   "source": [
    "len(sample)"
   ]
  },
  {
   "cell_type": "code",
   "execution_count": 6,
   "id": "79ff09f8-6205-421a-b42f-f7637727ddea",
   "metadata": {},
   "outputs": [
    {
     "data": {
      "text/plain": [
       "FastqEntry:\n",
       "  @MN01227:252:000H3FWK5:1:11101:5434:1073 1:N:0:TGCTACATCA\n",
       "  GTGCCAGCAGCAGCGGTAATACGGGGGGAGCAAGCGTTGTTCGGATTTACTGGGCGTAAAGGGCGCGTAGGCGGTCAGCACAAGTCAGTTGTGAAATCTCCGAGCTNAACTCGGAANGGTCAACTGAAACTGTGCGACTAGAGTGCGGAAGGG\n",
       "  +\n",
       "  FFAFFFFFFFFFFFFFFFFFFFFFFFFFFFFFFFFFFFFFFFFFFFFFFFFFFFFFFFFFFFFFFFFFFFAFFFFFFFF/FF/FAAFFFA/A/FFFFAFFFFFFFF#/FFFFAFFF#FF/F//FFFAAAAFFFFFF/AFFFAFFFFAF/FFFA"
      ]
     },
     "execution_count": 6,
     "metadata": {},
     "output_type": "execute_result"
    }
   ],
   "source": [
    "sample[0]"
   ]
  },
  {
   "cell_type": "markdown",
   "id": "046954ee-fb32-408a-b0e7-af5e98a879df",
   "metadata": {},
   "source": [
    "---\n",
    "## Sequence Encoding/Decoding\n",
    "\n",
    "The following cells demonstrate encoding DNA sequences into vector representations.\n",
    "\n",
    "- A = 0\n",
    "- C = 1\n",
    "- G = 2\n",
    "- T = 3\n",
    "- N = 4"
   ]
  },
  {
   "cell_type": "code",
   "execution_count": 7,
   "id": "dd556bed-af57-4cdb-b147-6207bcc1d6aa",
   "metadata": {},
   "outputs": [
    {
     "data": {
      "text/plain": [
       "'GTGCCAGCAGCAGCGGTAATACGGGGGGAGCAAGCGTTGTTCGGATTTACTGGGCGTAAAGGGCGCGTAGGCGGTCAGCACAAGTCAGTTGTGAAATCTCCGAGCTNAACTCGGAANGGTCAACTGAAACTGTGCGACTAGAGTGCGGAAGGG'"
      ]
     },
     "execution_count": 7,
     "metadata": {},
     "output_type": "execute_result"
    }
   ],
   "source": [
    "sample[0].sequence"
   ]
  },
  {
   "cell_type": "code",
   "execution_count": 8,
   "id": "35003c56-e798-4902-ae41-c9dc2058535a",
   "metadata": {},
   "outputs": [
    {
     "data": {
      "text/plain": [
       "153"
      ]
     },
     "execution_count": 8,
     "metadata": {},
     "output_type": "execute_result"
    }
   ],
   "source": [
    "len(sample[0].sequence)"
   ]
  },
  {
   "cell_type": "code",
   "execution_count": 9,
   "id": "00b563e8-7a63-4b98-901e-115cf97763c7",
   "metadata": {},
   "outputs": [
    {
     "data": {
      "text/plain": [
       "array([2, 3, 2, 1, 1, 0, 2, 1, 0, 2, 1, 0, 2, 1, 2, 2, 3, 0, 0, 3, 0, 1,\n",
       "       2, 2, 2, 2, 2, 2, 0, 2, 1, 0, 0, 2, 1, 2, 3, 3, 2, 3, 3, 1, 2, 2,\n",
       "       0, 3, 3, 3, 0, 1, 3, 2, 2, 2, 1, 2, 3, 0, 0, 0, 2, 2, 2, 1, 2, 1,\n",
       "       2, 3, 0, 2, 2, 1, 2, 2, 3, 1, 0, 2, 1, 0, 1, 0, 0, 2, 3, 1, 0, 2,\n",
       "       3, 3, 2, 3, 2, 0, 0, 0, 3, 1, 3, 1, 1, 2, 0, 2, 1, 3, 4, 0, 0, 1,\n",
       "       3, 1, 2, 2, 0, 0, 4, 2, 2, 3, 1, 0, 0, 1, 3, 2, 0, 0, 0, 1, 3, 2,\n",
       "       3, 2, 1, 2, 0, 1, 3, 0, 2, 0, 2, 3, 2, 1, 2, 2, 0, 0, 2, 2, 2],\n",
       "      dtype=uint8)"
      ]
     },
     "execution_count": 9,
     "metadata": {},
     "output_type": "execute_result"
    }
   ],
   "source": [
    "encoded = dna.encode_sequence(sample[0].sequence)\n",
    "encoded"
   ]
  },
  {
   "cell_type": "code",
   "execution_count": 10,
   "id": "38bfc058-1537-4610-a59a-df3d02c0d468",
   "metadata": {},
   "outputs": [
    {
     "data": {
      "text/plain": [
       "'GTGCCAGCAGCAGCGGTAATACGGGGGGAGCAAGCGTTGTTCGGATTTACTGGGCGTAAAGGGCGCGTAGGCGGTCAGCACAAGTCAGTTGTGAAATCTCCGAGCTNAACTCGGAANGGTCAACTGAAACTGTGCGACTAGAGTGCGGAAGGG'"
      ]
     },
     "execution_count": 10,
     "metadata": {},
     "output_type": "execute_result"
    }
   ],
   "source": [
    "dna.decode_sequence(encoded)"
   ]
  },
  {
   "cell_type": "markdown",
   "id": "8a2eea2d-737b-4aaa-a085-e25f783e71ab",
   "metadata": {},
   "source": [
    "---\n",
    "## k-mer Sequence Encoding/Decoding\n",
    "\n",
    "3-mer example:\n",
    "`to_kmers('ACTCG') = ['ACT', 'CTC', 'TCG']`"
   ]
  },
  {
   "cell_type": "code",
   "execution_count": 11,
   "id": "1e2d6f68-697e-482c-8365-2b2ad5eb03f6",
   "metadata": {},
   "outputs": [
    {
     "data": {
      "text/plain": [
       "array([ 67,  86,  56,  30,  27,  11,  55,  27,  11,  55,  27,  11,  57,\n",
       "        37,  63,  65,  75,   3,  15,  76,   7,  37,  62,  62,  62,  62,\n",
       "        60,  52,  11,  55,  25,   2,  11,  57,  38,  68,  92,  88,  68,\n",
       "        91,  82,  37,  60,  53,  18,  93,  90,  76,   8,  42,  87,  62,\n",
       "        61,  57,  38,  65,  75,   0,   2,  12,  62,  61,  57,  36,  57,\n",
       "        38,  65,  77,  12,  61,  57,  37,  63,  66,  80,  27,  11,  55,\n",
       "        26,   5,  25,   2,  13,  66,  80,  27,  13,  68,  92,  88,  67,\n",
       "        85,  50,   0,   3,  16,  83,  41,  81,  32,  35,  52,  11,  58,\n",
       "        44,  95, 100,   1,   8,  41,  82,  37,  60,  50,   4,  22, 112,\n",
       "        63,  66,  80,  25,   1,   8,  42,  85,  50,   0,   1,   8,  42,\n",
       "        88,  67,  86,  57,  35,  51,   8,  40,  77,  10,  52,  13,  67,\n",
       "        86,  57,  37,  60,  50,   2,  12,  62])"
      ]
     },
     "execution_count": 11,
     "metadata": {},
     "output_type": "execute_result"
    }
   ],
   "source": [
    "kmer_sequence = dna.encode_kmers(encoded, kmer=3)\n",
    "kmer_sequence"
   ]
  },
  {
   "cell_type": "code",
   "execution_count": 12,
   "id": "54b06c53-3b0b-441e-9b91-9a7dcb828c5f",
   "metadata": {},
   "outputs": [
    {
     "data": {
      "text/plain": [
       "151"
      ]
     },
     "execution_count": 12,
     "metadata": {},
     "output_type": "execute_result"
    }
   ],
   "source": [
    "len(kmer_sequence)"
   ]
  },
  {
   "cell_type": "code",
   "execution_count": 13,
   "id": "66cf5ee8-fb96-4c55-832b-f00e8246cdac",
   "metadata": {},
   "outputs": [
    {
     "data": {
      "text/plain": [
       "array([2, 3, 2, 1, 1, 0, 2, 1, 0, 2, 1, 0, 2, 1, 2, 2, 3, 0, 0, 3, 0, 1,\n",
       "       2, 2, 2, 2, 2, 2, 0, 2, 1, 0, 0, 2, 1, 2, 3, 3, 2, 3, 3, 1, 2, 2,\n",
       "       0, 3, 3, 3, 0, 1, 3, 2, 2, 2, 1, 2, 3, 0, 0, 0, 2, 2, 2, 1, 2, 1,\n",
       "       2, 3, 0, 2, 2, 1, 2, 2, 3, 1, 0, 2, 1, 0, 1, 0, 0, 2, 3, 1, 0, 2,\n",
       "       3, 3, 2, 3, 2, 0, 0, 0, 3, 1, 3, 1, 1, 2, 0, 2, 1, 3, 4, 0, 0, 1,\n",
       "       3, 1, 2, 2, 0, 0, 4, 2, 2, 3, 1, 0, 0, 1, 3, 2, 0, 0, 0, 1, 3, 2,\n",
       "       3, 2, 1, 2, 0, 1, 3, 0, 2, 0, 2, 3, 2, 1, 2, 2, 0, 0, 2, 2, 2])"
      ]
     },
     "execution_count": 13,
     "metadata": {},
     "output_type": "execute_result"
    }
   ],
   "source": [
    "dna.decode_kmers(kmer_sequence, kmer=3)"
   ]
  },
  {
   "cell_type": "markdown",
   "id": "5527441f-eb0c-495c-a8b8-962e4c704e01",
   "metadata": {},
   "source": [
    "---\n",
    "## Quality Scores\n",
    "\n",
    "The quality scores in a FASTQ file are typically PHRED-33 encoded. Theese scores are decoded to otain the probabilities that the bases are incorrect.\n",
    "\n",
    "The score can be computed from the probability score like so:\n",
    "\n",
    "$Q = -10\\log_{10}{P} + 33$\n",
    "\n",
    "Likewise, the error probability can be recovered by re-aranging the equation:\n",
    "\n",
    "$P = 10^{\\frac{Q - 33}{-10}}$"
   ]
  },
  {
   "cell_type": "code",
   "execution_count": 14,
   "id": "f67dd2bf-d693-47a3-b16c-4d0bd4f48e08",
   "metadata": {},
   "outputs": [
    {
     "data": {
      "text/plain": [
       "'FFAFFFFFFF'"
      ]
     },
     "execution_count": 14,
     "metadata": {},
     "output_type": "execute_result"
    }
   ],
   "source": [
    "scores = sample[0].quality_scores[:10]\n",
    "scores"
   ]
  },
  {
   "cell_type": "code",
   "execution_count": 15,
   "id": "dcd50c33-e2af-48be-8a44-e6076ce95ff1",
   "metadata": {},
   "outputs": [
    {
     "data": {
      "text/plain": [
       "array([0.00019953, 0.00019953, 0.00063096, 0.00019953, 0.00019953,\n",
       "       0.00019953, 0.00019953, 0.00019953, 0.00019953, 0.00019953])"
      ]
     },
     "execution_count": 15,
     "metadata": {},
     "output_type": "execute_result"
    }
   ],
   "source": [
    "error_probs = dna.decode_phred(scores)\n",
    "error_probs"
   ]
  },
  {
   "cell_type": "code",
   "execution_count": 16,
   "id": "dd4d306b-35f6-455d-a562-b96b7e855da4",
   "metadata": {},
   "outputs": [
    {
     "data": {
      "text/plain": [
       "'FFAFFFFFFF'"
      ]
     },
     "execution_count": 16,
     "metadata": {},
     "output_type": "execute_result"
    }
   ],
   "source": [
    "dna.encode_phred(error_probs)"
   ]
  },
  {
   "cell_type": "markdown",
   "id": "60e4a6d0-a7e5-456b-bc77-c621a090852d",
   "metadata": {},
   "source": [
    "---\n",
    "## Store Sample Using LMDB\n",
    "\n",
    "As these sample files can contain many sequences, it is beneficial to read them from disk as needed,\n",
    "rather than trying to load them all into memory at once. A good way to accomplish this is to utilize\n",
    "[LMDB](http://www.lmdb.tech/doc/). The following cells provide a quick demonstration on how to\n",
    "convert a FASTQ file into an LMDB data file."
   ]
  },
  {
   "cell_type": "code",
   "execution_count": 17,
   "id": "7e6b486e-4551-4650-93da-63a7fce26b25",
   "metadata": {},
   "outputs": [],
   "source": [
    "from lmdbm import Lmdb\n",
    "import numpy as np"
   ]
  },
  {
   "cell_type": "code",
   "execution_count": 18,
   "id": "d889c4e1-78d0-425f-8ab2-193747468e9f",
   "metadata": {},
   "outputs": [],
   "source": [
    "with Lmdb.open(\"/tmp/test\", 'c') as store:\n",
    "    store.update(fastq.to_encoded_dict(sample))"
   ]
  },
  {
   "cell_type": "code",
   "execution_count": 19,
   "id": "d987099f-5f46-451a-9f4a-3b348cb6ab4a",
   "metadata": {},
   "outputs": [
    {
     "data": {
      "text/plain": [
       "array([2, 3, 2, 1, 1, 0, 2, 1, 0, 2, 1, 0, 2, 1, 2, 2, 3, 0, 0, 3, 0, 1,\n",
       "       2, 2, 2, 2, 2, 2, 0, 2, 1, 0, 0, 2, 1, 2, 3, 3, 2, 3, 3, 1, 2, 2,\n",
       "       0, 3, 3, 3, 0, 1, 3, 2, 2, 2, 1, 2, 3, 0, 0, 0, 2, 2, 2, 1, 2, 1,\n",
       "       2, 3, 0, 2, 2, 1, 2, 2, 3, 1, 0, 2, 1, 0, 1, 0, 0, 2, 3, 1, 0, 2,\n",
       "       3, 3, 2, 3, 2, 0, 0, 0, 3, 1, 3, 1, 1, 2, 0, 2, 1, 3, 4, 0, 0, 1,\n",
       "       3, 1, 2, 2, 0, 0, 4, 2, 2, 3, 1, 0, 0, 1, 3, 2, 0, 0, 0, 1, 3, 2,\n",
       "       3, 2, 1, 2, 0, 1, 3, 0, 2, 0, 2, 3, 2, 1, 2, 2, 0, 0, 2, 2, 2],\n",
       "      dtype=uint8)"
      ]
     },
     "execution_count": 19,
     "metadata": {},
     "output_type": "execute_result"
    }
   ],
   "source": [
    "with Lmdb.open(\"/tmp/test\") as store:\n",
    "    sequence_bytes = store['0']\n",
    "    sequence = np.frombuffer(sequence_bytes, dtype=np.uint8)\n",
    "sequence"
   ]
  },
  {
   "cell_type": "markdown",
   "id": "86ae7ddf",
   "metadata": {},
   "source": [
    "## Keras Data Generators\n",
    "\n",
    "Using the LMDB data files created above, these next cells provide a brief overview on using the\n",
    "DNA sequence/sample generators to create datasets for Keras models."
   ]
  },
  {
   "cell_type": "code",
   "execution_count": 21,
   "id": "230e95f6",
   "metadata": {},
   "outputs": [],
   "source": [
    "from common.data import DnaLabelType, DnaSequenceGenerator"
   ]
  },
  {
   "cell_type": "code",
   "execution_count": 22,
   "id": "ead04842",
   "metadata": {},
   "outputs": [],
   "source": [
    "dataset = DnaSequenceGenerator(\n",
    "    samples=[\"/tmp/test\"],     # paths to LMDB files.\n",
    "    sequence_length=150,       # length to trim down to\n",
    "    kmer=3,                    # k-mer output\n",
    "    batch_size=32,\n",
    "    batches_per_epoch=100,\n",
    "    augment=True,              # Enable sequence augmentation via sliding\n",
    "    balance=False,             # Shrink samples to match the smallest size\n",
    "    labels=DnaLabelType.OneMer # SampleId, OneMer, or KMer\n",
    ")"
   ]
  },
  {
   "cell_type": "code",
   "execution_count": 24,
   "id": "9ebc3c6f",
   "metadata": {},
   "outputs": [],
   "source": [
    "x, y = dataset[0] # 1st batch"
   ]
  },
  {
   "cell_type": "code",
   "execution_count": 26,
   "id": "1ca239e4",
   "metadata": {},
   "outputs": [
    {
     "name": "stdout",
     "output_type": "stream",
     "text": [
      "(32, 148)\n"
     ]
    },
    {
     "data": {
      "text/plain": [
       "array([[67., 86., 56., ..., 60., 50.,  2.],\n",
       "       [86., 56., 30., ..., 60., 52., 10.],\n",
       "       [30., 27., 11., ..., 10., 52., 12.],\n",
       "       ...,\n",
       "       [56., 30., 27., ..., 92., 85., 52.],\n",
       "       [56., 30., 27., ...,  2., 10., 52.],\n",
       "       [86., 56., 30., ..., 60., 52., 10.]])"
      ]
     },
     "execution_count": 26,
     "metadata": {},
     "output_type": "execute_result"
    }
   ],
   "source": [
    "print(x.shape)\n",
    "x"
   ]
  },
  {
   "cell_type": "code",
   "execution_count": 27,
   "id": "a0199c17",
   "metadata": {},
   "outputs": [
    {
     "name": "stdout",
     "output_type": "stream",
     "text": [
      "(32, 150)\n"
     ]
    },
    {
     "data": {
      "text/plain": [
       "array([[2, 3, 2, ..., 0, 0, 2],\n",
       "       [3, 2, 1, ..., 0, 2, 0],\n",
       "       [1, 1, 0, ..., 0, 2, 2],\n",
       "       ...,\n",
       "       [2, 1, 1, ..., 2, 0, 2],\n",
       "       [2, 1, 1, ..., 2, 0, 2],\n",
       "       [3, 2, 1, ..., 0, 2, 0]], dtype=int32)"
      ]
     },
     "execution_count": 27,
     "metadata": {},
     "output_type": "execute_result"
    }
   ],
   "source": [
    "print(y.shape)\n",
    "y"
   ]
  },
  {
   "cell_type": "markdown",
   "id": "496f5164",
   "metadata": {},
   "source": [
    "This dataset can be given to a model easily for training by passing it into the `fit` method directly.\n",
    "\n",
    "```py\n",
    "model.fit(dataset, ...)\n",
    "```\n",
    "\n",
    "Similar to the sequence generator, one can also generate subsamples (sets of sequences) using the\n",
    "`DnaSampleGenerator` data generator."
   ]
  },
  {
   "cell_type": "code",
   "execution_count": 28,
   "id": "63e122c2",
   "metadata": {},
   "outputs": [],
   "source": [
    "from common.data import DnaSampleGenerator"
   ]
  },
  {
   "cell_type": "code",
   "execution_count": 38,
   "id": "fe500716",
   "metadata": {},
   "outputs": [],
   "source": [
    "dataset = DnaSampleGenerator(\n",
    "    samples=[\"/tmp/test\"],\n",
    "    subsample_length=1000,\n",
    "    sequence_length=150,\n",
    "    kmer=1,\n",
    "    batch_size=16,\n",
    "    batches_per_epoch=100,\n",
    "    augment=True,\n",
    "    balance=False,\n",
    "    labels=DnaLabelType.SampleIds\n",
    ")"
   ]
  },
  {
   "cell_type": "code",
   "execution_count": 39,
   "id": "9ebc3c6f",
   "metadata": {},
   "outputs": [],
   "source": [
    "x, y = dataset[0] # 1st batch"
   ]
  },
  {
   "cell_type": "code",
   "execution_count": 40,
   "id": "1ca239e4",
   "metadata": {},
   "outputs": [
    {
     "name": "stdout",
     "output_type": "stream",
     "text": [
      "(16, 1000, 150)\n"
     ]
    },
    {
     "data": {
      "text/plain": [
       "array([[[1., 1., 0., ..., 0., 2., 2.],\n",
       "        [2., 1., 1., ..., 2., 0., 2.],\n",
       "        [1., 1., 0., ..., 2., 2., 2.],\n",
       "        ...,\n",
       "        [1., 1., 0., ..., 0., 2., 2.],\n",
       "        [1., 1., 0., ..., 0., 2., 2.],\n",
       "        [1., 1., 0., ..., 0., 2., 2.]],\n",
       "\n",
       "       [[2., 3., 2., ..., 0., 2., 0.],\n",
       "        [3., 2., 2., ..., 3., 2., 0.],\n",
       "        [2., 1., 1., ..., 0., 0., 2.],\n",
       "        ...,\n",
       "        [1., 1., 0., ..., 2., 2., 2.],\n",
       "        [1., 1., 0., ..., 0., 3., 3.],\n",
       "        [1., 1., 0., ..., 2., 2., 2.]],\n",
       "\n",
       "       [[3., 2., 1., ..., 0., 2., 0.],\n",
       "        [2., 1., 1., ..., 2., 0., 2.],\n",
       "        [1., 1., 0., ..., 0., 2., 2.],\n",
       "        ...,\n",
       "        [3., 2., 1., ..., 1., 0., 2.],\n",
       "        [2., 1., 1., ..., 2., 0., 2.],\n",
       "        [3., 2., 1., ..., 0., 2., 2.]],\n",
       "\n",
       "       ...,\n",
       "\n",
       "       [[1., 1., 0., ..., 2., 2., 2.],\n",
       "        [2., 1., 1., ..., 2., 0., 2.],\n",
       "        [2., 3., 2., ..., 0., 0., 2.],\n",
       "        ...,\n",
       "        [1., 0., 2., ..., 2., 0., 2.],\n",
       "        [1., 1., 0., ..., 0., 2., 3.],\n",
       "        [3., 2., 1., ..., 2., 2., 0.]],\n",
       "\n",
       "       [[2., 3., 2., ..., 1., 0., 2.],\n",
       "        [3., 2., 1., ..., 0., 2., 0.],\n",
       "        [2., 3., 2., ..., 1., 0., 2.],\n",
       "        ...,\n",
       "        [2., 3., 2., ..., 3., 0., 2.],\n",
       "        [2., 3., 2., ..., 3., 0., 2.],\n",
       "        [2., 2., 1., ..., 2., 0., 2.]],\n",
       "\n",
       "       [[1., 1., 0., ..., 2., 2., 2.],\n",
       "        [2., 0., 1., ..., 2., 0., 2.],\n",
       "        [3., 2., 1., ..., 3., 0., 2.],\n",
       "        ...,\n",
       "        [2., 1., 1., ..., 2., 0., 0.],\n",
       "        [1., 1., 0., ..., 2., 2., 2.],\n",
       "        [3., 2., 0., ..., 0., 3., 0.]]])"
      ]
     },
     "execution_count": 40,
     "metadata": {},
     "output_type": "execute_result"
    }
   ],
   "source": [
    "print(x.shape)\n",
    "x"
   ]
  },
  {
   "cell_type": "code",
   "execution_count": 41,
   "id": "a0199c17",
   "metadata": {},
   "outputs": [
    {
     "name": "stdout",
     "output_type": "stream",
     "text": [
      "(16,)\n"
     ]
    },
    {
     "data": {
      "text/plain": [
       "array([0, 0, 0, 0, 0, 0, 0, 0, 0, 0, 0, 0, 0, 0, 0, 0], dtype=int32)"
      ]
     },
     "execution_count": 41,
     "metadata": {},
     "output_type": "execute_result"
    }
   ],
   "source": [
    "print(y.shape)\n",
    "y"
   ]
  },
  {
   "cell_type": "markdown",
   "id": "3a11e4bb-271c-4154-9eab-33f59cab829d",
   "metadata": {},
   "source": [
    "---\n",
    "## FASTQ Sequence ID\n",
    "\n",
    "Example sequence ID: `@MN01227:252:000H3FWK5:1:11101:5434:1073 1:N:0:TGCTACATCA`\n",
    "\n",
    "@\\<instrument\\>:\\<run number\\>:\\<flowcell ID\\>:\\<lane\\>:\\<tile\\>:\\<pos_x\\>:\\<pos_y\\> \\<read type\\>:\\<is filtered (N|Y)\\>:\\<control number\\>:\\<sequence index\\>\n"
   ]
  },
  {
   "cell_type": "code",
   "execution_count": 20,
   "id": "6e40b04f-8d9b-4f92-85df-7fb835077d6a",
   "metadata": {},
   "outputs": [
    {
     "data": {
      "text/plain": [
       "@MN01227:252:000H3FWK5:1:11101:5434:1073 1:N:0:TGCTACATCA"
      ]
     },
     "execution_count": 20,
     "metadata": {},
     "output_type": "execute_result"
    }
   ],
   "source": [
    "sequence_id = sample[0].sequence_id\n",
    "sequence_id"
   ]
  },
  {
   "cell_type": "code",
   "execution_count": 21,
   "id": "77de481d-533d-48c7-8d05-4ec37b4ba198",
   "metadata": {},
   "outputs": [
    {
     "data": {
      "text/plain": [
       "'MN01227'"
      ]
     },
     "execution_count": 21,
     "metadata": {},
     "output_type": "execute_result"
    }
   ],
   "source": [
    "sequence_id.instrument"
   ]
  },
  {
   "cell_type": "code",
   "execution_count": 22,
   "id": "99f19a18-c39f-4484-872e-b083911c8719",
   "metadata": {},
   "outputs": [
    {
     "data": {
      "text/plain": [
       "252"
      ]
     },
     "execution_count": 22,
     "metadata": {},
     "output_type": "execute_result"
    }
   ],
   "source": [
    "sequence_id.run_number"
   ]
  },
  {
   "cell_type": "code",
   "execution_count": 23,
   "id": "9edfd6ce-c66d-4178-860a-f981af026c6a",
   "metadata": {},
   "outputs": [
    {
     "data": {
      "text/plain": [
       "'000H3FWK5'"
      ]
     },
     "execution_count": 23,
     "metadata": {},
     "output_type": "execute_result"
    }
   ],
   "source": [
    "sequence_id.flowcell_id"
   ]
  },
  {
   "cell_type": "code",
   "execution_count": 24,
   "id": "08429d8b-e5d9-4d50-a103-0e529c9be245",
   "metadata": {},
   "outputs": [
    {
     "data": {
      "text/plain": [
       "1"
      ]
     },
     "execution_count": 24,
     "metadata": {},
     "output_type": "execute_result"
    }
   ],
   "source": [
    "sequence_id.lane"
   ]
  },
  {
   "cell_type": "code",
   "execution_count": 25,
   "id": "7873cc0c-bc15-4bb0-b2c6-3a817379c902",
   "metadata": {},
   "outputs": [
    {
     "data": {
      "text/plain": [
       "11101"
      ]
     },
     "execution_count": 25,
     "metadata": {},
     "output_type": "execute_result"
    }
   ],
   "source": [
    "sequence_id.tile"
   ]
  },
  {
   "cell_type": "code",
   "execution_count": 26,
   "id": "533cd0df-82b7-4505-a2a6-ada1cba0456c",
   "metadata": {},
   "outputs": [
    {
     "data": {
      "text/plain": [
       "(5434, 1073)"
      ]
     },
     "execution_count": 26,
     "metadata": {},
     "output_type": "execute_result"
    }
   ],
   "source": [
    "sequence_id.pos"
   ]
  },
  {
   "cell_type": "code",
   "execution_count": 27,
   "id": "4988eb79-5196-4234-a401-bd367108b596",
   "metadata": {},
   "outputs": [
    {
     "data": {
      "text/plain": [
       "1"
      ]
     },
     "execution_count": 27,
     "metadata": {},
     "output_type": "execute_result"
    }
   ],
   "source": [
    "sequence_id.read_type"
   ]
  },
  {
   "cell_type": "code",
   "execution_count": 28,
   "id": "b0030e47-9b96-4510-abf5-0b099ed17ee6",
   "metadata": {},
   "outputs": [
    {
     "data": {
      "text/plain": [
       "False"
      ]
     },
     "execution_count": 28,
     "metadata": {},
     "output_type": "execute_result"
    }
   ],
   "source": [
    "sequence_id.is_filtered"
   ]
  },
  {
   "cell_type": "code",
   "execution_count": 29,
   "id": "dcca437f-59ed-464c-bf92-efa987d8e091",
   "metadata": {},
   "outputs": [
    {
     "data": {
      "text/plain": [
       "0"
      ]
     },
     "execution_count": 29,
     "metadata": {},
     "output_type": "execute_result"
    }
   ],
   "source": [
    "sequence_id.control_number"
   ]
  },
  {
   "cell_type": "code",
   "execution_count": 30,
   "id": "b0d42dba-1a38-4b79-864c-35eb04836345",
   "metadata": {},
   "outputs": [
    {
     "data": {
      "text/plain": [
       "'TGCTACATCA'"
      ]
     },
     "execution_count": 30,
     "metadata": {},
     "output_type": "execute_result"
    }
   ],
   "source": [
    "sequence_id.sequence_index"
   ]
  }
 ],
 "metadata": {
  "interpreter": {
   "hash": "d4d1e4263499bec80672ea0156c357c1ee493ec2b1c70f0acce89fc37c4a6abe"
  },
  "kernelspec": {
   "display_name": "Python 3.10.4 ('base')",
   "language": "python",
   "name": "python3"
  },
  "language_info": {
   "codemirror_mode": {
    "name": "ipython",
    "version": 3
   },
   "file_extension": ".py",
   "mimetype": "text/x-python",
   "name": "python",
   "nbconvert_exporter": "python",
   "pygments_lexer": "ipython3",
   "version": "3.10.4"
  }
 },
 "nbformat": 4,
 "nbformat_minor": 5
}
