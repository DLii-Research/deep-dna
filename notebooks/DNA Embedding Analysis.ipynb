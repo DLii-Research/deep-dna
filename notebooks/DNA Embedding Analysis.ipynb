{
 "cells": [
  {
   "cell_type": "markdown",
   "metadata": {},
   "source": [
    "# DNA Embedding Analysis\n",
    "\n",
    "This notebook explores the embedding quality of sequences from both pretrained and finetuned DNABERT models."
   ]
  },
  {
   "cell_type": "code",
   "execution_count": 1,
   "metadata": {},
   "outputs": [],
   "source": [
    "import bootstrap"
   ]
  },
  {
   "cell_type": "code",
   "execution_count": 2,
   "metadata": {},
   "outputs": [],
   "source": [
    "import matplotlib.pyplot as plt\n",
    "import numpy as np\n",
    "import os\n",
    "import tensorflow as tf\n",
    "import tensorflow.keras as keras\n",
    "import tf_utils as tfu\n",
    "import wandb"
   ]
  },
  {
   "cell_type": "code",
   "execution_count": 3,
   "metadata": {},
   "outputs": [
    {
     "name": "stderr",
     "output_type": "stream",
     "text": [
      "2022-05-11 10:52:58.062768: I tensorflow/stream_executor/cuda/cuda_gpu_executor.cc:939] successful NUMA node read from SysFS had negative value (-1), but there must be at least one NUMA node, so returning NUMA node zero\n",
      "2022-05-11 10:52:58.062991: I tensorflow/stream_executor/cuda/cuda_gpu_executor.cc:939] successful NUMA node read from SysFS had negative value (-1), but there must be at least one NUMA node, so returning NUMA node zero\n",
      "2022-05-11 10:52:58.068247: I tensorflow/stream_executor/cuda/cuda_gpu_executor.cc:939] successful NUMA node read from SysFS had negative value (-1), but there must be at least one NUMA node, so returning NUMA node zero\n",
      "2022-05-11 10:52:58.068457: I tensorflow/stream_executor/cuda/cuda_gpu_executor.cc:939] successful NUMA node read from SysFS had negative value (-1), but there must be at least one NUMA node, so returning NUMA node zero\n",
      "2022-05-11 10:52:58.068620: I tensorflow/stream_executor/cuda/cuda_gpu_executor.cc:939] successful NUMA node read from SysFS had negative value (-1), but there must be at least one NUMA node, so returning NUMA node zero\n",
      "2022-05-11 10:52:58.068779: I tensorflow/stream_executor/cuda/cuda_gpu_executor.cc:939] successful NUMA node read from SysFS had negative value (-1), but there must be at least one NUMA node, so returning NUMA node zero\n",
      "2022-05-11 10:52:58.069661: I tensorflow/core/platform/cpu_feature_guard.cc:151] This TensorFlow binary is optimized with oneAPI Deep Neural Network Library (oneDNN) to use the following CPU instructions in performance-critical operations:  SSE4.1 SSE4.2 AVX AVX2 FMA\n",
      "To enable them in other operations, rebuild TensorFlow with the appropriate compiler flags.\n",
      "2022-05-11 10:52:58.072275: I tensorflow/stream_executor/cuda/cuda_gpu_executor.cc:939] successful NUMA node read from SysFS had negative value (-1), but there must be at least one NUMA node, so returning NUMA node zero\n",
      "2022-05-11 10:52:58.072457: I tensorflow/stream_executor/cuda/cuda_gpu_executor.cc:939] successful NUMA node read from SysFS had negative value (-1), but there must be at least one NUMA node, so returning NUMA node zero\n",
      "2022-05-11 10:52:58.072618: I tensorflow/stream_executor/cuda/cuda_gpu_executor.cc:939] successful NUMA node read from SysFS had negative value (-1), but there must be at least one NUMA node, so returning NUMA node zero\n",
      "2022-05-11 10:52:58.481401: I tensorflow/stream_executor/cuda/cuda_gpu_executor.cc:939] successful NUMA node read from SysFS had negative value (-1), but there must be at least one NUMA node, so returning NUMA node zero\n",
      "2022-05-11 10:52:58.481611: I tensorflow/stream_executor/cuda/cuda_gpu_executor.cc:939] successful NUMA node read from SysFS had negative value (-1), but there must be at least one NUMA node, so returning NUMA node zero\n",
      "2022-05-11 10:52:58.481777: I tensorflow/stream_executor/cuda/cuda_gpu_executor.cc:939] successful NUMA node read from SysFS had negative value (-1), but there must be at least one NUMA node, so returning NUMA node zero\n",
      "2022-05-11 10:52:58.481923: I tensorflow/core/common_runtime/gpu/gpu_device.cc:1525] Created device /job:localhost/replica:0/task:0/device:GPU:0 with 22285 MB memory:  -> device: 0, name: NVIDIA GeForce RTX 3090, pci bus id: 0000:01:00.0, compute capability: 8.6\n"
     ]
    }
   ],
   "source": [
    "strategy = tfu.strategy.gpu(0)"
   ]
  },
  {
   "cell_type": "markdown",
   "metadata": {},
   "source": [
    "## Weights & Biases"
   ]
  },
  {
   "cell_type": "code",
   "execution_count": 4,
   "metadata": {},
   "outputs": [],
   "source": [
    "PROJECT = \"deep-learning-dna\""
   ]
  },
  {
   "cell_type": "markdown",
   "metadata": {},
   "source": [
    "Here we get a public W&B API instance"
   ]
  },
  {
   "cell_type": "code",
   "execution_count": 5,
   "metadata": {},
   "outputs": [],
   "source": [
    "api = wandb.Api()"
   ]
  },
  {
   "cell_type": "markdown",
   "metadata": {},
   "source": [
    "Using the API instance, we can pull the dataset and model artifacts we wish to analyze."
   ]
  },
  {
   "cell_type": "code",
   "execution_count": 6,
   "metadata": {},
   "outputs": [
    {
     "name": "stderr",
     "output_type": "stream",
     "text": [
      "\u001b[34m\u001b[1mwandb\u001b[0m: Downloading large artifact dnasamples:v1, 328.84MB. 63 files... Done. 0:0:0\n"
     ]
    },
    {
     "data": {
      "text/plain": [
       "'./artifacts/dnasamples:v1'"
      ]
     },
     "execution_count": 6,
     "metadata": {},
     "output_type": "execute_result"
    }
   ],
   "source": [
    "dataset_path = api.artifact(f\"{PROJECT}/dnasamples:v1\").download()\n",
    "dataset_path"
   ]
  },
  {
   "cell_type": "code",
   "execution_count": 7,
   "metadata": {},
   "outputs": [
    {
     "data": {
      "text/plain": [
       "'./artifacts/dnabert-pretrain:v1'"
      ]
     },
     "execution_count": 7,
     "metadata": {},
     "output_type": "execute_result"
    }
   ],
   "source": [
    "pretrain_path = api.artifact(f\"{PROJECT}/dnabert-pretrain:v1\").download()\n",
    "pretrain_path"
   ]
  },
  {
   "cell_type": "code",
   "execution_count": 8,
   "metadata": {},
   "outputs": [
    {
     "name": "stderr",
     "output_type": "stream",
     "text": [
      "\u001b[34m\u001b[1mwandb\u001b[0m: Downloading large artifact dnabert-finetune-autoencoder:v0, 83.72MB. 4 files... Done. 0:0:0\n"
     ]
    },
    {
     "data": {
      "text/plain": [
       "'./artifacts/dnabert-finetune-autoencoder:v0'"
      ]
     },
     "execution_count": 8,
     "metadata": {},
     "output_type": "execute_result"
    }
   ],
   "source": [
    "autoencoder_path = api.artifact(f\"{PROJECT}/dnabert-finetune-autoencoder:v0\").download()\n",
    "autoencoder_path"
   ]
  },
  {
   "cell_type": "markdown",
   "metadata": {},
   "source": [
    "## DNABERT Models"
   ]
  },
  {
   "cell_type": "code",
   "execution_count": 9,
   "metadata": {},
   "outputs": [],
   "source": [
    "from common.models.dnabert import DnaBertPretrainModel, DnaBertAutoencoderModel, DnaBertEncoderModel"
   ]
  },
  {
   "cell_type": "markdown",
   "metadata": {},
   "source": [
    "Load pretrained and finetuned base DNABERT models"
   ]
  },
  {
   "cell_type": "code",
   "execution_count": 10,
   "metadata": {},
   "outputs": [],
   "source": [
    "with strategy.scope():\n",
    "\tpretrain_encoder = DnaBertEncoderModel(DnaBertPretrainModel.load(pretrain_path).base)"
   ]
  },
  {
   "cell_type": "code",
   "execution_count": 11,
   "metadata": {},
   "outputs": [],
   "source": [
    "with strategy.scope():\n",
    "\tfinetune_encoder = DnaBertAutoencoderModel.load(autoencoder_path).encoder"
   ]
  },
  {
   "cell_type": "markdown",
   "metadata": {},
   "source": [
    "## DNA Samples"
   ]
  },
  {
   "cell_type": "code",
   "execution_count": 12,
   "metadata": {},
   "outputs": [],
   "source": [
    "from common.data import find_shelves, DnaKmerSequenceGenerator"
   ]
  },
  {
   "cell_type": "markdown",
   "metadata": {},
   "source": [
    "We first locate the samples that we wish to analyze. Here we specify to use the testing samples\n",
    "which were not seen during training."
   ]
  },
  {
   "cell_type": "code",
   "execution_count": 13,
   "metadata": {},
   "outputs": [],
   "source": [
    "SAMPLE_PATH = os.path.join(dataset_path, \"test\")"
   ]
  },
  {
   "cell_type": "code",
   "execution_count": 14,
   "metadata": {},
   "outputs": [
    {
     "data": {
      "text/plain": [
       "['fall_2016-10-07',\n",
       " 'fall_2017-10-13',\n",
       " 'spring_2016-04-22',\n",
       " 'spring_2017-05-02',\n",
       " 'spring_2018-04-23',\n",
       " 'spring_2019-05-14',\n",
       " 'spring_2020-05-11']"
      ]
     },
     "execution_count": 14,
     "metadata": {},
     "output_type": "execute_result"
    }
   ],
   "source": [
    "sample_files = find_shelves(SAMPLE_PATH)\n",
    "sample_files"
   ]
  },
  {
   "cell_type": "markdown",
   "metadata": {},
   "source": [
    "### Subsamples"
   ]
  },
  {
   "cell_type": "code",
   "execution_count": 15,
   "metadata": {},
   "outputs": [],
   "source": [
    "NUM_SUBSAMPLES_PER_SAMPLE = 10\n",
    "SUBSAMPLE_SIZE = 1000\n",
    "SEQUENCE_LENGTH = pretrain_encoder.base.length # Get the length from the model\n",
    "KMER = pretrain_encoder.base.kmer"
   ]
  },
  {
   "cell_type": "code",
   "execution_count": 16,
   "metadata": {},
   "outputs": [],
   "source": [
    "rng = np.random.default_rng()"
   ]
  },
  {
   "cell_type": "code",
   "execution_count": 17,
   "metadata": {},
   "outputs": [
    {
     "name": "stderr",
     "output_type": "stream",
     "text": [
      "2022-05-11 10:53:16.014804: I tensorflow/stream_executor/cuda/cuda_blas.cc:1774] TensorFloat-32 will be used for the matrix multiplication. This will only be logged once.\n"
     ]
    }
   ],
   "source": [
    "with strategy.scope():\n",
    "\tpretrained_samples = {}\n",
    "\tfinetuned_samples = {}\n",
    "\tfor sample_file in sample_files:\n",
    "\t\t# Remove the prefix path from the sample file\n",
    "\t\tpath = os.path.join(SAMPLE_PATH, sample_file)\n",
    "\n",
    "\t\t# For now, use a DNA kmer-sequence generator to generate subsamples.\n",
    "\t\tgenerator = DnaKmerSequenceGenerator([path], SEQUENCE_LENGTH, KMER, SUBSAMPLE_SIZE,\n",
    "\t\t\t\t\t\t\t\t\t\t\tNUM_SUBSAMPLES_PER_SAMPLE, rng=rng)\n",
    "\n",
    "\t\t# Generate the embedded subsamples\n",
    "\t\tpretrained_samples[sample_file] = [pretrain_encoder(subsample) for subsample in generator]\n",
    "\t\tfinetuned_samples[sample_file] = [finetune_encoder(subsample) for subsample in generator]"
   ]
  },
  {
   "cell_type": "markdown",
   "metadata": {},
   "source": [
    "## General Statistics"
   ]
  },
  {
   "cell_type": "code",
   "execution_count": 18,
   "metadata": {},
   "outputs": [],
   "source": [
    "SAMPLE_INDEX = 0\n",
    "SUBSAMPLE_INDEX = 0"
   ]
  },
  {
   "cell_type": "code",
   "execution_count": 19,
   "metadata": {},
   "outputs": [],
   "source": [
    "pretrained_subsample = pretrained_samples[sample_files[SAMPLE_INDEX]][SUBSAMPLE_INDEX]\n",
    "finetuned_subsample = finetuned_samples[sample_files[SAMPLE_INDEX]][SUBSAMPLE_INDEX]"
   ]
  },
  {
   "cell_type": "code",
   "execution_count": 20,
   "metadata": {},
   "outputs": [
    {
     "name": "stdout",
     "output_type": "stream",
     "text": [
      "Pretrained subsample min: -10.101124\n",
      "Finetuned subsample min: -16.193403\n"
     ]
    }
   ],
   "source": [
    "print(\"Pretrained subsample min:\", np.min(pretrained_subsample))\n",
    "print(\"Finetuned subsample min:\", np.min(finetuned_subsample))"
   ]
  },
  {
   "cell_type": "code",
   "execution_count": 21,
   "metadata": {},
   "outputs": [
    {
     "name": "stdout",
     "output_type": "stream",
     "text": [
      "Pretrained subsample max: 12.940686\n",
      "Finetuned subsample max: 17.788363\n"
     ]
    }
   ],
   "source": [
    "print(\"Pretrained subsample max:\", np.max(pretrained_subsample))\n",
    "print(\"Finetuned subsample max:\", np.max(finetuned_subsample))"
   ]
  },
  {
   "cell_type": "code",
   "execution_count": 22,
   "metadata": {},
   "outputs": [
    {
     "name": "stdout",
     "output_type": "stream",
     "text": [
      "Pretrained subsample mean: -0.022893762\n",
      "Finetuned subsample mean: 0.053059403\n"
     ]
    }
   ],
   "source": [
    "print(\"Pretrained subsample mean:\", np.mean(pretrained_subsample))\n",
    "print(\"Finetuned subsample mean:\", np.mean(finetuned_subsample))"
   ]
  },
  {
   "cell_type": "code",
   "execution_count": 23,
   "metadata": {},
   "outputs": [
    {
     "name": "stdout",
     "output_type": "stream",
     "text": [
      "Pretrained subsample STD: 2.706116\n",
      "Finetuned subsample STD: 3.8069978\n"
     ]
    }
   ],
   "source": [
    "print(\"Pretrained subsample STD:\", np.std(pretrained_subsample))\n",
    "print(\"Finetuned subsample STD:\", np.std(finetuned_subsample))"
   ]
  },
  {
   "cell_type": "code",
   "execution_count": 24,
   "metadata": {},
   "outputs": [
    {
     "data": {
      "image/png": "[encoded data removed]",
      "text/plain": [
       "<Figure size 864x360 with 2 Axes>"
      ]
     },
     "metadata": {
      "needs_background": "light"
     },
     "output_type": "display_data"
    }
   ],
   "source": [
    "plt.figure(figsize=(12, 5))\n",
    "plt.subplot(121)\n",
    "plt.hist(pretrained_subsample.numpy().flatten(), bins=50)\n",
    "plt.title(\"Pretrained Embedding Distribution\")\n",
    "\n",
    "plt.subplot(122)\n",
    "plt.hist(finetuned_subsample.numpy().flatten(), bins=50)\n",
    "plt.title(\"Finetuned Embedding Distribution\")\n",
    "\n",
    "plt.show()"
   ]
  },
  {
   "cell_type": "code",
   "execution_count": 25,
   "metadata": {},
   "outputs": [
    {
     "data": {
      "image/png": "[encoded data removed]",
      "text/plain": [
       "<Figure size 432x360 with 1 Axes>"
      ]
     },
     "metadata": {
      "needs_background": "light"
     },
     "output_type": "display_data"
    }
   ],
   "source": [
    "plt.figure(figsize=(6, 5))\n",
    "plt.hist(pretrained_subsample.numpy().flatten(), bins=50)\n",
    "plt.hist(finetuned_subsample.numpy().flatten(), bins=50, alpha=0.5)\n",
    "plt.legend([\"Pretrained Embeddings\", \"Finetuned Embeddings\"])\n",
    "plt.title(\"DNA Embedding Distribution\")\n",
    "plt.show()"
   ]
  },
  {
   "cell_type": "markdown",
   "metadata": {},
   "source": [
    "## MDS"
   ]
  },
  {
   "cell_type": "code",
   "execution_count": 26,
   "metadata": {},
   "outputs": [],
   "source": [
    "WORKERS = 24\n",
    "SEED = 0"
   ]
  },
  {
   "cell_type": "code",
   "execution_count": 27,
   "metadata": {},
   "outputs": [],
   "source": [
    "from scipy.spatial import KDTree\n",
    "from common.metrics import chamfer_distance_matrix, mds, mds_stress_analysis"
   ]
  },
  {
   "cell_type": "markdown",
   "metadata": {},
   "source": [
    "In order to increase the performance of Chamfer distance, the samples can be converted to KD-trees,\n",
    "allowing us to compute the chamfer distance in ~O(nlogn) rather than O(n^2)."
   ]
  },
  {
   "cell_type": "code",
   "execution_count": 28,
   "metadata": {},
   "outputs": [
    {
     "data": {
      "text/plain": [
       "70"
      ]
     },
     "execution_count": 28,
     "metadata": {},
     "output_type": "execute_result"
    }
   ],
   "source": [
    "pretrained_sample_trees = []\n",
    "finetuned_sample_trees = []\n",
    "for sample_name in sample_files:\n",
    "\tpretrained_sample_trees += [KDTree(sample) for sample in pretrained_samples[sample_name]]\n",
    "\tfinetuned_sample_trees += [KDTree(sample) for sample in finetuned_samples[sample_name]]\n",
    "len(pretrained_sample_trees)"
   ]
  },
  {
   "cell_type": "code",
   "execution_count": 29,
   "metadata": {},
   "outputs": [],
   "source": [
    "pretrained_dist_mat = chamfer_distance_matrix(pretrained_sample_trees, workers=WORKERS)"
   ]
  },
  {
   "cell_type": "code",
   "execution_count": 30,
   "metadata": {},
   "outputs": [],
   "source": [
    "finetuned_dist_mat = chamfer_distance_matrix(finetuned_sample_trees, workers=WORKERS)"
   ]
  },
  {
   "cell_type": "code",
   "execution_count": 31,
   "metadata": {},
   "outputs": [],
   "source": [
    "pretrained_pca, _ = mds(pretrained_dist_mat, seed=SEED)\n",
    "finetuned_pca, _ = mds(finetuned_dist_mat, seed=SEED)\n",
    "\n",
    "# Reshape the samples so they are grouped by corresponding samples\n",
    "pretrained_pca = pretrained_pca.reshape((-1, NUM_SUBSAMPLES_PER_SAMPLE, 2))\n",
    "finetuned_pca = finetuned_pca.reshape((-1, NUM_SUBSAMPLES_PER_SAMPLE, 2))"
   ]
  },
  {
   "cell_type": "code",
   "execution_count": 32,
   "metadata": {},
   "outputs": [
    {
     "data": {
      "image/png": "[encoded data removed]",
      "text/plain": [
       "<Figure size 432x1008 with 2 Axes>"
      ]
     },
     "metadata": {
      "needs_background": "light"
     },
     "output_type": "display_data"
    }
   ],
   "source": [
    "plt.figure(figsize=(6,14))\n",
    "\n",
    "plt.subplot(311)\n",
    "for subsample in pretrained_pca:\n",
    "\tplt.scatter(*subsample.T)\n",
    "plt.legend(sample_files, loc=\"center left\", bbox_to_anchor=(1, 0.5))\n",
    "plt.title(\"Pretrained Subsamples\")\n",
    "\n",
    "plt.subplot(312)\n",
    "for subsample in finetuned_pca:\n",
    "\tplt.scatter(*subsample.T)\n",
    "plt.legend(sample_files, loc=\"center left\", bbox_to_anchor=(1, 0.5))\n",
    "plt.title(\"Finetuned Subsamples\")\n",
    "\n",
    "plt.show()"
   ]
  },
  {
   "cell_type": "markdown",
   "metadata": {},
   "source": [
    "### Stress Analysis"
   ]
  },
  {
   "cell_type": "code",
   "execution_count": 33,
   "metadata": {},
   "outputs": [],
   "source": [
    "DIMS = pretrain_encoder.base.embed_dim"
   ]
  },
  {
   "cell_type": "code",
   "execution_count": 53,
   "metadata": {},
   "outputs": [],
   "source": [
    "_, pretrained_stress = mds_stress_analysis(pretrained_dist_mat, DIMS, seed=SEED, workers=WORKERS)\n",
    "_, finetuned_stress = mds_stress_analysis(finetuned_dist_mat, DIMS, seed=SEED, workers=WORKERS)"
   ]
  },
  {
   "cell_type": "code",
   "execution_count": 54,
   "metadata": {},
   "outputs": [
    {
     "data": {
      "image/png": "[encoded data removed]",
      "text/plain": [
       "<Figure size 432x288 with 1 Axes>"
      ]
     },
     "metadata": {
      "needs_background": "light"
     },
     "output_type": "display_data"
    }
   ],
   "source": [
    "LIMIT = 20\n",
    "\n",
    "plt.figure()\n",
    "x_ticks = 1 + np.arange(len(pretrained_stress[:LIMIT]))\n",
    "plt.plot(x_ticks, pretrained_stress[:LIMIT])\n",
    "plt.plot(x_ticks, finetuned_stress[:LIMIT])\n",
    "plt.xticks(x_ticks)\n",
    "plt.xlabel(\"Number of components\")\n",
    "plt.ylabel(\"1 - Cumulative Stress\")\n",
    "plt.legend([\"Pretrained\", \"Finetuned\"])\n",
    "plt.title(\"Cumulative Stress Scree Plot\")\n",
    "plt.grid()\n",
    "plt.show()"
   ]
  },
  {
   "cell_type": "code",
   "execution_count": null,
   "metadata": {},
   "outputs": [],
   "source": []
  }
 ],
 "metadata": {
  "interpreter": {
   "hash": "d4d1e4263499bec80672ea0156c357c1ee493ec2b1c70f0acce89fc37c4a6abe"
  },
  "kernelspec": {
   "display_name": "Python 3.9.10 ('base')",
   "language": "python",
   "name": "python3"
  },
  "language_info": {
   "codemirror_mode": {
    "name": "ipython",
    "version": 3
   },
   "file_extension": ".py",
   "mimetype": "text/x-python",
   "name": "python",
   "nbconvert_exporter": "python",
   "pygments_lexer": "ipython3",
   "version": "3.9.10"
  },
  "orig_nbformat": 4
 },
 "nbformat": 4,
 "nbformat_minor": 2
}
