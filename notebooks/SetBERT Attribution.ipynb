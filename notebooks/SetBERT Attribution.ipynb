{
 "cells": [
  {
   "cell_type": "code",
   "execution_count": 237,
   "id": "c3049540-a427-4204-b4b2-e92d4a6c85d8",
   "metadata": {},
   "outputs": [],
   "source": [
    "from collections import defaultdict\n",
    "from dnadb import fasta, sample\n",
    "from numba import njit\n",
    "import numpy as np\n",
    "import tensorflow as tf\n",
    "import tf_utilities as tfu\n",
    "import settransformer as st\n",
    "import wandb\n",
    "\n",
    "from deepdna.nn.data_generators import SequenceGenerator\n",
    "from deepdna.nn.layers import SplitClassToken\n",
    "from deepdna.nn.models import load_model, setbert"
   ]
  },
  {
   "cell_type": "code",
   "execution_count": 2,
   "id": "e2e01ebc-7991-4c44-9a31-961196999462",
   "metadata": {},
   "outputs": [],
   "source": [
    "%load_ext cython"
   ]
  },
  {
   "cell_type": "code",
   "execution_count": 3,
   "id": "96f62fc4-3ae9-4bc7-b8ee-1667b7d4d909",
   "metadata": {},
   "outputs": [
    {
     "name": "stderr",
     "output_type": "stream",
     "text": [
      "2023-07-11 18:37:33.622325: I tensorflow/stream_executor/cuda/cuda_gpu_executor.cc:975] successful NUMA node read from SysFS had negative value (-1), but there must be at least one NUMA node, so returning NUMA node zero\n",
      "2023-07-11 18:37:33.622614: I tensorflow/stream_executor/cuda/cuda_gpu_executor.cc:975] successful NUMA node read from SysFS had negative value (-1), but there must be at least one NUMA node, so returning NUMA node zero\n",
      "2023-07-11 18:37:33.629557: I tensorflow/stream_executor/cuda/cuda_gpu_executor.cc:975] successful NUMA node read from SysFS had negative value (-1), but there must be at least one NUMA node, so returning NUMA node zero\n",
      "2023-07-11 18:37:33.629796: I tensorflow/stream_executor/cuda/cuda_gpu_executor.cc:975] successful NUMA node read from SysFS had negative value (-1), but there must be at least one NUMA node, so returning NUMA node zero\n",
      "2023-07-11 18:37:33.629974: I tensorflow/stream_executor/cuda/cuda_gpu_executor.cc:975] successful NUMA node read from SysFS had negative value (-1), but there must be at least one NUMA node, so returning NUMA node zero\n",
      "2023-07-11 18:37:33.630156: I tensorflow/stream_executor/cuda/cuda_gpu_executor.cc:975] successful NUMA node read from SysFS had negative value (-1), but there must be at least one NUMA node, so returning NUMA node zero\n"
     ]
    },
    {
     "data": {
      "text/plain": [
       "([PhysicalDevice(name='/physical_device:CPU:0', device_type='CPU')],\n",
       " [PhysicalDevice(name='/physical_device:GPU:1', device_type='GPU')])"
      ]
     },
     "execution_count": 3,
     "metadata": {},
     "output_type": "execute_result"
    }
   ],
   "source": [
    "tfu.devices.select_gpu(1)"
   ]
  },
  {
   "cell_type": "code",
   "execution_count": 4,
   "id": "3cb24cd2-96f9-4547-adb5-ede6ba32a1b4",
   "metadata": {},
   "outputs": [],
   "source": [
    "api = wandb.Api()"
   ]
  },
  {
   "cell_type": "code",
   "execution_count": 5,
   "id": "92a3dff1-11f8-45a2-89b0-2d5da852272d",
   "metadata": {},
   "outputs": [
    {
     "name": "stderr",
     "output_type": "stream",
     "text": [
      "\u001b[34m\u001b[1mwandb\u001b[0m: Downloading large artifact setbert-pretrain-walker-abund-128d-250l:v2, 91.05MB. 4 files... \n",
      "\u001b[34m\u001b[1mwandb\u001b[0m:   4 of 4 files downloaded.  \n",
      "Done. 0:0:0.1\n",
      "2023-07-11 18:37:39.695007: I tensorflow/core/platform/cpu_feature_guard.cc:193] This TensorFlow binary is optimized with oneAPI Deep Neural Network Library (oneDNN) to use the following CPU instructions in performance-critical operations:  SSE4.1 SSE4.2 AVX AVX2 FMA\n",
      "To enable them in other operations, rebuild TensorFlow with the appropriate compiler flags.\n",
      "2023-07-11 18:37:39.697763: I tensorflow/stream_executor/cuda/cuda_gpu_executor.cc:975] successful NUMA node read from SysFS had negative value (-1), but there must be at least one NUMA node, so returning NUMA node zero\n",
      "2023-07-11 18:37:39.698133: I tensorflow/stream_executor/cuda/cuda_gpu_executor.cc:975] successful NUMA node read from SysFS had negative value (-1), but there must be at least one NUMA node, so returning NUMA node zero\n",
      "2023-07-11 18:37:39.698406: I tensorflow/stream_executor/cuda/cuda_gpu_executor.cc:975] successful NUMA node read from SysFS had negative value (-1), but there must be at least one NUMA node, so returning NUMA node zero\n",
      "2023-07-11 18:37:40.124779: I tensorflow/stream_executor/cuda/cuda_gpu_executor.cc:975] successful NUMA node read from SysFS had negative value (-1), but there must be at least one NUMA node, so returning NUMA node zero\n",
      "2023-07-11 18:37:40.124989: I tensorflow/stream_executor/cuda/cuda_gpu_executor.cc:975] successful NUMA node read from SysFS had negative value (-1), but there must be at least one NUMA node, so returning NUMA node zero\n",
      "2023-07-11 18:37:40.125166: I tensorflow/stream_executor/cuda/cuda_gpu_executor.cc:975] successful NUMA node read from SysFS had negative value (-1), but there must be at least one NUMA node, so returning NUMA node zero\n",
      "2023-07-11 18:37:40.125307: I tensorflow/core/common_runtime/gpu/gpu_device.cc:1532] Created device /job:localhost/replica:0/task:0/device:GPU:0 with 21262 MB memory:  -> device: 1, name: NVIDIA GeForce RTX 3090, pci bus id: 0000:21:00.0, compute capability: 8.6\n"
     ]
    }
   ],
   "source": [
    "path = api.artifact(\"sirdavidludwig/setbert-pretrain/setbert-pretrain-walker-abund-128d-250l:v2\").download()\n",
    "model = load_model(path, setbert.SetBertPretrainModel).base"
   ]
  },
  {
   "cell_type": "code",
   "execution_count": 6,
   "id": "73f9fd35-83e6-4c91-96ec-af97cb9f4465",
   "metadata": {},
   "outputs": [],
   "source": [
    "classifier = setbert.SetBertEncoderModel(model)"
   ]
  },
  {
   "cell_type": "code",
   "execution_count": 209,
   "id": "4c25feee-f2ec-4f3d-bf07-066763fa64f9",
   "metadata": {},
   "outputs": [
    {
     "data": {
      "text/plain": [
       "737"
      ]
     },
     "execution_count": 209,
     "metadata": {},
     "output_type": "execute_result"
    }
   ],
   "source": [
    "samples = sample.load_multiplexed_fasta(\n",
    "    \"/home/dwl2x/work/Datasets/Walker_Alex/alex.fasta.db\",\n",
    "    \"/home/dwl2x/work/Datasets/Walker_Alex/alex.fasta.mapping.db\",\n",
    "    \"/home/dwl2x/work/Datasets/Walker_Alex/alex.fasta.index.db\"\n",
    ")\n",
    "len(samples)"
   ]
  },
  {
   "cell_type": "code",
   "execution_count": 12,
   "id": "b629972b-4eb5-43ca-913d-4bf68eaf50df",
   "metadata": {},
   "outputs": [
    {
     "name": "stderr",
     "output_type": "stream",
     "text": [
      "2023-07-11 18:37:54.036278: I tensorflow/stream_executor/cuda/cuda_blas.cc:1786] TensorFloat-32 will be used for the matrix multiplication. This will only be logged once.\n"
     ]
    }
   ],
   "source": [
    "x = tf.stop_gradient(model.dnabert_encoder.encode(gen[0][0]))"
   ]
  },
  {
   "cell_type": "code",
   "execution_count": 8,
   "id": "92801c94-74e9-48e4-8fa2-66da0c27c930",
   "metadata": {},
   "outputs": [],
   "source": [
    "def find_mha_layers(model):\n",
    "    result = []\n",
    "    for layer in model.layers:\n",
    "        if isinstance(layer, st.SetAttentionBlock):\n",
    "            result.append(layer.att)\n",
    "        elif isinstance(layer, st.InducedSetAttentionBlock):\n",
    "            result.append(layer.mab2.att)\n",
    "        elif isinstance(layer, st.InducedSetEncoder):\n",
    "            result.append(layer.mab.att)\n",
    "        elif isinstance(layer, tf.keras.Model):\n",
    "            result += find_mha_layers(layer)\n",
    "    return result"
   ]
  },
  {
   "cell_type": "code",
   "execution_count": 46,
   "id": "523587f6-e3ed-4f68-8712-9b89ffadc240",
   "metadata": {},
   "outputs": [],
   "source": [
    "def compute_attention_attribution_factory(call):\n",
    "    @tf.function\n",
    "    def compute_attention_attribution(x, mha_layers, integration_steps=20):\n",
    "        # Initialize attention attribution weights\n",
    "        for layer in mha_layers:\n",
    "            layer.enable_attribution()\n",
    "            layer._alpha.assign([1.0]*layer.num_heads)\n",
    "        # Get the gradient shapes using a single call\n",
    "        shapes = []\n",
    "        _, scores = call(x)\n",
    "        for layer_scores in scores: # [batch_index, head_index, n, n]\n",
    "            batch_size = tf.shape(layer_scores)[0]\n",
    "            n = tf.shape(layer_scores)[2]\n",
    "            shapes.append((batch_size, n, n))\n",
    "        # Compute attribution scores\n",
    "        attrs = []\n",
    "        for layer_index, layer in enumerate(mha_layers):\n",
    "            attrs.append([])\n",
    "            for head in range(layer.num_heads):\n",
    "                grad_sum = tf.zeros(shapes[layer_index])\n",
    "                for alpha in tf.linspace(0.0, 1.0, integration_steps):\n",
    "                    layer.set_head_attribution_weight(head, alpha)\n",
    "                    with tf.GradientTape() as tape:\n",
    "                        y_pred, scores = call(x)\n",
    "                    grads = tape.gradient(y_pred, scores[layer_index])[:,head,:,:]\n",
    "                    grad_sum += grads\n",
    "                attr_h = scores[layer_index][:,head,:,:]/integration_steps * grad_sum\n",
    "                attrs[-1].append(attr_h)\n",
    "        attrs = tf.transpose(attrs, (2, 0, 1, 3, 4))\n",
    "        # attrs.shape == [sample_index, layer_index, head_index, n, n]\n",
    "        return attrs\n",
    "    return compute_attention_attribution"
   ]
  },
  {
   "cell_type": "code",
   "execution_count": 258,
   "id": "c69d46de-b4d3-4925-b8e4-c4904d7c71bf",
   "metadata": {},
   "outputs": [],
   "source": [
    "@njit\n",
    "def compute_token_attributions(attrs_by_layer):\n",
    "    \"\"\"\n",
    "    Compute the attribution scores by token.\n",
    "    \"\"\"\n",
    "    num_tokens = attrs_by_layer.shape[-1]\n",
    "    attr_all = np.zeros(num_tokens)\n",
    "    for i in range(num_tokens):\n",
    "        for l in range(attrs_by_layer.shape[0]):\n",
    "            for j in range(num_tokens):\n",
    "                if j == i:\n",
    "                    continue\n",
    "                attr_all[i] += attrs_by_layer[l,i,j]\n",
    "    return attr_all"
   ]
  },
  {
   "cell_type": "code",
   "execution_count": 9,
   "id": "062b6c58-add3-4c2b-adea-146f027bcabe",
   "metadata": {},
   "outputs": [
    {
     "data": {
      "text/plain": [
       "8"
      ]
     },
     "execution_count": 9,
     "metadata": {},
     "output_type": "execute_result"
    }
   ],
   "source": [
    "mha_layers = find_mha_layers(classifier.model)\n",
    "len(mha_layers)"
   ]
  },
  {
   "cell_type": "code",
   "execution_count": 47,
   "id": "089bfe8f-9f5b-4e1a-b210-d5b4e1a4f6a4",
   "metadata": {},
   "outputs": [],
   "source": [
    "def call(x):\n",
    "    return classifier(x, training=False, return_attention_scores=True, compute_sequence_embeddings=False)\n",
    "compute_attention_attribution = compute_attention_attribution_factory(call)"
   ]
  },
  {
   "cell_type": "code",
   "execution_count": 243,
   "id": "ee54b223-0930-4300-8145-ae62e7d1f2bb",
   "metadata": {},
   "outputs": [],
   "source": [
    "def subsample_generator(samples, num_subsamples, subsample_size):\n",
    "    for s in samples:\n",
    "        gen = SequenceGenerator([s], sequence_length=250, kmer=3, batch_size=1, batches_per_epoch=num_subsamples, subsample_size=subsample_size)\n",
    "        for i in range(num_subsamples):\n",
    "            _, sequence_ids, x, _ = gen.get(i)\n",
    "            x = tf.stop_gradient(model.dnabert_encoder.encode(x))\n",
    "            yield sequence_ids[0], x[0]"
   ]
  },
  {
   "cell_type": "code",
   "execution_count": 294,
   "id": "e07a84f8-7afd-4a3c-94cc-84dddde4f4fd",
   "metadata": {},
   "outputs": [
    {
     "name": "stderr",
     "output_type": "stream",
     "text": [
      "/tmp/ipykernel_2163063/2767443049.py:37: RuntimeWarning: invalid value encountered in true_divide\n",
      "  for (i, j) in np.argwhere(a_ij/max_attr_l > tau):\n"
     ]
    }
   ],
   "source": [
    "def merged_attention_attribution(data_generator, call, mha_layers, integration_steps=20, tau=0.4):\n",
    "    from graphviz import Digraph\n",
    "\n",
    "    # Create the compute_attention_attribution function to gather attribution scores for each layer/head\n",
    "    compute_attention_attribution = compute_attention_attribution_factory(call)\n",
    "\n",
    "    token_ids = {}\n",
    "    token_total_attrs = defaultdict(float)\n",
    "    top_node = None\n",
    "    top_node_value = -np.inf\n",
    "\n",
    "    taus = [tau]*(len(mha_layers) - 1) + [0.0]\n",
    "    edges_by_layer = [set() for _ in range(len(taus))]\n",
    "\n",
    "    n = 0\n",
    "    for (token_names, x) in data_generator:\n",
    "        # Ensure token names have a corresponding ID\n",
    "        for token_name in token_names:\n",
    "            if token_name not in token_ids:\n",
    "                token_ids[token_name] = len(token_ids)\n",
    "        # attrs = compute_attention_attribution(x, mha_layers)\n",
    "        attrs_by_layer = np.sum(attrs, axis=2)[0,:,1:,1:] # strip off class tokens\n",
    "        token_attrs = compute_token_attributions(attrs_by_layer)\n",
    "\n",
    "        # Sum up total attribution for each token\n",
    "        for i, value in enumerate(token_attrs):\n",
    "            token_total_attrs[token_ids[token_names[i]]] += value\n",
    "\n",
    "        # Update the top node\n",
    "        if np.max(token_attrs) > top_node_value:\n",
    "            top_node = token_ids[token_names[np.argmax(token_attrs)]]\n",
    "\n",
    "        # Create tree adges\n",
    "        for l, (tau, edges) in enumerate(zip(taus, edges_by_layer)):\n",
    "            a_ij = attrs_by_layer[l]\n",
    "            max_attr_l = np.max(attrs_by_layer[l])\n",
    "            for (i, j) in np.argwhere(a_ij/max_attr_l > tau):\n",
    "                i_name = token_names[i]\n",
    "                j_name = token_names[j]\n",
    "                if i_name not in token_ids:\n",
    "                    token_ids[i_name] = len(token_ids)\n",
    "                if j_name not in token_ids:\n",
    "                    token_ids[j_name] = len(token_ids)\n",
    "                i_universal = token_ids[i_name]\n",
    "                j_universal = token_ids[j_name]\n",
    "                edges.add((i_universal, j_universal))\n",
    "\n",
    "        n += 1\n",
    "        break\n",
    "\n",
    "    NotAppear, Appear, Fixed = \"NotAppear\", \"Appear\", \"Fixed\"\n",
    "    state = {id: NotAppear for id in token_ids.values()}\n",
    "    state[top_node] = Appear\n",
    "    edges = set()\n",
    "    vertices = set([top_node])\n",
    "    for l in range(len(taus) - 2, -1, -1):\n",
    "        for (i, j) in edges_by_layer[l]:\n",
    "            if i == j:\n",
    "                continue\n",
    "            if state[i] is Appear and state[j] is NotAppear:\n",
    "                edges.add((i, j))\n",
    "                vertices.add(j)\n",
    "                state[i] = Fixed\n",
    "                state[j] = Appear\n",
    "            if state[i] is Fixed and state[j] is NotAppear:\n",
    "                edges.add((i, j))\n",
    "                vertices.add(j)\n",
    "                state[j] = Appear\n",
    "\n",
    "    # Inject class token identifier\n",
    "    vertices.add(-1)\n",
    "    for j in range(len(state) - 1, -1, -1):\n",
    "        if state[j] in (Appear, Fixed):\n",
    "            edges.add((-1, j))\n",
    "\n",
    "    # Create the tree graphic\n",
    "    tree = Digraph()\n",
    "    for vertex in vertices:\n",
    "        tree.node(str(vertex + 1))\n",
    "    tree.edges([(str(j+1), str(i+1)) for (i, j) in edges])\n",
    "    tree.graph_attr[\"rankdir\"] = \"BT\"\n",
    "\n",
    "    # Compute the reversed ID map\n",
    "    token_id_reverse_map = {v: k for k, v in token_ids.items()}\n",
    "    token_id_reverse_map[-1] = \"[CLS]\"\n",
    "\n",
    "    return token_id_reverse_map, token_total_attrs, tree\n",
    "\n",
    "_ = merged_attention_attribution(subsample_generator(samples, 10, 1000), call, mha_layers)"
   ]
  },
  {
   "cell_type": "markdown",
   "id": "98121de0-c9cc-4447-b4af-52ada9dc75be",
   "metadata": {},
   "source": [
    "### Compute the raw attribution scores."
   ]
  },
  {
   "cell_type": "code",
   "execution_count": 120,
   "id": "92fd8f6f-7f5d-4004-b688-57b91f183dd7",
   "metadata": {},
   "outputs": [
    {
     "name": "stdout",
     "output_type": "stream",
     "text": [
      "CPU times: user 13.9 s, sys: 3.52 s, total: 17.4 s\n",
      "Wall time: 15.2 s\n"
     ]
    }
   ],
   "source": [
    "%%time\n",
    "# attrs = compute_attention_attribution(mha_layers, lambda: model(x, training=False, return_attention_scores=True))\n",
    "attrs = compute_attention_attribution(x, mha_layers)"
   ]
  },
  {
   "cell_type": "markdown",
   "id": "f3be4c92-0959-4c16-a68b-30a3bafc9293",
   "metadata": {},
   "source": [
    "### Compute the attribution scores by layer"
   ]
  },
  {
   "cell_type": "code",
   "execution_count": 182,
   "id": "1b12c7e0-da9b-44f7-9e95-5aa649c7b640",
   "metadata": {},
   "outputs": [
    {
     "data": {
      "text/plain": [
       "(1, 8, 1000, 1000)"
      ]
     },
     "execution_count": 182,
     "metadata": {},
     "output_type": "execute_result"
    }
   ],
   "source": [
    "attrs_by_layer = np.sum(attrs, axis=2)[:,:,1:,1:]\n",
    "attrs_by_layer.shape"
   ]
  },
  {
   "cell_type": "markdown",
   "id": "97e51391-73d8-4735-9ba5-631085473469",
   "metadata": {},
   "source": [
    "### Compute the token attribution scores"
   ]
  },
  {
   "cell_type": "code",
   "execution_count": 183,
   "id": "756d5a64-fa8e-4188-b033-7db3d4207975",
   "metadata": {},
   "outputs": [
    {
     "data": {
      "text/plain": [
       "(1, 1000)"
      ]
     },
     "execution_count": 183,
     "metadata": {},
     "output_type": "execute_result"
    }
   ],
   "source": [
    "attr_all = compute_token_attributions(attrs_by_layer)\n",
    "attr_all.shape"
   ]
  },
  {
   "cell_type": "markdown",
   "id": "cb695a5d-b402-4516-8edd-3f7d5059d633",
   "metadata": {},
   "source": [
    "### Build the Tree"
   ]
  },
  {
   "cell_type": "code",
   "execution_count": 184,
   "id": "db58d70b-6d18-4386-9779-9eca664d73b5",
   "metadata": {},
   "outputs": [],
   "source": [
    "token_ids = {}"
   ]
  },
  {
   "cell_type": "code",
   "execution_count": 185,
   "id": "013d2133-0b25-4691-972e-509700146a9e",
   "metadata": {},
   "outputs": [],
   "source": [
    "token_names = [batch for batch in gen.get(0)[1]]"
   ]
  },
  {
   "cell_type": "code",
   "execution_count": 186,
   "id": "8f07d683-d63f-4276-8ecc-75833cac7b13",
   "metadata": {},
   "outputs": [
    {
     "data": {
      "text/plain": [
       "0"
      ]
     },
     "execution_count": 186,
     "metadata": {},
     "output_type": "execute_result"
    }
   ],
   "source": [
    "top_node = np.argmax(attr_all)\n",
    "top_node_name = token_names[0][top_node]\n",
    "if top_node_name not in token_ids:\n",
    "    token_ids[top_node_name] = len(token_ids)\n",
    "top_node = token_ids[top_node_name]\n",
    "top_node"
   ]
  },
  {
   "cell_type": "code",
   "execution_count": 187,
   "id": "32b45d14-2244-42e3-b903-95e06001deda",
   "metadata": {},
   "outputs": [
    {
     "name": "stderr",
     "output_type": "stream",
     "text": [
      "/tmp/ipykernel_2163063/859207844.py:8: RuntimeWarning: invalid value encountered in true_divide\n",
      "  for (i, j) in np.argwhere(a_ij/max_attr_l > tau):\n"
     ]
    }
   ],
   "source": [
    "taus = [0.4, 0.4, 0.4, 0.4, 0.4, 0.4, 0.4, 0.0] # use 0.0 for last layer for reasons discussed in paper\n",
    "edges_l = [set() for _ in range(len(taus))]\n",
    "for l in range(attrs_by_layer.shape[1]):\n",
    "    tau = taus[l]\n",
    "    a_ij = attrs_by_layer[0][l]\n",
    "    max_attr_l = np.max(attrs_by_layer[0][l])\n",
    "    edges = edges_l[l]\n",
    "    for (i, j) in np.argwhere(a_ij/max_attr_l > tau):\n",
    "        i_name = token_names[0][i]\n",
    "        j_name = token_names[0][j]\n",
    "        if i_name not in token_ids:\n",
    "            token_ids[i_name] = len(token_ids)\n",
    "        if j_name not in token_ids:\n",
    "            token_ids[j_name] = len(token_ids)\n",
    "        i_universal = token_ids[i_name]\n",
    "        j_universal = token_ids[j_name]\n",
    "        edges.add((i_universal, j_universal))\n",
    "    # edges = set(map(tuple, np.argwhere(a_ij/max_attr_l > tau)))\n",
    "    # print(edges)\n",
    "# edges_l"
   ]
  },
  {
   "cell_type": "code",
   "execution_count": 188,
   "id": "b7f0d171-b2be-4cff-8752-e6a4bca5130c",
   "metadata": {},
   "outputs": [],
   "source": [
    "NotAppear = \"NotAppear\"\n",
    "Appear = \"Appear\"\n",
    "Fixed = \"Fixed\""
   ]
  },
  {
   "cell_type": "code",
   "execution_count": 190,
   "id": "9cf79790-891a-4547-b4fc-bfbc4bbd9a93",
   "metadata": {},
   "outputs": [
    {
     "data": {
      "text/plain": [
       "98"
      ]
     },
     "execution_count": 190,
     "metadata": {},
     "output_type": "execute_result"
    }
   ],
   "source": [
    "state = {id: NotAppear for id in token_ids.values()}\n",
    "len(state)"
   ]
  },
  {
   "cell_type": "code",
   "execution_count": 191,
   "id": "dc0a3e95-5993-43ab-b059-d5454a5a99a4",
   "metadata": {},
   "outputs": [],
   "source": [
    "edges = set()\n",
    "vertices = set([top_node])\n",
    "\n",
    "state[top_node] = Appear\n",
    "\n",
    "for l in range(attrs_by_layer.shape[1] - 2, -1, -1):\n",
    "    for (i, j) in edges_l[l]:\n",
    "        if i == j:\n",
    "            continue\n",
    "        if state[i] is Appear and state[j] is NotAppear:\n",
    "            edges.add((i, j))\n",
    "            vertices.add(j)\n",
    "            state[i] = Fixed\n",
    "            state[j] = Appear\n",
    "        if state[i] is Fixed and state[j] is NotAppear:\n",
    "            edges.add((i, j))\n",
    "            vertices.add(j)\n",
    "            state[j] = Appear"
   ]
  },
  {
   "cell_type": "code",
   "execution_count": 192,
   "id": "4ce2fb9a-b653-4596-92c8-36cbaddeacd8",
   "metadata": {},
   "outputs": [
    {
     "data": {
      "text/plain": [
       "98"
      ]
     },
     "execution_count": 192,
     "metadata": {},
     "output_type": "execute_result"
    }
   ],
   "source": [
    "len(state)"
   ]
  },
  {
   "cell_type": "code",
   "execution_count": 193,
   "id": "36431b64-8d83-4c32-b8e7-559b409b204f",
   "metadata": {},
   "outputs": [
    {
     "data": {
      "text/plain": [
       "{-1, 0, 2, 3, 4, 29, 32, 47, 50, 60, 68, 69, 70, 71, 74, 75, 77, 79, 80, 81}"
      ]
     },
     "execution_count": 193,
     "metadata": {},
     "output_type": "execute_result"
    }
   ],
   "source": [
    "# Inject class token identifier\n",
    "vertices.add(-1)\n",
    "vertices"
   ]
  },
  {
   "cell_type": "code",
   "execution_count": 200,
   "id": "df20dc25-6892-4f6d-a03a-d57b67b59975",
   "metadata": {},
   "outputs": [
    {
     "data": {
      "text/plain": [
       "37"
      ]
     },
     "execution_count": 200,
     "metadata": {},
     "output_type": "execute_result"
    }
   ],
   "source": [
    "for j in range(len(state) - 1, -1, -1):\n",
    "    if state[j] in (Appear, Fixed):\n",
    "        edges.add((-1, j))\n",
    "len(edges)"
   ]
  },
  {
   "cell_type": "code",
   "execution_count": 202,
   "id": "71425fda-8eb3-4e61-8962-d7387fb4881f",
   "metadata": {},
   "outputs": [],
   "source": [
    "from graphviz import Digraph\n",
    "from IPython.display import display"
   ]
  },
  {
   "cell_type": "code",
   "execution_count": 204,
   "id": "f082bd78-d8ba-4dcc-a561-02613d214f1c",
   "metadata": {},
   "outputs": [],
   "source": [
    "tree = Digraph()\n",
    "for vertex in vertices:\n",
    "    tree.node(str(vertex + 1))\n",
    "tree.edges([(str(j+1), str(i+1)) for (i, j) in edges])\n",
    "tree.graph_attr[\"rankdir\"] = \"BT\""
   ]
  },
  {
   "cell_type": "code",
   "execution_count": 205,
   "id": "aa9736f2-66c6-41db-ae77-e31e3d66567f",
   "metadata": {},
   "outputs": [
    {
     "data": {
      "image/svg+xml": [
       "<?xml version=\"1.0\" encoding=\"UTF-8\" standalone=\"no\"?>\n",
       "<!DOCTYPE svg PUBLIC \"-//W3C//DTD SVG 1.1//EN\"\n",
       " \"http://www.w3.org/Graphics/SVG/1.1/DTD/svg11.dtd\">\n",
       "<!-- Generated by graphviz version 5.0.1 (20220821.0811)\n",
       " -->\n",
       "<!-- Pages: 1 -->\n",
       "<svg width=\"1225pt\" height=\"260pt\"\n",
       " viewBox=\"0.00 0.00 1225.00 260.00\" xmlns=\"http://www.w3.org/2000/svg\" xmlns:xlink=\"http://www.w3.org/1999/xlink\">\n",
       "<g id=\"graph0\" class=\"graph\" transform=\"scale(1 1) rotate(0) translate(4 256)\">\n",
       "<polygon fill=\"white\" stroke=\"none\" points=\"-4,4 -4,-256 1221,-256 1221,4 -4,4\"/>\n",
       "<!-- 1 -->\n",
       "<g id=\"node1\" class=\"node\">\n",
       "<title>1</title>\n",
       "<ellipse fill=\"none\" stroke=\"black\" cx=\"584\" cy=\"-162\" rx=\"27\" ry=\"18\"/>\n",
       "<text text-anchor=\"middle\" x=\"584\" y=\"-158.3\" font-family=\"Times,serif\" font-size=\"14.00\">1</text>\n",
       "</g>\n",
       "<!-- 0 -->\n",
       "<g id=\"node20\" class=\"node\">\n",
       "<title>0</title>\n",
       "<ellipse fill=\"none\" stroke=\"black\" cx=\"639\" cy=\"-234\" rx=\"27\" ry=\"18\"/>\n",
       "<text text-anchor=\"middle\" x=\"639\" y=\"-230.3\" font-family=\"Times,serif\" font-size=\"14.00\">0</text>\n",
       "</g>\n",
       "<!-- 1&#45;&gt;0 -->\n",
       "<g id=\"edge30\" class=\"edge\">\n",
       "<title>1&#45;&gt;0</title>\n",
       "<path fill=\"none\" stroke=\"black\" d=\"M595.93,-178.19C603.21,-187.45 612.66,-199.48 620.85,-209.91\"/>\n",
       "<polygon fill=\"black\" stroke=\"black\" points=\"618.16,-212.14 627.09,-217.84 623.66,-207.82 618.16,-212.14\"/>\n",
       "</g>\n",
       "<!-- 3 -->\n",
       "<g id=\"node2\" class=\"node\">\n",
       "<title>3</title>\n",
       "<ellipse fill=\"none\" stroke=\"black\" cx=\"27\" cy=\"-90\" rx=\"27\" ry=\"18\"/>\n",
       "<text text-anchor=\"middle\" x=\"27\" y=\"-86.3\" font-family=\"Times,serif\" font-size=\"14.00\">3</text>\n",
       "</g>\n",
       "<!-- 3&#45;&gt;1 -->\n",
       "<g id=\"edge6\" class=\"edge\">\n",
       "<title>3&#45;&gt;1</title>\n",
       "<path fill=\"none\" stroke=\"black\" d=\"M47.48,-102.13C52.43,-104.41 57.81,-106.56 63,-108 239.16,-157 460.08,-161.72 546.71,-161.49\"/>\n",
       "<polygon fill=\"black\" stroke=\"black\" points=\"546.86,-164.99 556.84,-161.44 546.82,-157.99 546.86,-164.99\"/>\n",
       "</g>\n",
       "<!-- 3&#45;&gt;0 -->\n",
       "<g id=\"edge36\" class=\"edge\">\n",
       "<title>3&#45;&gt;0</title>\n",
       "<path fill=\"none\" stroke=\"black\" d=\"M43.07,-104.64C67.99,-124.93 118.29,-162.55 168,-180 248.17,-208.14 505.49,-225.37 601.98,-230.98\"/>\n",
       "<polygon fill=\"black\" stroke=\"black\" points=\"601.96,-234.48 612.14,-231.56 602.36,-227.49 601.96,-234.48\"/>\n",
       "</g>\n",
       "<!-- 4 -->\n",
       "<g id=\"node3\" class=\"node\">\n",
       "<title>4</title>\n",
       "<ellipse fill=\"none\" stroke=\"black\" cx=\"99\" cy=\"-90\" rx=\"27\" ry=\"18\"/>\n",
       "<text text-anchor=\"middle\" x=\"99\" y=\"-86.3\" font-family=\"Times,serif\" font-size=\"14.00\">4</text>\n",
       "</g>\n",
       "<!-- 4&#45;&gt;1 -->\n",
       "<g id=\"edge34\" class=\"edge\">\n",
       "<title>4&#45;&gt;1</title>\n",
       "<path fill=\"none\" stroke=\"black\" d=\"M119.49,-102.07C124.45,-104.35 129.82,-106.51 135,-108 283.26,-150.53 468.47,-159 546.55,-160.63\"/>\n",
       "<polygon fill=\"black\" stroke=\"black\" points=\"546.77,-164.14 556.84,-160.82 546.9,-157.14 546.77,-164.14\"/>\n",
       "</g>\n",
       "<!-- 4&#45;&gt;0 -->\n",
       "<g id=\"edge32\" class=\"edge\">\n",
       "<title>4&#45;&gt;0</title>\n",
       "<path fill=\"none\" stroke=\"black\" d=\"M115.12,-104.51C140.1,-124.64 190.47,-162.06 240,-180 366.86,-225.96 529.34,-232.74 601.54,-233.3\"/>\n",
       "<polygon fill=\"black\" stroke=\"black\" points=\"601.91,-236.8 611.93,-233.34 601.94,-229.8 601.91,-236.8\"/>\n",
       "</g>\n",
       "<!-- 5 -->\n",
       "<g id=\"node4\" class=\"node\">\n",
       "<title>5</title>\n",
       "<ellipse fill=\"none\" stroke=\"black\" cx=\"171\" cy=\"-90\" rx=\"27\" ry=\"18\"/>\n",
       "<text text-anchor=\"middle\" x=\"171\" y=\"-86.3\" font-family=\"Times,serif\" font-size=\"14.00\">5</text>\n",
       "</g>\n",
       "<!-- 5&#45;&gt;1 -->\n",
       "<g id=\"edge26\" class=\"edge\">\n",
       "<title>5&#45;&gt;1</title>\n",
       "<path fill=\"none\" stroke=\"black\" d=\"M191.52,-101.99C196.47,-104.27 201.83,-106.46 207,-108 327.82,-144.11 477.96,-155.83 546.6,-159.46\"/>\n",
       "<polygon fill=\"black\" stroke=\"black\" points=\"546.74,-162.98 556.9,-159.98 547.09,-155.98 546.74,-162.98\"/>\n",
       "</g>\n",
       "<!-- 5&#45;&gt;0 -->\n",
       "<g id=\"edge14\" class=\"edge\">\n",
       "<title>5&#45;&gt;0</title>\n",
       "<path fill=\"none\" stroke=\"black\" d=\"M187.73,-104.66C213.14,-124.62 263.72,-161.42 313,-180 412.92,-217.67 539.98,-228.58 601.82,-231.73\"/>\n",
       "<polygon fill=\"black\" stroke=\"black\" points=\"601.72,-235.23 611.88,-232.2 602.05,-228.24 601.72,-235.23\"/>\n",
       "</g>\n",
       "<!-- 30 -->\n",
       "<g id=\"node5\" class=\"node\">\n",
       "<title>30</title>\n",
       "<ellipse fill=\"none\" stroke=\"black\" cx=\"243\" cy=\"-90\" rx=\"27\" ry=\"18\"/>\n",
       "<text text-anchor=\"middle\" x=\"243\" y=\"-86.3\" font-family=\"Times,serif\" font-size=\"14.00\">30</text>\n",
       "</g>\n",
       "<!-- 30&#45;&gt;1 -->\n",
       "<g id=\"edge15\" class=\"edge\">\n",
       "<title>30&#45;&gt;1</title>\n",
       "<path fill=\"none\" stroke=\"black\" d=\"M263.56,-101.87C268.51,-104.16 273.86,-106.37 279,-108 373.06,-137.78 489.06,-152.1 547.16,-157.82\"/>\n",
       "<polygon fill=\"black\" stroke=\"black\" points=\"547.03,-161.33 557.32,-158.79 547.7,-154.36 547.03,-161.33\"/>\n",
       "</g>\n",
       "<!-- 30&#45;&gt;0 -->\n",
       "<g id=\"edge5\" class=\"edge\">\n",
       "<title>30&#45;&gt;0</title>\n",
       "<path fill=\"none\" stroke=\"black\" d=\"M259.42,-104.77C283.87,-124.53 332.03,-160.68 379,-180 454.73,-211.15 550.64,-224.6 602.2,-229.9\"/>\n",
       "<polygon fill=\"black\" stroke=\"black\" points=\"601.91,-233.39 612.21,-230.89 602.6,-226.43 601.91,-233.39\"/>\n",
       "</g>\n",
       "<!-- 33 -->\n",
       "<g id=\"node6\" class=\"node\">\n",
       "<title>33</title>\n",
       "<ellipse fill=\"none\" stroke=\"black\" cx=\"315\" cy=\"-90\" rx=\"27\" ry=\"18\"/>\n",
       "<text text-anchor=\"middle\" x=\"315\" y=\"-86.3\" font-family=\"Times,serif\" font-size=\"14.00\">33</text>\n",
       "</g>\n",
       "<!-- 33&#45;&gt;1 -->\n",
       "<g id=\"edge17\" class=\"edge\">\n",
       "<title>33&#45;&gt;1</title>\n",
       "<path fill=\"none\" stroke=\"black\" d=\"M335.62,-101.68C340.57,-103.98 345.9,-106.24 351,-108 418.99,-131.47 501.77,-147.46 548.11,-155.34\"/>\n",
       "<polygon fill=\"black\" stroke=\"black\" points=\"547.54,-158.79 557.98,-156.98 548.69,-151.89 547.54,-158.79\"/>\n",
       "</g>\n",
       "<!-- 33&#45;&gt;0 -->\n",
       "<g id=\"edge8\" class=\"edge\">\n",
       "<title>33&#45;&gt;0</title>\n",
       "<path fill=\"none\" stroke=\"black\" d=\"M330.41,-104.8C352.93,-124.28 396.85,-159.71 440,-180 493.87,-205.33 561.85,-220.13 602.8,-227.38\"/>\n",
       "<polygon fill=\"black\" stroke=\"black\" points=\"602.4,-230.87 612.85,-229.11 603.58,-223.97 602.4,-230.87\"/>\n",
       "</g>\n",
       "<!-- 48 -->\n",
       "<g id=\"node7\" class=\"node\">\n",
       "<title>48</title>\n",
       "<ellipse fill=\"none\" stroke=\"black\" cx=\"387\" cy=\"-90\" rx=\"27\" ry=\"18\"/>\n",
       "<text text-anchor=\"middle\" x=\"387\" y=\"-86.3\" font-family=\"Times,serif\" font-size=\"14.00\">48</text>\n",
       "</g>\n",
       "<!-- 48&#45;&gt;1 -->\n",
       "<g id=\"edge20\" class=\"edge\">\n",
       "<title>48&#45;&gt;1</title>\n",
       "<path fill=\"none\" stroke=\"black\" d=\"M408.13,-101.51C412.97,-103.76 418.12,-106.05 423,-108 466.1,-125.19 517.19,-141.32 550.07,-151.16\"/>\n",
       "<polygon fill=\"black\" stroke=\"black\" points=\"549.08,-154.52 559.66,-154.01 551.07,-147.81 549.08,-154.52\"/>\n",
       "</g>\n",
       "<!-- 48&#45;&gt;0 -->\n",
       "<g id=\"edge10\" class=\"edge\">\n",
       "<title>48&#45;&gt;0</title>\n",
       "<path fill=\"none\" stroke=\"black\" d=\"M401.01,-105.8C420.03,-125.16 455.8,-159.06 492,-180 527.86,-200.75 573.26,-215.61 604.05,-224.22\"/>\n",
       "<polygon fill=\"black\" stroke=\"black\" points=\"603.32,-227.65 613.89,-226.9 605.16,-220.89 603.32,-227.65\"/>\n",
       "</g>\n",
       "<!-- 51 -->\n",
       "<g id=\"node8\" class=\"node\">\n",
       "<title>51</title>\n",
       "<ellipse fill=\"none\" stroke=\"black\" cx=\"459\" cy=\"-90\" rx=\"27\" ry=\"18\"/>\n",
       "<text text-anchor=\"middle\" x=\"459\" y=\"-86.3\" font-family=\"Times,serif\" font-size=\"14.00\">51</text>\n",
       "</g>\n",
       "<!-- 51&#45;&gt;1 -->\n",
       "<g id=\"edge23\" class=\"edge\">\n",
       "<title>51&#45;&gt;1</title>\n",
       "<path fill=\"none\" stroke=\"black\" d=\"M479.08,-102.25C499.68,-113.78 531.9,-131.82 555.21,-144.88\"/>\n",
       "<polygon fill=\"black\" stroke=\"black\" points=\"553.53,-147.95 563.97,-149.78 556.95,-141.84 553.53,-147.95\"/>\n",
       "</g>\n",
       "<!-- 51&#45;&gt;0 -->\n",
       "<g id=\"edge11\" class=\"edge\">\n",
       "<title>51&#45;&gt;0</title>\n",
       "<path fill=\"none\" stroke=\"black\" d=\"M468.76,-106.91C481.23,-126.21 504.43,-158.8 531,-180 553.61,-198.04 583.37,-212.07 605.92,-221.16\"/>\n",
       "<polygon fill=\"black\" stroke=\"black\" points=\"604.83,-224.49 615.41,-224.86 607.37,-217.96 604.83,-224.49\"/>\n",
       "</g>\n",
       "<!-- 61 -->\n",
       "<g id=\"node9\" class=\"node\">\n",
       "<title>61</title>\n",
       "<ellipse fill=\"none\" stroke=\"black\" cx=\"531\" cy=\"-90\" rx=\"27\" ry=\"18\"/>\n",
       "<text text-anchor=\"middle\" x=\"531\" y=\"-86.3\" font-family=\"Times,serif\" font-size=\"14.00\">61</text>\n",
       "</g>\n",
       "<!-- 61&#45;&gt;1 -->\n",
       "<g id=\"edge7\" class=\"edge\">\n",
       "<title>61&#45;&gt;1</title>\n",
       "<path fill=\"none\" stroke=\"black\" d=\"M542.76,-106.54C549.62,-115.6 558.42,-127.21 566.12,-137.39\"/>\n",
       "<polygon fill=\"black\" stroke=\"black\" points=\"563.44,-139.65 572.27,-145.51 569.02,-135.42 563.44,-139.65\"/>\n",
       "</g>\n",
       "<!-- 61&#45;&gt;0 -->\n",
       "<g id=\"edge37\" class=\"edge\">\n",
       "<title>61&#45;&gt;0</title>\n",
       "<path fill=\"none\" stroke=\"black\" d=\"M530.23,-108.02C530.21,-127.22 532.82,-158.56 548,-180 561.98,-199.75 585.83,-213.24 605.6,-221.67\"/>\n",
       "<polygon fill=\"black\" stroke=\"black\" points=\"604.34,-224.93 614.92,-225.41 606.94,-218.44 604.34,-224.93\"/>\n",
       "</g>\n",
       "<!-- 69 -->\n",
       "<g id=\"node10\" class=\"node\">\n",
       "<title>69</title>\n",
       "<ellipse fill=\"none\" stroke=\"black\" cx=\"603\" cy=\"-90\" rx=\"27\" ry=\"18\"/>\n",
       "<text text-anchor=\"middle\" x=\"603\" y=\"-86.3\" font-family=\"Times,serif\" font-size=\"14.00\">69</text>\n",
       "</g>\n",
       "<!-- 69&#45;&gt;1 -->\n",
       "<g id=\"edge25\" class=\"edge\">\n",
       "<title>69&#45;&gt;1</title>\n",
       "<path fill=\"none\" stroke=\"black\" d=\"M598.4,-107.95C596.25,-115.86 593.65,-125.46 591.24,-134.31\"/>\n",
       "<polygon fill=\"black\" stroke=\"black\" points=\"587.8,-133.64 588.56,-144.21 594.55,-135.48 587.8,-133.64\"/>\n",
       "</g>\n",
       "<!-- 69&#45;&gt;0 -->\n",
       "<g id=\"edge16\" class=\"edge\">\n",
       "<title>69&#45;&gt;0</title>\n",
       "<path fill=\"none\" stroke=\"black\" d=\"M608.79,-107.58C612.3,-117.97 616.72,-131.67 620,-144 625.46,-164.48 630.41,-187.94 633.89,-205.63\"/>\n",
       "<polygon fill=\"black\" stroke=\"black\" points=\"630.53,-206.66 635.86,-215.82 637.4,-205.34 630.53,-206.66\"/>\n",
       "</g>\n",
       "<!-- 70 -->\n",
       "<g id=\"node11\" class=\"node\">\n",
       "<title>70</title>\n",
       "<ellipse fill=\"none\" stroke=\"black\" cx=\"1145\" cy=\"-90\" rx=\"27\" ry=\"18\"/>\n",
       "<text text-anchor=\"middle\" x=\"1145\" y=\"-86.3\" font-family=\"Times,serif\" font-size=\"14.00\">70</text>\n",
       "</g>\n",
       "<!-- 70&#45;&gt;1 -->\n",
       "<g id=\"edge9\" class=\"edge\">\n",
       "<title>70&#45;&gt;1</title>\n",
       "<path fill=\"none\" stroke=\"black\" d=\"M1120.14,-97.48C1105.85,-101.01 1087.51,-105.22 1071,-108 904.26,-136.13 702.76,-152.53 621.08,-158.46\"/>\n",
       "<polygon fill=\"black\" stroke=\"black\" points=\"620.54,-154.99 610.81,-159.19 621.04,-161.97 620.54,-154.99\"/>\n",
       "</g>\n",
       "<!-- 70&#45;&gt;0 -->\n",
       "<g id=\"edge1\" class=\"edge\">\n",
       "<title>70&#45;&gt;0</title>\n",
       "<path fill=\"none\" stroke=\"black\" d=\"M1142.31,-107.92C1138.07,-128.57 1127.71,-162.85 1104,-180 1035.88,-229.28 773.99,-233.52 676.16,-233.34\"/>\n",
       "<polygon fill=\"black\" stroke=\"black\" points=\"676.14,-229.84 666.13,-233.3 676.12,-236.84 676.14,-229.84\"/>\n",
       "</g>\n",
       "<!-- 71 -->\n",
       "<g id=\"node12\" class=\"node\">\n",
       "<title>71</title>\n",
       "<ellipse fill=\"none\" stroke=\"black\" cx=\"1099\" cy=\"-18\" rx=\"27\" ry=\"18\"/>\n",
       "<text text-anchor=\"middle\" x=\"1099\" y=\"-14.3\" font-family=\"Times,serif\" font-size=\"14.00\">71</text>\n",
       "</g>\n",
       "<!-- 71&#45;&gt;70 -->\n",
       "<g id=\"edge22\" class=\"edge\">\n",
       "<title>71&#45;&gt;70</title>\n",
       "<path fill=\"none\" stroke=\"black\" d=\"M1109.44,-34.88C1115.2,-43.66 1122.48,-54.74 1128.96,-64.58\"/>\n",
       "<polygon fill=\"black\" stroke=\"black\" points=\"1126.19,-66.74 1134.6,-73.18 1132.04,-62.9 1126.19,-66.74\"/>\n",
       "</g>\n",
       "<!-- 71&#45;&gt;0 -->\n",
       "<g id=\"edge31\" class=\"edge\">\n",
       "<title>71&#45;&gt;0</title>\n",
       "<path fill=\"none\" stroke=\"black\" d=\"M1097.88,-36.22C1095.72,-55.9 1089.42,-87.97 1071,-108 1016.48,-167.28 769.29,-212.19 675.36,-227.4\"/>\n",
       "<polygon fill=\"black\" stroke=\"black\" points=\"674.53,-223.99 665.2,-229.02 675.63,-230.9 674.53,-223.99\"/>\n",
       "</g>\n",
       "<!-- 72 -->\n",
       "<g id=\"node13\" class=\"node\">\n",
       "<title>72</title>\n",
       "<ellipse fill=\"none\" stroke=\"black\" cx=\"1190\" cy=\"-18\" rx=\"27\" ry=\"18\"/>\n",
       "<text text-anchor=\"middle\" x=\"1190\" y=\"-14.3\" font-family=\"Times,serif\" font-size=\"14.00\">72</text>\n",
       "</g>\n",
       "<!-- 72&#45;&gt;70 -->\n",
       "<g id=\"edge4\" class=\"edge\">\n",
       "<title>72&#45;&gt;70</title>\n",
       "<path fill=\"none\" stroke=\"black\" d=\"M1179.79,-34.88C1174.15,-43.66 1167.03,-54.74 1160.7,-64.58\"/>\n",
       "<polygon fill=\"black\" stroke=\"black\" points=\"1157.63,-62.87 1155.17,-73.18 1163.52,-66.66 1157.63,-62.87\"/>\n",
       "</g>\n",
       "<!-- 72&#45;&gt;0 -->\n",
       "<g id=\"edge18\" class=\"edge\">\n",
       "<title>72&#45;&gt;0</title>\n",
       "<path fill=\"none\" stroke=\"black\" d=\"M1190.73,-36.29C1190.94,-54.64 1189.66,-84.21 1181,-108 1167.76,-144.37 1165.2,-160.09 1132,-180 1055.17,-226.07 777.39,-232.26 676.2,-232.97\"/>\n",
       "<polygon fill=\"black\" stroke=\"black\" points=\"676.12,-229.47 666.14,-233.02 676.16,-236.47 676.12,-229.47\"/>\n",
       "</g>\n",
       "<!-- 75 -->\n",
       "<g id=\"node14\" class=\"node\">\n",
       "<title>75</title>\n",
       "<ellipse fill=\"none\" stroke=\"black\" cx=\"675\" cy=\"-90\" rx=\"27\" ry=\"18\"/>\n",
       "<text text-anchor=\"middle\" x=\"675\" y=\"-86.3\" font-family=\"Times,serif\" font-size=\"14.00\">75</text>\n",
       "</g>\n",
       "<!-- 75&#45;&gt;1 -->\n",
       "<g id=\"edge27\" class=\"edge\">\n",
       "<title>75&#45;&gt;1</title>\n",
       "<path fill=\"none\" stroke=\"black\" d=\"M657.88,-104.17C644.16,-114.73 624.69,-129.7 609.18,-141.63\"/>\n",
       "<polygon fill=\"black\" stroke=\"black\" points=\"606.83,-139.02 601.04,-147.89 611.1,-144.57 606.83,-139.02\"/>\n",
       "</g>\n",
       "<!-- 75&#45;&gt;0 -->\n",
       "<g id=\"edge19\" class=\"edge\">\n",
       "<title>75&#45;&gt;0</title>\n",
       "<path fill=\"none\" stroke=\"black\" d=\"M670.73,-107.85C664.56,-132.19 653.09,-177.43 645.76,-206.33\"/>\n",
       "<polygon fill=\"black\" stroke=\"black\" points=\"642.33,-205.62 643.27,-216.18 649.12,-207.34 642.33,-205.62\"/>\n",
       "</g>\n",
       "<!-- 76 -->\n",
       "<g id=\"node15\" class=\"node\">\n",
       "<title>76</title>\n",
       "<ellipse fill=\"none\" stroke=\"black\" cx=\"747\" cy=\"-90\" rx=\"27\" ry=\"18\"/>\n",
       "<text text-anchor=\"middle\" x=\"747\" y=\"-86.3\" font-family=\"Times,serif\" font-size=\"14.00\">76</text>\n",
       "</g>\n",
       "<!-- 76&#45;&gt;1 -->\n",
       "<g id=\"edge12\" class=\"edge\">\n",
       "<title>76&#45;&gt;1</title>\n",
       "<path fill=\"none\" stroke=\"black\" d=\"M725.75,-101.23C720.92,-103.5 715.8,-105.87 711,-108 678.86,-122.28 641.7,-137.66 615.91,-148.16\"/>\n",
       "<polygon fill=\"black\" stroke=\"black\" points=\"614.57,-144.92 606.62,-151.93 617.2,-151.41 614.57,-144.92\"/>\n",
       "</g>\n",
       "<!-- 76&#45;&gt;0 -->\n",
       "<g id=\"edge2\" class=\"edge\">\n",
       "<title>76&#45;&gt;0</title>\n",
       "<path fill=\"none\" stroke=\"black\" d=\"M735.24,-106.47C716.33,-131.33 679.05,-180.34 656.85,-209.53\"/>\n",
       "<polygon fill=\"black\" stroke=\"black\" points=\"654.02,-207.47 650.75,-217.55 659.59,-211.71 654.02,-207.47\"/>\n",
       "</g>\n",
       "<!-- 78 -->\n",
       "<g id=\"node16\" class=\"node\">\n",
       "<title>78</title>\n",
       "<ellipse fill=\"none\" stroke=\"black\" cx=\"819\" cy=\"-90\" rx=\"27\" ry=\"18\"/>\n",
       "<text text-anchor=\"middle\" x=\"819\" y=\"-86.3\" font-family=\"Times,serif\" font-size=\"14.00\">78</text>\n",
       "</g>\n",
       "<!-- 78&#45;&gt;1 -->\n",
       "<g id=\"edge29\" class=\"edge\">\n",
       "<title>78&#45;&gt;1</title>\n",
       "<path fill=\"none\" stroke=\"black\" d=\"M797.95,-101.72C793.11,-103.96 787.93,-106.2 783,-108 727.09,-128.45 659.73,-144.72 619.46,-153.6\"/>\n",
       "<polygon fill=\"black\" stroke=\"black\" points=\"618.61,-150.2 609.58,-155.74 620.1,-157.04 618.61,-150.2\"/>\n",
       "</g>\n",
       "<!-- 78&#45;&gt;0 -->\n",
       "<g id=\"edge24\" class=\"edge\">\n",
       "<title>78&#45;&gt;0</title>\n",
       "<path fill=\"none\" stroke=\"black\" d=\"M802.34,-104.32C780.5,-121.76 740.96,-153.27 707,-180 692.82,-191.16 676.91,-203.57 664.05,-213.57\"/>\n",
       "<polygon fill=\"black\" stroke=\"black\" points=\"661.83,-210.86 656.08,-219.76 666.13,-216.39 661.83,-210.86\"/>\n",
       "</g>\n",
       "<!-- 80 -->\n",
       "<g id=\"node17\" class=\"node\">\n",
       "<title>80</title>\n",
       "<ellipse fill=\"none\" stroke=\"black\" cx=\"891\" cy=\"-90\" rx=\"27\" ry=\"18\"/>\n",
       "<text text-anchor=\"middle\" x=\"891\" y=\"-86.3\" font-family=\"Times,serif\" font-size=\"14.00\">80</text>\n",
       "</g>\n",
       "<!-- 80&#45;&gt;1 -->\n",
       "<g id=\"edge35\" class=\"edge\">\n",
       "<title>80&#45;&gt;1</title>\n",
       "<path fill=\"none\" stroke=\"black\" d=\"M870.42,-101.79C865.47,-104.08 860.12,-106.32 855,-108 773.61,-134.72 673.81,-149.96 620.95,-156.73\"/>\n",
       "<polygon fill=\"black\" stroke=\"black\" points=\"620.2,-153.29 610.71,-158.01 621.07,-160.24 620.2,-153.29\"/>\n",
       "</g>\n",
       "<!-- 80&#45;&gt;0 -->\n",
       "<g id=\"edge33\" class=\"edge\">\n",
       "<title>80&#45;&gt;0</title>\n",
       "<path fill=\"none\" stroke=\"black\" d=\"M872.09,-102.95C844.19,-120.46 790.2,-153.83 743,-180 718.56,-193.55 690.28,-207.88 669.38,-218.22\"/>\n",
       "<polygon fill=\"black\" stroke=\"black\" points=\"667.77,-215.11 660.34,-222.67 670.86,-221.39 667.77,-215.11\"/>\n",
       "</g>\n",
       "<!-- 81 -->\n",
       "<g id=\"node18\" class=\"node\">\n",
       "<title>81</title>\n",
       "<ellipse fill=\"none\" stroke=\"black\" cx=\"963\" cy=\"-90\" rx=\"27\" ry=\"18\"/>\n",
       "<text text-anchor=\"middle\" x=\"963\" y=\"-86.3\" font-family=\"Times,serif\" font-size=\"14.00\">81</text>\n",
       "</g>\n",
       "<!-- 81&#45;&gt;1 -->\n",
       "<g id=\"edge28\" class=\"edge\">\n",
       "<title>81&#45;&gt;1</title>\n",
       "<path fill=\"none\" stroke=\"black\" d=\"M942.47,-101.94C937.51,-104.23 932.15,-106.42 927,-108 818.89,-141.12 684.98,-154.16 621.18,-158.76\"/>\n",
       "<polygon fill=\"black\" stroke=\"black\" points=\"620.56,-155.3 610.83,-159.48 621.05,-162.28 620.56,-155.3\"/>\n",
       "</g>\n",
       "<!-- 81&#45;&gt;0 -->\n",
       "<g id=\"edge21\" class=\"edge\">\n",
       "<title>81&#45;&gt;0</title>\n",
       "<path fill=\"none\" stroke=\"black\" d=\"M942.93,-102.28C910.81,-120.09 845.62,-155.22 788,-180 749.25,-196.66 703.35,-212.41 672.83,-222.35\"/>\n",
       "<polygon fill=\"black\" stroke=\"black\" points=\"671.55,-219.08 663.11,-225.49 673.7,-225.75 671.55,-219.08\"/>\n",
       "</g>\n",
       "<!-- 82 -->\n",
       "<g id=\"node19\" class=\"node\">\n",
       "<title>82</title>\n",
       "<ellipse fill=\"none\" stroke=\"black\" cx=\"1035\" cy=\"-90\" rx=\"27\" ry=\"18\"/>\n",
       "<text text-anchor=\"middle\" x=\"1035\" y=\"-86.3\" font-family=\"Times,serif\" font-size=\"14.00\">82</text>\n",
       "</g>\n",
       "<!-- 82&#45;&gt;1 -->\n",
       "<g id=\"edge13\" class=\"edge\">\n",
       "<title>82&#45;&gt;1</title>\n",
       "<path fill=\"none\" stroke=\"black\" d=\"M1014.5,-102.04C1009.54,-104.32 1004.18,-106.49 999,-108 863.77,-147.49 695.22,-157.56 621.48,-160.13\"/>\n",
       "<polygon fill=\"black\" stroke=\"black\" points=\"621.18,-156.64 611.3,-160.45 621.41,-163.63 621.18,-156.64\"/>\n",
       "</g>\n",
       "<!-- 82&#45;&gt;0 -->\n",
       "<g id=\"edge3\" class=\"edge\">\n",
       "<title>82&#45;&gt;0</title>\n",
       "<path fill=\"none\" stroke=\"black\" d=\"M1013.71,-101.13C1008.88,-103.41 1003.77,-105.8 999,-108 928.19,-140.65 912.49,-153.93 839,-180 782.48,-200.05 714.61,-216.49 674.24,-225.5\"/>\n",
       "<polygon fill=\"black\" stroke=\"black\" points=\"673.36,-222.11 664.34,-227.69 674.86,-228.95 673.36,-222.11\"/>\n",
       "</g>\n",
       "</g>\n",
       "</svg>\n"
      ],
      "text/plain": [
       "<graphviz.graphs.Digraph at 0x7f45ea4f7220>"
      ]
     },
     "metadata": {},
     "output_type": "display_data"
    }
   ],
   "source": [
    "display(tree)"
   ]
  },
  {
   "cell_type": "code",
   "execution_count": null,
   "id": "98c3e50e-3477-4487-836b-fb1b1c2e0f7a",
   "metadata": {},
   "outputs": [],
   "source": []
  }
 ],
 "metadata": {
  "kernelspec": {
   "display_name": "Python 3 (ipykernel)",
   "language": "python",
   "name": "python3"
  },
  "language_info": {
   "codemirror_mode": {
    "name": "ipython",
    "version": 3
   },
   "file_extension": ".py",
   "mimetype": "text/x-python",
   "name": "python",
   "nbconvert_exporter": "python",
   "pygments_lexer": "ipython3",
   "version": "3.10.6"
  }
 },
 "nbformat": 4,
 "nbformat_minor": 5
}
