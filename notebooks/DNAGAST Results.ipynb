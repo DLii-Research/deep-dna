{
 "cells": [
  {
   "cell_type": "code",
   "execution_count": 1,
   "id": "c9b8f20c-9e56-43c2-8329-e66f7437083c",
   "metadata": {},
   "outputs": [],
   "source": [
    "import os\n",
    "os.environ[\"TF_CPP_MIN_LOG_LEVEL\"] = '2'"
   ]
  },
  {
   "cell_type": "code",
   "execution_count": 45,
   "id": "b6daa1aa-8cbc-44f7-a9fa-2745599a7a0d",
   "metadata": {},
   "outputs": [],
   "source": [
    "import bootstrap\n",
    "import json\n",
    "import matplotlib\n",
    "import matplotlib.pyplot as plt\n",
    "import numpy as np\n",
    "import os\n",
    "import pandas as pd\n",
    "import pickle\n",
    "import time\n",
    "import tensorflow as tf\n",
    "import tensorflow.keras as keras\n",
    "import tf_utils as tfu\n",
    "from scipy.spatial import KDTree\n",
    "from scipy import stats\n",
    "import wandb\n",
    "\n",
    "from common.models import dnabert, dnagast, gast\n",
    "from common.metrics import chamfer_distance_matrix, chamfer_distance_extend_matrix, mds, mds_stress_analysis\n",
    "from common.data import find_dbs, DnaSampleGenerator, DnaLabelType\n",
    "from common.utils import plt_to_image"
   ]
  },
  {
   "cell_type": "markdown",
   "id": "65cde0da-7ec7-4c69-8e4a-7859bff88a7f",
   "metadata": {},
   "source": [
    "## Configuration"
   ]
  },
  {
   "cell_type": "code",
   "execution_count": 105,
   "id": "87d65f7c-25f7-415d-85a4-540966ad4a9f",
   "metadata": {},
   "outputs": [],
   "source": [
    "N = 10 # Number of groups for confidence intervals\n",
    "control_subsamples_per_sample = 10\n",
    "test_subsamples_per_sample = 10"
   ]
  },
  {
   "cell_type": "code",
   "execution_count": 4,
   "id": "d27cf4be-08ed-4abf-b9fd-a2046b7e0772",
   "metadata": {},
   "outputs": [
    {
     "data": {
      "text/plain": [
       "[<matplotlib.lines.Line2D at 0x7f6ed4ec7610>]"
      ]
     },
     "execution_count": 4,
     "metadata": {},
     "output_type": "execute_result"
    },
    {
     "data": {
      "image/png": "[encoded data removed]",
      "text/plain": [
       "<Figure size 432x288 with 1 Axes>"
      ]
     },
     "metadata": {
      "needs_background": "light"
     },
     "output_type": "display_data"
    }
   ],
   "source": [
    "# Must plot before changing config otherwise plots won't display...\n",
    "plt.plot([], [])"
   ]
  },
  {
   "cell_type": "code",
   "execution_count": 5,
   "id": "6047f834-48a4-4902-93e8-eb9734da06b3",
   "metadata": {},
   "outputs": [],
   "source": [
    "matplotlib.use(\"pgf\")\n",
    "matplotlib.rcParams.update({\n",
    "    \"pgf.texsystem\": \"pdflatex\",\n",
    "    'font.family': 'serif',\n",
    "    'text.usetex': True,\n",
    "    'pgf.rcfonts': False,\n",
    "})"
   ]
  },
  {
   "cell_type": "code",
   "execution_count": 6,
   "id": "5b0a6b53-45c6-402b-9d57-9ea967eddb39",
   "metadata": {},
   "outputs": [],
   "source": [
    "strategy = tfu.strategy.gpu(0)"
   ]
  },
  {
   "cell_type": "markdown",
   "id": "faa4c080-b4ea-4bff-b132-15e2394345c0",
   "metadata": {},
   "source": [
    "## Connect to W&B"
   ]
  },
  {
   "cell_type": "code",
   "execution_count": 7,
   "id": "a9b33789-3e4e-4287-aea4-477832b2b0d2",
   "metadata": {},
   "outputs": [],
   "source": [
    "api = wandb.Api()"
   ]
  },
  {
   "cell_type": "markdown",
   "id": "5b2d0485-0531-4a6c-a128-a1b66df8f651",
   "metadata": {},
   "source": [
    "## Fetch DNABERT Model\n",
    "\n",
    "Here we download the DNABERT model used with each of the DNAGAST models to embed the DNA sequences."
   ]
  },
  {
   "cell_type": "code",
   "execution_count": 8,
   "id": "cea8ce63-a65a-462f-b8a6-359dcd8a553a",
   "metadata": {},
   "outputs": [
    {
     "data": {
      "text/plain": [
       "'./artifacts/dnabert-pretrain-8dim:v0'"
      ]
     },
     "execution_count": 8,
     "metadata": {},
     "output_type": "execute_result"
    }
   ],
   "source": [
    "path = api.artifact(\"sirdavidludwig/dnabert-pretrain/dnabert-pretrain-8dim:latest\").download()\n",
    "path"
   ]
  },
  {
   "cell_type": "code",
   "execution_count": 9,
   "id": "d0be47e1-8bd0-4e9b-8810-d24cca223245",
   "metadata": {},
   "outputs": [],
   "source": [
    "dnabert_pretrain = dnabert.DnaBertPretrainModel.load(path)\n",
    "dnabert_pretrain.load_weights(path + \"/model.h5\") # load weights while MHA bug exists\n",
    "dnabert_encoder = dnabert.DnaBertEncoderModel(dnabert_pretrain.base, use_kmer_encoder=True)"
   ]
  },
  {
   "cell_type": "markdown",
   "id": "1cb10645-3e97-4cb8-8c08-8ca90756e24c",
   "metadata": {},
   "source": [
    "## Fetch Samples\n",
    "\n",
    "Next, we download the DNA dataset that was used."
   ]
  },
  {
   "cell_type": "code",
   "execution_count": 10,
   "id": "637609e9-5df4-45eb-8501-631a7005409d",
   "metadata": {},
   "outputs": [
    {
     "name": "stderr",
     "output_type": "stream",
     "text": [
      "\u001b[34m\u001b[1mwandb\u001b[0m: Downloading large artifact dnasamples-complete:v0, 4079.09MB. 420 files... Done. 0:0:0.0\n"
     ]
    },
    {
     "data": {
      "text/plain": [
       "'./artifacts/dnasamples-complete:v0'"
      ]
     },
     "execution_count": 10,
     "metadata": {},
     "output_type": "execute_result"
    }
   ],
   "source": [
    "samples_path = api.artifact(\"sirdavidludwig/nachusa-dna/dnasamples-complete:v0\").download()\n",
    "samples_path"
   ]
  },
  {
   "cell_type": "code",
   "execution_count": 11,
   "id": "530b76d3-e49e-49dd-8df1-9a1d75093ac3",
   "metadata": {},
   "outputs": [
    {
     "data": {
      "text/plain": [
       "210"
      ]
     },
     "execution_count": 11,
     "metadata": {},
     "output_type": "execute_result"
    }
   ],
   "source": [
    "sample_files = find_dbs(samples_path)\n",
    "len(sample_files)"
   ]
  },
  {
   "cell_type": "markdown",
   "id": "27566c18-3e4e-41c9-b085-bb07af08c834",
   "metadata": {},
   "source": [
    "Because of the seeded runs of DNAGAST, the following samples were selected pseudo-randomly from the complete dataset."
   ]
  },
  {
   "cell_type": "code",
   "execution_count": 106,
   "id": "e05f4907-7245-4f61-bc06-071bb1aa7171",
   "metadata": {},
   "outputs": [],
   "source": [
    "eval_samples = [\n",
    "    \"Wes34-8-L_S35\",\n",
    "    \"WS-CCE-Sep2015_S60\",\n",
    "    \"Wes33-8-TC_S34\",\n",
    "    \"WS-MR-Sep2015_S67\",\n",
    "    \"Wesley026-Ag-072820_S165\"\n",
    "]"
   ]
  },
  {
   "cell_type": "code",
   "execution_count": 107,
   "id": "25f1b1b2-a787-4d88-9867-549b29c500c3",
   "metadata": {},
   "outputs": [
    {
     "data": {
      "text/plain": [
       "['./artifacts/dnasamples-complete:v0/train/Wes34-8-L_S35_L001_R1_001.db',\n",
       " './artifacts/dnasamples-complete:v0/train/WS-CCE-Sep2015_S60_L001_R1_001.db',\n",
       " './artifacts/dnasamples-complete:v0/train/Wes33-8-TC_S34_L001_R1_001.db',\n",
       " './artifacts/dnasamples-complete:v0/train/WS-MR-Sep2015_S67_L001_R1_001.db',\n",
       " './artifacts/dnasamples-complete:v0/train/Wesley026-Ag-072820_S165_L001_R1_001.db']"
      ]
     },
     "execution_count": 107,
     "metadata": {},
     "output_type": "execute_result"
    }
   ],
   "source": [
    "samples = [f for s in eval_samples for f in sample_files if s in f]\n",
    "samples"
   ]
  },
  {
   "cell_type": "markdown",
   "id": "7947e675-f27c-4d0e-a2b3-2ce3678d5d38",
   "metadata": {},
   "source": [
    "## Generate Control Samples\n",
    "\n",
    "Now we need to generate some control subsamples from the original data, embed them using DNABERT, and compute a chamfer distance matrix."
   ]
  },
  {
   "cell_type": "code",
   "execution_count": 108,
   "id": "8db9d43f-f868-4dec-9aca-444b1d950de2",
   "metadata": {},
   "outputs": [
    {
     "data": {
      "text/plain": [
       "(10, 5, 10, 1000, 150)"
      ]
     },
     "execution_count": 108,
     "metadata": {},
     "output_type": "execute_result"
    }
   ],
   "source": [
    "subsamples = []\n",
    "for i in range(N):\n",
    "    subsamples.append([])\n",
    "    for sample in samples:\n",
    "        batch = DnaSampleGenerator([sample], sequence_length=150, subsample_length=1000, batch_size=10, batches_per_epoch=1)[0]\n",
    "        subsamples[-1].append(batch)\n",
    "subsamples = np.array(subsamples)\n",
    "subsamples.shape"
   ]
  },
  {
   "cell_type": "code",
   "execution_count": 109,
   "id": "d5d406e2-7967-423f-858b-edae9bc2c27a",
   "metadata": {},
   "outputs": [
    {
     "data": {
      "text/plain": [
       "10"
      ]
     },
     "execution_count": 109,
     "metadata": {},
     "output_type": "execute_result"
    }
   ],
   "source": [
    "subsamples_encoded = dnabert_encoder.predict(\n",
    "    subsamples.reshape((-1, 150)),\n",
    "    batch_size=512)\n",
    "shape = (N, -1, 1000, dnabert_encoder.base.embed_dim)\n",
    "control_samples = [[KDTree(s) for s in g] for g in np.reshape(subsamples_encoded, shape)]\n",
    "len(control_samples)"
   ]
  },
  {
   "cell_type": "code",
   "execution_count": 110,
   "id": "2b634740-db79-4d61-a1ee-dcb71aee7d56",
   "metadata": {},
   "outputs": [
    {
     "data": {
      "text/plain": [
       "50"
      ]
     },
     "execution_count": 110,
     "metadata": {},
     "output_type": "execute_result"
    }
   ],
   "source": [
    "len(control_samples[0])"
   ]
  },
  {
   "cell_type": "code",
   "execution_count": 111,
   "id": "3691a4c8-fc2b-4da4-b4b5-1a1c9fb1cc7f",
   "metadata": {},
   "outputs": [
    {
     "name": "stdout",
     "output_type": "stream",
     "text": [
      "10/10"
     ]
    }
   ],
   "source": [
    "control_dist_mats = []\n",
    "for i, group in enumerate(control_samples):\n",
    "    print(f\"\\r{i+1}/{N}\", end=\"\")\n",
    "    control_dist_mats.append(chamfer_distance_matrix(group, p=1, workers=16))"
   ]
  },
  {
   "cell_type": "markdown",
   "id": "fa4c4edc-9535-493d-8e28-ea5ebefffa2e",
   "metadata": {},
   "source": [
    "## DNAGAST\n",
    "\n",
    "Next we must download and load the various DNAGAST models we wish to evaluate."
   ]
  },
  {
   "cell_type": "code",
   "execution_count": 112,
   "id": "d952bd9c-e286-4e0f-8f16-baa038991d21",
   "metadata": {},
   "outputs": [],
   "source": [
    "prefix = \"./tmp\""
   ]
  },
  {
   "cell_type": "code",
   "execution_count": 19,
   "id": "e2244e38-2713-45f5-aaa6-8d1c989723e1",
   "metadata": {},
   "outputs": [],
   "source": [
    "file_names = [\n",
    "    \"model.data\",\n",
    "    \"model.h5\",\n",
    "    \"model/keras_metadata.pb\",\n",
    "    \"model/saved_model.pb\",\n",
    "    \"model/variables/variables.data-00000-of-00001\",\n",
    "    \"model/variables/variables.index\"\n",
    "]"
   ]
  },
  {
   "cell_type": "code",
   "execution_count": 20,
   "id": "2d931bd6-d13b-40a8-ba2b-3eeb8c149c1c",
   "metadata": {},
   "outputs": [],
   "source": [
    "run_ids = {\n",
    "    \"dnagast\": \"sirdavidludwig/dnagast/i375c4wz\",\n",
    "    \"dnawgast\": \"sirdavidludwig/dnagast/19qcyd7b\",\n",
    "    \"dnaveegast\": \"sirdavidludwig/dnagast/1ptvzb6q\",\n",
    "    \"dnaveewgast\": \"sirdavidludwig/dnagast/2fs0re2k\"\n",
    "}"
   ]
  },
  {
   "cell_type": "code",
   "execution_count": 21,
   "id": "e63a0f2d-d45a-493f-baf7-edf59e6b34b3",
   "metadata": {},
   "outputs": [],
   "source": [
    "runs = {key: api.run(value) for key, value in run_ids.items()}"
   ]
  },
  {
   "cell_type": "code",
   "execution_count": 22,
   "id": "0d57a038-12ef-4a8d-b730-82a0fd61df20",
   "metadata": {},
   "outputs": [
    {
     "name": "stdout",
     "output_type": "stream",
     "text": [
      "./tmp/dnagast/model.data\n",
      "./tmp/dnagast/model.h5\n",
      "./tmp/dnagast/model/keras_metadata.pb\n",
      "./tmp/dnagast/model/saved_model.pb\n",
      "./tmp/dnagast/model/variables/variables.data-00000-of-00001\n",
      "./tmp/dnagast/model/variables/variables.index\n",
      "./tmp/dnawgast/model.data\n",
      "./tmp/dnawgast/model.h5\n",
      "./tmp/dnawgast/model/keras_metadata.pb\n",
      "./tmp/dnawgast/model/saved_model.pb\n",
      "./tmp/dnawgast/model/variables/variables.data-00000-of-00001\n",
      "./tmp/dnawgast/model/variables/variables.index\n",
      "./tmp/dnaveegast/model.data\n",
      "./tmp/dnaveegast/model.h5\n",
      "./tmp/dnaveegast/model/keras_metadata.pb\n",
      "./tmp/dnaveegast/model/saved_model.pb\n",
      "./tmp/dnaveegast/model/variables/variables.data-00000-of-00001\n",
      "./tmp/dnaveegast/model/variables/variables.index\n",
      "./tmp/dnaveewgast/model.data\n",
      "./tmp/dnaveewgast/model.h5\n",
      "./tmp/dnaveewgast/model/keras_metadata.pb\n",
      "./tmp/dnaveewgast/model/saved_model.pb\n",
      "./tmp/dnaveewgast/model/variables/variables.data-00000-of-00001\n",
      "./tmp/dnaveewgast/model/variables/variables.index\n"
     ]
    }
   ],
   "source": [
    "for key, run in runs.items():\n",
    "    for f in run.files(names=file_names):\n",
    "        path_to = os.path.join(prefix, key)\n",
    "        print(os.path.join(path_to, f.name))\n",
    "        f.download(path_to, replace=True)"
   ]
  },
  {
   "cell_type": "code",
   "execution_count": 23,
   "id": "d6343566-f80e-40e3-b9b6-eddab5cf405e",
   "metadata": {},
   "outputs": [
    {
     "name": "stdout",
     "output_type": "stream",
     "text": [
      "dnagast\n",
      "dnawgast\n",
      "dnaveegast\n",
      "dnaveewgast\n"
     ]
    }
   ],
   "source": [
    "models = {}\n",
    "for key in runs:\n",
    "    print(key)\n",
    "    models[key] = dnagast.DnaSampleConditionalWGan.load(os.path.join(prefix, key, \"model\"))\n",
    "    # try:\n",
    "    #     models[key].load_weights(os.path.join(prefix, key, \"model.h5\"))\n",
    "    # except:\n",
    "    #     print(\"  Trying pickled weights...\")\n",
    "    # with open(os.path.join(prefix, key, \"model.data\"), \"rb\") as f:\n",
    "    #     models[key].set_weights(pickle.load(f))"
   ]
  },
  {
   "cell_type": "code",
   "execution_count": 228,
   "id": "8f5de9b7-2437-4cb6-a057-1d2f9582231c",
   "metadata": {},
   "outputs": [
    {
     "name": "stdout",
     "output_type": "stream",
     "text": [
      "dnaveewgast: 10/10"
     ]
    }
   ],
   "source": [
    "distance_matrices = {}\n",
    "for key in models:\n",
    "    distance_matrices[key] = []\n",
    "    for i in range(N):\n",
    "        print(f\"\\r{key}: {i+1}/{N}\", end=\"\")\n",
    "        # Generate fake samples\n",
    "        test_labels = np.repeat(np.arange(len(samples)), test_subsamples_per_sample)\n",
    "        test_input = models[key].generator.generate_input(len(test_labels), labels=test_labels)\n",
    "        fake_samples = models[key].generator.predict(test_input)\n",
    "        fake_samples = [KDTree(s) for s in fake_samples]\n",
    "\n",
    "        # Compute the distances\n",
    "        distance_matrix = chamfer_distance_extend_matrix(\n",
    "            control_samples[i],\n",
    "            fake_samples,\n",
    "            control_dist_mats[i],\n",
    "            p=1,\n",
    "            workers=16)\n",
    "        distance_matrices[key].append(distance_matrix)"
   ]
  },
  {
   "cell_type": "code",
   "execution_count": 230,
   "id": "26e80900-68a9-484b-8f72-f7b7ffbf03a5",
   "metadata": {},
   "outputs": [],
   "source": [
    "pcas = []\n",
    "ax_min = np.inf\n",
    "ax_max = -np.inf\n",
    "for i, key in enumerate(models):\n",
    "    pca = mds(distance_matrices[key][0])[0]\n",
    "    ax_min = min(ax_min, np.min(pca))\n",
    "    ax_max = max(ax_max, np.max(pca))\n",
    "    pcas.append(pca)"
   ]
  },
  {
   "cell_type": "code",
   "execution_count": 235,
   "id": "494a3c18-a2f8-45d6-b4bc-3897feccc0e4",
   "metadata": {},
   "outputs": [
    {
     "data": {
      "image/png": "[encoded data removed]",
      "text/plain": [
       "<Figure size 576x576 with 4 Axes>"
      ]
     },
     "metadata": {
      "needs_background": "light"
     },
     "output_type": "display_data"
    }
   ],
   "source": [
    "fig, axs = plt.subplots(2, 2, figsize=(8, 8))\n",
    "\n",
    "legend_points = []\n",
    "\n",
    "legend_points.append(axs[0][0].scatter([], [], color=\"dimgrey\", marker='x'))\n",
    "legend_points.append(axs[0][0].scatter([], [], color=\"dimgrey\"))\n",
    "\n",
    "for i, key in enumerate(models):\n",
    "\n",
    "    ax = axs[i // 2][i % 2]\n",
    "\n",
    "    pca = pcas[i]\n",
    "    real, fake = pca[:len(control_samples[0])], pca[len(control_samples[0]):]\n",
    "    cmap = plt.get_cmap(\"tab10\")\n",
    "    scale = ax_max - ax_min\n",
    "    points = []\n",
    "    for j, offset in enumerate(range(0, len(real), control_subsamples_per_sample)):\n",
    "        data = real[offset:offset + control_subsamples_per_sample]\n",
    "        points = ax.scatter(*data.T, color=cmap(j), marker='x', s=20)\n",
    "        if i == 0:\n",
    "            legend_points.append(points)\n",
    "    for j, offset in enumerate(range(0, len(fake), test_subsamples_per_sample)):\n",
    "        data = fake[offset:offset + test_subsamples_per_sample]\n",
    "        points = ax.scatter(*data.T, color=cmap(j), s=10)\n",
    "        if i == 0:\n",
    "            legend_points.append(points)\n",
    "    # ax.legend(\n",
    "    #     [\"Real\", \"Synthetic\"] + [f\"Sample {i+1}\" for i in range(len(samples))],\n",
    "    #     loc=\"center left\",\n",
    "    #     bbox_to_anchor=(1.0, 0.5))\n",
    "    # ax.set_title(f\"MDS of Chamfer Distances Between DNA Samples (epoch {runs['dnawgast'].summary.epoch})\")\n",
    "    ax.set_title(f\"{key.upper()} MDS\")\n",
    "    pad = 0.05*scale\n",
    "    ax.set_xlim((ax_min - pad, ax_max + pad))\n",
    "    ax.set_ylim((ax_min - pad, ax_max + pad))\n",
    "    ax.set_xlabel(\"x-coordinate\")\n",
    "    ax.set_ylabel(\"y-coordinate\")\n",
    "    fig.suptitle(\"Metric Multi-dimensional Scaling (MDS) Projections of Real and Synthetic Samples\")\n",
    "    fig.legend(\n",
    "        legend_points,\n",
    "        [\"Real\", \"Synthetic\"] + [f\"Sample {i+1}\" for i in range(len(samples))],\n",
    "        ncol=len(legend_points),\n",
    "        loc=\"lower center\",\n",
    "        bbox_to_anchor=(0.5, -0.03))\n",
    "    fig.tight_layout()\n",
    "    fig.savefig(f\"../plots/dnagast_mds.pgf\", bbox_inches=\"tight\")\n",
    "    fig.show()"
   ]
  },
  {
   "cell_type": "code",
   "execution_count": 236,
   "id": "c5172a21-910b-4abb-ad34-e060af6b6043",
   "metadata": {},
   "outputs": [
    {
     "name": "stdout",
     "output_type": "stream",
     "text": [
      "dnaveewgast: 10/10"
     ]
    }
   ],
   "source": [
    "stresses = {}\n",
    "extended_distance_matrices = {}\n",
    "\n",
    "for key in models:\n",
    "    stress_list = []\n",
    "    for i in range(N):\n",
    "        print(f\"\\r{key}: {i+1}/{N}\", end=\"\")\n",
    "        stress_list.append(mds_stress_analysis(distance_matrices[key][i], dims=dnabert_encoder.base.embed_dim)[1])\n",
    "    stresses[key] = np.array(stress_list)"
   ]
  },
  {
   "cell_type": "code",
   "execution_count": 237,
   "id": "671f9698-a092-4962-a130-0d0436a91fa5",
   "metadata": {},
   "outputs": [
    {
     "data": {
      "text/plain": [
       "(10, 8)"
      ]
     },
     "execution_count": 237,
     "metadata": {},
     "output_type": "execute_result"
    }
   ],
   "source": [
    "data = np.array(stresses[\"dnawgast\"])\n",
    "data.shape"
   ]
  },
  {
   "cell_type": "code",
   "execution_count": 254,
   "id": "0bd5f2cf-c965-43ba-bf81-f5c2aecb111f",
   "metadata": {},
   "outputs": [
    {
     "data": {
      "image/png": "[encoded data removed]",
      "text/plain": [
       "<Figure size 432x252 with 1 Axes>"
      ]
     },
     "metadata": {
      "needs_background": "light"
     },
     "output_type": "display_data"
    }
   ],
   "source": [
    "plt.figure(figsize=(6, 3.5))\n",
    "for key, values in stresses.items():\n",
    "    x = np.arange(values.shape[-1]) + 1\n",
    "    mean = np.mean(values, axis=0)\n",
    "    std = np.std(values, axis=0)\n",
    "\n",
    "    ci = 1.96 * std/np.sqrt(N)\n",
    "\n",
    "    plt.plot(x, mean, label=key.upper())\n",
    "    plt.fill_between(x, mean - ci, mean + ci, alpha=0.5)\n",
    "plt.title(\"MDS Stress Scree Plot\")\n",
    "plt.legend()\n",
    "plt.xlabel(\"Number of Components/Dimensions\")\n",
    "plt.ylabel(\"Percent of Total Stress\")\n",
    "plt.savefig(\"../plots/dnagast_mds_scree.pgf\")\n",
    "plt.show()"
   ]
  },
  {
   "cell_type": "code",
   "execution_count": 242,
   "id": "30b21e8d-0030-4c01-80b9-e1bb34bc1e7c",
   "metadata": {},
   "outputs": [],
   "source": [
    "def partition_distance_matrix(distance_matrix):\n",
    "        n = control_subsamples_per_sample\n",
    "        m = test_subsamples_per_sample\n",
    "        N = n*len(samples)\n",
    "        dist_mats = np.empty((len(samples), n+m, n+m))\n",
    "        for i in range(0, len(samples)):\n",
    "            # Pull out matrix quadrants for common sample distances\n",
    "            # A/C = real, B/D = fake\n",
    "            A = distance_matrix[i*n:(i+1)*n,     i*n:(i+1)*n]     # top-left\n",
    "            B = distance_matrix[i*n:(i+1)*n,     N+i*m:N+(i+1)*m] # top-right\n",
    "            C = distance_matrix[N+i*m:N+(i+1)*m, i*n:(i+1)*n]     # bottom-left\n",
    "            D = distance_matrix[N+i*m:N+(i+1)*m, N+i*m:N+(i+1)*m] # bottom-right\n",
    "\n",
    "            # Merge into a single distance matrix\n",
    "            AB = np.concatenate((A, B), axis=1)\n",
    "            CD = np.concatenate((C, D), axis=1)\n",
    "            dist_mats[i] = np.concatenate((AB, CD), axis=0)\n",
    "        return dist_mats\n",
    "\n",
    "def compute_compactness(distance_matrices):\n",
    "        n = control_subsamples_per_sample\n",
    "        fns = {\"amean\": np.mean, \"gmean\": stats.gmean, \"hmean\": stats.hmean}\n",
    "        results = [{l: [] for l in fns} for i in range(len(samples))]\n",
    "        for distance_matrix in distance_matrices:\n",
    "            dist_mats = partition_distance_matrix(distance_matrix)\n",
    "            for i in range(len(samples)):\n",
    "                d = dist_mats[i]\n",
    "\n",
    "                real_to_real_subsamples = d[:n,:n][np.triu_indices(n, 1)]\n",
    "                fake_to_fake_subsamples = d[n:,n:][np.triu_indices(len(dist_mats[0]) - n, 1)]\n",
    "\n",
    "                for key, fn in fns.items():\n",
    "                    real = fn(real_to_real_subsamples)\n",
    "                    fake = fn(fake_to_fake_subsamples)\n",
    "                    results[i][key].append(real / fake)\n",
    "        return results\n",
    "\n",
    "def compute_spread(distance_matrices):\n",
    "    n = control_subsamples_per_sample*len(samples)\n",
    "    fns = {\"amean\": np.mean, \"gmean\": stats.gmean, \"hmean\": stats.hmean}\n",
    "    results = {l: [] for l in fns}\n",
    "\n",
    "    for distance_matrix in distance_matrices:\n",
    "        real_to_real_subsamples = distance_matrix[:n,:n][np.triu_indices(n, 1)]\n",
    "        fake_to_fake_subsamples = distance_matrix[n:,n:][np.triu_indices(len(distance_matrix) - n, 1)]\n",
    "\n",
    "        for key, fn in fns.items():\n",
    "            real = fn(real_to_real_subsamples)\n",
    "            fake = fn(fake_to_fake_subsamples)\n",
    "            results[key].append(real / fake)\n",
    "    return results"
   ]
  },
  {
   "cell_type": "code",
   "execution_count": 243,
   "id": "3e6d6ee0-8941-4534-ba7e-5f7c27024869",
   "metadata": {},
   "outputs": [],
   "source": [
    "compactness = {m: compute_compactness(distance_matrices[m]) for m in models}\n",
    "spread = {m: compute_spread(distance_matrices[m]) for m in models}"
   ]
  },
  {
   "cell_type": "code",
   "execution_count": 252,
   "id": "bfe72c14-4288-49b2-82a8-b11c6cf796fc",
   "metadata": {},
   "outputs": [
    {
     "data": {
      "image/png": "[encoded data removed]",
      "text/plain": [
       "<Figure size 720x432 with 2 Axes>"
      ]
     },
     "metadata": {
      "needs_background": "light"
     },
     "output_type": "display_data"
    }
   ],
   "source": [
    "x = np.arange(len(samples))\n",
    "group_width = 0.6\n",
    "width = group_width / len(models)\n",
    "cmap = plt.get_cmap(\"tab10\")\n",
    "\n",
    "plt.figure(figsize=(10, 6))\n",
    "plt.suptitle(\"Real/Fake Intra-cluster Mean Distance Ratios by Sample\")\n",
    "plt.subplot(211)\n",
    "for i, model in enumerate(models):\n",
    "    data = [compactness[model][j][\"gmean\"] for j in range(len(samples))]\n",
    "    boxplot = plt.boxplot(data, positions=x - group_width/2 + (2*i + 1)*width/2, notch=True, widths=width * 0.8)\n",
    "    plt.setp(boxplot[\"boxes\"], color=cmap(i))\n",
    "    plt.setp(boxplot[\"whiskers\"], color=cmap(i))\n",
    "    plt.setp(boxplot[\"caps\"], color=cmap(i))\n",
    "    plt.setp(boxplot[\"medians\"], color=\"#000000\")\n",
    "    plt.setp(boxplot[\"fliers\"], color=cmap(i))\n",
    "plt.title(\"Geometric Mean\")\n",
    "plt.xticks(x, [f\"Sample {j+1}\" for j in range(len(samples))])\n",
    "plt.grid(axis='y')\n",
    "\n",
    "plt.subplot(212)\n",
    "for i, model in enumerate(models):\n",
    "    data = [compactness[model][j][\"hmean\"] for j in range(len(samples))]\n",
    "    boxplot = plt.boxplot(data, positions=x - group_width/2 + (2*i + 1)*width/2, notch=True, widths=width * 0.8)\n",
    "    plt.setp(boxplot[\"boxes\"], color=cmap(i))\n",
    "    plt.setp(boxplot[\"whiskers\"], color=cmap(i))\n",
    "    plt.setp(boxplot[\"caps\"], color=cmap(i))\n",
    "    plt.setp(boxplot[\"medians\"], color=\"#000000\")\n",
    "    plt.setp(boxplot[\"fliers\"], color=cmap(i))\n",
    "\n",
    "plt.title(\"Harmonic Mean\")\n",
    "plt.xticks(x, [f\"Sample {j+1}\" for j in range(len(samples))])\n",
    "plt.grid(axis='y')\n",
    "\n",
    "legend_labels = []\n",
    "for model in models:\n",
    "    legend_labels.append(plt.plot([], label=model.upper()))\n",
    "\n",
    "plt.legend(loc=\"lower center\", ncol=len(models), bbox_to_anchor=(0.5, -0.3))\n",
    "plt.tight_layout()\n",
    "plt.savefig(\"../plots/dnagast_intra_distance.pgf\", bbox_inches=\"tight\")\n",
    "plt.show()"
   ]
  },
  {
   "cell_type": "code",
   "execution_count": 251,
   "id": "09bd483a-acac-40eb-b350-d73b62463f3c",
   "metadata": {},
   "outputs": [
    {
     "data": {
      "image/png": "[encoded data removed]",
      "text/plain": [
       "<Figure size 792x288 with 2 Axes>"
      ]
     },
     "metadata": {
      "needs_background": "light"
     },
     "output_type": "display_data"
    }
   ],
   "source": [
    "fig, (ax1, ax2) = plt.subplots(1, 2, figsize=(11, 4), sharex=True)\n",
    "\n",
    "ax1.boxplot([spread[m][\"gmean\"] for m in models], notch=True, vert=True, labels=[m.upper() for m in models], widths=0.25)\n",
    "ax1.set_title(\"Geometric Mean\")\n",
    "ax1.grid(axis='y')\n",
    "\n",
    "ax2.boxplot([spread[m][\"hmean\"] for m in models], notch=True, vert=True, labels=[m.upper() for m in models], widths=0.25)\n",
    "ax2.set_title(\"Harmonic Mean\")\n",
    "ax2.grid(axis='y')\n",
    "\n",
    "fig.suptitle(\"Real/Fake Inter-cluster Mean Distance Ratios\")\n",
    "fig.tight_layout()\n",
    "fig.savefig(\"../plots/dnagast_inter_distance.pgf\")\n",
    "fig.show()"
   ]
  },
  {
   "cell_type": "code",
   "execution_count": 44,
   "id": "791f6a5e-ec25-4b3f-b4e7-b7d0d496ce57",
   "metadata": {},
   "outputs": [
    {
     "name": "stdout",
     "output_type": "stream",
     "text": [
      "dnagast\n",
      "dnawgast\n",
      "dnaveegast\n",
      "dnaveewgast\n"
     ]
    }
   ],
   "source": [
    "compactness_artifacts = {}\n",
    "spread_artifacts = {}\n",
    "for key, run in runs.items():\n",
    "    print(key)\n",
    "    compactness_artifacts[key] = {}\n",
    "    spread_artifacts[key] = {}\n",
    "    for artifact in run.logged_artifacts():\n",
    "        if \"compactness_gmean\" in artifact.name:\n",
    "            compactness_artifacts[key][\"gmean\"] = artifact\n",
    "        elif \"compactness_hmean\" in artifact.name:\n",
    "            compactness_artifacts[key][\"hmean\"] = artifact\n",
    "        elif \"spread_gmean\" in artifact.name:\n",
    "            spread_artifacts[key][\"gmean\"] = artifact\n",
    "        elif \"spread_hmean\" in artifact.name:\n",
    "            spread_artifacts[key][\"hmean\"] = artifact"
   ]
  },
  {
   "cell_type": "code",
   "execution_count": 45,
   "id": "a65c9f5d-90ac-4a0e-b7b6-c8b5e35f9c28",
   "metadata": {},
   "outputs": [
    {
     "name": "stdout",
     "output_type": "stream",
     "text": [
      "dnagast\n",
      "dnawgast\n",
      "dnaveegast\n",
      "dnaveewgast\n"
     ]
    }
   ],
   "source": [
    "compactness_data = {}\n",
    "spread_data = {}\n",
    "for key in models:\n",
    "    print(key)\n",
    "    compactness_data[key] = {}\n",
    "    spread_data[key] = {}\n",
    "\n",
    "    # gmean compactness\n",
    "    path = compactness_artifacts[key][\"gmean\"].download(f\"./tmp/{key}/gmean\")\n",
    "    with open(os.path.join(path, \"compactness_gmean.table.json\")) as f:\n",
    "        data = json.load(f)\n",
    "        compactness_data[key][\"gmean\"] = pd.DataFrame(data=data[\"data\"], columns=data[\"columns\"])\n",
    "\n",
    "    # hmean compactness\n",
    "    path = compactness_artifacts[key][\"hmean\"].download(f\"./tmp/{key}/hmean\")\n",
    "    with open(os.path.join(path, \"compactness_hmean.table.json\")) as f:\n",
    "        data = json.load(f)\n",
    "        compactness_data[key][\"hmean\"] = pd.DataFrame(data=data[\"data\"], columns=data[\"columns\"])\n",
    "\n",
    "    # gmean spread\n",
    "    path = spread_artifacts[key][\"gmean\"].download(f\"./tmp/{key}/gmean\")\n",
    "    with open(os.path.join(path, \"spread_gmean.table.json\")) as f:\n",
    "        data = json.load(f)\n",
    "        spread_data[key][\"gmean\"] = pd.DataFrame(data=data[\"data\"], columns=data[\"columns\"])\n",
    "\n",
    "    # hmean spread\n",
    "    path = spread_artifacts[key][\"hmean\"].download(f\"./tmp/{key}/hmean\")\n",
    "    with open(os.path.join(path, \"spread_hmean.table.json\")) as f:\n",
    "        data = json.load(f)\n",
    "        spread_data[key][\"hmean\"] = pd.DataFrame(data=data[\"data\"], columns=data[\"columns\"])"
   ]
  },
  {
   "cell_type": "code",
   "execution_count": 46,
   "id": "dd3ee78c-2b02-4a0e-94b2-b30bee1bf386",
   "metadata": {},
   "outputs": [
    {
     "data": {
      "text/html": [
       "<div>\n",
       "<style scoped>\n",
       "    .dataframe tbody tr th:only-of-type {\n",
       "        vertical-align: middle;\n",
       "    }\n",
       "\n",
       "    .dataframe tbody tr th {\n",
       "        vertical-align: top;\n",
       "    }\n",
       "\n",
       "    .dataframe thead th {\n",
       "        text-align: right;\n",
       "    }\n",
       "</style>\n",
       "<table border=\"1\" class=\"dataframe\">\n",
       "  <thead>\n",
       "    <tr style=\"text-align: right;\">\n",
       "      <th></th>\n",
       "      <th>Real 1</th>\n",
       "      <th>Fake 1</th>\n",
       "      <th>Real/Fake Ratio 1</th>\n",
       "      <th>Real 2</th>\n",
       "      <th>Fake 2</th>\n",
       "      <th>Real/Fake Ratio 2</th>\n",
       "      <th>Real 3</th>\n",
       "      <th>Fake 3</th>\n",
       "      <th>Real/Fake Ratio 3</th>\n",
       "      <th>Real 4</th>\n",
       "      <th>Fake 4</th>\n",
       "      <th>Real/Fake Ratio 4</th>\n",
       "      <th>Real 5</th>\n",
       "      <th>Fake 5</th>\n",
       "      <th>Real/Fake Ratio 5</th>\n",
       "    </tr>\n",
       "  </thead>\n",
       "  <tbody>\n",
       "    <tr>\n",
       "      <th>0</th>\n",
       "      <td>2.076144</td>\n",
       "      <td>5.297346</td>\n",
       "      <td>0.391922</td>\n",
       "      <td>2.001346</td>\n",
       "      <td>4.197217</td>\n",
       "      <td>0.476827</td>\n",
       "      <td>2.14547</td>\n",
       "      <td>4.737832</td>\n",
       "      <td>0.452838</td>\n",
       "      <td>1.905806</td>\n",
       "      <td>4.852212</td>\n",
       "      <td>0.392771</td>\n",
       "      <td>2.216527</td>\n",
       "      <td>4.453680</td>\n",
       "      <td>0.497684</td>\n",
       "    </tr>\n",
       "    <tr>\n",
       "      <th>1</th>\n",
       "      <td>2.076144</td>\n",
       "      <td>5.603131</td>\n",
       "      <td>0.370533</td>\n",
       "      <td>2.001346</td>\n",
       "      <td>5.507965</td>\n",
       "      <td>0.363355</td>\n",
       "      <td>2.14547</td>\n",
       "      <td>5.618134</td>\n",
       "      <td>0.381883</td>\n",
       "      <td>1.905806</td>\n",
       "      <td>6.027078</td>\n",
       "      <td>0.316207</td>\n",
       "      <td>2.216527</td>\n",
       "      <td>6.443850</td>\n",
       "      <td>0.343976</td>\n",
       "    </tr>\n",
       "    <tr>\n",
       "      <th>2</th>\n",
       "      <td>2.076144</td>\n",
       "      <td>4.825969</td>\n",
       "      <td>0.430203</td>\n",
       "      <td>2.001346</td>\n",
       "      <td>5.572495</td>\n",
       "      <td>0.359147</td>\n",
       "      <td>2.14547</td>\n",
       "      <td>4.464425</td>\n",
       "      <td>0.480570</td>\n",
       "      <td>1.905806</td>\n",
       "      <td>5.530957</td>\n",
       "      <td>0.344571</td>\n",
       "      <td>2.216527</td>\n",
       "      <td>5.703167</td>\n",
       "      <td>0.388648</td>\n",
       "    </tr>\n",
       "    <tr>\n",
       "      <th>3</th>\n",
       "      <td>2.076144</td>\n",
       "      <td>8.097151</td>\n",
       "      <td>0.256404</td>\n",
       "      <td>2.001346</td>\n",
       "      <td>12.497309</td>\n",
       "      <td>0.160142</td>\n",
       "      <td>2.14547</td>\n",
       "      <td>11.075691</td>\n",
       "      <td>0.193710</td>\n",
       "      <td>1.905806</td>\n",
       "      <td>17.074757</td>\n",
       "      <td>0.111615</td>\n",
       "      <td>2.216527</td>\n",
       "      <td>23.341133</td>\n",
       "      <td>0.094962</td>\n",
       "    </tr>\n",
       "    <tr>\n",
       "      <th>4</th>\n",
       "      <td>2.076144</td>\n",
       "      <td>4.205277</td>\n",
       "      <td>0.493700</td>\n",
       "      <td>2.001346</td>\n",
       "      <td>5.428721</td>\n",
       "      <td>0.368659</td>\n",
       "      <td>2.14547</td>\n",
       "      <td>3.549505</td>\n",
       "      <td>0.604442</td>\n",
       "      <td>1.905806</td>\n",
       "      <td>4.689917</td>\n",
       "      <td>0.406363</td>\n",
       "      <td>2.216527</td>\n",
       "      <td>5.344561</td>\n",
       "      <td>0.414726</td>\n",
       "    </tr>\n",
       "    <tr>\n",
       "      <th>...</th>\n",
       "      <td>...</td>\n",
       "      <td>...</td>\n",
       "      <td>...</td>\n",
       "      <td>...</td>\n",
       "      <td>...</td>\n",
       "      <td>...</td>\n",
       "      <td>...</td>\n",
       "      <td>...</td>\n",
       "      <td>...</td>\n",
       "      <td>...</td>\n",
       "      <td>...</td>\n",
       "      <td>...</td>\n",
       "      <td>...</td>\n",
       "      <td>...</td>\n",
       "      <td>...</td>\n",
       "    </tr>\n",
       "    <tr>\n",
       "      <th>427</th>\n",
       "      <td>2.076144</td>\n",
       "      <td>0.910005</td>\n",
       "      <td>2.281465</td>\n",
       "      <td>2.001346</td>\n",
       "      <td>1.101738</td>\n",
       "      <td>1.816535</td>\n",
       "      <td>2.14547</td>\n",
       "      <td>1.272382</td>\n",
       "      <td>1.686184</td>\n",
       "      <td>1.905806</td>\n",
       "      <td>1.079503</td>\n",
       "      <td>1.765448</td>\n",
       "      <td>2.216527</td>\n",
       "      <td>1.107309</td>\n",
       "      <td>2.001725</td>\n",
       "    </tr>\n",
       "    <tr>\n",
       "      <th>428</th>\n",
       "      <td>2.076144</td>\n",
       "      <td>0.883100</td>\n",
       "      <td>2.350973</td>\n",
       "      <td>2.001346</td>\n",
       "      <td>1.114483</td>\n",
       "      <td>1.795762</td>\n",
       "      <td>2.14547</td>\n",
       "      <td>1.074873</td>\n",
       "      <td>1.996022</td>\n",
       "      <td>1.905806</td>\n",
       "      <td>1.081406</td>\n",
       "      <td>1.762341</td>\n",
       "      <td>2.216527</td>\n",
       "      <td>0.899077</td>\n",
       "      <td>2.465336</td>\n",
       "    </tr>\n",
       "    <tr>\n",
       "      <th>429</th>\n",
       "      <td>2.076144</td>\n",
       "      <td>0.989908</td>\n",
       "      <td>2.097310</td>\n",
       "      <td>2.001346</td>\n",
       "      <td>0.963467</td>\n",
       "      <td>2.077233</td>\n",
       "      <td>2.14547</td>\n",
       "      <td>1.277345</td>\n",
       "      <td>1.679633</td>\n",
       "      <td>1.905806</td>\n",
       "      <td>1.029725</td>\n",
       "      <td>1.850792</td>\n",
       "      <td>2.216527</td>\n",
       "      <td>1.002695</td>\n",
       "      <td>2.210570</td>\n",
       "    </tr>\n",
       "    <tr>\n",
       "      <th>430</th>\n",
       "      <td>2.076144</td>\n",
       "      <td>0.910151</td>\n",
       "      <td>2.281100</td>\n",
       "      <td>2.001346</td>\n",
       "      <td>0.965922</td>\n",
       "      <td>2.071953</td>\n",
       "      <td>2.14547</td>\n",
       "      <td>1.093077</td>\n",
       "      <td>1.962781</td>\n",
       "      <td>1.905806</td>\n",
       "      <td>0.924402</td>\n",
       "      <td>2.061663</td>\n",
       "      <td>2.216527</td>\n",
       "      <td>0.918343</td>\n",
       "      <td>2.413616</td>\n",
       "    </tr>\n",
       "    <tr>\n",
       "      <th>431</th>\n",
       "      <td>2.076144</td>\n",
       "      <td>0.869255</td>\n",
       "      <td>2.388418</td>\n",
       "      <td>2.001346</td>\n",
       "      <td>1.061505</td>\n",
       "      <td>1.885385</td>\n",
       "      <td>2.14547</td>\n",
       "      <td>1.008512</td>\n",
       "      <td>2.127363</td>\n",
       "      <td>1.905806</td>\n",
       "      <td>0.958954</td>\n",
       "      <td>1.987380</td>\n",
       "      <td>2.216527</td>\n",
       "      <td>0.865917</td>\n",
       "      <td>2.559745</td>\n",
       "    </tr>\n",
       "  </tbody>\n",
       "</table>\n",
       "<p>432 rows × 15 columns</p>\n",
       "</div>"
      ],
      "text/plain": [
       "       Real 1    Fake 1  Real/Fake Ratio 1    Real 2     Fake 2  \\\n",
       "0    2.076144  5.297346           0.391922  2.001346   4.197217   \n",
       "1    2.076144  5.603131           0.370533  2.001346   5.507965   \n",
       "2    2.076144  4.825969           0.430203  2.001346   5.572495   \n",
       "3    2.076144  8.097151           0.256404  2.001346  12.497309   \n",
       "4    2.076144  4.205277           0.493700  2.001346   5.428721   \n",
       "..        ...       ...                ...       ...        ...   \n",
       "427  2.076144  0.910005           2.281465  2.001346   1.101738   \n",
       "428  2.076144  0.883100           2.350973  2.001346   1.114483   \n",
       "429  2.076144  0.989908           2.097310  2.001346   0.963467   \n",
       "430  2.076144  0.910151           2.281100  2.001346   0.965922   \n",
       "431  2.076144  0.869255           2.388418  2.001346   1.061505   \n",
       "\n",
       "     Real/Fake Ratio 2   Real 3     Fake 3  Real/Fake Ratio 3    Real 4  \\\n",
       "0             0.476827  2.14547   4.737832           0.452838  1.905806   \n",
       "1             0.363355  2.14547   5.618134           0.381883  1.905806   \n",
       "2             0.359147  2.14547   4.464425           0.480570  1.905806   \n",
       "3             0.160142  2.14547  11.075691           0.193710  1.905806   \n",
       "4             0.368659  2.14547   3.549505           0.604442  1.905806   \n",
       "..                 ...      ...        ...                ...       ...   \n",
       "427           1.816535  2.14547   1.272382           1.686184  1.905806   \n",
       "428           1.795762  2.14547   1.074873           1.996022  1.905806   \n",
       "429           2.077233  2.14547   1.277345           1.679633  1.905806   \n",
       "430           2.071953  2.14547   1.093077           1.962781  1.905806   \n",
       "431           1.885385  2.14547   1.008512           2.127363  1.905806   \n",
       "\n",
       "        Fake 4  Real/Fake Ratio 4    Real 5     Fake 5  Real/Fake Ratio 5  \n",
       "0     4.852212           0.392771  2.216527   4.453680           0.497684  \n",
       "1     6.027078           0.316207  2.216527   6.443850           0.343976  \n",
       "2     5.530957           0.344571  2.216527   5.703167           0.388648  \n",
       "3    17.074757           0.111615  2.216527  23.341133           0.094962  \n",
       "4     4.689917           0.406363  2.216527   5.344561           0.414726  \n",
       "..         ...                ...       ...        ...                ...  \n",
       "427   1.079503           1.765448  2.216527   1.107309           2.001725  \n",
       "428   1.081406           1.762341  2.216527   0.899077           2.465336  \n",
       "429   1.029725           1.850792  2.216527   1.002695           2.210570  \n",
       "430   0.924402           2.061663  2.216527   0.918343           2.413616  \n",
       "431   0.958954           1.987380  2.216527   0.865917           2.559745  \n",
       "\n",
       "[432 rows x 15 columns]"
      ]
     },
     "execution_count": 46,
     "metadata": {},
     "output_type": "execute_result"
    }
   ],
   "source": [
    "compactness_data[key][\"gmean\"]"
   ]
  },
  {
   "cell_type": "code",
   "execution_count": 47,
   "id": "527866a4-560b-4b24-879a-8756b048b53d",
   "metadata": {},
   "outputs": [],
   "source": [
    "compactness_ratios = {g: [[] for _ in samples] for g in (\"gmean\", \"hmean\")}\n",
    "for key in compactness_data:\n",
    "    for group in compactness_ratios:\n",
    "        table = compactness_data[key][group]\n",
    "        for i in range(len(samples)):\n",
    "            data = table[f\"Real/Fake Ratio {i + 1}\"]\n",
    "            ratio = data[len(data) - 1]\n",
    "            compactness_ratios[group][i].append(ratio)\n",
    "for group in compactness_ratios:\n",
    "    compactness_ratios[group] = np.array(compactness_ratios[group]).T"
   ]
  },
  {
   "cell_type": "code",
   "execution_count": 48,
   "id": "80694e09-9e23-4fb8-b084-cc9a45e3212a",
   "metadata": {},
   "outputs": [
    {
     "data": {
      "text/plain": [
       "(4, 5)"
      ]
     },
     "execution_count": 48,
     "metadata": {},
     "output_type": "execute_result"
    }
   ],
   "source": [
    "compactness_ratios[\"gmean\"].shape"
   ]
  },
  {
   "cell_type": "code",
   "execution_count": 49,
   "id": "d7fc6f1c-fb48-4b3a-b46f-aa0a7c3e4c30",
   "metadata": {},
   "outputs": [],
   "source": [
    "spread_ratios = {g: [] for g in (\"gmean\", \"hmean\")}\n",
    "for key in spread_data:\n",
    "    for group in spread_ratios:\n",
    "        table = spread_data[key][group]\n",
    "        data = table[\"Real/Fake Ratio\"]\n",
    "        ratio = data[len(data) - 1]\n",
    "        spread_ratios[group].append(ratio)\n",
    "for group in spread_ratios:\n",
    "    spread_ratios[group] = np.array(spread_ratios[group])"
   ]
  },
  {
   "cell_type": "code",
   "execution_count": 50,
   "id": "6058458d-06df-44c0-8213-bb87edaff937",
   "metadata": {},
   "outputs": [
    {
     "data": {
      "text/plain": [
       "(4,)"
      ]
     },
     "execution_count": 50,
     "metadata": {},
     "output_type": "execute_result"
    }
   ],
   "source": [
    "spread_ratios[\"gmean\"].shape"
   ]
  },
  {
   "cell_type": "code",
   "execution_count": 51,
   "id": "503904bc-cb4a-4841-bfca-d120113d4d9b",
   "metadata": {},
   "outputs": [],
   "source": [
    "labels = [f\"Sample {i+1}\" for i in range(len(samples))]"
   ]
  },
  {
   "cell_type": "code",
   "execution_count": 52,
   "id": "05a8481b-76c4-4cb5-ab48-bd5c8617fc06",
   "metadata": {},
   "outputs": [
    {
     "data": {
      "image/png": "[encoded data removed]",
      "text/plain": [
       "<Figure size 576x216 with 2 Axes>"
      ]
     },
     "metadata": {
      "needs_background": "light"
     },
     "output_type": "display_data"
    }
   ],
   "source": [
    "gmeans = compactness_ratios[\"gmean\"]\n",
    "hmeans = compactness_ratios[\"hmean\"]\n",
    "\n",
    "fig, (ax1, ax2) = plt.subplots(1, 2, figsize=(8, 3), sharex=True, sharey=True)\n",
    "\n",
    "x = np.arange(len(samples))\n",
    "group_width = 0.6\n",
    "width = group_width / len(gmeans)\n",
    "\n",
    "rects = []\n",
    "for i, mean in enumerate(gmeans):\n",
    "    rects.append(ax1.bar(x + (2*i + 1)*width/2 - group_width/2, mean, width))\n",
    "ax1.set_ylabel(\"Real/Fake Chamfer Distance Ratio\")\n",
    "ax1.set_xticks(x, labels)\n",
    "ax1.set_title(\"Geometric Mean\")\n",
    "ax1.grid(axis='y')\n",
    "\n",
    "for i, mean in enumerate(hmeans):\n",
    "    ax2.bar(x + (2*i + 1)*width/2 - group_width/2, mean, width)\n",
    "# ax2.set_ylabel(\"Real/Fake Chamfer Distance Ratio\")\n",
    "ax2.set_xticks(x, labels)\n",
    "ax2.set_title(\"Harmonic Mean\")\n",
    "ax2.grid(axis='y')\n",
    "\n",
    "# ax1.legend()\n",
    "# handles, labels = ax1.get_legend_handles_labels()\n",
    "\n",
    "# fig.legend(handles, labels, loc=\"lower center\")\n",
    "fig.suptitle(\"Real/Fake Compactness via Intra-cluster Distance Ratios by Sample\")\n",
    "fig.legend(rects, [m.upper() for m in models], loc=\"lower center\", ncol=len(models), bbox_to_anchor=(0.5, -0.08))\n",
    "fig.tight_layout()\n",
    "fig.savefig(\"./tmp/compactness.pgf\", bbox_inches=\"tight\")\n",
    "fig.show()"
   ]
  },
  {
   "cell_type": "code",
   "execution_count": 53,
   "id": "20d0b9cf-edd4-4ebb-8ecb-5a07fbe1ef2b",
   "metadata": {},
   "outputs": [
    {
     "data": {
      "image/png": "[encoded data removed]",
      "text/plain": [
       "<Figure size 576x216 with 2 Axes>"
      ]
     },
     "metadata": {
      "needs_background": "light"
     },
     "output_type": "display_data"
    }
   ],
   "source": [
    "gmeans = spread_ratios[\"gmean\"]\n",
    "hmeans = spread_ratios[\"hmean\"]\n",
    "\n",
    "fig, (ax1, ax2) = plt.subplots(1, 2, figsize=(8, 3), sharex=True, sharey=True)\n",
    "\n",
    "x = np.arange(len(models))\n",
    "width = 0.75\n",
    "\n",
    "rects = []\n",
    "for i, mean in enumerate(gmeans):\n",
    "    rects.append(ax1.bar(x[i], mean, width))\n",
    "ax1.set_ylabel(\"Real/Fake Chamfer Distance Ratio\")\n",
    "ax1.set_xticks([])\n",
    "ax1.set_title(\"Geometric Mean\")\n",
    "ax1.grid(axis='y')\n",
    "\n",
    "for i, mean in enumerate(hmeans):\n",
    "    ax2.bar(x[i], mean, width)\n",
    "ax2.set_xticks([])\n",
    "ax2.set_title(\"Harmonic Mean\")\n",
    "ax2.grid(axis='y')\n",
    "\n",
    "# ax1.legend()\n",
    "# handles, labels = ax1.get_legend_handles_labels()\n",
    "\n",
    "# fig.legend(handles, labels, loc=\"lower center\")\n",
    "fig.suptitle(\"Real/Fake Spread via Inter-cluster Distances Ratios\")\n",
    "fig.legend(rects, [m.upper() for m in models], loc=\"lower center\", ncol=len(models), bbox_to_anchor=(0.5, -0.08))\n",
    "fig.tight_layout()\n",
    "fig.savefig(\"./tmp/spread.pgf\", bbox_inches=\"tight\")\n",
    "fig.show()"
   ]
  },
  {
   "cell_type": "code",
   "execution_count": null,
   "id": "859f0143-6bca-450c-ba3c-b73417abaf31",
   "metadata": {},
   "outputs": [],
   "source": []
  }
 ],
 "metadata": {
  "kernelspec": {
   "display_name": "Python 3 (ipykernel)",
   "language": "python",
   "name": "python3"
  },
  "language_info": {
   "codemirror_mode": {
    "name": "ipython",
    "version": 3
   },
   "file_extension": ".py",
   "mimetype": "text/x-python",
   "name": "python",
   "nbconvert_exporter": "python",
   "pygments_lexer": "ipython3",
   "version": "3.10.4"
  }
 },
 "nbformat": 4,
 "nbformat_minor": 5
}
