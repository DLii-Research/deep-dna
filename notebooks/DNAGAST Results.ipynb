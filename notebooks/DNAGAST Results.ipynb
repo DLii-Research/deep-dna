{
 "cells": [
  {
   "cell_type": "code",
   "execution_count": 1,
   "id": "c9b8f20c-9e56-43c2-8329-e66f7437083c",
   "metadata": {},
   "outputs": [],
   "source": [
    "import os\n",
    "os.environ[\"TF_CPP_MIN_LOG_LEVEL\"] = '2'"
   ]
  },
  {
   "cell_type": "code",
   "execution_count": 2,
   "id": "b6daa1aa-8cbc-44f7-a9fa-2745599a7a0d",
   "metadata": {},
   "outputs": [],
   "source": [
    "import bootstrap\n",
    "import json\n",
    "import matplotlib\n",
    "import matplotlib.pyplot as plt\n",
    "import numpy as np\n",
    "import os\n",
    "import pandas as pd\n",
    "import pickle\n",
    "import time\n",
    "import tensorflow as tf\n",
    "import tensorflow.keras as keras\n",
    "import tf_utils as tfu\n",
    "from scipy.spatial import KDTree\n",
    "from scipy import stats\n",
    "import wandb\n",
    "\n",
    "from common.models import dnabert, dnagast, gast\n",
    "from common.metrics import chamfer_distance_matrix, chamfer_distance_extend_matrix, mds, mds_stress_analysis\n",
    "from common.data import find_dbs, DnaSampleGenerator, DnaLabelType\n",
    "from common.utils import plt_to_image"
   ]
  },
  {
   "cell_type": "markdown",
   "id": "65cde0da-7ec7-4c69-8e4a-7859bff88a7f",
   "metadata": {},
   "source": [
    "## Configuration"
   ]
  },
  {
   "cell_type": "code",
   "execution_count": 3,
   "id": "87d65f7c-25f7-415d-85a4-540966ad4a9f",
   "metadata": {},
   "outputs": [],
   "source": [
    "N = 10 # Number of groups for confidence intervals\n",
    "control_subsamples_per_sample = 10\n",
    "test_subsamples_per_sample = 10"
   ]
  },
  {
   "cell_type": "code",
   "execution_count": 4,
   "id": "d27cf4be-08ed-4abf-b9fd-a2046b7e0772",
   "metadata": {},
   "outputs": [
    {
     "data": {
      "text/plain": [
       "[<matplotlib.lines.Line2D at 0x7efff4906ec0>]"
      ]
     },
     "execution_count": 4,
     "metadata": {},
     "output_type": "execute_result"
    },
    {
     "data": {
      "image/png": "[encoded data removed]",
      "text/plain": [
       "<Figure size 432x288 with 1 Axes>"
      ]
     },
     "metadata": {
      "needs_background": "light"
     },
     "output_type": "display_data"
    }
   ],
   "source": [
    "# Must plot before changing config otherwise plots won't display...\n",
    "plt.plot([], [])"
   ]
  },
  {
   "cell_type": "code",
   "execution_count": 5,
   "id": "6047f834-48a4-4902-93e8-eb9734da06b3",
   "metadata": {},
   "outputs": [],
   "source": [
    "matplotlib.use(\"pgf\")\n",
    "matplotlib.rcParams.update({\n",
    "    \"pgf.texsystem\": \"pdflatex\",\n",
    "    'font.family': 'serif',\n",
    "    'text.usetex': True,\n",
    "    'pgf.rcfonts': False,\n",
    "})"
   ]
  },
  {
   "cell_type": "code",
   "execution_count": 6,
   "id": "5b0a6b53-45c6-402b-9d57-9ea967eddb39",
   "metadata": {},
   "outputs": [],
   "source": [
    "strategy = tfu.strategy.gpu(0)"
   ]
  },
  {
   "cell_type": "markdown",
   "id": "faa4c080-b4ea-4bff-b132-15e2394345c0",
   "metadata": {},
   "source": [
    "## Connect to W&B"
   ]
  },
  {
   "cell_type": "code",
   "execution_count": 7,
   "id": "a9b33789-3e4e-4287-aea4-477832b2b0d2",
   "metadata": {},
   "outputs": [],
   "source": [
    "api = wandb.Api()"
   ]
  },
  {
   "cell_type": "markdown",
   "id": "5b2d0485-0531-4a6c-a128-a1b66df8f651",
   "metadata": {},
   "source": [
    "## Fetch DNABERT Model\n",
    "\n",
    "Here we download the DNABERT model used with each of the DNAGAST models to embed the DNA sequences."
   ]
  },
  {
   "cell_type": "code",
   "execution_count": 8,
   "id": "cea8ce63-a65a-462f-b8a6-359dcd8a553a",
   "metadata": {},
   "outputs": [
    {
     "data": {
      "text/plain": [
       "'./artifacts/dnabert-pretrain-8dim:v0'"
      ]
     },
     "execution_count": 8,
     "metadata": {},
     "output_type": "execute_result"
    }
   ],
   "source": [
    "path = api.artifact(\"sirdavidludwig/dnabert-pretrain/dnabert-pretrain-8dim:latest\").download()\n",
    "path"
   ]
  },
  {
   "cell_type": "code",
   "execution_count": 9,
   "id": "d0be47e1-8bd0-4e9b-8810-d24cca223245",
   "metadata": {},
   "outputs": [],
   "source": [
    "dnabert_pretrain = dnabert.DnaBertPretrainModel.load(path)\n",
    "dnabert_pretrain.load_weights(path + \"/model.h5\") # load weights while MHA bug exists\n",
    "dnabert_encoder = dnabert.DnaBertEncoderModel(dnabert_pretrain.base, use_kmer_encoder=True)"
   ]
  },
  {
   "cell_type": "markdown",
   "id": "1cb10645-3e97-4cb8-8c08-8ca90756e24c",
   "metadata": {},
   "source": [
    "## Fetch Samples\n",
    "\n",
    "Next, we download the DNA dataset that was used."
   ]
  },
  {
   "cell_type": "code",
   "execution_count": 10,
   "id": "637609e9-5df4-45eb-8501-631a7005409d",
   "metadata": {},
   "outputs": [
    {
     "name": "stderr",
     "output_type": "stream",
     "text": [
      "\u001b[34m\u001b[1mwandb\u001b[0m: Downloading large artifact dnasamples-complete:v0, 4079.09MB. 420 files... Done. 0:0:0.1\n"
     ]
    },
    {
     "data": {
      "text/plain": [
       "'./artifacts/dnasamples-complete:v0'"
      ]
     },
     "execution_count": 10,
     "metadata": {},
     "output_type": "execute_result"
    }
   ],
   "source": [
    "samples_path = api.artifact(\"sirdavidludwig/nachusa-dna/dnasamples-complete:v0\").download()\n",
    "samples_path"
   ]
  },
  {
   "cell_type": "code",
   "execution_count": 11,
   "id": "530b76d3-e49e-49dd-8df1-9a1d75093ac3",
   "metadata": {},
   "outputs": [
    {
     "data": {
      "text/plain": [
       "210"
      ]
     },
     "execution_count": 11,
     "metadata": {},
     "output_type": "execute_result"
    }
   ],
   "source": [
    "sample_files = find_dbs(samples_path)\n",
    "len(sample_files)"
   ]
  },
  {
   "cell_type": "markdown",
   "id": "27566c18-3e4e-41c9-b085-bb07af08c834",
   "metadata": {},
   "source": [
    "Because of the seeded runs of DNAGAST, the following samples were selected pseudo-randomly from the complete dataset."
   ]
  },
  {
   "cell_type": "code",
   "execution_count": 12,
   "id": "e05f4907-7245-4f61-bc06-071bb1aa7171",
   "metadata": {},
   "outputs": [],
   "source": [
    "eval_samples = [\n",
    "    \"Wes34-8-L_S35\",\n",
    "    \"WS-CCE-Sep2015_S60\",\n",
    "    \"Wes33-8-TC_S34\",\n",
    "    \"WS-MR-Sep2015_S67\",\n",
    "    \"Wesley026-Ag-072820_S165\"\n",
    "]"
   ]
  },
  {
   "cell_type": "code",
   "execution_count": 13,
   "id": "25f1b1b2-a787-4d88-9867-549b29c500c3",
   "metadata": {},
   "outputs": [
    {
     "data": {
      "text/plain": [
       "['./artifacts/dnasamples-complete:v0/train/Wes34-8-L_S35_L001_R1_001.db',\n",
       " './artifacts/dnasamples-complete:v0/train/WS-CCE-Sep2015_S60_L001_R1_001.db',\n",
       " './artifacts/dnasamples-complete:v0/train/Wes33-8-TC_S34_L001_R1_001.db',\n",
       " './artifacts/dnasamples-complete:v0/train/WS-MR-Sep2015_S67_L001_R1_001.db',\n",
       " './artifacts/dnasamples-complete:v0/train/Wesley026-Ag-072820_S165_L001_R1_001.db']"
      ]
     },
     "execution_count": 13,
     "metadata": {},
     "output_type": "execute_result"
    }
   ],
   "source": [
    "samples = [f for s in eval_samples for f in sample_files if s in f]\n",
    "samples"
   ]
  },
  {
   "cell_type": "markdown",
   "id": "7947e675-f27c-4d0e-a2b3-2ce3678d5d38",
   "metadata": {},
   "source": [
    "## Generate Control Samples\n",
    "\n",
    "Now we need to generate some control subsamples from the original data, embed them using DNABERT, and compute a chamfer distance matrix."
   ]
  },
  {
   "cell_type": "code",
   "execution_count": null,
   "id": "8db9d43f-f868-4dec-9aca-444b1d950de2",
   "metadata": {},
   "outputs": [
    {
     "data": {
      "text/plain": [
       "(10, 5, 10, 1000, 150)"
      ]
     },
     "execution_count": 14,
     "metadata": {},
     "output_type": "execute_result"
    }
   ],
   "source": [
    "subsamples = []\n",
    "for i in range(N):\n",
    "    subsamples.append([])\n",
    "    for sample in samples:\n",
    "        batch = DnaSampleGenerator([sample], sequence_length=150, subsample_length=1000, batch_size=10, batches_per_epoch=1)[0]\n",
    "        subsamples[-1].append(batch)\n",
    "subsamples = np.array(subsamples)\n",
    "subsamples.shape"
   ]
  },
  {
   "cell_type": "code",
   "execution_count": null,
   "id": "d5d406e2-7967-423f-858b-edae9bc2c27a",
   "metadata": {},
   "outputs": [
    {
     "data": {
      "text/plain": [
       "10"
      ]
     },
     "execution_count": 15,
     "metadata": {},
     "output_type": "execute_result"
    }
   ],
   "source": [
    "subsamples_encoded = dnabert_encoder.predict(\n",
    "    subsamples.reshape((-1, 150)),\n",
    "    batch_size=512)\n",
    "shape = (N, -1, 1000, dnabert_encoder.base.embed_dim)\n",
    "control_samples = [[KDTree(s) for s in g] for g in np.reshape(subsamples_encoded, shape)]\n",
    "len(control_samples)"
   ]
  },
  {
   "cell_type": "code",
   "execution_count": null,
   "id": "2b634740-db79-4d61-a1ee-dcb71aee7d56",
   "metadata": {},
   "outputs": [
    {
     "data": {
      "text/plain": [
       "50"
      ]
     },
     "execution_count": 16,
     "metadata": {},
     "output_type": "execute_result"
    }
   ],
   "source": [
    "len(control_samples[0])"
   ]
  },
  {
   "cell_type": "code",
   "execution_count": null,
   "id": "3691a4c8-fc2b-4da4-b4b5-1a1c9fb1cc7f",
   "metadata": {},
   "outputs": [
    {
     "name": "stdout",
     "output_type": "stream",
     "text": [
      "10/10"
     ]
    }
   ],
   "source": [
    "control_dist_mats = []\n",
    "for i, group in enumerate(control_samples):\n",
    "    print(f\"\\r{i+1}/{N}\", end=\"\")\n",
    "    control_dist_mats.append(chamfer_distance_matrix(group, p=1, workers=16))"
   ]
  },
  {
   "cell_type": "markdown",
   "id": "fa4c4edc-9535-493d-8e28-ea5ebefffa2e",
   "metadata": {},
   "source": [
    "## DNAGAST\n",
    "\n",
    "Next we must download and load the various DNAGAST models we wish to evaluate."
   ]
  },
  {
   "cell_type": "code",
   "execution_count": null,
   "id": "d952bd9c-e286-4e0f-8f16-baa038991d21",
   "metadata": {},
   "outputs": [],
   "source": [
    "prefix = \"./tmp\""
   ]
  },
  {
   "cell_type": "code",
   "execution_count": null,
   "id": "e2244e38-2713-45f5-aaa6-8d1c989723e1",
   "metadata": {},
   "outputs": [],
   "source": [
    "file_names = [\n",
    "    \"model.data\",\n",
    "    \"model.h5\",\n",
    "    \"model/keras_metadata.pb\",\n",
    "    \"model/saved_model.pb\",\n",
    "    \"model/variables/variables.data-00000-of-00001\",\n",
    "    \"model/variables/variables.index\"\n",
    "]"
   ]
  },
  {
   "cell_type": "code",
   "execution_count": null,
   "id": "2d931bd6-d13b-40a8-ba2b-3eeb8c149c1c",
   "metadata": {},
   "outputs": [],
   "source": [
    "run_ids = {\n",
    "    \"dnagast\": \"sirdavidludwig/dnagast/i375c4wz\",\n",
    "    \"dnawgast\": \"sirdavidludwig/dnagast/19qcyd7b\",\n",
    "    \"dnaveegast\": \"sirdavidludwig/dnagast/1ptvzb6q\",\n",
    "    \"dnaveewgast\": \"sirdavidludwig/dnagast/2fs0re2k\"\n",
    "}"
   ]
  },
  {
   "cell_type": "code",
   "execution_count": null,
   "id": "e63a0f2d-d45a-493f-baf7-edf59e6b34b3",
   "metadata": {},
   "outputs": [],
   "source": [
    "runs = {key: api.run(value) for key, value in run_ids.items()}"
   ]
  },
  {
   "cell_type": "code",
   "execution_count": null,
   "id": "0d57a038-12ef-4a8d-b730-82a0fd61df20",
   "metadata": {},
   "outputs": [
    {
     "name": "stdout",
     "output_type": "stream",
     "text": [
      "./tmp/dnagast/model.data\n",
      "./tmp/dnagast/model.h5\n",
      "./tmp/dnagast/model/keras_metadata.pb\n",
      "./tmp/dnagast/model/saved_model.pb\n",
      "./tmp/dnagast/model/variables/variables.data-00000-of-00001\n",
      "./tmp/dnagast/model/variables/variables.index\n",
      "./tmp/dnawgast/model.data\n",
      "./tmp/dnawgast/model.h5\n",
      "./tmp/dnawgast/model/keras_metadata.pb\n",
      "./tmp/dnawgast/model/saved_model.pb\n",
      "./tmp/dnawgast/model/variables/variables.data-00000-of-00001\n",
      "./tmp/dnawgast/model/variables/variables.index\n",
      "./tmp/dnaveegast/model.data\n",
      "./tmp/dnaveegast/model.h5\n",
      "./tmp/dnaveegast/model/keras_metadata.pb\n",
      "./tmp/dnaveegast/model/saved_model.pb\n",
      "./tmp/dnaveegast/model/variables/variables.data-00000-of-00001\n",
      "./tmp/dnaveegast/model/variables/variables.index\n",
      "./tmp/dnaveewgast/model.data\n",
      "./tmp/dnaveewgast/model.h5\n",
      "./tmp/dnaveewgast/model/keras_metadata.pb\n",
      "./tmp/dnaveewgast/model/saved_model.pb\n",
      "./tmp/dnaveewgast/model/variables/variables.data-00000-of-00001\n",
      "./tmp/dnaveewgast/model/variables/variables.index\n"
     ]
    }
   ],
   "source": [
    "for key, run in runs.items():\n",
    "    for f in run.files(names=file_names):\n",
    "        path_to = os.path.join(prefix, key)\n",
    "        print(os.path.join(path_to, f.name))\n",
    "        f.download(path_to, replace=True)"
   ]
  },
  {
   "cell_type": "code",
   "execution_count": null,
   "id": "d6343566-f80e-40e3-b9b6-eddab5cf405e",
   "metadata": {},
   "outputs": [
    {
     "name": "stdout",
     "output_type": "stream",
     "text": [
      "dnagast\n",
      "dnawgast\n",
      "dnaveegast\n",
      "dnaveewgast\n"
     ]
    }
   ],
   "source": [
    "models = {}\n",
    "for key in runs:\n",
    "    print(key)\n",
    "    models[key] = dnagast.DnaSampleConditionalWGan.load(os.path.join(prefix, key, \"model\"))\n",
    "    # try:\n",
    "    #     models[key].load_weights(os.path.join(prefix, key, \"model.h5\"))\n",
    "    # except:\n",
    "    #     print(\"  Trying pickled weights...\")\n",
    "    # with open(os.path.join(prefix, key, \"model.data\"), \"rb\") as f:\n",
    "    #     models[key].set_weights(pickle.load(f))"
   ]
  },
  {
   "cell_type": "markdown",
   "id": "1d03c407-0229-4edd-aa63-a9e52cd3b01b",
   "metadata": {},
   "source": [
    "## Compute Full Distance Matrices"
   ]
  },
  {
   "cell_type": "code",
   "execution_count": null,
   "id": "8f5de9b7-2437-4cb6-a057-1d2f9582231c",
   "metadata": {},
   "outputs": [
    {
     "name": "stdout",
     "output_type": "stream",
     "text": [
      "dnaveewgast: 10/10"
     ]
    }
   ],
   "source": [
    "distance_matrices = {}\n",
    "for key in models:\n",
    "    distance_matrices[key] = []\n",
    "    for i in range(N):\n",
    "        print(f\"\\r{key}: {i+1}/{N}\", end=\"\")\n",
    "        # Generate fake samples\n",
    "        test_labels = np.repeat(np.arange(len(samples)), test_subsamples_per_sample)\n",
    "        test_input = models[key].generator.generate_input(len(test_labels), labels=test_labels)\n",
    "        fake_samples = models[key].generator.predict(test_input)\n",
    "        fake_samples = [KDTree(s) for s in fake_samples]\n",
    "\n",
    "        # Compute the distances\n",
    "        distance_matrix = chamfer_distance_extend_matrix(\n",
    "            control_samples[i],\n",
    "            fake_samples,\n",
    "            control_dist_mats[i],\n",
    "            p=1,\n",
    "            workers=16)\n",
    "        distance_matrices[key].append(distance_matrix)"
   ]
  },
  {
   "cell_type": "markdown",
   "id": "b4436fe7-aba9-4737-a5a6-3259ace13457",
   "metadata": {},
   "source": [
    "## MDS Plots"
   ]
  },
  {
   "cell_type": "code",
   "execution_count": null,
   "id": "26e80900-68a9-484b-8f72-f7b7ffbf03a5",
   "metadata": {},
   "outputs": [],
   "source": [
    "pcas = []\n",
    "ax_min = np.inf\n",
    "ax_max = -np.inf\n",
    "for i, key in enumerate(models):\n",
    "    pca = mds(distance_matrices[key][0])[0]\n",
    "    ax_min = min(ax_min, np.min(pca))\n",
    "    ax_max = max(ax_max, np.max(pca))\n",
    "    pcas.append(pca)"
   ]
  },
  {
   "cell_type": "code",
   "execution_count": null,
   "id": "494a3c18-a2f8-45d6-b4bc-3897feccc0e4",
   "metadata": {},
   "outputs": [
    {
     "data": {
      "image/png": "[encoded data removed]",
      "text/plain": [
       "<Figure size 576x576 with 4 Axes>"
      ]
     },
     "metadata": {
      "needs_background": "light"
     },
     "output_type": "display_data"
    }
   ],
   "source": [
    "fig, axs = plt.subplots(2, 2, figsize=(8, 8))\n",
    "\n",
    "legend_points = []\n",
    "\n",
    "legend_points.append(axs[0][0].scatter([], [], color=\"dimgrey\", marker='x'))\n",
    "legend_points.append(axs[0][0].scatter([], [], color=\"dimgrey\"))\n",
    "\n",
    "for i, key in enumerate(models):\n",
    "\n",
    "    ax = axs[i // 2][i % 2]\n",
    "\n",
    "    pca = pcas[i]\n",
    "    real, fake = pca[:len(control_samples[0])], pca[len(control_samples[0]):]\n",
    "    cmap = plt.get_cmap(\"tab10\")\n",
    "    scale = ax_max - ax_min\n",
    "    points = []\n",
    "    for j, offset in enumerate(range(0, len(real), control_subsamples_per_sample)):\n",
    "        data = real[offset:offset + control_subsamples_per_sample]\n",
    "        points = ax.scatter(*data.T, color=cmap(j), marker='x', s=20)\n",
    "        if i == 0:\n",
    "            legend_points.append(points)\n",
    "    for j, offset in enumerate(range(0, len(fake), test_subsamples_per_sample)):\n",
    "        data = fake[offset:offset + test_subsamples_per_sample]\n",
    "        points = ax.scatter(*data.T, color=cmap(j), s=10)\n",
    "        if i == 0:\n",
    "            legend_points.append(points)\n",
    "    # ax.legend(\n",
    "    #     [\"Real\", \"Synthetic\"] + [f\"Sample {i+1}\" for i in range(len(samples))],\n",
    "    #     loc=\"center left\",\n",
    "    #     bbox_to_anchor=(1.0, 0.5))\n",
    "    # ax.set_title(f\"MDS of Chamfer Distances Between DNA Samples (epoch {runs['dnawgast'].summary.epoch})\")\n",
    "    ax.set_title(f\"{key.upper()} MDS\")\n",
    "    pad = 0.05*scale\n",
    "    ax.set_xlim((ax_min - pad, ax_max + pad))\n",
    "    ax.set_ylim((ax_min - pad, ax_max + pad))\n",
    "    ax.set_xlabel(\"x-coordinate\")\n",
    "    ax.set_ylabel(\"y-coordinate\")\n",
    "    fig.suptitle(\"Metric Multi-dimensional Scaling (MDS) Projections of Real and Synthetic Samples\")\n",
    "    fig.legend(\n",
    "        legend_points,\n",
    "        [\"Real\", \"Synthetic\"] + [f\"Sample {i+1}\" for i in range(len(samples))],\n",
    "        ncol=len(legend_points),\n",
    "        loc=\"lower center\",\n",
    "        bbox_to_anchor=(0.5, -0.03))\n",
    "    fig.tight_layout()\n",
    "    fig.savefig(f\"../plots/dnagast_mds.pgf\", bbox_inches=\"tight\")\n",
    "    fig.show()"
   ]
  },
  {
   "cell_type": "code",
   "execution_count": 35,
   "id": "5f6b512f-2908-43fc-af99-f66223f6000f",
   "metadata": {},
   "outputs": [],
   "source": [
    "from sklearn.manifold import MDS\n",
    "def mds_stress_analysis(distance_matrix, dims):\n",
    "    stresses = []\n",
    "    for d in range(1, dims + 1):\n",
    "        mds = MDS(n_components=d, dissimilarity=\"precomputed\")\n",
    "        mds.fit(distance_matrix)\n",
    "        stresses.append(mds.stress_)\n",
    "    return np.array(stresses) / np.sum(stresses)"
   ]
  },
  {
   "cell_type": "code",
   "execution_count": 36,
   "id": "c5172a21-910b-4abb-ad34-e060af6b6043",
   "metadata": {},
   "outputs": [
    {
     "name": "stdout",
     "output_type": "stream",
     "text": [
      "dnaveewgast: 10/10"
     ]
    }
   ],
   "source": [
    "stresses = {}\n",
    "extended_distance_matrices = {}\n",
    "\n",
    "for key in models:\n",
    "    stress_list = []\n",
    "    for i in range(N):\n",
    "        print(f\"\\r{key}: {i+1}/{N}\", end=\"\")\n",
    "        stress_list.append(mds_stress_analysis(distance_matrices[key][i], dims=dnabert_encoder.base.embed_dim))\n",
    "    stresses[key] = np.array(stress_list)"
   ]
  },
  {
   "cell_type": "code",
   "execution_count": 45,
   "id": "0bd5f2cf-c965-43ba-bf81-f5c2aecb111f",
   "metadata": {},
   "outputs": [
    {
     "data": {
      "image/png": "[encoded data removed]",
      "text/plain": [
       "<Figure size 432x252 with 1 Axes>"
      ]
     },
     "metadata": {
      "needs_background": "light"
     },
     "output_type": "display_data"
    }
   ],
   "source": [
    "plt.figure(figsize=(6, 3.5))\n",
    "for key, values in stresses.items():\n",
    "    values = values[:, 1:]\n",
    "    x = np.arange(values.shape[-1]) + 2\n",
    "    mean = np.mean(values, axis=0)\n",
    "    std = np.std(values, axis=0)\n",
    "\n",
    "    ci = 1.96 * std/np.sqrt(N)\n",
    "\n",
    "    plt.plot(x, mean, label=key.upper())\n",
    "    plt.fill_between(x, mean - ci, mean + ci, alpha=0.25)\n",
    "plt.title(\"MDS Stress Scree Plot\")\n",
    "plt.legend()\n",
    "plt.xlabel(\"Number of Components/Dimensions\")\n",
    "plt.ylabel(\"Percent of Total Stress\")\n",
    "plt.savefig(\"../plots/dnagast_mds_scree.pgf\")\n",
    "plt.show()"
   ]
  },
  {
   "cell_type": "code",
   "execution_count": 46,
   "id": "30b21e8d-0030-4c01-80b9-e1bb34bc1e7c",
   "metadata": {},
   "outputs": [],
   "source": [
    "def partition_distance_matrix(distance_matrix):\n",
    "        n = control_subsamples_per_sample\n",
    "        m = test_subsamples_per_sample\n",
    "        N = n*len(samples)\n",
    "        dist_mats = np.empty((len(samples), n+m, n+m))\n",
    "        for i in range(0, len(samples)):\n",
    "            # Pull out matrix quadrants for common sample distances\n",
    "            # A/C = real, B/D = fake\n",
    "            A = distance_matrix[i*n:(i+1)*n,     i*n:(i+1)*n]     # top-left\n",
    "            B = distance_matrix[i*n:(i+1)*n,     N+i*m:N+(i+1)*m] # top-right\n",
    "            C = distance_matrix[N+i*m:N+(i+1)*m, i*n:(i+1)*n]     # bottom-left\n",
    "            D = distance_matrix[N+i*m:N+(i+1)*m, N+i*m:N+(i+1)*m] # bottom-right\n",
    "\n",
    "            # Merge into a single distance matrix\n",
    "            AB = np.concatenate((A, B), axis=1)\n",
    "            CD = np.concatenate((C, D), axis=1)\n",
    "            dist_mats[i] = np.concatenate((AB, CD), axis=0)\n",
    "        return dist_mats\n",
    "\n",
    "def compute_compactness(distance_matrices):\n",
    "        n = control_subsamples_per_sample\n",
    "        fns = {\"amean\": np.mean, \"gmean\": stats.gmean, \"hmean\": stats.hmean}\n",
    "        results = [{l: [] for l in fns} for i in range(len(samples))]\n",
    "        for distance_matrix in distance_matrices:\n",
    "            dist_mats = partition_distance_matrix(distance_matrix)\n",
    "            for i in range(len(samples)):\n",
    "                d = dist_mats[i]\n",
    "\n",
    "                real_to_real_subsamples = d[:n,:n][np.triu_indices(n, 1)]\n",
    "                fake_to_fake_subsamples = d[n:,n:][np.triu_indices(len(dist_mats[0]) - n, 1)]\n",
    "\n",
    "                for key, fn in fns.items():\n",
    "                    real = fn(real_to_real_subsamples)\n",
    "                    fake = fn(fake_to_fake_subsamples)\n",
    "                    results[i][key].append(real / fake)\n",
    "        return results\n",
    "\n",
    "def compute_spread(distance_matrices):\n",
    "    n = control_subsamples_per_sample*len(samples)\n",
    "    fns = {\"amean\": np.mean, \"gmean\": stats.gmean, \"hmean\": stats.hmean}\n",
    "    results = {l: [] for l in fns}\n",
    "\n",
    "    for distance_matrix in distance_matrices:\n",
    "        real_to_real_subsamples = distance_matrix[:n,:n][np.triu_indices(n, 1)]\n",
    "        fake_to_fake_subsamples = distance_matrix[n:,n:][np.triu_indices(len(distance_matrix) - n, 1)]\n",
    "\n",
    "        for key, fn in fns.items():\n",
    "            real = fn(real_to_real_subsamples)\n",
    "            fake = fn(fake_to_fake_subsamples)\n",
    "            results[key].append(real / fake)\n",
    "    return results"
   ]
  },
  {
   "cell_type": "markdown",
   "id": "3eaba75b-b84e-4557-b75b-f95c828f9121",
   "metadata": {},
   "source": [
    "## Real to Fake Distances"
   ]
  },
  {
   "cell_type": "code",
   "execution_count": 94,
   "id": "7ccab91d-389d-4403-a9fa-2fdf3090e4bc",
   "metadata": {},
   "outputs": [],
   "source": [
    "real_fake_distances = {}\n",
    "for model in models:\n",
    "    real_fake_distances[model] = [{\"gmean\": [], \"hmean\": []} for _ in samples]\n",
    "    for i in range(N):\n",
    "        d = partition_distance_matrix(distance_matrices[model][i])\n",
    "        for j in range(len(samples)):\n",
    "            distances = d[j][:control_subsamples_per_sample,control_subsamples_per_sample:].flatten()\n",
    "            real_fake_distances[model][j][\"gmean\"].append(stats.gmean(distances))\n",
    "            real_fake_distances[model][j][\"hmean\"].append(stats.hmean(distances))"
   ]
  },
  {
   "cell_type": "code",
   "execution_count": 100,
   "id": "3b3908a1-58dd-4860-aebf-c59cd74cd96e",
   "metadata": {},
   "outputs": [
    {
     "data": {
      "image/png": "[encoded data removed]",
      "text/plain": [
       "<Figure size 720x432 with 2 Axes>"
      ]
     },
     "metadata": {
      "needs_background": "light"
     },
     "output_type": "display_data"
    }
   ],
   "source": [
    "x = np.arange(len(samples))\n",
    "group_width = 0.6\n",
    "width = group_width / len(models)\n",
    "cmap = plt.get_cmap(\"tab10\")\n",
    "\n",
    "plt.figure(figsize=(10, 6))\n",
    "plt.suptitle(\"Real-to-Fake Mean Distance by Sample\")\n",
    "plt.subplot(211)\n",
    "for i, model in enumerate(models):\n",
    "    data = [real_fake_distances[model][j][\"gmean\"] for j in range(len(samples))]\n",
    "    boxplot = plt.boxplot(data, positions=x - group_width/2 + (2*i + 1)*width/2, notch=True, widths=width * 0.8)\n",
    "    plt.setp(boxplot[\"boxes\"], color=cmap(i))\n",
    "    plt.setp(boxplot[\"whiskers\"], color=cmap(i))\n",
    "    plt.setp(boxplot[\"caps\"], color=cmap(i))\n",
    "    plt.setp(boxplot[\"medians\"], color=\"#000000\")\n",
    "    plt.setp(boxplot[\"fliers\"], color=cmap(i))\n",
    "plt.title(\"Geometric Mean\")\n",
    "plt.xticks(x, [f\"Sample {j+1}\" for j in range(len(samples))])\n",
    "plt.grid(axis='y')\n",
    "\n",
    "plt.subplot(212)\n",
    "for i, model in enumerate(models):\n",
    "    data = [real_fake_distances[model][j][\"hmean\"] for j in range(len(samples))]\n",
    "    boxplot = plt.boxplot(data, positions=x - group_width/2 + (2*i + 1)*width/2, notch=True, widths=width * 0.8)\n",
    "    plt.setp(boxplot[\"boxes\"], color=cmap(i))\n",
    "    plt.setp(boxplot[\"whiskers\"], color=cmap(i))\n",
    "    plt.setp(boxplot[\"caps\"], color=cmap(i))\n",
    "    plt.setp(boxplot[\"medians\"], color=\"#000000\")\n",
    "    plt.setp(boxplot[\"fliers\"], color=cmap(i))\n",
    "\n",
    "plt.title(\"Harmonic Mean\")\n",
    "plt.xticks(x, [f\"Sample {j+1}\" for j in range(len(samples))])\n",
    "plt.grid(axis='y')\n",
    "\n",
    "legend_labels = []\n",
    "for model in models:\n",
    "    legend_labels.append(plt.plot([], label=model.upper()))\n",
    "\n",
    "plt.legend(loc=\"lower center\", ncol=len(models), bbox_to_anchor=(0.5, -0.3))\n",
    "plt.tight_layout()\n",
    "plt.savefig(\"../plots/dnagast_real_to_fake.pgf\", bbox_inches=\"tight\")\n",
    "plt.show()"
   ]
  },
  {
   "cell_type": "code",
   "execution_count": 105,
   "id": "789efe76-6753-454c-b248-672c4837529b",
   "metadata": {},
   "outputs": [
    {
     "data": {
      "text/html": [
       "<div>\n",
       "<style scoped>\n",
       "    .dataframe tbody tr th:only-of-type {\n",
       "        vertical-align: middle;\n",
       "    }\n",
       "\n",
       "    .dataframe tbody tr th {\n",
       "        vertical-align: top;\n",
       "    }\n",
       "\n",
       "    .dataframe thead th {\n",
       "        text-align: right;\n",
       "    }\n",
       "</style>\n",
       "<table border=\"1\" class=\"dataframe\">\n",
       "  <thead>\n",
       "    <tr style=\"text-align: right;\">\n",
       "      <th></th>\n",
       "      <th>Model</th>\n",
       "      <th>Sample 1</th>\n",
       "      <th>Sample 2</th>\n",
       "      <th>Sample 3</th>\n",
       "      <th>Sample 4</th>\n",
       "      <th>Sample 5</th>\n",
       "    </tr>\n",
       "  </thead>\n",
       "  <tbody>\n",
       "    <tr>\n",
       "      <th>0</th>\n",
       "      <td>DNAGAST</td>\n",
       "      <td>2.883</td>\n",
       "      <td>3.138</td>\n",
       "      <td>2.858</td>\n",
       "      <td>3.067</td>\n",
       "      <td>2.864</td>\n",
       "    </tr>\n",
       "    <tr>\n",
       "      <th>1</th>\n",
       "      <td>DNAWGAST</td>\n",
       "      <td>4.845</td>\n",
       "      <td>5.023</td>\n",
       "      <td>4.727</td>\n",
       "      <td>5.046</td>\n",
       "      <td>4.531</td>\n",
       "    </tr>\n",
       "    <tr>\n",
       "      <th>2</th>\n",
       "      <td>DNAVEEGAST</td>\n",
       "      <td>2.972</td>\n",
       "      <td>3.173</td>\n",
       "      <td>2.935</td>\n",
       "      <td>3.158</td>\n",
       "      <td>2.944</td>\n",
       "    </tr>\n",
       "    <tr>\n",
       "      <th>3</th>\n",
       "      <td>DNAVEEWGAST</td>\n",
       "      <td>3.317</td>\n",
       "      <td>3.829</td>\n",
       "      <td>3.366</td>\n",
       "      <td>3.656</td>\n",
       "      <td>3.295</td>\n",
       "    </tr>\n",
       "  </tbody>\n",
       "</table>\n",
       "</div>"
      ],
      "text/plain": [
       "         Model  Sample 1  Sample 2  Sample 3  Sample 4  Sample 5\n",
       "0      DNAGAST     2.883     3.138     2.858     3.067     2.864\n",
       "1     DNAWGAST     4.845     5.023     4.727     5.046     4.531\n",
       "2   DNAVEEGAST     2.972     3.173     2.935     3.158     2.944\n",
       "3  DNAVEEWGAST     3.317     3.829     3.366     3.656     3.295"
      ]
     },
     "execution_count": 105,
     "metadata": {},
     "output_type": "execute_result"
    }
   ],
   "source": [
    "rows = []\n",
    "for model in spread:\n",
    "    row = [model.upper()]\n",
    "    for sample in real_fake_distances[model]:\n",
    "        row.append(np.median(sample[\"gmean\"]))\n",
    "    rows.append(row)\n",
    "real_fake_distances_gmean_table = pd.DataFrame(rows, columns=[\"Model\", *[f\"Sample {i+1}\" for i in range(len(samples))]]).round(3)\n",
    "real_fake_distances_gmean_table"
   ]
  },
  {
   "cell_type": "code",
   "execution_count": 106,
   "id": "e8f6c3e5-d189-443b-bdd1-22783a31f6c4",
   "metadata": {},
   "outputs": [
    {
     "name": "stderr",
     "output_type": "stream",
     "text": [
      "/tmp/ipykernel_3605250/413384524.py:2: FutureWarning: In future versions `DataFrame.to_latex` is expected to utilise the base implementation of `Styler.to_latex` for formatting and rendering. The arguments signature may therefore change. It is recommended instead to use `DataFrame.style.to_latex` which also contains additional functionality.\n",
      "  f.write(real_fake_distances_gmean_table.to_latex(index=False))\n"
     ]
    }
   ],
   "source": [
    "with open(\"./tmp/dnagast_real_fake_distances_gmean.tex\", 'w') as f:\n",
    "    f.write(real_fake_distances_gmean_table.to_latex(index=False))"
   ]
  },
  {
   "cell_type": "code",
   "execution_count": 107,
   "id": "e644779e-b350-4e26-8b7d-9419b1e05c95",
   "metadata": {},
   "outputs": [
    {
     "data": {
      "text/html": [
       "<div>\n",
       "<style scoped>\n",
       "    .dataframe tbody tr th:only-of-type {\n",
       "        vertical-align: middle;\n",
       "    }\n",
       "\n",
       "    .dataframe tbody tr th {\n",
       "        vertical-align: top;\n",
       "    }\n",
       "\n",
       "    .dataframe thead th {\n",
       "        text-align: right;\n",
       "    }\n",
       "</style>\n",
       "<table border=\"1\" class=\"dataframe\">\n",
       "  <thead>\n",
       "    <tr style=\"text-align: right;\">\n",
       "      <th></th>\n",
       "      <th>Model</th>\n",
       "      <th>Sample 1</th>\n",
       "      <th>Sample 2</th>\n",
       "      <th>Sample 3</th>\n",
       "      <th>Sample 4</th>\n",
       "      <th>Sample 5</th>\n",
       "    </tr>\n",
       "  </thead>\n",
       "  <tbody>\n",
       "    <tr>\n",
       "      <th>0</th>\n",
       "      <td>DNAGAST</td>\n",
       "      <td>2.883</td>\n",
       "      <td>3.138</td>\n",
       "      <td>2.858</td>\n",
       "      <td>3.067</td>\n",
       "      <td>2.864</td>\n",
       "    </tr>\n",
       "    <tr>\n",
       "      <th>1</th>\n",
       "      <td>DNAWGAST</td>\n",
       "      <td>4.845</td>\n",
       "      <td>5.023</td>\n",
       "      <td>4.726</td>\n",
       "      <td>5.046</td>\n",
       "      <td>4.531</td>\n",
       "    </tr>\n",
       "    <tr>\n",
       "      <th>2</th>\n",
       "      <td>DNAVEEGAST</td>\n",
       "      <td>2.972</td>\n",
       "      <td>3.172</td>\n",
       "      <td>2.935</td>\n",
       "      <td>3.158</td>\n",
       "      <td>2.943</td>\n",
       "    </tr>\n",
       "    <tr>\n",
       "      <th>3</th>\n",
       "      <td>DNAVEEWGAST</td>\n",
       "      <td>3.316</td>\n",
       "      <td>3.828</td>\n",
       "      <td>3.366</td>\n",
       "      <td>3.656</td>\n",
       "      <td>3.295</td>\n",
       "    </tr>\n",
       "  </tbody>\n",
       "</table>\n",
       "</div>"
      ],
      "text/plain": [
       "         Model  Sample 1  Sample 2  Sample 3  Sample 4  Sample 5\n",
       "0      DNAGAST     2.883     3.138     2.858     3.067     2.864\n",
       "1     DNAWGAST     4.845     5.023     4.726     5.046     4.531\n",
       "2   DNAVEEGAST     2.972     3.172     2.935     3.158     2.943\n",
       "3  DNAVEEWGAST     3.316     3.828     3.366     3.656     3.295"
      ]
     },
     "execution_count": 107,
     "metadata": {},
     "output_type": "execute_result"
    }
   ],
   "source": [
    "rows = []\n",
    "for model in spread:\n",
    "    row = [model.upper()]\n",
    "    for sample in real_fake_distances[model]:\n",
    "        row.append(np.median(sample[\"hmean\"]))\n",
    "    rows.append(row)\n",
    "real_fake_distances_hmean_table = pd.DataFrame(rows, columns=[\"Model\", *[f\"Sample {i+1}\" for i in range(len(samples))]]).round(3)\n",
    "real_fake_distances_hmean_table"
   ]
  },
  {
   "cell_type": "code",
   "execution_count": 108,
   "id": "fcc122c5-242b-4f54-9e5e-879a9a982100",
   "metadata": {},
   "outputs": [
    {
     "name": "stderr",
     "output_type": "stream",
     "text": [
      "/tmp/ipykernel_3605250/10497377.py:2: FutureWarning: In future versions `DataFrame.to_latex` is expected to utilise the base implementation of `Styler.to_latex` for formatting and rendering. The arguments signature may therefore change. It is recommended instead to use `DataFrame.style.to_latex` which also contains additional functionality.\n",
      "  f.write(real_fake_distances_hmean_table.to_latex(index=False))\n"
     ]
    }
   ],
   "source": [
    "with open(\"./tmp/dnagast_real_fake_distance_hmean.tex\", 'w') as f:\n",
    "    f.write(real_fake_distances_hmean_table.to_latex(index=False))"
   ]
  },
  {
   "cell_type": "markdown",
   "id": "b70665a5-c19d-4ff3-a3b7-2adda2139da9",
   "metadata": {},
   "source": [
    "## Intra-cluster Distances"
   ]
  },
  {
   "cell_type": "code",
   "execution_count": 115,
   "id": "3e6d6ee0-8941-4534-ba7e-5f7c27024869",
   "metadata": {},
   "outputs": [],
   "source": [
    "compactness = {m: compute_compactness(distance_matrices[m]) for m in models}"
   ]
  },
  {
   "cell_type": "code",
   "execution_count": 116,
   "id": "89888fb2-9007-4d72-849d-e7daccc28c9e",
   "metadata": {},
   "outputs": [
    {
     "data": {
      "text/plain": [
       "5"
      ]
     },
     "execution_count": 116,
     "metadata": {},
     "output_type": "execute_result"
    }
   ],
   "source": [
    "len(compactness[\"dnagast\"])"
   ]
  },
  {
   "cell_type": "code",
   "execution_count": 48,
   "id": "bfe72c14-4288-49b2-82a8-b11c6cf796fc",
   "metadata": {},
   "outputs": [
    {
     "data": {
      "image/png": "[encoded data removed]",
      "text/plain": [
       "<Figure size 720x432 with 2 Axes>"
      ]
     },
     "metadata": {
      "needs_background": "light"
     },
     "output_type": "display_data"
    }
   ],
   "source": [
    "x = np.arange(len(samples))\n",
    "group_width = 0.6\n",
    "width = group_width / len(models)\n",
    "cmap = plt.get_cmap(\"tab10\")\n",
    "\n",
    "plt.figure(figsize=(10, 6))\n",
    "plt.suptitle(\"Real/Fake Intra-cluster Mean Distance Ratios by Sample\")\n",
    "plt.subplot(211)\n",
    "for i, model in enumerate(models):\n",
    "    data = [compactness[model][j][\"gmean\"] for j in range(len(samples))]\n",
    "    boxplot = plt.boxplot(data, positions=x - group_width/2 + (2*i + 1)*width/2, notch=True, widths=width * 0.8)\n",
    "    plt.setp(boxplot[\"boxes\"], color=cmap(i))\n",
    "    plt.setp(boxplot[\"whiskers\"], color=cmap(i))\n",
    "    plt.setp(boxplot[\"caps\"], color=cmap(i))\n",
    "    plt.setp(boxplot[\"medians\"], color=\"#000000\")\n",
    "    plt.setp(boxplot[\"fliers\"], color=cmap(i))\n",
    "plt.title(\"Geometric Mean\")\n",
    "plt.xticks(x, [f\"Sample {j+1}\" for j in range(len(samples))])\n",
    "plt.grid(axis='y')\n",
    "\n",
    "plt.subplot(212)\n",
    "for i, model in enumerate(models):\n",
    "    data = [compactness[model][j][\"hmean\"] for j in range(len(samples))]\n",
    "    boxplot = plt.boxplot(data, positions=x - group_width/2 + (2*i + 1)*width/2, notch=True, widths=width * 0.8)\n",
    "    plt.setp(boxplot[\"boxes\"], color=cmap(i))\n",
    "    plt.setp(boxplot[\"whiskers\"], color=cmap(i))\n",
    "    plt.setp(boxplot[\"caps\"], color=cmap(i))\n",
    "    plt.setp(boxplot[\"medians\"], color=\"#000000\")\n",
    "    plt.setp(boxplot[\"fliers\"], color=cmap(i))\n",
    "\n",
    "plt.title(\"Harmonic Mean\")\n",
    "plt.xticks(x, [f\"Sample {j+1}\" for j in range(len(samples))])\n",
    "plt.grid(axis='y')\n",
    "\n",
    "legend_labels = []\n",
    "for model in models:\n",
    "    legend_labels.append(plt.plot([], label=model.upper()))\n",
    "\n",
    "plt.legend(loc=\"lower center\", ncol=len(models), bbox_to_anchor=(0.5, -0.3))\n",
    "plt.tight_layout()\n",
    "plt.savefig(\"../plots/dnagast_intra_distance.pgf\", bbox_inches=\"tight\")\n",
    "plt.show()"
   ]
  },
  {
   "cell_type": "code",
   "execution_count": 49,
   "id": "4a43250a-fa6d-4569-864c-c404edd18c2a",
   "metadata": {},
   "outputs": [
    {
     "data": {
      "text/html": [
       "<div>\n",
       "<style scoped>\n",
       "    .dataframe tbody tr th:only-of-type {\n",
       "        vertical-align: middle;\n",
       "    }\n",
       "\n",
       "    .dataframe tbody tr th {\n",
       "        vertical-align: top;\n",
       "    }\n",
       "\n",
       "    .dataframe thead th {\n",
       "        text-align: right;\n",
       "    }\n",
       "</style>\n",
       "<table border=\"1\" class=\"dataframe\">\n",
       "  <thead>\n",
       "    <tr style=\"text-align: right;\">\n",
       "      <th></th>\n",
       "      <th>Model</th>\n",
       "      <th>Sample 1</th>\n",
       "      <th>Sample 2</th>\n",
       "      <th>Sample 3</th>\n",
       "      <th>Sample 4</th>\n",
       "      <th>Sample 5</th>\n",
       "    </tr>\n",
       "  </thead>\n",
       "  <tbody>\n",
       "    <tr>\n",
       "      <th>0</th>\n",
       "      <td>DNAGAST</td>\n",
       "      <td>1.918</td>\n",
       "      <td>1.595</td>\n",
       "      <td>2.032</td>\n",
       "      <td>1.780</td>\n",
       "      <td>1.952</td>\n",
       "    </tr>\n",
       "    <tr>\n",
       "      <th>1</th>\n",
       "      <td>DNAWGAST</td>\n",
       "      <td>1.315</td>\n",
       "      <td>1.305</td>\n",
       "      <td>1.352</td>\n",
       "      <td>1.206</td>\n",
       "      <td>1.348</td>\n",
       "    </tr>\n",
       "    <tr>\n",
       "      <th>2</th>\n",
       "      <td>DNAVEEGAST</td>\n",
       "      <td>1.583</td>\n",
       "      <td>1.361</td>\n",
       "      <td>1.570</td>\n",
       "      <td>1.397</td>\n",
       "      <td>1.589</td>\n",
       "    </tr>\n",
       "    <tr>\n",
       "      <th>3</th>\n",
       "      <td>DNAVEEWGAST</td>\n",
       "      <td>2.459</td>\n",
       "      <td>1.847</td>\n",
       "      <td>2.433</td>\n",
       "      <td>1.832</td>\n",
       "      <td>2.253</td>\n",
       "    </tr>\n",
       "  </tbody>\n",
       "</table>\n",
       "</div>"
      ],
      "text/plain": [
       "         Model  Sample 1  Sample 2  Sample 3  Sample 4  Sample 5\n",
       "0      DNAGAST     1.918     1.595     2.032     1.780     1.952\n",
       "1     DNAWGAST     1.315     1.305     1.352     1.206     1.348\n",
       "2   DNAVEEGAST     1.583     1.361     1.570     1.397     1.589\n",
       "3  DNAVEEWGAST     2.459     1.847     2.433     1.832     2.253"
      ]
     },
     "execution_count": 49,
     "metadata": {},
     "output_type": "execute_result"
    }
   ],
   "source": [
    "rows = []\n",
    "for model in spread:\n",
    "    row = [model.upper()]\n",
    "    for sample in compactness[model]:\n",
    "        row.append(np.median(sample[\"gmean\"]))\n",
    "    rows.append(row)\n",
    "compactness_gmean_table = pd.DataFrame(rows, columns=[\"Model\", *[f\"Sample {i+1}\" for i in range(len(samples))]]).round(3)\n",
    "compactness_gmean_table"
   ]
  },
  {
   "cell_type": "code",
   "execution_count": 50,
   "id": "0ba5f5d7-0ea5-4d86-a494-6949c2be1857",
   "metadata": {},
   "outputs": [
    {
     "name": "stderr",
     "output_type": "stream",
     "text": [
      "/tmp/ipykernel_3605250/2049575558.py:2: FutureWarning: In future versions `DataFrame.to_latex` is expected to utilise the base implementation of `Styler.to_latex` for formatting and rendering. The arguments signature may therefore change. It is recommended instead to use `DataFrame.style.to_latex` which also contains additional functionality.\n",
      "  f.write(compactness_gmean_table.to_latex(index=False))\n"
     ]
    }
   ],
   "source": [
    "with open(\"./tmp/dnagast_intra_distance_gmean.tex\", 'w') as f:\n",
    "    f.write(compactness_gmean_table.to_latex(index=False))"
   ]
  },
  {
   "cell_type": "code",
   "execution_count": 51,
   "id": "6b996995-a8df-403d-bff2-55fdcdd0228e",
   "metadata": {},
   "outputs": [
    {
     "data": {
      "text/html": [
       "<div>\n",
       "<style scoped>\n",
       "    .dataframe tbody tr th:only-of-type {\n",
       "        vertical-align: middle;\n",
       "    }\n",
       "\n",
       "    .dataframe tbody tr th {\n",
       "        vertical-align: top;\n",
       "    }\n",
       "\n",
       "    .dataframe thead th {\n",
       "        text-align: right;\n",
       "    }\n",
       "</style>\n",
       "<table border=\"1\" class=\"dataframe\">\n",
       "  <thead>\n",
       "    <tr style=\"text-align: right;\">\n",
       "      <th></th>\n",
       "      <th>Model</th>\n",
       "      <th>Sample 1</th>\n",
       "      <th>Sample 2</th>\n",
       "      <th>Sample 3</th>\n",
       "      <th>Sample 4</th>\n",
       "      <th>Sample 5</th>\n",
       "    </tr>\n",
       "  </thead>\n",
       "  <tbody>\n",
       "    <tr>\n",
       "      <th>0</th>\n",
       "      <td>DNAGAST</td>\n",
       "      <td>1.966</td>\n",
       "      <td>1.658</td>\n",
       "      <td>2.077</td>\n",
       "      <td>1.835</td>\n",
       "      <td>2.006</td>\n",
       "    </tr>\n",
       "    <tr>\n",
       "      <th>1</th>\n",
       "      <td>DNAWGAST</td>\n",
       "      <td>1.336</td>\n",
       "      <td>1.320</td>\n",
       "      <td>1.381</td>\n",
       "      <td>1.228</td>\n",
       "      <td>1.377</td>\n",
       "    </tr>\n",
       "    <tr>\n",
       "      <th>2</th>\n",
       "      <td>DNAVEEGAST</td>\n",
       "      <td>1.601</td>\n",
       "      <td>1.385</td>\n",
       "      <td>1.585</td>\n",
       "      <td>1.416</td>\n",
       "      <td>1.609</td>\n",
       "    </tr>\n",
       "    <tr>\n",
       "      <th>3</th>\n",
       "      <td>DNAVEEWGAST</td>\n",
       "      <td>2.485</td>\n",
       "      <td>1.875</td>\n",
       "      <td>2.468</td>\n",
       "      <td>1.845</td>\n",
       "      <td>2.279</td>\n",
       "    </tr>\n",
       "  </tbody>\n",
       "</table>\n",
       "</div>"
      ],
      "text/plain": [
       "         Model  Sample 1  Sample 2  Sample 3  Sample 4  Sample 5\n",
       "0      DNAGAST     1.966     1.658     2.077     1.835     2.006\n",
       "1     DNAWGAST     1.336     1.320     1.381     1.228     1.377\n",
       "2   DNAVEEGAST     1.601     1.385     1.585     1.416     1.609\n",
       "3  DNAVEEWGAST     2.485     1.875     2.468     1.845     2.279"
      ]
     },
     "execution_count": 51,
     "metadata": {},
     "output_type": "execute_result"
    }
   ],
   "source": [
    "rows = []\n",
    "for model in spread:\n",
    "    row = [model.upper()]\n",
    "    for sample in compactness[model]:\n",
    "        row.append(np.median(sample[\"hmean\"]))\n",
    "    rows.append(row)\n",
    "compactness_hmean_table = pd.DataFrame(rows, columns=[\"Model\", *[f\"Sample {i+1}\" for i in range(len(samples))]]).round(3)\n",
    "compactness_hmean_table"
   ]
  },
  {
   "cell_type": "code",
   "execution_count": 52,
   "id": "4beceea7-86e1-4899-beaa-3e800db523ec",
   "metadata": {},
   "outputs": [
    {
     "name": "stderr",
     "output_type": "stream",
     "text": [
      "/tmp/ipykernel_3605250/1985302413.py:2: FutureWarning: In future versions `DataFrame.to_latex` is expected to utilise the base implementation of `Styler.to_latex` for formatting and rendering. The arguments signature may therefore change. It is recommended instead to use `DataFrame.style.to_latex` which also contains additional functionality.\n",
      "  f.write(compactness_hmean_table.to_latex(index=False))\n"
     ]
    }
   ],
   "source": [
    "with open(\"./tmp/dnagast_intra_distance_hmean.tex\", 'w') as f:\n",
    "    f.write(compactness_hmean_table.to_latex(index=False))"
   ]
  },
  {
   "cell_type": "markdown",
   "id": "0fc99576-913c-44ea-b795-ccc87fda4c3c",
   "metadata": {},
   "source": [
    "## Inter-cluster Distances"
   ]
  },
  {
   "cell_type": "code",
   "execution_count": 114,
   "id": "07ccbcd7-9a2a-47ab-8376-9c512c80b5ae",
   "metadata": {},
   "outputs": [],
   "source": [
    "spread = {m: compute_spread(distance_matrices[m]) for m in models}"
   ]
  },
  {
   "cell_type": "code",
   "execution_count": 53,
   "id": "09bd483a-acac-40eb-b350-d73b62463f3c",
   "metadata": {},
   "outputs": [
    {
     "data": {
      "image/png": "[encoded data removed]",
      "text/plain": [
       "<Figure size 792x288 with 2 Axes>"
      ]
     },
     "metadata": {
      "needs_background": "light"
     },
     "output_type": "display_data"
    }
   ],
   "source": [
    "fig, (ax1, ax2) = plt.subplots(1, 2, figsize=(11, 4), sharex=True)\n",
    "\n",
    "ax1.boxplot([spread[m][\"gmean\"] for m in models], notch=True, vert=True, labels=[m.upper() for m in models], widths=0.25)\n",
    "ax1.set_title(\"Geometric Mean\")\n",
    "ax1.grid(axis='y')\n",
    "\n",
    "ax2.boxplot([spread[m][\"hmean\"] for m in models], notch=True, vert=True, labels=[m.upper() for m in models], widths=0.25)\n",
    "ax2.set_title(\"Harmonic Mean\")\n",
    "ax2.grid(axis='y')\n",
    "\n",
    "fig.suptitle(\"Real/Fake Inter-cluster Mean Distance Ratios\")\n",
    "fig.tight_layout()\n",
    "fig.savefig(\"../plots/dnagast_inter_distance.pgf\")\n",
    "fig.show()"
   ]
  },
  {
   "cell_type": "code",
   "execution_count": 54,
   "id": "82ffd8ca-865e-4179-9cdc-bb758b5e2646",
   "metadata": {},
   "outputs": [
    {
     "data": {
      "text/html": [
       "<div>\n",
       "<style scoped>\n",
       "    .dataframe tbody tr th:only-of-type {\n",
       "        vertical-align: middle;\n",
       "    }\n",
       "\n",
       "    .dataframe tbody tr th {\n",
       "        vertical-align: top;\n",
       "    }\n",
       "\n",
       "    .dataframe thead th {\n",
       "        text-align: right;\n",
       "    }\n",
       "</style>\n",
       "<table border=\"1\" class=\"dataframe\">\n",
       "  <thead>\n",
       "    <tr style=\"text-align: right;\">\n",
       "      <th></th>\n",
       "      <th>Model</th>\n",
       "      <th>Geometric Mean</th>\n",
       "      <th>Harmonic Mean</th>\n",
       "    </tr>\n",
       "  </thead>\n",
       "  <tbody>\n",
       "    <tr>\n",
       "      <th>0</th>\n",
       "      <td>DNAGAST</td>\n",
       "      <td>1.162</td>\n",
       "      <td>1.328</td>\n",
       "    </tr>\n",
       "    <tr>\n",
       "      <th>1</th>\n",
       "      <td>DNAWGAST</td>\n",
       "      <td>1.031</td>\n",
       "      <td>1.015</td>\n",
       "    </tr>\n",
       "    <tr>\n",
       "      <th>2</th>\n",
       "      <td>DNAVEEGAST</td>\n",
       "      <td>1.101</td>\n",
       "      <td>1.203</td>\n",
       "    </tr>\n",
       "    <tr>\n",
       "      <th>3</th>\n",
       "      <td>DNAVEEWGAST</td>\n",
       "      <td>1.217</td>\n",
       "      <td>1.545</td>\n",
       "    </tr>\n",
       "  </tbody>\n",
       "</table>\n",
       "</div>"
      ],
      "text/plain": [
       "         Model  Geometric Mean  Harmonic Mean\n",
       "0      DNAGAST           1.162          1.328\n",
       "1     DNAWGAST           1.031          1.015\n",
       "2   DNAVEEGAST           1.101          1.203\n",
       "3  DNAVEEWGAST           1.217          1.545"
      ]
     },
     "execution_count": 54,
     "metadata": {},
     "output_type": "execute_result"
    }
   ],
   "source": [
    "rows = []\n",
    "for model in spread:\n",
    "    gmean = np.median(spread[model][\"gmean\"])\n",
    "    hmean = np.median(spread[model][\"hmean\"])\n",
    "    rows.append([model.upper(), gmean, hmean])\n",
    "spread_table = pd.DataFrame(rows, columns=[\"Model\", \"Geometric Mean\", \"Harmonic Mean\"]).round(3)\n",
    "spread_table"
   ]
  },
  {
   "cell_type": "code",
   "execution_count": 55,
   "id": "6d6ad84a-cce5-4d53-9a98-df9121bcbe09",
   "metadata": {},
   "outputs": [
    {
     "name": "stderr",
     "output_type": "stream",
     "text": [
      "/tmp/ipykernel_3605250/619736504.py:2: FutureWarning: In future versions `DataFrame.to_latex` is expected to utilise the base implementation of `Styler.to_latex` for formatting and rendering. The arguments signature may therefore change. It is recommended instead to use `DataFrame.style.to_latex` which also contains additional functionality.\n",
      "  f.write(spread_table.to_latex(index=False))\n"
     ]
    }
   ],
   "source": [
    "with open(\"./tmp/dnagast_inter_distance.tex\", 'w') as f:\n",
    "    f.write(spread_table.to_latex(index=False))"
   ]
  },
  {
   "cell_type": "code",
   "execution_count": null,
   "id": "20176c80-edef-419a-8196-0e78f6e05c38",
   "metadata": {},
   "outputs": [],
   "source": []
  }
 ],
 "metadata": {
  "kernelspec": {
   "display_name": "Python 3 (ipykernel)",
   "language": "python",
   "name": "python3"
  },
  "language_info": {
   "codemirror_mode": {
    "name": "ipython",
    "version": 3
   },
   "file_extension": ".py",
   "mimetype": "text/x-python",
   "name": "python",
   "nbconvert_exporter": "python",
   "pygments_lexer": "ipython3",
   "version": "3.10.4"
  }
 },
 "nbformat": 4,
 "nbformat_minor": 5
}
