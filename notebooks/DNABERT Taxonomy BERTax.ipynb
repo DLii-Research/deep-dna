{
 "cells": [
  {
   "cell_type": "code",
   "execution_count": 1,
   "id": "9b9d66e2-36cb-47ad-a405-f8130d3ff2ad",
   "metadata": {},
   "outputs": [],
   "source": [
    "import os\n",
    "os.environ[\"TF_CPP_MIN_LOG_LEVEL\"] = \"1\""
   ]
  },
  {
   "cell_type": "code",
   "execution_count": 2,
   "id": "0217f1e5-d006-4349-b510-aa1aaf2f0324",
   "metadata": {},
   "outputs": [],
   "source": [
    "import abc\n",
    "from collections import defaultdict\n",
    "import json\n",
    "from itertools import chain\n",
    "import matplotlib.pyplot as plt\n",
    "import numpy as np\n",
    "import numpy.typing as npt\n",
    "from pathlib import Path\n",
    "import tensorflow as tf\n",
    "import tf_utilities as tfu\n",
    "from tqdm.auto import tqdm\n",
    "from typing import Iterable, Generator, Optional\n",
    "import time\n",
    "import wandb\n",
    "\n",
    "from dnadb.datasets import Greengenes, Silva\n",
    "from dnadb import dna, fasta, sample, taxonomy\n",
    "\n",
    "from deepdna.data.dataset import Dataset\n",
    "from deepdna.data.tokenizers import AbstractTaxonomyTokenizer, NaiveTaxonomyTokenizer\n",
    "from deepdna.nn.models import custom_model, dnabert, load_model, taxonomy as tax_models\n",
    "from deepdna.nn.utils import encapsulate_model\n",
    "from deepdna.nn import layers, functional, utils"
   ]
  },
  {
   "cell_type": "code",
   "execution_count": 3,
   "id": "adbdd12e-425e-4f05-86a1-3f2349186ebe",
   "metadata": {},
   "outputs": [
    {
     "data": {
      "text/plain": [
       "([PhysicalDevice(name='/physical_device:CPU:0', device_type='CPU')],\n",
       " [PhysicalDevice(name='/physical_device:GPU:0', device_type='GPU')])"
      ]
     },
     "execution_count": 3,
     "metadata": {},
     "output_type": "execute_result"
    }
   ],
   "source": [
    "tfu.devices.select_gpu(0)"
   ]
  },
  {
   "cell_type": "markdown",
   "id": "9a507324-98a6-4e64-9a7e-41e8b23341b0",
   "metadata": {},
   "source": [
    "## Dataset"
   ]
  },
  {
   "cell_type": "code",
   "execution_count": 4,
   "id": "05f341b7-adf1-4ff3-8002-1e20a2ff5a91",
   "metadata": {},
   "outputs": [],
   "source": [
    "dataset = Dataset(\"/home/dwl2x/work/Datasets/Silva2/0\")\n",
    "train_fastas = tuple(map(sample.load_fasta, dataset.fasta_dbs(Dataset.Split.Train)))\n",
    "train_tax = tuple(map(taxonomy.TaxonomyDb, dataset.taxonomy_dbs(Dataset.Split.Train)))\n",
    "test_fastas = tuple(map(sample.load_fasta, dataset.fasta_dbs(Dataset.Split.Test)))\n",
    "test_tax = tuple(map(taxonomy.TaxonomyDb, dataset.taxonomy_dbs(Dataset.Split.Test)))"
   ]
  },
  {
   "cell_type": "code",
   "execution_count": 5,
   "id": "caee8e83-27e4-48d3-8970-fd14bc186748",
   "metadata": {},
   "outputs": [],
   "source": [
    "for label in test_tax[0]:\n",
    "    assert train_tax[0].contains_label(label)"
   ]
  },
  {
   "cell_type": "code",
   "execution_count": 6,
   "id": "95906939-7cf1-452a-9d70-41c7276c83d6",
   "metadata": {},
   "outputs": [],
   "source": [
    "tokenizer = NaiveTaxonomyTokenizer(depth=6)\n",
    "for db in train_tax:\n",
    "    tokenizer.add_labels(db)\n",
    "tokenizer.build()"
   ]
  },
  {
   "cell_type": "code",
   "execution_count": 7,
   "id": "8e6d1698-6c9a-450a-aaab-6610f58be13b",
   "metadata": {},
   "outputs": [],
   "source": [
    "from deepdna.data.samplers import SampleSampler, SequenceSampler\n",
    "from deepdna.nn.data_generators import _encode_sequences, BatchGenerator\n",
    "from typing import Any, cast\n",
    "\n",
    "class SequenceTaxonomyGenerator(BatchGenerator):\n",
    "    def __init__(\n",
    "        self,\n",
    "        fasta_taxonomy_pairs: Iterable[tuple[sample.FastaSample, taxonomy.TaxonomyDb]],\n",
    "        sequence_length: int,\n",
    "        taxonomy_tokenizer: AbstractTaxonomyTokenizer,\n",
    "        kmer: int = 1,\n",
    "        subsample_size: int|None = None,\n",
    "        batch_size: int = 32,\n",
    "        batches_per_epoch: int = 100,\n",
    "        augment_slide: bool = True,\n",
    "        augment_ambiguous_bases: bool = True,\n",
    "        balance: bool = False,\n",
    "        shuffle: bool = True,\n",
    "        rng: np.random.Generator = np.random.default_rng()\n",
    "    ):\n",
    "        super().__init__(\n",
    "            batch_size=batch_size,\n",
    "            batches_per_epoch=batches_per_epoch,\n",
    "            shuffle=shuffle,\n",
    "            rng=rng\n",
    "        )\n",
    "        fasta_samples, taxonomy_dbs = zip(*fasta_taxonomy_pairs)\n",
    "        self.sample_sampler = SampleSampler(cast(tuple[sample.FastaSample, ...], fasta_samples))\n",
    "        self.sequence_sampler = SequenceSampler(sequence_length, augment_slide)\n",
    "        self.taxonomy_dbs: tuple[taxonomy.TaxonomyDb, ...] = cast(Any, taxonomy_dbs)\n",
    "        self.kmer = kmer\n",
    "        self.taxonomy_tokenizer = taxonomy_tokenizer\n",
    "        self.subsample_size = subsample_size\n",
    "        self.augment_ambiguous_bases = augment_ambiguous_bases\n",
    "        self.balance = balance\n",
    "\n",
    "    @property\n",
    "    def sequence_length(self) -> int:\n",
    "        return self.sequence_sampler.sequence_length\n",
    "\n",
    "    def generate_batch(\n",
    "        self,\n",
    "        rng: np.random.Generator\n",
    "    ) -> tuple[npt.NDArray[np.int32], npt.NDArray[np.int32]]:\n",
    "        subsample_size = self.subsample_size or 1\n",
    "        sequences = np.empty((self.batch_size, subsample_size), dtype=f\"<U{self.sequence_length}\")\n",
    "        sample_ids = np.empty(self.batch_size, dtype=np.int32)\n",
    "        sequence_ids = [None] * self.batch_size\n",
    "        label_ids = np.empty((self.batch_size, subsample_size, self.taxonomy_tokenizer.depth), dtype=np.int32)\n",
    "        samples = self.sample_sampler.sample_with_ids(self.batch_size, self.balance, rng)\n",
    "        for i, (sample_id, sample) in enumerate(samples):\n",
    "            tax_db = self.taxonomy_dbs[sample_id]\n",
    "            sequence_info = tuple(self.sequence_sampler.sample_with_ids(sample, subsample_size, rng))\n",
    "            sequence_ids[i], sequences[i] = zip(*sequence_info)\n",
    "            sample_ids[i] = sample_id\n",
    "            label_ids[i] = [self.taxonomy_tokenizer.tokenize_label(tax_db.fasta_id_to_label(fasta_id)) for fasta_id in sequence_ids[i]]\n",
    "        sequences = _encode_sequences(sequences, self.augment_ambiguous_bases, self.rng)\n",
    "        if self.subsample_size is None:\n",
    "            sequences = np.squeeze(sequences, axis=1)\n",
    "            label_ids = np.squeeze(label_ids, axis=1)\n",
    "        sequences = sequences.astype(np.int32)\n",
    "        if self.kmer > 1:\n",
    "            sequences = dna.encode_kmers(sequences, self.kmer, not self.augment_ambiguous_bases).astype(np.int32) # type: ignore\n",
    "        return sample_ids, sequence_ids, sequences, tuple(label_ids.T)\n",
    "\n",
    "    def reduce_batch(self, batch):\n",
    "        # remove sample IDs and sequence IDs\n",
    "        return batch[2:]"
   ]
  },
  {
   "cell_type": "markdown",
   "id": "a0be0fe5-be19-4329-a04f-baf13a24eed2",
   "metadata": {},
   "source": [
    "## Model"
   ]
  },
  {
   "cell_type": "code",
   "execution_count": 8,
   "id": "cc66d20f-4d77-459a-a838-3367d852ea2e",
   "metadata": {},
   "outputs": [
    {
     "name": "stderr",
     "output_type": "stream",
     "text": [
      "Failed to detect the name of this notebook, you can set it manually with the WANDB_NOTEBOOK_NAME environment variable to enable code saving.\n",
      "\u001b[34m\u001b[1mwandb\u001b[0m: Currently logged in as: \u001b[33msirdavidludwig\u001b[0m. Use \u001b[1m`wandb login --relogin`\u001b[0m to force relogin\n"
     ]
    },
    {
     "data": {
      "text/html": [
       "wandb version 0.15.10 is available!  To upgrade, please run:\n",
       " $ pip install wandb --upgrade"
      ],
      "text/plain": [
       "<IPython.core.display.HTML object>"
      ]
     },
     "metadata": {},
     "output_type": "display_data"
    },
    {
     "data": {
      "text/html": [
       "Tracking run with wandb version 0.15.8"
      ],
      "text/plain": [
       "<IPython.core.display.HTML object>"
      ]
     },
     "metadata": {},
     "output_type": "display_data"
    },
    {
     "data": {
      "text/html": [
       "Run data is saved locally in <code>/home/dwl2x/work/deep-dna/notebooks/wandb/run-20230908_233811-xa9s8fj7</code>"
      ],
      "text/plain": [
       "<IPython.core.display.HTML object>"
      ]
     },
     "metadata": {},
     "output_type": "display_data"
    },
    {
     "data": {
      "text/html": [
       "Syncing run <strong><a href='https://wandb.ai/sirdavidludwig/dnabert-taxonomy/runs/xa9s8fj7' target=\"_blank\">bertax 64d-150l</a></strong> to <a href='https://wandb.ai/sirdavidludwig/dnabert-taxonomy' target=\"_blank\">Weights & Biases</a> (<a href='https://wandb.me/run' target=\"_blank\">docs</a>)<br/>"
      ],
      "text/plain": [
       "<IPython.core.display.HTML object>"
      ]
     },
     "metadata": {},
     "output_type": "display_data"
    },
    {
     "data": {
      "text/html": [
       " View project at <a href='https://wandb.ai/sirdavidludwig/dnabert-taxonomy' target=\"_blank\">https://wandb.ai/sirdavidludwig/dnabert-taxonomy</a>"
      ],
      "text/plain": [
       "<IPython.core.display.HTML object>"
      ]
     },
     "metadata": {},
     "output_type": "display_data"
    },
    {
     "data": {
      "text/html": [
       " View run at <a href='https://wandb.ai/sirdavidludwig/dnabert-taxonomy/runs/xa9s8fj7' target=\"_blank\">https://wandb.ai/sirdavidludwig/dnabert-taxonomy/runs/xa9s8fj7</a>"
      ],
      "text/plain": [
       "<IPython.core.display.HTML object>"
      ]
     },
     "metadata": {},
     "output_type": "display_data"
    }
   ],
   "source": [
    "# api = wandb.Api()\n",
    "run = wandb.init(project=\"dnabert-taxonomy\", name=\"bertax 64d-150l\")"
   ]
  },
  {
   "cell_type": "code",
   "execution_count": 9,
   "id": "e7cba1f3-9b72-4d69-8771-2e892441fe23",
   "metadata": {},
   "outputs": [
    {
     "name": "stderr",
     "output_type": "stream",
     "text": [
      "\u001b[34m\u001b[1mwandb\u001b[0m:   4 of 4 files downloaded.  \n"
     ]
    }
   ],
   "source": [
    "# path = api.artifact(\"sirdavidludwig/dnabert-pretrain/dnabert-pretrain-silva-64:v3\").download()\n",
    "path = run.use_artifact(\"sirdavidludwig/dnabert-pretrain/dnabert-pretrain-silva-64:v3\").download()\n",
    "dnabert_model = load_model(path, dnabert.DnaBertPretrainModel).base"
   ]
  },
  {
   "cell_type": "code",
   "execution_count": 10,
   "id": "baca7f3e-ca77-4814-b8e7-6b5b8ac41173",
   "metadata": {},
   "outputs": [],
   "source": [
    "encoder = dnabert.DnaBertEncoderModel(dnabert_model, 256)\n",
    "model = tax_models.BertaxTaxonomyClassificationModel(encoder, tokenizer)\n",
    "model.compile(optimizer=tf.keras.optimizers.Adam(1e-4))"
   ]
  },
  {
   "cell_type": "code",
   "execution_count": 8,
   "id": "c6be2284-4824-46c3-b91e-84978433c3cd",
   "metadata": {},
   "outputs": [],
   "source": [
    "common_args = dict(\n",
    "    sequence_length = 150,\n",
    "    kmer = 3,\n",
    "    taxonomy_tokenizer = model.taxonomy_tokenizer,\n",
    "    subsample_size=None,\n",
    "    batch_size = 256,\n",
    ")\n",
    "\n",
    "train_data = SequenceTaxonomyGenerator(\n",
    "    zip(train_fastas, train_tax),\n",
    "    batches_per_epoch=100,\n",
    "    **common_args)\n",
    "test_data = SequenceTaxonomyGenerator(\n",
    "    zip(test_fastas, test_tax),\n",
    "    batches_per_epoch=20,\n",
    "    shuffle=False,\n",
    "    **common_args)"
   ]
  },
  {
   "cell_type": "code",
   "execution_count": 13,
   "id": "605fdf84-d31c-4821-9622-3afef0c86de4",
   "metadata": {},
   "outputs": [],
   "source": [
    "wandb_callback = wandb.keras.WandbCallback(save_model=False)\n",
    "wandb_callback.save_model_as_artifact = False\n",
    "checkpoint = tf.keras.callbacks.ModelCheckpoint(\"logs/models/dnabert_taxonomy_bertax\", save_best=False)"
   ]
  },
  {
   "cell_type": "code",
   "execution_count": null,
   "id": "73899004-8c5d-429b-b7ed-7b6c66606dad",
   "metadata": {},
   "outputs": [
    {
     "name": "stdout",
     "output_type": "stream",
     "text": [
      "Epoch 3501/4000\n",
      "  6/100 [>.............................] - ETA: 21s - loss: 2.7116 - kingdom_loss: 0.0069 - phylum_loss: 0.1426 - class_loss: 0.2411 - order_loss: 0.4792 - family_loss: 0.6001 - genus_loss: 1.2417 - kingdom_sparse_categorical_accuracy: 0.9993 - phylum_sparse_categorical_accuracy: 0.9707 - class_sparse_categorical_accuracy: 0.9551 - order_sparse_categorical_accuracy: 0.9076 - family_sparse_categorical_accuracy: 0.8698 - genus_sparse_categorical_accuracy: 0.7194WARNING:tensorflow:Callback method `on_train_batch_end` is slow compared to the batch time (batch time: 0.0961s vs `on_train_batch_end` time: 0.1270s). Check your callbacks.\n"
     ]
    },
    {
     "name": "stderr",
     "output_type": "stream",
     "text": [
      "WARNING:tensorflow:Callback method `on_train_batch_end` is slow compared to the batch time (batch time: 0.0961s vs `on_train_batch_end` time: 0.1270s). Check your callbacks.\n"
     ]
    },
    {
     "name": "stdout",
     "output_type": "stream",
     "text": [
      " 12/100 [==>...........................] - ETA: 19s - loss: 2.7392 - kingdom_loss: 0.0063 - phylum_loss: 0.1325 - class_loss: 0.2394 - order_loss: 0.4727 - family_loss: 0.6417 - genus_loss: 1.2466 - kingdom_sparse_categorical_accuracy: 0.9990 - phylum_sparse_categorical_accuracy: 0.9730 - class_sparse_categorical_accuracy: 0.9544 - order_sparse_categorical_accuracy: 0.9017 - family_sparse_categorical_accuracy: 0.8538 - genus_sparse_categorical_accuracy: 0.7181"
     ]
    }
   ],
   "source": [
    "model.fit(train_data, validation_data=test_data, epochs=4000, initial_epoch=3500, callbacks=[wandb_callback, checkpoint])"
   ]
  },
  {
   "cell_type": "code",
   "execution_count": 20,
   "id": "bc83aca8-a7c1-4ff4-bd0c-ea17f59ae8cd",
   "metadata": {},
   "outputs": [
    {
     "name": "stderr",
     "output_type": "stream",
     "text": [
      "WARNING:absl:Found untraced functions such as embedding_layer_call_fn, embedding_layer_call_and_return_conditional_losses, layer_normalization_layer_call_fn, layer_normalization_layer_call_and_return_conditional_losses, layer_normalization_1_layer_call_fn while saving (showing 5 of 178). These functions will not be directly callable after loading.\n"
     ]
    },
    {
     "name": "stdout",
     "output_type": "stream",
     "text": [
      "INFO:tensorflow:Assets written to: logs/models/dnabert_taxonomy_bertax/assets\n"
     ]
    },
    {
     "name": "stderr",
     "output_type": "stream",
     "text": [
      "INFO:tensorflow:Assets written to: logs/models/dnabert_taxonomy_bertax/assets\n",
      "/opt/conda/lib/python3.10/site-packages/keras/engine/functional.py:1384: CustomMaskWarning: Custom mask layers require a config and must override get_config. When loading, the custom mask layer must be passed to the custom_objects argument.\n",
      "  layer_config = serialize_layer_fn(layer)\n",
      "/opt/conda/lib/python3.10/site-packages/keras/saving/saved_model/layer_serialization.py:112: CustomMaskWarning: Custom mask layers require a config and must override get_config. When loading, the custom mask layer must be passed to the custom_objects argument.\n",
      "  return generic_utils.serialize_keras_object(obj)\n"
     ]
    }
   ],
   "source": [
    "model.save(\"logs/models/dnabert_taxonomy_bertax\")"
   ]
  },
  {
   "cell_type": "code",
   "execution_count": 21,
   "id": "e4500eed-a749-4459-9ad0-b3e1dbc94f5e",
   "metadata": {},
   "outputs": [],
   "source": [
    "a = wandb.Artifact(name=\"dnabert-taxonomy-bertax-64d-150l\", type=\"model\")"
   ]
  },
  {
   "cell_type": "code",
   "execution_count": 22,
   "id": "567113a8-5853-4a4f-942d-7985a922c2ab",
   "metadata": {},
   "outputs": [
    {
     "name": "stderr",
     "output_type": "stream",
     "text": [
      "\u001b[34m\u001b[1mwandb\u001b[0m: Adding directory to artifact (./logs/models/dnabert_taxonomy_bertax)... Done. 2.8s\n"
     ]
    }
   ],
   "source": [
    "a.add_dir(\"logs/models/dnabert_taxonomy_bertax\")"
   ]
  },
  {
   "cell_type": "code",
   "execution_count": 23,
   "id": "e2054e2e-f842-4fd5-9e76-683c38cdb101",
   "metadata": {},
   "outputs": [
    {
     "data": {
      "text/plain": [
       "<Artifact dnabert-taxonomy-bertax-64d-150l>"
      ]
     },
     "execution_count": 23,
     "metadata": {},
     "output_type": "execute_result"
    }
   ],
   "source": [
    "run.log_artifact(a)"
   ]
  },
  {
   "cell_type": "code",
   "execution_count": 24,
   "id": "dcd5f589-bebc-4848-98ae-17576ef6ccff",
   "metadata": {},
   "outputs": [
    {
     "data": {
      "text/html": [
       "Waiting for W&B process to finish... <strong style=\"color:green\">(success).</strong>"
      ],
      "text/plain": [
       "<IPython.core.display.HTML object>"
      ]
     },
     "metadata": {},
     "output_type": "display_data"
    },
    {
     "name": "stderr",
     "output_type": "stream",
     "text": [
      "wandb: WARNING Source type is set to 'repo' but some required information is missing from the environment. A job will not be created from this run. See https://docs.wandb.ai/guides/launch/create-job\n"
     ]
    },
    {
     "data": {
      "text/html": [
       "<style>\n",
       "    table.wandb td:nth-child(1) { padding: 0 10px; text-align: left ; width: auto;} td:nth-child(2) {text-align: left ; width: 100%}\n",
       "    .wandb-row { display: flex; flex-direction: row; flex-wrap: wrap; justify-content: flex-start; width: 100% }\n",
       "    .wandb-col { display: flex; flex-direction: column; flex-basis: 100%; flex: 1; padding: 10px; }\n",
       "    </style>\n",
       "<div class=\"wandb-row\"><div class=\"wandb-col\"><h3>Run history:</h3><br/><table class=\"wandb\"><tr><td>class_loss</td><td>█▅▃▃▃▂▂▂▂▂▂▂▂▂▂▂▁▁▁▁▁▁▁▁▁▁▁▁▁▁▁▁▁▁▁▁▁▁▁▁</td></tr><tr><td>class_sparse_categorical_accuracy</td><td>▁▄▅▆▆▆▇▇▇▇▇▇▇▇▇▇████████████████████████</td></tr><tr><td>epoch</td><td>▁▁▁▂▂▂▂▂▂▃▃▃▃▃▄▄▄▄▄▄▅▅▅▅▅▅▆▆▆▆▆▇▇▇▇▇▇███</td></tr><tr><td>family_loss</td><td>█▅▄▃▃▃▂▂▂▂▂▂▂▂▂▂▂▂▁▁▁▁▁▁▁▁▁▁▁▁▁▁▁▁▁▁▁▁▁▁</td></tr><tr><td>family_sparse_categorical_accuracy</td><td>▁▄▅▆▆▆▇▇▇▇▇▇▇▇▇▇▇▇██▇███████████████████</td></tr><tr><td>genus_loss</td><td>█▅▄▃▃▃▃▂▂▂▂▂▂▂▂▂▂▂▁▂▂▂▁▁▁▁▁▁▁▁▁▁▁▁▁▁▁▁▁▁</td></tr><tr><td>genus_sparse_categorical_accuracy</td><td>▁▃▄▅▅▆▆▆▆▆▇▇▇▇▇▇▇▇▇▇▇▇▇▇▇███████████████</td></tr><tr><td>kingdom_loss</td><td>█▅▄▅▄▃▃▃▃▃▂▂▂▃▃▂▂▂▂▂▂▂▂▁▂▁▂▁▁▂▂▂▁▁▂▂▁▂▁▂</td></tr><tr><td>kingdom_sparse_categorical_accuracy</td><td>▁▃▅▄▄▆▆▆▆▇▇▇█▆▆█▇▆▇▇▇▇▇▇▆█▇▇█▇▇▇▇█▇▇█▇█▆</td></tr><tr><td>loss</td><td>█▅▄▃▃▃▂▂▂▂▂▂▂▂▂▂▂▂▁▁▁▁▁▁▁▁▁▁▁▁▁▁▁▁▁▁▁▁▁▁</td></tr><tr><td>order_loss</td><td>█▅▄▃▃▃▂▂▂▂▂▂▂▂▂▂▂▂▁▁▁▁▁▁▁▁▁▁▁▁▁▁▁▁▁▁▁▁▁▁</td></tr><tr><td>order_sparse_categorical_accuracy</td><td>▁▄▅▆▆▆▇▇▇▇▇▇▇▇▇▇▇▇██████████████████████</td></tr><tr><td>phylum_loss</td><td>█▅▃▃▃▂▂▂▂▂▂▂▂▁▁▂▁▁▁▁▁▁▁▁▁▁▁▁▁▁▁▁▁▁▁▁▁▁▁▁</td></tr><tr><td>phylum_sparse_categorical_accuracy</td><td>▁▄▅▆▆▇▇▇▇▇▇▇▇▇▇▇████████████████████████</td></tr><tr><td>val_class_loss</td><td>█▅▃▃▃▂▂▂▂▂▂▂▂▂▂▂▂▂▂▂▂▂▂▂▁▁▂▁▁▁▁▁▁▁▁▁▁▁▂▁</td></tr><tr><td>val_class_sparse_categorical_accuracy</td><td>▁▄▅▆▆▆▆▇▇▇▇▇▇▇▇▇▇▇▇▇▇▇▇▇▇█▇▇█▇▇█████▇█▇█</td></tr><tr><td>val_family_loss</td><td>█▅▄▃▃▃▂▂▂▂▂▂▂▂▂▂▂▁▁▁▂▂▁▁▁▁▁▁▁▁▁▁▁▁▁▁▁▁▁▁</td></tr><tr><td>val_family_sparse_categorical_accuracy</td><td>▁▄▅▆▆▆▇▇▇▇▇▇▇▇▇▇▇▇██████████████████████</td></tr><tr><td>val_genus_loss</td><td>█▅▄▄▃▃▃▂▂▂▂▂▂▂▂▂▂▂▂▂▂▂▂▁▂▁▁▂▁▁▁▁▁▁▁▁▁▁▁▁</td></tr><tr><td>val_genus_sparse_categorical_accuracy</td><td>▁▃▄▅▅▆▆▆▆▆▇▇▇▇▇▇▇▇▇▇▇▇▇█▇██▇█▇██████████</td></tr><tr><td>val_kingdom_loss</td><td>█▅▄▃▃▃▂▃▂▃▂▃▂▂▂▂▂▂▂▂▃▂▂▃▂▂▅▃▂▄▁▁▁▃▂▃▃▆▁▂</td></tr><tr><td>val_kingdom_sparse_categorical_accuracy</td><td>▁▄▇█▇▅█▇▇██▇▇▆▅█▆▇▇█▅▇█▇▇▇▅▇▆▆██▇▇▇▅▇▄▇▇</td></tr><tr><td>val_loss</td><td>█▅▄▃▃▃▂▂▂▂▂▂▂▂▂▂▂▂▂▁▂▂▁▁▁▁▁▁▁▁▁▁▁▁▁▁▁▁▁▁</td></tr><tr><td>val_order_loss</td><td>█▅▄▃▃▃▂▂▂▂▂▂▂▂▂▂▂▂▂▂▂▂▁▂▁▁▁▁▁▁▁▁▁▁▁▁▂▁▁▁</td></tr><tr><td>val_order_sparse_categorical_accuracy</td><td>▁▄▅▆▆▆▇▇▇▇▇▇▇▇▇▇▇▇█▇▇▇█▇████████████████</td></tr><tr><td>val_phylum_loss</td><td>█▄▃▃▂▂▂▂▂▂▂▂▂▂▂▁▁▁▁▁▂▁▁▁▁▁▁▁▁▁▂▁▁▁▁▁▁▁▁▁</td></tr><tr><td>val_phylum_sparse_categorical_accuracy</td><td>▁▅▅▆▇▇▇▇▇▇▇▇▇▇████████████████▇█████████</td></tr></table><br/></div><div class=\"wandb-col\"><h3>Run summary:</h3><br/><table class=\"wandb\"><tr><td>best_epoch</td><td>3974</td></tr><tr><td>best_val_loss</td><td>2.12996</td></tr><tr><td>class_loss</td><td>0.24855</td></tr><tr><td>class_sparse_categorical_accuracy</td><td>0.9523</td></tr><tr><td>epoch</td><td>3999</td></tr><tr><td>family_loss</td><td>0.63633</td></tr><tr><td>family_sparse_categorical_accuracy</td><td>0.85992</td></tr><tr><td>genus_loss</td><td>1.30346</td></tr><tr><td>genus_sparse_categorical_accuracy</td><td>0.7248</td></tr><tr><td>kingdom_loss</td><td>0.00453</td></tr><tr><td>kingdom_sparse_categorical_accuracy</td><td>0.99902</td></tr><tr><td>loss</td><td>2.80598</td></tr><tr><td>order_loss</td><td>0.46873</td></tr><tr><td>order_sparse_categorical_accuracy</td><td>0.90766</td></tr><tr><td>phylum_loss</td><td>0.14437</td></tr><tr><td>phylum_sparse_categorical_accuracy</td><td>0.9702</td></tr><tr><td>val_class_loss</td><td>0.2098</td></tr><tr><td>val_class_sparse_categorical_accuracy</td><td>0.95723</td></tr><tr><td>val_family_loss</td><td>0.51319</td></tr><tr><td>val_family_sparse_categorical_accuracy</td><td>0.88457</td></tr><tr><td>val_genus_loss</td><td>1.13247</td></tr><tr><td>val_genus_sparse_categorical_accuracy</td><td>0.76816</td></tr><tr><td>val_kingdom_loss</td><td>0.00206</td></tr><tr><td>val_kingdom_sparse_categorical_accuracy</td><td>0.99941</td></tr><tr><td>val_loss</td><td>2.34645</td></tr><tr><td>val_order_loss</td><td>0.38063</td></tr><tr><td>val_order_sparse_categorical_accuracy</td><td>0.92266</td></tr><tr><td>val_phylum_loss</td><td>0.10829</td></tr><tr><td>val_phylum_sparse_categorical_accuracy</td><td>0.97812</td></tr></table><br/></div></div>"
      ],
      "text/plain": [
       "<IPython.core.display.HTML object>"
      ]
     },
     "metadata": {},
     "output_type": "display_data"
    },
    {
     "data": {
      "text/html": [
       " View run <strong style=\"color:#cdcd00\">bertax 64d-150l</strong> at: <a href='https://wandb.ai/sirdavidludwig/dnabert-taxonomy/runs/xa9s8fj7' target=\"_blank\">https://wandb.ai/sirdavidludwig/dnabert-taxonomy/runs/xa9s8fj7</a><br/>Synced 6 W&B file(s), 1 media file(s), 4 artifact file(s) and 0 other file(s)"
      ],
      "text/plain": [
       "<IPython.core.display.HTML object>"
      ]
     },
     "metadata": {},
     "output_type": "display_data"
    },
    {
     "data": {
      "text/html": [
       "Find logs at: <code>./wandb/run-20230908_233811-xa9s8fj7/logs</code>"
      ],
      "text/plain": [
       "<IPython.core.display.HTML object>"
      ]
     },
     "metadata": {},
     "output_type": "display_data"
    }
   ],
   "source": [
    "run.finish()"
   ]
  },
  {
   "cell_type": "code",
   "execution_count": 11,
   "id": "9ee2b23b-07f2-4f87-8b1b-7f2140ab307c",
   "metadata": {},
   "outputs": [
    {
     "name": "stdout",
     "output_type": "stream",
     "text": [
      "20/20 [==============================] - 2s 79ms/step\n"
     ]
    }
   ],
   "source": [
    "y_pred = model.predict(test_data)"
   ]
  },
  {
   "cell_type": "markdown",
   "id": "ec86040d-a586-4b16-9e81-12ebc0a9fdeb",
   "metadata": {},
   "source": [
    "### Direct Mapping to Taxons"
   ]
  },
  {
   "cell_type": "code",
   "execution_count": 12,
   "id": "20b4366a-bde8-46fc-9cf8-8a3c74d8fd7b",
   "metadata": {},
   "outputs": [
    {
     "data": {
      "text/plain": [
       "(5120, 6)"
      ]
     },
     "execution_count": 12,
     "metadata": {},
     "output_type": "execute_result"
    }
   ],
   "source": [
    "label_ids = []\n",
    "for rank in y_pred:\n",
    "    label_ids.append(np.argmax(rank, axis=1))\n",
    "label_ids = np.array(label_ids).T\n",
    "label_ids.shape"
   ]
  },
  {
   "cell_type": "code",
   "execution_count": 13,
   "id": "005df123-1da1-485d-a9a2-6e94aeeae8e0",
   "metadata": {},
   "outputs": [
    {
     "data": {
      "text/plain": [
       "array(['Archaea', 'Bacteria', 'Eukaryota'], dtype='<U9')"
      ]
     },
     "execution_count": 13,
     "metadata": {},
     "output_type": "execute_result"
    }
   ],
   "source": [
    "model.taxonomy_tokenizer.id_to_taxon_map[0]"
   ]
  },
  {
   "cell_type": "code",
   "execution_count": 14,
   "id": "8d8069cf-3f0d-41c2-88ac-f3679964c947",
   "metadata": {},
   "outputs": [],
   "source": [
    "labels_true = []\n",
    "for tokens in np.concatenate([np.array(batch[1]).T for batch in test_data], axis=0):\n",
    "    labels_true.append(taxonomy.join_taxonomy(tuple(model.taxonomy_tokenizer.id_to_taxon_map[d][i] for d, i in enumerate(tokens))))"
   ]
  },
  {
   "cell_type": "code",
   "execution_count": 15,
   "id": "ce7dcf53-e074-4c90-bbb1-83a4b2fc34e1",
   "metadata": {},
   "outputs": [],
   "source": [
    "labels_pred = []\n",
    "for tokens in label_ids:\n",
    "    labels_pred.append(taxonomy.join_taxonomy(tuple(model.taxonomy_tokenizer.id_to_taxon_map[d][i] for d, i in enumerate(tokens))))"
   ]
  },
  {
   "cell_type": "code",
   "execution_count": 16,
   "id": "9451273f-b7bd-45e1-9837-bec456c691ad",
   "metadata": {},
   "outputs": [
    {
     "data": {
      "text/plain": [
       "3730"
      ]
     },
     "execution_count": 16,
     "metadata": {},
     "output_type": "execute_result"
    }
   ],
   "source": [
    "correct = 0\n",
    "for y_p, y_t in zip(labels_true, labels_pred):\n",
    "    correct += y_p == y_t\n",
    "correct"
   ]
  },
  {
   "cell_type": "code",
   "execution_count": 17,
   "id": "c20c62c1-1a1f-47a9-9f6c-0e2237dff669",
   "metadata": {},
   "outputs": [
    {
     "data": {
      "text/plain": [
       "0.728515625"
      ]
     },
     "execution_count": 17,
     "metadata": {},
     "output_type": "execute_result"
    }
   ],
   "source": [
    "correct/len(labels_true)"
   ]
  },
  {
   "cell_type": "markdown",
   "id": "4996f45f-f89b-4d9d-82d5-e94da186d45b",
   "metadata": {},
   "source": [
    "### Constrain Taxon Selection using Tree"
   ]
  },
  {
   "cell_type": "code",
   "execution_count": 18,
   "id": "be4d1ab4-94f9-4fdf-a133-8705bdfaf9be",
   "metadata": {},
   "outputs": [],
   "source": [
    "labels_true = []\n",
    "for tokens in np.concatenate([np.array(batch[1]).T for batch in test_data], axis=0):\n",
    "    labels_true.append(taxonomy.join_taxonomy(tuple(model.taxonomy_tokenizer.id_to_taxon_map[d][i] for d, i in enumerate(tokens))))"
   ]
  },
  {
   "cell_type": "code",
   "execution_count": 19,
   "id": "70fee963-7601-4925-91e8-11de817083b5",
   "metadata": {},
   "outputs": [],
   "source": [
    "labels_pred = model.prediction_to_labels(y_pred)"
   ]
  },
  {
   "cell_type": "code",
   "execution_count": 20,
   "id": "54cef9ea-b47f-4f8d-8ac3-f3c0f5306446",
   "metadata": {},
   "outputs": [
    {
     "data": {
      "text/plain": [
       "3806"
      ]
     },
     "execution_count": 20,
     "metadata": {},
     "output_type": "execute_result"
    }
   ],
   "source": [
    "correct = 0\n",
    "for y_p, y_t in zip(labels_true, labels_pred):\n",
    "    correct += y_p == y_t\n",
    "correct"
   ]
  },
  {
   "cell_type": "code",
   "execution_count": 21,
   "id": "09a52cbf-f1b5-4c10-97be-fe23017ba698",
   "metadata": {},
   "outputs": [
    {
     "data": {
      "text/plain": [
       "0.743359375"
      ]
     },
     "execution_count": 21,
     "metadata": {},
     "output_type": "execute_result"
    }
   ],
   "source": [
    "correct/len(labels_true)"
   ]
  },
  {
   "cell_type": "markdown",
   "id": "69bae34a-fba5-4b97-b238-9fbebcf55bf5",
   "metadata": {},
   "source": [
    "## Synthetic Sample Evaluation"
   ]
  },
  {
   "cell_type": "code",
   "execution_count": 107,
   "id": "76a916bc-a84e-458c-b7e5-cb81c43c773a",
   "metadata": {},
   "outputs": [],
   "source": [
    "def taxons_to_label(tokenizer, y_pred):\n",
    "    head = tokenizer.tree\n",
    "    constrained_indices = np.array([tokenizer.taxon_to_id_map[0][k] for k in head.keys()])\n",
    "    taxons = []\n",
    "    for rank, rank_pred in enumerate(y_pred):\n",
    "        taxon_id = (constrained_indices[np.argmax(rank_pred[constrained_indices])])\n",
    "        taxon = tokenizer.id_to_taxon_map[rank][taxon_id]\n",
    "        taxons.append(taxon)\n",
    "        if rank < tokenizer.depth:\n",
    "            head = head[taxon]\n",
    "            constrained_indices = np.array([tokenizer.taxon_to_id_map[rank+1][k] for k in head.keys()])\n",
    "    return taxonomy.join_taxonomy(taxons)"
   ]
  },
  {
   "cell_type": "code",
   "execution_count": 5,
   "id": "9d0aa666-a09e-476a-bb31-95eca2217240",
   "metadata": {},
   "outputs": [
    {
     "name": "stderr",
     "output_type": "stream",
     "text": [
      "\u001b[34m\u001b[1mwandb\u001b[0m: Downloading large artifact dnabert-taxonomy-bertax-64d-150l:latest, 1232.67MB. 4 files... \n",
      "\u001b[34m\u001b[1mwandb\u001b[0m:   4 of 4 files downloaded.  \n",
      "Done. 0:0:1.7\n"
     ]
    }
   ],
   "source": [
    "api = wandb.Api()\n",
    "path = api.artifact(\"sirdavidludwig/dnabert-taxonomy/dnabert-taxonomy-bertax-64d-150l:latest\").download()\n",
    "model = load_model(path)"
   ]
  },
  {
   "cell_type": "code",
   "execution_count": 6,
   "id": "b8b36ff3-8179-4354-896f-01494a7d527b",
   "metadata": {},
   "outputs": [
    {
     "data": {
      "text/plain": [
       "<deepdna.nn.models.taxonomy.BertaxTaxonomyClassificationModel at 0x7fd0b4194d60>"
      ]
     },
     "execution_count": 6,
     "metadata": {},
     "output_type": "execute_result"
    }
   ],
   "source": [
    "model"
   ]
  },
  {
   "cell_type": "code",
   "execution_count": 9,
   "id": "345bea27-856f-470d-8234-ebbc02010434",
   "metadata": {},
   "outputs": [
    {
     "name": "stdout",
     "output_type": "stream",
     "text": [
      "20/20 [==============================] - 3s 79ms/step\n"
     ]
    },
    {
     "data": {
      "text/plain": [
       "array(['k__Bacteria; p__Bacteroidota; c__Bacteroidia; o__Chitinophagales; f__Chitinophagaceae; g__Chitinophaga',\n",
       "       'k__Bacteria; p__Proteobacteria; c__Gammaproteobacteria; o__Pseudomonadales; f__Nitrincolaceae; g__',\n",
       "       'k__Bacteria; p__Proteobacteria; c__Alphaproteobacteria; o__Rhizobiales; f__Rhizobiaceae; g__Mesorhizobium',\n",
       "       ...,\n",
       "       'k__Bacteria; p__Firmicutes; c__Bacilli; o__Staphylococcales; f__Staphylococcaceae; g__Staphylococcus',\n",
       "       'k__Bacteria; p__Firmicutes; c__Clostridia; o__Lachnospirales; f__Lachnospiraceae; g__Lachnospiraceae_NK4A136_group',\n",
       "       'k__Bacteria; p__Firmicutes; c__Bacilli; o__Staphylococcales; f__Staphylococcaceae; g__Staphylococcus'],\n",
       "      dtype='<U181')"
      ]
     },
     "execution_count": 9,
     "metadata": {},
     "output_type": "execute_result"
    }
   ],
   "source": [
    "model.classify(test_data)"
   ]
  },
  {
   "cell_type": "code",
   "execution_count": 46,
   "id": "f8bcc2aa-ced7-41a0-a7d3-36c4213ee96a",
   "metadata": {},
   "outputs": [
    {
     "name": "stdout",
     "output_type": "stream",
     "text": [
      "20/20 [==============================] - 2s 79ms/step\n"
     ]
    }
   ],
   "source": [
    "y_pred = model.predict(test_data)"
   ]
  },
  {
   "cell_type": "code",
   "execution_count": 99,
   "id": "0a6818e6-03b6-4060-b931-ed61081076fa",
   "metadata": {},
   "outputs": [],
   "source": [
    "y_pred_2 = [np.reshape(y, (8, 640, -1)) for y in y_pred]"
   ]
  },
  {
   "cell_type": "code",
   "execution_count": 55,
   "id": "dd39ee3e-c43e-4655-9ece-67b39122f229",
   "metadata": {},
   "outputs": [
    {
     "data": {
      "text/plain": [
       "(6, 5120)"
      ]
     },
     "execution_count": 55,
     "metadata": {},
     "output_type": "execute_result"
    }
   ],
   "source": [
    "y = np.array([np.argmax(y, axis=-1) for y in y_pred])\n",
    "y.shape"
   ]
  },
  {
   "cell_type": "code",
   "execution_count": 72,
   "id": "3ef015af-bccf-4c49-aeee-d8178341343b",
   "metadata": {},
   "outputs": [],
   "source": [
    "group = next(zip(*y_pred))"
   ]
  },
  {
   "cell_type": "code",
   "execution_count": 77,
   "id": "c66234a5-568a-4d3c-8278-9c94b1692ef9",
   "metadata": {},
   "outputs": [
    {
     "data": {
      "text/plain": [
       "array([1.11306654e-04, 9.99861121e-01, 2.75301845e-05], dtype=float32)"
      ]
     },
     "execution_count": 77,
     "metadata": {},
     "output_type": "execute_result"
    }
   ],
   "source": [
    "group[0]"
   ]
  },
  {
   "cell_type": "code",
   "execution_count": 97,
   "id": "1c6ac4af-06e8-4f9e-ac00-12c2182d2cb6",
   "metadata": {},
   "outputs": [],
   "source": [
    "def labelize(y_pred):\n",
    "    result = []\n",
    "    for group in zip(*y_pred):\n",
    "        if group[0].ndim == 1:\n",
    "            result.append(taxons_to_label(model.taxonomy_tokenizer, group))\n",
    "        else:\n",
    "            result.append(labelize(group))\n",
    "    return np.array(result)"
   ]
  },
  {
   "cell_type": "code",
   "execution_count": 106,
   "id": "8d3d9c09-78e4-4f11-8905-35e06f556045",
   "metadata": {},
   "outputs": [
    {
     "data": {
      "text/plain": [
       "True"
      ]
     },
     "execution_count": 106,
     "metadata": {},
     "output_type": "execute_result"
    }
   ],
   "source": [
    "np.all(labelize(y_pred_2).flatten() == labelize(y_pred))"
   ]
  },
  {
   "cell_type": "code",
   "execution_count": 69,
   "id": "c3f325df-80d8-434d-96a4-f975c2891bd5",
   "metadata": {},
   "outputs": [],
   "source": [
    "def labelize_group(y):\n",
    "    result = []\n",
    "    for group in zip(*y):\n",
    "        if np.issubdtype(type(group[0]), np.integer):\n",
    "            result.append(model.taxonomy_tokenizer.detokenize_label(group))\n",
    "        else:\n",
    "            result.append(labelize_group(group))\n",
    "    return np.array(result)"
   ]
  },
  {
   "cell_type": "code",
   "execution_count": 61,
   "id": "0e63769b-3e80-4612-bf5b-7ccf9f002c4f",
   "metadata": {},
   "outputs": [
    {
     "data": {
      "text/plain": [
       "True"
      ]
     },
     "execution_count": 61,
     "metadata": {},
     "output_type": "execute_result"
    }
   ],
   "source": [
    "np.issubdtype(type(np.int32(5)), np.integer)"
   ]
  },
  {
   "cell_type": "code",
   "execution_count": null,
   "id": "f069431f-be6e-4d00-b21e-589ef3e9fa39",
   "metadata": {},
   "outputs": [],
   "source": [
    "def naive_join(taxons_by_rank: tuple[npt.NDArray[str]]):\n"
   ]
  },
  {
   "cell_type": "code",
   "execution_count": 33,
   "id": "8b3ede11-da0a-4abf-aafb-8f7d38c7a155",
   "metadata": {},
   "outputs": [],
   "source": [
    "def fast_join(taxons_by_rank: tuple[npt.NDArray[str]]):\n",
    "    taxons_by_rank = [np.char.add(p+\"__\", r) for p, r in zip(taxonomy.RANK_PREFIXES, taxons_by_rank)]\n",
    "    result = taxons_by_rank[0]\n",
    "    for i in range(1, len(taxons_by_rank)):\n",
    "        result = np.char.add(np.char.add(result, \"; \"), taxons_by_rank[i])\n",
    "    return result"
   ]
  },
  {
   "cell_type": "code",
   "execution_count": 34,
   "id": "3104ad18-ead1-4304-9415-f52a7c0f2b54",
   "metadata": {},
   "outputs": [
    {
     "data": {
      "text/plain": [
       "array([['k__Archaea; p__aoeu', 'k__Archaea; p__nthu',\n",
       "        'k__Bacteria; p__nthoeu']], dtype='<U22')"
      ]
     },
     "execution_count": 34,
     "metadata": {},
     "output_type": "execute_result"
    }
   ],
   "source": [
    "fast_join((r1, r2))"
   ]
  },
  {
   "cell_type": "code",
   "execution_count": null,
   "id": "082e0fe8-bdd8-4289-a9d1-6b5cb0f99a36",
   "metadata": {},
   "outputs": [],
   "source": [
    "r2 = np.array([\"\"])"
   ]
  },
  {
   "cell_type": "code",
   "execution_count": 10,
   "id": "218c77b9-b6f8-489c-87de-c4dd6966a2be",
   "metadata": {},
   "outputs": [],
   "source": [
    "dataset = Dataset(\"/home/dwl2x/work/Datasets/Synthetic/Nachusa/test\")"
   ]
  },
  {
   "cell_type": "code",
   "execution_count": 39,
   "id": "079c84dd-cf2e-4d3f-9298-f1e05da09003",
   "metadata": {},
   "outputs": [
    {
     "name": "stdout",
     "output_type": "stream",
     "text": [
      "2100 ; Accuracy: 61.09%"
     ]
    }
   ],
   "source": [
    "accuracies = []\n",
    "for i, (sample_file, tax_file) in enumerate(zip(\n",
    "    dataset.fastas(Dataset.Split.Train),\n",
    "    dataset.taxonomies(Dataset.Split.Train)\n",
    ")):\n",
    "    print(f\"\\r{i+1:<5}; Accuracy: {np.mean(accuracies):.2%}\", end=\"\")\n",
    "    sequences = []\n",
    "    taxonomies = []\n",
    "    for sequence, tax in fasta.entries_with_taxonomy(fasta.entries(sample_file), taxonomy.entries(tax_file)):\n",
    "        sequences.append(dna.encode_sequence(sequence.sequence))\n",
    "        taxonomies.append(tax.label)\n",
    "    sequences = np.array(sequences)\n",
    "    sequences = dna.encode_kmers(sequences, 3)\n",
    "    y_pred = model.predict(sequences, batch_size=256, verbose=0)\n",
    "    y_pred = taxons_to_label(model.taxonomy_tokenizer, y_pred)\n",
    "    accuracy = sum(a == b for a, b in zip(y_pred, taxonomies)) / len(y_pred)\n",
    "    accuracies.append(accuracy)"
   ]
  },
  {
   "cell_type": "code",
   "execution_count": 41,
   "id": "8b12aa61-ac76-4082-84dc-c1aa31ebfb3c",
   "metadata": {},
   "outputs": [],
   "source": [
    "accuracies = np.array(accuracies)"
   ]
  },
  {
   "cell_type": "markdown",
   "id": "f6f278ea-f2b5-4bfe-aa6f-756214886914",
   "metadata": {},
   "source": [
    "DNABERT BERTax Accuracy"
   ]
  },
  {
   "cell_type": "code",
   "execution_count": 42,
   "id": "91feffac-6ce1-4c58-9d66-1f12fcfb47d8",
   "metadata": {},
   "outputs": [
    {
     "name": "stdout",
     "output_type": "stream",
     "text": [
      "DNABERT (BERTax Predictions):\n",
      "Evaluated across 210 Samples (10 subsamples of 1,000 sequences each):\n",
      "Metrics are computed across 2,100 subsamples.\n",
      "Min: 53.300000%\n",
      "Mean: 61.098762%\n",
      "Max: 87.600000%\n",
      "STD: 3.493216%\n"
     ]
    }
   ],
   "source": [
    "print(\"DNABERT (BERTax Predictions):\")\n",
    "print(\"Evaluated across 210 Samples (10 subsamples of 1,000 sequences each):\")\n",
    "print(\"Metrics are computed across 2,100 subsamples.\")\n",
    "print(f\"Min: {np.min(accuracies):%}\")\n",
    "print(f\"Mean: {np.mean(accuracies):%}\")\n",
    "print(f\"Max: {np.max(accuracies):%}\")\n",
    "print(f\"STD: {np.std(accuracies):%}\")"
   ]
  },
  {
   "cell_type": "code",
   "execution_count": 43,
   "id": "ff48f5d4-091c-40ff-b022-fd54162fbcf6",
   "metadata": {},
   "outputs": [
    {
     "data": {
      "image/png": "[encoded data removed]",
      "text/plain": [
       "<Figure size 640x480 with 1 Axes>"
      ]
     },
     "metadata": {},
     "output_type": "display_data"
    }
   ],
   "source": [
    "plt.boxplot(accuracies, notch=True)\n",
    "plt.title(\"DNABERT (BERTax) Accuracy across 2,100 Subsamples\")\n",
    "plt.grid()"
   ]
  },
  {
   "cell_type": "code",
   "execution_count": 44,
   "id": "ebbf5eea-ad1f-41c8-8eea-0b59820b711d",
   "metadata": {},
   "outputs": [],
   "source": [
    "np.savetxt(\"./logs/dnabert_taxonomy_bertax_accuracy.txt\", accuracies)"
   ]
  },
  {
   "cell_type": "code",
   "execution_count": null,
   "id": "adec6477-40be-4824-9189-8746608cf3d6",
   "metadata": {},
   "outputs": [],
   "source": []
  }
 ],
 "metadata": {
  "kernelspec": {
   "display_name": "Python 3 (ipykernel)",
   "language": "python",
   "name": "python3"
  },
  "language_info": {
   "codemirror_mode": {
    "name": "ipython",
    "version": 3
   },
   "file_extension": ".py",
   "mimetype": "text/x-python",
   "name": "python",
   "nbconvert_exporter": "python",
   "pygments_lexer": "ipython3",
   "version": "3.10.6"
  }
 },
 "nbformat": 4,
 "nbformat_minor": 5
}
